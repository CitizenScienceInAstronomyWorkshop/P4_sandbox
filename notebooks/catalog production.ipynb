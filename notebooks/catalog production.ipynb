{
 "cells": [
  {
   "cell_type": "code",
   "execution_count": null,
   "metadata": {
    "collapsed": false
   },
   "outputs": [],
   "source": [
    "%load_ext autoreload\n",
    "%autoreload 2"
   ]
  },
  {
   "cell_type": "code",
   "execution_count": null,
   "metadata": {
    "collapsed": false
   },
   "outputs": [],
   "source": [
    "from __future__ import print_function, division\n",
    "import planet4 as p4\n",
    "import pandas as pd\n",
    "from planet4 import markings\n",
    "from planet4.get_data import get_current_database_fname\n",
    "from planet4 import clustering\n",
    "import os\n",
    "from os.path import join as pjoin\n",
    "HOME = os.environ['HOME']"
   ]
  },
  {
   "cell_type": "code",
   "execution_count": null,
   "metadata": {
    "collapsed": false
   },
   "outputs": [],
   "source": [
    "dbfile = get_current_database_fname()\n",
    "store = pd.HDFStore(dbfile)\n",
    "store"
   ]
  },
  {
   "cell_type": "code",
   "execution_count": null,
   "metadata": {
    "collapsed": false
   },
   "outputs": [],
   "source": [
    "image_names = store.select_column('df', 'image_name').unique()"
   ]
  },
  {
   "cell_type": "code",
   "execution_count": null,
   "metadata": {
    "collapsed": false
   },
   "outputs": [],
   "source": [
    "from IPython.parallel import Client\n",
    "client = Client()"
   ]
  },
  {
   "cell_type": "code",
   "execution_count": null,
   "metadata": {
    "collapsed": false
   },
   "outputs": [],
   "source": [
    "dview = client.direct_view()\n",
    "lview = client.load_balanced_view()"
   ]
  },
  {
   "cell_type": "code",
   "execution_count": null,
   "metadata": {
    "collapsed": true
   },
   "outputs": [],
   "source": [
    "%%px\n",
    "import pandas as pd\n",
    "from planet4 import clustering, markings\n",
    "from os.path import join as pjoin\n",
    "import os\n",
    "HOME = os.environ['HOME']"
   ]
  },
  {
   "cell_type": "code",
   "execution_count": null,
   "metadata": {
    "collapsed": false
   },
   "outputs": [],
   "source": [
    "def do_clustering(p4img, fans):\n",
    "    if fans:\n",
    "        reduced = clustering.perform_dbscan(p4img.get_fans(), fans=fans)\n",
    "    else:\n",
    "        reduced = clustering.perform_dbscan(p4img.get_blotches(), fans=fans)\n",
    "    if reduced is None:\n",
    "        return None\n",
    "    series = [cluster.data for cluster in reduced]\n",
    "    n_members = [cluster.n_members for cluster in reduced]\n",
    "    df = pd.DataFrame(series)\n",
    "    df['image_id'] = p4img.imgid\n",
    "    df['n_members'] = n_members\n",
    "    return df\n",
    "    \n",
    "def process_image_name(image_name):\n",
    "    dirname = pjoin(HOME, 'data/planet4/reduced')\n",
    "    blotchfname = pjoin(dirname, image_name+'_reduced_blotches.hdf')\n",
    "    fanfname = pjoin(dirname, image_name+'_reduced_fans.hdf')\n",
    "    if os.path.exists(blotchfname) and\\\n",
    "            os.path.exists(fanfname):\n",
    "        return image_name+' already done.'\n",
    "    data = pd.read_hdf(dbfile, 'df', where=\"image_name=\"+image_name)\n",
    "    img_ids = data.image_id.unique()\n",
    "    blotches = []\n",
    "    fans = []\n",
    "    for img_id in img_ids:\n",
    "        p4img = markings.ImageID(img_id)\n",
    "        blotches.append(do_clustering(p4img, fans=False))\n",
    "        fans.append(do_clustering(p4img, fans=True))\n",
    "    blotches = pd.concat(blotches, ignore_index=True)\n",
    "    blotches.to_hdf(blotchfname, 'df')\n",
    "    fans = pd.concat(fans, ignore_index=True)\n",
    "    fans.to_hdf(fanfname, 'df')\n",
    "    return image_name"
   ]
  },
  {
   "cell_type": "code",
   "execution_count": null,
   "metadata": {
    "collapsed": false
   },
   "outputs": [],
   "source": [
    "dview.push({'do_clustering':do_clustering,\n",
    "            'dbfile':dbfile})"
   ]
  },
  {
   "cell_type": "code",
   "execution_count": null,
   "metadata": {
    "collapsed": false
   },
   "outputs": [],
   "source": [
    "result = lview.map_async(process_image_name, image_names)"
   ]
  },
  {
   "cell_type": "code",
   "execution_count": null,
   "metadata": {
    "collapsed": false
   },
   "outputs": [],
   "source": [
    "for res in result:\n",
    "    print(res)"
   ]
  },
  {
   "cell_type": "code",
   "execution_count": null,
   "metadata": {
    "collapsed": false,
    "scrolled": false
   },
   "outputs": [],
   "source": [
    "import time\n",
    "import sys\n",
    "while not result.ready():\n",
    "    print(\"{:.1f} %\".format(100*result.progress/len(image_names)))\n",
    "    sys.stdout.flush()\n",
    "    time.sleep(30)"
   ]
  },
  {
   "cell_type": "code",
   "execution_count": null,
   "metadata": {
    "collapsed": false
   },
   "outputs": [],
   "source": [
    "reducedfiles = !ls ~/data/planet4/reduced\n",
    "nooffiles = len(reducedfiles)\n",
    "print(\"Produced\", nooffiles, \"files.\")"
   ]
  },
  {
   "cell_type": "code",
   "execution_count": null,
   "metadata": {
    "collapsed": false
   },
   "outputs": [],
   "source": [
    "from planet4.get_data import is_catalog_production_good"
   ]
  },
  {
   "cell_type": "code",
   "execution_count": null,
   "metadata": {
    "collapsed": false
   },
   "outputs": [],
   "source": [
    "is_catalog_production_good()"
   ]
  },
  {
   "cell_type": "code",
   "execution_count": null,
   "metadata": {
    "collapsed": true
   },
   "outputs": [],
   "source": []
  }
 ],
 "metadata": {
  "kernelspec": {
   "display_name": "Python 3",
   "language": "python",
   "name": "python3"
  },
  "language_info": {
   "codemirror_mode": {
    "name": "ipython",
    "version": 3
   },
   "file_extension": ".py",
   "mimetype": "text/x-python",
   "name": "python",
   "nbconvert_exporter": "python",
   "pygments_lexer": "ipython3",
   "version": "3.4.3"
  }
 },
 "nbformat": 4,
 "nbformat_minor": 0
}
