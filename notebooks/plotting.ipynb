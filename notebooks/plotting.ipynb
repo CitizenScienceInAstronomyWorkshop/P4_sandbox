{
 "cells": [
  {
   "cell_type": "markdown",
   "metadata": {
    "toc": "true"
   },
   "source": [
    "<h1>Table of Contents<span class=\"tocSkip\"></span></h1>\n",
    "<div class=\"toc\" style=\"margin-top: 1em;\"><ul class=\"toc-item\"></ul></div>"
   ]
  },
  {
   "cell_type": "code",
   "execution_count": 4,
   "metadata": {
    "ExecuteTime": {
     "end_time": "2017-11-20T14:44:41.699914Z",
     "start_time": "2017-11-20T14:44:41.653421Z"
    }
   },
   "outputs": [
    {
     "ename": "ImportError",
     "evalue": "cannot import name 'campt'",
     "output_type": "error",
     "traceback": [
      "\u001b[0;31m---------------------------------------------------------------------------\u001b[0m",
      "\u001b[0;31mImportError\u001b[0m                               Traceback (most recent call last)",
      "\u001b[0;32m<ipython-input-4-e06467fd9397>\u001b[0m in \u001b[0;36m<module>\u001b[0;34m()\u001b[0m\n\u001b[0;32m----> 1\u001b[0;31m \u001b[0;32mfrom\u001b[0m \u001b[0mplanet4\u001b[0m\u001b[0;34m.\u001b[0m\u001b[0mplotting\u001b[0m \u001b[0;32mimport\u001b[0m \u001b[0mplot_image_id_pipeline\u001b[0m\u001b[0;34m\u001b[0m\u001b[0m\n\u001b[0m",
      "\u001b[0;32m~/Dropbox/src/planet4/planet4/plotting.py\u001b[0m in \u001b[0;36m<module>\u001b[0;34m()\u001b[0m\n\u001b[1;32m     10\u001b[0m \u001b[0;32mfrom\u001b[0m \u001b[0mipywidgets\u001b[0m \u001b[0;32mimport\u001b[0m \u001b[0minteract\u001b[0m\u001b[0;34m\u001b[0m\u001b[0m\n\u001b[1;32m     11\u001b[0m \u001b[0;34m\u001b[0m\u001b[0m\n\u001b[0;32m---> 12\u001b[0;31m \u001b[0;32mfrom\u001b[0m \u001b[0;34m.\u001b[0m \u001b[0;32mimport\u001b[0m \u001b[0mio\u001b[0m\u001b[0;34m,\u001b[0m \u001b[0mmarkings\u001b[0m\u001b[0;34m,\u001b[0m \u001b[0mprojection\u001b[0m\u001b[0;34m\u001b[0m\u001b[0m\n\u001b[0m\u001b[1;32m     13\u001b[0m \u001b[0;34m\u001b[0m\u001b[0m\n\u001b[1;32m     14\u001b[0m \u001b[0mlogger\u001b[0m \u001b[0;34m=\u001b[0m \u001b[0mlogging\u001b[0m\u001b[0;34m.\u001b[0m\u001b[0mgetLogger\u001b[0m\u001b[0;34m(\u001b[0m\u001b[0m__name__\u001b[0m\u001b[0;34m)\u001b[0m\u001b[0;34m\u001b[0m\u001b[0m\n",
      "\u001b[0;32m~/Dropbox/src/planet4/planet4/projection.py\u001b[0m in \u001b[0;36m<module>\u001b[0;34m()\u001b[0m\n\u001b[1;32m     16\u001b[0m \u001b[0;32mfrom\u001b[0m \u001b[0mpysis\u001b[0m \u001b[0;32mimport\u001b[0m \u001b[0mCubeFile\u001b[0m\u001b[0;34m\u001b[0m\u001b[0m\n\u001b[1;32m     17\u001b[0m \u001b[0;32mfrom\u001b[0m \u001b[0mpysis\u001b[0m\u001b[0;34m.\u001b[0m\u001b[0mexceptions\u001b[0m \u001b[0;32mimport\u001b[0m \u001b[0mProcessError\u001b[0m\u001b[0;34m\u001b[0m\u001b[0m\n\u001b[0;32m---> 18\u001b[0;31m from pysis.isis import (campt, cubenorm, getkey, handmos, hi2isis, histitch,\n\u001b[0m\u001b[1;32m     19\u001b[0m                         spiceinit)\n\u001b[1;32m     20\u001b[0m \u001b[0;34m\u001b[0m\u001b[0m\n",
      "\u001b[0;31mImportError\u001b[0m: cannot import name 'campt'"
     ]
    }
   ],
   "source": [
    "from planet4.plotting import plot_image_id_pipeline"
   ]
  },
  {
   "cell_type": "code",
   "execution_count": 5,
   "metadata": {
    "ExecuteTime": {
     "end_time": "2017-11-20T14:44:44.628287Z",
     "start_time": "2017-11-20T14:44:44.532731Z"
    }
   },
   "outputs": [],
   "source": [
    "%store -r"
   ]
  },
  {
   "cell_type": "code",
   "execution_count": 6,
   "metadata": {
    "ExecuteTime": {
     "end_time": "2017-11-20T14:44:45.062528Z",
     "start_time": "2017-11-20T14:44:45.025530Z"
    }
   },
   "outputs": [],
   "source": [
    "ids = combined  # coming in from the %store"
   ]
  },
  {
   "cell_type": "code",
   "execution_count": 7,
   "metadata": {
    "ExecuteTime": {
     "end_time": "2017-11-20T14:44:45.514052Z",
     "start_time": "2017-11-20T14:44:45.476296Z"
    }
   },
   "outputs": [
    {
     "data": {
      "text/plain": [
       "['br5',\n",
       " 'bu5',\n",
       " 'ek1',\n",
       " 'pbr',\n",
       " '1dt',\n",
       " '1dr',\n",
       " '1fe',\n",
       " 'dch',\n",
       " 'bvc',\n",
       " '1c5',\n",
       " '1ab',\n",
       " '1dk',\n",
       " '18s',\n",
       " '1b0',\n",
       " '1cl',\n",
       " '1ct',\n",
       " '1at',\n",
       " '1al',\n",
       " '1aa',\n",
       " '10p',\n",
       " '185',\n",
       " '139',\n",
       " '13t',\n",
       " '15k',\n",
       " '17a',\n",
       " 'APF0000aba',\n",
       " 'APF0000324',\n",
       " 'APF0000995',\n",
       " 'APF0000okx',\n",
       " 'APF00004om',\n",
       " 'APF00009g9',\n",
       " 'APF00005cu',\n",
       " 'APF0000pbr',\n",
       " 'APF00008sn',\n",
       " 'APF0000r32',\n",
       " 'APF0000uvw',\n",
       " 'APF0000pfe',\n",
       " 'APF00009uv',\n",
       " 'APF0000c5a',\n",
       " 'APF0000m13',\n",
       " 'APF0000nvh',\n",
       " 'APF00005ys',\n",
       " 'APF00000nq',\n",
       " 'APF0000635',\n",
       " 'APF0000296',\n",
       " 'APF0000dzi',\n",
       " 'APF0000qr0',\n",
       " 'APF0000crx',\n",
       " 'APF0000o3h',\n",
       " 'APF0000prz',\n",
       " 'APF00009fj',\n",
       " 'APF00002vk',\n",
       " 'APF00009ow',\n",
       " 'APF0000jqk',\n",
       " 'APF0000w9p',\n",
       " 'APF00009wb',\n",
       " 'APF00003m3',\n",
       " 'APF00007xr',\n",
       " 'APF000052i',\n",
       " 'APF00006h4',\n",
       " 'APF0000ulk',\n",
       " 'APF0000br5',\n",
       " 'APF0000wxn',\n",
       " 'APF0000iy4',\n",
       " 'APF000052e',\n",
       " 'APF00002cd',\n",
       " 'APF0000ukk',\n",
       " 'APF0000d2h',\n",
       " 'APF0000a2x',\n",
       " 'APF0000hyc',\n",
       " 'APF0000fwc',\n",
       " 'APF0000art',\n",
       " 'APF0000s7i',\n",
       " 'APF0000fug',\n",
       " 'APF0000jiu',\n",
       " 'APF0000puq',\n",
       " 'APF0000rmo',\n",
       " 'APF0000q4y',\n",
       " 'APF0000hg5',\n",
       " 'APF0000miq',\n",
       " 'APF00002ri',\n",
       " 'APF0000in4',\n",
       " 'APF0000ibn',\n",
       " 'APF0000bu5',\n",
       " 'APF0000dl4',\n",
       " 'APF0000fik',\n",
       " 'APF0000uh1',\n",
       " 'APF0000tw9',\n",
       " 'APF000047a',\n",
       " 'APF0000awi',\n",
       " 'APF0000nbu',\n",
       " 'APF00005wm',\n",
       " 'APF0000lkq',\n",
       " 'APF0000iqb',\n",
       " 'APF0000ek1',\n",
       " 'APF0000dnc',\n",
       " 'APF0000gv1',\n",
       " 'APF0000tb2',\n",
       " 'APF0000aen',\n",
       " 'APF0000cuo',\n",
       " 'APF0000v6m',\n",
       " 'APF000063i',\n",
       " 'APF00007g2',\n",
       " 'APF00005lb',\n",
       " 'APF0000l6n',\n",
       " 'APF00000k2',\n",
       " 'APF00002mo',\n",
       " 'APF000066b',\n",
       " 'APF0000ubr',\n",
       " 'APF0000u5q',\n",
       " 'APF0000ut7',\n",
       " 'APF0000naz',\n",
       " 'APF00001x3',\n",
       " 'APF0000i8j',\n",
       " 'APF0000uiq',\n",
       " 'APF0000k09',\n",
       " 'APF0000bgo',\n",
       " 'APF00001dt',\n",
       " 'APF0000cbq',\n",
       " 'APF0000qcn',\n",
       " 'APF0000sr7',\n",
       " 'APF0000g4o',\n",
       " 'APF0000alv',\n",
       " 'APF000074t',\n",
       " 'APF0000ru4']"
      ]
     },
     "execution_count": 7,
     "metadata": {},
     "output_type": "execute_result"
    }
   ],
   "source": [
    "ids"
   ]
  },
  {
   "cell_type": "code",
   "execution_count": 11,
   "metadata": {
    "ExecuteTime": {
     "end_time": "2017-11-20T14:47:38.039591Z",
     "start_time": "2017-11-20T14:47:38.010342Z"
    }
   },
   "outputs": [],
   "source": [
    "from planet4.markings import Fan"
   ]
  },
  {
   "cell_type": "code",
   "execution_count": 12,
   "metadata": {
    "ExecuteTime": {
     "end_time": "2017-11-20T14:47:38.581354Z",
     "start_time": "2017-11-20T14:47:38.547858Z"
    }
   },
   "outputs": [],
   "source": [
    "%matplotlib inline"
   ]
  },
  {
   "cell_type": "code",
   "execution_count": 13,
   "metadata": {
    "ExecuteTime": {
     "end_time": "2017-11-20T14:47:50.258767Z",
     "start_time": "2017-11-20T14:47:49.753929Z"
    }
   },
   "outputs": [
    {
     "data": {
      "image/png": "[encoded data removed]",
      "text/plain": [
       "<matplotlib.figure.Figure at 0x120b6d5c0>"
      ]
     },
     "metadata": {},
     "output_type": "display_data"
    }
   ],
   "source": [
    "fan = Fan(pd.Series({'x':300, 'y':200, 'angle':35, 'distance':350, 'spread':30}))\n",
    "\n",
    "fan.plot(color='green')\n",
    "ax = plt.gca()\n",
    "ax.text(300, 200, 'Fan base coordinate (300, 200)')\n",
    "fig = plt.gcf()\n",
    "fig.savefig('/Users/klay6683/Desktop/example_fan.png', dpi=200)"
   ]
  },
  {
   "cell_type": "code",
   "execution_count": 38,
   "metadata": {
    "ExecuteTime": {
     "end_time": "2017-10-31T17:24:19.641155Z",
     "start_time": "2017-10-31T17:24:19.588768Z"
    }
   },
   "outputs": [],
   "source": []
  },
  {
   "cell_type": "code",
   "execution_count": 1,
   "metadata": {
    "ExecuteTime": {
     "end_time": "2017-11-20T17:36:24.070735Z",
     "start_time": "2017-11-20T17:36:19.548404Z"
    }
   },
   "outputs": [],
   "source": [
    "%matplotlib nbagg\n",
    "import seaborn as sns\n",
    "sns.set_context('notebook')"
   ]
  },
  {
   "cell_type": "code",
   "execution_count": 9,
   "metadata": {
    "ExecuteTime": {
     "end_time": "2017-07-05T02:35:53.538367Z",
     "start_time": "2017-07-05T02:35:53.492583Z"
    },
    "collapsed": true
   },
   "outputs": [],
   "source": [
    "from nbtools.logging import setup_live_logging\n",
    "import logging\n",
    "logger = setup_live_logging('planet4.plotting', logging.DEBUG)"
   ]
  },
  {
   "cell_type": "code",
   "execution_count": 14,
   "metadata": {
    "ExecuteTime": {
     "end_time": "2017-07-18T03:20:04.436757Z",
     "start_time": "2017-07-18T03:20:03.585988Z"
    },
    "collapsed": true
   },
   "outputs": [],
   "source": [
    "dir_ = 'without_large_fan_fnotch_on_p4_coords'"
   ]
  },
  {
   "cell_type": "code",
   "execution_count": 15,
   "metadata": {
    "ExecuteTime": {
     "end_time": "2017-07-18T03:20:04.505726Z",
     "start_time": "2017-07-18T03:20:04.443690Z"
    },
    "collapsed": true
   },
   "outputs": [],
   "source": [
    "kwargs = dict(datapath=dir_,\n",
    "              saveroot='plots/'+dir_,\n",
    "              savetitle='withLarge_hirise_coords',\n",
    "              save=True)"
   ]
  },
  {
   "cell_type": "code",
   "execution_count": 16,
   "metadata": {
    "ExecuteTime": {
     "end_time": "2017-07-18T03:27:46.463271Z",
     "start_time": "2017-07-18T03:20:04.573438Z"
    },
    "scrolled": false
   },
   "outputs": [
    {
     "name": "stdout",
     "output_type": "stream",
     "text": [
      "br5\n",
      "bu5\n",
      "ek1\n",
      "pbr\n",
      "1dt\n",
      "Clustered/reduced fanfile not found\n"
     ]
    },
    {
     "name": "stderr",
     "output_type": "stream",
     "text": [
      "WARNING:planet4.plotting:Some files not found.\n"
     ]
    },
    {
     "name": "stdout",
     "output_type": "stream",
     "text": [
      "1dr\n",
      "1fe\n",
      "dch\n"
     ]
    },
    {
     "name": "stderr",
     "output_type": "stream",
     "text": [
      "WARNING:planet4.plotting:Some files not found.\n"
     ]
    },
    {
     "name": "stdout",
     "output_type": "stream",
     "text": [
      "Clustered blotchfile not found\n",
      "bvc\n",
      "1c5\n"
     ]
    },
    {
     "name": "stderr",
     "output_type": "stream",
     "text": [
      "WARNING:planet4.plotting:Some files not found.\n"
     ]
    },
    {
     "name": "stdout",
     "output_type": "stream",
     "text": [
      "1ab\n",
      "Clustered/reduced fanfile not found\n"
     ]
    },
    {
     "name": "stderr",
     "output_type": "stream",
     "text": [
      "WARNING:planet4.plotting:Some files not found.\n"
     ]
    },
    {
     "name": "stdout",
     "output_type": "stream",
     "text": [
      "1dk\n",
      "18s\n",
      "1b0\n"
     ]
    },
    {
     "name": "stderr",
     "output_type": "stream",
     "text": [
      "WARNING:planet4.plotting:Some files not found.\n"
     ]
    },
    {
     "name": "stdout",
     "output_type": "stream",
     "text": [
      "1cl\n",
      "1ct\n",
      "1at\n",
      "1al\n",
      "1aa\n"
     ]
    },
    {
     "name": "stderr",
     "output_type": "stream",
     "text": [
      "WARNING:planet4.plotting:Some files not found.\n"
     ]
    },
    {
     "name": "stdout",
     "output_type": "stream",
     "text": [
      "10p\n"
     ]
    },
    {
     "name": "stderr",
     "output_type": "stream",
     "text": [
      "WARNING:planet4.plotting:Some files not found.\n"
     ]
    },
    {
     "name": "stdout",
     "output_type": "stream",
     "text": [
      "185\n",
      "139\n",
      "13t\n",
      "15k\n",
      "17a\n",
      "APF0000aba\n",
      "APF0000324\n",
      "APF0000995\n",
      "APF0000okx\n",
      "Clustered/reduced fanfile not found\n",
      "Clustered blotchfile not found\n"
     ]
    },
    {
     "name": "stderr",
     "output_type": "stream",
     "text": [
      "WARNING:planet4.plotting:Some files not found.\n"
     ]
    },
    {
     "name": "stdout",
     "output_type": "stream",
     "text": [
      "APF00004om\n"
     ]
    },
    {
     "name": "stderr",
     "output_type": "stream",
     "text": [
      "WARNING:planet4.plotting:Some files not found.\n"
     ]
    },
    {
     "name": "stdout",
     "output_type": "stream",
     "text": [
      "Clustered/reduced fanfile not found\n",
      "Clustered blotchfile not found\n",
      "APF00009g9\n",
      "APF00005cu\n"
     ]
    },
    {
     "name": "stderr",
     "output_type": "stream",
     "text": [
      "WARNING:planet4.plotting:Some files not found.\n"
     ]
    },
    {
     "name": "stdout",
     "output_type": "stream",
     "text": [
      "Clustered/reduced fanfile not found\n",
      "Clustered blotchfile not found\n",
      "APF0000pbr\n",
      "APF00008sn\n",
      "Clustered/reduced fanfile not found\n"
     ]
    },
    {
     "name": "stderr",
     "output_type": "stream",
     "text": [
      "WARNING:planet4.plotting:Some files not found.\n"
     ]
    },
    {
     "name": "stdout",
     "output_type": "stream",
     "text": [
      "APF0000r32\n"
     ]
    },
    {
     "name": "stderr",
     "output_type": "stream",
     "text": [
      "WARNING:planet4.plotting:Some files not found.\n"
     ]
    },
    {
     "name": "stdout",
     "output_type": "stream",
     "text": [
      "Clustered/reduced fanfile not found\n",
      "Clustered blotchfile not found\n",
      "APF0000uvw\n",
      "Clustered/reduced fanfile not found\n",
      "Clustered blotchfile not found\n"
     ]
    },
    {
     "name": "stderr",
     "output_type": "stream",
     "text": [
      "WARNING:planet4.plotting:Some files not found.\n"
     ]
    },
    {
     "name": "stdout",
     "output_type": "stream",
     "text": [
      "APF0000pfe\n",
      "APF00009uv\n",
      "APF0000c5a\n",
      "Clustered/reduced fanfile not found\n"
     ]
    },
    {
     "name": "stderr",
     "output_type": "stream",
     "text": [
      "WARNING:planet4.plotting:Some files not found.\n"
     ]
    },
    {
     "name": "stdout",
     "output_type": "stream",
     "text": [
      "APF0000m13\n",
      "Clustered/reduced fanfile not found\n"
     ]
    },
    {
     "name": "stderr",
     "output_type": "stream",
     "text": [
      "WARNING:planet4.plotting:Some files not found.\n"
     ]
    },
    {
     "name": "stdout",
     "output_type": "stream",
     "text": [
      "APF0000nvh\n",
      "APF00005ys\n",
      "APF00000nq\n",
      "APF0000635\n",
      "Clustered/reduced fanfile not found\n"
     ]
    },
    {
     "name": "stderr",
     "output_type": "stream",
     "text": [
      "WARNING:planet4.plotting:Some files not found.\n"
     ]
    },
    {
     "name": "stdout",
     "output_type": "stream",
     "text": [
      "APF0000296\n",
      "APF0000dzi\n",
      "APF0000qr0\n"
     ]
    },
    {
     "name": "stderr",
     "output_type": "stream",
     "text": [
      "WARNING:planet4.plotting:Some files not found.\n"
     ]
    },
    {
     "name": "stdout",
     "output_type": "stream",
     "text": [
      "Clustered blotchfile not found\n",
      "APF0000crx\n",
      "Clustered/reduced fanfile not found\n",
      "Clustered blotchfile not found\n"
     ]
    },
    {
     "name": "stderr",
     "output_type": "stream",
     "text": [
      "WARNING:planet4.plotting:Some files not found.\n"
     ]
    },
    {
     "name": "stdout",
     "output_type": "stream",
     "text": [
      "APF0000o3h\n",
      "Clustered/reduced fanfile not found\n"
     ]
    },
    {
     "name": "stderr",
     "output_type": "stream",
     "text": [
      "WARNING:planet4.plotting:Some files not found.\n"
     ]
    },
    {
     "name": "stdout",
     "output_type": "stream",
     "text": [
      "APF0000prz\n",
      "APF00009fj\n"
     ]
    },
    {
     "name": "stderr",
     "output_type": "stream",
     "text": [
      "WARNING:planet4.plotting:Some files not found.\n"
     ]
    },
    {
     "name": "stdout",
     "output_type": "stream",
     "text": [
      "APF00002vk\n"
     ]
    },
    {
     "name": "stderr",
     "output_type": "stream",
     "text": [
      "WARNING:planet4.plotting:Some files not found.\n"
     ]
    },
    {
     "name": "stdout",
     "output_type": "stream",
     "text": [
      "Clustered/reduced fanfile not found\n",
      "Clustered blotchfile not found\n",
      "APF00009ow\n",
      "APF0000jqk\n",
      "Clustered/reduced fanfile not found\n"
     ]
    },
    {
     "name": "stderr",
     "output_type": "stream",
     "text": [
      "WARNING:planet4.plotting:Some files not found.\n"
     ]
    },
    {
     "name": "stdout",
     "output_type": "stream",
     "text": [
      "APF0000w9p\n",
      "APF00009wb\n",
      "Clustered/reduced fanfile not found\n"
     ]
    },
    {
     "name": "stderr",
     "output_type": "stream",
     "text": [
      "WARNING:planet4.plotting:Some files not found.\n"
     ]
    },
    {
     "name": "stdout",
     "output_type": "stream",
     "text": [
      "APF00003m3\n",
      "Clustered/reduced fanfile not found\n"
     ]
    },
    {
     "name": "stderr",
     "output_type": "stream",
     "text": [
      "WARNING:planet4.plotting:Some files not found.\n"
     ]
    },
    {
     "name": "stdout",
     "output_type": "stream",
     "text": [
      "APF00007xr\n"
     ]
    },
    {
     "name": "stderr",
     "output_type": "stream",
     "text": [
      "WARNING:planet4.plotting:Some files not found.\n"
     ]
    },
    {
     "name": "stdout",
     "output_type": "stream",
     "text": [
      "APF000052i\n",
      "Clustered/reduced fanfile not found\n",
      "Clustered blotchfile not found\n"
     ]
    },
    {
     "name": "stderr",
     "output_type": "stream",
     "text": [
      "WARNING:planet4.plotting:Some files not found.\n"
     ]
    },
    {
     "name": "stdout",
     "output_type": "stream",
     "text": [
      "APF00006h4\n",
      "Clustered/reduced fanfile not found\n"
     ]
    },
    {
     "name": "stderr",
     "output_type": "stream",
     "text": [
      "WARNING:planet4.plotting:Some files not found.\n"
     ]
    },
    {
     "name": "stdout",
     "output_type": "stream",
     "text": [
      "APF0000ulk\n"
     ]
    },
    {
     "name": "stderr",
     "output_type": "stream",
     "text": [
      "WARNING:planet4.plotting:Some files not found.\n"
     ]
    },
    {
     "name": "stdout",
     "output_type": "stream",
     "text": [
      "Clustered/reduced fanfile not found\n",
      "Clustered blotchfile not found\n",
      "APF0000br5\n",
      "APF0000wxn\n"
     ]
    },
    {
     "name": "stderr",
     "output_type": "stream",
     "text": [
      "WARNING:planet4.plotting:Some files not found.\n"
     ]
    },
    {
     "name": "stdout",
     "output_type": "stream",
     "text": [
      "Clustered blotchfile not found\n",
      "APF0000iy4\n",
      "Clustered/reduced fanfile not found\n"
     ]
    },
    {
     "name": "stderr",
     "output_type": "stream",
     "text": [
      "WARNING:planet4.plotting:Some files not found.\n"
     ]
    },
    {
     "name": "stdout",
     "output_type": "stream",
     "text": [
      "APF000052e\n"
     ]
    },
    {
     "name": "stderr",
     "output_type": "stream",
     "text": [
      "WARNING:planet4.plotting:Some files not found.\n"
     ]
    },
    {
     "name": "stdout",
     "output_type": "stream",
     "text": [
      "Clustered/reduced fanfile not found\n",
      "Clustered blotchfile not found\n",
      "APF00002cd\n",
      "Clustered/reduced fanfile not found\n"
     ]
    },
    {
     "name": "stderr",
     "output_type": "stream",
     "text": [
      "WARNING:planet4.plotting:Some files not found.\n"
     ]
    },
    {
     "name": "stdout",
     "output_type": "stream",
     "text": [
      "APF0000ukk\n"
     ]
    },
    {
     "name": "stderr",
     "output_type": "stream",
     "text": [
      "WARNING:planet4.plotting:Some files not found.\n"
     ]
    },
    {
     "name": "stdout",
     "output_type": "stream",
     "text": [
      "Clustered/reduced fanfile not found\n",
      "Clustered blotchfile not found\n",
      "APF0000d2h\n"
     ]
    },
    {
     "name": "stderr",
     "output_type": "stream",
     "text": [
      "WARNING:planet4.plotting:Some files not found.\n"
     ]
    },
    {
     "name": "stdout",
     "output_type": "stream",
     "text": [
      "Clustered blotchfile not found\n",
      "APF0000a2x\n",
      "Clustered/reduced fanfile not found\n"
     ]
    },
    {
     "name": "stderr",
     "output_type": "stream",
     "text": [
      "WARNING:planet4.plotting:Some files not found.\n"
     ]
    },
    {
     "name": "stdout",
     "output_type": "stream",
     "text": [
      "APF0000hyc\n"
     ]
    },
    {
     "name": "stderr",
     "output_type": "stream",
     "text": [
      "WARNING:planet4.plotting:Some files not found.\n"
     ]
    },
    {
     "name": "stdout",
     "output_type": "stream",
     "text": [
      "APF0000fwc\n",
      "Clustered/reduced fanfile not found\n"
     ]
    },
    {
     "name": "stderr",
     "output_type": "stream",
     "text": [
      "WARNING:planet4.plotting:Some files not found.\n"
     ]
    },
    {
     "name": "stdout",
     "output_type": "stream",
     "text": [
      "APF0000art\n",
      "APF0000s7i\n"
     ]
    },
    {
     "name": "stderr",
     "output_type": "stream",
     "text": [
      "WARNING:planet4.plotting:Some files not found.\n"
     ]
    },
    {
     "name": "stdout",
     "output_type": "stream",
     "text": [
      "Clustered/reduced fanfile not found\n",
      "Clustered blotchfile not found\n",
      "APF0000fug\n",
      "Clustered/reduced fanfile not found\n"
     ]
    },
    {
     "name": "stderr",
     "output_type": "stream",
     "text": [
      "WARNING:planet4.plotting:Some files not found.\n"
     ]
    },
    {
     "name": "stdout",
     "output_type": "stream",
     "text": [
      "APF0000jiu\n",
      "Clustered/reduced fanfile not found\n"
     ]
    },
    {
     "name": "stderr",
     "output_type": "stream",
     "text": [
      "WARNING:planet4.plotting:Some files not found.\n"
     ]
    },
    {
     "name": "stdout",
     "output_type": "stream",
     "text": [
      "APF0000puq\n",
      "APF0000rmo\n",
      "APF0000q4y\n",
      "Clustered/reduced fanfile not found\n"
     ]
    },
    {
     "name": "stderr",
     "output_type": "stream",
     "text": [
      "WARNING:planet4.plotting:Some files not found.\n"
     ]
    },
    {
     "name": "stdout",
     "output_type": "stream",
     "text": [
      "Clustered blotchfile not found\n",
      "APF0000hg5\n"
     ]
    },
    {
     "name": "stderr",
     "output_type": "stream",
     "text": [
      "WARNING:planet4.plotting:Some files not found.\n"
     ]
    },
    {
     "name": "stdout",
     "output_type": "stream",
     "text": [
      "Clustered/reduced fanfile not found\n",
      "Clustered blotchfile not found\n",
      "APF0000miq\n",
      "Clustered/reduced fanfile not found\n",
      "Clustered blotchfile not found\n"
     ]
    },
    {
     "name": "stderr",
     "output_type": "stream",
     "text": [
      "WARNING:planet4.plotting:Some files not found.\n"
     ]
    },
    {
     "name": "stdout",
     "output_type": "stream",
     "text": [
      "APF00002ri\n",
      "Clustered/reduced fanfile not found\n"
     ]
    },
    {
     "name": "stderr",
     "output_type": "stream",
     "text": [
      "WARNING:planet4.plotting:Some files not found.\n"
     ]
    },
    {
     "name": "stdout",
     "output_type": "stream",
     "text": [
      "APF0000in4\n",
      "APF0000ibn\n",
      "Clustered/reduced fanfile not found\n"
     ]
    },
    {
     "name": "stderr",
     "output_type": "stream",
     "text": [
      "WARNING:planet4.plotting:Some files not found.\n"
     ]
    },
    {
     "name": "stdout",
     "output_type": "stream",
     "text": [
      "APF0000bu5\n",
      "APF0000dl4\n",
      "Clustered/reduced fanfile not found\n",
      "Clustered blotchfile not found\n"
     ]
    },
    {
     "name": "stderr",
     "output_type": "stream",
     "text": [
      "WARNING:planet4.plotting:Some files not found.\n"
     ]
    },
    {
     "name": "stdout",
     "output_type": "stream",
     "text": [
      "APF0000fik\n",
      "Clustered/reduced fanfile not found\n"
     ]
    },
    {
     "name": "stderr",
     "output_type": "stream",
     "text": [
      "WARNING:planet4.plotting:Some files not found.\n"
     ]
    },
    {
     "name": "stdout",
     "output_type": "stream",
     "text": [
      "APF0000uh1\n"
     ]
    },
    {
     "name": "stderr",
     "output_type": "stream",
     "text": [
      "WARNING:planet4.plotting:Some files not found.\n"
     ]
    },
    {
     "name": "stdout",
     "output_type": "stream",
     "text": [
      "Clustered/reduced fanfile not found\n",
      "Clustered blotchfile not found\n",
      "APF0000tw9\n"
     ]
    },
    {
     "name": "stderr",
     "output_type": "stream",
     "text": [
      "WARNING:planet4.plotting:Some files not found.\n"
     ]
    },
    {
     "name": "stdout",
     "output_type": "stream",
     "text": [
      "Clustered/reduced fanfile not found\n",
      "Clustered blotchfile not found\n",
      "APF000047a\n"
     ]
    },
    {
     "name": "stderr",
     "output_type": "stream",
     "text": [
      "WARNING:planet4.plotting:Some files not found.\n"
     ]
    },
    {
     "name": "stdout",
     "output_type": "stream",
     "text": [
      "Clustered/reduced fanfile not found\n",
      "Clustered blotchfile not found\n",
      "APF0000awi\n"
     ]
    },
    {
     "name": "stderr",
     "output_type": "stream",
     "text": [
      "WARNING:planet4.plotting:Some files not found.\n"
     ]
    },
    {
     "name": "stdout",
     "output_type": "stream",
     "text": [
      "Clustered blotchfile not found\n",
      "APF0000nbu\n",
      "Clustered/reduced fanfile not found\n"
     ]
    },
    {
     "name": "stderr",
     "output_type": "stream",
     "text": [
      "WARNING:planet4.plotting:Some files not found.\n"
     ]
    },
    {
     "name": "stdout",
     "output_type": "stream",
     "text": [
      "APF00005wm\n",
      "Clustered/reduced fanfile not found\n"
     ]
    },
    {
     "name": "stderr",
     "output_type": "stream",
     "text": [
      "WARNING:planet4.plotting:Some files not found.\n"
     ]
    },
    {
     "name": "stdout",
     "output_type": "stream",
     "text": [
      "APF0000lkq\n",
      "Clustered/reduced fanfile not found\n",
      "Clustered blotchfile not found\n"
     ]
    },
    {
     "name": "stderr",
     "output_type": "stream",
     "text": [
      "WARNING:planet4.plotting:Some files not found.\n"
     ]
    },
    {
     "name": "stdout",
     "output_type": "stream",
     "text": [
      "APF0000iqb\n",
      "APF0000ek1\n",
      "APF0000dnc\n"
     ]
    },
    {
     "name": "stderr",
     "output_type": "stream",
     "text": [
      "WARNING:planet4.plotting:Some files not found.\n"
     ]
    },
    {
     "name": "stdout",
     "output_type": "stream",
     "text": [
      "Clustered/reduced fanfile not found\n",
      "Clustered blotchfile not found\n",
      "APF0000gv1\n"
     ]
    },
    {
     "name": "stderr",
     "output_type": "stream",
     "text": [
      "WARNING:planet4.plotting:Some files not found.\n"
     ]
    },
    {
     "name": "stdout",
     "output_type": "stream",
     "text": [
      "Clustered blotchfile not found\n",
      "APF0000tb2\n",
      "APF0000aen\n",
      "APF0000cuo\n"
     ]
    },
    {
     "name": "stderr",
     "output_type": "stream",
     "text": [
      "WARNING:planet4.plotting:Some files not found.\n"
     ]
    },
    {
     "name": "stdout",
     "output_type": "stream",
     "text": [
      "Clustered/reduced fanfile not found\n",
      "Clustered blotchfile not found\n",
      "APF0000v6m\n"
     ]
    },
    {
     "name": "stderr",
     "output_type": "stream",
     "text": [
      "WARNING:planet4.plotting:Some files not found.\n"
     ]
    },
    {
     "name": "stdout",
     "output_type": "stream",
     "text": [
      "APF000063i\n"
     ]
    },
    {
     "name": "stderr",
     "output_type": "stream",
     "text": [
      "WARNING:planet4.plotting:Some files not found.\n"
     ]
    },
    {
     "name": "stdout",
     "output_type": "stream",
     "text": [
      "Clustered/reduced fanfile not found\n",
      "Clustered blotchfile not found\n",
      "APF00007g2\n",
      "Clustered/reduced fanfile not found\n"
     ]
    },
    {
     "name": "stderr",
     "output_type": "stream",
     "text": [
      "WARNING:planet4.plotting:Some files not found.\n"
     ]
    },
    {
     "name": "stdout",
     "output_type": "stream",
     "text": [
      "APF00005lb\n",
      "Clustered/reduced fanfile not found\n",
      "Clustered blotchfile not found\n"
     ]
    },
    {
     "name": "stderr",
     "output_type": "stream",
     "text": [
      "WARNING:planet4.plotting:Some files not found.\n"
     ]
    },
    {
     "name": "stdout",
     "output_type": "stream",
     "text": [
      "APF0000l6n\n"
     ]
    },
    {
     "name": "stderr",
     "output_type": "stream",
     "text": [
      "WARNING:planet4.plotting:Some files not found.\n"
     ]
    },
    {
     "name": "stdout",
     "output_type": "stream",
     "text": [
      "Clustered/reduced fanfile not found\n",
      "Clustered blotchfile not found\n",
      "APF00000k2\n",
      "APF00002mo\n",
      "Clustered/reduced fanfile not found\n",
      "Clustered blotchfile not found\n"
     ]
    },
    {
     "name": "stderr",
     "output_type": "stream",
     "text": [
      "WARNING:planet4.plotting:Some files not found.\n"
     ]
    },
    {
     "name": "stdout",
     "output_type": "stream",
     "text": [
      "APF000066b\n",
      "APF0000ubr\n"
     ]
    },
    {
     "name": "stderr",
     "output_type": "stream",
     "text": [
      "WARNING:planet4.plotting:Some files not found.\n"
     ]
    },
    {
     "name": "stdout",
     "output_type": "stream",
     "text": [
      "Clustered blotchfile not found\n",
      "APF0000u5q\n"
     ]
    },
    {
     "name": "stderr",
     "output_type": "stream",
     "text": [
      "WARNING:planet4.plotting:Some files not found.\n"
     ]
    },
    {
     "name": "stdout",
     "output_type": "stream",
     "text": [
      "Clustered blotchfile not found\n",
      "APF0000ut7\n",
      "Clustered/reduced fanfile not found\n",
      "Clustered blotchfile not found\n"
     ]
    },
    {
     "name": "stderr",
     "output_type": "stream",
     "text": [
      "WARNING:planet4.plotting:Some files not found.\n"
     ]
    },
    {
     "name": "stdout",
     "output_type": "stream",
     "text": [
      "APF0000naz\n"
     ]
    },
    {
     "name": "stderr",
     "output_type": "stream",
     "text": [
      "WARNING:planet4.plotting:Some files not found.\n"
     ]
    },
    {
     "name": "stdout",
     "output_type": "stream",
     "text": [
      "APF00001x3\n"
     ]
    },
    {
     "name": "stderr",
     "output_type": "stream",
     "text": [
      "WARNING:planet4.plotting:Some files not found.\n"
     ]
    },
    {
     "name": "stdout",
     "output_type": "stream",
     "text": [
      "Clustered/reduced fanfile not found\n",
      "Clustered blotchfile not found\n",
      "APF0000i8j\n",
      "APF0000uiq\n"
     ]
    },
    {
     "name": "stderr",
     "output_type": "stream",
     "text": [
      "WARNING:planet4.plotting:Some files not found.\n"
     ]
    },
    {
     "name": "stdout",
     "output_type": "stream",
     "text": [
      "Clustered/reduced fanfile not found\n",
      "Clustered blotchfile not found\n",
      "APF0000k09\n",
      "Clustered/reduced fanfile not found\n"
     ]
    },
    {
     "name": "stderr",
     "output_type": "stream",
     "text": [
      "WARNING:planet4.plotting:Some files not found.\n"
     ]
    },
    {
     "name": "stdout",
     "output_type": "stream",
     "text": [
      "APF0000bgo\n",
      "APF00001dt\n",
      "Clustered/reduced fanfile not found\n"
     ]
    },
    {
     "name": "stderr",
     "output_type": "stream",
     "text": [
      "WARNING:planet4.plotting:Some files not found.\n"
     ]
    },
    {
     "name": "stdout",
     "output_type": "stream",
     "text": [
      "APF0000cbq\n"
     ]
    },
    {
     "name": "stderr",
     "output_type": "stream",
     "text": [
      "WARNING:planet4.plotting:Some files not found.\n"
     ]
    },
    {
     "name": "stdout",
     "output_type": "stream",
     "text": [
      "APF0000qcn\n",
      "Clustered/reduced fanfile not found\n"
     ]
    },
    {
     "name": "stderr",
     "output_type": "stream",
     "text": [
      "WARNING:planet4.plotting:Some files not found.\n"
     ]
    },
    {
     "name": "stdout",
     "output_type": "stream",
     "text": [
      "APF0000sr7\n"
     ]
    },
    {
     "name": "stderr",
     "output_type": "stream",
     "text": [
      "WARNING:planet4.plotting:Some files not found.\n"
     ]
    },
    {
     "name": "stdout",
     "output_type": "stream",
     "text": [
      "Clustered blotchfile not found\n",
      "APF0000g4o\n",
      "Clustered/reduced fanfile not found\n",
      "Clustered blotchfile not found\n"
     ]
    },
    {
     "name": "stderr",
     "output_type": "stream",
     "text": [
      "WARNING:planet4.plotting:Some files not found.\n"
     ]
    },
    {
     "name": "stdout",
     "output_type": "stream",
     "text": [
      "APF0000alv\n"
     ]
    },
    {
     "name": "stderr",
     "output_type": "stream",
     "text": [
      "WARNING:planet4.plotting:Some files not found.\n"
     ]
    },
    {
     "name": "stdout",
     "output_type": "stream",
     "text": [
      "Clustered blotchfile not found\n",
      "APF000074t\n"
     ]
    },
    {
     "name": "stderr",
     "output_type": "stream",
     "text": [
      "WARNING:planet4.plotting:Some files not found.\n"
     ]
    },
    {
     "name": "stdout",
     "output_type": "stream",
     "text": [
      "Clustered/reduced fanfile not found\n",
      "Clustered blotchfile not found\n",
      "APF0000ru4\n"
     ]
    },
    {
     "name": "stderr",
     "output_type": "stream",
     "text": [
      "WARNING:planet4.plotting:Some files not found.\n"
     ]
    },
    {
     "name": "stdout",
     "output_type": "stream",
     "text": [
      "Clustered/reduced fanfile not found\n",
      "Clustered blotchfile not found\n"
     ]
    }
   ],
   "source": [
    "for id_ in ids:\n",
    "    print(id_)\n",
    "    plot_image_id_pipeline(id_, **kwargs)\n",
    "    plt.close('all')"
   ]
  },
  {
   "cell_type": "code",
   "execution_count": null,
   "metadata": {
    "collapsed": true
   },
   "outputs": [],
   "source": []
  }
 ],
 "metadata": {
  "kernelspec": {
   "display_name": "Python [conda env:stable]",
   "language": "python",
   "name": "conda-env-stable-py"
  },
  "language_info": {
   "codemirror_mode": {
    "name": "ipython",
    "version": 3
   },
   "file_extension": ".py",
   "mimetype": "text/x-python",
   "name": "python",
   "nbconvert_exporter": "python",
   "pygments_lexer": "ipython3",
   "version": "3.6.3"
  },
  "toc": {
   "nav_menu": {
    "height": "12px",
    "width": "252px"
   },
   "number_sections": false,
   "sideBar": false,
   "skip_h1_title": false,
   "toc_cell": true,
   "toc_position": {},
   "toc_section_display": "block",
   "toc_window_display": false
  }
 },
 "nbformat": 4,
 "nbformat_minor": 2
}
