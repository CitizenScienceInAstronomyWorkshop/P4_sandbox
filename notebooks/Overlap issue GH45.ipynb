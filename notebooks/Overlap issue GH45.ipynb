{
 "cells": [
  {
   "cell_type": "code",
   "execution_count": 1,
   "metadata": {
    "collapsed": true
   },
   "outputs": [],
   "source": [
    "from pathlib import Path\n",
    "from planet4 import clustering, io, markings"
   ]
  },
  {
   "cell_type": "code",
   "execution_count": 2,
   "metadata": {
    "collapsed": true
   },
   "outputs": [],
   "source": [
    "# At the beginning of the notebook\n",
    "import logging\n",
    "logger = logging.getLogger()\n",
    "assert len(logger.handlers) == 1\n",
    "logger.addHandler(logging.StreamHandler())\n",
    "handler = logger.handlers[1]\n",
    "handler.setLevel(logging.DEBUG)"
   ]
  },
  {
   "cell_type": "code",
   "execution_count": 3,
   "metadata": {
    "collapsed": true
   },
   "outputs": [],
   "source": [
    "obsid = 'ESP_011394_0935'\n",
    "#obsid = 'ESP_012821_0865'"
   ]
  },
  {
   "cell_type": "code",
   "execution_count": 17,
   "metadata": {
    "collapsed": false
   },
   "outputs": [],
   "source": [
    "path = io.p4data() / ('overlap_issue_GH45/hirise_level/' + obsid)\n",
    "path.mkdir(exist_ok=True, parents=True)\n",
    "cm = clustering.ClusteringManager(fnotched_dir=path,\n",
    "                                 include_angle=True, include_distance=False, \n",
    "                                 include_radius=False)"
   ]
  },
  {
   "cell_type": "code",
   "execution_count": 18,
   "metadata": {
    "collapsed": false
   },
   "outputs": [
    {
     "name": "stderr",
     "output_type": "stream",
     "text": [
      "Clustering data for ESP_011394_0935\n",
      "ClusterManager: cluster_data()\n",
      "Running DBSCAN\n",
      "Estimated number of clusters: 482\n",
      "Reduced data to 482 fan(e)s.\n",
      "Running DBSCAN\n",
      "Estimated number of clusters: 929\n",
      "Reduced data to 929 blotch(e)s.\n",
      "CM: do_the_fnotch\n",
      "CM: do_the_fnotch: max_hits: 4\n",
      "CM: do_the_fnotch: Found 458 fnotches.\n",
      "Clustering and fnotching completed.\n",
      "CM: Writing output files.\n",
      "CM: Output dir: /Users/klay6683/Dropbox/data/planet4/overlap_issue_GH45/hirise_level/ESP_011394_0935\n",
      "Executing apply_fnotch_cut\n",
      "Executing get_newfans_newblotches\n",
      "Finished apply_fnotch_cut.\n"
     ]
    }
   ],
   "source": [
    "cm.cluster_image_name(obsid)"
   ]
  },
  {
   "cell_type": "code",
   "execution_count": 19,
   "metadata": {
    "collapsed": false
   },
   "outputs": [
    {
     "data": {
      "text/plain": [
       "PosixPath('/Users/klay6683/Dropbox/data/planet4/overlap_issue_GH45/hirise_level/ESP_011394_0935/ESP_011394_0935_fnotches.csv')"
      ]
     },
     "execution_count": 19,
     "metadata": {},
     "output_type": "execute_result"
    }
   ],
   "source": [
    "cm.pm.fnotchfile"
   ]
  },
  {
   "cell_type": "code",
   "execution_count": null,
   "metadata": {
    "collapsed": true
   },
   "outputs": [],
   "source": []
  },
  {
   "cell_type": "code",
   "execution_count": 20,
   "metadata": {
    "collapsed": true
   },
   "outputs": [],
   "source": [
    "db = io.DBManager()"
   ]
  },
  {
   "cell_type": "code",
   "execution_count": 21,
   "metadata": {
    "collapsed": true
   },
   "outputs": [],
   "source": [
    "data = db.get_image_name_markings(obsid)"
   ]
  },
  {
   "cell_type": "code",
   "execution_count": 22,
   "metadata": {
    "collapsed": true
   },
   "outputs": [],
   "source": [
    "image_ids = data.image_id.unique()"
   ]
  },
  {
   "cell_type": "code",
   "execution_count": 23,
   "metadata": {
    "collapsed": true
   },
   "outputs": [],
   "source": [
    "def do_in_parallel(image_id):\n",
    "    from pathlib import Path\n",
    "    from planet4 import clustering, io\n",
    "    path = io.p4data() / ('overlap_issue_GH45/p4_level_p4_coords/' + obsid)\n",
    "    path.mkdir(exist_ok=True, parents=True)\n",
    "    cm = clustering.ClusteringManager(fnotched_dir=path, scope='planet4',\n",
    "                                 include_angle=True, include_distance=False, \n",
    "                                 include_radius=False, eps=10, min_distance=10)\n",
    "    try:\n",
    "        cm.cluster_image_id(image_id)\n",
    "    except:\n",
    "        return image_id, False\n",
    "    else:\n",
    "        return image_id, True"
   ]
  },
  {
   "cell_type": "code",
   "execution_count": 24,
   "metadata": {
    "collapsed": true
   },
   "outputs": [],
   "source": [
    "from nbtools import ListProgressBar, display_multi_progress"
   ]
  },
  {
   "cell_type": "code",
   "execution_count": 25,
   "metadata": {
    "collapsed": false,
    "scrolled": true
   },
   "outputs": [],
   "source": [
    "from ipyparallel import Client\n",
    "c = Client()"
   ]
  },
  {
   "cell_type": "code",
   "execution_count": 26,
   "metadata": {
    "collapsed": true
   },
   "outputs": [],
   "source": [
    "dview = c.direct_view()"
   ]
  },
  {
   "cell_type": "code",
   "execution_count": 27,
   "metadata": {
    "collapsed": false
   },
   "outputs": [
    {
     "data": {
      "text/plain": [
       "<AsyncResult: _push>"
      ]
     },
     "execution_count": 27,
     "metadata": {},
     "output_type": "execute_result"
    }
   ],
   "source": [
    "dview.push({'obsid':obsid})"
   ]
  },
  {
   "cell_type": "code",
   "execution_count": 28,
   "metadata": {
    "collapsed": true
   },
   "outputs": [],
   "source": [
    "lbview = c.load_balanced_view()"
   ]
  },
  {
   "cell_type": "code",
   "execution_count": 29,
   "metadata": {
    "collapsed": true
   },
   "outputs": [],
   "source": [
    "results = lbview.map_async(do_in_parallel, image_ids)"
   ]
  },
  {
   "cell_type": "code",
   "execution_count": 30,
   "metadata": {
    "collapsed": false
   },
   "outputs": [],
   "source": [
    "display_multi_progress(results, image_ids)"
   ]
  },
  {
   "cell_type": "code",
   "execution_count": 27,
   "metadata": {
    "collapsed": false
   },
   "outputs": [],
   "source": [
    "class Comparer(object):\n",
    "    markings = ['fans','blotches','fnotches']\n",
    "    root = io.p4data() / 'overlap_issue_GH45'\n",
    "    \n",
    "    def __init__(self, path, fnotched=True):\n",
    "        if fnotched is True:\n",
    "            self.path = self.root / path\n",
    "        else:\n",
    "            self.path = self.root / path / 'just_clustering'\n",
    "        \n",
    "    @property\n",
    "    def blotches_iter(self):\n",
    "        return self.path.glob(\"*_blotches.csv\")\n",
    "    \n",
    "    @property\n",
    "    def fans_iter(self):\n",
    "        return self.path.glob(\"*_fans.csv\")\n",
    "\n",
    "    @property\n",
    "    def fnotches_iter(self):\n",
    "        return self.path.glob('*_fnotches.csv')\n",
    "            \n",
    "    def get_length(self, theiter):\n",
    "        return sum([len(pd.read_csv(str(f))) for f in theiter])\n",
    "\n",
    "    @property\n",
    "    def blotches_lengths(self):\n",
    "        return self.get_length(self.blotches_iter)\n",
    "    \n",
    "    @property\n",
    "    def fans_lengths(self):\n",
    "        return self.get_length(self.fans_iter)\n",
    "    \n",
    "    @property\n",
    "    def fnotches_lengths(self):\n",
    "        return self.get_length(self.fnotches_iter)\n",
    "\n",
    "    def get_total_survivors(self):\n",
    "        blotches = self.blotches_lengths\n",
    "        fans = self.fans_lengths\n",
    "        fnotches = self.fnotches_lengths\n",
    "        total = blotches + fans + fnotches\n",
    "        print(\"Blotches: {}\\nFan: {}\\nFnotches: {}\".format(blotches, fans, fnotches))\n",
    "        print(\"Total: {}\".format(total))\n",
    "        \n",
    "    def read_dataframes(self, marking, as_df=True):\n",
    "        res = [pd.read_csv(str(p)) for p in self.path.glob('*_{}.csv'.format(marking))]\n",
    "        return pd.concat(res) if as_df else res\n",
    "    \n",
    "    def read_combined_df(self):\n",
    "        combine_all = []\n",
    "        for marking in self.markings:\n",
    "            to_combine = read_dataframes(marking)\n",
    "            combine_all.append(to_combine)\n",
    "        all_combined = pd.concat(combine_all)\n",
    "        return all_combined\n",
    "\n",
    "\n",
    "class HiRISEComparer(Comparer):\n",
    "    root = io.p4data() / 'overlap_issue_GH45/hirise_level/'\n",
    "\n",
    "    \n",
    "class P4Comparer(Comparer):\n",
    "    root = io.p4data() / 'overlap_issue_GH45/p4_level_p4_coords'"
   ]
  },
  {
   "cell_type": "code",
   "execution_count": 5,
   "metadata": {
    "collapsed": false,
    "scrolled": true
   },
   "outputs": [
    {
     "name": "stdout",
     "output_type": "stream",
     "text": [
      "Blotches: 585\n",
      "Fan: 186\n",
      "Fnotches: 458\n",
      "Total: 1229\n"
     ]
    }
   ],
   "source": [
    "hicomp = HiRISEComparer(obsid)\n",
    "hicomp.get_total_survivors()"
   ]
  },
  {
   "cell_type": "code",
   "execution_count": 6,
   "metadata": {
    "collapsed": false
   },
   "outputs": [
    {
     "name": "stdout",
     "output_type": "stream",
     "text": [
      "Blotches: 929\n",
      "Fan: 482\n",
      "Fnotches: 0\n",
      "Total: 1411\n"
     ]
    }
   ],
   "source": [
    "HiRISEComparer(obsid, fnotched=False).get_total_survivors()"
   ]
  },
  {
   "cell_type": "code",
   "execution_count": 11,
   "metadata": {
    "collapsed": false
   },
   "outputs": [],
   "source": [
    "#def scatter_plot_obsid_data(path):\n",
    "df = pd.read_hdf(str(next(path.glob(\"*blotch*.hdf\"))))\n",
    "   "
   ]
  },
  {
   "cell_type": "code",
   "execution_count": 12,
   "metadata": {
    "collapsed": true
   },
   "outputs": [],
   "source": [
    "%matplotlib nbagg"
   ]
  },
  {
   "cell_type": "code",
   "execution_count": 22,
   "metadata": {
    "collapsed": false
   },
   "outputs": [
    {
     "name": "stdout",
     "output_type": "stream",
     "text": [
      "Blotches: 928\n",
      "Fan: 364\n",
      "Fnotches: 144\n",
      "Total: 1436\n"
     ]
    }
   ],
   "source": [
    "P4Comparer(obsid).get_total_survivors()"
   ]
  },
  {
   "cell_type": "code",
   "execution_count": 23,
   "metadata": {
    "collapsed": false
   },
   "outputs": [
    {
     "name": "stdout",
     "output_type": "stream",
     "text": [
      "Blotches: 1066\n",
      "Fan: 507\n",
      "Fnotches: 0\n",
      "Total: 1573\n"
     ]
    }
   ],
   "source": [
    "P4Comparer(obsid, fnotched=False).get_total_survivors()"
   ]
  },
  {
   "cell_type": "code",
   "execution_count": 28,
   "metadata": {
    "collapsed": false
   },
   "outputs": [],
   "source": [
    "blotches = P4Comparer(obsid).read_dataframes('blotches')"
   ]
  },
  {
   "cell_type": "code",
   "execution_count": 29,
   "metadata": {
    "collapsed": false
   },
   "outputs": [
    {
     "data": {
      "text/html": [
       "<div>\n",
       "<table border=\"1\" class=\"dataframe\">\n",
       "  <thead>\n",
       "    <tr style=\"text-align: right;\">\n",
       "      <th></th>\n",
       "      <th>x</th>\n",
       "      <th>y</th>\n",
       "      <th>image_x</th>\n",
       "      <th>image_y</th>\n",
       "      <th>angle</th>\n",
       "      <th>radius_1</th>\n",
       "      <th>radius_2</th>\n",
       "      <th>p1_x</th>\n",
       "      <th>p1_y</th>\n",
       "      <th>p2_x</th>\n",
       "      <th>p2_y</th>\n",
       "      <th>p3_x</th>\n",
       "      <th>p3_y</th>\n",
       "      <th>p4_x</th>\n",
       "      <th>p4_y</th>\n",
       "      <th>image_id</th>\n",
       "    </tr>\n",
       "  </thead>\n",
       "  <tbody>\n",
       "    <tr>\n",
       "      <th>0</th>\n",
       "      <td>197.200000</td>\n",
       "      <td>284.600000</td>\n",
       "      <td>197.200000</td>\n",
       "      <td>34260.600000</td>\n",
       "      <td>6.752352</td>\n",
       "      <td>16.882665</td>\n",
       "      <td>14.161999</td>\n",
       "      <td>213.965561</td>\n",
       "      <td>292.233381</td>\n",
       "      <td>180.434439</td>\n",
       "      <td>276.966619</td>\n",
       "      <td>195.534858</td>\n",
       "      <td>298.663766</td>\n",
       "      <td>198.865142</td>\n",
       "      <td>270.536234</td>\n",
       "      <td>APF0000dae</td>\n",
       "    </tr>\n",
       "    <tr>\n",
       "      <th>1</th>\n",
       "      <td>250.500000</td>\n",
       "      <td>259.250000</td>\n",
       "      <td>250.500000</td>\n",
       "      <td>34235.250000</td>\n",
       "      <td>25.126677</td>\n",
       "      <td>11.191206</td>\n",
       "      <td>10.268404</td>\n",
       "      <td>260.632195</td>\n",
       "      <td>259.182138</td>\n",
       "      <td>240.367805</td>\n",
       "      <td>259.317862</td>\n",
       "      <td>246.139820</td>\n",
       "      <td>268.546717</td>\n",
       "      <td>254.860180</td>\n",
       "      <td>249.953283</td>\n",
       "      <td>APF0000dae</td>\n",
       "    </tr>\n",
       "    <tr>\n",
       "      <th>2</th>\n",
       "      <td>338.250000</td>\n",
       "      <td>181.750000</td>\n",
       "      <td>338.250000</td>\n",
       "      <td>34157.750000</td>\n",
       "      <td>12.258466</td>\n",
       "      <td>14.492125</td>\n",
       "      <td>12.119094</td>\n",
       "      <td>352.411701</td>\n",
       "      <td>177.357982</td>\n",
       "      <td>324.088299</td>\n",
       "      <td>186.142018</td>\n",
       "      <td>335.676849</td>\n",
       "      <td>193.592776</td>\n",
       "      <td>340.823151</td>\n",
       "      <td>169.907224</td>\n",
       "      <td>APF0000dae</td>\n",
       "    </tr>\n",
       "    <tr>\n",
       "      <th>3</th>\n",
       "      <td>571.250000</td>\n",
       "      <td>208.750000</td>\n",
       "      <td>571.250000</td>\n",
       "      <td>34184.750000</td>\n",
       "      <td>20.901771</td>\n",
       "      <td>14.870533</td>\n",
       "      <td>12.402900</td>\n",
       "      <td>585.141955</td>\n",
       "      <td>221.930333</td>\n",
       "      <td>557.358045</td>\n",
       "      <td>195.569667</td>\n",
       "      <td>566.825056</td>\n",
       "      <td>220.336708</td>\n",
       "      <td>575.674944</td>\n",
       "      <td>197.163292</td>\n",
       "      <td>APF0000dae</td>\n",
       "    </tr>\n",
       "    <tr>\n",
       "      <th>4</th>\n",
       "      <td>498.833333</td>\n",
       "      <td>137.333333</td>\n",
       "      <td>498.833333</td>\n",
       "      <td>34113.333333</td>\n",
       "      <td>4.902402</td>\n",
       "      <td>13.215628</td>\n",
       "      <td>11.578387</td>\n",
       "      <td>512.000614</td>\n",
       "      <td>124.355563</td>\n",
       "      <td>485.666052</td>\n",
       "      <td>150.311104</td>\n",
       "      <td>497.843860</td>\n",
       "      <td>148.869364</td>\n",
       "      <td>499.822807</td>\n",
       "      <td>125.797303</td>\n",
       "      <td>APF0000dae</td>\n",
       "    </tr>\n",
       "  </tbody>\n",
       "</table>\n",
       "</div>"
      ],
      "text/plain": [
       "            x           y     image_x       image_y      angle   radius_1  \\\n",
       "0  197.200000  284.600000  197.200000  34260.600000   6.752352  16.882665   \n",
       "1  250.500000  259.250000  250.500000  34235.250000  25.126677  11.191206   \n",
       "2  338.250000  181.750000  338.250000  34157.750000  12.258466  14.492125   \n",
       "3  571.250000  208.750000  571.250000  34184.750000  20.901771  14.870533   \n",
       "4  498.833333  137.333333  498.833333  34113.333333   4.902402  13.215628   \n",
       "\n",
       "    radius_2        p1_x        p1_y        p2_x        p2_y        p3_x  \\\n",
       "0  14.161999  213.965561  292.233381  180.434439  276.966619  195.534858   \n",
       "1  10.268404  260.632195  259.182138  240.367805  259.317862  246.139820   \n",
       "2  12.119094  352.411701  177.357982  324.088299  186.142018  335.676849   \n",
       "3  12.402900  585.141955  221.930333  557.358045  195.569667  566.825056   \n",
       "4  11.578387  512.000614  124.355563  485.666052  150.311104  497.843860   \n",
       "\n",
       "         p3_y        p4_x        p4_y    image_id  \n",
       "0  298.663766  198.865142  270.536234  APF0000dae  \n",
       "1  268.546717  254.860180  249.953283  APF0000dae  \n",
       "2  193.592776  340.823151  169.907224  APF0000dae  \n",
       "3  220.336708  575.674944  197.163292  APF0000dae  \n",
       "4  148.869364  499.822807  125.797303  APF0000dae  "
      ]
     },
     "execution_count": 29,
     "metadata": {},
     "output_type": "execute_result"
    }
   ],
   "source": [
    "blotches.head()"
   ]
  },
  {
   "cell_type": "code",
   "execution_count": 65,
   "metadata": {
    "collapsed": false
   },
   "outputs": [],
   "source": [
    "import seaborn as sns"
   ]
  },
  {
   "cell_type": "code",
   "execution_count": 66,
   "metadata": {
    "collapsed": true
   },
   "outputs": [],
   "source": [
    "%matplotlib inline"
   ]
  },
  {
   "cell_type": "code",
   "execution_count": 68,
   "metadata": {
    "collapsed": false
   },
   "outputs": [
    {
     "data": {
      "text/plain": [
       "<seaborn.axisgrid.JointGrid at 0x10f9374e0>"
      ]
     },
     "execution_count": 68,
     "metadata": {},
     "output_type": "execute_result"
    },
    {
     "data": {
      "image/png": "[encoded data removed]",
      "text/plain": [
       "<matplotlib.figure.Figure at 0x10f9370b8>"
      ]
     },
     "metadata": {},
     "output_type": "display_data"
    }
   ],
   "source": [
    "sns.jointplot(x='image_x', y='image_y', kind='hex', data=blotches)"
   ]
  },
  {
   "cell_type": "code",
   "execution_count": 25,
   "metadata": {
    "collapsed": false
   },
   "outputs": [],
   "source": [
    "all_combined = read_combined_df(path)"
   ]
  },
  {
   "cell_type": "code",
   "execution_count": 30,
   "metadata": {
    "collapsed": false
   },
   "outputs": [
    {
     "data": {
      "text/plain": [
       "257600"
      ]
     },
     "execution_count": 30,
     "metadata": {},
     "output_type": "execute_result"
    }
   ],
   "source": [
    "840*648 - (640*448)"
   ]
  },
  {
   "cell_type": "code",
   "execution_count": 31,
   "metadata": {
    "collapsed": false
   },
   "outputs": [
    {
     "data": {
      "text/plain": [
       "0.4732510288065844"
      ]
     },
     "execution_count": 31,
     "metadata": {},
     "output_type": "execute_result"
    }
   ],
   "source": [
    "_/(840*648)"
   ]
  },
  {
   "cell_type": "code",
   "execution_count": 29,
   "metadata": {
    "collapsed": false
   },
   "outputs": [
    {
     "data": {
      "text/plain": [
       "0.5267489711934157"
      ]
     },
     "execution_count": 29,
     "metadata": {},
     "output_type": "execute_result"
    }
   ],
   "source": [
    "_/__"
   ]
  },
  {
   "cell_type": "code",
   "execution_count": 26,
   "metadata": {
    "collapsed": false
   },
   "outputs": [
    {
     "name": "stdout",
     "output_type": "stream",
     "text": [
      "<class 'pandas.core.frame.DataFrame'>\n",
      "Int64Index: 1254 entries, 0 to 12\n",
      "Data columns (total 51 columns):\n",
      "angle              879 non-null float64\n",
      "arm1_x             139 non-null float64\n",
      "arm1_y             139 non-null float64\n",
      "arm2_x             139 non-null float64\n",
      "arm2_y             139 non-null float64\n",
      "blotch_angle       375 non-null float64\n",
      "blotch_image_id    375 non-null object\n",
      "blotch_image_x     375 non-null float64\n",
      "blotch_image_y     375 non-null float64\n",
      "blotch_p1_x        375 non-null float64\n",
      "blotch_p1_y        375 non-null float64\n",
      "blotch_p2_x        375 non-null float64\n",
      "blotch_p2_y        375 non-null float64\n",
      "blotch_p3_x        375 non-null float64\n",
      "blotch_p3_y        375 non-null float64\n",
      "blotch_p4_x        375 non-null float64\n",
      "blotch_p4_y        375 non-null float64\n",
      "blotch_radius_1    375 non-null float64\n",
      "blotch_radius_2    375 non-null float64\n",
      "blotch_x           375 non-null float64\n",
      "blotch_y           375 non-null float64\n",
      "distance           139 non-null float64\n",
      "fan_angle          375 non-null float64\n",
      "fan_arm1_x         375 non-null float64\n",
      "fan_arm1_y         375 non-null float64\n",
      "fan_arm2_x         375 non-null float64\n",
      "fan_arm2_y         375 non-null float64\n",
      "fan_distance       375 non-null float64\n",
      "fan_image_id       375 non-null object\n",
      "fan_image_x        375 non-null float64\n",
      "fan_image_y        375 non-null float64\n",
      "fan_spread         375 non-null float64\n",
      "fan_x              375 non-null float64\n",
      "fan_y              375 non-null float64\n",
      "fnotch_value       375 non-null float64\n",
      "image_id           879 non-null object\n",
      "image_x            879 non-null float64\n",
      "image_y            879 non-null float64\n",
      "p1_x               740 non-null float64\n",
      "p1_y               740 non-null float64\n",
      "p2_x               740 non-null float64\n",
      "p2_y               740 non-null float64\n",
      "p3_x               740 non-null float64\n",
      "p3_y               740 non-null float64\n",
      "p4_x               740 non-null float64\n",
      "p4_y               740 non-null float64\n",
      "radius_1           740 non-null float64\n",
      "radius_2           740 non-null float64\n",
      "spread             139 non-null float64\n",
      "x                  879 non-null float64\n",
      "y                  879 non-null float64\n",
      "dtypes: float64(48), object(3)\n",
      "memory usage: 509.4+ KB\n"
     ]
    }
   ],
   "source": [
    "all_combined.info()"
   ]
  },
  {
   "cell_type": "code",
   "execution_count": 13,
   "metadata": {
    "collapsed": false
   },
   "outputs": [
    {
     "name": "stdout",
     "output_type": "stream",
     "text": [
      "Blotches: 968\n",
      "Fan: 286\n",
      "Fnotches: 0\n",
      "Total: 1254\n"
     ]
    }
   ],
   "source": [
    "p = io.p4data() / 'overlap_issue_GH45/p4_level_p4_coords/applied_cut_0.5'\n",
    "get_total_survivors(p)"
   ]
  },
  {
   "cell_type": "code",
   "execution_count": null,
   "metadata": {
    "collapsed": true
   },
   "outputs": [],
   "source": []
  }
 ],
 "metadata": {
  "kernelspec": {
   "display_name": "Python 3",
   "language": "python",
   "name": "python3"
  },
  "language_info": {
   "codemirror_mode": {
    "name": "ipython",
    "version": 3
   },
   "file_extension": ".py",
   "mimetype": "text/x-python",
   "name": "python",
   "nbconvert_exporter": "python",
   "pygments_lexer": "ipython3",
   "version": "3.5.1"
  }
 },
 "nbformat": 4,
 "nbformat_minor": 1
}
