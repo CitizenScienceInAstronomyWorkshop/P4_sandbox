{
 "metadata": {
  "name": "",
  "signature": "sha256:99d3b6c3e6dab65fcb9b5d8d34b0cc8e20ecf8cf3c3bc607b6063022c667f744"
 },
 "nbformat": 3,
 "nbformat_minor": 0,
 "worksheets": [
  {
   "cells": [
    {
     "cell_type": "code",
     "collapsed": false,
     "input": [
      "from IPython.html.widgets import interact, interactive, fixed\n",
      "from IPython.html import widgets\n",
      "from IPython.display import clear_output, display, HTML"
     ],
     "language": "python",
     "metadata": {},
     "outputs": []
    },
    {
     "cell_type": "code",
     "collapsed": false,
     "input": [
      "df = pd.read_hdf('/raid1/maye/planet4/dirty_data.h5','df')"
     ],
     "language": "python",
     "metadata": {},
     "outputs": []
    },
    {
     "cell_type": "code",
     "collapsed": false,
     "input": [
      "rest = df[(df.marking!='interesting')]# & (df.image_name!='tutorial')]"
     ],
     "language": "python",
     "metadata": {},
     "outputs": []
    },
    {
     "cell_type": "code",
     "collapsed": false,
     "input": [
      "blotches = rest[(rest.marking=='blotch')]\n",
      "fans = rest[(rest.marking=='fan')]\n",
      "print blotches.shape\n",
      "print fans.shape"
     ],
     "language": "python",
     "metadata": {},
     "outputs": []
    },
    {
     "cell_type": "code",
     "collapsed": false,
     "input": [
      "fans.columns"
     ],
     "language": "python",
     "metadata": {},
     "outputs": []
    },
    {
     "cell_type": "code",
     "collapsed": false,
     "input": [
      "fandata_cols = 'x y image_x image_y distance angle spread'.split()"
     ],
     "language": "python",
     "metadata": {},
     "outputs": []
    },
    {
     "cell_type": "code",
     "collapsed": false,
     "input": [
      "ind = fans[fandata_cols].isnull().any(axis=1)"
     ],
     "language": "python",
     "metadata": {},
     "outputs": []
    },
    {
     "cell_type": "markdown",
     "metadata": {},
     "source": [
      "blotchdata = blotches['x y image_x image_y radius_1 radius_2'.split()]"
     ]
    },
    {
     "cell_type": "code",
     "collapsed": false,
     "input": [
      "larger = (fandata[fandata.isnull().any(axis=1)])"
     ],
     "language": "python",
     "metadata": {},
     "outputs": []
    },
    {
     "cell_type": "code",
     "collapsed": false,
     "input": [
      "fans.ix[ind]"
     ],
     "language": "python",
     "metadata": {},
     "outputs": []
    },
    {
     "cell_type": "code",
     "collapsed": false,
     "input": [
      "smaller = fans['x y image_x image_y distance angle spread'.split()]"
     ],
     "language": "python",
     "metadata": {},
     "outputs": []
    },
    {
     "cell_type": "code",
     "collapsed": false,
     "input": [
      "smaller.shape"
     ],
     "language": "python",
     "metadata": {},
     "outputs": []
    },
    {
     "cell_type": "code",
     "collapsed": false,
     "input": [],
     "language": "python",
     "metadata": {},
     "outputs": []
    },
    {
     "cell_type": "code",
     "collapsed": false,
     "input": [
      "larger.shape"
     ],
     "language": "python",
     "metadata": {},
     "outputs": []
    },
    {
     "cell_type": "code",
     "collapsed": false,
     "input": [
      "larger - smaller"
     ],
     "language": "python",
     "metadata": {},
     "outputs": []
    },
    {
     "cell_type": "code",
     "collapsed": false,
     "input": [
      "ind = pd.Index([2422687, 3008797, 7699551, 10849987])"
     ],
     "language": "python",
     "metadata": {},
     "outputs": []
    },
    {
     "cell_type": "code",
     "collapsed": false,
     "input": [
      "ind"
     ],
     "language": "python",
     "metadata": {},
     "outputs": []
    },
    {
     "cell_type": "code",
     "collapsed": false,
     "input": [
      "fandata.ix[2422687]"
     ],
     "language": "python",
     "metadata": {},
     "outputs": []
    },
    {
     "cell_type": "code",
     "collapsed": false,
     "input": [
      "blotchdata[blotchdata.isnull().any(axis=1)]"
     ],
     "language": "python",
     "metadata": {},
     "outputs": []
    },
    {
     "cell_type": "code",
     "collapsed": false,
     "input": [
      "def show_stuff(i):\n",
      "    display(blotches.irow(i))"
     ],
     "language": "python",
     "metadata": {},
     "outputs": []
    },
    {
     "cell_type": "code",
     "collapsed": false,
     "input": [
      "i = interact(show_stuff,\n",
      "             i=(30,40),\n",
      "             a=widgets.IntSliderWidget(min=0,max=10,step=1))"
     ],
     "language": "python",
     "metadata": {},
     "outputs": []
    },
    {
     "cell_type": "code",
     "collapsed": false,
     "input": [
      "rest[rest.image_name!='tutorial'].shape"
     ],
     "language": "python",
     "metadata": {},
     "outputs": []
    },
    {
     "cell_type": "code",
     "collapsed": false,
     "input": [
      "s = blotches.created_at"
     ],
     "language": "python",
     "metadata": {},
     "outputs": []
    },
    {
     "cell_type": "code",
     "collapsed": false,
     "input": [
      "index = pd.DatetimeIndex(s)"
     ],
     "language": "python",
     "metadata": {},
     "outputs": []
    },
    {
     "cell_type": "code",
     "collapsed": false,
     "input": [
      "blotches.created_at = index"
     ],
     "language": "python",
     "metadata": {},
     "outputs": []
    },
    {
     "cell_type": "code",
     "collapsed": false,
     "input": [
      "blotches.loc[:, 'created_at'] = index"
     ],
     "language": "python",
     "metadata": {},
     "outputs": []
    },
    {
     "cell_type": "code",
     "collapsed": false,
     "input": [
      "blotches.plot(x='created_at',y='x_tile', style='*')"
     ],
     "language": "python",
     "metadata": {},
     "outputs": []
    },
    {
     "cell_type": "code",
     "collapsed": false,
     "input": [
      "blotches.tail()"
     ],
     "language": "python",
     "metadata": {},
     "outputs": []
    },
    {
     "cell_type": "markdown",
     "metadata": {},
     "source": [
      "# time conversions"
     ]
    },
    {
     "cell_type": "code",
     "collapsed": false,
     "input": [
      "import planet4\n",
      "reload(planet4)"
     ],
     "language": "python",
     "metadata": {},
     "outputs": [
      {
       "metadata": {},
       "output_type": "pyout",
       "prompt_number": 3,
       "text": [
        "<module 'planet4' from 'planet4/__init__.pyc'>"
       ]
      }
     ],
     "prompt_number": 3
    },
    {
     "cell_type": "code",
     "collapsed": false,
     "input": [
      "from planet4 import reduction"
     ],
     "language": "python",
     "metadata": {},
     "outputs": [],
     "prompt_number": 4
    },
    {
     "cell_type": "code",
     "collapsed": false,
     "input": [
      "reader = pd.read_csv('/Users/maye/data/planet4/2014-07-20_planet_four_classifications.csv',\n",
      "                     chunksize=1e5, na_values=['null'])"
     ],
     "language": "python",
     "metadata": {},
     "outputs": [],
     "prompt_number": 23
    },
    {
     "cell_type": "code",
     "collapsed": false,
     "input": [
      "chunk = reader.get_chunk()"
     ],
     "language": "python",
     "metadata": {},
     "outputs": [],
     "prompt_number": 24
    },
    {
     "cell_type": "code",
     "collapsed": false,
     "input": [
      "chunk.head(10)"
     ],
     "language": "python",
     "metadata": {},
     "outputs": [
      {
       "html": [
        "<div style=\"max-height:1000px;max-width:1500px;overflow:auto;\">\n",
        "<table border=\"1\" class=\"dataframe\">\n",
        "  <thead>\n",
        "    <tr style=\"text-align: right;\">\n",
        "      <th></th>\n",
        "      <th>classification_id</th>\n",
        "      <th>created_at</th>\n",
        "      <th>image_id</th>\n",
        "      <th>image_name</th>\n",
        "      <th>image_url</th>\n",
        "      <th>user_name</th>\n",
        "      <th>marking</th>\n",
        "      <th>x_tile</th>\n",
        "      <th>y_tile</th>\n",
        "      <th>acquisition_date</th>\n",
        "      <th>local_mars_time</th>\n",
        "      <th>x</th>\n",
        "      <th>y</th>\n",
        "      <th>image_x</th>\n",
        "      <th>image_y</th>\n",
        "      <th>radius_1</th>\n",
        "      <th>radius_2</th>\n",
        "      <th>distance</th>\n",
        "      <th>angle</th>\n",
        "      <th>spread</th>\n",
        "    </tr>\n",
        "  </thead>\n",
        "  <tbody>\n",
        "    <tr>\n",
        "      <th>0</th>\n",
        "      <td> 50ea1eae45d7e11332000bf9</td>\n",
        "      <td> 2013-01-07 01:02:38 UTC</td>\n",
        "      <td> APF00004hc</td>\n",
        "      <td> ESP_012264_0980</td>\n",
        "      <td> http://www.planetfour.org/subjects/standard/50...</td>\n",
        "      <td>   brian-c</td>\n",
        "      <td> interesting</td>\n",
        "      <td> 5</td>\n",
        "      <td>  84</td>\n",
        "      <td> 2009-03-09</td>\n",
        "      <td> 4:51 PM</td>\n",
        "      <td> 415.5</td>\n",
        "      <td> 317</td>\n",
        "      <td> 3375.5</td>\n",
        "      <td> 45801</td>\n",
        "      <td>        NaN</td>\n",
        "      <td>       NaN</td>\n",
        "      <td>        NaN</td>\n",
        "      <td>        NaN</td>\n",
        "      <td>       NaN</td>\n",
        "    </tr>\n",
        "    <tr>\n",
        "      <th>1</th>\n",
        "      <td> 50ea21c245d7e11332000c88</td>\n",
        "      <td> 2013-01-07 01:15:46 UTC</td>\n",
        "      <td> APF00002rq</td>\n",
        "      <td> ESP_011544_0985</td>\n",
        "      <td> http://www.planetfour.org/subjects/standard/50...</td>\n",
        "      <td>     arfon</td>\n",
        "      <td>      blotch</td>\n",
        "      <td> 2</td>\n",
        "      <td>  10</td>\n",
        "      <td> 2009-01-12</td>\n",
        "      <td> 5:14 PM</td>\n",
        "      <td> 278.5</td>\n",
        "      <td> 145</td>\n",
        "      <td> 1018.5</td>\n",
        "      <td>  5077</td>\n",
        "      <td> 186.657440</td>\n",
        "      <td> 77.006493</td>\n",
        "      <td>        NaN</td>\n",
        "      <td> 142.386043</td>\n",
        "      <td>       NaN</td>\n",
        "    </tr>\n",
        "    <tr>\n",
        "      <th>2</th>\n",
        "      <td> 50ea21d7e3995601cb00016d</td>\n",
        "      <td> 2013-01-07 01:16:07 UTC</td>\n",
        "      <td> APF0000cwl</td>\n",
        "      <td> ESP_012079_0945</td>\n",
        "      <td> http://www.planetfour.org/subjects/standard/50...</td>\n",
        "      <td>     arfon</td>\n",
        "      <td>         fan</td>\n",
        "      <td> 5</td>\n",
        "      <td>  35</td>\n",
        "      <td> 2009-02-22</td>\n",
        "      <td> 6:04 PM</td>\n",
        "      <td> 294.5</td>\n",
        "      <td> 371</td>\n",
        "      <td> 3254.5</td>\n",
        "      <td> 19003</td>\n",
        "      <td>        NaN</td>\n",
        "      <td>       NaN</td>\n",
        "      <td> 195.133288</td>\n",
        "      <td> -96.178065</td>\n",
        "      <td>  6.768722</td>\n",
        "    </tr>\n",
        "    <tr>\n",
        "      <th>3</th>\n",
        "      <td> 50ea21d7e3995601cb00016d</td>\n",
        "      <td> 2013-01-07 01:16:07 UTC</td>\n",
        "      <td> APF0000cwl</td>\n",
        "      <td> ESP_012079_0945</td>\n",
        "      <td> http://www.planetfour.org/subjects/standard/50...</td>\n",
        "      <td>     arfon</td>\n",
        "      <td>         fan</td>\n",
        "      <td> 5</td>\n",
        "      <td>  35</td>\n",
        "      <td> 2009-02-22</td>\n",
        "      <td> 6:04 PM</td>\n",
        "      <td> 295.5</td>\n",
        "      <td> 366</td>\n",
        "      <td> 3255.5</td>\n",
        "      <td> 18998</td>\n",
        "      <td>        NaN</td>\n",
        "      <td>       NaN</td>\n",
        "      <td> 280.264161</td>\n",
        "      <td>-162.987453</td>\n",
        "      <td> 10.572224</td>\n",
        "    </tr>\n",
        "    <tr>\n",
        "      <th>4</th>\n",
        "      <td> 50ea21e745d7e11332000c97</td>\n",
        "      <td> 2013-01-07 01:16:23 UTC</td>\n",
        "      <td> APF0000jn4</td>\n",
        "      <td> ESP_021684_0985</td>\n",
        "      <td> http://www.planetfour.org/subjects/standard/50...</td>\n",
        "      <td>     arfon</td>\n",
        "      <td>      blotch</td>\n",
        "      <td> 2</td>\n",
        "      <td> 127</td>\n",
        "      <td> 2011-03-13</td>\n",
        "      <td> 4:08 PM</td>\n",
        "      <td>  71.5</td>\n",
        "      <td> 543</td>\n",
        "      <td>  811.5</td>\n",
        "      <td> 69591</td>\n",
        "      <td>  26.172505</td>\n",
        "      <td> 19.629378</td>\n",
        "      <td>        NaN</td>\n",
        "      <td>  43.451842</td>\n",
        "      <td>       NaN</td>\n",
        "    </tr>\n",
        "    <tr>\n",
        "      <th>5</th>\n",
        "      <td> 50ea21e745d7e11332000c97</td>\n",
        "      <td> 2013-01-07 01:16:23 UTC</td>\n",
        "      <td> APF0000jn4</td>\n",
        "      <td> ESP_021684_0985</td>\n",
        "      <td> http://www.planetfour.org/subjects/standard/50...</td>\n",
        "      <td>     arfon</td>\n",
        "      <td>      blotch</td>\n",
        "      <td> 2</td>\n",
        "      <td> 127</td>\n",
        "      <td> 2011-03-13</td>\n",
        "      <td> 4:08 PM</td>\n",
        "      <td>  43.5</td>\n",
        "      <td> 199</td>\n",
        "      <td>  783.5</td>\n",
        "      <td> 69247</td>\n",
        "      <td>  23.000000</td>\n",
        "      <td> 17.250000</td>\n",
        "      <td>        NaN</td>\n",
        "      <td>  90.000000</td>\n",
        "      <td>       NaN</td>\n",
        "    </tr>\n",
        "    <tr>\n",
        "      <th>6</th>\n",
        "      <td> 50ea21e745d7e11332000c97</td>\n",
        "      <td> 2013-01-07 01:16:23 UTC</td>\n",
        "      <td> APF0000jn4</td>\n",
        "      <td> ESP_021684_0985</td>\n",
        "      <td> http://www.planetfour.org/subjects/standard/50...</td>\n",
        "      <td>     arfon</td>\n",
        "      <td>      blotch</td>\n",
        "      <td> 2</td>\n",
        "      <td> 127</td>\n",
        "      <td> 2011-03-13</td>\n",
        "      <td> 4:08 PM</td>\n",
        "      <td> 314.5</td>\n",
        "      <td> 589</td>\n",
        "      <td> 1054.5</td>\n",
        "      <td> 69637</td>\n",
        "      <td>  44.407207</td>\n",
        "      <td> 33.305405</td>\n",
        "      <td>        NaN</td>\n",
        "      <td>  35.837653</td>\n",
        "      <td>       NaN</td>\n",
        "    </tr>\n",
        "    <tr>\n",
        "      <th>7</th>\n",
        "      <td> 50eacdcb45d7e143b10002c0</td>\n",
        "      <td> 2013-01-07 13:29:47 UTC</td>\n",
        "      <td> APF0000469</td>\n",
        "      <td> ESP_011697_0980</td>\n",
        "      <td> http://www.planetfour.org/subjects/standard/50...</td>\n",
        "      <td> lukesmith</td>\n",
        "      <td>         fan</td>\n",
        "      <td> 2</td>\n",
        "      <td>   7</td>\n",
        "      <td> 2009-01-23</td>\n",
        "      <td> 5:03 PM</td>\n",
        "      <td> 146.5</td>\n",
        "      <td> 312</td>\n",
        "      <td>  886.5</td>\n",
        "      <td>  3600</td>\n",
        "      <td>        NaN</td>\n",
        "      <td>       NaN</td>\n",
        "      <td>  62.769419</td>\n",
        "      <td>  67.520566</td>\n",
        "      <td> 23.714055</td>\n",
        "    </tr>\n",
        "    <tr>\n",
        "      <th>8</th>\n",
        "      <td> 50eacdcb45d7e143b10002c0</td>\n",
        "      <td> 2013-01-07 13:29:47 UTC</td>\n",
        "      <td> APF0000469</td>\n",
        "      <td> ESP_011697_0980</td>\n",
        "      <td> http://www.planetfour.org/subjects/standard/50...</td>\n",
        "      <td> lukesmith</td>\n",
        "      <td>      blotch</td>\n",
        "      <td> 2</td>\n",
        "      <td>   7</td>\n",
        "      <td> 2009-01-23</td>\n",
        "      <td> 5:03 PM</td>\n",
        "      <td> 107.5</td>\n",
        "      <td> 600</td>\n",
        "      <td>  847.5</td>\n",
        "      <td>  3888</td>\n",
        "      <td>  16.552945</td>\n",
        "      <td> 19.416488</td>\n",
        "      <td>        NaN</td>\n",
        "      <td> -64.983107</td>\n",
        "      <td>       NaN</td>\n",
        "    </tr>\n",
        "    <tr>\n",
        "      <th>9</th>\n",
        "      <td> 50eacdcb45d7e143b10002c0</td>\n",
        "      <td> 2013-01-07 13:29:47 UTC</td>\n",
        "      <td> APF0000469</td>\n",
        "      <td> ESP_011697_0980</td>\n",
        "      <td> http://www.planetfour.org/subjects/standard/50...</td>\n",
        "      <td> lukesmith</td>\n",
        "      <td>      blotch</td>\n",
        "      <td> 2</td>\n",
        "      <td>   7</td>\n",
        "      <td> 2009-01-23</td>\n",
        "      <td> 5:03 PM</td>\n",
        "      <td> 348.5</td>\n",
        "      <td> 391</td>\n",
        "      <td> 1088.5</td>\n",
        "      <td>  3679</td>\n",
        "      <td>  20.124612</td>\n",
        "      <td> 15.093459</td>\n",
        "      <td>        NaN</td>\n",
        "      <td>  26.565051</td>\n",
        "      <td>       NaN</td>\n",
        "    </tr>\n",
        "  </tbody>\n",
        "</table>\n",
        "</div>"
       ],
       "metadata": {},
       "output_type": "pyout",
       "prompt_number": 27,
       "text": [
        "          classification_id               created_at    image_id  \\\n",
        "0  50ea1eae45d7e11332000bf9  2013-01-07 01:02:38 UTC  APF00004hc   \n",
        "1  50ea21c245d7e11332000c88  2013-01-07 01:15:46 UTC  APF00002rq   \n",
        "2  50ea21d7e3995601cb00016d  2013-01-07 01:16:07 UTC  APF0000cwl   \n",
        "3  50ea21d7e3995601cb00016d  2013-01-07 01:16:07 UTC  APF0000cwl   \n",
        "4  50ea21e745d7e11332000c97  2013-01-07 01:16:23 UTC  APF0000jn4   \n",
        "5  50ea21e745d7e11332000c97  2013-01-07 01:16:23 UTC  APF0000jn4   \n",
        "6  50ea21e745d7e11332000c97  2013-01-07 01:16:23 UTC  APF0000jn4   \n",
        "7  50eacdcb45d7e143b10002c0  2013-01-07 13:29:47 UTC  APF0000469   \n",
        "8  50eacdcb45d7e143b10002c0  2013-01-07 13:29:47 UTC  APF0000469   \n",
        "9  50eacdcb45d7e143b10002c0  2013-01-07 13:29:47 UTC  APF0000469   \n",
        "\n",
        "        image_name                                          image_url  \\\n",
        "0  ESP_012264_0980  http://www.planetfour.org/subjects/standard/50...   \n",
        "1  ESP_011544_0985  http://www.planetfour.org/subjects/standard/50...   \n",
        "2  ESP_012079_0945  http://www.planetfour.org/subjects/standard/50...   \n",
        "3  ESP_012079_0945  http://www.planetfour.org/subjects/standard/50...   \n",
        "4  ESP_021684_0985  http://www.planetfour.org/subjects/standard/50...   \n",
        "5  ESP_021684_0985  http://www.planetfour.org/subjects/standard/50...   \n",
        "6  ESP_021684_0985  http://www.planetfour.org/subjects/standard/50...   \n",
        "7  ESP_011697_0980  http://www.planetfour.org/subjects/standard/50...   \n",
        "8  ESP_011697_0980  http://www.planetfour.org/subjects/standard/50...   \n",
        "9  ESP_011697_0980  http://www.planetfour.org/subjects/standard/50...   \n",
        "\n",
        "   user_name      marking  x_tile  y_tile acquisition_date local_mars_time  \\\n",
        "0    brian-c  interesting       5      84       2009-03-09         4:51 PM   \n",
        "1      arfon       blotch       2      10       2009-01-12         5:14 PM   \n",
        "2      arfon          fan       5      35       2009-02-22         6:04 PM   \n",
        "3      arfon          fan       5      35       2009-02-22         6:04 PM   \n",
        "4      arfon       blotch       2     127       2011-03-13         4:08 PM   \n",
        "5      arfon       blotch       2     127       2011-03-13         4:08 PM   \n",
        "6      arfon       blotch       2     127       2011-03-13         4:08 PM   \n",
        "7  lukesmith          fan       2       7       2009-01-23         5:03 PM   \n",
        "8  lukesmith       blotch       2       7       2009-01-23         5:03 PM   \n",
        "9  lukesmith       blotch       2       7       2009-01-23         5:03 PM   \n",
        "\n",
        "       x    y  image_x  image_y    radius_1   radius_2    distance  \\\n",
        "0  415.5  317   3375.5    45801         NaN        NaN         NaN   \n",
        "1  278.5  145   1018.5     5077  186.657440  77.006493         NaN   \n",
        "2  294.5  371   3254.5    19003         NaN        NaN  195.133288   \n",
        "3  295.5  366   3255.5    18998         NaN        NaN  280.264161   \n",
        "4   71.5  543    811.5    69591   26.172505  19.629378         NaN   \n",
        "5   43.5  199    783.5    69247   23.000000  17.250000         NaN   \n",
        "6  314.5  589   1054.5    69637   44.407207  33.305405         NaN   \n",
        "7  146.5  312    886.5     3600         NaN        NaN   62.769419   \n",
        "8  107.5  600    847.5     3888   16.552945  19.416488         NaN   \n",
        "9  348.5  391   1088.5     3679   20.124612  15.093459         NaN   \n",
        "\n",
        "        angle     spread  \n",
        "0         NaN        NaN  \n",
        "1  142.386043        NaN  \n",
        "2  -96.178065   6.768722  \n",
        "3 -162.987453  10.572224  \n",
        "4   43.451842        NaN  \n",
        "5   90.000000        NaN  \n",
        "6   35.837653        NaN  \n",
        "7   67.520566  23.714055  \n",
        "8  -64.983107        NaN  \n",
        "9   26.565051        NaN  "
       ]
      }
     ],
     "prompt_number": 27
    },
    {
     "cell_type": "code",
     "collapsed": false,
     "input": [
      "%timeit pd.to_datetime(df.acquisition_date)\n",
      "%timeit pd.to_datetime(df.created_at)\n",
      "%timeit pd.to_datetime(df.created_at, infer_datetime_format=True)\n",
      "%timeit pd.to_datetime(df.created_at, format='%Y-%m-%d %H:%M:%S %Z')"
     ],
     "language": "python",
     "metadata": {},
     "outputs": [
      {
       "output_type": "stream",
       "stream": "stdout",
       "text": [
        "10000 loops, best of 3: 98.5 \u00b5s per loop\n",
        "1000 loops, best of 3: 1.73 ms per loop"
       ]
      },
      {
       "output_type": "stream",
       "stream": "stdout",
       "text": [
        "\n",
        "1000 loops, best of 3: 955 \u00b5s per loop"
       ]
      },
      {
       "output_type": "stream",
       "stream": "stdout",
       "text": [
        "\n",
        "1000 loops, best of 3: 222 \u00b5s per loop"
       ]
      },
      {
       "output_type": "stream",
       "stream": "stdout",
       "text": [
        "\n"
       ]
      }
     ],
     "prompt_number": 54
    },
    {
     "cell_type": "code",
     "collapsed": false,
     "input": [],
     "language": "python",
     "metadata": {},
     "outputs": [
      {
       "output_type": "stream",
       "stream": "stdout",
       "text": [
        "1000 loops, best of 3: 221 \u00b5s per loop\n"
       ]
      }
     ],
     "prompt_number": 52
    },
    {
     "cell_type": "code",
     "collapsed": false,
     "input": [
      "221/97.9"
     ],
     "language": "python",
     "metadata": {},
     "outputs": [
      {
       "metadata": {},
       "output_type": "pyout",
       "prompt_number": 53,
       "text": [
        "2.257405515832482"
       ]
      }
     ],
     "prompt_number": 53
    },
    {
     "cell_type": "code",
     "collapsed": false,
     "input": [
      "df.created_at"
     ],
     "language": "python",
     "metadata": {},
     "outputs": []
    },
    {
     "cell_type": "code",
     "collapsed": false,
     "input": [
      "df.acquisition_date"
     ],
     "language": "python",
     "metadata": {},
     "outputs": []
    },
    {
     "cell_type": "markdown",
     "metadata": {},
     "source": [
      "# production check"
     ]
    },
    {
     "cell_type": "code",
     "collapsed": false,
     "input": [
      "from planet4 import reduction"
     ],
     "language": "python",
     "metadata": {},
     "outputs": [],
     "prompt_number": 1
    },
    {
     "cell_type": "code",
     "collapsed": false,
     "input": [
      "after = pd.read_hdf(\n",
      "     '/raid1/maye/planet4/2014-06-09_planet_four_classifications_fast_all_read.h5',\n",
      "      'df')\n",
      "queried = pd.read_hdf(\n",
      "     '/raid1/maye/planet4/2014-06-09_planet_four_classifications_queryable.h5',\n",
      "      'df')"
     ],
     "language": "python",
     "metadata": {},
     "outputs": [],
     "prompt_number": 2
    },
    {
     "cell_type": "code",
     "collapsed": false,
     "input": [
      "after.shape"
     ],
     "language": "python",
     "metadata": {},
     "outputs": [
      {
       "metadata": {},
       "output_type": "pyout",
       "prompt_number": 3,
       "text": [
        "(11347267, 20)"
       ]
      }
     ],
     "prompt_number": 3
    },
    {
     "cell_type": "code",
     "collapsed": false,
     "input": [
      "queried.shape"
     ],
     "language": "python",
     "metadata": {},
     "outputs": [
      {
       "metadata": {},
       "output_type": "pyout",
       "prompt_number": 4,
       "text": [
        "(11347267, 20)"
       ]
      }
     ],
     "prompt_number": 4
    },
    {
     "cell_type": "code",
     "collapsed": false,
     "input": [
      "import time\n",
      "t1 = time.time()\n",
      "tutorials = df[df.image_name == 'tutorial']\n",
      "df = df[df.image_name != 'tutorial']\n",
      "print t1 - time.time()"
     ],
     "language": "python",
     "metadata": {},
     "outputs": [
      {
       "output_type": "stream",
       "stream": "stdout",
       "text": [
        "-6.8691599369\n"
       ]
      }
     ],
     "prompt_number": 4
    },
    {
     "cell_type": "code",
     "collapsed": false,
     "input": [
      "# tutorials = df[df.image_name == 'tutorial']\n",
      "# df = df[df.image_name != 'tutorial']\n",
      "rest = df[(df.marking=='interesting') | (df.marking=='none')]\n",
      "fans = df[df.marking=='fan']\n",
      "blotches = df[df.marking=='blotch']"
     ],
     "language": "python",
     "metadata": {},
     "outputs": [],
     "prompt_number": 4
    },
    {
     "cell_type": "code",
     "collapsed": false,
     "input": [
      "sum = 0\n",
      "for item in [rest, fans, blotches]:\n",
      "    sum+=item.shape[0]\n",
      "sum"
     ],
     "language": "python",
     "metadata": {},
     "outputs": [
      {
       "metadata": {},
       "output_type": "pyout",
       "prompt_number": 8,
       "text": [
        "11737857"
       ]
      }
     ],
     "prompt_number": 8
    },
    {
     "cell_type": "code",
     "collapsed": false,
     "input": [
      "df.marking.value_counts().sum()"
     ],
     "language": "python",
     "metadata": {},
     "outputs": [
      {
       "metadata": {},
       "output_type": "pyout",
       "prompt_number": 10,
       "text": [
        "11737857"
       ]
      }
     ],
     "prompt_number": 10
    },
    {
     "cell_type": "code",
     "collapsed": false,
     "input": [
      "df[df.marking.isnull()]"
     ],
     "language": "python",
     "metadata": {},
     "outputs": [
      {
       "html": [
        "<div style=\"max-height:1000px;max-width:1500px;overflow:auto;\">\n",
        "<table border=\"1\" class=\"dataframe\">\n",
        "  <thead>\n",
        "    <tr style=\"text-align: right;\">\n",
        "      <th></th>\n",
        "      <th>classification_id</th>\n",
        "      <th>created_at</th>\n",
        "      <th>image_id</th>\n",
        "      <th>image_name</th>\n",
        "      <th>image_url</th>\n",
        "      <th>user_name</th>\n",
        "      <th>marking</th>\n",
        "      <th>x_tile</th>\n",
        "      <th>y_tile</th>\n",
        "      <th>acquisition_date</th>\n",
        "      <th>local_mars_time</th>\n",
        "      <th>x</th>\n",
        "      <th>y</th>\n",
        "      <th>image_x</th>\n",
        "      <th>image_y</th>\n",
        "      <th>radius_1</th>\n",
        "      <th>radius_2</th>\n",
        "      <th>distance</th>\n",
        "      <th>angle</th>\n",
        "      <th>spread</th>\n",
        "    </tr>\n",
        "  </thead>\n",
        "  <tbody>\n",
        "    <tr>\n",
        "      <th>11737857</th>\n",
        "      <td> NaN</td>\n",
        "      <td> NaN</td>\n",
        "      <td> NaN</td>\n",
        "      <td> NaN</td>\n",
        "      <td> NaN</td>\n",
        "      <td> NaN</td>\n",
        "      <td> NaN</td>\n",
        "      <td>NaN</td>\n",
        "      <td>NaN</td>\n",
        "      <td>NaT</td>\n",
        "      <td> NaN</td>\n",
        "      <td>NaN</td>\n",
        "      <td>NaN</td>\n",
        "      <td>NaN</td>\n",
        "      <td>NaN</td>\n",
        "      <td>NaN</td>\n",
        "      <td>NaN</td>\n",
        "      <td>NaN</td>\n",
        "      <td>NaN</td>\n",
        "      <td>NaN</td>\n",
        "    </tr>\n",
        "  </tbody>\n",
        "</table>\n",
        "<p>1 rows \u00d7 20 columns</p>\n",
        "</div>"
       ],
       "metadata": {},
       "output_type": "pyout",
       "prompt_number": 16,
       "text": [
        "         classification_id created_at image_id image_name image_url user_name  \\\n",
        "11737857               NaN        NaN      NaN        NaN       NaN       NaN   \n",
        "\n",
        "         marking  x_tile  y_tile acquisition_date local_mars_time   x   y  \\\n",
        "11737857     NaN     NaN     NaN              NaT             NaN NaN NaN   \n",
        "\n",
        "          image_x  image_y  radius_1  radius_2  distance  angle  spread  \n",
        "11737857      NaN      NaN       NaN       NaN       NaN    NaN     NaN  \n",
        "\n",
        "[1 rows x 20 columns]"
       ]
      }
     ],
     "prompt_number": 16
    },
    {
     "cell_type": "code",
     "collapsed": false,
     "input": [
      "rest.marking.value_counts()"
     ],
     "language": "python",
     "metadata": {},
     "outputs": [
      {
       "metadata": {},
       "output_type": "pyout",
       "prompt_number": 4,
       "text": [
        "none           2937784\n",
        "interesting     966313\n",
        "dtype: int64"
       ]
      }
     ],
     "prompt_number": 4
    },
    {
     "cell_type": "code",
     "collapsed": false,
     "input": [
      "fan_ind = fans[reduction.fan_data_cols].isnull().any(axis=1)\n",
      "blotch_ind = blotches[reduction.blotch_data_cols].isnull().any(axis=1)"
     ],
     "language": "python",
     "metadata": {},
     "outputs": [],
     "prompt_number": 5
    },
    {
     "cell_type": "code",
     "collapsed": false,
     "input": [
      "print fans.shape\n",
      "print blotches.shape"
     ],
     "language": "python",
     "metadata": {},
     "outputs": [
      {
       "output_type": "stream",
       "stream": "stdout",
       "text": [
        "(3315970, 20)\n",
        "(4117393, 20)\n"
       ]
      }
     ],
     "prompt_number": 6
    },
    {
     "cell_type": "code",
     "collapsed": false,
     "input": [
      "fans.shape[0] - fans[~fan_ind].shape[0]"
     ],
     "language": "python",
     "metadata": {},
     "outputs": [
      {
       "metadata": {},
       "output_type": "pyout",
       "prompt_number": 7,
       "text": [
        "55"
       ]
      }
     ],
     "prompt_number": 7
    },
    {
     "cell_type": "code",
     "collapsed": false,
     "input": [
      "blotches.shape[0] - blotches[~blotch_ind].shape[0]"
     ],
     "language": "python",
     "metadata": {},
     "outputs": [
      {
       "metadata": {},
       "output_type": "pyout",
       "prompt_number": 8,
       "text": [
        "45"
       ]
      }
     ],
     "prompt_number": 8
    },
    {
     "cell_type": "code",
     "collapsed": false,
     "input": [
      "fans = fans[~fan_ind]\n",
      "blotches = blotches[~blotch_ind]"
     ],
     "language": "python",
     "metadata": {},
     "outputs": [],
     "prompt_number": 10
    },
    {
     "cell_type": "code",
     "collapsed": false,
     "input": [
      "df = pd.concat([fans,blotches,rest])"
     ],
     "language": "python",
     "metadata": {},
     "outputs": [],
     "prompt_number": 11
    },
    {
     "cell_type": "code",
     "collapsed": false,
     "input": [
      "df.shape[0]"
     ],
     "language": "python",
     "metadata": {},
     "outputs": [
      {
       "metadata": {},
       "output_type": "pyout",
       "prompt_number": 14,
       "text": [
        "11337360"
       ]
      }
     ],
     "prompt_number": 14
    },
    {
     "cell_type": "code",
     "collapsed": false,
     "input": [
      "from planet4 import markings\n",
      "reload(markings)"
     ],
     "language": "python",
     "metadata": {},
     "outputs": [
      {
       "metadata": {},
       "output_type": "pyout",
       "prompt_number": 43,
       "text": [
        "<module 'planet4.markings' from 'planet4/markings.py'>"
       ]
      }
     ],
     "prompt_number": 43
    },
    {
     "cell_type": "code",
     "collapsed": false,
     "input": [
      "aab=markings.ImageID('APF0000aab')"
     ],
     "language": "python",
     "metadata": {},
     "outputs": [],
     "prompt_number": 44
    },
    {
     "cell_type": "code",
     "collapsed": false,
     "input": [
      "aab.plot_fans()"
     ],
     "language": "python",
     "metadata": {},
     "outputs": [],
     "prompt_number": 45
    },
    {
     "cell_type": "code",
     "collapsed": false,
     "input": [
      "import six"
     ],
     "language": "python",
     "metadata": {},
     "outputs": [],
     "prompt_number": 37
    },
    {
     "cell_type": "code",
     "collapsed": false,
     "input": [
      "fig, ax = subplots(ncols=2)\n",
      "aab.show_subframe(ax=ax[0], aspect='equal')\n",
      "aab.plot_fans(ax=ax[1])\n",
      "fig.suptitle('APF0000aab')"
     ],
     "language": "python",
     "metadata": {},
     "outputs": [
      {
       "metadata": {},
       "output_type": "pyout",
       "prompt_number": 53,
       "text": [
        "<matplotlib.text.Text at 0x11ab38710>"
       ]
      }
     ],
     "prompt_number": 53
    },
    {
     "cell_type": "code",
     "collapsed": false,
     "input": [
      "imshow?"
     ],
     "language": "python",
     "metadata": {},
     "outputs": [],
     "prompt_number": 50
    },
    {
     "cell_type": "code",
     "collapsed": false,
     "input": [],
     "language": "python",
     "metadata": {},
     "outputs": []
    }
   ],
   "metadata": {}
  }
 ]
}