{
 "cells": [
  {
   "cell_type": "code",
   "execution_count": 164,
   "metadata": {
    "collapsed": true
   },
   "outputs": [],
   "source": [
    "from pysis.isis import campt, camrange\n",
    "import pvl\n",
    "from shapely.geometry import box, polygon"
   ]
  },
  {
   "cell_type": "code",
   "execution_count": 178,
   "metadata": {
    "collapsed": true
   },
   "outputs": [],
   "source": [
    "from pathlib import Path\n",
    "p = Path('/Volumes/Data/planet4/season2_3_EDRs/')"
   ]
  },
  {
   "cell_type": "code",
   "execution_count": 179,
   "metadata": {
    "collapsed": false
   },
   "outputs": [],
   "source": [
    "paths = list(p.glob('*.cub'))"
   ]
  },
  {
   "cell_type": "code",
   "execution_count": 86,
   "metadata": {
    "collapsed": false
   },
   "outputs": [],
   "source": [
    "from planet4.region_data import Inca"
   ]
  },
  {
   "cell_type": "code",
   "execution_count": 92,
   "metadata": {
    "collapsed": false
   },
   "outputs": [],
   "source": [
    "season2 = [path for path in paths if path.stem[9:] in Inca.season2]"
   ]
  },
  {
   "cell_type": "code",
   "execution_count": 94,
   "metadata": {
    "collapsed": false
   },
   "outputs": [],
   "source": [
    "season3 = [path for path in paths if path.stem[9:] in Inca.season3]"
   ]
  },
  {
   "cell_type": "code",
   "execution_count": 173,
   "metadata": {
    "collapsed": false
   },
   "outputs": [],
   "source": [
    "def get_box(path):\n",
    "    label = pvl.load(str(path) + '.range.lbl.txt')\n",
    "    minx = label['UniversalGroundRange']['MinimumLongitude']\n",
    "    maxx = label['UniversalGroundRange']['MaximumLongitude']\n",
    "    miny = label['LatitudeRange']['MinimumLatitude']\n",
    "    maxy = label['LatitudeRange']['MaximumLatitude']\n",
    "    return box(minx, miny, maxx, maxy)"
   ]
  },
  {
   "cell_type": "code",
   "execution_count": 163,
   "metadata": {
    "collapsed": false,
    "scrolled": true
   },
   "outputs": [
    {
     "data": {
      "text/plain": [
       "[PosixPath('/Volumes/Data/planet4/season2_3_EDRs/redMosaicESP_011491_0985.cub'),\n",
       " PosixPath('/Volumes/Data/planet4/season2_3_EDRs/redMosaicESP_011544_0985.cub'),\n",
       " PosixPath('/Volumes/Data/planet4/season2_3_EDRs/redMosaicESP_011557_0985.cub'),\n",
       " PosixPath('/Volumes/Data/planet4/season2_3_EDRs/redMosaicESP_011623_0985.cub'),\n",
       " PosixPath('/Volumes/Data/planet4/season2_3_EDRs/redMosaicESP_011702_0985.cub'),\n",
       " PosixPath('/Volumes/Data/planet4/season2_3_EDRs/redMosaicESP_011729_0985.cub'),\n",
       " PosixPath('/Volumes/Data/planet4/season2_3_EDRs/redMosaicESP_011900_0985.cub'),\n",
       " PosixPath('/Volumes/Data/planet4/season2_3_EDRs/redMosaicESP_012256_0985.cub'),\n",
       " PosixPath('/Volumes/Data/planet4/season2_3_EDRs/redMosaicESP_012467_0985.cub'),\n",
       " PosixPath('/Volumes/Data/planet4/season2_3_EDRs/redMosaicESP_012744_0985.cub'),\n",
       " PosixPath('/Volumes/Data/planet4/season2_3_EDRs/redMosaicESP_013034_0985.cub'),\n",
       " PosixPath('/Volumes/Data/planet4/season2_3_EDRs/redMosaicESP_013113_0985.cub'),\n",
       " PosixPath('/Volumes/Data/planet4/season2_3_EDRs/redMosaicESP_020049_0985.cub'),\n",
       " PosixPath('/Volumes/Data/planet4/season2_3_EDRs/redMosaicESP_020115_0985.cub'),\n",
       " PosixPath('/Volumes/Data/planet4/season2_3_EDRs/redMosaicESP_020128_0985.cub'),\n",
       " PosixPath('/Volumes/Data/planet4/season2_3_EDRs/redMosaicESP_020194_0985.cub'),\n",
       " PosixPath('/Volumes/Data/planet4/season2_3_EDRs/redMosaicESP_020339_0985.cub'),\n",
       " PosixPath('/Volumes/Data/planet4/season2_3_EDRs/redMosaicESP_020748_0985.cub'),\n",
       " PosixPath('/Volumes/Data/planet4/season2_3_EDRs/redMosaicESP_020959_0985.cub'),\n",
       " PosixPath('/Volumes/Data/planet4/season2_3_EDRs/redMosaicESP_021460_0985.cub'),\n",
       " PosixPath('/Volumes/Data/planet4/season2_3_EDRs/redMosaicESP_021526_0985.cub'),\n",
       " PosixPath('/Volumes/Data/planet4/season2_3_EDRs/redMosaicESP_021671_0985.cub'),\n",
       " PosixPath('/Volumes/Data/planet4/season2_3_EDRs/redMosaicESP_021684_0985.cub'),\n",
       " PosixPath('/Volumes/Data/planet4/season2_3_EDRs/redMosaicESP_021829_0985.cub'),\n",
       " PosixPath('/Volumes/Data/planet4/season2_3_EDRs/redMosaicESP_022699_0985.cub')]"
      ]
     },
     "execution_count": 163,
     "metadata": {},
     "output_type": "execute_result"
    }
   ],
   "source": [
    "[p for p in paths if get_box(p).bounds[0] < 296]"
   ]
  },
  {
   "cell_type": "code",
   "execution_count": 180,
   "metadata": {
    "collapsed": false
   },
   "outputs": [],
   "source": [
    "boxes = [get_box(p) for p in paths]"
   ]
  },
  {
   "cell_type": "code",
   "execution_count": 177,
   "metadata": {
    "collapsed": false
   },
   "outputs": [
    {
     "ename": "IndexError",
     "evalue": "list index out of range",
     "output_type": "error",
     "traceback": [
      "\u001b[0;31m---------------------------------------------------------------------------\u001b[0m",
      "\u001b[0;31mIndexError\u001b[0m                                Traceback (most recent call last)",
      "\u001b[0;32m<ipython-input-177-26af5d9cea08>\u001b[0m in \u001b[0;36m<module>\u001b[0;34m()\u001b[0m\n\u001b[0;32m----> 1\u001b[0;31m \u001b[0mget_box\u001b[0m\u001b[0;34m(\u001b[0m\u001b[0mpaths\u001b[0m\u001b[0;34m[\u001b[0m\u001b[0;36m0\u001b[0m\u001b[0;34m]\u001b[0m\u001b[0;34m)\u001b[0m\u001b[0;34m\u001b[0m\u001b[0m\n\u001b[0m",
      "\u001b[0;31mIndexError\u001b[0m: list index out of range"
     ]
    }
   ],
   "source": [
    "get_box(paths[0])"
   ]
  },
  {
   "cell_type": "code",
   "execution_count": 193,
   "metadata": {
    "collapsed": true
   },
   "outputs": [],
   "source": [
    "rightboxes = [b for b in boxes if b.bounds[0] > 295.7]"
   ]
  },
  {
   "cell_type": "code",
   "execution_count": 194,
   "metadata": {
    "collapsed": true
   },
   "outputs": [],
   "source": [
    "leftboxes = [b for b in boxes if b.bounds[0] < 295.7]"
   ]
  },
  {
   "cell_type": "code",
   "execution_count": 185,
   "metadata": {
    "collapsed": false
   },
   "outputs": [
    {
     "data": {
      "text/plain": [
       "25"
      ]
     },
     "execution_count": 185,
     "metadata": {},
     "output_type": "execute_result"
    }
   ],
   "source": [
    "len(leftboxes)"
   ]
  },
  {
   "cell_type": "code",
   "execution_count": 186,
   "metadata": {
    "collapsed": false
   },
   "outputs": [
    {
     "data": {
      "text/plain": [
       "30"
      ]
     },
     "execution_count": 186,
     "metadata": {},
     "output_type": "execute_result"
    }
   ],
   "source": [
    "len(boxes)"
   ]
  },
  {
   "cell_type": "code",
   "execution_count": 213,
   "metadata": {
    "collapsed": false
   },
   "outputs": [],
   "source": [
    "intersect = rightboxes[0].intersection(rightboxes[1])"
   ]
  },
  {
   "cell_type": "code",
   "execution_count": 214,
   "metadata": {
    "collapsed": true
   },
   "outputs": [],
   "source": [
    "n = 2\n",
    "for b in leftboxes[2:]:\n",
    "    if b.area < 0.1:\n",
    "        continue\n",
    "    temp = intersect.intersection(b)\n",
    "    if temp.area == 0:\n",
    "        continue\n",
    "    intersect = intersect.intersection(b)\n",
    "    n+=1"
   ]
  },
  {
   "cell_type": "code",
   "execution_count": 215,
   "metadata": {
    "collapsed": false
   },
   "outputs": [
    {
     "data": {
      "text/plain": [
       "10"
      ]
     },
     "execution_count": 215,
     "metadata": {},
     "output_type": "execute_result"
    }
   ],
   "source": [
    "n"
   ]
  },
  {
   "cell_type": "code",
   "execution_count": 202,
   "metadata": {
    "collapsed": false
   },
   "outputs": [
    {
     "data": {
      "text/plain": [
       "14"
      ]
     },
     "execution_count": 202,
     "metadata": {},
     "output_type": "execute_result"
    }
   ],
   "source": [
    "len(rightboxes)"
   ]
  },
  {
   "cell_type": "code",
   "execution_count": 203,
   "metadata": {
    "collapsed": false
   },
   "outputs": [
    {
     "data": {
      "text/plain": [
       "(295.98371057394, -81.511271143319, 296.00015580967, -81.446524837762)"
      ]
     },
     "execution_count": 203,
     "metadata": {},
     "output_type": "execute_result"
    }
   ],
   "source": [
    "intersect.bounds"
   ]
  },
  {
   "cell_type": "code",
   "execution_count": 108,
   "metadata": {
    "collapsed": false
   },
   "outputs": [],
   "source": [
    "s2boxes = [get_box(p) for p in season2]\n",
    "s3boxes = [get_box(p) for p in season3]"
   ]
  },
  {
   "cell_type": "code",
   "execution_count": 44,
   "metadata": {
    "collapsed": true
   },
   "outputs": [],
   "source": [
    "from shapely.ops import cascaded_union"
   ]
  },
  {
   "cell_type": "code",
   "execution_count": 109,
   "metadata": {
    "collapsed": true
   },
   "outputs": [],
   "source": [
    "%matplotlib inline"
   ]
  },
  {
   "cell_type": "code",
   "execution_count": 110,
   "metadata": {
    "collapsed": false
   },
   "outputs": [],
   "source": [
    "import seaborn as sns"
   ]
  },
  {
   "cell_type": "code",
   "execution_count": 115,
   "metadata": {
    "collapsed": false
   },
   "outputs": [
    {
     "data": {
      "text/plain": [
       "(295.4800179347, -81.709992746772, 296.6202619436, -81.144314194354)"
      ]
     },
     "execution_count": 115,
     "metadata": {},
     "output_type": "execute_result"
    }
   ],
   "source": [
    "s2boxes[0].bounds"
   ]
  },
  {
   "cell_type": "code",
   "execution_count": 205,
   "metadata": {
    "collapsed": false
   },
   "outputs": [
    {
     "data": {
      "text/plain": [
       "[0.17079593469936094,\n",
       " 0.15788313817753352,\n",
       " 0.23736615549913223,\n",
       " 0.08589468460224442,\n",
       " 0.10740181747258291,\n",
       " 0.0880500616995887,\n",
       " 0.2822373951760499,\n",
       " 0.360806171406936,\n",
       " 0.024305696359743306,\n",
       " 0.3114783386591775,\n",
       " 0.07955397946798672,\n",
       " 0.12665883020262383,\n",
       " 0.19408368324201003,\n",
       " 0.505014507234869]"
      ]
     },
     "execution_count": 205,
     "metadata": {},
     "output_type": "execute_result"
    }
   ],
   "source": [
    "[box.area for box in rightboxes]"
   ]
  },
  {
   "cell_type": "code",
   "execution_count": 216,
   "metadata": {
    "collapsed": false
   },
   "outputs": [
    {
     "data": {
      "image/png": "[encoded data removed]",
      "text/plain": [
       "<matplotlib.figure.Figure at 0x10550c320>"
      ]
     },
     "metadata": {},
     "output_type": "display_data"
    }
   ],
   "source": [
    "from matplotlib.patches import Polygon\n",
    "from itertools import cycle\n",
    "fig, ax = plt.subplots(figsize=(8, 8))\n",
    "\n",
    "# for polygon in leftboxes:\n",
    "#     mpl_poly = Polygon(np.array(polygon.exterior), color='g',\n",
    "#                        lw=2, alpha=0.1)\n",
    "#     ax.add_patch(mpl_poly)\n",
    "\n",
    "for polygon in rightboxes:\n",
    "    mpl_poly = Polygon(np.array(polygon.exterior), color='g',\n",
    "                       lw=2, alpha=0.05)\n",
    "    ax.add_patch(mpl_poly)\n",
    "\n",
    "\n",
    "ax.add_patch(Polygon(np.array(intersect.exterior), color='r',\n",
    "                     lw=2))\n",
    "\n",
    "ax.relim()\n",
    "ax.autoscale()"
   ]
  },
  {
   "cell_type": "code",
   "execution_count": 161,
   "metadata": {
    "collapsed": false
   },
   "outputs": [
    {
     "data": {
      "text/plain": [
       "(295.98388799452, -81.511271143319, 296.00015580967, -81.461043337855)"
      ]
     },
     "execution_count": 161,
     "metadata": {},
     "output_type": "execute_result"
    }
   ],
   "source": [
    "intersect.bounds"
   ]
  },
  {
   "cell_type": "code",
   "execution_count": null,
   "metadata": {
    "collapsed": true
   },
   "outputs": [],
   "source": []
  },
  {
   "cell_type": "code",
   "execution_count": 128,
   "metadata": {
    "collapsed": true
   },
   "outputs": [],
   "source": [
    "from shapely import iterops"
   ]
  },
  {
   "cell_type": "code",
   "execution_count": 130,
   "metadata": {
    "collapsed": true
   },
   "outputs": [],
   "source": [
    "from shapely.examples import intersect"
   ]
  },
  {
   "cell_type": "code",
   "execution_count": 134,
   "metadata": {
    "collapsed": false
   },
   "outputs": [],
   "source": [
    "intersect??"
   ]
  },
  {
   "cell_type": "code",
   "execution_count": 126,
   "metadata": {
    "collapsed": false
   },
   "outputs": [],
   "source": [
    "areas = [b.area for b in s2boxes if b.bounds[0] < 296]"
   ]
  },
  {
   "cell_type": "code",
   "execution_count": 127,
   "metadata": {
    "collapsed": false
   },
   "outputs": [
    {
     "data": {
      "text/plain": [
       "12"
      ]
     },
     "execution_count": 127,
     "metadata": {},
     "output_type": "execute_result"
    }
   ],
   "source": [
    "len(areas)"
   ]
  },
  {
   "cell_type": "code",
   "execution_count": 120,
   "metadata": {
    "collapsed": false
   },
   "outputs": [
    {
     "data": {
      "text/plain": [
       "(array([ 1.,  1.,  0.,  0.,  0.,  0.,  0.,  0.,  0.,  1.]),\n",
       " array([ 0.08589468,  0.0880454 ,  0.09019611,  0.09234682,  0.09449754,\n",
       "         0.09664825,  0.09879896,  0.10094968,  0.10310039,  0.1052511 ,\n",
       "         0.10740182]),\n",
       " <a list of 10 Patch objects>)"
      ]
     },
     "execution_count": 120,
     "metadata": {},
     "output_type": "execute_result"
    },
    {
     "data": {
      "image/png": "[encoded data removed]",
      "text/plain": [
       "<matplotlib.figure.Figure at 0x113a59f60>"
      ]
     },
     "metadata": {},
     "output_type": "display_data"
    }
   ],
   "source": [
    "plt.hist(areas)"
   ]
  },
  {
   "cell_type": "code",
   "execution_count": 79,
   "metadata": {
    "collapsed": true
   },
   "outputs": [],
   "source": [
    "from rtree import index"
   ]
  },
  {
   "cell_type": "code",
   "execution_count": 80,
   "metadata": {
    "collapsed": true
   },
   "outputs": [],
   "source": [
    "idx = index.Index()"
   ]
  },
  {
   "cell_type": "code",
   "execution_count": 81,
   "metadata": {
    "collapsed": true
   },
   "outputs": [],
   "source": [
    "for pos, cell in enumerate(boxes):\n",
    "    idx.insert(pos, cell.bounds)"
   ]
  },
  {
   "cell_type": "code",
   "execution_count": 84,
   "metadata": {
    "collapsed": false
   },
   "outputs": [
    {
     "name": "stdout",
     "output_type": "stream",
     "text": [
      "0.6450115803578395\n",
      "0.2283389912108004\n",
      "0.17079593469936094\n",
      "0.15788313817753352\n",
      "0.23736615549913223\n",
      "0.5566969663991909\n",
      "0.2965538898240721\n",
      "0.11704261912071527\n",
      "0.08589468460224442\n",
      "0.025234124868628485\n",
      "0.10740181747258291\n",
      "0.08995763189634351\n",
      "0.0880500616995887\n",
      "0.16355753203619108\n",
      "0.2440798294434039\n",
      "0.3876863529317723\n",
      "0.2822373951760499\n",
      "0.3419409551550178\n",
      "0.24512089405946103\n",
      "0.360806171406936\n",
      "0.0839479975741147\n",
      "0.024305696359743306\n",
      "0.05220684020497443\n",
      "0.0639469323765979\n",
      "0.3114783386591775\n",
      "0.07955397946798672\n",
      "0.12665883020262383\n",
      "0.19408368324201003\n",
      "0.505014507234869\n",
      "0.07205800764343229\n"
     ]
    }
   ],
   "source": [
    "for poly in boxes:\n",
    "    merged_cells = cascaded_union([boxes[i] for i in idx.intersection(poly.bounds)])\n",
    "    print(poly.intersection(merged_cells).area)"
   ]
  },
  {
   "cell_type": "code",
   "execution_count": null,
   "metadata": {
    "collapsed": true
   },
   "outputs": [],
   "source": []
  }
 ],
 "metadata": {
  "kernelspec": {
   "display_name": "Python 3",
   "language": "python",
   "name": "python3"
  },
  "language_info": {
   "codemirror_mode": {
    "name": "ipython",
    "version": 3
   },
   "file_extension": ".py",
   "mimetype": "text/x-python",
   "name": "python",
   "nbconvert_exporter": "python",
   "pygments_lexer": "ipython3",
   "version": "3.5.0"
  }
 },
 "nbformat": 4,
 "nbformat_minor": 0
}
