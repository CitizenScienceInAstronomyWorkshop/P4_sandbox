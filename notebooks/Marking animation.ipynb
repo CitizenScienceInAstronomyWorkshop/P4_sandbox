{
 "metadata": {
  "name": "",
  "signature": "sha256:2d0426fda1bbae338dd14b6b34d483cf0b6f8d847327f174f6669833ba30dd90"
 },
 "nbformat": 3,
 "nbformat_minor": 0,
 "worksheets": [
  {
   "cells": [
    {
     "cell_type": "code",
     "collapsed": false,
     "input": [
      "from P4_sandbox import helper_functions as hf"
     ],
     "language": "python",
     "metadata": {},
     "outputs": [],
     "prompt_number": 1
    },
    {
     "cell_type": "code",
     "collapsed": false,
     "input": [
      "data = hf.get_current_done()"
     ],
     "language": "python",
     "metadata": {},
     "outputs": [],
     "prompt_number": 4
    },
    {
     "cell_type": "code",
     "collapsed": false,
     "input": [
      "marked = data[data.marking != 'None']"
     ],
     "language": "python",
     "metadata": {},
     "outputs": [],
     "prompt_number": 5
    },
    {
     "cell_type": "code",
     "collapsed": false,
     "input": [
      "data.image_id = data.image_id.str.strip()"
     ],
     "language": "python",
     "metadata": {},
     "outputs": [],
     "prompt_number": 6
    },
    {
     "cell_type": "code",
     "collapsed": false,
     "input": [
      "os.path.basename(url)"
     ],
     "language": "python",
     "metadata": {},
     "outputs": [
      {
       "metadata": {},
       "output_type": "pyout",
       "prompt_number": 50,
       "text": [
        "'50e742d05e2ed21240004155.jpg'"
       ]
      }
     ],
     "prompt_number": 50
    },
    {
     "cell_type": "code",
     "collapsed": false,
     "input": [
      "import urllib\n",
      "import shutil\n",
      "import os\n",
      "import matplotlib.image as mplimg\n",
      "from itertools import cycle\n",
      "from matplotlib.patches import Ellipse\n",
      "\n",
      "colors = cycle('bgrcmyk')\n",
      "subframe = data[data.image_id == data.image_id[4]]\n",
      "blotches = subframe[subframe.marking=='blotch']\n",
      "url = blotches.iloc[0].image_url\n",
      "targetpath = os.path.join('./images', os.path.basename(url))\n",
      "if not os.path.exists(targetpath):\n",
      "    path = urllib.urlretrieve(url)[0]\n",
      "    shutil.move(path, targetpath)\n",
      "im = mplimg.imread(targetpath)\n",
      "ax = imshow(im)\n",
      "for i, color in zip(xrange(len(blotches),), colors):\n",
      "    line = blotches.iloc[i]\n",
      "    scatter(line.x, line.y, color=color)"
     ],
     "language": "python",
     "metadata": {},
     "outputs": [],
     "prompt_number": 78
    },
    {
     "cell_type": "code",
     "collapsed": false,
     "input": [
      "scatter?"
     ],
     "language": "python",
     "metadata": {},
     "outputs": [],
     "prompt_number": 75
    },
    {
     "cell_type": "code",
     "collapsed": false,
     "input": [],
     "language": "python",
     "metadata": {},
     "outputs": []
    },
    {
     "cell_type": "code",
     "collapsed": false,
     "input": [
      "\n",
      "\n",
      "el = Ellipse((line.x, line.y),\n",
      "             line.radius_1, line.radius_2, line.angle,\n",
      "             fill=False, color='red', linewidth=2)"
     ],
     "language": "python",
     "metadata": {},
     "outputs": [],
     "prompt_number": 71
    },
    {
     "cell_type": "code",
     "collapsed": false,
     "input": [
      "ax=gca()\n",
      "ax.add_artist(el)\n",
      "draw()"
     ],
     "language": "python",
     "metadata": {},
     "outputs": [],
     "prompt_number": 72
    },
    {
     "cell_type": "code",
     "collapsed": false,
     "input": [
      "from matplotlib.patches import Circle\n",
      "from matplotlib.collections import PatchCollection\n",
      "blotches.plot('x','y', kind='scatter')\n",
      "patches = []\n",
      "for i in xrange(len(blotches)):\n",
      "    line = blotches.iloc[i]\n",
      "    circle = Circle((line.x, line.y), (line.radius_1+line.radius_2)/2.0)\n",
      "    patches.append(circle)\n",
      "p = PatchCollection(patches, cmap=matplotlib.cm.jet, alpha=0.2)\n",
      "# ax = gca()\n",
      "ax.add_collection(p)\n",
      "draw()"
     ],
     "language": "python",
     "metadata": {},
     "outputs": [
      {
       "ename": "AttributeError",
       "evalue": "'AxesImage' object has no attribute 'add_collection'",
       "output_type": "pyerr",
       "traceback": [
        "---------------------------------------------------------------------------\nAttributeError                            Traceback (most recent call last)",
        "<ipython-input-35-8a559be8a045> in <module>()\n      9 p = PatchCollection(patches, cmap=matplotlib.cm.jet, alpha=0.2)\n     10 # ax = gca()\n---> 11 ax.add_collection(p)\n     12 draw()\n",
        "AttributeError: 'AxesImage' object has no attribute 'add_collection'"
       ]
      }
     ],
     "prompt_number": 35
    },
    {
     "cell_type": "code",
     "collapsed": false,
     "input": [],
     "language": "python",
     "metadata": {},
     "outputs": []
    }
   ],
   "metadata": {}
  }
 ]
}