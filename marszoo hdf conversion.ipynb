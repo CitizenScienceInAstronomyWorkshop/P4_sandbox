{
 "metadata": {
  "name": ""
 },
 "nbformat": 3,
 "nbformat_minor": 0,
 "worksheets": [
  {
   "cells": [
    {
     "cell_type": "code",
     "collapsed": false,
     "input": [
      "import pandas as pd\n",
      "pd.__version__"
     ],
     "language": "python",
     "metadata": {},
     "outputs": [
      {
       "metadata": {},
       "output_type": "pyout",
       "prompt_number": 1,
       "text": [
        "'0.12.0-1133-g87d8ded'"
       ]
      }
     ],
     "prompt_number": 1
    },
    {
     "cell_type": "code",
     "collapsed": false,
     "input": [
      "fname = '/Users/maye/data/marszoo/2013-10-27_planet_four_classifications.csv'"
     ],
     "language": "python",
     "metadata": {},
     "outputs": [],
     "prompt_number": 2
    },
    {
     "cell_type": "code",
     "collapsed": false,
     "input": [
      "reader = pd.read_csv(fname, parse_dates=[1], chunksize=1e6, na_values=['null','none'])\n",
      "data = [chunk for chunk in reader]\n",
      "df = pd.concat(data, ignore_index=True)"
     ],
     "language": "python",
     "metadata": {},
     "outputs": [],
     "prompt_number": 3
    },
    {
     "cell_type": "code",
     "collapsed": false,
     "input": [
      "df.columns"
     ],
     "language": "python",
     "metadata": {},
     "outputs": [
      {
       "metadata": {},
       "output_type": "pyout",
       "prompt_number": 4,
       "text": [
        "Index([u'2013-10-27_planet_four_classifications.csv', u'created_at', u'image_id', u'image_name', u'image_url', u'user_name', u'marking', u'x_tile', u'y_tile', u'acquisition_date', u'local_mars_time', u'x', u'y', u'image_x', u'image_y', u'radius_1', u'radius_2', u'distance', u'angle', u'spread'], dtype='object')"
       ]
      }
     ],
     "prompt_number": 4
    },
    {
     "cell_type": "code",
     "collapsed": false,
     "input": [
      "df = df.rename(columns=lambda x: 'classification_id' if x.startswith('2013') else x)"
     ],
     "language": "python",
     "metadata": {},
     "outputs": [],
     "prompt_number": 5
    },
    {
     "cell_type": "code",
     "collapsed": false,
     "input": [
      "df.dtypes"
     ],
     "language": "python",
     "metadata": {},
     "outputs": [
      {
       "metadata": {},
       "output_type": "pyout",
       "prompt_number": 6,
       "text": [
        "classification_id            object\n",
        "created_at           datetime64[ns]\n",
        "image_id                     object\n",
        "image_name                   object\n",
        "image_url                    object\n",
        "user_name                    object\n",
        "marking                      object\n",
        "x_tile                      float64\n",
        "y_tile                      float64\n",
        "acquisition_date             object\n",
        "local_mars_time              object\n",
        "x                           float64\n",
        "y                           float64\n",
        "image_x                     float64\n",
        "image_y                     float64\n",
        "radius_1                    float64\n",
        "radius_2                    float64\n",
        "distance                    float64\n",
        "angle                       float64\n",
        "spread                      float64\n",
        "dtype: object"
       ]
      }
     ],
     "prompt_number": 6
    },
    {
     "cell_type": "code",
     "collapsed": false,
     "input": [
      "df.acquisition_date = pd.to_datetime(df.acquisition_date)"
     ],
     "language": "python",
     "metadata": {},
     "outputs": [],
     "prompt_number": 7
    },
    {
     "cell_type": "code",
     "collapsed": false,
     "input": [
      "df.dtypes"
     ],
     "language": "python",
     "metadata": {},
     "outputs": [
      {
       "metadata": {},
       "output_type": "pyout",
       "prompt_number": 38,
       "text": [
        "classification_id            object\n",
        "created_at           datetime64[ns]\n",
        "image_id                     object\n",
        "image_name                   object\n",
        "image_url                    object\n",
        "user_name                    object\n",
        "marking                      object\n",
        "x_tile                      float64\n",
        "y_tile                      float64\n",
        "acquisition_date     datetime64[ns]\n",
        "local_mars_time              object\n",
        "x                           float64\n",
        "y                           float64\n",
        "image_x                     float64\n",
        "image_y                     float64\n",
        "radius_1                    float64\n",
        "radius_2                    float64\n",
        "distance                    float64\n",
        "angle                       float64\n",
        "spread                      float64\n",
        "dtype: object"
       ]
      }
     ],
     "prompt_number": 38
    },
    {
     "cell_type": "code",
     "collapsed": false,
     "input": [
      "df.to_hdf?"
     ],
     "language": "python",
     "metadata": {},
     "outputs": [],
     "prompt_number": 39
    },
    {
     "cell_type": "code",
     "collapsed": false,
     "input": [
      "df.to_hdf('/Users/maye/data/marszoo/2013-10-27_planet_four_classifications.h5',\n",
      "          'df')\n",
      "          "
     ],
     "language": "python",
     "metadata": {},
     "outputs": [
      {
       "output_type": "stream",
       "stream": "stderr",
       "text": [
        "/Users/maye/Library/Enthought/Canopy_64bit/User/lib/python2.7/site-packages/pandas-0.12.0_1133_g87d8ded-py2.7-macosx-10.6-x86_64.egg/pandas/io/pytables.py:2339: PerformanceWarning: \n",
        "your performance may suffer as PyTables will pickle object types that it cannot\n",
        "map directly to c-types [inferred_type->mixed,key->block2_values] [items->['classification_id', 'image_id', 'image_name', 'image_url', 'user_name', 'marking', 'local_mars_time']]\n",
        "\n",
        "  warnings.warn(ws, PerformanceWarning)\n"
       ]
      }
     ],
     "prompt_number": 47
    },
    {
     "cell_type": "code",
     "collapsed": false,
     "input": [
      "# data_columns=['image_id','image_name','user_name','marking'])"
     ],
     "language": "python",
     "metadata": {},
     "outputs": [],
     "prompt_number": 43
    }
   ],
   "metadata": {}
  }
 ]
}