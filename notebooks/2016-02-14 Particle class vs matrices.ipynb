{
 "cells": [
  {
   "cell_type": "code",
   "execution_count": null,
   "metadata": {
    "collapsed": true
   },
   "outputs": [],
   "source": [
    "class Particle(object):\n",
    "    def __init__(self, x=0, y=0, z=0):\n",
    "        self.x = x\n",
    "        self.y = y\n",
    "        self.z = z\n",
    "    def __repr__(self):\n",
    "        return \"x={}\\ny={}\\nz={}\".format(self.x, self.y, self.z)\n",
    "    def apply_lateral_wind(self, dx, dy):\n",
    "        self.x += dx\n",
    "        self.y += dy\n",
    "\n",
    "start_values = np.random.random((int(1e6),3))\n",
    "\n",
    "particles = [Particle(*i) for i in start_values]"
   ]
  },
  {
   "cell_type": "code",
   "execution_count": null,
   "metadata": {
    "collapsed": false
   },
   "outputs": [],
   "source": [
    "%timeit _ = [p.apply_lateral_wind(0.5, 1.2) for p in particles]"
   ]
  },
  {
   "cell_type": "code",
   "execution_count": null,
   "metadata": {
    "collapsed": false
   },
   "outputs": [],
   "source": [
    "%timeit start_values[...,:2] += np.array([0.5,1.2])"
   ]
  },
  {
   "cell_type": "code",
   "execution_count": null,
   "metadata": {
    "collapsed": false
   },
   "outputs": [],
   "source": [
    "class NumpyParticle(object):\n",
    "    def __init__(self, coords):\n",
    "        self.coords = coords\n",
    "    @property\n",
    "    def x(self):\n",
    "        return self.coords[0]\n",
    "    @property\n",
    "    def y(self):\n",
    "        return self.coords[1]\n",
    "    @property\n",
    "    def z(self):\n",
    "        return self.coords[2]\n",
    "\n",
    "    def __repr__(self):\n",
    "        return \"x={}\\ny={}\\nz={}\".format(self.x, self.y, self.z)\n",
    "    def apply_lateral_wind(self, dx, dy):\n",
    "        self.coords[0] += dx\n",
    "        self.coords[1] += dy\n",
    "\n",
    "start_values = np.random.random((int(1e6), 3))\n",
    "numpyparticles = [NumpyParticle(i) for i in start_values]"
   ]
  },
  {
   "cell_type": "code",
   "execution_count": null,
   "metadata": {
    "collapsed": false
   },
   "outputs": [],
   "source": [
    "%timeit _ = [p.apply_lateral_wind(0.5, 1.2) for p in numpyparticles]"
   ]
  },
  {
   "cell_type": "code",
   "execution_count": null,
   "metadata": {
    "collapsed": true
   },
   "outputs": [],
   "source": [
    "class Particles(object):\n",
    "    def __init__(self, coords):\n",
    "        self.coords = coords\n",
    "\n",
    "    def __repr__(self):\n",
    "        return \"Particles(coords={})\".format(self.coords)\n",
    "\n",
    "    def apply_lateral_wind(self, dx, dy):\n",
    "        self.coords[:, 0] += dx\n",
    "        self.coords[:, 1] += dy\n",
    "\n",
    "    def apply_lateral_wind2(self, dx, dy):\n",
    "        self.coords[..., :2] += [dx, dy]\n",
    "\n",
    "start_values = np.random.random((int(1e6), 3))        \n",
    "particles = Particles(start_values)"
   ]
  },
  {
   "cell_type": "code",
   "execution_count": null,
   "metadata": {
    "collapsed": false
   },
   "outputs": [],
   "source": [
    "%timeit particles.apply_lateral_wind(0.5, 1.2)"
   ]
  },
  {
   "cell_type": "code",
   "execution_count": null,
   "metadata": {
    "collapsed": false,
    "scrolled": true
   },
   "outputs": [],
   "source": [
    "%timeit particles.apply_lateral_wind2(0.5, 1.2)"
   ]
  },
  {
   "cell_type": "code",
   "execution_count": null,
   "metadata": {
    "collapsed": false
   },
   "outputs": [],
   "source": [
    "import numpy as np\n",
    "from numba import jitclass          # import the decorator\n",
    "from numba import int32, float32, float64    # import the types\n",
    "\n",
    "spec = [\n",
    "    ('x', float32),               # a simple scalar field\n",
    "    ('y', float32),               # a simple scalar field\n",
    "    ('z', float32),               # a simple scalar field\n",
    "]\n",
    "\n",
    "@jitclass(spec)\n",
    "class NumbaParticle(object):\n",
    "    def __init__(self, x, y, z):\n",
    "        self.x = x\n",
    "        self.y = y\n",
    "        self.z = z\n",
    "\n",
    "    def apply_lateral_wind(self, dx, dy):\n",
    "        self.x += dx\n",
    "        self.y += dy"
   ]
  },
  {
   "cell_type": "code",
   "execution_count": null,
   "metadata": {
    "collapsed": false
   },
   "outputs": [],
   "source": [
    "particles = [NumbaParticle(*i) for i in start_values]"
   ]
  },
  {
   "cell_type": "code",
   "execution_count": null,
   "metadata": {
    "collapsed": true
   },
   "outputs": [],
   "source": [
    "start_values = np.random.random((int(1e6), 3))"
   ]
  },
  {
   "cell_type": "code",
   "execution_count": null,
   "metadata": {
    "collapsed": false,
    "scrolled": false
   },
   "outputs": [],
   "source": [
    "spec = [\n",
    "    ('coords', float64[:,:]),\n",
    "]\n",
    "\n",
    "@jitclass(spec)\n",
    "class NumbaParticles(object):\n",
    "    def __init__(self, coords):\n",
    "        self.coords = coords\n",
    "\n",
    "    def apply_lateral_wind(self, dx, dy):\n",
    "        self.coords[:, 0] += dx\n",
    "        self.coords[:, 1] += dy\n",
    "\n",
    "    def apply_lateral_wind2(self, dx, dy):\n",
    "        self.coords[:, :2] += np.array([dx, dy], dtype=float64)"
   ]
  },
  {
   "cell_type": "code",
   "execution_count": null,
   "metadata": {
    "collapsed": false,
    "scrolled": false
   },
   "outputs": [],
   "source": [
    "particles = NumbaParticles(start_values)"
   ]
  },
  {
   "cell_type": "code",
   "execution_count": null,
   "metadata": {
    "collapsed": false
   },
   "outputs": [],
   "source": [
    "%timeit particles.apply_lateral_wind(0.5, 1.2)"
   ]
  },
  {
   "cell_type": "code",
   "execution_count": null,
   "metadata": {
    "collapsed": false,
    "scrolled": false
   },
   "outputs": [],
   "source": [
    "%timeit particles.apply_lateral_wind2(0.5, 1.2)"
   ]
  },
  {
   "cell_type": "code",
   "execution_count": null,
   "metadata": {
    "collapsed": true
   },
   "outputs": [],
   "source": [
    "from planet4 import io"
   ]
  },
  {
   "cell_type": "code",
   "execution_count": null,
   "metadata": {
    "collapsed": true
   },
   "outputs": [],
   "source": [
    "db = io.DBManager()"
   ]
  },
  {
   "cell_type": "code",
   "execution_count": null,
   "metadata": {
    "collapsed": false
   },
   "outputs": [],
   "source": [
    "data = db.get_image_name_markings(\"PSP_003092_0985\")"
   ]
  },
  {
   "cell_type": "code",
   "execution_count": null,
   "metadata": {
    "collapsed": true
   },
   "outputs": [],
   "source": [
    "blotches = data[data.marking=='blotch']"
   ]
  },
  {
   "cell_type": "code",
   "execution_count": null,
   "metadata": {
    "collapsed": false
   },
   "outputs": [],
   "source": [
    "blotches[(blotches.radius_1<10) | (blotches.radius_2<10)]"
   ]
  },
  {
   "cell_type": "code",
   "execution_count": null,
   "metadata": {
    "collapsed": true
   },
   "outputs": [],
   "source": [
    "%matplotlib inline"
   ]
  },
  {
   "cell_type": "code",
   "execution_count": null,
   "metadata": {
    "collapsed": false
   },
   "outputs": [],
   "source": [
    "blotches[blotches.radius_2 <20].radius_1.hist(bins=100)"
   ]
  },
  {
   "cell_type": "code",
   "execution_count": null,
   "metadata": {
    "collapsed": false
   },
   "outputs": [],
   "source": [
    "fans = data[data.marking=='fan']"
   ]
  },
  {
   "cell_type": "code",
   "execution_count": null,
   "metadata": {
    "collapsed": false
   },
   "outputs": [],
   "source": [
    "fans.columns"
   ]
  },
  {
   "cell_type": "code",
   "execution_count": null,
   "metadata": {
    "collapsed": false
   },
   "outputs": [],
   "source": [
    "plt.figure()\n",
    "fans[fans.distance<50].distance.value_counts()"
   ]
  },
  {
   "cell_type": "code",
   "execution_count": null,
   "metadata": {
    "collapsed": false
   },
   "outputs": [],
   "source": [
    "fans.angle.hist(bins=100)"
   ]
  },
  {
   "cell_type": "code",
   "execution_count": null,
   "metadata": {
    "collapsed": false
   },
   "outputs": [],
   "source": [
    "fans.columns"
   ]
  },
  {
   "cell_type": "code",
   "execution_count": null,
   "metadata": {
    "collapsed": false
   },
   "outputs": [],
   "source": [
    "fans[fans.spread<50].spread.hist(bins=100)"
   ]
  },
  {
   "cell_type": "code",
   "execution_count": null,
   "metadata": {
    "collapsed": false
   },
   "outputs": [],
   "source": [
    "fans[fans.spread<50].spread.value_counts().head()"
   ]
  },
  {
   "cell_type": "code",
   "execution_count": null,
   "metadata": {
    "collapsed": false
   },
   "outputs": [],
   "source": [
    "fans[fans.spread<10].distance.hist(bins=50)"
   ]
  },
  {
   "cell_type": "code",
   "execution_count": null,
   "metadata": {
    "collapsed": true
   },
   "outputs": [],
   "source": []
  }
 ],
 "metadata": {
  "kernelspec": {
   "display_name": "Python 3",
   "language": "python",
   "name": "python3"
  },
  "language_info": {
   "codemirror_mode": {
    "name": "ipython",
    "version": 3
   },
   "file_extension": ".py",
   "mimetype": "text/x-python",
   "name": "python",
   "nbconvert_exporter": "python",
   "pygments_lexer": "ipython3",
   "version": "3.5.1"
  }
 },
 "nbformat": 4,
 "nbformat_minor": 0
}
