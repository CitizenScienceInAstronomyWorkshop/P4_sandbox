{
 "metadata": {
  "name": "",
  "signature": "sha256:736517027848ce84c054e0282c848e45690eb9c6f94949852ecf8380e38d66b9"
 },
 "nbformat": 3,
 "nbformat_minor": 0,
 "worksheets": [
  {
   "cells": [
    {
     "cell_type": "code",
     "collapsed": false,
     "input": [
      "import planet4 as p4"
     ],
     "language": "python",
     "metadata": {},
     "outputs": [],
     "prompt_number": 1
    },
    {
     "cell_type": "code",
     "collapsed": false,
     "input": [
      "from planet4.get_data import get_current_database_fname"
     ],
     "language": "python",
     "metadata": {},
     "outputs": [],
     "prompt_number": 2
    },
    {
     "cell_type": "code",
     "collapsed": false,
     "input": [
      "dbfile = get_current_database_fname()"
     ],
     "language": "python",
     "metadata": {},
     "outputs": [],
     "prompt_number": 3
    },
    {
     "cell_type": "code",
     "collapsed": false,
     "input": [
      "store = pd.HDFStore(dbfile)"
     ],
     "language": "python",
     "metadata": {},
     "outputs": [],
     "prompt_number": 4
    },
    {
     "cell_type": "code",
     "collapsed": false,
     "input": [
      "store"
     ],
     "language": "python",
     "metadata": {},
     "outputs": [
      {
       "metadata": {},
       "output_type": "pyout",
       "prompt_number": 5,
       "text": [
        "<class 'pandas.io.pytables.HDFStore'>\n",
        "File path: /Users/maye/data/planet4/2014-10-26_planet_four_classifications_queryable.h5\n",
        "/df            frame_table  (typ->appendable,nrows->11658115,ncols->22,indexers->[index],dc->[classification_id,image_id,image_name,user_name,marking,acquisition_date,local_mars_time])"
       ]
      }
     ],
     "prompt_number": 5
    },
    {
     "cell_type": "code",
     "collapsed": false,
     "input": [
      "data = pd.read_hdf(dbfile, 'df', where=\"image_name=ESP_011623_0985\")"
     ],
     "language": "python",
     "metadata": {},
     "outputs": [],
     "prompt_number": 10
    },
    {
     "cell_type": "code",
     "collapsed": false,
     "input": [
      "img_ids = data.image_id.unique()"
     ],
     "language": "python",
     "metadata": {},
     "outputs": [],
     "prompt_number": 11
    },
    {
     "cell_type": "code",
     "collapsed": false,
     "input": [
      "img_ids.shape"
     ],
     "language": "python",
     "metadata": {},
     "outputs": [
      {
       "metadata": {},
       "output_type": "pyout",
       "prompt_number": 12,
       "text": [
        "(108,)"
       ]
      }
     ],
     "prompt_number": 12
    },
    {
     "cell_type": "code",
     "collapsed": false,
     "input": [
      "from planet4 import markings"
     ],
     "language": "python",
     "metadata": {},
     "outputs": [],
     "prompt_number": 13
    },
    {
     "cell_type": "code",
     "collapsed": false,
     "input": [
      "from planet4 import clustering\n",
      "reload(clustering)\n",
      "def cluster_p4_id(image_id):\n",
      "    imgid = markings.ImageID(image_id)\n",
      "    reduced_blotches = clustering.perform_dbscan(imgid.get_blotches())\n",
      "    series = [b.data for b in reduced_blotches]\n",
      "    df = pd.DataFrame(series)\n",
      "    df['image_id'] = image_id\n",
      "    return df"
     ],
     "language": "python",
     "metadata": {},
     "outputs": [],
     "prompt_number": 14
    },
    {
     "cell_type": "code",
     "collapsed": false,
     "input": [
      "results = []\n",
      "for img_id in img_ids:\n",
      "    print img_id\n",
      "    results.append(cluster_p4_id(img_id))"
     ],
     "language": "python",
     "metadata": {},
     "outputs": [
      {
       "output_type": "stream",
       "stream": "stdout",
       "text": [
        "APF00001r0\n",
        "Estimated number of clusters:"
       ]
      },
      {
       "output_type": "stream",
       "stream": "stdout",
       "text": [
        " 10\n",
        "APF00001qv\n",
        "Estimated number of clusters:"
       ]
      },
      {
       "output_type": "stream",
       "stream": "stdout",
       "text": [
        " 12\n",
        "APF00001rk\n",
        "Estimated number of clusters:"
       ]
      },
      {
       "output_type": "stream",
       "stream": "stdout",
       "text": [
        " 14\n",
        "APF00001su\n",
        "Estimated number of clusters:"
       ]
      },
      {
       "output_type": "stream",
       "stream": "stdout",
       "text": [
        " 4\n",
        "APF00001qs\n",
        "Estimated number of clusters:"
       ]
      },
      {
       "output_type": "stream",
       "stream": "stdout",
       "text": [
        " 5\n",
        "APF00001qp\n",
        "Estimated number of clusters:"
       ]
      },
      {
       "output_type": "stream",
       "stream": "stdout",
       "text": [
        " 11\n",
        "APF00001sa\n",
        "Estimated number of clusters:"
       ]
      },
      {
       "output_type": "stream",
       "stream": "stdout",
       "text": [
        " 19\n",
        "APF00001t1\n",
        "Estimated number of clusters:"
       ]
      },
      {
       "output_type": "stream",
       "stream": "stdout",
       "text": [
        " 12\n",
        "APF00001s4\n",
        "Estimated number of clusters:"
       ]
      },
      {
       "output_type": "stream",
       "stream": "stdout",
       "text": [
        " 2\n",
        "APF00001rs\n",
        "Estimated number of clusters:"
       ]
      },
      {
       "output_type": "stream",
       "stream": "stdout",
       "text": [
        " 21\n",
        "APF00001r6\n",
        "Estimated number of clusters:"
       ]
      },
      {
       "output_type": "stream",
       "stream": "stdout",
       "text": [
        " 10\n",
        "APF00001rl\n",
        "Estimated number of clusters:"
       ]
      },
      {
       "output_type": "stream",
       "stream": "stdout",
       "text": [
        " 4\n",
        "APF00001rv\n",
        "Estimated number of clusters:"
       ]
      },
      {
       "output_type": "stream",
       "stream": "stdout",
       "text": [
        " 6\n",
        "APF00001sx\n",
        "Estimated number of clusters:"
       ]
      },
      {
       "output_type": "stream",
       "stream": "stdout",
       "text": [
        " 3\n",
        "APF00001rh\n",
        "Estimated number of clusters:"
       ]
      },
      {
       "output_type": "stream",
       "stream": "stdout",
       "text": [
        " 8\n",
        "APF00001ql\n",
        "Estimated number of clusters:"
       ]
      },
      {
       "output_type": "stream",
       "stream": "stdout",
       "text": [
        " 10\n",
        "APF00001sh\n",
        "Estimated number of clusters:"
       ]
      },
      {
       "output_type": "stream",
       "stream": "stdout",
       "text": [
        " 10\n",
        "APF00001sr\n",
        "Estimated number of clusters:"
       ]
      },
      {
       "output_type": "stream",
       "stream": "stdout",
       "text": [
        " 12\n",
        "APF00001qk\n",
        "Estimated number of clusters:"
       ]
      },
      {
       "output_type": "stream",
       "stream": "stdout",
       "text": [
        " 10\n",
        "APF00001r1\n",
        "Estimated number of clusters:"
       ]
      },
      {
       "output_type": "stream",
       "stream": "stdout",
       "text": [
        " 5\n",
        "APF00001s7\n",
        "Estimated number of clusters:"
       ]
      },
      {
       "output_type": "stream",
       "stream": "stdout",
       "text": [
        " 9\n",
        "APF00001s0\n",
        "Estimated number of clusters:"
       ]
      },
      {
       "output_type": "stream",
       "stream": "stdout",
       "text": [
        " 5\n",
        "APF00001sd\n",
        "Estimated number of clusters:"
       ]
      },
      {
       "output_type": "stream",
       "stream": "stdout",
       "text": [
        " 14\n",
        "APF00001qu\n",
        "Estimated number of clusters:"
       ]
      },
      {
       "output_type": "stream",
       "stream": "stdout",
       "text": [
        " 11\n",
        "APF00001sn\n",
        "Estimated number of clusters:"
       ]
      },
      {
       "output_type": "stream",
       "stream": "stdout",
       "text": [
        " 12\n",
        "APF00001st\n",
        "Estimated number of clusters:"
       ]
      },
      {
       "output_type": "stream",
       "stream": "stdout",
       "text": [
        " 13\n",
        "APF00001rz\n",
        "Estimated number of clusters:"
       ]
      },
      {
       "output_type": "stream",
       "stream": "stdout",
       "text": [
        " 11\n",
        "APF00001s3\n",
        "Estimated number of clusters:"
       ]
      },
      {
       "output_type": "stream",
       "stream": "stdout",
       "text": [
        " 8\n",
        "APF00001qx\n",
        "Estimated number of clusters:"
       ]
      },
      {
       "output_type": "stream",
       "stream": "stdout",
       "text": [
        " 6\n",
        "APF00001ss\n",
        "Estimated number of clusters:"
       ]
      },
      {
       "output_type": "stream",
       "stream": "stdout",
       "text": [
        " 5\n",
        "APF00001q6\n",
        "Estimated number of clusters:"
       ]
      },
      {
       "output_type": "stream",
       "stream": "stdout",
       "text": [
        " 15\n",
        "APF00001rc\n",
        "Estimated number of clusters:"
       ]
      },
      {
       "output_type": "stream",
       "stream": "stdout",
       "text": [
        " 18\n",
        "APF00001rq\n",
        "Estimated number of clusters:"
       ]
      },
      {
       "output_type": "stream",
       "stream": "stdout",
       "text": [
        " 3\n",
        "APF00001rp\n",
        "Estimated number of clusters:"
       ]
      },
      {
       "output_type": "stream",
       "stream": "stdout",
       "text": [
        " 23\n",
        "APF00001r8\n",
        "Estimated number of clusters:"
       ]
      },
      {
       "output_type": "stream",
       "stream": "stdout",
       "text": [
        " 19\n",
        "APF00001rb\n",
        "Estimated number of clusters:"
       ]
      },
      {
       "output_type": "stream",
       "stream": "stdout",
       "text": [
        " 12\n",
        "APF00001sz\n",
        "Estimated number of clusters:"
       ]
      },
      {
       "output_type": "stream",
       "stream": "stdout",
       "text": [
        " 8\n",
        "APF00001sq\n",
        "Estimated number of clusters:"
       ]
      },
      {
       "output_type": "stream",
       "stream": "stdout",
       "text": [
        " 23\n",
        "APF00001sc\n",
        "Estimated number of clusters:"
       ]
      },
      {
       "output_type": "stream",
       "stream": "stdout",
       "text": [
        " 19\n",
        "APF00001qf\n",
        "Estimated number of clusters:"
       ]
      },
      {
       "output_type": "stream",
       "stream": "stdout",
       "text": [
        " 12\n",
        "APF00001q2\n",
        "Estimated number of clusters:"
       ]
      },
      {
       "output_type": "stream",
       "stream": "stdout",
       "text": [
        " 4\n",
        "APF00001sb\n",
        "Estimated number of clusters:"
       ]
      },
      {
       "output_type": "stream",
       "stream": "stdout",
       "text": [
        " 9\n",
        "APF00001t0\n",
        "Estimated number of clusters:"
       ]
      },
      {
       "output_type": "stream",
       "stream": "stdout",
       "text": [
        " 16\n",
        "APF00001r7\n",
        "Estimated number of clusters:"
       ]
      },
      {
       "output_type": "stream",
       "stream": "stdout",
       "text": [
        " 18\n",
        "APF00001q7\n",
        "Estimated number of clusters:"
       ]
      },
      {
       "output_type": "stream",
       "stream": "stdout",
       "text": [
        " 21\n",
        "APF00001sl\n",
        "Estimated number of clusters:"
       ]
      },
      {
       "output_type": "stream",
       "stream": "stdout",
       "text": [
        " 5\n",
        "APF00001q5\n",
        "Estimated number of clusters:"
       ]
      },
      {
       "output_type": "stream",
       "stream": "stdout",
       "text": [
        " 2\n",
        "APF00001ri\n",
        "Estimated number of clusters:"
       ]
      },
      {
       "output_type": "stream",
       "stream": "stdout",
       "text": [
        " 20\n",
        "APF00001r5\n",
        "Estimated number of clusters:"
       ]
      },
      {
       "output_type": "stream",
       "stream": "stdout",
       "text": [
        " 1\n",
        "APF00001qw\n",
        "Estimated number of clusters:"
       ]
      },
      {
       "output_type": "stream",
       "stream": "stdout",
       "text": [
        " 18\n",
        "APF00001rm\n",
        "Estimated number of clusters:"
       ]
      },
      {
       "output_type": "stream",
       "stream": "stdout",
       "text": [
        " 6\n",
        "APF00001qg\n",
        "Estimated number of clusters:"
       ]
      },
      {
       "output_type": "stream",
       "stream": "stdout",
       "text": [
        " 7\n",
        "APF00001q4\n",
        "Estimated number of clusters:"
       ]
      },
      {
       "output_type": "stream",
       "stream": "stdout",
       "text": [
        " 21\n",
        "APF00001qz\n",
        "Estimated number of clusters:"
       ]
      },
      {
       "output_type": "stream",
       "stream": "stdout",
       "text": [
        " 3\n",
        "APF00001sf\n",
        "Estimated number of clusters:"
       ]
      },
      {
       "output_type": "stream",
       "stream": "stdout",
       "text": [
        " 13\n",
        "APF00001sg\n",
        "Estimated number of clusters:"
       ]
      },
      {
       "output_type": "stream",
       "stream": "stdout",
       "text": [
        " 19\n",
        "APF00001qb\n",
        "Estimated number of clusters:"
       ]
      },
      {
       "output_type": "stream",
       "stream": "stdout",
       "text": [
        " 6\n",
        "APF00001ra\n",
        "Estimated number of clusters:"
       ]
      },
      {
       "output_type": "stream",
       "stream": "stdout",
       "text": [
        " 4\n",
        "APF00001q3\n",
        "Estimated number of clusters:"
       ]
      },
      {
       "output_type": "stream",
       "stream": "stdout",
       "text": [
        " 23\n",
        "APF00001qj\n",
        "Estimated number of clusters:"
       ]
      },
      {
       "output_type": "stream",
       "stream": "stdout",
       "text": [
        " 17\n",
        "APF00001se\n",
        "Estimated number of clusters:"
       ]
      },
      {
       "output_type": "stream",
       "stream": "stdout",
       "text": [
        " 9\n",
        "APF00001rf\n",
        "Estimated number of clusters:"
       ]
      },
      {
       "output_type": "stream",
       "stream": "stdout",
       "text": [
        " 18\n",
        "APF00001qy\n",
        "Estimated number of clusters:"
       ]
      },
      {
       "output_type": "stream",
       "stream": "stdout",
       "text": [
        " 9\n",
        "APF00001so\n",
        "Estimated number of clusters:"
       ]
      },
      {
       "output_type": "stream",
       "stream": "stdout",
       "text": [
        " 3\n",
        "APF00001rt\n",
        "Estimated number of clusters:"
       ]
      },
      {
       "output_type": "stream",
       "stream": "stdout",
       "text": [
        " 28\n",
        "APF00001r9\n",
        "Estimated number of clusters:"
       ]
      },
      {
       "output_type": "stream",
       "stream": "stdout",
       "text": [
        " 11\n",
        "APF00001rr\n",
        "Estimated number of clusters:"
       ]
      },
      {
       "output_type": "stream",
       "stream": "stdout",
       "text": [
        " 12\n",
        "APF00001re\n",
        "Estimated number of clusters:"
       ]
      },
      {
       "output_type": "stream",
       "stream": "stdout",
       "text": [
        " 34\n",
        "APF00001s2\n",
        "Estimated number of clusters:"
       ]
      },
      {
       "output_type": "stream",
       "stream": "stdout",
       "text": [
        " 4\n",
        "APF00001s9\n",
        "Estimated number of clusters:"
       ]
      },
      {
       "output_type": "stream",
       "stream": "stdout",
       "text": [
        " 31\n",
        "APF00001rj\n",
        "Estimated number of clusters:"
       ]
      },
      {
       "output_type": "stream",
       "stream": "stdout",
       "text": [
        " 19\n",
        "APF00001ru\n",
        "Estimated number of clusters:"
       ]
      },
      {
       "output_type": "stream",
       "stream": "stdout",
       "text": [
        " 18\n",
        "APF00001s8\n",
        "Estimated number of clusters:"
       ]
      },
      {
       "output_type": "stream",
       "stream": "stdout",
       "text": [
        " 18\n",
        "APF00001s1\n",
        "Estimated number of clusters:"
       ]
      },
      {
       "output_type": "stream",
       "stream": "stdout",
       "text": [
        " 3\n",
        "APF00001qc\n",
        "Estimated number of clusters:"
       ]
      },
      {
       "output_type": "stream",
       "stream": "stdout",
       "text": [
        " 6\n",
        "APF00001qn\n",
        "Estimated number of clusters:"
       ]
      },
      {
       "output_type": "stream",
       "stream": "stdout",
       "text": [
        " 17\n",
        "APF00001qm\n",
        "Estimated number of clusters:"
       ]
      },
      {
       "output_type": "stream",
       "stream": "stdout",
       "text": [
        " 6\n",
        "APF00001qr\n",
        "Estimated number of clusters:"
       ]
      },
      {
       "output_type": "stream",
       "stream": "stdout",
       "text": [
        " 7\n",
        "APF00001sk\n",
        "Estimated number of clusters:"
       ]
      },
      {
       "output_type": "stream",
       "stream": "stdout",
       "text": [
        " 3\n",
        "APF00001sy\n",
        "Estimated number of clusters:"
       ]
      },
      {
       "output_type": "stream",
       "stream": "stdout",
       "text": [
        " 1\n",
        "APF00001ry\n",
        "Estimated number of clusters:"
       ]
      },
      {
       "output_type": "stream",
       "stream": "stdout",
       "text": [
        " 13\n",
        "APF00001qa\n",
        "Estimated number of clusters:"
       ]
      },
      {
       "output_type": "stream",
       "stream": "stdout",
       "text": [
        " 4\n",
        "APF00001r2\n",
        "Estimated number of clusters:"
       ]
      },
      {
       "output_type": "stream",
       "stream": "stdout",
       "text": [
        " 3\n",
        "APF00001rw\n",
        "Estimated number of clusters:"
       ]
      },
      {
       "output_type": "stream",
       "stream": "stdout",
       "text": [
        " 13\n",
        "APF00001s6\n",
        "Estimated number of clusters:"
       ]
      },
      {
       "output_type": "stream",
       "stream": "stdout",
       "text": [
        " 9\n",
        "APF00001qq\n",
        "Estimated number of clusters:"
       ]
      },
      {
       "output_type": "stream",
       "stream": "stdout",
       "text": [
        " 10\n",
        "APF00001sj\n",
        "Estimated number of clusters:"
       ]
      },
      {
       "output_type": "stream",
       "stream": "stdout",
       "text": [
        " 11\n",
        "APF00001sw\n",
        "Estimated number of clusters:"
       ]
      },
      {
       "output_type": "stream",
       "stream": "stdout",
       "text": [
        " 3\n",
        "APF00001rx\n",
        "Estimated number of clusters:"
       ]
      },
      {
       "output_type": "stream",
       "stream": "stdout",
       "text": [
        " 11\n",
        "APF00001q9\n",
        "Estimated number of clusters:"
       ]
      },
      {
       "output_type": "stream",
       "stream": "stdout",
       "text": [
        " 9\n",
        "APF00001q8\n",
        "Estimated number of clusters:"
       ]
      },
      {
       "output_type": "stream",
       "stream": "stdout",
       "text": [
        " 9\n",
        "APF00001qe\n",
        "Estimated number of clusters:"
       ]
      },
      {
       "output_type": "stream",
       "stream": "stdout",
       "text": [
        " 15\n",
        "APF00001sm\n",
        "Estimated number of clusters:"
       ]
      },
      {
       "output_type": "stream",
       "stream": "stdout",
       "text": [
        " 7\n",
        "APF00001qi\n",
        "Estimated number of clusters:"
       ]
      },
      {
       "output_type": "stream",
       "stream": "stdout",
       "text": [
        " 7\n",
        "APF00001r3\n",
        "Estimated number of clusters:"
       ]
      },
      {
       "output_type": "stream",
       "stream": "stdout",
       "text": [
        " 10\n",
        "APF00001s5\n",
        "Estimated number of clusters:"
       ]
      },
      {
       "output_type": "stream",
       "stream": "stdout",
       "text": [
        " 7\n",
        "APF00001sp\n",
        "Estimated number of clusters:"
       ]
      },
      {
       "output_type": "stream",
       "stream": "stdout",
       "text": [
        " 13\n",
        "APF00001rn\n",
        "Estimated number of clusters:"
       ]
      },
      {
       "output_type": "stream",
       "stream": "stdout",
       "text": [
        " 3\n",
        "APF00001rd\n",
        "Estimated number of clusters:"
       ]
      },
      {
       "output_type": "stream",
       "stream": "stdout",
       "text": [
        " 3\n",
        "APF00001ro\n",
        "Estimated number of clusters:"
       ]
      },
      {
       "output_type": "stream",
       "stream": "stdout",
       "text": [
        " 10\n",
        "APF00001si\n",
        "Estimated number of clusters:"
       ]
      },
      {
       "output_type": "stream",
       "stream": "stdout",
       "text": [
        " 21\n",
        "APF00001qd\n",
        "Estimated number of clusters:"
       ]
      },
      {
       "output_type": "stream",
       "stream": "stdout",
       "text": [
        " 8\n",
        "APF00001qo\n",
        "Estimated number of clusters:"
       ]
      },
      {
       "output_type": "stream",
       "stream": "stdout",
       "text": [
        " 8\n",
        "APF00001rg\n",
        "Estimated number of clusters:"
       ]
      },
      {
       "output_type": "stream",
       "stream": "stdout",
       "text": [
        " 5\n",
        "APF00001qh\n",
        "Estimated number of clusters:"
       ]
      },
      {
       "output_type": "stream",
       "stream": "stdout",
       "text": [
        " 0\n",
        "APF00001qt\n",
        "Estimated number of clusters:"
       ]
      },
      {
       "output_type": "stream",
       "stream": "stdout",
       "text": [
        " 10\n",
        "APF00001r4\n",
        "Estimated number of clusters:"
       ]
      },
      {
       "output_type": "stream",
       "stream": "stdout",
       "text": [
        " 8\n",
        "APF00001sv\n",
        "Estimated number of clusters:"
       ]
      },
      {
       "output_type": "stream",
       "stream": "stdout",
       "text": [
        " 15\n"
       ]
      }
     ],
     "prompt_number": 15
    },
    {
     "cell_type": "code",
     "collapsed": false,
     "input": [
      "len(results)"
     ],
     "language": "python",
     "metadata": {},
     "outputs": [
      {
       "metadata": {},
       "output_type": "pyout",
       "prompt_number": 16,
       "text": [
        "108"
       ]
      }
     ],
     "prompt_number": 16
    },
    {
     "cell_type": "code",
     "collapsed": false,
     "input": [
      "image_name_blotches = pd.concat(results, ignore_index=True)"
     ],
     "language": "python",
     "metadata": {},
     "outputs": [],
     "prompt_number": 17
    },
    {
     "cell_type": "code",
     "collapsed": false,
     "input": [
      "image_name_blotches.to_csv('ESP_011623_0985_reduced_blotches.csv')"
     ],
     "language": "python",
     "metadata": {},
     "outputs": [],
     "prompt_number": 18
    },
    {
     "cell_type": "code",
     "collapsed": false,
     "input": [
      "pwd"
     ],
     "language": "python",
     "metadata": {},
     "outputs": [
      {
       "metadata": {},
       "output_type": "pyout",
       "prompt_number": 19,
       "text": [
        "u'/Users/maye/Dropbox/src/P4_sandbox'"
       ]
      }
     ],
     "prompt_number": 19
    },
    {
     "cell_type": "code",
     "collapsed": false,
     "input": [
      "p4id = markings.ImageID(img_ids[0])"
     ],
     "language": "python",
     "metadata": {},
     "outputs": [],
     "prompt_number": 73
    },
    {
     "cell_type": "code",
     "collapsed": false,
     "input": [
      "p4id.get_blotches()"
     ],
     "language": "python",
     "metadata": {},
     "outputs": [
      {
       "html": [
        "<div style=\"max-height:1000px;max-width:1500px;overflow:auto;\">\n",
        "<table border=\"1\" class=\"dataframe\">\n",
        "  <thead>\n",
        "    <tr style=\"text-align: right;\">\n",
        "      <th></th>\n",
        "      <th>classification_id</th>\n",
        "      <th>created_at</th>\n",
        "      <th>image_id</th>\n",
        "      <th>image_name</th>\n",
        "      <th>image_url</th>\n",
        "      <th>user_name</th>\n",
        "      <th>marking</th>\n",
        "      <th>x_tile</th>\n",
        "      <th>y_tile</th>\n",
        "      <th>acquisition_date</th>\n",
        "      <th>...</th>\n",
        "      <th>y</th>\n",
        "      <th>image_x</th>\n",
        "      <th>image_y</th>\n",
        "      <th>radius_1</th>\n",
        "      <th>radius_2</th>\n",
        "      <th>distance</th>\n",
        "      <th>angle</th>\n",
        "      <th>spread</th>\n",
        "      <th>version</th>\n",
        "      <th>user_agent</th>\n",
        "    </tr>\n",
        "  </thead>\n",
        "  <tbody>\n",
        "    <tr>\n",
        "      <th>9497790 </th>\n",
        "      <td> 51482c50a202b404ca001b48</td>\n",
        "      <td>2013-03-19 09:13:52</td>\n",
        "      <td> APF0000zm4</td>\n",
        "      <td> PSP_003092_0985</td>\n",
        "      <td> http://www.planetfour.org/subjects/standard/51...</td>\n",
        "      <td> not-logged-in-e4a38c790985f02673a3d2e33c5a0a19</td>\n",
        "      <td> blotch</td>\n",
        "      <td> 5</td>\n",
        "      <td> 45</td>\n",
        "      <td>2007-03-25</td>\n",
        "      <td>...</td>\n",
        "      <td> 271.000000</td>\n",
        "      <td> 3284.000000</td>\n",
        "      <td> 24383.000000</td>\n",
        "      <td> 10.000000</td>\n",
        "      <td> 10.000000</td>\n",
        "      <td>NaN</td>\n",
        "      <td>   0.000000</td>\n",
        "      <td>NaN</td>\n",
        "      <td>NaN</td>\n",
        "      <td> Mozilla/5.0 (Macintosh; Intel Mac OS X 10_6_8)...</td>\n",
        "    </tr>\n",
        "    <tr>\n",
        "      <th>9497791 </th>\n",
        "      <td> 51482c50a202b404ca001b48</td>\n",
        "      <td>2013-03-19 09:13:52</td>\n",
        "      <td> APF0000zm4</td>\n",
        "      <td> PSP_003092_0985</td>\n",
        "      <td> http://www.planetfour.org/subjects/standard/51...</td>\n",
        "      <td> not-logged-in-e4a38c790985f02673a3d2e33c5a0a19</td>\n",
        "      <td> blotch</td>\n",
        "      <td> 5</td>\n",
        "      <td> 45</td>\n",
        "      <td>2007-03-25</td>\n",
        "      <td>...</td>\n",
        "      <td> 543.000000</td>\n",
        "      <td> 3504.000000</td>\n",
        "      <td> 24655.000000</td>\n",
        "      <td> 18.788294</td>\n",
        "      <td> 17.000000</td>\n",
        "      <td>NaN</td>\n",
        "      <td> -61.927513</td>\n",
        "      <td>NaN</td>\n",
        "      <td>NaN</td>\n",
        "      <td> Mozilla/5.0 (Macintosh; Intel Mac OS X 10_6_8)...</td>\n",
        "    </tr>\n",
        "    <tr>\n",
        "      <th>9537290 </th>\n",
        "      <td> 514b67b4a202b4039700c335</td>\n",
        "      <td>2013-03-21 20:04:05</td>\n",
        "      <td> APF0000zm4</td>\n",
        "      <td> PSP_003092_0985</td>\n",
        "      <td> http://www.planetfour.org/subjects/standard/51...</td>\n",
        "      <td> not-logged-in-9ff7d8c6ed053af6802f084ca76f863f</td>\n",
        "      <td> blotch</td>\n",
        "      <td> 5</td>\n",
        "      <td> 45</td>\n",
        "      <td>2007-03-25</td>\n",
        "      <td>...</td>\n",
        "      <td> 266.000000</td>\n",
        "      <td> 3280.000000</td>\n",
        "      <td> 24378.000000</td>\n",
        "      <td> 10.000000</td>\n",
        "      <td> 10.000000</td>\n",
        "      <td>NaN</td>\n",
        "      <td>-135.000000</td>\n",
        "      <td>NaN</td>\n",
        "      <td>NaN</td>\n",
        "      <td> Mozilla/5.0 (Windows NT 6.0) AppleWebKit/537.2...</td>\n",
        "    </tr>\n",
        "    <tr>\n",
        "      <th>9537291 </th>\n",
        "      <td> 514b67b4a202b4039700c335</td>\n",
        "      <td>2013-03-21 20:04:05</td>\n",
        "      <td> APF0000zm4</td>\n",
        "      <td> PSP_003092_0985</td>\n",
        "      <td> http://www.planetfour.org/subjects/standard/51...</td>\n",
        "      <td> not-logged-in-9ff7d8c6ed053af6802f084ca76f863f</td>\n",
        "      <td> blotch</td>\n",
        "      <td> 5</td>\n",
        "      <td> 45</td>\n",
        "      <td>2007-03-25</td>\n",
        "      <td>...</td>\n",
        "      <td> 542.000000</td>\n",
        "      <td> 3508.000000</td>\n",
        "      <td> 24654.000000</td>\n",
        "      <td> 13.152946</td>\n",
        "      <td> 10.000000</td>\n",
        "      <td>NaN</td>\n",
        "      <td> -98.746162</td>\n",
        "      <td>NaN</td>\n",
        "      <td>NaN</td>\n",
        "      <td> Mozilla/5.0 (Windows NT 6.0) AppleWebKit/537.2...</td>\n",
        "    </tr>\n",
        "    <tr>\n",
        "      <th>9760165 </th>\n",
        "      <td> 515dca1a80b0df03d3006878</td>\n",
        "      <td>2013-04-04 18:44:41</td>\n",
        "      <td> APF0000zm4</td>\n",
        "      <td> PSP_003092_0985</td>\n",
        "      <td> http://www.planetfour.org/subjects/standard/51...</td>\n",
        "      <td>                                       Stingwel</td>\n",
        "      <td> blotch</td>\n",
        "      <td> 5</td>\n",
        "      <td> 45</td>\n",
        "      <td>2007-03-25</td>\n",
        "      <td>...</td>\n",
        "      <td> 267.000000</td>\n",
        "      <td> 3281.500000</td>\n",
        "      <td> 24379.000000</td>\n",
        "      <td> 36.619667</td>\n",
        "      <td> 27.464750</td>\n",
        "      <td>NaN</td>\n",
        "      <td>  34.992020</td>\n",
        "      <td>NaN</td>\n",
        "      <td>NaN</td>\n",
        "      <td> Mozilla/5.0 (Windows NT 6.1; WOW64; rv:19.0) G...</td>\n",
        "    </tr>\n",
        "    <tr>\n",
        "      <th>9760166 </th>\n",
        "      <td> 515dca1a80b0df03d3006878</td>\n",
        "      <td>2013-04-04 18:44:41</td>\n",
        "      <td> APF0000zm4</td>\n",
        "      <td> PSP_003092_0985</td>\n",
        "      <td> http://www.planetfour.org/subjects/standard/51...</td>\n",
        "      <td>                                       Stingwel</td>\n",
        "      <td> blotch</td>\n",
        "      <td> 5</td>\n",
        "      <td> 45</td>\n",
        "      <td>2007-03-25</td>\n",
        "      <td>...</td>\n",
        "      <td> 537.000000</td>\n",
        "      <td> 3499.500000</td>\n",
        "      <td> 24649.000000</td>\n",
        "      <td> 43.566042</td>\n",
        "      <td> 32.674531</td>\n",
        "      <td>NaN</td>\n",
        "      <td>  58.134022</td>\n",
        "      <td>NaN</td>\n",
        "      <td>NaN</td>\n",
        "      <td> Mozilla/5.0 (Windows NT 6.1; WOW64; rv:19.0) G...</td>\n",
        "    </tr>\n",
        "    <tr>\n",
        "      <th>9760167 </th>\n",
        "      <td> 515dca1a80b0df03d3006878</td>\n",
        "      <td>2013-04-04 18:44:41</td>\n",
        "      <td> APF0000zm4</td>\n",
        "      <td> PSP_003092_0985</td>\n",
        "      <td> http://www.planetfour.org/subjects/standard/51...</td>\n",
        "      <td>                                       Stingwel</td>\n",
        "      <td> blotch</td>\n",
        "      <td> 5</td>\n",
        "      <td> 45</td>\n",
        "      <td>2007-03-25</td>\n",
        "      <td>...</td>\n",
        "      <td> 620.000000</td>\n",
        "      <td> 3173.500000</td>\n",
        "      <td> 24732.000000</td>\n",
        "      <td> 22.803509</td>\n",
        "      <td> 17.102631</td>\n",
        "      <td>NaN</td>\n",
        "      <td>  37.874984</td>\n",
        "      <td>NaN</td>\n",
        "      <td>NaN</td>\n",
        "      <td> Mozilla/5.0 (Windows NT 6.1; WOW64; rv:19.0) G...</td>\n",
        "    </tr>\n",
        "    <tr>\n",
        "      <th>9905446 </th>\n",
        "      <td> 51772bd5ded910459d003d2e</td>\n",
        "      <td>2013-04-24 00:48:21</td>\n",
        "      <td> APF0000zm4</td>\n",
        "      <td> PSP_003092_0985</td>\n",
        "      <td> http://www.planetfour.org/subjects/standard/51...</td>\n",
        "      <td>                                 Gabriel Campos</td>\n",
        "      <td> blotch</td>\n",
        "      <td> 5</td>\n",
        "      <td> 45</td>\n",
        "      <td>2007-03-25</td>\n",
        "      <td>...</td>\n",
        "      <td> 271.000000</td>\n",
        "      <td> 3283.000000</td>\n",
        "      <td> 24383.000000</td>\n",
        "      <td> 10.000000</td>\n",
        "      <td> 10.000000</td>\n",
        "      <td>NaN</td>\n",
        "      <td>   0.000000</td>\n",
        "      <td>NaN</td>\n",
        "      <td>NaN</td>\n",
        "      <td> Mozilla/5.0 (Windows NT 6.1) AppleWebKit/537.3...</td>\n",
        "    </tr>\n",
        "    <tr>\n",
        "      <th>9905447 </th>\n",
        "      <td> 51772bd5ded910459d003d2e</td>\n",
        "      <td>2013-04-24 00:48:21</td>\n",
        "      <td> APF0000zm4</td>\n",
        "      <td> PSP_003092_0985</td>\n",
        "      <td> http://www.planetfour.org/subjects/standard/51...</td>\n",
        "      <td>                                 Gabriel Campos</td>\n",
        "      <td> blotch</td>\n",
        "      <td> 5</td>\n",
        "      <td> 45</td>\n",
        "      <td>2007-03-25</td>\n",
        "      <td>...</td>\n",
        "      <td> 543.000000</td>\n",
        "      <td> 3508.000000</td>\n",
        "      <td> 24655.000000</td>\n",
        "      <td> 18.110770</td>\n",
        "      <td> 21.023796</td>\n",
        "      <td>NaN</td>\n",
        "      <td>  87.273689</td>\n",
        "      <td>NaN</td>\n",
        "      <td>NaN</td>\n",
        "      <td> Mozilla/5.0 (Windows NT 6.1) AppleWebKit/537.3...</td>\n",
        "    </tr>\n",
        "    <tr>\n",
        "      <th>10245123</th>\n",
        "      <td> 51cc8a4e39ea53598800cf42</td>\n",
        "      <td>2013-06-27 18:55:46</td>\n",
        "      <td> APF0000zm4</td>\n",
        "      <td> PSP_003092_0985</td>\n",
        "      <td> http://www.planetfour.org/subjects/standard/51...</td>\n",
        "      <td>                                         supani</td>\n",
        "      <td> blotch</td>\n",
        "      <td> 5</td>\n",
        "      <td> 45</td>\n",
        "      <td>2007-03-25</td>\n",
        "      <td>...</td>\n",
        "      <td> 534.444449</td>\n",
        "      <td> 3504.648163</td>\n",
        "      <td> 24646.444449</td>\n",
        "      <td> 16.692389</td>\n",
        "      <td> 12.519292</td>\n",
        "      <td>NaN</td>\n",
        "      <td>  86.820042</td>\n",
        "      <td>NaN</td>\n",
        "      <td>NaN</td>\n",
        "      <td> Mozilla/5.0 (compatible; MSIE 10.0; Windows NT...</td>\n",
        "    </tr>\n",
        "    <tr>\n",
        "      <th>10245124</th>\n",
        "      <td> 51cc8a4e39ea53598800cf42</td>\n",
        "      <td>2013-06-27 18:55:46</td>\n",
        "      <td> APF0000zm4</td>\n",
        "      <td> PSP_003092_0985</td>\n",
        "      <td> http://www.planetfour.org/subjects/standard/51...</td>\n",
        "      <td>                                         supani</td>\n",
        "      <td> blotch</td>\n",
        "      <td> 5</td>\n",
        "      <td> 45</td>\n",
        "      <td>2007-03-25</td>\n",
        "      <td>...</td>\n",
        "      <td> 266.851859</td>\n",
        "      <td> 3282.425934</td>\n",
        "      <td> 24378.851859</td>\n",
        "      <td> 12.037018</td>\n",
        "      <td> 10.000000</td>\n",
        "      <td>NaN</td>\n",
        "      <td>  90.000000</td>\n",
        "      <td>NaN</td>\n",
        "      <td>NaN</td>\n",
        "      <td> Mozilla/5.0 (compatible; MSIE 10.0; Windows NT...</td>\n",
        "    </tr>\n",
        "    <tr>\n",
        "      <th>10320309</th>\n",
        "      <td> 51e3d96939ea53611e00d04c</td>\n",
        "      <td>2013-07-15 11:13:45</td>\n",
        "      <td> APF0000zm4</td>\n",
        "      <td> PSP_003092_0985</td>\n",
        "      <td> http://www.planetfour.org/subjects/standard/51...</td>\n",
        "      <td>                                         AnnieC</td>\n",
        "      <td> blotch</td>\n",
        "      <td> 5</td>\n",
        "      <td> 45</td>\n",
        "      <td>2007-03-25</td>\n",
        "      <td>...</td>\n",
        "      <td> 264.000000</td>\n",
        "      <td> 3278.500000</td>\n",
        "      <td> 24376.000000</td>\n",
        "      <td> 22.472205</td>\n",
        "      <td> 16.854154</td>\n",
        "      <td>NaN</td>\n",
        "      <td>  32.275644</td>\n",
        "      <td>NaN</td>\n",
        "      <td>NaN</td>\n",
        "      <td> Mozilla/5.0 (compatible; MSIE 10.0; Windows NT...</td>\n",
        "    </tr>\n",
        "    <tr>\n",
        "      <th>10320310</th>\n",
        "      <td> 51e3d96939ea53611e00d04c</td>\n",
        "      <td>2013-07-15 11:13:45</td>\n",
        "      <td> APF0000zm4</td>\n",
        "      <td> PSP_003092_0985</td>\n",
        "      <td> http://www.planetfour.org/subjects/standard/51...</td>\n",
        "      <td>                                         AnnieC</td>\n",
        "      <td> blotch</td>\n",
        "      <td> 5</td>\n",
        "      <td> 45</td>\n",
        "      <td>2007-03-25</td>\n",
        "      <td>...</td>\n",
        "      <td> 538.000000</td>\n",
        "      <td> 3503.500000</td>\n",
        "      <td> 24650.000000</td>\n",
        "      <td> 24.207437</td>\n",
        "      <td> 19.104973</td>\n",
        "      <td>NaN</td>\n",
        "      <td>  47.121096</td>\n",
        "      <td>NaN</td>\n",
        "      <td>NaN</td>\n",
        "      <td> Mozilla/5.0 (compatible; MSIE 10.0; Windows NT...</td>\n",
        "    </tr>\n",
        "    <tr>\n",
        "      <th>10320311</th>\n",
        "      <td> 51e3d96939ea53611e00d04c</td>\n",
        "      <td>2013-07-15 11:13:45</td>\n",
        "      <td> APF0000zm4</td>\n",
        "      <td> PSP_003092_0985</td>\n",
        "      <td> http://www.planetfour.org/subjects/standard/51...</td>\n",
        "      <td>                                         AnnieC</td>\n",
        "      <td> blotch</td>\n",
        "      <td> 5</td>\n",
        "      <td> 45</td>\n",
        "      <td>2007-03-25</td>\n",
        "      <td>...</td>\n",
        "      <td> 623.000000</td>\n",
        "      <td> 3175.500000</td>\n",
        "      <td> 24735.000000</td>\n",
        "      <td> 10.000000</td>\n",
        "      <td> 10.062306</td>\n",
        "      <td>NaN</td>\n",
        "      <td> -66.801409</td>\n",
        "      <td>NaN</td>\n",
        "      <td>NaN</td>\n",
        "      <td> Mozilla/5.0 (compatible; MSIE 10.0; Windows NT...</td>\n",
        "    </tr>\n",
        "    <tr>\n",
        "      <th>10348872</th>\n",
        "      <td> 51eedc4fdc32063849004249</td>\n",
        "      <td>2013-07-23 19:40:53</td>\n",
        "      <td> APF0000zm4</td>\n",
        "      <td> PSP_003092_0985</td>\n",
        "      <td> http://www.planetfour.org/subjects/standard/51...</td>\n",
        "      <td>                                       bigjenki</td>\n",
        "      <td> blotch</td>\n",
        "      <td> 5</td>\n",
        "      <td> 45</td>\n",
        "      <td>2007-03-25</td>\n",
        "      <td>...</td>\n",
        "      <td> 277.000000</td>\n",
        "      <td> 3314.000000</td>\n",
        "      <td> 24389.000000</td>\n",
        "      <td> 93.295230</td>\n",
        "      <td> 69.971423</td>\n",
        "      <td>NaN</td>\n",
        "      <td>-149.036243</td>\n",
        "      <td>NaN</td>\n",
        "      <td>NaN</td>\n",
        "      <td> Mozilla/5.0 (iPad; CPU OS 6_1_3 like Mac OS X)...</td>\n",
        "    </tr>\n",
        "    <tr>\n",
        "      <th>10348873</th>\n",
        "      <td> 51eedc4fdc32063849004249</td>\n",
        "      <td>2013-07-23 19:40:53</td>\n",
        "      <td> APF0000zm4</td>\n",
        "      <td> PSP_003092_0985</td>\n",
        "      <td> http://www.planetfour.org/subjects/standard/51...</td>\n",
        "      <td>                                       bigjenki</td>\n",
        "      <td> blotch</td>\n",
        "      <td> 5</td>\n",
        "      <td> 45</td>\n",
        "      <td>2007-03-25</td>\n",
        "      <td>...</td>\n",
        "      <td> 261.000000</td>\n",
        "      <td> 3277.000000</td>\n",
        "      <td> 24373.000000</td>\n",
        "      <td> 10.000000</td>\n",
        "      <td> 10.000000</td>\n",
        "      <td>NaN</td>\n",
        "      <td>   0.000000</td>\n",
        "      <td>NaN</td>\n",
        "      <td>NaN</td>\n",
        "      <td> Mozilla/5.0 (iPad; CPU OS 6_1_3 like Mac OS X)...</td>\n",
        "    </tr>\n",
        "    <tr>\n",
        "      <th>10584546</th>\n",
        "      <td> 5244163472c1094189001e23</td>\n",
        "      <td>2013-09-26 11:10:44</td>\n",
        "      <td> APF0000zm4</td>\n",
        "      <td> PSP_003092_0985</td>\n",
        "      <td> http://www.planetfour.org/subjects/standard/51...</td>\n",
        "      <td>                                       wickedly</td>\n",
        "      <td> blotch</td>\n",
        "      <td> 5</td>\n",
        "      <td> 45</td>\n",
        "      <td>2007-03-25</td>\n",
        "      <td>...</td>\n",
        "      <td> 536.696047</td>\n",
        "      <td> 3507.304016</td>\n",
        "      <td> 24648.696047</td>\n",
        "      <td> 15.208103</td>\n",
        "      <td> 14.118723</td>\n",
        "      <td>NaN</td>\n",
        "      <td>  -3.248203</td>\n",
        "      <td>NaN</td>\n",
        "      <td>NaN</td>\n",
        "      <td> Mozilla/5.0 (compatible; MSIE 10.0; Windows NT...</td>\n",
        "    </tr>\n",
        "    <tr>\n",
        "      <th>10584547</th>\n",
        "      <td> 5244163472c1094189001e23</td>\n",
        "      <td>2013-09-26 11:10:44</td>\n",
        "      <td> APF0000zm4</td>\n",
        "      <td> PSP_003092_0985</td>\n",
        "      <td> http://www.planetfour.org/subjects/standard/51...</td>\n",
        "      <td>                                       wickedly</td>\n",
        "      <td> blotch</td>\n",
        "      <td> 5</td>\n",
        "      <td> 45</td>\n",
        "      <td>2007-03-25</td>\n",
        "      <td>...</td>\n",
        "      <td> 258.416014</td>\n",
        "      <td> 3279.304016</td>\n",
        "      <td> 24370.416014</td>\n",
        "      <td> 10.000000</td>\n",
        "      <td> 14.686043</td>\n",
        "      <td>NaN</td>\n",
        "      <td> 150.642182</td>\n",
        "      <td>NaN</td>\n",
        "      <td>NaN</td>\n",
        "      <td> Mozilla/5.0 (compatible; MSIE 10.0; Windows NT...</td>\n",
        "    </tr>\n",
        "    <tr>\n",
        "      <th>10749637</th>\n",
        "      <td> 5271cd78fe16d917b0002a48</td>\n",
        "      <td>2013-10-31 03:24:40</td>\n",
        "      <td> APF0000zm4</td>\n",
        "      <td> PSP_003092_0985</td>\n",
        "      <td> http://www.planetfour.org/subjects/standard/51...</td>\n",
        "      <td>                                      studio929</td>\n",
        "      <td> blotch</td>\n",
        "      <td> 5</td>\n",
        "      <td> 45</td>\n",
        "      <td>2007-03-25</td>\n",
        "      <td>...</td>\n",
        "      <td> 541.000000</td>\n",
        "      <td> 3504.000000</td>\n",
        "      <td> 24653.000000</td>\n",
        "      <td> 26.172505</td>\n",
        "      <td> 19.629378</td>\n",
        "      <td>NaN</td>\n",
        "      <td>  46.548158</td>\n",
        "      <td>NaN</td>\n",
        "      <td>NaN</td>\n",
        "      <td> Mozilla/5.0 (Windows NT 6.1; WOW64) AppleWebKi...</td>\n",
        "    </tr>\n",
        "    <tr>\n",
        "      <th>10749638</th>\n",
        "      <td> 5271cd78fe16d917b0002a48</td>\n",
        "      <td>2013-10-31 03:24:40</td>\n",
        "      <td> APF0000zm4</td>\n",
        "      <td> PSP_003092_0985</td>\n",
        "      <td> http://www.planetfour.org/subjects/standard/51...</td>\n",
        "      <td>                                      studio929</td>\n",
        "      <td> blotch</td>\n",
        "      <td> 5</td>\n",
        "      <td> 45</td>\n",
        "      <td>2007-03-25</td>\n",
        "      <td>...</td>\n",
        "      <td> 267.000000</td>\n",
        "      <td> 3279.000000</td>\n",
        "      <td> 24379.000000</td>\n",
        "      <td> 20.000000</td>\n",
        "      <td> 15.000000</td>\n",
        "      <td>NaN</td>\n",
        "      <td>  53.130102</td>\n",
        "      <td>NaN</td>\n",
        "      <td>NaN</td>\n",
        "      <td> Mozilla/5.0 (Windows NT 6.1; WOW64) AppleWebKi...</td>\n",
        "    </tr>\n",
        "    <tr>\n",
        "      <th>10889979</th>\n",
        "      <td> 528cde6c72c1094b73013f5f</td>\n",
        "      <td>2013-11-20 16:08:12</td>\n",
        "      <td> APF0000zm4</td>\n",
        "      <td> PSP_003092_0985</td>\n",
        "      <td> http://www.planetfour.org/subjects/standard/51...</td>\n",
        "      <td>                                       dembiecc</td>\n",
        "      <td> blotch</td>\n",
        "      <td> 5</td>\n",
        "      <td> 45</td>\n",
        "      <td>2007-03-25</td>\n",
        "      <td>...</td>\n",
        "      <td> 263.000000</td>\n",
        "      <td> 3281.500000</td>\n",
        "      <td> 24375.000000</td>\n",
        "      <td> 18.601075</td>\n",
        "      <td> 17.102631</td>\n",
        "      <td>NaN</td>\n",
        "      <td>  53.746162</td>\n",
        "      <td>NaN</td>\n",
        "      <td>NaN</td>\n",
        "      <td> Mozilla/5.0 (compatible; MSIE 10.0; Windows NT...</td>\n",
        "    </tr>\n",
        "    <tr>\n",
        "      <th>10889980</th>\n",
        "      <td> 528cde6c72c1094b73013f5f</td>\n",
        "      <td>2013-11-20 16:08:12</td>\n",
        "      <td> APF0000zm4</td>\n",
        "      <td> PSP_003092_0985</td>\n",
        "      <td> http://www.planetfour.org/subjects/standard/51...</td>\n",
        "      <td>                                       dembiecc</td>\n",
        "      <td> blotch</td>\n",
        "      <td> 5</td>\n",
        "      <td> 45</td>\n",
        "      <td>2007-03-25</td>\n",
        "      <td>...</td>\n",
        "      <td> 539.000000</td>\n",
        "      <td> 3505.500000</td>\n",
        "      <td> 24651.000000</td>\n",
        "      <td> 24.207437</td>\n",
        "      <td> 18.155578</td>\n",
        "      <td>NaN</td>\n",
        "      <td> 128.290163</td>\n",
        "      <td>NaN</td>\n",
        "      <td>NaN</td>\n",
        "      <td> Mozilla/5.0 (compatible; MSIE 10.0; Windows NT...</td>\n",
        "    </tr>\n",
        "    <tr>\n",
        "      <th>11369254</th>\n",
        "      <td> 531e5b3b21c81f4b5a000365</td>\n",
        "      <td>2014-03-11 00:39:23</td>\n",
        "      <td> APF0000zm4</td>\n",
        "      <td> PSP_003092_0985</td>\n",
        "      <td> http://www.planetfour.org/subjects/standard/51...</td>\n",
        "      <td>                                       Cfourni3</td>\n",
        "      <td> blotch</td>\n",
        "      <td> 5</td>\n",
        "      <td> 45</td>\n",
        "      <td>2007-03-25</td>\n",
        "      <td>...</td>\n",
        "      <td> 274.000000</td>\n",
        "      <td> 3280.500000</td>\n",
        "      <td> 24386.000000</td>\n",
        "      <td> 19.026298</td>\n",
        "      <td> 14.269723</td>\n",
        "      <td>NaN</td>\n",
        "      <td> -86.987212</td>\n",
        "      <td>NaN</td>\n",
        "      <td>NaN</td>\n",
        "      <td> Mozilla/5.0 (Windows NT 6.1; WOW64) AppleWebKi...</td>\n",
        "    </tr>\n",
        "    <tr>\n",
        "      <th>11369255</th>\n",
        "      <td> 531e5b3b21c81f4b5a000365</td>\n",
        "      <td>2014-03-11 00:39:23</td>\n",
        "      <td> APF0000zm4</td>\n",
        "      <td> PSP_003092_0985</td>\n",
        "      <td> http://www.planetfour.org/subjects/standard/51...</td>\n",
        "      <td>                                       Cfourni3</td>\n",
        "      <td> blotch</td>\n",
        "      <td> 5</td>\n",
        "      <td> 45</td>\n",
        "      <td>2007-03-25</td>\n",
        "      <td>...</td>\n",
        "      <td> 543.000000</td>\n",
        "      <td> 3506.500000</td>\n",
        "      <td> 24655.000000</td>\n",
        "      <td> 29.120440</td>\n",
        "      <td> 21.840330</td>\n",
        "      <td>NaN</td>\n",
        "      <td> -74.054604</td>\n",
        "      <td>NaN</td>\n",
        "      <td>NaN</td>\n",
        "      <td> Mozilla/5.0 (Windows NT 6.1; WOW64) AppleWebKi...</td>\n",
        "    </tr>\n",
        "    <tr>\n",
        "      <th>11379362</th>\n",
        "      <td> 531fb272bc714c53930018d9</td>\n",
        "      <td>2014-03-12 01:03:46</td>\n",
        "      <td> APF0000zm4</td>\n",
        "      <td> PSP_003092_0985</td>\n",
        "      <td> http://www.planetfour.org/subjects/standard/51...</td>\n",
        "      <td>                                       nstreiff</td>\n",
        "      <td> blotch</td>\n",
        "      <td> 5</td>\n",
        "      <td> 45</td>\n",
        "      <td>2007-03-25</td>\n",
        "      <td>...</td>\n",
        "      <td> 540.599998</td>\n",
        "      <td> 3507.000000</td>\n",
        "      <td> 24652.599998</td>\n",
        "      <td> 36.249138</td>\n",
        "      <td> 27.186853</td>\n",
        "      <td>NaN</td>\n",
        "      <td>  65.556045</td>\n",
        "      <td>NaN</td>\n",
        "      <td>NaN</td>\n",
        "      <td> Mozilla/5.0 (Macintosh; Intel Mac OS X 10_5_8)...</td>\n",
        "    </tr>\n",
        "    <tr>\n",
        "      <th>11416453</th>\n",
        "      <td> 53223573d33e511c17000282</td>\n",
        "      <td>2014-03-13 22:47:15</td>\n",
        "      <td> APF0000zm4</td>\n",
        "      <td> PSP_003092_0985</td>\n",
        "      <td> http://www.planetfour.org/subjects/standard/51...</td>\n",
        "      <td>                                  WEBs in space</td>\n",
        "      <td> blotch</td>\n",
        "      <td> 5</td>\n",
        "      <td> 45</td>\n",
        "      <td>2007-03-25</td>\n",
        "      <td>...</td>\n",
        "      <td> 627.000000</td>\n",
        "      <td> 3176.500000</td>\n",
        "      <td> 24739.000000</td>\n",
        "      <td> 10.000000</td>\n",
        "      <td> 10.000000</td>\n",
        "      <td>NaN</td>\n",
        "      <td> 180.000000</td>\n",
        "      <td>NaN</td>\n",
        "      <td>NaN</td>\n",
        "      <td> Mozilla/5.0 (Windows NT 6.0; rv:27.0) Gecko/20...</td>\n",
        "    </tr>\n",
        "    <tr>\n",
        "      <th>11416454</th>\n",
        "      <td> 53223573d33e511c17000282</td>\n",
        "      <td>2014-03-13 22:47:15</td>\n",
        "      <td> APF0000zm4</td>\n",
        "      <td> PSP_003092_0985</td>\n",
        "      <td> http://www.planetfour.org/subjects/standard/51...</td>\n",
        "      <td>                                  WEBs in space</td>\n",
        "      <td> blotch</td>\n",
        "      <td> 5</td>\n",
        "      <td> 45</td>\n",
        "      <td>2007-03-25</td>\n",
        "      <td>...</td>\n",
        "      <td> 268.000000</td>\n",
        "      <td> 3279.500000</td>\n",
        "      <td> 24380.000000</td>\n",
        "      <td> 14.035669</td>\n",
        "      <td> 10.526752</td>\n",
        "      <td>NaN</td>\n",
        "      <td>   4.085617</td>\n",
        "      <td>NaN</td>\n",
        "      <td>NaN</td>\n",
        "      <td> Mozilla/5.0 (Windows NT 6.0; rv:27.0) Gecko/20...</td>\n",
        "    </tr>\n",
        "    <tr>\n",
        "      <th>11416455</th>\n",
        "      <td> 53223573d33e511c17000282</td>\n",
        "      <td>2014-03-13 22:47:15</td>\n",
        "      <td> APF0000zm4</td>\n",
        "      <td> PSP_003092_0985</td>\n",
        "      <td> http://www.planetfour.org/subjects/standard/51...</td>\n",
        "      <td>                                  WEBs in space</td>\n",
        "      <td> blotch</td>\n",
        "      <td> 5</td>\n",
        "      <td> 45</td>\n",
        "      <td>2007-03-25</td>\n",
        "      <td>...</td>\n",
        "      <td> 543.000000</td>\n",
        "      <td> 3506.500000</td>\n",
        "      <td> 24655.000000</td>\n",
        "      <td> 19.849433</td>\n",
        "      <td> 14.887075</td>\n",
        "      <td>NaN</td>\n",
        "      <td> -49.085617</td>\n",
        "      <td>NaN</td>\n",
        "      <td>NaN</td>\n",
        "      <td> Mozilla/5.0 (Windows NT 6.0; rv:27.0) Gecko/20...</td>\n",
        "    </tr>\n",
        "    <tr>\n",
        "      <th>11424691</th>\n",
        "      <td> 5323a3bd21c81f6594000b3b</td>\n",
        "      <td>2014-03-15 00:50:05</td>\n",
        "      <td> APF0000zm4</td>\n",
        "      <td> PSP_003092_0985</td>\n",
        "      <td> http://www.planetfour.org/subjects/standard/51...</td>\n",
        "      <td>                                        apolzer</td>\n",
        "      <td> blotch</td>\n",
        "      <td> 5</td>\n",
        "      <td> 45</td>\n",
        "      <td>2007-03-25</td>\n",
        "      <td>...</td>\n",
        "      <td> 271.000000</td>\n",
        "      <td> 3281.500000</td>\n",
        "      <td> 24383.000000</td>\n",
        "      <td> 18.248288</td>\n",
        "      <td> 13.686216</td>\n",
        "      <td>NaN</td>\n",
        "      <td>   9.462322</td>\n",
        "      <td>NaN</td>\n",
        "      <td>NaN</td>\n",
        "      <td> Mozilla/5.0 (Windows NT 6.1; WOW64; rv:27.0) G...</td>\n",
        "    </tr>\n",
        "    <tr>\n",
        "      <th>11424692</th>\n",
        "      <td> 5323a3bd21c81f6594000b3b</td>\n",
        "      <td>2014-03-15 00:50:05</td>\n",
        "      <td> APF0000zm4</td>\n",
        "      <td> PSP_003092_0985</td>\n",
        "      <td> http://www.planetfour.org/subjects/standard/51...</td>\n",
        "      <td>                                        apolzer</td>\n",
        "      <td> blotch</td>\n",
        "      <td> 5</td>\n",
        "      <td> 45</td>\n",
        "      <td>2007-03-25</td>\n",
        "      <td>...</td>\n",
        "      <td> 546.000000</td>\n",
        "      <td> 3504.500000</td>\n",
        "      <td> 24658.000000</td>\n",
        "      <td> 19.849433</td>\n",
        "      <td> 14.887075</td>\n",
        "      <td>NaN</td>\n",
        "      <td> -49.085617</td>\n",
        "      <td>NaN</td>\n",
        "      <td>NaN</td>\n",
        "      <td> Mozilla/5.0 (Windows NT 6.1; WOW64; rv:27.0) G...</td>\n",
        "    </tr>\n",
        "    <tr>\n",
        "      <th>11427844</th>\n",
        "      <td> 532415bcd33e5129890011e5</td>\n",
        "      <td>2014-03-15 08:56:28</td>\n",
        "      <td> APF0000zm4</td>\n",
        "      <td> PSP_003092_0985</td>\n",
        "      <td> http://www.planetfour.org/subjects/standard/51...</td>\n",
        "      <td>                                       barmet76</td>\n",
        "      <td> blotch</td>\n",
        "      <td> 5</td>\n",
        "      <td> 45</td>\n",
        "      <td>2007-03-25</td>\n",
        "      <td>...</td>\n",
        "      <td> 274.000000</td>\n",
        "      <td> 3285.000000</td>\n",
        "      <td> 24386.000000</td>\n",
        "      <td> 16.155494</td>\n",
        "      <td> 14.764823</td>\n",
        "      <td>NaN</td>\n",
        "      <td> 241.699244</td>\n",
        "      <td>NaN</td>\n",
        "      <td>NaN</td>\n",
        "      <td> Mozilla/5.0 (Windows NT 5.1; rv:27.0) Gecko/20...</td>\n",
        "    </tr>\n",
        "    <tr>\n",
        "      <th>11427845</th>\n",
        "      <td> 532415bcd33e5129890011e5</td>\n",
        "      <td>2014-03-15 08:56:28</td>\n",
        "      <td> APF0000zm4</td>\n",
        "      <td> PSP_003092_0985</td>\n",
        "      <td> http://www.planetfour.org/subjects/standard/51...</td>\n",
        "      <td>                                       barmet76</td>\n",
        "      <td> blotch</td>\n",
        "      <td> 5</td>\n",
        "      <td> 45</td>\n",
        "      <td>2007-03-25</td>\n",
        "      <td>...</td>\n",
        "      <td> 546.000000</td>\n",
        "      <td> 3506.000000</td>\n",
        "      <td> 24658.000000</td>\n",
        "      <td> 20.248457</td>\n",
        "      <td> 15.186343</td>\n",
        "      <td>NaN</td>\n",
        "      <td> -32.905243</td>\n",
        "      <td>NaN</td>\n",
        "      <td>NaN</td>\n",
        "      <td> Mozilla/5.0 (Windows NT 5.1; rv:27.0) Gecko/20...</td>\n",
        "    </tr>\n",
        "    <tr>\n",
        "      <th>11448668</th>\n",
        "      <td> 53264101d33e51119c001b96</td>\n",
        "      <td>2014-03-17 00:25:37</td>\n",
        "      <td> APF0000zm4</td>\n",
        "      <td> PSP_003092_0985</td>\n",
        "      <td> http://www.planetfour.org/subjects/standard/51...</td>\n",
        "      <td>                                 rcrober@uwo.ca</td>\n",
        "      <td> blotch</td>\n",
        "      <td> 5</td>\n",
        "      <td> 45</td>\n",
        "      <td>2007-03-25</td>\n",
        "      <td>...</td>\n",
        "      <td> 542.000000</td>\n",
        "      <td> 3504.500000</td>\n",
        "      <td> 24654.000000</td>\n",
        "      <td> 33.286634</td>\n",
        "      <td> 24.964975</td>\n",
        "      <td>NaN</td>\n",
        "      <td> -57.264774</td>\n",
        "      <td>NaN</td>\n",
        "      <td>NaN</td>\n",
        "      <td> Mozilla/5.0 (Windows NT 6.1; WOW64) AppleWebKi...</td>\n",
        "    </tr>\n",
        "    <tr>\n",
        "      <th>11448669</th>\n",
        "      <td> 53264101d33e51119c001b96</td>\n",
        "      <td>2014-03-17 00:25:37</td>\n",
        "      <td> APF0000zm4</td>\n",
        "      <td> PSP_003092_0985</td>\n",
        "      <td> http://www.planetfour.org/subjects/standard/51...</td>\n",
        "      <td>                                 rcrober@uwo.ca</td>\n",
        "      <td> blotch</td>\n",
        "      <td> 5</td>\n",
        "      <td> 45</td>\n",
        "      <td>2007-03-25</td>\n",
        "      <td>...</td>\n",
        "      <td> 257.000000</td>\n",
        "      <td> 3281.500000</td>\n",
        "      <td> 24369.000000</td>\n",
        "      <td> 21.000000</td>\n",
        "      <td> 15.750000</td>\n",
        "      <td>NaN</td>\n",
        "      <td>   0.000000</td>\n",
        "      <td>NaN</td>\n",
        "      <td>NaN</td>\n",
        "      <td> Mozilla/5.0 (Windows NT 6.1; WOW64) AppleWebKi...</td>\n",
        "    </tr>\n",
        "    <tr>\n",
        "      <th>11452237</th>\n",
        "      <td> 5326785982b33b1aff0015ef</td>\n",
        "      <td>2014-03-17 04:21:45</td>\n",
        "      <td> APF0000zm4</td>\n",
        "      <td> PSP_003092_0985</td>\n",
        "      <td> http://www.planetfour.org/subjects/standard/51...</td>\n",
        "      <td>                                 AlannahBuckley</td>\n",
        "      <td> blotch</td>\n",
        "      <td> 5</td>\n",
        "      <td> 45</td>\n",
        "      <td>2007-03-25</td>\n",
        "      <td>...</td>\n",
        "      <td> 268.000000</td>\n",
        "      <td> 3275.500000</td>\n",
        "      <td> 24380.000000</td>\n",
        "      <td> 24.041631</td>\n",
        "      <td> 18.031223</td>\n",
        "      <td>NaN</td>\n",
        "      <td>  16.927513</td>\n",
        "      <td>NaN</td>\n",
        "      <td>NaN</td>\n",
        "      <td> Mozilla/5.0 (Windows NT 6.1; WOW64) AppleWebKi...</td>\n",
        "    </tr>\n",
        "    <tr>\n",
        "      <th>11452238</th>\n",
        "      <td> 5326785982b33b1aff0015ef</td>\n",
        "      <td>2014-03-17 04:21:45</td>\n",
        "      <td> APF0000zm4</td>\n",
        "      <td> PSP_003092_0985</td>\n",
        "      <td> http://www.planetfour.org/subjects/standard/51...</td>\n",
        "      <td>                                 AlannahBuckley</td>\n",
        "      <td> blotch</td>\n",
        "      <td> 5</td>\n",
        "      <td> 45</td>\n",
        "      <td>2007-03-25</td>\n",
        "      <td>...</td>\n",
        "      <td> 540.000000</td>\n",
        "      <td> 3498.500000</td>\n",
        "      <td> 24652.000000</td>\n",
        "      <td> 26.476405</td>\n",
        "      <td> 19.857303</td>\n",
        "      <td>NaN</td>\n",
        "      <td>  10.885527</td>\n",
        "      <td>NaN</td>\n",
        "      <td>NaN</td>\n",
        "      <td> Mozilla/5.0 (Windows NT 6.1; WOW64) AppleWebKi...</td>\n",
        "    </tr>\n",
        "    <tr>\n",
        "      <th>11490855</th>\n",
        "      <td> 5330a128699fda4541000a98</td>\n",
        "      <td>2014-03-24 21:18:32</td>\n",
        "      <td> APF0000zm4</td>\n",
        "      <td> PSP_003092_0985</td>\n",
        "      <td> http://www.planetfour.org/subjects/standard/51...</td>\n",
        "      <td>                                          xetox</td>\n",
        "      <td> blotch</td>\n",
        "      <td> 5</td>\n",
        "      <td> 45</td>\n",
        "      <td>2007-03-25</td>\n",
        "      <td>...</td>\n",
        "      <td> 271.000000</td>\n",
        "      <td> 3279.500000</td>\n",
        "      <td> 24383.000000</td>\n",
        "      <td> 24.186773</td>\n",
        "      <td> 18.140080</td>\n",
        "      <td>NaN</td>\n",
        "      <td>  29.744881</td>\n",
        "      <td>NaN</td>\n",
        "      <td>NaN</td>\n",
        "      <td> Mozilla/5.0 (Windows NT 6.2; WOW64) AppleWebKi...</td>\n",
        "    </tr>\n",
        "    <tr>\n",
        "      <th>11490856</th>\n",
        "      <td> 5330a128699fda4541000a98</td>\n",
        "      <td>2014-03-24 21:18:32</td>\n",
        "      <td> APF0000zm4</td>\n",
        "      <td> PSP_003092_0985</td>\n",
        "      <td> http://www.planetfour.org/subjects/standard/51...</td>\n",
        "      <td>                                          xetox</td>\n",
        "      <td> blotch</td>\n",
        "      <td> 5</td>\n",
        "      <td> 45</td>\n",
        "      <td>2007-03-25</td>\n",
        "      <td>...</td>\n",
        "      <td> 545.000000</td>\n",
        "      <td> 3510.500000</td>\n",
        "      <td> 24657.000000</td>\n",
        "      <td> 22.803509</td>\n",
        "      <td> 17.102631</td>\n",
        "      <td>NaN</td>\n",
        "      <td> 142.125016</td>\n",
        "      <td>NaN</td>\n",
        "      <td>NaN</td>\n",
        "      <td> Mozilla/5.0 (Windows NT 6.2; WOW64) AppleWebKi...</td>\n",
        "    </tr>\n",
        "    <tr>\n",
        "      <th>11495088</th>\n",
        "      <td> 53318404699fda3c540001f5</td>\n",
        "      <td>2014-03-25 13:26:28</td>\n",
        "      <td> APF0000zm4</td>\n",
        "      <td> PSP_003092_0985</td>\n",
        "      <td> http://www.planetfour.org/subjects/standard/51...</td>\n",
        "      <td>                               abhishekkundu101</td>\n",
        "      <td> blotch</td>\n",
        "      <td> 5</td>\n",
        "      <td> 45</td>\n",
        "      <td>2007-03-25</td>\n",
        "      <td>...</td>\n",
        "      <td> 267.000000</td>\n",
        "      <td> 3278.500000</td>\n",
        "      <td> 24379.000000</td>\n",
        "      <td> 25.000000</td>\n",
        "      <td> 22.360680</td>\n",
        "      <td>NaN</td>\n",
        "      <td>  26.565051</td>\n",
        "      <td>NaN</td>\n",
        "      <td>NaN</td>\n",
        "      <td> Mozilla/5.0 (Windows NT 6.2; WOW64) AppleWebKi...</td>\n",
        "    </tr>\n",
        "    <tr>\n",
        "      <th>11495089</th>\n",
        "      <td> 53318404699fda3c540001f5</td>\n",
        "      <td>2014-03-25 13:26:28</td>\n",
        "      <td> APF0000zm4</td>\n",
        "      <td> PSP_003092_0985</td>\n",
        "      <td> http://www.planetfour.org/subjects/standard/51...</td>\n",
        "      <td>                               abhishekkundu101</td>\n",
        "      <td> blotch</td>\n",
        "      <td> 5</td>\n",
        "      <td> 45</td>\n",
        "      <td>2007-03-25</td>\n",
        "      <td>...</td>\n",
        "      <td> 542.000000</td>\n",
        "      <td> 3506.500000</td>\n",
        "      <td> 24654.000000</td>\n",
        "      <td> 39.000000</td>\n",
        "      <td> 33.734256</td>\n",
        "      <td>NaN</td>\n",
        "      <td>  11.976132</td>\n",
        "      <td>NaN</td>\n",
        "      <td>NaN</td>\n",
        "      <td> Mozilla/5.0 (Windows NT 6.2; WOW64) AppleWebKi...</td>\n",
        "    </tr>\n",
        "    <tr>\n",
        "      <th>11497960</th>\n",
        "      <td> 533201e0da653d67aa00097c</td>\n",
        "      <td>2014-03-25 22:23:28</td>\n",
        "      <td> APF0000zm4</td>\n",
        "      <td> PSP_003092_0985</td>\n",
        "      <td> http://www.planetfour.org/subjects/standard/51...</td>\n",
        "      <td>                                        bago100</td>\n",
        "      <td> blotch</td>\n",
        "      <td> 5</td>\n",
        "      <td> 45</td>\n",
        "      <td>2007-03-25</td>\n",
        "      <td>...</td>\n",
        "      <td> 268.000000</td>\n",
        "      <td> 3278.500000</td>\n",
        "      <td> 24380.000000</td>\n",
        "      <td> 19.416488</td>\n",
        "      <td> 14.562366</td>\n",
        "      <td>NaN</td>\n",
        "      <td>  34.508523</td>\n",
        "      <td>NaN</td>\n",
        "      <td>NaN</td>\n",
        "      <td> Mozilla/5.0 (Windows NT 6.1; WOW64; rv:27.0) G...</td>\n",
        "    </tr>\n",
        "    <tr>\n",
        "      <th>11497961</th>\n",
        "      <td> 533201e0da653d67aa00097c</td>\n",
        "      <td>2014-03-25 22:23:28</td>\n",
        "      <td> APF0000zm4</td>\n",
        "      <td> PSP_003092_0985</td>\n",
        "      <td> http://www.planetfour.org/subjects/standard/51...</td>\n",
        "      <td>                                        bago100</td>\n",
        "      <td> blotch</td>\n",
        "      <td> 5</td>\n",
        "      <td> 45</td>\n",
        "      <td>2007-03-25</td>\n",
        "      <td>...</td>\n",
        "      <td> 544.000000</td>\n",
        "      <td> 3503.500000</td>\n",
        "      <td> 24656.000000</td>\n",
        "      <td> 26.925824</td>\n",
        "      <td> 20.194368</td>\n",
        "      <td>NaN</td>\n",
        "      <td>  68.198591</td>\n",
        "      <td>NaN</td>\n",
        "      <td>NaN</td>\n",
        "      <td> Mozilla/5.0 (Windows NT 6.1; WOW64; rv:27.0) G...</td>\n",
        "    </tr>\n",
        "    <tr>\n",
        "      <th>11515630</th>\n",
        "      <td> 53363a2a699fda0724001fa4</td>\n",
        "      <td>2014-03-29 03:12:42</td>\n",
        "      <td> APF0000zm4</td>\n",
        "      <td> PSP_003092_0985</td>\n",
        "      <td> http://www.planetfour.org/subjects/standard/51...</td>\n",
        "      <td>                                         LLITTL</td>\n",
        "      <td> blotch</td>\n",
        "      <td> 5</td>\n",
        "      <td> 45</td>\n",
        "      <td>2007-03-25</td>\n",
        "      <td>...</td>\n",
        "      <td> 544.290000</td>\n",
        "      <td> 3508.499969</td>\n",
        "      <td> 24656.290000</td>\n",
        "      <td> 40.832299</td>\n",
        "      <td> 30.624224</td>\n",
        "      <td>NaN</td>\n",
        "      <td>  46.706825</td>\n",
        "      <td>NaN</td>\n",
        "      <td>NaN</td>\n",
        "      <td> Mozilla/5.0 (Windows NT 6.1; WOW64; Trident/7....</td>\n",
        "    </tr>\n",
        "    <tr>\n",
        "      <th>11515631</th>\n",
        "      <td> 53363a2a699fda0724001fa4</td>\n",
        "      <td>2014-03-29 03:12:42</td>\n",
        "      <td> APF0000zm4</td>\n",
        "      <td> PSP_003092_0985</td>\n",
        "      <td> http://www.planetfour.org/subjects/standard/51...</td>\n",
        "      <td>                                         LLITTL</td>\n",
        "      <td> blotch</td>\n",
        "      <td> 5</td>\n",
        "      <td> 45</td>\n",
        "      <td>2007-03-25</td>\n",
        "      <td>...</td>\n",
        "      <td> 262.579978</td>\n",
        "      <td> 3273.079987</td>\n",
        "      <td> 24374.579978</td>\n",
        "      <td> 26.282706</td>\n",
        "      <td> 19.712029</td>\n",
        "      <td>NaN</td>\n",
        "      <td>  42.363201</td>\n",
        "      <td>NaN</td>\n",
        "      <td>NaN</td>\n",
        "      <td> Mozilla/5.0 (Windows NT 6.1; WOW64; Trident/7....</td>\n",
        "    </tr>\n",
        "    <tr>\n",
        "      <th>11526332</th>\n",
        "      <td> 5339e08ada653d262d001057</td>\n",
        "      <td>2014-03-31 21:39:22</td>\n",
        "      <td> APF0000zm4</td>\n",
        "      <td> PSP_003092_0985</td>\n",
        "      <td> http://www.planetfour.org/subjects/standard/51...</td>\n",
        "      <td>                                       PILIRANO</td>\n",
        "      <td> blotch</td>\n",
        "      <td> 5</td>\n",
        "      <td> 45</td>\n",
        "      <td>2007-03-25</td>\n",
        "      <td>...</td>\n",
        "      <td> 546.000000</td>\n",
        "      <td> 3502.500000</td>\n",
        "      <td> 24658.000000</td>\n",
        "      <td> 23.409400</td>\n",
        "      <td> 17.557050</td>\n",
        "      <td>NaN</td>\n",
        "      <td> -70.016893</td>\n",
        "      <td>NaN</td>\n",
        "      <td>NaN</td>\n",
        "      <td> Mozilla/5.0 (Windows NT 6.1; WOW64; Trident/7....</td>\n",
        "    </tr>\n",
        "  </tbody>\n",
        "</table>\n",
        "<p>45 rows \u00d7 22 columns</p>\n",
        "</div>"
       ],
       "metadata": {},
       "output_type": "pyout",
       "prompt_number": 76,
       "text": [
        "                 classification_id          created_at    image_id  \\\n",
        "9497790   51482c50a202b404ca001b48 2013-03-19 09:13:52  APF0000zm4   \n",
        "9497791   51482c50a202b404ca001b48 2013-03-19 09:13:52  APF0000zm4   \n",
        "9537290   514b67b4a202b4039700c335 2013-03-21 20:04:05  APF0000zm4   \n",
        "9537291   514b67b4a202b4039700c335 2013-03-21 20:04:05  APF0000zm4   \n",
        "9760165   515dca1a80b0df03d3006878 2013-04-04 18:44:41  APF0000zm4   \n",
        "9760166   515dca1a80b0df03d3006878 2013-04-04 18:44:41  APF0000zm4   \n",
        "9760167   515dca1a80b0df03d3006878 2013-04-04 18:44:41  APF0000zm4   \n",
        "9905446   51772bd5ded910459d003d2e 2013-04-24 00:48:21  APF0000zm4   \n",
        "9905447   51772bd5ded910459d003d2e 2013-04-24 00:48:21  APF0000zm4   \n",
        "10245123  51cc8a4e39ea53598800cf42 2013-06-27 18:55:46  APF0000zm4   \n",
        "10245124  51cc8a4e39ea53598800cf42 2013-06-27 18:55:46  APF0000zm4   \n",
        "10320309  51e3d96939ea53611e00d04c 2013-07-15 11:13:45  APF0000zm4   \n",
        "10320310  51e3d96939ea53611e00d04c 2013-07-15 11:13:45  APF0000zm4   \n",
        "10320311  51e3d96939ea53611e00d04c 2013-07-15 11:13:45  APF0000zm4   \n",
        "10348872  51eedc4fdc32063849004249 2013-07-23 19:40:53  APF0000zm4   \n",
        "10348873  51eedc4fdc32063849004249 2013-07-23 19:40:53  APF0000zm4   \n",
        "10584546  5244163472c1094189001e23 2013-09-26 11:10:44  APF0000zm4   \n",
        "10584547  5244163472c1094189001e23 2013-09-26 11:10:44  APF0000zm4   \n",
        "10749637  5271cd78fe16d917b0002a48 2013-10-31 03:24:40  APF0000zm4   \n",
        "10749638  5271cd78fe16d917b0002a48 2013-10-31 03:24:40  APF0000zm4   \n",
        "10889979  528cde6c72c1094b73013f5f 2013-11-20 16:08:12  APF0000zm4   \n",
        "10889980  528cde6c72c1094b73013f5f 2013-11-20 16:08:12  APF0000zm4   \n",
        "11369254  531e5b3b21c81f4b5a000365 2014-03-11 00:39:23  APF0000zm4   \n",
        "11369255  531e5b3b21c81f4b5a000365 2014-03-11 00:39:23  APF0000zm4   \n",
        "11379362  531fb272bc714c53930018d9 2014-03-12 01:03:46  APF0000zm4   \n",
        "11416453  53223573d33e511c17000282 2014-03-13 22:47:15  APF0000zm4   \n",
        "11416454  53223573d33e511c17000282 2014-03-13 22:47:15  APF0000zm4   \n",
        "11416455  53223573d33e511c17000282 2014-03-13 22:47:15  APF0000zm4   \n",
        "11424691  5323a3bd21c81f6594000b3b 2014-03-15 00:50:05  APF0000zm4   \n",
        "11424692  5323a3bd21c81f6594000b3b 2014-03-15 00:50:05  APF0000zm4   \n",
        "11427844  532415bcd33e5129890011e5 2014-03-15 08:56:28  APF0000zm4   \n",
        "11427845  532415bcd33e5129890011e5 2014-03-15 08:56:28  APF0000zm4   \n",
        "11448668  53264101d33e51119c001b96 2014-03-17 00:25:37  APF0000zm4   \n",
        "11448669  53264101d33e51119c001b96 2014-03-17 00:25:37  APF0000zm4   \n",
        "11452237  5326785982b33b1aff0015ef 2014-03-17 04:21:45  APF0000zm4   \n",
        "11452238  5326785982b33b1aff0015ef 2014-03-17 04:21:45  APF0000zm4   \n",
        "11490855  5330a128699fda4541000a98 2014-03-24 21:18:32  APF0000zm4   \n",
        "11490856  5330a128699fda4541000a98 2014-03-24 21:18:32  APF0000zm4   \n",
        "11495088  53318404699fda3c540001f5 2014-03-25 13:26:28  APF0000zm4   \n",
        "11495089  53318404699fda3c540001f5 2014-03-25 13:26:28  APF0000zm4   \n",
        "11497960  533201e0da653d67aa00097c 2014-03-25 22:23:28  APF0000zm4   \n",
        "11497961  533201e0da653d67aa00097c 2014-03-25 22:23:28  APF0000zm4   \n",
        "11515630  53363a2a699fda0724001fa4 2014-03-29 03:12:42  APF0000zm4   \n",
        "11515631  53363a2a699fda0724001fa4 2014-03-29 03:12:42  APF0000zm4   \n",
        "11526332  5339e08ada653d262d001057 2014-03-31 21:39:22  APF0000zm4   \n",
        "\n",
        "               image_name                                          image_url  \\\n",
        "9497790   PSP_003092_0985  http://www.planetfour.org/subjects/standard/51...   \n",
        "9497791   PSP_003092_0985  http://www.planetfour.org/subjects/standard/51...   \n",
        "9537290   PSP_003092_0985  http://www.planetfour.org/subjects/standard/51...   \n",
        "9537291   PSP_003092_0985  http://www.planetfour.org/subjects/standard/51...   \n",
        "9760165   PSP_003092_0985  http://www.planetfour.org/subjects/standard/51...   \n",
        "9760166   PSP_003092_0985  http://www.planetfour.org/subjects/standard/51...   \n",
        "9760167   PSP_003092_0985  http://www.planetfour.org/subjects/standard/51...   \n",
        "9905446   PSP_003092_0985  http://www.planetfour.org/subjects/standard/51...   \n",
        "9905447   PSP_003092_0985  http://www.planetfour.org/subjects/standard/51...   \n",
        "10245123  PSP_003092_0985  http://www.planetfour.org/subjects/standard/51...   \n",
        "10245124  PSP_003092_0985  http://www.planetfour.org/subjects/standard/51...   \n",
        "10320309  PSP_003092_0985  http://www.planetfour.org/subjects/standard/51...   \n",
        "10320310  PSP_003092_0985  http://www.planetfour.org/subjects/standard/51...   \n",
        "10320311  PSP_003092_0985  http://www.planetfour.org/subjects/standard/51...   \n",
        "10348872  PSP_003092_0985  http://www.planetfour.org/subjects/standard/51...   \n",
        "10348873  PSP_003092_0985  http://www.planetfour.org/subjects/standard/51...   \n",
        "10584546  PSP_003092_0985  http://www.planetfour.org/subjects/standard/51...   \n",
        "10584547  PSP_003092_0985  http://www.planetfour.org/subjects/standard/51...   \n",
        "10749637  PSP_003092_0985  http://www.planetfour.org/subjects/standard/51...   \n",
        "10749638  PSP_003092_0985  http://www.planetfour.org/subjects/standard/51...   \n",
        "10889979  PSP_003092_0985  http://www.planetfour.org/subjects/standard/51...   \n",
        "10889980  PSP_003092_0985  http://www.planetfour.org/subjects/standard/51...   \n",
        "11369254  PSP_003092_0985  http://www.planetfour.org/subjects/standard/51...   \n",
        "11369255  PSP_003092_0985  http://www.planetfour.org/subjects/standard/51...   \n",
        "11379362  PSP_003092_0985  http://www.planetfour.org/subjects/standard/51...   \n",
        "11416453  PSP_003092_0985  http://www.planetfour.org/subjects/standard/51...   \n",
        "11416454  PSP_003092_0985  http://www.planetfour.org/subjects/standard/51...   \n",
        "11416455  PSP_003092_0985  http://www.planetfour.org/subjects/standard/51...   \n",
        "11424691  PSP_003092_0985  http://www.planetfour.org/subjects/standard/51...   \n",
        "11424692  PSP_003092_0985  http://www.planetfour.org/subjects/standard/51...   \n",
        "11427844  PSP_003092_0985  http://www.planetfour.org/subjects/standard/51...   \n",
        "11427845  PSP_003092_0985  http://www.planetfour.org/subjects/standard/51...   \n",
        "11448668  PSP_003092_0985  http://www.planetfour.org/subjects/standard/51...   \n",
        "11448669  PSP_003092_0985  http://www.planetfour.org/subjects/standard/51...   \n",
        "11452237  PSP_003092_0985  http://www.planetfour.org/subjects/standard/51...   \n",
        "11452238  PSP_003092_0985  http://www.planetfour.org/subjects/standard/51...   \n",
        "11490855  PSP_003092_0985  http://www.planetfour.org/subjects/standard/51...   \n",
        "11490856  PSP_003092_0985  http://www.planetfour.org/subjects/standard/51...   \n",
        "11495088  PSP_003092_0985  http://www.planetfour.org/subjects/standard/51...   \n",
        "11495089  PSP_003092_0985  http://www.planetfour.org/subjects/standard/51...   \n",
        "11497960  PSP_003092_0985  http://www.planetfour.org/subjects/standard/51...   \n",
        "11497961  PSP_003092_0985  http://www.planetfour.org/subjects/standard/51...   \n",
        "11515630  PSP_003092_0985  http://www.planetfour.org/subjects/standard/51...   \n",
        "11515631  PSP_003092_0985  http://www.planetfour.org/subjects/standard/51...   \n",
        "11526332  PSP_003092_0985  http://www.planetfour.org/subjects/standard/51...   \n",
        "\n",
        "                                               user_name marking  x_tile  \\\n",
        "9497790   not-logged-in-e4a38c790985f02673a3d2e33c5a0a19  blotch       5   \n",
        "9497791   not-logged-in-e4a38c790985f02673a3d2e33c5a0a19  blotch       5   \n",
        "9537290   not-logged-in-9ff7d8c6ed053af6802f084ca76f863f  blotch       5   \n",
        "9537291   not-logged-in-9ff7d8c6ed053af6802f084ca76f863f  blotch       5   \n",
        "9760165                                         Stingwel  blotch       5   \n",
        "9760166                                         Stingwel  blotch       5   \n",
        "9760167                                         Stingwel  blotch       5   \n",
        "9905446                                   Gabriel Campos  blotch       5   \n",
        "9905447                                   Gabriel Campos  blotch       5   \n",
        "10245123                                          supani  blotch       5   \n",
        "10245124                                          supani  blotch       5   \n",
        "10320309                                          AnnieC  blotch       5   \n",
        "10320310                                          AnnieC  blotch       5   \n",
        "10320311                                          AnnieC  blotch       5   \n",
        "10348872                                        bigjenki  blotch       5   \n",
        "10348873                                        bigjenki  blotch       5   \n",
        "10584546                                        wickedly  blotch       5   \n",
        "10584547                                        wickedly  blotch       5   \n",
        "10749637                                       studio929  blotch       5   \n",
        "10749638                                       studio929  blotch       5   \n",
        "10889979                                        dembiecc  blotch       5   \n",
        "10889980                                        dembiecc  blotch       5   \n",
        "11369254                                        Cfourni3  blotch       5   \n",
        "11369255                                        Cfourni3  blotch       5   \n",
        "11379362                                        nstreiff  blotch       5   \n",
        "11416453                                   WEBs in space  blotch       5   \n",
        "11416454                                   WEBs in space  blotch       5   \n",
        "11416455                                   WEBs in space  blotch       5   \n",
        "11424691                                         apolzer  blotch       5   \n",
        "11424692                                         apolzer  blotch       5   \n",
        "11427844                                        barmet76  blotch       5   \n",
        "11427845                                        barmet76  blotch       5   \n",
        "11448668                                  rcrober@uwo.ca  blotch       5   \n",
        "11448669                                  rcrober@uwo.ca  blotch       5   \n",
        "11452237                                  AlannahBuckley  blotch       5   \n",
        "11452238                                  AlannahBuckley  blotch       5   \n",
        "11490855                                           xetox  blotch       5   \n",
        "11490856                                           xetox  blotch       5   \n",
        "11495088                                abhishekkundu101  blotch       5   \n",
        "11495089                                abhishekkundu101  blotch       5   \n",
        "11497960                                         bago100  blotch       5   \n",
        "11497961                                         bago100  blotch       5   \n",
        "11515630                                          LLITTL  blotch       5   \n",
        "11515631                                          LLITTL  blotch       5   \n",
        "11526332                                        PILIRANO  blotch       5   \n",
        "\n",
        "          y_tile acquisition_date  \\\n",
        "9497790       45       2007-03-25   \n",
        "9497791       45       2007-03-25   \n",
        "9537290       45       2007-03-25   \n",
        "9537291       45       2007-03-25   \n",
        "9760165       45       2007-03-25   \n",
        "9760166       45       2007-03-25   \n",
        "9760167       45       2007-03-25   \n",
        "9905446       45       2007-03-25   \n",
        "9905447       45       2007-03-25   \n",
        "10245123      45       2007-03-25   \n",
        "10245124      45       2007-03-25   \n",
        "10320309      45       2007-03-25   \n",
        "10320310      45       2007-03-25   \n",
        "10320311      45       2007-03-25   \n",
        "10348872      45       2007-03-25   \n",
        "10348873      45       2007-03-25   \n",
        "10584546      45       2007-03-25   \n",
        "10584547      45       2007-03-25   \n",
        "10749637      45       2007-03-25   \n",
        "10749638      45       2007-03-25   \n",
        "10889979      45       2007-03-25   \n",
        "10889980      45       2007-03-25   \n",
        "11369254      45       2007-03-25   \n",
        "11369255      45       2007-03-25   \n",
        "11379362      45       2007-03-25   \n",
        "11416453      45       2007-03-25   \n",
        "11416454      45       2007-03-25   \n",
        "11416455      45       2007-03-25   \n",
        "11424691      45       2007-03-25   \n",
        "11424692      45       2007-03-25   \n",
        "11427844      45       2007-03-25   \n",
        "11427845      45       2007-03-25   \n",
        "11448668      45       2007-03-25   \n",
        "11448669      45       2007-03-25   \n",
        "11452237      45       2007-03-25   \n",
        "11452238      45       2007-03-25   \n",
        "11490855      45       2007-03-25   \n",
        "11490856      45       2007-03-25   \n",
        "11495088      45       2007-03-25   \n",
        "11495089      45       2007-03-25   \n",
        "11497960      45       2007-03-25   \n",
        "11497961      45       2007-03-25   \n",
        "11515630      45       2007-03-25   \n",
        "11515631      45       2007-03-25   \n",
        "11526332      45       2007-03-25   \n",
        "\n",
        "                                ...                                   y  \\\n",
        "9497790                         ...                          271.000000   \n",
        "9497791                         ...                          543.000000   \n",
        "9537290                         ...                          266.000000   \n",
        "9537291                         ...                          542.000000   \n",
        "9760165                         ...                          267.000000   \n",
        "9760166                         ...                          537.000000   \n",
        "9760167                         ...                          620.000000   \n",
        "9905446                         ...                          271.000000   \n",
        "9905447                         ...                          543.000000   \n",
        "10245123                        ...                          534.444449   \n",
        "10245124                        ...                          266.851859   \n",
        "10320309                        ...                          264.000000   \n",
        "10320310                        ...                          538.000000   \n",
        "10320311                        ...                          623.000000   \n",
        "10348872                        ...                          277.000000   \n",
        "10348873                        ...                          261.000000   \n",
        "10584546                        ...                          536.696047   \n",
        "10584547                        ...                          258.416014   \n",
        "10749637                        ...                          541.000000   \n",
        "10749638                        ...                          267.000000   \n",
        "10889979                        ...                          263.000000   \n",
        "10889980                        ...                          539.000000   \n",
        "11369254                        ...                          274.000000   \n",
        "11369255                        ...                          543.000000   \n",
        "11379362                        ...                          540.599998   \n",
        "11416453                        ...                          627.000000   \n",
        "11416454                        ...                          268.000000   \n",
        "11416455                        ...                          543.000000   \n",
        "11424691                        ...                          271.000000   \n",
        "11424692                        ...                          546.000000   \n",
        "11427844                        ...                          274.000000   \n",
        "11427845                        ...                          546.000000   \n",
        "11448668                        ...                          542.000000   \n",
        "11448669                        ...                          257.000000   \n",
        "11452237                        ...                          268.000000   \n",
        "11452238                        ...                          540.000000   \n",
        "11490855                        ...                          271.000000   \n",
        "11490856                        ...                          545.000000   \n",
        "11495088                        ...                          267.000000   \n",
        "11495089                        ...                          542.000000   \n",
        "11497960                        ...                          268.000000   \n",
        "11497961                        ...                          544.000000   \n",
        "11515630                        ...                          544.290000   \n",
        "11515631                        ...                          262.579978   \n",
        "11526332                        ...                          546.000000   \n",
        "\n",
        "              image_x       image_y   radius_1   radius_2  distance  \\\n",
        "9497790   3284.000000  24383.000000  10.000000  10.000000       NaN   \n",
        "9497791   3504.000000  24655.000000  18.788294  17.000000       NaN   \n",
        "9537290   3280.000000  24378.000000  10.000000  10.000000       NaN   \n",
        "9537291   3508.000000  24654.000000  13.152946  10.000000       NaN   \n",
        "9760165   3281.500000  24379.000000  36.619667  27.464750       NaN   \n",
        "9760166   3499.500000  24649.000000  43.566042  32.674531       NaN   \n",
        "9760167   3173.500000  24732.000000  22.803509  17.102631       NaN   \n",
        "9905446   3283.000000  24383.000000  10.000000  10.000000       NaN   \n",
        "9905447   3508.000000  24655.000000  18.110770  21.023796       NaN   \n",
        "10245123  3504.648163  24646.444449  16.692389  12.519292       NaN   \n",
        "10245124  3282.425934  24378.851859  12.037018  10.000000       NaN   \n",
        "10320309  3278.500000  24376.000000  22.472205  16.854154       NaN   \n",
        "10320310  3503.500000  24650.000000  24.207437  19.104973       NaN   \n",
        "10320311  3175.500000  24735.000000  10.000000  10.062306       NaN   \n",
        "10348872  3314.000000  24389.000000  93.295230  69.971423       NaN   \n",
        "10348873  3277.000000  24373.000000  10.000000  10.000000       NaN   \n",
        "10584546  3507.304016  24648.696047  15.208103  14.118723       NaN   \n",
        "10584547  3279.304016  24370.416014  10.000000  14.686043       NaN   \n",
        "10749637  3504.000000  24653.000000  26.172505  19.629378       NaN   \n",
        "10749638  3279.000000  24379.000000  20.000000  15.000000       NaN   \n",
        "10889979  3281.500000  24375.000000  18.601075  17.102631       NaN   \n",
        "10889980  3505.500000  24651.000000  24.207437  18.155578       NaN   \n",
        "11369254  3280.500000  24386.000000  19.026298  14.269723       NaN   \n",
        "11369255  3506.500000  24655.000000  29.120440  21.840330       NaN   \n",
        "11379362  3507.000000  24652.599998  36.249138  27.186853       NaN   \n",
        "11416453  3176.500000  24739.000000  10.000000  10.000000       NaN   \n",
        "11416454  3279.500000  24380.000000  14.035669  10.526752       NaN   \n",
        "11416455  3506.500000  24655.000000  19.849433  14.887075       NaN   \n",
        "11424691  3281.500000  24383.000000  18.248288  13.686216       NaN   \n",
        "11424692  3504.500000  24658.000000  19.849433  14.887075       NaN   \n",
        "11427844  3285.000000  24386.000000  16.155494  14.764823       NaN   \n",
        "11427845  3506.000000  24658.000000  20.248457  15.186343       NaN   \n",
        "11448668  3504.500000  24654.000000  33.286634  24.964975       NaN   \n",
        "11448669  3281.500000  24369.000000  21.000000  15.750000       NaN   \n",
        "11452237  3275.500000  24380.000000  24.041631  18.031223       NaN   \n",
        "11452238  3498.500000  24652.000000  26.476405  19.857303       NaN   \n",
        "11490855  3279.500000  24383.000000  24.186773  18.140080       NaN   \n",
        "11490856  3510.500000  24657.000000  22.803509  17.102631       NaN   \n",
        "11495088  3278.500000  24379.000000  25.000000  22.360680       NaN   \n",
        "11495089  3506.500000  24654.000000  39.000000  33.734256       NaN   \n",
        "11497960  3278.500000  24380.000000  19.416488  14.562366       NaN   \n",
        "11497961  3503.500000  24656.000000  26.925824  20.194368       NaN   \n",
        "11515630  3508.499969  24656.290000  40.832299  30.624224       NaN   \n",
        "11515631  3273.079987  24374.579978  26.282706  19.712029       NaN   \n",
        "11526332  3502.500000  24658.000000  23.409400  17.557050       NaN   \n",
        "\n",
        "               angle  spread  version  \\\n",
        "9497790     0.000000     NaN      NaN   \n",
        "9497791   -61.927513     NaN      NaN   \n",
        "9537290  -135.000000     NaN      NaN   \n",
        "9537291   -98.746162     NaN      NaN   \n",
        "9760165    34.992020     NaN      NaN   \n",
        "9760166    58.134022     NaN      NaN   \n",
        "9760167    37.874984     NaN      NaN   \n",
        "9905446     0.000000     NaN      NaN   \n",
        "9905447    87.273689     NaN      NaN   \n",
        "10245123   86.820042     NaN      NaN   \n",
        "10245124   90.000000     NaN      NaN   \n",
        "10320309   32.275644     NaN      NaN   \n",
        "10320310   47.121096     NaN      NaN   \n",
        "10320311  -66.801409     NaN      NaN   \n",
        "10348872 -149.036243     NaN      NaN   \n",
        "10348873    0.000000     NaN      NaN   \n",
        "10584546   -3.248203     NaN      NaN   \n",
        "10584547  150.642182     NaN      NaN   \n",
        "10749637   46.548158     NaN      NaN   \n",
        "10749638   53.130102     NaN      NaN   \n",
        "10889979   53.746162     NaN      NaN   \n",
        "10889980  128.290163     NaN      NaN   \n",
        "11369254  -86.987212     NaN      NaN   \n",
        "11369255  -74.054604     NaN      NaN   \n",
        "11379362   65.556045     NaN      NaN   \n",
        "11416453  180.000000     NaN      NaN   \n",
        "11416454    4.085617     NaN      NaN   \n",
        "11416455  -49.085617     NaN      NaN   \n",
        "11424691    9.462322     NaN      NaN   \n",
        "11424692  -49.085617     NaN      NaN   \n",
        "11427844  241.699244     NaN      NaN   \n",
        "11427845  -32.905243     NaN      NaN   \n",
        "11448668  -57.264774     NaN      NaN   \n",
        "11448669    0.000000     NaN      NaN   \n",
        "11452237   16.927513     NaN      NaN   \n",
        "11452238   10.885527     NaN      NaN   \n",
        "11490855   29.744881     NaN      NaN   \n",
        "11490856  142.125016     NaN      NaN   \n",
        "11495088   26.565051     NaN      NaN   \n",
        "11495089   11.976132     NaN      NaN   \n",
        "11497960   34.508523     NaN      NaN   \n",
        "11497961   68.198591     NaN      NaN   \n",
        "11515630   46.706825     NaN      NaN   \n",
        "11515631   42.363201     NaN      NaN   \n",
        "11526332  -70.016893     NaN      NaN   \n",
        "\n",
        "                                                 user_agent  \n",
        "9497790   Mozilla/5.0 (Macintosh; Intel Mac OS X 10_6_8)...  \n",
        "9497791   Mozilla/5.0 (Macintosh; Intel Mac OS X 10_6_8)...  \n",
        "9537290   Mozilla/5.0 (Windows NT 6.0) AppleWebKit/537.2...  \n",
        "9537291   Mozilla/5.0 (Windows NT 6.0) AppleWebKit/537.2...  \n",
        "9760165   Mozilla/5.0 (Windows NT 6.1; WOW64; rv:19.0) G...  \n",
        "9760166   Mozilla/5.0 (Windows NT 6.1; WOW64; rv:19.0) G...  \n",
        "9760167   Mozilla/5.0 (Windows NT 6.1; WOW64; rv:19.0) G...  \n",
        "9905446   Mozilla/5.0 (Windows NT 6.1) AppleWebKit/537.3...  \n",
        "9905447   Mozilla/5.0 (Windows NT 6.1) AppleWebKit/537.3...  \n",
        "10245123  Mozilla/5.0 (compatible; MSIE 10.0; Windows NT...  \n",
        "10245124  Mozilla/5.0 (compatible; MSIE 10.0; Windows NT...  \n",
        "10320309  Mozilla/5.0 (compatible; MSIE 10.0; Windows NT...  \n",
        "10320310  Mozilla/5.0 (compatible; MSIE 10.0; Windows NT...  \n",
        "10320311  Mozilla/5.0 (compatible; MSIE 10.0; Windows NT...  \n",
        "10348872  Mozilla/5.0 (iPad; CPU OS 6_1_3 like Mac OS X)...  \n",
        "10348873  Mozilla/5.0 (iPad; CPU OS 6_1_3 like Mac OS X)...  \n",
        "10584546  Mozilla/5.0 (compatible; MSIE 10.0; Windows NT...  \n",
        "10584547  Mozilla/5.0 (compatible; MSIE 10.0; Windows NT...  \n",
        "10749637  Mozilla/5.0 (Windows NT 6.1; WOW64) AppleWebKi...  \n",
        "10749638  Mozilla/5.0 (Windows NT 6.1; WOW64) AppleWebKi...  \n",
        "10889979  Mozilla/5.0 (compatible; MSIE 10.0; Windows NT...  \n",
        "10889980  Mozilla/5.0 (compatible; MSIE 10.0; Windows NT...  \n",
        "11369254  Mozilla/5.0 (Windows NT 6.1; WOW64) AppleWebKi...  \n",
        "11369255  Mozilla/5.0 (Windows NT 6.1; WOW64) AppleWebKi...  \n",
        "11379362  Mozilla/5.0 (Macintosh; Intel Mac OS X 10_5_8)...  \n",
        "11416453  Mozilla/5.0 (Windows NT 6.0; rv:27.0) Gecko/20...  \n",
        "11416454  Mozilla/5.0 (Windows NT 6.0; rv:27.0) Gecko/20...  \n",
        "11416455  Mozilla/5.0 (Windows NT 6.0; rv:27.0) Gecko/20...  \n",
        "11424691  Mozilla/5.0 (Windows NT 6.1; WOW64; rv:27.0) G...  \n",
        "11424692  Mozilla/5.0 (Windows NT 6.1; WOW64; rv:27.0) G...  \n",
        "11427844  Mozilla/5.0 (Windows NT 5.1; rv:27.0) Gecko/20...  \n",
        "11427845  Mozilla/5.0 (Windows NT 5.1; rv:27.0) Gecko/20...  \n",
        "11448668  Mozilla/5.0 (Windows NT 6.1; WOW64) AppleWebKi...  \n",
        "11448669  Mozilla/5.0 (Windows NT 6.1; WOW64) AppleWebKi...  \n",
        "11452237  Mozilla/5.0 (Windows NT 6.1; WOW64) AppleWebKi...  \n",
        "11452238  Mozilla/5.0 (Windows NT 6.1; WOW64) AppleWebKi...  \n",
        "11490855  Mozilla/5.0 (Windows NT 6.2; WOW64) AppleWebKi...  \n",
        "11490856  Mozilla/5.0 (Windows NT 6.2; WOW64) AppleWebKi...  \n",
        "11495088  Mozilla/5.0 (Windows NT 6.2; WOW64) AppleWebKi...  \n",
        "11495089  Mozilla/5.0 (Windows NT 6.2; WOW64) AppleWebKi...  \n",
        "11497960  Mozilla/5.0 (Windows NT 6.1; WOW64; rv:27.0) G...  \n",
        "11497961  Mozilla/5.0 (Windows NT 6.1; WOW64; rv:27.0) G...  \n",
        "11515630  Mozilla/5.0 (Windows NT 6.1; WOW64; Trident/7....  \n",
        "11515631  Mozilla/5.0 (Windows NT 6.1; WOW64; Trident/7....  \n",
        "11526332  Mozilla/5.0 (Windows NT 6.1; WOW64; Trident/7....  \n",
        "\n",
        "[45 rows x 22 columns]"
       ]
      }
     ],
     "prompt_number": 76
    },
    {
     "cell_type": "code",
     "collapsed": false,
     "input": [],
     "language": "python",
     "metadata": {},
     "outputs": []
    }
   ],
   "metadata": {}
  }
 ]
}