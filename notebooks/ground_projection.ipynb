{
 "cells": [
  {
   "cell_type": "markdown",
   "metadata": {
    "toc": "true"
   },
   "source": [
    "# Table of Contents\n",
    " <p><div class=\"lev1 toc-item\"><a href=\"#Input-preparation\" data-toc-modified-id=\"Input-preparation-1\"><span class=\"toc-item-num\">1&nbsp;&nbsp;</span>Input preparation</a></div><div class=\"lev1 toc-item\"><a href=\"#Create-mosaics\" data-toc-modified-id=\"Create-mosaics-2\"><span class=\"toc-item-num\">2&nbsp;&nbsp;</span>Create mosaics</a></div><div class=\"lev2 toc-item\"><a href=\"#Parallel-production\" data-toc-modified-id=\"Parallel-production-21\"><span class=\"toc-item-num\">2.1&nbsp;&nbsp;</span>Parallel production</a></div><div class=\"lev1 toc-item\"><a href=\"#xy2latlon\" data-toc-modified-id=\"xy2latlon-3\"><span class=\"toc-item-num\">3&nbsp;&nbsp;</span>xy2latlon</a></div><div class=\"lev1 toc-item\"><a href=\"#Combining-campt-results\" data-toc-modified-id=\"Combining-campt-results-4\"><span class=\"toc-item-num\">4&nbsp;&nbsp;</span>Combining campt results</a></div><div class=\"lev1 toc-item\"><a href=\"#Tile-coordinates\" data-toc-modified-id=\"Tile-coordinates-5\"><span class=\"toc-item-num\">5&nbsp;&nbsp;</span>Tile coordinates</a></div>"
   ]
  },
  {
   "cell_type": "markdown",
   "metadata": {},
   "source": [
    "# Input preparation"
   ]
  },
  {
   "cell_type": "code",
   "execution_count": 4,
   "metadata": {
    "ExecuteTime": {
     "end_time": "2017-06-20T01:37:22.380867Z",
     "start_time": "2017-06-20T01:37:22.355810Z"
    },
    "collapsed": true,
    "init_cell": true
   },
   "outputs": [],
   "source": [
    "from hirise_tools.downloads import download_RED_product\n",
    "from hirise_tools.products import RED_PRODUCT_ID\n",
    "\n",
    "import logging\n",
    "from nbtools.logging import setup_live_logging\n"
   ]
  },
  {
   "cell_type": "code",
   "execution_count": 2,
   "metadata": {
    "ExecuteTime": {
     "end_time": "2017-06-20T01:37:22.303519Z",
     "start_time": "2017-06-20T01:37:22.259673Z"
    },
    "collapsed": true
   },
   "outputs": [],
   "source": [
    "from planet4 import io"
   ]
  },
  {
   "cell_type": "code",
   "execution_count": 3,
   "metadata": {
    "ExecuteTime": {
     "end_time": "2017-06-20T01:37:22.329359Z",
     "start_time": "2017-06-20T01:37:22.304970Z"
    },
    "collapsed": true
   },
   "outputs": [],
   "source": [
    "db = io.DBManager()"
   ]
  },
  {
   "cell_type": "code",
   "execution_count": 6,
   "metadata": {
    "ExecuteTime": {
     "end_time": "2017-06-15T23:29:52.121389Z",
     "start_time": "2017-06-15T23:29:51.348799Z"
    },
    "collapsed": true
   },
   "outputs": [],
   "source": [
    "data = db.get_image_name_markings('ESP_011447_0950')"
   ]
  },
  {
   "cell_type": "code",
   "execution_count": 8,
   "metadata": {
    "ExecuteTime": {
     "end_time": "2017-06-15T23:30:22.224395Z",
     "start_time": "2017-06-15T23:30:22.189648Z"
    }
   },
   "outputs": [
    {
     "data": {
      "text/html": [
       "<div>\n",
       "<style>\n",
       "    .dataframe thead tr:only-child th {\n",
       "        text-align: right;\n",
       "    }\n",
       "\n",
       "    .dataframe thead th {\n",
       "        text-align: left;\n",
       "    }\n",
       "\n",
       "    .dataframe tbody tr th {\n",
       "        vertical-align: top;\n",
       "    }\n",
       "</style>\n",
       "<table border=\"1\" class=\"dataframe\">\n",
       "  <thead>\n",
       "    <tr style=\"text-align: right;\">\n",
       "      <th></th>\n",
       "      <th>image_x</th>\n",
       "      <th>image_y</th>\n",
       "    </tr>\n",
       "  </thead>\n",
       "  <tbody>\n",
       "    <tr>\n",
       "      <th>count</th>\n",
       "      <td>26607.000000</td>\n",
       "      <td>26607.000000</td>\n",
       "    </tr>\n",
       "    <tr>\n",
       "      <th>mean</th>\n",
       "      <td>793.621958</td>\n",
       "      <td>34533.180745</td>\n",
       "    </tr>\n",
       "    <tr>\n",
       "      <th>std</th>\n",
       "      <td>425.209154</td>\n",
       "      <td>12739.384970</td>\n",
       "    </tr>\n",
       "    <tr>\n",
       "      <th>min</th>\n",
       "      <td>-24.500000</td>\n",
       "      <td>67.000000</td>\n",
       "    </tr>\n",
       "    <tr>\n",
       "      <th>25%</th>\n",
       "      <td>440.250000</td>\n",
       "      <td>28559.500000</td>\n",
       "    </tr>\n",
       "    <tr>\n",
       "      <th>50%</th>\n",
       "      <td>804.000000</td>\n",
       "      <td>34935.000000</td>\n",
       "    </tr>\n",
       "    <tr>\n",
       "      <th>75%</th>\n",
       "      <td>1135.500000</td>\n",
       "      <td>45583.500000</td>\n",
       "    </tr>\n",
       "    <tr>\n",
       "      <th>max</th>\n",
       "      <td>1591.000000</td>\n",
       "      <td>59685.000000</td>\n",
       "    </tr>\n",
       "  </tbody>\n",
       "</table>\n",
       "</div>"
      ],
      "text/plain": [
       "            image_x       image_y\n",
       "count  26607.000000  26607.000000\n",
       "mean     793.621958  34533.180745\n",
       "std      425.209154  12739.384970\n",
       "min      -24.500000     67.000000\n",
       "25%      440.250000  28559.500000\n",
       "50%      804.000000  34935.000000\n",
       "75%     1135.500000  45583.500000\n",
       "max     1591.000000  59685.000000"
      ]
     },
     "execution_count": 8,
     "metadata": {},
     "output_type": "execute_result"
    }
   ],
   "source": [
    "data[['image_x','image_y']].describe()"
   ]
  },
  {
   "cell_type": "code",
   "execution_count": 8,
   "metadata": {
    "ExecuteTime": {
     "end_time": "2017-06-20T01:37:38.143387Z",
     "start_time": "2017-06-20T01:37:38.123414Z"
    },
    "collapsed": true,
    "init_cell": true
   },
   "outputs": [],
   "source": [
    "from planet4 import region_data\n",
    "obsids = []\n",
    "for season in ['season2', 'season3']:\n",
    "    for region in ['Ithaca']:\n",
    "        regio = getattr(region_data, region)\n",
    "        season_list = getattr(regio, season)\n",
    "        obsids.extend(season_list)\n"
   ]
  },
  {
   "cell_type": "code",
   "execution_count": 9,
   "metadata": {
    "ExecuteTime": {
     "end_time": "2017-06-20T01:37:39.024269Z",
     "start_time": "2017-06-20T01:37:39.003505Z"
    }
   },
   "outputs": [
    {
     "data": {
      "text/plain": [
       "['ESP_011350_0945',\n",
       " 'ESP_011351_0945',\n",
       " 'ESP_011403_0945',\n",
       " 'ESP_011404_0945',\n",
       " 'ESP_011931_0945',\n",
       " 'ESP_012063_0945',\n",
       " 'ESP_012076_0945',\n",
       " 'ESP_012643_0945',\n",
       " 'ESP_012854_0945',\n",
       " 'ESP_012858_0855',\n",
       " 'ESP_021491_0950',\n",
       " 'ESP_020779_0950',\n",
       " 'ESP_020568_0950',\n",
       " 'ESP_020476_0950',\n",
       " 'ESP_020357_0950',\n",
       " 'ESP_020146_0950']"
      ]
     },
     "execution_count": 9,
     "metadata": {},
     "output_type": "execute_result"
    }
   ],
   "source": [
    "obsids"
   ]
  },
  {
   "cell_type": "code",
   "execution_count": 10,
   "metadata": {
    "ExecuteTime": {
     "end_time": "2017-06-20T01:38:23.992064Z",
     "start_time": "2017-06-20T01:38:23.972394Z"
    },
    "collapsed": true
   },
   "outputs": [],
   "source": [
    "obsids = ['ESP_020568_0950', 'ESP_020779_0950']"
   ]
  },
  {
   "cell_type": "code",
   "execution_count": 11,
   "metadata": {
    "ExecuteTime": {
     "end_time": "2017-06-20T01:38:26.175613Z",
     "start_time": "2017-06-20T01:38:26.156155Z"
    }
   },
   "outputs": [
    {
     "data": {
      "text/plain": [
       "<Logger planet4 (DEBUG)>"
      ]
     },
     "execution_count": 11,
     "metadata": {},
     "output_type": "execute_result"
    }
   ],
   "source": [
    "setup_live_logging('planet4', logging.DEBUG)"
   ]
  },
  {
   "cell_type": "markdown",
   "metadata": {},
   "source": [
    "# Create mosaics"
   ]
  },
  {
   "cell_type": "code",
   "execution_count": 12,
   "metadata": {
    "ExecuteTime": {
     "end_time": "2017-06-20T01:38:38.420125Z",
     "start_time": "2017-06-20T01:38:38.395443Z"
    },
    "collapsed": true
   },
   "outputs": [],
   "source": [
    "from planet4.projection import create_RED45_mosaic\n",
    "from planet4 import io"
   ]
  },
  {
   "cell_type": "code",
   "execution_count": 13,
   "metadata": {
    "ExecuteTime": {
     "end_time": "2017-06-20T01:38:55.089262Z",
     "start_time": "2017-06-20T01:38:54.706472Z"
    }
   },
   "outputs": [
    {
     "name": "stderr",
     "output_type": "stream",
     "text": [
      "2017-06-19 19:38:54,724 - planet4.projection - Processing the EDR data associated with ESP_020568_0950\n"
     ]
    },
    {
     "name": "stdout",
     "output_type": "stream",
     "text": [
      "/Volumes/Data/planet4/p4_ground_projection/ESP_020568_0950/ESP_020568_0950_mosaic_RED45.cub already exists and I am not allowed to overwrite.\n"
     ]
    },
    {
     "data": {
      "text/plain": [
       "('ESP_020568_0950', False)"
      ]
     },
     "execution_count": 13,
     "metadata": {},
     "output_type": "execute_result"
    },
    {
     "name": "stderr",
     "output_type": "stream",
     "text": [
      "2017-06-19 19:38:55,084 - planet4.projection - Processing the EDR data associated with ESP_020779_0950\n"
     ]
    },
    {
     "name": "stdout",
     "output_type": "stream",
     "text": [
      "/Volumes/Data/planet4/p4_ground_projection/ESP_020779_0950/ESP_020779_0950_mosaic_RED45.cub already exists and I am not allowed to overwrite.\n"
     ]
    },
    {
     "data": {
      "text/plain": [
       "('ESP_020779_0950', False)"
      ]
     },
     "execution_count": 13,
     "metadata": {},
     "output_type": "execute_result"
    }
   ],
   "source": [
    "for obsid in obsids:\n",
    "    create_RED45_mosaic(obsid)"
   ]
  },
  {
   "cell_type": "markdown",
   "metadata": {},
   "source": [
    "## Parallel production"
   ]
  },
  {
   "cell_type": "code",
   "execution_count": 9,
   "metadata": {
    "ExecuteTime": {
     "end_time": "2017-06-15T05:45:47.085777Z",
     "start_time": "2017-06-15T05:45:47.055600Z"
    },
    "collapsed": true
   },
   "outputs": [],
   "source": [
    "from ipyparallel import Client\n",
    "c = Client()\n",
    "\n",
    "lbview = c.load_balanced_view()\n",
    "dview = c.direct_view()"
   ]
  },
  {
   "cell_type": "code",
   "execution_count": 10,
   "metadata": {
    "ExecuteTime": {
     "end_time": "2017-06-15T05:45:48.843205Z",
     "start_time": "2017-06-15T05:45:48.763220Z"
    }
   },
   "outputs": [
    {
     "name": "stdout",
     "output_type": "stream",
     "text": [
      "importing create_RED45_mosaic from planet4.projection on engine(s)\n"
     ]
    }
   ],
   "source": [
    "with c[:].sync_imports():\n",
    "    from planet4.projection import create_RED45_mosaic"
   ]
  },
  {
   "cell_type": "code",
   "execution_count": 11,
   "metadata": {
    "ExecuteTime": {
     "end_time": "2017-06-15T05:45:52.523828Z",
     "start_time": "2017-06-15T05:45:52.493664Z"
    },
    "collapsed": true
   },
   "outputs": [],
   "source": [
    "results = lbview.map_async(create_RED45_mosaic, obsids)"
   ]
  },
  {
   "cell_type": "code",
   "execution_count": 12,
   "metadata": {
    "ExecuteTime": {
     "end_time": "2017-06-15T05:45:53.056687Z",
     "start_time": "2017-06-15T05:45:53.037904Z"
    },
    "collapsed": true
   },
   "outputs": [],
   "source": [
    "from nbtools import display_multi_progress"
   ]
  },
  {
   "cell_type": "code",
   "execution_count": 13,
   "metadata": {
    "ExecuteTime": {
     "end_time": "2017-06-15T05:46:31.846335Z",
     "start_time": "2017-06-15T05:45:53.705455Z"
    }
   },
   "outputs": [
    {
     "data": {
      "application/vnd.jupyter.widget-view+json": {
       "model_id": "71b83babc55e4a7c979f2a79ea698196"
      }
     },
     "metadata": {},
     "output_type": "display_data"
    },
    {
     "ename": "KeyboardInterrupt",
     "evalue": "",
     "output_type": "error",
     "traceback": [
      "\u001b[0;31m---------------------------------------------------------------------------\u001b[0m",
      "\u001b[0;31mKeyboardInterrupt\u001b[0m                         Traceback (most recent call last)",
      "\u001b[0;32m<ipython-input-13-7946fdc50bb8>\u001b[0m in \u001b[0;36m<module>\u001b[0;34m()\u001b[0m\n\u001b[0;32m----> 1\u001b[0;31m \u001b[0mdisplay_multi_progress\u001b[0m\u001b[0;34m(\u001b[0m\u001b[0mresults\u001b[0m\u001b[0;34m,\u001b[0m \u001b[0mobsids\u001b[0m\u001b[0;34m)\u001b[0m\u001b[0;34m\u001b[0m\u001b[0m\n\u001b[0m",
      "\u001b[0;32m~/Dropbox/src/nbtools/nbtools/progressbars.py\u001b[0m in \u001b[0;36mdisplay_multi_progress\u001b[0;34m(results, objectlist, sleep)\u001b[0m\n\u001b[1;32m     20\u001b[0m     \u001b[0;32mwhile\u001b[0m \u001b[0;32mnot\u001b[0m \u001b[0mresults\u001b[0m\u001b[0;34m.\u001b[0m\u001b[0mready\u001b[0m\u001b[0;34m(\u001b[0m\u001b[0;34m)\u001b[0m\u001b[0;34m:\u001b[0m\u001b[0;34m\u001b[0m\u001b[0m\n\u001b[1;32m     21\u001b[0m         \u001b[0mprog\u001b[0m\u001b[0;34m.\u001b[0m\u001b[0mvalue\u001b[0m \u001b[0;34m=\u001b[0m \u001b[0mresults\u001b[0m\u001b[0;34m.\u001b[0m\u001b[0mprogress\u001b[0m\u001b[0;34m\u001b[0m\u001b[0m\n\u001b[0;32m---> 22\u001b[0;31m         \u001b[0mtime\u001b[0m\u001b[0;34m.\u001b[0m\u001b[0msleep\u001b[0m\u001b[0;34m(\u001b[0m\u001b[0msleep\u001b[0m\u001b[0;34m)\u001b[0m\u001b[0;34m\u001b[0m\u001b[0m\n\u001b[0m\u001b[1;32m     23\u001b[0m \u001b[0;34m\u001b[0m\u001b[0m\n\u001b[1;32m     24\u001b[0m \u001b[0;34m\u001b[0m\u001b[0m\n",
      "\u001b[0;31mKeyboardInterrupt\u001b[0m: "
     ]
    }
   ],
   "source": [
    "display_multi_progress(results, obsids)"
   ]
  },
  {
   "cell_type": "code",
   "execution_count": 14,
   "metadata": {
    "ExecuteTime": {
     "end_time": "2017-06-15T05:48:40.496900Z",
     "start_time": "2017-06-15T05:46:35.061031Z"
    },
    "scrolled": true
   },
   "outputs": [
    {
     "name": "stdout",
     "output_type": "stream",
     "text": [
      "('ESP_013113_0985', False)\n",
      "('ESP_013034_0985', False)\n",
      "('ESP_012889_0985', False)\n",
      "('ESP_012744_0985', False)\n",
      "('ESP_012691_0985', False)\n",
      "('ESP_012467_0985', False)\n",
      "('ESP_012322_0985', False)\n",
      "('ESP_012256_0985', False)\n",
      "('ESP_011900_0985', False)\n",
      "('ESP_011729_0985', False)\n",
      "('ESP_011702_0985', False)\n",
      "('ESP_011623_0985', False)\n",
      "('ESP_011557_0985', False)\n",
      "('ESP_011544_0985', False)\n",
      "('ESP_011491_0985', False)\n",
      "('ESP_022699_0985', False)\n",
      "('ESP_021460_0985', False)\n",
      "('ESP_020959_0985', False)\n",
      "('ESP_020748_0985', False)\n",
      "('ESP_020194_0985', False)\n",
      "('ESP_020128_0985', False)\n",
      "('ESP_020049_0985', False)\n",
      "('ESP_021829_0985', False)\n",
      "('ESP_021684_0985', True)\n",
      "('ESP_021671_0985', False)\n",
      "('ESP_021605_0985', False)\n",
      "('ESP_021526_0985', False)\n",
      "('ESP_020827_0985', False)\n",
      "('ESP_020339_0985', False)\n",
      "('ESP_020115_0985', False)\n"
     ]
    }
   ],
   "source": [
    "for res in results:\n",
    "    print(res)"
   ]
  },
  {
   "cell_type": "markdown",
   "metadata": {},
   "source": [
    "# xy2latlon"
   ]
  },
  {
   "cell_type": "code",
   "execution_count": 6,
   "metadata": {
    "ExecuteTime": {
     "end_time": "2017-06-20T01:37:28.283129Z",
     "start_time": "2017-06-20T01:37:22.414622Z"
    },
    "collapsed": true,
    "init_cell": true
   },
   "outputs": [],
   "source": [
    "from pysis.isis import campt\n",
    "from pysis.exceptions import ProcessError\n",
    "import pvl\n",
    "from planet4 import io"
   ]
  },
  {
   "cell_type": "code",
   "execution_count": 7,
   "metadata": {
    "ExecuteTime": {
     "end_time": "2017-06-20T01:37:28.331972Z",
     "start_time": "2017-06-20T01:37:28.284874Z"
    },
    "collapsed": true,
    "init_cell": true
   },
   "outputs": [],
   "source": [
    "from pathlib import Path\n",
    "edrpath = io.get_ground_projection_root()\n",
    "clusterpath = io.analysis_folder() / 'p4_catalog'"
   ]
  },
  {
   "cell_type": "code",
   "execution_count": 8,
   "metadata": {
    "ExecuteTime": {
     "end_time": "2017-04-23T23:52:06.806870Z",
     "start_time": "2017-04-23T23:52:06.790967Z"
    }
   },
   "outputs": [
    {
     "data": {
      "text/plain": [
       "'ESP_011350_0945'"
      ]
     },
     "execution_count": 8,
     "metadata": {},
     "output_type": "execute_result"
    }
   ],
   "source": [
    "obsid = obsids[0]\n",
    "obsid"
   ]
  },
  {
   "cell_type": "code",
   "execution_count": 9,
   "metadata": {
    "ExecuteTime": {
     "end_time": "2017-04-23T23:52:11.811273Z",
     "start_time": "2017-04-23T23:52:11.788844Z"
    }
   },
   "outputs": [
    {
     "data": {
      "text/plain": [
       "[PosixPath('/Users/klay6683/Dropbox/data/planet4/p4_analysis/p4_catalog/ESP_011350_0945_blotches.csv'),\n",
       " PosixPath('/Users/klay6683/Dropbox/data/planet4/p4_analysis/p4_catalog/ESP_011350_0945_blotches_base_campt_out.csv'),\n",
       " PosixPath('/Users/klay6683/Dropbox/data/planet4/p4_analysis/p4_catalog/ESP_011350_0945_blotches_latlons.csv'),\n",
       " PosixPath('/Users/klay6683/Dropbox/data/planet4/p4_analysis/p4_catalog/ESP_011350_0945_fans.csv'),\n",
       " PosixPath('/Users/klay6683/Dropbox/data/planet4/p4_analysis/p4_catalog/ESP_011350_0945_fans_base_campt_out.csv')]"
      ]
     },
     "execution_count": 9,
     "metadata": {},
     "output_type": "execute_result"
    }
   ],
   "source": [
    "list(clusterpath.glob(f\"{obsid}_*.csv\"))"
   ]
  },
  {
   "cell_type": "code",
   "execution_count": 10,
   "metadata": {
    "ExecuteTime": {
     "end_time": "2017-04-23T23:52:13.060463Z",
     "start_time": "2017-04-23T23:52:13.015050Z"
    },
    "collapsed": true
   },
   "outputs": [],
   "source": [
    "fpaths = [item for obsid in obsids for item in (clusterpath.glob(\"{}_*.csv\".format(obsid)))]"
   ]
  },
  {
   "cell_type": "code",
   "execution_count": 11,
   "metadata": {
    "ExecuteTime": {
     "end_time": "2017-04-23T23:52:15.913582Z",
     "start_time": "2017-04-23T23:52:15.899388Z"
    },
    "collapsed": true
   },
   "outputs": [],
   "source": [
    "from nbtools import execute_in_parallel"
   ]
  },
  {
   "cell_type": "code",
   "execution_count": 16,
   "metadata": {
    "collapsed": true
   },
   "outputs": [],
   "source": [
    "from ipyparallel import Client\n",
    "c = Client()\n",
    "\n",
    "lbview = c.load_balanced_view()\n",
    "dview = c.direct_view()"
   ]
  },
  {
   "cell_type": "code",
   "execution_count": 17,
   "metadata": {
    "collapsed": true
   },
   "outputs": [],
   "source": [
    "with dview.sync_imports():\n",
    "    from pysis.isis import campt\n",
    "    from pysis.exceptions import ProcessError\n",
    "    from pathlib import Path\n",
    "    from ipyparallel import CompositeError"
   ]
  },
  {
   "cell_type": "code",
   "execution_count": 28,
   "metadata": {
    "ExecuteTime": {
     "end_time": "2017-06-14T19:52:46.255911Z",
     "start_time": "2017-06-14T19:52:46.123353Z"
    },
    "collapsed": true
   },
   "outputs": [],
   "source": [
    "def do_campt(mosaicname, savepath, temppath):\n",
    "    print(\"Calling do_campt\")\n",
    "    try:\n",
    "        campt(from_=mosaicname, to=savepath, format='flat', append='no',\n",
    "              coordlist=temppath, coordtype='image')\n",
    "    except ProcessError as e:\n",
    "        print(e.stderr)\n",
    "        return obsid, False\n",
    "\n",
    "def obsid_marking_from_clusterpath(inpath):\n",
    "    \"\"\"Find obsid and marking kind from HiRISE cluster path.\n",
    "    \n",
    "    For example, a cluster path like this:\n",
    "    '/Users/klay6683/Dropbox/data/planet4/p4_analysis/p4_catalog/ESP_011350_0945_blotches.csv'\n",
    "    will return:\n",
    "    ('ESP_011350_0945', 'blotches')\n",
    "    \"\"\"\n",
    "    s = inpath.stem  # stem is 'name' (without folders) minus extension\n",
    "    # s = ESP_xxxxxx_yyyy_blotches (or ..._fans)\n",
    "    # obsid = s[:until last '_']\n",
    "    sep = s.rfind('_')\n",
    "    return s[:sep], s[sep+1:]\n",
    "\n",
    "    \n",
    "class XY2LATLON:\n",
    "    blotch_coords = ['']  #, 'p1', 'p2', 'p3', 'p4']\n",
    "    fan_coords = ['']   #, 'arm1', 'arm2']\n",
    "    coords_switch = dict(blotches=blotch_coords, fans=fan_coords)\n",
    "    \n",
    "    def __init__(self, inpath):\n",
    "        self.inpath = inpath\n",
    "        self.edrpath = io.get_ground_projection_root()\n",
    "        \n",
    "    @property\n",
    "    def obsid(self):\n",
    "        return obsid_marking_from_clusterpath(self.inpath)[0]\n",
    "    \n",
    "    @property\n",
    "    def marking(self):\n",
    "        return obsid_marking_from_clusterpath(self.inpath)[1]\n",
    "    \n",
    "    @property\n",
    "    def mosaicname(self):\n",
    "        return f\"{self.obsid}_mosaic_RED45.cub\"\n",
    "    \n",
    "    @property\n",
    "    def mosaicpath(self):\n",
    "        return self.edrpath / self.obsid / self.mosaicname\n",
    "    \n",
    "    @property\n",
    "    def df(self):\n",
    "        return pd.read_csv(str(self.inpath))\n",
    "\n",
    "    def process_inpath(self):\n",
    "        df = self.df\n",
    "        for coord in self.coords_switch[self.marking]:\n",
    "            print(\"Working on coordinate:\", coord)        \n",
    "            if coord == '':\n",
    "                name = 'base'\n",
    "                tempcoords = ['x', 'y']\n",
    "    #         else:\n",
    "    #             name = coord\n",
    "    #             tempcoords = [coord + '_x', coord + '_y']\n",
    "            temppath = inpath.with_suffix('.tocampt')\n",
    "            df[tempcoords].to_csv(str(temppath), header=False, index=False)\n",
    "            print(\"name\", name)\n",
    "            savename = f\"{inpath.stem}_{name}_campt_out.csv\"\n",
    "            print(\"savename\", savename)\n",
    "            savepath = clusterpath / savename\n",
    "            try:\n",
    "                do_campt(mosaicpath, savepath, temppath)\n",
    "            except:\n",
    "                return False\n",
    "        return True\n",
    "\n",
    "\n",
    "def xy2latlon(inpath):\n",
    "    d = dict(inpath=inpath)\n",
    "    ok = process_inpath(inpath, *marking_mosaicpath_from_inpath(inpath))\n",
    "    d['ok'] = ok\n",
    "    return d"
   ]
  },
  {
   "cell_type": "code",
   "execution_count": null,
   "metadata": {
    "collapsed": true
   },
   "outputs": [],
   "source": []
  },
  {
   "cell_type": "code",
   "execution_count": 44,
   "metadata": {},
   "outputs": [
    {
     "data": {
      "text/plain": [
       "<AsyncResult: _push>"
      ]
     },
     "execution_count": 44,
     "metadata": {},
     "output_type": "execute_result"
    }
   ],
   "source": [
    "dview.push(dict(process_inpath=process_inpath,\n",
    "                do_campt=do_campt,\n",
    "                blotch_coords=blotch_coords,\n",
    "                fan_coords=fan_coords,\n",
    "                clusterpath=clusterpath,\n",
    "                edrpath=edrpath))"
   ]
  },
  {
   "cell_type": "code",
   "execution_count": 48,
   "metadata": {
    "collapsed": true
   },
   "outputs": [],
   "source": [
    "results = lbview.map_async(xy2latlon, fpaths)"
   ]
  },
  {
   "cell_type": "code",
   "execution_count": 49,
   "metadata": {},
   "outputs": [
    {
     "data": {
      "application/vnd.jupyter.widget-view+json": {
       "model_id": "31bc9aa03c464154b745c3c1c72b7889"
      }
     },
     "metadata": {},
     "output_type": "display_data"
    }
   ],
   "source": [
    "from nbtools import display_multi_progress\n",
    "\n",
    "display_multi_progress(results, fpaths)"
   ]
  },
  {
   "cell_type": "code",
   "execution_count": 51,
   "metadata": {
    "collapsed": true
   },
   "outputs": [],
   "source": [
    "res = pd.DataFrame(results.result())"
   ]
  },
  {
   "cell_type": "code",
   "execution_count": 52,
   "metadata": {},
   "outputs": [
    {
     "data": {
      "text/plain": [
       "True    113\n",
       "Name: ok, dtype: int64"
      ]
     },
     "execution_count": 52,
     "metadata": {},
     "output_type": "execute_result"
    }
   ],
   "source": [
    "res.ok.value_counts()"
   ]
  },
  {
   "cell_type": "code",
   "execution_count": null,
   "metadata": {
    "collapsed": true
   },
   "outputs": [],
   "source": [
    "res[res.ok==False].inpath.values"
   ]
  },
  {
   "cell_type": "markdown",
   "metadata": {},
   "source": [
    "# Combining campt results"
   ]
  },
  {
   "cell_type": "code",
   "execution_count": 11,
   "metadata": {
    "ExecuteTime": {
     "end_time": "2017-04-02T03:03:00.298617Z",
     "start_time": "2017-04-01T21:03:00.282916-06:00"
    },
    "scrolled": true
   },
   "outputs": [
    {
     "data": {
      "text/plain": [
       "PosixPath('/Users/klay6683/Dropbox/data/planet4/p4_analysis/p4_catalog/ESP_011350_0945_blotches.csv')"
      ]
     },
     "execution_count": 11,
     "metadata": {},
     "output_type": "execute_result"
    }
   ],
   "source": [
    "p = fpaths[0]\n",
    "p"
   ]
  },
  {
   "cell_type": "code",
   "execution_count": 14,
   "metadata": {
    "ExecuteTime": {
     "end_time": "2017-04-02T03:03:51.730847Z",
     "start_time": "2017-04-01T21:03:51.699516-06:00"
    },
    "collapsed": true
   },
   "outputs": [],
   "source": [
    "class GroundMarking(object):\n",
    "    def __init__(self, resultfile):\n",
    "        self.p = Path(resultfile)\n",
    "        \n",
    "        # this loop creates filename paths for all coords campt output files\n",
    "        # and assigns them to object attributes, like\n",
    "        # self.basefile, self.p1file, etc.\n",
    "        self.paths = []\n",
    "        self.mapped_coords = []\n",
    "        for coord in self.coords:\n",
    "            path = self.campt_fname(coord)\n",
    "            setattr(self, coord+'file', path)\n",
    "            self.paths.append(path)\n",
    "            self.store_mapped_coords(coord, path)\n",
    "        self.mapped_coords = pd.concat(self.mapped_coords, axis=1)\n",
    "        newpath = self.p.with_name(self.p.stem+'_latlons.csv')\n",
    "        self.mapped_coords.to_csv(str(newpath), index=False)\n",
    "        self.coordspath = newpath\n",
    "\n",
    "    def campt_fname(self, coordname):\n",
    "        return self.p.with_name(self.p.stem + '_{}_campt_out.csv'.format(coordname))\n",
    "    \n",
    "    def store_mapped_coords(self, coord, path):\n",
    "        df = pd.read_csv(path)\n",
    "        subdf = df[['PlanetographicLatitude',\n",
    "                    'PositiveEast360Longitude']]\n",
    "        subdf.columns = [coord+'_lat', coord+'_lon']\n",
    "        self.mapped_coords.append(subdf)\n",
    "\n",
    "class GroundBlotch(GroundMarking):\n",
    "    coords = ['base']  #, 'p1', 'p2', 'p3', 'p4']\n",
    "    kind = 'blotch'\n",
    "\n",
    "\n",
    "class GroundFan(GroundMarking):\n",
    "    coords = ['base', 'arm1', 'arm2']\n",
    "    kind = 'fan'\n",
    "\n",
    "    \n",
    "def get_ground_marking(fname):\n",
    "    tokens = Path(fname).stem.split('_')\n",
    "    if tokens[-1] == 'blotches':\n",
    "        return GroundBlotch(fname)\n",
    "    else:\n",
    "        return GroundFan(fname)"
   ]
  },
  {
   "cell_type": "code",
   "execution_count": 16,
   "metadata": {
    "ExecuteTime": {
     "end_time": "2017-04-02T03:04:27.356634Z",
     "start_time": "2017-04-01T21:04:27.341437-06:00"
    }
   },
   "outputs": [
    {
     "data": {
      "text/plain": [
       "PosixPath('/Users/klay6683/Dropbox/data/planet4/p4_analysis/p4_catalog/ESP_011350_0945_blotches.csv')"
      ]
     },
     "execution_count": 16,
     "metadata": {},
     "output_type": "execute_result"
    }
   ],
   "source": [
    "p"
   ]
  },
  {
   "cell_type": "code",
   "execution_count": 15,
   "metadata": {
    "ExecuteTime": {
     "end_time": "2017-04-02T03:03:52.602566Z",
     "start_time": "2017-04-01T21:03:52.555495-06:00"
    }
   },
   "outputs": [
    {
     "name": "stdout",
     "output_type": "stream",
     "text": [
      "ESP_011350_0945_blotches\n"
     ]
    },
    {
     "data": {
      "text/plain": [
       "<__main__.GroundBlotch at 0x118415f60>"
      ]
     },
     "execution_count": 15,
     "metadata": {},
     "output_type": "execute_result"
    },
    {
     "name": "stdout",
     "output_type": "stream",
     "text": [
      "ESP_011350_0945_blotches_base_campt_out\n"
     ]
    },
    {
     "ename": "FileNotFoundError",
     "evalue": "File b'/Users/klay6683/Dropbox/data/planet4/p4_analysis/p4_catalog/ESP_011350_0945_blotches_base_campt_out_base_campt_out.csv' does not exist",
     "output_type": "error",
     "traceback": [
      "\u001b[0;31m---------------------------------------------------------------------------\u001b[0m",
      "\u001b[0;31mFileNotFoundError\u001b[0m                         Traceback (most recent call last)",
      "\u001b[0;32m<ipython-input-15-3d5e14c816c3>\u001b[0m in \u001b[0;36m<module>\u001b[0;34m()\u001b[0m\n\u001b[1;32m      1\u001b[0m \u001b[0;32mfor\u001b[0m \u001b[0mpath\u001b[0m \u001b[0;32min\u001b[0m \u001b[0mfpaths\u001b[0m\u001b[0;34m:\u001b[0m\u001b[0;34m\u001b[0m\u001b[0m\n\u001b[1;32m      2\u001b[0m     \u001b[0mprint\u001b[0m\u001b[0;34m(\u001b[0m\u001b[0mpath\u001b[0m\u001b[0;34m.\u001b[0m\u001b[0mstem\u001b[0m\u001b[0;34m)\u001b[0m\u001b[0;34m\u001b[0m\u001b[0m\n\u001b[0;32m----> 3\u001b[0;31m     \u001b[0mget_ground_marking\u001b[0m\u001b[0;34m(\u001b[0m\u001b[0mpath\u001b[0m\u001b[0;34m)\u001b[0m\u001b[0;34m\u001b[0m\u001b[0m\n\u001b[0m",
      "\u001b[0;32m<ipython-input-14-16b2cbaad0b4>\u001b[0m in \u001b[0;36mget_ground_marking\u001b[0;34m(fname)\u001b[0m\n\u001b[1;32m     43\u001b[0m         \u001b[0;32mreturn\u001b[0m \u001b[0mGroundBlotch\u001b[0m\u001b[0;34m(\u001b[0m\u001b[0mfname\u001b[0m\u001b[0;34m)\u001b[0m\u001b[0;34m\u001b[0m\u001b[0m\n\u001b[1;32m     44\u001b[0m     \u001b[0;32melse\u001b[0m\u001b[0;34m:\u001b[0m\u001b[0;34m\u001b[0m\u001b[0m\n\u001b[0;32m---> 45\u001b[0;31m         \u001b[0;32mreturn\u001b[0m \u001b[0mGroundFan\u001b[0m\u001b[0;34m(\u001b[0m\u001b[0mfname\u001b[0m\u001b[0;34m)\u001b[0m\u001b[0;34m\u001b[0m\u001b[0m\n\u001b[0m",
      "\u001b[0;32m<ipython-input-14-16b2cbaad0b4>\u001b[0m in \u001b[0;36m__init__\u001b[0;34m(self, resultfile)\u001b[0m\n\u001b[1;32m     12\u001b[0m             \u001b[0msetattr\u001b[0m\u001b[0;34m(\u001b[0m\u001b[0mself\u001b[0m\u001b[0;34m,\u001b[0m \u001b[0mcoord\u001b[0m\u001b[0;34m+\u001b[0m\u001b[0;34m'file'\u001b[0m\u001b[0;34m,\u001b[0m \u001b[0mpath\u001b[0m\u001b[0;34m)\u001b[0m\u001b[0;34m\u001b[0m\u001b[0m\n\u001b[1;32m     13\u001b[0m             \u001b[0mself\u001b[0m\u001b[0;34m.\u001b[0m\u001b[0mpaths\u001b[0m\u001b[0;34m.\u001b[0m\u001b[0mappend\u001b[0m\u001b[0;34m(\u001b[0m\u001b[0mpath\u001b[0m\u001b[0;34m)\u001b[0m\u001b[0;34m\u001b[0m\u001b[0m\n\u001b[0;32m---> 14\u001b[0;31m             \u001b[0mself\u001b[0m\u001b[0;34m.\u001b[0m\u001b[0mstore_mapped_coords\u001b[0m\u001b[0;34m(\u001b[0m\u001b[0mcoord\u001b[0m\u001b[0;34m,\u001b[0m \u001b[0mpath\u001b[0m\u001b[0;34m)\u001b[0m\u001b[0;34m\u001b[0m\u001b[0m\n\u001b[0m\u001b[1;32m     15\u001b[0m         \u001b[0mself\u001b[0m\u001b[0;34m.\u001b[0m\u001b[0mmapped_coords\u001b[0m \u001b[0;34m=\u001b[0m \u001b[0mpd\u001b[0m\u001b[0;34m.\u001b[0m\u001b[0mconcat\u001b[0m\u001b[0;34m(\u001b[0m\u001b[0mself\u001b[0m\u001b[0;34m.\u001b[0m\u001b[0mmapped_coords\u001b[0m\u001b[0;34m,\u001b[0m \u001b[0maxis\u001b[0m\u001b[0;34m=\u001b[0m\u001b[0;36m1\u001b[0m\u001b[0;34m)\u001b[0m\u001b[0;34m\u001b[0m\u001b[0m\n\u001b[1;32m     16\u001b[0m         \u001b[0mnewpath\u001b[0m \u001b[0;34m=\u001b[0m \u001b[0mself\u001b[0m\u001b[0;34m.\u001b[0m\u001b[0mp\u001b[0m\u001b[0;34m.\u001b[0m\u001b[0mwith_name\u001b[0m\u001b[0;34m(\u001b[0m\u001b[0mself\u001b[0m\u001b[0;34m.\u001b[0m\u001b[0mp\u001b[0m\u001b[0;34m.\u001b[0m\u001b[0mstem\u001b[0m\u001b[0;34m+\u001b[0m\u001b[0;34m'_latlons.csv'\u001b[0m\u001b[0;34m)\u001b[0m\u001b[0;34m\u001b[0m\u001b[0m\n",
      "\u001b[0;32m<ipython-input-14-16b2cbaad0b4>\u001b[0m in \u001b[0;36mstore_mapped_coords\u001b[0;34m(self, coord, path)\u001b[0m\n\u001b[1;32m     22\u001b[0m \u001b[0;34m\u001b[0m\u001b[0m\n\u001b[1;32m     23\u001b[0m     \u001b[0;32mdef\u001b[0m \u001b[0mstore_mapped_coords\u001b[0m\u001b[0;34m(\u001b[0m\u001b[0mself\u001b[0m\u001b[0;34m,\u001b[0m \u001b[0mcoord\u001b[0m\u001b[0;34m,\u001b[0m \u001b[0mpath\u001b[0m\u001b[0;34m)\u001b[0m\u001b[0;34m:\u001b[0m\u001b[0;34m\u001b[0m\u001b[0m\n\u001b[0;32m---> 24\u001b[0;31m         \u001b[0mdf\u001b[0m \u001b[0;34m=\u001b[0m \u001b[0mpd\u001b[0m\u001b[0;34m.\u001b[0m\u001b[0mread_csv\u001b[0m\u001b[0;34m(\u001b[0m\u001b[0mpath\u001b[0m\u001b[0;34m)\u001b[0m\u001b[0;34m\u001b[0m\u001b[0m\n\u001b[0m\u001b[1;32m     25\u001b[0m         subdf = df[['PlanetographicLatitude',\n\u001b[1;32m     26\u001b[0m                     'PositiveEast360Longitude']]\n",
      "\u001b[0;32m/Users/klay6683/miniconda3/envs/stable/lib/python3.6/site-packages/pandas/io/parsers.py\u001b[0m in \u001b[0;36mparser_f\u001b[0;34m(filepath_or_buffer, sep, delimiter, header, names, index_col, usecols, squeeze, prefix, mangle_dupe_cols, dtype, engine, converters, true_values, false_values, skipinitialspace, skiprows, nrows, na_values, keep_default_na, na_filter, verbose, skip_blank_lines, parse_dates, infer_datetime_format, keep_date_col, date_parser, dayfirst, iterator, chunksize, compression, thousands, decimal, lineterminator, quotechar, quoting, escapechar, comment, encoding, dialect, tupleize_cols, error_bad_lines, warn_bad_lines, skipfooter, skip_footer, doublequote, delim_whitespace, as_recarray, compact_ints, use_unsigned, low_memory, buffer_lines, memory_map, float_precision)\u001b[0m\n\u001b[1;32m    644\u001b[0m                     skip_blank_lines=skip_blank_lines)\n\u001b[1;32m    645\u001b[0m \u001b[0;34m\u001b[0m\u001b[0m\n\u001b[0;32m--> 646\u001b[0;31m         \u001b[0;32mreturn\u001b[0m \u001b[0m_read\u001b[0m\u001b[0;34m(\u001b[0m\u001b[0mfilepath_or_buffer\u001b[0m\u001b[0;34m,\u001b[0m \u001b[0mkwds\u001b[0m\u001b[0;34m)\u001b[0m\u001b[0;34m\u001b[0m\u001b[0m\n\u001b[0m\u001b[1;32m    647\u001b[0m \u001b[0;34m\u001b[0m\u001b[0m\n\u001b[1;32m    648\u001b[0m     \u001b[0mparser_f\u001b[0m\u001b[0;34m.\u001b[0m\u001b[0m__name__\u001b[0m \u001b[0;34m=\u001b[0m \u001b[0mname\u001b[0m\u001b[0;34m\u001b[0m\u001b[0m\n",
      "\u001b[0;32m/Users/klay6683/miniconda3/envs/stable/lib/python3.6/site-packages/pandas/io/parsers.py\u001b[0m in \u001b[0;36m_read\u001b[0;34m(filepath_or_buffer, kwds)\u001b[0m\n\u001b[1;32m    387\u001b[0m \u001b[0;34m\u001b[0m\u001b[0m\n\u001b[1;32m    388\u001b[0m     \u001b[0;31m# Create the parser.\u001b[0m\u001b[0;34m\u001b[0m\u001b[0;34m\u001b[0m\u001b[0m\n\u001b[0;32m--> 389\u001b[0;31m     \u001b[0mparser\u001b[0m \u001b[0;34m=\u001b[0m \u001b[0mTextFileReader\u001b[0m\u001b[0;34m(\u001b[0m\u001b[0mfilepath_or_buffer\u001b[0m\u001b[0;34m,\u001b[0m \u001b[0;34m**\u001b[0m\u001b[0mkwds\u001b[0m\u001b[0;34m)\u001b[0m\u001b[0;34m\u001b[0m\u001b[0m\n\u001b[0m\u001b[1;32m    390\u001b[0m \u001b[0;34m\u001b[0m\u001b[0m\n\u001b[1;32m    391\u001b[0m     \u001b[0;32mif\u001b[0m \u001b[0;34m(\u001b[0m\u001b[0mnrows\u001b[0m \u001b[0;32mis\u001b[0m \u001b[0;32mnot\u001b[0m \u001b[0;32mNone\u001b[0m\u001b[0;34m)\u001b[0m \u001b[0;32mand\u001b[0m \u001b[0;34m(\u001b[0m\u001b[0mchunksize\u001b[0m \u001b[0;32mis\u001b[0m \u001b[0;32mnot\u001b[0m \u001b[0;32mNone\u001b[0m\u001b[0;34m)\u001b[0m\u001b[0;34m:\u001b[0m\u001b[0;34m\u001b[0m\u001b[0m\n",
      "\u001b[0;32m/Users/klay6683/miniconda3/envs/stable/lib/python3.6/site-packages/pandas/io/parsers.py\u001b[0m in \u001b[0;36m__init__\u001b[0;34m(self, f, engine, **kwds)\u001b[0m\n\u001b[1;32m    728\u001b[0m             \u001b[0mself\u001b[0m\u001b[0;34m.\u001b[0m\u001b[0moptions\u001b[0m\u001b[0;34m[\u001b[0m\u001b[0;34m'has_index_names'\u001b[0m\u001b[0;34m]\u001b[0m \u001b[0;34m=\u001b[0m \u001b[0mkwds\u001b[0m\u001b[0;34m[\u001b[0m\u001b[0;34m'has_index_names'\u001b[0m\u001b[0;34m]\u001b[0m\u001b[0;34m\u001b[0m\u001b[0m\n\u001b[1;32m    729\u001b[0m \u001b[0;34m\u001b[0m\u001b[0m\n\u001b[0;32m--> 730\u001b[0;31m         \u001b[0mself\u001b[0m\u001b[0;34m.\u001b[0m\u001b[0m_make_engine\u001b[0m\u001b[0;34m(\u001b[0m\u001b[0mself\u001b[0m\u001b[0;34m.\u001b[0m\u001b[0mengine\u001b[0m\u001b[0;34m)\u001b[0m\u001b[0;34m\u001b[0m\u001b[0m\n\u001b[0m\u001b[1;32m    731\u001b[0m \u001b[0;34m\u001b[0m\u001b[0m\n\u001b[1;32m    732\u001b[0m     \u001b[0;32mdef\u001b[0m \u001b[0mclose\u001b[0m\u001b[0;34m(\u001b[0m\u001b[0mself\u001b[0m\u001b[0;34m)\u001b[0m\u001b[0;34m:\u001b[0m\u001b[0;34m\u001b[0m\u001b[0m\n",
      "\u001b[0;32m/Users/klay6683/miniconda3/envs/stable/lib/python3.6/site-packages/pandas/io/parsers.py\u001b[0m in \u001b[0;36m_make_engine\u001b[0;34m(self, engine)\u001b[0m\n\u001b[1;32m    921\u001b[0m     \u001b[0;32mdef\u001b[0m \u001b[0m_make_engine\u001b[0m\u001b[0;34m(\u001b[0m\u001b[0mself\u001b[0m\u001b[0;34m,\u001b[0m \u001b[0mengine\u001b[0m\u001b[0;34m=\u001b[0m\u001b[0;34m'c'\u001b[0m\u001b[0;34m)\u001b[0m\u001b[0;34m:\u001b[0m\u001b[0;34m\u001b[0m\u001b[0m\n\u001b[1;32m    922\u001b[0m         \u001b[0;32mif\u001b[0m \u001b[0mengine\u001b[0m \u001b[0;34m==\u001b[0m \u001b[0;34m'c'\u001b[0m\u001b[0;34m:\u001b[0m\u001b[0;34m\u001b[0m\u001b[0m\n\u001b[0;32m--> 923\u001b[0;31m             \u001b[0mself\u001b[0m\u001b[0;34m.\u001b[0m\u001b[0m_engine\u001b[0m \u001b[0;34m=\u001b[0m \u001b[0mCParserWrapper\u001b[0m\u001b[0;34m(\u001b[0m\u001b[0mself\u001b[0m\u001b[0;34m.\u001b[0m\u001b[0mf\u001b[0m\u001b[0;34m,\u001b[0m \u001b[0;34m**\u001b[0m\u001b[0mself\u001b[0m\u001b[0;34m.\u001b[0m\u001b[0moptions\u001b[0m\u001b[0;34m)\u001b[0m\u001b[0;34m\u001b[0m\u001b[0m\n\u001b[0m\u001b[1;32m    924\u001b[0m         \u001b[0;32melse\u001b[0m\u001b[0;34m:\u001b[0m\u001b[0;34m\u001b[0m\u001b[0m\n\u001b[1;32m    925\u001b[0m             \u001b[0;32mif\u001b[0m \u001b[0mengine\u001b[0m \u001b[0;34m==\u001b[0m \u001b[0;34m'python'\u001b[0m\u001b[0;34m:\u001b[0m\u001b[0;34m\u001b[0m\u001b[0m\n",
      "\u001b[0;32m/Users/klay6683/miniconda3/envs/stable/lib/python3.6/site-packages/pandas/io/parsers.py\u001b[0m in \u001b[0;36m__init__\u001b[0;34m(self, src, **kwds)\u001b[0m\n\u001b[1;32m   1388\u001b[0m         \u001b[0mkwds\u001b[0m\u001b[0;34m[\u001b[0m\u001b[0;34m'allow_leading_cols'\u001b[0m\u001b[0;34m]\u001b[0m \u001b[0;34m=\u001b[0m \u001b[0mself\u001b[0m\u001b[0;34m.\u001b[0m\u001b[0mindex_col\u001b[0m \u001b[0;32mis\u001b[0m \u001b[0;32mnot\u001b[0m \u001b[0;32mFalse\u001b[0m\u001b[0;34m\u001b[0m\u001b[0m\n\u001b[1;32m   1389\u001b[0m \u001b[0;34m\u001b[0m\u001b[0m\n\u001b[0;32m-> 1390\u001b[0;31m         \u001b[0mself\u001b[0m\u001b[0;34m.\u001b[0m\u001b[0m_reader\u001b[0m \u001b[0;34m=\u001b[0m \u001b[0m_parser\u001b[0m\u001b[0;34m.\u001b[0m\u001b[0mTextReader\u001b[0m\u001b[0;34m(\u001b[0m\u001b[0msrc\u001b[0m\u001b[0;34m,\u001b[0m \u001b[0;34m**\u001b[0m\u001b[0mkwds\u001b[0m\u001b[0;34m)\u001b[0m\u001b[0;34m\u001b[0m\u001b[0m\n\u001b[0m\u001b[1;32m   1391\u001b[0m \u001b[0;34m\u001b[0m\u001b[0m\n\u001b[1;32m   1392\u001b[0m         \u001b[0;31m# XXX\u001b[0m\u001b[0;34m\u001b[0m\u001b[0;34m\u001b[0m\u001b[0m\n",
      "\u001b[0;32mpandas/parser.pyx\u001b[0m in \u001b[0;36mpandas.parser.TextReader.__cinit__ (pandas/parser.c:4184)\u001b[0;34m()\u001b[0m\n",
      "\u001b[0;32mpandas/parser.pyx\u001b[0m in \u001b[0;36mpandas.parser.TextReader._setup_parser_source (pandas/parser.c:8449)\u001b[0;34m()\u001b[0m\n",
      "\u001b[0;31mFileNotFoundError\u001b[0m: File b'/Users/klay6683/Dropbox/data/planet4/p4_analysis/p4_catalog/ESP_011350_0945_blotches_base_campt_out_base_campt_out.csv' does not exist"
     ]
    }
   ],
   "source": [
    "for path in fpaths:\n",
    "    print(path.stem)\n",
    "    get_ground_marking(path)"
   ]
  },
  {
   "cell_type": "markdown",
   "metadata": {
    "collapsed": true
   },
   "source": [
    "# Tile coordinates"
   ]
  },
  {
   "cell_type": "code",
   "execution_count": 36,
   "metadata": {
    "ExecuteTime": {
     "end_time": "2017-06-15T07:52:48.846552Z",
     "start_time": "2017-06-15T07:52:48.828611Z"
    },
    "collapsed": true
   },
   "outputs": [],
   "source": [
    "from planet4.projection import TileCalculator, xy_to_hirise\n",
    "from planet4 import projection as proj"
   ]
  },
  {
   "cell_type": "code",
   "execution_count": 37,
   "metadata": {
    "ExecuteTime": {
     "end_time": "2017-06-15T07:52:49.270072Z",
     "start_time": "2017-06-15T07:52:49.251064Z"
    }
   },
   "outputs": [
    {
     "data": {
      "text/plain": [
       "PosixPath('/Volumes/Data/planet4/p4_ground_projection')"
      ]
     },
     "execution_count": 37,
     "metadata": {},
     "output_type": "execute_result"
    }
   ],
   "source": [
    "edrpath"
   ]
  },
  {
   "cell_type": "code",
   "execution_count": 38,
   "metadata": {
    "ExecuteTime": {
     "end_time": "2017-06-15T07:52:54.549096Z",
     "start_time": "2017-06-15T07:52:54.531356Z"
    },
    "collapsed": true
   },
   "outputs": [],
   "source": [
    "cubepaths = [edrpath / obsid / f\"{obsid}_mosaic_RED45.cub\" for obsid in obsids]"
   ]
  },
  {
   "cell_type": "code",
   "execution_count": 39,
   "metadata": {
    "ExecuteTime": {
     "end_time": "2017-06-15T07:52:57.483139Z",
     "start_time": "2017-06-15T07:52:57.464091Z"
    }
   },
   "outputs": [
    {
     "data": {
      "text/plain": [
       "[PosixPath('/Volumes/Data/planet4/p4_ground_projection/ESP_011350_0945/ESP_011350_0945_mosaic_RED45.cub'),\n",
       " PosixPath('/Volumes/Data/planet4/p4_ground_projection/ESP_011351_0945/ESP_011351_0945_mosaic_RED45.cub'),\n",
       " PosixPath('/Volumes/Data/planet4/p4_ground_projection/ESP_011403_0945/ESP_011403_0945_mosaic_RED45.cub'),\n",
       " PosixPath('/Volumes/Data/planet4/p4_ground_projection/ESP_011404_0945/ESP_011404_0945_mosaic_RED45.cub'),\n",
       " PosixPath('/Volumes/Data/planet4/p4_ground_projection/ESP_011931_0945/ESP_011931_0945_mosaic_RED45.cub'),\n",
       " PosixPath('/Volumes/Data/planet4/p4_ground_projection/ESP_012063_0945/ESP_012063_0945_mosaic_RED45.cub'),\n",
       " PosixPath('/Volumes/Data/planet4/p4_ground_projection/ESP_012076_0945/ESP_012076_0945_mosaic_RED45.cub'),\n",
       " PosixPath('/Volumes/Data/planet4/p4_ground_projection/ESP_012643_0945/ESP_012643_0945_mosaic_RED45.cub'),\n",
       " PosixPath('/Volumes/Data/planet4/p4_ground_projection/ESP_012854_0945/ESP_012854_0945_mosaic_RED45.cub'),\n",
       " PosixPath('/Volumes/Data/planet4/p4_ground_projection/ESP_012858_0855/ESP_012858_0855_mosaic_RED45.cub'),\n",
       " PosixPath('/Volumes/Data/planet4/p4_ground_projection/ESP_021491_0950/ESP_021491_0950_mosaic_RED45.cub'),\n",
       " PosixPath('/Volumes/Data/planet4/p4_ground_projection/ESP_020779_0950/ESP_020779_0950_mosaic_RED45.cub'),\n",
       " PosixPath('/Volumes/Data/planet4/p4_ground_projection/ESP_020568_0950/ESP_020568_0950_mosaic_RED45.cub'),\n",
       " PosixPath('/Volumes/Data/planet4/p4_ground_projection/ESP_020476_0950/ESP_020476_0950_mosaic_RED45.cub'),\n",
       " PosixPath('/Volumes/Data/planet4/p4_ground_projection/ESP_020357_0950/ESP_020357_0950_mosaic_RED45.cub'),\n",
       " PosixPath('/Volumes/Data/planet4/p4_ground_projection/ESP_020146_0950/ESP_020146_0950_mosaic_RED45.cub')]"
      ]
     },
     "execution_count": 39,
     "metadata": {},
     "output_type": "execute_result"
    }
   ],
   "source": [
    "cubepaths"
   ]
  },
  {
   "cell_type": "code",
   "execution_count": 40,
   "metadata": {
    "ExecuteTime": {
     "end_time": "2017-06-15T07:55:04.565838Z",
     "start_time": "2017-06-15T07:53:07.468766Z"
    },
    "scrolled": false
   },
   "outputs": [
    {
     "name": "stdout",
     "output_type": "stream",
     "text": [
      "/Volumes/Data/planet4/p4_ground_projection/ESP_011350_0945/ESP_011350_0945_mosaic_RED45.cub\n",
      "Calling do_campt\n",
      "Created /Volumes/Data/planet4/p4_ground_projection/ESP_011350_0945/ESP_011350_0945_tile_coords.csv\n",
      "/Volumes/Data/planet4/p4_ground_projection/ESP_011351_0945/ESP_011351_0945_mosaic_RED45.cub\n",
      "Calling do_campt\n",
      "Created /Volumes/Data/planet4/p4_ground_projection/ESP_011351_0945/ESP_011351_0945_tile_coords.csv\n",
      "/Volumes/Data/planet4/p4_ground_projection/ESP_011403_0945/ESP_011403_0945_mosaic_RED45.cub\n",
      "Calling do_campt\n",
      "Created /Volumes/Data/planet4/p4_ground_projection/ESP_011403_0945/ESP_011403_0945_tile_coords.csv\n",
      "/Volumes/Data/planet4/p4_ground_projection/ESP_011404_0945/ESP_011404_0945_mosaic_RED45.cub\n",
      "Calling do_campt\n",
      "Created /Volumes/Data/planet4/p4_ground_projection/ESP_011404_0945/ESP_011404_0945_tile_coords.csv\n",
      "/Volumes/Data/planet4/p4_ground_projection/ESP_011931_0945/ESP_011931_0945_mosaic_RED45.cub\n",
      "Calling do_campt\n",
      "Created /Volumes/Data/planet4/p4_ground_projection/ESP_011931_0945/ESP_011931_0945_tile_coords.csv\n",
      "/Volumes/Data/planet4/p4_ground_projection/ESP_012063_0945/ESP_012063_0945_mosaic_RED45.cub\n",
      "Calling do_campt\n",
      "Created /Volumes/Data/planet4/p4_ground_projection/ESP_012063_0945/ESP_012063_0945_tile_coords.csv\n",
      "/Volumes/Data/planet4/p4_ground_projection/ESP_012076_0945/ESP_012076_0945_mosaic_RED45.cub\n",
      "Calling do_campt\n",
      "Created /Volumes/Data/planet4/p4_ground_projection/ESP_012076_0945/ESP_012076_0945_tile_coords.csv\n",
      "/Volumes/Data/planet4/p4_ground_projection/ESP_012643_0945/ESP_012643_0945_mosaic_RED45.cub\n",
      "Calling do_campt\n",
      "Created /Volumes/Data/planet4/p4_ground_projection/ESP_012643_0945/ESP_012643_0945_tile_coords.csv\n",
      "/Volumes/Data/planet4/p4_ground_projection/ESP_012854_0945/ESP_012854_0945_mosaic_RED45.cub\n",
      "Calling do_campt\n",
      "Created /Volumes/Data/planet4/p4_ground_projection/ESP_012854_0945/ESP_012854_0945_tile_coords.csv\n",
      "/Volumes/Data/planet4/p4_ground_projection/ESP_012858_0855/ESP_012858_0855_mosaic_RED45.cub\n",
      "Calling do_campt\n",
      "Created /Volumes/Data/planet4/p4_ground_projection/ESP_012858_0855/ESP_012858_0855_tile_coords.csv\n",
      "/Volumes/Data/planet4/p4_ground_projection/ESP_021491_0950/ESP_021491_0950_mosaic_RED45.cub\n",
      "Calling do_campt\n",
      "Created /Volumes/Data/planet4/p4_ground_projection/ESP_021491_0950/ESP_021491_0950_tile_coords.csv\n",
      "/Volumes/Data/planet4/p4_ground_projection/ESP_020779_0950/ESP_020779_0950_mosaic_RED45.cub\n",
      "Calling do_campt\n",
      "Created /Volumes/Data/planet4/p4_ground_projection/ESP_020779_0950/ESP_020779_0950_tile_coords.csv\n",
      "/Volumes/Data/planet4/p4_ground_projection/ESP_020568_0950/ESP_020568_0950_mosaic_RED45.cub\n",
      "Calling do_campt\n",
      "Created /Volumes/Data/planet4/p4_ground_projection/ESP_020568_0950/ESP_020568_0950_tile_coords.csv\n",
      "/Volumes/Data/planet4/p4_ground_projection/ESP_020476_0950/ESP_020476_0950_mosaic_RED45.cub\n",
      "Calling do_campt\n",
      "Created /Volumes/Data/planet4/p4_ground_projection/ESP_020476_0950/ESP_020476_0950_tile_coords.csv\n",
      "/Volumes/Data/planet4/p4_ground_projection/ESP_020357_0950/ESP_020357_0950_mosaic_RED45.cub\n",
      "Calling do_campt\n",
      "Created /Volumes/Data/planet4/p4_ground_projection/ESP_020357_0950/ESP_020357_0950_tile_coords.csv\n",
      "/Volumes/Data/planet4/p4_ground_projection/ESP_020146_0950/ESP_020146_0950_mosaic_RED45.cub\n",
      "Calling do_campt\n",
      "Created /Volumes/Data/planet4/p4_ground_projection/ESP_020146_0950/ESP_020146_0950_tile_coords.csv\n"
     ]
    }
   ],
   "source": [
    "for cubepath in cubepaths:\n",
    "    print(cubepath)\n",
    "    tilecalc = TileCalculator(cubepath)\n",
    "    tilecalc.calc_tile_coords()"
   ]
  },
  {
   "cell_type": "code",
   "execution_count": 30,
   "metadata": {
    "ExecuteTime": {
     "end_time": "2017-06-15T07:49:51.074126Z",
     "start_time": "2017-06-15T07:49:39.379965Z"
    },
    "collapsed": true
   },
   "outputs": [],
   "source": [
    "bucket = []\n",
    "for cubepath in cubepaths:\n",
    "    tilecalc = TileCalculator(cubepath)\n",
    "    img_name = tilecalc.img_name\n",
    "    final_fname = f\"{img_name}_tile_coords.csv\"\n",
    "    coordspath = Path(cubepath).parent / final_fname\n",
    "    df = pd.read_csv(coordspath)\n",
    "    df['image_name'] = img_name\n",
    "    bucket.append(df)"
   ]
  },
  {
   "cell_type": "code",
   "execution_count": 31,
   "metadata": {
    "ExecuteTime": {
     "end_time": "2017-06-15T07:49:54.607145Z",
     "start_time": "2017-06-15T07:49:54.571033Z"
    },
    "collapsed": true
   },
   "outputs": [],
   "source": [
    "coords = pd.concat(bucket, ignore_index=True)"
   ]
  },
  {
   "cell_type": "code",
   "execution_count": 32,
   "metadata": {
    "ExecuteTime": {
     "end_time": "2017-06-15T07:49:55.553711Z",
     "start_time": "2017-06-15T07:49:55.527308Z"
    }
   },
   "outputs": [
    {
     "data": {
      "text/html": [
       "<div>\n",
       "<style>\n",
       "    .dataframe thead tr:only-child th {\n",
       "        text-align: right;\n",
       "    }\n",
       "\n",
       "    .dataframe thead th {\n",
       "        text-align: left;\n",
       "    }\n",
       "\n",
       "    .dataframe tbody tr th {\n",
       "        vertical-align: top;\n",
       "    }\n",
       "</style>\n",
       "<table border=\"1\" class=\"dataframe\">\n",
       "  <thead>\n",
       "    <tr style=\"text-align: right;\">\n",
       "      <th></th>\n",
       "      <th>xy_hirise</th>\n",
       "      <th>x_hirise</th>\n",
       "      <th>y_hirise</th>\n",
       "      <th>PlanetocentricLatitude</th>\n",
       "      <th>PlanetographicLatitude</th>\n",
       "      <th>PositiveEast360Longitude</th>\n",
       "      <th>image_id</th>\n",
       "      <th>x_tile</th>\n",
       "      <th>y_tile</th>\n",
       "      <th>image_name</th>\n",
       "    </tr>\n",
       "  </thead>\n",
       "  <tbody>\n",
       "    <tr>\n",
       "      <th>0</th>\n",
       "      <td>(420.0, 324.0)</td>\n",
       "      <td>420.0</td>\n",
       "      <td>324.0</td>\n",
       "      <td>-81.483714</td>\n",
       "      <td>-81.582232</td>\n",
       "      <td>296.098134</td>\n",
       "      <td>APF000014i</td>\n",
       "      <td>1</td>\n",
       "      <td>1</td>\n",
       "      <td>ESP_013113_0985</td>\n",
       "    </tr>\n",
       "    <tr>\n",
       "      <th>1</th>\n",
       "      <td>(420.0, 872.0)</td>\n",
       "      <td>420.0</td>\n",
       "      <td>872.0</td>\n",
       "      <td>-81.479361</td>\n",
       "      <td>-81.577928</td>\n",
       "      <td>296.089005</td>\n",
       "      <td>APF0000118</td>\n",
       "      <td>1</td>\n",
       "      <td>2</td>\n",
       "      <td>ESP_013113_0985</td>\n",
       "    </tr>\n",
       "    <tr>\n",
       "      <th>2</th>\n",
       "      <td>(420.0, 1420.0)</td>\n",
       "      <td>420.0</td>\n",
       "      <td>1420.0</td>\n",
       "      <td>-81.475006</td>\n",
       "      <td>-81.573622</td>\n",
       "      <td>296.079898</td>\n",
       "      <td>APF000013o</td>\n",
       "      <td>1</td>\n",
       "      <td>3</td>\n",
       "      <td>ESP_013113_0985</td>\n",
       "    </tr>\n",
       "    <tr>\n",
       "      <th>3</th>\n",
       "      <td>(420.0, 1968.0)</td>\n",
       "      <td>420.0</td>\n",
       "      <td>1968.0</td>\n",
       "      <td>-81.470644</td>\n",
       "      <td>-81.569309</td>\n",
       "      <td>296.070956</td>\n",
       "      <td>APF000010q</td>\n",
       "      <td>1</td>\n",
       "      <td>4</td>\n",
       "      <td>ESP_013113_0985</td>\n",
       "    </tr>\n",
       "    <tr>\n",
       "      <th>4</th>\n",
       "      <td>(420.0, 2516.0)</td>\n",
       "      <td>420.0</td>\n",
       "      <td>2516.0</td>\n",
       "      <td>-81.466281</td>\n",
       "      <td>-81.564995</td>\n",
       "      <td>296.061811</td>\n",
       "      <td>APF000014f</td>\n",
       "      <td>1</td>\n",
       "      <td>5</td>\n",
       "      <td>ESP_013113_0985</td>\n",
       "    </tr>\n",
       "  </tbody>\n",
       "</table>\n",
       "</div>"
      ],
      "text/plain": [
       "         xy_hirise  x_hirise  y_hirise  PlanetocentricLatitude  \\\n",
       "0   (420.0, 324.0)     420.0     324.0              -81.483714   \n",
       "1   (420.0, 872.0)     420.0     872.0              -81.479361   \n",
       "2  (420.0, 1420.0)     420.0    1420.0              -81.475006   \n",
       "3  (420.0, 1968.0)     420.0    1968.0              -81.470644   \n",
       "4  (420.0, 2516.0)     420.0    2516.0              -81.466281   \n",
       "\n",
       "   PlanetographicLatitude  PositiveEast360Longitude    image_id  x_tile  \\\n",
       "0              -81.582232                296.098134  APF000014i       1   \n",
       "1              -81.577928                296.089005  APF0000118       1   \n",
       "2              -81.573622                296.079898  APF000013o       1   \n",
       "3              -81.569309                296.070956  APF000010q       1   \n",
       "4              -81.564995                296.061811  APF000014f       1   \n",
       "\n",
       "   y_tile       image_name  \n",
       "0       1  ESP_013113_0985  \n",
       "1       2  ESP_013113_0985  \n",
       "2       3  ESP_013113_0985  \n",
       "3       4  ESP_013113_0985  \n",
       "4       5  ESP_013113_0985  "
      ]
     },
     "execution_count": 32,
     "metadata": {},
     "output_type": "execute_result"
    }
   ],
   "source": [
    "coords.head()"
   ]
  },
  {
   "cell_type": "code",
   "execution_count": 33,
   "metadata": {
    "ExecuteTime": {
     "end_time": "2017-06-15T07:50:11.999367Z",
     "start_time": "2017-06-15T07:50:11.925039Z"
    },
    "collapsed": true
   },
   "outputs": [],
   "source": [
    "coords.to_csv('/Users/klay6683/Dropbox/data/planet4/p4_analysis/for_chase/inca_tile_coords.csv')"
   ]
  },
  {
   "cell_type": "code",
   "execution_count": null,
   "metadata": {
    "collapsed": true
   },
   "outputs": [],
   "source": []
  },
  {
   "cell_type": "code",
   "execution_count": null,
   "metadata": {
    "collapsed": true
   },
   "outputs": [],
   "source": []
  },
  {
   "cell_type": "code",
   "execution_count": 214,
   "metadata": {
    "collapsed": true
   },
   "outputs": [],
   "source": [
    "meta = pd.read_hdf('/Users/klay6683/Dropbox/SternchenAndMe/python_stuff/hirise_rdr_index.hdf')"
   ]
  }
 ],
 "metadata": {
  "kernelspec": {
   "display_name": "Python [conda env:stable]",
   "language": "python",
   "name": "conda-env-stable-py"
  },
  "language_info": {
   "codemirror_mode": {
    "name": "ipython",
    "version": 3
   },
   "file_extension": ".py",
   "mimetype": "text/x-python",
   "name": "python",
   "nbconvert_exporter": "python",
   "pygments_lexer": "ipython3",
   "version": "3.6.1"
  },
  "latex_envs": {
   "LaTeX_envs_menu_present": true,
   "bibliofile": "biblio.bib",
   "cite_by": "apalike",
   "current_citInitial": 1,
   "eqLabelWithNumbers": true,
   "eqNumInitial": 1,
   "labels_anchors": false,
   "latex_user_defs": false,
   "report_style_numbering": false,
   "user_envs_cfg": false
  },
  "toc": {
   "colors": {
    "hover_highlight": "#DAA520",
    "navigate_num": "#000000",
    "navigate_text": "#333333",
    "running_highlight": "#FF0000",
    "selected_highlight": "#FFD700",
    "sidebar_border": "#EEEEEE",
    "wrapper_background": "#FFFFFF"
   },
   "moveMenuLeft": true,
   "nav_menu": {
    "height": "101px",
    "width": "253px"
   },
   "navigate_menu": true,
   "number_sections": false,
   "sideBar": false,
   "threshold": 4,
   "toc_cell": true,
   "toc_position": {
    "height": "197px",
    "left": "774px",
    "right": "20px",
    "top": "109px",
    "width": "180px"
   },
   "toc_section_display": "block",
   "toc_window_display": true,
   "widenNotebook": false
  },
  "widgets": {
   "state": {
    "28df9956fbd54ab98bdb749d87c4ef6e": {
     "views": [
      {
       "cell_index": 8
      }
     ]
    }
   },
   "version": "1.2.0"
  }
 },
 "nbformat": 4,
 "nbformat_minor": 1
}
