{
 "cells": [
  {
   "cell_type": "code",
   "execution_count": 5,
   "metadata": {
    "collapsed": false
   },
   "outputs": [],
   "source": [
    "from __future__ import print_function, division\n",
    "import planet4 as p4\n",
    "import pandas as pd\n",
    "from planet4 import markings\n",
    "from planet4.get_data import get_current_database_fname\n",
    "from planet4 import clustering\n",
    "import os\n",
    "from os.path import join as pjoin\n",
    "HOME = os.environ['HOME']"
   ]
  },
  {
   "cell_type": "code",
   "execution_count": 2,
   "metadata": {
    "collapsed": false
   },
   "outputs": [
    {
     "data": {
      "text/plain": [
       "<class 'pandas.io.pytables.HDFStore'>\n",
       "File path: /Users/klay6683/data/planet4/2015-01-25_planet_four_classifications_queryable.h5\n",
       "/df            frame_table  (typ->appendable,nrows->11979081,ncols->22,indexers->[index],dc->[classification_id,image_id,image_name,user_name,marking,acquisition_date,local_mars_time])"
      ]
     },
     "execution_count": 2,
     "metadata": {},
     "output_type": "execute_result"
    }
   ],
   "source": [
    "dbfile = get_current_database_fname()\n",
    "store = pd.HDFStore(dbfile)\n",
    "store"
   ]
  },
  {
   "cell_type": "code",
   "execution_count": 3,
   "metadata": {
    "collapsed": false
   },
   "outputs": [],
   "source": [
    "image_names = store.select_column('df', 'image_name')"
   ]
  },
  {
   "cell_type": "code",
   "execution_count": 7,
   "metadata": {
    "collapsed": true
   },
   "outputs": [],
   "source": [
    "from IPython.parallel import Client\n",
    "client = Client()"
   ]
  },
  {
   "cell_type": "code",
   "execution_count": 15,
   "metadata": {
    "collapsed": false
   },
   "outputs": [],
   "source": [
    "dview = client.direct_view()\n",
    "lview = client.load_balanced_view()"
   ]
  },
  {
   "cell_type": "code",
   "execution_count": 49,
   "metadata": {
    "collapsed": true
   },
   "outputs": [],
   "source": [
    "%%px\n",
    "import pandas as pd\n",
    "from planet4 import clustering, markings\n",
    "from os.path import join as pjoin\n",
    "import os\n",
    "HOME = os.environ['HOME']"
   ]
  },
  {
   "cell_type": "code",
   "execution_count": 50,
   "metadata": {
    "collapsed": false
   },
   "outputs": [],
   "source": [
    "img_name = \"ESP_011623_0985\"\n",
    "\n",
    "def do_blotches(p4img):\n",
    "    reduced = clustering.perform_dbscan(p4img.get_blotches())\n",
    "    if reduced is None:\n",
    "        return None\n",
    "    series = [blotch.data for blotch in reduced]\n",
    "    df = pd.DataFrame(series)\n",
    "    df['image_id'] = p4img.imgid\n",
    "    return df\n",
    "\n",
    "def do_fans(p4img):\n",
    "    reduced = clustering.perform_dbscan(p4img.get_fans(), fans=True)\n",
    "    if reduced is None:\n",
    "        return None\n",
    "    series = [fan.data for fan in reduced]\n",
    "    df = pd.DataFrame(series)\n",
    "    df['image_id'] = p4img.imgid\n",
    "    return df\n",
    "    \n",
    "def process_image_name(image_name):\n",
    "    data = pd.read_hdf(dbfile, 'df', where=\"image_name=\"+image_name)\n",
    "    img_ids = data.image_id.unique()\n",
    "    print(\"Found {} unique P4 image_ids.\".format(img_ids.shape[0]))\n",
    "    blotches = []\n",
    "    fans = []\n",
    "    for img_id in img_ids:\n",
    "        print(img_id)\n",
    "        p4img = markings.ImageID(img_id)\n",
    "        blotches.append(do_blotches(p4img))\n",
    "        fans.append(do_fans(p4img))\n",
    "    blotches = pd.concat(blotches, ignore_index=True)\n",
    "    dirname = pjoin(HOME, 'data/planet4/reduced')\n",
    "    blotches.to_hdf(pjoin(dirname, image_name + '_reduced_blotches.hdf'), 'df')\n",
    "    fans = pd.concat(fans, ignore_index=True)\n",
    "    fans.to_hdf(image_name + '_reduced_fans.hdf', 'df')"
   ]
  },
  {
   "cell_type": "code",
   "execution_count": 51,
   "metadata": {
    "collapsed": false
   },
   "outputs": [
    {
     "data": {
      "text/plain": [
       "<AsyncResult: finished>"
      ]
     },
     "execution_count": 51,
     "metadata": {},
     "output_type": "execute_result"
    }
   ],
   "source": [
    "dview.push({'do_blotches':do_blotches,\n",
    "            'do_fans':do_fans,\n",
    "            'dbfile':dbfile})"
   ]
  },
  {
   "cell_type": "code",
   "execution_count": 52,
   "metadata": {
    "collapsed": false
   },
   "outputs": [],
   "source": [
    "result = lview.map_async(process_image_name, image_names[:2])"
   ]
  },
  {
   "cell_type": "code",
   "execution_count": 53,
   "metadata": {
    "collapsed": false
   },
   "outputs": [
    {
     "data": {
      "text/plain": [
       "[None, None]"
      ]
     },
     "execution_count": 53,
     "metadata": {},
     "output_type": "execute_result"
    }
   ],
   "source": [
    "result.get()"
   ]
  },
  {
   "cell_type": "code",
   "execution_count": 7,
   "metadata": {
    "collapsed": false
   },
   "outputs": [
    {
     "name": "stdout",
     "output_type": "stream",
     "text": [
      "ESP_011623_0985_reduced_blotches.hdf  ESP_011623_0985_reduced_fans.hdf\r\n"
     ]
    }
   ],
   "source": [
    "ls *.hdf"
   ]
  },
  {
   "cell_type": "code",
   "execution_count": 14,
   "metadata": {
    "collapsed": false
   },
   "outputs": [],
   "source": [
    "def cluster_p4_id(image_id):\n",
    "    imgid = markings.ImageID(image_id)\n",
    "    reduced_blotches = clustering.perform_dbscan(imgid.get_blotches())\n",
    "    series = [b.data for b in reduced_blotches]\n",
    "    df = pd.DataFrame(series)\n",
    "    df['image_id'] = image_id\n",
    "    return df"
   ]
  },
  {
   "cell_type": "code",
   "execution_count": 15,
   "metadata": {
    "collapsed": true
   },
   "outputs": [
    {
     "name": "stdout",
     "output_type": "stream",
     "text": [
      "APF00001r0\n",
      "Estimated number of clusters: 10\n",
      "APF00001qv\n",
      "Estimated number of clusters: 12\n",
      "APF00001rk\n",
      "Estimated number of clusters: 14\n",
      "APF00001su\n",
      "Estimated number of clusters: 4\n",
      "APF00001qs\n",
      "Estimated number of clusters: 5\n",
      "APF00001qp\n",
      "Estimated number of clusters: 11\n",
      "APF00001sa\n",
      "Estimated number of clusters: 19\n",
      "APF00001t1\n",
      "Estimated number of clusters: 12\n",
      "APF00001s4\n",
      "Estimated number of clusters: 2\n",
      "APF00001rs\n",
      "Estimated number of clusters: 21\n",
      "APF00001r6\n",
      "Estimated number of clusters: 10\n",
      "APF00001rl\n",
      "Estimated number of clusters: 4\n",
      "APF00001rv\n",
      "Estimated number of clusters: 6\n",
      "APF00001sx\n",
      "Estimated number of clusters: 3\n",
      "APF00001rh\n",
      "Estimated number of clusters: 8\n",
      "APF00001ql\n",
      "Estimated number of clusters: 10\n",
      "APF00001sh\n",
      "Estimated number of clusters: 10\n",
      "APF00001sr\n",
      "Estimated number of clusters: 12\n",
      "APF00001qk\n",
      "Estimated number of clusters: 10\n",
      "APF00001r1\n",
      "Estimated number of clusters: 5\n",
      "APF00001s7\n",
      "Estimated number of clusters: 9\n",
      "APF00001s0\n",
      "Estimated number of clusters: 5\n",
      "APF00001sd\n",
      "Estimated number of clusters: 14\n",
      "APF00001qu\n",
      "Estimated number of clusters: 11\n",
      "APF00001sn\n",
      "Estimated number of clusters: 12\n",
      "APF00001st\n",
      "Estimated number of clusters: 13\n",
      "APF00001rz\n",
      "Estimated number of clusters: 11\n",
      "APF00001s3\n",
      "Estimated number of clusters: 8\n",
      "APF00001qx\n",
      "Estimated number of clusters: 6\n",
      "APF00001ss\n",
      "Estimated number of clusters: 5\n",
      "APF00001q6\n",
      "Estimated number of clusters: 15\n",
      "APF00001rc\n",
      "Estimated number of clusters: 18\n",
      "APF00001rq\n",
      "Estimated number of clusters: 3\n",
      "APF00001rp\n",
      "Estimated number of clusters: 23\n",
      "APF00001r8\n",
      "Estimated number of clusters: 19\n",
      "APF00001rb\n",
      "Estimated number of clusters: 12\n",
      "APF00001sz\n",
      "Estimated number of clusters: 8\n",
      "APF00001sq\n",
      "Estimated number of clusters: 23\n",
      "APF00001sc\n",
      "Estimated number of clusters: 19\n",
      "APF00001qf\n",
      "Estimated number of clusters: 12\n",
      "APF00001q2\n",
      "Estimated number of clusters: 4\n",
      "APF00001sb\n",
      "Estimated number of clusters: 9\n",
      "APF00001t0\n",
      "Estimated number of clusters: 16\n",
      "APF00001r7\n",
      "Estimated number of clusters: 18\n",
      "APF00001q7\n",
      "Estimated number of clusters: 21\n",
      "APF00001sl\n",
      "Estimated number of clusters: 5\n",
      "APF00001q5\n",
      "Estimated number of clusters: 2\n",
      "APF00001ri\n",
      "Estimated number of clusters: 20\n",
      "APF00001r5\n",
      "Estimated number of clusters: 1\n",
      "APF00001qw\n",
      "Estimated number of clusters: 18\n",
      "APF00001rm\n",
      "Estimated number of clusters: 6\n",
      "APF00001qg\n",
      "Estimated number of clusters: 7\n",
      "APF00001q4\n",
      "Estimated number of clusters: 21\n",
      "APF00001qz\n",
      "Estimated number of clusters: 3\n",
      "APF00001sf\n",
      "Estimated number of clusters: 13\n",
      "APF00001sg\n",
      "Estimated number of clusters: 19\n",
      "APF00001qb\n",
      "Estimated number of clusters: 6\n",
      "APF00001ra\n",
      "Estimated number of clusters: 4\n",
      "APF00001q3\n",
      "Estimated number of clusters: 23\n",
      "APF00001qj\n",
      "Estimated number of clusters: 17\n",
      "APF00001se\n",
      "Estimated number of clusters: 9\n",
      "APF00001rf\n",
      "Estimated number of clusters: 18\n",
      "APF00001qy\n",
      "Estimated number of clusters: 9\n",
      "APF00001so\n",
      "Estimated number of clusters: 3\n",
      "APF00001rt\n",
      "Estimated number of clusters: 28\n",
      "APF00001r9\n",
      "Estimated number of clusters: 11\n",
      "APF00001rr\n",
      "Estimated number of clusters: 12\n",
      "APF00001re\n",
      "Estimated number of clusters: 34\n",
      "APF00001s2\n",
      "Estimated number of clusters: 4\n",
      "APF00001s9\n",
      "Estimated number of clusters: 31\n",
      "APF00001rj\n",
      "Estimated number of clusters: 19\n",
      "APF00001ru\n",
      "Estimated number of clusters: 18\n",
      "APF00001s8\n",
      "Estimated number of clusters: 18\n",
      "APF00001s1\n",
      "Estimated number of clusters: 3\n",
      "APF00001qc\n",
      "Estimated number of clusters: 6\n",
      "APF00001qn\n",
      "Estimated number of clusters: 17\n",
      "APF00001qm\n",
      "Estimated number of clusters: 6\n",
      "APF00001qr\n",
      "Estimated number of clusters: 7\n",
      "APF00001sk\n",
      "Estimated number of clusters: 3\n",
      "APF00001sy\n",
      "Estimated number of clusters: 1\n",
      "APF00001ry\n",
      "Estimated number of clusters: 13\n",
      "APF00001qa\n",
      "Estimated number of clusters: 4\n",
      "APF00001r2\n",
      "Estimated number of clusters: 3\n",
      "APF00001rw\n",
      "Estimated number of clusters: 13\n",
      "APF00001s6\n",
      "Estimated number of clusters: 9\n",
      "APF00001qq\n",
      "Estimated number of clusters: 10\n",
      "APF00001sj\n",
      "Estimated number of clusters: 11\n",
      "APF00001sw\n",
      "Estimated number of clusters: 3\n",
      "APF00001rx\n",
      "Estimated number of clusters: 11\n",
      "APF00001q9\n",
      "Estimated number of clusters: 9\n",
      "APF00001q8\n",
      "Estimated number of clusters: 9\n",
      "APF00001qe\n",
      "Estimated number of clusters: 15\n",
      "APF00001sm\n",
      "Estimated number of clusters: 7\n",
      "APF00001qi\n",
      "Estimated number of clusters: 7\n",
      "APF00001r3\n",
      "Estimated number of clusters: 10\n",
      "APF00001s5\n",
      "Estimated number of clusters: 7\n",
      "APF00001sp\n",
      "Estimated number of clusters: 13\n",
      "APF00001rn\n",
      "Estimated number of clusters: 3\n",
      "APF00001rd\n",
      "Estimated number of clusters: 3\n",
      "APF00001ro\n",
      "Estimated number of clusters: 10\n",
      "APF00001si\n",
      "Estimated number of clusters: 21\n",
      "APF00001qd\n",
      "Estimated number of clusters: 8\n",
      "APF00001qo\n",
      "Estimated number of clusters: 8\n",
      "APF00001rg\n",
      "Estimated number of clusters: 5\n",
      "APF00001qh\n",
      "Estimated number of clusters: 0\n",
      "APF00001qt\n",
      "Estimated number of clusters: 10\n",
      "APF00001r4\n",
      "Estimated number of clusters: 8\n",
      "APF00001sv\n",
      "Estimated number of clusters: 15\n"
     ]
    }
   ],
   "source": [
    "results = []\n",
    "for img_id in img_ids:\n",
    "    print img_id\n",
    "    results.append(cluster_p4_id(img_id))"
   ]
  },
  {
   "cell_type": "code",
   "execution_count": 16,
   "metadata": {
    "collapsed": false
   },
   "outputs": [
    {
     "data": {
      "text/plain": [
       "108"
      ]
     },
     "execution_count": 16,
     "metadata": {},
     "output_type": "execute_result"
    }
   ],
   "source": [
    "len(results)"
   ]
  },
  {
   "cell_type": "code",
   "execution_count": 17,
   "metadata": {
    "collapsed": false
   },
   "outputs": [],
   "source": [
    "image_name_blotches = pd.concat(results, ignore_index=True)"
   ]
  },
  {
   "cell_type": "code",
   "execution_count": 18,
   "metadata": {
    "collapsed": false
   },
   "outputs": [],
   "source": [
    "image_name_blotches.to_csv('ESP_011623_0985_reduced_blotches.csv')"
   ]
  },
  {
   "cell_type": "code",
   "execution_count": null,
   "metadata": {
    "collapsed": false
   },
   "outputs": [],
   "source": []
  }
 ],
 "metadata": {
  "language_info": {
   "codemirror_mode": {
    "name": "ipython",
    "version": 2
   },
   "file_extension": ".py",
   "mimetype": "text/x-python",
   "name": "python",
   "nbconvert_exporter": "python",
   "pygments_lexer": "ipython2",
   "version": "2.7.9"
  }
 },
 "nbformat": 4,
 "nbformat_minor": 0
}
