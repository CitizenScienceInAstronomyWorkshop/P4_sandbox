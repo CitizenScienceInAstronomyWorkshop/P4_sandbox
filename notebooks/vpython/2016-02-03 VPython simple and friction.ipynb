{
 "cells": [
  {
   "cell_type": "code",
   "execution_count": null,
   "metadata": {
    "collapsed": false
   },
   "outputs": [],
   "source": [
    "from vpython import sphere, canvas, box, vec, color, rate"
   ]
  },
  {
   "cell_type": "code",
   "execution_count": null,
   "metadata": {
    "collapsed": false
   },
   "outputs": [],
   "source": [
    "win=600\n",
    "\n",
    "L = 10. # container is a cube L on a side\n",
    "\n",
    "gray = vec(0.7,0.7,0.7)  # color of edges of container\n",
    "\n",
    "up = vec(0, 0, 1)"
   ]
  },
  {
   "cell_type": "code",
   "execution_count": null,
   "metadata": {
    "collapsed": false,
    "scrolled": false
   },
   "outputs": [],
   "source": [
    "scene = canvas(title=\"Fans\", width=win, height=win, x=0, y=0,\n",
    "               center=vec(0, 0, 0), forward=vec(1,0,-0.5),\n",
    "               up=up)\n",
    "scene.autoscale = False\n",
    "scene.range = 10\n",
    "\n",
    "h = 0.1\n",
    "mybox = box(pos=vec(0, 0, -h/2), length=L, height=h, width=L, up=up, color=gray)\n",
    "\n",
    "m = 1  # kg\n",
    "radius = 0.5  # arbitrary for now\n",
    "dt = 1e-3\n",
    "start = vec(0, 0, radius)\n",
    "v0 = vec(0, 0, 10)\n",
    "g = vec(0, 0, -9.81)\n",
    "Fg = m*g\n",
    "particles =[]\n",
    "\n",
    "for position, c in zip([start, start+vec(0, 3*radius, 0)],\n",
    "                           [color.red, color.blue]):\n",
    "    p = sphere(pos=position, radius=radius, color=c)\n",
    "    p.v = v0\n",
    "    p.update = True  # to determine if needs position update\n",
    "    particles.append(p)"
   ]
  },
  {
   "cell_type": "code",
   "execution_count": null,
   "metadata": {
    "collapsed": false
   },
   "outputs": [],
   "source": [
    "k = 1\n",
    "\n",
    "while True:\n",
    "    rate(500)\n",
    "    \n",
    "    # update position first\n",
    "    for p in particles:\n",
    "        if p.update:\n",
    "            p.pos += p.v*dt\n",
    "        if p.pos.z < start.z:\n",
    "            p.update = False\n",
    "    # calculate friction force\n",
    "    \n",
    "    Fd = -k * particles[1].v\n",
    "    Fnet = Fg + Fd\n",
    "    a = Fnet / m\n",
    "    \n",
    "    particles[0].v += g*dt\n",
    "    particles[1].v += a*dt\n",
    "    \n",
    "    if all([not p.update for p in particles]):\n",
    "        break"
   ]
  },
  {
   "cell_type": "code",
   "execution_count": null,
   "metadata": {
    "collapsed": true
   },
   "outputs": [],
   "source": []
  }
 ],
 "metadata": {
  "kernelspec": {
   "display_name": "Python 3",
   "language": "python",
   "name": "python3"
  },
  "language_info": {
   "codemirror_mode": {
    "name": "ipython",
    "version": 3
   },
   "file_extension": ".py",
   "mimetype": "text/x-python",
   "name": "python",
   "nbconvert_exporter": "python",
   "pygments_lexer": "ipython3",
   "version": "3.5.1"
  }
 },
 "nbformat": 4,
 "nbformat_minor": 0
}
