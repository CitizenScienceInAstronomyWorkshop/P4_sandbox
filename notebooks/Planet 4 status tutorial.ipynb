{
 "cells": [
  {
   "cell_type": "markdown",
   "metadata": {
    "toc": true
   },
   "source": [
    "<h1>Table of Contents<span class=\"tocSkip\"></span></h1>\n",
    "<div class=\"toc\" style=\"margin-top: 1em;\"><ul class=\"toc-item\"><li><span><a href=\"#Task:-Define-status-of-Planet-4\" data-toc-modified-id=\"Task:-Define-status-of-Planet-4-1\"><span class=\"toc-item-num\">1&nbsp;&nbsp;</span>Task: Define status of Planet 4</a></span><ul class=\"toc-item\"><li><span><a href=\"#Image-IDs\" data-toc-modified-id=\"Image-IDs-1.1\"><span class=\"toc-item-num\">1.1&nbsp;&nbsp;</span>Image IDs</a></span></li><li><span><a href=\"#Classification-IDs\" data-toc-modified-id=\"Classification-IDs-1.2\"><span class=\"toc-item-num\">1.2&nbsp;&nbsp;</span>Classification IDs</a></span><ul class=\"toc-item\"><li><span><a href=\"#Uniqueness-within-Image_ID!\" data-toc-modified-id=\"Uniqueness-within-Image_ID!-1.2.1\"><span class=\"toc-item-num\">1.2.1&nbsp;&nbsp;</span>Uniqueness within Image_ID!</a></span></li></ul></li><li><span><a href=\"#Percentages-done.\" data-toc-modified-id=\"Percentages-done.-1.3\"><span class=\"toc-item-num\">1.3&nbsp;&nbsp;</span>Percentages done.</a></span></li><li><span><a href=\"#Separate-for-seasons\" data-toc-modified-id=\"Separate-for-seasons-1.4\"><span class=\"toc-item-num\">1.4&nbsp;&nbsp;</span>Separate for seasons</a></span><ul class=\"toc-item\"><li><span><a href=\"#Percentages-done\" data-toc-modified-id=\"Percentages-done-1.4.1\"><span class=\"toc-item-num\">1.4.1&nbsp;&nbsp;</span>Percentages done</a></span></li></ul></li></ul></li><li><span><a href=\"#Problem-??\" data-toc-modified-id=\"Problem-??-2\"><span class=\"toc-item-num\">2&nbsp;&nbsp;</span>Problem ??</a></span><ul class=\"toc-item\"><li><span><a href=\"#Group-by-user_name-instead-of-classification_id\" data-toc-modified-id=\"Group-by-user_name-instead-of-classification_id-2.1\"><span class=\"toc-item-num\">2.1&nbsp;&nbsp;</span>Group by user_name instead of classification_id</a></span><ul class=\"toc-item\"><li><span><a href=\"#The-subframe-known-as-jp7\" data-toc-modified-id=\"The-subframe-known-as-jp7-2.1.1\"><span class=\"toc-item-num\">2.1.1&nbsp;&nbsp;</span>The subframe known as jp7</a></span></li></ul></li><li><span><a href=\"#Some-instructive-plots\" data-toc-modified-id=\"Some-instructive-plots-2.2\"><span class=\"toc-item-num\">2.2&nbsp;&nbsp;</span>Some instructive plots</a></span><ul class=\"toc-item\"><li><span><a href=\"#Plot-over-required-constraint\" data-toc-modified-id=\"Plot-over-required-constraint-2.2.1\"><span class=\"toc-item-num\">2.2.1&nbsp;&nbsp;</span>Plot over required constraint</a></span></li><li><span><a href=\"#How-do-the-different-existing-user-counts-distribute\" data-toc-modified-id=\"How-do-the-different-existing-user-counts-distribute-2.2.2\"><span class=\"toc-item-num\">2.2.2&nbsp;&nbsp;</span>How do the different existing user counts distribute</a></span></li></ul></li></ul></li></ul></div>"
   ]
  },
  {
   "cell_type": "markdown",
   "metadata": {},
   "source": [
    "# Task: Define status of Planet 4"
   ]
  },
  {
   "cell_type": "markdown",
   "metadata": {},
   "source": [
    "First import the `pandas` data table analyis library and check which version I'm using (as I'm constantly changing that to keep up-to-date.)"
   ]
  },
  {
   "cell_type": "code",
   "execution_count": 1,
   "metadata": {
    "ExecuteTime": {
     "end_time": "2017-12-30T09:12:19.444104Z",
     "start_time": "2017-12-30T09:12:19.421605Z"
    }
   },
   "outputs": [],
   "source": [
    "import planet4 as p4\n",
    "import pandas as pd\n",
    "from planet4 import io"
   ]
  },
  {
   "cell_type": "code",
   "execution_count": 2,
   "metadata": {
    "ExecuteTime": {
     "end_time": "2017-12-29T17:39:56.911658Z",
     "start_time": "2017-12-29T17:39:56.896911Z"
    }
   },
   "outputs": [],
   "source": [
    "db = io.DBManager()\n",
    "db_fname = db.dbname"
   ]
  },
  {
   "cell_type": "code",
   "execution_count": 3,
   "metadata": {
    "ExecuteTime": {
     "end_time": "2017-12-29T17:39:58.102649Z",
     "start_time": "2017-12-29T17:39:58.086060Z"
    }
   },
   "outputs": [
    {
     "data": {
      "text/plain": [
       "'/Users/klay6683/Dropbox/data/planet4/2017-12-31_planet_four_classifications_queryable_cleaned_seasons2and3.h5'"
      ]
     },
     "execution_count": 3,
     "metadata": {},
     "output_type": "execute_result"
    }
   ],
   "source": [
    "db.dbname"
   ]
  },
  {
   "cell_type": "markdown",
   "metadata": {},
   "source": [
    "Because the Seasons 2 and 3 together only use about 1.7 GB of RAM, no need of special on-disk techniques, I can just load in the whole file."
   ]
  },
  {
   "cell_type": "code",
   "execution_count": 4,
   "metadata": {
    "ExecuteTime": {
     "end_time": "2017-12-29T17:41:00.831601Z",
     "start_time": "2017-12-29T17:40:02.438028Z"
    }
   },
   "outputs": [],
   "source": [
    "df = db.get_all()"
   ]
  },
  {
   "cell_type": "code",
   "execution_count": 5,
   "metadata": {
    "ExecuteTime": {
     "end_time": "2017-12-29T17:41:00.854636Z",
     "start_time": "2017-12-29T17:41:00.833335Z"
    }
   },
   "outputs": [
    {
     "name": "stdout",
     "output_type": "stream",
     "text": [
      "<class 'pandas.core.frame.DataFrame'>\n",
      "Int64Index: 9559593 entries, 0 to 9559592\n",
      "Data columns (total 23 columns):\n",
      "classification_id    object\n",
      "created_at           datetime64[ns]\n",
      "image_id             object\n",
      "image_name           object\n",
      "image_url            object\n",
      "user_name            object\n",
      "marking              object\n",
      "x_tile               int64\n",
      "y_tile               int64\n",
      "acquisition_date     datetime64[ns]\n",
      "local_mars_time      object\n",
      "x                    float64\n",
      "y                    float64\n",
      "image_x              float64\n",
      "image_y              float64\n",
      "radius_1             float64\n",
      "radius_2             float64\n",
      "distance             float64\n",
      "angle                float64\n",
      "spread               float64\n",
      "version              float64\n",
      "x_angle              float64\n",
      "y_angle              float64\n",
      "dtypes: datetime64[ns](2), float64(12), int64(2), object(7)\n",
      "memory usage: 1.7+ GB\n"
     ]
    }
   ],
   "source": [
    "df.info()"
   ]
  },
  {
   "cell_type": "code",
   "execution_count": 6,
   "metadata": {
    "ExecuteTime": {
     "end_time": "2017-12-29T17:41:01.685720Z",
     "start_time": "2017-12-29T17:41:00.856136Z"
    }
   },
   "outputs": [
    {
     "data": {
      "text/plain": [
       "84595"
      ]
     },
     "execution_count": 6,
     "metadata": {},
     "output_type": "execute_result"
    }
   ],
   "source": [
    "df.user_name.nunique()"
   ]
  },
  {
   "cell_type": "code",
   "execution_count": 7,
   "metadata": {
    "ExecuteTime": {
     "end_time": "2017-12-29T17:41:05.633742Z",
     "start_time": "2017-12-29T17:41:01.687246Z"
    }
   },
   "outputs": [
    {
     "data": {
      "text/plain": [
       "48153"
      ]
     },
     "execution_count": 7,
     "metadata": {},
     "output_type": "execute_result"
    }
   ],
   "source": [
    "df[df.user_name.str.startswith('not-logged-in')].user_name.nunique()"
   ]
  },
  {
   "cell_type": "code",
   "execution_count": 118,
   "metadata": {
    "ExecuteTime": {
     "end_time": "2017-12-30T10:49:18.043441Z",
     "start_time": "2017-12-30T10:49:11.344320Z"
    }
   },
   "outputs": [
    {
     "data": {
      "text/plain": [
       "(2792963, 24)"
      ]
     },
     "execution_count": 118,
     "metadata": {},
     "output_type": "execute_result"
    }
   ],
   "source": [
    "df[df.marking=='fan'].shape"
   ]
  },
  {
   "cell_type": "code",
   "execution_count": 119,
   "metadata": {
    "ExecuteTime": {
     "end_time": "2017-12-30T10:49:33.991081Z",
     "start_time": "2017-12-30T10:49:31.423750Z"
    }
   },
   "outputs": [
    {
     "data": {
      "text/plain": [
       "(3460052, 24)"
      ]
     },
     "execution_count": 119,
     "metadata": {},
     "output_type": "execute_result"
    }
   ],
   "source": [
    "df[df.marking=='blotch'].shape"
   ]
  },
  {
   "cell_type": "code",
   "execution_count": 8,
   "metadata": {
    "ExecuteTime": {
     "end_time": "2017-12-30T10:49:33.991081Z",
     "start_time": "2017-12-30T10:49:31.423750Z"
    }
   },
   "outputs": [
    {
     "data": {
      "text/plain": [
       "(805902, 23)"
      ]
     },
     "execution_count": 8,
     "metadata": {},
     "output_type": "execute_result"
    }
   ],
   "source": [
    "df[df.marking=='interesting'].shape"
   ]
  },
  {
   "cell_type": "code",
   "execution_count": 9,
   "metadata": {
    "ExecuteTime": {
     "end_time": "2017-12-29T17:41:07.631093Z",
     "start_time": "2017-12-29T17:41:07.614657Z"
    }
   },
   "outputs": [
    {
     "data": {
      "text/plain": [
       "(9559593, 23)"
      ]
     },
     "execution_count": 9,
     "metadata": {},
     "output_type": "execute_result"
    }
   ],
   "source": [
    "df.shape"
   ]
  },
  {
   "cell_type": "markdown",
   "metadata": {},
   "source": [
    "## Image IDs\n",
    "For a simple first task, let's get a list of unique image ids, to know how many objects have been published."
   ]
  },
  {
   "cell_type": "code",
   "execution_count": 10,
   "metadata": {
    "ExecuteTime": {
     "end_time": "2017-12-29T17:41:24.295526Z",
     "start_time": "2017-12-29T17:41:23.583840Z"
    }
   },
   "outputs": [],
   "source": [
    "img_ids = df.image_id.unique()\n",
    "img_names = df.image_name.unique()"
   ]
  },
  {
   "cell_type": "markdown",
   "metadata": {},
   "source": [
    "So, how many objects were online:"
   ]
  },
  {
   "cell_type": "code",
   "execution_count": 11,
   "metadata": {
    "ExecuteTime": {
     "end_time": "2017-12-29T17:41:26.333373Z",
     "start_time": "2017-12-29T17:41:26.316984Z"
    }
   },
   "outputs": [
    {
     "name": "stdout",
     "output_type": "stream",
     "text": [
      "42904\n",
      "221\n"
     ]
    }
   ],
   "source": [
    "no_all = len(img_ids)\n",
    "print(no_all)\n",
    "n_images = len(img_names)\n",
    "print(n_images)"
   ]
  },
  {
   "cell_type": "markdown",
   "metadata": {},
   "source": [
    "## Classification IDs\n",
    "Now we need to find out how often each image_id has been looked at. \n",
    "For that we have the groupby functionality. \n",
    "Specifically, because we want to know how many citizens have submitted a classification for each image_id, we need to group by the image_id and count the unique classification_ids within each image_id group. \n",
    "\n",
    "### Uniqueness within Image_ID!\n",
    "We need to constrain for uniqueness because each classified object is included with the same classification_id and we don't want to count them more than once, because we are interested in the overall submission only for now.\n",
    "\n",
    "In other words: Because the different fans, blobs and interesting things for one image_id have all been submitted with the same classification_id, I need to constrain to unique classification_ids, otherwise images with a lot of submitted items would appear 'more completed' just for having a lot of fan-content, and not for being analyzed by a lot of citizens, which is what we want."
   ]
  },
  {
   "cell_type": "code",
   "execution_count": 12,
   "metadata": {
    "ExecuteTime": {
     "end_time": "2017-12-29T17:41:57.278636Z",
     "start_time": "2017-12-29T17:41:49.879630Z"
    }
   },
   "outputs": [],
   "source": [
    "from planet4 import stats\n",
    "\n",
    "stats.define_season_column(df)"
   ]
  },
  {
   "cell_type": "code",
   "execution_count": 13,
   "metadata": {
    "ExecuteTime": {
     "end_time": "2017-12-29T17:41:59.520291Z",
     "start_time": "2017-12-29T17:41:59.504166Z"
    }
   },
   "outputs": [],
   "source": [
    "grp = df.groupby(['season', 'image_id'])"
   ]
  },
  {
   "cell_type": "code",
   "execution_count": 14,
   "metadata": {
    "ExecuteTime": {
     "end_time": "2017-12-29T17:42:16.506066Z",
     "start_time": "2017-12-29T17:42:01.252850Z"
    }
   },
   "outputs": [],
   "source": [
    "counts = grp.classification_id.nunique()"
   ]
  },
  {
   "cell_type": "code",
   "execution_count": 15,
   "metadata": {
    "ExecuteTime": {
     "end_time": "2017-12-29T17:42:16.603154Z",
     "start_time": "2017-12-29T17:42:16.507526Z"
    }
   },
   "outputs": [],
   "source": [
    "%matplotlib ipympl"
   ]
  },
  {
   "cell_type": "code",
   "execution_count": 16,
   "metadata": {
    "ExecuteTime": {
     "end_time": "2017-12-29T17:42:17.398093Z",
     "start_time": "2017-12-29T17:42:16.604664Z"
    }
   },
   "outputs": [],
   "source": [
    "import seaborn as sns"
   ]
  },
  {
   "cell_type": "code",
   "execution_count": 160,
   "metadata": {
    "ExecuteTime": {
     "end_time": "2017-12-28T21:31:13.265218Z",
     "start_time": "2017-12-28T21:31:13.239512Z"
    }
   },
   "outputs": [],
   "source": [
    "plt.close('all')"
   ]
  },
  {
   "cell_type": "code",
   "execution_count": 18,
   "metadata": {
    "ExecuteTime": {
     "end_time": "2017-12-29T17:42:54.673161Z",
     "start_time": "2017-12-29T17:42:54.654495Z"
    }
   },
   "outputs": [],
   "source": [
    "sns.set_palette('colorblind', 4)"
   ]
  },
  {
   "cell_type": "code",
   "execution_count": 19,
   "metadata": {
    "ExecuteTime": {
     "end_time": "2017-12-29T17:42:54.998790Z",
     "start_time": "2017-12-29T17:42:54.979623Z"
    }
   },
   "outputs": [],
   "source": [
    "pal = sns.color_palette(\"colorblind\", 4)"
   ]
  },
  {
   "cell_type": "code",
   "execution_count": 20,
   "metadata": {
    "ExecuteTime": {
     "end_time": "2017-12-29T17:42:56.595269Z",
     "start_time": "2017-12-29T17:42:56.575419Z"
    }
   },
   "outputs": [
    {
     "data": {
      "text/plain": [
       "array([ 25,  30,  35,  40,  45,  50,  55,  60,  65,  70,  75,  80,  85,\n",
       "        90,  95, 100, 105, 110, 115, 120, 125, 130, 135, 140, 145, 150,\n",
       "       155, 160, 165])"
      ]
     },
     "execution_count": 20,
     "metadata": {},
     "output_type": "execute_result"
    }
   ],
   "source": [
    "bins = np.arange(25, 170, 5)\n",
    "bins"
   ]
  },
  {
   "cell_type": "code",
   "execution_count": 21,
   "metadata": {
    "ExecuteTime": {
     "end_time": "2017-12-29T17:43:01.801817Z",
     "start_time": "2017-12-29T17:43:01.778367Z"
    }
   },
   "outputs": [],
   "source": [
    "n_my29 = counts.loc[2].size\n",
    "n_my30 = counts.loc[3].size"
   ]
  },
  {
   "cell_type": "code",
   "execution_count": 27,
   "metadata": {
    "ExecuteTime": {
     "end_time": "2017-12-30T08:30:55.659115Z",
     "start_time": "2017-12-30T08:30:55.587320Z"
    }
   },
   "outputs": [],
   "source": [
    "sns.distplot?"
   ]
  },
  {
   "cell_type": "code",
   "execution_count": 64,
   "metadata": {
    "ExecuteTime": {
     "end_time": "2017-12-30T08:54:06.820507Z",
     "start_time": "2017-12-30T08:54:06.469615Z"
    },
    "scrolled": false
   },
   "outputs": [
    {
     "data": {
      "application/vnd.jupyter.widget-view+json": {
       "model_id": "e0d770fbde5f406d93c3af17b889af40",
       "version_major": 2,
       "version_minor": 0
      },
      "text/html": [
       "<p>Failed to display Jupyter Widget of type <code>FigureCanvasNbAgg</code>.</p>\n",
       "<p>\n",
       "  If you're reading this message in the Jupyter Notebook or JupyterLab Notebook, it may mean\n",
       "  that the widgets JavaScript is still loading. If this message persists, it\n",
       "  likely means that the widgets JavaScript library is either not installed or\n",
       "  not enabled. See the <a href=\"https://ipywidgets.readthedocs.io/en/stable/user_install.html\">Jupyter\n",
       "  Widgets Documentation</a> for setup instructions.\n",
       "</p>\n",
       "<p>\n",
       "  If you're reading this message in another frontend (for example, a static\n",
       "  rendering on GitHub or <a href=\"https://nbviewer.jupyter.org/\">NBViewer</a>),\n",
       "  it may mean that your frontend doesn't currently support widgets.\n",
       "</p>\n"
      ],
      "text/plain": [
       "FigureCanvasNbAgg()"
      ]
     },
     "metadata": {},
     "output_type": "display_data"
    }
   ],
   "source": [
    "fig, ax = plt.subplots()\n",
    "kwargs = {'alpha':0.2}\n",
    "axlabel=\"Number of classifications per Planet Four tile\"\n",
    "sns.distplot(counts.loc[2], label='MY29', ax=ax, kde=True, bins=bins, color=pal[0],\n",
    "             hist_kws=kwargs)\n",
    "sns.distplot(counts.loc[3], label='MY30', ax=ax, kde=True, bins=bins, color=pal[2],\n",
    "             axlabel=axlabel, hist_kws=kwargs)\n",
    "ax.set_ylabel('Density')\n",
    "ax.legend()\n",
    "ax.set_title(\"Distribution of Planet Four classification counts\")\n",
    "fig.savefig(\"/Users/klay6683/Dropbox/src/p4_paper1/figures/count_stats.png\",\n",
    "            dpi=200)"
   ]
  },
  {
   "cell_type": "code",
   "execution_count": 105,
   "metadata": {
    "ExecuteTime": {
     "end_time": "2017-12-30T09:26:18.402093Z",
     "start_time": "2017-12-30T09:26:18.242958Z"
    }
   },
   "outputs": [],
   "source": [
    "plt.close('all')"
   ]
  },
  {
   "cell_type": "code",
   "execution_count": 107,
   "metadata": {
    "ExecuteTime": {
     "end_time": "2017-12-30T09:27:35.079397Z",
     "start_time": "2017-12-30T09:27:35.058807Z"
    }
   },
   "outputs": [],
   "source": [
    "sns.set_context('paper')"
   ]
  },
  {
   "cell_type": "code",
   "execution_count": 117,
   "metadata": {
    "ExecuteTime": {
     "end_time": "2017-12-30T09:32:06.519591Z",
     "start_time": "2017-12-30T09:32:06.151460Z"
    },
    "scrolled": false
   },
   "outputs": [
    {
     "data": {
      "application/vnd.jupyter.widget-view+json": {
       "model_id": "220ea818d27442af8a13567a7558fd8a",
       "version_major": 2,
       "version_minor": 0
      },
      "text/html": [
       "<p>Failed to display Jupyter Widget of type <code>FigureCanvasNbAgg</code>.</p>\n",
       "<p>\n",
       "  If you're reading this message in the Jupyter Notebook or JupyterLab Notebook, it may mean\n",
       "  that the widgets JavaScript is still loading. If this message persists, it\n",
       "  likely means that the widgets JavaScript library is either not installed or\n",
       "  not enabled. See the <a href=\"https://ipywidgets.readthedocs.io/en/stable/user_install.html\">Jupyter\n",
       "  Widgets Documentation</a> for setup instructions.\n",
       "</p>\n",
       "<p>\n",
       "  If you're reading this message in another frontend (for example, a static\n",
       "  rendering on GitHub or <a href=\"https://nbviewer.jupyter.org/\">NBViewer</a>),\n",
       "  it may mean that your frontend doesn't currently support widgets.\n",
       "</p>\n"
      ],
      "text/plain": [
       "FigureCanvasNbAgg()"
      ]
     },
     "metadata": {},
     "output_type": "display_data"
    },
    {
     "name": "stderr",
     "output_type": "stream",
     "text": [
      "/Users/klay6683/miniconda3/envs/stable/lib/python3.6/site-packages/numpy/core/fromnumeric.py:57: FutureWarning: reshape is deprecated and will raise in a subsequent release. Please use .values.reshape(...) instead\n",
      "  return getattr(obj, method)(*args, **kwds)\n"
     ]
    }
   ],
   "source": [
    "fig, ax = plt.subplots(figsize=(9,4))\n",
    "pal = sns.color_palette('colorblind')\n",
    "weights2 = np.ones_like(counts.loc[2].values)/float(len(counts.loc[2]))\n",
    "weights3 = np.ones_like(counts.loc[3].values)/float(len(counts.loc[3]))\n",
    "ax.hist([counts.loc[2], counts.loc[3]], normed=False, bins=bins, color=pal[:3:2],\n",
    "             label=['MY29', 'MY30'], weights=[weights2, weights3])\n",
    "ax.set_xlabel(\"Number of classifications per Planet Four tile\")\n",
    "ax.set_ylabel(\"Fraction of number of classifications\")\n",
    "ax.set_title(\"Distribution of Planet Four classification counts.\")\n",
    "ax.legend()\n",
    "fig.savefig(\"/Users/klay6683/Dropbox/src/p4_paper1/figures/count_stats.png\",\n",
    "            dpi=200)"
   ]
  },
  {
   "cell_type": "code",
   "execution_count": null,
   "metadata": {},
   "outputs": [],
   "source": []
  },
  {
   "cell_type": "markdown",
   "metadata": {},
   "source": [
    "## Percentages done.\n",
    "\n",
    "By constraining the previous data series for the value it has (the counts) and look at the length of the remaining data, we can determine the status of the finished rate."
   ]
  },
  {
   "cell_type": "code",
   "execution_count": 15,
   "metadata": {
    "ExecuteTime": {
     "end_time": "2017-12-27T00:15:33.565342Z",
     "start_time": "2017-12-27T00:15:33.530279Z"
    }
   },
   "outputs": [
    {
     "data": {
      "text/plain": [
       "42781"
      ]
     },
     "execution_count": 15,
     "metadata": {},
     "output_type": "execute_result"
    }
   ],
   "source": [
    "counts[counts >= 30].size"
   ]
  },
  {
   "cell_type": "markdown",
   "metadata": {},
   "source": [
    "That's pretty disappointing, but alas, the cold hard truth. \n",
    "This means, taking all submitted years into account in the data, we have currently only the following percentage done:"
   ]
  },
  {
   "cell_type": "code",
   "execution_count": 16,
   "metadata": {
    "ExecuteTime": {
     "end_time": "2017-12-27T00:15:47.917158Z",
     "start_time": "2017-12-27T00:15:47.895851Z"
    }
   },
   "outputs": [
    {
     "data": {
      "text/plain": [
       "99.71331344396793"
      ]
     },
     "execution_count": 16,
     "metadata": {},
     "output_type": "execute_result"
    }
   ],
   "source": [
    "counts[counts>= 30].size / float(no_all) * 100"
   ]
  },
  {
   "cell_type": "markdown",
   "metadata": {},
   "source": [
    "Wishing to see higher values, I was for some moments contemplating if one maybe has to sum up the different counts to be correct, but I don't think that's it.\n",
    "\n",
    "The way I see it, one has to decide in what 'phase-space' one works to determine the status of Planet4.\n",
    "Either in the phase space of total subframes or in the total number of classifications. And I believe to determine the finished state of Planet4 it is sufficient and actually easier to focus on the available number of subframes and determine how often each of them has been looked at.\n",
    "\n",
    "## Separate for seasons\n",
    "The different seasons of our south polar observations are separated by several counts of the `thousands` digit in the `image_id` column of the original HiRISE image id, in P4 called image_name."
   ]
  },
  {
   "cell_type": "code",
   "execution_count": null,
   "metadata": {},
   "outputs": [],
   "source": [
    "# str[5:7] is the 2-digit thousands count in, e.g., ESP_011234_0950, in this case 11.\n",
    "df['thousands'] = df.image_name.str[5:7].astype('int')"
   ]
  },
  {
   "cell_type": "code",
   "execution_count": null,
   "metadata": {},
   "outputs": [],
   "source": [
    "thousands = df.thousands.value_counts().sort_index()\n",
    "thousands"
   ]
  },
  {
   "cell_type": "markdown",
   "metadata": {},
   "source": [
    "As one can see, we have groups of [1..5, 11..13, 20..22].\n",
    "Let's add another season column to the dataframe, first filled with zeros."
   ]
  },
  {
   "cell_type": "code",
   "execution_count": null,
   "metadata": {},
   "outputs": [],
   "source": [
    "df['season'] = 0"
   ]
  },
  {
   "cell_type": "markdown",
   "metadata": {},
   "source": [
    "For the first season, we actually don't need to look at the thousands counter, as the first 3 letters of the image_names started all with PSP in the first season (for 'P_rimary S_cience P_hase').\n",
    "Now let's set all rows with names starting with 'PSP' to season 1."
   ]
  },
  {
   "cell_type": "code",
   "execution_count": null,
   "metadata": {},
   "outputs": [],
   "source": [
    "df.loc[:, 'season'][df.image_name.str.startswith('PSP')] = 1"
   ]
  },
  {
   "cell_type": "markdown",
   "metadata": {},
   "source": [
    "And for the later seasons, we actually need to group by the thousands counter:"
   ]
  },
  {
   "cell_type": "code",
   "execution_count": null,
   "metadata": {},
   "outputs": [],
   "source": [
    "df.loc[:, 'season'][(df.thousands > 10) & (df.thousands < 20)] = 2\n",
    "df.loc[:, 'season'][df.thousands > 19] = 3"
   ]
  },
  {
   "cell_type": "markdown",
   "metadata": {},
   "source": [
    "So, for all seasons, how many rows to we have in the overall data:"
   ]
  },
  {
   "cell_type": "code",
   "execution_count": null,
   "metadata": {},
   "outputs": [],
   "source": [
    "no_all = df.season.value_counts()\n",
    "no_all"
   ]
  },
  {
   "cell_type": "markdown",
   "metadata": {},
   "source": [
    "### Percentages done\n",
    "Now I code a short function with the code I used above to create the counts of classification_ids per image_id. Note again the restriction to uniqueness of classification_ids."
   ]
  },
  {
   "cell_type": "code",
   "execution_count": null,
   "metadata": {},
   "outputs": [],
   "source": [
    "def get_counts_per_classification_id(df, unique=True):\n",
    "    grouping = df.classification_id.groupby(df.image_id, sort=False)\n",
    "    # because I only grouped the classification_id column above, this function is only\n",
    "    # applied to it. First, reduce to a unique list, and then save the size of that list.\n",
    "    if unique:\n",
    "        return grouping.agg(lambda x: x.unique().size)\n",
    "    else:\n",
    "        return grouping.size()"
   ]
  },
  {
   "cell_type": "code",
   "execution_count": null,
   "metadata": {},
   "outputs": [],
   "source": [
    "df.image_name.groupby(df.season).agg(lambda x:x.unique().size)"
   ]
  },
  {
   "cell_type": "code",
   "execution_count": null,
   "metadata": {},
   "outputs": [],
   "source": [
    "no_all = df.image_id.groupby(df.season).agg(lambda x: x.unique().size)\n",
    "no_all"
   ]
  },
  {
   "cell_type": "code",
   "execution_count": null,
   "metadata": {},
   "outputs": [],
   "source": [
    "def done_per_season(season, limit, unique=True, in_percent=True):\n",
    "    subdf = df[df.season == season]\n",
    "    counts_per_classid = get_counts_per_classification_id(subdf, unique)\n",
    "    no_done = counts_per_classid[counts_per_classid >= limit].size\n",
    "    if in_percent:\n",
    "        return 100.0 * no_done / no_all[season]\n",
    "    else:\n",
    "        return no_done"
   ]
  },
  {
   "cell_type": "code",
   "execution_count": null,
   "metadata": {},
   "outputs": [],
   "source": [
    "for season in [1,2,3]:\n",
    "    print season\n",
    "    print done_per_season(season, 30, in_percent=True)"
   ]
  },
  {
   "cell_type": "markdown",
   "metadata": {},
   "source": [
    "In the following code I not only check for the different years, but also the influence on the demanded limit of counts to define a subframe as 'finished'.\n",
    "\n",
    "To collect the data I create an empty dataframe with an index ranging through the different limits I want to check (i.e. `range(30,101,10)`)"
   ]
  },
  {
   "cell_type": "code",
   "execution_count": null,
   "metadata": {
    "collapsed": true
   },
   "outputs": [],
   "source": [
    "import sys\n",
    "from collections import OrderedDict\n",
    "results = pd.DataFrame(index=range(30,101,10))\n",
    "for season in [1,2,3]:\n",
    "    print season\n",
    "    sys.stdout.flush() # to force a print out of the std buffer\n",
    "    subdf = df[df.season == season]\n",
    "    counts = get_counts_per_classification_id(subdf)\n",
    "    values = OrderedDict()\n",
    "    for limit in results.index:\n",
    "        values[limit] = done_per_season(season, limit)\n",
    "    results[season] = values.values()"
   ]
  },
  {
   "cell_type": "code",
   "execution_count": null,
   "metadata": {},
   "outputs": [],
   "source": [
    "np.round(results)"
   ]
  },
  {
   "cell_type": "markdown",
   "metadata": {},
   "source": [
    "# Problem ??\n",
    "## Group by user_name instead of classification_id\n",
    "\n",
    "I realised that user_ids should provide just the same access to the performed counts, because each classification_id should have exactly one user_id, as they are created when that user clicks on *Submit*, right? \n",
    "At least that's how I understood it.\n",
    "\n",
    "So imagine my surprise when I found out it isn't the same answer. And unfortunately it looks like we have to reduce our dataset even further by apparent multiple submissions of the same classification, but let's see.\n",
    "\n",
    "First, create the respective function to determine counts via the user_name instead of classification_id after grouping for image_id.\n",
    "This first grouping by image_id is the essential step for the determination how often a particular image_id has been worked on, so that doesn't change."
   ]
  },
  {
   "cell_type": "code",
   "execution_count": null,
   "metadata": {},
   "outputs": [],
   "source": [
    "def get_counts_per_user_name(df):\n",
    "    grouping = df.user_name.groupby(df.image_id, sort=False)\n",
    "    counts = grouping.agg(lambda x: x.unique().size)\n",
    "#    counts = counts.order(ascending=False)\n",
    "    return counts"
   ]
  },
  {
   "cell_type": "code",
   "execution_count": null,
   "metadata": {},
   "outputs": [],
   "source": [
    "counts_by_user = get_counts_per_user_name(df)\n",
    "counts_by_user"
   ]
  },
  {
   "cell_type": "markdown",
   "metadata": {},
   "source": [
    "Compare that again to the output for classifying per classification_id:"
   ]
  },
  {
   "cell_type": "code",
   "execution_count": null,
   "metadata": {},
   "outputs": [],
   "source": [
    "counts_by_class = get_counts_per_classification_id(df)\n",
    "counts_by_class"
   ]
  },
  {
   "cell_type": "markdown",
   "metadata": {},
   "source": [
    "So, _not_ the same result! Let's dig deeper.\n",
    "\n",
    "### The subframe known as jp7\n",
    "Focus on one image_id and study what is happening there. I first get a sub-table for the subframe 'jp7' and determine the user_names that worked on that subframe.\n",
    "\n",
    "Then I loop over the names, filtering another sub-part of the table where the current user worked on jp7. \n",
    "According to the hypothesis that a classification_id is created for a user at submisssion time and the idea that a user should not see an image twice, there should only be one classification_id in that sub-part.\n",
    "\n",
    "I am testing that by checking if the unique list of classification_ids has a length $>1$. If it does, I print out the user_name."
   ]
  },
  {
   "cell_type": "code",
   "execution_count": null,
   "metadata": {},
   "outputs": [],
   "source": [
    "jp7 = df[df.image_id == 'APF0000jp7']\n",
    "unique_users = jp7.user_name.unique()\n",
    "# having the list of users that worked on jp7\n",
    "for user in unique_users:\n",
    "    subdf = jp7[jp7.user_name == user]\n",
    "    if len(subdf.classification_id.unique()) > 1:\n",
    "        print user, len(subdf)"
   ]
  },
  {
   "cell_type": "markdown",
   "metadata": {},
   "source": [
    "Ok, so let's have a look at the data for the first user_name for the subframe jp7"
   ]
  },
  {
   "cell_type": "code",
   "execution_count": null,
   "metadata": {},
   "outputs": [],
   "source": [
    "jp7[jp7.user_name == 'not-logged-in-8d495c463aeffd67c08b2dfc1141f33b']"
   ]
  },
  {
   "cell_type": "markdown",
   "metadata": {},
   "source": [
    "First note that the creation time of these 2 different classifications is different, so it looks like this user has seen the jp7 subframe more than once.\n",
    "\n",
    "But then when you scroll this html table to the right, you will notice that the submitted object has the exact same coordinates in both classifications? \n",
    "How likely is it, that the user finds the exact same coordinates in less than 60 seconds?\n",
    "\n",
    "So the question is, is this really a new classification and the user has done it twice? Or was the same thing submitted twice? Hopefully Meg knows the answer to that."
   ]
  },
  {
   "cell_type": "markdown",
   "metadata": {},
   "source": [
    "## Some instructive plots\n",
    "\n",
    "### Plot over required constraint\n",
    "\n",
    "I found it instructive to look at how the status of finished data depends on the limit we put on the reached counts per image_id (i.e. subframe).\n",
    "\n",
    "Also, how does it change when looking for unique user_names per image_id instead of unique classification_ids."
   ]
  },
  {
   "cell_type": "code",
   "execution_count": null,
   "metadata": {},
   "outputs": [],
   "source": [
    "results[[2,3]].plot()\n",
    "xlabel('Required number of analyses submitted to be considered \"done\".')\n",
    "ylabel('Current percentage of dataset finished [%]')\n",
    "title(\"Season 2 and 3 status, depending on definition of 'done'.\")\n",
    "savefig('Season2_3_status.png', dpi=200)"
   ]
  },
  {
   "cell_type": "code",
   "execution_count": null,
   "metadata": {},
   "outputs": [],
   "source": [
    "x = range(1,101)\n",
    "per_class = []\n",
    "per_user = []\n",
    "for val in x:\n",
    "    per_class.append(100 * counts_by_class[counts_by_class >= val].size/float(no_all))\n",
    "    per_user.append(100 * counts_by_user[counts_by_user >= val].size/float(no_all))"
   ]
  },
  {
   "cell_type": "code",
   "execution_count": null,
   "metadata": {},
   "outputs": [],
   "source": [
    "plot(x,per_class)\n",
    "plot(x, per_user)\n",
    "xlabel('Counts constraint for _finished_ criterium')\n",
    "ylabel('Current percent finished [%]')"
   ]
  },
  {
   "cell_type": "markdown",
   "metadata": {},
   "source": [
    "Ok, so not that big a deal until we require more than 80 classifications to be done.\n",
    "\n",
    "### How do the different existing user counts distribute\n",
    "\n",
    "The method 'value_counts()' basically delivers a histogram on the counts_by_user data series.\n",
    "In other words, it shows how the frequency of classifications distribute over the dataset. It shows an to be expected peak close to 100, because that's what we are aiming now and the system does _today_ not anymore show a subframe that has been seen 100 times.\n",
    "\n",
    "But it also shows quite some _waste_ in citizen power from all the counts that went for counts > 100."
   ]
  },
  {
   "cell_type": "code",
   "execution_count": null,
   "metadata": {},
   "outputs": [],
   "source": [
    "counts_by_user.value_counts()"
   ]
  },
  {
   "cell_type": "code",
   "execution_count": null,
   "metadata": {},
   "outputs": [],
   "source": [
    "counts_by_user.value_counts().plot(style='*')"
   ]
  },
  {
   "cell_type": "code",
   "execution_count": null,
   "metadata": {},
   "outputs": [],
   "source": [
    "users_work = df.classification_id.groupby(df.user_name).agg(lambda x: x.unique().size)"
   ]
  },
  {
   "cell_type": "code",
   "execution_count": null,
   "metadata": {},
   "outputs": [],
   "source": [
    "users_work.order(ascending=False)[:10]"
   ]
  },
  {
   "cell_type": "code",
   "execution_count": null,
   "metadata": {},
   "outputs": [],
   "source": [
    "df[df.user_name=='gwyneth walker'].classification_id.value_counts()"
   ]
  },
  {
   "cell_type": "code",
   "execution_count": null,
   "metadata": {},
   "outputs": [],
   "source": [
    "import helper_functions as hf\n",
    "reload(hf)"
   ]
  },
  {
   "cell_type": "code",
   "execution_count": null,
   "metadata": {},
   "outputs": [],
   "source": [
    "hf.classification_counts_for_user('Kitharode', df).hist?"
   ]
  },
  {
   "cell_type": "code",
   "execution_count": null,
   "metadata": {},
   "outputs": [],
   "source": [
    "hf.classification_counts_for_user('Paul Johnson', df)"
   ]
  },
  {
   "cell_type": "code",
   "execution_count": null,
   "metadata": {},
   "outputs": [],
   "source": [
    "np.isnan(df.marking)"
   ]
  },
  {
   "cell_type": "code",
   "execution_count": null,
   "metadata": {},
   "outputs": [],
   "source": [
    "df.marking"
   ]
  },
  {
   "cell_type": "code",
   "execution_count": null,
   "metadata": {},
   "outputs": [],
   "source": [
    "s = 'INVESTIGATION OF POLAR SEASONAL FAN DEPOSITS USING CROWDSOURCING'"
   ]
  },
  {
   "cell_type": "code",
   "execution_count": null,
   "metadata": {},
   "outputs": [],
   "source": [
    "s.title()"
   ]
  },
  {
   "cell_type": "code",
   "execution_count": null,
   "metadata": {},
   "outputs": [],
   "source": []
  }
 ],
 "metadata": {
  "anaconda-cloud": {},
  "kernelspec": {
   "display_name": "Python [conda env:stable]",
   "language": "python",
   "name": "conda-env-stable-py"
  },
  "language_info": {
   "codemirror_mode": {
    "name": "ipython",
    "version": 3
   },
   "file_extension": ".py",
   "mimetype": "text/x-python",
   "name": "python",
   "nbconvert_exporter": "python",
   "pygments_lexer": "ipython3",
   "version": "3.6.4"
  },
  "toc": {
   "nav_menu": {},
   "number_sections": true,
   "sideBar": true,
   "skip_h1_title": false,
   "toc_cell": true,
   "toc_position": {},
   "toc_section_display": "block",
   "toc_window_display": false
  }
 },
 "nbformat": 4,
 "nbformat_minor": 2
}
