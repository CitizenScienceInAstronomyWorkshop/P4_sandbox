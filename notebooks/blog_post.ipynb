{
 "metadata": {
  "name": "",
  "signature": "sha256:905f5a70dadc2fd7b2804148ddb60454523aefc4d7a44c2d5eec1c885729cbf8"
 },
 "nbformat": 3,
 "nbformat_minor": 0,
 "worksheets": [
  {
   "cells": [
    {
     "cell_type": "markdown",
     "metadata": {},
     "source": [
      "# The sun is back!\n",
      "\n",
      "I realised today that we are so close to southern spring time, I wondered if the sun already is up over Inca City. To do that I load first some of the tool libraries I have written."
     ]
    },
    {
     "cell_type": "code",
     "collapsed": false,
     "input": [
      "from pymars import kmaspice"
     ],
     "language": "python",
     "metadata": {},
     "outputs": [],
     "prompt_number": 1
    },
    {
     "cell_type": "markdown",
     "metadata": {},
     "source": [
      "Now I will create an object that knows how to deal with Martian times and illuminations."
     ]
    },
    {
     "cell_type": "code",
     "collapsed": false,
     "input": [
      "inca = kmaspice.MarsSpicer()"
     ],
     "language": "python",
     "metadata": {},
     "outputs": [],
     "prompt_number": 2
    },
    {
     "cell_type": "markdown",
     "metadata": {},
     "source": [
      "I saved some predefined places and their locations into the code, so that I don't need to remember the coordinates all the time. So let's justify the variable name by actually setting it on top of Inca City:"
     ]
    },
    {
     "cell_type": "code",
     "collapsed": false,
     "input": [
      "inca.goto('inca')"
     ],
     "language": "python",
     "metadata": {},
     "outputs": [],
     "prompt_number": 3
    },
    {
     "cell_type": "markdown",
     "metadata": {},
     "source": [
      "By default, when I don't provide a time, the time is set to the current time. In the UTC timezone, that is:"
     ]
    },
    {
     "cell_type": "code",
     "collapsed": false,
     "input": [
      "inca.time.isoformat()"
     ],
     "language": "python",
     "metadata": {},
     "outputs": [
      {
       "metadata": {},
       "output_type": "pyout",
       "prompt_number": 4,
       "text": [
        "'2014-07-22T12:14:26.462090'"
       ]
      }
     ],
     "prompt_number": 4
    },
    {
     "cell_type": "markdown",
     "metadata": {},
     "source": [
      "To double-check how close we are to spring time in the southern hemisphere on Mars, I need to look at a value called L_s, which is the solar longitude.\n",
      "\n",
      "This value measures the time of the seasons on Mars as its angular position during its trip around the sun which southern spring being at Ls = 180."
     ]
    },
    {
     "cell_type": "code",
     "collapsed": false,
     "input": [
      "round(inca.l_s, 1)"
     ],
     "language": "python",
     "metadata": {},
     "outputs": [
      {
       "metadata": {},
       "output_type": "pyout",
       "prompt_number": 5,
       "text": [
        "165.6"
       ]
      }
     ],
     "prompt_number": 5
    },
    {
     "cell_type": "markdown",
     "metadata": {},
     "source": [
      "So, we are pretty close to spring then. But do we already have sunlight in Inca? We should remember that we are in polar areas, where we have darkness for half a year, just like on Earth. Let's have a look what is the local time in Inca:"
     ]
    },
    {
     "cell_type": "code",
     "collapsed": false,
     "input": [
      "inca.local_soltime"
     ],
     "language": "python",
     "metadata": {},
     "outputs": [
      {
       "metadata": {},
       "output_type": "pyout",
       "prompt_number": 6,
       "text": [
        "(5, 54, 27, '05:54:27', '05:54:27 A.M.')"
       ]
      }
     ],
     "prompt_number": 6
    },
    {
     "cell_type": "markdown",
     "metadata": {},
     "source": [
      "Right, that's still in the night, so that most likely means that the sun is below the horizon, right?"
     ]
    },
    {
     "cell_type": "code",
     "collapsed": false,
     "input": [
      "round(inca.illum_angles.dsolar,1)"
     ],
     "language": "python",
     "metadata": {},
     "outputs": [
      {
       "metadata": {},
       "output_type": "pyout",
       "prompt_number": 7,
       "text": [
        "96.2"
       ]
      }
     ],
     "prompt_number": 7
    },
    {
     "cell_type": "markdown",
     "metadata": {},
     "source": [
      "Solar angles are measured from the local normal direction, with the sun directly over head being defined as 0. Which means the horizon is at 90 degrees. Hence, this value of 96 means the sun is below the horizon. But it is local night, so we would expect that!\n",
      "\n",
      "Now comes the magic, let's just advance the time by a couple of hours, usually the sun is highest around local noon, so let's aim for that. I don't need to be precise now, so I go just 7 hours forward in time.\n",
      "Then I will have another look at the sun's angle."
     ]
    },
    {
     "cell_type": "code",
     "collapsed": false,
     "input": [
      "inca.advance_time_by(7*3600)\n",
      "round(inca.illum_angles.dsolar)"
     ],
     "language": "python",
     "metadata": {},
     "outputs": [
      {
       "metadata": {},
       "output_type": "pyout",
       "prompt_number": 8,
       "text": [
        "88.0"
       ]
      }
     ],
     "prompt_number": 8
    },
    {
     "cell_type": "markdown",
     "metadata": {},
     "source": [
      "Oh yes! This is just 2 degrees above the horizon, the sun is lurking over it just a tiny bit. But all you humans that work so much in helping us know what this means, right? Where there is sun, there is energy. And this energy can be used to sublime CO2 gas and create the wonderful fans we are studying.\n",
      "Let's make this a bit prettier with a bit more insight. First, let's go back the 7 hours again."
     ]
    },
    {
     "cell_type": "code",
     "collapsed": false,
     "input": [
      "inca.advance_time_by(-7*3600)"
     ],
     "language": "python",
     "metadata": {},
     "outputs": [],
     "prompt_number": 9
    },
    {
     "cell_type": "markdown",
     "metadata": {},
     "source": [
      "Now, I will create a loop with 100 elements, and check and write down the time each 10 minutes (= 600 seconds). I save the stuff in 2 new arrays to have it easier to plot things over time."
     ]
    },
    {
     "cell_type": "code",
     "collapsed": false,
     "input": [
      "times = []\n",
      "angles = []\n",
      "\n",
      "for i in range(100):\n",
      "    inca.advance_time_by(600)\n",
      "    times.append(inca.local_soltime[3])\n",
      "    angles.append(inca.illum_angles.dsolar)"
     ],
     "language": "python",
     "metadata": {},
     "outputs": [],
     "prompt_number": 10
    },
    {
     "cell_type": "markdown",
     "metadata": {},
     "source": [
      "I'm now importing the pandas library, an amazing toolbox to deal with time-series data. Especially, the plots automatically get nicely formatted time-axes."
     ]
    },
    {
     "cell_type": "code",
     "collapsed": false,
     "input": [
      "import pandas as pd"
     ],
     "language": "python",
     "metadata": {},
     "outputs": [],
     "prompt_number": 11
    },
    {
     "cell_type": "code",
     "collapsed": false,
     "input": [
      "data = pd.Series(angles, index=times)"
     ],
     "language": "python",
     "metadata": {},
     "outputs": [],
     "prompt_number": 12
    },
    {
     "cell_type": "markdown",
     "metadata": {},
     "source": [
      "I need to switch this notebook to show plots inside this notebook and not outside as an extra window, which is my default:\n"
     ]
    },
    {
     "cell_type": "code",
     "collapsed": false,
     "input": [
      "%pylab inline"
     ],
     "language": "python",
     "metadata": {},
     "outputs": [
      {
       "output_type": "stream",
       "stream": "stdout",
       "text": [
        "Populating the interactive namespace from numpy and matplotlib\n"
       ]
      }
     ],
     "prompt_number": 13
    },
    {
     "cell_type": "code",
     "collapsed": false,
     "input": [
      "data.plot()"
     ],
     "language": "python",
     "metadata": {},
     "outputs": [
      {
       "metadata": {},
       "output_type": "pyout",
       "prompt_number": 14,
       "text": [
        "<matplotlib.axes.AxesSubplot at 0x108d29fd0>"
       ]
      },
      {
       "metadata": {},
       "output_type": "display_data",
       "png": "[encoded data removed]",
       "text": [
        "<matplotlib.figure.Figure at 0x10fd10290>"
       ]
      }
     ],
     "prompt_number": 14
    },
    {
     "cell_type": "markdown",
     "metadata": {},
     "source": [
      "Here we see how the sun's angle is developing over time. As expected we see a minimum (i.e. highest sun over horizon) right around noon. \n",
      "###Do you hear the CO2 ice crackling?? ;) \n",
      "I find it amazing to know that in a couple of hours some of our beloved fans are being created!\n",
      "\n",
      "Next I wondered how long we already have the sun lurking over the horizon. For this I now will go backwards in 10 minute steps, but this time I take 2000 steps to cover more time. I then immediately plot the results:"
     ]
    },
    {
     "cell_type": "code",
     "collapsed": false,
     "input": [
      "times = []\n",
      "angles = []\n",
      "\n",
      "for i in range(2000):\n",
      "    inca.advance_time_by(-600)\n",
      "    times.append(inca.time)\n",
      "    angles.append(inca.illum_angles.dsolar)\n",
      "pd.Series(angles,index=times).plot()"
     ],
     "language": "python",
     "metadata": {},
     "outputs": [
      {
       "metadata": {},
       "output_type": "pyout",
       "prompt_number": 15,
       "text": [
        "<matplotlib.axes.AxesSubplot at 0x10fe32110>"
       ]
      },
      {
       "metadata": {},
       "output_type": "display_data",
       "png": "[encoded data removed]",
       "text": [
        "<matplotlib.figure.Figure at 0x10fd705d0>"
       ]
      }
     ],
     "prompt_number": 15
    },
    {
     "cell_type": "markdown",
     "metadata": {},
     "source": [
      "Interesting! Now we can see that around July 14th, the sun for the first time was below an inclination angle of 90, meaning that's the first day it lurked over the horizon. So for a week now, its energy is slowly building up CO2 gas underneath the CO2 ice cover that is everywhere. I could bet that at some place with weak thin ice, already the first fans are popping up. Unfortunately, the light conditions at 2-4 PM, when our favorite camera HiRISE is flying over these places, are still so bad, that we have to wait a few more days until imaging becomes possible. But be assured we are hot on the heels to catch the action as early as possible.\n",
      "\n",
      "Stay tuned for more on this!\n"
     ]
    }
   ],
   "metadata": {}
  }
 ]
}