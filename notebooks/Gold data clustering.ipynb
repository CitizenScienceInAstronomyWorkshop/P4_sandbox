{
 "metadata": {
  "name": "",
  "signature": "sha256:008e47b66f523a8f72b22ed59a6db6e94f351411bd300827a0a353be6fa7b45e"
 },
 "nbformat": 3,
 "nbformat_minor": 0,
 "worksheets": [
  {
   "cells": [
    {
     "cell_type": "code",
     "collapsed": false,
     "input": [
      "from planet4 import get_data\n",
      "from planet4 import markings\n",
      "from sklearn.cluster import DBSCAN\n",
      "import pylab\n",
      "from matplotlib.patches import Ellipse\n",
      "from planet4.gold_standard_plotter import gold_star_plotter"
     ],
     "language": "python",
     "metadata": {},
     "outputs": [
      {
       "output_type": "stream",
       "stream": "stderr",
       "text": [
        "/Users/maye/anaconda/lib/python2.7/site-packages/matplotlib/__init__.py:1155: UserWarning:  This call to matplotlib.use() has no effect\n",
        "because the backend has already been chosen;\n",
        "matplotlib.use() must be called *before* pylab, matplotlib.pyplot,\n",
        "or matplotlib.backends is imported for the first time.\n",
        "\n",
        "  warnings.warn(_use_error_msg)\n"
       ]
      }
     ],
     "prompt_number": 1
    },
    {
     "cell_type": "code",
     "collapsed": false,
     "input": [
      "fname = get_data.get_current_database_fname()"
     ],
     "language": "python",
     "metadata": {},
     "outputs": [],
     "prompt_number": 2
    },
    {
     "cell_type": "code",
     "collapsed": false,
     "input": [
      "id = 'APF0000jnp'\n",
      "# id = 'APF0000ddb'\n",
      "# id = 'APF00000pt'\n",
      "# id = 'APF00006s2'\n",
      "# id = 'APF0000hl3'\n",
      "p4img = markings.P4_ImgID(id, fname)"
     ],
     "language": "python",
     "metadata": {},
     "outputs": [
      {
       "output_type": "stream",
       "stream": "stderr",
       "text": [
        "/Users/maye/src/pandas/pandas/io/pytables.py:533: DeprecationWarning: openFile() is pending deprecation, use open_file() instead. You may use the pt2to3 tool to update your source code.\n",
        "  self._handle = tables.openFile(self._path, self._mode, **kwargs)\n",
        "/Users/maye/src/pandas/pandas/io/pytables.py:1041: DeprecationWarning: getNode() is pending deprecation, use get_node() instead. You may use the pt2to3 tool to update your source code.\n",
        "  return self._handle.getNode(self.root, key)\n",
        "/Users/maye/src/pandas/pandas/io/pytables.py:4336: DeprecationWarning: readWhere() is pending deprecation, use read_where() instead. You may use the pt2to3 tool to update your source code.\n",
        "  start=self.start, stop=self.stop)\n"
       ]
      }
     ],
     "prompt_number": 60
    },
    {
     "cell_type": "code",
     "collapsed": false,
     "input": [
      "golddata = p4img.data[p4img.data.user_name.isin(markings.gold_members)]\n",
      "golddata = golddata[golddata.marking=='blotch']"
     ],
     "language": "python",
     "metadata": {},
     "outputs": [],
     "prompt_number": 61
    },
    {
     "cell_type": "code",
     "collapsed": false,
     "input": [
      "citizens = set(p4img.data.user_name) - set(markings.gold_members)"
     ],
     "language": "python",
     "metadata": {},
     "outputs": [],
     "prompt_number": 63
    },
    {
     "cell_type": "code",
     "collapsed": false,
     "input": [
      "ellipse_cols = 'x y radius_1 radius_2 angle'.split()\n",
      "\n",
      "def get_mean_ellipse(data, label_members):\n",
      "    print label_members\n",
      "    ellipsedata = data[ellipse_cols].values[label_members]\n",
      "    print ellipsedata[:3]\n",
      "    meandata = ellipsedata.mean(axis=0)\n",
      "    print meandata\n",
      "    el = Ellipse(meandata[:2], *meandata[2:],\n",
      "                 fill=False, linewidth=2)\n",
      "    return el\n",
      "\n",
      "def clustering(current_data, current_axis):\n",
      "    center_only = ['x','y']\n",
      "    center_and_radii = 'x y radius_1 radius_2'.split()\n",
      "    current_X = current_data[center_only].values\n",
      "    db = DBSCAN(eps=8, min_samples=3).fit(current_X)\n",
      "    labels = db.labels_.astype('int')\n",
      "    core_samples = db.core_sample_indices_\n",
      "    # number of clusters in labels, ignoring noise if present\n",
      "    n_clusters = len(set(labels)) - (1 if -1 in labels else 0)\n",
      "    print \"Estimated number of clusters:\", n_clusters\n",
      "\n",
      "    unique_labels = set(labels)\n",
      "    colors = pylab.cm.Spectral(linspace(0,1,len(unique_labels)))\n",
      "    for k, color in zip(unique_labels, colors):\n",
      "        print k\n",
      "        label_members = [index[0] for index in argwhere(labels==k)]\n",
      "        if k == -1:\n",
      "            color = 'w'\n",
      "            markersize = 5\n",
      "        for index in label_members:\n",
      "            x = current_X[index]\n",
      "            if index in core_samples and k !=-1:\n",
      "                markersize = 8\n",
      "            else:\n",
      "                markersize = 5\n",
      "            current_axis.plot(x[0], x[1], 'o', markerfacecolor=color,\n",
      "                         markeredgecolor='k', markersize=markersize)\n",
      "        if k > -0.5:\n",
      "            el = get_mean_ellipse(current_data, label_members)\n",
      "            el.set_color(color)\n",
      "            current_axis.add_artist(el)\n",
      "            markings.set_subframe_size(current_axis)\n",
      "    return db"
     ],
     "language": "python",
     "metadata": {},
     "outputs": [],
     "prompt_number": 183
    },
    {
     "cell_type": "code",
     "collapsed": false,
     "input": [
      "# create plot window\n",
      "fig, ax = subplots(ncols=2, nrows=2, figsize=(12,10))\n",
      "axes = ax.flatten()\n",
      "\n",
      "# fill images\n",
      "for i in [1,3]:\n",
      "    p4img.show_subframe(ax=axes[i])\n",
      "\n",
      "# citizen stuff\n",
      "p4img.plot_blotches(ax=axes[0])\n",
      "axes[0].set_title('Citizen Markings')\n",
      "db = clustering(p4img.get_blotches(), axes[1])\n",
      "axes[1].set_title('All citizens clusters (including gold stars)')\n",
      "\n",
      "# gold stuff\n",
      "gold_star_plotter(p4img, axes[2])\n",
      "axes[2].set_title('Goldstars markings')\n",
      "clustering(golddata, axes[3])\n",
      "axes[3].set_title('Gold data clusters')\n",
      "\n"
     ],
     "language": "python",
     "metadata": {},
     "outputs": [
      {
       "output_type": "stream",
       "stream": "stdout",
       "text": [
        "Estimated number of clusters: 8\n",
        "0\n",
        "[0, 10, 13, 20, 27, 33, 38, 43, 48, 55, 60, 68, 71, 79, 85, 89, 93, 99, 105, 111, 115, 123, 127, 134, 153, 161, 166, 173, 175, 182, 186, 192]\n",
        "[[ 413.          257.           21.21320344   15.90990258   81.86989765]\n",
        " [ 411.          256.           23.60084744   17.70063558   53.61564818]\n",
        " [ 410.5         259.           19.10497317   14.32872988   47.1210964 ]]\n",
        "[ 411.84278631  260.15114652   15.21079864   12.89636872   22.23998622]\n",
        "1\n",
        "[2, 5, 11, 18, 24, 30, 35, 45, 53, 57, 66, 73, 77, 81, 86, 91, 100, 103, 109, 116, 120, 128, 132, 138, 145, 147, 154, 159, 163, 169, 177, 179, 188, 191]"
       ]
      },
      {
       "output_type": "stream",
       "stream": "stdout",
       "text": [
        "\n",
        "[[ 173.          360.           23.60084744   17.70063558   53.61564818]\n",
        " [ 170.          353.           44.41846463   33.31384847   58.81502534]\n",
        " [ 166.5         353.           33.24154028   24.93115521   46.21887524]]\n",
        "[ 173.61674006  361.67166731   19.58606868   15.1908078    29.24495503]\n",
        "2\n",
        "[1, 6, 12, 19, 26, 32, 37, 42, 47, 51, 59, 67, 72, 78, 82, 87, 92, 98, 104, 110, 114, 121, 126, 133, 144, 152, 160, 164, 170, 176, 178, 185, 190]\n",
        "[[ 383.          289.           20.24845673   15.18634255   57.09475708]\n",
        " [ 385.          278.           28.16025568   21.12019176   73.49563862]\n",
        " [ 376.5         283.           21.9317122    16.44878415   46.84761027]]\n",
        "[ 381.21118673  286.29808147   15.47225773   12.96690896   27.22889202]\n",
        "3\n",
        "[9, 14, 28, 34, 39, 52, 61, 69, 70, 80, 83, 90, 96, 97, 106, 119, 122, 125, 135, 149, 151, 162, 165, 174, 183, 187, 195]"
       ]
      },
      {
       "output_type": "stream",
       "stream": "stdout",
       "text": [
        "\n",
        "[[ 750.          208.           45.96737974   34.4755348    44.118596  ]\n",
        " [ 738.5         203.           45.22167622   33.91625716   35.09581679]\n",
        " [ 748.5         203.           20.1246118    10.          -26.56505118]]\n",
        "[ 750.62222064  209.43765437   31.72210851   23.1418196    38.50058955]\n",
        "4\n",
        "[3, 7, 15, 17, 25, 31, 36, 44, 49, 54, 62, 64, 74, 76, 84, 88, 94, 101, 107, 112, 117, 124, 129, 136, 142, 146, 155, 158, 167, 171, 172, 180, 184, 193]"
       ]
      },
      {
       "output_type": "stream",
       "stream": "stdout",
       "text": [
        "\n",
        "[[ 117.          557.           22.20360331   16.65270248   82.23483398]\n",
        " [ 108.          556.           31.89043744   23.91782808   41.18592517]\n",
        " [ 117.5         546.           26.           19.5          90.        ]]\n",
        "[ 117.5554657   562.23049084   20.20995039   16.36122623   19.64785208]\n",
        "5\n",
        "[4, 8, 29, 41, 46, 50, 56, 63, 65, 75, 95, 102, 108, 113, 118, 130, 137, 143, 150, 156, 157, 168, 181, 189, 194]\n",
        "[[   4.          545.           31.78049716   23.83537287   77.27564431]\n",
        " [   9.          542.           31.           23.25         90.        ]\n",
        " [   4.5         551.           10.           10.            0.        ]]\n",
        "[   6.29543335  546.91346754   17.80087987   14.47692444   40.41693826]\n",
        "6\n",
        "[40, 141, 196]\n",
        "[[ 771.5         220.           24.75883681   18.5691276    46.63657704]\n",
        " [ 768.          222.           54.12023651   40.59017738 -152.48799738]\n",
        " [ 768.          223.           20.61552813   10.          187.12501635]]\n",
        "[ 769.16666667  221.66666667   33.16486715   23.05310166   27.09119867]\n",
        "7\n",
        "[21, 22, 23]"
       ]
      },
      {
       "output_type": "stream",
       "stream": "stdout",
       "text": [
        "\n",
        "[[  0.   0.  10.  10.   0.]\n",
        " [  0.   0.  10.  10.   0.]\n",
        " [  0.   0.  10.  10.   0.]]\n",
        "[  0.   0.  10.  10.   0.]\n",
        "-1\n",
        "Estimated number of clusters:"
       ]
      },
      {
       "output_type": "stream",
       "stream": "stdout",
       "text": [
        " 6\n",
        "0\n",
        "[4, 8, 14]\n",
        "[[ 413.5        263.3500061   10.          10.           0.       ]\n",
        " [ 412.         263.          10.          10.           0.       ]\n",
        " [ 413.         268.          10.          10.           0.       ]]\n",
        "[ 412.83333333  264.78333537   10.           10.            0.        ]\n",
        "1\n",
        "[2, 6, 15]\n",
        "[[ 117.5         565.3500061    10.           10.           26.56505118]\n",
        " [ 121.          570.           10.           10.            0.        ]\n",
        " [ 119.          568.           10.           10.            0.        ]]\n",
        "[ 119.16666667  567.78333537   10.           10.            8.85501706]\n",
        "2\n",
        "[5, 9, 17]\n",
        "[[ 746.5         208.3500061    26.57066051   10.           23.96248897]\n",
        " [ 742.          204.           15.23154621   11.42365966  156.80140949]\n",
        " [ 747.          207.           18.60107524   10.          149.03624347]]\n",
        "[ 745.16666667  206.45000203   20.13442732   10.47455322  109.93338064]\n",
        "3\n",
        "[3, 11, 16]\n",
        "[[   3.5        546.3500061   10.          10.          90.       ]\n",
        " [   5.         553.          10.          10.           0.       ]\n",
        " [   6.         550.          10.          10.           0.       ]]\n",
        "[   4.83333333  549.78333537   10.           10.           30.        ]\n",
        "4\n",
        "[1, 10, 13]\n",
        "[[ 174.5         360.3500061    12.52996409   10.           28.61045967]\n",
        " [ 175.          364.           14.14213562   10.60660172   45.        ]\n",
        " [ 175.          366.           10.           10.            0.        ]]\n",
        "[ 174.83333333  363.45000203   12.22403324   10.20220057   24.53681989]\n",
        "5\n",
        "[0, 7, 12]\n",
        "[[ 381.5        289.3500061   10.          10.           0.       ]\n",
        " [ 382.         288.          10.          10.           0.       ]\n",
        " [ 383.         289.          10.          10.           0.       ]]\n",
        "[ 382.16666667  288.78333537   10.           10.            0.        ]\n",
        "-1\n"
       ]
      },
      {
       "metadata": {},
       "output_type": "pyout",
       "prompt_number": 184,
       "text": [
        "<matplotlib.text.Text at 0x1e458c150>"
       ]
      }
     ],
     "prompt_number": 184
    },
    {
     "cell_type": "code",
     "collapsed": false,
     "input": [
      "labels = db.labels_.astype('int')\n",
      "unique_labels = set(labels)\n",
      "unique_labels"
     ],
     "language": "python",
     "metadata": {},
     "outputs": [
      {
       "metadata": {},
       "output_type": "pyout",
       "prompt_number": 185,
       "text": [
        "{-1, 0, 1, 2, 3, 4, 5, 6, 7}"
       ]
      }
     ],
     "prompt_number": 185
    },
    {
     "cell_type": "code",
     "collapsed": false,
     "input": [
      "label_members = [index[0] for index in argwhere(labels==7)]\n",
      "label_members"
     ],
     "language": "python",
     "metadata": {},
     "outputs": [
      {
       "metadata": {},
       "output_type": "pyout",
       "prompt_number": 187,
       "text": [
        "[21, 22, 23]"
       ]
      }
     ],
     "prompt_number": 187
    },
    {
     "cell_type": "code",
     "collapsed": false,
     "input": [
      "data = p4img.get_blotches()\n",
      "ellipsedata = data[ellipse_cols].values[label_members]"
     ],
     "language": "python",
     "metadata": {},
     "outputs": [],
     "prompt_number": 188
    },
    {
     "cell_type": "code",
     "collapsed": false,
     "input": [
      "ellipsedata"
     ],
     "language": "python",
     "metadata": {},
     "outputs": [
      {
       "metadata": {},
       "output_type": "pyout",
       "prompt_number": 189,
       "text": [
        "array([[  0.,   0.,  10.,  10.,   0.],\n",
        "       [  0.,   0.,  10.,  10.,   0.],\n",
        "       [  0.,   0.,  10.,  10.,   0.]])"
       ]
      }
     ],
     "prompt_number": 189
    },
    {
     "cell_type": "code",
     "collapsed": false,
     "input": [
      "meandata = ellipsedata.mean(axis=0)\n",
      "meandata"
     ],
     "language": "python",
     "metadata": {},
     "outputs": [
      {
       "metadata": {},
       "output_type": "pyout",
       "prompt_number": 176,
       "text": [
        "array([ 769.16666667,  221.66666667,   33.16486715,   23.05310166,\n",
        "         27.09119867])"
       ]
      }
     ],
     "prompt_number": 176
    },
    {
     "cell_type": "code",
     "collapsed": false,
     "input": [
      "print data.iloc[label_members]"
     ],
     "language": "python",
     "metadata": {},
     "outputs": [
      {
       "output_type": "stream",
       "stream": "stdout",
       "text": [
        "                classification_id          created_at    image_id  \\\n",
        "6435090  50f1b7e2dea6534840000001 2013-01-12 19:22:10  APF0000jnp   \n",
        "6435091  50f1b7e2dea6534840000001 2013-01-12 19:22:10  APF0000jnp   \n",
        "6435092  50f1b7e2dea6534840000001 2013-01-12 19:22:10  APF0000jnp   \n",
        "\n",
        "              image_name                                          image_url  \\\n",
        "6435090  ESP_021684_0985  http://www.planetfour.org/subjects/standard/50...   \n",
        "6435091  ESP_021684_0985  http://www.planetfour.org/subjects/standard/50...   \n",
        "6435092  ESP_021684_0985  http://www.planetfour.org/subjects/standard/50...   \n",
        "\n",
        "        user_name marking  x_tile  y_tile acquisition_date local_mars_time  x  \\\n",
        "6435090   gcorbyn  blotch       9       3       2011-03-13         4:08 PM  0   \n",
        "6435091   gcorbyn  blotch       9       3       2011-03-13         4:08 PM  0   \n",
        "6435092   gcorbyn  blotch       9       3       2011-03-13         4:08 PM  0   \n",
        "\n",
        "         y  image_x  image_y  radius_1  radius_2  distance  angle  spread  \n",
        "6435090  0     5920     1096        10        10       NaN      0     NaN  \n",
        "6435091  0     5920     1096        10        10       NaN      0     NaN  \n",
        "6435092  0     5920     1096        10        10       NaN      0     NaN  \n"
       ]
      }
     ],
     "prompt_number": 197
    },
    {
     "cell_type": "code",
     "collapsed": false,
     "input": [],
     "language": "python",
     "metadata": {},
     "outputs": []
    }
   ],
   "metadata": {}
  }
 ]
}