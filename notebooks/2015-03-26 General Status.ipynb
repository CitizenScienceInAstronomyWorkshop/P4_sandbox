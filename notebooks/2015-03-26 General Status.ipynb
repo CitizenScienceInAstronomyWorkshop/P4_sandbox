{
 "cells": [
  {
   "cell_type": "code",
   "execution_count": null,
   "metadata": {
    "collapsed": false
   },
   "outputs": [],
   "source": [
    "from planet4 import region_data, io, helper_functions"
   ]
  },
  {
   "cell_type": "markdown",
   "metadata": {},
   "source": [
    "# per region"
   ]
  },
  {
   "cell_type": "code",
   "execution_count": null,
   "metadata": {
    "collapsed": false
   },
   "outputs": [],
   "source": [
    "def process_region(args):\n",
    "    from planet4 import region_data, io, helper_functions\n",
    "    regionclass, season = args\n",
    "    try:\n",
    "        imagenames = getattr(regionclass, season)\n",
    "    except AttributeError:\n",
    "        return \"No {} data for region {} in PlanetFour.\".format(season, regionclass)\n",
    "    print(imagenames)\n",
    "    df = io.get_list_of_image_names_data(imagenames)\n",
    "    return \"Status for {}, {}: {}\".format(regionclass,\n",
    "                                          season,\n",
    "                                          helper_functions.get_status_per_classifications(df))"
   ]
  },
  {
   "cell_type": "code",
   "execution_count": null,
   "metadata": {
    "collapsed": false
   },
   "outputs": [],
   "source": [
    "processlist = []\n",
    "for season in ['season'+str(i) for i in range(1,5)]:\n",
    "    for region in [region_data.Manhattan]:\n",
    "        processlist.append((region, season))"
   ]
  },
  {
   "cell_type": "code",
   "execution_count": null,
   "metadata": {
    "collapsed": false
   },
   "outputs": [],
   "source": [
    "from ipyparallel import Client\n",
    "c = Client()\n",
    "lbview = c.load_balanced_view()"
   ]
  },
  {
   "cell_type": "code",
   "execution_count": null,
   "metadata": {
    "collapsed": false,
    "scrolled": false
   },
   "outputs": [],
   "source": [
    "import sys\n",
    "for region in region_data.regions:\n",
    "    print(region)\n",
    "    sys.stdout.flush()\n",
    "    processlist = []\n",
    "    for season in ['season'+str(i) for i in range(1,5)]:\n",
    "        processlist.append((region, season))\n",
    "    res = lbview.map_async(process_region, processlist)\n",
    "    for result in res.result:\n",
    "        print(result)"
   ]
  },
  {
   "cell_type": "markdown",
   "metadata": {},
   "source": [
    "# per image_name (= hirise obs_id)"
   ]
  },
  {
   "cell_type": "code",
   "execution_count": null,
   "metadata": {
    "collapsed": false
   },
   "outputs": [],
   "source": [
    "from planet4 import io"
   ]
  },
  {
   "cell_type": "code",
   "execution_count": null,
   "metadata": {
    "collapsed": true
   },
   "outputs": [],
   "source": [
    "# image_names = io.get_all_image_names()\n",
    "# image_names = image_names.image_name.unique()\n",
    "# with open('current_image_names.pkl', 'wb') as f:\n",
    "#     pickle.dump(image_names, f)"
   ]
  },
  {
   "cell_type": "code",
   "execution_count": null,
   "metadata": {
    "collapsed": true
   },
   "outputs": [],
   "source": [
    "image_names = io.get_image_names_from_db(io.get_current_database_fname())"
   ]
  },
  {
   "cell_type": "code",
   "execution_count": null,
   "metadata": {
    "collapsed": true
   },
   "outputs": [],
   "source": [
    "from planet4 import helper_functions as hf"
   ]
  },
  {
   "cell_type": "code",
   "execution_count": null,
   "metadata": {
    "collapsed": true
   },
   "outputs": [],
   "source": [
    "def process_image_name(image_name):\n",
    "    from planet4 import helper_functions as hf\n",
    "    from planet4 import io\n",
    "    df = io.get_image_name_data(image_name)\n",
    "    status = hf.get_status_per_classifications(df)\n",
    "    return image_name, status"
   ]
  },
  {
   "cell_type": "code",
   "execution_count": null,
   "metadata": {
    "collapsed": true
   },
   "outputs": [],
   "source": [
    "def process_image_name(image_name):\n",
    "    from planet4 import helper_functions as hf\n",
    "    from planet4 import io\n",
    "    df = io.get_image_name_data(image_name)\n",
    "    no_done = hf.get_no_tiles_done(df)\n",
    "    return {'image_name': image_name, 'no_done': no_done}"
   ]
  },
  {
   "cell_type": "code",
   "execution_count": null,
   "metadata": {
    "collapsed": true
   },
   "outputs": [],
   "source": [
    "from ipyparallel import Client\n",
    "c = Client()\n",
    "lbview = c.load_balanced_view()"
   ]
  },
  {
   "cell_type": "code",
   "execution_count": null,
   "metadata": {
    "collapsed": true
   },
   "outputs": [],
   "source": [
    "results = lbview.map_async(process_image_name, image_names)"
   ]
  },
  {
   "cell_type": "code",
   "execution_count": null,
   "metadata": {
    "collapsed": false,
    "scrolled": false
   },
   "outputs": [],
   "source": [
    "for result in results:\n",
    "    print(result)"
   ]
  },
  {
   "cell_type": "code",
   "execution_count": null,
   "metadata": {
    "collapsed": false
   },
   "outputs": [],
   "source": [
    "df = pd.DataFrame(results.result)\n",
    "df = df.set_index('image_name')\n",
    "df"
   ]
  },
  {
   "cell_type": "code",
   "execution_count": null,
   "metadata": {
    "collapsed": false
   },
   "outputs": [],
   "source": [
    "df.no_done.sum()"
   ]
  },
  {
   "cell_type": "code",
   "execution_count": null,
   "metadata": {
    "collapsed": true
   },
   "outputs": [],
   "source": [
    "%matplotlib nbagg"
   ]
  },
  {
   "cell_type": "code",
   "execution_count": null,
   "metadata": {
    "collapsed": false
   },
   "outputs": [],
   "source": [
    "df = df.drop('tutorial')"
   ]
  },
  {
   "cell_type": "code",
   "execution_count": null,
   "metadata": {
    "collapsed": false
   },
   "outputs": [],
   "source": [
    "df.plot(kind='hist',bins=30)"
   ]
  },
  {
   "cell_type": "code",
   "execution_count": null,
   "metadata": {
    "collapsed": false
   },
   "outputs": [],
   "source": [
    "df = pd.read_hdf('image_name_status.h5','df')"
   ]
  },
  {
   "cell_type": "code",
   "execution_count": null,
   "metadata": {
    "collapsed": false
   },
   "outputs": [],
   "source": [
    "df.head()"
   ]
  },
  {
   "cell_type": "code",
   "execution_count": null,
   "metadata": {
    "collapsed": true
   },
   "outputs": [],
   "source": []
  }
 ],
 "metadata": {
  "kernelspec": {
   "display_name": "Python 3",
   "language": "python",
   "name": "python3"
  },
  "language_info": {
   "codemirror_mode": {
    "name": "ipython",
    "version": 3
   },
   "file_extension": ".py",
   "mimetype": "text/x-python",
   "name": "python",
   "nbconvert_exporter": "python",
   "pygments_lexer": "ipython3",
   "version": "3.4.3"
  }
 },
 "nbformat": 4,
 "nbformat_minor": 0
}
