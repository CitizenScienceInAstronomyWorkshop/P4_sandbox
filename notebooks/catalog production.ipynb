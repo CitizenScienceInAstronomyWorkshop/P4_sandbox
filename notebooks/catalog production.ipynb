{
 "cells": [
  {
   "cell_type": "code",
   "execution_count": 1,
   "metadata": {
    "ExecuteTime": {
     "end_time": "2017-04-21T01:25:36.661573Z",
     "start_time": "2017-04-21T01:25:33.965884Z"
    },
    "collapsed": true,
    "run_control": {
     "frozen": false,
     "read_only": false
    }
   },
   "outputs": [],
   "source": [
    "from planet4 import markings, dbscan, io, fnotching"
   ]
  },
  {
   "cell_type": "markdown",
   "metadata": {
    "run_control": {
     "frozen": false,
     "read_only": false
    }
   },
   "source": [
    "# Some regiondata to produce"
   ]
  },
  {
   "cell_type": "code",
   "execution_count": 2,
   "metadata": {
    "ExecuteTime": {
     "end_time": "2017-04-21T01:25:38.459810Z",
     "start_time": "2017-04-21T01:25:38.431919Z"
    },
    "collapsed": true,
    "run_control": {
     "frozen": false,
     "read_only": false
    }
   },
   "outputs": [],
   "source": [
    "from planet4 import region_data"
   ]
  },
  {
   "cell_type": "code",
   "execution_count": 6,
   "metadata": {
    "ExecuteTime": {
     "end_time": "2017-04-21T19:05:08.276382Z",
     "start_time": "2017-04-21T19:04:15.485568Z"
    },
    "run_control": {
     "frozen": false,
     "read_only": false
    },
    "scrolled": false
   },
   "outputs": [
    {
     "name": "stdout",
     "output_type": "stream",
     "text": [
      "ESP_012076_0945\n"
     ]
    }
   ],
   "source": [
    "savedir='with_split'\n",
    "dbscanner = dbscan.DBScanner(split_by_size=True, savedir=savedir)\n",
    "for image_name in ['ESP_012076_0945']:\n",
    "    print(image_name)\n",
    "    dbscanner.cluster_image_name(image_name)\n",
    "    fnotching.fnotch_image_ids(image_name, savedir=savedir)\n",
    "    fnotching.apply_cut(image_name, savedir=savedir)"
   ]
  },
  {
   "cell_type": "code",
   "execution_count": null,
   "metadata": {
    "collapsed": true,
    "run_control": {
     "frozen": false,
     "read_only": false
    }
   },
   "outputs": [],
   "source": []
  },
  {
   "cell_type": "code",
   "execution_count": null,
   "metadata": {
    "collapsed": true,
    "run_control": {
     "frozen": false,
     "read_only": false
    }
   },
   "outputs": [],
   "source": [
    "from IPython.parallel import Client\n",
    "client = Client()"
   ]
  },
  {
   "cell_type": "code",
   "execution_count": null,
   "metadata": {
    "collapsed": true,
    "run_control": {
     "frozen": false,
     "read_only": false
    }
   },
   "outputs": [],
   "source": [
    "dview = client.direct_view()\n",
    "lview = client.load_balanced_view()"
   ]
  },
  {
   "cell_type": "code",
   "execution_count": null,
   "metadata": {
    "collapsed": true,
    "run_control": {
     "frozen": false,
     "read_only": false
    }
   },
   "outputs": [],
   "source": [
    "%%px\n",
    "import pandas as pd\n",
    "from planet4 import clustering, markings\n",
    "import os\n",
    "HOME = os.environ['HOME']"
   ]
  },
  {
   "cell_type": "code",
   "execution_count": null,
   "metadata": {
    "collapsed": true,
    "run_control": {
     "frozen": false,
     "read_only": false
    }
   },
   "outputs": [],
   "source": [
    "dview.push({'do_clustering':do_clustering,\n",
    "            'dbfile':dbfile})"
   ]
  },
  {
   "cell_type": "code",
   "execution_count": null,
   "metadata": {
    "collapsed": true,
    "run_control": {
     "frozen": false,
     "read_only": false
    }
   },
   "outputs": [],
   "source": [
    "result = lview.map_async(process_image_name, image_names)"
   ]
  },
  {
   "cell_type": "code",
   "execution_count": null,
   "metadata": {
    "collapsed": true,
    "run_control": {
     "frozen": false,
     "read_only": false
    }
   },
   "outputs": [],
   "source": [
    "for res in result:\n",
    "    print(res)"
   ]
  },
  {
   "cell_type": "code",
   "execution_count": null,
   "metadata": {
    "collapsed": true,
    "run_control": {
     "frozen": false,
     "read_only": false
    }
   },
   "outputs": [],
   "source": [
    "is_catalog_production_good()"
   ]
  },
  {
   "cell_type": "markdown",
   "metadata": {
    "collapsed": true,
    "run_control": {
     "frozen": false,
     "read_only": false
    }
   },
   "source": [
    "# Creating obsid files"
   ]
  },
  {
   "cell_type": "code",
   "execution_count": 3,
   "metadata": {
    "ExecuteTime": {
     "end_time": "2017-04-21T01:25:52.731695Z",
     "start_time": "2017-04-21T01:25:52.711362Z"
    },
    "collapsed": true,
    "run_control": {
     "frozen": false,
     "read_only": false
    }
   },
   "outputs": [],
   "source": [
    "from planet4.fnotching import get_clusters_in_path"
   ]
  },
  {
   "cell_type": "code",
   "execution_count": 4,
   "metadata": {
    "ExecuteTime": {
     "end_time": "2017-04-21T01:25:53.540242Z",
     "start_time": "2017-04-21T01:25:53.519191Z"
    },
    "collapsed": true,
    "run_control": {
     "frozen": false,
     "read_only": false
    }
   },
   "outputs": [],
   "source": [
    "pm = io.PathManager(obsid='ESP_012076_0945', datapath='no_split')"
   ]
  },
  {
   "cell_type": "code",
   "execution_count": 8,
   "metadata": {
    "ExecuteTime": {
     "end_time": "2017-04-19T06:00:11.772414Z",
     "start_time": "2017-04-19T06:00:11.747865Z"
    },
    "run_control": {
     "frozen": false,
     "read_only": false
    }
   },
   "outputs": [
    {
     "data": {
      "text/plain": [
       "[PosixPath('/Users/klay6683/Dropbox/data/planet4/no_split/ESP_012076_0945/APF0000bn6/L1C_CUT_0.5'),\n",
       " PosixPath('/Users/klay6683/Dropbox/data/planet4/no_split/ESP_012076_0945/APF0000bn7/L1C_CUT_0.5'),\n",
       " PosixPath('/Users/klay6683/Dropbox/data/planet4/no_split/ESP_012076_0945/APF0000bn8/L1C_CUT_0.5'),\n",
       " PosixPath('/Users/klay6683/Dropbox/data/planet4/no_split/ESP_012076_0945/APF0000bn9/L1C_CUT_0.5'),\n",
       " PosixPath('/Users/klay6683/Dropbox/data/planet4/no_split/ESP_012076_0945/APF0000bna/L1C_CUT_0.5')]"
      ]
     },
     "execution_count": 8,
     "metadata": {},
     "output_type": "execute_result"
    }
   ],
   "source": [
    "pm.get_obsid_paths(pm.L1C_folder)[:5]"
   ]
  },
  {
   "cell_type": "code",
   "execution_count": 5,
   "metadata": {
    "ExecuteTime": {
     "end_time": "2017-04-21T01:25:56.701502Z",
     "start_time": "2017-04-21T01:25:56.679026Z"
    },
    "run_control": {
     "frozen": false,
     "read_only": false
    },
    "scrolled": true
   },
   "outputs": [
    {
     "data": {
      "text/plain": [
       "PosixPath('/Users/klay6683/Dropbox/data/planet4/no_split')"
      ]
     },
     "execution_count": 5,
     "metadata": {},
     "output_type": "execute_result"
    }
   ],
   "source": [
    "pm.obsid_results_savefolder"
   ]
  },
  {
   "cell_type": "code",
   "execution_count": 11,
   "metadata": {
    "ExecuteTime": {
     "end_time": "2017-04-19T06:00:44.115185Z",
     "start_time": "2017-04-19T06:00:44.087338Z"
    },
    "run_control": {
     "frozen": false,
     "read_only": false
    }
   },
   "outputs": [
    {
     "data": {
      "text/plain": [
       "PosixPath('/Users/klay6683/Dropbox/data/planet4/no_split/ESP_012076_0945_blotches.csv')"
      ]
     },
     "execution_count": 11,
     "metadata": {},
     "output_type": "execute_result"
    }
   ],
   "source": [
    "pm.obsid_final_blotches_path"
   ]
  },
  {
   "cell_type": "code",
   "execution_count": 13,
   "metadata": {
    "ExecuteTime": {
     "end_time": "2017-04-19T06:03:37.699909Z",
     "start_time": "2017-04-19T06:03:35.127158Z"
    },
    "run_control": {
     "frozen": false,
     "read_only": false
    }
   },
   "outputs": [
    {
     "name": "stdout",
     "output_type": "stream",
     "text": [
      "Created /Users/klay6683/Dropbox/data/planet4/clustering/ESP_012076_0945_blotches.csv\n",
      "Created /Users/klay6683/Dropbox/data/planet4/clustering/ESP_012076_0945_fans.csv\n"
     ]
    }
   ],
   "source": [
    "def create_obsid_result_files(obsid, datapath=None):\n",
    "#     logger.debug(\"Working on %s\", obsid)\n",
    "    pm = io.PathManager(obsid=obsid, datapath=datapath)\n",
    "    # the pm.get_obsid_paths method searches for existing image_id folders inside each\n",
    "    # obsid folder\n",
    "    folders = list(pm.get_obsid_paths(pm.L1C_folder))\n",
    "    blotches = []\n",
    "    fans = []\n",
    "    for folder in folders:\n",
    "        pm.id = fnotching.get_id_from_path(folder)\n",
    "        if pm.final_blotchfile.exists() and pm.final_blotchfile.lstat().st_size > 1:\n",
    "            blotches.append(pm.final_blotchdf)\n",
    "        if pm.final_fanfile.exists() and pm.final_fanfile.lstat().st_size > 1:\n",
    "            fans.append(pm.final_fandf)\n",
    "\n",
    "    if len(blotches) > 0:\n",
    "        blotches = pd.concat(blotches, ignore_index=True)\n",
    "        blotches.dropna(how='all', axis=1, inplace=True)\n",
    "        blotches.to_csv(pm.obsid_final_blotches_path, index=False)\n",
    "        print(\"Created\", pm.obsid_final_blotches_path)\n",
    "\n",
    "    if len(fans) > 0:\n",
    "        fans = pd.concat(fans, ignore_index=True)\n",
    "        fans.dropna(how='all', axis=1, inplace=True)\n",
    "        fans.to_csv(pm.obsid_final_fans_path, index=False)\n",
    "        print(\"Created\", pm.obsid_final_fans_path)\n",
    "        \n",
    "from pathlib import Path\n",
    "# for obsid in region_data.Inca.season3:\n",
    "create_obsid_result_files('ESP_012076_0945')\n"
   ]
  },
  {
   "cell_type": "code",
   "execution_count": null,
   "metadata": {
    "collapsed": true,
    "run_control": {
     "frozen": false,
     "read_only": false
    }
   },
   "outputs": [],
   "source": []
  }
 ],
 "metadata": {
  "anaconda-cloud": {},
  "kernelspec": {
   "display_name": "Python [conda env:stable]",
   "language": "python",
   "name": "conda-env-stable-py"
  },
  "language_info": {
   "codemirror_mode": {
    "name": "ipython",
    "version": 3
   },
   "file_extension": ".py",
   "mimetype": "text/x-python",
   "name": "python",
   "nbconvert_exporter": "python",
   "pygments_lexer": "ipython3",
   "version": "3.6.1"
  },
  "toc": {
   "colors": {
    "hover_highlight": "#DAA520",
    "running_highlight": "#FF0000",
    "selected_highlight": "#FFD700"
   },
   "moveMenuLeft": true,
   "nav_menu": {
    "height": "48px",
    "width": "252px"
   },
   "navigate_menu": true,
   "number_sections": false,
   "sideBar": false,
   "threshold": 4,
   "toc_cell": false,
   "toc_position": {
    "height": "134px",
    "left": "799.59375px",
    "right": "20px",
    "top": "97px",
    "width": "183px"
   },
   "toc_section_display": "block",
   "toc_window_display": true,
   "widenNotebook": false
  }
 },
 "nbformat": 4,
 "nbformat_minor": 1
}
