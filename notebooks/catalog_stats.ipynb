{
 "cells": [
  {
   "cell_type": "markdown",
   "metadata": {
    "toc": true
   },
   "source": [
    "<h1>Table of Contents<span class=\"tocSkip\"></span></h1>\n",
    "<div class=\"toc\"><ul class=\"toc-item\"><li><span><a href=\"#Read-in-data\" data-toc-modified-id=\"Read-in-data-1\"><span class=\"toc-item-num\">1&nbsp;&nbsp;</span>Read in data</a></span></li><li><span><a href=\"#Calculate-number-of-empty-tiles\" data-toc-modified-id=\"Calculate-number-of-empty-tiles-2\"><span class=\"toc-item-num\">2&nbsp;&nbsp;</span>Calculate number of empty tiles</a></span><ul class=\"toc-item\"><li><span><a href=\"#Create-sample-to-check-what's-empty\" data-toc-modified-id=\"Create-sample-to-check-what's-empty-2.1\"><span class=\"toc-item-num\">2.1&nbsp;&nbsp;</span>Create sample to check what's empty</a></span></li></ul></li><li><span><a href=\"#highest-number-of-markings-per-tile\" data-toc-modified-id=\"highest-number-of-markings-per-tile-3\"><span class=\"toc-item-num\">3&nbsp;&nbsp;</span>highest number of markings per tile</a></span></li><li><span><a href=\"#Convert-distance-to-meters\" data-toc-modified-id=\"Convert-distance-to-meters-4\"><span class=\"toc-item-num\">4&nbsp;&nbsp;</span>Convert distance to meters</a></span><ul class=\"toc-item\"><li><ul class=\"toc-item\"><li><span><a href=\"#Reduction-of-number-of-fan-markings-to-finals\" data-toc-modified-id=\"Reduction-of-number-of-fan-markings-to-finals-4.0.1\"><span class=\"toc-item-num\">4.0.1&nbsp;&nbsp;</span>Reduction of number of fan markings to finals</a></span></li></ul></li></ul></li><li><span><a href=\"#Length-stats\" data-toc-modified-id=\"Length-stats-5\"><span class=\"toc-item-num\">5&nbsp;&nbsp;</span>Length stats</a></span><ul class=\"toc-item\"><li><span><a href=\"#Blotch-sizes\" data-toc-modified-id=\"Blotch-sizes-5.1\"><span class=\"toc-item-num\">5.1&nbsp;&nbsp;</span>Blotch sizes</a></span><ul class=\"toc-item\"><li><span><a href=\"#Longest-fans\" data-toc-modified-id=\"Longest-fans-5.1.1\"><span class=\"toc-item-num\">5.1.1&nbsp;&nbsp;</span>Longest fans</a></span></li></ul></li></ul></li></ul></div>"
   ]
  },
  {
   "cell_type": "code",
   "execution_count": 1,
   "metadata": {
    "ExecuteTime": {
     "end_time": "2018-02-12T06:28:11.887734Z",
     "start_time": "2018-02-12T06:28:11.862426Z"
    }
   },
   "outputs": [],
   "source": [
    "%matplotlib ipympl"
   ]
  },
  {
   "cell_type": "code",
   "execution_count": 225,
   "metadata": {
    "ExecuteTime": {
     "end_time": "2018-02-12T20:14:19.795542Z",
     "start_time": "2018-02-12T20:14:19.772541Z"
    },
    "scrolled": true
   },
   "outputs": [],
   "source": [
    "import seaborn as sns\n",
    "sns.set()\n",
    "sns.set_context('paper')\n",
    "sns.set_palette('colorblind')\n",
    "from planet4 import io, stats, markings, plotting\n",
    "from planet4.catalog_production import ReleaseManager"
   ]
  },
  {
   "cell_type": "markdown",
   "metadata": {
    "ExecuteTime": {
     "end_time": "2018-01-01T23:17:06.720333Z",
     "start_time": "2018-01-01T23:17:06.687325Z"
    }
   },
   "source": [
    "# Read in data"
   ]
  },
  {
   "cell_type": "code",
   "execution_count": 3,
   "metadata": {
    "ExecuteTime": {
     "end_time": "2018-02-12T06:28:20.251295Z",
     "start_time": "2018-02-12T06:28:20.230305Z"
    }
   },
   "outputs": [],
   "source": [
    "rm = ReleaseManager('v1.0b4')"
   ]
  },
  {
   "cell_type": "code",
   "execution_count": 4,
   "metadata": {
    "ExecuteTime": {
     "end_time": "2018-02-12T06:28:22.188944Z",
     "start_time": "2018-02-12T06:28:20.824768Z"
    }
   },
   "outputs": [
    {
     "data": {
      "text/html": [
       "<div>\n",
       "<style scoped>\n",
       "    .dataframe tbody tr th:only-of-type {\n",
       "        vertical-align: middle;\n",
       "    }\n",
       "\n",
       "    .dataframe tbody tr th {\n",
       "        vertical-align: top;\n",
       "    }\n",
       "\n",
       "    .dataframe thead th {\n",
       "        text-align: right;\n",
       "    }\n",
       "</style>\n",
       "<table border=\"1\" class=\"dataframe\">\n",
       "  <thead>\n",
       "    <tr style=\"text-align: right;\">\n",
       "      <th></th>\n",
       "      <th>angle</th>\n",
       "      <th>image_id</th>\n",
       "      <th>image_name</th>\n",
       "      <th>image_x</th>\n",
       "      <th>image_y</th>\n",
       "      <th>marking_id</th>\n",
       "      <th>n_votes</th>\n",
       "      <th>obsid</th>\n",
       "      <th>radius_1</th>\n",
       "      <th>radius_2</th>\n",
       "      <th>vote_ratio</th>\n",
       "      <th>x</th>\n",
       "      <th>x_angle</th>\n",
       "      <th>y</th>\n",
       "      <th>y_angle</th>\n",
       "      <th>l_s</th>\n",
       "      <th>map_scale</th>\n",
       "      <th>north_azimuth</th>\n",
       "      <th>marking</th>\n",
       "    </tr>\n",
       "  </thead>\n",
       "  <tbody>\n",
       "    <tr>\n",
       "      <th>0</th>\n",
       "      <td>2.28</td>\n",
       "      <td>APF0000cia</td>\n",
       "      <td>ESP_012079_0945</td>\n",
       "      <td>3330.27</td>\n",
       "      <td>5573.00</td>\n",
       "      <td>B01b318</td>\n",
       "      <td>4</td>\n",
       "      <td>ESP_012079_0945</td>\n",
       "      <td>22.13</td>\n",
       "      <td>15.78</td>\n",
       "      <td>0.00</td>\n",
       "      <td>370.27</td>\n",
       "      <td>0.50</td>\n",
       "      <td>93.00</td>\n",
       "      <td>0.10</td>\n",
       "      <td>214.784691</td>\n",
       "      <td>0.25</td>\n",
       "      <td>126.856883</td>\n",
       "      <td>blotch</td>\n",
       "    </tr>\n",
       "    <tr>\n",
       "      <th>1</th>\n",
       "      <td>1.38</td>\n",
       "      <td>APF0000cia</td>\n",
       "      <td>ESP_012079_0945</td>\n",
       "      <td>3593.60</td>\n",
       "      <td>5706.40</td>\n",
       "      <td>B01b319</td>\n",
       "      <td>5</td>\n",
       "      <td>ESP_012079_0945</td>\n",
       "      <td>25.55</td>\n",
       "      <td>15.73</td>\n",
       "      <td>0.55</td>\n",
       "      <td>633.60</td>\n",
       "      <td>0.20</td>\n",
       "      <td>226.40</td>\n",
       "      <td>0.05</td>\n",
       "      <td>214.784691</td>\n",
       "      <td>0.25</td>\n",
       "      <td>126.856883</td>\n",
       "      <td>blotch</td>\n",
       "    </tr>\n",
       "    <tr>\n",
       "      <th>2</th>\n",
       "      <td>7.16</td>\n",
       "      <td>APF0000cic</td>\n",
       "      <td>ESP_012079_0945</td>\n",
       "      <td>98.10</td>\n",
       "      <td>34394.70</td>\n",
       "      <td>B01b31c</td>\n",
       "      <td>10</td>\n",
       "      <td>ESP_012079_0945</td>\n",
       "      <td>84.54</td>\n",
       "      <td>48.33</td>\n",
       "      <td>0.00</td>\n",
       "      <td>98.10</td>\n",
       "      <td>0.58</td>\n",
       "      <td>418.70</td>\n",
       "      <td>0.18</td>\n",
       "      <td>214.784691</td>\n",
       "      <td>0.25</td>\n",
       "      <td>126.856883</td>\n",
       "      <td>blotch</td>\n",
       "    </tr>\n",
       "    <tr>\n",
       "      <th>3</th>\n",
       "      <td>81.00</td>\n",
       "      <td>APF0000cic</td>\n",
       "      <td>ESP_012079_0945</td>\n",
       "      <td>825.58</td>\n",
       "      <td>34203.38</td>\n",
       "      <td>B01b31d</td>\n",
       "      <td>8</td>\n",
       "      <td>ESP_012079_0945</td>\n",
       "      <td>51.92</td>\n",
       "      <td>35.12</td>\n",
       "      <td>0.00</td>\n",
       "      <td>825.58</td>\n",
       "      <td>0.16</td>\n",
       "      <td>227.38</td>\n",
       "      <td>0.97</td>\n",
       "      <td>214.784691</td>\n",
       "      <td>0.25</td>\n",
       "      <td>126.856883</td>\n",
       "      <td>blotch</td>\n",
       "    </tr>\n",
       "    <tr>\n",
       "      <th>4</th>\n",
       "      <td>14.66</td>\n",
       "      <td>APF0000cic</td>\n",
       "      <td>ESP_012079_0945</td>\n",
       "      <td>152.67</td>\n",
       "      <td>34155.33</td>\n",
       "      <td>B01b31e</td>\n",
       "      <td>3</td>\n",
       "      <td>ESP_012079_0945</td>\n",
       "      <td>184.94</td>\n",
       "      <td>71.25</td>\n",
       "      <td>0.00</td>\n",
       "      <td>152.67</td>\n",
       "      <td>0.93</td>\n",
       "      <td>179.33</td>\n",
       "      <td>0.25</td>\n",
       "      <td>214.784691</td>\n",
       "      <td>0.25</td>\n",
       "      <td>126.856883</td>\n",
       "      <td>blotch</td>\n",
       "    </tr>\n",
       "  </tbody>\n",
       "</table>\n",
       "</div>"
      ],
      "text/plain": [
       "   angle    image_id       image_name  image_x   image_y marking_id  n_votes  \\\n",
       "0   2.28  APF0000cia  ESP_012079_0945  3330.27   5573.00    B01b318        4   \n",
       "1   1.38  APF0000cia  ESP_012079_0945  3593.60   5706.40    B01b319        5   \n",
       "2   7.16  APF0000cic  ESP_012079_0945    98.10  34394.70    B01b31c       10   \n",
       "3  81.00  APF0000cic  ESP_012079_0945   825.58  34203.38    B01b31d        8   \n",
       "4  14.66  APF0000cic  ESP_012079_0945   152.67  34155.33    B01b31e        3   \n",
       "\n",
       "             obsid  radius_1  radius_2  vote_ratio       x  x_angle       y  \\\n",
       "0  ESP_012079_0945     22.13     15.78        0.00  370.27     0.50   93.00   \n",
       "1  ESP_012079_0945     25.55     15.73        0.55  633.60     0.20  226.40   \n",
       "2  ESP_012079_0945     84.54     48.33        0.00   98.10     0.58  418.70   \n",
       "3  ESP_012079_0945     51.92     35.12        0.00  825.58     0.16  227.38   \n",
       "4  ESP_012079_0945    184.94     71.25        0.00  152.67     0.93  179.33   \n",
       "\n",
       "   y_angle         l_s  map_scale  north_azimuth marking  \n",
       "0     0.10  214.784691       0.25     126.856883  blotch  \n",
       "1     0.05  214.784691       0.25     126.856883  blotch  \n",
       "2     0.18  214.784691       0.25     126.856883  blotch  \n",
       "3     0.97  214.784691       0.25     126.856883  blotch  \n",
       "4     0.25  214.784691       0.25     126.856883  blotch  "
      ]
     },
     "execution_count": 4,
     "metadata": {},
     "output_type": "execute_result"
    }
   ],
   "source": [
    "blotches = rm.read_blotch_file().assign(marking='blotch')\n",
    "fans = rm.read_fan_file().assign(marking='fan')\n",
    "blotches.head()"
   ]
  },
  {
   "cell_type": "code",
   "execution_count": 5,
   "metadata": {
    "ExecuteTime": {
     "end_time": "2018-02-12T06:28:23.332820Z",
     "start_time": "2018-02-12T06:28:23.293287Z"
    }
   },
   "outputs": [
    {
     "data": {
      "text/html": [
       "<div>\n",
       "<style scoped>\n",
       "    .dataframe tbody tr th:only-of-type {\n",
       "        vertical-align: middle;\n",
       "    }\n",
       "\n",
       "    .dataframe tbody tr th {\n",
       "        vertical-align: top;\n",
       "    }\n",
       "\n",
       "    .dataframe thead th {\n",
       "        text-align: right;\n",
       "    }\n",
       "</style>\n",
       "<table border=\"1\" class=\"dataframe\">\n",
       "  <thead>\n",
       "    <tr style=\"text-align: right;\">\n",
       "      <th></th>\n",
       "      <th>angle</th>\n",
       "      <th>distance</th>\n",
       "      <th>image_id</th>\n",
       "      <th>image_name</th>\n",
       "      <th>image_x</th>\n",
       "      <th>image_y</th>\n",
       "      <th>marking_id</th>\n",
       "      <th>n_votes</th>\n",
       "      <th>obsid</th>\n",
       "      <th>spread</th>\n",
       "      <th>version</th>\n",
       "      <th>vote_ratio</th>\n",
       "      <th>x</th>\n",
       "      <th>x_angle</th>\n",
       "      <th>y</th>\n",
       "      <th>y_angle</th>\n",
       "      <th>l_s</th>\n",
       "      <th>map_scale</th>\n",
       "      <th>north_azimuth</th>\n",
       "      <th>marking</th>\n",
       "    </tr>\n",
       "  </thead>\n",
       "  <tbody>\n",
       "    <tr>\n",
       "      <th>0</th>\n",
       "      <td>205.56</td>\n",
       "      <td>179.71</td>\n",
       "      <td>APF0000ci9</td>\n",
       "      <td>ESP_012079_0945</td>\n",
       "      <td>2270.76</td>\n",
       "      <td>24336.16</td>\n",
       "      <td>F039765</td>\n",
       "      <td>35</td>\n",
       "      <td>ESP_012079_0945</td>\n",
       "      <td>88.03</td>\n",
       "      <td>1.0</td>\n",
       "      <td>1.00</td>\n",
       "      <td>790.76</td>\n",
       "      <td>-0.90</td>\n",
       "      <td>224.16</td>\n",
       "      <td>-0.43</td>\n",
       "      <td>214.784691</td>\n",
       "      <td>0.25</td>\n",
       "      <td>126.856883</td>\n",
       "      <td>fan</td>\n",
       "    </tr>\n",
       "    <tr>\n",
       "      <th>1</th>\n",
       "      <td>185.39</td>\n",
       "      <td>179.62</td>\n",
       "      <td>APF0000cia</td>\n",
       "      <td>ESP_012079_0945</td>\n",
       "      <td>3391.21</td>\n",
       "      <td>5640.60</td>\n",
       "      <td>F039766</td>\n",
       "      <td>15</td>\n",
       "      <td>ESP_012079_0945</td>\n",
       "      <td>21.35</td>\n",
       "      <td>1.0</td>\n",
       "      <td>1.00</td>\n",
       "      <td>431.21</td>\n",
       "      <td>-1.00</td>\n",
       "      <td>160.60</td>\n",
       "      <td>-0.09</td>\n",
       "      <td>214.784691</td>\n",
       "      <td>0.25</td>\n",
       "      <td>126.856883</td>\n",
       "      <td>fan</td>\n",
       "    </tr>\n",
       "    <tr>\n",
       "      <th>2</th>\n",
       "      <td>184.98</td>\n",
       "      <td>500.27</td>\n",
       "      <td>APF0000cia</td>\n",
       "      <td>ESP_012079_0945</td>\n",
       "      <td>3509.96</td>\n",
       "      <td>5876.70</td>\n",
       "      <td>F039767</td>\n",
       "      <td>10</td>\n",
       "      <td>ESP_012079_0945</td>\n",
       "      <td>18.91</td>\n",
       "      <td>1.0</td>\n",
       "      <td>1.00</td>\n",
       "      <td>549.96</td>\n",
       "      <td>-1.00</td>\n",
       "      <td>396.70</td>\n",
       "      <td>-0.09</td>\n",
       "      <td>214.784691</td>\n",
       "      <td>0.25</td>\n",
       "      <td>126.856883</td>\n",
       "      <td>fan</td>\n",
       "    </tr>\n",
       "    <tr>\n",
       "      <th>3</th>\n",
       "      <td>184.29</td>\n",
       "      <td>105.43</td>\n",
       "      <td>APF0000cia</td>\n",
       "      <td>ESP_012079_0945</td>\n",
       "      <td>3716.27</td>\n",
       "      <td>5824.50</td>\n",
       "      <td>F039769</td>\n",
       "      <td>6</td>\n",
       "      <td>ESP_012079_0945</td>\n",
       "      <td>26.41</td>\n",
       "      <td>1.0</td>\n",
       "      <td>0.68</td>\n",
       "      <td>756.27</td>\n",
       "      <td>-1.00</td>\n",
       "      <td>344.50</td>\n",
       "      <td>-0.07</td>\n",
       "      <td>214.784691</td>\n",
       "      <td>0.25</td>\n",
       "      <td>126.856883</td>\n",
       "      <td>fan</td>\n",
       "    </tr>\n",
       "    <tr>\n",
       "      <th>4</th>\n",
       "      <td>189.42</td>\n",
       "      <td>109.50</td>\n",
       "      <td>APF0000cia</td>\n",
       "      <td>ESP_012079_0945</td>\n",
       "      <td>3452.17</td>\n",
       "      <td>6033.00</td>\n",
       "      <td>F03976a</td>\n",
       "      <td>3</td>\n",
       "      <td>ESP_012079_0945</td>\n",
       "      <td>22.58</td>\n",
       "      <td>1.0</td>\n",
       "      <td>0.51</td>\n",
       "      <td>492.17</td>\n",
       "      <td>-0.99</td>\n",
       "      <td>553.00</td>\n",
       "      <td>-0.16</td>\n",
       "      <td>214.784691</td>\n",
       "      <td>0.25</td>\n",
       "      <td>126.856883</td>\n",
       "      <td>fan</td>\n",
       "    </tr>\n",
       "  </tbody>\n",
       "</table>\n",
       "</div>"
      ],
      "text/plain": [
       "    angle  distance    image_id       image_name  image_x   image_y  \\\n",
       "0  205.56    179.71  APF0000ci9  ESP_012079_0945  2270.76  24336.16   \n",
       "1  185.39    179.62  APF0000cia  ESP_012079_0945  3391.21   5640.60   \n",
       "2  184.98    500.27  APF0000cia  ESP_012079_0945  3509.96   5876.70   \n",
       "3  184.29    105.43  APF0000cia  ESP_012079_0945  3716.27   5824.50   \n",
       "4  189.42    109.50  APF0000cia  ESP_012079_0945  3452.17   6033.00   \n",
       "\n",
       "  marking_id  n_votes            obsid  spread  version  vote_ratio       x  \\\n",
       "0    F039765       35  ESP_012079_0945   88.03      1.0        1.00  790.76   \n",
       "1    F039766       15  ESP_012079_0945   21.35      1.0        1.00  431.21   \n",
       "2    F039767       10  ESP_012079_0945   18.91      1.0        1.00  549.96   \n",
       "3    F039769        6  ESP_012079_0945   26.41      1.0        0.68  756.27   \n",
       "4    F03976a        3  ESP_012079_0945   22.58      1.0        0.51  492.17   \n",
       "\n",
       "   x_angle       y  y_angle         l_s  map_scale  north_azimuth marking  \n",
       "0    -0.90  224.16    -0.43  214.784691       0.25     126.856883     fan  \n",
       "1    -1.00  160.60    -0.09  214.784691       0.25     126.856883     fan  \n",
       "2    -1.00  396.70    -0.09  214.784691       0.25     126.856883     fan  \n",
       "3    -1.00  344.50    -0.07  214.784691       0.25     126.856883     fan  \n",
       "4    -0.99  553.00    -0.16  214.784691       0.25     126.856883     fan  "
      ]
     },
     "execution_count": 5,
     "metadata": {},
     "output_type": "execute_result"
    }
   ],
   "source": [
    "fans.head()"
   ]
  },
  {
   "cell_type": "code",
   "execution_count": 6,
   "metadata": {
    "ExecuteTime": {
     "end_time": "2018-02-12T06:28:24.858989Z",
     "start_time": "2018-02-12T06:28:24.724002Z"
    }
   },
   "outputs": [],
   "source": [
    "combined = pd.concat([fans,blotches])"
   ]
  },
  {
   "cell_type": "markdown",
   "metadata": {},
   "source": [
    "Adding a region identifier, immensely helpful in automatically plotting stuff across regions."
   ]
  },
  {
   "cell_type": "code",
   "execution_count": 173,
   "metadata": {
    "ExecuteTime": {
     "end_time": "2018-02-12T19:42:28.244698Z",
     "start_time": "2018-02-12T19:42:27.221624Z"
    }
   },
   "outputs": [
    {
     "name": "stdout",
     "output_type": "stream",
     "text": [
      "Giza\n",
      "Inca\n",
      "Ithaca\n",
      "Manhattan\n",
      "Manhattan2\n",
      "Bilbao\n",
      "Oswego_Edge\n",
      "Manhattan_Frontinella\n",
      "BuenosAires\n",
      "Maccelsfield\n",
      "Starburst\n",
      "Potsdam\n",
      "Portsmouth\n"
     ]
    }
   ],
   "source": [
    "for Reg in region_data.regions:\n",
    "    reg = Reg()\n",
    "    print(reg.name)\n",
    "    combined.loc[combined.image_name.isin(reg.all_obsids), 'region'] = reg.name\n",
    "    fans.loc[fans.image_name.isin(reg.all_obsids), 'region']= reg.name\n",
    "    blotches.loc[blotches.image_name.isin(reg.all_obsids), 'region'] = reg.name"
   ]
  },
  {
   "cell_type": "markdown",
   "metadata": {
    "heading_collapsed": true
   },
   "source": [
    "# Calculate number of empty tiles "
   ]
  },
  {
   "cell_type": "code",
   "execution_count": 84,
   "metadata": {
    "ExecuteTime": {
     "end_time": "2018-02-08T20:41:43.436640Z",
     "start_time": "2018-02-08T20:41:43.397320Z"
    },
    "hidden": true
   },
   "outputs": [],
   "source": [
    "fan_tiles = fans.image_id.unique()\n",
    "blotch_tiles = blotches.image_id.unique()"
   ]
  },
  {
   "cell_type": "code",
   "execution_count": 87,
   "metadata": {
    "ExecuteTime": {
     "end_time": "2018-02-08T20:42:20.060284Z",
     "start_time": "2018-02-08T20:42:20.008402Z"
    },
    "hidden": true
   },
   "outputs": [
    {
     "data": {
      "text/plain": [
       "30211"
      ]
     },
     "execution_count": 87,
     "metadata": {},
     "output_type": "execute_result"
    }
   ],
   "source": [
    "tiles_marked = np.union1d(fan_tiles, blotch_tiles)\n",
    "tiles_marked.shape[0]"
   ]
  },
  {
   "cell_type": "code",
   "execution_count": 88,
   "metadata": {
    "ExecuteTime": {
     "end_time": "2018-02-08T20:42:22.806300Z",
     "start_time": "2018-02-08T20:42:22.783641Z"
    },
    "hidden": true
   },
   "outputs": [],
   "source": [
    "db = io.DBManager()"
   ]
  },
  {
   "cell_type": "code",
   "execution_count": 89,
   "metadata": {
    "ExecuteTime": {
     "end_time": "2018-02-08T20:42:45.810522Z",
     "start_time": "2018-02-08T20:42:35.212457Z"
    },
    "hidden": true
   },
   "outputs": [
    {
     "data": {
      "text/plain": [
       "42904"
      ]
     },
     "execution_count": 89,
     "metadata": {},
     "output_type": "execute_result"
    }
   ],
   "source": [
    "input_tiles = db.image_ids\n",
    "input_tiles.shape[0]"
   ]
  },
  {
   "cell_type": "code",
   "execution_count": 90,
   "metadata": {
    "ExecuteTime": {
     "end_time": "2018-02-08T20:42:47.544239Z",
     "start_time": "2018-02-08T20:42:47.520696Z"
    },
    "hidden": true
   },
   "outputs": [
    {
     "data": {
      "text/plain": [
       "12693"
      ]
     },
     "execution_count": 90,
     "metadata": {},
     "output_type": "execute_result"
    }
   ],
   "source": [
    "n_empty = input_tiles.shape[0] - tiles_marked.shape[0]\n",
    "n_empty"
   ]
  },
  {
   "cell_type": "code",
   "execution_count": 91,
   "metadata": {
    "ExecuteTime": {
     "end_time": "2018-02-08T20:42:53.137573Z",
     "start_time": "2018-02-08T20:42:53.114875Z"
    },
    "hidden": true
   },
   "outputs": [
    {
     "data": {
      "text/plain": [
       "0.29584654111504755"
      ]
     },
     "execution_count": 91,
     "metadata": {},
     "output_type": "execute_result"
    }
   ],
   "source": [
    "n_empty / input_tiles.shape[0]"
   ]
  },
  {
   "cell_type": "markdown",
   "metadata": {
    "heading_collapsed": true,
    "hidden": true
   },
   "source": [
    "## Create sample to check what's empty"
   ]
  },
  {
   "cell_type": "code",
   "execution_count": 14,
   "metadata": {
    "ExecuteTime": {
     "end_time": "2018-01-31T17:47:26.818961Z",
     "start_time": "2018-01-31T17:47:26.793459Z"
    },
    "hidden": true
   },
   "outputs": [],
   "source": [
    "sample = np.random.choice(empty_tiles, 200)"
   ]
  },
  {
   "cell_type": "code",
   "execution_count": 15,
   "metadata": {
    "ExecuteTime": {
     "end_time": "2018-01-31T17:47:27.682724Z",
     "start_time": "2018-01-31T17:47:27.659949Z"
    },
    "hidden": true
   },
   "outputs": [
    {
     "name": "stdout",
     "output_type": "stream",
     "text": [
      "/Users/klay6683/Dropbox/src/planet4/notebooks/plots\n"
     ]
    }
   ],
   "source": [
    "cd plots"
   ]
  },
  {
   "cell_type": "code",
   "execution_count": 16,
   "metadata": {
    "ExecuteTime": {
     "end_time": "2018-01-31T17:47:33.607474Z",
     "start_time": "2018-01-31T17:47:33.587023Z"
    },
    "hidden": true
   },
   "outputs": [],
   "source": [
    "from tqdm import tqdm"
   ]
  },
  {
   "cell_type": "code",
   "execution_count": 17,
   "metadata": {
    "ExecuteTime": {
     "end_time": "2018-01-31T17:51:25.598119Z",
     "start_time": "2018-01-31T17:47:39.909394Z"
    },
    "hidden": true
   },
   "outputs": [
    {
     "name": "stderr",
     "output_type": "stream",
     "text": [
      "100%|██████████| 200/200 [03:45<00:00,  1.13s/it]\n"
     ]
    }
   ],
   "source": [
    "for image_id in tqdm(sample):\n",
    "    fig, ax = plt.subplots(ncols=2)\n",
    "    plotting.plot_raw_fans(image_id, ax=ax[0])\n",
    "    plotting.plot_raw_blotches(image_id, ax=ax[1])\n",
    "    fig.savefig(f\"empty_tiles/{image_id}_input_markings.png\", dpi=150)\n",
    "    plt.close('all')"
   ]
  },
  {
   "cell_type": "markdown",
   "metadata": {},
   "source": [
    "# highest number of markings per tile"
   ]
  },
  {
   "cell_type": "code",
   "execution_count": 7,
   "metadata": {
    "ExecuteTime": {
     "end_time": "2018-02-12T06:28:34.689590Z",
     "start_time": "2018-02-12T06:28:34.645078Z"
    }
   },
   "outputs": [
    {
     "data": {
      "text/plain": [
       "image_id\n",
       "APF00006mr    167\n",
       "APF0000ay0    159\n",
       "APF0000q3x    135\n",
       "APF0000at2    128\n",
       "APF0000hyn    127\n",
       "dtype: int64"
      ]
     },
     "execution_count": 7,
     "metadata": {},
     "output_type": "execute_result"
    }
   ],
   "source": [
    "fans_per_tile = fans.groupby('image_id').size().sort_values(ascending=False)\n",
    "fans_per_tile.head()"
   ]
  },
  {
   "cell_type": "code",
   "execution_count": 8,
   "metadata": {
    "ExecuteTime": {
     "end_time": "2018-02-12T06:28:35.457781Z",
     "start_time": "2018-02-12T06:28:35.399832Z"
    }
   },
   "outputs": [
    {
     "data": {
      "text/plain": [
       "image_id\n",
       "APF00007t9    278\n",
       "APF00007gm    244\n",
       "APF00007ob    239\n",
       "APF00007r9    221\n",
       "APF00007nm    221\n",
       "dtype: int64"
      ]
     },
     "execution_count": 8,
     "metadata": {},
     "output_type": "execute_result"
    }
   ],
   "source": [
    "blotches_per_tile = blotches.groupby('image_id').size().sort_values(ascending=False)\n",
    "blotches_per_tile.head()"
   ]
  },
  {
   "cell_type": "code",
   "execution_count": 9,
   "metadata": {
    "ExecuteTime": {
     "end_time": "2018-02-12T06:28:38.639067Z",
     "start_time": "2018-02-12T06:28:38.615975Z"
    }
   },
   "outputs": [
    {
     "name": "stdout",
     "output_type": "stream",
     "text": [
      "4.0\n"
     ]
    },
    {
     "data": {
      "text/plain": [
       "4.0"
      ]
     },
     "execution_count": 9,
     "metadata": {},
     "output_type": "execute_result"
    }
   ],
   "source": [
    "print(fans_per_tile.median())\n",
    "blotches_per_tile.median()"
   ]
  },
  {
   "cell_type": "code",
   "execution_count": 226,
   "metadata": {
    "ExecuteTime": {
     "end_time": "2018-02-12T20:14:41.238921Z",
     "start_time": "2018-02-12T20:14:41.214168Z"
    }
   },
   "outputs": [],
   "source": [
    "plt.close('all')"
   ]
  },
  {
   "cell_type": "code",
   "execution_count": 227,
   "metadata": {
    "ExecuteTime": {
     "end_time": "2018-02-12T20:14:47.434730Z",
     "start_time": "2018-02-12T20:14:47.339875Z"
    }
   },
   "outputs": [],
   "source": [
    "by_image_id = combined.groupby(['marking', 'image_id']).size()"
   ]
  },
  {
   "cell_type": "code",
   "execution_count": 228,
   "metadata": {
    "ExecuteTime": {
     "end_time": "2018-02-12T20:14:48.031736Z",
     "start_time": "2018-02-12T20:14:48.009638Z"
    }
   },
   "outputs": [],
   "source": [
    "by_image_id.name = 'Markings per tile'"
   ]
  },
  {
   "cell_type": "code",
   "execution_count": 229,
   "metadata": {
    "ExecuteTime": {
     "end_time": "2018-02-12T20:14:50.161691Z",
     "start_time": "2018-02-12T20:14:50.135725Z"
    }
   },
   "outputs": [],
   "source": [
    "by_image_id = by_image_id.reset_index()"
   ]
  },
  {
   "cell_type": "code",
   "execution_count": 230,
   "metadata": {
    "ExecuteTime": {
     "end_time": "2018-02-12T20:14:51.581085Z",
     "start_time": "2018-02-12T20:14:51.557668Z"
    }
   },
   "outputs": [
    {
     "data": {
      "text/plain": [
       "Index(['marking', 'image_id', 'Markings per tile'], dtype='object')"
      ]
     },
     "execution_count": 230,
     "metadata": {},
     "output_type": "execute_result"
    }
   ],
   "source": [
    "by_image_id.columns"
   ]
  },
  {
   "cell_type": "code",
   "execution_count": 246,
   "metadata": {
    "ExecuteTime": {
     "end_time": "2018-02-12T20:26:06.351209Z",
     "start_time": "2018-02-12T20:26:06.326136Z"
    }
   },
   "outputs": [],
   "source": [
    "sns.FacetGrid?"
   ]
  },
  {
   "cell_type": "code",
   "execution_count": 248,
   "metadata": {
    "ExecuteTime": {
     "end_time": "2018-02-12T20:26:17.634367Z",
     "start_time": "2018-02-12T20:26:16.971594Z"
    }
   },
   "outputs": [
    {
     "data": {
      "application/vnd.jupyter.widget-view+json": {
       "model_id": "6dfb21be94a54b149442d141df918813",
       "version_major": 2,
       "version_minor": 0
      },
      "text/html": [
       "<p>Failed to display Jupyter Widget of type <code>FigureCanvasNbAgg</code>.</p>\n",
       "<p>\n",
       "  If you're reading this message in the Jupyter Notebook or JupyterLab Notebook, it may mean\n",
       "  that the widgets JavaScript is still loading. If this message persists, it\n",
       "  likely means that the widgets JavaScript library is either not installed or\n",
       "  not enabled. See the <a href=\"https://ipywidgets.readthedocs.io/en/stable/user_install.html\">Jupyter\n",
       "  Widgets Documentation</a> for setup instructions.\n",
       "</p>\n",
       "<p>\n",
       "  If you're reading this message in another frontend (for example, a static\n",
       "  rendering on GitHub or <a href=\"https://nbviewer.jupyter.org/\">NBViewer</a>),\n",
       "  it may mean that your frontend doesn't currently support widgets.\n",
       "</p>\n"
      ],
      "text/plain": [
       "FigureCanvasNbAgg()"
      ]
     },
     "metadata": {},
     "output_type": "display_data"
    }
   ],
   "source": [
    "g = sns.FacetGrid(by_image_id, col=\"marking\", aspect=1.2)\n",
    "bins = np.arange(0, 280, 5)\n",
    "g.map(sns.distplot, 'Markings per tile', kde=False, bins=bins, hist_kws={'log':True})\n",
    "plt.savefig('/Users/klay6683/Dropbox/src/p4_paper1/figures/number_distributions.png', dpi=150)"
   ]
  },
  {
   "cell_type": "code",
   "execution_count": 18,
   "metadata": {
    "ExecuteTime": {
     "end_time": "2018-02-12T06:29:12.241382Z",
     "start_time": "2018-02-12T06:29:12.220294Z"
    }
   },
   "outputs": [
    {
     "data": {
      "text/plain": [
       "4.0"
      ]
     },
     "execution_count": 18,
     "metadata": {},
     "output_type": "execute_result"
    }
   ],
   "source": [
    "blotches_per_tile.median()"
   ]
  },
  {
   "cell_type": "code",
   "execution_count": 19,
   "metadata": {
    "ExecuteTime": {
     "end_time": "2018-02-12T06:29:12.735858Z",
     "start_time": "2018-02-12T06:29:12.715191Z"
    }
   },
   "outputs": [],
   "source": [
    "from planet4 import plotting"
   ]
  },
  {
   "cell_type": "code",
   "execution_count": 233,
   "metadata": {
    "ExecuteTime": {
     "end_time": "2018-02-12T20:15:33.733542Z",
     "start_time": "2018-02-12T20:15:33.694926Z"
    }
   },
   "outputs": [],
   "source": [
    "# %load -n plotting.plot_finals_with_input\n",
    "def plot_finals_with_input(id_, datapath=None, horizontal=True, scope='planet4'):\n",
    "    imgid = markings.ImageID(id_, scope=scope)\n",
    "    pm = io.PathManager(id_=id_, datapath=datapath)\n",
    "    if horizontal is True:\n",
    "        kwargs = {'ncols': 2}\n",
    "    else:\n",
    "        kwargs = {'nrows': 2}\n",
    "    fig, ax = plt.subplots(figsize=(4,5), **kwargs)\n",
    "    ax[0].set_title(imgid.imgid, fontsize=8)\n",
    "    imgid.show_subframe(ax=ax[0])\n",
    "    for marking in ['fan', 'blotch']:\n",
    "        try:\n",
    "            df = getattr(pm, f\"final_{marking}df\")\n",
    "        except:\n",
    "            continue\n",
    "        else:\n",
    "            data = df[df.image_id == imgid.imgid]\n",
    "            imgid.plot_markings(marking, data, ax=ax[1])\n",
    "    fig.subplots_adjust(top=0.95,bottom=0, left=0, right=1, hspace=0.01, wspace=0.01)\n",
    "    fig.savefig(f\"/Users/klay6683/Dropbox/src/p4_paper1/figures/{imgid.imgid}_final.png\",\n",
    "                dpi=150)"
   ]
  },
  {
   "cell_type": "code",
   "execution_count": 165,
   "metadata": {
    "ExecuteTime": {
     "end_time": "2018-02-12T19:38:41.980213Z",
     "start_time": "2018-02-12T19:38:40.923378Z"
    },
    "scrolled": false
   },
   "outputs": [
    {
     "data": {
      "application/vnd.jupyter.widget-view+json": {
       "model_id": "ac4b604dab76477f9c51040e57519571",
       "version_major": 2,
       "version_minor": 0
      },
      "text/html": [
       "<p>Failed to display Jupyter Widget of type <code>FigureCanvasNbAgg</code>.</p>\n",
       "<p>\n",
       "  If you're reading this message in the Jupyter Notebook or JupyterLab Notebook, it may mean\n",
       "  that the widgets JavaScript is still loading. If this message persists, it\n",
       "  likely means that the widgets JavaScript library is either not installed or\n",
       "  not enabled. See the <a href=\"https://ipywidgets.readthedocs.io/en/stable/user_install.html\">Jupyter\n",
       "  Widgets Documentation</a> for setup instructions.\n",
       "</p>\n",
       "<p>\n",
       "  If you're reading this message in another frontend (for example, a static\n",
       "  rendering on GitHub or <a href=\"https://nbviewer.jupyter.org/\">NBViewer</a>),\n",
       "  it may mean that your frontend doesn't currently support widgets.\n",
       "</p>\n"
      ],
      "text/plain": [
       "FigureCanvasNbAgg()"
      ]
     },
     "metadata": {},
     "output_type": "display_data"
    }
   ],
   "source": [
    "plot_finals_with_input('7t9', rm.savefolder, horizontal=False)"
   ]
  },
  {
   "cell_type": "code",
   "execution_count": 134,
   "metadata": {
    "ExecuteTime": {
     "end_time": "2018-02-12T08:23:56.455448Z",
     "start_time": "2018-02-12T08:23:56.349367Z"
    }
   },
   "outputs": [
    {
     "data": {
      "text/plain": [
       "'ESP_012604_0965'"
      ]
     },
     "execution_count": 134,
     "metadata": {},
     "output_type": "execute_result"
    }
   ],
   "source": [
    "markings.ImageID('7t9').image_name"
   ]
  },
  {
   "cell_type": "markdown",
   "metadata": {
    "ExecuteTime": {
     "end_time": "2018-01-01T23:53:46.624849Z",
     "start_time": "2018-01-01T23:53:46.592604Z"
    },
    "heading_collapsed": true
   },
   "source": [
    "# Convert distance to meters"
   ]
  },
  {
   "cell_type": "code",
   "execution_count": 135,
   "metadata": {
    "ExecuteTime": {
     "end_time": "2018-02-12T08:39:17.467236Z",
     "start_time": "2018-02-12T08:39:17.286641Z"
    },
    "hidden": true
   },
   "outputs": [],
   "source": [
    "fans['distance_m'] = fans.distance*fans.map_scale\n",
    "\n",
    "blotches['radius_1_m'] = blotches.radius_1*blotches.map_scale\n",
    "blotches['radius_2_m'] = blotches.radius_2*blotches.map_scale"
   ]
  },
  {
   "cell_type": "markdown",
   "metadata": {
    "hidden": true
   },
   "source": [
    "### Reduction of number of fan markings to finals"
   ]
  },
  {
   "cell_type": "code",
   "execution_count": 136,
   "metadata": {
    "ExecuteTime": {
     "end_time": "2018-02-12T08:39:19.736316Z",
     "start_time": "2018-02-12T08:39:19.714384Z"
    },
    "hidden": true
   },
   "outputs": [],
   "source": [
    "n_fan_in = 2792963"
   ]
  },
  {
   "cell_type": "code",
   "execution_count": 137,
   "metadata": {
    "ExecuteTime": {
     "end_time": "2018-02-12T08:39:20.099114Z",
     "start_time": "2018-02-12T08:39:20.076133Z"
    },
    "hidden": true
   },
   "outputs": [
    {
     "data": {
      "text/plain": [
       "159293"
      ]
     },
     "execution_count": 137,
     "metadata": {},
     "output_type": "execute_result"
    }
   ],
   "source": [
    "fans.shape[0]"
   ]
  },
  {
   "cell_type": "code",
   "execution_count": 138,
   "metadata": {
    "ExecuteTime": {
     "end_time": "2018-02-12T08:39:20.549155Z",
     "start_time": "2018-02-12T08:39:20.524470Z"
    },
    "hidden": true
   },
   "outputs": [
    {
     "data": {
      "text/plain": [
       "0.05703369503999874"
      ]
     },
     "execution_count": 138,
     "metadata": {},
     "output_type": "execute_result"
    }
   ],
   "source": [
    "fans.shape[0] / n_fan_in"
   ]
  },
  {
   "cell_type": "markdown",
   "metadata": {},
   "source": [
    "# Length stats\n",
    "\n",
    "Percentage of fan markings below 100 m:"
   ]
  },
  {
   "cell_type": "code",
   "execution_count": 139,
   "metadata": {
    "ExecuteTime": {
     "end_time": "2018-02-12T08:39:24.799101Z",
     "start_time": "2018-02-12T08:39:24.750311Z"
    }
   },
   "outputs": [
    {
     "data": {
      "text/plain": [
       "96.59746504868387"
      ]
     },
     "execution_count": 139,
     "metadata": {},
     "output_type": "execute_result"
    }
   ],
   "source": [
    "import scipy\n",
    "scipy.stats.percentileofscore(fans.distance_m, 100)"
   ]
  },
  {
   "cell_type": "markdown",
   "metadata": {},
   "source": [
    "Cumulative histogram of fan lengths"
   ]
  },
  {
   "cell_type": "code",
   "execution_count": 177,
   "metadata": {
    "ExecuteTime": {
     "end_time": "2018-02-12T19:44:02.890688Z",
     "start_time": "2018-02-12T19:44:02.867691Z"
    }
   },
   "outputs": [],
   "source": [
    "def add_percentage_line(ax, meters, column):\n",
    "    y = scipy.stats.percentileofscore(column, meters)\n",
    "    ax.axhline(y/100, linestyle='dashed', color='black', lw=1)\n",
    "    ax.axvline(meters, linestyle='dashed', color='black', lw=1)\n",
    "    ax.text(meters, y/100, f\"{y/100:0.2f}\")"
   ]
  },
  {
   "cell_type": "code",
   "execution_count": 219,
   "metadata": {
    "ExecuteTime": {
     "end_time": "2018-02-12T20:10:45.396683Z",
     "start_time": "2018-02-12T20:10:45.362617Z"
    }
   },
   "outputs": [],
   "source": [
    "plt.close('all')"
   ]
  },
  {
   "cell_type": "code",
   "execution_count": 207,
   "metadata": {
    "ExecuteTime": {
     "end_time": "2018-02-12T20:09:11.302075Z",
     "start_time": "2018-02-12T20:09:11.276711Z"
    }
   },
   "outputs": [
    {
     "data": {
      "text/plain": [
       "372.82"
      ]
     },
     "execution_count": 207,
     "metadata": {},
     "output_type": "execute_result"
    }
   ],
   "source": [
    "fans.distance_m.max()"
   ]
  },
  {
   "cell_type": "code",
   "execution_count": 235,
   "metadata": {
    "ExecuteTime": {
     "end_time": "2018-02-12T20:16:07.175169Z",
     "start_time": "2018-02-12T20:16:07.154115Z"
    }
   },
   "outputs": [],
   "source": [
    "bins = np.arange(0,380, 5)"
   ]
  },
  {
   "cell_type": "code",
   "execution_count": 239,
   "metadata": {
    "ExecuteTime": {
     "end_time": "2018-02-12T20:20:31.563750Z",
     "start_time": "2018-02-12T20:20:30.775238Z"
    },
    "scrolled": false
   },
   "outputs": [
    {
     "data": {
      "application/vnd.jupyter.widget-view+json": {
       "model_id": "51d33ebf1def4d2cb2a1121bf73dcc56",
       "version_major": 2,
       "version_minor": 0
      },
      "text/html": [
       "<p>Failed to display Jupyter Widget of type <code>FigureCanvasNbAgg</code>.</p>\n",
       "<p>\n",
       "  If you're reading this message in the Jupyter Notebook or JupyterLab Notebook, it may mean\n",
       "  that the widgets JavaScript is still loading. If this message persists, it\n",
       "  likely means that the widgets JavaScript library is either not installed or\n",
       "  not enabled. See the <a href=\"https://ipywidgets.readthedocs.io/en/stable/user_install.html\">Jupyter\n",
       "  Widgets Documentation</a> for setup instructions.\n",
       "</p>\n",
       "<p>\n",
       "  If you're reading this message in another frontend (for example, a static\n",
       "  rendering on GitHub or <a href=\"https://nbviewer.jupyter.org/\">NBViewer</a>),\n",
       "  it may mean that your frontend doesn't currently support widgets.\n",
       "</p>\n"
      ],
      "text/plain": [
       "FigureCanvasNbAgg()"
      ]
     },
     "metadata": {},
     "output_type": "display_data"
    }
   ],
   "source": [
    "fig, ax = plt.subplots(figsize=(8,3), ncols=2, sharey=False)\n",
    "sns.distplot(fans.distance_m, bins=bins, kde=False, \n",
    "             hist_kws={'cumulative':False,'normed':True, 'log':True},\n",
    "             axlabel='Fan length [m]', ax=ax[0])\n",
    "sns.distplot(fans.distance_m, bins=bins, kde=False, hist_kws={'cumulative':True,'normed':True},\n",
    "            axlabel='Fan length [m]', ax=ax[1])\n",
    "ax[0].set_title(\"Normalized Log-Histogram of fan lengths \")\n",
    "ax[1].set_title(\"Cumulative normalized histogram of fan lengths\")\n",
    "ax[1].set_ylabel(\"Fraction of fans with given length\")\n",
    "add_percentage_line(ax[1], 100, fans.distance_m)\n",
    "add_percentage_line(ax[1], 50, fans.distance_m)\n",
    "fig.tight_layout()\n",
    "fig.savefig(\"/Users/klay6683/Dropbox/src/p4_paper1/figures/fan_lengths_histos.png\",\n",
    "            dpi=150, bbox_inches='tight')"
   ]
  },
  {
   "cell_type": "code",
   "execution_count": 148,
   "metadata": {
    "ExecuteTime": {
     "end_time": "2018-02-12T08:45:58.206911Z",
     "start_time": "2018-02-12T08:45:58.177621Z"
    }
   },
   "outputs": [
    {
     "data": {
      "text/html": [
       "<div>\n",
       "<style scoped>\n",
       "    .dataframe tbody tr th:only-of-type {\n",
       "        vertical-align: middle;\n",
       "    }\n",
       "\n",
       "    .dataframe tbody tr th {\n",
       "        vertical-align: top;\n",
       "    }\n",
       "\n",
       "    .dataframe thead th {\n",
       "        text-align: right;\n",
       "    }\n",
       "</style>\n",
       "<table border=\"1\" class=\"dataframe\">\n",
       "  <thead>\n",
       "    <tr style=\"text-align: right;\">\n",
       "      <th></th>\n",
       "      <th>distance_m</th>\n",
       "      <th>image_name</th>\n",
       "    </tr>\n",
       "  </thead>\n",
       "  <tbody>\n",
       "    <tr>\n",
       "      <th>113545</th>\n",
       "      <td>351.360</td>\n",
       "      <td>ESP_020146_0950</td>\n",
       "    </tr>\n",
       "    <tr>\n",
       "      <th>123493</th>\n",
       "      <td>360.920</td>\n",
       "      <td>ESP_011961_0935</td>\n",
       "    </tr>\n",
       "    <tr>\n",
       "      <th>123548</th>\n",
       "      <td>367.915</td>\n",
       "      <td>ESP_011961_0935</td>\n",
       "    </tr>\n",
       "    <tr>\n",
       "      <th>156645</th>\n",
       "      <td>372.820</td>\n",
       "      <td>ESP_013095_0935</td>\n",
       "    </tr>\n",
       "  </tbody>\n",
       "</table>\n",
       "</div>"
      ],
      "text/plain": [
       "        distance_m       image_name\n",
       "113545     351.360  ESP_020146_0950\n",
       "123493     360.920  ESP_011961_0935\n",
       "123548     367.915  ESP_011961_0935\n",
       "156645     372.820  ESP_013095_0935"
      ]
     },
     "execution_count": 148,
     "metadata": {},
     "output_type": "execute_result"
    }
   ],
   "source": [
    "fans.query('distance_m>350')[['distance_m', 'image_name']]"
   ]
  },
  {
   "cell_type": "code",
   "execution_count": 172,
   "metadata": {
    "ExecuteTime": {
     "end_time": "2018-02-12T19:40:25.270481Z",
     "start_time": "2018-02-12T19:40:25.238644Z"
    },
    "scrolled": true
   },
   "outputs": [
    {
     "data": {
      "text/plain": [
       "count    159293.000000\n",
       "mean         33.110334\n",
       "std          28.039879\n",
       "min           2.500000\n",
       "25%          14.497500\n",
       "50%          24.087500\n",
       "75%          41.882500\n",
       "max         372.820000\n",
       "Name: distance_m, dtype: float64"
      ]
     },
     "execution_count": 172,
     "metadata": {},
     "output_type": "execute_result"
    }
   ],
   "source": [
    "fans.distance_m.describe()"
   ]
  },
  {
   "cell_type": "markdown",
   "metadata": {
    "variables": {
     "f\"{fans.distance_m.describe()['50%']:.1f}\"": "24.1",
     "f\"{fans.distance_m.describe()['mean']:.1f}\"": "33.1"
    }
   },
   "source": [
    "In words, the mean length of fans is {{f\"{fans.distance_m.describe()['mean']:.1f}\"}} m, while the median is\n",
    "{{f\"{fans.distance_m.describe()['50%']:.1f}\"}} m."
   ]
  },
  {
   "cell_type": "code",
   "execution_count": 182,
   "metadata": {
    "ExecuteTime": {
     "end_time": "2018-02-12T19:46:17.125359Z",
     "start_time": "2018-02-12T19:46:16.822540Z"
    }
   },
   "outputs": [],
   "source": [
    "fans.replace(\"Manhattan_Frontinella\", \"Manhattan_\\nFrontinella\", inplace=True)"
   ]
  },
  {
   "cell_type": "code",
   "execution_count": 194,
   "metadata": {
    "ExecuteTime": {
     "end_time": "2018-02-12T20:03:44.083008Z",
     "start_time": "2018-02-12T20:03:43.489307Z"
    }
   },
   "outputs": [
    {
     "data": {
      "application/vnd.jupyter.widget-view+json": {
       "model_id": "8fba6832159849fd9c49076fa2e6be17",
       "version_major": 2,
       "version_minor": 0
      },
      "text/html": [
       "<p>Failed to display Jupyter Widget of type <code>FigureCanvasNbAgg</code>.</p>\n",
       "<p>\n",
       "  If you're reading this message in the Jupyter Notebook or JupyterLab Notebook, it may mean\n",
       "  that the widgets JavaScript is still loading. If this message persists, it\n",
       "  likely means that the widgets JavaScript library is either not installed or\n",
       "  not enabled. See the <a href=\"https://ipywidgets.readthedocs.io/en/stable/user_install.html\">Jupyter\n",
       "  Widgets Documentation</a> for setup instructions.\n",
       "</p>\n",
       "<p>\n",
       "  If you're reading this message in another frontend (for example, a static\n",
       "  rendering on GitHub or <a href=\"https://nbviewer.jupyter.org/\">NBViewer</a>),\n",
       "  it may mean that your frontend doesn't currently support widgets.\n",
       "</p>\n"
      ],
      "text/plain": [
       "FigureCanvasNbAgg()"
      ]
     },
     "metadata": {},
     "output_type": "display_data"
    }
   ],
   "source": [
    "fig, ax = plt.subplots()\n",
    "sns.boxplot(y=\"region\", x=\"distance_m\", data=fans, ax=ax,\n",
    "            fliersize=3)\n",
    "ax.set_title(\"Fan lengths in different ROIs\")\n",
    "fig.tight_layout()\n",
    "fig.savefig(\"/Users/klay6683/Dropbox/src/p4_paper1/figures/fan_lengths_vs_regions.png\",\n",
    "         dpi=150, bbox_inches='tight')"
   ]
  },
  {
   "cell_type": "markdown",
   "metadata": {
    "ExecuteTime": {
     "end_time": "2018-01-02T00:06:40.466695Z",
     "start_time": "2018-01-02T00:06:40.434444Z"
    },
    "heading_collapsed": true
   },
   "source": [
    "## Blotch sizes"
   ]
  },
  {
   "cell_type": "code",
   "execution_count": 195,
   "metadata": {
    "ExecuteTime": {
     "end_time": "2018-02-12T20:04:30.454400Z",
     "start_time": "2018-02-12T20:04:30.326803Z"
    },
    "hidden": true
   },
   "outputs": [
    {
     "data": {
      "application/vnd.jupyter.widget-view+json": {
       "model_id": "c553e0a31777407c93d975e4bafb0816",
       "version_major": 2,
       "version_minor": 0
      },
      "text/html": [
       "<p>Failed to display Jupyter Widget of type <code>FigureCanvasNbAgg</code>.</p>\n",
       "<p>\n",
       "  If you're reading this message in the Jupyter Notebook or JupyterLab Notebook, it may mean\n",
       "  that the widgets JavaScript is still loading. If this message persists, it\n",
       "  likely means that the widgets JavaScript library is either not installed or\n",
       "  not enabled. See the <a href=\"https://ipywidgets.readthedocs.io/en/stable/user_install.html\">Jupyter\n",
       "  Widgets Documentation</a> for setup instructions.\n",
       "</p>\n",
       "<p>\n",
       "  If you're reading this message in another frontend (for example, a static\n",
       "  rendering on GitHub or <a href=\"https://nbviewer.jupyter.org/\">NBViewer</a>),\n",
       "  it may mean that your frontend doesn't currently support widgets.\n",
       "</p>\n"
      ],
      "text/plain": [
       "FigureCanvasNbAgg()"
      ]
     },
     "metadata": {},
     "output_type": "display_data"
    },
    {
     "data": {
      "text/plain": [
       "<matplotlib.legend.Legend at 0x135cdd048>"
      ]
     },
     "execution_count": 195,
     "metadata": {},
     "output_type": "execute_result"
    }
   ],
   "source": [
    "plt.figure()\n",
    "cols = ['radius_1','radius_2']\n",
    "sns.distplot(blotches[cols], kde=False, bins=np.arange(2.0,50.), \n",
    "             color=['r','g'], label=cols)\n",
    "plt.legend()"
   ]
  },
  {
   "cell_type": "code",
   "execution_count": 15,
   "metadata": {
    "ExecuteTime": {
     "end_time": "2018-01-16T18:05:27.152244Z",
     "start_time": "2018-01-16T18:05:27.028023Z"
    },
    "hidden": true
   },
   "outputs": [
    {
     "data": {
      "application/vnd.jupyter.widget-view+json": {
       "model_id": "6a9830afca6d4552b5fc50bd5d1af6d3",
       "version_major": 2,
       "version_minor": 0
      },
      "text/html": [
       "<p>Failed to display Jupyter Widget of type <code>FigureCanvasNbAgg</code>.</p>\n",
       "<p>\n",
       "  If you're reading this message in the Jupyter Notebook or JupyterLab Notebook, it may mean\n",
       "  that the widgets JavaScript is still loading. If this message persists, it\n",
       "  likely means that the widgets JavaScript library is either not installed or\n",
       "  not enabled. See the <a href=\"https://ipywidgets.readthedocs.io/en/stable/user_install.html\">Jupyter\n",
       "  Widgets Documentation</a> for setup instructions.\n",
       "</p>\n",
       "<p>\n",
       "  If you're reading this message in another frontend (for example, a static\n",
       "  rendering on GitHub or <a href=\"https://nbviewer.jupyter.org/\">NBViewer</a>),\n",
       "  it may mean that your frontend doesn't currently support widgets.\n",
       "</p>\n"
      ],
      "text/plain": [
       "FigureCanvasNbAgg()"
      ]
     },
     "metadata": {},
     "output_type": "display_data"
    },
    {
     "data": {
      "text/plain": [
       "<matplotlib.legend.Legend at 0x11fc66630>"
      ]
     },
     "execution_count": 15,
     "metadata": {},
     "output_type": "execute_result"
    }
   ],
   "source": [
    "plt.figure()\n",
    "cols = ['radius_1_m','radius_2_m']\n",
    "sns.distplot(blotches[cols], kde=False, bins=np.arange(2.0,50.), \n",
    "             color=['r','g'], label=cols)\n",
    "plt.legend()"
   ]
  },
  {
   "cell_type": "code",
   "execution_count": 16,
   "metadata": {
    "ExecuteTime": {
     "end_time": "2018-01-16T18:05:28.916303Z",
     "start_time": "2018-01-16T18:05:28.549074Z"
    },
    "hidden": true
   },
   "outputs": [
    {
     "data": {
      "application/vnd.jupyter.widget-view+json": {
       "model_id": "b50f3928f2fc4ab2ab3fd644c7c98a21",
       "version_major": 2,
       "version_minor": 0
      },
      "text/html": [
       "<p>Failed to display Jupyter Widget of type <code>FigureCanvasNbAgg</code>.</p>\n",
       "<p>\n",
       "  If you're reading this message in the Jupyter Notebook or JupyterLab Notebook, it may mean\n",
       "  that the widgets JavaScript is still loading. If this message persists, it\n",
       "  likely means that the widgets JavaScript library is either not installed or\n",
       "  not enabled. See the <a href=\"https://ipywidgets.readthedocs.io/en/stable/user_install.html\">Jupyter\n",
       "  Widgets Documentation</a> for setup instructions.\n",
       "</p>\n",
       "<p>\n",
       "  If you're reading this message in another frontend (for example, a static\n",
       "  rendering on GitHub or <a href=\"https://nbviewer.jupyter.org/\">NBViewer</a>),\n",
       "  it may mean that your frontend doesn't currently support widgets.\n",
       "</p>\n"
      ],
      "text/plain": [
       "FigureCanvasNbAgg()"
      ]
     },
     "metadata": {},
     "output_type": "display_data"
    }
   ],
   "source": [
    "fig, ax = plt.subplots(figsize=(8,4))\n",
    "sns.distplot(blotches.radius_2_m, bins=500, kde=False, hist_kws={'cumulative':True,'normed':True},\n",
    "            axlabel='Blotch radius_1 [m]', ax=ax)\n",
    "ax.set_title(\"Cumulative normalized histogram for blotch lengths\")\n",
    "ax.set_ylabel(\"Fraction of blotches with given radius_1\")\n",
    "add_percentage_line(ax, 30, blotches.radius_2_m)\n",
    "add_percentage_line(ax, 10, blotches.radius_2_m)"
   ]
  },
  {
   "cell_type": "code",
   "execution_count": 17,
   "metadata": {
    "ExecuteTime": {
     "end_time": "2018-01-16T18:05:29.167281Z",
     "start_time": "2018-01-16T18:05:29.109183Z"
    },
    "hidden": true
   },
   "outputs": [
    {
     "data": {
      "text/plain": [
       "97.428851031535231"
      ]
     },
     "execution_count": 17,
     "metadata": {},
     "output_type": "execute_result"
    }
   ],
   "source": [
    "import scipy\n",
    "scipy.stats.percentileofscore(blotches.radius_2_m, 30)"
   ]
  },
  {
   "cell_type": "code",
   "execution_count": 18,
   "metadata": {
    "ExecuteTime": {
     "end_time": "2018-01-16T18:05:30.086019Z",
     "start_time": "2018-01-16T18:05:30.064124Z"
    },
    "hidden": true
   },
   "outputs": [],
   "source": [
    "plt.close('all')"
   ]
  },
  {
   "cell_type": "markdown",
   "metadata": {
    "hidden": true
   },
   "source": [
    "### Longest fans"
   ]
  },
  {
   "cell_type": "code",
   "execution_count": 41,
   "metadata": {
    "ExecuteTime": {
     "end_time": "2018-02-08T16:04:08.651961Z",
     "start_time": "2018-02-08T16:04:08.622238Z"
    },
    "hidden": true
   },
   "outputs": [
    {
     "data": {
      "text/html": [
       "<div>\n",
       "<style scoped>\n",
       "    .dataframe tbody tr th:only-of-type {\n",
       "        vertical-align: middle;\n",
       "    }\n",
       "\n",
       "    .dataframe tbody tr th {\n",
       "        vertical-align: top;\n",
       "    }\n",
       "\n",
       "    .dataframe thead th {\n",
       "        text-align: right;\n",
       "    }\n",
       "</style>\n",
       "<table border=\"1\" class=\"dataframe\">\n",
       "  <thead>\n",
       "    <tr style=\"text-align: right;\">\n",
       "      <th></th>\n",
       "      <th>distance_m</th>\n",
       "      <th>distance</th>\n",
       "      <th>obsid</th>\n",
       "      <th>image_x</th>\n",
       "      <th>image_y</th>\n",
       "      <th>image_id</th>\n",
       "    </tr>\n",
       "  </thead>\n",
       "  <tbody>\n",
       "    <tr>\n",
       "      <th>113545</th>\n",
       "      <td>351.360</td>\n",
       "      <td>351.36</td>\n",
       "      <td>ESP_020146_0950</td>\n",
       "      <td>791.24</td>\n",
       "      <td>12659.67</td>\n",
       "      <td>APF0000q45</td>\n",
       "    </tr>\n",
       "    <tr>\n",
       "      <th>123493</th>\n",
       "      <td>360.920</td>\n",
       "      <td>721.84</td>\n",
       "      <td>ESP_011961_0935</td>\n",
       "      <td>782.78</td>\n",
       "      <td>9321.29</td>\n",
       "      <td>APF0000ddo</td>\n",
       "    </tr>\n",
       "    <tr>\n",
       "      <th>123548</th>\n",
       "      <td>367.915</td>\n",
       "      <td>735.83</td>\n",
       "      <td>ESP_011961_0935</td>\n",
       "      <td>868.67</td>\n",
       "      <td>5188.52</td>\n",
       "      <td>APF0000de3</td>\n",
       "    </tr>\n",
       "    <tr>\n",
       "      <th>156645</th>\n",
       "      <td>372.820</td>\n",
       "      <td>745.64</td>\n",
       "      <td>ESP_013095_0935</td>\n",
       "      <td>1017.12</td>\n",
       "      <td>6038.92</td>\n",
       "      <td>APF0000dtk</td>\n",
       "    </tr>\n",
       "  </tbody>\n",
       "</table>\n",
       "</div>"
      ],
      "text/plain": [
       "        distance_m  distance            obsid  image_x   image_y    image_id\n",
       "113545     351.360    351.36  ESP_020146_0950   791.24  12659.67  APF0000q45\n",
       "123493     360.920    721.84  ESP_011961_0935   782.78   9321.29  APF0000ddo\n",
       "123548     367.915    735.83  ESP_011961_0935   868.67   5188.52  APF0000de3\n",
       "156645     372.820    745.64  ESP_013095_0935  1017.12   6038.92  APF0000dtk"
      ]
     },
     "execution_count": 41,
     "metadata": {},
     "output_type": "execute_result"
    }
   ],
   "source": [
    "fans.query('distance_m > 350')[\n",
    "    'distance_m distance obsid image_x image_y image_id'.split()].sort_values(\n",
    "        by='distance_m')"
   ]
  },
  {
   "cell_type": "code",
   "execution_count": 42,
   "metadata": {
    "ExecuteTime": {
     "end_time": "2018-02-08T16:04:19.597873Z",
     "start_time": "2018-02-08T16:04:19.576692Z"
    },
    "hidden": true
   },
   "outputs": [],
   "source": [
    "from planet4 import plotting"
   ]
  },
  {
   "cell_type": "code",
   "execution_count": 47,
   "metadata": {
    "ExecuteTime": {
     "end_time": "2018-02-08T16:06:52.039189Z",
     "start_time": "2018-02-08T16:06:51.850346Z"
    },
    "hidden": true
   },
   "outputs": [
    {
     "data": {
      "application/vnd.jupyter.widget-view+json": {
       "model_id": "23b58e5782694f5091807f6bd773e0af",
       "version_major": 2,
       "version_minor": 0
      },
      "text/html": [
       "<p>Failed to display Jupyter Widget of type <code>FigureCanvasNbAgg</code>.</p>\n",
       "<p>\n",
       "  If you're reading this message in the Jupyter Notebook or JupyterLab Notebook, it may mean\n",
       "  that the widgets JavaScript is still loading. If this message persists, it\n",
       "  likely means that the widgets JavaScript library is either not installed or\n",
       "  not enabled. See the <a href=\"https://ipywidgets.readthedocs.io/en/stable/user_install.html\">Jupyter\n",
       "  Widgets Documentation</a> for setup instructions.\n",
       "</p>\n",
       "<p>\n",
       "  If you're reading this message in another frontend (for example, a static\n",
       "  rendering on GitHub or <a href=\"https://nbviewer.jupyter.org/\">NBViewer</a>),\n",
       "  it may mean that your frontend doesn't currently support widgets.\n",
       "</p>\n"
      ],
      "text/plain": [
       "FigureCanvasNbAgg()"
      ]
     },
     "metadata": {},
     "output_type": "display_data"
    },
    {
     "name": "stderr",
     "output_type": "stream",
     "text": [
      "File not found: /Users/klay6683/Dropbox/data/planet4/P4_catalog_v1.0b4/ESP_011961_0935/APF0000de3/L1C_cut_0.5/APF0000de3_L1C_cut_0.5_blotches.csv\n"
     ]
    },
    {
     "data": {
      "text/plain": [
       "Text(0.5,1,'APF0000de3')"
      ]
     },
     "execution_count": 47,
     "metadata": {},
     "output_type": "execute_result"
    }
   ],
   "source": [
    "plotting.plot_finals('de3', datapath=rm.catalog)\n",
    "plt.gca().set_title('APF0000de3')"
   ]
  },
  {
   "cell_type": "code",
   "execution_count": 43,
   "metadata": {
    "ExecuteTime": {
     "end_time": "2018-02-08T16:04:40.652823Z",
     "start_time": "2018-02-08T16:04:39.791393Z"
    },
    "hidden": true
   },
   "outputs": [
    {
     "data": {
      "application/vnd.jupyter.widget-view+json": {
       "model_id": "7eacf5b0026c4ab6a850fa9fef5a4f17",
       "version_major": 2,
       "version_minor": 0
      },
      "text/html": [
       "<p>Failed to display Jupyter Widget of type <code>FigureCanvasNbAgg</code>.</p>\n",
       "<p>\n",
       "  If you're reading this message in the Jupyter Notebook or JupyterLab Notebook, it may mean\n",
       "  that the widgets JavaScript is still loading. If this message persists, it\n",
       "  likely means that the widgets JavaScript library is either not installed or\n",
       "  not enabled. See the <a href=\"https://ipywidgets.readthedocs.io/en/stable/user_install.html\">Jupyter\n",
       "  Widgets Documentation</a> for setup instructions.\n",
       "</p>\n",
       "<p>\n",
       "  If you're reading this message in another frontend (for example, a static\n",
       "  rendering on GitHub or <a href=\"https://nbviewer.jupyter.org/\">NBViewer</a>),\n",
       "  it may mean that your frontend doesn't currently support widgets.\n",
       "</p>\n"
      ],
      "text/plain": [
       "FigureCanvasNbAgg()"
      ]
     },
     "metadata": {},
     "output_type": "display_data"
    },
    {
     "name": "stderr",
     "output_type": "stream",
     "text": [
      "Clustered/reduced blotchfile not found\n",
      "File not found: /Users/klay6683/Dropbox/data/planet4/P4_catalog_v1.0b4/ESP_011961_0935/APF0000de3/L1C_cut_0.5/APF0000de3_L1C_cut_0.5_blotches.csv\n"
     ]
    }
   ],
   "source": [
    "plotting.plot_image_id_pipeline('de3', datapath=rm.catalog, via_obsid=False, figsize=(12,8))"
   ]
  },
  {
   "cell_type": "code",
   "execution_count": 22,
   "metadata": {
    "ExecuteTime": {
     "end_time": "2018-01-16T18:05:37.780422Z",
     "start_time": "2018-01-16T18:05:37.757920Z"
    },
    "hidden": true
   },
   "outputs": [],
   "source": [
    "from planet4 import region_data"
   ]
  },
  {
   "cell_type": "code",
   "execution_count": 23,
   "metadata": {
    "ExecuteTime": {
     "end_time": "2018-01-16T18:05:39.027302Z",
     "start_time": "2018-01-16T18:05:39.005451Z"
    },
    "hidden": true
   },
   "outputs": [],
   "source": [
    "from planet4 import stats"
   ]
  },
  {
   "cell_type": "code",
   "execution_count": 24,
   "metadata": {
    "ExecuteTime": {
     "end_time": "2018-01-16T18:05:40.450581Z",
     "start_time": "2018-01-16T18:05:40.089105Z"
    },
    "hidden": true
   },
   "outputs": [],
   "source": [
    "stats.define_season_column(fans)\n",
    "stats.define_season_column(blotches)"
   ]
  },
  {
   "cell_type": "code",
   "execution_count": 25,
   "metadata": {
    "ExecuteTime": {
     "end_time": "2018-01-16T18:05:42.246538Z",
     "start_time": "2018-01-16T18:05:42.222986Z"
    },
    "hidden": true
   },
   "outputs": [
    {
     "data": {
      "text/plain": [
       "2    101286\n",
       "3     58002\n",
       "Name: season, dtype: int64"
      ]
     },
     "execution_count": 25,
     "metadata": {},
     "output_type": "execute_result"
    }
   ],
   "source": [
    "fans.season.value_counts()"
   ]
  },
  {
   "cell_type": "code",
   "execution_count": 26,
   "metadata": {
    "ExecuteTime": {
     "end_time": "2018-01-16T18:05:43.803822Z",
     "start_time": "2018-01-16T18:05:43.750096Z"
    },
    "hidden": true
   },
   "outputs": [
    {
     "data": {
      "text/plain": [
       "24.222173790536814"
      ]
     },
     "execution_count": 26,
     "metadata": {},
     "output_type": "execute_result"
    }
   ],
   "source": [
    "fans.query('season==2').distance_m.median()"
   ]
  },
  {
   "cell_type": "code",
   "execution_count": 27,
   "metadata": {
    "ExecuteTime": {
     "end_time": "2018-01-16T18:05:44.235509Z",
     "start_time": "2018-01-16T18:05:44.200287Z"
    },
    "hidden": true
   },
   "outputs": [
    {
     "data": {
      "text/plain": [
       "23.816898558177456"
      ]
     },
     "execution_count": 27,
     "metadata": {},
     "output_type": "execute_result"
    }
   ],
   "source": [
    "fans.query('season==3').distance_m.median()"
   ]
  },
  {
   "cell_type": "code",
   "execution_count": 28,
   "metadata": {
    "ExecuteTime": {
     "end_time": "2018-01-16T18:05:45.097779Z",
     "start_time": "2018-01-16T18:05:45.076562Z"
    },
    "hidden": true
   },
   "outputs": [],
   "source": [
    "from planet4 import region_data"
   ]
  },
  {
   "cell_type": "code",
   "execution_count": 29,
   "metadata": {
    "ExecuteTime": {
     "end_time": "2018-01-16T18:05:46.134356Z",
     "start_time": "2018-01-16T18:05:46.071378Z"
    },
    "hidden": true
   },
   "outputs": [
    {
     "name": "stdout",
     "output_type": "stream",
     "text": [
      "Manhattan2\n",
      "season2\n",
      "42.87423178465934\n",
      "season3\n",
      "24.89731703758306\n",
      "Giza\n",
      "season2\n",
      "44.08823250757917\n",
      "season3\n",
      "59.00166238702526\n",
      "Ithaca\n",
      "season2\n",
      "39.51412135421972\n",
      "season3\n",
      "38.66049187479137\n"
     ]
    }
   ],
   "source": [
    "for region in ['Manhattan2', 'Giza','Ithaca']:\n",
    "    print(region)\n",
    "    obj = getattr(region_data, region)\n",
    "    for s in ['season2','season3']:\n",
    "        print(s)\n",
    "        obsids = getattr(obj, s)\n",
    "        print(fans[fans.obsid.isin(obsids)].distance_m.median())"
   ]
  },
  {
   "cell_type": "code",
   "execution_count": 30,
   "metadata": {
    "ExecuteTime": {
     "end_time": "2018-01-16T18:05:49.072966Z",
     "start_time": "2018-01-16T18:05:49.051817Z"
    },
    "hidden": true
   },
   "outputs": [],
   "source": [
    "db = io.DBManager()"
   ]
  },
  {
   "cell_type": "code",
   "execution_count": 31,
   "metadata": {
    "ExecuteTime": {
     "end_time": "2018-01-16T18:08:13.187012Z",
     "start_time": "2018-01-16T18:07:13.207880Z"
    },
    "hidden": true
   },
   "outputs": [],
   "source": [
    "all_data = db.get_all()"
   ]
  },
  {
   "cell_type": "code",
   "execution_count": 32,
   "metadata": {
    "ExecuteTime": {
     "end_time": "2018-01-16T18:08:20.814136Z",
     "start_time": "2018-01-16T18:08:13.191259Z"
    },
    "hidden": true
   },
   "outputs": [],
   "source": [
    "image_names = db.image_names"
   ]
  },
  {
   "cell_type": "code",
   "execution_count": 33,
   "metadata": {
    "ExecuteTime": {
     "end_time": "2018-01-16T18:08:42.346465Z",
     "start_time": "2018-01-16T18:08:42.323319Z"
    },
    "hidden": true
   },
   "outputs": [],
   "source": [
    "g_all = all_data.groupby('image_id')"
   ]
  },
  {
   "cell_type": "code",
   "execution_count": 34,
   "metadata": {
    "ExecuteTime": {
     "end_time": "2018-01-16T18:09:09.441537Z",
     "start_time": "2018-01-16T18:09:08.860308Z"
    },
    "hidden": true
   },
   "outputs": [
    {
     "data": {
      "text/plain": [
       "image_id\n",
       "APF0000dss    26\n",
       "APF0000qsi    26\n",
       "APF0000qym    27\n",
       "APF0000lj6    27\n",
       "APF0000rvj    28\n",
       "dtype: int64"
      ]
     },
     "execution_count": 34,
     "metadata": {},
     "output_type": "execute_result"
    }
   ],
   "source": [
    "g_all.size().sort_values().head()"
   ]
  },
  {
   "cell_type": "code",
   "execution_count": 37,
   "metadata": {
    "ExecuteTime": {
     "end_time": "2018-01-16T18:19:38.465800Z",
     "start_time": "2018-01-16T18:19:38.442526Z"
    },
    "hidden": true
   },
   "outputs": [
    {
     "data": {
      "text/plain": [
       "Index(['angle', 'distance', 'image_id', 'image_name', 'image_x', 'image_y',\n",
       "       'n_votes', 'obsid', 'radius_1', 'radius_2', 'spread', 'version',\n",
       "       'vote_ratio', 'x', 'x_angle', 'x_tile', 'y', 'y_angle', 'y_tile',\n",
       "       'binning', 'l_s', 'line_samples', 'lines', 'map_scale', 'north_azimuth',\n",
       "       'path', 'BodyFixedCoordinateX', 'BodyFixedCoordinateY',\n",
       "       'BodyFixedCoordinateZ', 'Line', 'LineResolution',\n",
       "       'PlanetocentricLatitude', 'PlanetographicLatitude',\n",
       "       'PositiveEast360Longitude', 'PositiveWest360Longitude', 'Sample',\n",
       "       'SampleResolution', 'distance_m', 'season'],\n",
       "      dtype='object')"
      ]
     },
     "execution_count": 37,
     "metadata": {},
     "output_type": "execute_result"
    }
   ],
   "source": [
    "fans.columns"
   ]
  },
  {
   "cell_type": "code",
   "execution_count": 44,
   "metadata": {
    "ExecuteTime": {
     "end_time": "2018-01-16T18:25:54.261052Z",
     "start_time": "2018-01-16T18:25:54.238883Z"
    },
    "hidden": true
   },
   "outputs": [],
   "source": [
    "cols_to_drop = ['path', 'image_name', 'binning', 'LineResolution', 'SampleResolution', 'Line', 'Sample']"
   ]
  },
  {
   "cell_type": "code",
   "execution_count": 46,
   "metadata": {
    "ExecuteTime": {
     "end_time": "2018-01-16T18:26:14.578283Z",
     "start_time": "2018-01-16T18:26:14.528729Z"
    },
    "hidden": true
   },
   "outputs": [],
   "source": [
    "fans.drop(cols_to_drop, axis=1, inplace=True, errors='ignore')"
   ]
  },
  {
   "cell_type": "code",
   "execution_count": 47,
   "metadata": {
    "ExecuteTime": {
     "end_time": "2018-01-16T18:26:16.619257Z",
     "start_time": "2018-01-16T18:26:16.594503Z"
    },
    "hidden": true
   },
   "outputs": [
    {
     "data": {
      "text/plain": [
       "Index(['angle', 'distance', 'image_id', 'image_x', 'image_y', 'n_votes',\n",
       "       'obsid', 'radius_1', 'radius_2', 'spread', 'version', 'vote_ratio', 'x',\n",
       "       'x_angle', 'x_tile', 'y', 'y_angle', 'y_tile', 'l_s', 'line_samples',\n",
       "       'lines', 'map_scale', 'north_azimuth', 'BodyFixedCoordinateX',\n",
       "       'BodyFixedCoordinateY', 'BodyFixedCoordinateZ',\n",
       "       'PlanetocentricLatitude', 'PlanetographicLatitude',\n",
       "       'PositiveEast360Longitude', 'PositiveWest360Longitude', 'distance_m',\n",
       "       'season'],\n",
       "      dtype='object')"
      ]
     },
     "execution_count": 47,
     "metadata": {},
     "output_type": "execute_result"
    }
   ],
   "source": [
    "fans.columns"
   ]
  },
  {
   "cell_type": "code",
   "execution_count": 49,
   "metadata": {
    "ExecuteTime": {
     "end_time": "2018-01-16T18:27:43.915763Z",
     "start_time": "2018-01-16T18:27:43.891620Z"
    },
    "hidden": true
   },
   "outputs": [
    {
     "data": {
      "text/plain": [
       "angle                               185.387\n",
       "distance                            179.618\n",
       "image_id                         APF0000cia\n",
       "image_x                             3391.21\n",
       "image_y                              5640.6\n",
       "n_votes                                  15\n",
       "obsid                       ESP_012079_0945\n",
       "radius_1                                NaN\n",
       "radius_2                                NaN\n",
       "spread                               21.346\n",
       "version                                   1\n",
       "vote_ratio                              NaN\n",
       "x                                   431.206\n",
       "x_angle                           -0.995088\n",
       "x_tile                                    5\n",
       "y                                     160.6\n",
       "y_angle                          -0.0938355\n",
       "y_tile                                   11\n",
       "l_s                                 214.785\n",
       "line_samples                          56572\n",
       "lines                                 25243\n",
       "map_scale                              0.25\n",
       "north_azimuth                       126.857\n",
       "BodyFixedCoordinateX               -67.2071\n",
       "BodyFixedCoordinateY                 257.05\n",
       "BodyFixedCoordinateZ               -3370.63\n",
       "PlanetocentricLatitude              -85.493\n",
       "PlanetographicLatitude             -85.5457\n",
       "PositiveEast360Longitude            104.652\n",
       "PositiveWest360Longitude                NaN\n",
       "distance_m                          44.9045\n",
       "season                                    2\n",
       "Name: 1, dtype: object"
      ]
     },
     "execution_count": 49,
     "metadata": {},
     "output_type": "execute_result"
    }
   ],
   "source": [
    "fans.iloc[1]"
   ]
  },
  {
   "cell_type": "code",
   "execution_count": null,
   "metadata": {
    "hidden": true
   },
   "outputs": [],
   "source": []
  }
 ],
 "metadata": {
  "kernelspec": {
   "display_name": "Python [conda env:stable]",
   "language": "python",
   "name": "conda-env-stable-py"
  },
  "language_info": {
   "codemirror_mode": {
    "name": "ipython",
    "version": 3
   },
   "file_extension": ".py",
   "mimetype": "text/x-python",
   "name": "python",
   "nbconvert_exporter": "python",
   "pygments_lexer": "ipython3",
   "version": "3.6.4"
  },
  "toc": {
   "nav_menu": {},
   "number_sections": true,
   "sideBar": true,
   "skip_h1_title": false,
   "title_cell": "Table of Contents",
   "title_sidebar": "Contents",
   "toc_cell": true,
   "toc_position": {},
   "toc_section_display": "block",
   "toc_window_display": false
  }
 },
 "nbformat": 4,
 "nbformat_minor": 2
}
