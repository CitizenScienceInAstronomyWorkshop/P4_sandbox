{
 "metadata": {
  "name": "",
  "signature": "sha256:37dad80c86918a65c7bee6c2e24eea77efb55f9fcfe1f10ad3589bd3037b2ed4"
 },
 "nbformat": 3,
 "nbformat_minor": 0,
 "worksheets": [
  {
   "cells": [
    {
     "cell_type": "code",
     "collapsed": false,
     "input": [
      "import planet4 as p4\n",
      "import pandas as pd\n",
      "print pd.__version__"
     ],
     "language": "python",
     "metadata": {},
     "outputs": [
      {
       "output_type": "stream",
       "stream": "stdout",
       "text": [
        "0.14.1\n"
       ]
      }
     ],
     "prompt_number": 6
    },
    {
     "cell_type": "code",
     "collapsed": false,
     "input": [
      "root = '/Users/maye/data/planet4/'\n",
      "db_fname = root + '2014-10-02_planet_four_classifications_queryable.h5'"
     ],
     "language": "python",
     "metadata": {},
     "outputs": [],
     "prompt_number": 18
    },
    {
     "cell_type": "code",
     "collapsed": false,
     "input": [
      "with open('../data/inca_images.txt') as f:\n",
      "    inca_images = f.readlines()\n",
      "[i.strip() for i in inca_images]\n",
      "inca_images"
     ],
     "language": "python",
     "metadata": {},
     "outputs": [
      {
       "metadata": {},
       "output_type": "pyout",
       "prompt_number": 23,
       "text": [
        "['PSP_002380_0985\\n',\n",
        " 'PSP_002868_0985\\n',\n",
        " 'PSP_003092_0985\\n',\n",
        " 'PSP_003158_0985\\n',\n",
        " 'PSP_003237_0985\\n',\n",
        " 'PSP_003448_0985\\n',\n",
        " 'PSP_003593_0985\\n',\n",
        " 'PSP_003770_0815\\n',\n",
        " 'PSP_003804_0985\\n',\n",
        " 'PSP_003928_0815\\n',\n",
        " 'PSP_004081_0985\\n',\n",
        " 'PSP_004371_0985\\n',\n",
        " 'ESP_013113_0985\\n',\n",
        " 'ESP_013034_0985\\n',\n",
        " 'ESP_012889_0985\\n',\n",
        " 'ESP_012744_0985\\n',\n",
        " 'ESP_012691_0985\\n',\n",
        " 'ESP_012467_0985\\n',\n",
        " 'ESP_012322_0985\\n',\n",
        " 'ESP_012256_0985\\n',\n",
        " 'ESP_011900_0985\\n',\n",
        " 'ESP_011729_0985\\n',\n",
        " 'ESP_011702_0985\\n',\n",
        " 'ESP_011623_0985\\n',\n",
        " 'ESP_011557_0985\\n',\n",
        " 'ESP_011544_0985\\n',\n",
        " 'ESP_011491_0985\\n',\n",
        " 'ESP_022699_0985\\n',\n",
        " 'ESP_021460_0985\\n',\n",
        " 'ESP_020959_0985\\n',\n",
        " 'ESP_020748_0985\\n',\n",
        " 'ESP_020194_0985\\n',\n",
        " 'ESP_020128_0985\\n',\n",
        " 'ESP_020049_0985\\n',\n",
        " 'ESP_021829_0985\\n',\n",
        " 'ESP_021684_0985\\n',\n",
        " 'ESP_021671_0985\\n',\n",
        " 'ESP_021605_0985\\n',\n",
        " 'ESP_021526_0985\\n',\n",
        " 'ESP_020827_0985\\n',\n",
        " 'ESP_020339_0985\\n',\n",
        " 'ESP_020115_0985']"
       ]
      }
     ],
     "prompt_number": 23
    },
    {
     "cell_type": "code",
     "collapsed": false,
     "input": [
      "inca_images[0].strip()"
     ],
     "language": "python",
     "metadata": {},
     "outputs": [
      {
       "metadata": {},
       "output_type": "pyout",
       "prompt_number": 25,
       "text": [
        "'PSP_002380_0985'"
       ]
      }
     ],
     "prompt_number": 25
    },
    {
     "cell_type": "code",
     "collapsed": false,
     "input": [],
     "language": "python",
     "metadata": {},
     "outputs": []
    }
   ],
   "metadata": {}
  }
 ]
}