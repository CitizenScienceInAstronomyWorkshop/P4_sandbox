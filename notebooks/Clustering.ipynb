{
 "metadata": {
  "name": "",
  "signature": "sha256:569dff40fafacfbbde72a217f3ecee7d37dd27e506b94fc11ea77981643ff5cc"
 },
 "nbformat": 3,
 "nbformat_minor": 0,
 "worksheets": [
  {
   "cells": [
    {
     "cell_type": "code",
     "collapsed": false,
     "input": [
      "from P4_sandbox import helper_functions as hf\n",
      "from P4_sandbox import overplot_blotches as ob"
     ],
     "language": "python",
     "metadata": {},
     "outputs": [],
     "prompt_number": 1
    },
    {
     "cell_type": "code",
     "collapsed": false,
     "input": [
      "data = ob.data_munging('APF0000bha')"
     ],
     "language": "python",
     "metadata": {},
     "outputs": [
      {
       "output_type": "stream",
       "stream": "stdout",
       "text": [
        "Reading current marked data.\n",
        "Done."
       ]
      },
      {
       "output_type": "stream",
       "stream": "stdout",
       "text": [
        "\n"
       ]
      }
     ],
     "prompt_number": 2
    },
    {
     "cell_type": "code",
     "collapsed": false,
     "input": [
      "blotches = ob.get_blotches(data, 'APF0000bha')\n",
      "blotches.shape"
     ],
     "language": "python",
     "metadata": {},
     "outputs": [
      {
       "metadata": {},
       "output_type": "pyout",
       "prompt_number": 3,
       "text": [
        "(23, 21)"
       ]
      }
     ],
     "prompt_number": 3
    },
    {
     "cell_type": "code",
     "collapsed": false,
     "input": [
      "blotches.iloc[0]"
     ],
     "language": "python",
     "metadata": {},
     "outputs": [
      {
       "metadata": {},
       "output_type": "pyout",
       "prompt_number": 34,
       "text": [
        "classification_id                             50eca17860d405083e0002c2\n",
        "created_at                                         2013-01-08 22:45:12\n",
        "image_id                                                    APF00004hc\n",
        "image_name                                             ESP_012264_0980\n",
        "image_url            http://www.planetfour.org/subjects/standard/50...\n",
        "user_name                                                       vampit\n",
        "marking                                                         blotch\n",
        "x_tile                                                               5\n",
        "y_tile                                                              84\n",
        "acquisition_date                                   2009-03-09 00:00:00\n",
        "local_mars_time                                                4:51 PM\n",
        "x                                                                  610\n",
        "y                                                                  215\n",
        "image_x                                                           3570\n",
        "image_y                                                          45699\n",
        "radius_1                                                            10\n",
        "radius_2                                                            10\n",
        "distance                                                           NaN\n",
        "angle                                                                0\n",
        "spread                                                             NaN\n",
        "season                                                               2\n",
        "Name: 391593, dtype: object"
       ]
      }
     ],
     "prompt_number": 34
    },
    {
     "cell_type": "code",
     "collapsed": false,
     "input": [
      "from sklearn.cluster import MeanShift, estimate_bandwidth\n",
      "\n",
      "for i in linspace(0.1,1.0,10):\n",
      "    fig, ax = subplots()\n",
      "    bandwidth = estimate_bandwidth(X, quantile=i)\n",
      "    ms = MeanShift(bandwidth=bandwidth, bin_seeding=True)\n",
      "\n",
      "    ms.fit(X)\n",
      "    labels = ms.labels_\n",
      "    cluster_centers = ms.cluster_centers_\n",
      "\n",
      "    labels_unique = np.unique(labels)\n",
      "    n_clusters_ = len(labels_unique)\n",
      "\n",
      "    print(\"number of estimated clusters : %d\" % n_clusters_)\n",
      "    import pylab as pl\n",
      "    from itertools import cycle\n",
      "\n",
      "    pl.figure(1)\n",
      "    pl.clf()\n",
      "\n",
      "    colors = cycle('bgrcmykbgrcmykbgrcmykbgrcmyk')\n",
      "    for k, col in zip(range(n_clusters_), colors):\n",
      "        my_members = labels == k\n",
      "        cluster_center = cluster_centers[k]\n",
      "        ax.plot(X[my_members, 0], X[my_members, 1], col + '.')\n",
      "        ax.plot(cluster_center[0], cluster_center[1], 'o', markerfacecolor=col,\n",
      "                markeredgecolor='k', markersize=14)\n",
      "    ax.set_title('Quantile={0}, '\n",
      "                 'estimated number of clusters: {1}'.format(i, \n",
      "                                                            n_clusters_))\n",
      "    fig.savefig('plots/MeanShift_{}.png'.format(i),dpi=200,ax=ax)"
     ],
     "language": "python",
     "metadata": {},
     "outputs": [
      {
       "output_type": "stream",
       "stream": "stdout",
       "text": [
        "number of estimated clusters : 3\n",
        "number of estimated clusters : 4"
       ]
      },
      {
       "output_type": "stream",
       "stream": "stdout",
       "text": [
        "\n",
        "number of estimated clusters : 4"
       ]
      },
      {
       "output_type": "stream",
       "stream": "stdout",
       "text": [
        "\n",
        "number of estimated clusters : 4"
       ]
      },
      {
       "output_type": "stream",
       "stream": "stdout",
       "text": [
        "\n",
        "number of estimated clusters : 5"
       ]
      },
      {
       "output_type": "stream",
       "stream": "stdout",
       "text": [
        "\n",
        "number of estimated clusters : 3"
       ]
      },
      {
       "output_type": "stream",
       "stream": "stdout",
       "text": [
        "\n",
        "number of estimated clusters : 4"
       ]
      },
      {
       "output_type": "stream",
       "stream": "stdout",
       "text": [
        "\n",
        "number of estimated clusters : 2"
       ]
      },
      {
       "output_type": "stream",
       "stream": "stdout",
       "text": [
        "\n",
        "number of estimated clusters : 1"
       ]
      },
      {
       "output_type": "stream",
       "stream": "stdout",
       "text": [
        "\n",
        "number of estimated clusters : 1"
       ]
      },
      {
       "output_type": "stream",
       "stream": "stdout",
       "text": [
        "\n"
       ]
      }
     ],
     "prompt_number": 18
    },
    {
     "cell_type": "code",
     "collapsed": false,
     "input": [
      "linspace(0,1,11)"
     ],
     "language": "python",
     "metadata": {},
     "outputs": [
      {
       "metadata": {},
       "output_type": "pyout",
       "prompt_number": 90,
       "text": [
        "array([ 0. ,  0.1,  0.2,  0.3,  0.4,  0.5,  0.6,  0.7,  0.8,  0.9,  1. ])"
       ]
      }
     ],
     "prompt_number": 90
    },
    {
     "cell_type": "code",
     "collapsed": false,
     "input": [
      "im = ob.get_image_from_record(blotches.iloc[0])"
     ],
     "language": "python",
     "metadata": {},
     "outputs": [
      {
       "output_type": "stream",
       "stream": "stdout",
       "text": [
        "Found image in cache.\n"
       ]
      }
     ],
     "prompt_number": 4
    },
    {
     "cell_type": "code",
     "collapsed": false,
     "input": [
      "im.shape"
     ],
     "language": "python",
     "metadata": {},
     "outputs": [
      {
       "metadata": {},
       "output_type": "pyout",
       "prompt_number": 5,
       "text": [
        "(648, 840, 3)"
       ]
      }
     ],
     "prompt_number": 5
    },
    {
     "cell_type": "code",
     "collapsed": false,
     "input": [
      "import numpy as np\n",
      "from sklearn.cluster import DBSCAN\n",
      "from sklearn import metrics\n",
      "from sklearn.datasets.samples_generator import make_blobs\n",
      "from sklearn.preprocessing import StandardScaler"
     ],
     "language": "python",
     "metadata": {},
     "outputs": [],
     "prompt_number": 15
    },
    {
     "cell_type": "code",
     "collapsed": false,
     "input": [
      "X"
     ],
     "language": "python",
     "metadata": {},
     "outputs": [
      {
       "metadata": {},
       "output_type": "pyout",
       "prompt_number": 20,
       "text": [
        "array([[ 400.5       ,  277.        ,  229.31419494,  143.73586887],\n",
        "       [ 393.5       ,  285.        ,  250.19392479,  187.64544359],\n",
        "       [ 398.5       ,  266.        ,  210.92415699,  125.71793826],\n",
        "       [ 406.        ,  308.        ,  108.26818554,  200.38213493],\n",
        "       [ 400.5       ,  287.        ,  228.56946428,  140.94325099],\n",
        "       [ 382.5       ,  262.        ,  247.87295133,  185.9047135 ],\n",
        "       [ 407.        ,  279.        ,  224.90220097,  127.01574706],\n",
        "       [ 421.        ,  311.        ,  154.27572719,  115.70679539],\n",
        "       [ 391.        ,  270.        ,  245.55243839,  184.16432879],\n",
        "       [ 405.        ,  317.        ,  195.48913013,  146.6168476 ],\n",
        "       [ 410.5       ,  314.        ,  197.80040445,  127.38916751],\n",
        "       [ 390.5       ,  275.        ,  203.92400545,  152.94300409],\n",
        "       [ 404.5       ,  294.        ,  192.92485584,  144.64093473],\n",
        "       [ 532.5       ,  228.        ,   10.        ,   10.        ],\n",
        "       [ 369.5       ,  101.        ,   10.        ,   10.        ],\n",
        "       [ 471.5       ,  482.        ,   10.        ,   10.        ],\n",
        "       [ 488.5       ,  460.        ,   10.        ,   10.        ],\n",
        "       [ 393.5       ,  288.        ,  219.78398486,  119.25183437],\n",
        "       [ 438.5       ,  324.        ,  260.16148831,  195.12111623],\n",
        "       [ 408.        ,  293.        ,  260.04807248,  195.03605436],\n",
        "       [ 401.        ,  278.        ,  220.41097976,  135.16286472],\n",
        "       [ 268.5       ,  303.        ,  106.7941946 ,   80.09564595],\n",
        "       [ 395.        ,  297.        ,  210.29740845,  151.05007448]])"
       ]
      }
     ],
     "prompt_number": 20
    },
    {
     "cell_type": "code",
     "collapsed": false,
     "input": [
      "X = StandardScaler().fit_transform(X)"
     ],
     "language": "python",
     "metadata": {},
     "outputs": [],
     "prompt_number": 21
    },
    {
     "cell_type": "code",
     "collapsed": false,
     "input": [
      "X"
     ],
     "language": "python",
     "metadata": {},
     "outputs": [
      {
       "metadata": {},
       "output_type": "pyout",
       "prompt_number": 22,
       "text": [
        "array([[-0.15453037, -0.26843359,  0.64855104,  0.29191976],\n",
        "       [-0.30440621, -0.15303223,  0.89442735,  1.01556922],\n",
        "       [-0.19735204, -0.42711046,  0.43199294, -0.0050238 ],\n",
        "       [-0.03677078,  0.17874667, -0.77686711,  1.22547559],\n",
        "       [-0.15453037, -0.1241819 ,  0.63978121,  0.24589617],\n",
        "       [-0.53992538, -0.48481114,  0.86709594,  0.9868812 ],\n",
        "       [-0.01535995, -0.23958325,  0.59659611,  0.01636467],\n",
        "       [ 0.28439173,  0.22202218, -0.23508977, -0.17001192],\n",
        "       [-0.35793329, -0.36940978,  0.83976996,  0.95819888],\n",
        "       [-0.05818161,  0.30857319,  0.25023257,  0.33939958],\n",
        "       [ 0.05957797,  0.26529768,  0.27744976,  0.0225188 ],\n",
        "       [-0.36863871, -0.29728393,  0.34956029,  0.44365747],\n",
        "       [-0.06888703, -0.02320571,  0.22003609,  0.30683565],\n",
        "       [ 2.67169974, -0.9752669 , -1.9340573 , -1.91210724],\n",
        "       [-0.81826623, -2.80726345, -1.9340573 , -1.91210724],\n",
        "       [ 1.36563886,  2.68872618, -1.9340573 , -1.91210724],\n",
        "       [ 1.72962304,  2.37137245, -1.9340573 , -1.91210724],\n",
        "       [-0.30440621, -0.10975673,  0.53632483, -0.11158809],\n",
        "       [ 0.65908133,  0.40954938,  1.01180375,  1.13877165],\n",
        "       [ 0.00605089, -0.03763088,  1.01046819,  1.13736979],\n",
        "       [-0.14382495, -0.25400842,  0.54370822,  0.15063281],\n",
        "       [-2.98076048,  0.10662082, -0.79422459, -0.75689961],\n",
        "       [-0.27228996,  0.0200698 ,  0.42461245,  0.41246115]])"
       ]
      }
     ],
     "prompt_number": 22
    },
    {
     "cell_type": "code",
     "collapsed": false,
     "input": [
      "db = DBSCAN(eps=0.3).fit(X)"
     ],
     "language": "python",
     "metadata": {},
     "outputs": [],
     "prompt_number": 35
    },
    {
     "cell_type": "code",
     "collapsed": false,
     "input": [
      "core_samples_mask = np.zeros_like(db.labels_, dtype=bool)\n",
      "core_samples_mask[db.core_sample_indices_] = True\n",
      "labels = db.labels_\n",
      "\n",
      "# Number of clusters in labels, ignoring noise if present.\n",
      "n_clusters_ = len(set(labels)) - (1 if -1 in labels else 0)\n",
      "\n",
      "print('Estimated number of clusters: %d' % n_clusters_)\n",
      "print(\"Silhouette Coefficient: %0.3f\"\n",
      "      % metrics.silhouette_score(X, labels))"
     ],
     "language": "python",
     "metadata": {},
     "outputs": [
      {
       "output_type": "stream",
       "stream": "stdout",
       "text": [
        "Estimated number of clusters: 1\n",
        "Silhouette Coefficient: -0.152\n"
       ]
      }
     ],
     "prompt_number": 36
    },
    {
     "cell_type": "code",
     "collapsed": false,
     "input": [
      "relunique_labels = set(labels)\n",
      "colors = pl.cm.Spectral(np.linspace(0, 1, len(unique_labels)))\n",
      "for k, col in zip(unique_labels, colors):\n",
      "    if k == -1:\n",
      "        # Black used for noise.\n",
      "        col = 'k'\n",
      "\n",
      "    class_member_mask = (labels == k)\n",
      "\n",
      "    xy = X[class_member_mask & core_samples_mask]\n",
      "    pl.plot(xy[:, 0], xy[:, 1], 'o', markerfacecolor=col,\n",
      "            markeredgecolor='k', markersize=14)\n",
      "\n",
      "    xy = X[class_member_mask & ~core_samples_mask]\n",
      "    pl.plot(xy[:, 0], xy[:, 1], 'o', markerfacecolor=col,\n",
      "            markeredgecolor='k', markersize=6)\n",
      "\n",
      "pl.title('Estimated number of clusters: %d' % n_clusters_)\n",
      "pl.show()"
     ],
     "language": "python",
     "metadata": {},
     "outputs": [
      {
       "ename": "NameError",
       "evalue": "name 'unique_labels' is not defined",
       "output_type": "pyerr",
       "traceback": [
        "---------------------------------------------------------------------------\nNameError                                 Traceback (most recent call last)",
        "<ipython-input-38-99d5eaa11254> in <module>()\n      1 relunique_labels = set(labels)\n----> 2 colors = pl.cm.Spectral(np.linspace(0, 1, len(unique_labels)))\n      3 for k, col in zip(unique_labels, colors):\n      4     if k == -1:\n      5         # Black used for noise.\n",
        "NameError: name 'unique_labels' is not defined"
       ]
      }
     ],
     "prompt_number": 38
    },
    {
     "cell_type": "code",
     "collapsed": false,
     "input": [
      "ob.main(blotches.iloc[0].image_id)"
     ],
     "language": "python",
     "metadata": {},
     "outputs": [
      {
       "output_type": "stream",
       "stream": "stdout",
       "text": [
        "Reading current marked data.\n",
        "Done."
       ]
      },
      {
       "output_type": "stream",
       "stream": "stdout",
       "text": [
        "\n",
        "Found image in cache."
       ]
      },
      {
       "output_type": "stream",
       "stream": "stdout",
       "text": [
        "\n"
       ]
      }
     ],
     "prompt_number": 33
    },
    {
     "cell_type": "code",
     "collapsed": false,
     "input": [
      "db.c"
     ],
     "language": "python",
     "metadata": {},
     "outputs": [
      {
       "metadata": {},
       "output_type": "pyout",
       "prompt_number": 39,
       "text": [
        "array([ 0., -1.,  0., -1.,  0., -1.,  0., -1., -1., -1., -1., -1., -1.,\n",
        "       -1., -1., -1., -1., -1., -1., -1.,  0., -1., -1.])"
       ]
      }
     ],
     "prompt_number": 39
    },
    {
     "cell_type": "code",
     "collapsed": false,
     "input": [],
     "language": "python",
     "metadata": {},
     "outputs": []
    }
   ],
   "metadata": {}
  }
 ]
}