{
 "metadata": {
  "name": ""
 },
 "nbformat": 3,
 "nbformat_minor": 0,
 "worksheets": [
  {
   "cells": [
    {
     "cell_type": "markdown",
     "metadata": {},
     "source": [
      "# Task: Define status of Planet 4"
     ]
    },
    {
     "cell_type": "markdown",
     "metadata": {},
     "source": [
      "First import the `pandas` data table analyis library and check which version I'm using (as I'm constantly changing that to keep up-to-date.)"
     ]
    },
    {
     "cell_type": "code",
     "collapsed": false,
     "input": [
      "import pandas as pd\n",
      "print pd.__version__\n",
      "# reduce print-out of tables to 20 rows\n",
      "pd.set_option('display.max_rows',20)\n",
      "# switch to inline images\n",
      "%pylab inline"
     ],
     "language": "python",
     "metadata": {},
     "outputs": [
      {
       "output_type": "stream",
       "stream": "stdout",
       "text": [
        "0.13.0rc1\n",
        "Populating the interactive namespace from numpy and matplotlib\n"
       ]
      }
     ],
     "prompt_number": 1
    },
    {
     "cell_type": "markdown",
     "metadata": {},
     "source": [
      "## Database format\n",
      "\n",
      "In a different notebook (the document you are looking at is called an [IPython Notebook](http://ipython.org/notebook.html)) I have converted the mongodb database text dump from Planet 4 into \n",
      "[HDF format](http://en.wikipedia.org/wiki/Hierarchical_Data_Format). \n",
      "I saved it in a subformat for very fast read-speed into memory; the 2 GB file currently loads within 20 seconds on my Macbook Pro.\n",
      "\n",
      "By the way, this HDF5 format is supported in IDL and Matlab as well, so I could provide this file as a download for Candy and others, if wanted.\n",
      "\n",
      "I save the object I get back here in the variable *df*, a shortcut for `dataframe`, which is the essential table object of the pandas library."
     ]
    },
    {
     "cell_type": "code",
     "collapsed": false,
     "input": [
      "df = pd.read_hdf('/Users/maye/data/marszoo/2013-10-27_planet_four_classifications.h5',\n",
      "                 'df')"
     ],
     "language": "python",
     "metadata": {},
     "outputs": [],
     "prompt_number": 2
    },
    {
     "cell_type": "markdown",
     "metadata": {},
     "source": [
      "So, what did we receive in `df`:"
     ]
    },
    {
     "cell_type": "code",
     "collapsed": false,
     "input": [
      "df.info()"
     ],
     "language": "python",
     "metadata": {},
     "outputs": [
      {
       "output_type": "stream",
       "stream": "stdout",
       "text": [
        "<class 'pandas.core.frame.DataFrame'>\n",
        "Int64Index: 10718114 entries, 0 to 10718113\n",
        "Data columns (total 20 columns):\n",
        "classification_id    10718113  non-null values\n",
        "created_at           10718113  non-null values\n",
        "image_id             10718113  non-null values\n",
        "image_name           10718113  non-null values\n",
        "image_url            10718113  non-null values\n",
        "user_name            10718113  non-null values\n",
        "marking              7932283  non-null values\n",
        "x_tile               10718113  non-null values\n",
        "y_tile               10718113  non-null values\n",
        "acquisition_date     10718113  non-null values\n",
        "local_mars_time      10368621  non-null values\n",
        "x                    7932283  non-null values\n",
        "y                    7932283  non-null values\n",
        "image_x              7932283  non-null values\n",
        "image_y              7932283  non-null values\n",
        "radius_1             3854597  non-null values\n",
        "radius_2             3854641  non-null values\n",
        "distance             3192773  non-null values\n",
        "angle                7047370  non-null values\n",
        "spread               3192763  non-null values\n",
        "dtypes: datetime64[ns](2), float64(11), object(7)"
       ]
      }
     ],
     "prompt_number": 3
    },
    {
     "cell_type": "markdown",
     "metadata": {},
     "source": [
      "Here are the first 5 rows of the dataframe:"
     ]
    },
    {
     "cell_type": "code",
     "collapsed": false,
     "input": [
      "df.head()"
     ],
     "language": "python",
     "metadata": {},
     "outputs": [
      {
       "html": [
        "<div style=\"max-height:1000px;max-width:1500px;overflow:auto;\">\n",
        "<table border=\"1\" class=\"dataframe\">\n",
        "  <thead>\n",
        "    <tr style=\"text-align: right;\">\n",
        "      <th></th>\n",
        "      <th>classification_id</th>\n",
        "      <th>created_at</th>\n",
        "      <th>image_id</th>\n",
        "      <th>image_name</th>\n",
        "      <th>image_url</th>\n",
        "      <th>user_name</th>\n",
        "      <th>marking</th>\n",
        "      <th>x_tile</th>\n",
        "      <th>y_tile</th>\n",
        "      <th>acquisition_date</th>\n",
        "      <th>local_mars_time</th>\n",
        "      <th>x</th>\n",
        "      <th>y</th>\n",
        "      <th>image_x</th>\n",
        "      <th>image_y</th>\n",
        "      <th>radius_1</th>\n",
        "      <th>radius_2</th>\n",
        "      <th>distance</th>\n",
        "      <th>angle</th>\n",
        "      <th>spread</th>\n",
        "    </tr>\n",
        "  </thead>\n",
        "  <tbody>\n",
        "    <tr>\n",
        "      <th>0</th>\n",
        "      <td> 50ea1eae45d7e11332000bf9</td>\n",
        "      <td>2013-01-07 01:02:38</td>\n",
        "      <td> APF00004hc</td>\n",
        "      <td> ESP_012264_0980</td>\n",
        "      <td> http://www.planetfour.org/subjects/standard/50...</td>\n",
        "      <td> brian-c</td>\n",
        "      <td> interesting</td>\n",
        "      <td> 5</td>\n",
        "      <td>  84</td>\n",
        "      <td>2009-03-09 00:00:00</td>\n",
        "      <td> 4:51 PM</td>\n",
        "      <td> 415.5</td>\n",
        "      <td> 317</td>\n",
        "      <td> 3375.5</td>\n",
        "      <td> 45801</td>\n",
        "      <td>        NaN</td>\n",
        "      <td>       NaN</td>\n",
        "      <td>        NaN</td>\n",
        "      <td>        NaN</td>\n",
        "      <td>       NaN</td>\n",
        "    </tr>\n",
        "    <tr>\n",
        "      <th>1</th>\n",
        "      <td> 50ea21c245d7e11332000c88</td>\n",
        "      <td>2013-01-07 01:15:46</td>\n",
        "      <td> APF00002rq</td>\n",
        "      <td> ESP_011544_0985</td>\n",
        "      <td> http://www.planetfour.org/subjects/standard/50...</td>\n",
        "      <td>   arfon</td>\n",
        "      <td>      blotch</td>\n",
        "      <td> 2</td>\n",
        "      <td>  10</td>\n",
        "      <td>2009-01-12 00:00:00</td>\n",
        "      <td> 5:14 PM</td>\n",
        "      <td> 278.5</td>\n",
        "      <td> 145</td>\n",
        "      <td> 1018.5</td>\n",
        "      <td>  5077</td>\n",
        "      <td> 186.657440</td>\n",
        "      <td> 77.006493</td>\n",
        "      <td>        NaN</td>\n",
        "      <td> 142.386043</td>\n",
        "      <td>       NaN</td>\n",
        "    </tr>\n",
        "    <tr>\n",
        "      <th>2</th>\n",
        "      <td> 50ea21d7e3995601cb00016d</td>\n",
        "      <td>2013-01-07 01:16:07</td>\n",
        "      <td> APF0000cwl</td>\n",
        "      <td> ESP_012079_0945</td>\n",
        "      <td> http://www.planetfour.org/subjects/standard/50...</td>\n",
        "      <td>   arfon</td>\n",
        "      <td>         fan</td>\n",
        "      <td> 5</td>\n",
        "      <td>  35</td>\n",
        "      <td>2009-02-22 00:00:00</td>\n",
        "      <td> 6:04 PM</td>\n",
        "      <td> 294.5</td>\n",
        "      <td> 371</td>\n",
        "      <td> 3254.5</td>\n",
        "      <td> 19003</td>\n",
        "      <td>        NaN</td>\n",
        "      <td>       NaN</td>\n",
        "      <td> 195.133288</td>\n",
        "      <td> -96.178065</td>\n",
        "      <td>  6.768722</td>\n",
        "    </tr>\n",
        "    <tr>\n",
        "      <th>3</th>\n",
        "      <td> 50ea21d7e3995601cb00016d</td>\n",
        "      <td>2013-01-07 01:16:07</td>\n",
        "      <td> APF0000cwl</td>\n",
        "      <td> ESP_012079_0945</td>\n",
        "      <td> http://www.planetfour.org/subjects/standard/50...</td>\n",
        "      <td>   arfon</td>\n",
        "      <td>         fan</td>\n",
        "      <td> 5</td>\n",
        "      <td>  35</td>\n",
        "      <td>2009-02-22 00:00:00</td>\n",
        "      <td> 6:04 PM</td>\n",
        "      <td> 295.5</td>\n",
        "      <td> 366</td>\n",
        "      <td> 3255.5</td>\n",
        "      <td> 18998</td>\n",
        "      <td>        NaN</td>\n",
        "      <td>       NaN</td>\n",
        "      <td> 280.264161</td>\n",
        "      <td>-162.987453</td>\n",
        "      <td> 10.572224</td>\n",
        "    </tr>\n",
        "    <tr>\n",
        "      <th>4</th>\n",
        "      <td> 50ea21e745d7e11332000c97</td>\n",
        "      <td>2013-01-07 01:16:23</td>\n",
        "      <td> APF0000jn4</td>\n",
        "      <td> ESP_021684_0985</td>\n",
        "      <td> http://www.planetfour.org/subjects/standard/50...</td>\n",
        "      <td>   arfon</td>\n",
        "      <td>      blotch</td>\n",
        "      <td> 2</td>\n",
        "      <td> 127</td>\n",
        "      <td>2011-03-13 00:00:00</td>\n",
        "      <td> 4:08 PM</td>\n",
        "      <td>  71.5</td>\n",
        "      <td> 543</td>\n",
        "      <td>  811.5</td>\n",
        "      <td> 69591</td>\n",
        "      <td>  26.172505</td>\n",
        "      <td> 19.629378</td>\n",
        "      <td>        NaN</td>\n",
        "      <td>  43.451842</td>\n",
        "      <td>       NaN</td>\n",
        "    </tr>\n",
        "  </tbody>\n",
        "</table>\n",
        "<p>5 rows \u00d7 20 columns</p>\n",
        "</div>"
       ],
       "metadata": {},
       "output_type": "pyout",
       "prompt_number": 4,
       "text": [
        "          classification_id          created_at    image_id       image_name  \\\n",
        "0  50ea1eae45d7e11332000bf9 2013-01-07 01:02:38  APF00004hc  ESP_012264_0980   \n",
        "1  50ea21c245d7e11332000c88 2013-01-07 01:15:46  APF00002rq  ESP_011544_0985   \n",
        "2  50ea21d7e3995601cb00016d 2013-01-07 01:16:07  APF0000cwl  ESP_012079_0945   \n",
        "3  50ea21d7e3995601cb00016d 2013-01-07 01:16:07  APF0000cwl  ESP_012079_0945   \n",
        "4  50ea21e745d7e11332000c97 2013-01-07 01:16:23  APF0000jn4  ESP_021684_0985   \n",
        "\n",
        "                                           image_url user_name      marking  \\\n",
        "0  http://www.planetfour.org/subjects/standard/50...   brian-c  interesting   \n",
        "1  http://www.planetfour.org/subjects/standard/50...     arfon       blotch   \n",
        "2  http://www.planetfour.org/subjects/standard/50...     arfon          fan   \n",
        "3  http://www.planetfour.org/subjects/standard/50...     arfon          fan   \n",
        "4  http://www.planetfour.org/subjects/standard/50...     arfon       blotch   \n",
        "\n",
        "   x_tile  y_tile    acquisition_date local_mars_time      x    y  image_x  \\\n",
        "0       5      84 2009-03-09 00:00:00         4:51 PM  415.5  317   3375.5   \n",
        "1       2      10 2009-01-12 00:00:00         5:14 PM  278.5  145   1018.5   \n",
        "2       5      35 2009-02-22 00:00:00         6:04 PM  294.5  371   3254.5   \n",
        "3       5      35 2009-02-22 00:00:00         6:04 PM  295.5  366   3255.5   \n",
        "4       2     127 2011-03-13 00:00:00         4:08 PM   71.5  543    811.5   \n",
        "\n",
        "   image_y    radius_1   radius_2    distance       angle     spread  \n",
        "0    45801         NaN        NaN         NaN         NaN        NaN  \n",
        "1     5077  186.657440  77.006493         NaN  142.386043        NaN  \n",
        "2    19003         NaN        NaN  195.133288  -96.178065   6.768722  \n",
        "3    18998         NaN        NaN  280.264161 -162.987453  10.572224  \n",
        "4    69591   26.172505  19.629378         NaN   43.451842        NaN  \n",
        "\n",
        "[5 rows x 20 columns]"
       ]
      }
     ],
     "prompt_number": 4
    },
    {
     "cell_type": "markdown",
     "metadata": {},
     "source": [
      "Let's first get rid of the data that represents the tutorial_id, lots of code get's simpler by cleaning up upfront.\n",
      "The tutorial's image_id is 'APF0000x3t'.\n",
      "\n",
      "Note that this reduces the amount of classifications by approx. 140,000."
     ]
    },
    {
     "cell_type": "code",
     "collapsed": false,
     "input": [
      "df = df[df.image_id != 'APF0000x3t']"
     ],
     "language": "python",
     "metadata": {},
     "outputs": [],
     "prompt_number": 5
    },
    {
     "cell_type": "markdown",
     "metadata": {},
     "source": [
      "## Image IDs\n",
      "Let's get a list of unique image ids, to know how many objects have been published."
     ]
    },
    {
     "cell_type": "code",
     "collapsed": false,
     "input": [
      "img_ids = df.image_id.unique()\n",
      "print img_ids"
     ],
     "language": "python",
     "metadata": {},
     "outputs": [
      {
       "output_type": "stream",
       "stream": "stdout",
       "text": [
        "['APF00004hc' 'APF00002rq' 'APF0000cwl' ..., 'APF000238h' 'APF0001h9j' nan]\n"
       ]
      }
     ],
     "prompt_number": 6
    },
    {
     "cell_type": "markdown",
     "metadata": {},
     "source": [
      "Aha, we have some NaN values? Let's check how many?"
     ]
    },
    {
     "cell_type": "code",
     "collapsed": false,
     "input": [
      "df.image_id.notnull().value_counts()"
     ],
     "language": "python",
     "metadata": {},
     "outputs": [
      {
       "metadata": {},
       "output_type": "pyout",
       "prompt_number": 7,
       "text": [
        "True     10368621\n",
        "False           1\n",
        "dtype: int64"
       ]
      }
     ],
     "prompt_number": 7
    },
    {
     "cell_type": "markdown",
     "metadata": {},
     "source": [
      "Only one, phew. So what's that data looking like?"
     ]
    },
    {
     "cell_type": "code",
     "collapsed": false,
     "input": [
      "df[df.image_id.isnull()].T # .T to have it printed like a column, not a row"
     ],
     "language": "python",
     "metadata": {},
     "outputs": [
      {
       "html": [
        "<div style=\"max-height:1000px;max-width:1500px;overflow:auto;\">\n",
        "<table border=\"1\" class=\"dataframe\">\n",
        "  <thead>\n",
        "    <tr style=\"text-align: right;\">\n",
        "      <th></th>\n",
        "      <th>10718113</th>\n",
        "    </tr>\n",
        "  </thead>\n",
        "  <tbody>\n",
        "    <tr>\n",
        "      <th>classification_id</th>\n",
        "      <td> NaN</td>\n",
        "    </tr>\n",
        "    <tr>\n",
        "      <th>created_at</th>\n",
        "      <td> NaN</td>\n",
        "    </tr>\n",
        "    <tr>\n",
        "      <th>image_id</th>\n",
        "      <td> NaN</td>\n",
        "    </tr>\n",
        "    <tr>\n",
        "      <th>image_name</th>\n",
        "      <td> NaN</td>\n",
        "    </tr>\n",
        "    <tr>\n",
        "      <th>image_url</th>\n",
        "      <td> NaN</td>\n",
        "    </tr>\n",
        "    <tr>\n",
        "      <th>user_name</th>\n",
        "      <td> NaN</td>\n",
        "    </tr>\n",
        "    <tr>\n",
        "      <th>marking</th>\n",
        "      <td> NaN</td>\n",
        "    </tr>\n",
        "    <tr>\n",
        "      <th>x_tile</th>\n",
        "      <td> NaN</td>\n",
        "    </tr>\n",
        "    <tr>\n",
        "      <th>y_tile</th>\n",
        "      <td> NaN</td>\n",
        "    </tr>\n",
        "    <tr>\n",
        "      <th>acquisition_date</th>\n",
        "      <td> NaN</td>\n",
        "    </tr>\n",
        "    <tr>\n",
        "      <th>local_mars_time</th>\n",
        "      <td> NaN</td>\n",
        "    </tr>\n",
        "    <tr>\n",
        "      <th>x</th>\n",
        "      <td> NaN</td>\n",
        "    </tr>\n",
        "    <tr>\n",
        "      <th>y</th>\n",
        "      <td> NaN</td>\n",
        "    </tr>\n",
        "    <tr>\n",
        "      <th>image_x</th>\n",
        "      <td> NaN</td>\n",
        "    </tr>\n",
        "    <tr>\n",
        "      <th>image_y</th>\n",
        "      <td> NaN</td>\n",
        "    </tr>\n",
        "    <tr>\n",
        "      <th>radius_1</th>\n",
        "      <td> NaN</td>\n",
        "    </tr>\n",
        "    <tr>\n",
        "      <th>radius_2</th>\n",
        "      <td> NaN</td>\n",
        "    </tr>\n",
        "    <tr>\n",
        "      <th>distance</th>\n",
        "      <td> NaN</td>\n",
        "    </tr>\n",
        "    <tr>\n",
        "      <th>angle</th>\n",
        "      <td> NaN</td>\n",
        "    </tr>\n",
        "    <tr>\n",
        "      <th>spread</th>\n",
        "      <td> NaN</td>\n",
        "    </tr>\n",
        "  </tbody>\n",
        "</table>\n",
        "<p>20 rows \u00d7 1 columns</p>\n",
        "</div>"
       ],
       "metadata": {},
       "output_type": "pyout",
       "prompt_number": 8,
       "text": [
        "                  10718113\n",
        "classification_id      NaN\n",
        "created_at             NaN\n",
        "image_id               NaN\n",
        "image_name             NaN\n",
        "image_url              NaN\n",
        "user_name              NaN\n",
        "marking                NaN\n",
        "x_tile                 NaN\n",
        "y_tile                 NaN\n",
        "acquisition_date       NaN\n",
        "local_mars_time        NaN\n",
        "x                      NaN\n",
        "y                      NaN\n",
        "image_x                NaN\n",
        "image_y                NaN\n",
        "radius_1               NaN\n",
        "radius_2               NaN\n",
        "distance               NaN\n",
        "angle                  NaN\n",
        "spread                 NaN\n",
        "\n",
        "[20 rows x 1 columns]"
       ]
      }
     ],
     "prompt_number": 8
    },
    {
     "cell_type": "markdown",
     "metadata": {},
     "source": [
      "Ok, all of it is NaN, so I might as well drop it from the table."
     ]
    },
    {
     "cell_type": "code",
     "collapsed": false,
     "input": [
      "df = df.drop(10718113)"
     ],
     "language": "python",
     "metadata": {},
     "outputs": [],
     "prompt_number": 9
    },
    {
     "cell_type": "markdown",
     "metadata": {},
     "source": [
      "Let's confirm that there's nothing with a NaN image_id now:"
     ]
    },
    {
     "cell_type": "code",
     "collapsed": false,
     "input": [
      "df[df.image_id.isnull()]"
     ],
     "language": "python",
     "metadata": {},
     "outputs": [
      {
       "html": [
        "<div style=\"max-height:1000px;max-width:1500px;overflow:auto;\">\n",
        "<table border=\"1\" class=\"dataframe\">\n",
        "  <tbody>\n",
        "    <tr>\n",
        "      <td>Int64Index([], dtype='int64')</td>\n",
        "      <td>Empty DataFrame</td>\n",
        "    </tr>\n",
        "  </tbody>\n",
        "</table>\n",
        "<p>0 rows \u00d7 20 columns</p>\n",
        "</div>"
       ],
       "metadata": {},
       "output_type": "pyout",
       "prompt_number": 10,
       "text": [
        "Empty DataFrame\n",
        "Columns: [classification_id, created_at, image_id, image_name, image_url, user_name, marking, x_tile, y_tile, acquisition_date, local_mars_time, x, y, image_x, image_y, radius_1, radius_2, distance, angle, spread]\n",
        "Index: []\n",
        "\n",
        "[0 rows x 20 columns]"
       ]
      }
     ],
     "prompt_number": 10
    },
    {
     "cell_type": "markdown",
     "metadata": {},
     "source": [
      "Ok, now we should only get non-NaNs:"
     ]
    },
    {
     "cell_type": "code",
     "collapsed": false,
     "input": [
      "img_ids = df.image_id.unique()\n",
      "img_ids"
     ],
     "language": "python",
     "metadata": {},
     "outputs": [
      {
       "metadata": {},
       "output_type": "pyout",
       "prompt_number": 11,
       "text": [
        "array(['APF00004hc', 'APF00002rq', 'APF0000cwl', ..., 'APF00022nr',\n",
        "       'APF000238h', 'APF0001h9j'], dtype=object)"
       ]
      }
     ],
     "prompt_number": 11
    },
    {
     "cell_type": "markdown",
     "metadata": {},
     "source": [
      "Yeah, so how many objects were online:"
     ]
    },
    {
     "cell_type": "code",
     "collapsed": false,
     "input": [
      "no_all = len(img_ids)\n",
      "no_all"
     ],
     "language": "python",
     "metadata": {},
     "outputs": [
      {
       "metadata": {},
       "output_type": "pyout",
       "prompt_number": 12,
       "text": [
        "96913"
       ]
      }
     ],
     "prompt_number": 12
    },
    {
     "cell_type": "markdown",
     "metadata": {},
     "source": [
      "## Classification IDs\n",
      "Now we need to find out how often each image_id has been looked at. \n",
      "For that we have the groupby functionality. \n",
      "Specifically, because we want to know how many citizens have submitted a classification for each image_id, we need to group by the image_id and count the unique classification_ids within each image_id group. \n",
      "\n",
      "We need to constrain for uniqueness because each classified object is included with the same classification_id and we don't want to count them more than once, because we are interested in the overall submission only for now.\n",
      "In other words, the different fans, blobs and interesting things for one image_id have all been submitted with the same classification_id.\n",
      "\n",
      "First, I confirm that classification_ids indeed have more than 1 entry, i.e. when there was more than one object classified by a user:"
     ]
    },
    {
     "cell_type": "code",
     "collapsed": false,
     "input": [
      "df.groupby(df.classification_id, sort=False).size()"
     ],
     "language": "python",
     "metadata": {},
     "outputs": [
      {
       "metadata": {},
       "output_type": "pyout",
       "prompt_number": 13,
       "text": [
        "classification_id\n",
        "50ea1eae45d7e11332000bf9     1\n",
        "50ea21c245d7e11332000c88     1\n",
        "50ea21d7e3995601cb00016d     2\n",
        "50ea21e745d7e11332000c97     3\n",
        "50eacdcb45d7e143b10002c0    11\n",
        "50eacdf545d7e143d6000925     5\n",
        "50eace09e39956220600081f     1\n",
        "50eace33e3995621190006b8     5\n",
        "...\n",
        "526ceafffe16d925640073ca     1\n",
        "526ceaf1fe16d925640073c3     8\n",
        "526ceb2072c1096cd800964a     1\n",
        "526ceb04fe16d925640073ce     1\n",
        "526ceb37fe16d925640073e1    20\n",
        "526ceba572c1096cd8009678    11\n",
        "526cecec72c1096cd80096f8     1\n",
        "526ced4272c1096cd8009713     8\n",
        "Length: 3843635, dtype: int64"
       ]
      }
     ],
     "prompt_number": 13
    },
    {
     "cell_type": "markdown",
     "metadata": {},
     "source": [
      "Now, group the classification_ids by the image_ids and save the grouping. Switch off sorting for speed, we want to sort by the counts later anyway."
     ]
    },
    {
     "cell_type": "code",
     "collapsed": false,
     "input": [
      "grouping = df.classification_id.groupby(df.image_id, sort=False)"
     ],
     "language": "python",
     "metadata": {},
     "outputs": [],
     "prompt_number": 14
    },
    {
     "cell_type": "markdown",
     "metadata": {},
     "source": [
      "Aggregate each group by finding the size of the unique list of classification_ids."
     ]
    },
    {
     "cell_type": "code",
     "collapsed": false,
     "input": [
      "counts = grouping.agg(lambda x: x.unique().size)\n",
      "counts"
     ],
     "language": "python",
     "metadata": {},
     "outputs": [
      {
       "metadata": {},
       "output_type": "pyout",
       "prompt_number": 15,
       "text": [
        "image_id\n",
        "APF00004hc    147\n",
        "APF00002rq    141\n",
        "APF0000cwl    129\n",
        "APF0000jn4    107\n",
        "APF0000469    125\n",
        "APF0000v73     91\n",
        "APF00008jy    102\n",
        "APF0000sqw    123\n",
        "...\n",
        "APF0001q9k    1\n",
        "APF0001e55    1\n",
        "APF0001xej    1\n",
        "APF0001plw    1\n",
        "APF0000xaq    1\n",
        "APF00022nr    1\n",
        "APF000238h    1\n",
        "APF0001h9j    1\n",
        "Length: 96913, dtype: int64"
       ]
      }
     ],
     "prompt_number": 15
    },
    {
     "cell_type": "markdown",
     "metadata": {},
     "source": [
      "Order the counts by value"
     ]
    },
    {
     "cell_type": "code",
     "collapsed": false,
     "input": [
      "counts = counts.order(ascending=False)\n",
      "counts"
     ],
     "language": "python",
     "metadata": {},
     "outputs": [
      {
       "metadata": {},
       "output_type": "pyout",
       "prompt_number": 16,
       "text": [
        "image_id\n",
        "APF0000jp7    180\n",
        "APF0000fpt    180\n",
        "APF0000dho    175\n",
        "APF0000syu    175\n",
        "APF00002b2    174\n",
        "APF0000mys    173\n",
        "APF0000wyr    173\n",
        "APF0000fmn    172\n",
        "...\n",
        "APF0001hua    1\n",
        "APF00023li    1\n",
        "APF0001ygz    1\n",
        "APF0001u3e    1\n",
        "APF0001ubh    1\n",
        "APF0001or7    1\n",
        "APF0001132    1\n",
        "APF0001sgk    1\n",
        "Length: 96913, dtype: int64"
       ]
      }
     ],
     "prompt_number": 16
    },
    {
     "cell_type": "markdown",
     "metadata": {},
     "source": [
      "Note also that the length of this counts data series is 96913, exactly the number of unique image_ids."
     ]
    },
    {
     "cell_type": "markdown",
     "metadata": {},
     "source": [
      "## Percentages done.\n",
      "\n",
      "By constraining the previous data series for the value it has (the counts) and look at the length of the remaining data, we can determine the status of the finished rate."
     ]
    },
    {
     "cell_type": "code",
     "collapsed": false,
     "input": [
      "counts[counts >= 100].size"
     ],
     "language": "python",
     "metadata": {},
     "outputs": [
      {
       "metadata": {},
       "output_type": "pyout",
       "prompt_number": 17,
       "text": [
        "16189"
       ]
      }
     ],
     "prompt_number": 17
    },
    {
     "cell_type": "markdown",
     "metadata": {},
     "source": [
      "That's pretty disappointing, but alas, the cold hard truth. \n",
      "This means, taking all submitted years into account in the data, we have currently only the following percentage done:"
     ]
    },
    {
     "cell_type": "code",
     "collapsed": false,
     "input": [
      "counts[counts>= 100].size / float(no_all) * 100"
     ],
     "language": "python",
     "metadata": {},
     "outputs": [
      {
       "metadata": {},
       "output_type": "pyout",
       "prompt_number": 18,
       "text": [
        "16.70467326364884"
       ]
      }
     ],
     "prompt_number": 18
    },
    {
     "cell_type": "markdown",
     "metadata": {},
     "source": [
      "Urging to create higher values, I was for some moments contemplating if one maybe has to sum up the different counts to be correct, but I don't think that's it.\n",
      "\n",
      "The way I see it, one has to decide in what 'phase-space' one works to determine the status of Planet4.\n",
      "Either in the phase space of total subframes or in the total number of classifications. And I believe to determine the finished state of Planet4 it is sufficient and actually easier to focus on the available number of subframes and determine how often each of them has been looked at.\n",
      "\n",
      "Though I still hope I am wrong somewhere. Multi-dimensional datasets easily lull you into believing you understand it, until you notice that just one little detail changes everything.\n",
      "\n",
      "## Separate for years\n",
      "\n",
      "To calm our worried minds, let's have a quick look how to do this for the separate years, because we assumed these numbers must be better for the years 2 and 3 that were put online first.\n",
      "\n",
      "We have an acquisition_date column that I stored as a datetime object that is aware of time calculations. \n",
      "The dtypes member of the dataframe object shows us the datatypes of all columns."
     ]
    },
    {
     "cell_type": "code",
     "collapsed": false,
     "input": [
      "df.dtypes"
     ],
     "language": "python",
     "metadata": {},
     "outputs": [
      {
       "metadata": {},
       "output_type": "pyout",
       "prompt_number": 19,
       "text": [
        "classification_id            object\n",
        "created_at           datetime64[ns]\n",
        "image_id                     object\n",
        "image_name                   object\n",
        "image_url                    object\n",
        "user_name                    object\n",
        "marking                      object\n",
        "x_tile                      float64\n",
        "y_tile                      float64\n",
        "acquisition_date     datetime64[ns]\n",
        "local_mars_time              object\n",
        "x                           float64\n",
        "y                           float64\n",
        "image_x                     float64\n",
        "image_y                     float64\n",
        "radius_1                    float64\n",
        "radius_2                    float64\n",
        "distance                    float64\n",
        "angle                       float64\n",
        "spread                      float64\n",
        "dtype: object"
       ]
      }
     ],
     "prompt_number": 19
    },
    {
     "cell_type": "markdown",
     "metadata": {},
     "source": [
      "I will make myself a shortcut 'ts' (timeseries) to the dates."
     ]
    },
    {
     "cell_type": "code",
     "collapsed": false,
     "input": [
      "ts = df.acquisition_date\n",
      "ts.head()"
     ],
     "language": "python",
     "metadata": {},
     "outputs": [
      {
       "metadata": {},
       "output_type": "pyout",
       "prompt_number": 20,
       "text": [
        "0   2009-03-09 00:00:00\n",
        "1   2009-01-12 00:00:00\n",
        "2   2009-02-22 00:00:00\n",
        "3   2009-02-22 00:00:00\n",
        "4   2011-03-13 00:00:00\n",
        "Name: acquisition_date, dtype: datetime64[ns]"
       ]
      }
     ],
     "prompt_number": 20
    },
    {
     "cell_type": "markdown",
     "metadata": {},
     "source": [
      "Here I create a DatetimeIndex out of the time data, just because pandas has some built-in convenient access members for DatetimeIndices."
     ]
    },
    {
     "cell_type": "code",
     "collapsed": false,
     "input": [
      "tindex = pd.DatetimeIndex(ts)\n",
      "tindex"
     ],
     "language": "python",
     "metadata": {},
     "outputs": [
      {
       "metadata": {},
       "output_type": "pyout",
       "prompt_number": 21,
       "text": [
        "<class 'pandas.tseries.index.DatetimeIndex'>\n",
        "[2009-03-09 00:00:00, ..., 2007-06-14 00:00:00]\n",
        "Length: 10368621, Freq: None, Timezone: None"
       ]
      }
     ],
     "prompt_number": 21
    },
    {
     "cell_type": "markdown",
     "metadata": {},
     "source": [
      "Adding a 'year' column as provided by the tindex."
     ]
    },
    {
     "cell_type": "code",
     "collapsed": false,
     "input": [
      "df['year'] = tindex.year"
     ],
     "language": "python",
     "metadata": {},
     "outputs": [],
     "prompt_number": 22
    },
    {
     "cell_type": "markdown",
     "metadata": {},
     "source": [
      "Here's how the data distributes between the acquisition years."
     ]
    },
    {
     "cell_type": "code",
     "collapsed": false,
     "input": [
      "df.year.value_counts().sort_index()"
     ],
     "language": "python",
     "metadata": {},
     "outputs": [
      {
       "metadata": {},
       "output_type": "pyout",
       "prompt_number": 23,
       "text": [
        "2006       3519\n",
        "2007     698544\n",
        "2008     258302\n",
        "2009    5617723\n",
        "2010    1362799\n",
        "2011    2427734\n",
        "dtype: int64"
       ]
      }
     ],
     "prompt_number": 23
    },
    {
     "cell_type": "markdown",
     "metadata": {},
     "source": [
      "Now I make a little function with the code I used above to create the counts of classification_ids per image_id."
     ]
    },
    {
     "cell_type": "code",
     "collapsed": false,
     "input": [
      "def get_counts_per_classification_id(df):\n",
      "    grouping = df.classification_id.groupby(df.image_id, sort=False)\n",
      "    counts = grouping.agg(lambda x: x.unique().size)\n",
      "    return counts.order(ascending=False)"
     ],
     "language": "python",
     "metadata": {},
     "outputs": [],
     "prompt_number": 24
    },
    {
     "cell_type": "markdown",
     "metadata": {},
     "source": [
      "In the following code I not only check for the different years, but also the influence on the demanded limit of counts to define a subframe as 'finished'.\n",
      "\n",
      "To collect the data I create an empty dataframe with an index ranging through the different limits I want to check (i.e. `range(50,101,10)`)"
     ]
    },
    {
     "cell_type": "code",
     "collapsed": true,
     "input": [
      "import sys\n",
      "from collections import OrderedDict\n",
      "years = df.year.unique()\n",
      "years.sort()\n",
      "results = pd.DataFrame(index=range(50,101,10))\n",
      "for year in years:\n",
      "    print year\n",
      "    sys.stdout.flush() # to force a print out of the std buffer\n",
      "    subdf = df[df.year == year]\n",
      "    counts = get_counts_per_classification_id(subdf)\n",
      "    values = OrderedDict()\n",
      "    for limit in results.index:\n",
      "        no_done = counts[counts >= limit].size\n",
      "        values[limit] = np.round(100.0 * no_done / no_all, 1)\n",
      "    results[year] = values.values()"
     ],
     "language": "python",
     "metadata": {},
     "outputs": [
      {
       "output_type": "stream",
       "stream": "stdout",
       "text": [
        "2006\n"
       ]
      },
      {
       "output_type": "stream",
       "stream": "stdout",
       "text": [
        "2007\n"
       ]
      },
      {
       "output_type": "stream",
       "stream": "stdout",
       "text": [
        "2008\n"
       ]
      },
      {
       "output_type": "stream",
       "stream": "stdout",
       "text": [
        "2009\n"
       ]
      },
      {
       "output_type": "stream",
       "stream": "stdout",
       "text": [
        "2010\n"
       ]
      },
      {
       "output_type": "stream",
       "stream": "stdout",
       "text": [
        "2011\n"
       ]
      }
     ],
     "prompt_number": 25
    },
    {
     "cell_type": "code",
     "collapsed": false,
     "input": [
      "results"
     ],
     "language": "python",
     "metadata": {},
     "outputs": [
      {
       "html": [
        "<div style=\"max-height:1000px;max-width:1500px;overflow:auto;\">\n",
        "<table border=\"1\" class=\"dataframe\">\n",
        "  <thead>\n",
        "    <tr style=\"text-align: right;\">\n",
        "      <th></th>\n",
        "      <th>2006</th>\n",
        "      <th>2007</th>\n",
        "      <th>2008</th>\n",
        "      <th>2009</th>\n",
        "      <th>2010</th>\n",
        "      <th>2011</th>\n",
        "    </tr>\n",
        "  </thead>\n",
        "  <tbody>\n",
        "    <tr>\n",
        "      <th>50 </th>\n",
        "      <td> 0</td>\n",
        "      <td> 0</td>\n",
        "      <td> 0.6</td>\n",
        "      <td> 18.9</td>\n",
        "      <td> 5.5</td>\n",
        "      <td> 10.2</td>\n",
        "    </tr>\n",
        "    <tr>\n",
        "      <th>60 </th>\n",
        "      <td> 0</td>\n",
        "      <td> 0</td>\n",
        "      <td> 0.5</td>\n",
        "      <td> 17.0</td>\n",
        "      <td> 5.0</td>\n",
        "      <td>  9.2</td>\n",
        "    </tr>\n",
        "    <tr>\n",
        "      <th>70 </th>\n",
        "      <td> 0</td>\n",
        "      <td> 0</td>\n",
        "      <td> 0.5</td>\n",
        "      <td> 15.8</td>\n",
        "      <td> 4.6</td>\n",
        "      <td>  8.5</td>\n",
        "    </tr>\n",
        "    <tr>\n",
        "      <th>80 </th>\n",
        "      <td> 0</td>\n",
        "      <td> 0</td>\n",
        "      <td> 0.4</td>\n",
        "      <td> 13.8</td>\n",
        "      <td> 4.1</td>\n",
        "      <td>  7.6</td>\n",
        "    </tr>\n",
        "    <tr>\n",
        "      <th>90 </th>\n",
        "      <td> 0</td>\n",
        "      <td> 0</td>\n",
        "      <td> 0.3</td>\n",
        "      <td> 11.0</td>\n",
        "      <td> 3.3</td>\n",
        "      <td>  6.0</td>\n",
        "    </tr>\n",
        "    <tr>\n",
        "      <th>100</th>\n",
        "      <td> 0</td>\n",
        "      <td> 0</td>\n",
        "      <td> 0.3</td>\n",
        "      <td>  8.9</td>\n",
        "      <td> 2.7</td>\n",
        "      <td>  4.9</td>\n",
        "    </tr>\n",
        "  </tbody>\n",
        "</table>\n",
        "<p>6 rows \u00d7 6 columns</p>\n",
        "</div>"
       ],
       "metadata": {},
       "output_type": "pyout",
       "prompt_number": 26,
       "text": [
        "     2006  2007  2008  2009  2010  2011\n",
        "50      0     0   0.6  18.9   5.5  10.2\n",
        "60      0     0   0.5  17.0   5.0   9.2\n",
        "70      0     0   0.5  15.8   4.6   8.5\n",
        "80      0     0   0.4  13.8   4.1   7.6\n",
        "90      0     0   0.3  11.0   3.3   6.0\n",
        "100     0     0   0.3   8.9   2.7   4.9\n",
        "\n",
        "[6 rows x 6 columns]"
       ]
      }
     ],
     "prompt_number": 26
    },
    {
     "cell_type": "markdown",
     "metadata": {},
     "source": [
      "> This looks like a very low finishing status of our dataset. Can it really be that low? Hopefully I did something wrong in parsing the mongo database, or in here. Please let me know ASAP if you find some flaw in my argument or if you have other results doing the same.\n",
      "\n",
      "Just to confirm the equivalence to the above result for all the data, with something around 16.7 % I print the sum along the y-axis:"
     ]
    },
    {
     "cell_type": "code",
     "collapsed": false,
     "input": [
      "results.sum(axis=1)"
     ],
     "language": "python",
     "metadata": {},
     "outputs": [
      {
       "metadata": {},
       "output_type": "pyout",
       "prompt_number": 27,
       "text": [
        "50     35.2\n",
        "60     31.7\n",
        "70     29.4\n",
        "80     25.9\n",
        "90     20.6\n",
        "100    16.8\n",
        "dtype: float64"
       ]
      }
     ],
     "prompt_number": 27
    },
    {
     "cell_type": "markdown",
     "metadata": {},
     "source": [
      "## Group by user_name instead of classification_id (Problem!?)\n",
      "\n",
      "I realised that user_ids should provide just the same access to the performed counts, because each classification_id should have exactly one user_id, as they are created when that user clicks on *Submit*, right? \n",
      "At least that's how I understood it.\n",
      "\n",
      "So imagine my surprise when I found out it isn't the same answer. And unfortunately it looks like we have to reduce our dataset even further by apparent multiple submissions of the same classification, but let's see.\n",
      "\n",
      "First, create the respective function to determine counts via the user_name instead of classification_id after grouping for image_id.\n",
      "This first grouping by image_id is the essential step for the determination how often a particular image_id has been worked on, so that doesn't change."
     ]
    },
    {
     "cell_type": "code",
     "collapsed": false,
     "input": [
      "def get_counts_per_user_name(df):\n",
      "    grouping = df.user_name.groupby(df.image_id, sort=False)\n",
      "    counts = grouping.agg(lambda x: x.unique().size)\n",
      "    counts = counts.order(ascending=False)\n",
      "    return counts"
     ],
     "language": "python",
     "metadata": {},
     "outputs": [],
     "prompt_number": 28
    },
    {
     "cell_type": "code",
     "collapsed": false,
     "input": [
      "counts_by_user = get_counts_per_user_name(df)\n",
      "counts_by_user"
     ],
     "language": "python",
     "metadata": {},
     "outputs": [
      {
       "metadata": {},
       "output_type": "pyout",
       "prompt_number": 29,
       "text": [
        "image_id\n",
        "APF0000dho    167\n",
        "APF00009b0    167\n",
        "APF0000g4k    166\n",
        "APF0000v4c    164\n",
        "APF000094l    160\n",
        "APF0000442    159\n",
        "APF0000qvy    159\n",
        "APF00008ze    159\n",
        "...\n",
        "APF0001hua    1\n",
        "APF00023li    1\n",
        "APF0001ygz    1\n",
        "APF0001u3e    1\n",
        "APF0001ubh    1\n",
        "APF0001or7    1\n",
        "APF0001132    1\n",
        "APF0001sgk    1\n",
        "Length: 96913, dtype: int64"
       ]
      }
     ],
     "prompt_number": 29
    },
    {
     "cell_type": "markdown",
     "metadata": {},
     "source": [
      "Compare that again to the output for classifying per classification_id:"
     ]
    },
    {
     "cell_type": "code",
     "collapsed": false,
     "input": [
      "counts_by_class = get_counts_per_classification_id(df)\n",
      "counts_by_class"
     ],
     "language": "python",
     "metadata": {},
     "outputs": [
      {
       "metadata": {},
       "output_type": "pyout",
       "prompt_number": 30,
       "text": [
        "image_id\n",
        "APF0000jp7    180\n",
        "APF0000fpt    180\n",
        "APF0000dho    175\n",
        "APF0000syu    175\n",
        "APF00002b2    174\n",
        "APF0000mys    173\n",
        "APF0000wyr    173\n",
        "APF0000fmn    172\n",
        "...\n",
        "APF0001hua    1\n",
        "APF00023li    1\n",
        "APF0001ygz    1\n",
        "APF0001u3e    1\n",
        "APF0001ubh    1\n",
        "APF0001or7    1\n",
        "APF0001132    1\n",
        "APF0001sgk    1\n",
        "Length: 96913, dtype: int64"
       ]
      }
     ],
     "prompt_number": 30
    },
    {
     "cell_type": "markdown",
     "metadata": {},
     "source": [
      "So, _not_ the same result! Let's dig deeper.\n",
      "\n",
      "### The subframe known as jp7\n",
      "Focus on one image_id and study what is happening there. I first get a sub-table for the subframe 'jp7' and determine the user_names that worked on that subframe.\n",
      "\n",
      "Then I loop over the names, filtering another sub-part of the table where the current user worked on jp7. \n",
      "According to the hypothesis that a classification_id is created for a user at submisssion time and the idea that a user should not see an image twice, there should only be one classification_id in that sub-part.\n",
      "\n",
      "I am testing that by checking if the unique list of classification_ids has a length $>1$. If it does, I print out the user_name."
     ]
    },
    {
     "cell_type": "code",
     "collapsed": false,
     "input": [
      "jp7 = df[df.image_id == 'APF0000jp7']\n",
      "unique_users = jp7.user_name.unique()\n",
      "# having the list of users that worked on jp7\n",
      "for user in unique_users:\n",
      "    subdf = jp7[jp7.user_name == user]\n",
      "    if len(subdf.classification_id.unique()) > 1:\n",
      "        print user, len(subdf)"
     ],
     "language": "python",
     "metadata": {},
     "outputs": [
      {
       "output_type": "stream",
       "stream": "stdout",
       "text": [
        "not-logged-in-8d495c463aeffd67c08b2dfc1141f33b 2\n",
        "not-logged-in-cdc098d2cb26af701a83fbc207cfedb3 26\n",
        "johnduckett 4\n",
        "not-logged-in-50f5e5866dc8f20c868315c472fcf111 4\n"
       ]
      }
     ],
     "prompt_number": 31
    },
    {
     "cell_type": "markdown",
     "metadata": {},
     "source": [
      "Ok, so let's have a look at the data for the first user_name for the subframe jp7"
     ]
    },
    {
     "cell_type": "code",
     "collapsed": false,
     "input": [
      "jp7[jp7.user_name == 'not-logged-in-8d495c463aeffd67c08b2dfc1141f33b']"
     ],
     "language": "python",
     "metadata": {},
     "outputs": [
      {
       "html": [
        "<div style=\"max-height:1000px;max-width:1500px;overflow:auto;\">\n",
        "<table border=\"1\" class=\"dataframe\">\n",
        "  <thead>\n",
        "    <tr style=\"text-align: right;\">\n",
        "      <th></th>\n",
        "      <th>classification_id</th>\n",
        "      <th>created_at</th>\n",
        "      <th>image_id</th>\n",
        "      <th>image_name</th>\n",
        "      <th>image_url</th>\n",
        "      <th>user_name</th>\n",
        "      <th>marking</th>\n",
        "      <th>x_tile</th>\n",
        "      <th>y_tile</th>\n",
        "      <th>acquisition_date</th>\n",
        "      <th>local_mars_time</th>\n",
        "      <th>x</th>\n",
        "      <th>y</th>\n",
        "      <th>image_x</th>\n",
        "      <th>image_y</th>\n",
        "      <th>radius_1</th>\n",
        "      <th>radius_2</th>\n",
        "      <th>distance</th>\n",
        "      <th>angle</th>\n",
        "      <th>spread</th>\n",
        "      <th></th>\n",
        "    </tr>\n",
        "  </thead>\n",
        "  <tbody>\n",
        "    <tr>\n",
        "      <th>98893 </th>\n",
        "      <td> 50ec8c23861cf81740000018</td>\n",
        "      <td>2013-01-08 21:14:11</td>\n",
        "      <td> APF0000jp7</td>\n",
        "      <td> ESP_021684_0985</td>\n",
        "      <td> http://www.planetfour.org/subjects/standard/50...</td>\n",
        "      <td> not-logged-in-8d495c463aeffd67c08b2dfc1141f33b</td>\n",
        "      <td> interesting</td>\n",
        "      <td> 3</td>\n",
        "      <td> 101</td>\n",
        "      <td>2011-03-13 00:00:00</td>\n",
        "      <td> 4:08 PM</td>\n",
        "      <td> 629.5</td>\n",
        "      <td> 119</td>\n",
        "      <td> 2109.5</td>\n",
        "      <td> 54919</td>\n",
        "      <td>NaN</td>\n",
        "      <td>NaN</td>\n",
        "      <td>NaN</td>\n",
        "      <td>NaN</td>\n",
        "      <td>NaN</td>\n",
        "      <td>...</td>\n",
        "    </tr>\n",
        "    <tr>\n",
        "      <th>100329</th>\n",
        "      <td> 50ec8c5860d4051848000012</td>\n",
        "      <td>2013-01-08 21:15:04</td>\n",
        "      <td> APF0000jp7</td>\n",
        "      <td> ESP_021684_0985</td>\n",
        "      <td> http://www.planetfour.org/subjects/standard/50...</td>\n",
        "      <td> not-logged-in-8d495c463aeffd67c08b2dfc1141f33b</td>\n",
        "      <td> interesting</td>\n",
        "      <td> 3</td>\n",
        "      <td> 101</td>\n",
        "      <td>2011-03-13 00:00:00</td>\n",
        "      <td> 4:08 PM</td>\n",
        "      <td> 629.5</td>\n",
        "      <td> 119</td>\n",
        "      <td> 2109.5</td>\n",
        "      <td> 54919</td>\n",
        "      <td>NaN</td>\n",
        "      <td>NaN</td>\n",
        "      <td>NaN</td>\n",
        "      <td>NaN</td>\n",
        "      <td>NaN</td>\n",
        "      <td>...</td>\n",
        "    </tr>\n",
        "  </tbody>\n",
        "</table>\n",
        "<p>2 rows \u00d7 21 columns</p>\n",
        "</div>"
       ],
       "metadata": {},
       "output_type": "pyout",
       "prompt_number": 32,
       "text": [
        "               classification_id          created_at    image_id  \\\n",
        "98893   50ec8c23861cf81740000018 2013-01-08 21:14:11  APF0000jp7   \n",
        "100329  50ec8c5860d4051848000012 2013-01-08 21:15:04  APF0000jp7   \n",
        "\n",
        "             image_name                                          image_url  \\\n",
        "98893   ESP_021684_0985  http://www.planetfour.org/subjects/standard/50...   \n",
        "100329  ESP_021684_0985  http://www.planetfour.org/subjects/standard/50...   \n",
        "\n",
        "                                             user_name      marking  x_tile  \\\n",
        "98893   not-logged-in-8d495c463aeffd67c08b2dfc1141f33b  interesting       3   \n",
        "100329  not-logged-in-8d495c463aeffd67c08b2dfc1141f33b  interesting       3   \n",
        "\n",
        "        y_tile    acquisition_date local_mars_time      x    y  image_x  \\\n",
        "98893      101 2011-03-13 00:00:00         4:08 PM  629.5  119   2109.5   \n",
        "100329     101 2011-03-13 00:00:00         4:08 PM  629.5  119   2109.5   \n",
        "\n",
        "        image_y  radius_1  radius_2  distance  angle  spread      \n",
        "98893     54919       NaN       NaN       NaN    NaN     NaN ...  \n",
        "100329    54919       NaN       NaN       NaN    NaN     NaN ...  \n",
        "\n",
        "[2 rows x 21 columns]"
       ]
      }
     ],
     "prompt_number": 32
    },
    {
     "cell_type": "markdown",
     "metadata": {},
     "source": [
      "First note that the creation time of these 2 different classifications is different, so it looks like this user has seen the jp7 subframe more than once.\n",
      "\n",
      "But then when you scroll this html table to the right, you will notice that the submitted object has the exact same coordinates in both classifications? \n",
      "How likely is it, that the user finds the exact same coordinates in less than 60 seconds?\n",
      "\n",
      "So the question is, is this really a new classification and the user has done it twice? Or was the same thing submitted twice? Hopefully Meg knows the answer to that."
     ]
    },
    {
     "cell_type": "markdown",
     "metadata": {},
     "source": [
      "## Some instructive plots\n",
      "\n",
      "### Plot over required constraint\n",
      "\n",
      "I found it instructive to look at how the status of finished data depends on the limit we put on the reached counts per image_id (i.e. subframe).\n",
      "\n",
      "Also, how does it change when looking for unique user_names per image_id instead of unique classification_ids."
     ]
    },
    {
     "cell_type": "code",
     "collapsed": false,
     "input": [
      "x = range(1,101)\n",
      "per_class = []\n",
      "per_user = []\n",
      "for val in x:\n",
      "    per_class.append(100 * counts_by_class[counts_by_class >= val].size/float(no_all))\n",
      "    per_user.append(100 * counts_by_user[counts_by_user >= val].size/float(no_all))"
     ],
     "language": "python",
     "metadata": {},
     "outputs": [],
     "prompt_number": 33
    },
    {
     "cell_type": "code",
     "collapsed": false,
     "input": [
      "plot(x,per_class)\n",
      "plot(x, per_user)\n",
      "xlabel('Counts constraint for _finished_ criterium')\n",
      "ylabel('Current percent finished [%]')"
     ],
     "language": "python",
     "metadata": {},
     "outputs": [
      {
       "metadata": {},
       "output_type": "pyout",
       "prompt_number": 34,
       "text": [
        "<matplotlib.text.Text at 0x27caad490>"
       ]
      },
      {
       "metadata": {},
       "output_type": "display_data",
       "png": "[encoded data removed]",
       "text": [
        "<matplotlib.figure.Figure at 0x27cabba90>"
       ]
      }
     ],
     "prompt_number": 34
    },
    {
     "cell_type": "markdown",
     "metadata": {},
     "source": [
      "Ok, so not that big a deal until we require more than 80 classifications to be done.\n",
      "\n",
      "### How do the different existing user counts distribute\n",
      "\n",
      "The method 'value_counts()' basically delivers a histogram on the counts_by_user data series.\n",
      "In other words, it shows how the frequency of classifications distribute over the dataset. It shows an to be expected peak close to 100, because that's what we are aiming now and the system does _today_ not anymore show a subframe that has been seen 100 times.\n",
      "\n",
      "But it also shows quite some _waste_ in citizen power from all the counts that went for counts > 100."
     ]
    },
    {
     "cell_type": "code",
     "collapsed": false,
     "input": [
      "counts_by_user.value_counts()"
     ],
     "language": "python",
     "metadata": {},
     "outputs": [
      {
       "metadata": {},
       "output_type": "pyout",
       "prompt_number": 35,
       "text": [
        "3    7880\n",
        "4    7643\n",
        "2    7026\n",
        "5    6964\n",
        "6    5939\n",
        "1    5131\n",
        "7    4549\n",
        "8    3414\n",
        "...\n",
        "158    4\n",
        "156    3\n",
        "157    3\n",
        "159    3\n",
        "167    2\n",
        "166    1\n",
        "164    1\n",
        "160    1\n",
        "Length: 163, dtype: int64"
       ]
      }
     ],
     "prompt_number": 35
    },
    {
     "cell_type": "code",
     "collapsed": false,
     "input": [
      "counts_by_user.value_counts().plot(style='*')"
     ],
     "language": "python",
     "metadata": {},
     "outputs": [
      {
       "metadata": {},
       "output_type": "pyout",
       "prompt_number": 36,
       "text": [
        "<matplotlib.axes.AxesSubplot at 0x126998910>"
       ]
      },
      {
       "metadata": {},
       "output_type": "display_data",
       "png": "[encoded data removed]",
       "text": [
        "<matplotlib.figure.Figure at 0x12699cfd0>"
       ]
      }
     ],
     "prompt_number": 36
    },
    {
     "cell_type": "code",
     "collapsed": false,
     "input": [],
     "language": "python",
     "metadata": {},
     "outputs": [],
     "prompt_number": 36
    }
   ],
   "metadata": {}
  }
 ]
}