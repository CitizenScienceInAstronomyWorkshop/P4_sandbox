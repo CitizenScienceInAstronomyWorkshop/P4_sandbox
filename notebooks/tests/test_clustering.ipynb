{
 "cells": [
  {
   "cell_type": "code",
   "execution_count": 0,
   "metadata": {
    "collapsed": false
   },
   "outputs": [],
   "source": [
    "# setup\n",
    "import planet4 as p4\n",
    "import pandas as pd\n",
    "from pathlib import Path\n",
    "datapath = Path(p4.__path__[0]) / 'data'\n",
    "\n",
    "from planet4 import clustering, markings, io\n",
    "data = {'x':[210,211,212], 'y':[100,102, 104], 'image_x':[10010,10011,10012], \n",
    "        'image_y':[20000,20002,20004],\n",
    "        'angle':[34, 37,48], 'radius_1':[20,21,19], 'radius_2':[50,51,52]}\n",
    "three_blotches_data = pd.DataFrame(data)\n",
    "blotch = markings.Blotch(three_blotches_data.iloc[0])\n",
    "\n",
    "import warnings\n",
    "\n",
    "with warnings.catch_warnings():\n",
    "    warnings.filterwarnings(\"ignore\",category=DeprecationWarning)"
   ]
  },
  {
   "cell_type": "code",
   "execution_count": 0,
   "metadata": {
    "collapsed": false
   },
   "outputs": [],
   "source": [
    "# test_calc_fnotch\n",
    "actual = clustering.calc_fnotch(4, 4)\n",
    "assert actual == 0.5\n",
    "actual = clustering.calc_fnotch(4, 0)\n",
    "assert actual == 1\n",
    "actual = clustering.calc_fnotch(0, 4)\n",
    "assert actual == 0"
   ]
  },
  {
   "cell_type": "code",
   "execution_count": 0,
   "metadata": {
    "collapsed": false
   },
   "outputs": [],
   "source": [
    "# test_dbscan_xy\n",
    "\n",
    "# using only x and y (or image_x,image_y)\n",
    "coords = ['image_x','image_y']\n",
    "X = three_blotches_data[coords].values\n",
    "dbscanner = clustering.DBScanner(X, min_samples=2)\n",
    "\n",
    "assert dbscanner.reduced_data == [[0, 1, 2]]\n",
    "assert dbscanner.n_rejected == 0"
   ]
  },
  {
   "cell_type": "code",
   "execution_count": 0,
   "metadata": {
    "collapsed": false
   },
   "outputs": [],
   "source": [
    "coords = ['image_x','image_y', 'angle']\n",
    "X = three_blotches_data[coords].values\n",
    "dbscanner = clustering.DBScanner(X, min_samples=2)\n",
    "\n",
    "assert dbscanner.reduced_data == [[0, 1]]\n",
    "assert dbscanner.n_rejected == 1"
   ]
  },
  {
   "cell_type": "markdown",
   "metadata": {
    "collapsed": false,
    "scrolled": true
   },
   "source": [
    "# test_simple_blotch_clustering\n",
    "dbscanner = clustering.DBScanner(three_blotches_data)\n",
    "cdata = dbscanner.reduced_data[0].data\n",
    "assert cdata.x == 10001\n",
    "assert cdata.y == 20001\n",
    "assert cdata.angle == 37\n",
    "assert cdata.radius_1 == 20\n",
    "assert cdata.radius_2 == 51"
   ]
  },
  {
   "cell_type": "code",
   "execution_count": 0,
   "metadata": {
    "collapsed": false
   },
   "outputs": [],
   "source": [
    "dbscanner.reduced_data"
   ]
  },
  {
   "cell_type": "code",
   "execution_count": 0,
   "metadata": {
    "collapsed": false
   },
   "outputs": [],
   "source": [
    "p4id = markings.example_p4id()"
   ]
  },
  {
   "cell_type": "code",
   "execution_count": 0,
   "metadata": {
    "collapsed": false,
    "scrolled": false
   },
   "outputs": [],
   "source": [
    "for eps in range(10,16):\n",
    "    cm = clustering.ClusteringManager(scope='planet4', eps=eps)\n",
    "    cm.cluster_image_id(p4id.imgid)\n",
    "    print(cm.confusion_data)"
   ]
  },
  {
   "cell_type": "markdown",
   "metadata": {},
   "source": [
    "# Testing test database"
   ]
  },
  {
   "cell_type": "code",
   "execution_count": 0,
   "metadata": {
    "collapsed": false
   },
   "outputs": [],
   "source": [
    "data = pd.read_csv(datapath / 'test_db.csv')"
   ]
  },
  {
   "cell_type": "code",
   "execution_count": 0,
   "metadata": {
    "collapsed": false
   },
   "outputs": [],
   "source": [
    "data.image_id.value_counts()"
   ]
  },
  {
   "cell_type": "code",
   "execution_count": 0,
   "metadata": {
    "collapsed": true
   },
   "outputs": [],
   "source": [
    "imid1 = 'APF000012w'\n",
    "imid2 = 'APF000012q'\n",
    "imid1data = data[data.image_id==imid1]\n",
    "imid2data = data[data.image_id==imid2]"
   ]
  },
  {
   "cell_type": "code",
   "execution_count": 0,
   "metadata": {
    "collapsed": false
   },
   "outputs": [],
   "source": [
    "outputdir = Path('/Users/klay6683/Dropbox/data/planet4/test_clustering')\n",
    "cm = clustering.ClusteringManager(fnotched_dir=outputdir)"
   ]
  },
  {
   "cell_type": "code",
   "execution_count": 0,
   "metadata": {
    "collapsed": false
   },
   "outputs": [],
   "source": [
    "cm.cluster_image_id(imid1, data=imid1data)"
   ]
  },
  {
   "cell_type": "code",
   "execution_count": 0,
   "metadata": {
    "collapsed": true
   },
   "outputs": [],
   "source": [
    "imgid = markings.ImageID(imid1, data=imid1data)"
   ]
  },
  {
   "cell_type": "code",
   "execution_count": 0,
   "metadata": {
    "collapsed": true
   },
   "outputs": [],
   "source": [
    "%matplotlib nbagg"
   ]
  },
  {
   "cell_type": "code",
   "execution_count": 0,
   "metadata": {
    "collapsed": false,
    "scrolled": true
   },
   "outputs": [],
   "source": [
    "fans = markings.FanContainer.from_fname(str(cm.finalfanfname))"
   ]
  },
  {
   "cell_type": "code",
   "execution_count": 0,
   "metadata": {
    "collapsed": false
   },
   "outputs": [],
   "source": [
    "imgid = markings.ImageID(imid1, data=imid1data)\n",
    "just_clustered_fans = cm.output_dir_clustered / cm.pm.fanfile.name\n",
    "just_clustered_blotches = cm.output_dir_clustered / cm.pm.blotchfile.name\n",
    "\n",
    "fans = markings.FanContainer.from_fname(just_clustered_fans)\n",
    "blotches = markings.BlotchContainer.from_fname(just_clustered_blotches)\n",
    "\n",
    "finalfans = markings.FanContainer.from_fname(cm.finalfanfname)\n",
    "finalblotches = markings.BlotchContainer.from_fname(cm.finalblotchfname)\n",
    "\n",
    "fig, axes = plt.subplots(nrows=2, ncols=3, figsize=(10, 5))\n",
    "axes = axes.ravel()\n",
    "for ax in axes:\n",
    "    imgid.show_subframe(ax=ax)\n",
    "imgid.plot_fans(ax=axes[1])\n",
    "imgid.plot_blotches(ax=axes[2])\n",
    "imgid.plot_fans(ax=axes[4], fans=fans.content)\n",
    "imgid.plot_blotches(ax=axes[5], blotches=blotches.content)\n",
    "imgid.plot_fans(ax=axes[3], fans=finalfans.content)\n",
    "imgid.plot_blotches(ax=axes[3], blotches=finalblotches.content)\n",
    "plt.subplots_adjust(wspace=5e-3, hspace=5e-3)\n",
    "for ax in axes:\n",
    "    ax.set_axis_off()\n"
   ]
  },
  {
   "cell_type": "code",
   "execution_count": 0,
   "metadata": {
    "collapsed": true
   },
   "outputs": [],
   "source": []
  }
 ],
 "metadata": {
  "kernelspec": {
   "display_name": "Python 3",
   "language": "python",
   "name": "python3"
  },
  "language_info": {
   "codemirror_mode": {
    "name": "ipython",
    "version": 3
   },
   "file_extension": ".py",
   "mimetype": "text/x-python",
   "name": "python",
   "nbconvert_exporter": "python",
   "pygments_lexer": "ipython3",
   "version": "3.5.1"
  }
 },
 "nbformat": 4,
 "nbformat_minor": 0
}