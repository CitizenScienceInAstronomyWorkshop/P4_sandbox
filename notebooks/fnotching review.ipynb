{
 "cells": [
  {
   "cell_type": "markdown",
   "metadata": {
    "toc": "true"
   },
   "source": [
    "<h1>Table of Contents<span class=\"tocSkip\"></span></h1>\n",
    "<div class=\"toc\" style=\"margin-top: 1em;\"><ul class=\"toc-item\"></ul></div>"
   ]
  },
  {
   "cell_type": "code",
   "execution_count": null,
   "metadata": {},
   "outputs": [],
   "source": [
    "from planet4 import io, markings, plotting"
   ]
  },
  {
   "cell_type": "code",
   "execution_count": null,
   "metadata": {},
   "outputs": [],
   "source": [
    "%matplotlib inline"
   ]
  },
  {
   "cell_type": "code",
   "execution_count": null,
   "metadata": {},
   "outputs": [],
   "source": [
    "image_id = 'APF0000gpu'\n",
    "datapath = 'gold_comparison'\n",
    "# datapath = \"gold_per_obsid\"\n",
    "datapath = 'catalog_1.0b2'"
   ]
  },
  {
   "cell_type": "code",
   "execution_count": null,
   "metadata": {},
   "outputs": [],
   "source": [
    "plotting.plot_finals(image_id, datapath=datapath)"
   ]
  },
  {
   "cell_type": "code",
   "execution_count": null,
   "metadata": {},
   "outputs": [],
   "source": [
    "datapath = \"gold_per_imageid\"\n",
    "datapath = \"gold_per_obsid\""
   ]
  },
  {
   "cell_type": "code",
   "execution_count": null,
   "metadata": {},
   "outputs": [],
   "source": [
    "from planet4.catalog_production import do_cluster_ids\n",
    "from planet4 import projection\n",
    "from planet4.projection import img_x_size, img_y_size\n",
    "import seaborn as sns\n",
    "\n",
    "class FNOTCH_REVIEWER:\n",
    "    def __init__(self, image_id, datapath, via_obsid, plot_folder=''):\n",
    "        self.image_id = io.check_and_pad_id(image_id)\n",
    "        self.datapath = datapath\n",
    "        self.via_obsid = via_obsid\n",
    "        self.p4id = markings.ImageID(image_id)\n",
    "        self.image_name = self.p4id.image_name\n",
    "        self.plot_folder = plot_folder\n",
    "        if via_obsid:\n",
    "            self.pm = io.PathManager(obsid=self.p4id.image_name,\n",
    "                                     datapath=datapath)\n",
    "        else:\n",
    "            self.pm = io.PathManager(image_id, datapath=datapath)\n",
    "        self.db = io.DBManager()\n",
    "        self.image_ids = []\n",
    "        self.obsid_data = self.db.get_image_name_markings(self.p4id.image_name)\n",
    "        self.check_data_exists()\n",
    "        \n",
    "    def check_data_exists(self):\n",
    "        if self.via_obsid is True:\n",
    "            # All should be there in via_obsid productions.\n",
    "            return\n",
    "        for dx in [-1, 0, 1]:\n",
    "            for dy in [-1, 0, 1]:\n",
    "                image_id = self.get_other_image_id(dx, dy)\n",
    "                if image_id is not None:\n",
    "                    if not self.pm.clustering_logfile.exists():\n",
    "                        print(\"clustering\", image_id)\n",
    "                        print(self.pm.fanfile)\n",
    "                        print(self.pm.blotchfile)\n",
    "                        do_cluster_ids(image_id, savedir=self.datapath,\n",
    "                                       do_obsid=self.via_obsid)\n",
    "                    \n",
    "    @property\n",
    "    def tile_coords(self):\n",
    "        return self.p4id.tile_coords\n",
    "    \n",
    "    def get_other_image_id(self, dx, dy):\n",
    "        coords = self.p4id.tile_coords\n",
    "        data = self.obsid_data.query(\n",
    "            \"x_tile==@coords[0]+@dx and y_tile==@coords[1]+@dy\")\n",
    "        try:\n",
    "            return data.image_id.iloc[0]\n",
    "        except IndexError:\n",
    "            return None\n",
    "                \n",
    "    @property\n",
    "    def savename(self):\n",
    "        d = Path('plots') / self.plot_folder\n",
    "        Path(d).mkdir(exist_ok=True)\n",
    "        return f\"{d}/{self.image_id}_tiles_separate.png\"\n",
    "    \n",
    "    def plot(self):\n",
    "        fig, axes = plt.subplots(nrows=3, ncols=3, figsize=(10,8),\n",
    "                                 sharex=True, sharey=True)\n",
    "        self.axes = axes\n",
    "        plotting.plot_finals(self.image_id, datapath=self.datapath,\n",
    "                             ax=axes[1][1],\n",
    "                             via_obsid=self.via_obsid)\n",
    "        axes[1][1].set_title(self.image_id)\n",
    "        x = 1\n",
    "        y = 1\n",
    "        for dx in [-1, 0, 1]:\n",
    "            for dy in [-1, 0, 1]:\n",
    "                image_id = self.get_other_image_id(dx, dy)\n",
    "                if image_id is not None:\n",
    "                    ax = axes[x+dy][y+dx]\n",
    "                    plotting.plot_finals(image_id, datapath=self.datapath,\n",
    "                                         ax=ax, via_obsid=self.via_obsid)\n",
    "                    ax.set_title(f\"{image_id}, {self.tile_coords[0]+dx}, {self.tile_coords[1]+dy}\")\n",
    "        fig.tight_layout()\n",
    "        fig.subplots_adjust(top=0.91)\n",
    "        t = \"Fnotching \"\n",
    "        t = t+\"via obsid\" if self.via_obsid else t+\"via image_id\"\n",
    "        fig.suptitle(t, fontsize=18)\n",
    "        fig.savefig(self.savename, dpi=200)\n",
    "        \n",
    "    def combine_tiles(self):\n",
    "        coords = self.p4id.tile_coords\n",
    "        rows = []\n",
    "        for dx in [-1, 0, 1]:\n",
    "            cols = []\n",
    "            for dy in [-1, 0, 1]:\n",
    "                image_id = self.get_other_image_id(dx, dy)\n",
    "                if image_id is not None:\n",
    "                    self.image_ids.append(image_id)\n",
    "                    cols.append(markings.ImageID(image_id).subframe)\n",
    "            if len(cols) < 2:\n",
    "                continue\n",
    "            combo = np.vstack([cols[0], cols[1][100:]])\n",
    "            if len(cols) > 2:\n",
    "                combo = np.vstack([combo, cols[2][100:]])\n",
    "            rows.append(combo)\n",
    "        all_ = np.hstack([rows[0], rows[1][:, 100:]])\n",
    "        if len(rows) > 2:\n",
    "            all_ = np.hstack([all_, rows[2][:, 100:]])\n",
    "        return all_\n",
    "    \n",
    "    @property\n",
    "    def extent(self):\n",
    "        p4id = markings.ImageID(self.image_ids[0])\n",
    "        UL = projection.xy_to_hirise(0, 0, *p4id.tile_coords)\n",
    "        p4id = markings.ImageID(self.image_ids[-1])\n",
    "        LR = projection.xy_to_hirise(img_x_size, img_y_size, *p4id.tile_coords)\n",
    "        return [UL[0], LR[0], LR[1], UL[1]]\n",
    "    \n",
    "    def plot_all_image(self, all_, ax=None):\n",
    "        if ax is None:\n",
    "            _, ax = plt.subplots(figsize=(len(self.image_ids), 9))\n",
    "        ax.imshow(all_, origin='upper', extent=self.extent, aspect='equal')\n",
    "        return ax\n",
    "    \n",
    "    def plot_all_in_one(self):\n",
    "        all_ = self.combine_tiles()\n",
    "        \n",
    "        ax = self.plot_all_image(all_)\n",
    "        \n",
    "        palette = sns.color_palette(\"bright\", 10)\n",
    "        for id_, c in zip(self.image_ids, palette):\n",
    "            plotting.plot_finals(id_, self.datapath,\n",
    "                                 ax, scope='hirise', via_obsid=True,\n",
    "                                 user_color=c)\n",
    "        extent = self.extent\n",
    "        ax.set_xlim(*extent[:2])\n",
    "        ax.set_ylim(*extent[2:])\n",
    "        for x in range(len(self.image_ids)//3 - 1):\n",
    "            offset = (x + 1) * (markings.img_x_size - 100)\n",
    "            ax.axvline(extent[0]+offset, linestyle='dashed', lw=1)\n",
    "            ax.axvline(extent[0]+offset+100, linestyle='solid', lw=1)\n",
    "            ax.axvline(extent[0]+offset+200, linestyle='dashed', lw=1)\n",
    "        for y in range(3):\n",
    "            offset = (y + 1) * (markings.img_y_size - 100)\n",
    "            ax.axhline(extent[3]+offset, linestyle='dashed', lw=1)\n",
    "            ax.axhline(extent[3]+offset+100, linestyle='solid', lw=1)\n",
    "            ax.axhline(extent[3]+offset+200, linestyle='dashed', lw=1)\n",
    "        t = f\"{len(self.image_ids)} merged tiles around {self.image_id}\"\n",
    "        ax.set_title(t)\n",
    "        savename = Path('plots') / self.plot_folder / f\"{self.image_id}_overlap_merged.png\"\n",
    "        savename.parent.mkdir(exist_ok=True)\n",
    "        plt.gcf().savefig(str(savename), dpi=200)\n",
    "        print(f\"Saved {savename}\")"
   ]
  },
  {
   "cell_type": "code",
   "execution_count": null,
   "metadata": {},
   "outputs": [],
   "source": [
    "datapath"
   ]
  },
  {
   "cell_type": "code",
   "execution_count": null,
   "metadata": {},
   "outputs": [],
   "source": [
    "frev = FNOTCH_REVIEWER('gpu', datapath, via_obsid=True, plot_folder='overlap_merged')"
   ]
  },
  {
   "cell_type": "code",
   "execution_count": null,
   "metadata": {},
   "outputs": [],
   "source": [
    "frev.plot_all_in_one()"
   ]
  },
  {
   "cell_type": "code",
   "execution_count": null,
   "metadata": {},
   "outputs": [],
   "source": [
    "frev.plot()"
   ]
  },
  {
   "cell_type": "code",
   "execution_count": null,
   "metadata": {},
   "outputs": [],
   "source": [
    "plotting.plot_four_tiles_finals(frev.p4id.image_name, datapath, 1, 13)\n",
    "d = 'plots/gold_member_comparisons'\n",
    "plt.gca().set_title('c10, 1, 13')\n",
    "plt.savefig(f\"{d}/fourtiles_c10.png\", dpi=200)"
   ]
  },
  {
   "cell_type": "code",
   "execution_count": null,
   "metadata": {},
   "outputs": [],
   "source": [
    "obsid_data = db.get_image_name_markings('ESP_020930_0980')"
   ]
  },
  {
   "cell_type": "code",
   "execution_count": null,
   "metadata": {},
   "outputs": [],
   "source": [
    "obsid_data = db.get_image_name_markings('ESP_012076_0945')"
   ]
  },
  {
   "cell_type": "code",
   "execution_count": null,
   "metadata": {},
   "outputs": [],
   "source": [
    "image_ids = [\"APF0000b20\",\n",
    "\"APF0000b2s\",\n",
    "\"APF0000b1r\",\n",
    "\"APF0000bm0\",\n",
    "\"APF0000bln\",\n",
    "\"APF0000bj5\",\n",
    "\"APF0000bgm\",\n",
    "\"APF0000bdl\",\n",
    "\"APF0000ps6\",\n",
    "\"APF0000ps1\",\n",
    "\"APF0000pu3\",\n",
    "\"APF0000psx\",\n",
    "\"APF0000ps2\",]"
   ]
  },
  {
   "cell_type": "code",
   "execution_count": null,
   "metadata": {},
   "outputs": [],
   "source": [
    "p4id = markings.ImageID(image_ids[0])\n",
    "frev = FNOTCH_REVIEWER(p4id.imgid, p4id.image_name, via_obsid=True)"
   ]
  },
  {
   "cell_type": "code",
   "execution_count": null,
   "metadata": {},
   "outputs": [],
   "source": [
    "frev.plot_all_in_one()"
   ]
  },
  {
   "cell_type": "code",
   "execution_count": null,
   "metadata": {},
   "outputs": [],
   "source": [
    "frev.plot()"
   ]
  },
  {
   "cell_type": "code",
   "execution_count": null,
   "metadata": {},
   "outputs": [],
   "source": [
    "frev.image_name"
   ]
  },
  {
   "cell_type": "code",
   "execution_count": null,
   "metadata": {},
   "outputs": [],
   "source": [
    "for id_ in image_ids:\n",
    "    p4id = markings.ImageID(id_)\n",
    "    frev = FNOTCH_REVIEWER(p4id.imgid, p4id.image_name, via_obsid=True,\n",
    "                           plot_folder='check_overlap')\n",
    "    print(id_)\n",
    "    frev.plot()\n",
    "    frev.plot_all_in_one()\n",
    "    plt.close('all')"
   ]
  },
  {
   "cell_type": "code",
   "execution_count": null,
   "metadata": {},
   "outputs": [],
   "source": [
    "frev.plot()"
   ]
  },
  {
   "cell_type": "code",
   "execution_count": null,
   "metadata": {},
   "outputs": [],
   "source": [
    "xmax = obsid_data.x_tile.max()\n",
    "ymax = obsid_data.y_tile.max()"
   ]
  },
  {
   "cell_type": "code",
   "execution_count": null,
   "metadata": {},
   "outputs": [],
   "source": [
    "def get_tile_image(df, xtile, ytile):\n",
    "    filtered = df.query('x_tile=={} and y_tile=={}'.format(xtile, ytile))\n",
    "    return io.get_subframe(filtered.image_url.iloc[0])\n",
    "\n",
    "def get_four_tiles_df(df, x0, y0):\n",
    "    query = ('x_tile > {} and x_tile < {} and y_tile > {} and y_tile < {}'.\n",
    "             format(x0-1, x0+2, y0-1, y0+2))\n",
    "    return df.query(query).sort_values(by=['x_tile', 'y_tile'])\n",
    "         \n",
    "def get_four_tiles_img(df, x0, y0):\n",
    "    tiles = []\n",
    "    # loop along columns (= to the right)\n",
    "    for xtile in [x0, x0+1]:\n",
    "        # loop along rows (= down)\n",
    "        for ytile in [y0, y0+1]:\n",
    "            tiles.append(get_tile_image(df, xtile, ytile))\n",
    "    \n",
    "    # tiles[0] and tiles[1] are the left most tiles\n",
    "    # we have overlap of 100 pixels in all directions\n",
    "    left = np.vstack([tiles[0], tiles[1][100:]])\n",
    "    right = np.vstack([tiles[2], tiles[3][100:]])\n",
    "    # now slicing on axis=1, because I combine in column-direction\n",
    "    all_ = np.hstack([left, right[:, 100:]])\n",
    "    return all_\n",
    "\n",
    "def browse_images(df):\n",
    "    xmax = df.x_tile.max()\n",
    "    ymax = df.y_tile.max()\n",
    "    def view_image(xtile=1, ytile=1):\n",
    "        img = get_four_tiles_img(df, xtile, ytile)\n",
    "        print(img.shape)\n",
    "        plt.imshow(img, origin='upper', aspect='auto')\n",
    "        plt.title(f'x_tile: {xtile}, y_tile: {ytile}')\n",
    "        plt.show()\n",
    "    interact(view_image, xtile=(1, xmax-1), ytile=(1, ymax-1))"
   ]
  },
  {
   "cell_type": "code",
   "execution_count": null,
   "metadata": {},
   "outputs": [],
   "source": [
    "l_s = [180.3, 189.7, 195.1, 199.4, 209.2, 243.8]"
   ]
  },
  {
   "cell_type": "code",
   "execution_count": null,
   "metadata": {},
   "outputs": [],
   "source": [
    "meta_data = [123, 131, 142, 133, 156, 158]\n",
    "spice = [120.4, 121.5, 130.3, 122.2, 123.8, 122.7 ]"
   ]
  },
  {
   "cell_type": "code",
   "execution_count": null,
   "metadata": {},
   "outputs": [],
   "source": [
    "plt.plot(l_s, meta_data, '-*', label='meta_data and website')\n",
    "plt.plot(l_s, spice, '-*', label='spice')\n",
    "plt.title(\"Unprojected North Azimuth discrepancies\")\n",
    "plt.xlabel(\"Solar longitude\")\n",
    "plt.ylabel(\"Unprojected North Azimuth\")\n",
    "plt.legend()\n",
    "plt.savefig(\"north_azimuth_deltas.png\", dpi=200)"
   ]
  },
  {
   "cell_type": "code",
   "execution_count": null,
   "metadata": {},
   "outputs": [],
   "source": []
  }
 ],
 "metadata": {
  "kernelspec": {
   "display_name": "Python [conda env:stable]",
   "language": "python",
   "name": "conda-env-stable-py"
  },
  "language_info": {
   "codemirror_mode": {
    "name": "ipython",
    "version": 3
   },
   "file_extension": ".py",
   "mimetype": "text/x-python",
   "name": "python",
   "nbconvert_exporter": "python",
   "pygments_lexer": "ipython3",
   "version": "3.6.4"
  },
  "toc": {
   "nav_menu": {
    "height": "12px",
    "width": "252px"
   },
   "number_sections": false,
   "sideBar": false,
   "skip_h1_title": false,
   "toc_cell": true,
   "toc_position": {},
   "toc_section_display": "block",
   "toc_window_display": false
  }
 },
 "nbformat": 4,
 "nbformat_minor": 2
}
