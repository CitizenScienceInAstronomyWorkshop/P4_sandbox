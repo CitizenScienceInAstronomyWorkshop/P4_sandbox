{
 "cells": [
  {
   "cell_type": "code",
   "execution_count": null,
   "metadata": {},
   "outputs": [],
   "source": [
    "%matplotlib inline"
   ]
  },
  {
   "cell_type": "code",
   "execution_count": null,
   "metadata": {},
   "outputs": [],
   "source": [
    "from planet4 import io, plotting, markings"
   ]
  },
  {
   "cell_type": "code",
   "execution_count": null,
   "metadata": {},
   "outputs": [],
   "source": [
    "db = io.DBManager()"
   ]
  },
  {
   "cell_type": "code",
   "execution_count": null,
   "metadata": {},
   "outputs": [],
   "source": [
    "ids = db.image_ids"
   ]
  },
  {
   "cell_type": "code",
   "execution_count": null,
   "metadata": {},
   "outputs": [],
   "source": [
    "sample = np.random.choice(ids, 300)"
   ]
  },
  {
   "cell_type": "code",
   "execution_count": null,
   "metadata": {},
   "outputs": [],
   "source": [
    "results = []\n",
    "for s in sample:\n",
    "    d = {}\n",
    "    d['image_id'] = s\n",
    "    data = db.get_image_id_markings(s)\n",
    "    unique_users = data.user_name.nunique()\n",
    "    d['n_users'] = unique_users\n",
    "    not_logged_in_users = []\n",
    "    logged_in_users = []\n",
    "    for user in data.user_name.unique():\n",
    "        val = len(data[data.user_name==user])\n",
    "        if user.startswith('not-logged-in'):\n",
    "            not_logged_in_users.append(val)\n",
    "        else:\n",
    "            logged_in_users.append(val)\n",
    "    d['logged_in'] = np.mean(logged_in_users)\n",
    "    d['not_logged_in'] = np.mean(not_logged_in_users)\n",
    "    results.append(d)"
   ]
  },
  {
   "cell_type": "code",
   "execution_count": null,
   "metadata": {},
   "outputs": [],
   "source": [
    "pd.DataFrame(results).plot(kind='scatter', x='not_logged_in', y='logged_in')\n",
    "plt.plot(np.arange(30), np.arange(30))"
   ]
  },
  {
   "cell_type": "code",
   "execution_count": null,
   "metadata": {},
   "outputs": [],
   "source": []
  }
 ],
 "metadata": {
  "kernelspec": {
   "display_name": "Python [conda env:stable]",
   "language": "python",
   "name": "conda-env-stable-py"
  },
  "language_info": {
   "codemirror_mode": {
    "name": "ipython",
    "version": 3
   },
   "file_extension": ".py",
   "mimetype": "text/x-python",
   "name": "python",
   "nbconvert_exporter": "python",
   "pygments_lexer": "ipython3",
   "version": "3.5.2"
  }
 },
 "nbformat": 4,
 "nbformat_minor": 1
}
