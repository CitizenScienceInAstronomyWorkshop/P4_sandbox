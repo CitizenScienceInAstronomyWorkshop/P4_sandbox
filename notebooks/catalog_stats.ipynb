{
 "cells": [
  {
   "cell_type": "markdown",
   "metadata": {
    "toc": true
   },
   "source": [
    "<h1>Table of Contents<span class=\"tocSkip\"></span></h1>\n",
    "<div class=\"toc\"><ul class=\"toc-item\"><li><span><a href=\"#Raw-data-stats\" data-toc-modified-id=\"Raw-data-stats-1\"><span class=\"toc-item-num\">1&nbsp;&nbsp;</span>Raw data stats</a></span></li><li><span><a href=\"#Read-in-data\" data-toc-modified-id=\"Read-in-data-2\"><span class=\"toc-item-num\">2&nbsp;&nbsp;</span>Read in data</a></span><ul class=\"toc-item\"><li><span><a href=\"#Produce-latex-table\" data-toc-modified-id=\"Produce-latex-table-2.1\"><span class=\"toc-item-num\">2.1&nbsp;&nbsp;</span>Produce latex table</a></span></li><li><span><a href=\"#Add-region\" data-toc-modified-id=\"Add-region-2.2\"><span class=\"toc-item-num\">2.2&nbsp;&nbsp;</span>Add region</a></span></li></ul></li><li><span><a href=\"#Calculate-number-of-empty-tiles\" data-toc-modified-id=\"Calculate-number-of-empty-tiles-3\"><span class=\"toc-item-num\">3&nbsp;&nbsp;</span>Calculate number of empty tiles</a></span><ul class=\"toc-item\"><li><span><a href=\"#Create-sample-to-check-what's-empty\" data-toc-modified-id=\"Create-sample-to-check-what's-empty-3.1\"><span class=\"toc-item-num\">3.1&nbsp;&nbsp;</span>Create sample to check what's empty</a></span></li></ul></li><li><span><a href=\"#highest-number-of-markings-per-tile\" data-toc-modified-id=\"highest-number-of-markings-per-tile-4\"><span class=\"toc-item-num\">4&nbsp;&nbsp;</span>highest number of markings per tile</a></span></li><li><span><a href=\"#Convert-distance-to-meters\" data-toc-modified-id=\"Convert-distance-to-meters-5\"><span class=\"toc-item-num\">5&nbsp;&nbsp;</span>Convert distance to meters</a></span><ul class=\"toc-item\"><li><ul class=\"toc-item\"><li><span><a href=\"#Reduction-of-number-of-fan-markings-to-finals\" data-toc-modified-id=\"Reduction-of-number-of-fan-markings-to-finals-5.0.1\"><span class=\"toc-item-num\">5.0.1&nbsp;&nbsp;</span>Reduction of number of fan markings to finals</a></span></li></ul></li></ul></li><li><span><a href=\"#Length-stats\" data-toc-modified-id=\"Length-stats-6\"><span class=\"toc-item-num\">6&nbsp;&nbsp;</span>Length stats</a></span><ul class=\"toc-item\"><li><span><a href=\"#Blotch-sizes\" data-toc-modified-id=\"Blotch-sizes-6.1\"><span class=\"toc-item-num\">6.1&nbsp;&nbsp;</span>Blotch sizes</a></span></li><li><span><a href=\"#Longest-fans\" data-toc-modified-id=\"Longest-fans-6.2\"><span class=\"toc-item-num\">6.2&nbsp;&nbsp;</span>Longest fans</a></span></li></ul></li><li><span><a href=\"#North-azimuths\" data-toc-modified-id=\"North-azimuths-7\"><span class=\"toc-item-num\">7&nbsp;&nbsp;</span>North azimuths</a></span></li><li><span><a href=\"#User-stats\" data-toc-modified-id=\"User-stats-8\"><span class=\"toc-item-num\">8&nbsp;&nbsp;</span>User stats</a></span></li><li><span><a href=\"#pipeline-output-examples\" data-toc-modified-id=\"pipeline-output-examples-9\"><span class=\"toc-item-num\">9&nbsp;&nbsp;</span>pipeline output examples</a></span></li></ul></div>"
   ]
  },
  {
   "cell_type": "code",
   "execution_count": 1,
   "metadata": {
    "ExecuteTime": {
     "end_time": "2018-09-10T22:08:52.064044Z",
     "start_time": "2018-09-10T22:08:51.937000Z"
    }
   },
   "outputs": [],
   "source": [
    "%matplotlib ipympl"
   ]
  },
  {
   "cell_type": "code",
   "execution_count": 2,
   "metadata": {
    "ExecuteTime": {
     "end_time": "2018-09-10T22:08:56.410411Z",
     "start_time": "2018-09-10T22:08:52.086880Z"
    },
    "scrolled": true
   },
   "outputs": [],
   "source": [
    "import seaborn as sns\n",
    "sns.set()\n",
    "sns.set_context('paper')\n",
    "sns.set_palette('colorblind')\n",
    "from planet4 import io, stats, markings, plotting, region_data\n",
    "from planet4.catalog_production import ReleaseManager"
   ]
  },
  {
   "cell_type": "code",
   "execution_count": 8,
   "metadata": {
    "ExecuteTime": {
     "end_time": "2018-09-10T22:24:04.100316Z",
     "start_time": "2018-09-10T22:24:02.307842Z"
    }
   },
   "outputs": [],
   "source": [
    "fans = pd.read_csv(\"/Users/klay6683/Dropbox/data/planet4/p4_analysis/P4_catalog_v1.0/P4_catalog_v1.0_L1C_cut_0.5_fan_meta_merged.csv\")\n",
    "blotch = pd.read_csv(\"/Users/klay6683/Dropbox/data/planet4/p4_analysis/P4_catalog_v1.0/P4_catalog_v1.0_L1C_cut_0.5_blotch_meta_merged.csv\")"
   ]
  },
  {
   "cell_type": "code",
   "execution_count": 4,
   "metadata": {
    "ExecuteTime": {
     "end_time": "2018-09-10T22:09:01.462933Z",
     "start_time": "2018-09-10T22:09:01.435592Z"
    }
   },
   "outputs": [],
   "source": [
    "pd.set_option(\"display.max_columns\", 150)"
   ]
  },
  {
   "cell_type": "code",
   "execution_count": 5,
   "metadata": {
    "ExecuteTime": {
     "end_time": "2018-09-10T22:09:01.953465Z",
     "start_time": "2018-09-10T22:09:01.897554Z"
    }
   },
   "outputs": [
    {
     "data": {
      "text/html": [
       "<div>\n",
       "<style scoped>\n",
       "    .dataframe tbody tr th:only-of-type {\n",
       "        vertical-align: middle;\n",
       "    }\n",
       "\n",
       "    .dataframe tbody tr th {\n",
       "        vertical-align: top;\n",
       "    }\n",
       "\n",
       "    .dataframe thead th {\n",
       "        text-align: right;\n",
       "    }\n",
       "</style>\n",
       "<table border=\"1\" class=\"dataframe\">\n",
       "  <thead>\n",
       "    <tr style=\"text-align: right;\">\n",
       "      <th></th>\n",
       "      <th>angle</th>\n",
       "      <th>distance</th>\n",
       "      <th>tile_id</th>\n",
       "      <th>image_x</th>\n",
       "      <th>image_y</th>\n",
       "      <th>marking_id</th>\n",
       "      <th>n_votes</th>\n",
       "      <th>obsid</th>\n",
       "      <th>spread</th>\n",
       "      <th>version</th>\n",
       "      <th>vote_ratio</th>\n",
       "      <th>x</th>\n",
       "      <th>x_angle</th>\n",
       "      <th>y</th>\n",
       "      <th>y_angle</th>\n",
       "      <th>l_s</th>\n",
       "      <th>north_azimuth</th>\n",
       "      <th>map_scale</th>\n",
       "      <th>BodyFixedCoordinateX</th>\n",
       "      <th>BodyFixedCoordinateY</th>\n",
       "      <th>BodyFixedCoordinateZ</th>\n",
       "      <th>PlanetocentricLatitude</th>\n",
       "      <th>PlanetographicLatitude</th>\n",
       "      <th>PositiveEast360Longitude</th>\n",
       "    </tr>\n",
       "  </thead>\n",
       "  <tbody>\n",
       "    <tr>\n",
       "      <th>0</th>\n",
       "      <td>205.56</td>\n",
       "      <td>179.71</td>\n",
       "      <td>APF0000ci9</td>\n",
       "      <td>2270.76</td>\n",
       "      <td>24336.16</td>\n",
       "      <td>F000000</td>\n",
       "      <td>35</td>\n",
       "      <td>ESP_012079_0945</td>\n",
       "      <td>88.03</td>\n",
       "      <td>1</td>\n",
       "      <td>1.00</td>\n",
       "      <td>790.76</td>\n",
       "      <td>-0.90</td>\n",
       "      <td>224.16</td>\n",
       "      <td>-0.43</td>\n",
       "      <td>214.785</td>\n",
       "      <td>126.856883</td>\n",
       "      <td>1.0</td>\n",
       "      <td>-65.804336</td>\n",
       "      <td>261.407884</td>\n",
       "      <td>-3370.504345</td>\n",
       "      <td>-85.427383</td>\n",
       "      <td>-85.480830</td>\n",
       "      <td>104.129523</td>\n",
       "    </tr>\n",
       "    <tr>\n",
       "      <th>1</th>\n",
       "      <td>185.39</td>\n",
       "      <td>179.62</td>\n",
       "      <td>APF0000cia</td>\n",
       "      <td>3391.21</td>\n",
       "      <td>5640.60</td>\n",
       "      <td>F000001</td>\n",
       "      <td>15</td>\n",
       "      <td>ESP_012079_0945</td>\n",
       "      <td>21.35</td>\n",
       "      <td>1</td>\n",
       "      <td>1.00</td>\n",
       "      <td>431.21</td>\n",
       "      <td>-1.00</td>\n",
       "      <td>160.60</td>\n",
       "      <td>-0.09</td>\n",
       "      <td>214.785</td>\n",
       "      <td>126.856883</td>\n",
       "      <td>1.0</td>\n",
       "      <td>-67.219114</td>\n",
       "      <td>257.011589</td>\n",
       "      <td>-3370.631413</td>\n",
       "      <td>-85.493546</td>\n",
       "      <td>-85.546226</td>\n",
       "      <td>104.656897</td>\n",
       "    </tr>\n",
       "    <tr>\n",
       "      <th>2</th>\n",
       "      <td>184.98</td>\n",
       "      <td>500.27</td>\n",
       "      <td>APF0000cia</td>\n",
       "      <td>3509.96</td>\n",
       "      <td>5876.70</td>\n",
       "      <td>F000002</td>\n",
       "      <td>10</td>\n",
       "      <td>ESP_012079_0945</td>\n",
       "      <td>18.91</td>\n",
       "      <td>1</td>\n",
       "      <td>1.00</td>\n",
       "      <td>549.96</td>\n",
       "      <td>-1.00</td>\n",
       "      <td>396.70</td>\n",
       "      <td>-0.09</td>\n",
       "      <td>214.785</td>\n",
       "      <td>126.856883</td>\n",
       "      <td>1.0</td>\n",
       "      <td>-67.170611</td>\n",
       "      <td>257.055226</td>\n",
       "      <td>-3370.630794</td>\n",
       "      <td>-85.493039</td>\n",
       "      <td>-85.545725</td>\n",
       "      <td>104.644396</td>\n",
       "    </tr>\n",
       "    <tr>\n",
       "      <th>3</th>\n",
       "      <td>184.29</td>\n",
       "      <td>105.43</td>\n",
       "      <td>APF0000cia</td>\n",
       "      <td>3716.27</td>\n",
       "      <td>5824.50</td>\n",
       "      <td>F000004</td>\n",
       "      <td>6</td>\n",
       "      <td>ESP_012079_0945</td>\n",
       "      <td>26.41</td>\n",
       "      <td>1</td>\n",
       "      <td>0.68</td>\n",
       "      <td>756.27</td>\n",
       "      <td>-1.00</td>\n",
       "      <td>344.50</td>\n",
       "      <td>-0.07</td>\n",
       "      <td>214.785</td>\n",
       "      <td>126.856883</td>\n",
       "      <td>1.0</td>\n",
       "      <td>-67.127761</td>\n",
       "      <td>257.024926</td>\n",
       "      <td>-3370.635002</td>\n",
       "      <td>-85.493723</td>\n",
       "      <td>-85.546401</td>\n",
       "      <td>104.637107</td>\n",
       "    </tr>\n",
       "    <tr>\n",
       "      <th>4</th>\n",
       "      <td>189.42</td>\n",
       "      <td>109.50</td>\n",
       "      <td>APF0000cia</td>\n",
       "      <td>3452.17</td>\n",
       "      <td>6033.00</td>\n",
       "      <td>F000005</td>\n",
       "      <td>3</td>\n",
       "      <td>ESP_012079_0945</td>\n",
       "      <td>22.58</td>\n",
       "      <td>1</td>\n",
       "      <td>0.51</td>\n",
       "      <td>492.17</td>\n",
       "      <td>-0.99</td>\n",
       "      <td>553.00</td>\n",
       "      <td>-0.16</td>\n",
       "      <td>214.785</td>\n",
       "      <td>126.856883</td>\n",
       "      <td>1.0</td>\n",
       "      <td>-67.169940</td>\n",
       "      <td>257.096267</td>\n",
       "      <td>-3370.628302</td>\n",
       "      <td>-85.492368</td>\n",
       "      <td>-85.545061</td>\n",
       "      <td>104.642019</td>\n",
       "    </tr>\n",
       "  </tbody>\n",
       "</table>\n",
       "</div>"
      ],
      "text/plain": [
       "    angle  distance     tile_id  image_x   image_y marking_id  n_votes  \\\n",
       "0  205.56    179.71  APF0000ci9  2270.76  24336.16    F000000       35   \n",
       "1  185.39    179.62  APF0000cia  3391.21   5640.60    F000001       15   \n",
       "2  184.98    500.27  APF0000cia  3509.96   5876.70    F000002       10   \n",
       "3  184.29    105.43  APF0000cia  3716.27   5824.50    F000004        6   \n",
       "4  189.42    109.50  APF0000cia  3452.17   6033.00    F000005        3   \n",
       "\n",
       "             obsid  spread  version  vote_ratio       x  x_angle       y  \\\n",
       "0  ESP_012079_0945   88.03        1        1.00  790.76    -0.90  224.16   \n",
       "1  ESP_012079_0945   21.35        1        1.00  431.21    -1.00  160.60   \n",
       "2  ESP_012079_0945   18.91        1        1.00  549.96    -1.00  396.70   \n",
       "3  ESP_012079_0945   26.41        1        0.68  756.27    -1.00  344.50   \n",
       "4  ESP_012079_0945   22.58        1        0.51  492.17    -0.99  553.00   \n",
       "\n",
       "   y_angle      l_s  north_azimuth  map_scale  BodyFixedCoordinateX  \\\n",
       "0    -0.43  214.785     126.856883        1.0            -65.804336   \n",
       "1    -0.09  214.785     126.856883        1.0            -67.219114   \n",
       "2    -0.09  214.785     126.856883        1.0            -67.170611   \n",
       "3    -0.07  214.785     126.856883        1.0            -67.127761   \n",
       "4    -0.16  214.785     126.856883        1.0            -67.169940   \n",
       "\n",
       "   BodyFixedCoordinateY  BodyFixedCoordinateZ  PlanetocentricLatitude  \\\n",
       "0            261.407884          -3370.504345              -85.427383   \n",
       "1            257.011589          -3370.631413              -85.493546   \n",
       "2            257.055226          -3370.630794              -85.493039   \n",
       "3            257.024926          -3370.635002              -85.493723   \n",
       "4            257.096267          -3370.628302              -85.492368   \n",
       "\n",
       "   PlanetographicLatitude  PositiveEast360Longitude  \n",
       "0              -85.480830                104.129523  \n",
       "1              -85.546226                104.656897  \n",
       "2              -85.545725                104.644396  \n",
       "3              -85.546401                104.637107  \n",
       "4              -85.545061                104.642019  "
      ]
     },
     "execution_count": 5,
     "metadata": {},
     "output_type": "execute_result"
    }
   ],
   "source": [
    "fans.head()"
   ]
  },
  {
   "cell_type": "code",
   "execution_count": 7,
   "metadata": {
    "ExecuteTime": {
     "end_time": "2018-09-10T22:09:45.272630Z",
     "start_time": "2018-09-10T22:09:45.241632Z"
    }
   },
   "outputs": [
    {
     "data": {
      "text/plain": [
       "214.785"
      ]
     },
     "execution_count": 7,
     "metadata": {},
     "output_type": "execute_result"
    }
   ],
   "source": [
    "fans.l_s.head().values[0]"
   ]
  },
  {
   "cell_type": "code",
   "execution_count": 28,
   "metadata": {
    "ExecuteTime": {
     "end_time": "2018-09-10T22:35:54.491583Z",
     "start_time": "2018-09-10T22:35:54.463917Z"
    }
   },
   "outputs": [],
   "source": [
    "group_blotch = blotch.groupby(\"obsid\")"
   ]
  },
  {
   "cell_type": "code",
   "execution_count": 29,
   "metadata": {
    "ExecuteTime": {
     "end_time": "2018-09-10T22:35:56.404129Z",
     "start_time": "2018-09-10T22:35:56.375042Z"
    }
   },
   "outputs": [
    {
     "data": {
      "text/plain": [
       "pandas.core.groupby.groupby.DataFrameGroupBy"
      ]
     },
     "execution_count": 29,
     "metadata": {},
     "output_type": "execute_result"
    }
   ],
   "source": [
    "type(group_blotch)"
   ]
  },
  {
   "cell_type": "code",
   "execution_count": 30,
   "metadata": {
    "ExecuteTime": {
     "end_time": "2018-09-10T22:35:58.583453Z",
     "start_time": "2018-09-10T22:35:58.534904Z"
    }
   },
   "outputs": [],
   "source": [
    "counts = group_blotch.marking_id.count()"
   ]
  },
  {
   "cell_type": "code",
   "execution_count": 31,
   "metadata": {
    "ExecuteTime": {
     "end_time": "2018-09-10T22:36:04.022152Z",
     "start_time": "2018-09-10T22:36:03.990766Z"
    }
   },
   "outputs": [
    {
     "data": {
      "text/plain": [
       "obsid\n",
       "ESP_011296_0975    1026\n",
       "ESP_011341_0980     283\n",
       "ESP_011348_0950     197\n",
       "ESP_011350_0945     628\n",
       "ESP_011351_0945    1177\n",
       "Name: marking_id, dtype: int64"
      ]
     },
     "execution_count": 31,
     "metadata": {},
     "output_type": "execute_result"
    }
   ],
   "source": [
    "counts.head()"
   ]
  },
  {
   "cell_type": "code",
   "execution_count": 32,
   "metadata": {
    "ExecuteTime": {
     "end_time": "2018-09-10T22:44:08.166945Z",
     "start_time": "2018-09-10T22:44:08.093613Z"
    }
   },
   "outputs": [
    {
     "data": {
      "application/vnd.jupyter.widget-view+json": {
       "model_id": "3a467f3662eb4d12b639dc33d01b8717",
       "version_major": 2,
       "version_minor": 0
      },
      "text/plain": [
       "FigureCanvasNbAgg()"
      ]
     },
     "metadata": {},
     "output_type": "display_data"
    },
    {
     "data": {
      "text/plain": [
       "<matplotlib.axes._subplots.AxesSubplot at 0x124344828>"
      ]
     },
     "execution_count": 32,
     "metadata": {},
     "output_type": "execute_result"
    }
   ],
   "source": [
    "counts.plot(c='r')"
   ]
  },
  {
   "cell_type": "code",
   "execution_count": 34,
   "metadata": {
    "ExecuteTime": {
     "end_time": "2018-09-10T22:45:51.798438Z",
     "start_time": "2018-09-10T22:45:51.745592Z"
    }
   },
   "outputs": [
    {
     "data": {
      "application/vnd.jupyter.widget-view+json": {
       "model_id": "f971f267571f4b3fb93410112ed29119",
       "version_major": 2,
       "version_minor": 0
      },
      "text/plain": [
       "FigureCanvasNbAgg()"
      ]
     },
     "metadata": {},
     "output_type": "display_data"
    },
    {
     "data": {
      "text/plain": [
       "<matplotlib.axes._subplots.AxesSubplot at 0x123fe7ef0>"
      ]
     },
     "execution_count": 34,
     "metadata": {},
     "output_type": "execute_result"
    }
   ],
   "source": [
    "plt.figure()\n",
    "counts.hist()"
   ]
  },
  {
   "cell_type": "code",
   "execution_count": 35,
   "metadata": {
    "ExecuteTime": {
     "end_time": "2018-09-10T22:47:09.891714Z",
     "start_time": "2018-09-10T22:47:09.862726Z"
    }
   },
   "outputs": [
    {
     "data": {
      "text/plain": [
       "20917"
      ]
     },
     "execution_count": 35,
     "metadata": {},
     "output_type": "execute_result"
    }
   ],
   "source": [
    "counts.max()"
   ]
  },
  {
   "cell_type": "code",
   "execution_count": 36,
   "metadata": {
    "ExecuteTime": {
     "end_time": "2018-09-10T22:47:15.883927Z",
     "start_time": "2018-09-10T22:47:15.854438Z"
    }
   },
   "outputs": [
    {
     "data": {
      "text/plain": [
       "17"
      ]
     },
     "execution_count": 36,
     "metadata": {},
     "output_type": "execute_result"
    }
   ],
   "source": [
    "counts.min()"
   ]
  },
  {
   "cell_type": "code",
   "execution_count": 38,
   "metadata": {
    "ExecuteTime": {
     "end_time": "2018-09-10T22:58:06.922669Z",
     "start_time": "2018-09-10T22:58:06.878816Z"
    }
   },
   "outputs": [
    {
     "data": {
      "text/html": [
       "<div>\n",
       "<style scoped>\n",
       "    .dataframe tbody tr th:only-of-type {\n",
       "        vertical-align: middle;\n",
       "    }\n",
       "\n",
       "    .dataframe tbody tr th {\n",
       "        vertical-align: top;\n",
       "    }\n",
       "\n",
       "    .dataframe thead th {\n",
       "        text-align: right;\n",
       "    }\n",
       "</style>\n",
       "<table border=\"1\" class=\"dataframe\">\n",
       "  <thead>\n",
       "    <tr style=\"text-align: right;\">\n",
       "      <th></th>\n",
       "      <th>angle</th>\n",
       "      <th>distance</th>\n",
       "      <th>tile_id</th>\n",
       "      <th>image_x</th>\n",
       "      <th>image_y</th>\n",
       "      <th>marking_id</th>\n",
       "      <th>n_votes</th>\n",
       "      <th>obsid</th>\n",
       "      <th>spread</th>\n",
       "      <th>version</th>\n",
       "      <th>vote_ratio</th>\n",
       "      <th>x</th>\n",
       "      <th>x_angle</th>\n",
       "      <th>y</th>\n",
       "      <th>y_angle</th>\n",
       "      <th>l_s</th>\n",
       "      <th>north_azimuth</th>\n",
       "      <th>map_scale</th>\n",
       "      <th>BodyFixedCoordinateX</th>\n",
       "      <th>BodyFixedCoordinateY</th>\n",
       "      <th>BodyFixedCoordinateZ</th>\n",
       "      <th>PlanetocentricLatitude</th>\n",
       "      <th>PlanetographicLatitude</th>\n",
       "      <th>PositiveEast360Longitude</th>\n",
       "    </tr>\n",
       "  </thead>\n",
       "  <tbody>\n",
       "    <tr>\n",
       "      <th>0</th>\n",
       "      <td>205.56</td>\n",
       "      <td>179.71</td>\n",
       "      <td>APF0000ci9</td>\n",
       "      <td>2270.76</td>\n",
       "      <td>24336.16</td>\n",
       "      <td>F000000</td>\n",
       "      <td>35</td>\n",
       "      <td>ESP_012079_0945</td>\n",
       "      <td>88.03</td>\n",
       "      <td>1</td>\n",
       "      <td>1.00</td>\n",
       "      <td>790.76</td>\n",
       "      <td>-0.90</td>\n",
       "      <td>224.16</td>\n",
       "      <td>-0.43</td>\n",
       "      <td>214.785</td>\n",
       "      <td>126.856883</td>\n",
       "      <td>1.0</td>\n",
       "      <td>-65.804336</td>\n",
       "      <td>261.407884</td>\n",
       "      <td>-3370.504345</td>\n",
       "      <td>-85.427383</td>\n",
       "      <td>-85.480830</td>\n",
       "      <td>104.129523</td>\n",
       "    </tr>\n",
       "    <tr>\n",
       "      <th>1</th>\n",
       "      <td>185.39</td>\n",
       "      <td>179.62</td>\n",
       "      <td>APF0000cia</td>\n",
       "      <td>3391.21</td>\n",
       "      <td>5640.60</td>\n",
       "      <td>F000001</td>\n",
       "      <td>15</td>\n",
       "      <td>ESP_012079_0945</td>\n",
       "      <td>21.35</td>\n",
       "      <td>1</td>\n",
       "      <td>1.00</td>\n",
       "      <td>431.21</td>\n",
       "      <td>-1.00</td>\n",
       "      <td>160.60</td>\n",
       "      <td>-0.09</td>\n",
       "      <td>214.785</td>\n",
       "      <td>126.856883</td>\n",
       "      <td>1.0</td>\n",
       "      <td>-67.219114</td>\n",
       "      <td>257.011589</td>\n",
       "      <td>-3370.631413</td>\n",
       "      <td>-85.493546</td>\n",
       "      <td>-85.546226</td>\n",
       "      <td>104.656897</td>\n",
       "    </tr>\n",
       "    <tr>\n",
       "      <th>2</th>\n",
       "      <td>184.98</td>\n",
       "      <td>500.27</td>\n",
       "      <td>APF0000cia</td>\n",
       "      <td>3509.96</td>\n",
       "      <td>5876.70</td>\n",
       "      <td>F000002</td>\n",
       "      <td>10</td>\n",
       "      <td>ESP_012079_0945</td>\n",
       "      <td>18.91</td>\n",
       "      <td>1</td>\n",
       "      <td>1.00</td>\n",
       "      <td>549.96</td>\n",
       "      <td>-1.00</td>\n",
       "      <td>396.70</td>\n",
       "      <td>-0.09</td>\n",
       "      <td>214.785</td>\n",
       "      <td>126.856883</td>\n",
       "      <td>1.0</td>\n",
       "      <td>-67.170611</td>\n",
       "      <td>257.055226</td>\n",
       "      <td>-3370.630794</td>\n",
       "      <td>-85.493039</td>\n",
       "      <td>-85.545725</td>\n",
       "      <td>104.644396</td>\n",
       "    </tr>\n",
       "    <tr>\n",
       "      <th>3</th>\n",
       "      <td>184.29</td>\n",
       "      <td>105.43</td>\n",
       "      <td>APF0000cia</td>\n",
       "      <td>3716.27</td>\n",
       "      <td>5824.50</td>\n",
       "      <td>F000004</td>\n",
       "      <td>6</td>\n",
       "      <td>ESP_012079_0945</td>\n",
       "      <td>26.41</td>\n",
       "      <td>1</td>\n",
       "      <td>0.68</td>\n",
       "      <td>756.27</td>\n",
       "      <td>-1.00</td>\n",
       "      <td>344.50</td>\n",
       "      <td>-0.07</td>\n",
       "      <td>214.785</td>\n",
       "      <td>126.856883</td>\n",
       "      <td>1.0</td>\n",
       "      <td>-67.127761</td>\n",
       "      <td>257.024926</td>\n",
       "      <td>-3370.635002</td>\n",
       "      <td>-85.493723</td>\n",
       "      <td>-85.546401</td>\n",
       "      <td>104.637107</td>\n",
       "    </tr>\n",
       "    <tr>\n",
       "      <th>4</th>\n",
       "      <td>189.42</td>\n",
       "      <td>109.50</td>\n",
       "      <td>APF0000cia</td>\n",
       "      <td>3452.17</td>\n",
       "      <td>6033.00</td>\n",
       "      <td>F000005</td>\n",
       "      <td>3</td>\n",
       "      <td>ESP_012079_0945</td>\n",
       "      <td>22.58</td>\n",
       "      <td>1</td>\n",
       "      <td>0.51</td>\n",
       "      <td>492.17</td>\n",
       "      <td>-0.99</td>\n",
       "      <td>553.00</td>\n",
       "      <td>-0.16</td>\n",
       "      <td>214.785</td>\n",
       "      <td>126.856883</td>\n",
       "      <td>1.0</td>\n",
       "      <td>-67.169940</td>\n",
       "      <td>257.096267</td>\n",
       "      <td>-3370.628302</td>\n",
       "      <td>-85.492368</td>\n",
       "      <td>-85.545061</td>\n",
       "      <td>104.642019</td>\n",
       "    </tr>\n",
       "  </tbody>\n",
       "</table>\n",
       "</div>"
      ],
      "text/plain": [
       "    angle  distance     tile_id  image_x   image_y marking_id  n_votes  \\\n",
       "0  205.56    179.71  APF0000ci9  2270.76  24336.16    F000000       35   \n",
       "1  185.39    179.62  APF0000cia  3391.21   5640.60    F000001       15   \n",
       "2  184.98    500.27  APF0000cia  3509.96   5876.70    F000002       10   \n",
       "3  184.29    105.43  APF0000cia  3716.27   5824.50    F000004        6   \n",
       "4  189.42    109.50  APF0000cia  3452.17   6033.00    F000005        3   \n",
       "\n",
       "             obsid  spread  version  vote_ratio       x  x_angle       y  \\\n",
       "0  ESP_012079_0945   88.03        1        1.00  790.76    -0.90  224.16   \n",
       "1  ESP_012079_0945   21.35        1        1.00  431.21    -1.00  160.60   \n",
       "2  ESP_012079_0945   18.91        1        1.00  549.96    -1.00  396.70   \n",
       "3  ESP_012079_0945   26.41        1        0.68  756.27    -1.00  344.50   \n",
       "4  ESP_012079_0945   22.58        1        0.51  492.17    -0.99  553.00   \n",
       "\n",
       "   y_angle      l_s  north_azimuth  map_scale  BodyFixedCoordinateX  \\\n",
       "0    -0.43  214.785     126.856883        1.0            -65.804336   \n",
       "1    -0.09  214.785     126.856883        1.0            -67.219114   \n",
       "2    -0.09  214.785     126.856883        1.0            -67.170611   \n",
       "3    -0.07  214.785     126.856883        1.0            -67.127761   \n",
       "4    -0.16  214.785     126.856883        1.0            -67.169940   \n",
       "\n",
       "   BodyFixedCoordinateY  BodyFixedCoordinateZ  PlanetocentricLatitude  \\\n",
       "0            261.407884          -3370.504345              -85.427383   \n",
       "1            257.011589          -3370.631413              -85.493546   \n",
       "2            257.055226          -3370.630794              -85.493039   \n",
       "3            257.024926          -3370.635002              -85.493723   \n",
       "4            257.096267          -3370.628302              -85.492368   \n",
       "\n",
       "   PlanetographicLatitude  PositiveEast360Longitude  \n",
       "0              -85.480830                104.129523  \n",
       "1              -85.546226                104.656897  \n",
       "2              -85.545725                104.644396  \n",
       "3              -85.546401                104.637107  \n",
       "4              -85.545061                104.642019  "
      ]
     },
     "execution_count": 38,
     "metadata": {},
     "output_type": "execute_result"
    }
   ],
   "source": [
    "fans.head()"
   ]
  },
  {
   "cell_type": "code",
   "execution_count": 54,
   "metadata": {
    "ExecuteTime": {
     "end_time": "2018-09-10T23:22:59.697060Z",
     "start_time": "2018-09-10T23:22:59.616148Z"
    }
   },
   "outputs": [
    {
     "data": {
      "application/vnd.jupyter.widget-view+json": {
       "model_id": "192818d062c246a39bf0570309a0c71a",
       "version_major": 2,
       "version_minor": 0
      },
      "text/plain": [
       "FigureCanvasNbAgg()"
      ]
     },
     "metadata": {},
     "output_type": "display_data"
    },
    {
     "data": {
      "text/plain": [
       "<matplotlib.axes._subplots.AxesSubplot at 0x140e009e8>"
      ]
     },
     "execution_count": 54,
     "metadata": {},
     "output_type": "execute_result"
    }
   ],
   "source": [
    "plt.figure(constrained_layout=True)\n",
    "counts[:20].plot.bar()"
   ]
  },
  {
   "cell_type": "code",
   "execution_count": 52,
   "metadata": {
    "ExecuteTime": {
     "end_time": "2018-09-10T23:22:12.103262Z",
     "start_time": "2018-09-10T23:22:12.042830Z"
    }
   },
   "outputs": [
    {
     "data": {
      "application/vnd.jupyter.widget-view+json": {
       "model_id": "311e06a2f0d54712af51854f158c28f5",
       "version_major": 2,
       "version_minor": 0
      },
      "text/plain": [
       "FigureCanvasNbAgg()"
      ]
     },
     "metadata": {},
     "output_type": "display_data"
    },
    {
     "data": {
      "text/plain": [
       "<matplotlib.axes._subplots.AxesSubplot at 0x13f590d68>"
      ]
     },
     "execution_count": 52,
     "metadata": {},
     "output_type": "execute_result"
    }
   ],
   "source": [
    "plt.figure()\n",
    "counts[:10].plot(use_index=True)"
   ]
  },
  {
   "cell_type": "code",
   "execution_count": 39,
   "metadata": {
    "ExecuteTime": {
     "end_time": "2018-09-10T23:17:03.774048Z",
     "start_time": "2018-09-10T23:17:03.349252Z"
    }
   },
   "outputs": [
    {
     "data": {
      "text/plain": [
       "<matplotlib.axes._subplots.AxesSubplot at 0x123fe7ef0>"
      ]
     },
     "execution_count": 39,
     "metadata": {},
     "output_type": "execute_result"
    }
   ],
   "source": [
    "plt.figure()\n",
    "counts[:10]"
   ]
  },
  {
   "cell_type": "code",
   "execution_count": null,
   "metadata": {},
   "outputs": [],
   "source": []
  },
  {
   "cell_type": "code",
   "execution_count": null,
   "metadata": {},
   "outputs": [],
   "source": []
  },
  {
   "cell_type": "code",
   "execution_count": 25,
   "metadata": {},
   "outputs": [],
   "source": [
    "grouped = fans.groupby(\"obsid\")"
   ]
  },
  {
   "cell_type": "code",
   "execution_count": 33,
   "metadata": {},
   "outputs": [
    {
     "data": {
      "text/plain": [
       "obsid\n",
       "ESP_011680_1055    429\n",
       "ESP_012079_0945    386\n",
       "ESP_012316_0925    359\n",
       "ESP_020742_0925    359\n",
       "ESP_021495_0935    352\n",
       "Name: tile_id, dtype: int64"
      ]
     },
     "execution_count": 33,
     "metadata": {},
     "output_type": "execute_result"
    }
   ],
   "source": [
    "grouped.tile_id.nunique().sort_values(ascending=False).head()"
   ]
  },
  {
   "cell_type": "code",
   "execution_count": null,
   "metadata": {},
   "outputs": [],
   "source": []
  },
  {
   "cell_type": "code",
   "execution_count": 15,
   "metadata": {},
   "outputs": [],
   "source": [
    "%matplotlib inline"
   ]
  },
  {
   "cell_type": "code",
   "execution_count": 11,
   "metadata": {
    "ExecuteTime": {
     "end_time": "2018-09-06T18:10:34.755715Z",
     "start_time": "2018-09-06T18:10:34.710094Z"
    }
   },
   "outputs": [],
   "source": [
    "from planet4.markings import ImageID"
   ]
  },
  {
   "cell_type": "code",
   "execution_count": 13,
   "metadata": {
    "ExecuteTime": {
     "end_time": "2018-09-06T18:10:44.170668Z",
     "start_time": "2018-09-06T18:10:44.125852Z"
    }
   },
   "outputs": [],
   "source": [
    "p4id = ImageID('7t9')"
   ]
  },
  {
   "cell_type": "code",
   "execution_count": 15,
   "metadata": {
    "ExecuteTime": {
     "end_time": "2018-09-06T18:11:06.326182Z",
     "start_time": "2018-09-06T18:11:06.269221Z"
    }
   },
   "outputs": [
    {
     "data": {
      "text/plain": [
       "'ESP_012604_0965'"
      ]
     },
     "execution_count": 15,
     "metadata": {},
     "output_type": "execute_result"
    }
   ],
   "source": [
    "p4id.image_name"
   ]
  },
  {
   "cell_type": "code",
   "execution_count": 14,
   "metadata": {
    "ExecuteTime": {
     "end_time": "2018-09-06T18:10:46.455721Z",
     "start_time": "2018-09-06T18:10:45.178440Z"
    }
   },
   "outputs": [
    {
     "data": {
      "application/vnd.jupyter.widget-view+json": {
       "model_id": "62310a24a1444e32aa07ab3cff7fc0d5",
       "version_major": 2,
       "version_minor": 0
      },
      "text/plain": [
       "FigureCanvasNbAgg()"
      ]
     },
     "metadata": {},
     "output_type": "display_data"
    }
   ],
   "source": [
    "p4id.plot_fans()"
   ]
  },
  {
   "cell_type": "code",
   "execution_count": 19,
   "metadata": {},
   "outputs": [],
   "source": [
    "filtered = fans[fans.tile_id=='APF0000cia']"
   ]
  },
  {
   "cell_type": "code",
   "execution_count": 20,
   "metadata": {},
   "outputs": [
    {
     "data": {
      "text/plain": [
       "(4, 24)"
      ]
     },
     "execution_count": 20,
     "metadata": {},
     "output_type": "execute_result"
    }
   ],
   "source": [
    "filtered.shape"
   ]
  },
  {
   "cell_type": "code",
   "execution_count": 21,
   "metadata": {},
   "outputs": [
    {
     "data": {
      "image/png": "[encoded data removed]",
      "text/plain": [
       "<Figure size 576x444.343 with 1 Axes>"
      ]
     },
     "metadata": {
      "needs_background": "light"
     },
     "output_type": "display_data"
    }
   ],
   "source": [
    "p4id.plot_fans(data=filtered)"
   ]
  },
  {
   "cell_type": "code",
   "execution_count": null,
   "metadata": {},
   "outputs": [],
   "source": []
  },
  {
   "cell_type": "markdown",
   "metadata": {},
   "source": [
    "# Raw data stats"
   ]
  },
  {
   "cell_type": "code",
   "execution_count": 3,
   "metadata": {
    "ExecuteTime": {
     "end_time": "2018-09-05T22:19:03.175312Z",
     "start_time": "2018-09-05T22:19:01.542421Z"
    }
   },
   "outputs": [],
   "source": [
    "import dask.dataframe as dd"
   ]
  },
  {
   "cell_type": "code",
   "execution_count": 4,
   "metadata": {
    "ExecuteTime": {
     "end_time": "2018-09-05T22:19:03.766016Z",
     "start_time": "2018-09-05T22:19:03.625276Z"
    }
   },
   "outputs": [
    {
     "data": {
      "text/plain": [
       "'/Users/klay6683/local_data/planet4/2017-12-31_planet_four_classifications_queryable_cleaned_seasons2and3.h5'"
      ]
     },
     "execution_count": 4,
     "metadata": {},
     "output_type": "execute_result"
    }
   ],
   "source": [
    "db = io.DBManager()\n",
    "db.dbname"
   ]
  },
  {
   "cell_type": "code",
   "execution_count": 5,
   "metadata": {
    "ExecuteTime": {
     "end_time": "2018-09-05T22:19:29.626348Z",
     "start_time": "2018-09-05T22:19:27.613366Z"
    }
   },
   "outputs": [],
   "source": [
    "df = dd.read_hdf(db.dbname, 'df')"
   ]
  },
  {
   "cell_type": "code",
   "execution_count": 6,
   "metadata": {
    "ExecuteTime": {
     "end_time": "2018-09-05T22:19:30.309916Z",
     "start_time": "2018-09-05T22:19:30.182803Z"
    }
   },
   "outputs": [
    {
     "data": {
      "text/plain": [
       "Index(['classification_id', 'created_at', 'image_id', 'image_name',\n",
       "       'image_url', 'user_name', 'marking', 'x_tile', 'y_tile',\n",
       "       'acquisition_date', 'local_mars_time', 'x', 'y', 'image_x', 'image_y',\n",
       "       'radius_1', 'radius_2', 'distance', 'angle', 'spread', 'version',\n",
       "       'x_angle', 'y_angle'],\n",
       "      dtype='object')"
      ]
     },
     "execution_count": 6,
     "metadata": {},
     "output_type": "execute_result"
    }
   ],
   "source": [
    "df.columns"
   ]
  },
  {
   "cell_type": "code",
   "execution_count": 7,
   "metadata": {
    "ExecuteTime": {
     "end_time": "2018-09-05T22:19:30.949975Z",
     "start_time": "2018-09-05T22:19:30.850727Z"
    }
   },
   "outputs": [],
   "source": [
    "grp = df.groupby(['user_name'])"
   ]
  },
  {
   "cell_type": "code",
   "execution_count": null,
   "metadata": {
    "ExecuteTime": {
     "start_time": "2018-09-05T22:19:30.420Z"
    }
   },
   "outputs": [],
   "source": [
    "s = grp.classification_id.nunique().compute().sort_values(ascending=False).head(5)"
   ]
  },
  {
   "cell_type": "code",
   "execution_count": 42,
   "metadata": {
    "ExecuteTime": {
     "end_time": "2018-07-27T18:09:12.508403Z",
     "start_time": "2018-07-27T18:09:12.452303Z"
    }
   },
   "outputs": [
    {
     "data": {
      "text/plain": [
       "user_name\n",
       "Paul Johnson      31808\n",
       "gwyneth walker    29552\n",
       "poplar11          21143\n",
       "14int             19394\n",
       "Kitharode         16483\n",
       "Name: classification_id, dtype: int64"
      ]
     },
     "execution_count": 42,
     "metadata": {},
     "output_type": "execute_result"
    }
   ],
   "source": [
    "s"
   ]
  },
  {
   "cell_type": "markdown",
   "metadata": {
    "ExecuteTime": {
     "end_time": "2018-01-01T23:17:06.720333Z",
     "start_time": "2018-01-01T23:17:06.687325Z"
    }
   },
   "source": [
    "# Read in data"
   ]
  },
  {
   "cell_type": "code",
   "execution_count": 3,
   "metadata": {
    "ExecuteTime": {
     "end_time": "2018-07-27T17:36:31.212614Z",
     "start_time": "2018-07-27T17:36:31.166709Z"
    }
   },
   "outputs": [],
   "source": [
    "rm = ReleaseManager('v1.0')"
   ]
  },
  {
   "cell_type": "code",
   "execution_count": 8,
   "metadata": {
    "ExecuteTime": {
     "end_time": "2018-07-27T17:42:30.503102Z",
     "start_time": "2018-07-27T17:42:30.456377Z"
    }
   },
   "outputs": [],
   "source": [
    "db = io.DBManager()"
   ]
  },
  {
   "cell_type": "code",
   "execution_count": null,
   "metadata": {
    "ExecuteTime": {
     "start_time": "2018-07-27T17:42:35.417Z"
    }
   },
   "outputs": [],
   "source": [
    "data = db.get_all()"
   ]
  },
  {
   "cell_type": "code",
   "execution_count": null,
   "metadata": {},
   "outputs": [],
   "source": []
  },
  {
   "cell_type": "code",
   "execution_count": 5,
   "metadata": {
    "ExecuteTime": {
     "end_time": "2018-07-27T17:41:56.712262Z",
     "start_time": "2018-07-27T17:41:55.434856Z"
    }
   },
   "outputs": [],
   "source": [
    "fans = pd.read_csv(rm.fan_merged)"
   ]
  },
  {
   "cell_type": "code",
   "execution_count": 6,
   "metadata": {
    "ExecuteTime": {
     "end_time": "2018-07-27T17:41:57.740585Z",
     "start_time": "2018-07-27T17:41:57.694195Z"
    }
   },
   "outputs": [
    {
     "data": {
      "text/plain": [
       "(159287, 24)"
      ]
     },
     "execution_count": 6,
     "metadata": {},
     "output_type": "execute_result"
    }
   ],
   "source": [
    "fans.shape"
   ]
  },
  {
   "cell_type": "code",
   "execution_count": 7,
   "metadata": {
    "ExecuteTime": {
     "end_time": "2018-07-27T17:41:59.562827Z",
     "start_time": "2018-07-27T17:41:59.512134Z"
    }
   },
   "outputs": [
    {
     "data": {
      "text/plain": [
       "Index(['angle', 'distance', 'tile_id', 'image_x', 'image_y', 'marking_id',\n",
       "       'n_votes', 'obsid', 'spread', 'version', 'vote_ratio', 'x', 'x_angle',\n",
       "       'y', 'y_angle', 'l_s', 'north_azimuth', 'map_scale',\n",
       "       'BodyFixedCoordinateX', 'BodyFixedCoordinateY', 'BodyFixedCoordinateZ',\n",
       "       'PlanetocentricLatitude', 'PlanetographicLatitude',\n",
       "       'PositiveEast360Longitude'],\n",
       "      dtype='object')"
      ]
     },
     "execution_count": 7,
     "metadata": {},
     "output_type": "execute_result"
    }
   ],
   "source": [
    "fans.columns"
   ]
  },
  {
   "cell_type": "code",
   "execution_count": 5,
   "metadata": {},
   "outputs": [],
   "source": [
    "from planet4.stats import define_season_column"
   ]
  },
  {
   "cell_type": "code",
   "execution_count": 6,
   "metadata": {},
   "outputs": [],
   "source": [
    "define_season_column(fans)"
   ]
  },
  {
   "cell_type": "code",
   "execution_count": 7,
   "metadata": {},
   "outputs": [
    {
     "data": {
      "text/plain": [
       "Index(['angle', 'distance', 'image_id', 'image_name', 'image_x', 'image_y',\n",
       "       'marking_id', 'n_votes', 'obsid', 'radius_1', 'radius_2', 'spread',\n",
       "       'version', 'vote_ratio', 'x', 'x_angle', 'x_tile', 'y', 'y_angle',\n",
       "       'y_tile', 'season'],\n",
       "      dtype='object')"
      ]
     },
     "execution_count": 7,
     "metadata": {},
     "output_type": "execute_result"
    }
   ],
   "source": [
    "fans.columns"
   ]
  },
  {
   "cell_type": "code",
   "execution_count": null,
   "metadata": {},
   "outputs": [],
   "source": []
  },
  {
   "cell_type": "code",
   "execution_count": 13,
   "metadata": {},
   "outputs": [],
   "source": [
    "season2 = fans[fans.season==2]"
   ]
  },
  {
   "cell_type": "code",
   "execution_count": 14,
   "metadata": {},
   "outputs": [
    {
     "data": {
      "text/plain": [
       "(101291, 21)"
      ]
     },
     "execution_count": 14,
     "metadata": {},
     "output_type": "execute_result"
    }
   ],
   "source": [
    "season2.shape"
   ]
  },
  {
   "cell_type": "code",
   "execution_count": 11,
   "metadata": {},
   "outputs": [],
   "source": [
    "img223 = fans.query(\"image_name=='ESP_012265_0950'\")"
   ]
  },
  {
   "cell_type": "code",
   "execution_count": 15,
   "metadata": {},
   "outputs": [
    {
     "data": {
      "text/plain": [
       "(227, 21)"
      ]
     },
     "execution_count": 15,
     "metadata": {},
     "output_type": "execute_result"
    }
   ],
   "source": [
    "img223.shape"
   ]
  },
  {
   "cell_type": "code",
   "execution_count": 14,
   "metadata": {},
   "outputs": [
    {
     "data": {
      "application/vnd.jupyter.widget-view+json": {
       "model_id": "6188a3adfc264c71a11e05be40df8d10",
       "version_major": 2,
       "version_minor": 0
      },
      "text/plain": [
       "FigureCanvasNbAgg()"
      ]
     },
     "metadata": {},
     "output_type": "display_data"
    },
    {
     "data": {
      "text/plain": [
       "<matplotlib.axes._subplots.AxesSubplot at 0x114101780>"
      ]
     },
     "execution_count": 14,
     "metadata": {},
     "output_type": "execute_result"
    }
   ],
   "source": [
    "plt.figure()\n",
    "img223.angle.hist()"
   ]
  },
  {
   "cell_type": "code",
   "execution_count": 12,
   "metadata": {},
   "outputs": [
    {
     "data": {
      "text/plain": [
       "dtype('int64')"
      ]
     },
     "execution_count": 12,
     "metadata": {},
     "output_type": "execute_result"
    }
   ],
   "source": [
    "fans.season.dtype"
   ]
  },
  {
   "cell_type": "code",
   "execution_count": 15,
   "metadata": {},
   "outputs": [],
   "source": [
    "meta = pd.read_csv(rm.metadata_path, dtype='str')"
   ]
  },
  {
   "cell_type": "code",
   "execution_count": 19,
   "metadata": {},
   "outputs": [],
   "source": [
    "cols_to_merge = ['OBSERVATION_ID',\n",
    "                         'SOLAR_LONGITUDE', 'north_azimuth', 'map_scale']"
   ]
  },
  {
   "cell_type": "code",
   "execution_count": 20,
   "metadata": {},
   "outputs": [],
   "source": [
    "fans = fans.merge(meta[cols_to_merge], left_on='obsid', right_on='OBSERVATION_ID')"
   ]
  },
  {
   "cell_type": "code",
   "execution_count": 23,
   "metadata": {},
   "outputs": [],
   "source": [
    "fans.drop(rm.DROP_FOR_FANS, axis=1, inplace=True)"
   ]
  },
  {
   "cell_type": "code",
   "execution_count": 34,
   "metadata": {},
   "outputs": [
    {
     "data": {
      "text/plain": [
       "0    2270.76\n",
       "1    3391.21\n",
       "2    3509.96\n",
       "3    3716.27\n",
       "4    3452.17\n",
       "Name: image_x, dtype: float64"
      ]
     },
     "execution_count": 34,
     "metadata": {},
     "output_type": "execute_result"
    }
   ],
   "source": [
    "fans.image_x.head()"
   ]
  },
  {
   "cell_type": "code",
   "execution_count": 35,
   "metadata": {},
   "outputs": [],
   "source": [
    "ground['image_x'] = pd.to_numeric(ground.image_x)"
   ]
  },
  {
   "cell_type": "code",
   "execution_count": 36,
   "metadata": {},
   "outputs": [],
   "source": [
    "ground['image_y'] = pd.to_numeric(ground.image_y)"
   ]
  },
  {
   "cell_type": "code",
   "execution_count": 37,
   "metadata": {},
   "outputs": [],
   "source": [
    "fans_new = fans.merge(ground[rm.COLS_TO_MERGE], on=['obsid', 'image_x', 'image_y'])"
   ]
  },
  {
   "cell_type": "code",
   "execution_count": 38,
   "metadata": {},
   "outputs": [
    {
     "data": {
      "text/plain": [
       "(159287, 24)"
      ]
     },
     "execution_count": 38,
     "metadata": {},
     "output_type": "execute_result"
    }
   ],
   "source": [
    "fans_new.shape"
   ]
  },
  {
   "cell_type": "code",
   "execution_count": 39,
   "metadata": {},
   "outputs": [
    {
     "data": {
      "text/plain": [
       "(159287, 18)"
      ]
     },
     "execution_count": 39,
     "metadata": {},
     "output_type": "execute_result"
    }
   ],
   "source": [
    "fans.shape"
   ]
  },
  {
   "cell_type": "code",
   "execution_count": 42,
   "metadata": {},
   "outputs": [],
   "source": [
    "s = pd.to_numeric(ground.BodyFixedCoordinateX)"
   ]
  },
  {
   "cell_type": "code",
   "execution_count": 43,
   "metadata": {},
   "outputs": [
    {
     "data": {
      "text/plain": [
       "0   -65.804336\n",
       "1   -67.219114\n",
       "2   -67.170611\n",
       "3   -67.127761\n",
       "4   -67.169940\n",
       "Name: BodyFixedCoordinateX, dtype: float64"
      ]
     },
     "execution_count": 43,
     "metadata": {},
     "output_type": "execute_result"
    }
   ],
   "source": [
    "s.head()"
   ]
  },
  {
   "cell_type": "code",
   "execution_count": 44,
   "metadata": {},
   "outputs": [
    {
     "data": {
      "text/plain": [
       "0         -65.8043\n",
       "1         -67.2191\n",
       "2         -67.1706\n",
       "3         -67.1278\n",
       "4         -67.1699\n",
       "5         -66.2586\n",
       "6         -66.4002\n",
       "7         -66.2964\n",
       "8         -66.2613\n",
       "9         -66.3002\n",
       "10        -66.1356\n",
       "11        -67.6400\n",
       "12        -67.6993\n",
       "13        -63.7707\n",
       "14        -63.7277\n",
       "15        -64.9088\n",
       "16        -64.9321\n",
       "17        -67.0510\n",
       "18        -67.0589\n",
       "19        -67.1364\n",
       "20        -67.0644\n",
       "21        -67.1564\n",
       "22        -66.1304\n",
       "23        -63.9310\n",
       "24        -63.8152\n",
       "25        -63.7585\n",
       "26        -67.4182\n",
       "27        -67.2839\n",
       "28        -67.3953\n",
       "29        -66.3074\n",
       "            ...   \n",
       "408244    219.7665\n",
       "408245    219.9222\n",
       "408246    219.9011\n",
       "408247    219.9375\n",
       "408248    219.9216\n",
       "408249    219.8750\n",
       "408250    219.9589\n",
       "408251    219.9664\n",
       "408252    219.9880\n",
       "408253    220.0149\n",
       "408254    220.1224\n",
       "408255    220.1253\n",
       "408256    220.1912\n",
       "408257    220.2434\n",
       "408258    220.2768\n",
       "408259    220.0018\n",
       "408260    219.8550\n",
       "408261    219.7772\n",
       "408262    220.2271\n",
       "408263    220.2366\n",
       "408264    219.8505\n",
       "408265    220.2010\n",
       "408266    220.2541\n",
       "408267    220.3183\n",
       "408268    220.1394\n",
       "408269    219.9064\n",
       "408270    219.8977\n",
       "408271    219.9252\n",
       "408272    218.1948\n",
       "408273    218.0865\n",
       "Name: BodyFixedCoordinateX, Length: 408274, dtype: float64"
      ]
     },
     "execution_count": 44,
     "metadata": {},
     "output_type": "execute_result"
    }
   ],
   "source": [
    "s.round(decimals=4)"
   ]
  },
  {
   "cell_type": "code",
   "execution_count": null,
   "metadata": {},
   "outputs": [],
   "source": []
  },
  {
   "cell_type": "code",
   "execution_count": null,
   "metadata": {},
   "outputs": [],
   "source": []
  },
  {
   "cell_type": "code",
   "execution_count": 44,
   "metadata": {
    "ExecuteTime": {
     "end_time": "2018-02-16T08:14:17.059888Z",
     "start_time": "2018-02-16T08:14:15.164582Z"
    }
   },
   "outputs": [
    {
     "data": {
      "text/html": [
       "<div>\n",
       "<style scoped>\n",
       "    .dataframe tbody tr th:only-of-type {\n",
       "        vertical-align: middle;\n",
       "    }\n",
       "\n",
       "    .dataframe tbody tr th {\n",
       "        vertical-align: top;\n",
       "    }\n",
       "\n",
       "    .dataframe thead th {\n",
       "        text-align: right;\n",
       "    }\n",
       "</style>\n",
       "<table border=\"1\" class=\"dataframe\">\n",
       "  <thead>\n",
       "    <tr style=\"text-align: right;\">\n",
       "      <th></th>\n",
       "      <th>angle</th>\n",
       "      <th>tile_id</th>\n",
       "      <th>image_x</th>\n",
       "      <th>image_y</th>\n",
       "      <th>marking_id</th>\n",
       "      <th>n_votes</th>\n",
       "      <th>obsid</th>\n",
       "      <th>radius_1</th>\n",
       "      <th>radius_2</th>\n",
       "      <th>vote_ratio</th>\n",
       "      <th>...</th>\n",
       "      <th>l_s</th>\n",
       "      <th>north_azimuth</th>\n",
       "      <th>map_scale</th>\n",
       "      <th>BodyFixedCoordinateX</th>\n",
       "      <th>BodyFixedCoordinateY</th>\n",
       "      <th>BodyFixedCoordinateZ</th>\n",
       "      <th>PlanetocentricLatitude</th>\n",
       "      <th>PlanetographicLatitude</th>\n",
       "      <th>PositiveEast360Longitude</th>\n",
       "      <th>marking</th>\n",
       "    </tr>\n",
       "  </thead>\n",
       "  <tbody>\n",
       "    <tr>\n",
       "      <th>0</th>\n",
       "      <td>2.28</td>\n",
       "      <td>APF0000cia</td>\n",
       "      <td>3330.27</td>\n",
       "      <td>5573.00</td>\n",
       "      <td>B000000</td>\n",
       "      <td>4</td>\n",
       "      <td>ESP_012079_0945</td>\n",
       "      <td>22.13</td>\n",
       "      <td>15.78</td>\n",
       "      <td>1.00</td>\n",
       "      <td>...</td>\n",
       "      <td>214.785</td>\n",
       "      <td>126.856883</td>\n",
       "      <td>0.25</td>\n",
       "      <td>-67.239204</td>\n",
       "      <td>257.001479</td>\n",
       "      <td>-3370.630963</td>\n",
       "      <td>-85.493625</td>\n",
       "      <td>-85.546304</td>\n",
       "      <td>104.661641</td>\n",
       "      <td>blotch</td>\n",
       "    </tr>\n",
       "    <tr>\n",
       "      <th>1</th>\n",
       "      <td>1.38</td>\n",
       "      <td>APF0000cia</td>\n",
       "      <td>3593.60</td>\n",
       "      <td>5706.40</td>\n",
       "      <td>B000001</td>\n",
       "      <td>5</td>\n",
       "      <td>ESP_012079_0945</td>\n",
       "      <td>25.55</td>\n",
       "      <td>15.73</td>\n",
       "      <td>0.55</td>\n",
       "      <td>...</td>\n",
       "      <td>214.785</td>\n",
       "      <td>126.856883</td>\n",
       "      <td>0.25</td>\n",
       "      <td>-67.166591</td>\n",
       "      <td>257.008699</td>\n",
       "      <td>-3370.633997</td>\n",
       "      <td>-85.493821</td>\n",
       "      <td>-85.546498</td>\n",
       "      <td>104.646095</td>\n",
       "      <td>blotch</td>\n",
       "    </tr>\n",
       "    <tr>\n",
       "      <th>2</th>\n",
       "      <td>7.16</td>\n",
       "      <td>APF0000cic</td>\n",
       "      <td>98.10</td>\n",
       "      <td>34394.70</td>\n",
       "      <td>B000004</td>\n",
       "      <td>10</td>\n",
       "      <td>ESP_012079_0945</td>\n",
       "      <td>84.54</td>\n",
       "      <td>48.33</td>\n",
       "      <td>1.00</td>\n",
       "      <td>...</td>\n",
       "      <td>214.785</td>\n",
       "      <td>126.856883</td>\n",
       "      <td>0.25</td>\n",
       "      <td>-65.402430</td>\n",
       "      <td>263.908435</td>\n",
       "      <td>-3370.353988</td>\n",
       "      <td>-85.387847</td>\n",
       "      <td>-85.441752</td>\n",
       "      <td>103.918757</td>\n",
       "      <td>blotch</td>\n",
       "    </tr>\n",
       "    <tr>\n",
       "      <th>3</th>\n",
       "      <td>81.00</td>\n",
       "      <td>APF0000cic</td>\n",
       "      <td>825.58</td>\n",
       "      <td>34203.38</td>\n",
       "      <td>B000005</td>\n",
       "      <td>8</td>\n",
       "      <td>ESP_012079_0945</td>\n",
       "      <td>51.92</td>\n",
       "      <td>35.12</td>\n",
       "      <td>1.00</td>\n",
       "      <td>...</td>\n",
       "      <td>214.785</td>\n",
       "      <td>126.856883</td>\n",
       "      <td>0.25</td>\n",
       "      <td>-65.252200</td>\n",
       "      <td>263.799557</td>\n",
       "      <td>-3370.366324</td>\n",
       "      <td>-85.390258</td>\n",
       "      <td>-85.444136</td>\n",
       "      <td>103.893534</td>\n",
       "      <td>blotch</td>\n",
       "    </tr>\n",
       "    <tr>\n",
       "      <th>4</th>\n",
       "      <td>14.66</td>\n",
       "      <td>APF0000cic</td>\n",
       "      <td>152.67</td>\n",
       "      <td>34155.33</td>\n",
       "      <td>B000006</td>\n",
       "      <td>3</td>\n",
       "      <td>ESP_012079_0945</td>\n",
       "      <td>184.94</td>\n",
       "      <td>71.25</td>\n",
       "      <td>1.00</td>\n",
       "      <td>...</td>\n",
       "      <td>214.785</td>\n",
       "      <td>126.856883</td>\n",
       "      <td>0.25</td>\n",
       "      <td>-65.411364</td>\n",
       "      <td>263.848868</td>\n",
       "      <td>-3370.358955</td>\n",
       "      <td>-85.388794</td>\n",
       "      <td>-85.442688</td>\n",
       "      <td>103.923605</td>\n",
       "      <td>blotch</td>\n",
       "    </tr>\n",
       "  </tbody>\n",
       "</table>\n",
       "<p>5 rows × 24 columns</p>\n",
       "</div>"
      ],
      "text/plain": [
       "   angle     tile_id  image_x   image_y marking_id  n_votes            obsid  \\\n",
       "0   2.28  APF0000cia  3330.27   5573.00    B000000        4  ESP_012079_0945   \n",
       "1   1.38  APF0000cia  3593.60   5706.40    B000001        5  ESP_012079_0945   \n",
       "2   7.16  APF0000cic    98.10  34394.70    B000004       10  ESP_012079_0945   \n",
       "3  81.00  APF0000cic   825.58  34203.38    B000005        8  ESP_012079_0945   \n",
       "4  14.66  APF0000cic   152.67  34155.33    B000006        3  ESP_012079_0945   \n",
       "\n",
       "   radius_1  radius_2  vote_ratio   ...         l_s  north_azimuth  map_scale  \\\n",
       "0     22.13     15.78        1.00   ...     214.785     126.856883       0.25   \n",
       "1     25.55     15.73        0.55   ...     214.785     126.856883       0.25   \n",
       "2     84.54     48.33        1.00   ...     214.785     126.856883       0.25   \n",
       "3     51.92     35.12        1.00   ...     214.785     126.856883       0.25   \n",
       "4    184.94     71.25        1.00   ...     214.785     126.856883       0.25   \n",
       "\n",
       "   BodyFixedCoordinateX  BodyFixedCoordinateY  BodyFixedCoordinateZ  \\\n",
       "0            -67.239204            257.001479          -3370.630963   \n",
       "1            -67.166591            257.008699          -3370.633997   \n",
       "2            -65.402430            263.908435          -3370.353988   \n",
       "3            -65.252200            263.799557          -3370.366324   \n",
       "4            -65.411364            263.848868          -3370.358955   \n",
       "\n",
       "   PlanetocentricLatitude  PlanetographicLatitude  PositiveEast360Longitude  \\\n",
       "0              -85.493625              -85.546304                104.661641   \n",
       "1              -85.493821              -85.546498                104.646095   \n",
       "2              -85.387847              -85.441752                103.918757   \n",
       "3              -85.390258              -85.444136                103.893534   \n",
       "4              -85.388794              -85.442688                103.923605   \n",
       "\n",
       "   marking  \n",
       "0   blotch  \n",
       "1   blotch  \n",
       "2   blotch  \n",
       "3   blotch  \n",
       "4   blotch  \n",
       "\n",
       "[5 rows x 24 columns]"
      ]
     },
     "execution_count": 44,
     "metadata": {},
     "output_type": "execute_result"
    }
   ],
   "source": [
    "blotches = rm.read_blotch_file().assign(marking='blotch')\n",
    "fans = rm.read_fan_file().assign(marking='fan')\n",
    "combined = pd.concat([blotches, fans], ignore_index=True)\n",
    "blotches.head()"
   ]
  },
  {
   "cell_type": "markdown",
   "metadata": {},
   "source": [
    "## Produce latex table"
   ]
  },
  {
   "cell_type": "code",
   "execution_count": 36,
   "metadata": {},
   "outputs": [
    {
     "data": {
      "text/plain": [
       "Index(['angle', 'distance', 'tile_id', 'image_x', 'image_y', 'marking_id',\n",
       "       'n_votes', 'obsid', 'spread', 'version', 'vote_ratio', 'x', 'x_angle',\n",
       "       'y', 'y_angle', 'l_s', 'north_azimuth', 'map_scale',\n",
       "       'BodyFixedCoordinateX', 'BodyFixedCoordinateY', 'BodyFixedCoordinateZ',\n",
       "       'PlanetocentricLatitude', 'PlanetographicLatitude',\n",
       "       'PositiveEast360Longitude', 'marking'],\n",
       "      dtype='object')"
      ]
     },
     "execution_count": 36,
     "metadata": {},
     "output_type": "execute_result"
    }
   ],
   "source": [
    "fans.columns"
   ]
  },
  {
   "cell_type": "code",
   "execution_count": 37,
   "metadata": {},
   "outputs": [
    {
     "name": "stdout",
     "output_type": "stream",
     "text": [
      "Index(['angle', 'distance', 'tile_id', 'image_x', 'image_y', 'marking_id',\n",
      "       'n_votes', 'obsid', 'spread', 'version', 'vote_ratio', 'x', 'x_angle'],\n",
      "      dtype='object')\n",
      "Index(['y', 'y_angle', 'l_s', 'north_azimuth', 'map_scale',\n",
      "       'BodyFixedCoordinateX', 'BodyFixedCoordinateY', 'BodyFixedCoordinateZ'],\n",
      "      dtype='object')\n"
     ]
    },
    {
     "data": {
      "text/plain": [
       "Index(['PlanetocentricLatitude', 'PlanetographicLatitude',\n",
       "       'PositiveEast360Longitude'],\n",
       "      dtype='object')"
      ]
     },
     "execution_count": 37,
     "metadata": {},
     "output_type": "execute_result"
    }
   ],
   "source": [
    "cols1 = fans.columns[:13]\n",
    "print(cols1)\n",
    "cols2 = fans.columns[13:-4]\n",
    "print(cols2)\n",
    "cols3 = fans.columns[-4:-1]\n",
    "cols3"
   ]
  },
  {
   "cell_type": "code",
   "execution_count": 38,
   "metadata": {
    "ExecuteTime": {
     "end_time": "2018-02-12T06:28:23.332820Z",
     "start_time": "2018-02-12T06:28:23.293287Z"
    }
   },
   "outputs": [],
   "source": [
    "fanshead1 = fans[cols1].head(10)\n",
    "fanshead2 = fans[cols2].head(10)\n",
    "fanshead3 = fans[cols3].head(10)"
   ]
  },
  {
   "cell_type": "code",
   "execution_count": 39,
   "metadata": {},
   "outputs": [
    {
     "data": {
      "text/plain": [
       "1897"
      ]
     },
     "execution_count": 39,
     "metadata": {},
     "output_type": "execute_result"
    }
   ],
   "source": [
    "with open(\"fan_table1.tex\", 'w') as f:\n",
    "    f.write(fanshead1.to_latex())"
   ]
  },
  {
   "cell_type": "code",
   "execution_count": 40,
   "metadata": {},
   "outputs": [
    {
     "data": {
      "text/plain": [
       "1605"
      ]
     },
     "execution_count": 40,
     "metadata": {},
     "output_type": "execute_result"
    }
   ],
   "source": [
    "with open(\"fan_table2.tex\", 'w') as f:\n",
    "    f.write(fanshead2.to_latex())"
   ]
  },
  {
   "cell_type": "code",
   "execution_count": 41,
   "metadata": {},
   "outputs": [
    {
     "data": {
      "text/plain": [
       "1002"
      ]
     },
     "execution_count": 41,
     "metadata": {},
     "output_type": "execute_result"
    }
   ],
   "source": [
    "with open(\"fan_table3.tex\", 'w') as f:\n",
    "    f.write(fanshead3.to_latex())"
   ]
  },
  {
   "cell_type": "markdown",
   "metadata": {},
   "source": [
    "## Add region\n",
    "Adding a region identifier, immensely helpful in automatically plotting stuff across regions."
   ]
  },
  {
   "cell_type": "code",
   "execution_count": 5,
   "metadata": {
    "ExecuteTime": {
     "end_time": "2018-02-12T19:42:28.244698Z",
     "start_time": "2018-02-12T19:42:27.221624Z"
    }
   },
   "outputs": [
    {
     "name": "stdout",
     "output_type": "stream",
     "text": [
      "Giza\n",
      "Inca\n",
      "Ithaca\n",
      "Manhattan\n",
      "Manhattan2\n",
      "Bilbao\n",
      "Oswego_Edge\n",
      "Manhattan_Frontinella\n",
      "BuenosAires\n",
      "Maccelsfield\n",
      "Starburst\n",
      "Potsdam\n",
      "Portsmouth\n"
     ]
    }
   ],
   "source": [
    "for Reg in region_data.regions:\n",
    "    reg = Reg()\n",
    "    print(reg.name)\n",
    "    combined.loc[combined.obsid.isin(reg.all_obsids), 'region'] = reg.name\n",
    "    fans.loc[fans.obsid.isin(reg.all_obsids), 'region']= reg.name\n",
    "    blotches.loc[blotches.obsid.isin(reg.all_obsids), 'region'] = reg.name"
   ]
  },
  {
   "cell_type": "markdown",
   "metadata": {
    "heading_collapsed": true
   },
   "source": [
    "# Calculate number of empty tiles "
   ]
  },
  {
   "cell_type": "code",
   "execution_count": 8,
   "metadata": {
    "hidden": true
   },
   "outputs": [],
   "source": [
    "tiles_marked = combined.tile_id.unique()"
   ]
  },
  {
   "cell_type": "code",
   "execution_count": 9,
   "metadata": {
    "ExecuteTime": {
     "end_time": "2018-02-08T20:42:22.806300Z",
     "start_time": "2018-02-08T20:42:22.783641Z"
    },
    "hidden": true
   },
   "outputs": [],
   "source": [
    "db = io.DBManager()"
   ]
  },
  {
   "cell_type": "code",
   "execution_count": 10,
   "metadata": {
    "ExecuteTime": {
     "end_time": "2018-02-08T20:42:45.810522Z",
     "start_time": "2018-02-08T20:42:35.212457Z"
    },
    "hidden": true
   },
   "outputs": [
    {
     "data": {
      "text/plain": [
       "42904"
      ]
     },
     "execution_count": 10,
     "metadata": {},
     "output_type": "execute_result"
    }
   ],
   "source": [
    "input_tiles = db.image_ids\n",
    "input_tiles.shape[0]"
   ]
  },
  {
   "cell_type": "code",
   "execution_count": 11,
   "metadata": {
    "ExecuteTime": {
     "end_time": "2018-02-08T20:42:47.544239Z",
     "start_time": "2018-02-08T20:42:47.520696Z"
    },
    "hidden": true
   },
   "outputs": [
    {
     "data": {
      "text/plain": [
       "12693"
      ]
     },
     "execution_count": 11,
     "metadata": {},
     "output_type": "execute_result"
    }
   ],
   "source": [
    "n_empty = input_tiles.shape[0] - tiles_marked.shape[0]\n",
    "n_empty"
   ]
  },
  {
   "cell_type": "code",
   "execution_count": 12,
   "metadata": {
    "ExecuteTime": {
     "end_time": "2018-02-08T20:42:53.137573Z",
     "start_time": "2018-02-08T20:42:53.114875Z"
    },
    "hidden": true
   },
   "outputs": [
    {
     "data": {
      "text/plain": [
       "0.29584654111504755"
      ]
     },
     "execution_count": 12,
     "metadata": {},
     "output_type": "execute_result"
    }
   ],
   "source": [
    "n_empty / input_tiles.shape[0]"
   ]
  },
  {
   "cell_type": "code",
   "execution_count": 13,
   "metadata": {
    "hidden": true
   },
   "outputs": [],
   "source": [
    "empty_tiles = list(set(input_tiles) - set(tiles_marked))"
   ]
  },
  {
   "cell_type": "code",
   "execution_count": 14,
   "metadata": {
    "hidden": true
   },
   "outputs": [],
   "source": [
    "all_data = db.get_all()"
   ]
  },
  {
   "cell_type": "code",
   "execution_count": 15,
   "metadata": {
    "hidden": true
   },
   "outputs": [],
   "source": [
    "all_data.set_index('image_id', inplace=True)"
   ]
  },
  {
   "cell_type": "code",
   "execution_count": 16,
   "metadata": {
    "hidden": true
   },
   "outputs": [],
   "source": [
    "empty_data = all_data.loc[empty_tiles]"
   ]
  },
  {
   "cell_type": "code",
   "execution_count": 28,
   "metadata": {
    "hidden": true
   },
   "outputs": [
    {
     "data": {
      "text/html": [
       "<div>\n",
       "<style scoped>\n",
       "    .dataframe tbody tr th:only-of-type {\n",
       "        vertical-align: middle;\n",
       "    }\n",
       "\n",
       "    .dataframe tbody tr th {\n",
       "        vertical-align: top;\n",
       "    }\n",
       "\n",
       "    .dataframe thead th {\n",
       "        text-align: right;\n",
       "    }\n",
       "</style>\n",
       "<table border=\"1\" class=\"dataframe\">\n",
       "  <thead>\n",
       "    <tr style=\"text-align: right;\">\n",
       "      <th></th>\n",
       "      <th>OBSERVATION_ID</th>\n",
       "      <th>IMAGE_CENTER_LATITUDE</th>\n",
       "      <th>IMAGE_CENTER_LONGITUDE</th>\n",
       "      <th>SOLAR_LONGITUDE</th>\n",
       "      <th>START_TIME</th>\n",
       "      <th>map_scale</th>\n",
       "      <th>north_azimuth</th>\n",
       "      <th># of tiles</th>\n",
       "    </tr>\n",
       "  </thead>\n",
       "  <tbody>\n",
       "    <tr>\n",
       "      <th>0</th>\n",
       "      <td>ESP_011296_0975</td>\n",
       "      <td>-82.1965</td>\n",
       "      <td>225.2530</td>\n",
       "      <td>178.833</td>\n",
       "      <td>2008-12-23 16:15:26</td>\n",
       "      <td>1.0</td>\n",
       "      <td>110.600107</td>\n",
       "      <td>91</td>\n",
       "    </tr>\n",
       "    <tr>\n",
       "      <th>1</th>\n",
       "      <td>ESP_011341_0980</td>\n",
       "      <td>-81.7969</td>\n",
       "      <td>76.1304</td>\n",
       "      <td>180.809</td>\n",
       "      <td>2008-12-27 04:25:02</td>\n",
       "      <td>0.5</td>\n",
       "      <td>110.208923</td>\n",
       "      <td>126</td>\n",
       "    </tr>\n",
       "    <tr>\n",
       "      <th>2</th>\n",
       "      <td>ESP_011348_0950</td>\n",
       "      <td>-85.0427</td>\n",
       "      <td>259.0940</td>\n",
       "      <td>181.117</td>\n",
       "      <td>2008-12-27 17:29:17</td>\n",
       "      <td>1.0</td>\n",
       "      <td>123.624057</td>\n",
       "      <td>91</td>\n",
       "    </tr>\n",
       "    <tr>\n",
       "      <th>3</th>\n",
       "      <td>ESP_011350_0945</td>\n",
       "      <td>-85.2160</td>\n",
       "      <td>181.4150</td>\n",
       "      <td>181.205</td>\n",
       "      <td>2008-12-27 21:14:01</td>\n",
       "      <td>0.5</td>\n",
       "      <td>99.672793</td>\n",
       "      <td>126</td>\n",
       "    </tr>\n",
       "    <tr>\n",
       "      <th>4</th>\n",
       "      <td>ESP_011351_0945</td>\n",
       "      <td>-85.2157</td>\n",
       "      <td>181.5480</td>\n",
       "      <td>181.249</td>\n",
       "      <td>2008-12-27 23:05:54</td>\n",
       "      <td>1.0</td>\n",
       "      <td>127.960688</td>\n",
       "      <td>91</td>\n",
       "    </tr>\n",
       "  </tbody>\n",
       "</table>\n",
       "</div>"
      ],
      "text/plain": [
       "    OBSERVATION_ID  IMAGE_CENTER_LATITUDE  IMAGE_CENTER_LONGITUDE  \\\n",
       "0  ESP_011296_0975               -82.1965                225.2530   \n",
       "1  ESP_011341_0980               -81.7969                 76.1304   \n",
       "2  ESP_011348_0950               -85.0427                259.0940   \n",
       "3  ESP_011350_0945               -85.2160                181.4150   \n",
       "4  ESP_011351_0945               -85.2157                181.5480   \n",
       "\n",
       "   SOLAR_LONGITUDE           START_TIME  map_scale  north_azimuth  # of tiles  \n",
       "0          178.833  2008-12-23 16:15:26        1.0     110.600107          91  \n",
       "1          180.809  2008-12-27 04:25:02        0.5     110.208923         126  \n",
       "2          181.117  2008-12-27 17:29:17        1.0     123.624057          91  \n",
       "3          181.205  2008-12-27 21:14:01        0.5      99.672793         126  \n",
       "4          181.249  2008-12-27 23:05:54        1.0     127.960688          91  "
      ]
     },
     "execution_count": 28,
     "metadata": {},
     "output_type": "execute_result"
    }
   ],
   "source": [
    "meta = pd.read_csv(rm.metadata_path)\n",
    "meta.head()"
   ]
  },
  {
   "cell_type": "code",
   "execution_count": 29,
   "metadata": {
    "hidden": true
   },
   "outputs": [],
   "source": [
    "empty_tile_numbers = empty_data.reset_index().groupby('image_name')[['x_tile', 'y_tile']].max()"
   ]
  },
  {
   "cell_type": "code",
   "execution_count": 30,
   "metadata": {
    "hidden": true
   },
   "outputs": [],
   "source": [
    "empty_tile_numbers['total'] = empty_tile_numbers.x_tile*empty_tile_numbers.y_tile"
   ]
  },
  {
   "cell_type": "code",
   "execution_count": 31,
   "metadata": {
    "hidden": true
   },
   "outputs": [
    {
     "data": {
      "text/html": [
       "<div>\n",
       "<style scoped>\n",
       "    .dataframe tbody tr th:only-of-type {\n",
       "        vertical-align: middle;\n",
       "    }\n",
       "\n",
       "    .dataframe tbody tr th {\n",
       "        vertical-align: top;\n",
       "    }\n",
       "\n",
       "    .dataframe thead th {\n",
       "        text-align: right;\n",
       "    }\n",
       "</style>\n",
       "<table border=\"1\" class=\"dataframe\">\n",
       "  <thead>\n",
       "    <tr style=\"text-align: right;\">\n",
       "      <th></th>\n",
       "      <th>x_tile</th>\n",
       "      <th>y_tile</th>\n",
       "      <th>total</th>\n",
       "    </tr>\n",
       "    <tr>\n",
       "      <th>image_name</th>\n",
       "      <th></th>\n",
       "      <th></th>\n",
       "      <th></th>\n",
       "    </tr>\n",
       "  </thead>\n",
       "  <tbody>\n",
       "    <tr>\n",
       "      <th>ESP_011341_0980</th>\n",
       "      <td>2</td>\n",
       "      <td>63</td>\n",
       "      <td>126</td>\n",
       "    </tr>\n",
       "    <tr>\n",
       "      <th>ESP_011348_0950</th>\n",
       "      <td>1</td>\n",
       "      <td>91</td>\n",
       "      <td>91</td>\n",
       "    </tr>\n",
       "    <tr>\n",
       "      <th>ESP_011350_0945</th>\n",
       "      <td>2</td>\n",
       "      <td>23</td>\n",
       "      <td>46</td>\n",
       "    </tr>\n",
       "    <tr>\n",
       "      <th>ESP_011351_0945</th>\n",
       "      <td>1</td>\n",
       "      <td>91</td>\n",
       "      <td>91</td>\n",
       "    </tr>\n",
       "    <tr>\n",
       "      <th>ESP_011370_0980</th>\n",
       "      <td>2</td>\n",
       "      <td>63</td>\n",
       "      <td>126</td>\n",
       "    </tr>\n",
       "  </tbody>\n",
       "</table>\n",
       "</div>"
      ],
      "text/plain": [
       "                 x_tile  y_tile  total\n",
       "image_name                            \n",
       "ESP_011341_0980       2      63    126\n",
       "ESP_011348_0950       1      91     91\n",
       "ESP_011350_0945       2      23     46\n",
       "ESP_011351_0945       1      91     91\n",
       "ESP_011370_0980       2      63    126"
      ]
     },
     "execution_count": 31,
     "metadata": {},
     "output_type": "execute_result"
    }
   ],
   "source": [
    "empty_tile_numbers.head()"
   ]
  },
  {
   "cell_type": "code",
   "execution_count": 32,
   "metadata": {
    "hidden": true
   },
   "outputs": [],
   "source": [
    "n_empty_per_obsid = empty_data.reset_index().groupby('image_name').image_id.nunique()"
   ]
  },
  {
   "cell_type": "code",
   "execution_count": 33,
   "metadata": {
    "hidden": true
   },
   "outputs": [],
   "source": [
    "n_empty_per_obsid = n_empty_per_obsid.to_frame()"
   ]
  },
  {
   "cell_type": "code",
   "execution_count": 34,
   "metadata": {
    "hidden": true
   },
   "outputs": [],
   "source": [
    "n_empty_per_obsid.columns = ['n']"
   ]
  },
  {
   "cell_type": "code",
   "execution_count": 35,
   "metadata": {
    "hidden": true
   },
   "outputs": [],
   "source": [
    "df = n_empty_per_obsid"
   ]
  },
  {
   "cell_type": "code",
   "execution_count": 36,
   "metadata": {
    "hidden": true
   },
   "outputs": [],
   "source": [
    "df = df.join(empty_tile_numbers.total)"
   ]
  },
  {
   "cell_type": "code",
   "execution_count": 37,
   "metadata": {
    "hidden": true
   },
   "outputs": [],
   "source": [
    "df = df.assign(ratio=df.n/df.total)"
   ]
  },
  {
   "cell_type": "code",
   "execution_count": 38,
   "metadata": {
    "hidden": true
   },
   "outputs": [],
   "source": [
    "df = df.join(meta.set_index('OBSERVATION_ID'))"
   ]
  },
  {
   "cell_type": "code",
   "execution_count": 39,
   "metadata": {
    "hidden": true
   },
   "outputs": [],
   "source": [
    "df['scaled_n'] = df.n / df.map_scale / df.map_scale"
   ]
  },
  {
   "cell_type": "code",
   "execution_count": 40,
   "metadata": {
    "hidden": true
   },
   "outputs": [],
   "source": [
    "import seaborn as sns\n",
    "sns.set_context('notebook')"
   ]
  },
  {
   "cell_type": "code",
   "execution_count": 41,
   "metadata": {
    "hidden": true
   },
   "outputs": [
    {
     "name": "stderr",
     "output_type": "stream",
     "text": [
      "/Users/klay6683/miniconda3/envs/stable/lib/python3.6/site-packages/matplotlib/__init__.py:932: MatplotlibDeprecationWarning: nbagg.transparent is deprecated and ignored. Use figure.facecolor instead.\n",
      "  mplDeprecation)\n"
     ]
    },
    {
     "data": {
      "application/vnd.jupyter.widget-view+json": {
       "model_id": "047c6b42049c47de841ada4e98932f52",
       "version_major": 2,
       "version_minor": 0
      },
      "text/html": [
       "<p>Failed to display Jupyter Widget of type <code>FigureCanvasNbAgg</code>.</p>\n",
       "<p>\n",
       "  If you're reading this message in the Jupyter Notebook or JupyterLab Notebook, it may mean\n",
       "  that the widgets JavaScript is still loading. If this message persists, it\n",
       "  likely means that the widgets JavaScript library is either not installed or\n",
       "  not enabled. See the <a href=\"https://ipywidgets.readthedocs.io/en/stable/user_install.html\">Jupyter\n",
       "  Widgets Documentation</a> for setup instructions.\n",
       "</p>\n",
       "<p>\n",
       "  If you're reading this message in another frontend (for example, a static\n",
       "  rendering on GitHub or <a href=\"https://nbviewer.jupyter.org/\">NBViewer</a>),\n",
       "  it may mean that your frontend doesn't currently support widgets.\n",
       "</p>\n"
      ],
      "text/plain": [
       "FigureCanvasNbAgg()"
      ]
     },
     "metadata": {},
     "output_type": "display_data"
    }
   ],
   "source": [
    "df.plot(kind='scatter', y='ratio', x='SOLAR_LONGITUDE')\n",
    "ax = plt.gca()\n",
    "ax.set_ylabel('Fraction of empty tiles per HiRISE image')\n",
    "ax.set_xlabel('Solar Longitude [$^\\circ$]')\n",
    "ax.set_title(\"Distribution of empty tiles vs time\")\n",
    "plt.savefig(\"/Users/klay6683/Dropbox/src/p4_paper1/figures/empty_data_vs_ls.pdf\")"
   ]
  },
  {
   "cell_type": "code",
   "execution_count": 43,
   "metadata": {
    "hidden": true
   },
   "outputs": [
    {
     "data": {
      "text/html": [
       "<div>\n",
       "<style scoped>\n",
       "    .dataframe tbody tr th:only-of-type {\n",
       "        vertical-align: middle;\n",
       "    }\n",
       "\n",
       "    .dataframe tbody tr th {\n",
       "        vertical-align: top;\n",
       "    }\n",
       "\n",
       "    .dataframe thead th {\n",
       "        text-align: right;\n",
       "    }\n",
       "</style>\n",
       "<table border=\"1\" class=\"dataframe\">\n",
       "  <thead>\n",
       "    <tr style=\"text-align: right;\">\n",
       "      <th></th>\n",
       "      <th>n</th>\n",
       "      <th>total</th>\n",
       "      <th>ratio</th>\n",
       "      <th>IMAGE_CENTER_LATITUDE</th>\n",
       "      <th>IMAGE_CENTER_LONGITUDE</th>\n",
       "      <th>SOLAR_LONGITUDE</th>\n",
       "      <th>START_TIME</th>\n",
       "      <th>map_scale</th>\n",
       "      <th>north_azimuth</th>\n",
       "      <th># of tiles</th>\n",
       "      <th>scaled_n</th>\n",
       "    </tr>\n",
       "    <tr>\n",
       "      <th>image_name</th>\n",
       "      <th></th>\n",
       "      <th></th>\n",
       "      <th></th>\n",
       "      <th></th>\n",
       "      <th></th>\n",
       "      <th></th>\n",
       "      <th></th>\n",
       "      <th></th>\n",
       "      <th></th>\n",
       "      <th></th>\n",
       "      <th></th>\n",
       "    </tr>\n",
       "  </thead>\n",
       "  <tbody>\n",
       "    <tr>\n",
       "      <th>ESP_011422_0930</th>\n",
       "      <td>28</td>\n",
       "      <td>33</td>\n",
       "      <td>0.848485</td>\n",
       "      <td>-87.0408</td>\n",
       "      <td>72.3564</td>\n",
       "      <td>184.393</td>\n",
       "      <td>2009-01-02 11:51:51</td>\n",
       "      <td>1.00</td>\n",
       "      <td>156.971839</td>\n",
       "      <td>54</td>\n",
       "      <td>28.0</td>\n",
       "    </tr>\n",
       "    <tr>\n",
       "      <th>ESP_012053_0980</th>\n",
       "      <td>399</td>\n",
       "      <td>455</td>\n",
       "      <td>0.876923</td>\n",
       "      <td>-81.8074</td>\n",
       "      <td>76.1621</td>\n",
       "      <td>213.543</td>\n",
       "      <td>2009-02-20 15:56:08</td>\n",
       "      <td>0.25</td>\n",
       "      <td>108.975943</td>\n",
       "      <td>455</td>\n",
       "      <td>6384.0</td>\n",
       "    </tr>\n",
       "    <tr>\n",
       "      <th>ESP_012251_0935</th>\n",
       "      <td>289</td>\n",
       "      <td>360</td>\n",
       "      <td>0.802778</td>\n",
       "      <td>-86.3968</td>\n",
       "      <td>99.1505</td>\n",
       "      <td>223.070</td>\n",
       "      <td>2009-03-08 02:10:48</td>\n",
       "      <td>0.25</td>\n",
       "      <td>137.978021</td>\n",
       "      <td>360</td>\n",
       "      <td>4624.0</td>\n",
       "    </tr>\n",
       "    <tr>\n",
       "      <th>ESP_012264_0980</th>\n",
       "      <td>430</td>\n",
       "      <td>455</td>\n",
       "      <td>0.945055</td>\n",
       "      <td>-81.8105</td>\n",
       "      <td>76.1688</td>\n",
       "      <td>223.702</td>\n",
       "      <td>2009-03-09 02:30:59</td>\n",
       "      <td>0.25</td>\n",
       "      <td>109.478178</td>\n",
       "      <td>455</td>\n",
       "      <td>6880.0</td>\n",
       "    </tr>\n",
       "    <tr>\n",
       "      <th>ESP_012277_0975</th>\n",
       "      <td>119</td>\n",
       "      <td>144</td>\n",
       "      <td>0.826389</td>\n",
       "      <td>-82.5184</td>\n",
       "      <td>80.0468</td>\n",
       "      <td>224.333</td>\n",
       "      <td>2009-03-10 02:49:25</td>\n",
       "      <td>0.50</td>\n",
       "      <td>107.561361</td>\n",
       "      <td>144</td>\n",
       "      <td>476.0</td>\n",
       "    </tr>\n",
       "    <tr>\n",
       "      <th>ESP_012990_0930</th>\n",
       "      <td>299</td>\n",
       "      <td>360</td>\n",
       "      <td>0.830556</td>\n",
       "      <td>-87.0001</td>\n",
       "      <td>98.8753</td>\n",
       "      <td>259.432</td>\n",
       "      <td>2009-05-04 16:10:56</td>\n",
       "      <td>0.25</td>\n",
       "      <td>153.852488</td>\n",
       "      <td>360</td>\n",
       "      <td>4784.0</td>\n",
       "    </tr>\n",
       "    <tr>\n",
       "      <th>ESP_013095_0935</th>\n",
       "      <td>87</td>\n",
       "      <td>108</td>\n",
       "      <td>0.805556</td>\n",
       "      <td>-86.3918</td>\n",
       "      <td>99.0704</td>\n",
       "      <td>264.609</td>\n",
       "      <td>2009-05-12 20:32:13</td>\n",
       "      <td>0.50</td>\n",
       "      <td>138.858612</td>\n",
       "      <td>108</td>\n",
       "      <td>348.0</td>\n",
       "    </tr>\n",
       "    <tr>\n",
       "      <th>ESP_020558_0930</th>\n",
       "      <td>126</td>\n",
       "      <td>144</td>\n",
       "      <td>0.875000</td>\n",
       "      <td>-87.0036</td>\n",
       "      <td>127.4130</td>\n",
       "      <td>198.899</td>\n",
       "      <td>2010-12-15 09:02:54</td>\n",
       "      <td>0.50</td>\n",
       "      <td>155.833953</td>\n",
       "      <td>144</td>\n",
       "      <td>504.0</td>\n",
       "    </tr>\n",
       "    <tr>\n",
       "      <th>ESP_020731_0930</th>\n",
       "      <td>228</td>\n",
       "      <td>270</td>\n",
       "      <td>0.844444</td>\n",
       "      <td>-87.0030</td>\n",
       "      <td>86.5484</td>\n",
       "      <td>206.975</td>\n",
       "      <td>2010-12-28 20:34:41</td>\n",
       "      <td>0.25</td>\n",
       "      <td>159.909177</td>\n",
       "      <td>270</td>\n",
       "      <td>3648.0</td>\n",
       "    </tr>\n",
       "    <tr>\n",
       "      <th>ESP_020955_0930</th>\n",
       "      <td>233</td>\n",
       "      <td>270</td>\n",
       "      <td>0.862963</td>\n",
       "      <td>-87.0070</td>\n",
       "      <td>86.6516</td>\n",
       "      <td>217.638</td>\n",
       "      <td>2011-01-15 07:28:27</td>\n",
       "      <td>0.25</td>\n",
       "      <td>155.288303</td>\n",
       "      <td>270</td>\n",
       "      <td>3728.0</td>\n",
       "    </tr>\n",
       "    <tr>\n",
       "      <th>ESP_021587_0980</th>\n",
       "      <td>229</td>\n",
       "      <td>270</td>\n",
       "      <td>0.848148</td>\n",
       "      <td>-81.6961</td>\n",
       "      <td>66.3137</td>\n",
       "      <td>248.575</td>\n",
       "      <td>2011-03-05 13:27:00</td>\n",
       "      <td>0.25</td>\n",
       "      <td>109.062045</td>\n",
       "      <td>270</td>\n",
       "      <td>3664.0</td>\n",
       "    </tr>\n",
       "    <tr>\n",
       "      <th>ESP_022260_0935</th>\n",
       "      <td>237</td>\n",
       "      <td>270</td>\n",
       "      <td>0.877778</td>\n",
       "      <td>-86.3956</td>\n",
       "      <td>99.1226</td>\n",
       "      <td>281.619</td>\n",
       "      <td>2011-04-27 00:01:16</td>\n",
       "      <td>0.25</td>\n",
       "      <td>156.500360</td>\n",
       "      <td>270</td>\n",
       "      <td>3792.0</td>\n",
       "    </tr>\n",
       "    <tr>\n",
       "      <th>ESP_022339_0935</th>\n",
       "      <td>292</td>\n",
       "      <td>315</td>\n",
       "      <td>0.926984</td>\n",
       "      <td>-86.2751</td>\n",
       "      <td>99.6123</td>\n",
       "      <td>285.423</td>\n",
       "      <td>2011-05-03 03:45:55</td>\n",
       "      <td>0.25</td>\n",
       "      <td>153.768164</td>\n",
       "      <td>315</td>\n",
       "      <td>4672.0</td>\n",
       "    </tr>\n",
       "    <tr>\n",
       "      <th>ESP_022379_0930</th>\n",
       "      <td>219</td>\n",
       "      <td>260</td>\n",
       "      <td>0.842308</td>\n",
       "      <td>-87.0045</td>\n",
       "      <td>86.5510</td>\n",
       "      <td>287.340</td>\n",
       "      <td>2011-05-06 06:34:07</td>\n",
       "      <td>0.25</td>\n",
       "      <td>153.003708</td>\n",
       "      <td>260</td>\n",
       "      <td>3504.0</td>\n",
       "    </tr>\n",
       "    <tr>\n",
       "      <th>ESP_022510_0980</th>\n",
       "      <td>58</td>\n",
       "      <td>72</td>\n",
       "      <td>0.805556</td>\n",
       "      <td>-81.6988</td>\n",
       "      <td>66.3188</td>\n",
       "      <td>293.572</td>\n",
       "      <td>2011-05-16 11:34:43</td>\n",
       "      <td>0.50</td>\n",
       "      <td>107.877997</td>\n",
       "      <td>72</td>\n",
       "      <td>232.0</td>\n",
       "    </tr>\n",
       "  </tbody>\n",
       "</table>\n",
       "</div>"
      ],
      "text/plain": [
       "                   n  total     ratio  IMAGE_CENTER_LATITUDE  \\\n",
       "image_name                                                     \n",
       "ESP_011422_0930   28     33  0.848485               -87.0408   \n",
       "ESP_012053_0980  399    455  0.876923               -81.8074   \n",
       "ESP_012251_0935  289    360  0.802778               -86.3968   \n",
       "ESP_012264_0980  430    455  0.945055               -81.8105   \n",
       "ESP_012277_0975  119    144  0.826389               -82.5184   \n",
       "ESP_012990_0930  299    360  0.830556               -87.0001   \n",
       "ESP_013095_0935   87    108  0.805556               -86.3918   \n",
       "ESP_020558_0930  126    144  0.875000               -87.0036   \n",
       "ESP_020731_0930  228    270  0.844444               -87.0030   \n",
       "ESP_020955_0930  233    270  0.862963               -87.0070   \n",
       "ESP_021587_0980  229    270  0.848148               -81.6961   \n",
       "ESP_022260_0935  237    270  0.877778               -86.3956   \n",
       "ESP_022339_0935  292    315  0.926984               -86.2751   \n",
       "ESP_022379_0930  219    260  0.842308               -87.0045   \n",
       "ESP_022510_0980   58     72  0.805556               -81.6988   \n",
       "\n",
       "                 IMAGE_CENTER_LONGITUDE  SOLAR_LONGITUDE           START_TIME  \\\n",
       "image_name                                                                      \n",
       "ESP_011422_0930                 72.3564          184.393  2009-01-02 11:51:51   \n",
       "ESP_012053_0980                 76.1621          213.543  2009-02-20 15:56:08   \n",
       "ESP_012251_0935                 99.1505          223.070  2009-03-08 02:10:48   \n",
       "ESP_012264_0980                 76.1688          223.702  2009-03-09 02:30:59   \n",
       "ESP_012277_0975                 80.0468          224.333  2009-03-10 02:49:25   \n",
       "ESP_012990_0930                 98.8753          259.432  2009-05-04 16:10:56   \n",
       "ESP_013095_0935                 99.0704          264.609  2009-05-12 20:32:13   \n",
       "ESP_020558_0930                127.4130          198.899  2010-12-15 09:02:54   \n",
       "ESP_020731_0930                 86.5484          206.975  2010-12-28 20:34:41   \n",
       "ESP_020955_0930                 86.6516          217.638  2011-01-15 07:28:27   \n",
       "ESP_021587_0980                 66.3137          248.575  2011-03-05 13:27:00   \n",
       "ESP_022260_0935                 99.1226          281.619  2011-04-27 00:01:16   \n",
       "ESP_022339_0935                 99.6123          285.423  2011-05-03 03:45:55   \n",
       "ESP_022379_0930                 86.5510          287.340  2011-05-06 06:34:07   \n",
       "ESP_022510_0980                 66.3188          293.572  2011-05-16 11:34:43   \n",
       "\n",
       "                 map_scale  north_azimuth  # of tiles  scaled_n  \n",
       "image_name                                                       \n",
       "ESP_011422_0930       1.00     156.971839          54      28.0  \n",
       "ESP_012053_0980       0.25     108.975943         455    6384.0  \n",
       "ESP_012251_0935       0.25     137.978021         360    4624.0  \n",
       "ESP_012264_0980       0.25     109.478178         455    6880.0  \n",
       "ESP_012277_0975       0.50     107.561361         144     476.0  \n",
       "ESP_012990_0930       0.25     153.852488         360    4784.0  \n",
       "ESP_013095_0935       0.50     138.858612         108     348.0  \n",
       "ESP_020558_0930       0.50     155.833953         144     504.0  \n",
       "ESP_020731_0930       0.25     159.909177         270    3648.0  \n",
       "ESP_020955_0930       0.25     155.288303         270    3728.0  \n",
       "ESP_021587_0980       0.25     109.062045         270    3664.0  \n",
       "ESP_022260_0935       0.25     156.500360         270    3792.0  \n",
       "ESP_022339_0935       0.25     153.768164         315    4672.0  \n",
       "ESP_022379_0930       0.25     153.003708         260    3504.0  \n",
       "ESP_022510_0980       0.50     107.877997          72     232.0  "
      ]
     },
     "execution_count": 43,
     "metadata": {},
     "output_type": "execute_result"
    }
   ],
   "source": [
    "df[df.ratio > 0.8]"
   ]
  },
  {
   "cell_type": "markdown",
   "metadata": {
    "heading_collapsed": true,
    "hidden": true
   },
   "source": [
    "## Create sample to check what's empty"
   ]
  },
  {
   "cell_type": "code",
   "execution_count": 14,
   "metadata": {
    "ExecuteTime": {
     "end_time": "2018-01-31T17:47:26.818961Z",
     "start_time": "2018-01-31T17:47:26.793459Z"
    },
    "hidden": true
   },
   "outputs": [],
   "source": [
    "sample = np.random.choice(empty_tiles, 200)"
   ]
  },
  {
   "cell_type": "code",
   "execution_count": 15,
   "metadata": {
    "ExecuteTime": {
     "end_time": "2018-01-31T17:47:27.682724Z",
     "start_time": "2018-01-31T17:47:27.659949Z"
    },
    "hidden": true
   },
   "outputs": [
    {
     "name": "stdout",
     "output_type": "stream",
     "text": [
      "/Users/klay6683/Dropbox/src/planet4/notebooks/plots\n"
     ]
    }
   ],
   "source": [
    "cd plots"
   ]
  },
  {
   "cell_type": "code",
   "execution_count": 16,
   "metadata": {
    "ExecuteTime": {
     "end_time": "2018-01-31T17:47:33.607474Z",
     "start_time": "2018-01-31T17:47:33.587023Z"
    },
    "hidden": true
   },
   "outputs": [],
   "source": [
    "from tqdm import tqdm"
   ]
  },
  {
   "cell_type": "code",
   "execution_count": 17,
   "metadata": {
    "ExecuteTime": {
     "end_time": "2018-01-31T17:51:25.598119Z",
     "start_time": "2018-01-31T17:47:39.909394Z"
    },
    "hidden": true
   },
   "outputs": [
    {
     "name": "stderr",
     "output_type": "stream",
     "text": [
      "100%|██████████| 200/200 [03:45<00:00,  1.13s/it]\n"
     ]
    }
   ],
   "source": [
    "for image_id in tqdm(sample):\n",
    "    fig, ax = plt.subplots(ncols=2)\n",
    "    plotting.plot_raw_fans(image_id, ax=ax[0])\n",
    "    plotting.plot_raw_blotches(image_id, ax=ax[1])\n",
    "    fig.savefig(f\"empty_tiles/{image_id}_input_markings.png\", dpi=150)\n",
    "    plt.close('all')"
   ]
  },
  {
   "cell_type": "markdown",
   "metadata": {},
   "source": [
    "# highest number of markings per tile"
   ]
  },
  {
   "cell_type": "code",
   "execution_count": 6,
   "metadata": {
    "ExecuteTime": {
     "end_time": "2018-02-12T06:28:34.689590Z",
     "start_time": "2018-02-12T06:28:34.645078Z"
    }
   },
   "outputs": [
    {
     "data": {
      "text/plain": [
       "tile_id\n",
       "APF00006mr    167\n",
       "APF0000ay0    159\n",
       "APF0000q3x    135\n",
       "APF0000at2    128\n",
       "APF0000hyn    127\n",
       "dtype: int64"
      ]
     },
     "execution_count": 6,
     "metadata": {},
     "output_type": "execute_result"
    }
   ],
   "source": [
    "fans_per_tile = fans.groupby('tile_id').size().sort_values(ascending=False)\n",
    "fans_per_tile.head()"
   ]
  },
  {
   "cell_type": "code",
   "execution_count": 7,
   "metadata": {
    "ExecuteTime": {
     "end_time": "2018-02-12T06:28:35.457781Z",
     "start_time": "2018-02-12T06:28:35.399832Z"
    }
   },
   "outputs": [
    {
     "data": {
      "text/plain": [
       "tile_id\n",
       "APF00007t9    278\n",
       "APF00007gm    244\n",
       "APF00007ob    239\n",
       "APF00007r9    221\n",
       "APF00007nm    221\n",
       "dtype: int64"
      ]
     },
     "execution_count": 7,
     "metadata": {},
     "output_type": "execute_result"
    }
   ],
   "source": [
    "blotches_per_tile = blotches.groupby('tile_id').size().sort_values(ascending=False)\n",
    "blotches_per_tile.head()"
   ]
  },
  {
   "cell_type": "code",
   "execution_count": 8,
   "metadata": {
    "ExecuteTime": {
     "end_time": "2018-02-12T06:28:38.639067Z",
     "start_time": "2018-02-12T06:28:38.615975Z"
    }
   },
   "outputs": [
    {
     "name": "stdout",
     "output_type": "stream",
     "text": [
      "4.0\n"
     ]
    },
    {
     "data": {
      "text/plain": [
       "4.0"
      ]
     },
     "execution_count": 8,
     "metadata": {},
     "output_type": "execute_result"
    }
   ],
   "source": [
    "print(fans_per_tile.median())\n",
    "blotches_per_tile.median()"
   ]
  },
  {
   "cell_type": "code",
   "execution_count": 9,
   "metadata": {
    "ExecuteTime": {
     "end_time": "2018-02-12T20:14:41.238921Z",
     "start_time": "2018-02-12T20:14:41.214168Z"
    }
   },
   "outputs": [],
   "source": [
    "plt.close('all')"
   ]
  },
  {
   "cell_type": "code",
   "execution_count": 10,
   "metadata": {
    "ExecuteTime": {
     "end_time": "2018-02-12T20:14:47.434730Z",
     "start_time": "2018-02-12T20:14:47.339875Z"
    }
   },
   "outputs": [],
   "source": [
    "by_image_id = combined.groupby(['marking', 'tile_id']).size()"
   ]
  },
  {
   "cell_type": "code",
   "execution_count": 11,
   "metadata": {
    "ExecuteTime": {
     "end_time": "2018-02-12T20:14:48.031736Z",
     "start_time": "2018-02-12T20:14:48.009638Z"
    }
   },
   "outputs": [],
   "source": [
    "by_image_id.name = 'Markings per tile'"
   ]
  },
  {
   "cell_type": "code",
   "execution_count": 12,
   "metadata": {
    "ExecuteTime": {
     "end_time": "2018-02-12T20:14:50.161691Z",
     "start_time": "2018-02-12T20:14:50.135725Z"
    }
   },
   "outputs": [],
   "source": [
    "by_image_id = by_image_id.reset_index()"
   ]
  },
  {
   "cell_type": "code",
   "execution_count": 13,
   "metadata": {
    "ExecuteTime": {
     "end_time": "2018-02-12T20:14:51.581085Z",
     "start_time": "2018-02-12T20:14:51.557668Z"
    }
   },
   "outputs": [
    {
     "data": {
      "text/plain": [
       "Index(['marking', 'tile_id', 'Markings per tile'], dtype='object')"
      ]
     },
     "execution_count": 13,
     "metadata": {},
     "output_type": "execute_result"
    }
   ],
   "source": [
    "by_image_id.columns"
   ]
  },
  {
   "cell_type": "code",
   "execution_count": 15,
   "metadata": {
    "ExecuteTime": {
     "end_time": "2018-02-12T20:26:17.634367Z",
     "start_time": "2018-02-12T20:26:16.971594Z"
    }
   },
   "outputs": [
    {
     "name": "stderr",
     "output_type": "stream",
     "text": [
      "/Users/klay6683/miniconda3/envs/stable/lib/python3.6/site-packages/matplotlib/__init__.py:932: MatplotlibDeprecationWarning: nbagg.transparent is deprecated and ignored. Use figure.facecolor instead.\n",
      "  mplDeprecation)\n"
     ]
    },
    {
     "data": {
      "application/vnd.jupyter.widget-view+json": {
       "model_id": "a6f28b25b31b45719eab56b16fcb856a",
       "version_major": 2,
       "version_minor": 0
      },
      "text/html": [
       "<p>Failed to display Jupyter Widget of type <code>FigureCanvasNbAgg</code>.</p>\n",
       "<p>\n",
       "  If you're reading this message in the Jupyter Notebook or JupyterLab Notebook, it may mean\n",
       "  that the widgets JavaScript is still loading. If this message persists, it\n",
       "  likely means that the widgets JavaScript library is either not installed or\n",
       "  not enabled. See the <a href=\"https://ipywidgets.readthedocs.io/en/stable/user_install.html\">Jupyter\n",
       "  Widgets Documentation</a> for setup instructions.\n",
       "</p>\n",
       "<p>\n",
       "  If you're reading this message in another frontend (for example, a static\n",
       "  rendering on GitHub or <a href=\"https://nbviewer.jupyter.org/\">NBViewer</a>),\n",
       "  it may mean that your frontend doesn't currently support widgets.\n",
       "</p>\n"
      ],
      "text/plain": [
       "FigureCanvasNbAgg()"
      ]
     },
     "metadata": {},
     "output_type": "display_data"
    },
    {
     "name": "stderr",
     "output_type": "stream",
     "text": [
      "/Users/klay6683/miniconda3/envs/stable/lib/python3.6/site-packages/matplotlib/axes/_axes.py:6448: UserWarning: The 'normed' kwarg is deprecated, and has been replaced by the 'density' kwarg.\n",
      "  warnings.warn(\"The 'normed' kwarg is deprecated, and has been \"\n"
     ]
    }
   ],
   "source": [
    "g = sns.FacetGrid(by_image_id, col=\"marking\", aspect=1.2)\n",
    "bins = np.arange(0, 280, 5)\n",
    "g.map(sns.distplot, 'Markings per tile', kde=False, bins=bins, hist_kws={'log':True})\n",
    "plt.savefig('/Users/klay6683/Dropbox/src/p4_paper1/figures/number_distributions.pdf', dpi=150)"
   ]
  },
  {
   "cell_type": "code",
   "execution_count": 16,
   "metadata": {
    "ExecuteTime": {
     "end_time": "2018-02-12T06:29:12.241382Z",
     "start_time": "2018-02-12T06:29:12.220294Z"
    }
   },
   "outputs": [
    {
     "data": {
      "text/plain": [
       "4.0"
      ]
     },
     "execution_count": 16,
     "metadata": {},
     "output_type": "execute_result"
    }
   ],
   "source": [
    "blotches_per_tile.median()"
   ]
  },
  {
   "cell_type": "code",
   "execution_count": 17,
   "metadata": {
    "ExecuteTime": {
     "end_time": "2018-02-12T06:29:12.735858Z",
     "start_time": "2018-02-12T06:29:12.715191Z"
    }
   },
   "outputs": [],
   "source": [
    "from planet4 import plotting"
   ]
  },
  {
   "cell_type": "code",
   "execution_count": 18,
   "metadata": {
    "ExecuteTime": {
     "end_time": "2018-02-12T20:15:33.733542Z",
     "start_time": "2018-02-12T20:15:33.694926Z"
    }
   },
   "outputs": [],
   "source": [
    "# %load -n plotting.plot_finals_with_input\n",
    "def plot_finals_with_input(id_, datapath=None, horizontal=True, scope='planet4'):\n",
    "    imgid = markings.ImageID(id_, scope=scope)\n",
    "    pm = io.PathManager(id_=id_, datapath=datapath)\n",
    "    if horizontal is True:\n",
    "        kwargs = {'ncols': 2}\n",
    "    else:\n",
    "        kwargs = {'nrows': 2}\n",
    "    fig, ax = plt.subplots(figsize=(4,5), **kwargs)\n",
    "    ax[0].set_title(imgid.imgid, fontsize=8)\n",
    "    imgid.show_subframe(ax=ax[0])\n",
    "    for marking in ['fan', 'blotch']:\n",
    "        try:\n",
    "            df = getattr(pm, f\"final_{marking}df\")\n",
    "        except:\n",
    "            continue\n",
    "        else:\n",
    "            data = df[df.image_id == imgid.imgid]\n",
    "            imgid.plot_markings(marking, data, ax=ax[1])\n",
    "    fig.subplots_adjust(top=0.95,bottom=0, left=0, right=1, hspace=0.01, wspace=0.01)\n",
    "    fig.savefig(f\"/Users/klay6683/Dropbox/src/p4_paper1/figures/{imgid.imgid}_final.png\",\n",
    "                dpi=150)"
   ]
  },
  {
   "cell_type": "code",
   "execution_count": 19,
   "metadata": {
    "ExecuteTime": {
     "end_time": "2018-02-12T19:38:41.980213Z",
     "start_time": "2018-02-12T19:38:40.923378Z"
    },
    "scrolled": false
   },
   "outputs": [
    {
     "name": "stderr",
     "output_type": "stream",
     "text": [
      "/Users/klay6683/miniconda3/envs/stable/lib/python3.6/site-packages/matplotlib/__init__.py:932: MatplotlibDeprecationWarning: nbagg.transparent is deprecated and ignored. Use figure.facecolor instead.\n",
      "  mplDeprecation)\n"
     ]
    },
    {
     "data": {
      "application/vnd.jupyter.widget-view+json": {
       "model_id": "90b95124e8384d1ca22fb55ba5df7889",
       "version_major": 2,
       "version_minor": 0
      },
      "text/html": [
       "<p>Failed to display Jupyter Widget of type <code>FigureCanvasNbAgg</code>.</p>\n",
       "<p>\n",
       "  If you're reading this message in the Jupyter Notebook or JupyterLab Notebook, it may mean\n",
       "  that the widgets JavaScript is still loading. If this message persists, it\n",
       "  likely means that the widgets JavaScript library is either not installed or\n",
       "  not enabled. See the <a href=\"https://ipywidgets.readthedocs.io/en/stable/user_install.html\">Jupyter\n",
       "  Widgets Documentation</a> for setup instructions.\n",
       "</p>\n",
       "<p>\n",
       "  If you're reading this message in another frontend (for example, a static\n",
       "  rendering on GitHub or <a href=\"https://nbviewer.jupyter.org/\">NBViewer</a>),\n",
       "  it may mean that your frontend doesn't currently support widgets.\n",
       "</p>\n"
      ],
      "text/plain": [
       "FigureCanvasNbAgg()"
      ]
     },
     "metadata": {},
     "output_type": "display_data"
    }
   ],
   "source": [
    "plot_finals_with_input('7t9', rm.savefolder, horizontal=False)"
   ]
  },
  {
   "cell_type": "code",
   "execution_count": 20,
   "metadata": {
    "ExecuteTime": {
     "end_time": "2018-02-12T08:23:56.455448Z",
     "start_time": "2018-02-12T08:23:56.349367Z"
    }
   },
   "outputs": [
    {
     "data": {
      "text/plain": [
       "'ESP_012604_0965'"
      ]
     },
     "execution_count": 20,
     "metadata": {},
     "output_type": "execute_result"
    }
   ],
   "source": [
    "markings.ImageID('7t9').image_name"
   ]
  },
  {
   "cell_type": "markdown",
   "metadata": {
    "ExecuteTime": {
     "end_time": "2018-01-01T23:53:46.624849Z",
     "start_time": "2018-01-01T23:53:46.592604Z"
    },
    "heading_collapsed": true
   },
   "source": [
    "# Convert distance to meters"
   ]
  },
  {
   "cell_type": "code",
   "execution_count": 21,
   "metadata": {
    "ExecuteTime": {
     "end_time": "2018-02-12T08:39:17.467236Z",
     "start_time": "2018-02-12T08:39:17.286641Z"
    },
    "hidden": true
   },
   "outputs": [],
   "source": [
    "fans['distance_m'] = fans.distance*fans.map_scale\n",
    "\n",
    "blotches['radius_1_m'] = blotches.radius_1*blotches.map_scale\n",
    "blotches['radius_2_m'] = blotches.radius_2*blotches.map_scale"
   ]
  },
  {
   "cell_type": "markdown",
   "metadata": {
    "hidden": true
   },
   "source": [
    "### Reduction of number of fan markings to finals"
   ]
  },
  {
   "cell_type": "code",
   "execution_count": 22,
   "metadata": {
    "ExecuteTime": {
     "end_time": "2018-02-12T08:39:19.736316Z",
     "start_time": "2018-02-12T08:39:19.714384Z"
    },
    "hidden": true
   },
   "outputs": [],
   "source": [
    "n_fan_in = 2792963"
   ]
  },
  {
   "cell_type": "code",
   "execution_count": 23,
   "metadata": {
    "ExecuteTime": {
     "end_time": "2018-02-12T08:39:20.099114Z",
     "start_time": "2018-02-12T08:39:20.076133Z"
    },
    "hidden": true
   },
   "outputs": [
    {
     "data": {
      "text/plain": [
       "159287"
      ]
     },
     "execution_count": 23,
     "metadata": {},
     "output_type": "execute_result"
    }
   ],
   "source": [
    "fans.shape[0]"
   ]
  },
  {
   "cell_type": "code",
   "execution_count": 24,
   "metadata": {
    "ExecuteTime": {
     "end_time": "2018-02-12T08:39:20.549155Z",
     "start_time": "2018-02-12T08:39:20.524470Z"
    },
    "hidden": true
   },
   "outputs": [
    {
     "data": {
      "text/plain": [
       "0.05703154678382778"
      ]
     },
     "execution_count": 24,
     "metadata": {},
     "output_type": "execute_result"
    }
   ],
   "source": [
    "fans.shape[0] / n_fan_in"
   ]
  },
  {
   "cell_type": "markdown",
   "metadata": {},
   "source": [
    "# Length stats\n",
    "\n",
    "Percentage of fan markings below 100 m:"
   ]
  },
  {
   "cell_type": "code",
   "execution_count": 25,
   "metadata": {
    "ExecuteTime": {
     "end_time": "2018-02-12T08:39:24.799101Z",
     "start_time": "2018-02-12T08:39:24.750311Z"
    }
   },
   "outputs": [
    {
     "data": {
      "text/plain": [
       "96.5967090848594"
      ]
     },
     "execution_count": 25,
     "metadata": {},
     "output_type": "execute_result"
    }
   ],
   "source": [
    "import scipy\n",
    "scipy.stats.percentileofscore(fans.distance_m, 100)"
   ]
  },
  {
   "cell_type": "markdown",
   "metadata": {},
   "source": [
    "Cumulative histogram of fan lengths"
   ]
  },
  {
   "cell_type": "code",
   "execution_count": 26,
   "metadata": {
    "ExecuteTime": {
     "end_time": "2018-02-12T19:44:02.890688Z",
     "start_time": "2018-02-12T19:44:02.867691Z"
    }
   },
   "outputs": [],
   "source": [
    "def add_percentage_line(ax, meters, column):\n",
    "    y = scipy.stats.percentileofscore(column, meters)\n",
    "    ax.axhline(y/100, linestyle='dashed', color='black', lw=1)\n",
    "    ax.axvline(meters, linestyle='dashed', color='black', lw=1)\n",
    "    ax.text(meters, y/100, f\"{y/100:0.2f}\")"
   ]
  },
  {
   "cell_type": "code",
   "execution_count": 27,
   "metadata": {
    "ExecuteTime": {
     "end_time": "2018-02-12T20:10:45.396683Z",
     "start_time": "2018-02-12T20:10:45.362617Z"
    }
   },
   "outputs": [],
   "source": [
    "plt.close('all')"
   ]
  },
  {
   "cell_type": "code",
   "execution_count": 28,
   "metadata": {
    "ExecuteTime": {
     "end_time": "2018-02-12T20:09:11.302075Z",
     "start_time": "2018-02-12T20:09:11.276711Z"
    }
   },
   "outputs": [
    {
     "data": {
      "text/plain": [
       "372.82"
      ]
     },
     "execution_count": 28,
     "metadata": {},
     "output_type": "execute_result"
    }
   ],
   "source": [
    "fans.distance_m.max()"
   ]
  },
  {
   "cell_type": "code",
   "execution_count": 29,
   "metadata": {
    "ExecuteTime": {
     "end_time": "2018-02-12T20:16:07.175169Z",
     "start_time": "2018-02-12T20:16:07.154115Z"
    }
   },
   "outputs": [],
   "source": [
    "bins = np.arange(0,380, 5)"
   ]
  },
  {
   "cell_type": "code",
   "execution_count": 30,
   "metadata": {
    "ExecuteTime": {
     "end_time": "2018-02-12T20:20:31.563750Z",
     "start_time": "2018-02-12T20:20:30.775238Z"
    },
    "scrolled": false
   },
   "outputs": [
    {
     "name": "stderr",
     "output_type": "stream",
     "text": [
      "/Users/klay6683/miniconda3/envs/stable/lib/python3.6/site-packages/matplotlib/__init__.py:932: MatplotlibDeprecationWarning: nbagg.transparent is deprecated and ignored. Use figure.facecolor instead.\n",
      "  mplDeprecation)\n"
     ]
    },
    {
     "data": {
      "application/vnd.jupyter.widget-view+json": {
       "model_id": "3311a6f66a4745c7a3eb332a59cc3872",
       "version_major": 2,
       "version_minor": 0
      },
      "text/html": [
       "<p>Failed to display Jupyter Widget of type <code>FigureCanvasNbAgg</code>.</p>\n",
       "<p>\n",
       "  If you're reading this message in the Jupyter Notebook or JupyterLab Notebook, it may mean\n",
       "  that the widgets JavaScript is still loading. If this message persists, it\n",
       "  likely means that the widgets JavaScript library is either not installed or\n",
       "  not enabled. See the <a href=\"https://ipywidgets.readthedocs.io/en/stable/user_install.html\">Jupyter\n",
       "  Widgets Documentation</a> for setup instructions.\n",
       "</p>\n",
       "<p>\n",
       "  If you're reading this message in another frontend (for example, a static\n",
       "  rendering on GitHub or <a href=\"https://nbviewer.jupyter.org/\">NBViewer</a>),\n",
       "  it may mean that your frontend doesn't currently support widgets.\n",
       "</p>\n"
      ],
      "text/plain": [
       "FigureCanvasNbAgg()"
      ]
     },
     "metadata": {},
     "output_type": "display_data"
    },
    {
     "name": "stderr",
     "output_type": "stream",
     "text": [
      "/Users/klay6683/miniconda3/envs/stable/lib/python3.6/site-packages/matplotlib/axes/_axes.py:6448: UserWarning: The 'normed' kwarg is deprecated, and has been replaced by the 'density' kwarg.\n",
      "  warnings.warn(\"The 'normed' kwarg is deprecated, and has been \"\n"
     ]
    }
   ],
   "source": [
    "fig, ax = plt.subplots(figsize=(8,3), ncols=2, sharey=False)\n",
    "sns.distplot(fans.distance_m, bins=bins, kde=False, \n",
    "             hist_kws={'cumulative':False,'normed':True, 'log':True},\n",
    "             axlabel='Fan length [m]', ax=ax[0])\n",
    "sns.distplot(fans.distance_m, bins=bins, kde=False, hist_kws={'cumulative':True,'normed':True},\n",
    "            axlabel='Fan length [m]', ax=ax[1])\n",
    "ax[0].set_title(\"Normalized Log-Histogram of fan lengths \")\n",
    "ax[1].set_title(\"Cumulative normalized histogram of fan lengths\")\n",
    "ax[1].set_ylabel(\"Fraction of fans with given length\")\n",
    "add_percentage_line(ax[1], 100, fans.distance_m)\n",
    "add_percentage_line(ax[1], 50, fans.distance_m)\n",
    "fig.tight_layout()\n",
    "fig.savefig(\"/Users/klay6683/Dropbox/src/p4_paper1/figures/fan_lengths_histos.pdf\",\n",
    "            dpi=150, bbox_inches='tight')"
   ]
  },
  {
   "cell_type": "code",
   "execution_count": 31,
   "metadata": {
    "ExecuteTime": {
     "end_time": "2018-02-12T08:45:58.206911Z",
     "start_time": "2018-02-12T08:45:58.177621Z"
    }
   },
   "outputs": [
    {
     "data": {
      "text/html": [
       "<div>\n",
       "<style scoped>\n",
       "    .dataframe tbody tr th:only-of-type {\n",
       "        vertical-align: middle;\n",
       "    }\n",
       "\n",
       "    .dataframe tbody tr th {\n",
       "        vertical-align: top;\n",
       "    }\n",
       "\n",
       "    .dataframe thead th {\n",
       "        text-align: right;\n",
       "    }\n",
       "</style>\n",
       "<table border=\"1\" class=\"dataframe\">\n",
       "  <thead>\n",
       "    <tr style=\"text-align: right;\">\n",
       "      <th></th>\n",
       "      <th>distance_m</th>\n",
       "      <th>obsid</th>\n",
       "      <th>l_s</th>\n",
       "    </tr>\n",
       "  </thead>\n",
       "  <tbody>\n",
       "    <tr>\n",
       "      <th>113542</th>\n",
       "      <td>351.360</td>\n",
       "      <td>ESP_020146_0950</td>\n",
       "      <td>180.311</td>\n",
       "    </tr>\n",
       "    <tr>\n",
       "      <th>123489</th>\n",
       "      <td>360.920</td>\n",
       "      <td>ESP_011961_0935</td>\n",
       "      <td>209.169</td>\n",
       "    </tr>\n",
       "    <tr>\n",
       "      <th>123544</th>\n",
       "      <td>367.915</td>\n",
       "      <td>ESP_011961_0935</td>\n",
       "      <td>209.169</td>\n",
       "    </tr>\n",
       "    <tr>\n",
       "      <th>156639</th>\n",
       "      <td>372.820</td>\n",
       "      <td>ESP_013095_0935</td>\n",
       "      <td>264.609</td>\n",
       "    </tr>\n",
       "  </tbody>\n",
       "</table>\n",
       "</div>"
      ],
      "text/plain": [
       "        distance_m            obsid      l_s\n",
       "113542     351.360  ESP_020146_0950  180.311\n",
       "123489     360.920  ESP_011961_0935  209.169\n",
       "123544     367.915  ESP_011961_0935  209.169\n",
       "156639     372.820  ESP_013095_0935  264.609"
      ]
     },
     "execution_count": 31,
     "metadata": {},
     "output_type": "execute_result"
    }
   ],
   "source": [
    "fans.query('distance_m>350')[['distance_m', 'obsid', 'l_s']]"
   ]
  },
  {
   "cell_type": "code",
   "execution_count": 34,
   "metadata": {
    "ExecuteTime": {
     "end_time": "2018-02-12T19:40:25.270481Z",
     "start_time": "2018-02-12T19:40:25.238644Z"
    },
    "scrolled": true
   },
   "outputs": [
    {
     "data": {
      "text/plain": [
       "count    159287.000000\n",
       "mean         33.111212\n",
       "std          28.040717\n",
       "min           2.500000\n",
       "25%          14.497500\n",
       "50%          24.090000\n",
       "75%          41.885000\n",
       "max         372.820000\n",
       "Name: distance_m, dtype: float64"
      ]
     },
     "execution_count": 34,
     "metadata": {},
     "output_type": "execute_result"
    }
   ],
   "source": [
    "fans.distance_m.describe()"
   ]
  },
  {
   "cell_type": "markdown",
   "metadata": {},
   "source": [
    "In words, the mean length of fans is {{f\"{fans.distance_m.describe()['mean']:.1f}\"}} m, while the median is\n",
    "{{f\"{fans.distance_m.describe()['50%']:.1f}\"}} m."
   ]
  },
  {
   "cell_type": "code",
   "execution_count": 35,
   "metadata": {
    "ExecuteTime": {
     "end_time": "2018-02-12T19:46:17.125359Z",
     "start_time": "2018-02-12T19:46:16.822540Z"
    }
   },
   "outputs": [],
   "source": [
    "fans.replace(\"Manhattan_Frontinella\", \"Manhattan_\\nFrontinella\", inplace=True)"
   ]
  },
  {
   "cell_type": "code",
   "execution_count": 37,
   "metadata": {
    "ExecuteTime": {
     "end_time": "2018-02-12T20:03:44.083008Z",
     "start_time": "2018-02-12T20:03:43.489307Z"
    }
   },
   "outputs": [
    {
     "name": "stderr",
     "output_type": "stream",
     "text": [
      "/Users/klay6683/miniconda3/envs/stable/lib/python3.6/site-packages/matplotlib/__init__.py:932: MatplotlibDeprecationWarning: nbagg.transparent is deprecated and ignored. Use figure.facecolor instead.\n",
      "  mplDeprecation)\n"
     ]
    },
    {
     "data": {
      "application/vnd.jupyter.widget-view+json": {
       "model_id": "77faca95f6fc4c6aaa2a51a7dec72a24",
       "version_major": 2,
       "version_minor": 0
      },
      "text/html": [
       "<p>Failed to display Jupyter Widget of type <code>FigureCanvasNbAgg</code>.</p>\n",
       "<p>\n",
       "  If you're reading this message in the Jupyter Notebook or JupyterLab Notebook, it may mean\n",
       "  that the widgets JavaScript is still loading. If this message persists, it\n",
       "  likely means that the widgets JavaScript library is either not installed or\n",
       "  not enabled. See the <a href=\"https://ipywidgets.readthedocs.io/en/stable/user_install.html\">Jupyter\n",
       "  Widgets Documentation</a> for setup instructions.\n",
       "</p>\n",
       "<p>\n",
       "  If you're reading this message in another frontend (for example, a static\n",
       "  rendering on GitHub or <a href=\"https://nbviewer.jupyter.org/\">NBViewer</a>),\n",
       "  it may mean that your frontend doesn't currently support widgets.\n",
       "</p>\n"
      ],
      "text/plain": [
       "FigureCanvasNbAgg()"
      ]
     },
     "metadata": {},
     "output_type": "display_data"
    }
   ],
   "source": [
    "fig, ax = plt.subplots()\n",
    "sns.boxplot(y=\"region\", x=\"distance_m\", data=fans, ax=ax,\n",
    "            fliersize=3)\n",
    "ax.set_title(\"Fan lengths in different ROIs\")\n",
    "fig.tight_layout()\n",
    "fig.savefig(\"/Users/klay6683/Dropbox/src/p4_paper1/figures/fan_lengths_vs_regions.pdf\",\n",
    "         dpi=150, bbox_inches='tight')"
   ]
  },
  {
   "cell_type": "markdown",
   "metadata": {
    "ExecuteTime": {
     "end_time": "2018-01-02T00:06:40.466695Z",
     "start_time": "2018-01-02T00:06:40.434444Z"
    },
    "heading_collapsed": true
   },
   "source": [
    "## Blotch sizes"
   ]
  },
  {
   "cell_type": "code",
   "execution_count": 38,
   "metadata": {
    "ExecuteTime": {
     "end_time": "2018-02-12T20:04:30.454400Z",
     "start_time": "2018-02-12T20:04:30.326803Z"
    },
    "hidden": true
   },
   "outputs": [
    {
     "name": "stderr",
     "output_type": "stream",
     "text": [
      "/Users/klay6683/miniconda3/envs/stable/lib/python3.6/site-packages/matplotlib/__init__.py:932: MatplotlibDeprecationWarning: nbagg.transparent is deprecated and ignored. Use figure.facecolor instead.\n",
      "  mplDeprecation)\n"
     ]
    },
    {
     "data": {
      "application/vnd.jupyter.widget-view+json": {
       "model_id": "6ad215903c1d4737b7684be37a64d2b2",
       "version_major": 2,
       "version_minor": 0
      },
      "text/html": [
       "<p>Failed to display Jupyter Widget of type <code>FigureCanvasNbAgg</code>.</p>\n",
       "<p>\n",
       "  If you're reading this message in the Jupyter Notebook or JupyterLab Notebook, it may mean\n",
       "  that the widgets JavaScript is still loading. If this message persists, it\n",
       "  likely means that the widgets JavaScript library is either not installed or\n",
       "  not enabled. See the <a href=\"https://ipywidgets.readthedocs.io/en/stable/user_install.html\">Jupyter\n",
       "  Widgets Documentation</a> for setup instructions.\n",
       "</p>\n",
       "<p>\n",
       "  If you're reading this message in another frontend (for example, a static\n",
       "  rendering on GitHub or <a href=\"https://nbviewer.jupyter.org/\">NBViewer</a>),\n",
       "  it may mean that your frontend doesn't currently support widgets.\n",
       "</p>\n"
      ],
      "text/plain": [
       "FigureCanvasNbAgg()"
      ]
     },
     "metadata": {},
     "output_type": "display_data"
    },
    {
     "name": "stderr",
     "output_type": "stream",
     "text": [
      "/Users/klay6683/miniconda3/envs/stable/lib/python3.6/site-packages/matplotlib/axes/_axes.py:6448: UserWarning: The 'normed' kwarg is deprecated, and has been replaced by the 'density' kwarg.\n",
      "  warnings.warn(\"The 'normed' kwarg is deprecated, and has been \"\n"
     ]
    },
    {
     "data": {
      "text/plain": [
       "<matplotlib.legend.Legend at 0x12285f278>"
      ]
     },
     "execution_count": 38,
     "metadata": {},
     "output_type": "execute_result"
    }
   ],
   "source": [
    "plt.figure()\n",
    "cols = ['radius_1','radius_2']\n",
    "sns.distplot(blotches[cols], kde=False, bins=np.arange(2.0,50.), \n",
    "             color=['r','g'], label=cols)\n",
    "plt.legend()"
   ]
  },
  {
   "cell_type": "code",
   "execution_count": 39,
   "metadata": {
    "ExecuteTime": {
     "end_time": "2018-01-16T18:05:27.152244Z",
     "start_time": "2018-01-16T18:05:27.028023Z"
    },
    "hidden": true
   },
   "outputs": [
    {
     "name": "stderr",
     "output_type": "stream",
     "text": [
      "/Users/klay6683/miniconda3/envs/stable/lib/python3.6/site-packages/matplotlib/__init__.py:932: MatplotlibDeprecationWarning: nbagg.transparent is deprecated and ignored. Use figure.facecolor instead.\n",
      "  mplDeprecation)\n"
     ]
    },
    {
     "data": {
      "application/vnd.jupyter.widget-view+json": {
       "model_id": "a898c7413b204539bc9c81b4fbe463da",
       "version_major": 2,
       "version_minor": 0
      },
      "text/html": [
       "<p>Failed to display Jupyter Widget of type <code>FigureCanvasNbAgg</code>.</p>\n",
       "<p>\n",
       "  If you're reading this message in the Jupyter Notebook or JupyterLab Notebook, it may mean\n",
       "  that the widgets JavaScript is still loading. If this message persists, it\n",
       "  likely means that the widgets JavaScript library is either not installed or\n",
       "  not enabled. See the <a href=\"https://ipywidgets.readthedocs.io/en/stable/user_install.html\">Jupyter\n",
       "  Widgets Documentation</a> for setup instructions.\n",
       "</p>\n",
       "<p>\n",
       "  If you're reading this message in another frontend (for example, a static\n",
       "  rendering on GitHub or <a href=\"https://nbviewer.jupyter.org/\">NBViewer</a>),\n",
       "  it may mean that your frontend doesn't currently support widgets.\n",
       "</p>\n"
      ],
      "text/plain": [
       "FigureCanvasNbAgg()"
      ]
     },
     "metadata": {},
     "output_type": "display_data"
    },
    {
     "name": "stderr",
     "output_type": "stream",
     "text": [
      "/Users/klay6683/miniconda3/envs/stable/lib/python3.6/site-packages/matplotlib/axes/_axes.py:6448: UserWarning: The 'normed' kwarg is deprecated, and has been replaced by the 'density' kwarg.\n",
      "  warnings.warn(\"The 'normed' kwarg is deprecated, and has been \"\n"
     ]
    },
    {
     "data": {
      "text/plain": [
       "<matplotlib.legend.Legend at 0x11fdbd390>"
      ]
     },
     "execution_count": 39,
     "metadata": {},
     "output_type": "execute_result"
    }
   ],
   "source": [
    "plt.figure()\n",
    "cols = ['radius_1_m','radius_2_m']\n",
    "sns.distplot(blotches[cols], kde=False, bins=np.arange(2.0,50.), \n",
    "             color=['r','g'], label=cols)\n",
    "plt.legend()"
   ]
  },
  {
   "cell_type": "code",
   "execution_count": 40,
   "metadata": {
    "ExecuteTime": {
     "end_time": "2018-01-16T18:05:28.916303Z",
     "start_time": "2018-01-16T18:05:28.549074Z"
    },
    "hidden": true
   },
   "outputs": [
    {
     "name": "stderr",
     "output_type": "stream",
     "text": [
      "/Users/klay6683/miniconda3/envs/stable/lib/python3.6/site-packages/matplotlib/__init__.py:932: MatplotlibDeprecationWarning: nbagg.transparent is deprecated and ignored. Use figure.facecolor instead.\n",
      "  mplDeprecation)\n"
     ]
    },
    {
     "data": {
      "application/vnd.jupyter.widget-view+json": {
       "model_id": "192d4c9f317441f9b62f31d105d32963",
       "version_major": 2,
       "version_minor": 0
      },
      "text/html": [
       "<p>Failed to display Jupyter Widget of type <code>FigureCanvasNbAgg</code>.</p>\n",
       "<p>\n",
       "  If you're reading this message in the Jupyter Notebook or JupyterLab Notebook, it may mean\n",
       "  that the widgets JavaScript is still loading. If this message persists, it\n",
       "  likely means that the widgets JavaScript library is either not installed or\n",
       "  not enabled. See the <a href=\"https://ipywidgets.readthedocs.io/en/stable/user_install.html\">Jupyter\n",
       "  Widgets Documentation</a> for setup instructions.\n",
       "</p>\n",
       "<p>\n",
       "  If you're reading this message in another frontend (for example, a static\n",
       "  rendering on GitHub or <a href=\"https://nbviewer.jupyter.org/\">NBViewer</a>),\n",
       "  it may mean that your frontend doesn't currently support widgets.\n",
       "</p>\n"
      ],
      "text/plain": [
       "FigureCanvasNbAgg()"
      ]
     },
     "metadata": {},
     "output_type": "display_data"
    },
    {
     "name": "stderr",
     "output_type": "stream",
     "text": [
      "/Users/klay6683/miniconda3/envs/stable/lib/python3.6/site-packages/matplotlib/axes/_axes.py:6448: UserWarning: The 'normed' kwarg is deprecated, and has been replaced by the 'density' kwarg.\n",
      "  warnings.warn(\"The 'normed' kwarg is deprecated, and has been \"\n"
     ]
    }
   ],
   "source": [
    "fig, ax = plt.subplots(figsize=(8,4))\n",
    "sns.distplot(blotches.radius_2_m, bins=500, kde=False, hist_kws={'cumulative':True,'normed':True},\n",
    "            axlabel='Blotch radius_1 [m]', ax=ax)\n",
    "ax.set_title(\"Cumulative normalized histogram for blotch lengths\")\n",
    "ax.set_ylabel(\"Fraction of blotches with given radius_1\")\n",
    "add_percentage_line(ax, 30, blotches.radius_2_m)\n",
    "add_percentage_line(ax, 10, blotches.radius_2_m)"
   ]
  },
  {
   "cell_type": "code",
   "execution_count": 41,
   "metadata": {
    "ExecuteTime": {
     "end_time": "2018-01-16T18:05:29.167281Z",
     "start_time": "2018-01-16T18:05:29.109183Z"
    },
    "hidden": true
   },
   "outputs": [
    {
     "data": {
      "text/plain": [
       "97.42885103153523"
      ]
     },
     "execution_count": 41,
     "metadata": {},
     "output_type": "execute_result"
    }
   ],
   "source": [
    "import scipy\n",
    "scipy.stats.percentileofscore(blotches.radius_2_m, 30)"
   ]
  },
  {
   "cell_type": "code",
   "execution_count": 42,
   "metadata": {
    "ExecuteTime": {
     "end_time": "2018-01-16T18:05:30.086019Z",
     "start_time": "2018-01-16T18:05:30.064124Z"
    },
    "hidden": true
   },
   "outputs": [],
   "source": [
    "plt.close('all')"
   ]
  },
  {
   "cell_type": "markdown",
   "metadata": {
    "heading_collapsed": true
   },
   "source": [
    "## Longest fans"
   ]
  },
  {
   "cell_type": "code",
   "execution_count": 43,
   "metadata": {
    "ExecuteTime": {
     "end_time": "2018-02-08T16:04:08.651961Z",
     "start_time": "2018-02-08T16:04:08.622238Z"
    },
    "hidden": true
   },
   "outputs": [
    {
     "data": {
      "text/html": [
       "<div>\n",
       "<style scoped>\n",
       "    .dataframe tbody tr th:only-of-type {\n",
       "        vertical-align: middle;\n",
       "    }\n",
       "\n",
       "    .dataframe tbody tr th {\n",
       "        vertical-align: top;\n",
       "    }\n",
       "\n",
       "    .dataframe thead th {\n",
       "        text-align: right;\n",
       "    }\n",
       "</style>\n",
       "<table border=\"1\" class=\"dataframe\">\n",
       "  <thead>\n",
       "    <tr style=\"text-align: right;\">\n",
       "      <th></th>\n",
       "      <th>distance_m</th>\n",
       "      <th>distance</th>\n",
       "      <th>obsid</th>\n",
       "      <th>image_x</th>\n",
       "      <th>image_y</th>\n",
       "      <th>tile_id</th>\n",
       "    </tr>\n",
       "  </thead>\n",
       "  <tbody>\n",
       "    <tr>\n",
       "      <th>113542</th>\n",
       "      <td>351.360</td>\n",
       "      <td>351.36</td>\n",
       "      <td>ESP_020146_0950</td>\n",
       "      <td>791.24</td>\n",
       "      <td>12659.67</td>\n",
       "      <td>APF0000q45</td>\n",
       "    </tr>\n",
       "    <tr>\n",
       "      <th>123489</th>\n",
       "      <td>360.920</td>\n",
       "      <td>721.84</td>\n",
       "      <td>ESP_011961_0935</td>\n",
       "      <td>782.78</td>\n",
       "      <td>9321.29</td>\n",
       "      <td>APF0000ddo</td>\n",
       "    </tr>\n",
       "    <tr>\n",
       "      <th>123544</th>\n",
       "      <td>367.915</td>\n",
       "      <td>735.83</td>\n",
       "      <td>ESP_011961_0935</td>\n",
       "      <td>868.67</td>\n",
       "      <td>5188.52</td>\n",
       "      <td>APF0000de3</td>\n",
       "    </tr>\n",
       "    <tr>\n",
       "      <th>156639</th>\n",
       "      <td>372.820</td>\n",
       "      <td>745.64</td>\n",
       "      <td>ESP_013095_0935</td>\n",
       "      <td>1017.12</td>\n",
       "      <td>6038.92</td>\n",
       "      <td>APF0000dtk</td>\n",
       "    </tr>\n",
       "  </tbody>\n",
       "</table>\n",
       "</div>"
      ],
      "text/plain": [
       "        distance_m  distance            obsid  image_x   image_y     tile_id\n",
       "113542     351.360    351.36  ESP_020146_0950   791.24  12659.67  APF0000q45\n",
       "123489     360.920    721.84  ESP_011961_0935   782.78   9321.29  APF0000ddo\n",
       "123544     367.915    735.83  ESP_011961_0935   868.67   5188.52  APF0000de3\n",
       "156639     372.820    745.64  ESP_013095_0935  1017.12   6038.92  APF0000dtk"
      ]
     },
     "execution_count": 43,
     "metadata": {},
     "output_type": "execute_result"
    }
   ],
   "source": [
    "fans.query('distance_m > 350')[\n",
    "    'distance_m distance obsid image_x image_y tile_id'.split()].sort_values(\n",
    "        by='distance_m')"
   ]
  },
  {
   "cell_type": "code",
   "execution_count": 44,
   "metadata": {
    "ExecuteTime": {
     "end_time": "2018-02-08T16:04:19.597873Z",
     "start_time": "2018-02-08T16:04:19.576692Z"
    },
    "hidden": true
   },
   "outputs": [],
   "source": [
    "from planet4 import plotting"
   ]
  },
  {
   "cell_type": "code",
   "execution_count": 45,
   "metadata": {
    "ExecuteTime": {
     "end_time": "2018-02-08T16:06:52.039189Z",
     "start_time": "2018-02-08T16:06:51.850346Z"
    },
    "hidden": true
   },
   "outputs": [
    {
     "name": "stderr",
     "output_type": "stream",
     "text": [
      "/Users/klay6683/miniconda3/envs/stable/lib/python3.6/site-packages/matplotlib/__init__.py:932: MatplotlibDeprecationWarning: nbagg.transparent is deprecated and ignored. Use figure.facecolor instead.\n",
      "  mplDeprecation)\n"
     ]
    },
    {
     "data": {
      "application/vnd.jupyter.widget-view+json": {
       "model_id": "e4dd04e3f9ae4814a86776cad3e05882",
       "version_major": 2,
       "version_minor": 0
      },
      "text/html": [
       "<p>Failed to display Jupyter Widget of type <code>FigureCanvasNbAgg</code>.</p>\n",
       "<p>\n",
       "  If you're reading this message in the Jupyter Notebook or JupyterLab Notebook, it may mean\n",
       "  that the widgets JavaScript is still loading. If this message persists, it\n",
       "  likely means that the widgets JavaScript library is either not installed or\n",
       "  not enabled. See the <a href=\"https://ipywidgets.readthedocs.io/en/stable/user_install.html\">Jupyter\n",
       "  Widgets Documentation</a> for setup instructions.\n",
       "</p>\n",
       "<p>\n",
       "  If you're reading this message in another frontend (for example, a static\n",
       "  rendering on GitHub or <a href=\"https://nbviewer.jupyter.org/\">NBViewer</a>),\n",
       "  it may mean that your frontend doesn't currently support widgets.\n",
       "</p>\n"
      ],
      "text/plain": [
       "FigureCanvasNbAgg()"
      ]
     },
     "metadata": {},
     "output_type": "display_data"
    },
    {
     "data": {
      "text/plain": [
       "Text(0.5,1,'APF0000de3')"
      ]
     },
     "execution_count": 45,
     "metadata": {},
     "output_type": "execute_result"
    }
   ],
   "source": [
    "plotting.plot_finals('de3', datapath=rm.catalog)\n",
    "plt.gca().set_title('APF0000de3')"
   ]
  },
  {
   "cell_type": "code",
   "execution_count": 46,
   "metadata": {
    "ExecuteTime": {
     "end_time": "2018-02-08T16:04:40.652823Z",
     "start_time": "2018-02-08T16:04:39.791393Z"
    },
    "hidden": true
   },
   "outputs": [
    {
     "name": "stderr",
     "output_type": "stream",
     "text": [
      "/Users/klay6683/miniconda3/envs/stable/lib/python3.6/site-packages/matplotlib/__init__.py:932: MatplotlibDeprecationWarning: nbagg.transparent is deprecated and ignored. Use figure.facecolor instead.\n",
      "  mplDeprecation)\n"
     ]
    },
    {
     "data": {
      "application/vnd.jupyter.widget-view+json": {
       "model_id": "c7f1577fbcf6465599804f7c000a77b2",
       "version_major": 2,
       "version_minor": 0
      },
      "text/html": [
       "<p>Failed to display Jupyter Widget of type <code>FigureCanvasNbAgg</code>.</p>\n",
       "<p>\n",
       "  If you're reading this message in the Jupyter Notebook or JupyterLab Notebook, it may mean\n",
       "  that the widgets JavaScript is still loading. If this message persists, it\n",
       "  likely means that the widgets JavaScript library is either not installed or\n",
       "  not enabled. See the <a href=\"https://ipywidgets.readthedocs.io/en/stable/user_install.html\">Jupyter\n",
       "  Widgets Documentation</a> for setup instructions.\n",
       "</p>\n",
       "<p>\n",
       "  If you're reading this message in another frontend (for example, a static\n",
       "  rendering on GitHub or <a href=\"https://nbviewer.jupyter.org/\">NBViewer</a>),\n",
       "  it may mean that your frontend doesn't currently support widgets.\n",
       "</p>\n"
      ],
      "text/plain": [
       "FigureCanvasNbAgg()"
      ]
     },
     "metadata": {},
     "output_type": "display_data"
    }
   ],
   "source": [
    "plotting.plot_image_id_pipeline('de3', datapath=rm.catalog, via_obsid=False, figsize=(12,8))"
   ]
  },
  {
   "cell_type": "code",
   "execution_count": 22,
   "metadata": {
    "ExecuteTime": {
     "end_time": "2018-01-16T18:05:37.780422Z",
     "start_time": "2018-01-16T18:05:37.757920Z"
    },
    "hidden": true
   },
   "outputs": [],
   "source": [
    "from planet4 import region_data"
   ]
  },
  {
   "cell_type": "code",
   "execution_count": 23,
   "metadata": {
    "ExecuteTime": {
     "end_time": "2018-01-16T18:05:39.027302Z",
     "start_time": "2018-01-16T18:05:39.005451Z"
    },
    "hidden": true
   },
   "outputs": [],
   "source": [
    "from planet4 import stats"
   ]
  },
  {
   "cell_type": "code",
   "execution_count": 24,
   "metadata": {
    "ExecuteTime": {
     "end_time": "2018-01-16T18:05:40.450581Z",
     "start_time": "2018-01-16T18:05:40.089105Z"
    },
    "hidden": true
   },
   "outputs": [],
   "source": [
    "stats.define_season_column(fans)\n",
    "stats.define_season_column(blotches)"
   ]
  },
  {
   "cell_type": "code",
   "execution_count": 25,
   "metadata": {
    "ExecuteTime": {
     "end_time": "2018-01-16T18:05:42.246538Z",
     "start_time": "2018-01-16T18:05:42.222986Z"
    },
    "hidden": true
   },
   "outputs": [
    {
     "data": {
      "text/plain": [
       "2    101286\n",
       "3     58002\n",
       "Name: season, dtype: int64"
      ]
     },
     "execution_count": 25,
     "metadata": {},
     "output_type": "execute_result"
    }
   ],
   "source": [
    "fans.season.value_counts()"
   ]
  },
  {
   "cell_type": "code",
   "execution_count": 26,
   "metadata": {
    "ExecuteTime": {
     "end_time": "2018-01-16T18:05:43.803822Z",
     "start_time": "2018-01-16T18:05:43.750096Z"
    },
    "hidden": true
   },
   "outputs": [
    {
     "data": {
      "text/plain": [
       "24.222173790536814"
      ]
     },
     "execution_count": 26,
     "metadata": {},
     "output_type": "execute_result"
    }
   ],
   "source": [
    "fans.query('season==2').distance_m.median()"
   ]
  },
  {
   "cell_type": "code",
   "execution_count": 27,
   "metadata": {
    "ExecuteTime": {
     "end_time": "2018-01-16T18:05:44.235509Z",
     "start_time": "2018-01-16T18:05:44.200287Z"
    },
    "hidden": true
   },
   "outputs": [
    {
     "data": {
      "text/plain": [
       "23.816898558177456"
      ]
     },
     "execution_count": 27,
     "metadata": {},
     "output_type": "execute_result"
    }
   ],
   "source": [
    "fans.query('season==3').distance_m.median()"
   ]
  },
  {
   "cell_type": "code",
   "execution_count": 28,
   "metadata": {
    "ExecuteTime": {
     "end_time": "2018-01-16T18:05:45.097779Z",
     "start_time": "2018-01-16T18:05:45.076562Z"
    },
    "hidden": true
   },
   "outputs": [],
   "source": [
    "from planet4 import region_data"
   ]
  },
  {
   "cell_type": "code",
   "execution_count": 29,
   "metadata": {
    "ExecuteTime": {
     "end_time": "2018-01-16T18:05:46.134356Z",
     "start_time": "2018-01-16T18:05:46.071378Z"
    },
    "hidden": true
   },
   "outputs": [
    {
     "name": "stdout",
     "output_type": "stream",
     "text": [
      "Manhattan2\n",
      "season2\n",
      "42.87423178465934\n",
      "season3\n",
      "24.89731703758306\n",
      "Giza\n",
      "season2\n",
      "44.08823250757917\n",
      "season3\n",
      "59.00166238702526\n",
      "Ithaca\n",
      "season2\n",
      "39.51412135421972\n",
      "season3\n",
      "38.66049187479137\n"
     ]
    }
   ],
   "source": [
    "for region in ['Manhattan2', 'Giza','Ithaca']:\n",
    "    print(region)\n",
    "    obj = getattr(region_data, region)\n",
    "    for s in ['season2','season3']:\n",
    "        print(s)\n",
    "        obsids = getattr(obj, s)\n",
    "        print(fans[fans.obsid.isin(obsids)].distance_m.median())"
   ]
  },
  {
   "cell_type": "code",
   "execution_count": 30,
   "metadata": {
    "ExecuteTime": {
     "end_time": "2018-01-16T18:05:49.072966Z",
     "start_time": "2018-01-16T18:05:49.051817Z"
    },
    "hidden": true
   },
   "outputs": [],
   "source": [
    "db = io.DBManager()"
   ]
  },
  {
   "cell_type": "code",
   "execution_count": 31,
   "metadata": {
    "ExecuteTime": {
     "end_time": "2018-01-16T18:08:13.187012Z",
     "start_time": "2018-01-16T18:07:13.207880Z"
    },
    "hidden": true
   },
   "outputs": [],
   "source": [
    "all_data = db.get_all()"
   ]
  },
  {
   "cell_type": "code",
   "execution_count": 32,
   "metadata": {
    "ExecuteTime": {
     "end_time": "2018-01-16T18:08:20.814136Z",
     "start_time": "2018-01-16T18:08:13.191259Z"
    },
    "hidden": true
   },
   "outputs": [],
   "source": [
    "image_names = db.image_names"
   ]
  },
  {
   "cell_type": "code",
   "execution_count": 33,
   "metadata": {
    "ExecuteTime": {
     "end_time": "2018-01-16T18:08:42.346465Z",
     "start_time": "2018-01-16T18:08:42.323319Z"
    },
    "hidden": true
   },
   "outputs": [],
   "source": [
    "g_all = all_data.groupby('image_id')"
   ]
  },
  {
   "cell_type": "code",
   "execution_count": 34,
   "metadata": {
    "ExecuteTime": {
     "end_time": "2018-01-16T18:09:09.441537Z",
     "start_time": "2018-01-16T18:09:08.860308Z"
    },
    "hidden": true
   },
   "outputs": [
    {
     "data": {
      "text/plain": [
       "image_id\n",
       "APF0000dss    26\n",
       "APF0000qsi    26\n",
       "APF0000qym    27\n",
       "APF0000lj6    27\n",
       "APF0000rvj    28\n",
       "dtype: int64"
      ]
     },
     "execution_count": 34,
     "metadata": {},
     "output_type": "execute_result"
    }
   ],
   "source": [
    "g_all.size().sort_values().head()"
   ]
  },
  {
   "cell_type": "code",
   "execution_count": 37,
   "metadata": {
    "ExecuteTime": {
     "end_time": "2018-01-16T18:19:38.465800Z",
     "start_time": "2018-01-16T18:19:38.442526Z"
    },
    "hidden": true
   },
   "outputs": [
    {
     "data": {
      "text/plain": [
       "Index(['angle', 'distance', 'image_id', 'image_name', 'image_x', 'image_y',\n",
       "       'n_votes', 'obsid', 'radius_1', 'radius_2', 'spread', 'version',\n",
       "       'vote_ratio', 'x', 'x_angle', 'x_tile', 'y', 'y_angle', 'y_tile',\n",
       "       'binning', 'l_s', 'line_samples', 'lines', 'map_scale', 'north_azimuth',\n",
       "       'path', 'BodyFixedCoordinateX', 'BodyFixedCoordinateY',\n",
       "       'BodyFixedCoordinateZ', 'Line', 'LineResolution',\n",
       "       'PlanetocentricLatitude', 'PlanetographicLatitude',\n",
       "       'PositiveEast360Longitude', 'PositiveWest360Longitude', 'Sample',\n",
       "       'SampleResolution', 'distance_m', 'season'],\n",
       "      dtype='object')"
      ]
     },
     "execution_count": 37,
     "metadata": {},
     "output_type": "execute_result"
    }
   ],
   "source": [
    "fans.columns"
   ]
  },
  {
   "cell_type": "code",
   "execution_count": 44,
   "metadata": {
    "ExecuteTime": {
     "end_time": "2018-01-16T18:25:54.261052Z",
     "start_time": "2018-01-16T18:25:54.238883Z"
    },
    "hidden": true
   },
   "outputs": [],
   "source": [
    "cols_to_drop = ['path', 'image_name', 'binning', 'LineResolution', 'SampleResolution', 'Line', 'Sample']"
   ]
  },
  {
   "cell_type": "code",
   "execution_count": 46,
   "metadata": {
    "ExecuteTime": {
     "end_time": "2018-01-16T18:26:14.578283Z",
     "start_time": "2018-01-16T18:26:14.528729Z"
    },
    "hidden": true
   },
   "outputs": [],
   "source": [
    "fans.drop(cols_to_drop, axis=1, inplace=True, errors='ignore')"
   ]
  },
  {
   "cell_type": "code",
   "execution_count": 47,
   "metadata": {
    "ExecuteTime": {
     "end_time": "2018-01-16T18:26:16.619257Z",
     "start_time": "2018-01-16T18:26:16.594503Z"
    },
    "hidden": true
   },
   "outputs": [
    {
     "data": {
      "text/plain": [
       "Index(['angle', 'distance', 'image_id', 'image_x', 'image_y', 'n_votes',\n",
       "       'obsid', 'radius_1', 'radius_2', 'spread', 'version', 'vote_ratio', 'x',\n",
       "       'x_angle', 'x_tile', 'y', 'y_angle', 'y_tile', 'l_s', 'line_samples',\n",
       "       'lines', 'map_scale', 'north_azimuth', 'BodyFixedCoordinateX',\n",
       "       'BodyFixedCoordinateY', 'BodyFixedCoordinateZ',\n",
       "       'PlanetocentricLatitude', 'PlanetographicLatitude',\n",
       "       'PositiveEast360Longitude', 'PositiveWest360Longitude', 'distance_m',\n",
       "       'season'],\n",
       "      dtype='object')"
      ]
     },
     "execution_count": 47,
     "metadata": {},
     "output_type": "execute_result"
    }
   ],
   "source": [
    "fans.columns"
   ]
  },
  {
   "cell_type": "code",
   "execution_count": 49,
   "metadata": {
    "ExecuteTime": {
     "end_time": "2018-01-16T18:27:43.915763Z",
     "start_time": "2018-01-16T18:27:43.891620Z"
    },
    "hidden": true
   },
   "outputs": [
    {
     "data": {
      "text/plain": [
       "angle                               185.387\n",
       "distance                            179.618\n",
       "image_id                         APF0000cia\n",
       "image_x                             3391.21\n",
       "image_y                              5640.6\n",
       "n_votes                                  15\n",
       "obsid                       ESP_012079_0945\n",
       "radius_1                                NaN\n",
       "radius_2                                NaN\n",
       "spread                               21.346\n",
       "version                                   1\n",
       "vote_ratio                              NaN\n",
       "x                                   431.206\n",
       "x_angle                           -0.995088\n",
       "x_tile                                    5\n",
       "y                                     160.6\n",
       "y_angle                          -0.0938355\n",
       "y_tile                                   11\n",
       "l_s                                 214.785\n",
       "line_samples                          56572\n",
       "lines                                 25243\n",
       "map_scale                              0.25\n",
       "north_azimuth                       126.857\n",
       "BodyFixedCoordinateX               -67.2071\n",
       "BodyFixedCoordinateY                 257.05\n",
       "BodyFixedCoordinateZ               -3370.63\n",
       "PlanetocentricLatitude              -85.493\n",
       "PlanetographicLatitude             -85.5457\n",
       "PositiveEast360Longitude            104.652\n",
       "PositiveWest360Longitude                NaN\n",
       "distance_m                          44.9045\n",
       "season                                    2\n",
       "Name: 1, dtype: object"
      ]
     },
     "execution_count": 49,
     "metadata": {},
     "output_type": "execute_result"
    }
   ],
   "source": [
    "fans.iloc[1]"
   ]
  },
  {
   "cell_type": "markdown",
   "metadata": {},
   "source": [
    "# North azimuths"
   ]
  },
  {
   "cell_type": "code",
   "execution_count": 1,
   "metadata": {
    "ExecuteTime": {
     "end_time": "2018-02-16T08:05:20.512232Z",
     "start_time": "2018-02-16T08:05:20.152359Z"
    }
   },
   "outputs": [],
   "source": [
    "s = \"\"\"ESP\\_011296\\_0975 & -82.197 & 225.253 & 178.8 & 2008-12-23  & 17:08 & 91 \\\\\n",
    "ESP\\_011341\\_0980 & -81.797 & 76.13 & 180.8 & 2008-12-27  & 17:06 & 126 \\\\\n",
    "ESP\\_011348\\_0950 & -85.043 & 259.094 & 181.1 & 2008-12-27  & 18:01 & 91 \\\\\n",
    "ESP\\_011350\\_0945 & -85.216 & 181.415 & 181.2 & 2008-12-27  & 16:29 & 126 \\\\\n",
    "ESP\\_011351\\_0945 & -85.216 & 181.548 & 181.2 & 2008-12-27  & 18:18 & 91 \\\\\n",
    "ESP\\_011370\\_0980 & -81.925 & 4.813 & 182.1 & 2008-12-29  & 17:08 & 126 \\\\\n",
    "ESP\\_011394\\_0935 & -86.392 & 99.068 & 183.1 & 2008-12-31  & 19:04 & 72 \\\\\n",
    "ESP\\_011403\\_0945 & -85.239 & 181.038 & 183.5 & 2009-01-01  & 16:56 & 164 \\\\\n",
    "ESP\\_011404\\_0945 & -85.236 & 181.105 & 183.6 & 2009-01-01  & 18:45 & 91 \\\\\n",
    "ESP\\_011406\\_0945 & -85.409 & 103.924 & 183.7 & 2009-01-01  & 17:15 & 126 \\\\\n",
    "ESP\\_011407\\_0945 & -85.407 & 103.983 & 183.7 & 2009-01-01  & 19:04 & 91 \\\\\n",
    "ESP\\_011408\\_0930 & -87.019 & 86.559 & 183.8 & 2009-01-01  & 19:43 & 59 \\\\\n",
    "ESP\\_011413\\_0970 & -82.699 & 273.129 & 184.0 & 2009-01-01  & 17:17 & 108 \\\\\n",
    "ESP\\_011420\\_0930 & -87.009 & 127.317 & 184.3 & 2009-01-02  & 20:16 & 54 \\\\\n",
    "ESP\\_011422\\_0930 & -87.041 & 72.356 & 184.4 & 2009-01-02  & 20:15 & 54 \\\\\n",
    "ESP\\_011431\\_0930 & -86.842 & 178.244 & 184.8 & 2009-01-03  & 19:41 & 54 \\\\\n",
    "ESP\\_011447\\_0950 & -84.805 & 65.713 & 185.5 & 2009-01-04  & 17:19 & 218 \\\\\n",
    "ESP\\_011448\\_0950 & -84.806 & 65.772 & 185.6 & 2009-01-04  & 19:09 & 59 \\\\\"\"\""
   ]
  },
  {
   "cell_type": "code",
   "execution_count": 16,
   "metadata": {
    "ExecuteTime": {
     "end_time": "2018-02-16T08:08:43.317491Z",
     "start_time": "2018-02-16T08:08:43.301646Z"
    }
   },
   "outputs": [],
   "source": [
    "lines = s.split(' \\\\')"
   ]
  },
  {
   "cell_type": "code",
   "execution_count": 22,
   "metadata": {
    "ExecuteTime": {
     "end_time": "2018-02-16T08:11:12.529508Z",
     "start_time": "2018-02-16T08:11:12.512675Z"
    }
   },
   "outputs": [
    {
     "data": {
      "text/plain": [
       "'ESP_011296_0975 & -82.197 & 225.253 & 178.8 & 2008-12-23  & 17:08 & 91 ESP_011341_0980 & -81.797 & 76.13 & 180.8 & 2008-12-27  & 17:06 & 126 ESP_011348_0950 & -85.043 & 259.094 & 181.1 & 2008-12-27  & 18:01 & 91 ESP_011350_0945 & -85.216 & 181.415 & 181.2 & 2008-12-27  & 16:29 & 126 ESP_011351_0945 & -85.216 & 181.548 & 181.2 & 2008-12-27  & 18:18 & 91 ESP_011370_0980 & -81.925 & 4.813 & 182.1 & 2008-12-29  & 17:08 & 126 ESP_011394_0935 & -86.392 & 99.068 & 183.1 & 2008-12-31  & 19:04 & 72 ESP_011403_0945 & -85.239 & 181.038 & 183.5 & 2009-01-01  & 16:56 & 164 ESP_011404_0945 & -85.236 & 181.105 & 183.6 & 2009-01-01  & 18:45 & 91 ESP_011406_0945 & -85.409 & 103.924 & 183.7 & 2009-01-01  & 17:15 & 126 ESP_011407_0945 & -85.407 & 103.983 & 183.7 & 2009-01-01  & 19:04 & 91 ESP_011408_0930 & -87.019 & 86.559 & 183.8 & 2009-01-01  & 19:43 & 59 ESP_011413_0970 & -82.699 & 273.129 & 184.0 & 2009-01-01  & 17:17 & 108 ESP_011420_0930 & -87.009 & 127.317 & 184.3 & 2009-01-02  & 20:16 & 54 ESP_011422_0930 & -87.041 & 72.356 & 184.4 & 2009-01-02  & 20:15 & 54 ESP_011431_0930 & -86.842 & 178.244 & 184.8 & 2009-01-03  & 19:41 & 54 ESP_011447_0950 & -84.805 & 65.713 & 185.5 & 2009-01-04  & 17:19 & 218 ESP_011448_0950 & -84.806 & 65.772 & 185.6 & 2009-01-04  & 19:09 & 59 '"
      ]
     },
     "execution_count": 22,
     "metadata": {},
     "output_type": "execute_result"
    }
   ],
   "source": [
    "s.replace('\\\\', '')"
   ]
  },
  {
   "cell_type": "code",
   "execution_count": 25,
   "metadata": {
    "ExecuteTime": {
     "end_time": "2018-02-16T08:11:42.511257Z",
     "start_time": "2018-02-16T08:11:42.495402Z"
    }
   },
   "outputs": [],
   "source": [
    "obsids = [line.split('&')[0].strip().replace('\\\\','') for line in lines][:-1]"
   ]
  },
  {
   "cell_type": "code",
   "execution_count": 37,
   "metadata": {
    "ExecuteTime": {
     "end_time": "2018-02-16T08:18:47.507510Z",
     "start_time": "2018-02-16T08:18:47.484133Z"
    }
   },
   "outputs": [],
   "source": [
    "meta = pd.read_csv(rm.metadata_path)"
   ]
  },
  {
   "cell_type": "code",
   "execution_count": 43,
   "metadata": {
    "ExecuteTime": {
     "end_time": "2018-02-16T08:34:51.678278Z",
     "start_time": "2018-02-16T08:34:51.646609Z"
    }
   },
   "outputs": [
    {
     "data": {
      "text/html": [
       "<div>\n",
       "<style scoped>\n",
       "    .dataframe tbody tr th:only-of-type {\n",
       "        vertical-align: middle;\n",
       "    }\n",
       "\n",
       "    .dataframe tbody tr th {\n",
       "        vertical-align: top;\n",
       "    }\n",
       "\n",
       "    .dataframe thead th {\n",
       "        text-align: right;\n",
       "    }\n",
       "</style>\n",
       "<table border=\"1\" class=\"dataframe\">\n",
       "  <thead>\n",
       "    <tr style=\"text-align: right;\">\n",
       "      <th></th>\n",
       "      <th>l_s</th>\n",
       "      <th>line_samples</th>\n",
       "      <th>lines</th>\n",
       "      <th>map_scale</th>\n",
       "      <th>north_azimuth</th>\n",
       "      <th>obsid</th>\n",
       "    </tr>\n",
       "  </thead>\n",
       "  <tbody>\n",
       "    <tr>\n",
       "      <th>51</th>\n",
       "      <td>178.833427</td>\n",
       "      <td>21764</td>\n",
       "      <td>45638</td>\n",
       "      <td>1.0</td>\n",
       "      <td>110.600107</td>\n",
       "      <td>ESP_011296_0975</td>\n",
       "    </tr>\n",
       "    <tr>\n",
       "      <th>11</th>\n",
       "      <td>180.808945</td>\n",
       "      <td>29922</td>\n",
       "      <td>20995</td>\n",
       "      <td>0.5</td>\n",
       "      <td>110.208923</td>\n",
       "      <td>ESP_011341_0980</td>\n",
       "    </tr>\n",
       "    <tr>\n",
       "      <th>151</th>\n",
       "      <td>181.116852</td>\n",
       "      <td>36210</td>\n",
       "      <td>35440</td>\n",
       "      <td>1.0</td>\n",
       "      <td>123.624057</td>\n",
       "      <td>ESP_011348_0950</td>\n",
       "    </tr>\n",
       "    <tr>\n",
       "      <th>18</th>\n",
       "      <td>181.205092</td>\n",
       "      <td>8168</td>\n",
       "      <td>37649</td>\n",
       "      <td>0.5</td>\n",
       "      <td>99.672793</td>\n",
       "      <td>ESP_011350_0945</td>\n",
       "    </tr>\n",
       "    <tr>\n",
       "      <th>97</th>\n",
       "      <td>181.249083</td>\n",
       "      <td>30049</td>\n",
       "      <td>40496</td>\n",
       "      <td>1.0</td>\n",
       "      <td>127.960688</td>\n",
       "      <td>ESP_011351_0945</td>\n",
       "    </tr>\n",
       "    <tr>\n",
       "      <th>169</th>\n",
       "      <td>182.088249</td>\n",
       "      <td>11358</td>\n",
       "      <td>34231</td>\n",
       "      <td>0.5</td>\n",
       "      <td>110.580189</td>\n",
       "      <td>ESP_011370_0980</td>\n",
       "    </tr>\n",
       "    <tr>\n",
       "      <th>189</th>\n",
       "      <td>183.149964</td>\n",
       "      <td>30747</td>\n",
       "      <td>25949</td>\n",
       "      <td>1.0</td>\n",
       "      <td>139.359081</td>\n",
       "      <td>ESP_011394_0935</td>\n",
       "    </tr>\n",
       "    <tr>\n",
       "      <th>115</th>\n",
       "      <td>183.549487</td>\n",
       "      <td>14771</td>\n",
       "      <td>45258</td>\n",
       "      <td>0.5</td>\n",
       "      <td>106.472204</td>\n",
       "      <td>ESP_011403_0945</td>\n",
       "    </tr>\n",
       "    <tr>\n",
       "      <th>98</th>\n",
       "      <td>183.593752</td>\n",
       "      <td>34927</td>\n",
       "      <td>37137</td>\n",
       "      <td>1.0</td>\n",
       "      <td>134.130277</td>\n",
       "      <td>ESP_011404_0945</td>\n",
       "    </tr>\n",
       "    <tr>\n",
       "      <th>175</th>\n",
       "      <td>183.682631</td>\n",
       "      <td>35672</td>\n",
       "      <td>7062</td>\n",
       "      <td>0.5</td>\n",
       "      <td>111.346267</td>\n",
       "      <td>ESP_011406_0945</td>\n",
       "    </tr>\n",
       "    <tr>\n",
       "      <th>26</th>\n",
       "      <td>183.726859</td>\n",
       "      <td>41552</td>\n",
       "      <td>29218</td>\n",
       "      <td>1.0</td>\n",
       "      <td>138.754630</td>\n",
       "      <td>ESP_011407_0945</td>\n",
       "    </tr>\n",
       "    <tr>\n",
       "      <th>209</th>\n",
       "      <td>183.771086</td>\n",
       "      <td>15911</td>\n",
       "      <td>28701</td>\n",
       "      <td>1.0</td>\n",
       "      <td>148.929542</td>\n",
       "      <td>ESP_011408_0930</td>\n",
       "    </tr>\n",
       "    <tr>\n",
       "      <th>206</th>\n",
       "      <td>183.993879</td>\n",
       "      <td>28605</td>\n",
       "      <td>11736</td>\n",
       "      <td>0.5</td>\n",
       "      <td>112.770664</td>\n",
       "      <td>ESP_011413_0970</td>\n",
       "    </tr>\n",
       "    <tr>\n",
       "      <th>208</th>\n",
       "      <td>184.304427</td>\n",
       "      <td>25936</td>\n",
       "      <td>15277</td>\n",
       "      <td>1.0</td>\n",
       "      <td>157.311404</td>\n",
       "      <td>ESP_011420_0930</td>\n",
       "    </tr>\n",
       "    <tr>\n",
       "      <th>205</th>\n",
       "      <td>184.393406</td>\n",
       "      <td>4032</td>\n",
       "      <td>29543</td>\n",
       "      <td>1.0</td>\n",
       "      <td>156.971839</td>\n",
       "      <td>ESP_011422_0930</td>\n",
       "    </tr>\n",
       "    <tr>\n",
       "      <th>126</th>\n",
       "      <td>184.794195</td>\n",
       "      <td>26090</td>\n",
       "      <td>15672</td>\n",
       "      <td>1.0</td>\n",
       "      <td>148.634842</td>\n",
       "      <td>ESP_011431_0930</td>\n",
       "    </tr>\n",
       "    <tr>\n",
       "      <th>38</th>\n",
       "      <td>185.508023</td>\n",
       "      <td>41899</td>\n",
       "      <td>45359</td>\n",
       "      <td>0.5</td>\n",
       "      <td>112.977989</td>\n",
       "      <td>ESP_011447_0950</td>\n",
       "    </tr>\n",
       "    <tr>\n",
       "      <th>130</th>\n",
       "      <td>185.552493</td>\n",
       "      <td>10318</td>\n",
       "      <td>32810</td>\n",
       "      <td>1.0</td>\n",
       "      <td>138.825539</td>\n",
       "      <td>ESP_011448_0950</td>\n",
       "    </tr>\n",
       "  </tbody>\n",
       "</table>\n",
       "</div>"
      ],
      "text/plain": [
       "            l_s  line_samples  lines  map_scale  north_azimuth  \\\n",
       "51   178.833427         21764  45638        1.0     110.600107   \n",
       "11   180.808945         29922  20995        0.5     110.208923   \n",
       "151  181.116852         36210  35440        1.0     123.624057   \n",
       "18   181.205092          8168  37649        0.5      99.672793   \n",
       "97   181.249083         30049  40496        1.0     127.960688   \n",
       "169  182.088249         11358  34231        0.5     110.580189   \n",
       "189  183.149964         30747  25949        1.0     139.359081   \n",
       "115  183.549487         14771  45258        0.5     106.472204   \n",
       "98   183.593752         34927  37137        1.0     134.130277   \n",
       "175  183.682631         35672   7062        0.5     111.346267   \n",
       "26   183.726859         41552  29218        1.0     138.754630   \n",
       "209  183.771086         15911  28701        1.0     148.929542   \n",
       "206  183.993879         28605  11736        0.5     112.770664   \n",
       "208  184.304427         25936  15277        1.0     157.311404   \n",
       "205  184.393406          4032  29543        1.0     156.971839   \n",
       "126  184.794195         26090  15672        1.0     148.634842   \n",
       "38   185.508023         41899  45359        0.5     112.977989   \n",
       "130  185.552493         10318  32810        1.0     138.825539   \n",
       "\n",
       "               obsid  \n",
       "51   ESP_011296_0975  \n",
       "11   ESP_011341_0980  \n",
       "151  ESP_011348_0950  \n",
       "18   ESP_011350_0945  \n",
       "97   ESP_011351_0945  \n",
       "169  ESP_011370_0980  \n",
       "189  ESP_011394_0935  \n",
       "115  ESP_011403_0945  \n",
       "98   ESP_011404_0945  \n",
       "175  ESP_011406_0945  \n",
       "26   ESP_011407_0945  \n",
       "209  ESP_011408_0930  \n",
       "206  ESP_011413_0970  \n",
       "208  ESP_011420_0930  \n",
       "205  ESP_011422_0930  \n",
       "126  ESP_011431_0930  \n",
       "38   ESP_011447_0950  \n",
       "130  ESP_011448_0950  "
      ]
     },
     "execution_count": 43,
     "metadata": {},
     "output_type": "execute_result"
    }
   ],
   "source": [
    "meta.query('obsid in @obsids').sort_values(by='obsid')."
   ]
  },
  {
   "cell_type": "code",
   "execution_count": 36,
   "metadata": {
    "ExecuteTime": {
     "end_time": "2018-02-16T08:18:02.375282Z",
     "start_time": "2018-02-16T08:18:02.335964Z"
    }
   },
   "outputs": [
    {
     "data": {
      "text/plain": [
       "1"
      ]
     },
     "execution_count": 36,
     "metadata": {},
     "output_type": "execute_result"
    }
   ],
   "source": [
    "blotches.groupby('obsid').north_azimuth.nunique()"
   ]
  },
  {
   "cell_type": "markdown",
   "metadata": {},
   "source": [
    "# User stats"
   ]
  },
  {
   "cell_type": "code",
   "execution_count": 11,
   "metadata": {},
   "outputs": [],
   "source": [
    "db = io.DBManager()"
   ]
  },
  {
   "cell_type": "code",
   "execution_count": 13,
   "metadata": {},
   "outputs": [],
   "source": [
    "db.dbname = '/Users/klay6683/local_data/planet4/2018-02-11_planet_four_classifications_queryable_cleaned_seasons2and3.h5'"
   ]
  },
  {
   "cell_type": "code",
   "execution_count": 15,
   "metadata": {},
   "outputs": [],
   "source": [
    "with pd.HDFStore(str(db.dbname)) as store:\n",
    "    user_names = store.select_column('df', 'user_name').unique()"
   ]
  },
  {
   "cell_type": "code",
   "execution_count": 16,
   "metadata": {},
   "outputs": [
    {
     "data": {
      "text/plain": [
       "(84527,)"
      ]
     },
     "execution_count": 16,
     "metadata": {},
     "output_type": "execute_result"
    }
   ],
   "source": [
    "user_names.shape"
   ]
  },
  {
   "cell_type": "code",
   "execution_count": 18,
   "metadata": {},
   "outputs": [
    {
     "data": {
      "text/plain": [
       "array(['not-logged-in-948f558b3ccd9c7119d6f0fbff89307a',\n",
       "       'not-logged-in-dc94dbc1ec0d0cb5f1cfe92e193f23a5', 'Star_Gazing',\n",
       "       'not-logged-in-2d1c3e959436d57ee021b20836e7583d', 'number1',\n",
       "       'not-logged-in-41d62206b3d3065dd3a0a5bde9918633', 'Paul57',\n",
       "       'RayUK99', 'universearts', 'cerby'], dtype=object)"
      ]
     },
     "execution_count": 18,
     "metadata": {},
     "output_type": "execute_result"
    }
   ],
   "source": [
    "user_names[:10]"
   ]
  },
  {
   "cell_type": "code",
   "execution_count": 22,
   "metadata": {},
   "outputs": [],
   "source": [
    "not_logged = [i for i in user_names if i.startswith('not-logged-in')]"
   ]
  },
  {
   "cell_type": "code",
   "execution_count": 23,
   "metadata": {},
   "outputs": [],
   "source": [
    "logged = list(set(user_names) - set(not_logged))"
   ]
  },
  {
   "cell_type": "code",
   "execution_count": 25,
   "metadata": {},
   "outputs": [
    {
     "data": {
      "text/plain": [
       "36433"
      ]
     },
     "execution_count": 25,
     "metadata": {},
     "output_type": "execute_result"
    }
   ],
   "source": [
    "len(logged)"
   ]
  },
  {
   "cell_type": "code",
   "execution_count": 26,
   "metadata": {},
   "outputs": [
    {
     "data": {
      "text/plain": [
       "48094"
      ]
     },
     "execution_count": 26,
     "metadata": {},
     "output_type": "execute_result"
    }
   ],
   "source": [
    "len(not_logged)"
   ]
  },
  {
   "cell_type": "code",
   "execution_count": 27,
   "metadata": {},
   "outputs": [
    {
     "data": {
      "text/plain": [
       "['not-logged-in-948f558b3ccd9c7119d6f0fbff89307a',\n",
       " 'not-logged-in-dc94dbc1ec0d0cb5f1cfe92e193f23a5',\n",
       " 'not-logged-in-2d1c3e959436d57ee021b20836e7583d',\n",
       " 'not-logged-in-41d62206b3d3065dd3a0a5bde9918633',\n",
       " 'not-logged-in-73e4287690c7367f34c91fd4cac32092',\n",
       " 'not-logged-in-9b65822a4d0ff93585607fc90e06582d',\n",
       " 'not-logged-in-5a78374f69407be311195ead72062389',\n",
       " 'not-logged-in-30a0a9efa9dcd6bbb66c120cbadd22df',\n",
       " 'not-logged-in-3a2cc4e0b7dd04a3e86eb5846b62d2fb',\n",
       " 'not-logged-in-b47d74c53b4dcbbb1b4bbec461f18303',\n",
       " 'not-logged-in-6b290c26661f8069bc2b48358fc61985',\n",
       " 'not-logged-in-525180b587f7a8cda7d4cb104a2e8d0e',\n",
       " 'not-logged-in-ebf695a0e7b5bd74014579934cd3e132',\n",
       " 'not-logged-in-ec3f060d58c0c9f5e0699cb055eaa1ac',\n",
       " 'not-logged-in-b2603bfa5cbcb81c062a80ae86300271',\n",
       " 'not-logged-in-e58782b56b8ce4de2f3b271fc9333c6c',\n",
       " 'not-logged-in-0f98acea7cc1f9733225893b336a47f1',\n",
       " 'not-logged-in-3cfcb1343a2f59ff65f3922f3f3760dc',\n",
       " 'not-logged-in-02c9524d260ac4237ddbfd1b5f33d99e',\n",
       " 'not-logged-in-b83c4399dfd5ff24256617df4281ea46']"
      ]
     },
     "execution_count": 27,
     "metadata": {},
     "output_type": "execute_result"
    }
   ],
   "source": [
    "not_logged[:20]"
   ]
  },
  {
   "cell_type": "code",
   "execution_count": 36,
   "metadata": {},
   "outputs": [],
   "source": [
    "df = db.get_all()"
   ]
  },
  {
   "cell_type": "code",
   "execution_count": 37,
   "metadata": {},
   "outputs": [
    {
     "data": {
      "text/plain": [
       "(2694415, 23)"
      ]
     },
     "execution_count": 37,
     "metadata": {},
     "output_type": "execute_result"
    }
   ],
   "source": [
    "df[df.marking=='fan'].shape"
   ]
  },
  {
   "cell_type": "code",
   "execution_count": 38,
   "metadata": {},
   "outputs": [
    {
     "data": {
      "text/plain": [
       "(3460056, 23)"
      ]
     },
     "execution_count": 38,
     "metadata": {},
     "output_type": "execute_result"
    }
   ],
   "source": [
    "df[df.marking=='blotch'].shape"
   ]
  },
  {
   "cell_type": "code",
   "execution_count": 39,
   "metadata": {},
   "outputs": [
    {
     "data": {
      "text/plain": [
       "(805903, 23)"
      ]
     },
     "execution_count": 39,
     "metadata": {},
     "output_type": "execute_result"
    }
   ],
   "source": [
    "df[df.marking=='interesting'].shape"
   ]
  },
  {
   "cell_type": "code",
   "execution_count": 41,
   "metadata": {},
   "outputs": [],
   "source": [
    "n_class_by_user = df.groupby('user_name').classification_id.nunique()"
   ]
  },
  {
   "cell_type": "code",
   "execution_count": 42,
   "metadata": {},
   "outputs": [
    {
     "data": {
      "text/plain": [
       "count    84527.000000\n",
       "mean        41.355969\n",
       "std        261.514780\n",
       "min          1.000000\n",
       "25%          2.000000\n",
       "50%          7.000000\n",
       "75%         25.000000\n",
       "max      31808.000000\n",
       "Name: classification_id, dtype: float64"
      ]
     },
     "execution_count": 42,
     "metadata": {},
     "output_type": "execute_result"
    }
   ],
   "source": [
    "n_class_by_user.describe()"
   ]
  },
  {
   "cell_type": "code",
   "execution_count": 46,
   "metadata": {},
   "outputs": [],
   "source": [
    "logged_users = df.user_name[~df.user_name.str.startswith(\"not-logged-in\")].unique()"
   ]
  },
  {
   "cell_type": "code",
   "execution_count": 47,
   "metadata": {},
   "outputs": [
    {
     "data": {
      "text/plain": [
       "(36433,)"
      ]
     },
     "execution_count": 47,
     "metadata": {},
     "output_type": "execute_result"
    }
   ],
   "source": [
    "logged_users.shape"
   ]
  },
  {
   "cell_type": "code",
   "execution_count": 51,
   "metadata": {},
   "outputs": [],
   "source": [
    "not_logged = list(set(df.user_name.unique()) - set(logged_users))"
   ]
  },
  {
   "cell_type": "code",
   "execution_count": 52,
   "metadata": {},
   "outputs": [
    {
     "data": {
      "text/plain": [
       "48094"
      ]
     },
     "execution_count": 52,
     "metadata": {},
     "output_type": "execute_result"
    }
   ],
   "source": [
    "len(not_logged)"
   ]
  },
  {
   "cell_type": "code",
   "execution_count": 55,
   "metadata": {},
   "outputs": [
    {
     "data": {
      "text/plain": [
       "count    48094.000000\n",
       "mean        20.617104\n",
       "std         71.088764\n",
       "min          1.000000\n",
       "25%          1.000000\n",
       "50%          4.000000\n",
       "75%         14.000000\n",
       "max       2585.000000\n",
       "Name: classification_id, dtype: float64"
      ]
     },
     "execution_count": 55,
     "metadata": {},
     "output_type": "execute_result"
    }
   ],
   "source": [
    "n_class_by_user[not_logged].describe()"
   ]
  },
  {
   "cell_type": "code",
   "execution_count": 56,
   "metadata": {},
   "outputs": [
    {
     "data": {
      "text/plain": [
       "count    36433.000000\n",
       "mean        68.732660\n",
       "std        388.179572\n",
       "min          1.000000\n",
       "25%          4.000000\n",
       "50%         14.000000\n",
       "75%         45.000000\n",
       "max      31808.000000\n",
       "Name: classification_id, dtype: float64"
      ]
     },
     "execution_count": 56,
     "metadata": {},
     "output_type": "execute_result"
    }
   ],
   "source": [
    "n_class_by_user[logged_users].describe()"
   ]
  },
  {
   "cell_type": "code",
   "execution_count": 61,
   "metadata": {},
   "outputs": [
    {
     "data": {
      "text/plain": [
       "0.14768062275959162"
      ]
     },
     "execution_count": 61,
     "metadata": {},
     "output_type": "execute_result"
    }
   ],
   "source": [
    "n_class_by_user[n_class_by_user>50].shape[0]/n_class_by_user.shape[0]"
   ]
  },
  {
   "cell_type": "code",
   "execution_count": 60,
   "metadata": {},
   "outputs": [
    {
     "data": {
      "text/plain": [
       "(84527,)"
      ]
     },
     "execution_count": 60,
     "metadata": {},
     "output_type": "execute_result"
    }
   ],
   "source": [
    "n_class_by_user.shape"
   ]
  },
  {
   "cell_type": "markdown",
   "metadata": {},
   "source": [
    "# pipeline output examples"
   ]
  },
  {
   "cell_type": "code",
   "execution_count": 6,
   "metadata": {},
   "outputs": [],
   "source": [
    "pm = io.PathManager('any', datapath=rm.savefolder)"
   ]
  },
  {
   "cell_type": "code",
   "execution_count": 7,
   "metadata": {},
   "outputs": [],
   "source": [
    "cols1 = pm.fandf.columns[:8]\n",
    "cols2 = pm.fandf.columns[8:-2]\n",
    "cols3 = pm.fandf.columns[-2:]"
   ]
  },
  {
   "cell_type": "code",
   "execution_count": 8,
   "metadata": {},
   "outputs": [
    {
     "name": "stdout",
     "output_type": "stream",
     "text": [
      "\\begin{tabular}{lrrrrrrrr}\n",
      "\\toprule\n",
      "{} &  x\\_tile &  y\\_tile &           x &           y &      image\\_x &       image\\_y &  radius\\_1 &  radius\\_2 \\\\\n",
      "\\midrule\n",
      "0  &     2.0 &    26.0 &  123.611111 &  455.666667 &   863.611111 &  14155.666667 &       NaN &       NaN \\\\\n",
      "1  &     2.0 &    26.0 &  157.000000 &  391.800000 &   897.000000 &  14091.800000 &       NaN &       NaN \\\\\n",
      "2  &     2.0 &    26.0 &   92.000000 &  606.400000 &   832.000000 &  14306.400000 &       NaN &       NaN \\\\\n",
      "3  &     2.0 &    26.0 &  290.400000 &  277.800000 &  1030.400000 &  13977.800000 &       NaN &       NaN \\\\\n",
      "4  &     2.0 &    26.0 &  289.375000 &  275.000000 &  1029.375000 &  13975.000000 &       NaN &       NaN \\\\\n",
      "5  &     2.0 &    26.0 &  360.500000 &  308.857143 &  1100.500000 &  14008.857143 &       NaN &       NaN \\\\\n",
      "6  &     2.0 &    26.0 &  355.916667 &  308.666667 &  1095.916667 &  14008.666667 &       NaN &       NaN \\\\\n",
      "7  &     2.0 &    26.0 &  363.937500 &  305.625000 &  1103.937500 &  14005.625000 &       NaN &       NaN \\\\\n",
      "8  &     2.0 &    26.0 &  464.800000 &  133.600000 &  1204.800000 &  13833.600000 &       NaN &       NaN \\\\\n",
      "9  &     2.0 &    26.0 &  490.500000 &  232.083333 &  1230.500000 &  13932.083333 &       NaN &       NaN \\\\\n",
      "10 &     2.0 &    26.0 &  282.166667 &  527.666667 &  1022.166667 &  14227.666667 &       NaN &       NaN \\\\\n",
      "11 &     2.0 &    26.0 &  351.700000 &  491.200000 &  1091.700000 &  14191.200000 &       NaN &       NaN \\\\\n",
      "12 &     2.0 &    26.0 &  765.500000 &  609.000000 &  1505.500000 &  14309.000000 &       NaN &       NaN \\\\\n",
      "13 &     2.0 &    26.0 &  720.785714 &  624.285714 &  1460.785714 &  14324.285714 &       NaN &       NaN \\\\\n",
      "14 &     2.0 &    26.0 &  471.333333 &  622.833333 &  1211.333333 &  14322.833333 &       NaN &       NaN \\\\\n",
      "15 &     2.0 &    26.0 &  464.875000 &  623.000000 &  1204.875000 &  14323.000000 &       NaN &       NaN \\\\\n",
      "16 &     2.0 &    26.0 &  478.750000 &  619.250000 &  1218.750000 &  14319.250000 &       NaN &       NaN \\\\\n",
      "17 &     2.0 &    26.0 &  127.833333 &  168.333333 &   867.833333 &  13868.333333 &       NaN &       NaN \\\\\n",
      "18 &     2.0 &    26.0 &  146.625000 &   79.500000 &   886.625000 &  13779.500000 &       NaN &       NaN \\\\\n",
      "19 &     2.0 &    26.0 &  346.428571 &  419.857143 &  1086.428571 &  14119.857143 &       NaN &       NaN \\\\\n",
      "20 &     2.0 &    26.0 &  284.125000 &   54.750000 &  1024.125000 &  13754.750000 &       NaN &       NaN \\\\\n",
      "21 &     2.0 &    26.0 &  613.833333 &   20.000000 &  1353.833333 &  13720.000000 &       NaN &       NaN \\\\\n",
      "22 &     2.0 &    26.0 &  823.500000 &  569.333333 &  1563.500000 &  14269.333333 &       NaN &       NaN \\\\\n",
      "\\bottomrule\n",
      "\\end{tabular}\n",
      "\n"
     ]
    }
   ],
   "source": [
    "print(pm.fandf[cols1].to_latex())"
   ]
  },
  {
   "cell_type": "code",
   "execution_count": 9,
   "metadata": {},
   "outputs": [
    {
     "name": "stdout",
     "output_type": "stream",
     "text": [
      "\\begin{tabular}{lrrrrrrrl}\n",
      "\\toprule\n",
      "{} &    distance &       angle &      spread &  version &   x\\_angle &   y\\_angle &  n\\_votes &    image\\_id \\\\\n",
      "\\midrule\n",
      "0  &   81.884266 &  223.712817 &   71.559689 &      1.0 & -0.691035 & -0.660663 &        9 &  APF0000any \\\\\n",
      "1  &   57.742472 &  248.754137 &   52.521798 &      1.0 & -0.360802 & -0.927999 &       10 &  APF0000any \\\\\n",
      "2  &   58.742330 &  247.146845 &   81.171448 &      1.0 & -0.387419 & -0.919245 &        5 &  APF0000any \\\\\n",
      "3  &   74.302023 &  237.056928 &   63.553237 &      1.0 & -0.529280 & -0.816796 &        5 &  APF0000any \\\\\n",
      "4  &   63.726058 &  182.515853 &   61.786022 &      1.0 & -0.988914 & -0.043451 &        4 &  APF0000any \\\\\n",
      "5  &  125.735426 &  249.370874 &   29.268556 &      1.0 & -0.352186 & -0.935531 &        7 &  APF0000any \\\\\n",
      "6  &   98.829259 &  175.600980 &   46.059460 &      1.0 & -0.992413 &  0.076345 &        6 &  APF0000any \\\\\n",
      "7  &  141.698658 &  207.461764 &  109.351533 &      1.0 & -0.885223 & -0.460067 &        8 &  APF0000any \\\\\n",
      "8  &   33.923256 &  220.624658 &   75.962922 &      1.0 & -0.741888 & -0.636429 &        5 &  APF0000any \\\\\n",
      "9  &   78.291974 &  235.787648 &   74.487487 &      1.0 & -0.544420 & -0.800719 &       12 &  APF0000any \\\\\n",
      "10 &   55.445845 &  243.140046 &   70.610085 &      1.0 & -0.450677 & -0.889875 &        3 &  APF0000any \\\\\n",
      "11 &   87.828946 &  222.697533 &  100.663705 &      1.0 & -0.715620 & -0.660298 &       10 &  APF0000any \\\\\n",
      "12 &   68.740895 &  235.141454 &   57.462270 &      1.0 & -0.569687 & -0.817888 &        3 &  APF0000any \\\\\n",
      "13 &   60.354482 &  227.050774 &   60.463874 &      1.0 & -0.661566 & -0.710704 &        7 &  APF0000any \\\\\n",
      "14 &  100.249817 &  248.542917 &   49.199989 &      1.0 & -0.364813 & -0.928169 &        6 &  APF0000any \\\\\n",
      "15 &   61.435496 &  182.756533 &   51.486859 &      1.0 & -0.996310 & -0.047970 &        4 &  APF0000any \\\\\n",
      "16 &  108.695041 &  214.533307 &   91.527183 &      1.0 & -0.822275 & -0.565838 &        4 &  APF0000any \\\\\n",
      "17 &  141.316600 &  236.085042 &   60.359391 &      1.0 & -0.548501 & -0.815796 &        6 &  APF0000any \\\\\n",
      "18 &   85.708454 &  235.823291 &   54.214910 &      1.0 & -0.542820 & -0.799434 &        4 &  APF0000any \\\\\n",
      "19 &   50.857643 &  215.258415 &   77.025846 &      1.0 & -0.752460 & -0.531952 &        7 &  APF0000any \\\\\n",
      "20 &   69.583839 &  231.714636 &   81.000316 &      1.0 & -0.611801 & -0.775081 &        4 &  APF0000any \\\\\n",
      "21 &   35.459740 &  208.979060 &  102.302513 &      1.0 & -0.868278 & -0.480880 &        3 &  APF0000any \\\\\n",
      "22 &  100.926489 &  237.406738 &   44.502308 &      1.0 & -0.536862 & -0.839685 &        3 &  APF0000any \\\\\n",
      "\\bottomrule\n",
      "\\end{tabular}\n",
      "\n"
     ]
    }
   ],
   "source": [
    "print(pm.fandf[cols2].to_latex())"
   ]
  },
  {
   "cell_type": "code",
   "execution_count": 10,
   "metadata": {},
   "outputs": [
    {
     "name": "stdout",
     "output_type": "stream",
     "text": [
      "\\begin{tabular}{lll}\n",
      "\\toprule\n",
      "{} &       image\\_name & marking\\_id \\\\\n",
      "\\midrule\n",
      "0  &  ESP\\_011350\\_0945 &    F006de3 \\\\\n",
      "1  &  ESP\\_011350\\_0945 &    F006de4 \\\\\n",
      "2  &  ESP\\_011350\\_0945 &    F006de5 \\\\\n",
      "3  &  ESP\\_011350\\_0945 &    F006de6 \\\\\n",
      "4  &  ESP\\_011350\\_0945 &    F006de7 \\\\\n",
      "5  &  ESP\\_011350\\_0945 &    F006de8 \\\\\n",
      "6  &  ESP\\_011350\\_0945 &    F006de9 \\\\\n",
      "7  &  ESP\\_011350\\_0945 &    F006dea \\\\\n",
      "8  &  ESP\\_011350\\_0945 &    F006deb \\\\\n",
      "9  &  ESP\\_011350\\_0945 &    F006dec \\\\\n",
      "10 &  ESP\\_011350\\_0945 &    F006ded \\\\\n",
      "11 &  ESP\\_011350\\_0945 &    F006dee \\\\\n",
      "12 &  ESP\\_011350\\_0945 &    F006def \\\\\n",
      "13 &  ESP\\_011350\\_0945 &    F006df0 \\\\\n",
      "14 &  ESP\\_011350\\_0945 &    F006df1 \\\\\n",
      "15 &  ESP\\_011350\\_0945 &    F006df2 \\\\\n",
      "16 &  ESP\\_011350\\_0945 &    F006df3 \\\\\n",
      "17 &  ESP\\_011350\\_0945 &    F006df4 \\\\\n",
      "18 &  ESP\\_011350\\_0945 &    F006df5 \\\\\n",
      "19 &  ESP\\_011350\\_0945 &    F006df6 \\\\\n",
      "20 &  ESP\\_011350\\_0945 &    F006df7 \\\\\n",
      "21 &  ESP\\_011350\\_0945 &    F006df8 \\\\\n",
      "22 &  ESP\\_011350\\_0945 &    F006df9 \\\\\n",
      "\\bottomrule\n",
      "\\end{tabular}\n",
      "\n"
     ]
    }
   ],
   "source": [
    "print(pm.fandf[cols3].to_latex())"
   ]
  },
  {
   "cell_type": "code",
   "execution_count": 18,
   "metadata": {},
   "outputs": [],
   "source": [
    "df = pm.fnotchdf.head(4)"
   ]
  },
  {
   "cell_type": "code",
   "execution_count": 27,
   "metadata": {},
   "outputs": [],
   "source": [
    "cols1 = df.columns[:6]\n",
    "cols2 = df.columns[6:14]\n",
    "cols3 = df.columns[14:]"
   ]
  },
  {
   "cell_type": "code",
   "execution_count": 28,
   "metadata": {},
   "outputs": [
    {
     "name": "stdout",
     "output_type": "stream",
     "text": [
      "\\begin{tabular}{lrrllrr}\n",
      "\\toprule\n",
      "{} &       angle &   distance &    image\\_id &       image\\_name &     image\\_x &       image\\_y \\\\\n",
      "\\midrule\n",
      "fan    &  223.712817 &  81.884266 &  APF0000any &  ESP\\_011350\\_0945 &  863.611111 &  14155.666667 \\\\\n",
      "blotch &   67.261720 &        NaN &  APF0000any &  ESP\\_011350\\_0945 &  838.395834 &  14123.875000 \\\\\n",
      "fan    &  247.146845 &  58.742330 &  APF0000any &  ESP\\_011350\\_0945 &  832.000000 &  14306.400000 \\\\\n",
      "blotch &   70.684606 &        NaN &  APF0000any &  ESP\\_011350\\_0945 &  821.666667 &  14281.428571 \\\\\n",
      "\\bottomrule\n",
      "\\end{tabular}\n",
      "\n",
      "\\begin{tabular}{llrrrrrrr}\n",
      "\\toprule\n",
      "{} & marking\\_id &  n\\_votes &   radius\\_1 &   radius\\_2 &     spread &  version &           x &   x\\_angle \\\\\n",
      "\\midrule\n",
      "fan    &    F006de3 &        9 &        NaN &        NaN &  71.559689 &      1.0 &  123.611111 & -0.691035 \\\\\n",
      "blotch &    B0071f2 &        8 &  49.309277 &  36.981958 &        NaN &      NaN &   98.395834 &  0.379131 \\\\\n",
      "fan    &    F006de5 &        5 &        NaN &        NaN &  81.171448 &      1.0 &   92.000000 & -0.387419 \\\\\n",
      "blotch &    B0071ed &        7 &  35.324591 &  26.493443 &        NaN &      NaN &   81.666667 &  0.217508 \\\\\n",
      "\\bottomrule\n",
      "\\end{tabular}\n",
      "\n",
      "\\begin{tabular}{lrrrrr}\n",
      "\\toprule\n",
      "{} &  x\\_tile &           y &   y\\_angle &  y\\_tile &  vote\\_ratio \\\\\n",
      "\\midrule\n",
      "fan    &     2.0 &  455.666667 & -0.660663 &    26.0 &    0.539412 \\\\\n",
      "blotch &     2.0 &  423.875000 &  0.907431 &    26.0 &    0.460588 \\\\\n",
      "fan    &     2.0 &  606.400000 & -0.919245 &    26.0 &    0.426667 \\\\\n",
      "blotch &     2.0 &  581.428571 &  0.852341 &    26.0 &    0.573333 \\\\\n",
      "\\bottomrule\n",
      "\\end{tabular}\n",
      "\n"
     ]
    }
   ],
   "source": [
    "for i in [1,2,3]:\n",
    "    print(df[eval(f\"cols{i}\")].to_latex())"
   ]
  },
  {
   "cell_type": "code",
   "execution_count": null,
   "metadata": {},
   "outputs": [],
   "source": []
  }
 ],
 "metadata": {
  "kernelspec": {
   "display_name": "Python [conda env:py36]",
   "language": "python",
   "name": "conda-env-py36-py"
  },
  "language_info": {
   "codemirror_mode": {
    "name": "ipython",
    "version": 3
   },
   "file_extension": ".py",
   "mimetype": "text/x-python",
   "name": "python",
   "nbconvert_exporter": "python",
   "pygments_lexer": "ipython3",
   "version": "3.6.6"
  },
  "toc": {
   "base_numbering": 1,
   "nav_menu": {},
   "number_sections": true,
   "sideBar": true,
   "skip_h1_title": false,
   "title_cell": "Table of Contents",
   "title_sidebar": "Contents",
   "toc_cell": true,
   "toc_position": {},
   "toc_section_display": "block",
   "toc_window_display": false
  },
  "varInspector": {
   "cols": {
    "lenName": 16,
    "lenType": 16,
    "lenVar": 40
   },
   "kernels_config": {
    "python": {
     "delete_cmd_postfix": "",
     "delete_cmd_prefix": "del ",
     "library": "var_list.py",
     "varRefreshCmd": "print(var_dic_list())"
    },
    "r": {
     "delete_cmd_postfix": ") ",
     "delete_cmd_prefix": "rm(",
     "library": "var_list.r",
     "varRefreshCmd": "cat(var_dic_list()) "
    }
   },
   "types_to_exclude": [
    "module",
    "function",
    "builtin_function_or_method",
    "instance",
    "_Feature"
   ],
   "window_display": false
  }
 },
 "nbformat": 4,
 "nbformat_minor": 2
}
