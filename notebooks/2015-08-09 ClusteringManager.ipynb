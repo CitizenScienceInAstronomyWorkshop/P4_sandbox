{
 "cells": [
  {
   "cell_type": "code",
   "execution_count": null,
   "metadata": {
    "collapsed": false
   },
   "outputs": [],
   "source": [
    "%matplotlib nbagg\n",
    "from planet4.clustering import ClusteringManager\n",
    "from planet4 import io, markings, plotting\n",
    "from IPython.display import display\n",
    "from ipywidgets import FloatText\n",
    "from pathlib import Path"
   ]
  },
  {
   "cell_type": "code",
   "execution_count": null,
   "metadata": {
    "collapsed": false
   },
   "outputs": [],
   "source": [
    "db = io.DBManager(\"/Volumes/USB128GB/planet4/2015-11-22_planet_four_classifications_queryable_cleaned.h5\")\n",
    "dbname = db.dbname"
   ]
  },
  {
   "cell_type": "code",
   "execution_count": null,
   "metadata": {
    "collapsed": true
   },
   "outputs": [],
   "source": [
    "obsids = !cat /Users/klay6683/Dropbox/data/planet4/season2_3_image_names.txt"
   ]
  },
  {
   "cell_type": "code",
   "execution_count": null,
   "metadata": {
    "collapsed": false
   },
   "outputs": [],
   "source": [
    "img_name = obsids[0]"
   ]
  },
  {
   "cell_type": "code",
   "execution_count": null,
   "metadata": {
    "collapsed": false
   },
   "outputs": [],
   "source": [
    "def process_image_name(img_name):\n",
    "    from pathlib import Path\n",
    "    from planet4.clustering import ClusteringManager\n",
    "    output_dir = Path('/Users/klay6683/Dropbox/data/planet4/season23_v3')\n",
    "    output_dir.mkdir(exist_ok=True)\n",
    "    cm = ClusteringManager(dbname, scope='planet4',\n",
    "                           output_dir=output_dir,\n",
    "                           output_format='both')\n",
    "    cm.cluster_image_name(img_name)\n",
    "    return img_name"
   ]
  },
  {
   "cell_type": "code",
   "execution_count": null,
   "metadata": {
    "collapsed": false
   },
   "outputs": [],
   "source": [
    "process_image_name(img_name)"
   ]
  },
  {
   "cell_type": "code",
   "execution_count": null,
   "metadata": {
    "collapsed": true
   },
   "outputs": [],
   "source": [
    "from planet4.clustering import ClusteringManager\n",
    "fnotched_dir = Path('/Users/klay6683/Dropbox/data/planet4/debug')\n",
    "fnotched_dir.mkdir(exist_ok=True)"
   ]
  },
  {
   "cell_type": "code",
   "execution_count": null,
   "metadata": {
    "collapsed": false
   },
   "outputs": [],
   "source": [
    "def check_processing_image_id(img_id):\n",
    "    cm = ClusteringManager(dbname, scope='planet4',\n",
    "                       fnotched_dir=fnotched_dir,\n",
    "                       output_format='both')\n",
    "    cm.cluster_image_id(img_id)\n",
    "    p4id = markings.ImageID(img_id, database_fname=dbname)\n",
    "    fig, axes = plt.subplots(nrows=2, sharex=True)\n",
    "    resman = plotting.ResultManager(img_id, fnotched_dir)\n",
    "    p4id.plot_blotches(ax=axes[0],\n",
    "                       blotches=resman.blotches(unfnotched=True))\n",
    "    p4id.plot_fans(ax=axes[1],\n",
    "                   fans=resman.fans(unfnotched=True))\n",
    "    cm.apply_fnotch_cut(img_id)\n",
    "    return cm"
   ]
  },
  {
   "cell_type": "code",
   "execution_count": null,
   "metadata": {
    "collapsed": false,
    "scrolled": false
   },
   "outputs": [],
   "source": [
    "cm = check_processing_image_id('APF000036k')"
   ]
  },
  {
   "cell_type": "code",
   "execution_count": null,
   "metadata": {
    "collapsed": true
   },
   "outputs": [],
   "source": []
  },
  {
   "cell_type": "code",
   "execution_count": null,
   "metadata": {
    "collapsed": true
   },
   "outputs": [],
   "source": [
    "resman = plotting.ResultManager(\"APF000036k\", cm.fnotched_dir)"
   ]
  },
  {
   "cell_type": "code",
   "execution_count": null,
   "metadata": {
    "collapsed": false
   },
   "outputs": [],
   "source": [
    "resman.fnotchfile"
   ]
  },
  {
   "cell_type": "code",
   "execution_count": null,
   "metadata": {
    "collapsed": false
   },
   "outputs": [],
   "source": [
    "cd ~/Dropbox/data/planet4/debug/"
   ]
  },
  {
   "cell_type": "code",
   "execution_count": null,
   "metadata": {
    "collapsed": false
   },
   "outputs": [],
   "source": [
    "ll"
   ]
  },
  {
   "cell_type": "code",
   "execution_count": null,
   "metadata": {
    "collapsed": false
   },
   "outputs": [],
   "source": [
    "df = pd.read_hdf('./APF000036k_fnotches.hdf')"
   ]
  },
  {
   "cell_type": "code",
   "execution_count": null,
   "metadata": {
    "collapsed": false
   },
   "outputs": [],
   "source": [
    "fc = markings.FnotchContainer.from_df(df)"
   ]
  },
  {
   "cell_type": "code",
   "execution_count": null,
   "metadata": {
    "collapsed": false
   },
   "outputs": [],
   "source": [
    "fc.content[0]"
   ]
  },
  {
   "cell_type": "code",
   "execution_count": null,
   "metadata": {
    "collapsed": false
   },
   "outputs": [],
   "source": [
    "from ipyparallel import Client\n",
    "c = Client()"
   ]
  },
  {
   "cell_type": "code",
   "execution_count": null,
   "metadata": {
    "collapsed": true
   },
   "outputs": [],
   "source": [
    "lbview = c.load_balanced_view()"
   ]
  },
  {
   "cell_type": "code",
   "execution_count": null,
   "metadata": {
    "collapsed": true
   },
   "outputs": [],
   "source": [
    "dview = c.direct_view()"
   ]
  },
  {
   "cell_type": "code",
   "execution_count": null,
   "metadata": {
    "collapsed": false
   },
   "outputs": [],
   "source": [
    "dview.push({'dbname': str(db.dbname)})"
   ]
  },
  {
   "cell_type": "code",
   "execution_count": null,
   "metadata": {
    "collapsed": false
   },
   "outputs": [],
   "source": [
    "image_ids = []\n",
    "for image_name in obsids:\n",
    "    image_ids.append(db.get_image_name_markings(image_name)['image_id'].unique())"
   ]
  },
  {
   "cell_type": "code",
   "execution_count": null,
   "metadata": {
    "collapsed": false
   },
   "outputs": [],
   "source": [
    "image_ids = pd.concat([pd.Series(i).astype(str) for i in image_ids])"
   ]
  },
  {
   "cell_type": "code",
   "execution_count": null,
   "metadata": {
    "collapsed": false
   },
   "outputs": [],
   "source": [
    "len(image_ids)"
   ]
  },
  {
   "cell_type": "code",
   "execution_count": null,
   "metadata": {
    "collapsed": false
   },
   "outputs": [],
   "source": [
    "cm = ClusteringManager(dbname, scope='planet4',\n",
    "                       output_dir=output_dir,\n",
    "                       output_format='both', cut=0.5)"
   ]
  },
  {
   "cell_type": "code",
   "execution_count": null,
   "metadata": {
    "collapsed": false
   },
   "outputs": [],
   "source": [
    "todo = image_ids[:]\n",
    "results = lbview.map_async(cm.cluster_image_id, todo)"
   ]
  },
  {
   "cell_type": "code",
   "execution_count": null,
   "metadata": {
    "collapsed": false
   },
   "outputs": [],
   "source": [
    "from iuvs.multitools import nb_progress_display"
   ]
  },
  {
   "cell_type": "code",
   "execution_count": null,
   "metadata": {
    "collapsed": false
   },
   "outputs": [],
   "source": [
    "nb_progress_display(results, todo)"
   ]
  },
  {
   "cell_type": "code",
   "execution_count": null,
   "metadata": {
    "collapsed": false
   },
   "outputs": [],
   "source": [
    "for res in results:\n",
    "    res"
   ]
  },
  {
   "cell_type": "markdown",
   "metadata": {
    "collapsed": true
   },
   "source": [
    "# Applying cut to fnotches"
   ]
  },
  {
   "cell_type": "code",
   "execution_count": null,
   "metadata": {
    "collapsed": false
   },
   "outputs": [],
   "source": [
    "from pathlib import Path\n",
    "from planet4 import io"
   ]
  },
  {
   "cell_type": "code",
   "execution_count": null,
   "metadata": {
    "collapsed": false
   },
   "outputs": [],
   "source": [
    "output_dir = io.p4data() / 'season23_by_id_fnotched_0.5/'\n",
    "input_dir = io.p4data() / 'season23_by_id'"
   ]
  },
  {
   "cell_type": "code",
   "execution_count": null,
   "metadata": {
    "collapsed": false
   },
   "outputs": [],
   "source": [
    "fnotch_fnames = list(input_dir.glob('*_fnotches.hdf'))"
   ]
  },
  {
   "cell_type": "code",
   "execution_count": null,
   "metadata": {
    "collapsed": false
   },
   "outputs": [],
   "source": [
    "len(fnotch_fnames)"
   ]
  },
  {
   "cell_type": "code",
   "execution_count": null,
   "metadata": {
    "collapsed": false
   },
   "outputs": [],
   "source": [
    "def filter_for_fans(x):\n",
    "    if isinstance(x, planet4.markings.Fan):\n",
    "        return x\n",
    "\n",
    "def filter_for_blotches(x):\n",
    "    if isinstance(x, planet4.markings.Blotch):\n",
    "        return x"
   ]
  },
  {
   "cell_type": "code",
   "execution_count": null,
   "metadata": {
    "collapsed": true
   },
   "outputs": [],
   "source": [
    "from planet4 import markings, plotting\n",
    "\n",
    "def get_newfans_newblotches(fname, input_dir):\n",
    "    resman = plotting.ResultManager(fname, input_dir)\n",
    "    df = resman.fnotchdf\n",
    "    final_clusters = df.apply(markings.Fnotch.from_dataframe, axis=1).\\\n",
    "        apply(lambda x: x.get_marking(0.5))\n",
    "    newfans = final_clusters[final_clusters.apply(filter_for_fans).notnull()]\n",
    "    newblotches = final_clusters[final_clusters.apply(filter_for_blotches).notnull()]\n",
    "    return newfans, newblotches\n",
    "    \n",
    "def process_fnotch_fname(fname):\n",
    "    outpath = output_dir\n",
    "    outpath.mkdir(exist_ok=True)\n",
    "    newfans, newblotches = get_newfans_newblotches(fname, input_dir)\n",
    "    \n",
    "    if len(newfans) > 0:\n",
    "        newfans = newfans.apply(lambda x: x.store())\n",
    "        try:\n",
    "            completefans = pd.DataFrame(resman.fandf).append(newfans, ignore_index=True)\n",
    "        except OSError:\n",
    "            completefans = newfans\n",
    "    else:\n",
    "        completefans = resman.fandf\n",
    "    if len(newblotches) > 0:\n",
    "        newblotches = newblotches.apply(lambda x: x.store())\n",
    "        try:\n",
    "            completeblotches = pd.DataFrame(resman.blotchdf).append(newblotches,\n",
    "                                                      ignore_index=True)\n",
    "        except OSError:\n",
    "            completeblotches = newblotches\n",
    "    else:\n",
    "        completeblotches = resman.blotchdf\n",
    "    completefans.to_hdf(str(outpath / resman.fanfile.name), 'df')\n",
    "    completeblotches.to_hdf(str(outpath / resman.blotchfile.name), 'df')"
   ]
  },
  {
   "cell_type": "code",
   "execution_count": null,
   "metadata": {
    "collapsed": false
   },
   "outputs": [],
   "source": [
    "image_ids = [i.stem.split('_')[0] for i in fnotch_fnames]"
   ]
  },
  {
   "cell_type": "code",
   "execution_count": null,
   "metadata": {
    "collapsed": false
   },
   "outputs": [],
   "source": [
    "image_ids[0]"
   ]
  },
  {
   "cell_type": "code",
   "execution_count": null,
   "metadata": {
    "collapsed": false,
    "scrolled": false
   },
   "outputs": [],
   "source": [
    "cm.apply_fnotch_cut(image_ids[0])"
   ]
  },
  {
   "cell_type": "code",
   "execution_count": null,
   "metadata": {
    "collapsed": false,
    "scrolled": false
   },
   "outputs": [],
   "source": [
    "results = lbview.map_async(cm.apply_fnotch_cut, image_ids)"
   ]
  },
  {
   "cell_type": "code",
   "execution_count": null,
   "metadata": {
    "collapsed": false
   },
   "outputs": [],
   "source": [
    "nb_progress_display(results, image_ids)"
   ]
  },
  {
   "cell_type": "code",
   "execution_count": null,
   "metadata": {
    "collapsed": false
   },
   "outputs": [],
   "source": [
    "cm."
   ]
  },
  {
   "cell_type": "code",
   "execution_count": null,
   "metadata": {
    "collapsed": false,
    "scrolled": false
   },
   "outputs": [],
   "source": [
    "for res in results:\n",
    "    res"
   ]
  },
  {
   "cell_type": "code",
   "execution_count": null,
   "metadata": {
    "collapsed": false
   },
   "outputs": [],
   "source": [
    "resman = plotting.ResultManager('APF000036k', input_dir)"
   ]
  },
  {
   "cell_type": "code",
   "execution_count": null,
   "metadata": {
    "collapsed": false
   },
   "outputs": [],
   "source": [
    "type(resman.fandf)"
   ]
  },
  {
   "cell_type": "code",
   "execution_count": null,
   "metadata": {
    "collapsed": false
   },
   "outputs": [],
   "source": [
    "resman.blotchdf"
   ]
  },
  {
   "cell_type": "code",
   "execution_count": null,
   "metadata": {
    "collapsed": true
   },
   "outputs": [],
   "source": []
  }
 ],
 "metadata": {
  "kernelspec": {
   "display_name": "Python 3",
   "language": "python",
   "name": "python3"
  },
  "language_info": {
   "codemirror_mode": {
    "name": "ipython",
    "version": 3
   },
   "file_extension": ".py",
   "mimetype": "text/x-python",
   "name": "python",
   "nbconvert_exporter": "python",
   "pygments_lexer": "ipython3",
   "version": "3.5.0"
  }
 },
 "nbformat": 4,
 "nbformat_minor": 0
}
