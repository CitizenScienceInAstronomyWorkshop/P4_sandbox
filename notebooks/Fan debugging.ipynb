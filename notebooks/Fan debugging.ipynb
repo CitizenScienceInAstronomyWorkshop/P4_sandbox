{
 "metadata": {
  "name": "",
  "signature": "sha256:a3f1bcdac50a19adfc28dfa63e7b25352d4e62e76b9d60902caa530a4978d724"
 },
 "nbformat": 3,
 "nbformat_minor": 0,
 "worksheets": [
  {
   "cells": [
    {
     "cell_type": "code",
     "collapsed": false,
     "input": [
      "from planet4 import markings\n",
      "from planet4 import get_data\n",
      "reload(markings)\n",
      "reload(get_data)"
     ],
     "language": "python",
     "metadata": {},
     "outputs": [
      {
       "metadata": {},
       "output_type": "pyout",
       "prompt_number": 26,
       "text": [
        "<module 'planet4.get_data' from '/Users/maye/Dropbox/src/P4_sandbox/planet4/get_data.py'>"
       ]
      }
     ],
     "prompt_number": 26
    },
    {
     "cell_type": "code",
     "collapsed": false,
     "input": [
      "row = dict(x=4, y=645, distance=234.76371099469355,\n",
      "           angle=-45.34515112316413, spread=90.33991669494428)"
     ],
     "language": "python",
     "metadata": {},
     "outputs": [],
     "prompt_number": 2
    },
    {
     "cell_type": "code",
     "collapsed": false,
     "input": [
      "import pandas as pd"
     ],
     "language": "python",
     "metadata": {},
     "outputs": [],
     "prompt_number": 3
    },
    {
     "cell_type": "code",
     "collapsed": false,
     "input": [
      "s"
     ],
     "language": "python",
     "metadata": {},
     "outputs": [
      {
       "html": [
        "<div style=\"max-height:1000px;max-width:1500px;overflow:auto;\">\n",
        "<table border=\"1\" class=\"dataframe\">\n",
        "  <thead>\n",
        "    <tr style=\"text-align: right;\">\n",
        "      <th></th>\n",
        "      <th>y</th>\n",
        "      <th>distance</th>\n",
        "      <th>spread</th>\n",
        "      <th>angle</th>\n",
        "      <th>x</th>\n",
        "    </tr>\n",
        "  </thead>\n",
        "  <tbody>\n",
        "    <tr>\n",
        "      <th>0</th>\n",
        "      <td> 645</td>\n",
        "      <td> 234.763711</td>\n",
        "      <td> 90.339917</td>\n",
        "      <td>-45.345151</td>\n",
        "      <td> 4</td>\n",
        "    </tr>\n",
        "  </tbody>\n",
        "</table>\n",
        "</div>"
       ],
       "metadata": {},
       "output_type": "pyout",
       "prompt_number": 102,
       "text": [
        "     y    distance     spread      angle  x\n",
        "0  645  234.763711  90.339917 -45.345151  4"
       ]
      }
     ],
     "prompt_number": 102
    },
    {
     "cell_type": "code",
     "collapsed": false,
     "input": [
      "tuts = get_data.get_latest_tutorial_data()"
     ],
     "language": "python",
     "metadata": {},
     "outputs": [],
     "prompt_number": 23
    },
    {
     "cell_type": "code",
     "collapsed": false,
     "input": [
      "tuts.head()"
     ],
     "language": "python",
     "metadata": {},
     "outputs": [
      {
       "html": [
        "<div style=\"max-height:1000px;max-width:1500px;overflow:auto;\">\n",
        "<table border=\"1\" class=\"dataframe\">\n",
        "  <thead>\n",
        "    <tr style=\"text-align: right;\">\n",
        "      <th></th>\n",
        "      <th>classification_id</th>\n",
        "      <th>created_at</th>\n",
        "      <th>image_id</th>\n",
        "      <th>image_name</th>\n",
        "      <th>image_url</th>\n",
        "      <th>user_name</th>\n",
        "      <th>marking</th>\n",
        "      <th>x_tile</th>\n",
        "      <th>y_tile</th>\n",
        "      <th>acquisition_date</th>\n",
        "      <th>local_mars_time</th>\n",
        "      <th>x</th>\n",
        "      <th>y</th>\n",
        "      <th>image_x</th>\n",
        "      <th>image_y</th>\n",
        "      <th>radius_1</th>\n",
        "      <th>radius_2</th>\n",
        "      <th>distance</th>\n",
        "      <th>angle</th>\n",
        "      <th>spread</th>\n",
        "    </tr>\n",
        "  </thead>\n",
        "  <tbody>\n",
        "    <tr>\n",
        "      <th>1102149</th>\n",
        "      <td> 50eda9235aadce627100012f</td>\n",
        "      <td>2013-01-09 17:30:11</td>\n",
        "      <td> APF0000x3t</td>\n",
        "      <td> tutorial</td>\n",
        "      <td> http://planetfour.org/images/tutorial-subject.jpg</td>\n",
        "      <td> not-logged-in-3c19e8932a34ffca4dfacc476fea097a</td>\n",
        "      <td>    fan</td>\n",
        "      <td> 1</td>\n",
        "      <td> 1</td>\n",
        "      <td>2013-12-15</td>\n",
        "      <td> NaN</td>\n",
        "      <td> 492.5</td>\n",
        "      <td> 133</td>\n",
        "      <td> 492.5</td>\n",
        "      <td> 133</td>\n",
        "      <td>       NaN</td>\n",
        "      <td>       NaN</td>\n",
        "      <td>  10.000000</td>\n",
        "      <td> 0.000000</td>\n",
        "      <td>  5.000000</td>\n",
        "    </tr>\n",
        "    <tr>\n",
        "      <th>1102150</th>\n",
        "      <td> 50eda9235aadce627100012f</td>\n",
        "      <td>2013-01-09 17:30:11</td>\n",
        "      <td> APF0000x3t</td>\n",
        "      <td> tutorial</td>\n",
        "      <td> http://planetfour.org/images/tutorial-subject.jpg</td>\n",
        "      <td> not-logged-in-3c19e8932a34ffca4dfacc476fea097a</td>\n",
        "      <td>    fan</td>\n",
        "      <td> 1</td>\n",
        "      <td> 1</td>\n",
        "      <td>2013-12-15</td>\n",
        "      <td> NaN</td>\n",
        "      <td> 507.5</td>\n",
        "      <td> 137</td>\n",
        "      <td> 507.5</td>\n",
        "      <td> 137</td>\n",
        "      <td>       NaN</td>\n",
        "      <td>       NaN</td>\n",
        "      <td> 225.179928</td>\n",
        "      <td>-2.290610</td>\n",
        "      <td> 10.090147</td>\n",
        "    </tr>\n",
        "    <tr>\n",
        "      <th>1102151</th>\n",
        "      <td> 50eda9235aadce627100012f</td>\n",
        "      <td>2013-01-09 17:30:11</td>\n",
        "      <td> APF0000x3t</td>\n",
        "      <td> tutorial</td>\n",
        "      <td> http://planetfour.org/images/tutorial-subject.jpg</td>\n",
        "      <td> not-logged-in-3c19e8932a34ffca4dfacc476fea097a</td>\n",
        "      <td> blotch</td>\n",
        "      <td> 1</td>\n",
        "      <td> 1</td>\n",
        "      <td>2013-12-15</td>\n",
        "      <td> NaN</td>\n",
        "      <td> 284.5</td>\n",
        "      <td> 492</td>\n",
        "      <td> 284.5</td>\n",
        "      <td> 492</td>\n",
        "      <td> 59.033889</td>\n",
        "      <td> 30.016662</td>\n",
        "      <td>        NaN</td>\n",
        "      <td>-1.909152</td>\n",
        "      <td>       NaN</td>\n",
        "    </tr>\n",
        "    <tr>\n",
        "      <th>1102221</th>\n",
        "      <td> 50eda92760d4055d9b000092</td>\n",
        "      <td>2013-01-09 17:30:15</td>\n",
        "      <td> APF0000x3t</td>\n",
        "      <td> tutorial</td>\n",
        "      <td> http://planetfour.org/images/tutorial-subject.jpg</td>\n",
        "      <td> not-logged-in-8d6271a159fdad315da51d645d40cd4b</td>\n",
        "      <td>   none</td>\n",
        "      <td> 1</td>\n",
        "      <td> 1</td>\n",
        "      <td>2013-12-15</td>\n",
        "      <td> NaN</td>\n",
        "      <td>   NaN</td>\n",
        "      <td> NaN</td>\n",
        "      <td>   NaN</td>\n",
        "      <td> NaN</td>\n",
        "      <td>       NaN</td>\n",
        "      <td>       NaN</td>\n",
        "      <td>        NaN</td>\n",
        "      <td>      NaN</td>\n",
        "      <td>       NaN</td>\n",
        "    </tr>\n",
        "    <tr>\n",
        "      <th>1102363</th>\n",
        "      <td> 50eda93460d405358f00005b</td>\n",
        "      <td>2013-01-09 17:30:28</td>\n",
        "      <td> APF0000x3t</td>\n",
        "      <td> tutorial</td>\n",
        "      <td> http://planetfour.org/images/tutorial-subject.jpg</td>\n",
        "      <td> not-logged-in-16361bc945824f1f6a7100145706f5e4</td>\n",
        "      <td>    fan</td>\n",
        "      <td> 1</td>\n",
        "      <td> 1</td>\n",
        "      <td>2013-12-15</td>\n",
        "      <td> NaN</td>\n",
        "      <td> 493.0</td>\n",
        "      <td> 133</td>\n",
        "      <td> 493.0</td>\n",
        "      <td> 133</td>\n",
        "      <td>       NaN</td>\n",
        "      <td>       NaN</td>\n",
        "      <td> 264.068173</td>\n",
        "      <td>-1.301953</td>\n",
        "      <td>  7.579251</td>\n",
        "    </tr>\n",
        "  </tbody>\n",
        "</table>\n",
        "</div>"
       ],
       "metadata": {},
       "output_type": "pyout",
       "prompt_number": 25,
       "text": [
        "                classification_id          created_at    image_id image_name  \\\n",
        "1102149  50eda9235aadce627100012f 2013-01-09 17:30:11  APF0000x3t   tutorial   \n",
        "1102150  50eda9235aadce627100012f 2013-01-09 17:30:11  APF0000x3t   tutorial   \n",
        "1102151  50eda9235aadce627100012f 2013-01-09 17:30:11  APF0000x3t   tutorial   \n",
        "1102221  50eda92760d4055d9b000092 2013-01-09 17:30:15  APF0000x3t   tutorial   \n",
        "1102363  50eda93460d405358f00005b 2013-01-09 17:30:28  APF0000x3t   tutorial   \n",
        "\n",
        "                                                 image_url  \\\n",
        "1102149  http://planetfour.org/images/tutorial-subject.jpg   \n",
        "1102150  http://planetfour.org/images/tutorial-subject.jpg   \n",
        "1102151  http://planetfour.org/images/tutorial-subject.jpg   \n",
        "1102221  http://planetfour.org/images/tutorial-subject.jpg   \n",
        "1102363  http://planetfour.org/images/tutorial-subject.jpg   \n",
        "\n",
        "                                              user_name marking  x_tile  \\\n",
        "1102149  not-logged-in-3c19e8932a34ffca4dfacc476fea097a     fan       1   \n",
        "1102150  not-logged-in-3c19e8932a34ffca4dfacc476fea097a     fan       1   \n",
        "1102151  not-logged-in-3c19e8932a34ffca4dfacc476fea097a  blotch       1   \n",
        "1102221  not-logged-in-8d6271a159fdad315da51d645d40cd4b    none       1   \n",
        "1102363  not-logged-in-16361bc945824f1f6a7100145706f5e4     fan       1   \n",
        "\n",
        "         y_tile acquisition_date local_mars_time      x    y  image_x  \\\n",
        "1102149       1       2013-12-15             NaN  492.5  133    492.5   \n",
        "1102150       1       2013-12-15             NaN  507.5  137    507.5   \n",
        "1102151       1       2013-12-15             NaN  284.5  492    284.5   \n",
        "1102221       1       2013-12-15             NaN    NaN  NaN      NaN   \n",
        "1102363       1       2013-12-15             NaN  493.0  133    493.0   \n",
        "\n",
        "         image_y   radius_1   radius_2    distance     angle     spread  \n",
        "1102149      133        NaN        NaN   10.000000  0.000000   5.000000  \n",
        "1102150      137        NaN        NaN  225.179928 -2.290610  10.090147  \n",
        "1102151      492  59.033889  30.016662         NaN -1.909152        NaN  \n",
        "1102221      NaN        NaN        NaN         NaN       NaN        NaN  \n",
        "1102363      133        NaN        NaN  264.068173 -1.301953   7.579251  "
       ]
      }
     ],
     "prompt_number": 25
    },
    {
     "cell_type": "code",
     "collapsed": false,
     "input": [
      "im = get_data.get_subframe('http://planetfour.org/images/tutorial-subject.jpg')"
     ],
     "language": "python",
     "metadata": {},
     "outputs": [],
     "prompt_number": 27
    },
    {
     "cell_type": "code",
     "collapsed": false,
     "input": [
      "s = pd.DataFrame.from_dict(row, orient='index').T"
     ],
     "language": "python",
     "metadata": {},
     "outputs": [],
     "prompt_number": 103
    },
    {
     "cell_type": "code",
     "collapsed": false,
     "input": [
      "reload(markings)\n",
      "fan = markings.Fan(s)\n",
      "fan.set_linewidth(4)\n",
      "fan.set_alpha(1)\n",
      "fan.plot()"
     ],
     "language": "python",
     "metadata": {},
     "outputs": [
      {
       "metadata": {},
       "output_type": "display_data",
       "png": "[encoded data removed]",
       "text": [
        "<matplotlib.figure.Figure at 0x10e980050>"
       ]
      }
     ],
     "prompt_number": 118
    },
    {
     "cell_type": "code",
     "collapsed": false,
     "input": [],
     "language": "python",
     "metadata": {},
     "outputs": []
    }
   ],
   "metadata": {}
  }
 ]
}