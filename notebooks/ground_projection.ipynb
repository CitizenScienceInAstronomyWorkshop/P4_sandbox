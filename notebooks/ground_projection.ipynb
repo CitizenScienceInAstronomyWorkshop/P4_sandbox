{
 "cells": [
  {
   "cell_type": "markdown",
   "metadata": {},
   "source": [
    "## Create obsids to work on"
   ]
  },
  {
   "cell_type": "code",
   "execution_count": null,
   "metadata": {},
   "outputs": [],
   "source": [
    "img_names = pd.read_table('/Users/klay6683/Dropbox/data/planet4/season2_3_image_names.txt',\n",
    "                          header=None, squeeze=True)\n",
    "img_names.head()"
   ]
  },
  {
   "cell_type": "code",
   "execution_count": null,
   "metadata": {},
   "outputs": [],
   "source": [
    "from planet4 import region_data"
   ]
  },
  {
   "cell_type": "code",
   "execution_count": null,
   "metadata": {},
   "outputs": [],
   "source": [
    "img_names = region_data.Ithaca.season2\n",
    "\n",
    "img_names"
   ]
  },
  {
   "cell_type": "code",
   "execution_count": null,
   "metadata": {},
   "outputs": [],
   "source": [
    "from ipyparallel import Client\n",
    "c = Client()\n",
    "\n",
    "lbview = c.load_balanced_view()\n",
    "dview = c.direct_view()"
   ]
  },
  {
   "cell_type": "code",
   "execution_count": null,
   "metadata": {},
   "outputs": [],
   "source": [
    "with c[:].sync_imports():\n",
    "    from planet4.projections import hi2mos"
   ]
  },
  {
   "cell_type": "code",
   "execution_count": null,
   "metadata": {},
   "outputs": [],
   "source": [
    "results = lbview.map_async(hi2mos, img_names)"
   ]
  },
  {
   "cell_type": "code",
   "execution_count": null,
   "metadata": {},
   "outputs": [],
   "source": [
    "from nbtools import display_multi_progress"
   ]
  },
  {
   "cell_type": "code",
   "execution_count": null,
   "metadata": {},
   "outputs": [],
   "source": [
    "display_multi_progress(results, img_names)"
   ]
  },
  {
   "cell_type": "code",
   "execution_count": null,
   "metadata": {},
   "outputs": [],
   "source": [
    "for res in results:\n",
    "    print(res)"
   ]
  },
  {
   "cell_type": "markdown",
   "metadata": {},
   "source": [
    "## cleanup"
   ]
  },
  {
   "cell_type": "code",
   "execution_count": null,
   "metadata": {},
   "outputs": [],
   "source": [
    "!rm -f *RED*.cub"
   ]
  },
  {
   "cell_type": "markdown",
   "metadata": {},
   "source": [
    "# xy2latlon"
   ]
  },
  {
   "cell_type": "code",
   "execution_count": null,
   "metadata": {},
   "outputs": [],
   "source": [
    "from pysis.isis import campt\n",
    "from pysis.exceptions import ProcessError\n",
    "import pvl"
   ]
  },
  {
   "cell_type": "code",
   "execution_count": null,
   "metadata": {},
   "outputs": [],
   "source": [
    "from pathlib import Path\n",
    "edrpath = Path('/Volumes/Data/planet4/season2_3_EDRs/')\n",
    "clusterpath = Path('/Users/klay6683/Dropbox/data/planet4/inca_seasons2and3_v2/')"
   ]
  },
  {
   "cell_type": "code",
   "execution_count": null,
   "metadata": {},
   "outputs": [],
   "source": [
    "obsids = !cat /Users/klay6683/Dropbox/data/planet4/season2_3_image_names.txt"
   ]
  },
  {
   "cell_type": "code",
   "execution_count": null,
   "metadata": {},
   "outputs": [],
   "source": [
    "fpaths = [item for obsid in obsids for item in (clusterpath.glob(\"{}_*.csv\".format(obsid)))]"
   ]
  },
  {
   "cell_type": "code",
   "execution_count": null,
   "metadata": {},
   "outputs": [],
   "source": [
    "fpaths[0]"
   ]
  },
  {
   "cell_type": "code",
   "execution_count": null,
   "metadata": {},
   "outputs": [],
   "source": [
    "blotch_coords = ['', 'p1', 'p2', 'p3', 'p4']\n",
    "fan_coords = ['', 'arm1', 'arm2']"
   ]
  },
  {
   "cell_type": "code",
   "execution_count": null,
   "metadata": {},
   "outputs": [],
   "source": [
    "from ipyparallel import Client\n",
    "c = Client()\n",
    "\n",
    "lbview = c.load_balanced_view()\n",
    "dview = c.direct_view()"
   ]
  },
  {
   "cell_type": "code",
   "execution_count": null,
   "metadata": {},
   "outputs": [],
   "source": [
    "with dview.sync_imports():\n",
    "    from pysis.isis import campt\n",
    "    from pysis.exceptions import ProcessError\n",
    "    from pathlib import Path\n",
    "    from ipyparallel import CompositeError"
   ]
  },
  {
   "cell_type": "code",
   "execution_count": null,
   "metadata": {},
   "outputs": [],
   "source": [
    "def do_campt(mosaicname, savepath, temppath):\n",
    "    try:\n",
    "        campt(from_=mosaicname, to=savepath, format='flat', append='no',\n",
    "              coordlist=temppath, coordtype='image')\n",
    "    except ProcessError as e:\n",
    "        print(e.stderr)\n",
    "        return obsid, False\n",
    "\n",
    "\n",
    "def process_inpath(inpath, marking, mosaicpath):\n",
    "    coords_switch = dict(blotches=blotch_coords,\n",
    "                         fans=fan_coords)\n",
    "    \n",
    "    df = pd.read_hdf(str(inpath), 'df')\n",
    "    for coord in coords_switch[marking]:\n",
    "        print(\"Coord\", coord)\n",
    "        if coord == '':\n",
    "            name = 'base'\n",
    "            tempcoords = ['x', 'y']\n",
    "        else:\n",
    "            name = coord\n",
    "            tempcoords = [coord + '_x', coord + '_y']\n",
    "        print(\"Tempcoords\", tempcoords)\n",
    "        temppath = inpath.with_suffix('.tocampt')\n",
    "        try:\n",
    "            df[tempcoords].to_csv(str(temppath), header=False, index=False)\n",
    "        except KeyError:\n",
    "            return False\n",
    "        print(\"name\", name)\n",
    "        savename = \"{stem}_{c}_campt_out.csv\".format(stem=inpath.stem, c=name)\n",
    "        print(\"savename\", savename)\n",
    "        savepath = clusterpath / savename\n",
    "        try:\n",
    "            do_campt(mosaicpath, savepath, temppath)\n",
    "        except:\n",
    "            return False\n",
    "    return True\n",
    "\n",
    "def obsid_marking_from_clusterpath(inpath):\n",
    "    s = inpath.stem  # stem is 'name' (without folders) minus extension\n",
    "    # s = ESP_xxxxxx_yyyy_blotches (or ..._fans)\n",
    "    # obsid = s[:until last '_']\n",
    "    sep = s.rfind('_')\n",
    "    return s[:sep], s[sep+1:]\n",
    "\n",
    "edrpath = Path('/Volumes/Data/planet4/season2_3_EDRs/')\n",
    "\n",
    "def marking_mosaicpath_from_inpath(inpath):\n",
    "    obsid, marking = obsid_marking_from_clusterpath(inpath)\n",
    "    mosaicname = 'redMosaic' + obsid + '.cub'\n",
    "    mosaicpath = edrpath / mosaicname\n",
    "    return marking, mosaicpath\n",
    "    \n",
    "def xy2latlon(inpath):\n",
    "    d = dict(inpath=inpath)\n",
    "    ok = process_inpath(inpath, *marking_mosaicpath_from_inpath(inpath))\n",
    "    d['ok'] = ok\n",
    "    return d"
   ]
  },
  {
   "cell_type": "code",
   "execution_count": null,
   "metadata": {},
   "outputs": [],
   "source": [
    "dview.push(dict(process_inpath=process_inpath,\n",
    "                do_campt=do_campt,\n",
    "                blotch_coords=blotch_coords,\n",
    "                fan_coords=fan_coords,\n",
    "                clusterpath=Path('/Users/klay6683/Dropbox/data/planet4/'\n",
    "                                 'inca_s23_0.5cut_applied/')))"
   ]
  },
  {
   "cell_type": "code",
   "execution_count": null,
   "metadata": {},
   "outputs": [],
   "source": [
    "results = lbview.map_async(xy2latlon, fpaths)"
   ]
  },
  {
   "cell_type": "code",
   "execution_count": null,
   "metadata": {},
   "outputs": [],
   "source": [
    "from iuvs.multitools import nb_progress_display\n",
    "\n",
    "nb_progress_display(results, fpaths)"
   ]
  },
  {
   "cell_type": "code",
   "execution_count": null,
   "metadata": {},
   "outputs": [],
   "source": [
    "res = pd.DataFrame(results.result)"
   ]
  },
  {
   "cell_type": "code",
   "execution_count": null,
   "metadata": {},
   "outputs": [],
   "source": [
    "res.ok.value_counts()"
   ]
  },
  {
   "cell_type": "code",
   "execution_count": null,
   "metadata": {},
   "outputs": [],
   "source": [
    "res[res.ok==False].inpath.values"
   ]
  },
  {
   "cell_type": "markdown",
   "metadata": {},
   "source": [
    "# Combining campt results"
   ]
  },
  {
   "cell_type": "code",
   "execution_count": null,
   "metadata": {},
   "outputs": [],
   "source": [
    "p = fpaths[0]"
   ]
  },
  {
   "cell_type": "code",
   "execution_count": null,
   "metadata": {},
   "outputs": [],
   "source": [
    "class GroundMarking(object):\n",
    "    def __init__(self, resultfile):\n",
    "        self.p = Path(resultfile)\n",
    "        \n",
    "        # this loop creates filename paths for all coords campt output files\n",
    "        # and assigns them to object attributes, like\n",
    "        # self.basefile, self.p1file, etc.\n",
    "        self.paths = []\n",
    "        self.mapped_coords = []\n",
    "        for coord in self.coords:\n",
    "            path = self.campt_fname(coord)\n",
    "            setattr(self, coord+'file', path)\n",
    "            self.paths.append(path)\n",
    "            self.store_mapped_coords(coord, path)\n",
    "        self.mapped_coords = pd.concat(self.mapped_coords, axis=1)\n",
    "        newpath = self.p.with_name(self.p.stem+'_latlons.csv')\n",
    "        self.mapped_coords.to_csv(str(newpath), index=False)\n",
    "        self.coordspath = newpath\n",
    "\n",
    "    def campt_fname(self, coordname):\n",
    "        return self.p.with_name(self.p.stem + '_{}_campt_out.csv'.format(coordname))\n",
    "    \n",
    "    def store_mapped_coords(self, coord, path):\n",
    "        df = pd.read_csv(path)\n",
    "        subdf = df[['PlanetographicLatitude',\n",
    "                    'PositiveEast360Longitude']]\n",
    "        subdf.columns = [coord+'_lat', coord+'_lon']\n",
    "        self.mapped_coords.append(subdf)\n",
    "\n",
    "class GroundBlotch(GroundMarking):\n",
    "    coords = ['base', 'p1', 'p2', 'p3', 'p4']\n",
    "    kind = 'blotch'\n",
    "\n",
    "\n",
    "class GroundFan(GroundMarking):\n",
    "    coords = ['base', 'arm1', 'arm2']\n",
    "    kind = 'fan'\n",
    "\n",
    "    \n",
    "def get_ground_marking(fname):\n",
    "    tokens = Path(fname).stem.split('_')\n",
    "    if tokens[-1] == 'blotches':\n",
    "        return GroundBlotch(fname)\n",
    "    else:\n",
    "        return GroundFan(fname)"
   ]
  },
  {
   "cell_type": "code",
   "execution_count": null,
   "metadata": {},
   "outputs": [],
   "source": [
    "for path in fpaths:\n",
    "    print(path.stem)\n",
    "    get_ground_marking(path)"
   ]
  },
  {
   "cell_type": "markdown",
   "metadata": {},
   "source": [
    "# Corner coordinates"
   ]
  },
  {
   "cell_type": "code",
   "execution_count": null,
   "metadata": {},
   "outputs": [],
   "source": [
    "from planet4 import io\n",
    "from pysis.isis import campt\n",
    "import pvl\n",
    "\n",
    "\n",
    "class CornerCalculator(object):\n",
    "    img_x_size = 840\n",
    "    img_y_size = 648\n",
    "    def __init__(self, cubepath):\n",
    "        self.cubepath = cubepath\n",
    "        self.get_tiles_max(self.img_name)\n",
    "        \n",
    "    def transform(self, x, y, xtile, ytile):\n",
    "        x_offset = self.img_x_size - 100\n",
    "        y_offset = self.img_y_size - 100\n",
    "        x_HiRISE = x + ((x_offset)*(xtile-1))#**formula\n",
    "        y_HiRISE = y + ((y_offset)*(ytile-1))#**formula\n",
    "        return x_HiRISE, y_HiRISE\n",
    "\n",
    "    @property\n",
    "    def img_name(self):\n",
    "        s = Path(self.cubepath).stem\n",
    "        return s[9:]\n",
    "\n",
    "    @property\n",
    "    def UL(self):\n",
    "        return (1, 1)\n",
    "        \n",
    "    @property\n",
    "    def LL(self):\n",
    "        return self.transform(1, self.img_y_size, 1, self.yt_max)\n",
    "    \n",
    "    @property\n",
    "    def UR(self):\n",
    "        return self.transform(self.img_x_size, 1, self.xt_max, 1)\n",
    "    \n",
    "    @property\n",
    "    def LR(self):\n",
    "        return self.transform(self.img_x_size, self.img_y_size,\n",
    "                             self.xt_max, self.yt_max)\n",
    "    \n",
    "    def get_tiles_max(self, img_name):\n",
    "        db = io.DBManager()\n",
    "        data = db.get_image_name_markings(img_name)\n",
    "        self.xt_max = data.x_tile.max()\n",
    "        self.yt_max = data.y_tile.max()\n",
    "\n",
    "    def get_lats_lon(self, s=None, l=None):\n",
    "        try:\n",
    "            gp = pvl.load(campt(from_=str(self.cubepath),\n",
    "                                sample=s, \n",
    "                                line=l)).get('GroundPoint')\n",
    "        except ProcessError as e:\n",
    "            print(e.stdout)\n",
    "            print(e.stderr)\n",
    "            raise e\n",
    "        lat_centric = gp['PlanetocentricLatitude']\n",
    "        lat_graphic = gp['PlanetographicLatitude']\n",
    "        lon = gp['PositiveWest360Longitude']\n",
    "        return dict(lat_centric=lat_centric,\n",
    "                    lat_graphic=lat_graphic,\n",
    "                    lon=lon)\n",
    "    \n",
    "    def calc_corners(self):\n",
    "        d = {}\n",
    "        for corner in ['UL','LL','UR','LR']:\n",
    "            try:\n",
    "                coords = self.get_lats_lon(*getattr(self, corner))\n",
    "            except ProcessError as e:\n",
    "                print(self.img_name)\n",
    "                print(\"Corner:\", corner)\n",
    "                print(e.stdout)\n",
    "                print(e.stderr)\n",
    "                continue\n",
    "            for k, v in coords.items():\n",
    "                d[corner+'_'+k] = v\n",
    "        return pd.DataFrame(d, index=[self.img_name])"
   ]
  },
  {
   "cell_type": "code",
   "execution_count": null,
   "metadata": {},
   "outputs": [],
   "source": [
    "edrpath"
   ]
  },
  {
   "cell_type": "code",
   "execution_count": null,
   "metadata": {},
   "outputs": [],
   "source": [
    "cubepaths = !ls /Volumes/Data/planet4/season2_3_EDRs/*.cub"
   ]
  },
  {
   "cell_type": "code",
   "execution_count": null,
   "metadata": {},
   "outputs": [],
   "source": [
    "cornercalc = CornerCalculator(cubepaths[0])"
   ]
  },
  {
   "cell_type": "code",
   "execution_count": null,
   "metadata": {},
   "outputs": [],
   "source": [
    "cornercalc.calc_corners()"
   ]
  },
  {
   "cell_type": "code",
   "execution_count": null,
   "metadata": {},
   "outputs": [],
   "source": [
    "bucket = []\n",
    "for cube in cubepaths:\n",
    "    print(Path(cube).stem)\n",
    "    cc = CornerCalculator(cube)\n",
    "    bucket.append(cc.calc_corners())"
   ]
  },
  {
   "cell_type": "code",
   "execution_count": null,
   "metadata": {},
   "outputs": [],
   "source": [
    "p = '/Volumes/Data/planet4/season2_3_EDRs/redMosaicESP_011729_0985.cub'"
   ]
  },
  {
   "cell_type": "code",
   "execution_count": null,
   "metadata": {},
   "outputs": [],
   "source": [
    "meta = pd.read_hdf('/Users/klay6683/Dropbox/SternchenAndMe/python_stuff/hirise_rdr_index.hdf')"
   ]
  },
  {
   "cell_type": "code",
   "execution_count": null,
   "metadata": {},
   "outputs": [],
   "source": [
    "results = pd.concat(bucket)"
   ]
  },
  {
   "cell_type": "code",
   "execution_count": null,
   "metadata": {},
   "outputs": [],
   "source": [
    "results.index.name = 'img_name'"
   ]
  },
  {
   "cell_type": "code",
   "execution_count": null,
   "metadata": {},
   "outputs": [],
   "source": [
    "results.to_csv('inca_city_corners.csv')"
   ]
  },
  {
   "cell_type": "code",
   "execution_count": null,
   "metadata": {},
   "outputs": [],
   "source": [
    "pd.read_csv('inca_city_corners.csv', index_col=0)"
   ]
  },
  {
   "cell_type": "code",
   "execution_count": null,
   "metadata": {},
   "outputs": [],
   "source": []
  }
 ],
 "metadata": {
  "kernelspec": {
   "display_name": "Python [conda env:stable]",
   "language": "python",
   "name": "conda-env-stable-py"
  },
  "language_info": {
   "codemirror_mode": {
    "name": "ipython",
    "version": 3
   },
   "file_extension": ".py",
   "mimetype": "text/x-python",
   "name": "python",
   "nbconvert_exporter": "python",
   "pygments_lexer": "ipython3",
   "version": "3.5.2"
  }
 },
 "nbformat": 4,
 "nbformat_minor": 0
}
