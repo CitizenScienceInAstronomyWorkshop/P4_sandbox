{
 "metadata": {
  "name": "",
<<<<<<< HEAD
  "signature": "sha256:adf6c0fccaf0960268fc546275ea2901643533bb62e154e19339381b64b04d27"
=======
  "signature": "sha256:85b543864d52f8689533224a5d8a3c099171bbce4616ad8ea89ce8aeb6c12e9d"
>>>>>>> 31c8b9e294952507a42a00df9bcc562de6f97a50
 },
 "nbformat": 3,
 "nbformat_minor": 0,
 "worksheets": [
  {
   "cells": [
    {
     "cell_type": "code",
     "collapsed": false,
     "input": [
      "from planet4 import helper_functions, get_data\n",
<<<<<<< HEAD
      "from planet4 import markings\n",
      "reload(markings)"
=======
      "from planet4 import overplot_blotches as ob\n",
      "reload(ob)"
>>>>>>> 31c8b9e294952507a42a00df9bcc562de6f97a50
     ],
     "language": "python",
     "metadata": {},
     "outputs": [
      {
       "metadata": {},
       "output_type": "pyout",
<<<<<<< HEAD
       "prompt_number": 117,
       "text": [
        "<module 'planet4.markings' from '/Users/maye/Dropbox/src/P4_sandbox/planet4/markings.py'>"
       ]
      }
     ],
     "prompt_number": 117
=======
       "prompt_number": 2,
       "text": [
        "<module 'planet4.overplot_blotches' from '/u/paige/maye/src/P4_sandbox/planet4/overplot_blotches.pyc'>"
       ]
      }
     ],
     "prompt_number": 2
>>>>>>> 31c8b9e294952507a42a00df9bcc562de6f97a50
    },
    {
     "cell_type": "code",
     "collapsed": false,
     "input": [
<<<<<<< HEAD
      "fname = ('/Users/maye/data/planet4/'\n",
      "         '2014-06-09_planet_four_classifications_queryable.h5')"
=======
      "data = pd.read_hdf('/raid1/maye/planet4/2014-06-09_planet_four_classifications_queryable.h5',\n",
      "                   'df',\n",
      "                   where='user_name==michaelaye')"
>>>>>>> 31c8b9e294952507a42a00df9bcc562de6f97a50
     ],
     "language": "python",
     "metadata": {},
     "outputs": [],
<<<<<<< HEAD
     "prompt_number": 119
=======
     "prompt_number": 3
>>>>>>> 31c8b9e294952507a42a00df9bcc562de6f97a50
    },
    {
     "cell_type": "code",
     "collapsed": false,
     "input": [
<<<<<<< HEAD
      "with open('../data/gold_standard_commons.txt') as f:\n",
      "    gold_ids = f.read()\n",
      "gold_ids = gold_ids.split('\\n')\n",
      "del gold_ids[-1]  # last one is empty"
     ],
     "language": "python",
     "metadata": {},
     "outputs": [],
     "prompt_number": 43
    },
    {
     "cell_type": "code",
     "collapsed": false,
     "input": [
      "gold_members = ['michaelaye', 'mschwamb', 'Portyankina', 'CJ-DPI']\n",
      "gold_plot_colors = list('cmyg')"
     ],
     "language": "python",
     "metadata": {},
     "outputs": [],
     "prompt_number": 110
    },
    {
     "cell_type": "code",
     "collapsed": false,
     "input": [
      "gold_id = markings.P4_ImgID(gold_ids[2], fname)\n",
      "\n",
      "fig, axes = subplots(2,1, figsize=(12,12))\n",
      "markings.set_upper_left_corner(0, 0)\n",
      "for goldstar, color in zip(gold_members, gold_plot_colors):\n",
      "    gold_id.plot_fans(user_name=goldstar, ax=axes[0], user_color=color)\n",
      "    gold_id.plot_blotches(user_name=goldstar, ax=axes[0], user_color=color)\n",
      "gold_id.plot_fans(ax=axes[1], without_users=gold_members)\n",
      "gold_id.plot_blotches(ax=axes[1], without_users=gold_members)\n",
      "axes[0].set_title(\"Gold stars\")\n",
      "axes[1].set_title(\"Citizens\")\n",
      "colors = ['k','r','g','r','b']\n",
      "markings.gold_legend(axes[0])"
     ],
     "language": "python",
     "metadata": {},
     "outputs": [],
     "prompt_number": 118
    },
    {
     "cell_type": "code",
     "collapsed": false,
     "input": [
      "ax.imshow?"
     ],
     "language": "python",
     "metadata": {},
     "outputs": [],
     "prompt_number": 64
    },
    {
     "cell_type": "code",
     "collapsed": false,
     "input": [],
     "language": "python",
     "metadata": {},
     "outputs": []
    },
    {
     "cell_type": "markdown",
     "metadata": {},
     "source": [
      "# Statistics"
     ]
=======
      "data.shape"
     ],
     "language": "python",
     "metadata": {},
     "outputs": [
      {
       "metadata": {},
       "output_type": "pyout",
       "prompt_number": 4,
       "text": [
        "(948, 20)"
       ]
      }
     ],
     "prompt_number": 4
>>>>>>> 31c8b9e294952507a42a00df9bcc562de6f97a50
    },
    {
     "cell_type": "code",
     "collapsed": false,
     "input": [
      "blotches = data[data.marking == 'blotch']"
     ],
     "language": "python",
     "metadata": {},
     "outputs": [],
     "prompt_number": 3
    },
    {
     "cell_type": "code",
     "collapsed": false,
     "input": [
      "counts = helper_functions.classification_counts_per_image(blotches)"
     ],
     "language": "python",
     "metadata": {},
     "outputs": [],
     "prompt_number": 5
    },
    {
     "cell_type": "code",
     "collapsed": false,
     "input": [
      "superset_ids = counts[counts > 80].index\n",
      "print(len(superset_ids))\n",
      "superset = data[data.image_id.isin(superset_ids)]"
     ],
     "language": "python",
     "metadata": {},
     "outputs": [
      {
       "output_type": "stream",
       "stream": "stdout",
       "text": [
        "15\n"
       ]
      }
     ],
     "prompt_number": 6
    },
    {
     "cell_type": "code",
     "collapsed": false,
     "input": [
      "for i in range(5,16):\n",
      "    ob.plot_blotches(blotches, superset_ids[i])"
     ],
     "language": "python",
     "metadata": {},
     "outputs": [
      {
       "output_type": "stream",
       "stream": "stdout",
       "text": [
        "Did not find image in cache. Downloading ...\n"
       ]
      },
      {
       "output_type": "stream",
       "stream": "stdout",
       "text": [
        "Done.\n",
        "Found image in cache.\n",
        "Did not find image in cache. Downloading ..."
       ]
      },
      {
       "output_type": "stream",
       "stream": "stdout",
       "text": [
        "\n"
       ]
      },
      {
       "output_type": "stream",
       "stream": "stdout",
       "text": [
        "Done.\n",
        "Found image in cache.\n",
        "Did not find image in cache. Downloading ..."
       ]
      },
      {
       "output_type": "stream",
       "stream": "stdout",
       "text": [
        "\n"
       ]
      },
      {
       "output_type": "stream",
       "stream": "stdout",
       "text": [
        "Done.\n",
        "Found image in cache.\n",
        "Did not find image in cache. Downloading ..."
       ]
      },
      {
       "output_type": "stream",
       "stream": "stdout",
       "text": [
        "\n"
       ]
      },
      {
       "output_type": "stream",
       "stream": "stdout",
       "text": [
        "Done.\n",
        "Found image in cache.\n",
        "Did not find image in cache. Downloading ..."
       ]
      },
      {
       "output_type": "stream",
       "stream": "stdout",
       "text": [
        "\n"
       ]
      },
      {
       "output_type": "stream",
       "stream": "stdout",
       "text": [
        "Done.\n",
        "Found image in cache.\n",
        "Did not find image in cache. Downloading ..."
       ]
      },
      {
       "output_type": "stream",
       "stream": "stdout",
       "text": [
        "\n"
       ]
      },
      {
       "output_type": "stream",
       "stream": "stdout",
       "text": [
        "Done.\n",
        "Found image in cache.\n",
        "Did not find image in cache. Downloading ..."
       ]
      },
      {
       "output_type": "stream",
       "stream": "stdout",
       "text": [
        "\n"
       ]
      },
      {
       "output_type": "stream",
       "stream": "stdout",
       "text": [
        "Done.\n",
        "Found image in cache.\n",
        "Did not find image in cache. Downloading ..."
       ]
      },
      {
       "output_type": "stream",
       "stream": "stdout",
       "text": [
        "\n"
       ]
      },
      {
       "output_type": "stream",
       "stream": "stdout",
       "text": [
        "Done.\n",
        "Found image in cache.\n",
        "Did not find image in cache. Downloading ..."
       ]
      },
      {
       "output_type": "stream",
       "stream": "stdout",
       "text": [
        "\n"
       ]
      },
      {
       "output_type": "stream",
       "stream": "stdout",
       "text": [
        "Done.\n",
        "Found image in cache.\n",
        "Did not find image in cache. Downloading ..."
       ]
      },
      {
       "output_type": "stream",
       "stream": "stdout",
       "text": [
        "\n"
       ]
      },
      {
       "output_type": "stream",
       "stream": "stdout",
       "text": [
        "Done.\n",
        "Found image in cache.\n"
       ]
      },
      {
       "ename": "IndexError",
       "evalue": "index out of bounds",
       "output_type": "pyerr",
       "traceback": [
        "---------------------------------------------------------------------------\nIndexError                                Traceback (most recent call last)",
        "<ipython-input-13-91982179b581> in <module>()\n      1 for i in range(5,16):\n----> 2     ob.plot_blotches(blotches, superset_ids[i])\n",
        "/Users/maye/Library/Enthought/Canopy_64bit/User/lib/python2.7/site-packages/pandas-0.13.1_343_g6efa4c1-py2.7-macosx-10.6-x86_64.egg/pandas/core/index.pyc in __getitem__(self, key)\n    646         __getitem__ = super(Index, self).__getitem__\n    647         if np.isscalar(key):\n--> 648             return __getitem__(key)\n    649 \n    650         if isinstance(key, slice):\n",
        "IndexError: index out of bounds"
       ]
      }
     ],
     "prompt_number": 13
    },
    {
     "cell_type": "code",
     "collapsed": false,
     "input": [
      "to_save = blotches[blotches.image_id.isin(superset_ids)]"
     ],
     "language": "python",
     "metadata": {},
     "outputs": [],
     "prompt_number": 20
    },
    {
     "cell_type": "code",
     "collapsed": false,
     "input": [
      "to_save.to_hdf('data/blotch_data.h5','df')"
     ],
     "language": "python",
     "metadata": {},
     "outputs": [],
     "prompt_number": 22
    },
    {
     "cell_type": "code",
     "collapsed": false,
     "input": [
      "blotches[blotches.image_id.isin(superset_ids)].to_hdf"
     ],
     "language": "python",
     "metadata": {},
     "outputs": []
    },
    {
     "cell_type": "code",
     "collapsed": false,
     "input": [
      "example_data = blotches[blotches.image_id == superset_ids[4]]"
     ],
     "language": "python",
     "metadata": {},
     "outputs": [],
     "prompt_number": 11
    },
    {
     "cell_type": "code",
     "collapsed": false,
     "input": [
      "superset_ids[4]"
     ],
     "language": "python",
     "metadata": {},
     "outputs": [
      {
       "metadata": {},
       "output_type": "pyout",
       "prompt_number": 14,
       "text": [
        "'APF00001ow'"
       ]
      }
     ],
     "prompt_number": 14
    },
    {
     "cell_type": "code",
     "collapsed": false,
     "input": [
      "example_data.to_hdf('data/APF00001ow.h5','df')"
     ],
     "language": "python",
     "metadata": {},
     "outputs": [],
     "prompt_number": 17
    },
    {
     "cell_type": "code",
     "collapsed": false,
     "input": [
      "!mkdir data"
     ],
     "language": "python",
     "metadata": {},
     "outputs": [],
     "prompt_number": 16
    },
    {
     "cell_type": "code",
     "collapsed": false,
     "input": [
      "img_id = superset_ids[4]\n",
      "print(img_id)\n",
      "ob.plot_blotches(data[data.image_id == img_id], img_id)"
     ],
     "language": "python",
     "metadata": {},
     "outputs": [
      {
       "output_type": "stream",
       "stream": "stdout",
       "text": [
        "APF00001ow\n",
        "Did not find image in cache. Downloading ..."
       ]
      },
      {
       "output_type": "stream",
       "stream": "stdout",
       "text": [
        "\n"
       ]
      }
     ]
    },
    {
     "cell_type": "code",
     "collapsed": false,
     "input": [
      "cols = blotches['x y radius_1 radius_2'.split()]"
     ],
     "language": "python",
     "metadata": {},
     "outputs": [],
     "prompt_number": 12
    },
    {
     "cell_type": "code",
     "collapsed": false,
     "input": [
      "pd.scatter_matrix(cols, diagonal='kde')"
     ],
     "language": "python",
     "metadata": {},
     "outputs": [
      {
       "metadata": {},
       "output_type": "pyout",
       "prompt_number": 15,
       "text": [
        "array([[<matplotlib.axes.AxesSubplot object at 0x115a6ed50>,\n",
        "        <matplotlib.axes.AxesSubplot object at 0x12bd28390>,\n",
        "        <matplotlib.axes.AxesSubplot object at 0x12b8a2350>,\n",
        "        <matplotlib.axes.AxesSubplot object at 0x12b8bd9d0>],\n",
        "       [<matplotlib.axes.AxesSubplot object at 0x12b0eb050>,\n",
        "        <matplotlib.axes.AxesSubplot object at 0x12bd3fc50>,\n",
        "        <matplotlib.axes.AxesSubplot object at 0x12bd5ec90>,\n",
        "        <matplotlib.axes.AxesSubplot object at 0x12b8fb150>],\n",
        "       [<matplotlib.axes.AxesSubplot object at 0x12bd48210>,\n",
        "        <matplotlib.axes.AxesSubplot object at 0x12b84c290>,\n",
        "        <matplotlib.axes.AxesSubplot object at 0x12b8177d0>,\n",
        "        <matplotlib.axes.AxesSubplot object at 0x12b83b250>],\n",
        "       [<matplotlib.axes.AxesSubplot object at 0x1288ebc90>,\n",
        "        <matplotlib.axes.AxesSubplot object at 0x1288d46d0>,\n",
        "        <matplotlib.axes.AxesSubplot object at 0x12bfda1d0>,\n",
        "        <matplotlib.axes.AxesSubplot object at 0x1270cc490>]], dtype=object)"
       ]
      }
     ],
     "prompt_number": 15
    },
    {
     "cell_type": "code",
     "collapsed": false,
     "input": [],
     "language": "python",
     "metadata": {},
     "outputs": []
    }
   ],
   "metadata": {}
  }
 ]
}