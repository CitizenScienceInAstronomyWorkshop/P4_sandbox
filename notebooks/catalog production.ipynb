{
 "cells": [
  {
   "cell_type": "code",
   "execution_count": 1,
   "metadata": {},
   "outputs": [
    {
     "data": {
      "application/javascript": [
       "\n",
       "            setTimeout(function() {\n",
       "                var nbb_cell_id = 1;\n",
       "                var nbb_unformatted_code = \"%load_ext nb_black\";\n",
       "                var nbb_formatted_code = \"%load_ext nb_black\";\n",
       "                var nbb_cells = Jupyter.notebook.get_cells();\n",
       "                for (var i = 0; i < nbb_cells.length; ++i) {\n",
       "                    if (nbb_cells[i].input_prompt_number == nbb_cell_id) {\n",
       "                        if (nbb_cells[i].get_text() == nbb_unformatted_code) {\n",
       "                             nbb_cells[i].set_text(nbb_formatted_code);\n",
       "                        }\n",
       "                        break;\n",
       "                    }\n",
       "                }\n",
       "            }, 500);\n",
       "            "
      ],
      "text/plain": [
       "<IPython.core.display.Javascript object>"
      ]
     },
     "metadata": {},
     "output_type": "display_data"
    }
   ],
   "source": [
    "%load_ext nb_black"
   ]
  },
  {
   "cell_type": "code",
   "execution_count": 2,
   "metadata": {
    "init_cell": true
   },
   "outputs": [
    {
     "data": {
      "application/javascript": [
       "\n",
       "            setTimeout(function() {\n",
       "                var nbb_cell_id = 2;\n",
       "                var nbb_unformatted_code = \"from planet4 import markings, dbscan, io, fnotching\";\n",
       "                var nbb_formatted_code = \"from planet4 import markings, dbscan, io, fnotching\";\n",
       "                var nbb_cells = Jupyter.notebook.get_cells();\n",
       "                for (var i = 0; i < nbb_cells.length; ++i) {\n",
       "                    if (nbb_cells[i].input_prompt_number == nbb_cell_id) {\n",
       "                        if (nbb_cells[i].get_text() == nbb_unformatted_code) {\n",
       "                             nbb_cells[i].set_text(nbb_formatted_code);\n",
       "                        }\n",
       "                        break;\n",
       "                    }\n",
       "                }\n",
       "            }, 500);\n",
       "            "
      ],
      "text/plain": [
       "<IPython.core.display.Javascript object>"
      ]
     },
     "metadata": {},
     "output_type": "display_data"
    }
   ],
   "source": [
    "from planet4 import markings, dbscan, io, fnotching"
   ]
  },
  {
   "cell_type": "code",
   "execution_count": 3,
   "metadata": {},
   "outputs": [],
   "source": [
    "from nbtools.logging import setup_live_logging\n",
    "import logging"
   ]
  },
  {
   "cell_type": "code",
   "execution_count": 3,
   "metadata": {},
   "outputs": [
    {
     "data": {
      "text/plain": [
       "<Logger planet4 (INFO)>"
      ]
     },
     "execution_count": 3,
     "metadata": {},
     "output_type": "execute_result"
    }
   ],
   "source": [
    "setup_live_logging(\"planet4\", logging.INFO)"
   ]
  },
  {
   "cell_type": "markdown",
   "metadata": {},
   "source": [
    "# Data to cluster"
   ]
  },
  {
   "cell_type": "code",
   "execution_count": 3,
   "metadata": {
    "init_cell": true
   },
   "outputs": [
    {
     "data": {
      "application/javascript": [
       "\n",
       "            setTimeout(function() {\n",
       "                var nbb_cell_id = 3;\n",
       "                var nbb_unformatted_code = \"from planet4 import region_data, io\";\n",
       "                var nbb_formatted_code = \"from planet4 import region_data, io\";\n",
       "                var nbb_cells = Jupyter.notebook.get_cells();\n",
       "                for (var i = 0; i < nbb_cells.length; ++i) {\n",
       "                    if (nbb_cells[i].input_prompt_number == nbb_cell_id) {\n",
       "                        if (nbb_cells[i].get_text() == nbb_unformatted_code) {\n",
       "                             nbb_cells[i].set_text(nbb_formatted_code);\n",
       "                        }\n",
       "                        break;\n",
       "                    }\n",
       "                }\n",
       "            }, 500);\n",
       "            "
      ],
      "text/plain": [
       "<IPython.core.display.Javascript object>"
      ]
     },
     "metadata": {},
     "output_type": "display_data"
    }
   ],
   "source": [
    "from planet4 import region_data, io"
   ]
  },
  {
   "cell_type": "code",
   "execution_count": 5,
   "metadata": {},
   "outputs": [],
   "source": [
    "db = io.DBManager(\"/Users/klay6683/local_data/planet4/manhattan_all.hdf\")"
   ]
  },
  {
   "cell_type": "code",
   "execution_count": 6,
   "metadata": {},
   "outputs": [
    {
     "data": {
      "text/plain": [
       "(736117, 23)"
      ]
     },
     "execution_count": 6,
     "metadata": {},
     "output_type": "execute_result"
    }
   ],
   "source": [
    "df = db.get_all()\n",
    "df.shape"
   ]
  },
  {
   "cell_type": "markdown",
   "metadata": {},
   "source": [
    "# Support functions"
   ]
  },
  {
   "cell_type": "code",
   "execution_count": 7,
   "metadata": {},
   "outputs": [],
   "source": [
    "from planet4.catalog_production import (\n",
    "    ReleaseManager,\n",
    "    cluster_obsid_parallel,\n",
    "    fnotch_obsid_parallel,\n",
    "    fnotch_obsid,\n",
    ")\n",
    "from planet4 import fnotching"
   ]
  },
  {
   "cell_type": "code",
   "execution_count": 8,
   "metadata": {},
   "outputs": [],
   "source": [
    "from nbtools import execute_in_parallel"
   ]
  },
  {
   "cell_type": "code",
   "execution_count": 9,
   "metadata": {},
   "outputs": [],
   "source": [
    "rm = ReleaseManager(\"v2.0\", dbname=db.dbname, overwrite=True)"
   ]
  },
  {
   "cell_type": "code",
   "execution_count": 10,
   "metadata": {},
   "outputs": [
    {
     "name": "stderr",
     "output_type": "stream",
     "text": [
      "2019-03-08 01:19:53,937 - planet4.catalog_production - Performing the clustering.\n"
     ]
    },
    {
     "data": {
      "application/vnd.jupyter.widget-view+json": {
       "model_id": "b8ca09ddddd0497ca12930ab5fa01683",
       "version_major": 2,
       "version_minor": 0
      },
      "text/plain": [
       "HBox(children=(IntProgress(value=0, max=45), HTML(value='')))"
      ]
     },
     "metadata": {},
     "output_type": "display_data"
    },
    {
     "name": "stdout",
     "output_type": "stream",
     "text": [
      "\n"
     ]
    },
    {
     "name": "stderr",
     "output_type": "stream",
     "text": [
      "2019-03-08 01:25:23,511 - planet4.catalog_production - Start fnotching\n"
     ]
    },
    {
     "data": {
      "application/vnd.jupyter.widget-view+json": {
       "model_id": "ac1a2c26fe314c929aa6824dc180b6f4",
       "version_major": 2,
       "version_minor": 0
      },
      "text/plain": [
       "HBox(children=(IntProgress(value=0, max=45), HTML(value='')))"
      ]
     },
     "metadata": {},
     "output_type": "display_data"
    },
    {
     "name": "stderr",
     "output_type": "stream",
     "text": [
      "2019-03-08 01:26:45,787 - planet4.catalog_production - Creating L1C fan and blotch database files.\n",
      "  0%|          | 0/45 [00:00<?, ?it/s]"
     ]
    },
    {
     "name": "stdout",
     "output_type": "stream",
     "text": [
      "\n"
     ]
    },
    {
     "name": "stderr",
     "output_type": "stream",
     "text": [
      "100%|██████████| 45/45 [00:16<00:00,  2.65it/s]\n",
      "2019-03-08 01:27:02,744 - planet4.catalog_production - Found 45 fans and 45 blotches.\n"
     ]
    },
    {
     "name": "stdout",
     "output_type": "stream",
     "text": [
      "Created /Volumes/Data/planet4/catalogs/P4_catalog_v2.0/P4_catalog_v2.0_L1C_cut_0.5_fan.csv.\n"
     ]
    },
    {
     "name": "stderr",
     "output_type": "stream",
     "text": [
      "2019-03-08 01:27:03,530 - planet4.catalog_production - Creating the required RED45 mosaics for ground projections.\n"
     ]
    },
    {
     "name": "stdout",
     "output_type": "stream",
     "text": [
      "Created /Volumes/Data/planet4/catalogs/P4_catalog_v2.0/P4_catalog_v2.0_L1C_cut_0.5_blotch.csv.\n"
     ]
    },
    {
     "data": {
      "application/vnd.jupyter.widget-view+json": {
       "model_id": "a2499ef38d23441c804dcf92638f4873",
       "version_major": 2,
       "version_minor": 0
      },
      "text/plain": [
       "HBox(children=(IntProgress(value=0, max=45), HTML(value='')))"
      ]
     },
     "metadata": {},
     "output_type": "display_data"
    },
    {
     "name": "stderr",
     "output_type": "stream",
     "text": [
      "2019-03-08 01:27:04,593 - planet4.catalog_production - Calculating the center ground coordinates for all P4 tiles.\n",
      " 60%|██████    | 27/45 [00:00<00:00, 269.81it/s]"
     ]
    },
    {
     "name": "stdout",
     "output_type": "stream",
     "text": [
      "\n"
     ]
    },
    {
     "name": "stderr",
     "output_type": "stream",
     "text": [
      "100%|██████████| 45/45 [00:00<00:00, 251.92it/s]\n",
      "2019-03-08 01:27:05,047 - planet4.catalog_production - Wrote /Volumes/Data/planet4/catalogs/P4_catalog_v2.0/P4_catalog_v2.0_tile_coords.csv\n",
      "2019-03-08 01:27:05,048 - planet4.catalog_production - Calculating ground coordinates for catalog.\n",
      "  0%|          | 0/45 [00:00<?, ?it/s]"
     ]
    },
    {
     "name": "stdout",
     "output_type": "stream",
     "text": [
      "Calling do_campt\n"
     ]
    },
    {
     "name": "stderr",
     "output_type": "stream",
     "text": [
      "  2%|▏         | 1/45 [00:21<16:03, 21.90s/it]"
     ]
    },
    {
     "name": "stdout",
     "output_type": "stream",
     "text": [
      "Calling do_campt\n"
     ]
    },
    {
     "name": "stderr",
     "output_type": "stream",
     "text": [
      "  4%|▍         | 2/45 [00:31<12:59, 18.12s/it]"
     ]
    },
    {
     "name": "stdout",
     "output_type": "stream",
     "text": [
      "Calling do_campt\n"
     ]
    },
    {
     "name": "stderr",
     "output_type": "stream",
     "text": [
      "  7%|▋         | 3/45 [01:04<15:57, 22.79s/it]"
     ]
    },
    {
     "name": "stdout",
     "output_type": "stream",
     "text": [
      "Calling do_campt\n"
     ]
    },
    {
     "name": "stderr",
     "output_type": "stream",
     "text": [
      "  9%|▉         | 4/45 [01:11<12:14, 17.92s/it]"
     ]
    },
    {
     "name": "stdout",
     "output_type": "stream",
     "text": [
      "Calling do_campt\n"
     ]
    },
    {
     "name": "stderr",
     "output_type": "stream",
     "text": [
      " 11%|█         | 5/45 [01:12<08:32, 12.81s/it]"
     ]
    },
    {
     "name": "stdout",
     "output_type": "stream",
     "text": [
      "Calling do_campt\n"
     ]
    },
    {
     "name": "stderr",
     "output_type": "stream",
     "text": [
      " 13%|█▎        | 6/45 [01:13<05:57,  9.17s/it]"
     ]
    },
    {
     "name": "stdout",
     "output_type": "stream",
     "text": [
      "Calling do_campt\n"
     ]
    },
    {
     "name": "stderr",
     "output_type": "stream",
     "text": [
      " 16%|█▌        | 7/45 [01:15<04:32,  7.16s/it]"
     ]
    },
    {
     "name": "stdout",
     "output_type": "stream",
     "text": [
      "Calling do_campt\n"
     ]
    },
    {
     "name": "stderr",
     "output_type": "stream",
     "text": [
      " 18%|█▊        | 8/45 [01:17<03:28,  5.64s/it]"
     ]
    },
    {
     "name": "stdout",
     "output_type": "stream",
     "text": [
      "Calling do_campt\n"
     ]
    },
    {
     "name": "stderr",
     "output_type": "stream",
     "text": [
      " 20%|██        | 9/45 [01:25<03:43,  6.21s/it]"
     ]
    },
    {
     "name": "stdout",
     "output_type": "stream",
     "text": [
      "Calling do_campt\n"
     ]
    },
    {
     "name": "stderr",
     "output_type": "stream",
     "text": [
      " 22%|██▏       | 10/45 [01:26<02:50,  4.87s/it]"
     ]
    },
    {
     "name": "stdout",
     "output_type": "stream",
     "text": [
      "Calling do_campt\n"
     ]
    },
    {
     "name": "stderr",
     "output_type": "stream",
     "text": [
      " 24%|██▍       | 11/45 [01:27<02:00,  3.53s/it]"
     ]
    },
    {
     "name": "stdout",
     "output_type": "stream",
     "text": [
      "Calling do_campt\n"
     ]
    },
    {
     "name": "stderr",
     "output_type": "stream",
     "text": [
      " 27%|██▋       | 12/45 [01:29<01:41,  3.09s/it]"
     ]
    },
    {
     "name": "stdout",
     "output_type": "stream",
     "text": [
      "Calling do_campt\n"
     ]
    },
    {
     "name": "stderr",
     "output_type": "stream",
     "text": [
      " 29%|██▉       | 13/45 [01:31<01:33,  2.93s/it]"
     ]
    },
    {
     "name": "stdout",
     "output_type": "stream",
     "text": [
      "Calling do_campt\n"
     ]
    },
    {
     "name": "stderr",
     "output_type": "stream",
     "text": [
      " 31%|███       | 14/45 [01:32<01:13,  2.36s/it]"
     ]
    },
    {
     "name": "stdout",
     "output_type": "stream",
     "text": [
      "Calling do_campt\n"
     ]
    },
    {
     "name": "stderr",
     "output_type": "stream",
     "text": [
      " 33%|███▎      | 15/45 [01:35<01:14,  2.47s/it]"
     ]
    },
    {
     "name": "stdout",
     "output_type": "stream",
     "text": [
      "Calling do_campt\n"
     ]
    },
    {
     "name": "stderr",
     "output_type": "stream",
     "text": [
      " 36%|███▌      | 16/45 [01:40<01:29,  3.09s/it]"
     ]
    },
    {
     "name": "stdout",
     "output_type": "stream",
     "text": [
      "Calling do_campt\n"
     ]
    },
    {
     "name": "stderr",
     "output_type": "stream",
     "text": [
      " 38%|███▊      | 17/45 [01:40<01:04,  2.30s/it]"
     ]
    },
    {
     "name": "stdout",
     "output_type": "stream",
     "text": [
      "Calling do_campt\n"
     ]
    },
    {
     "name": "stderr",
     "output_type": "stream",
     "text": [
      " 40%|████      | 18/45 [01:45<01:22,  3.07s/it]"
     ]
    },
    {
     "name": "stdout",
     "output_type": "stream",
     "text": [
      "Calling do_campt\n"
     ]
    },
    {
     "name": "stderr",
     "output_type": "stream",
     "text": [
      " 42%|████▏     | 19/45 [01:54<02:02,  4.70s/it]"
     ]
    },
    {
     "name": "stdout",
     "output_type": "stream",
     "text": [
      "Calling do_campt\n"
     ]
    },
    {
     "name": "stderr",
     "output_type": "stream",
     "text": [
      " 44%|████▍     | 20/45 [01:56<01:37,  3.92s/it]"
     ]
    },
    {
     "name": "stdout",
     "output_type": "stream",
     "text": [
      "Calling do_campt\n"
     ]
    },
    {
     "name": "stderr",
     "output_type": "stream",
     "text": [
      " 47%|████▋     | 21/45 [02:04<02:08,  5.36s/it]"
     ]
    },
    {
     "name": "stdout",
     "output_type": "stream",
     "text": [
      "Calling do_campt\n"
     ]
    },
    {
     "name": "stderr",
     "output_type": "stream",
     "text": [
      " 49%|████▉     | 22/45 [02:06<01:39,  4.31s/it]"
     ]
    },
    {
     "name": "stdout",
     "output_type": "stream",
     "text": [
      "Calling do_campt\n"
     ]
    },
    {
     "name": "stderr",
     "output_type": "stream",
     "text": [
      " 51%|█████     | 23/45 [02:08<01:18,  3.58s/it]"
     ]
    },
    {
     "name": "stdout",
     "output_type": "stream",
     "text": [
      "Calling do_campt\n"
     ]
    },
    {
     "name": "stderr",
     "output_type": "stream",
     "text": [
      " 53%|█████▎    | 24/45 [02:10<01:03,  3.03s/it]"
     ]
    },
    {
     "name": "stdout",
     "output_type": "stream",
     "text": [
      "Calling do_campt\n"
     ]
    },
    {
     "name": "stderr",
     "output_type": "stream",
     "text": [
      " 56%|█████▌    | 25/45 [02:15<01:14,  3.71s/it]"
     ]
    },
    {
     "name": "stdout",
     "output_type": "stream",
     "text": [
      "Calling do_campt\n"
     ]
    },
    {
     "name": "stderr",
     "output_type": "stream",
     "text": [
      " 58%|█████▊    | 26/45 [02:17<01:01,  3.24s/it]"
     ]
    },
    {
     "name": "stdout",
     "output_type": "stream",
     "text": [
      "Calling do_campt\n"
     ]
    },
    {
     "name": "stderr",
     "output_type": "stream",
     "text": [
      " 60%|██████    | 27/45 [02:18<00:45,  2.53s/it]"
     ]
    },
    {
     "name": "stdout",
     "output_type": "stream",
     "text": [
      "Calling do_campt\n"
     ]
    },
    {
     "name": "stderr",
     "output_type": "stream",
     "text": [
      " 62%|██████▏   | 28/45 [02:20<00:38,  2.28s/it]"
     ]
    },
    {
     "name": "stdout",
     "output_type": "stream",
     "text": [
      "Calling do_campt\n"
     ]
    },
    {
     "name": "stderr",
     "output_type": "stream",
     "text": [
      " 64%|██████▍   | 29/45 [02:24<00:47,  2.97s/it]"
     ]
    },
    {
     "name": "stdout",
     "output_type": "stream",
     "text": [
      "Calling do_campt\n"
     ]
    },
    {
     "name": "stderr",
     "output_type": "stream",
     "text": [
      " 67%|██████▋   | 30/45 [02:27<00:43,  2.91s/it]"
     ]
    },
    {
     "name": "stdout",
     "output_type": "stream",
     "text": [
      "Calling do_campt\n"
     ]
    },
    {
     "name": "stderr",
     "output_type": "stream",
     "text": [
      " 69%|██████▉   | 31/45 [02:30<00:39,  2.80s/it]"
     ]
    },
    {
     "name": "stdout",
     "output_type": "stream",
     "text": [
      "Calling do_campt\n"
     ]
    },
    {
     "name": "stderr",
     "output_type": "stream",
     "text": [
      " 71%|███████   | 32/45 [02:33<00:36,  2.83s/it]"
     ]
    },
    {
     "name": "stdout",
     "output_type": "stream",
     "text": [
      "Calling do_campt\n"
     ]
    },
    {
     "name": "stderr",
     "output_type": "stream",
     "text": [
      " 73%|███████▎  | 33/45 [02:35<00:32,  2.75s/it]"
     ]
    },
    {
     "name": "stdout",
     "output_type": "stream",
     "text": [
      "Calling do_campt\n"
     ]
    },
    {
     "name": "stderr",
     "output_type": "stream",
     "text": [
      " 76%|███████▌  | 34/45 [02:38<00:29,  2.69s/it]"
     ]
    },
    {
     "name": "stdout",
     "output_type": "stream",
     "text": [
      "Calling do_campt\n"
     ]
    },
    {
     "name": "stderr",
     "output_type": "stream",
     "text": [
      " 78%|███████▊  | 35/45 [02:43<00:33,  3.36s/it]"
     ]
    },
    {
     "name": "stdout",
     "output_type": "stream",
     "text": [
      "Calling do_campt\n"
     ]
    },
    {
     "name": "stderr",
     "output_type": "stream",
     "text": [
      " 80%|████████  | 36/45 [02:47<00:33,  3.74s/it]"
     ]
    },
    {
     "name": "stdout",
     "output_type": "stream",
     "text": [
      "Calling do_campt\n"
     ]
    },
    {
     "name": "stderr",
     "output_type": "stream",
     "text": [
      " 82%|████████▏ | 37/45 [02:49<00:26,  3.29s/it]"
     ]
    },
    {
     "name": "stdout",
     "output_type": "stream",
     "text": [
      "Calling do_campt\n"
     ]
    },
    {
     "name": "stderr",
     "output_type": "stream",
     "text": [
      " 84%|████████▍ | 38/45 [02:52<00:21,  3.11s/it]"
     ]
    },
    {
     "name": "stdout",
     "output_type": "stream",
     "text": [
      "Calling do_campt\n"
     ]
    },
    {
     "name": "stderr",
     "output_type": "stream",
     "text": [
      " 87%|████████▋ | 39/45 [02:54<00:17,  2.85s/it]"
     ]
    },
    {
     "name": "stdout",
     "output_type": "stream",
     "text": [
      "Calling do_campt\n"
     ]
    },
    {
     "name": "stderr",
     "output_type": "stream",
     "text": [
      " 89%|████████▉ | 40/45 [02:55<00:11,  2.21s/it]"
     ]
    },
    {
     "name": "stdout",
     "output_type": "stream",
     "text": [
      "Calling do_campt\n"
     ]
    },
    {
     "name": "stderr",
     "output_type": "stream",
     "text": [
      " 91%|█████████ | 41/45 [03:01<00:13,  3.39s/it]"
     ]
    },
    {
     "name": "stdout",
     "output_type": "stream",
     "text": [
      "Calling do_campt\n"
     ]
    },
    {
     "name": "stderr",
     "output_type": "stream",
     "text": [
      " 93%|█████████▎| 42/45 [03:07<00:12,  4.01s/it]"
     ]
    },
    {
     "name": "stdout",
     "output_type": "stream",
     "text": [
      "Calling do_campt\n"
     ]
    },
    {
     "name": "stderr",
     "output_type": "stream",
     "text": [
      " 96%|█████████▌| 43/45 [03:07<00:05,  2.92s/it]"
     ]
    },
    {
     "name": "stdout",
     "output_type": "stream",
     "text": [
      "Calling do_campt\n"
     ]
    },
    {
     "name": "stderr",
     "output_type": "stream",
     "text": [
      " 98%|█████████▊| 44/45 [03:10<00:02,  2.94s/it]"
     ]
    },
    {
     "name": "stdout",
     "output_type": "stream",
     "text": [
      "Calling do_campt\n"
     ]
    },
    {
     "name": "stderr",
     "output_type": "stream",
     "text": [
      "100%|██████████| 45/45 [03:11<00:00,  2.26s/it]\n",
      "2019-03-08 01:30:16,403 - planet4.catalog_production - Writing summary metadata file.\n"
     ]
    },
    {
     "name": "stdout",
     "output_type": "stream",
     "text": [
      "Downloading\n",
      " https://hirise-pds.lpl.arizona.edu/PDS/RDR/PSP/ORB_003500_003599/PSP_003575_0935/PSP_003575_0935_COLOR.LBL to\n",
      " /Users/klay6683/Dropbox/data/hirise/labels/PSP_003575_0935_COLOR.LBL\n",
      "Downloading\n",
      " https://hirise-pds.lpl.arizona.edu/PDS/RDR/PSP/ORB_003400_003499/PSP_003496_0935/PSP_003496_0935_COLOR.LBL to\n",
      " /Users/klay6683/Dropbox/data/hirise/labels/PSP_003496_0935_COLOR.LBL\n",
      "Downloading\n",
      " https://hirise-pds.lpl.arizona.edu/PDS/RDR/PSP/ORB_002900_002999/PSP_002942_0935/PSP_002942_0935_COLOR.LBL to\n",
      " /Users/klay6683/Dropbox/data/hirise/labels/PSP_002942_0935_COLOR.LBL\n",
      "Downloading\n",
      " https://hirise-pds.lpl.arizona.edu/PDS/RDR/PSP/ORB_003600_003699/PSP_003641_0935/PSP_003641_0935_COLOR.LBL to\n",
      " /Users/klay6683/Dropbox/data/hirise/labels/PSP_003641_0935_COLOR.LBL\n",
      "Downloading\n",
      " https://hirise-pds.lpl.arizona.edu/PDS/RDR/PSP/ORB_002800_002899/PSP_002876_0935/PSP_002876_0935_COLOR.LBL to\n",
      " /Users/klay6683/Dropbox/data/hirise/labels/PSP_002876_0935_COLOR.LBL\n",
      "Downloading\n",
      " https://hirise-pds.lpl.arizona.edu/PDS/RDR/PSP/ORB_002500_002599/PSP_002533_0935/PSP_002533_0935_COLOR.LBL to\n",
      " /Users/klay6683/Dropbox/data/hirise/labels/PSP_002533_0935_COLOR.LBL\n",
      "Downloading\n",
      " https://hirise-pds.lpl.arizona.edu/PDS/RDR/PSP/ORB_002500_002599/PSP_002532_0935/PSP_002532_0935_COLOR.LBL to\n",
      " /Users/klay6683/Dropbox/data/hirise/labels/PSP_002532_0935_COLOR.LBL\n",
      "Downloading\n",
      " https://hirise-pds.lpl.arizona.edu/PDS/RDR/PSP/ORB_002600_002699/PSP_002626_0935/PSP_002626_0935_COLOR.LBL to\n",
      " /Users/klay6683/Dropbox/data/hirise/labels/PSP_002626_0935_COLOR.LBL\n",
      "Downloading\n",
      " https://hirise-pds.lpl.arizona.edu/PDS/RDR/PSP/ORB_002800_002899/PSP_002850_0935/PSP_002850_0935_COLOR.LBL to\n",
      " /Users/klay6683/Dropbox/data/hirise/labels/PSP_002850_0935_COLOR.LBL\n",
      "Downloading\n",
      " https://hirise-pds.lpl.arizona.edu/PDS/RDR/PSP/ORB_005500_005599/PSP_005579_0935/PSP_005579_0935_COLOR.LBL to\n",
      " /Users/klay6683/Dropbox/data/hirise/labels/PSP_005579_0935_COLOR.LBL\n",
      "Downloading\n",
      " https://hirise-pds.lpl.arizona.edu/PDS/RDR/ESP/ORB_028900_028999/ESP_028932_0935/ESP_028932_0935_COLOR.LBL to\n",
      " /Users/klay6683/Dropbox/data/hirise/labels/ESP_028932_0935_COLOR.LBL\n",
      "Downloading\n",
      " https://hirise-pds.lpl.arizona.edu/PDS/RDR/ESP/ORB_029500_029599/ESP_029578_0935/ESP_029578_0935_COLOR.LBL to\n",
      " /Users/klay6683/Dropbox/data/hirise/labels/ESP_029578_0935_COLOR.LBL\n",
      "Downloading\n",
      " https://hirise-pds.lpl.arizona.edu/PDS/RDR/ESP/ORB_029600_029699/ESP_029657_0935/ESP_029657_0935_COLOR.LBL to\n",
      " /Users/klay6683/Dropbox/data/hirise/labels/ESP_029657_0935_COLOR.LBL\n",
      "Downloading\n",
      " https://hirise-pds.lpl.arizona.edu/PDS/RDR/ESP/ORB_029000_029099/ESP_029037_0935/ESP_029037_0935_COLOR.LBL to\n",
      " /Users/klay6683/Dropbox/data/hirise/labels/ESP_029037_0935_COLOR.LBL\n",
      "Downloading\n",
      " https://hirise-pds.lpl.arizona.edu/PDS/RDR/ESP/ORB_029900_029999/ESP_029934_0935/ESP_029934_0935_COLOR.LBL to\n",
      " /Users/klay6683/Dropbox/data/hirise/labels/ESP_029934_0935_COLOR.LBL\n",
      "Downloading\n",
      " https://hirise-pds.lpl.arizona.edu/PDS/RDR/ESP/ORB_029300_029399/ESP_029301_0935/ESP_029301_0935_COLOR.LBL to\n",
      " /Users/klay6683/Dropbox/data/hirise/labels/ESP_029301_0935_COLOR.LBL\n",
      "Downloading\n",
      " https://hirise-pds.lpl.arizona.edu/PDS/RDR/ESP/ORB_028900_028999/ESP_028931_0935/ESP_028931_0935_COLOR.LBL to\n",
      " /Users/klay6683/Dropbox/data/hirise/labels/ESP_028931_0935_COLOR.LBL\n",
      "Downloading\n",
      " https://hirise-pds.lpl.arizona.edu/PDS/RDR/ESP/ORB_029000_029099/ESP_029090_0935/ESP_029090_0935_COLOR.LBL to\n",
      " /Users/klay6683/Dropbox/data/hirise/labels/ESP_029090_0935_COLOR.LBL\n",
      "Downloading\n",
      " https://hirise-pds.lpl.arizona.edu/PDS/RDR/ESP/ORB_037900_037999/ESP_037964_0935/ESP_037964_0935_COLOR.LBL to\n",
      " /Users/klay6683/Dropbox/data/hirise/labels/ESP_037964_0935_COLOR.LBL\n",
      "Downloading\n",
      " https://hirise-pds.lpl.arizona.edu/PDS/RDR/ESP/ORB_038100_038199/ESP_038149_0935/ESP_038149_0935_COLOR.LBL to\n",
      " /Users/klay6683/Dropbox/data/hirise/labels/ESP_038149_0935_COLOR.LBL\n",
      "Downloading\n",
      " https://hirise-pds.lpl.arizona.edu/PDS/RDR/ESP/ORB_038200_038299/ESP_038215_0935/ESP_038215_0935_COLOR.LBL to\n",
      " /Users/klay6683/Dropbox/data/hirise/labels/ESP_038215_0935_COLOR.LBL\n",
      "Downloading\n",
      " https://hirise-pds.lpl.arizona.edu/PDS/RDR/ESP/ORB_038400_038499/ESP_038492_0935/ESP_038492_0935_COLOR.LBL to\n",
      " /Users/klay6683/Dropbox/data/hirise/labels/ESP_038492_0935_COLOR.LBL\n",
      "Downloading\n",
      " https://hirise-pds.lpl.arizona.edu/PDS/RDR/ESP/ORB_039800_039899/ESP_039824_0935/ESP_039824_0935_COLOR.LBL to\n",
      " /Users/klay6683/Dropbox/data/hirise/labels/ESP_039824_0935_COLOR.LBL\n",
      "Downloading\n",
      " https://hirise-pds.lpl.arizona.edu/PDS/RDR/ESP/ORB_039400_039499/ESP_039468_0935/ESP_039468_0935_COLOR.LBL to\n",
      " /Users/klay6683/Dropbox/data/hirise/labels/ESP_039468_0935_COLOR.LBL\n",
      "Downloading\n",
      " https://hirise-pds.lpl.arizona.edu/PDS/RDR/ESP/ORB_039500_039599/ESP_039547_0935/ESP_039547_0935_COLOR.LBL to\n",
      " /Users/klay6683/Dropbox/data/hirise/labels/ESP_039547_0935_COLOR.LBL\n",
      "Downloading\n",
      " https://hirise-pds.lpl.arizona.edu/PDS/RDR/ESP/ORB_040200_040299/ESP_040246_0935/ESP_040246_0935_COLOR.LBL to\n",
      " /Users/klay6683/Dropbox/data/hirise/labels/ESP_040246_0935_COLOR.LBL\n",
      "Downloading\n",
      " https://hirise-pds.lpl.arizona.edu/PDS/RDR/ESP/ORB_038800_038899/ESP_038822_0935/ESP_038822_0935_COLOR.LBL to\n",
      " /Users/klay6683/Dropbox/data/hirise/labels/ESP_038822_0935_COLOR.LBL\n",
      "Downloading\n",
      " https://hirise-pds.lpl.arizona.edu/PDS/RDR/ESP/ORB_039900_039999/ESP_039969_0935/ESP_039969_0935_COLOR.LBL to\n",
      " /Users/klay6683/Dropbox/data/hirise/labels/ESP_039969_0935_COLOR.LBL\n"
     ]
    },
    {
     "name": "stderr",
     "output_type": "stream",
     "text": [
      "2019-03-08 01:30:39,318 - planet4.io - No files found. Searching in /Volumes/Data/planet4/catalogs\n"
     ]
    },
    {
     "ename": "NoFilesFoundError",
     "evalue": "Search or glob for files returned empty.",
     "output_type": "error",
     "traceback": [
      "\u001b[0;31m---------------------------------------------------------------------------\u001b[0m",
      "\u001b[0;31mNoFilesFoundError\u001b[0m                         Traceback (most recent call last)",
      "\u001b[0;32m<ipython-input-10-ccb98fa8fccc>\u001b[0m in \u001b[0;36m<module>\u001b[0;34m\u001b[0m\n\u001b[0;32m----> 1\u001b[0;31m \u001b[0mrm\u001b[0m\u001b[0;34m.\u001b[0m\u001b[0mlaunch_catalog_production\u001b[0m\u001b[0;34m(\u001b[0m\u001b[0;34m)\u001b[0m\u001b[0;34m\u001b[0m\u001b[0;34m\u001b[0m\u001b[0m\n\u001b[0m",
      "\u001b[0;32m~/Dropbox/src/planet4/planet4/catalog_production.py\u001b[0m in \u001b[0;36mlaunch_catalog_production\u001b[0;34m(self)\u001b[0m\n\u001b[1;32m    529\u001b[0m         \u001b[0;31m# calculate all metadata required for P4 analysis\u001b[0m\u001b[0;34m\u001b[0m\u001b[0;34m\u001b[0m\u001b[0;34m\u001b[0m\u001b[0m\n\u001b[1;32m    530\u001b[0m         \u001b[0mLOGGER\u001b[0m\u001b[0;34m.\u001b[0m\u001b[0minfo\u001b[0m\u001b[0;34m(\u001b[0m\u001b[0;34m\"Writing summary metadata file.\"\u001b[0m\u001b[0;34m)\u001b[0m\u001b[0;34m\u001b[0m\u001b[0;34m\u001b[0m\u001b[0m\n\u001b[0;32m--> 531\u001b[0;31m         \u001b[0mself\u001b[0m\u001b[0;34m.\u001b[0m\u001b[0mcalc_metadata\u001b[0m\u001b[0;34m(\u001b[0m\u001b[0;34m)\u001b[0m\u001b[0;34m\u001b[0m\u001b[0;34m\u001b[0m\u001b[0m\n\u001b[0m\u001b[1;32m    532\u001b[0m         \u001b[0;31m# merging metadata\u001b[0m\u001b[0;34m\u001b[0m\u001b[0;34m\u001b[0m\u001b[0;34m\u001b[0m\u001b[0m\n\u001b[1;32m    533\u001b[0m         \u001b[0mself\u001b[0m\u001b[0;34m.\u001b[0m\u001b[0mmerge_all\u001b[0m\u001b[0;34m(\u001b[0m\u001b[0;34m)\u001b[0m\u001b[0;34m\u001b[0m\u001b[0;34m\u001b[0m\u001b[0m\n",
      "\u001b[0;32m~/Dropbox/src/planet4/planet4/catalog_production.py\u001b[0m in \u001b[0;36mcalc_metadata\u001b[0;34m(self)\u001b[0m\n\u001b[1;32m    309\u001b[0m                 \u001b[0mNAs\u001b[0m\u001b[0;34m.\u001b[0m\u001b[0mset_index\u001b[0m\u001b[0;34m(\u001b[0m\u001b[0;34m\"OBSERVATION_ID\"\u001b[0m\u001b[0;34m)\u001b[0m\u001b[0;34m\u001b[0m\u001b[0;34m\u001b[0m\u001b[0m\n\u001b[1;32m    310\u001b[0m             )\n\u001b[0;32m--> 311\u001b[0;31m             \u001b[0mp4_edr\u001b[0m \u001b[0;34m=\u001b[0m \u001b[0mp4_edr\u001b[0m\u001b[0;34m.\u001b[0m\u001b[0mjoin\u001b[0m\u001b[0;34m(\u001b[0m\u001b[0mself\u001b[0m\u001b[0;34m.\u001b[0m\u001b[0mget_no_of_tiles_per_obsid\u001b[0m\u001b[0;34m(\u001b[0m\u001b[0;34m)\u001b[0m\u001b[0;34m)\u001b[0m\u001b[0;34m\u001b[0m\u001b[0;34m\u001b[0m\u001b[0m\n\u001b[0m\u001b[1;32m    312\u001b[0m             \u001b[0mp4_edr\u001b[0m\u001b[0;34m.\u001b[0m\u001b[0mrename\u001b[0m\u001b[0;34m(\u001b[0m\u001b[0mdict\u001b[0m\u001b[0;34m(\u001b[0m\u001b[0mimage_id\u001b[0m\u001b[0;34m=\u001b[0m\u001b[0;34m\"# of tiles\"\u001b[0m\u001b[0;34m)\u001b[0m\u001b[0;34m,\u001b[0m \u001b[0maxis\u001b[0m\u001b[0;34m=\u001b[0m\u001b[0;36m1\u001b[0m\u001b[0;34m,\u001b[0m \u001b[0minplace\u001b[0m\u001b[0;34m=\u001b[0m\u001b[0;32mTrue\u001b[0m\u001b[0;34m)\u001b[0m\u001b[0;34m\u001b[0m\u001b[0;34m\u001b[0m\u001b[0m\n\u001b[1;32m    313\u001b[0m             \u001b[0mp4_edr\u001b[0m\u001b[0;34m[\u001b[0m\u001b[0;34m\"map_scale\"\u001b[0m\u001b[0;34m]\u001b[0m \u001b[0;34m=\u001b[0m \u001b[0;36m0.25\u001b[0m \u001b[0;34m*\u001b[0m \u001b[0mp4_edr\u001b[0m\u001b[0;34m.\u001b[0m\u001b[0mBINNING\u001b[0m\u001b[0;34m\u001b[0m\u001b[0;34m\u001b[0m\u001b[0m\n",
      "\u001b[0;32m~/Dropbox/src/planet4/planet4/catalog_production.py\u001b[0m in \u001b[0;36mget_no_of_tiles_per_obsid\u001b[0;34m(self)\u001b[0m\n\u001b[1;32m    289\u001b[0m \u001b[0;34m\u001b[0m\u001b[0m\n\u001b[1;32m    290\u001b[0m     \u001b[0;32mdef\u001b[0m \u001b[0mget_no_of_tiles_per_obsid\u001b[0m\u001b[0;34m(\u001b[0m\u001b[0mself\u001b[0m\u001b[0;34m)\u001b[0m\u001b[0;34m:\u001b[0m\u001b[0;34m\u001b[0m\u001b[0;34m\u001b[0m\u001b[0m\n\u001b[0;32m--> 291\u001b[0;31m         \u001b[0mdb\u001b[0m \u001b[0;34m=\u001b[0m \u001b[0mio\u001b[0m\u001b[0;34m.\u001b[0m\u001b[0mDBManager\u001b[0m\u001b[0;34m(\u001b[0m\u001b[0;34m)\u001b[0m\u001b[0;34m\u001b[0m\u001b[0;34m\u001b[0m\u001b[0m\n\u001b[0m\u001b[1;32m    292\u001b[0m         \u001b[0mall_data\u001b[0m \u001b[0;34m=\u001b[0m \u001b[0mdb\u001b[0m\u001b[0;34m.\u001b[0m\u001b[0mget_all\u001b[0m\u001b[0;34m(\u001b[0m\u001b[0;34m)\u001b[0m\u001b[0;34m\u001b[0m\u001b[0;34m\u001b[0m\u001b[0m\n\u001b[1;32m    293\u001b[0m         \u001b[0;32mreturn\u001b[0m \u001b[0mall_data\u001b[0m\u001b[0;34m.\u001b[0m\u001b[0mgroupby\u001b[0m\u001b[0;34m(\u001b[0m\u001b[0;34m\"image_name\"\u001b[0m\u001b[0;34m)\u001b[0m\u001b[0;34m.\u001b[0m\u001b[0mimage_id\u001b[0m\u001b[0;34m.\u001b[0m\u001b[0mnunique\u001b[0m\u001b[0;34m(\u001b[0m\u001b[0;34m)\u001b[0m\u001b[0;34m\u001b[0m\u001b[0;34m\u001b[0m\u001b[0m\n",
      "\u001b[0;32m~/Dropbox/src/planet4/planet4/io.py\u001b[0m in \u001b[0;36m__init__\u001b[0;34m(self, dbname)\u001b[0m\n\u001b[1;32m    523\u001b[0m         \"\"\"\n\u001b[1;32m    524\u001b[0m         \u001b[0;32mif\u001b[0m \u001b[0mdbname\u001b[0m \u001b[0;32mis\u001b[0m \u001b[0;32mNone\u001b[0m\u001b[0;34m:\u001b[0m\u001b[0;34m\u001b[0m\u001b[0;34m\u001b[0m\u001b[0m\n\u001b[0;32m--> 525\u001b[0;31m             \u001b[0mself\u001b[0m\u001b[0;34m.\u001b[0m\u001b[0mdbname\u001b[0m \u001b[0;34m=\u001b[0m \u001b[0mstr\u001b[0m\u001b[0;34m(\u001b[0m\u001b[0mget_latest_cleaned_db\u001b[0m\u001b[0;34m(\u001b[0m\u001b[0;34m)\u001b[0m\u001b[0;34m)\u001b[0m\u001b[0;34m\u001b[0m\u001b[0;34m\u001b[0m\u001b[0m\n\u001b[0m\u001b[1;32m    526\u001b[0m         \u001b[0;32melse\u001b[0m\u001b[0;34m:\u001b[0m\u001b[0;34m\u001b[0m\u001b[0;34m\u001b[0m\u001b[0m\n\u001b[1;32m    527\u001b[0m             \u001b[0mself\u001b[0m\u001b[0;34m.\u001b[0m\u001b[0mdbname\u001b[0m \u001b[0;34m=\u001b[0m \u001b[0mstr\u001b[0m\u001b[0;34m(\u001b[0m\u001b[0mdbname\u001b[0m\u001b[0;34m)\u001b[0m\u001b[0;34m\u001b[0m\u001b[0;34m\u001b[0m\u001b[0m\n",
      "\u001b[0;32m~/Dropbox/src/planet4/planet4/io.py\u001b[0m in \u001b[0;36mget_latest_cleaned_db\u001b[0;34m(datadir)\u001b[0m\n\u001b[1;32m    168\u001b[0m     \u001b[0;32mif\u001b[0m \u001b[0mlen\u001b[0m\u001b[0;34m(\u001b[0m\u001b[0mh5files\u001b[0m\u001b[0;34m)\u001b[0m \u001b[0;34m==\u001b[0m \u001b[0;36m0\u001b[0m\u001b[0;34m:\u001b[0m\u001b[0;34m\u001b[0m\u001b[0;34m\u001b[0m\u001b[0m\n\u001b[1;32m    169\u001b[0m         \u001b[0mLOGGER\u001b[0m\u001b[0;34m.\u001b[0m\u001b[0merror\u001b[0m\u001b[0;34m(\u001b[0m\u001b[0;34m\"No files found. Searching in %s\"\u001b[0m\u001b[0;34m,\u001b[0m \u001b[0mstr\u001b[0m\u001b[0;34m(\u001b[0m\u001b[0mdatadir\u001b[0m\u001b[0;34m)\u001b[0m\u001b[0;34m)\u001b[0m\u001b[0;34m\u001b[0m\u001b[0;34m\u001b[0m\u001b[0m\n\u001b[0;32m--> 170\u001b[0;31m         \u001b[0;32mraise\u001b[0m \u001b[0mNoFilesFoundError\u001b[0m\u001b[0;34m(\u001b[0m\u001b[0;34mf\"No files found. Searching in {str(datadir)}\"\u001b[0m\u001b[0;34m)\u001b[0m\u001b[0;34m\u001b[0m\u001b[0;34m\u001b[0m\u001b[0m\n\u001b[0m\u001b[1;32m    171\u001b[0m     \u001b[0;32mreturn\u001b[0m \u001b[0mget_latest_file\u001b[0m\u001b[0;34m(\u001b[0m\u001b[0mh5files\u001b[0m\u001b[0;34m)\u001b[0m\u001b[0;34m\u001b[0m\u001b[0;34m\u001b[0m\u001b[0m\n\u001b[1;32m    172\u001b[0m \u001b[0;34m\u001b[0m\u001b[0m\n",
      "\u001b[0;31mNoFilesFoundError\u001b[0m: Search or glob for files returned empty."
     ]
    }
   ],
   "source": [
    "rm.launch_catalog_production()"
   ]
  },
  {
   "cell_type": "code",
   "execution_count": 11,
   "metadata": {},
   "outputs": [
    {
     "name": "stderr",
     "output_type": "stream",
     "text": [
      "2019-03-08 04:46:15,734 - planet4.catalog_production - Wrote /Volumes/Data/planet4/catalogs/P4_catalog_v2.0/P4_catalog_v2.0_metadata.csv\n"
     ]
    }
   ],
   "source": [
    "rm.calc_metadata()"
   ]
  },
  {
   "cell_type": "code",
   "execution_count": 25,
   "metadata": {},
   "outputs": [
    {
     "name": "stderr",
     "output_type": "stream",
     "text": [
      "2019-03-08 04:52:34,592 - planet4.catalog_production - Wrote /Volumes/Data/planet4/catalogs/P4_catalog_v2.0/P4_catalog_v2.0_L1C_cut_0.5_fan_meta_merged.csv\n",
      "2019-03-08 04:52:34,779 - planet4.catalog_production - Wrote /Volumes/Data/planet4/catalogs/P4_catalog_v2.0/P4_catalog_v2.0_L1C_cut_0.5_blotch_meta_merged.csv\n"
     ]
    }
   ],
   "source": [
    "rm.merge_all()"
   ]
  },
  {
   "cell_type": "code",
   "execution_count": 29,
   "metadata": {},
   "outputs": [],
   "source": [
    "blotches = pd.read_csv(rm.blotch_merged)"
   ]
  },
  {
   "cell_type": "code",
   "execution_count": 30,
   "metadata": {},
   "outputs": [
    {
     "data": {
      "text/html": [
       "<div>\n",
       "<style scoped>\n",
       "    .dataframe tbody tr th:only-of-type {\n",
       "        vertical-align: middle;\n",
       "    }\n",
       "\n",
       "    .dataframe tbody tr th {\n",
       "        vertical-align: top;\n",
       "    }\n",
       "\n",
       "    .dataframe thead th {\n",
       "        text-align: right;\n",
       "    }\n",
       "</style>\n",
       "<table border=\"1\" class=\"dataframe\">\n",
       "  <thead>\n",
       "    <tr style=\"text-align: right;\">\n",
       "      <th></th>\n",
       "      <th>marking_id</th>\n",
       "      <th>angle</th>\n",
       "      <th>tile_id</th>\n",
       "      <th>image_x</th>\n",
       "      <th>image_y</th>\n",
       "      <th>n_votes</th>\n",
       "      <th>obsid</th>\n",
       "      <th>radius_1</th>\n",
       "      <th>radius_2</th>\n",
       "      <th>vote_ratio</th>\n",
       "      <th>...</th>\n",
       "      <th>y_angle</th>\n",
       "      <th>l_s</th>\n",
       "      <th>map_scale</th>\n",
       "      <th>north_azimuth</th>\n",
       "      <th>BodyFixedCoordinateX</th>\n",
       "      <th>BodyFixedCoordinateY</th>\n",
       "      <th>BodyFixedCoordinateZ</th>\n",
       "      <th>PlanetocentricLatitude</th>\n",
       "      <th>PlanetographicLatitude</th>\n",
       "      <th>Longitude</th>\n",
       "    </tr>\n",
       "  </thead>\n",
       "  <tbody>\n",
       "    <tr>\n",
       "      <th>0</th>\n",
       "      <td>B000000</td>\n",
       "      <td>172.59</td>\n",
       "      <td>APF0000son</td>\n",
       "      <td>1891.50</td>\n",
       "      <td>24753.67</td>\n",
       "      <td>3</td>\n",
       "      <td>ESP_021455_0935</td>\n",
       "      <td>68.23</td>\n",
       "      <td>35.31</td>\n",
       "      <td>1.0</td>\n",
       "      <td>...</td>\n",
       "      <td>0.13</td>\n",
       "      <td>242.052</td>\n",
       "      <td>0.25</td>\n",
       "      <td>138.529846</td>\n",
       "      <td>-32.616957</td>\n",
       "      <td>211.247390</td>\n",
       "      <td>-3374.699566</td>\n",
       "      <td>-86.375775</td>\n",
       "      <td>-86.418203</td>\n",
       "      <td>98.777254</td>\n",
       "    </tr>\n",
       "    <tr>\n",
       "      <th>1</th>\n",
       "      <td>B000001</td>\n",
       "      <td>131.68</td>\n",
       "      <td>APF0000son</td>\n",
       "      <td>2194.62</td>\n",
       "      <td>24399.75</td>\n",
       "      <td>4</td>\n",
       "      <td>ESP_021455_0935</td>\n",
       "      <td>96.55</td>\n",
       "      <td>72.45</td>\n",
       "      <td>1.0</td>\n",
       "      <td>...</td>\n",
       "      <td>0.70</td>\n",
       "      <td>242.052</td>\n",
       "      <td>0.25</td>\n",
       "      <td>138.529846</td>\n",
       "      <td>-32.610374</td>\n",
       "      <td>211.133376</td>\n",
       "      <td>-3374.707219</td>\n",
       "      <td>-86.377706</td>\n",
       "      <td>-86.420111</td>\n",
       "      <td>98.780176</td>\n",
       "    </tr>\n",
       "    <tr>\n",
       "      <th>2</th>\n",
       "      <td>B000002</td>\n",
       "      <td>41.50</td>\n",
       "      <td>APF0000son</td>\n",
       "      <td>2277.00</td>\n",
       "      <td>24242.67</td>\n",
       "      <td>3</td>\n",
       "      <td>ESP_021455_0935</td>\n",
       "      <td>33.45</td>\n",
       "      <td>25.09</td>\n",
       "      <td>1.0</td>\n",
       "      <td>...</td>\n",
       "      <td>0.63</td>\n",
       "      <td>242.052</td>\n",
       "      <td>0.25</td>\n",
       "      <td>138.529846</td>\n",
       "      <td>-32.617650</td>\n",
       "      <td>211.090555</td>\n",
       "      <td>-3374.710009</td>\n",
       "      <td>-86.378406</td>\n",
       "      <td>-86.420803</td>\n",
       "      <td>98.783858</td>\n",
       "    </tr>\n",
       "    <tr>\n",
       "      <th>3</th>\n",
       "      <td>B000003</td>\n",
       "      <td>176.28</td>\n",
       "      <td>APF0000sop</td>\n",
       "      <td>2972.21</td>\n",
       "      <td>15809.21</td>\n",
       "      <td>7</td>\n",
       "      <td>ESP_021455_0935</td>\n",
       "      <td>11.35</td>\n",
       "      <td>10.00</td>\n",
       "      <td>1.0</td>\n",
       "      <td>...</td>\n",
       "      <td>0.28</td>\n",
       "      <td>242.052</td>\n",
       "      <td>0.25</td>\n",
       "      <td>138.529846</td>\n",
       "      <td>-33.740744</td>\n",
       "      <td>209.351353</td>\n",
       "      <td>-3374.887985</td>\n",
       "      <td>-86.404685</td>\n",
       "      <td>-86.446776</td>\n",
       "      <td>99.155517</td>\n",
       "    </tr>\n",
       "    <tr>\n",
       "      <th>4</th>\n",
       "      <td>B000004</td>\n",
       "      <td>11.95</td>\n",
       "      <td>APF0000sop</td>\n",
       "      <td>3207.41</td>\n",
       "      <td>15702.91</td>\n",
       "      <td>6</td>\n",
       "      <td>ESP_021455_0935</td>\n",
       "      <td>15.80</td>\n",
       "      <td>11.87</td>\n",
       "      <td>1.0</td>\n",
       "      <td>...</td>\n",
       "      <td>0.35</td>\n",
       "      <td>242.052</td>\n",
       "      <td>0.25</td>\n",
       "      <td>138.529846</td>\n",
       "      <td>-33.710694</td>\n",
       "      <td>209.295612</td>\n",
       "      <td>-3374.892411</td>\n",
       "      <td>-86.405701</td>\n",
       "      <td>-86.447780</td>\n",
       "      <td>99.149896</td>\n",
       "    </tr>\n",
       "  </tbody>\n",
       "</table>\n",
       "<p>5 rows × 23 columns</p>\n",
       "</div>"
      ],
      "text/plain": [
       "  marking_id   angle     tile_id  image_x   image_y  n_votes            obsid  \\\n",
       "0    B000000  172.59  APF0000son  1891.50  24753.67        3  ESP_021455_0935   \n",
       "1    B000001  131.68  APF0000son  2194.62  24399.75        4  ESP_021455_0935   \n",
       "2    B000002   41.50  APF0000son  2277.00  24242.67        3  ESP_021455_0935   \n",
       "3    B000003  176.28  APF0000sop  2972.21  15809.21        7  ESP_021455_0935   \n",
       "4    B000004   11.95  APF0000sop  3207.41  15702.91        6  ESP_021455_0935   \n",
       "\n",
       "   radius_1  radius_2  vote_ratio  ...  y_angle      l_s  map_scale  \\\n",
       "0     68.23     35.31         1.0  ...     0.13  242.052       0.25   \n",
       "1     96.55     72.45         1.0  ...     0.70  242.052       0.25   \n",
       "2     33.45     25.09         1.0  ...     0.63  242.052       0.25   \n",
       "3     11.35     10.00         1.0  ...     0.28  242.052       0.25   \n",
       "4     15.80     11.87         1.0  ...     0.35  242.052       0.25   \n",
       "\n",
       "   north_azimuth  BodyFixedCoordinateX  BodyFixedCoordinateY  \\\n",
       "0     138.529846            -32.616957            211.247390   \n",
       "1     138.529846            -32.610374            211.133376   \n",
       "2     138.529846            -32.617650            211.090555   \n",
       "3     138.529846            -33.740744            209.351353   \n",
       "4     138.529846            -33.710694            209.295612   \n",
       "\n",
       "   BodyFixedCoordinateZ  PlanetocentricLatitude  PlanetographicLatitude  \\\n",
       "0          -3374.699566              -86.375775              -86.418203   \n",
       "1          -3374.707219              -86.377706              -86.420111   \n",
       "2          -3374.710009              -86.378406              -86.420803   \n",
       "3          -3374.887985              -86.404685              -86.446776   \n",
       "4          -3374.892411              -86.405701              -86.447780   \n",
       "\n",
       "   Longitude  \n",
       "0  98.777254  \n",
       "1  98.780176  \n",
       "2  98.783858  \n",
       "3  99.155517  \n",
       "4  99.149896  \n",
       "\n",
       "[5 rows x 23 columns]"
      ]
     },
     "execution_count": 30,
     "metadata": {},
     "output_type": "execute_result"
    }
   ],
   "source": [
    "blotches.head()"
   ]
  },
  {
   "cell_type": "code",
   "execution_count": 27,
   "metadata": {},
   "outputs": [
    {
     "data": {
      "text/plain": [
       "(10269, 24)"
      ]
     },
     "execution_count": 27,
     "metadata": {},
     "output_type": "execute_result"
    }
   ],
   "source": [
    "pd.read_csv(rm.fan_merged).shape"
   ]
  },
  {
   "cell_type": "code",
   "execution_count": 31,
   "metadata": {},
   "outputs": [
    {
     "data": {
      "text/plain": [
       "PosixPath('/Volumes/Data/planet4/catalogs/P4_catalog_v2.0/P4_catalog_v2.0_L1C_cut_0.5_fan_meta_merged.csv')"
      ]
     },
     "execution_count": 31,
     "metadata": {},
     "output_type": "execute_result"
    }
   ],
   "source": [
    "rm.fan_merged"
   ]
  },
  {
   "cell_type": "code",
   "execution_count": null,
   "metadata": {},
   "outputs": [],
   "source": [
    "fans = pd.read_csv(self.fan_file)\n",
    "blotches = pd.read_csv(self.blotch_file)\n",
    "meta = pd.read_csv(self.metadata_path, dtype='str')\n",
    "tile_coords = pd.read_csv(self.tile_coords_path, dtype='str')"
   ]
  },
  {
   "cell_type": "code",
   "execution_count": null,
   "metadata": {},
   "outputs": [],
   "source": [
    "meta.shape"
   ]
  },
  {
   "cell_type": "code",
   "execution_count": null,
   "metadata": {},
   "outputs": [],
   "source": [
    "tile_coords.shape"
   ]
  },
  {
   "cell_type": "code",
   "execution_count": null,
   "metadata": {},
   "outputs": [],
   "source": [
    "cols_to_merge = ['OBSERVATION_ID',\n",
    "                         'SOLAR_LONGITUDE', 'north_azimuth', 'map_scale']\n",
    "fans = fans.merge(meta[cols_to_merge],\n",
    "                  left_on='obsid', right_on='OBSERVATION_ID')\n",
    "blotches = blotches.merge(\n",
    "    meta[cols_to_merge], left_on='obsid', right_on='OBSERVATION_ID')"
   ]
  },
  {
   "cell_type": "code",
   "execution_count": null,
   "metadata": {},
   "outputs": [],
   "source": [
    "fans.shape"
   ]
  },
  {
   "cell_type": "code",
   "execution_count": null,
   "metadata": {},
   "outputs": [],
   "source": [
    "blotches.shape"
   ]
  },
  {
   "cell_type": "code",
   "execution_count": null,
   "metadata": {},
   "outputs": [],
   "source": [
    "fans.drop(self.DROP_FOR_FANS, axis=1, inplace=True)\n",
    "blotches.drop(self.DROP_FOR_BLOTCHES, axis=1, inplace=True)"
   ]
  },
  {
   "cell_type": "code",
   "execution_count": null,
   "metadata": {},
   "outputs": [],
   "source": [
    "blotches.shape"
   ]
  },
  {
   "cell_type": "code",
   "execution_count": null,
   "metadata": {},
   "outputs": [],
   "source": [
    "fans, blotches = self.merge_fnotch_results(fans, blotches)"
   ]
  },
  {
   "cell_type": "code",
   "execution_count": null,
   "metadata": {},
   "outputs": [],
   "source": [
    "fans.shape"
   ]
  },
  {
   "cell_type": "code",
   "execution_count": null,
   "metadata": {},
   "outputs": [],
   "source": [
    "blotches.shape"
   ]
  },
  {
   "cell_type": "code",
   "execution_count": null,
   "metadata": {},
   "outputs": [],
   "source": [
    "from planet4 import catalog_production as cp"
   ]
  },
  {
   "cell_type": "code",
   "execution_count": null,
   "metadata": {},
   "outputs": [],
   "source": [
    "rm.EDRINDEX_meta_path"
   ]
  },
  {
   "cell_type": "code",
   "execution_count": null,
   "metadata": {},
   "outputs": [],
   "source": [
    "rm.merge_all()"
   ]
  },
  {
   "cell_type": "code",
   "execution_count": null,
   "metadata": {},
   "outputs": [],
   "source": [
    "rm.calc_metadata()"
   ]
  },
  {
   "cell_type": "code",
   "execution_count": null,
   "metadata": {},
   "outputs": [],
   "source": [
    "meta = pd.read_csv(rm.metadata_path).set_index('OBSERVATION_ID')"
   ]
  },
  {
   "cell_type": "code",
   "execution_count": null,
   "metadata": {},
   "outputs": [],
   "source": [
    "rm.EDRINDEX_meta_path"
   ]
  },
  {
   "cell_type": "code",
   "execution_count": null,
   "metadata": {},
   "outputs": [],
   "source": [
    "meta.loc['ESP_012251_0935']"
   ]
  },
  {
   "cell_type": "code",
   "execution_count": null,
   "metadata": {},
   "outputs": [],
   "source": [
    "edrindex = pd.read_hdf(\"/Volumes/Data/hirise/EDRCUMINDEX.hdf\")\n",
    "p4_edr = edrindex[edrindex.OBSERVATION_ID.isin(rm.obsids)].query(\n",
    "    'CCD_NAME==\"RED4\"').drop_duplicates(subset='OBSERVATION_ID')"
   ]
  },
  {
   "cell_type": "code",
   "execution_count": null,
   "metadata": {},
   "outputs": [],
   "source": [
    "p4_edr.set_index('OBSERVATION_ID', inplace=True)"
   ]
  },
  {
   "cell_type": "code",
   "execution_count": null,
   "metadata": {},
   "outputs": [],
   "source": [
    "p4_edr.loc['ESP_012251_0935']"
   ]
  },
  {
   "cell_type": "code",
   "execution_count": null,
   "metadata": {},
   "outputs": [],
   "source": []
  },
  {
   "cell_type": "code",
   "execution_count": null,
   "metadata": {},
   "outputs": [],
   "source": [
    "rm.calc_metadata()"
   ]
  },
  {
   "cell_type": "code",
   "execution_count": null,
   "metadata": {},
   "outputs": [],
   "source": [
    "rm."
   ]
  },
  {
   "cell_type": "code",
   "execution_count": null,
   "metadata": {},
   "outputs": [],
   "source": [
    "df.set_index('OBSERVATION_ID').to_csv(rm.EDRINDEX_meta_path, index=True)"
   ]
  },
  {
   "cell_type": "code",
   "execution_count": null,
   "metadata": {},
   "outputs": [],
   "source": [
    "cols = ['OBSERVATION_ID', 'IMAGE_CENTER_LATITUDE', 'IMAGE_CENTER_LONGITUDE', 'SOLAR_LONGITUDE', 'START_TIME',\n",
    "        'north_azimuth', '# of tiles']"
   ]
  },
  {
   "cell_type": "code",
   "execution_count": null,
   "metadata": {},
   "outputs": [],
   "source": [
    "df[cols].head()"
   ]
  },
  {
   "cell_type": "code",
   "execution_count": null,
   "metadata": {},
   "outputs": [],
   "source": [
    "fname = \"P4_catalog_v1.0_EDRINDEX_metadata.csv\"\n",
    "df.to_csv(rm.savefolder / fname, index=False)"
   ]
  },
  {
   "cell_type": "code",
   "execution_count": null,
   "metadata": {},
   "outputs": [],
   "source": [
    "rm.savefolder"
   ]
  },
  {
   "cell_type": "code",
   "execution_count": null,
   "metadata": {},
   "outputs": [],
   "source": [
    "import itertools\n",
    "import string \n",
    "\n",
    "# Adapt this prefix as a unique identifier of the dataset\n",
    "\n",
    "def fan_id_generator():\n",
    "    for newid in itertools.product(string.digits+'abcdef', repeat=6):\n",
    "        yield 'F' + ''.join(newid)\n",
    "\n",
    "def blotch_id_generator():\n",
    "    for newid in itertools.product(string.digits+'abcdef', repeat=6):\n",
    "        yield 'B' + ''.join(newid)"
   ]
  },
  {
   "cell_type": "code",
   "execution_count": null,
   "metadata": {},
   "outputs": [],
   "source": [
    "def add_marking_ids(path, fan_id, blotch_id):\n",
    "    \"\"\"Add marking_ids for catalog to cluster results.\n",
    "    \n",
    "    Parameters\n",
    "    ----------\n",
    "    path : str, pathlib.Path\n",
    "        Path to L1A image_id clustering result directory\n",
    "    fan_id, blotch_id : generator\n",
    "        Generator for marking_id\n",
    "    \"\"\"\n",
    "    image_id = path.parent.name\n",
    "    for kind, id_ in zip(['fans', 'blotches'], [fan_id, blotch_id]):\n",
    "        fname = str(path / f\"{image_id}_L1A_{kind}.csv\")\n",
    "        try:\n",
    "            df = pd.read_csv(fname)\n",
    "        except FileNotFoundError:\n",
    "            continue\n",
    "        else:\n",
    "            marking_ids = []\n",
    "            for i in range(df.shape[0]):\n",
    "                marking_ids.append(next(id_))\n",
    "            df['marking_id'] = marking_ids\n",
    "            df.to_csv(fname, index=False)"
   ]
  },
  {
   "cell_type": "code",
   "execution_count": null,
   "metadata": {},
   "outputs": [],
   "source": [
    "from tqdm import tqdm"
   ]
  },
  {
   "cell_type": "code",
   "execution_count": null,
   "metadata": {},
   "outputs": [],
   "source": [
    "obsids = rm.obsids"
   ]
  },
  {
   "cell_type": "code",
   "execution_count": null,
   "metadata": {},
   "outputs": [],
   "source": [
    "rm.launch_catalog_production()"
   ]
  },
  {
   "cell_type": "code",
   "execution_count": null,
   "metadata": {},
   "outputs": [],
   "source": [
    "rm.calc_metadata()"
   ]
  },
  {
   "cell_type": "code",
   "execution_count": null,
   "metadata": {},
   "outputs": [],
   "source": [
    "rm.calc_marking_coordinates()"
   ]
  },
  {
   "cell_type": "code",
   "execution_count": null,
   "metadata": {},
   "outputs": [],
   "source": [
    "rm.merge_all()"
   ]
  },
  {
   "cell_type": "code",
   "execution_count": null,
   "metadata": {},
   "outputs": [],
   "source": [
    "fan_id = fan_id_generator()\n",
    "blotch_id = blotch_id_generator()"
   ]
  },
  {
   "cell_type": "code",
   "execution_count": null,
   "metadata": {},
   "outputs": [],
   "source": [
    "from planet4.fnotching import fnotch_image_ids, apply_cut"
   ]
  },
  {
   "cell_type": "code",
   "execution_count": null,
   "metadata": {},
   "outputs": [],
   "source": [
    "for obsid in tqdm(obsids):\n",
    "    pm = io.PathManager(obsid=obsid, datapath=rm.savefolder)\n",
    "    paths = pm.get_obsid_paths('L1A')\n",
    "    for path in paths:\n",
    "        add_marking_ids(path, fan_id, blotch_id)"
   ]
  },
  {
   "cell_type": "code",
   "execution_count": null,
   "metadata": {},
   "outputs": [],
   "source": [
    "rm.catalog"
   ]
  },
  {
   "cell_type": "code",
   "execution_count": null,
   "metadata": {},
   "outputs": [],
   "source": [
    "for obsid in tqdm(obsids):\n",
    "    fnotch_image_ids(obsid, savedir=rm.catalog)\n",
    "    apply_cut(obsid, savedir=rm.catalog)"
   ]
  },
  {
   "cell_type": "code",
   "execution_count": null,
   "metadata": {},
   "outputs": [],
   "source": [
    "from planet4.catalog_production import create_roi_file"
   ]
  },
  {
   "cell_type": "code",
   "execution_count": null,
   "metadata": {},
   "outputs": [],
   "source": [
    "create_roi_file(obsids, rm.catalog, rm.catalog)"
   ]
  },
  {
   "cell_type": "code",
   "execution_count": null,
   "metadata": {},
   "outputs": [],
   "source": [
    "rm.get_metadata()"
   ]
  },
  {
   "cell_type": "code",
   "execution_count": null,
   "metadata": {},
   "outputs": [],
   "source": [
    "rm.merge_all()"
   ]
  },
  {
   "cell_type": "code",
   "execution_count": null,
   "metadata": {},
   "outputs": [],
   "source": [
    "fans = rm.read_fan_file()"
   ]
  },
  {
   "cell_type": "code",
   "execution_count": null,
   "metadata": {},
   "outputs": [],
   "source": [
    "fans.columns"
   ]
  },
  {
   "cell_type": "code",
   "execution_count": null,
   "metadata": {},
   "outputs": [],
   "source": [
    "blotches = rm.read_blotch_file()"
   ]
  },
  {
   "cell_type": "code",
   "execution_count": null,
   "metadata": {},
   "outputs": [],
   "source": [
    "blotches.columns"
   ]
  },
  {
   "cell_type": "code",
   "execution_count": null,
   "metadata": {},
   "outputs": [],
   "source": [
    "pd.read_csv(rm.metadata_path).columns"
   ]
  },
  {
   "cell_type": "code",
   "execution_count": null,
   "metadata": {},
   "outputs": [],
   "source": [
    "fans.vote_ratio.isna().value_counts()"
   ]
  },
  {
   "cell_type": "code",
   "execution_count": null,
   "metadata": {},
   "outputs": [],
   "source": [
    "fans.head()"
   ]
  },
  {
   "cell_type": "code",
   "execution_count": null,
   "metadata": {},
   "outputs": [],
   "source": [
    "rm.launch_catalog_production()"
   ]
  },
  {
   "cell_type": "markdown",
   "metadata": {
    "heading_collapsed": true
   },
   "source": [
    "# Debugging"
   ]
  },
  {
   "cell_type": "code",
   "execution_count": null,
   "metadata": {
    "hidden": true
   },
   "outputs": [],
   "source": [
    "from planet4.fnotching import get_clusters_in_path\n",
    "\n",
    "def find_bad_obsid(obsid, savedir):\n",
    "    pm = io.PathManager(obsid=obsid, datapath=savedir)\n",
    "    paths = pm.get_obsid_paths('L1A')\n",
    "    if len(paths) == 0:\n",
    "        logger.warning(\"No paths to fnotch found for %s\", obsid)\n",
    "    fans = []\n",
    "    blotches = []\n",
    "    for path in paths:\n",
    "        f, b = get_clusters_in_path(path)\n",
    "        fans.append(f)\n",
    "        blotches.append(b)\n",
    "    fans = pd.concat(fans, ignore_index=True)"
   ]
  },
  {
   "cell_type": "code",
   "execution_count": null,
   "metadata": {
    "hidden": true
   },
   "outputs": [],
   "source": [
    "folder"
   ]
  },
  {
   "cell_type": "code",
   "execution_count": null,
   "metadata": {
    "hidden": true
   },
   "outputs": [],
   "source": [
    "for obsid in obsids:\n",
    "    print(obsid)\n",
    "    find_bad_obsid(obsid, folder)"
   ]
  },
  {
   "cell_type": "code",
   "execution_count": null,
   "metadata": {
    "hidden": true
   },
   "outputs": [],
   "source": [
    "import holoviews as hv\n",
    "hv.notebook_extension()"
   ]
  },
  {
   "cell_type": "code",
   "execution_count": null,
   "metadata": {
    "hidden": true
   },
   "outputs": [],
   "source": [
    "from planet4.io import get_subframe"
   ]
  },
  {
   "cell_type": "code",
   "execution_count": null,
   "metadata": {
    "hidden": true
   },
   "outputs": [],
   "source": [
    "obsid = 'ESP_022273_0950'"
   ]
  },
  {
   "cell_type": "code",
   "execution_count": null,
   "metadata": {
    "hidden": true
   },
   "outputs": [],
   "source": [
    "data = db.get_image_name_markings(obsid)[['image_id', 'image_url']]"
   ]
  },
  {
   "cell_type": "code",
   "execution_count": null,
   "metadata": {
    "hidden": true
   },
   "outputs": [],
   "source": [
    "data.set_index('image_id', drop=True, inplace=True)"
   ]
  },
  {
   "cell_type": "code",
   "execution_count": null,
   "metadata": {
    "hidden": true
   },
   "outputs": [],
   "source": [
    "data.drop_duplicates(inplace=True)"
   ]
  },
  {
   "cell_type": "code",
   "execution_count": null,
   "metadata": {
    "hidden": true
   },
   "outputs": [],
   "source": [
    "def show_subframe(image_id):\n",
    "    img = get_subframe(data.loc[data.index[0]].values[0])\n",
    "    return hv.Raster(img)"
   ]
  },
  {
   "cell_type": "code",
   "execution_count": null,
   "metadata": {
    "hidden": true
   },
   "outputs": [],
   "source": [
    "%output size=150"
   ]
  },
  {
   "cell_type": "code",
   "execution_count": null,
   "metadata": {
    "hidden": true
   },
   "outputs": [],
   "source": [
    "%%opts Raster [xaxis=None, yaxis=None]\n",
    "show_subframe(data.index[0])+show_subframe(data.index[1])"
   ]
  },
  {
   "cell_type": "code",
   "execution_count": null,
   "metadata": {
    "hidden": true
   },
   "outputs": [],
   "source": [
    "dmap = hv.DynamicMap(show_subframe, kdims=['image_id'])\n",
    "dmap"
   ]
  },
  {
   "cell_type": "code",
   "execution_count": null,
   "metadata": {
    "hidden": true
   },
   "outputs": [],
   "source": [
    "dmap.redim.values(image_id=data.index.values)"
   ]
  },
  {
   "cell_type": "code",
   "execution_count": null,
   "metadata": {
    "hidden": true
   },
   "outputs": [],
   "source": [
    "xvals = np.linspace(-4,0,202)\n",
    "yvals = np.linspace(4,0,202)\n",
    "xs,ys = np.meshgrid(xvals, yvals)\n",
    "\n",
    "def waves_image(alpha, beta):\n",
    "    return hv.Image(np.sin(((ys/alpha)**alpha+beta)*xs))\n",
    "\n",
    "waves_image(0,0) + waves_image(0,4)"
   ]
  },
  {
   "cell_type": "code",
   "execution_count": null,
   "metadata": {
    "hidden": true
   },
   "outputs": [],
   "source": [
    "dmap = hv.DynamicMap(waves_image, kdims=['alpha', 'beta'])\n",
    "dmap"
   ]
  },
  {
   "cell_type": "code",
   "execution_count": null,
   "metadata": {
    "hidden": true
   },
   "outputs": [],
   "source": [
    "dmap[0,1] + dmap.select(alpha=1, beta=2)"
   ]
  },
  {
   "cell_type": "code",
   "execution_count": null,
   "metadata": {
    "hidden": true
   },
   "outputs": [],
   "source": [
    "dmap.redim.range(alpha=(0,5.0), beta=(1,5.0))"
   ]
  },
  {
   "cell_type": "code",
   "execution_count": null,
   "metadata": {
    "hidden": true
   },
   "outputs": [],
   "source": [
    "hv.__version__"
   ]
  },
  {
   "cell_type": "code",
   "execution_count": null,
   "metadata": {
    "hidden": true
   },
   "outputs": [],
   "source": [
    "for imgid in image_ids:\n",
    "    do_cluster_ids(imgid, \"without_large_fan_fnotch_on_p4_coords\" )"
   ]
  },
  {
   "cell_type": "code",
   "execution_count": null,
   "metadata": {
    "hidden": true
   },
   "outputs": [],
   "source": [
    "obsid = 'ESP_020930_0980'\n",
    "savedir = 'fnotching_per_obsid'"
   ]
  },
  {
   "cell_type": "code",
   "execution_count": null,
   "metadata": {
    "hidden": true
   },
   "outputs": [],
   "source": [
    "dbscanner = dbscan.DBScanner(savedir=savedir)"
   ]
  },
  {
   "cell_type": "code",
   "execution_count": null,
   "metadata": {
    "hidden": true
   },
   "outputs": [],
   "source": [
    "dbscanner.cluster_image_name(obsid)"
   ]
  },
  {
   "cell_type": "code",
   "execution_count": null,
   "metadata": {
    "hidden": true
   },
   "outputs": [],
   "source": [
    "pm.final_blotchfile"
   ]
  },
  {
   "cell_type": "code",
   "execution_count": null,
   "metadata": {
    "hidden": true
   },
   "outputs": [],
   "source": [
    "fnotching.fnotch_obsid(obsid, savedir=savedir)"
   ]
  },
  {
   "cell_type": "code",
   "execution_count": null,
   "metadata": {
    "hidden": true
   },
   "outputs": [],
   "source": [
    "fnotching.apply_cut_obsid(obsid, savedir=savedir)"
   ]
  },
  {
   "cell_type": "code",
   "execution_count": null,
   "metadata": {
    "hidden": true
   },
   "outputs": [],
   "source": []
  },
  {
   "cell_type": "code",
   "execution_count": null,
   "metadata": {
    "hidden": true
   },
   "outputs": [],
   "source": []
  },
  {
   "cell_type": "code",
   "execution_count": null,
   "metadata": {
    "hidden": true
   },
   "outputs": [],
   "source": [
    "data = region_data.Inca.season2 + region_data.Inca.season3"
   ]
  },
  {
   "cell_type": "code",
   "execution_count": null,
   "metadata": {
    "hidden": true
   },
   "outputs": [],
   "source": [
    "do_clustering(ithaca[0])"
   ]
  },
  {
   "cell_type": "code",
   "execution_count": null,
   "metadata": {
    "hidden": true
   },
   "outputs": [],
   "source": [
    "ithaca[0]"
   ]
  },
  {
   "cell_type": "code",
   "execution_count": null,
   "metadata": {
    "hidden": true
   },
   "outputs": [],
   "source": [
    "from nbtools import execute_in_parallel"
   ]
  },
  {
   "cell_type": "code",
   "execution_count": null,
   "metadata": {
    "hidden": true
   },
   "outputs": [],
   "source": [
    "result = execute_in_parallel(do_clustering, data)"
   ]
  },
  {
   "cell_type": "markdown",
   "metadata": {},
   "source": [
    "# Creating obsid files"
   ]
  },
  {
   "cell_type": "code",
   "execution_count": null,
   "metadata": {},
   "outputs": [],
   "source": [
    "from planet4.fnotching import get_clusters_in_path"
   ]
  },
  {
   "cell_type": "code",
   "execution_count": null,
   "metadata": {},
   "outputs": [],
   "source": [
    "pm = io.PathManager(obsid=roi.seasons[0], datapath=folder)"
   ]
  },
  {
   "cell_type": "code",
   "execution_count": null,
   "metadata": {},
   "outputs": [],
   "source": [
    "pm.obsid_final_blotches_path"
   ]
  },
  {
   "cell_type": "code",
   "execution_count": null,
   "metadata": {},
   "outputs": [],
   "source": [
    "from planet4.catalog_production import create_roi_file"
   ]
  },
  {
   "cell_type": "code",
   "execution_count": null,
   "metadata": {},
   "outputs": [],
   "source": [
    "savedir"
   ]
  },
  {
   "cell_type": "code",
   "execution_count": null,
   "metadata": {},
   "outputs": [],
   "source": [
    "create_roi_file(obsids, 'catalog', savedir)"
   ]
  },
  {
   "cell_type": "code",
   "execution_count": null,
   "metadata": {},
   "outputs": [],
   "source": [
    "pm = io.PathManager(obsid=obsids[0], datapath=savedir)"
   ]
  },
  {
   "cell_type": "code",
   "execution_count": null,
   "metadata": {},
   "outputs": [],
   "source": [
    "folders = pm.get_obsid_paths('L1C')"
   ]
  },
  {
   "cell_type": "code",
   "execution_count": null,
   "metadata": {},
   "outputs": [],
   "source": [
    "from planet4.catalog_production import read_csvfiles_into_lists_of_frames, concat_bucket_lists"
   ]
  },
  {
   "cell_type": "code",
   "execution_count": null,
   "metadata": {},
   "outputs": [],
   "source": [
    "bucket.items()"
   ]
  },
  {
   "cell_type": "code",
   "execution_count": null,
   "metadata": {},
   "outputs": [],
   "source": []
  },
  {
   "cell_type": "code",
   "execution_count": null,
   "metadata": {},
   "outputs": [],
   "source": [
    "roi.available_seasons"
   ]
  },
  {
   "cell_type": "code",
   "execution_count": null,
   "metadata": {},
   "outputs": [],
   "source": [
    "folder"
   ]
  },
  {
   "cell_type": "code",
   "execution_count": null,
   "metadata": {},
   "outputs": [],
   "source": [
    "def create_roi_file_with_seasons(roi, datapath, copy_to_analysis=True):\n",
    "    Fans = []\n",
    "    Blotches = []\n",
    "    for season in roi.available_seasons:\n",
    "        print(season)\n",
    "        # keep lower case marking objects to add season column later\n",
    "        fans = []\n",
    "        blotches = []\n",
    "        for obsid in getattr(roi, season):\n",
    "            print(obsid)\n",
    "            pm = io.PathManager(obsid=obsid, datapath=datapath)\n",
    "            fans.append(pm.final_fandf)\n",
    "            blotches.append(pm.final_blotchdf)\n",
    "\n",
    "        fans = pd.concat(fans, ignore_index=True)\n",
    "        fans['season'] = season\n",
    "        Fans.append(fans)\n",
    "    \n",
    "        blotches = pd.concat(blotches, ignore_index=True)\n",
    "        blotches['season'] = season\n",
    "        Blotches.append(blotches)\n",
    "        \n",
    "    Fans = pd.concat(Fans, ignore_index=True)\n",
    "    Blotches = pd.concat(Blotches, ignore_index=True)\n",
    "    savedir = pm.path_so_far.parent\n",
    "    for marks in ['Fans', 'Blotches']:\n",
    "        savename = f\"{roi.name}_{pm.L1C_folder}_{marks}.csv\"\n",
    "        savepath = savedir / savename\n",
    "        obj = eval(marks)  # get handle to the fan or blotch object\n",
    "        obj = obj.dropna(how='all', axis=1)\n",
    "        obj.to_csv(savepath, index=False)\n",
    "        if copy_to_analysis is True:\n",
    "            savefolder = io.analysis_folder() / folder / f\"{roi.name.lower()}\"\n",
    "            savefolder.mkdir(exist_ok=True)\n",
    "            savepath = savefolder / savename\n",
    "            obj.to_csv(savepath, index=False)"
   ]
  },
  {
   "cell_type": "code",
   "execution_count": null,
   "metadata": {},
   "outputs": [],
   "source": [
    "create_roi_file_with_seasons(roi, folder)"
   ]
  },
  {
   "cell_type": "code",
   "execution_count": null,
   "metadata": {},
   "outputs": [],
   "source": [
    "def create_obsid_result_files(obsid, datapath=None):\n",
    "#     logger.debug(\"Working on %s\", obsid)\n",
    "    pm = io.PathManager(obsid=obsid, datapath=datapath)\n",
    "    # the pm.get_obsid_paths method searches for existing image_id folders inside each\n",
    "    # obsid folder\n",
    "    folders = list(pm.get_obsid_paths(pm.L1C_folder))\n",
    "    blotches = []\n",
    "    fans = []\n",
    "    for folder in folders:\n",
    "        pm.id = fnotching.get_id_from_path(folder)\n",
    "        if pm.final_blotchfile.exists() and pm.final_blotchfile.lstat().st_size > 1:\n",
    "            blotches.append(pm.final_blotchdf)\n",
    "        if pm.final_fanfile.exists() and pm.final_fanfile.lstat().st_size > 1:\n",
    "            fans.append(pm.final_fandf)\n",
    "\n",
    "    if len(blotches) > 0:\n",
    "        blotches = pd.concat(blotches, ignore_index=True)\n",
    "        blotches.dropna(how='all', axis=1, inplace=True)\n",
    "        blotches.to_csv(pm.obsid_final_blotches_path, index=False)\n",
    "        print(\"Created\", pm.obsid_final_blotches_path)\n",
    "\n",
    "    if len(fans) > 0:\n",
    "        fans = pd.concat(fans, ignore_index=True)\n",
    "        fans.dropna(how='all', axis=1, inplace=True)\n",
    "        fans.to_csv(pm.obsid_final_fans_path, index=False)\n",
    "        print(\"Created\", pm.obsid_final_fans_path)"
   ]
  },
  {
   "cell_type": "code",
   "execution_count": null,
   "metadata": {},
   "outputs": [],
   "source": [
    "for obsid in data:\n",
    "    create_obsid_result_files(obsid, datapath='for_chase')"
   ]
  },
  {
   "cell_type": "code",
   "execution_count": null,
   "metadata": {},
   "outputs": [],
   "source": [
    "region = getattr(region_data, name)\n",
    "for season_no in [2, 3]:\n",
    "    season = str(season_no)\n",
    "    bucket = []\n",
    "    for obsid in getattr(region, f\"season{season}\"):\n",
    "        pm = io.PathManager(obsid=obsid)\n",
    "        df = pd.read_csv(pm.obsid_final_blotches_path)\n",
    "        df['obsid'] = obsid\n",
    "        bucket.append(df)\n",
    "\n",
    "    df = pd.concat(bucket, ignore_index=True)\n",
    "    df.to_csv(io.analysis_folder() / f\"p4_catalog/{name}_season{season}_blotches.csv\",\n",
    "              index=False)"
   ]
  },
  {
   "cell_type": "code",
   "execution_count": null,
   "metadata": {},
   "outputs": [],
   "source": [
    "store_folder = io.analysis_folder() / 'for_chase'\n",
    "store_folder.mkdir(exist_ok=True)"
   ]
  },
  {
   "cell_type": "code",
   "execution_count": null,
   "metadata": {},
   "outputs": [],
   "source": [
    "name = 'inca'"
   ]
  },
  {
   "cell_type": "code",
   "execution_count": null,
   "metadata": {},
   "outputs": [],
   "source": [
    "p = Path('/Users/klay6683/Dropbox/data/planet4/for_chase/' + name)\n",
    "for kind in ['blotches', 'fans']:\n",
    "    bucket = []\n",
    "    filepaths = p.glob(f'*_{kind}.csv')\n",
    "    for filepath in filepaths:\n",
    "        obsid = filepath.name[:15]\n",
    "        df = pd.read_csv(filepath)\n",
    "        df['obsid'] = obsid\n",
    "        bucket.append(df)\n",
    "    df = pd.concat(bucket, ignore_index=True)\n",
    "    savedir = store_folder / f'{name}'\n",
    "    savedir.mkdir(exist_ok=True)\n",
    "    savepath = savedir / f\"{name}_{kind}.csv\"\n",
    "    print(savepath)\n",
    "    df.to_csv(savepath, index=False)\n",
    "        "
   ]
  },
  {
   "cell_type": "code",
   "execution_count": null,
   "metadata": {},
   "outputs": [],
   "source": []
  }
 ],
 "metadata": {
  "anaconda-cloud": {},
  "kernelspec": {
   "display_name": "Python [conda env:py37] *",
   "language": "python",
   "name": "conda-env-py37-py"
  },
  "language_info": {
   "codemirror_mode": {
    "name": "ipython",
    "version": 3
   },
   "file_extension": ".py",
   "mimetype": "text/x-python",
   "name": "python",
   "nbconvert_exporter": "python",
   "pygments_lexer": "ipython3",
   "version": "3.7.3"
  },
  "latex_envs": {
   "LaTeX_envs_menu_present": true,
   "autocomplete": true,
   "bibliofile": "biblio.bib",
   "cite_by": "apalike",
   "current_citInitial": 1,
   "eqLabelWithNumbers": true,
   "eqNumInitial": 1,
   "hotkeys": {
    "equation": "Ctrl-E",
    "itemize": "Ctrl-I"
   },
   "labels_anchors": false,
   "latex_user_defs": false,
   "report_style_numbering": false,
   "user_envs_cfg": false
  },
  "toc": {
   "base_numbering": 1,
   "nav_menu": {
    "height": "48px",
    "width": "252px"
   },
   "number_sections": false,
   "sideBar": false,
   "skip_h1_title": false,
   "title_cell": "Table of Contents",
   "title_sidebar": "Contents",
   "toc_cell": false,
   "toc_position": {
    "height": "134px",
    "left": "786.59375px",
    "right": "20px",
    "top": "70px",
    "width": "183px"
   },
   "toc_section_display": "block",
   "toc_window_display": false
  },
  "varInspector": {
   "cols": {
    "lenName": 16,
    "lenType": 16,
    "lenVar": 40
   },
   "kernels_config": {
    "python": {
     "delete_cmd_postfix": "",
     "delete_cmd_prefix": "del ",
     "library": "var_list.py",
     "varRefreshCmd": "print(var_dic_list())"
    },
    "r": {
     "delete_cmd_postfix": ") ",
     "delete_cmd_prefix": "rm(",
     "library": "var_list.r",
     "varRefreshCmd": "cat(var_dic_list()) "
    }
   },
   "types_to_exclude": [
    "module",
    "function",
    "builtin_function_or_method",
    "instance",
    "_Feature"
   ],
   "window_display": false
  },
  "widgets": {
   "application/vnd.jupyter.widget-state+json": {
    "state": {},
    "version_major": 2,
    "version_minor": 0
   }
  }
 },
 "nbformat": 4,
 "nbformat_minor": 4
}
