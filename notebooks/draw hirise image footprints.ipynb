{
 "cells": [
  {
   "cell_type": "code",
   "execution_count": null,
   "metadata": {
    "collapsed": false
   },
   "outputs": [],
   "source": [
    "from hirise.indexfiles import PolyPlotter\n",
    "from hirise import pyrise as ht"
   ]
  },
  {
   "cell_type": "code",
   "execution_count": null,
   "metadata": {
    "collapsed": true
   },
   "outputs": [],
   "source": [
    "from planet4 import region_data, io"
   ]
  },
  {
   "cell_type": "code",
   "execution_count": null,
   "metadata": {
    "collapsed": true
   },
   "outputs": [],
   "source": [
    "%matplotlib inline"
   ]
  },
  {
   "cell_type": "code",
   "execution_count": null,
   "metadata": {
    "collapsed": false
   },
   "outputs": [],
   "source": [
    "plotter = PolyPlotter()"
   ]
  },
  {
   "cell_type": "code",
   "execution_count": null,
   "metadata": {
    "collapsed": false,
    "scrolled": false
   },
   "outputs": [],
   "source": [
    "missing = []\n",
    "regions = ['Inca','Ithaca','Giza','Manhattan2']\n",
    "seasons = ['season1', 'season2', 'season3', 'season4']\n",
    "colors = ['blue', 'green','red', 'black']\n",
    "for region in regions:\n",
    "    reg = getattr(region_data, region)\n",
    "    fig, ax = plt.subplots()\n",
    "    ax.set_title('{}'.format(region))\n",
    "    handels = []\n",
    "    labels = []\n",
    "    for season,c in zip(seasons, colors):\n",
    "        try:\n",
    "            seas = getattr(reg, season)\n",
    "        except AttributeError as e:\n",
    "            print(e)\n",
    "            continue\n",
    "        for img in seas:\n",
    "            try:\n",
    "                plotter.plot_prodid(img+'_COLOR', ax=ax, color=c, linewidth=1, alpha=0.5)\n",
    "            except KeyError as e:\n",
    "                print(e)\n",
    "                missing.append(img+'+_COLOR')\n",
    "    patches = [plt.Line2D((0,1),(0,0), color=c) for c in colors]\n",
    "    ax.legend(patches, seasons)\n",
    "    savename = ht.hirise_dropbox() / \"{}_polygons.pdf\".format(region)\n",
    "    fig.savefig(str(savename))"
   ]
  },
  {
   "cell_type": "code",
   "execution_count": null,
   "metadata": {
    "collapsed": true
   },
   "outputs": [],
   "source": [
    "ax.legend?"
   ]
  },
  {
   "cell_type": "code",
   "execution_count": null,
   "metadata": {
    "collapsed": true
   },
   "outputs": [],
   "source": []
  }
 ],
 "metadata": {
  "kernelspec": {
   "display_name": "Python3 (stable)",
   "language": "python",
   "name": "stable"
  },
  "language_info": {
   "codemirror_mode": {
    "name": "ipython",
    "version": 3
   },
   "file_extension": ".py",
   "mimetype": "text/x-python",
   "name": "python",
   "nbconvert_exporter": "python",
   "pygments_lexer": "ipython3",
   "version": "3.5.1"
  }
 },
 "nbformat": 4,
 "nbformat_minor": 0
}
