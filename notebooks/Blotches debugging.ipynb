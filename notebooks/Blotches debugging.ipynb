{
 "cells": [
  {
   "cell_type": "code",
   "execution_count": null,
   "metadata": {},
   "outputs": [],
   "source": [
    "%matplotlib nbagg"
   ]
  },
  {
   "cell_type": "code",
   "execution_count": null,
   "metadata": {},
   "outputs": [],
   "source": [
    "from planet4 import markings"
   ]
  },
  {
   "cell_type": "code",
   "execution_count": null,
   "metadata": {},
   "outputs": [],
   "source": [
    "id_ = 'bvc'\n",
    "p4id = markings.ImageID(id_, scope='planet4')"
   ]
  },
  {
   "cell_type": "markdown",
   "metadata": {},
   "source": [
    "## 4 ways to describe the same ellipse\n",
    "Below I create the same ellipse 4 times just offset in `x` for display.\n",
    "The differences are the 180 degree symmetry for any ellipse, plus a 90 degree symmetry when semi-major and -minor are exchanged."
   ]
  },
  {
   "cell_type": "code",
   "execution_count": null,
   "metadata": {},
   "outputs": [],
   "source": [
    "d = dict(x=[280, 300, 320, 340], y=4*[300],\n",
    "               angle=[85, 265, 175, -5],\n",
    "               radius_1=[200, 200, 30, 30],\n",
    "               radius_2=[30, 30, 200, 200])"
   ]
  },
  {
   "cell_type": "code",
   "execution_count": null,
   "metadata": {},
   "outputs": [],
   "source": [
    "df = pd.DataFrame(d)"
   ]
  },
  {
   "cell_type": "code",
   "execution_count": null,
   "metadata": {},
   "outputs": [],
   "source": [
    "p4id.plot_blotches(blotches=df, lw=2)"
   ]
  },
  {
   "cell_type": "markdown",
   "metadata": {},
   "source": [
    "What happened a while ago is that we realized one symmetry, but not the other. I then implemented an angle normalization like this:"
   ]
  },
  {
   "cell_type": "code",
   "execution_count": null,
   "metadata": {},
   "outputs": [],
   "source": [
    "df = df.assign(angle_new=df.angle%180)\n",
    "df"
   ]
  },
  {
   "cell_type": "markdown",
   "metadata": {},
   "source": [
    "This created the issue that the angles are now distributed with 180 degree difference, while the radii still were not sorted (some have radius_1 > radius_2, some the opposite).\n",
    "\n",
    "For the 90 degree symmetry, we realized that we can normalize by sorting by radius and adding 90 degree, in case a swap was required:"
   ]
  },
  {
   "cell_type": "code",
   "execution_count": null,
   "metadata": {},
   "outputs": [],
   "source": [
    "def normalize_radii(df, angle_col='angle'):\n",
    "    data = df.copy()\n",
    "    idx = data.radius_1 < data.radius_2\n",
    "    col_orig = ['radius_1','radius_2']\n",
    "    col_reversed = list(reversed(col_orig))\n",
    "    data.loc[idx, col_orig] = data.loc[idx, col_reversed].values\n",
    "    data.loc[idx, angle_col] -= 90\n",
    "    return data"
   ]
  },
  {
   "cell_type": "code",
   "execution_count": null,
   "metadata": {},
   "outputs": [],
   "source": [
    "normed = normalize_radii(df, 'angle')\n",
    "normed"
   ]
  },
  {
   "cell_type": "markdown",
   "metadata": {},
   "source": [
    "Applying the 180 degree normalization at this point should provide us with normalized ellipses, that can be clustered together:"
   ]
  },
  {
   "cell_type": "code",
   "execution_count": null,
   "metadata": {},
   "outputs": [],
   "source": [
    "normed.angle = normed.angle % 180"
   ]
  },
  {
   "cell_type": "code",
   "execution_count": null,
   "metadata": {},
   "outputs": [],
   "source": [
    "normed"
   ]
  },
  {
   "cell_type": "markdown",
   "metadata": {},
   "source": [
    "## Testing thoroughly though...\n",
    "To test this repair more thoroughly, I create all 4 identical ellipses for 3 slightly offset-drawn ellipses, each for a blotch with semi-major axis around 0, around 45 degree and around 90, where I presume mathematical issues could occur.\n",
    "\n",
    "Hence I will create 4 blotches for a -2, 4 for a 0 and 4 for a +2 alignment, and after correction, they should all show the same angle.\n",
    "Same for the blotches at 45 and 90 degrees angle."
   ]
  },
  {
   "cell_type": "code",
   "execution_count": null,
   "metadata": {},
   "outputs": [],
   "source": [
    "x=[280, 300, 320, 340]\n",
    "y=4*[300]\n",
    "angle=[85, 265, 175, -5]\n",
    "radius_1=[200, 200, 30, 30]\n",
    "radius_2=[30, 30, 200, 200]"
   ]
  },
  {
   "cell_type": "code",
   "execution_count": null,
   "metadata": {},
   "outputs": [],
   "source": [
    "angle_groups = [[-2,0,2], [43,45,47],[88,90, 92]]\n",
    "y_loc = [500, 300, 100]\n",
    "x_loc = 300"
   ]
  },
  {
   "cell_type": "code",
   "execution_count": null,
   "metadata": {},
   "outputs": [],
   "source": [
    "x = []\n",
    "y = []\n",
    "angle = []\n",
    "rads1 = []\n",
    "rads2 = []\n",
    "for g, y_avg in zip(angle_groups, y_loc): \n",
    "    for angle_val in g:\n",
    "        for offset,r1, r2 in zip([0, 180, 90, -90,], radius_1, radius_2):\n",
    "            x.append(300+np.random.randint(-5,5))\n",
    "            y.append(y_avg+np.random.randint(-5,5))\n",
    "            angle.append(angle_val+offset)\n",
    "            rads1.append(r1)\n",
    "            rads2.append(r2)"
   ]
  },
  {
   "cell_type": "code",
   "execution_count": null,
   "metadata": {},
   "outputs": [],
   "source": [
    "df = pd.DataFrame(dict(x=x, y=y, angle=angle, radius_1=rads1,\n",
    "                       radius_2=rads2))"
   ]
  },
  {
   "cell_type": "code",
   "execution_count": null,
   "metadata": {},
   "outputs": [],
   "source": [
    "df"
   ]
  },
  {
   "cell_type": "code",
   "execution_count": null,
   "metadata": {},
   "outputs": [],
   "source": [
    "p4id.plot_blotches(blotches=df, lw=2)"
   ]
  },
  {
   "cell_type": "code",
   "execution_count": null,
   "metadata": {},
   "outputs": [],
   "source": [
    "normed = normalize_radii(df)"
   ]
  },
  {
   "cell_type": "markdown",
   "metadata": {},
   "source": [
    "Plotting normalized angles, one can see that all ellipses are still the same."
   ]
  },
  {
   "cell_type": "code",
   "execution_count": null,
   "metadata": {},
   "outputs": [],
   "source": [
    "p4id.plot_blotches(blotches=normed, lw=2)"
   ]
  },
  {
   "cell_type": "code",
   "execution_count": null,
   "metadata": {},
   "outputs": [],
   "source": [
    "df.angle.values"
   ]
  },
  {
   "cell_type": "code",
   "execution_count": null,
   "metadata": {},
   "outputs": [],
   "source": [
    "normed.angle.values"
   ]
  },
  {
   "cell_type": "markdown",
   "metadata": {},
   "source": [
    "Doing a module operation on the radius-normalized angles solves almost everything, apart from the case around 0, where I would like to have 178 to be -2 (which of course can't be done using a module):"
   ]
  },
  {
   "cell_type": "code",
   "execution_count": null,
   "metadata": {},
   "outputs": [],
   "source": [
    "(normed.angle % 180).values"
   ]
  },
  {
   "cell_type": "markdown",
   "metadata": {},
   "source": [
    "After long deliberation and wasting Anya's afternoon as well, I came to the conclusion that clustering on the sine value of the angle is actually okay. (And I already realised that after/during Taiwan meeting, but did not have the full radius-based angle normalization in place then!)"
   ]
  },
  {
   "cell_type": "code",
   "execution_count": null,
   "metadata": {},
   "outputs": [],
   "source": [
    "np.sin(np.deg2rad(normed.angle%180)).values"
   ]
  },
  {
   "cell_type": "markdown",
   "metadata": {},
   "source": [
    "Below, the three sets of blotches are clustering at 3 different locations in sine-space."
   ]
  },
  {
   "cell_type": "code",
   "execution_count": null,
   "metadata": {},
   "outputs": [],
   "source": [
    "input_angles = (normed.angle%180)\n",
    "y = np.sin(np.deg2rad(input_angles))\n",
    "plt.figure();\n",
    "plt.scatter(y, np.zeros_like(x));"
   ]
  },
  {
   "cell_type": "markdown",
   "metadata": {},
   "source": [
    "Afterwards, having the indexes of what clustered together, I will be using the **ORIGINAL** angles of the clustered blotches for the average creation.\n",
    "\n",
    "Fortunately, the `circmean` function can be told, what the wrap-around value is, so that will be 180 for blotch angles, and 360 for fans."
   ]
  },
  {
   "cell_type": "code",
   "execution_count": null,
   "metadata": {},
   "outputs": [],
   "source": [
    "from scipy.stats import circmean"
   ]
  },
  {
   "cell_type": "code",
   "execution_count": null,
   "metadata": {},
   "outputs": [],
   "source": [
    "# this averages the first 12 objects that jitter around 0,\n",
    "# so the average should be 0.\n",
    "circmean(normed.angle[0:12]%180, high=180).round()"
   ]
  }
 ],
 "metadata": {
  "anaconda-cloud": {},
  "kernelspec": {
   "display_name": "Python [conda env:stable]",
   "language": "python",
   "name": "conda-env-stable-py"
  },
  "language_info": {
   "codemirror_mode": {
    "name": "ipython",
    "version": 3
   },
   "file_extension": ".py",
   "mimetype": "text/x-python",
   "name": "python",
   "nbconvert_exporter": "python",
   "pygments_lexer": "ipython3",
   "version": "3.5.2"
  }
 },
 "nbformat": 4,
 "nbformat_minor": 1
}
