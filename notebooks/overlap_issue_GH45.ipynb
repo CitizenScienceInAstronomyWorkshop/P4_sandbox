{
 "cells": [
  {
   "cell_type": "markdown",
   "metadata": {
    "toc": true
   },
   "source": [
    "<h1>Table of Contents<span class=\"tocSkip\"></span></h1>\n",
    "<div class=\"toc\" style=\"margin-top: 1em;\"><ul class=\"toc-item\"><li><span><a href=\"#Copying-results-into-right-folder.\" data-toc-modified-id=\"Copying-results-into-right-folder.-1\"><span class=\"toc-item-num\">1&nbsp;&nbsp;</span>Copying results into right folder.</a></span></li><li><span><a href=\"#Comparing-stuff\" data-toc-modified-id=\"Comparing-stuff-2\"><span class=\"toc-item-num\">2&nbsp;&nbsp;</span>Comparing stuff</a></span></li></ul></div>"
   ]
  },
  {
   "cell_type": "code",
   "execution_count": null,
   "metadata": {},
   "outputs": [],
   "source": [
    "from pathlib import Path\n",
    "from planet4 import clustering, io, markings, region_data"
   ]
  },
  {
   "cell_type": "code",
   "execution_count": null,
   "metadata": {},
   "outputs": [],
   "source": [
    "# At the beginning of the notebook\n",
    "import logging\n",
    "logger = logging.getLogger()\n",
    "assert len(logger.handlers) == 1\n",
    "logger.addHandler(logging.StreamHandler())\n",
    "handler = logger.handlers[1]\n",
    "handler.setLevel(logging.DEBUG)"
   ]
  },
  {
   "cell_type": "code",
   "execution_count": null,
   "metadata": {},
   "outputs": [],
   "source": [
    "obsid = 'ESP_011394_0935'\n",
    "#obsid = 'ESP_012821_0865'"
   ]
  },
  {
   "cell_type": "code",
   "execution_count": null,
   "metadata": {},
   "outputs": [],
   "source": [
    "obsids = region_data.Inca.season2"
   ]
  },
  {
   "cell_type": "code",
   "execution_count": null,
   "metadata": {},
   "outputs": [],
   "source": [
    "def do_parallel_hirise_scope(obsid):\n",
    "    from planet4 import clustering, io\n",
    "    path = io.p4data() / ('overlap_issue_GH45/hirise_level/' + obsid)\n",
    "    path.mkdir(exist_ok=True, parents=True)\n",
    "    cm = clustering.ClusteringManager(output_dir=path, scope='hirise')\n",
    "    cm.cluster_image_name(obsid)\n",
    "    return cm"
   ]
  },
  {
   "cell_type": "code",
   "execution_count": null,
   "metadata": {},
   "outputs": [],
   "source": [
    "cm = do_parallel_hirise_scope(obsid)"
   ]
  },
  {
   "cell_type": "code",
   "execution_count": null,
   "metadata": {},
   "outputs": [],
   "source": [
    "from pathlib import Path\n",
    "root = io.dropbox()\n",
    "fname = root / \"overlap_issue_GH45/hirise_level/ESP_011394_0935/applied_cut_0.5/\""
   ]
  },
  {
   "cell_type": "code",
   "execution_count": null,
   "metadata": {},
   "outputs": [],
   "source": []
  },
  {
   "cell_type": "code",
   "execution_count": null,
   "metadata": {},
   "outputs": [],
   "source": []
  },
  {
   "cell_type": "code",
   "execution_count": null,
   "metadata": {},
   "outputs": [],
   "source": [
    "from ipyparallel import Client\n",
    "c = Client()\n",
    "\n",
    "dview = c.direct_view()\n",
    "\n",
    "lbview = c.load_balanced_view()"
   ]
  },
  {
   "cell_type": "code",
   "execution_count": null,
   "metadata": {},
   "outputs": [],
   "source": [
    "from nbtools import display_multi_progress"
   ]
  },
  {
   "cell_type": "code",
   "execution_count": null,
   "metadata": {},
   "outputs": [],
   "source": [
    "results = lbview.map_async(do_parallel_hirise_scope, obsids)"
   ]
  },
  {
   "cell_type": "code",
   "execution_count": null,
   "metadata": {},
   "outputs": [],
   "source": [
    "display_multi_progress(results, obsids)"
   ]
  },
  {
   "cell_type": "code",
   "execution_count": null,
   "metadata": {},
   "outputs": [],
   "source": [
    "db = io.DBManager()\n",
    "\n",
    "data = db.get_image_name_markings(obsid)\n",
    "\n",
    "image_ids = data.image_id.unique()"
   ]
  },
  {
   "cell_type": "code",
   "execution_count": null,
   "metadata": {},
   "outputs": [],
   "source": [
    "def do_in_parallel_p4scope(obsid):\n",
    "    from pathlib import Path\n",
    "    from planet4 import clustering, io\n",
    "\n",
    "    db = io.DBManager()\n",
    "    data = db.get_image_name_markings(obsid)\n",
    "    image_ids = data.image_id.unique()\n",
    "    \n",
    "    path = io.p4data() / ('overlap_issue_GH45/p4_level_p4_coords/' + obsid)\n",
    "    path.mkdir(exist_ok=True, parents=True)\n",
    "    cm = clustering.ClusteringManager(output_dir=path, scope='planet4',\n",
    "                                 include_angle=True, include_distance=False, \n",
    "                                 include_radius=False, eps=10, min_distance=10)\n",
    "    try:\n",
    "        for image_id in image_ids:\n",
    "            cm.cluster_image_id(image_id)\n",
    "    except:\n",
    "        return obsid, False\n",
    "    else:\n",
    "        return obsid, True"
   ]
  },
  {
   "cell_type": "code",
   "execution_count": null,
   "metadata": {},
   "outputs": [],
   "source": [
    "results = lbview.map_async(do_in_parallel_p4scope, obsids)"
   ]
  },
  {
   "cell_type": "code",
   "execution_count": null,
   "metadata": {},
   "outputs": [],
   "source": [
    "display_multi_progress(results, obsids)"
   ]
  },
  {
   "cell_type": "markdown",
   "metadata": {},
   "source": [
    "## Copying results into right folder.\n"
   ]
  },
  {
   "cell_type": "code",
   "execution_count": null,
   "metadata": {},
   "outputs": [],
   "source": [
    "import shutil\n",
    "\n",
    "targetpath = Path('/Users/klay6683/Dropbox/data/planet4/p4_analysis/inca_s23_redone')\n",
    "for obsid in region_data.Inca.season2 + region_data.Inca.season3:\n",
    "    path = io.p4data() / 'overlap_issue_GH45/hirise_level/' / obsid / 'applied_cut_0.5'\n",
    "    for f in path.glob('*.csv'):\n",
    "        src = path / f\n",
    "        dst = targetpath / src.name\n",
    "        shutil.copy2(str(src), str(dst))"
   ]
  },
  {
   "cell_type": "code",
   "execution_count": null,
   "metadata": {},
   "outputs": [],
   "source": []
  },
  {
   "cell_type": "code",
   "execution_count": null,
   "metadata": {},
   "outputs": [],
   "source": []
  },
  {
   "cell_type": "code",
   "execution_count": null,
   "metadata": {},
   "outputs": [],
   "source": []
  },
  {
   "cell_type": "markdown",
   "metadata": {},
   "source": [
    "## Comparing stuff"
   ]
  },
  {
   "cell_type": "code",
   "execution_count": null,
   "metadata": {},
   "outputs": [],
   "source": [
    "class Comparer(object):\n",
    "    markings = ['fans','blotches','fnotches']\n",
    "    root = io.p4data() / 'overlap_issue_GH45'\n",
    "    \n",
    "    def __init__(self, path, fnotched=True):\n",
    "        if fnotched is True:\n",
    "            self.path = self.root / path\n",
    "        else:\n",
    "            self.path = self.root / path / 'just_clustering'\n",
    "        \n",
    "    @property\n",
    "    def blotches_iter(self):\n",
    "        return self.path.glob(\"*_blotches.csv\")\n",
    "    \n",
    "    @property\n",
    "    def fans_iter(self):\n",
    "        return self.path.glob(\"*_fans.csv\")\n",
    "\n",
    "    @property\n",
    "    def fnotches_iter(self):\n",
    "        return self.path.glob('*_fnotches.csv')\n",
    "            \n",
    "    def get_counts(self, theiter):\n",
    "        return sum([len(pd.read_csv(str(f))) for f in theiter])\n",
    "\n",
    "    @property\n",
    "    def n_blotches(self):\n",
    "        return self.get_counts(self.blotches_iter)\n",
    "    \n",
    "    @property\n",
    "    def n_fans(self):\n",
    "        return self.get_counts(self.fans_iter)\n",
    "    \n",
    "    @property\n",
    "    def n_fnotches(self):\n",
    "        return self.get_length(self.fnotches_iter)\n",
    "\n",
    "    @property\n",
    "    def n_total(self):\n",
    "        return self.blotches_lengths + self.fans_lengths + self.fnotches_lengths\n",
    "    \n",
    "    def __repr__(self):\n",
    "        s = \"Blotches: {}\\n\".format(self.blotches_lengths)\n",
    "        s += \"Fan: {}\\n\".format(self.fans_lengths)\n",
    "        s += \"Fnotches: {}\\n\".format(self.fnotches_lengths)\n",
    "        s += \"Total: {}\".format(self.n_total)\n",
    "        return s\n",
    "        \n",
    "    def __str__(self):\n",
    "        return self.__repr__()\n",
    "    \n",
    "    def read_dataframes(self, marking, as_df=True):\n",
    "        res = [pd.read_csv(str(p)) for p in self.path.glob('*_{}.csv'.format(marking))]\n",
    "        return pd.concat(res) if as_df else res\n",
    "    \n",
    "    def read_combined_df(self):\n",
    "        combine_all = []\n",
    "        for marking in self.markings:\n",
    "            to_combine = read_dataframes(marking)\n",
    "            combine_all.append(to_combine)\n",
    "        all_combined = pd.concat(combine_all)\n",
    "        return all_combined\n",
    "\n",
    "\n",
    "class HiRISEComparer(Comparer):\n",
    "    root = io.p4data() / 'overlap_issue_GH45/hirise_level/'\n",
    "\n",
    "    \n",
    "class P4Comparer(Comparer):\n",
    "    root = io.p4data() / 'overlap_issue_GH45/p4_level_p4_coords'"
   ]
  },
  {
   "cell_type": "code",
   "execution_count": null,
   "metadata": {},
   "outputs": [],
   "source": [
    "def compare_per_obsid(obsid):\n",
    "    print(obsid)\n",
    "    hicomp = HiRISEComparer(obsid)\n",
    "    p4comp = P4Comparer(obsid)\n",
    "    b_r = p4comp.blotches_lengths / hicomp.blotches_lengths\n",
    "    f_r = p4comp.fans_lengths / hicomp.fans_lengths\n",
    "    fn_r = p4comp.fnotches_lengths / hicomp.fnotches_lengths\n",
    "    t_r = p4comp.n_total / hicomp.n_total\n",
    "    return b_r, f_r, fn_r, t_r"
   ]
  },
  {
   "cell_type": "code",
   "execution_count": null,
   "metadata": {},
   "outputs": [],
   "source": [
    "df = pd.DataFrame(obsids, columns=['obsid'])"
   ]
  },
  {
   "cell_type": "code",
   "execution_count": null,
   "metadata": {},
   "outputs": [],
   "source": [
    "def get_ratios(row):\n",
    "    obsid = row.obsid\n",
    "    hicomp = HiRISEComparer(obsid)\n",
    "    p4comp = P4Comparer(obsid)\n",
    "    b_r = p4comp.blotches_lengths / hicomp.blotches_lengths\n",
    "    f_r = p4comp.fans_lengths / hicomp.fans_lengths\n",
    "    fn_r = p4comp.fnotches_lengths / hicomp.fnotches_lengths\n",
    "    t_r = p4comp.n_total / hicomp.n_total\n",
    "    return pd.Series(dict(blotch=b_r, fan=f_r, fnotch=fn_r, total=t_r, obsid=obsid))"
   ]
  },
  {
   "cell_type": "code",
   "execution_count": null,
   "metadata": {},
   "outputs": [],
   "source": [
    "results = df.apply(get_ratios, axis='columns')"
   ]
  },
  {
   "cell_type": "code",
   "execution_count": null,
   "metadata": {},
   "outputs": [],
   "source": [
    "results"
   ]
  },
  {
   "cell_type": "code",
   "execution_count": null,
   "metadata": {},
   "outputs": [],
   "source": [
    "results.set_index('obsid', inplace=True)\n",
    "results.sort_index(inplace=True)"
   ]
  },
  {
   "cell_type": "code",
   "execution_count": null,
   "metadata": {},
   "outputs": [],
   "source": [
    "%matplotlib inline"
   ]
  },
  {
   "cell_type": "code",
   "execution_count": null,
   "metadata": {},
   "outputs": [],
   "source": [
    "results.plot(style='*-', rot=60)"
   ]
  },
  {
   "cell_type": "code",
   "execution_count": null,
   "metadata": {},
   "outputs": [],
   "source": [
    "results.index"
   ]
  },
  {
   "cell_type": "code",
   "execution_count": null,
   "metadata": {},
   "outputs": [],
   "source": [
    "df = df[['obsid']]"
   ]
  },
  {
   "cell_type": "code",
   "execution_count": null,
   "metadata": {},
   "outputs": [],
   "source": [
    "for marking in ['blotches', 'fans', 'fnotches']:\n",
    "    for compare,cls in zip(['hi', 'p4'], [HiRISEComparer, P4Comparer]):\n",
    "        colname = compare + '_' + marking\n",
    "        df[colname] = df.obsid.map(lambda x: getattr(cls(x), marking+'_lengths'))"
   ]
  },
  {
   "cell_type": "code",
   "execution_count": null,
   "metadata": {},
   "outputs": [],
   "source": [
    "df['hi_total'] = df.obsid.map(lambda x: HiRISEComparer(x).n_total)\n",
    "df['p4_total'] = df.obsid.map(lambda x: P4Comparer(x).n_total)"
   ]
  },
  {
   "cell_type": "code",
   "execution_count": null,
   "metadata": {},
   "outputs": [],
   "source": [
    "df.set_index('obsid', inplace=True)"
   ]
  },
  {
   "cell_type": "code",
   "execution_count": null,
   "metadata": {},
   "outputs": [],
   "source": [
    "df.sort_index(inplace=True)"
   ]
  },
  {
   "cell_type": "code",
   "execution_count": null,
   "metadata": {},
   "outputs": [],
   "source": [
    "df"
   ]
  },
  {
   "cell_type": "code",
   "execution_count": null,
   "metadata": {},
   "outputs": [],
   "source": [
    "df.plot(style='*-', rot=90)"
   ]
  },
  {
   "cell_type": "code",
   "execution_count": null,
   "metadata": {},
   "outputs": [],
   "source": []
  },
  {
   "cell_type": "code",
   "execution_count": null,
   "metadata": {},
   "outputs": [],
   "source": [
    "%matplotlib nbagg"
   ]
  },
  {
   "cell_type": "code",
   "execution_count": null,
   "metadata": {},
   "outputs": [],
   "source": [
    "P4Comparer(obsid)"
   ]
  },
  {
   "cell_type": "code",
   "execution_count": null,
   "metadata": {},
   "outputs": [],
   "source": [
    "P4Comparer(obsid, fnotched=False)"
   ]
  },
  {
   "cell_type": "code",
   "execution_count": null,
   "metadata": {},
   "outputs": [],
   "source": [
    "blotches = P4Comparer(obsid).read_dataframes('blotches')"
   ]
  },
  {
   "cell_type": "code",
   "execution_count": null,
   "metadata": {},
   "outputs": [],
   "source": [
    "blotches.head()"
   ]
  },
  {
   "cell_type": "code",
   "execution_count": null,
   "metadata": {},
   "outputs": [],
   "source": [
    "from sklearn.metrics.pairwise import pairwise_distances as pdist"
   ]
  },
  {
   "cell_type": "code",
   "execution_count": null,
   "metadata": {},
   "outputs": [],
   "source": [
    "arr = np.array([[100,100,5],[101,101,6],[102, 101, 10]])\n",
    "arr"
   ]
  },
  {
   "cell_type": "code",
   "execution_count": null,
   "metadata": {},
   "outputs": [],
   "source": [
    "distances = pdist(arr)\n",
    "distances"
   ]
  },
  {
   "cell_type": "code",
   "execution_count": null,
   "metadata": {},
   "outputs": [],
   "source": [
    "indices = np.triu_indices_from(distances, k=1)\n",
    "distances[indices]"
   ]
  },
  {
   "cell_type": "code",
   "execution_count": null,
   "metadata": {},
   "outputs": [],
   "source": [
    "indices"
   ]
  },
  {
   "cell_type": "code",
   "execution_count": null,
   "metadata": {},
   "outputs": [],
   "source": [
    "a = [100, 100, 10, 20, 45]\n",
    "b = [101, 101, 11, 21, 49.5]"
   ]
  },
  {
   "cell_type": "code",
   "execution_count": null,
   "metadata": {},
   "outputs": [],
   "source": [
    "pdist(np.array([a,b]))"
   ]
  },
  {
   "cell_type": "code",
   "execution_count": null,
   "metadata": {},
   "outputs": [],
   "source": [
    "res = pdist(blotches[['image_x','image_y', 'radius_1', 'radius_2', 'angle']])"
   ]
  },
  {
   "cell_type": "code",
   "execution_count": null,
   "metadata": {},
   "outputs": [],
   "source": [
    "indices = np.triu_indices_from(res, k=1)"
   ]
  },
  {
   "cell_type": "code",
   "execution_count": null,
   "metadata": {},
   "outputs": [],
   "source": [
    "upper = res[indices]"
   ]
  },
  {
   "cell_type": "code",
   "execution_count": null,
   "metadata": {},
   "outputs": [],
   "source": [
    "upper"
   ]
  },
  {
   "cell_type": "code",
   "execution_count": null,
   "metadata": {},
   "outputs": [],
   "source": [
    "for i in range(1,6):\n",
    "    print(i, upper[upper<i].shape)"
   ]
  },
  {
   "cell_type": "code",
   "execution_count": null,
   "metadata": {},
   "outputs": [],
   "source": []
  },
  {
   "cell_type": "code",
   "execution_count": null,
   "metadata": {},
   "outputs": [],
   "source": [
    "import seaborn as sns"
   ]
  },
  {
   "cell_type": "code",
   "execution_count": null,
   "metadata": {},
   "outputs": [],
   "source": [
    "%matplotlib inline"
   ]
  },
  {
   "cell_type": "code",
   "execution_count": null,
   "metadata": {},
   "outputs": [],
   "source": [
    "sns.jointplot(x='image_x', y='image_y', kind='hex', data=blotches)"
   ]
  },
  {
   "cell_type": "code",
   "execution_count": null,
   "metadata": {},
   "outputs": [],
   "source": [
    "all_combined = read_combined_df(path)"
   ]
  },
  {
   "cell_type": "code",
   "execution_count": null,
   "metadata": {},
   "outputs": [],
   "source": [
    "840*648 - (640*448)"
   ]
  },
  {
   "cell_type": "code",
   "execution_count": null,
   "metadata": {},
   "outputs": [],
   "source": [
    "_/(840*648)"
   ]
  },
  {
   "cell_type": "code",
   "execution_count": null,
   "metadata": {},
   "outputs": [],
   "source": [
    "_/__"
   ]
  },
  {
   "cell_type": "code",
   "execution_count": null,
   "metadata": {},
   "outputs": [],
   "source": [
    "all_combined.info()"
   ]
  },
  {
   "cell_type": "code",
   "execution_count": null,
   "metadata": {},
   "outputs": [],
   "source": [
    "p = io.p4data() / 'overlap_issue_GH45/p4_level_p4_coords/applied_cut_0.5'\n",
    "get_total_survivors(p)"
   ]
  },
  {
   "cell_type": "code",
   "execution_count": null,
   "metadata": {},
   "outputs": [],
   "source": []
  }
 ],
 "metadata": {
  "anaconda-cloud": {},
  "kernelspec": {
   "display_name": "Python [conda env:stable]",
   "language": "python",
   "name": "conda-env-stable-py"
  },
  "language_info": {
   "codemirror_mode": {
    "name": "ipython",
    "version": 3
   },
   "file_extension": ".py",
   "mimetype": "text/x-python",
   "name": "python",
   "nbconvert_exporter": "python",
   "pygments_lexer": "ipython3",
   "version": "3.6.3"
  },
  "toc": {
   "nav_menu": {},
   "number_sections": true,
   "sideBar": true,
   "skip_h1_title": false,
   "toc_cell": true,
   "toc_position": {},
   "toc_section_display": "block",
   "toc_window_display": false
  }
 },
 "nbformat": 4,
 "nbformat_minor": 1
}
