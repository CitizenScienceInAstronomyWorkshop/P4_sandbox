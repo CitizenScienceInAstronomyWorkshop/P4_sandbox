{
 "cells": [
  {
   "cell_type": "code",
   "execution_count": 1,
   "metadata": {
    "collapsed": true
   },
   "outputs": [],
   "source": [
    "manhattan = np.array(['ESP_021455_0935', 'ESP_020214_0935', 'ESP_012884_0935',\n",
    "       'ESP_020598_0935', 'ESP_020888_0935', 'ESP_020519_0935',\n",
    "       'ESP_020255_0935', 'ESP_021495_0935', 'ESP_011394_0935',\n",
    "       'ESP_021468_0935', 'ESP_020321_0935', 'ESP_013016_0935',\n",
    "       'ESP_020202_0935', 'ESP_020954_0935', 'ESP_011671_0935',\n",
    "       'ESP_022260_0935', 'ESP_020532_0935', 'ESP_012739_0935',\n",
    "       'ESP_011961_0935', 'ESP_012251_0935', 'ESP_013095_0935',\n",
    "       'ESP_022339_0935', 'PSP_004142_0935', 'PSP_003151_0935',\n",
    "       'PSP_002940_0935', 'PSP_003997_0935', 'PSP_003575_0935',\n",
    "       'PSP_003496_0935', 'PSP_004920_0935', 'PSP_003285_0935',\n",
    "       'PSP_003784_0935', 'PSP_003930_0935', 'PSP_002626_0935',\n",
    "       'PSP_003430_0935', 'PSP_003140_0935', 'PSP_003746_0935',\n",
    "       'PSP_002942_0935', 'PSP_002876_0935', 'PSP_003641_0935',\n",
    "       'PSP_005579_0935', 'PSP_002532_0935', 'PSP_002702_0935',\n",
    "       'PSP_002850_0935', 'PSP_005696_0935', 'PSP_002533_0935'], dtype=object)"
   ]
  },
  {
   "cell_type": "code",
   "execution_count": 3,
   "metadata": {
    "collapsed": false
   },
   "outputs": [],
   "source": [
    "dfs = []\n",
    "for image_name in manhattan:\n",
    "    dfs.append(pd.read_hdf(dbname,'df', where='image_name='+image_name))"
   ]
  },
  {
   "cell_type": "code",
   "execution_count": 4,
   "metadata": {
    "collapsed": true
   },
   "outputs": [],
   "source": [
    "df= pd.concat(dfs)"
   ]
  },
  {
   "cell_type": "code",
   "execution_count": 5,
   "metadata": {
    "collapsed": false
   },
   "outputs": [
    {
     "name": "stdout",
     "output_type": "stream",
     "text": [
      "<class 'pandas.core.frame.DataFrame'>\n",
      "Int64Index: 1056366 entries, 27 to 11362413\n",
      "Data columns (total 21 columns):\n",
      "classification_id    1056366 non-null object\n",
      "created_at           1056366 non-null datetime64[ns]\n",
      "image_id             1056366 non-null object\n",
      "image_name           1056366 non-null object\n",
      "image_url            1056366 non-null object\n",
      "user_name            1056366 non-null object\n",
      "marking              1056366 non-null object\n",
      "x_tile               1056366 non-null int64\n",
      "y_tile               1056366 non-null int64\n",
      "acquisition_date     1056366 non-null datetime64[ns]\n",
      "local_mars_time      1056366 non-null object\n",
      "x                    707415 non-null float64\n",
      "y                    707415 non-null float64\n",
      "image_x              707415 non-null float64\n",
      "image_y              707415 non-null float64\n",
      "radius_1             301025 non-null float64\n",
      "radius_2             301025 non-null float64\n",
      "distance             328431 non-null float64\n",
      "angle                629456 non-null float64\n",
      "spread               1056277 non-null float64\n",
      "version              1056277 non-null float64\n",
      "dtypes: datetime64[ns](2), float64(10), int64(2), object(7)\n",
      "memory usage: 177.3+ MB\n"
     ]
    }
   ],
   "source": [
    "df.info()"
   ]
  },
  {
   "cell_type": "code",
   "execution_count": 7,
   "metadata": {
    "collapsed": true
   },
   "outputs": [],
   "source": [
    "from planet4 import helper_functions as hf"
   ]
  },
  {
   "cell_type": "code",
   "execution_count": 8,
   "metadata": {
    "collapsed": false
   },
   "outputs": [
    {
     "name": "stderr",
     "output_type": "stream",
     "text": [
      "/Users/klay6683/Dropbox/src/P4_sandbox/planet4/helper_functions.py:69: SettingWithCopyWarning: \n",
      "A value is trying to be set on a copy of a slice from a DataFrame\n",
      "\n",
      "See the the caveats in the documentation: http://pandas.pydata.org/pandas-docs/stable/indexing.html#indexing-view-versus-copy\n",
      "  df.loc[:, 'season'][df.image_name.str.startswith('PSP')] = 1\n",
      "/Users/klay6683/Dropbox/src/P4_sandbox/planet4/helper_functions.py:70: SettingWithCopyWarning: \n",
      "A value is trying to be set on a copy of a slice from a DataFrame\n",
      "\n",
      "See the the caveats in the documentation: http://pandas.pydata.org/pandas-docs/stable/indexing.html#indexing-view-versus-copy\n",
      "  df.loc[:, 'season'][(thousands > 10) & (thousands < 20)] = 2\n",
      "/Users/klay6683/Dropbox/src/P4_sandbox/planet4/helper_functions.py:71: SettingWithCopyWarning: \n",
      "A value is trying to be set on a copy of a slice from a DataFrame\n",
      "\n",
      "See the the caveats in the documentation: http://pandas.pydata.org/pandas-docs/stable/indexing.html#indexing-view-versus-copy\n",
      "  df.loc[:, 'season'][thousands > 19] = 3\n"
     ]
    }
   ],
   "source": [
    "hf.define_season_column(df)"
   ]
  },
  {
   "cell_type": "code",
   "execution_count": 9,
   "metadata": {
    "collapsed": false
   },
   "outputs": [
    {
     "data": {
      "text/plain": [
       "Index(['classification_id', 'created_at', 'image_id', 'image_name', 'image_url', 'user_name', 'marking', 'x_tile', 'y_tile', 'acquisition_date', 'local_mars_time', 'x', 'y', 'image_x', 'image_y', 'radius_1', 'radius_2', 'distance', 'angle', 'spread', 'version', 'season'], dtype='object')"
      ]
     },
     "execution_count": 9,
     "metadata": {},
     "output_type": "execute_result"
    }
   ],
   "source": [
    "df.columns"
   ]
  },
  {
   "cell_type": "code",
   "execution_count": 15,
   "metadata": {
    "collapsed": false
   },
   "outputs": [
    {
     "data": {
      "text/plain": [
       "68.299999999999997"
      ]
     },
     "execution_count": 15,
     "metadata": {},
     "output_type": "execute_result"
    }
   ],
   "source": [
    "hf.get_status(df[df.season==1])"
   ]
  },
  {
   "cell_type": "code",
   "execution_count": 16,
   "metadata": {
    "collapsed": false
   },
   "outputs": [
    {
     "data": {
      "text/plain": [
       "array(['ESP_021455_0935', 'ESP_020214_0935', 'ESP_012884_0935',\n",
       "       'ESP_020598_0935', 'ESP_020888_0935', 'ESP_020519_0935',\n",
       "       'ESP_020255_0935', 'ESP_021495_0935', 'ESP_011394_0935',\n",
       "       'ESP_021468_0935', 'ESP_020321_0935', 'ESP_013016_0935',\n",
       "       'ESP_020202_0935', 'ESP_020954_0935', 'ESP_011671_0935',\n",
       "       'ESP_022260_0935', 'ESP_020532_0935', 'ESP_012739_0935',\n",
       "       'ESP_011961_0935', 'ESP_012251_0935', 'ESP_013095_0935',\n",
       "       'ESP_022339_0935', 'PSP_004142_0935', 'PSP_003151_0935',\n",
       "       'PSP_002940_0935', 'PSP_003997_0935', 'PSP_003575_0935',\n",
       "       'PSP_003496_0935', 'PSP_004920_0935', 'PSP_003285_0935',\n",
       "       'PSP_003784_0935', 'PSP_003930_0935', 'PSP_002626_0935',\n",
       "       'PSP_003430_0935', 'PSP_003140_0935', 'PSP_003746_0935',\n",
       "       'PSP_002942_0935', 'PSP_002876_0935', 'PSP_003641_0935',\n",
       "       'PSP_005579_0935', 'PSP_002532_0935', 'PSP_002702_0935',\n",
       "       'PSP_002850_0935', 'PSP_005696_0935', 'PSP_002533_0935'], dtype=object)"
      ]
     },
     "execution_count": 16,
     "metadata": {},
     "output_type": "execute_result"
    }
   ],
   "source": [
    "manhattan"
   ]
  },
  {
   "cell_type": "code",
   "execution_count": null,
   "metadata": {
    "collapsed": true
   },
   "outputs": [],
   "source": []
  }
 ],
 "metadata": {
  "kernelspec": {
   "display_name": "Python 3",
   "language": "python",
   "name": "python3"
  },
  "language_info": {
   "codemirror_mode": {
    "name": "ipython",
    "version": 3
   },
   "file_extension": ".py",
   "mimetype": "text/x-python",
   "name": "python",
   "nbconvert_exporter": "python",
   "pygments_lexer": "ipython3",
   "version": "3.4.3"
  }
 },
 "nbformat": 4,
 "nbformat_minor": 0
}
