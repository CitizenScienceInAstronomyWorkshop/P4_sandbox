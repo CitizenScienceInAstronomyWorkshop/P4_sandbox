{
 "cells": [
  {
   "cell_type": "code",
   "execution_count": null,
   "metadata": {
    "collapsed": false
   },
   "outputs": [],
   "source": [
    "from vpython import sphere, canvas, box, vec, color, rate\n",
    "import math\n",
    "math.tau = np.tau = 2*math.pi"
   ]
  },
  {
   "cell_type": "code",
   "execution_count": null,
   "metadata": {
    "collapsed": true
   },
   "outputs": [],
   "source": [
    "def cart2pol(vec):\n",
    "    theta = np.arctan2(vec[:, 1], vec[:, 0])\n",
    "    rho = np.hypot(vec[:, 0], vec[:, 1])\n",
    "    return theta, rho\n",
    "\n",
    "def pol2cart(theta, rho):\n",
    "    x = rho * np.cos(theta)\n",
    "    y = rho * np.sin(theta)\n",
    "    return x, y\n",
    "\n",
    "def uniform_circle_sample(theta, rho):\n",
    "    x = np.sqrt(rho) * np.cos(theta)\n",
    "    y = np.sqrt(rho) * np.sin(theta)\n",
    "    return x, y"
   ]
  },
  {
   "cell_type": "code",
   "execution_count": null,
   "metadata": {
    "collapsed": false
   },
   "outputs": [],
   "source": [
    "win=600\n",
    "L = 30. # container is a cube L on a side\n",
    "gray = vec(0.7,0.7,0.7)  # color of edges of container\n",
    "up = vec(0, 0, 1)"
   ]
  },
  {
   "cell_type": "code",
   "execution_count": null,
   "metadata": {
    "collapsed": false
   },
   "outputs": [],
   "source": [
    "radius = 0.1  # arbitrary for now\n",
    "dt = 1e-2\n",
    "start = vec(0, 0, radius)\n",
    "g_M = np.array([0, 0, -3.80])\n",
    "g_E = np.array([0, 0, -9.81])\n",
    "\n",
    "N=3000\n",
    "\n",
    "# positions\n",
    "R = 0.5  # vent radius\n",
    "radii = np.random.uniform(0, R, N)\n",
    "thetas = np.random.uniform(0, math.tau, N)\n",
    "X,Y = uniform_circle_sample(thetas, radii)\n",
    "positions = np.stack([X, Y, np.full_like(X, radius/2)], axis=1)\n",
    "\n",
    "# velocities\n",
    "# Using parabolic profile for Hagen-Poiseulle flow\n",
    "vmax = 50  # m/s\n",
    "vz = vmax * (1 - radii**2/0.6**2)  # 2**2\n",
    "velocities = np.zeros((N, 3))\n",
    "velocities[:, -1] = vz\n",
    "# incline the jet\n",
    "velocities[:, 0] = 0.5  # incline along x-axis\n",
    "# variations for vx and vy\n",
    "radii = np.random.uniform(0, 0.2, N)\n",
    "thetas = np.random.uniform(0, math.tau, N)\n",
    "vx,vy = uniform_circle_sample(thetas, radii)\n",
    "velocities[:, 0] += vx\n",
    "velocities[:, 1] += vy\n",
    "# define particles here to make loop work with or without\n",
    "particles =[]\n",
    "# save positions for later comparison\n",
    "init_pos = positions.copy()"
   ]
  },
  {
   "cell_type": "code",
   "execution_count": null,
   "metadata": {
    "collapsed": false,
    "scrolled": false
   },
   "outputs": [],
   "source": [
    "scene = canvas(title=\"Fans\", width=win, height=win, x=0, y=0,\n",
    "               center=vec(0, 0, 0), forward=vec(1,0,-1),\n",
    "               up=up)\n",
    "scene.autoscale = False\n",
    "scene.range = 25\n",
    "\n",
    "h = 0.1\n",
    "mybox = box(pos=vec(0, 0, -h/2), length=L, height=h, width=L, up=up, color=color.white)\n",
    "\n",
    "# create dust particles\n",
    "\n",
    "for pos in positions:\n",
    "    p = sphere(pos=vec(*pos), radius=radius, color=color.red)\n",
    "    p.update = True  # to determine if needs position update\n",
    "    particles.append(p)"
   ]
  },
  {
   "cell_type": "code",
   "execution_count": null,
   "metadata": {
    "collapsed": false
   },
   "outputs": [],
   "source": [
    "t=0\n",
    "while any(positions[:, -1] > 0):\n",
    "    if particles:\n",
    "        rate(200)\n",
    "    \n",
    "    # find all that are still above ground\n",
    "    to_update = positions[:, -1] > 0\n",
    "    positions[to_update] += velocities[to_update]*dt\n",
    "    velocities[to_update] += g_M*dt\n",
    "    if particles:\n",
    "        for p,pos in zip(particles, positions):\n",
    "            if p.update:\n",
    "                p.pos = vec(*pos)\n",
    "            if p.pos.z < start.z:\n",
    "                p.update = False\n",
    "    t+=dt"
   ]
  },
  {
   "cell_type": "code",
   "execution_count": null,
   "metadata": {
    "collapsed": true
   },
   "outputs": [],
   "source": [
    "%matplotlib nbagg\n",
    "\n",
    "import seaborn as sns"
   ]
  },
  {
   "cell_type": "code",
   "execution_count": null,
   "metadata": {
    "collapsed": false
   },
   "outputs": [],
   "source": [
    "fig, axes = plt.subplots(ncols=2)\n",
    "axes[0].scatter(init_pos[:,0], init_pos[:,1], 5)\n",
    "axes[1].scatter(positions[:,0], positions[:,1], 5)\n",
    "for ax in axes:\n",
    "    ax.set_aspect('equal')\n",
    "    "
   ]
  },
  {
   "cell_type": "code",
   "execution_count": null,
   "metadata": {
    "collapsed": false
   },
   "outputs": [],
   "source": [
    "t"
   ]
  }
 ],
 "metadata": {
  "kernelspec": {
   "display_name": "Python 3",
   "language": "python",
   "name": "python3"
  },
  "language_info": {
   "codemirror_mode": {
    "name": "ipython",
    "version": 3
   },
   "file_extension": ".py",
   "mimetype": "text/x-python",
   "name": "python",
   "nbconvert_exporter": "python",
   "pygments_lexer": "ipython3",
   "version": "3.5.1"
  }
 },
 "nbformat": 4,
 "nbformat_minor": 0
}
