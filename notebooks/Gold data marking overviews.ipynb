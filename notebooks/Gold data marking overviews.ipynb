{
 "cells": [
  {
   "cell_type": "code",
   "execution_count": 0,
   "metadata": {
    "collapsed": true
   },
   "outputs": [],
   "source": [
    "import matplotlib\n",
    "matplotlib.use('Agg')\n",
    "import matplotlib.pyplot as plt\n",
    "import os\n",
    "HOME = os.environ[\"HOME\"]"
   ]
  },
  {
   "cell_type": "code",
   "execution_count": 0,
   "metadata": {
    "collapsed": false
   },
   "outputs": [],
   "source": [
    "with open(os.path.join(HOME,\"Dropbox/DDocuments/planet4/P4_generate_plots_list.txt\")) as f:\n",
    "    apfids = f.readlines()\n",
    "apfids = [i.strip() for i in apfids if i.startswith('APF')]\n",
    "apfids[:5]"
   ]
  },
  {
   "cell_type": "code",
   "execution_count": 0,
   "metadata": {
    "collapsed": false
   },
   "outputs": [],
   "source": [
    "from planet4 import markings"
   ]
  },
  {
   "cell_type": "code",
   "execution_count": 0,
   "metadata": {
    "collapsed": false
   },
   "outputs": [],
   "source": [
    "len(apfids)"
   ]
  },
  {
   "cell_type": "code",
   "execution_count": 0,
   "metadata": {
    "collapsed": false
   },
   "outputs": [],
   "source": [
    "import numpy as np\n",
    "apfids = np.unique(np.array(apfids))"
   ]
  },
  {
   "cell_type": "code",
   "execution_count": 0,
   "metadata": {
    "collapsed": false
   },
   "outputs": [],
   "source": [
    "savepath = os.path.join(HOME, \"Dropbox/DDocuments/planet4/gold_member_comparisons/\")\n",
    "for i,apfid in enumerate(apfids):\n",
    "    print(100*i/len(apfids))\n",
    "    imgid = markings.ImageID(apfid)\n",
    "    for func in [imgid.plot_blotches, imgid.plot_fans]:\n",
    "        fig, axes = plt.subplots(2, 2, figsize=(10,8))\n",
    "        axes = axes.ravel()\n",
    "        fig.suptitle(str(i).zfill(2)+' '+func.__name__.split('_')[1]+' '+apfid)\n",
    "        func(ax=axes[0], without_users=markings.gold_members)\n",
    "        axes[0].set_title('All citizens without gold_members')\n",
    "        for goldstar, ax in zip(markings.gold_members[:3], axes[1:]):\n",
    "            func(ax=ax, user_name=goldstar)\n",
    "            ax.set_title(goldstar)\n",
    "        fname = \"{number}_{apfid}_{kind}.png\".format(number=str(i).zfill(2),\n",
    "                                                     apfid=apfid,\n",
    "                                                     kind=func.__name__.split('_')[1])\n",
    "        plt.savefig(savepath+fname, dpi=150)\n",
    "        plt.close(fig)"
   ]
  },
  {
   "cell_type": "code",
   "execution_count": 0,
   "metadata": {
    "collapsed": true
   },
   "outputs": [],
   "source": []
  }
 ],
 "metadata": {
  "kernelspec": {
   "display_name": "Python 2",
   "language": "python",
   "name": "python2"
  },
  "language_info": {
   "codemirror_mode": {
    "name": "ipython",
    "version": 2
   },
   "file_extension": ".py",
   "mimetype": "text/x-python",
   "name": "python",
   "nbconvert_exporter": "python",
   "pygments_lexer": "ipython2",
   "version": "2.7.9"
  }
 },
 "nbformat": 4,
 "nbformat_minor": 0
}