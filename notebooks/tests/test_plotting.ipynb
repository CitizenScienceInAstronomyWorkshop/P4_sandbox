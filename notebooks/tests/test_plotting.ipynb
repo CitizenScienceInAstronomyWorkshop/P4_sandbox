{
 "cells": [
  {
   "cell_type": "code",
   "execution_count": null,
   "metadata": {
    "collapsed": true
   },
   "outputs": [],
   "source": [
    "# setup\n",
    "%matplotlib inline\n",
    "from planet4 import plotting, io, markings\n",
    "from pathlib import Path"
   ]
  },
  {
   "cell_type": "code",
   "execution_count": null,
   "metadata": {
    "collapsed": true
   },
   "outputs": [],
   "source": [
    "def plot_image_id_pipeline(image_id, data=None):\n",
    "    imgid = markings.ImageID(image_id, data)\n",
    "\n",
    "    fig, axes = plt.subplots(nrows=2, ncols=3, figsize=(10, 8))\n",
    "    axes = axes.ravel()\n",
    "    for ax in axes:\n",
    "        imgid.show_subframe(ax=ax)\n",
    "    imgid.plot_fans(ax=axes[1])\n",
    "    imgid.plot_blotches(ax=axes[2])\n",
    "\n",
    "    for ax in axes:\n",
    "        ax.set_axis_off()\n",
    "        \n",
    "    fig.subplots_adjust(left=None, top=None, bottom=None, right=None,\n",
    "                        wspace=0.001, hspace=0.001)\n",
    "    plt.show()"
   ]
  },
  {
   "cell_type": "code",
   "execution_count": null,
   "metadata": {
    "collapsed": false
   },
   "outputs": [],
   "source": [
    "plot_image_id_pipeline('APF000010p')"
   ]
  },
  {
   "cell_type": "code",
   "execution_count": null,
   "metadata": {
    "collapsed": true
   },
   "outputs": [],
   "source": []
  }
 ],
 "metadata": {
  "kernelspec": {
   "display_name": "Python 3",
   "language": "python",
   "name": "python3"
  },
  "language_info": {
   "codemirror_mode": {
    "name": "ipython",
    "version": 3
   },
   "file_extension": ".py",
   "mimetype": "text/x-python",
   "name": "python",
   "nbconvert_exporter": "python",
   "pygments_lexer": "ipython3",
   "version": "3.5.1"
  }
 },
 "nbformat": 4,
 "nbformat_minor": 0
}
