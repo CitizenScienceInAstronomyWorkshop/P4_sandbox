{
 "metadata": {
  "name": ""
 },
 "nbformat": 3,
 "nbformat_minor": 0,
 "worksheets": [
  {
   "cells": [
    {
     "cell_type": "code",
     "collapsed": false,
     "input": [
      "from HTMLParser import HTMLParser\n",
      "class MyHTMLParser(HTMLParser):\n",
      "\n",
      "    def __init__(self):\n",
      "        HTMLParser.__init__(self)\n",
      "        self.container = []\n",
      "\n",
      "    def handle_starttag(self, tag, attrs):\n",
      "        if attrs and attrs[0][0] == 'href':\n",
      "            url = attrs[0][1]\n",
      "            if '#' in url:\n",
      "                link = url.split('//')[1]\n",
      "                id = url.split('/')[-1]\n",
      "                self.container.append((link,id))\n",
      "#                 self.container.append(url.split('/')[-1])\n",
      "                \n",
      "parser = MyHTMLParser()\n",
      "no = '7'\n",
      "with open('../data/michael'+no+'.html') as f:\n",
      "    parser.feed(f.read())\n",
      "pre = '<a href=\"http://www.'\n",
      "middle = '\" target=\"_blank\">'\n",
      "post='</a><br>'\n",
      "with open('../data/michael'+no+'_repaired.html','w') as f:\n",
      "    for link, id in parser.container:\n",
      "        f.write(pre)\n",
      "        f.write(link)\n",
      "        f.write(middle)\n",
      "        f.write(id)\n",
      "        f.write(post)\n",
      "        f.write('\\n')"
     ],
     "language": "python",
     "metadata": {},
     "outputs": [],
     "prompt_number": null
    },
    {
     "cell_type": "code",
     "collapsed": false,
     "input": [
      "parser.container"
     ],
     "language": "python",
     "metadata": {},
     "outputs": [],
     "prompt_number": null
    },
    {
     "cell_type": "code",
     "collapsed": false,
     "input": [
      "less ../data/michael4_repaired.html"
     ],
     "language": "python",
     "metadata": {},
     "outputs": [],
     "prompt_number": null
    },
    {
     "cell_type": "code",
     "collapsed": false,
     "input": [],
     "language": "python",
     "metadata": {},
     "outputs": []
    }
   ],
   "metadata": {}
  }
 ]
}
