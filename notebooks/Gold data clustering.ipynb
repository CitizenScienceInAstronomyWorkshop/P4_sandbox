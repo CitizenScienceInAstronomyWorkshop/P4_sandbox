{
 "metadata": {
  "name": "",
  "signature": "sha256:a0d41b4c46ad4300b44428dd7d5faf58b5885f818a99b331ff52a060de2ec0cc"
 },
 "nbformat": 3,
 "nbformat_minor": 0,
 "worksheets": [
  {
   "cells": [
    {
     "cell_type": "code",
     "collapsed": false,
     "input": [
      "from planet4 import get_data\n",
      "from planet4 import markings\n",
      "from sklearn.cluster import DBSCAN\n",
      "from matplotlib.patches import Ellipse\n",
      "import matplotlib.pyplot as plt\n",
      "reload(get_data)\n",
      "reload(markings)"
     ],
     "language": "python",
     "metadata": {},
     "outputs": [
      {
       "metadata": {},
       "output_type": "pyout",
       "prompt_number": 1,
       "text": [
        "<module 'planet4.markings' from '/Users/maye/Dropbox/src/P4_sandbox/planet4/markings.pyc'>"
       ]
      }
     ],
     "prompt_number": 1
    },
    {
     "cell_type": "code",
     "collapsed": false,
     "input": [
      "get_data.get_current_database_fname()"
     ],
     "language": "python",
     "metadata": {},
     "outputs": [
      {
       "metadata": {},
       "output_type": "pyout",
       "prompt_number": 2,
       "text": [
        "'/Users/maye/data/planet4/2014-10-02_planet_four_classifications_queryable.h5'"
       ]
      }
     ],
     "prompt_number": 2
    },
    {
     "cell_type": "code",
     "collapsed": false,
     "input": [
      "%pylab qt"
     ],
     "language": "python",
     "metadata": {},
     "outputs": [
      {
       "output_type": "stream",
       "stream": "stdout",
       "text": [
        "Populating the interactive namespace from numpy and matplotlib\n"
       ]
      }
     ],
     "prompt_number": 3
    },
    {
     "cell_type": "code",
     "collapsed": false,
     "input": [
      "reload(markings)\n",
      "ellipse_cols = 'x y radius_1 radius_2 angle'.split()\n",
      "fan_cols = 'x y angle spread distance'.split()\n",
      "\n",
      "def get_mean_ellipse(data, label_members, fan=False):\n",
      "    if not fan:\n",
      "        ellipsedata = data[ellipse_cols].iloc[label_members]\n",
      "    else:\n",
      "        ellipsedata= data[fan_cols].iloc[label_members]\n",
      "    meandata = ellipsedata.mean()\n",
      "    if not fan:\n",
      "        return markings.Blotch(meandata)\n",
      "    else:\n",
      "        return markings.Fan(meandata)\n",
      "\n",
      "def clustering(current_data, current_axis, eps=10, min_samples=3,\n",
      "               fans=False, ls='-'):\n",
      "    center_only = ['x','y']\n",
      "    center_and_radii = 'x y radius_1 radius_2'.split()\n",
      "    current_X = current_data[center_only].values\n",
      "    db = DBSCAN(eps=eps, min_samples=min_samples).fit(current_X)\n",
      "    labels = db.labels_.astype('int')\n",
      "    core_samples = db.core_sample_indices_\n",
      "    # number of clusters in labels, ignoring noise if present\n",
      "    n_clusters = len(set(labels)) - (1 if -1 in labels else 0)\n",
      "    print \"Estimated number of clusters:\", n_clusters\n",
      "\n",
      "    unique_labels = set(labels)\n",
      "    colors = pylab.cm.Spectral(linspace(0,1,len(unique_labels)))\n",
      "    for k, color in zip(unique_labels, colors):\n",
      "        label_members = [index[0] for index in argwhere(labels==k)]\n",
      "        if k == -1:\n",
      "            color = 'w'\n",
      "            markersize = 5\n",
      "        for index in label_members:\n",
      "            x = current_X[index]\n",
      "            if index in core_samples and k !=-1:\n",
      "                markersize = 8\n",
      "            else:\n",
      "                markersize = 5\n",
      "            current_axis.plot(x[0], x[1], 'o', markerfacecolor=color,\n",
      "                         markeredgecolor='k', markersize=markersize)\n",
      "        if k > -0.5:\n",
      "            el = get_mean_ellipse(current_data, label_members,\n",
      "                                  fan=fans)\n",
      "            el.set_color(color)\n",
      "            if not fans:\n",
      "                current_axis.add_artist(el)\n",
      "            else:\n",
      "                current_axis.add_line(el)\n",
      "                el.add_semicircle(current_axis, color=color)\n",
      "                el.add_mean_wind_pointer(current_axis, color=color,ls=ls)\n",
      "        markings.set_subframe_size(current_axis)\n",
      "    return db\n",
      "\n",
      "def gold_star_plotter(gold_id, axis, blotches=True, fans=False):\n",
      "    for goldstar, color in zip(markings.gold_members,\n",
      "                               markings.gold_plot_colors):\n",
      "        if blotches:\n",
      "            gold_id.plot_blotches(user_name=goldstar, ax=axis, user_color=color)\n",
      "        if fans:\n",
      "            gold_id.plot_fans(user_name=goldstar, ax=axis, user_color=color)\n",
      "        markings.gold_legend(axis)"
     ],
     "language": "python",
     "metadata": {},
     "outputs": [],
     "prompt_number": 4
    },
    {
     "cell_type": "code",
     "collapsed": false,
     "input": [
      "imgid = 'APF0000jnp'\n",
      "imgid = 'APF0000ddb'\n",
      "# imgid = 'APF00000pt'\n",
      "# imgid = 'APF00006s2'\n",
      "# imgid = 'APF0000hl3'"
     ],
     "language": "python",
     "metadata": {},
     "outputs": [],
     "prompt_number": 5
    },
    {
     "cell_type": "code",
     "collapsed": false,
     "input": [
      "gold_ids = get_data.common_gold_ids()"
     ],
     "language": "python",
     "metadata": {},
     "outputs": [],
     "prompt_number": 6
    },
    {
     "cell_type": "code",
     "collapsed": false,
     "input": [
      "# good data to show: 5, 7(used)\n",
      "reload(markings)\n",
      "p4img = markings.ImageID(gold_ids[10])\n",
      "golddata = p4img.data[p4img.data.user_name.isin(markings.gold_members)]\n",
      "golddata = golddata[golddata.marking=='fan']\n",
      "citizens = set(p4img.data.user_name) - set(markings.gold_members)"
     ],
     "language": "python",
     "metadata": {},
     "outputs": [],
     "prompt_number": 7
    },
    {
     "cell_type": "code",
     "collapsed": false,
     "input": [
      "# create plot window\n",
      "fig, ax = plt.subplots(ncols=2, nrows=2, figsize=(12,10))\n",
      "fig.tight_layout()\n",
      "axes = ax.flatten()\n",
      "\n",
      "# fill images, 0 and 2 get it automatically\n",
      "for i in [1,3]:\n",
      "    p4img.show_subframe(ax=axes[i])\n",
      "\n",
      "# remove pixel coord axes\n",
      "for ax in axes:\n",
      "    ax.axis('off')\n",
      "    \n",
      "# citizen stuff\n",
      "p4img.plot_fans(ax=axes[0])\n",
      "axes[0].set_title('Citizen Markings')\n",
      "db = clustering(p4img.get_fans(), axes[1],\n",
      "                eps=7,\n",
      "                min_samples=5, fans=True, ls='-')\n",
      "axes[1].set_title('All citizens clusters (including science team)')\n",
      "\n",
      "# gold stuff\n",
      "gold_star_plotter(p4img, axes[2], fans=True, blotches=False)\n",
      "axes[2].set_title('Science team markings')\n",
      "db = clustering(golddata, axes[1],\n",
      "                min_samples=2,\n",
      "                eps=11, fans=True, ls='--')\n",
      "axes[3].set_title('Science team clusters')"
     ],
     "language": "python",
     "metadata": {},
     "outputs": [
      {
       "output_type": "stream",
       "stream": "stdout",
       "text": [
        "Estimated number of clusters: 51\n",
        "Estimated number of clusters:"
       ]
      },
      {
       "output_type": "stream",
       "stream": "stdout",
       "text": [
        " 29\n"
       ]
      },
      {
       "metadata": {},
       "output_type": "pyout",
       "prompt_number": 42,
       "text": [
        "<matplotlib.text.Text at 0x1669dd4d0>"
       ]
      }
     ],
     "prompt_number": 42
    },
    {
     "cell_type": "code",
     "collapsed": false,
     "input": [
      "### 2 windows side by side. before and after clustering\n",
      "# create plot window\n",
      "fig, ax = plt.subplots(ncols=2, figsize=(12,5))\n",
      "fig.tight_layout()\n",
      "axes = ax.flatten()\n",
      "\n",
      "# fill images, 0 and 2 get it automatically\n",
      "for i in [1]:\n",
      "    p4img.show_subframe(ax=axes[i])\n",
      "\n",
      "# remove pixel coord axes\n",
      "for ax in axes:\n",
      "    ax.axis('off')\n",
      "    \n",
      "# citizen stuff\n",
      "p4img.plot_fans(ax=axes[0])\n",
      "axes[0].set_title('Citizen Markings')\n",
      "db = clustering(p4img.get_fans(), axes[1],\n",
      "                eps=7,\n",
      "                min_samples=5, fans=True, ls='-')\n",
      "axes[1].set_title('All citizens clusters (science team dashed lines)')\n",
      "\n",
      "db = clustering(golddata, axes[1],\n",
      "                min_samples=2,\n",
      "                eps=11, fans=True, ls='--')\n",
      "savefig('MDAP_clustering1.png',dpi=100)"
     ],
     "language": "python",
     "metadata": {},
     "outputs": [
      {
       "output_type": "stream",
       "stream": "stdout",
       "text": [
        "Estimated number of clusters: 51\n",
        "Estimated number of clusters:"
       ]
      },
      {
       "output_type": "stream",
       "stream": "stdout",
       "text": [
        " 29\n"
       ]
      }
     ],
     "prompt_number": 11
    },
    {
     "cell_type": "code",
     "collapsed": false,
     "input": [
      "p4img.plot_fans()\n",
      "title(p4img.imgid)\n",
      "plt.axis('off')\n",
      "savefig('/Users/maye/Dropbox/src/planet4_paper1/images/fan_markings.eps', dpi=150)"
     ],
     "language": "python",
     "metadata": {},
     "outputs": [],
     "prompt_number": 17
    },
    {
     "cell_type": "code",
     "collapsed": false,
     "input": [
      "# create plot window\n",
      "fig, ax = plt.subplots(ncols=1, nrows=2, figsize=(12,10))\n",
      "axes = ax.flatten()\n",
      "\n",
      "# fill images, 0 and 2 get it automatically\n",
      "for i in [0,1]:\n",
      "    p4img.show_subframe(ax=axes[i])\n",
      "\n",
      "# citizen stuff\n",
      "db = clustering(p4img.get_fans(), axes[0],\n",
      "                eps=7,\n",
      "                min_samples=5, fans=True)\n",
      "axes[0].set_title('All citizens clusters (including science team)')\n",
      "\n",
      "# gold stuff\n",
      "db = clustering(golddata, axes[1],\n",
      "                min_samples=1,\n",
      "                eps=7, fans=True)\n",
      "axes[1].set_title('Gold data clusters')"
     ],
     "language": "python",
     "metadata": {},
     "outputs": [
      {
       "output_type": "stream",
       "stream": "stdout",
       "text": [
        "Estimated number of clusters: 51\n",
        "Estimated number of clusters:"
       ]
      },
      {
       "output_type": "stream",
       "stream": "stdout",
       "text": [
        " 50\n"
       ]
      },
      {
       "metadata": {},
       "output_type": "pyout",
       "prompt_number": 10,
       "text": [
        "<matplotlib.text.Text at 0x11b40b410>"
       ]
      }
     ],
     "prompt_number": 10
    },
    {
     "cell_type": "code",
     "collapsed": false,
     "input": [
      "### single window, after clustering\n",
      "# create plot window\n",
      "fig, ax = plt.subplots(figsize=(12,9))\n",
      "axes = ax\n",
      "\n",
      "# fill images, 0 and 2 get it automatically\n",
      "for i in [0]:\n",
      "    p4img.show_subframe(ax=axes)\n",
      "\n",
      "# citizen stuff\n",
      "db = clustering(p4img.get_fans(), axes,\n",
      "                eps=7,\n",
      "                min_samples=5, fans=True)\n",
      "# axes.set_title('All citizens clusters (including science team)')\n",
      "plt.axis('off')\n",
      "plt.savefig('/Users/maye/Dropbox/src/planet4_paper1/images/fans_clustered.eps',bbox_inches='tight',dpi=150)"
     ],
     "language": "python",
     "metadata": {},
     "outputs": [
      {
       "output_type": "stream",
       "stream": "stdout",
       "text": [
        "Estimated number of clusters: 51\n"
       ]
      }
     ],
     "prompt_number": 20
    },
    {
     "cell_type": "code",
     "collapsed": false,
     "input": [
      "pwd"
     ],
     "language": "python",
     "metadata": {},
     "outputs": [
      {
       "metadata": {},
       "output_type": "pyout",
       "prompt_number": 30,
       "text": [
        "u'/Users/maye/Dropbox/src/P4_sandbox/notebooks'"
       ]
      }
     ],
     "prompt_number": 30
    },
    {
     "cell_type": "code",
     "collapsed": false,
     "input": [
      "labels = db.labels_.astype('int')\n",
      "unique_labels = set(labels)\n",
      "unique_labels"
     ],
     "language": "python",
     "metadata": {},
     "outputs": [
      {
       "metadata": {},
       "output_type": "pyout",
       "prompt_number": 65,
       "text": [
        "{-1, 0, 1, 2}"
       ]
      }
     ],
     "prompt_number": 65
    },
    {
     "cell_type": "code",
     "collapsed": false,
     "input": [
      "label_members = [index[0] for index in argwhere(labels==2)]\n",
      "label_members"
     ],
     "language": "python",
     "metadata": {},
     "outputs": [
      {
       "metadata": {},
       "output_type": "pyout",
       "prompt_number": 71,
       "text": [
        "[2, 11]"
       ]
      }
     ],
     "prompt_number": 71
    },
    {
     "cell_type": "code",
     "collapsed": false,
     "input": [
      "ellipse_cols"
     ],
     "language": "python",
     "metadata": {},
     "outputs": [
      {
       "metadata": {},
       "output_type": "pyout",
       "prompt_number": 87,
       "text": [
        "['x', 'y', 'radius_1', 'radius_2', 'angle']"
       ]
      }
     ],
     "prompt_number": 87
    },
    {
     "cell_type": "code",
     "collapsed": false,
     "input": [
      "data = golddata\n",
      "ellipsedata = data[ellipse_cols].iloc[label_members]\n",
      "ellipsedata"
     ],
     "language": "python",
     "metadata": {},
     "outputs": [
      {
       "html": [
        "<div style=\"max-height:1000px;max-width:1500px;overflow:auto;\">\n",
        "<table border=\"1\" class=\"dataframe\">\n",
        "  <thead>\n",
        "    <tr style=\"text-align: right;\">\n",
        "      <th></th>\n",
        "      <th>x</th>\n",
        "      <th>y</th>\n",
        "      <th>radius_1</th>\n",
        "      <th>radius_2</th>\n",
        "      <th>angle</th>\n",
        "    </tr>\n",
        "  </thead>\n",
        "  <tbody>\n",
        "    <tr>\n",
        "      <th>11691388</th>\n",
        "      <td> 304.5</td>\n",
        "      <td> 62</td>\n",
        "      <td> 61.294372</td>\n",
        "      <td> 45.970779</td>\n",
        "      <td> 28.237446</td>\n",
        "    </tr>\n",
        "    <tr>\n",
        "      <th>11725774</th>\n",
        "      <td> 301.0</td>\n",
        "      <td> 70</td>\n",
        "      <td> 53.851648</td>\n",
        "      <td> 28.844410</td>\n",
        "      <td> 31.328693</td>\n",
        "    </tr>\n",
        "  </tbody>\n",
        "</table>\n",
        "</div>"
       ],
       "metadata": {},
       "output_type": "pyout",
       "prompt_number": 103,
       "text": [
        "              x   y   radius_1   radius_2      angle\n",
        "11691388  304.5  62  61.294372  45.970779  28.237446\n",
        "11725774  301.0  70  53.851648  28.844410  31.328693"
       ]
      }
     ],
     "prompt_number": 103
    },
    {
     "cell_type": "code",
     "collapsed": false,
     "input": [
      "fig, ax = plt.subplots()\n",
      "for i in range(len(ellipsedata)):\n",
      "    blotch = markings.Blotch(ellipsedata.iloc[i])\n",
      "    ax.add_artist(blotch)\n",
      "\n",
      "markings.set_subframe_size(ax)\n",
      "\n",
      "# meandata = ellipsedata.mean(axis=0)\n",
      "# meandata"
     ],
     "language": "python",
     "metadata": {},
     "outputs": [],
     "prompt_number": 110
    },
    {
     "cell_type": "code",
     "collapsed": false,
     "input": [
      "ellipsedata.mean()"
     ],
     "language": "python",
     "metadata": {},
     "outputs": [
      {
       "metadata": {},
       "output_type": "pyout",
       "prompt_number": 113,
       "text": [
        "x           302.750000\n",
        "y            66.000000\n",
        "radius_1     57.573010\n",
        "radius_2     37.407594\n",
        "angle        29.783069\n",
        "dtype: float64"
       ]
      }
     ],
     "prompt_number": 113
    },
    {
     "cell_type": "code",
     "collapsed": false,
     "input": [],
     "language": "python",
     "metadata": {},
     "outputs": [
      {
       "ename": "SyntaxError",
       "evalue": "invalid syntax (<ipython-input-42-08b888ce74e1>, line 1)",
       "output_type": "pyerr",
       "traceback": [
        "\u001b[0;36m  File \u001b[0;32m\"<ipython-input-42-08b888ce74e1>\"\u001b[0;36m, line \u001b[0;32m1\u001b[0m\n\u001b[0;31m    np.array([[ 360.5          35.           51.4003891    38.55029183   52.9071627 ]\u001b[0m\n\u001b[0m                                 ^\u001b[0m\n\u001b[0;31mSyntaxError\u001b[0m\u001b[0;31m:\u001b[0m invalid syntax\n"
       ]
      }
     ],
     "prompt_number": 42
    },
    {
     "cell_type": "code",
     "collapsed": false,
     "input": [
      "golddata.columns"
     ],
     "language": "python",
     "metadata": {},
     "outputs": [
      {
       "metadata": {},
       "output_type": "pyout",
       "prompt_number": 32,
       "text": [
        "Index([u'classification_id', u'created_at', u'image_id', u'image_name', u'image_url', u'user_name', u'marking', u'x_tile', u'y_tile', u'acquisition_date', u'local_mars_time', u'x', u'y', u'image_x', u'image_y', u'radius_1', u'radius_2', u'distance', u'angle', u'spread'], dtype='object')"
       ]
      }
     ],
     "prompt_number": 32
    },
    {
     "cell_type": "code",
     "collapsed": false,
     "input": [
      "golddata.image_name"
     ],
     "language": "python",
     "metadata": {},
     "outputs": [
      {
       "metadata": {},
       "output_type": "pyout",
       "prompt_number": 33,
       "text": [
        "11691409    ESP_011296_0975\n",
        "11691410    ESP_011296_0975\n",
        "11691411    ESP_011296_0975\n",
        "11691412    ESP_011296_0975\n",
        "11691413    ESP_011296_0975\n",
        "11691414    ESP_011296_0975\n",
        "11691415    ESP_011296_0975\n",
        "11691416    ESP_011296_0975\n",
        "11691417    ESP_011296_0975\n",
        "11691418    ESP_011296_0975\n",
        "11691419    ESP_011296_0975\n",
        "11691420    ESP_011296_0975\n",
        "11691430    ESP_011296_0975\n",
        "11691431    ESP_011296_0975\n",
        "11691432    ESP_011296_0975\n",
        "...\n",
        "11725856    ESP_011296_0975\n",
        "11725857    ESP_011296_0975\n",
        "11725858    ESP_011296_0975\n",
        "11725859    ESP_011296_0975\n",
        "11725860    ESP_011296_0975\n",
        "11725861    ESP_011296_0975\n",
        "11725862    ESP_011296_0975\n",
        "11725863    ESP_011296_0975\n",
        "11725864    ESP_011296_0975\n",
        "11725865    ESP_011296_0975\n",
        "11725866    ESP_011296_0975\n",
        "11725867    ESP_011296_0975\n",
        "11725868    ESP_011296_0975\n",
        "11725869    ESP_011296_0975\n",
        "11725870    ESP_011296_0975\n",
        "Name: image_name, Length: 98, dtype: object"
       ]
      }
     ],
     "prompt_number": 33
    },
    {
     "cell_type": "code",
     "collapsed": false,
     "input": [],
     "language": "python",
     "metadata": {},
     "outputs": []
    }
   ],
   "metadata": {}
  }
 ]
}