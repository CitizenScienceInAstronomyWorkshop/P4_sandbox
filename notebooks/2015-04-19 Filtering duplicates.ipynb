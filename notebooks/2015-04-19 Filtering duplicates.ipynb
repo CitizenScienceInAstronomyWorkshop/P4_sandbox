{
 "cells": [
  {
   "cell_type": "code",
   "execution_count": null,
   "metadata": {
    "collapsed": false
   },
   "outputs": [],
   "source": [
    "from planet4.io import get_image_id_data as get_image_id, get_image_name_data,\\\n",
    "    get_list_of_image_names_data\n",
    "from planet4 import io"
   ]
  },
  {
   "cell_type": "code",
   "execution_count": null,
   "metadata": {
    "collapsed": true
   },
   "outputs": [],
   "source": [
    "from planet4.region_data import Inca"
   ]
  },
  {
   "cell_type": "code",
   "execution_count": null,
   "metadata": {
    "collapsed": false
   },
   "outputs": [],
   "source": [
    "data = get_list_of_image_names_data(Inca.season1)"
   ]
  },
  {
   "cell_type": "code",
   "execution_count": null,
   "metadata": {
    "collapsed": false
   },
   "outputs": [],
   "source": [
    "data.info()"
   ]
  },
  {
   "cell_type": "code",
   "execution_count": null,
   "metadata": {
    "collapsed": false
   },
   "outputs": [],
   "source": [
    "image_ids = data.image_id.unique()"
   ]
  },
  {
   "cell_type": "code",
   "execution_count": null,
   "metadata": {
    "collapsed": true
   },
   "outputs": [],
   "source": [
    "df = data[data.image_id==image_ids[0]]"
   ]
  },
  {
   "cell_type": "code",
   "execution_count": null,
   "metadata": {
    "collapsed": false
   },
   "outputs": [],
   "source": [
    "df.info()"
   ]
  },
  {
   "cell_type": "code",
   "execution_count": null,
   "metadata": {
    "collapsed": false
   },
   "outputs": [],
   "source": [
    "df.groupby(['classification_id','user_name']).size()"
   ]
  },
  {
   "cell_type": "code",
   "execution_count": null,
   "metadata": {
    "collapsed": true
   },
   "outputs": [],
   "source": [
    "def process_image_name(image_name):\n",
    "\n",
    "    def process_user_group(g):\n",
    "        c_id = g.sort('created_at').classification_id.iloc[0]\n",
    "        return g[g.classification_id == c_id]\n",
    "\n",
    "    data = df[df.image_name == image_name]\n",
    "    data = data.groupby(['user_name']).apply(\n",
    "        process_user_group).reset_index(drop=True)\n",
    "    fname = 'temp_' + image_name + '.h5'\n",
    "    data.to_hdf(fname, 'df')\n"
   ]
  },
  {
   "cell_type": "code",
   "execution_count": null,
   "metadata": {
    "collapsed": true
   },
   "outputs": [],
   "source": [
    "def process_user_group(g):\n",
    "    c_id = g.sort('created_at').classification_id.iloc[0]\n",
    "    return g[g.classification_id == c_id]"
   ]
  },
  {
   "cell_type": "code",
   "execution_count": null,
   "metadata": {
    "collapsed": false
   },
   "outputs": [],
   "source": [
    "filtered_data = df.groupby(['user_name']).apply(process_user_group)"
   ]
  },
  {
   "cell_type": "code",
   "execution_count": null,
   "metadata": {
    "collapsed": true
   },
   "outputs": [],
   "source": [
    "from planet4 import helper_functions as hf"
   ]
  },
  {
   "cell_type": "code",
   "execution_count": null,
   "metadata": {
    "collapsed": false
   },
   "outputs": [],
   "source": [
    "def process_image_id(image_id):\n",
    "    df = data[data.image_id==image_id]\n",
    "    n_class = df.classification_id.unique().size\n",
    "    results = hf.classification_counts_per_user(df).value_counts()\n",
    "    if not any(results.index>1):\n",
    "        return n_class, n_class\n",
    "    else:\n",
    "        n_class_real = results[1]\n",
    "        for index in results.index[results.index>1]:\n",
    "            n_class_real += results[index]\n",
    "        return (n_class_real, n_class)"
   ]
  },
  {
   "cell_type": "code",
   "execution_count": null,
   "metadata": {
    "collapsed": false,
    "scrolled": true
   },
   "outputs": [],
   "source": [
    "real_class_percents = []\n",
    "for image_id in image_ids:\n",
    "    real_class_percents.append(process_image_id(image_id))"
   ]
  },
  {
   "cell_type": "code",
   "execution_count": null,
   "metadata": {
    "collapsed": false
   },
   "outputs": [],
   "source": [
    "%matplotlib inline\n",
    "import matplotlib.pyplot as plt"
   ]
  },
  {
   "cell_type": "code",
   "execution_count": null,
   "metadata": {
    "collapsed": false
   },
   "outputs": [],
   "source": [
    "s = pd.DataFrame(real_class_percents, index=image_ids, columns=['real_n_class', 'expected_n_class'])"
   ]
  },
  {
   "cell_type": "code",
   "execution_count": null,
   "metadata": {
    "collapsed": false
   },
   "outputs": [],
   "source": [
    "s.head()"
   ]
  },
  {
   "cell_type": "code",
   "execution_count": null,
   "metadata": {
    "collapsed": false
   },
   "outputs": [],
   "source": [
    "s.plot()"
   ]
  },
  {
   "cell_type": "code",
   "execution_count": null,
   "metadata": {
    "collapsed": true
   },
   "outputs": [],
   "source": [
    "import seaborn as sns\n",
    "sns.set_context('talk')"
   ]
  },
  {
   "cell_type": "code",
   "execution_count": null,
   "metadata": {
    "collapsed": false
   },
   "outputs": [],
   "source": [
    "s.head()"
   ]
  },
  {
   "cell_type": "code",
   "execution_count": null,
   "metadata": {
    "collapsed": false
   },
   "outputs": [],
   "source": [
    "s = s.assign(fraction=s.real_n_class/s.expected_n_class)"
   ]
  },
  {
   "cell_type": "code",
   "execution_count": null,
   "metadata": {
    "collapsed": false
   },
   "outputs": [],
   "source": [
    "s.fraction.plot(style='.',title='Inca City, season1, fraction of good classifications')"
   ]
  },
  {
   "cell_type": "code",
   "execution_count": null,
   "metadata": {
    "collapsed": false
   },
   "outputs": [],
   "source": [
    "s.describe()"
   ]
  },
  {
   "cell_type": "code",
   "execution_count": null,
   "metadata": {
    "collapsed": false
   },
   "outputs": [],
   "source": [
    "df = data[data.image_id=='APF0000zea']\n",
    "n_class= df.classification_id.unique().size\n",
    "n_class\n",
    "results = hf.classification_counts_per_user(df).value_counts()\n",
    "results\n",
    "results.index>1\n",
    "n_class_real = results[1]\n",
    "for index in results.index[results.index>1]:\n",
    "    n_class_real += results[index]\n",
    "n_class_real"
   ]
  },
  {
   "cell_type": "markdown",
   "metadata": {
    "collapsed": true
   },
   "source": [
    "# Update"
   ]
  },
  {
   "cell_type": "code",
   "execution_count": 1,
   "metadata": {
    "collapsed": true
   },
   "outputs": [],
   "source": [
    "from planet4 import io"
   ]
  },
  {
   "cell_type": "code",
   "execution_count": 2,
   "metadata": {
    "collapsed": true
   },
   "outputs": [],
   "source": [
    "from planet4 import reduction"
   ]
  },
  {
   "cell_type": "code",
   "execution_count": 3,
   "metadata": {
    "collapsed": true
   },
   "outputs": [],
   "source": [
    "db = io.DBManager('/Users/klay6683/data/planet4/2015-10-11_planet_four_classifications_queryable2.h5')"
   ]
  },
  {
   "cell_type": "code",
   "execution_count": 4,
   "metadata": {
    "collapsed": false
   },
   "outputs": [],
   "source": [
    "data = db.get_image_id_markings('APF00003hp')"
   ]
  },
  {
   "cell_type": "code",
   "execution_count": 35,
   "metadata": {
    "collapsed": false
   },
   "outputs": [
    {
     "data": {
      "text/plain": [
       "'/Users/klay6683/data/planet4/2015-10-11_planet_four_classifications_queryable2.h5'"
      ]
     },
     "execution_count": 35,
     "metadata": {},
     "output_type": "execute_result"
    }
   ],
   "source": [
    "pd.HDFStore(db.dbname, 'df', where='image_name')"
   ]
  },
  {
   "cell_type": "code",
   "execution_count": 5,
   "metadata": {
    "collapsed": true
   },
   "outputs": [],
   "source": [
    "from planet4 import helper_functions as hf"
   ]
  },
  {
   "cell_type": "code",
   "execution_count": 7,
   "metadata": {
    "collapsed": false
   },
   "outputs": [
    {
     "data": {
      "text/plain": [
       "user_name\n",
       "Kitharode                                         2\n",
       "bmacpherson                                       2\n",
       "not-logged-in-073dee28bbc9c250d9dc02cb99f4ef93    2\n",
       "GazyB                                             2\n",
       "stephen milanovic                                 1\n",
       "tonnie1                                           1\n",
       "not-logged-in-a73525bd89cfa4ce77d75d2fe53fcb2d    1\n",
       "CosmoMallard                                      1\n",
       "ewa@gorska.co.uk                                  1\n",
       "simonwalker                                       1\n",
       "garydougill                                       1\n",
       "Hannah93                                          1\n",
       "D_J_G                                             1\n",
       "LivingMars                                        1\n",
       "pauly1080                                         1\n",
       "Juliandmark                                       1\n",
       "timtrent                                          1\n",
       "ray149                                            1\n",
       "not-logged-in-a2fe0761f89efa289864177a0d14dcc3    1\n",
       "kenrobinson                                       1\n",
       "crater rater                                      1\n",
       "not-logged-in-0f05ba508144a1fcb9cdde560755c068    1\n",
       "not-logged-in-32b5c4b59ea64f901bad279b8b8dd02d    1\n",
       "not-logged-in-8f6804ca3f6aff20734c0ed86a8ca062    1\n",
       "not-logged-in-c56ba65224c188ab339c1074debc34d4    1\n",
       "SJIllustrator                                     1\n",
       "not-logged-in-85fa08699c17f4a83428ee5fc5ff941d    1\n",
       "not-logged-in-8198d68f24d1c0b95c214293fd48962e    1\n",
       "TomRais27                                         1\n",
       "not-logged-in-e9499fe3a172eb1e6cf62e330949d1d2    1\n",
       "                                                 ..\n",
       "max baer                                          1\n",
       "not-logged-in-349ee219314ea5fbd44b69cfc1295684    1\n",
       "stonehouse_c8                                     1\n",
       "steholmes                                         1\n",
       "not-logged-in-3fb3c21e4ae3d9d8d2e0d97ab959dc62    1\n",
       "37313                                             1\n",
       "AndyCotton                                        1\n",
       "angelsco                                          1\n",
       "Untempered Eye                                    1\n",
       "alexcostabh                                       1\n",
       "blaze_carter                                      1\n",
       "davwil                                            1\n",
       "not-logged-in-2e60dcdfdef9f9789a25e8b99d257457    1\n",
       "not-logged-in-dd19b3e673ea6b503873b845fa42e5e5    1\n",
       "chrisironside                                     1\n",
       "Nando123                                          1\n",
       "mktedman                                          1\n",
       "timthomas49@hotmail.co.uk                         1\n",
       "flep51                                            1\n",
       "clearsky                                          1\n",
       "save the ewoks                                    1\n",
       "not-logged-in-5f5f1cc83d65db0c52a701374116a38b    1\n",
       "Rob                                               1\n",
       "not-logged-in-c71f1e363c59722e7b4a0172b5dcc6ac    1\n",
       "irelg                                             1\n",
       "tequilaprince                                     1\n",
       "Samflack                                          1\n",
       "NJWhite                                           1\n",
       "ajvsdvn                                           1\n",
       "clcrabtree                                        1\n",
       "Name: classification_id, dtype: int64"
      ]
     },
     "execution_count": 7,
     "metadata": {},
     "output_type": "execute_result"
    }
   ],
   "source": [
    "hf.classification_counts_per_user(data)"
   ]
  },
  {
   "cell_type": "code",
   "execution_count": 9,
   "metadata": {
    "collapsed": false
   },
   "outputs": [],
   "source": [
    "def pug1(g):\n",
    "    c_id = g.sort_values(by='classification_id').classification_id.iloc[0]\n",
    "    return g[g.classification_id == c_id]"
   ]
  },
  {
   "cell_type": "code",
   "execution_count": 10,
   "metadata": {
    "collapsed": false
   },
   "outputs": [],
   "source": [
    "def pug1b(g):\n",
    "    c_id = g.sort_values(by='classification_id').classification_id.iloc[0]\n",
    "    return c_id"
   ]
  },
  {
   "cell_type": "code",
   "execution_count": 11,
   "metadata": {
    "collapsed": false
   },
   "outputs": [],
   "source": [
    "def pug2(g):\n",
    "    c_id = g.classification_id.min()\n",
    "    return g[g.classification_id == c_id]"
   ]
  },
  {
   "cell_type": "code",
   "execution_count": 12,
   "metadata": {
    "collapsed": false
   },
   "outputs": [],
   "source": [
    "def pug2b(g):\n",
    "    c_id = g.classification_id.min()\n",
    "    return c_id"
   ]
  },
  {
   "cell_type": "code",
   "execution_count": 21,
   "metadata": {
    "collapsed": true
   },
   "outputs": [],
   "source": [
    "usergroup = data.groupby(['user_name'], sort=False)"
   ]
  },
  {
   "cell_type": "code",
   "execution_count": 22,
   "metadata": {
    "collapsed": false
   },
   "outputs": [
    {
     "name": "stdout",
     "output_type": "stream",
     "text": [
      "10 loops, best of 3: 169 ms per loop\n"
     ]
    }
   ],
   "source": [
    "%timeit usergroup.apply(pug1).reset_index(drop=True)"
   ]
  },
  {
   "cell_type": "code",
   "execution_count": 23,
   "metadata": {
    "collapsed": false
   },
   "outputs": [
    {
     "name": "stdout",
     "output_type": "stream",
     "text": [
      "10 loops, best of 3: 132 ms per loop\n"
     ]
    }
   ],
   "source": [
    "%timeit usergroup.apply(pug2).reset_index(drop=True)"
   ]
  },
  {
   "cell_type": "code",
   "execution_count": 25,
   "metadata": {
    "collapsed": false
   },
   "outputs": [
    {
     "name": "stdout",
     "output_type": "stream",
     "text": [
      "100 loops, best of 3: 6.95 ms per loop\n"
     ]
    }
   ],
   "source": [
    "%timeit data[data.classification_id.isin(usergroup.classification_id.min())]"
   ]
  },
  {
   "cell_type": "code",
   "execution_count": 26,
   "metadata": {
    "collapsed": false
   },
   "outputs": [],
   "source": [
    "v1 = usergroup.apply(pug1).reset_index(drop=True).sort_values(by=['classification_id'])"
   ]
  },
  {
   "cell_type": "code",
   "execution_count": 27,
   "metadata": {
    "collapsed": true
   },
   "outputs": [],
   "source": [
    "v2 = usergroup.apply(pug2).reset_index(drop=True).sort_values(by=['classification_id'])"
   ]
  },
  {
   "cell_type": "code",
   "execution_count": 31,
   "metadata": {
    "collapsed": false
   },
   "outputs": [],
   "source": [
    "v3 = data[data.classification_id.isin(usergroup.classification_id.min())]"
   ]
  },
  {
   "cell_type": "code",
   "execution_count": 32,
   "metadata": {
    "collapsed": false
   },
   "outputs": [
    {
     "data": {
      "text/plain": [
       "classification_id    True\n",
       "created_at           True\n",
       "image_id             True\n",
       "image_name           True\n",
       "image_url            True\n",
       "user_name            True\n",
       "marking              True\n",
       "x_tile               True\n",
       "y_tile               True\n",
       "acquisition_date     True\n",
       "local_mars_time      True\n",
       "x                    True\n",
       "y                    True\n",
       "image_x              True\n",
       "image_y              True\n",
       "radius_1             True\n",
       "radius_2             True\n",
       "distance             True\n",
       "angle                True\n",
       "spread               True\n",
       "version              True\n",
       "dtype: bool"
      ]
     },
     "execution_count": 32,
     "metadata": {},
     "output_type": "execute_result"
    }
   ],
   "source": [
    "(v1.dropna() == v3.dropna()).all()"
   ]
  },
  {
   "cell_type": "code",
   "execution_count": 34,
   "metadata": {
    "collapsed": false
   },
   "outputs": [
    {
     "data": {
      "text/html": [
       "<div>\n",
       "<table border=\"1\" class=\"dataframe\">\n",
       "  <thead>\n",
       "    <tr style=\"text-align: right;\">\n",
       "      <th></th>\n",
       "      <th>classification_id</th>\n",
       "      <th>created_at</th>\n",
       "      <th>image_id</th>\n",
       "      <th>image_name</th>\n",
       "      <th>image_url</th>\n",
       "      <th>user_name</th>\n",
       "      <th>marking</th>\n",
       "      <th>x_tile</th>\n",
       "      <th>y_tile</th>\n",
       "      <th>acquisition_date</th>\n",
       "      <th>...</th>\n",
       "      <th>x</th>\n",
       "      <th>y</th>\n",
       "      <th>image_x</th>\n",
       "      <th>image_y</th>\n",
       "      <th>radius_1</th>\n",
       "      <th>radius_2</th>\n",
       "      <th>distance</th>\n",
       "      <th>angle</th>\n",
       "      <th>spread</th>\n",
       "      <th>version</th>\n",
       "    </tr>\n",
       "  </thead>\n",
       "  <tbody>\n",
       "  </tbody>\n",
       "</table>\n",
       "<p>0 rows × 21 columns</p>\n",
       "</div>"
      ],
      "text/plain": [
       "Empty DataFrame\n",
       "Columns: [classification_id, created_at, image_id, image_name, image_url, user_name, marking, x_tile, y_tile, acquisition_date, local_mars_time, x, y, image_x, image_y, radius_1, radius_2, distance, angle, spread, version]\n",
       "Index: []\n",
       "\n",
       "[0 rows x 21 columns]"
      ]
     },
     "execution_count": 34,
     "metadata": {},
     "output_type": "execute_result"
    }
   ],
   "source": [
    "v3[v3.classification_id=='50ef44b995e6e42d8c000001']"
   ]
  },
  {
   "cell_type": "code",
   "execution_count": 30,
   "metadata": {
    "collapsed": false
   },
   "outputs": [
    {
     "data": {
      "text/plain": [
       "classification_id    True\n",
       "created_at           True\n",
       "image_id             True\n",
       "image_name           True\n",
       "image_url            True\n",
       "user_name            True\n",
       "marking              True\n",
       "x_tile               True\n",
       "y_tile               True\n",
       "acquisition_date     True\n",
       "local_mars_time      True\n",
       "x                    True\n",
       "y                    True\n",
       "image_x              True\n",
       "image_y              True\n",
       "radius_1             True\n",
       "radius_2             True\n",
       "distance             True\n",
       "angle                True\n",
       "spread               True\n",
       "version              True\n",
       "dtype: bool"
      ]
     },
     "execution_count": 30,
     "metadata": {},
     "output_type": "execute_result"
    }
   ],
   "source": [
    "(usergroup.apply(pug1).dropna() == usergroup.apply(pug2).dropna()).all()"
   ]
  },
  {
   "cell_type": "code",
   "execution_count": null,
   "metadata": {
    "collapsed": false,
    "scrolled": false
   },
   "outputs": [],
   "source": [
    "v1.info()"
   ]
  },
  {
   "cell_type": "code",
   "execution_count": null,
   "metadata": {
    "collapsed": false
   },
   "outputs": [],
   "source": [
    "(v1.dropna()==v2.dropna()).all()"
   ]
  },
  {
   "cell_type": "code",
   "execution_count": null,
   "metadata": {
    "collapsed": false
   },
   "outputs": [],
   "source": [
    "v2.head()"
   ]
  },
  {
   "cell_type": "code",
   "execution_count": null,
   "metadata": {
    "collapsed": false
   },
   "outputs": [],
   "source": [
    "data.groupby(['user_name','classification_id']).apply(lambda x: len(x.classification_id.unique())).sort_values(ascending=False).min()"
   ]
  },
  {
   "cell_type": "code",
   "execution_count": null,
   "metadata": {
    "collapsed": true
   },
   "outputs": [],
   "source": [
    "v3 = data[data.classification_id.isin(data.groupby('user_name').classification_id.max())].sort_values(by='classification_id')"
   ]
  },
  {
   "cell_type": "code",
   "execution_count": null,
   "metadata": {
    "collapsed": false
   },
   "outputs": [],
   "source": [
    "(v1.classification_id.sort_values() == v2.classification_id.sort_values()).all()"
   ]
  },
  {
   "cell_type": "code",
   "execution_count": null,
   "metadata": {
    "collapsed": false
   },
   "outputs": [],
   "source": [
    "(g.apply(pug1).reset_index(drop=True) == g.apply(pug2).reset_index(drop=True)).all()"
   ]
  },
  {
   "cell_type": "code",
   "execution_count": null,
   "metadata": {
    "collapsed": false
   },
   "outputs": [],
   "source": [
    "%timeit g.apply(pug2b)"
   ]
  },
  {
   "cell_type": "code",
   "execution_count": null,
   "metadata": {
    "collapsed": false,
    "scrolled": false
   },
   "outputs": [],
   "source": [
    "img_ids = ['APF00003hp']\n",
    "users = ['not-logged-in-073dee28bbc9c250d9dc02cb99f4ef93']\n",
    "\n",
    "for img_id, user in zip(img_ids, users):\n",
    "    print(\"image_id: \", img_id)\n",
    "    print(\"User: \", user)\n",
    "    data = db.get_image_id_markings(img_id)\n",
    "    print(\"Before filtering classification_id created_at times:\")\n",
    "    print(data[data.user_name==user].created_at.unique())\n",
    "    print(\"Classification_ids:\")\n",
    "    print(data[data.user_name==user].classification_id.unique())\n",
    "\n",
    "    g = data.groupby(['user_name'])\n",
    "    res = g.apply(process_user_group).reset_index(drop=True)\n",
    "    print(\"After filtering:\")\n",
    "    print(res[res.user_name==user].created_at.unique())\n",
    "    print(res[res.user_name==user].classification_id.unique())\n",
    "    print()"
   ]
  },
  {
   "cell_type": "code",
   "execution_count": null,
   "metadata": {
    "collapsed": false
   },
   "outputs": [],
   "source": [
    "fname = '/Users/klay6683/data/planet4/2015-10-11_planet_four_classifications_queryable.h5'\n",
    "db = io.DBManager()"
   ]
  },
  {
   "cell_type": "code",
   "execution_count": null,
   "metadata": {
    "collapsed": false
   },
   "outputs": [],
   "source": [
    "db.dbname"
   ]
  },
  {
   "cell_type": "code",
   "execution_count": null,
   "metadata": {
    "collapsed": false,
    "scrolled": false
   },
   "outputs": [],
   "source": [
    "data = pd.read_hdf(db.dbname, 'df',\n",
    "                    where=\"classification_id=='50ef44b795e6e42cd2000001'\")\n",
    "data"
   ]
  },
  {
   "cell_type": "code",
   "execution_count": null,
   "metadata": {
    "collapsed": true
   },
   "outputs": [],
   "source": [
    "df = pd.read_hdf(db.dbname, 'df')"
   ]
  },
  {
   "cell_type": "code",
   "execution_count": null,
   "metadata": {
    "collapsed": false
   },
   "outputs": [],
   "source": [
    "df[df.classification_id=='50ef44b795e6e42cd2000001']"
   ]
  },
  {
   "cell_type": "code",
   "execution_count": null,
   "metadata": {
    "collapsed": false,
    "scrolled": true
   },
   "outputs": [],
   "source": [
    "df[df.classification_id=='50ef44b995e6e42d8c000001']"
   ]
  },
  {
   "cell_type": "code",
   "execution_count": null,
   "metadata": {
    "collapsed": false,
    "scrolled": false
   },
   "outputs": [],
   "source": [
    "df[df.classification_id=='50ee0e5694b9d564a90000b5']"
   ]
  },
  {
   "cell_type": "code",
   "execution_count": null,
   "metadata": {
    "collapsed": false
   },
   "outputs": [],
   "source": [
    "db.dbname"
   ]
  },
  {
   "cell_type": "code",
   "execution_count": null,
   "metadata": {
    "collapsed": false
   },
   "outputs": [],
   "source": [
    "df.classification_id = df.classification_id.astype('str')"
   ]
  },
  {
   "cell_type": "code",
   "execution_count": null,
   "metadata": {
    "collapsed": false
   },
   "outputs": [],
   "source": [
    "df.to_hdf('/Users/klay6683/data/planet4/2015-10-11_planet_four_classifications_queryable_cleaned.h5',\n",
    "         'df', format='t', data_columns=reduction.data_columns)"
   ]
  },
  {
   "cell_type": "code",
   "execution_count": null,
   "metadata": {
    "collapsed": false
   },
   "outputs": [],
   "source": [
    "pd.read_hdf('/Users/klay6683/data/planet4/2015-10-11_planet_four_classifications_queryable_cleaned.h5',\n",
    "           'df', where=\"classification_id=='50ef44b795e6e42cd2000001'\")"
   ]
  },
  {
   "cell_type": "code",
   "execution_count": null,
   "metadata": {
    "collapsed": true
   },
   "outputs": [],
   "source": [
    "fname = '/Users/klay6683/data/planet4/2015-10-11_planet_four_classifications_queryable.h5'"
   ]
  },
  {
   "cell_type": "code",
   "execution_count": null,
   "metadata": {
    "collapsed": false,
    "scrolled": true
   },
   "outputs": [],
   "source": [
    "reduction.remove_duplicates_from_file(fname)"
   ]
  },
  {
   "cell_type": "code",
   "execution_count": null,
   "metadata": {
    "collapsed": false
   },
   "outputs": [],
   "source": [
    "data = pd.read_hdf('testing.h5', 'df',\n",
    "                    where=\"classification_id=='50ef44b995e6e42d8c000001'\")\n",
    "data"
   ]
  },
  {
   "cell_type": "code",
   "execution_count": null,
   "metadata": {
    "collapsed": true
   },
   "outputs": [],
   "source": [
    "data2 = db.get_class_id_data('50ef44b995e6e42d8c000001')"
   ]
  },
  {
   "cell_type": "code",
   "execution_count": 36,
   "metadata": {
    "collapsed": true
   },
   "outputs": [],
   "source": [
    "s = pd.Series(list('abc'))"
   ]
  },
  {
   "cell_type": "code",
   "execution_count": 37,
   "metadata": {
    "collapsed": false
   },
   "outputs": [
    {
     "data": {
      "text/html": [
       "<div>\n",
       "<table border=\"1\" class=\"dataframe\">\n",
       "  <thead>\n",
       "    <tr style=\"text-align: right;\">\n",
       "      <th></th>\n",
       "      <th>0</th>\n",
       "    </tr>\n",
       "  </thead>\n",
       "  <tbody>\n",
       "    <tr>\n",
       "      <th>0</th>\n",
       "      <td>a</td>\n",
       "    </tr>\n",
       "    <tr>\n",
       "      <th>1</th>\n",
       "      <td>b</td>\n",
       "    </tr>\n",
       "    <tr>\n",
       "      <th>2</th>\n",
       "      <td>c</td>\n",
       "    </tr>\n",
       "  </tbody>\n",
       "</table>\n",
       "</div>"
      ],
      "text/plain": [
       "   0\n",
       "0  a\n",
       "1  b\n",
       "2  c"
      ]
     },
     "execution_count": 37,
     "metadata": {},
     "output_type": "execute_result"
    }
   ],
   "source": [
    "pd.DataFrame(s)"
   ]
  },
  {
   "cell_type": "code",
   "execution_count": 1,
   "metadata": {
    "collapsed": true
   },
   "outputs": [],
   "source": [
    "from planet4 import io"
   ]
  },
  {
   "cell_type": "code",
   "execution_count": 4,
   "metadata": {
    "collapsed": true
   },
   "outputs": [],
   "source": [
    "db=io.DBManager()"
   ]
  },
  {
   "cell_type": "code",
   "execution_count": 3,
   "metadata": {
    "collapsed": true
   },
   "outputs": [],
   "source": [
    "import time"
   ]
  },
  {
   "cell_type": "code",
   "execution_count": 5,
   "metadata": {
    "collapsed": true
   },
   "outputs": [],
   "source": [
    "imgnames = db.season2and3_image_names"
   ]
  },
  {
   "cell_type": "code",
   "execution_count": 6,
   "metadata": {
    "collapsed": true
   },
   "outputs": [],
   "source": [
    "where = \"image_name in {}\".format(imgnames.values.tolist())"
   ]
  },
  {
   "cell_type": "code",
   "execution_count": 7,
   "metadata": {
    "collapsed": false
   },
   "outputs": [
    {
     "data": {
      "text/plain": [
       "\"image_name in ['ESP_011544_0985', 'ESP_021684_0985', 'ESP_011697_0980', 'ESP_020322_0930', 'ESP_021455_0935', 'ESP_020214_0935', 'ESP_012008_0975', 'ESP_020930_0980', 'ESP_020357_0950', 'ESP_012884_0935', 'ESP_021497_0980', 'ESP_011900_0985', 'ESP_012291_0980', 'ESP_021494_0945', 'ESP_021454_0925', 'ESP_021522_0930', 'ESP_020339_0985', 'ESP_012604_0965', 'ESP_012254_1065', 'ESP_021605_0985', 'ESP_011350_0945', 'ESP_020376_0980', 'ESP_021526_0985', 'ESP_021460_0985', 'ESP_012076_0945', 'ESP_012344_0950', 'ESP_011729_0985', 'ESP_012063_0945', 'ESP_012212_0950', 'ESP_012256_0985', 'ESP_020598_0935', 'ESP_011565_0930', 'ESP_012693_0950', 'ESP_012838_0950', 'ESP_020888_0935', 'ESP_011737_0980', 'ESP_020677_0980', 'ESP_020115_0985', 'ESP_011447_0950', 'ESP_012436_0980', 'ESP_021671_0985', 'ESP_012211_0930', 'ESP_020783_0950', 'ESP_012744_0985', 'ESP_020282_0930', 'ESP_012691_0985', 'ESP_020049_0985', 'ESP_021491_0950', 'ESP_021520_0925', 'ESP_020571_0945', 'ESP_020731_0930', 'ESP_022273_0950', 'ESP_011680_1055', 'ESP_020959_0985', 'ESP_021829_0985', 'ESP_012316_0925', 'ESP_012704_0850', 'ESP_021642_0980', 'ESP_020716_0945', 'ESP_012860_0980', 'ESP_011515_0980', 'ESP_020756_0980', 'ESP_012304_0980', 'ESP_020782_0945', 'ESP_011842_0980', 'ESP_012845_0950', 'ESP_020519_0935', 'ESP_012648_0930', 'ESP_020255_0935', 'ESP_011486_0980', 'ESP_020347_0930', 'ESP_020176_0930', 'ESP_012227_0980', 'ESP_012643_0945', 'ESP_011348_0950', 'ESP_011931_0945', 'ESP_012887_1065', 'ESP_012527_0925', 'ESP_021495_0935', 'ESP_020508_0980', 'ESP_020386_0925', 'ESP_012634_0930', 'ESP_020128_0985', 'ESP_011407_0945', 'ESP_012939_0980', 'ESP_013034_0985', 'ESP_011403_0945', 'ESP_021969_0980', 'ESP_012264_0980', 'ESP_012322_0985', 'ESP_020719_0980', 'ESP_011406_0945', 'ESP_020742_0925', 'ESP_011557_0985', 'ESP_011606_0930', 'ESP_012077_0930', 'ESP_012248_0965', 'ESP_013049_0950', 'ESP_021587_0980', 'ESP_020427_0930', 'ESP_020955_0930', 'ESP_011431_0930', 'ESP_011351_0945', 'ESP_011526_0980', 'ESP_022699_0985', 'ESP_020748_0985', 'ESP_012844_0930', 'ESP_011448_0950', 'ESP_012620_0975', 'ESP_012504_0980', 'ESP_012314_0965', 'ESP_012038_0930', 'ESP_012463_0930', 'ESP_020779_0950', 'ESP_011491_0985', 'ESP_011394_0935', 'ESP_021468_0935', 'ESP_011723_0945', 'ESP_012265_0950', 'ESP_012633_0930', 'ESP_012461_0925', 'ESP_012393_0965', 'ESP_011460_0980', 'ESP_012290_0945', 'ESP_020194_0985', 'ESP_020297_0980', 'ESP_020401_0950', 'ESP_020321_0935', 'ESP_012499_0930', 'ESP_011404_0945', 'ESP_011702_0985', 'ESP_011921_0950', 'ESP_020568_0950', 'ESP_012594_0980', 'ESP_012079_0945', 'ESP_012053_0980', 'ESP_012467_0985', 'ESP_013113_0985', 'ESP_020597_0925', 'ESP_012858_0855', 'ESP_022193_0950', 'ESP_022379_0930', 'ESP_012889_0985', 'ESP_012488_0930', 'ESP_012028_0930', 'ESP_011370_0980', 'ESP_020374_0980', 'ESP_020780_0930', 'ESP_012821_0865', 'ESP_011843_0950', 'ESP_020953_0925', 'ESP_013260_0950', 'ESP_012348_0975', 'ESP_012647_0980', 'ESP_020294_0945', 'ESP_021574_0980', 'ESP_021508_0980', 'ESP_011711_0930', 'ESP_012671_0930', 'ESP_020827_0985', 'ESP_011408_0930', 'ESP_011623_0985', 'ESP_021482_0950', 'ESP_011413_0970', 'ESP_011856_0930', 'ESP_021903_0930', 'ESP_012990_0930', 'ESP_020480_0950', 'ESP_013016_0935', 'ESP_012836_0850', 'ESP_020927_0945', 'ESP_020678_0930', 'ESP_020533_0930', 'ESP_012501_0945', 'ESP_012277_0975', 'ESP_012779_0930', 'ESP_020476_0950', 'ESP_020202_0935', 'ESP_011934_0945', 'ESP_012816_0930', 'ESP_021654_0930', 'ESP_012081_0930', 'ESP_012225_0980', 'ESP_013030_0930', 'ESP_011792_0980', 'ESP_012819_0930', 'ESP_011777_0950', 'ESP_011422_0930', 'ESP_020954_0935', 'ESP_021521_0980', 'ESP_012805_0980', 'ESP_011671_0935', 'ESP_012871_0980', 'ESP_012515_0980', 'ESP_012854_0945', 'ESP_022260_0935', 'ESP_020532_0935', 'ESP_011776_0930', 'ESP_011420_0930', 'ESP_012607_0980', 'ESP_020146_0950', 'ESP_021483_0930', 'ESP_011341_0980', 'ESP_012739_0935', 'ESP_020150_0950', 'ESP_020875_0980', 'ESP_020229_0930', 'ESP_020558_0930', 'ESP_020902_0950', 'ESP_011960_0925', 'ESP_020242_0945', 'ESP_011961_0935', 'ESP_012817_0925', 'ESP_012251_0935', 'ESP_011296_0975', 'ESP_020941_0980', 'ESP_013095_0935', 'ESP_012753_0950', 'ESP_022510_0980', 'ESP_022339_0935', 'ESP_020163_0980']\""
      ]
     },
     "execution_count": 7,
     "metadata": {},
     "output_type": "execute_result"
    }
   ],
   "source": [
    "where"
   ]
  },
  {
   "cell_type": "code",
   "execution_count": 9,
   "metadata": {
    "collapsed": false
   },
   "outputs": [
    {
     "name": "stdout",
     "output_type": "stream",
     "text": [
      "time:  19.6526939868927\n"
     ]
    }
   ],
   "source": [
    "import time\n",
    "t0 = time.time()\n",
    "season23 = pd.read_hdf(db.dbname, 'df', where=where)\n",
    "t1 = time.time()\n",
    "print(\"time: \", t1 - t0)"
   ]
  },
  {
   "cell_type": "code",
   "execution_count": null,
   "metadata": {
    "collapsed": true
   },
   "outputs": [],
   "source": []
  }
 ],
 "metadata": {
  "kernelspec": {
   "display_name": "Python 3 (root)",
   "language": "python",
   "name": "python3root"
  },
  "language_info": {
   "codemirror_mode": {
    "name": "ipython",
    "version": 3
   },
   "file_extension": ".py",
   "mimetype": "text/x-python",
   "name": "python",
   "nbconvert_exporter": "python",
   "pygments_lexer": "ipython3",
   "version": "3.4.3"
  }
 },
 "nbformat": 4,
 "nbformat_minor": 0
}
