{
 "cells": [
  {
   "cell_type": "code",
   "execution_count": 1,
   "metadata": {
    "collapsed": false
   },
   "outputs": [],
   "source": [
    "# setup\n",
    "from planet4 import io\n",
    "import tempfile\n",
    "\n",
    "import planet4 as p4\n",
    "from pathlib import Path\n",
    "datapath = Path(p4.__path__[0]) / 'data'\n",
    "\n",
    "import datetime as dt\n",
    "from numpy.testing import assert_array_equal\n",
    "import datetime as dt\n",
    "import pytest"
   ]
  },
  {
   "cell_type": "code",
   "execution_count": 2,
   "metadata": {
    "collapsed": false
   },
   "outputs": [],
   "source": [
    "# test_P4DBName\n",
    "name = '2015-10-21_planet_four_classifications.csv'\n",
    "p4db = io.P4DBName(name)\n",
    "assert p4db.name == name\n",
    "assert p4db.p == Path(name)\n",
    "assert p4db.parent == Path('.')\n",
    "assert p4db.date == dt.datetime(2015, 10, 21)"
   ]
  },
  {
   "cell_type": "code",
   "execution_count": 3,
   "metadata": {
    "collapsed": false,
    "scrolled": true
   },
   "outputs": [],
   "source": [
    "# test_get_image_names_from_db\n",
    "result = io.get_image_names_from_db(datapath / 'test_db.csv')\n",
    "expected = np.array(['APF000012q', 'APF000012w'])\n",
    "assert_array_equal(expected, result)"
   ]
  },
  {
   "cell_type": "code",
   "execution_count": 4,
   "metadata": {
    "collapsed": false
   },
   "outputs": [],
   "source": [
    "# test_get_current_database_fname\n",
    "fname = io.get_current_database_fname()\n",
    "assert isinstance(fname, Path)"
   ]
  },
  {
   "cell_type": "code",
   "execution_count": 5,
   "metadata": {
    "collapsed": false
   },
   "outputs": [],
   "source": [
    "# test_get_latest_file\n",
    "l = ['2015-12-01_test.h5','2015-11-01_test.h5']\n",
    "assert io.get_latest_file(l) == Path(l[0])\n",
    "# empty list should raise NoFilesFoundError\n",
    "with pytest.raises(p4.exceptions.NoFilesFoundError):\n",
    "    io.get_latest_file([])"
   ]
  },
  {
   "cell_type": "code",
   "execution_count": 6,
   "metadata": {
    "collapsed": true
   },
   "outputs": [],
   "source": [
    "# test_PathManager_missing_id_\n",
    "pm = io.PathManager('/tmp')\n",
    "# testing exceptions\n",
    "with pytest.raises(TypeError):\n",
    "    assert pm.fanfile == Path('/tmp/ABC01234_fans.hdf')\n",
    "    assert pm.blotchfile == Path('/tmp/ABC01234_blotches.hdf')\n",
    "    assert pm.fnotchfile == Path('/tmp/ABC01234_fnotches.hdf')"
   ]
  },
  {
   "cell_type": "code",
   "execution_count": 7,
   "metadata": {
    "collapsed": true
   },
   "outputs": [],
   "source": [
    "# test_PathManager_proper_setup\n",
    "pm = io.PathManager('/tmp')\n",
    "pm.id_ = 'ABC01234'\n",
    "assert pm.fanfile == Path('/tmp/ABC01234_fans.hdf')\n",
    "assert pm.blotchfile == Path('/tmp/ABC01234_blotches.hdf')\n",
    "assert pm.fnotchfile == Path('/tmp/ABC01234_fnotches.hdf')"
   ]
  },
  {
   "cell_type": "code",
   "execution_count": 8,
   "metadata": {
    "collapsed": true
   },
   "outputs": [],
   "source": [
    "# test_PathManager_suffix_.h5\n",
    "pm = io.PathManager('/tmp', suffix='.h5')\n",
    "pm.id_ = 'ABC01234'\n",
    "assert pm.fanfile == Path('/tmp/ABC01234_fans.h5')\n",
    "assert pm.blotchfile == Path('/tmp/ABC01234_blotches.h5')\n",
    "assert pm.fnotchfile == Path('/tmp/ABC01234_fnotches.h5')"
   ]
  },
  {
   "cell_type": "code",
   "execution_count": 9,
   "metadata": {
    "collapsed": false
   },
   "outputs": [],
   "source": [
    "# test_PathManager_suffix_.csv\n",
    "pm = io.PathManager('/tmp', suffix='.csv')\n",
    "pm.id_ = 'ABC01234'\n",
    "assert pm.fanfile == Path('/tmp/ABC01234_fans.csv')\n",
    "assert pm.blotchfile == Path('/tmp/ABC01234_blotches.csv')\n",
    "assert pm.fnotchfile == Path('/tmp/ABC01234_fnotches.csv')"
   ]
  },
  {
   "cell_type": "code",
   "execution_count": 10,
   "metadata": {
    "collapsed": false
   },
   "outputs": [],
   "source": [
    "# test_PathManager_setup_folders\n",
    "tempdir = tempfile.TemporaryDirectory()\n",
    "pm = io.PathManager(tempdir.name)\n",
    "pm.setup_folders()\n",
    "assert pm.fnotched_dir == Path(tempdir.name)\n",
    "assert pm.output_dir_clustered == Path(tempdir.name) / 'just_clustering'"
   ]
  },
  {
   "cell_type": "code",
   "execution_count": null,
   "metadata": {
    "collapsed": true
   },
   "outputs": [],
   "source": []
  }
 ],
 "metadata": {
  "kernelspec": {
   "display_name": "Python 3",
   "language": "python",
   "name": "python3"
  },
  "language_info": {
   "codemirror_mode": {
    "name": "ipython",
    "version": 3
   },
   "file_extension": ".py",
   "mimetype": "text/x-python",
   "name": "python",
   "nbconvert_exporter": "python",
   "pygments_lexer": "ipython3",
   "version": "3.5.1"
  }
 },
 "nbformat": 4,
 "nbformat_minor": 0
}
