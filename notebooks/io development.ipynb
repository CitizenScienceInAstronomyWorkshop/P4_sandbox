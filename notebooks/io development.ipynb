{
 "cells": [
  {
   "cell_type": "markdown",
   "metadata": {
    "toc": "true"
   },
   "source": [
    "<h1>Table of Contents<span class=\"tocSkip\"></span></h1>\n",
    "<div class=\"toc\"><ul class=\"toc-item\"></ul></div>"
   ]
  },
  {
   "cell_type": "markdown",
   "metadata": {},
   "source": [
    "The following command line launches the parallel ipython cores:"
   ]
  },
  {
   "cell_type": "code",
   "execution_count": null,
   "metadata": {},
   "outputs": [],
   "source": [
    "!ipcluster start -n 4"
   ]
  },
  {
   "cell_type": "code",
   "execution_count": null,
   "metadata": {},
   "outputs": [],
   "source": [
    "from nbtools import execute_in_parallel\n",
    "from planet4 import io\n",
    "db = io.DBManager()\n",
    "data = db.get_image_id_markings('bo3')[:10]\n",
    "def calc_stuff(fpath):\n",
    "    d = {'path': fpath}\n",
    "    d['length'] = len(pd.read_csv(fpath))\n",
    "    return d\n",
    "results = execute_in_parallel(calc_stuff, data)\n",
    "df = pd.DataFrame(results.result)"
   ]
  },
  {
   "cell_type": "code",
   "execution_count": null,
   "metadata": {},
   "outputs": [],
   "source": [
    "from planet4 import markings, io, plotting\n",
    "import seaborn as sns\n",
    "sns.set_context('paper')"
   ]
  },
  {
   "cell_type": "code",
   "execution_count": null,
   "metadata": {},
   "outputs": [],
   "source": [
    "from planet4 import io\n",
    "db= io.DBManager()\n",
    "print(db.dbname)\n",
    "data = db.get_image_id_markings('bo3')\n",
    "print('Shape:',data.shape)"
   ]
  },
  {
   "cell_type": "code",
   "execution_count": null,
   "metadata": {},
   "outputs": [],
   "source": [
    "from configparser import ConfigParser\n",
    "config = ConfigParser()\n",
    "config.read(\"/Users/klay6683/.pyciss.ini\")\n",
    "config['paths']['my_mac']"
   ]
  },
  {
   "cell_type": "code",
   "execution_count": null,
   "metadata": {},
   "outputs": [],
   "source": [
    "df = db.get_image_id_markings('6n3')"
   ]
  },
  {
   "cell_type": "code",
   "execution_count": null,
   "metadata": {},
   "outputs": [],
   "source": [
    "df.classification_id.nunique()"
   ]
  },
  {
   "cell_type": "code",
   "execution_count": null,
   "metadata": {},
   "outputs": [],
   "source": [
    "p4id = markings.ImageID('6n3')"
   ]
  },
  {
   "cell_type": "code",
   "execution_count": null,
   "metadata": {},
   "outputs": [],
   "source": [
    "%matplotlib inline"
   ]
  },
  {
   "cell_type": "code",
   "execution_count": null,
   "metadata": {},
   "outputs": [],
   "source": [
    "fig, ax = plt.subplots(ncols=2, figsize=(16,5))\n",
    "p4id.show_subframe(ax[0])\n",
    "p4id.plot_fans(lw=1, ax=ax[1])\n",
    "fig.tight_layout()\n",
    "ax[0].set_title(f\"{p4id.imgid}, original input\")\n",
    "ax[1].set_title(f\"{p4id.imgid}, Planet Four fan markings\")\n",
    "plt.savefig(\"/Users/klay6683/Dropbox/src/p4_paper1/figures/fan_markings.png\",\n",
    "            bbox_inches='tight',\n",
    "            dpi=200)"
   ]
  },
  {
   "cell_type": "code",
   "execution_count": null,
   "metadata": {},
   "outputs": [],
   "source": [
    "print(id_.data.image_url.iloc[0])"
   ]
  },
  {
   "cell_type": "code",
   "execution_count": null,
   "metadata": {},
   "outputs": [],
   "source": [
    "p4id = markings.ImageID('1aa')"
   ]
  },
  {
   "cell_type": "code",
   "execution_count": null,
   "metadata": {},
   "outputs": [],
   "source": [
    "plotting.plot_image_id_pipeline('1aa', datapath='catalog_1.0b2', save=True, savetitle='pipeline',\n",
    "                                saveroot='/Users/klay6683/Dropbox/src/p4_paper1/figures/')"
   ]
  },
  {
   "cell_type": "code",
   "execution_count": null,
   "metadata": {},
   "outputs": [],
   "source": []
  }
 ],
 "metadata": {
  "kernelspec": {
   "display_name": "Python [conda env:stable]",
   "language": "python",
   "name": "conda-env-stable-py"
  },
  "language_info": {
   "codemirror_mode": {
    "name": "ipython",
    "version": 3
   },
   "file_extension": ".py",
   "mimetype": "text/x-python",
   "name": "python",
   "nbconvert_exporter": "python",
   "pygments_lexer": "ipython3",
   "version": "3.6.5"
  },
  "toc": {
   "base_numbering": 1,
   "nav_menu": {
    "height": "12px",
    "width": "252px"
   },
   "number_sections": false,
   "sideBar": false,
   "skip_h1_title": false,
   "title_cell": "Table of Contents",
   "title_sidebar": "Contents",
   "toc_cell": true,
   "toc_position": {},
   "toc_section_display": "block",
   "toc_window_display": false
  }
 },
 "nbformat": 4,
 "nbformat_minor": 2
}
