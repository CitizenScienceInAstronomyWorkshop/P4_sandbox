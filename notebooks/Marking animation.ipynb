{
 "metadata": {
  "name": "",
  "signature": "sha256:5f0433344ec57c2bbbdd0b693faef27d522da44bbf433e204ad1f619b933e7eb"
 },
 "nbformat": 3,
 "nbformat_minor": 0,
 "worksheets": [
  {
   "cells": [
    {
     "cell_type": "code",
     "collapsed": false,
     "input": [
      "from P4_sandbox import helper_functions as hf\n",
      "from P4_sandbox import overplot_blotches as ob\n",
      "from P4_sandbox import get_data\n",
      "reload(hf)\n",
      "reload(ob)"
     ],
     "language": "python",
     "metadata": {},
     "outputs": [
      {
       "metadata": {},
       "output_type": "pyout",
       "prompt_number": 7,
       "text": [
        "<module 'P4_sandbox.overplot_blotches' from '/Users/maye/Dropbox/src/P4_sandbox/overplot_blotches.pyc'>"
       ]
      }
     ],
     "prompt_number": 7
    },
    {
     "cell_type": "code",
     "collapsed": false,
     "input": [
      "data = ob.data_munging('APF0000bha')\n",
      "colors = ob.cycle('bgrcmyk')"
     ],
     "language": "python",
     "metadata": {},
     "outputs": [
      {
       "output_type": "stream",
       "stream": "stdout",
       "text": [
        "Reading current marked data.\n",
        "Done."
       ]
      },
      {
       "output_type": "stream",
       "stream": "stdout",
       "text": [
        "\n"
       ]
      }
     ],
     "prompt_number": 4
    },
    {
     "cell_type": "code",
     "collapsed": false,
     "input": [
      "img_id = 'APF0000bha'\n",
      "fans = ob.get_fans(data, img_id)\n",
      "fig, ax = plt.subplots()\n",
      "ax.imshow(get_data.get_image_from_record(fans.iloc[0]))\n"
     ],
     "language": "python",
     "metadata": {},
     "outputs": [
      {
       "output_type": "stream",
       "stream": "stdout",
       "text": [
        "Found image in cache.\n"
       ]
      },
      {
       "metadata": {},
       "output_type": "pyout",
       "prompt_number": 8,
       "text": [
        "<matplotlib.image.AxesImage at 0x11ce7c5d0>"
       ]
      }
     ],
     "prompt_number": 8
    },
    {
     "cell_type": "code",
     "collapsed": false,
     "input": [
      "ax.set_title('image_id {}'.format(img_id))\n",
      "ims = []\n",
      "for i, color in zip(xrange(len(blotches),), colors):\n",
      "    line = blotches.iloc[i]\n",
      "    artist1 = plt.scatter(line.x, line.y, color=color)\n",
      "    el = Ellipse((line.x, line.y),\n",
      "             line.radius_1, line.radius_2, line.angle,\n",
      "             fill=False, color=color, linewidth=1)\n",
      "    plt.savefig('_tmp{}.png'.format(str(i).zfill(3)))"
     ],
     "language": "python",
     "metadata": {},
     "outputs": [],
     "prompt_number": 44
    },
    {
     "cell_type": "code",
     "collapsed": false,
     "input": [
      "import matplotlib.animation as animation"
     ],
     "language": "python",
     "metadata": {},
     "outputs": [],
     "prompt_number": 17
    },
    {
     "cell_type": "code",
     "collapsed": false,
     "input": [
      "Writer = animation.writers['ffmpeg']"
     ],
     "language": "python",
     "metadata": {},
     "outputs": [],
     "prompt_number": 18
    },
    {
     "cell_type": "code",
     "collapsed": false,
     "input": [
      "writer = Writer(fps=15, metadata=dict(artist='Me'), bitrate=1800)"
     ],
     "language": "python",
     "metadata": {},
     "outputs": [],
     "prompt_number": 19
    },
    {
     "cell_type": "code",
     "collapsed": false,
     "input": [
      "animation.ArtistAnimation?"
     ],
     "language": "python",
     "metadata": {},
     "outputs": [],
     "prompt_number": 24
    },
    {
     "cell_type": "code",
     "collapsed": false,
     "input": [
      "anim = animation.ArtistAnimation(fig, ims)"
     ],
     "language": "python",
     "metadata": {},
     "outputs": [],
     "prompt_number": 38
    },
    {
     "cell_type": "code",
     "collapsed": false,
     "input": [
      "anim.save('ellipses.mp4',writer=writer)"
     ],
     "language": "python",
     "metadata": {},
     "outputs": [],
     "prompt_number": 40
    },
    {
     "cell_type": "code",
     "collapsed": false,
     "input": [
      "from subprocess import call\n",
      "call('ffmpeg -r 3 -i _tmp%03d.png -c:v libx264 -r 30 -pix_fmt yuv420p out.mp4',\n",
      "     shell=True)"
     ],
     "language": "python",
     "metadata": {},
     "outputs": [
      {
       "metadata": {},
       "output_type": "pyout",
       "prompt_number": 49,
       "text": [
        "1"
       ]
      }
     ],
     "prompt_number": 49
    },
    {
     "cell_type": "code",
     "collapsed": false,
     "input": [],
     "language": "python",
     "metadata": {},
     "outputs": []
    }
   ],
   "metadata": {}
  }
 ]
}