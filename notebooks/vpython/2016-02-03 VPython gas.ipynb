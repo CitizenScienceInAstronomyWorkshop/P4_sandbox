{
 "cells": [
  {
   "cell_type": "code",
   "execution_count": null,
   "metadata": {},
   "outputs": [],
   "source": [
    "from vpython import *\n",
    "from numpy import arange, array, newaxis, square, sum, sqrt\n",
    "from math import pi, exp, sin, cos\n",
    "import math"
   ]
  },
  {
   "cell_type": "code",
   "execution_count": null,
   "metadata": {},
   "outputs": [],
   "source": [
    "win=500\n",
    "\n",
    "Natoms = 1000  # change this to have more or fewer atoms\n",
    "\n",
    "# Typical values\n",
    "L = 2. # container is a cube L on a side\n",
    "gray = (0.7,0.7,0.7) # color of edges of container\n",
    "Matom = 4E-3/6E23 # helium mass\n",
    "Ratom = 0.03 # wildly exaggerated size of helium atom\n",
    "k = 1.4E-23 # Boltzmann constant\n",
    "T = 300. # around room temperature\n",
    "dt = 1E-5"
   ]
  },
  {
   "cell_type": "code",
   "execution_count": null,
   "metadata": {},
   "outputs": [],
   "source": [
    "scene = canvas(title=\"Gas\", width=win, height=win, x=0, y=0,\n",
    "                center=vec(L/2.,L/2.,L/2.))\n",
    "\n",
    "deltav = 100. # binning for v histogram\n",
    "vdist = graph(x=0, y=win, ymax = Natoms*deltav/1000.,\n",
    "             width=win, height=0.6*win, xtitle='v', ytitle='dN')\n",
    "theory = gcurve(color=color.cyan)\n",
    "\n",
    "dv = 10.\n",
    "for v in arange(0.,3001.+dv,dv): # theoretical prediction\n",
    "    theory.plot(pos=(v,\n",
    "        (deltav/dv)*Natoms*4.*pi*((Matom/(2.*pi*k*T))**1.5)\n",
    "                     *exp((-0.5*Matom*v**2)/(k*T))*v**2*dv))\n",
    "\n",
    "# observation = ghistogram(bins=arange(0.,3000.,deltav),\n",
    "#                         accumulate=1, average=1, color=color.red)"
   ]
  },
  {
   "cell_type": "code",
   "execution_count": null,
   "metadata": {},
   "outputs": [],
   "source": [
    "gray = vec(0.7,0.7,0.7)\n",
    "gray"
   ]
  },
  {
   "cell_type": "code",
   "execution_count": null,
   "metadata": {},
   "outputs": [],
   "source": [
    "xaxis = curve(pos=[vec(0,0,0), vec(L,0,0)], color=gray)\n",
    "yaxis = curve(pos=[vec(0,0,0), vec(0,L,0)], color=gray)\n",
    "zaxis = curve(pos=[vec(0,0,0), vec(0,0,L)], color=gray)\n",
    "xaxis2 = curve(pos=[vec(L,L,L), vec(0,L,L), vec(0,0,L), vec(L,0,L)], color=gray)\n",
    "yaxis2 = curve(pos=[vec(L,L,L), vec(L,0,L), vec(L,0,0), vec(L,L,0)], color=gray)\n",
    "zaxis2 = curve(pos=[vec(L,L,L), vec(L,L,0), vec(0,L,0), vec(0,L,L)], color=gray)"
   ]
  },
  {
   "cell_type": "code",
   "execution_count": null,
   "metadata": {},
   "outputs": [],
   "source": [
    "Atoms = []\n",
    "colors = [color.red, color.green, color.blue,\n",
    "          color.yellow, color.cyan, color.magenta]\n",
    "poslist = []\n",
    "plist = []\n",
    "mlist = []\n",
    "rlist = []"
   ]
  },
  {
   "cell_type": "code",
   "execution_count": null,
   "metadata": {},
   "outputs": [],
   "source": [
    "for i in range(Natoms):\n",
    "    Lmin = 1.1*Ratom\n",
    "    Lmax = L-Lmin\n",
    "    x = Lmin+(Lmax-Lmin)*random()\n",
    "    y = Lmin+(Lmax-Lmin)*random()\n",
    "    z = Lmin+(Lmax-Lmin)*random()\n",
    "    r = Ratom\n",
    "    Atoms = Atoms+[sphere(pos=vec(x,y,z), radius=r, color=colors[i % 6])]\n",
    "    mass = Matom*r**3/Ratom**3\n",
    "    pavg = sqrt(2.*mass*1.5*k*T) # average kinetic energy p**2/(2mass) = (3/2)kT\n",
    "    theta = pi*random()\n",
    "    phi = 2*pi*random()\n",
    "    px = pavg*sin(theta)*cos(phi)\n",
    "    py = pavg*sin(theta)*sin(phi)\n",
    "    pz = pavg*cos(theta)\n",
    "    poslist.append((x,y,z))\n",
    "    plist.append((px,py,pz))\n",
    "    mlist.append(mass)\n",
    "    rlist.append(r)"
   ]
  },
  {
   "cell_type": "code",
   "execution_count": null,
   "metadata": {},
   "outputs": [],
   "source": [
    "pos = array(poslist)\n",
    "p = array(plist)\n",
    "m = array(mlist)\n",
    "m.shape = (Natoms,1)\n",
    "radius = array(rlist)\n",
    "\n",
    "pos = pos+(p/m)*(dt/2.) # initial half-step"
   ]
  },
  {
   "cell_type": "code",
   "execution_count": null,
   "metadata": {},
   "outputs": [],
   "source": [
    "while True:\n",
    "    rate(100)\n",
    "#     observation.plot(data=mag(p/m))\n",
    "\n",
    "    # Update all positions\n",
    "    pos = pos+(p/m)*dt\n",
    "\n",
    "    r = pos-pos[:,newaxis] # all pairs of atom-to-atom vectors\n",
    "    rmag = sqrt(sum(square(r),-1)) # atom-to-atom scalar distances\n",
    "    hit = np.less_equal(rmag,radius+radius[:,None])-np.identity(Natoms)\n",
    "    hitlist = np.sort(np.nonzero(hit.flat)[0]).tolist() # i,j encoded as i*Natoms+j\n",
    "\n",
    "    # If any collisions took place:\n",
    "    for ij in hitlist:\n",
    "        i, j = divmod(ij,Natoms) # decode atom pair\n",
    "        hitlist.remove(j*Natoms+i) # remove symmetric j,i pair from list\n",
    "        ptot = p[i]+p[j]\n",
    "        mi = m[i,0]\n",
    "        mj = m[j,0]\n",
    "        vi = p[i]/mi\n",
    "        vj = p[j]/mj\n",
    "        ri = Atoms[i].radius\n",
    "        rj = Atoms[j].radius\n",
    "#         a = mag(vj-vi)**2\n",
    "        a = (vj-vi).dot(vj-vi)\n",
    "        if a < 1e-3:\n",
    "            continue # exactly same velocities\n",
    "        b = 2*dot(pos[i]-pos[j],vj-vi)\n",
    "        c = (pos[i]-pos[j]).dot(pos[i]-pos[j]) - (ri+rj)**2\n",
    "        d = b**2-4.*a*c\n",
    "        if d < 0:\n",
    "            continue # something wrong; ignore this rare case\n",
    "        deltat = (-b+math.sqrt(d))/(2.*a) # t-deltat is when they made contact\n",
    "        pos[i] = pos[i]-(p[i]/mi)*deltat # back up to contact configuration\n",
    "        pos[j] = pos[j]-(p[j]/mj)*deltat\n",
    "        mtot = mi+mj\n",
    "        pcmi = p[i]-ptot*mi/mtot # transform momenta to cm frame\n",
    "        pcmj = p[j]-ptot*mj/mtot\n",
    "        rrel = math.sqrt((pos[j]-pos[i]).dot(pos[j]-pos[i]))\n",
    "        pcmi = pcmi-2*dot(pcmi,rrel)*rrel # bounce in cm frame\n",
    "        pcmj = pcmj-2*dot(pcmj,rrel)*rrel\n",
    "        p[i] = pcmi+ptot*mi/mtot # transform momenta back to lab frame\n",
    "        p[j] = pcmj+ptot*mj/mtot\n",
    "        pos[i] = pos[i]+(p[i]/mi)*deltat # move forward deltat in time\n",
    "        pos[j] = pos[j]+(p[j]/mj)*deltat\n",
    " \n",
    "    # Bounce off walls\n",
    "    outside = np.less_equal(pos,Ratom) # walls closest to origin\n",
    "    p1 = p*outside\n",
    "    p = p-p1+abs(p1) # force p component inward\n",
    "    outside = np.greater_equal(pos,L-Ratom) # walls farther from origin\n",
    "    p1 = p*outside\n",
    "    p = p-p1-abs(p1) # force p component inward\n",
    "\n",
    "    # Update positions of canvas objects\n",
    "    for i in range(Natoms):\n",
    "        Atoms[i].pos = vec(*pos[i])"
   ]
  },
  {
   "cell_type": "code",
   "execution_count": null,
   "metadata": {},
   "outputs": [],
   "source": []
  }
 ],
 "metadata": {
  "kernelspec": {
   "display_name": "Python 3",
   "language": "python",
   "name": "python3"
  },
  "language_info": {
   "codemirror_mode": {
    "name": "ipython",
    "version": 3
   },
   "file_extension": ".py",
   "mimetype": "text/x-python",
   "name": "python",
   "nbconvert_exporter": "python",
   "pygments_lexer": "ipython3",
   "version": "3.5.1"
  }
 },
 "nbformat": 4,
 "nbformat_minor": 0
}
