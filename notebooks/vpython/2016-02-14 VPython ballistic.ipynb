{
 "cells": [
  {
   "cell_type": "code",
   "execution_count": null,
   "metadata": {
    "collapsed": false
   },
   "outputs": [],
   "source": [
    "from vpython import sphere, canvas, box, vec, color, rate\n",
    "import math\n",
    "math.tau = np.tau = 2*math.pi"
   ]
  },
  {
   "cell_type": "code",
   "execution_count": null,
   "metadata": {
    "collapsed": true
   },
   "outputs": [],
   "source": [
    "def cart2pol(vec):\n",
    "    theta = np.arctan2(vec[:, 1], vec[:, 0])\n",
    "    rho = np.hypot(vec[:, 0], vec[:, 1])\n",
    "    return theta, rho\n",
    "\n",
    "def pol2cart(theta, rho):\n",
    "    x = rho * np.cos(theta)\n",
    "    y = rho * np.sin(theta)\n",
    "    return x, y\n",
    "\n",
    "def uniform_circle_sample(theta, rho):\n",
    "    x = np.sqrt(rho) * np.cos(theta)\n",
    "    y = np.sqrt(rho) * np.sin(theta)\n",
    "    return x, y"
   ]
  },
  {
   "cell_type": "code",
   "execution_count": null,
   "metadata": {
    "collapsed": false
   },
   "outputs": [],
   "source": [
    "class FanSimulator(object):\n",
    "    g_Forces={'mars':np.array([0, 0, -3.80]),\n",
    "              'earth':np.array([0, 0, -9.81])}\n",
    "    radius = 0.1\n",
    "    start = vec(0, 0, radius)\n",
    "    win = 600\n",
    "    L = 30.\n",
    "    gray = vec(0.7, 0.7, 0.7)\n",
    "    up = vec(0, 0, 1)\n",
    "    \n",
    "    def __init__(self, N, vent_radius=0.5, vmax=50, dt=1e-2, location='mars'):\n",
    "        self.N = N\n",
    "        self.dt = dt\n",
    "        self.vent_radius = vent_radius\n",
    "        self.vmax = vmax\n",
    "        self.particles = []\n",
    "        self.t = None  # set to 0 in init_positions\n",
    "        self.g = self.g_Forces[location]\n",
    "        \n",
    "    def init_positions(self, vent_radius=None, N=None):\n",
    "        if vent_radius is None:\n",
    "            vent_radius = self.vent_radius\n",
    "        if N is None:\n",
    "            N = self.N\n",
    "        radii = np.random.uniform(0, vent_radius, N)\n",
    "        thetas = np.random.uniform(0, math.tau, N)\n",
    "        X, Y = uniform_circle_sample(thetas, radii)\n",
    "        self.positions = np.stack([X, Y, np.full_like(X, self.radius/2)], axis=1)\n",
    "        self.radii = radii\n",
    "        self.init_pos = self.positions.copy()\n",
    "        self.t = 0\n",
    "        \n",
    "    def init_velocities(self, vmax=None):\n",
    "        if vmax is None:\n",
    "            vmax = self.vmax\n",
    "        # using Hagen-Poiseulle flow's parabolic velocity distribution\n",
    "        vz = vmax * (1 - self.radii**2/(self.vent_radius*1.05)**2)\n",
    "        velocities = np.zeros((self.N, 3))\n",
    "        # setting z-column to vz\n",
    "        velocities[:, -1] = vz\n",
    "        self.velocities = velocities\n",
    "        \n",
    "    def incline_and_vary_jet(self, incline=1, jitter=0.1):\n",
    "        self.incline = incline\n",
    "        self.velocities[:, 0] = incline\n",
    "        self.jitter = jitter\n",
    "        radii = np.random.uniform(0, jitter, self.N)\n",
    "        thetas = np.random.uniform(0, math.tau, self.N)\n",
    "        vx, vy = uniform_circle_sample(thetas, radii)\n",
    "        self.velocities[:, 0] += vx\n",
    "        self.velocities[:, 1] += vy\n",
    "        \n",
    "    def update(self):\n",
    "        to_update = self.positions[:, -1] > 0\n",
    "        self.positions[to_update] += self.velocities[to_update]*self.dt\n",
    "        self.velocities[to_update] += self.g*self.dt\n",
    "        self.t += self.dt\n",
    "        \n",
    "    @property\n",
    "    def something_in_the_air(self):\n",
    "        return any(self.positions[:, -1] > 0)\n",
    "    \n",
    "    def loop(self):\n",
    "        while self.something_in_the_air:\n",
    "            self.update()\n",
    "            if self.particles:\n",
    "                rate(200)\n",
    "                for p,pos in zip(sim.particles, sim.positions):\n",
    "                    if p.update:\n",
    "                        p.pos = vec(*pos)\n",
    "                    if p.pos.z < start.z:\n",
    "                        p.update = False\n",
    "\n",
    "    def plot(self, save=False):\n",
    "        fig, axes = plt.subplots(ncols=1, squeeze=False)\n",
    "        axes = axes.ravel()\n",
    "        axes[0].scatter(self.positions[:,0], self.positions[:,1], 5)\n",
    "        for ax in axes:\n",
    "            ax.set_aspect('equal')\n",
    "            ax.set_xlabel('Distance [m]')\n",
    "            ax.set_ylabel('Spread [m]')\n",
    "        ax.set_title(\"{0} particles, v0_z={1}, v0_x= {2}, jitter={3} [m/s]\"\n",
    "                     .format(self.N, self.vmax, self.incline, self.jitter))\n",
    "        if save:\n",
    "            root = \"/Users/klay6683/Dropbox/SSW_2015_cryo_venting/figures/\"\n",
    "            fig.savefig(root+'fan_{}_{}_{}_{}.png'\n",
    "                             .format(self.N, self.vmax, self.incline, self.jitter),\n",
    "                        dpi=150) \n",
    "    \n",
    "    def init_vpython(self):\n",
    "        scene = canvas(title=\"Fans\", width=self.win, height=self.win, x=0, y=0,\n",
    "               center=vec(0, 0, 0), forward=vec(1,0,-1),\n",
    "               up=self.up)\n",
    "        scene.autoscale = False\n",
    "        scene.range = 25\n",
    "\n",
    "        h = 0.1\n",
    "        mybox = box(pos=vec(0, 0, -h/2), length=self.L, height=h, width=L, up=self.up,\n",
    "                    color=color.white)\n",
    "\n",
    "        # create dust particles\n",
    "        for pos in self.positions:\n",
    "            p = sphere(pos=vec(*pos), radius=self.radius, color=color.red)\n",
    "            p.update = True  # to determine if needs position update\n",
    "            self.particles.append(p)"
   ]
  },
  {
   "cell_type": "code",
   "execution_count": null,
   "metadata": {
    "collapsed": true
   },
   "outputs": [],
   "source": [
    "%matplotlib inline\n",
    "\n",
    "import seaborn as sns\n",
    "sns.set_context('notebook')"
   ]
  },
  {
   "cell_type": "code",
   "execution_count": null,
   "metadata": {
    "collapsed": false
   },
   "outputs": [],
   "source": [
    "sim = FanSimulator(5000, vent_radius=0.5)\n",
    "sim.init_positions()\n",
    "sim.init_velocities()\n",
    "sim.incline_and_vary_jet()\n",
    "\n",
    "sim.loop()\n",
    "\n",
    "sim.plot(save=True)"
   ]
  },
  {
   "cell_type": "code",
   "execution_count": null,
   "metadata": {
    "collapsed": true
   },
   "outputs": [],
   "source": [
    "from pypet import Environment, cartesian_product"
   ]
  },
  {
   "cell_type": "code",
   "execution_count": null,
   "metadata": {
    "collapsed": false
   },
   "outputs": [],
   "source": [
    "def run_simulation(traj):\n",
    "    sim = FanSimulator(traj.N, vent_radius=traj.vent_radius, vmax=traj.vmax,\n",
    "                       dt=traj.dt, location=traj.location)\n",
    "    sim.init_positions()\n",
    "    sim.init_velocities()\n",
    "    sim.incline_and_vary_jet(incline=traj.incline, jitter=traj.jitter)\n",
    "    sim.loop()\n",
    "    traj.f_add_result('positions', sim.positions, comment='End positions of particles')\n",
    "    traj.f_add_result('t', sim.t, comment='duration of flight')\n",
    "\n",
    "env = Environment(trajectory='FanSimulation', filename='./pypet/',\n",
    "                  large_overview_tables=True,\n",
    "                 add_time=True,\n",
    "                 multiproc=True,\n",
    "                 ncores=3,\n",
    "                 log_config='DEFAULT')\n",
    "\n",
    "traj = env.v_trajectory\n",
    "traj.f_add_parameter('N', 5000, comment='number of particles')\n",
    "traj.f_add_parameter('vent_radius', 0.5, comment='radius of particle emitting vent')\n",
    "traj.f_add_parameter('vmax', 50, comment='vmax in center of vent')\n",
    "traj.f_add_parameter('dt', 1e-2, comment='dt of simulation')\n",
    "traj.f_add_parameter('incline', 1.0, comment='inclining vx value')\n",
    "traj.f_add_parameter('jitter', 0.1, comment='random x,y jitter for velocities')\n",
    "traj.f_add_parameter('location', 'mars', comment='location determining g-force')\n",
    "\n",
    "explore_dict = {'vent_radius':np.arange(0.1, 1, 0.1).tolist(),\n",
    "                'vmax':range(10, 100, 10),\n",
    "                'dt':[1e-2, 1e-3],\n",
    "                'incline':[0.1, 1.0, 5.0, 10.0],\n",
    "                'jitter':[0.05, 0.1, 0.2, 0.3],\n",
    "                'location':['mars','earth']}\n",
    "to_explore = cartesian_product(explore_dict)\n",
    "traj.f_explore(to_explore)\n",
    "\n",
    "env.f_run(run_simulation)\n",
    "\n",
    "env.f_disable_logging()"
   ]
  },
  {
   "cell_type": "code",
   "execution_count": null,
   "metadata": {
    "collapsed": true
   },
   "outputs": [],
   "source": []
  }
 ],
 "metadata": {
  "kernelspec": {
   "display_name": "Python 3",
   "language": "python",
   "name": "python3"
  },
  "language_info": {
   "codemirror_mode": {
    "name": "ipython",
    "version": 3
   },
   "file_extension": ".py",
   "mimetype": "text/x-python",
   "name": "python",
   "nbconvert_exporter": "python",
   "pygments_lexer": "ipython3",
   "version": "3.5.1"
  }
 },
 "nbformat": 4,
 "nbformat_minor": 0
}
