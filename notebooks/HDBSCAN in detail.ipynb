{
 "cells": [
  {
   "cell_type": "code",
   "execution_count": null,
   "metadata": {},
   "outputs": [],
   "source": [
    "from planet4 import markings\n",
    "import hdbscan\n",
    "plot_kwds = {'alpha' : 0.8, 's' : 80, 'linewidths':0}"
   ]
  },
  {
   "cell_type": "code",
   "execution_count": null,
   "metadata": {},
   "outputs": [],
   "source": [
    "import seaborn as sns\n",
    "%matplotlib inline\n",
    "sns.set_context('poster')\n",
    "sns.set_style('white')\n",
    "sns.set_color_codes()"
   ]
  },
  {
   "cell_type": "code",
   "execution_count": null,
   "metadata": {},
   "outputs": [],
   "source": [
    "id_ = 'b89'\n",
    "id_ = '139'\n",
    "id_ = 'dch'\n",
    "id_ = 'bvc'\n",
    "imid = markings.ImageID(id_, scope='planet4')"
   ]
  },
  {
   "cell_type": "code",
   "execution_count": null,
   "metadata": {},
   "outputs": [],
   "source": [
    "blotches = imid.get_blotches()"
   ]
  },
  {
   "cell_type": "code",
   "execution_count": null,
   "metadata": {},
   "outputs": [],
   "source": [
    "fans = imid.get_fans()"
   ]
  },
  {
   "cell_type": "code",
   "execution_count": null,
   "metadata": {},
   "outputs": [],
   "source": [
    "imid.show_subframe();"
   ]
  },
  {
   "cell_type": "code",
   "execution_count": null,
   "metadata": {},
   "outputs": [],
   "source": [
    "import matplotlib as mpl"
   ]
  },
  {
   "cell_type": "code",
   "execution_count": null,
   "metadata": {},
   "outputs": [],
   "source": [
    "imid.plot_fans(with_center=True)"
   ]
  },
  {
   "cell_type": "code",
   "execution_count": null,
   "metadata": {},
   "outputs": [],
   "source": [
    "data = fans\n",
    "X = data['x y'.split()]\n",
    "X = data['x y angle'.split()]"
   ]
  },
  {
   "cell_type": "code",
   "execution_count": null,
   "metadata": {},
   "outputs": [],
   "source": [
    "clusterer = hdbscan.HDBSCAN(min_cluster_size=4, gen_min_span_tree=True)"
   ]
  },
  {
   "cell_type": "code",
   "execution_count": null,
   "metadata": {},
   "outputs": [],
   "source": [
    "clusterer.fit(X.as_matrix())"
   ]
  },
  {
   "cell_type": "code",
   "execution_count": null,
   "metadata": {},
   "outputs": [],
   "source": [
    "fig, ax = plt.subplots(nrows=2)\n",
    "# plt.figure()\n",
    "imid.plot_blotches(img=True,ax=ax[0], with_center=True);\n",
    "imid.plot_blotches(img=False,ax=ax[1], user_color='w');\n",
    "clusterer.minimum_spanning_tree_.plot(axis=ax[1],edge_cmap='viridis', \n",
    "                                      edge_alpha=0.6, \n",
    "                                      node_size=80, \n",
    "                                      edge_linewidth=2);\n"
   ]
  },
  {
   "cell_type": "code",
   "execution_count": null,
   "metadata": {},
   "outputs": [],
   "source": [
    "plt.figure()\n",
    "clusterer.single_linkage_tree_.plot(cmap='viridis', colorbar=True)"
   ]
  },
  {
   "cell_type": "code",
   "execution_count": null,
   "metadata": {},
   "outputs": [],
   "source": [
    "plt.figure()\n",
    "clusterer.condensed_tree_.plot()"
   ]
  },
  {
   "cell_type": "code",
   "execution_count": null,
   "metadata": {},
   "outputs": [],
   "source": [
    "plt.figure()\n",
    "clusterer.condensed_tree_.plot(select_clusters=True, selection_palette=sns.color_palette())"
   ]
  },
  {
   "cell_type": "code",
   "execution_count": null,
   "metadata": {},
   "outputs": [],
   "source": [
    "palette = sns.color_palette(n_colors=len(clusterer.labels_)-1)\n",
    "cluster_colors = [sns.desaturate(palette[col], sat) \n",
    "                  if (col >= 0 and sat > 0.95) else (1.0, 1.0, 1.0) for col, sat in \n",
    "                  zip(clusterer.labels_, clusterer.probabilities_)]\n",
    "test_data = X.as_matrix()\n",
    "fig, ax = plt.subplots()\n",
    "imid.show_subframe(ax=ax)\n",
    "ax.scatter(test_data.T[0], test_data.T[1], c=cluster_colors, **plot_kwds)"
   ]
  },
  {
   "cell_type": "code",
   "execution_count": null,
   "metadata": {},
   "outputs": [],
   "source": [
    "proba_cut=0.75\n",
    "\n",
    "labels = clusterer.labels_\n",
    "core_samples_mask = np.zeros_like(clusterer.labels_, dtype=bool)\n",
    "core_samples_mask[clusterer.probabilities_ > proba_cut] = True\n",
    "unique_labels = set(labels)\n",
    "n_clusters = len(unique_labels) - (1 if -1 in labels else 0)\n",
    "reduced_data = []  # list of `kind` cluster average objects\n",
    "n_rejected = 0\n",
    "\n",
    "# loop over unique labels.\n",
    "for label in unique_labels:\n",
    "    # get indices for members of this cluster\n",
    "    class_member_mask = (labels == label)\n",
    "    cluster_members = (class_member_mask & core_samples_mask)\n",
    "    # treat noise\n",
    "    if label == -1:\n",
    "        n_rejected = len(cluster_members)\n",
    "    # if label is a cluster member:\n",
    "    else:\n",
    "        reduced_data.append(cluster_members)\n"
   ]
  },
  {
   "cell_type": "code",
   "execution_count": null,
   "metadata": {},
   "outputs": [],
   "source": [
    "from planet4 import markings\n",
    "from scipy.stats import circmean\n",
    "\n",
    "cols = markings.Fan.to_average\n",
    "Marking = markings.Fan\n",
    "\n",
    "data = fans\n",
    "\n",
    "mean_markings = []\n",
    "for cluster_members in reduced_data:\n",
    "    clusterdata = data.loc[cluster_members, cols]\n",
    "    meandata = clusterdata.mean()\n",
    "    meandata.angle = np.rad2deg(\n",
    "        circmean(\n",
    "        np.deg2rad(\n",
    "        clusterdata.angle)))\n",
    "    cluster = Marking(meandata, scope='planet4')\n",
    "    # storing n_members into the object for later.\n",
    "    cluster.n_members = len(cluster_members)\n",
    "    # storing this saved marker for later in ClusteringManager\n",
    "    cluster.saved = False\n",
    "    mean_markings.append(cluster)\n"
   ]
  },
  {
   "cell_type": "code",
   "execution_count": null,
   "metadata": {},
   "outputs": [],
   "source": [
    "mean_markings"
   ]
  },
  {
   "cell_type": "code",
   "execution_count": null,
   "metadata": {},
   "outputs": [],
   "source": []
  }
 ],
 "metadata": {
  "anaconda-cloud": {},
  "kernelspec": {
   "display_name": "Python [conda env:stable]",
   "language": "python",
   "name": "conda-env-stable-py"
  },
  "language_info": {
   "codemirror_mode": {
    "name": "ipython",
    "version": 3
   },
   "file_extension": ".py",
   "mimetype": "text/x-python",
   "name": "python",
   "nbconvert_exporter": "python",
   "pygments_lexer": "ipython3",
   "version": "3.5.2"
  }
 },
 "nbformat": 4,
 "nbformat_minor": 1
}
