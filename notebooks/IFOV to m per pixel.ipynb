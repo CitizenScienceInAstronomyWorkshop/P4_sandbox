{
 "cells": [
  {
   "cell_type": "markdown",
   "metadata": {},
   "source": [
    "$$ \\tan\\left(\\frac{IFOV}{2}\\right)=\\frac{\\frac{res}{2}}{altitude} $$"
   ]
  },
  {
   "cell_type": "markdown",
   "metadata": {},
   "source": [
    "Meaning..."
   ]
  },
  {
   "cell_type": "markdown",
   "metadata": {},
   "source": [
    "$$ res = 2\\cdot{}altitude\\cdot \\tan\\left(\\frac{IFOV}{2}\\right) $$"
   ]
  },
  {
   "cell_type": "code",
   "execution_count": null,
   "metadata": {
    "collapsed": false
   },
   "outputs": [],
   "source": [
    "import math\n",
    "\n",
    "def ifov_to_m_pix(ifov, alt=400e3):\n",
    "    \"\"\"Calculate footprint size from IFOV and altitude.\n",
    "    \n",
    "    Parameters\n",
    "    ----------\n",
    "    ifov : float\n",
    "        IFOV in micro-rad\n",
    "    alt : float\n",
    "        Altitude of S/C in meters\n",
    "    \n",
    "    Returns\n",
    "    -------\n",
    "    Footprint size in meters\n",
    "    \"\"\"\n",
    "    return 2 * alt * math.tan(ifov*1e-6/2)\n",
    "    "
   ]
  },
  {
   "cell_type": "code",
   "execution_count": null,
   "metadata": {
    "collapsed": false
   },
   "outputs": [],
   "source": [
    "ifov_to_m_pix(1, 100e3)"
   ]
  },
  {
   "cell_type": "code",
   "execution_count": null,
   "metadata": {
    "collapsed": false
   },
   "outputs": [],
   "source": [
    "%matplotlib inline"
   ]
  },
  {
   "cell_type": "code",
   "execution_count": null,
   "metadata": {
    "collapsed": false
   },
   "outputs": [],
   "source": [
    "x = np.linspace(0, .1, 100)\n",
    "plt.plot(x, np.tan(x)-x)"
   ]
  },
  {
   "cell_type": "code",
   "execution_count": null,
   "metadata": {
    "collapsed": false
   },
   "outputs": [],
   "source": []
  }
 ],
 "metadata": {
  "kernelspec": {
   "display_name": "Python [default]",
   "language": "python",
   "name": "python3"
  },
  "language_info": {
   "codemirror_mode": {
    "name": "ipython",
    "version": 3
   },
   "file_extension": ".py",
   "mimetype": "text/x-python",
   "name": "python",
   "nbconvert_exporter": "python",
   "pygments_lexer": "ipython3",
   "version": "3.5.2"
  }
 },
 "nbformat": 4,
 "nbformat_minor": 1
}
