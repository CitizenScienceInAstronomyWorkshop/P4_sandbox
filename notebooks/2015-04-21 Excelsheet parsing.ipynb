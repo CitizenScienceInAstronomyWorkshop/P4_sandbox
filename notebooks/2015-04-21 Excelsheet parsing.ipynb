{
 "cells": [
  {
   "cell_type": "code",
   "execution_count": 0,
   "metadata": {
    "collapsed": true
   },
   "outputs": [],
   "source": [
    "fname = '/Users/klay6683/Dropbox/DDocuments/planet4/hireport_south_mars_zoo_v6.xls'"
   ]
  },
  {
   "cell_type": "markdown",
   "metadata": {},
   "source": [
    "#South Year 1"
   ]
  },
  {
   "cell_type": "code",
   "execution_count": 0,
   "metadata": {
    "collapsed": false
   },
   "outputs": [],
   "source": [
    "df = pd.read_excel(fname, sheet='South_year_1')"
   ]
  },
  {
   "cell_type": "code",
   "execution_count": 0,
   "metadata": {
    "collapsed": false
   },
   "outputs": [],
   "source": [
    "# df.dropna(how='all', inplace=True)"
   ]
  },
  {
   "cell_type": "code",
   "execution_count": 0,
   "metadata": {
    "collapsed": false
   },
   "outputs": [],
   "source": [
    "#df.time = pd.to_datetime(df.time)"
   ]
  },
  {
   "cell_type": "code",
   "execution_count": 0,
   "metadata": {
    "collapsed": false
   },
   "outputs": [],
   "source": [
    "df.head()"
   ]
  },
  {
   "cell_type": "code",
   "execution_count": 0,
   "metadata": {
    "collapsed": false
   },
   "outputs": [],
   "source": [
    "df.dtypes"
   ]
  },
  {
   "cell_type": "code",
   "execution_count": 0,
   "metadata": {
    "collapsed": false
   },
   "outputs": [],
   "source": [
    "def repair_time(tstr):\n",
    "    if type(tstr) == float:\n",
    "        return tstr\n",
    "    date, time = tstr.split('T')\n",
    "    date_tokens = date.split('-')\n",
    "    newdate = '-'.join(date_tokens[:3])\n",
    "    return \"{}T{}\".format(newdate, time).split('.')[0]\n",
    "\n",
    "status = pd.read_hdf('image_name_status.h5','df')\n",
    "def fix_and_merge(df):\n",
    "    df.time = df.time.map(repair_time)    \n",
    "    df.columns = ['obs_id','Lat','Lon','Ls', 'time', 'Comment','Unnamed1','Unnamed2']\n",
    "    oldindex = df.index\n",
    "    merged = df.merge(status, left_on='obs_id', right_index=True).reindex(oldindex)\n",
    "    merged = merged.drop(['Unnamed1','Unnamed2'], axis=1)\n",
    "    return merged"
   ]
  },
  {
   "cell_type": "code",
   "execution_count": 0,
   "metadata": {
    "collapsed": false
   },
   "outputs": [],
   "source": [
    "df.time = df.time.map(repair_time)"
   ]
  },
  {
   "cell_type": "code",
   "execution_count": 0,
   "metadata": {
    "collapsed": false
   },
   "outputs": [],
   "source": [
    "try:\n",
    "    df.time = pd.to_datetime(df.time, format='%Y-%b-%dT%H:%M:%S', errors='raise')\n",
    "except ValueError as e:\n",
    "    print(e)"
   ]
  },
  {
   "cell_type": "code",
   "execution_count": 0,
   "metadata": {
    "collapsed": false
   },
   "outputs": [],
   "source": [
    "df.head()"
   ]
  },
  {
   "cell_type": "code",
   "execution_count": 0,
   "metadata": {
    "collapsed": false
   },
   "outputs": [],
   "source": []
  },
  {
   "cell_type": "code",
   "execution_count": 0,
   "metadata": {
    "collapsed": true
   },
   "outputs": [],
   "source": []
  },
  {
   "cell_type": "code",
   "execution_count": 0,
   "metadata": {
    "collapsed": false
   },
   "outputs": [],
   "source": [
    "status.columns"
   ]
  },
  {
   "cell_type": "code",
   "execution_count": 0,
   "metadata": {
    "collapsed": false
   },
   "outputs": [],
   "source": []
  },
  {
   "cell_type": "code",
   "execution_count": 0,
   "metadata": {
    "collapsed": false
   },
   "outputs": [],
   "source": []
  },
  {
   "cell_type": "code",
   "execution_count": 0,
   "metadata": {
    "collapsed": false
   },
   "outputs": [],
   "source": [
    "merged.columns"
   ]
  },
  {
   "cell_type": "code",
   "execution_count": 0,
   "metadata": {
    "collapsed": false
   },
   "outputs": [],
   "source": [
    "merged = merged.drop("
   ]
  },
  {
   "cell_type": "code",
   "execution_count": 0,
   "metadata": {
    "collapsed": true
   },
   "outputs": [],
   "source": [
    "merged.to_excel('merged_with_status_excel_sheet.xlsx')"
   ]
  },
  {
   "cell_type": "code",
   "execution_count": 0,
   "metadata": {
    "collapsed": true
   },
   "outputs": [],
   "source": []
  },
  {
   "cell_type": "code",
   "execution_count": 0,
   "metadata": {
    "collapsed": false
   },
   "outputs": [],
   "source": [
    "# %load /Users/klay6683/Downloads/spstere.py\n",
    "from mpl_toolkits.basemap import Basemap\n",
    "import numpy as np\n",
    "import matplotlib.pyplot as plt\n",
    "# setup north polar stereographic basemap.\n",
    "# The longitude lon_0 is at 6-o'clock, and the\n",
    "# latitude circle boundinglat is tangent to the edge  \n",
    "# of the map at lon_0. Default value of lat_ts\n",
    "# (latitude of true scale) is pole.\n",
    "m = Basemap(projection='spstere',boundinglat=-80,lon_0=90,resolution='l')\n",
    "m.drawcoastlines()\n",
    "m.fillcontinents(color='coral',lake_color='aqua')\n",
    "# draw parallels and meridians.\n",
    "m.drawparallels(np.arange(-80.,81.,20.))\n",
    "m.drawmeridians(np.arange(-180.,181.,20.))\n",
    "m.drawmapboundary(fill_color='aqua') \n",
    "# draw tissot's indicatrix to show distortion.\n",
    "ax = plt.gca()\n",
    "for y in np.linspace(19*m.ymin/20,m.ymin/20,10):\n",
    "    for x in np.linspace(19*m.xmin/20,m.xmin/20,10):\n",
    "        lon, lat = m(x,y,inverse=True)\n",
    "        poly = m.tissot(lon,lat,2.5,100,\\\n",
    "                        facecolor='green',zorder=10,alpha=0.5)\n",
    "plt.title(\"South Polar Stereographic Projection\")\n",
    "plt.show()\n"
   ]
  },
  {
   "cell_type": "code",
   "execution_count": 0,
   "metadata": {
    "collapsed": false
   },
   "outputs": [],
   "source": [
    "%matplotlib inline"
   ]
  },
  {
   "cell_type": "code",
   "execution_count": 0,
   "metadata": {
    "collapsed": true
   },
   "outputs": [],
   "source": [
    "from mpl_toolkits.basemap import Basemap\n",
    "import matplotlib as mpl\n",
    "\n",
    "class PoleMapper(object):\n",
    "    \"\"\"docstring for PoleMapper\"\"\"\n",
    "\n",
    "#     palette = mpl.cm.cubehelix\n",
    "    \n",
    "    def __init__(self, blat, gridpts=1000, round=True):\n",
    "        super(PoleMapper, self).__init__()\n",
    "        self.blat = blat\n",
    "        self.gridpts = gridpts\n",
    "        self.basemap = Basemap(lon_0=180, boundinglat=blat, \n",
    "                         projection='spstere', round=round)\n",
    "        self.pole = 'Southpole' if blat < 0 else 'Northpole'\n",
    "        \n",
    "    def create_map(self, hdata, strings, ax=None, vmin=None, vmax=None):\n",
    "        mode, chid, dayside = strings\n",
    "        if not ax:\n",
    "            fig, ax = plt.subplots()\n",
    "        self.palette.set_bad(ax.get_axis_bgcolor(), 1.0)\n",
    "        CS = self.basemap.pcolormesh(hdata.xedges, hdata.yedges, hdata.H.T,\n",
    "                               shading='flat', cmap=self.palette,\n",
    "                               ax = ax, vmin=vmin, vmax=vmax)\n",
    "        self.basemap.drawparallels(np.arange(-90, self.blat),latmax=-90, ax=ax, \n",
    "                                    labels=[1,1,1,1])\n",
    "        self.basemap.drawmeridians(np.arange(0,360,30),latmax=-90, ax=ax,\n",
    "                                    labels=[1,1,1,1])\n",
    "        self.basemap.colorbar(CS,ax=ax)\n",
    "        ax.set_title(' '.join([self.pole, chid, mode, dayside]))\n",
    "        plt.savefig('_'.join(['southpole', chid, mode, str(self.gridpts),\n",
    "                              dayside]) + '.png', dpi=300)\n",
    "\n",
    "    def create_scatter_map(self, lon, lat, ax=None):\n",
    "        if ax is None:\n",
    "            fig, ax = plt.subplots()\n",
    "        CS = self.basemap.scatter(lon, lat, latlon=True)\n",
    "        self.basemap.drawparallels(np.arange(-90, self.blat, 5), latmax=90, ax=ax)\n",
    "        meridians = self.basemap.drawmeridians(np.arange(0, 360, 30), labelstyle='+/-', latmax=90, ax=ax,\n",
    "                                   labels=[1, 1, 1, 1],\n",
    "                                  )\n",
    "        ax.set_title('Southpole of Mars')\n",
    "        return meridians\n",
    "    \n",
    "    def create_multimap(self, data, strings):\n",
    "        n = len(data)\n",
    "        fig, ax = plt.subplots(1, n)\n",
    "        for i,d in enumerate(data):\n",
    "            self.create_map(d, strings[i], ax.flatten()[i])\n"
   ]
  },
  {
   "cell_type": "code",
   "execution_count": 0,
   "metadata": {
    "collapsed": false
   },
   "outputs": [],
   "source": [
    "fig, ax = plt.subplots(figsize=(8,8))\n",
    "pm = PoleMapper(-65, round=True)\n",
    "meridians = pm.create_scatter_map(df.Lon.values, df.Lat.values, ax=ax)"
   ]
  },
  {
   "cell_type": "code",
   "execution_count": 0,
   "metadata": {
    "collapsed": false
   },
   "outputs": [],
   "source": [
    "for i in meridians.items():\n",
    "    to = i[1][1][0]"
   ]
  },
  {
   "cell_type": "code",
   "execution_count": 0,
   "metadata": {
    "collapsed": false
   },
   "outputs": [],
   "source": [
    "print(to)"
   ]
  },
  {
   "cell_type": "code",
   "execution_count": 0,
   "metadata": {
    "collapsed": false
   },
   "outputs": [],
   "source": [
    "df[df.Lat==df.Lat.max()]"
   ]
  },
  {
   "cell_type": "markdown",
   "metadata": {
    "collapsed": true
   },
   "source": [
    "# South year 2"
   ]
  },
  {
   "cell_type": "code",
   "execution_count": 0,
   "metadata": {
    "collapsed": false
   },
   "outputs": [],
   "source": [
    "fname = fname+'x'"
   ]
  },
  {
   "cell_type": "code",
   "execution_count": 0,
   "metadata": {
    "collapsed": false
   },
   "outputs": [],
   "source": [
    "fname"
   ]
  },
  {
   "cell_type": "code",
   "execution_count": 0,
   "metadata": {
    "collapsed": true
   },
   "outputs": [],
   "source": [
    "excelfile = pd.ExcelFile(fname)"
   ]
  },
  {
   "cell_type": "code",
   "execution_count": 0,
   "metadata": {
    "collapsed": false
   },
   "outputs": [],
   "source": [
    "df = excelfile.parse(1)"
   ]
  },
  {
   "cell_type": "code",
   "execution_count": 0,
   "metadata": {
    "collapsed": false
   },
   "outputs": [],
   "source": [
    "df.head()"
   ]
  },
  {
   "cell_type": "code",
   "execution_count": 0,
   "metadata": {
    "collapsed": true
   },
   "outputs": [],
   "source": [
    "df.time = df.time.map(repair_time)\n",
    "df = df.loc[:, df.columns[:-7]]\n",
    "oldindex = df.index\n",
    "merged = df.merge(status, left_on='Observation_id', right_index=True).reindex(oldindex)\n",
    "merged.head()"
   ]
  },
  {
   "cell_type": "code",
   "execution_count": 0,
   "metadata": {
    "collapsed": true
   },
   "outputs": [],
   "source": [
    "merged.to_excel('merged_season2.xlsx')"
   ]
  },
  {
   "cell_type": "code",
   "execution_count": 0,
   "metadata": {
    "collapsed": false
   },
   "outputs": [],
   "source": [
    "df = excelfile.parse(2)\n",
    "df.head()"
   ]
  },
  {
   "cell_type": "code",
   "execution_count": 0,
   "metadata": {
    "collapsed": false
   },
   "outputs": [],
   "source": [
    "df = df.loc[:, df.columns[:7]]"
   ]
  },
  {
   "cell_type": "code",
   "execution_count": 0,
   "metadata": {
    "collapsed": false
   },
   "outputs": [],
   "source": [
    "df.head()"
   ]
  },
  {
   "cell_type": "code",
   "execution_count": 0,
   "metadata": {
    "collapsed": false
   },
   "outputs": [],
   "source": [
    "df.time = df.time.map(repair_time)\n",
    "oldindex = df.index\n",
    "merged = df.merge(status, left_on='Observation_id', right_index=True).reindex(oldindex)\n",
    "merged.head()"
   ]
  },
  {
   "cell_type": "code",
   "execution_count": 0,
   "metadata": {
    "collapsed": true
   },
   "outputs": [],
   "source": [
    "merged.to_excel('merged_season3.xlsx')"
   ]
  },
  {
   "cell_type": "code",
   "execution_count": 0,
   "metadata": {
    "collapsed": false
   },
   "outputs": [],
   "source": [
    "df = excelfile.parse(3)\n",
    "df.head()"
   ]
  },
  {
   "cell_type": "code",
   "execution_count": 0,
   "metadata": {
    "collapsed": false
   },
   "outputs": [],
   "source": [
    "df = df.loc[:, df.columns[:-2]]\n",
    "df.head()"
   ]
  },
  {
   "cell_type": "code",
   "execution_count": 0,
   "metadata": {
    "collapsed": false
   },
   "outputs": [],
   "source": [
    "df.time = df.time.map(repair_time)\n",
    "oldindex = df.index\n",
    "merged = df.merge(status, left_on='observation_id', right_index=True).reindex(oldindex)\n",
    "merged.head()"
   ]
  },
  {
   "cell_type": "code",
   "execution_count": 0,
   "metadata": {
    "collapsed": true
   },
   "outputs": [],
   "source": [
    "merged.to_excel('merged_season4.xlsx')"
   ]
  },
  {
   "cell_type": "code",
   "execution_count": 0,
   "metadata": {
    "collapsed": true
   },
   "outputs": [],
   "source": []
  }
 ],
 "metadata": {
  "kernelspec": {
   "display_name": "Python 3",
   "language": "python",
   "name": "python3"
  },
  "language_info": {
   "codemirror_mode": {
    "name": "ipython",
    "version": 3
   },
   "file_extension": ".py",
   "mimetype": "text/x-python",
   "name": "python",
   "nbconvert_exporter": "python",
   "pygments_lexer": "ipython3",
   "version": "3.4.3"
  }
 },
 "nbformat": 4,
 "nbformat_minor": 0
}