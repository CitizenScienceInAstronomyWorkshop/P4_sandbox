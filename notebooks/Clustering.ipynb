{
 "metadata": {
  "name": "",
  "signature": "sha256:f1791df68d49d4934fe8368c6e9acdf8ece10ef66d04c38f490e65207f3ac206"
 },
 "nbformat": 3,
 "nbformat_minor": 0,
 "worksheets": [
  {
   "cells": [
    {
     "cell_type": "code",
     "collapsed": false,
     "input": [
      "from P4_sandbox import helper_functions as hf\n",
      "from P4_sandbox import get_data\n",
      "from P4_sandbox import overplot_blotches as ob\n",
      "import numpy as np\n",
      "from sklearn.cluster import DBSCAN\n",
      "from sklearn import metrics\n",
      "from sklearn.preprocessing import StandardScaler\n",
      "from matplotlib.patches import Ellipse\n",
      "import pylab as pl"
     ],
     "language": "python",
     "metadata": {},
     "outputs": [],
     "prompt_number": 29
    },
    {
     "cell_type": "code",
     "collapsed": false,
     "input": [
      "#blotches = get_data.get_example_blotches()\n",
      "data = get_data.get_current_marked()"
     ],
     "language": "python",
     "metadata": {},
     "outputs": [],
     "prompt_number": 2
    },
    {
     "cell_type": "code",
     "collapsed": false,
     "input": [
      "# first filter for Candy\n",
      "blotches = data[data.user_name == 'CJ-DPI']\n",
      "# get those subframe IDs:\n",
      "img_ids = blotches.image_id.unique()\n",
      "img_ids"
     ],
     "language": "python",
     "metadata": {},
     "outputs": [
      {
       "metadata": {},
       "output_type": "pyout",
       "prompt_number": 3,
       "text": [
        "array(['APF0000u83', 'APF0000ghx', 'APF0000jli', 'APF00004uo',\n",
        "       'APF00006iu', 'APF0000f4o', 'APF0000cme', 'APF0000494'], dtype=object)"
       ]
      }
     ],
     "prompt_number": 3
    },
    {
     "cell_type": "code",
     "collapsed": false,
     "input": [
      "candys_marks = blotches.groupby(['image_id','marking']).size()"
     ],
     "language": "python",
     "metadata": {},
     "outputs": [],
     "prompt_number": 4
    },
    {
     "cell_type": "code",
     "collapsed": false,
     "input": [
      "candys_marks.ix[:,'blotch']"
     ],
     "language": "python",
     "metadata": {},
     "outputs": [
      {
       "metadata": {},
       "output_type": "pyout",
       "prompt_number": 5,
       "text": [
        "image_id\n",
        "APF0000494     5\n",
        "APF00004uo     1\n",
        "APF00006iu    15\n",
        "APF0000cme     1\n",
        "APF0000f4o     1\n",
        "APF0000ghx     5\n",
        "APF0000jli     4\n",
        "APF0000u83    11\n",
        "dtype: int64"
       ]
      }
     ],
     "prompt_number": 5
    },
    {
     "cell_type": "code",
     "collapsed": false,
     "input": [
      "# get all blotch markings for these image_ids\n",
      "blotches = data[data.image_id.isin(img_ids)]\n",
      "blotches = blotches[blotches.marking == 'blotch']"
     ],
     "language": "python",
     "metadata": {},
     "outputs": [],
     "prompt_number": 8
    },
    {
     "cell_type": "code",
     "collapsed": false,
     "input": [
      "blotches.shape"
     ],
     "language": "python",
     "metadata": {},
     "outputs": [
      {
       "metadata": {},
       "output_type": "pyout",
       "prompt_number": 9,
       "text": [
        "(820, 21)"
       ]
      }
     ],
     "prompt_number": 9
    },
    {
     "cell_type": "code",
     "collapsed": false,
     "input": [
      "img_ids = blotches.image_id.unique()\n",
      "cols = 'x y'.split()\n",
      "ellipse_cols = 'x y radius_1 radius_2 angle'.split()"
     ],
     "language": "python",
     "metadata": {},
     "outputs": [],
     "prompt_number": 33
    },
    {
     "cell_type": "code",
     "collapsed": false,
     "input": [
      "img_ids"
     ],
     "language": "python",
     "metadata": {},
     "outputs": [
      {
       "metadata": {},
       "output_type": "pyout",
       "prompt_number": 11,
       "text": [
        "array(['APF00004uo', 'APF0000ghx', 'APF0000jli', 'APF0000cme',\n",
        "       'APF0000494', 'APF0000u83', 'APF00006iu', 'APF0000f4o'], dtype=object)"
       ]
      }
     ],
     "prompt_number": 11
    },
    {
     "cell_type": "code",
     "collapsed": false,
     "input": [
      "def resetExtent(data,im):\n",
      "    \"\"\"\n",
      "    Using the data and axes from an AxesImage, im, force the extent and \n",
      "    axis values to match shape of data.\n",
      "    \"\"\"\n",
      "    ax = im.get_axes()\n",
      "    dataShape = data.shape\n",
      "\n",
      "    if im.origin == 'upper':\n",
      "        im.set_extent((-0.5,dataShape[0]-.5,dataShape[1]-.5,-.5))\n",
      "        ax.set_xlim((-0.5,dataShape[0]-.5))\n",
      "        ax.set_ylim((dataShape[1]-.5,-.5))\n",
      "    else:\n",
      "        im.set_extent((-0.5,dataShape[0]-.5,-.5,dataShape[1]-.5))\n",
      "        ax.set_xlim((-0.5,dataShape[0]-.5))\n",
      "        ax.set_ylim((-.5,dataShape[1]-.5))"
     ],
     "language": "python",
     "metadata": {},
     "outputs": [],
     "prompt_number": 12
    },
    {
     "cell_type": "code",
     "collapsed": true,
     "input": [
      "results = pd.DataFrame(candys_marks.ix[:,'blotch'],columns=['Candy'])\n",
      "for eps in range(4,10):\n",
      "    for img_id in img_ids:\n",
      "        markings = blotches[blotches.image_id==img_id]\n",
      "        X = markings[cols].values; \n",
      "        X_all = markings['x y radius_1 radius_2'.split()]\n",
      "        min_samples=5\n",
      "        # X = StandardScaler().fit_transform(data[cols].values); eps=0.3\n",
      "    #     p4img = get_data.get_image_from_record(data.iloc[0])\n",
      "    #     fig, ax = plt.subplots(ncols=2,nrows=2, figsize=(10,8))\n",
      "    #     axes = ax.flatten()\n",
      "    #     for i in range(4):\n",
      "    #         im = axes[i].imshow(p4img)\n",
      "    #         axes[i].set_title('Original')\n",
      "    #     ob.add_ellipses_to_axis(axes[1], markings)\n",
      "    #     axes[1].set_title(\"Markings\")\n",
      "        db = DBSCAN(eps=eps, min_samples=min_samples).fit(X)\n",
      "        labels = db.labels_\n",
      "        core_samples = db.core_sample_indices_\n",
      "        labels = db.labels_\n",
      "        # Number of clusters in labels, ignoring noise if present.\n",
      "        n_clusters = len(set(labels)) - (1 if -1 in labels else 0)\n",
      "\n",
      "    #     print('Estimated number of clusters: %d' % n_clusters)\n",
      "        results.loc[img_id, 'mycluster'] = n_clusters\n",
      "    print('eps:',eps)\n",
      "    print(results)"
     ],
     "language": "python",
     "metadata": {},
     "outputs": [
      {
       "output_type": "stream",
       "stream": "stdout",
       "text": [
        "('eps:', 4)\n",
        "            Candy  mycluster\n",
        "image_id                    \n",
        "APF0000494      5          4\n",
        "APF00004uo      1          0\n",
        "APF00006iu     15         13\n",
        "APF0000cme      1          1\n",
        "APF0000f4o      1          0\n",
        "APF0000ghx      5          0\n",
        "APF0000jli      4          5\n",
        "APF0000u83     11          0\n",
        "\n",
        "[8 rows x 2 columns]\n",
        "('eps:', 5)"
       ]
      },
      {
       "output_type": "stream",
       "stream": "stdout",
       "text": [
        "\n",
        "            Candy  mycluster\n",
        "image_id                    \n",
        "APF0000494      5          7\n",
        "APF00004uo      1          1\n",
        "APF00006iu     15         19\n",
        "APF0000cme      1          1\n",
        "APF0000f4o      1          0\n",
        "APF0000ghx      5          1\n",
        "APF0000jli      4          5\n",
        "APF0000u83     11          0\n",
        "\n",
        "[8 rows x 2 columns]\n",
        "('eps:', 6)"
       ]
      },
      {
       "output_type": "stream",
       "stream": "stdout",
       "text": [
        "\n",
        "            Candy  mycluster\n",
        "image_id                    \n",
        "APF0000494      5          7\n",
        "APF00004uo      1          3\n",
        "APF00006iu     15         22\n",
        "APF0000cme      1          1\n",
        "APF0000f4o      1          0\n",
        "APF0000ghx      5          1\n",
        "APF0000jli      4          6\n",
        "APF0000u83     11          0\n",
        "\n",
        "[8 rows x 2 columns]\n",
        "('eps:', 7)"
       ]
      },
      {
       "output_type": "stream",
       "stream": "stdout",
       "text": [
        "\n",
        "            Candy  mycluster\n",
        "image_id                    \n",
        "APF0000494      5         10\n",
        "APF00004uo      1          6\n",
        "APF00006iu     15         24\n",
        "APF0000cme      1          1\n",
        "APF0000f4o      1          0\n",
        "APF0000ghx      5          2\n",
        "APF0000jli      4          6\n",
        "APF0000u83     11          0\n",
        "\n",
        "[8 rows x 2 columns]\n",
        "('eps:', 8)"
       ]
      },
      {
       "output_type": "stream",
       "stream": "stdout",
       "text": [
        "\n",
        "            Candy  mycluster\n",
        "image_id                    \n",
        "APF0000494      5         10\n",
        "APF00004uo      1          6\n",
        "APF00006iu     15         24\n",
        "APF0000cme      1          1\n",
        "APF0000f4o      1          0\n",
        "APF0000ghx      5          5\n",
        "APF0000jli      4          6\n",
        "APF0000u83     11          0\n",
        "\n",
        "[8 rows x 2 columns]\n",
        "('eps:', 9)"
       ]
      },
      {
       "output_type": "stream",
       "stream": "stdout",
       "text": [
        "\n",
        "            Candy  mycluster\n",
        "image_id                    \n",
        "APF0000494      5         12\n",
        "APF00004uo      1          6\n",
        "APF00006iu     15         24\n",
        "APF0000cme      1          1\n",
        "APF0000f4o      1          0\n",
        "APF0000ghx      5          6\n",
        "APF0000jli      4          6\n",
        "APF0000u83     11          0\n",
        "\n",
        "[8 rows x 2 columns]\n"
       ]
      }
     ],
     "prompt_number": 78
    },
    {
     "cell_type": "code",
     "collapsed": false,
     "input": [
      "    if n_clusters_ > 0:\n",
      "        print(\"Silhouette Coefficient: %0.3f\"\n",
      "          % metrics.silhouette_score(X, labels))\n",
      "\n",
      "    unique_labels = set(labels)\n",
      "    colors = pl.cm.Spectral(linspace(0,1, len(unique_labels)))\n",
      "    for k, col in zip(unique_labels, colors):\n",
      "        if k == -1:\n",
      "            col = 'k'\n",
      "            markersize=5\n",
      "        class_members = [index[0] for index in argwhere(labels == k)]\n",
      "        cluster_core_samples = [index for index in core_samples \n",
      "                                if labels[index] == k]\n",
      "        for index in class_members:\n",
      "            x = X[index]\n",
      "            if index in core_samples and k != -1:\n",
      "                markersize = 8\n",
      "            else:\n",
      "                markersize = 5\n",
      "            axes[3].plot(x[0], x[1], 'o', markerfacecolor=col,\n",
      "                    markeredgecolor='k', markersize=markersize)\n",
      "        if k > -0.5:\n",
      "    #         axes[3].plot(meanx, meany, 'x', markerfacecolor='green',\n",
      "    #                      markeredgecolor='k', markersize=12,\n",
      "    #                      mew=2)\n",
      "            ellipsedata = markings[ellipse_cols].values[cluster_core_samples]\n",
      "            meandata = ellipsedata.mean(axis=0)\n",
      "            el = Ellipse(meandata[:2], *meandata[2:],\n",
      "                         fill=False, color=col, linewidth=2)\n",
      "            axes[3].add_artist(el)\n",
      "    axes[3].set_title('Estimated number of clusters: {}'.format(n_clusters))\n",
      "    resetExtent(p4img[...,0].T, im)\n",
      "    pl.tight_layout()\n",
      "    fig.suptitle(img_id)"
     ],
     "language": "python",
     "metadata": {},
     "outputs": []
    },
    {
     "cell_type": "code",
     "collapsed": false,
     "input": [
      "cluster_core_samples = [index for index in core_samples \n",
      "                            if labels[index] == 0]"
     ],
     "language": "python",
     "metadata": {},
     "outputs": [],
     "prompt_number": 41
    },
    {
     "cell_type": "code",
     "collapsed": false,
     "input": [
      "markings['x y radius_1 radius_2 angle'.split()].values[cluster_core_samples].mean(axis=0)"
     ],
     "language": "python",
     "metadata": {},
     "outputs": [
      {
       "metadata": {},
       "output_type": "pyout",
       "prompt_number": 42,
       "text": [
        "array([ 511.5       ,   41.16666667,   19.2609163 ,   15.37174523,\n",
        "         73.33900966])"
       ]
      }
     ],
     "prompt_number": 42
    },
    {
     "cell_type": "code",
     "collapsed": false,
     "input": [
      "ellipsedata = markings[ellipse_cols].values[cluster_core_samples]\n",
      "ellipsedata"
     ],
     "language": "python",
     "metadata": {},
     "outputs": [
      {
       "metadata": {},
       "output_type": "pyout",
       "prompt_number": 45,
       "text": [
        "array([[ 511.5       ,   37.        ,   16.55294536,   16.2788206 ,\n",
        "          79.38034472],\n",
        "       [ 510.5       ,   39.        ,   16.1245155 ,   11.27497228,\n",
        "          82.87498365],\n",
        "       [ 514.5       ,   41.        ,   21.26029163,   15.94521872,\n",
        "          48.81407483],\n",
        "       [ 513.        ,   43.        ,   20.24845673,   15.18634255,\n",
        "          57.09475708],\n",
        "       [ 507.5       ,   43.        ,   23.02172887,   17.26629665,\n",
        "         -55.61965528],\n",
        "       [ 512.        ,   44.        ,   18.35755975,   16.2788206 ,\n",
        "         227.48955292]])"
       ]
      }
     ],
     "prompt_number": 45
    },
    {
     "cell_type": "code",
     "collapsed": false,
     "input": [
      "meandata = ellipsedata.mean(axis=0)\n",
      "meandata"
     ],
     "language": "python",
     "metadata": {},
     "outputs": [
      {
       "metadata": {},
       "output_type": "pyout",
       "prompt_number": 47,
       "text": [
        "array([ 511.5       ,   41.16666667,   19.2609163 ,   15.37174523,\n",
        "         73.33900966])"
       ]
      }
     ],
     "prompt_number": 47
    },
    {
     "cell_type": "code",
     "collapsed": false,
     "input": [
      "el = Ellipse(meandata[:2], *meandata[2:], fill=False, color=col,\n",
      "             linewidth=2)"
     ],
     "language": "python",
     "metadata": {},
     "outputs": [],
     "prompt_number": 49
    },
    {
     "cell_type": "code",
     "collapsed": false,
     "input": [
      "axes[3].add_artist(el)"
     ],
     "language": "python",
     "metadata": {},
     "outputs": [
      {
       "metadata": {},
       "output_type": "pyout",
       "prompt_number": 51,
       "text": [
        "<matplotlib.patches.Ellipse at 0x12521f950>"
       ]
      }
     ],
     "prompt_number": 51
    },
    {
     "cell_type": "code",
     "collapsed": false,
     "input": [],
     "language": "python",
     "metadata": {},
     "outputs": []
    }
   ],
   "metadata": {}
  }
 ]
}