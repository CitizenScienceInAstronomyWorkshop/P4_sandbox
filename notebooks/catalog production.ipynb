{
 "cells": [
  {
   "cell_type": "code",
   "execution_count": 4,
   "metadata": {
    "ExecuteTime": {
     "end_time": "2017-12-30T00:27:55.735202Z",
     "start_time": "2017-12-30T00:27:55.709644Z"
    },
    "init_cell": true
   },
   "outputs": [],
   "source": [
    "from planet4 import markings, dbscan, io, fnotching"
   ]
  },
  {
   "cell_type": "code",
   "execution_count": 4,
   "metadata": {
    "ExecuteTime": {
     "end_time": "2017-12-29T17:48:59.992362Z",
     "start_time": "2017-12-29T17:48:59.942947Z"
    }
   },
   "outputs": [],
   "source": [
    "from nbtools.logging import setup_live_logging\n",
    "import logging"
   ]
  },
  {
   "cell_type": "code",
   "execution_count": null,
   "metadata": {
    "ExecuteTime": {
     "end_time": "2017-07-04T23:12:12.636586Z",
     "start_time": "2017-07-04T23:12:12.589988Z"
    }
   },
   "outputs": [],
   "source": [
    "setup_live_logging('planet4', logging.DEBUG)"
   ]
  },
  {
   "cell_type": "markdown",
   "metadata": {},
   "source": [
    "# Data to cluster"
   ]
  },
  {
   "cell_type": "code",
   "execution_count": 6,
   "metadata": {
    "ExecuteTime": {
     "end_time": "2017-12-30T00:28:01.542815Z",
     "start_time": "2017-12-30T00:28:01.520381Z"
    },
    "init_cell": true
   },
   "outputs": [],
   "source": [
    "from planet4 import region_data, io"
   ]
  },
  {
   "cell_type": "code",
   "execution_count": 7,
   "metadata": {
    "ExecuteTime": {
     "end_time": "2017-12-30T00:28:01.888506Z",
     "start_time": "2017-12-30T00:28:01.864280Z"
    }
   },
   "outputs": [],
   "source": [
    "db = io.DBManager()"
   ]
  },
  {
   "cell_type": "code",
   "execution_count": 8,
   "metadata": {
    "ExecuteTime": {
     "end_time": "2017-12-30T00:28:20.595535Z",
     "start_time": "2017-12-30T00:28:08.553520Z"
    }
   },
   "outputs": [],
   "source": [
    "obsids = db.image_names"
   ]
  },
  {
   "cell_type": "code",
   "execution_count": 9,
   "metadata": {
    "ExecuteTime": {
     "end_time": "2017-12-30T00:28:24.680084Z",
     "start_time": "2017-12-30T00:28:24.649360Z"
    }
   },
   "outputs": [
    {
     "data": {
      "text/plain": [
       "'/Users/klay6683/Dropbox/data/planet4/2017-01-01_planet_four_classifications_queryable_cleaned_seasons2and3.h5'"
      ]
     },
     "execution_count": 9,
     "metadata": {},
     "output_type": "execute_result"
    }
   ],
   "source": [
    "db.dbname"
   ]
  },
  {
   "cell_type": "code",
   "execution_count": 11,
   "metadata": {
    "ExecuteTime": {
     "end_time": "2017-12-30T00:28:33.015445Z",
     "start_time": "2017-12-30T00:28:32.990776Z"
    }
   },
   "outputs": [
    {
     "data": {
      "text/plain": [
       "221"
      ]
     },
     "execution_count": 11,
     "metadata": {},
     "output_type": "execute_result"
    }
   ],
   "source": [
    "len(obsids)"
   ]
  },
  {
   "cell_type": "markdown",
   "metadata": {},
   "source": [
    "# Support functions"
   ]
  },
  {
   "cell_type": "code",
   "execution_count": 12,
   "metadata": {
    "ExecuteTime": {
     "end_time": "2017-12-30T00:28:44.219258Z",
     "start_time": "2017-12-30T00:28:44.184294Z"
    }
   },
   "outputs": [],
   "source": [
    "from planet4.catalog_production import process_obsid_parallel"
   ]
  },
  {
   "cell_type": "code",
   "execution_count": 18,
   "metadata": {
    "ExecuteTime": {
     "end_time": "2017-12-30T00:30:58.061317Z",
     "start_time": "2017-12-30T00:30:58.037147Z"
    }
   },
   "outputs": [],
   "source": [
    "savedir=\"catalog_1.0b3\""
   ]
  },
  {
   "cell_type": "code",
   "execution_count": 19,
   "metadata": {
    "ExecuteTime": {
     "end_time": "2017-12-30T00:31:19.679066Z",
     "start_time": "2017-12-30T00:31:19.652506Z"
    }
   },
   "outputs": [],
   "source": [
    "def create_parallel_args(obsids):\n",
    "    bucket = []\n",
    "    for obsid in obsids:\n",
    "        pm = io.PathManager(obsid=obsid, datapath=folder)\n",
    "        path = pm.obsid_results_savefolder / obsid\n",
    "        if not path.exists():\n",
    "            bucket.append(obsid)\n",
    "    return bucket"
   ]
  },
  {
   "cell_type": "code",
   "execution_count": 20,
   "metadata": {
    "ExecuteTime": {
     "end_time": "2017-12-30T00:31:22.453252Z",
     "start_time": "2017-12-30T00:31:22.404365Z"
    }
   },
   "outputs": [],
   "source": [
    "bucket = create_parallel_args(obsids)"
   ]
  },
  {
   "cell_type": "code",
   "execution_count": 16,
   "metadata": {
    "ExecuteTime": {
     "end_time": "2017-12-30T00:29:33.693853Z",
     "start_time": "2017-12-30T00:29:33.653322Z"
    }
   },
   "outputs": [],
   "source": [
    "from nbtools import execute_in_parallel"
   ]
  },
  {
   "cell_type": "code",
   "execution_count": 22,
   "metadata": {
    "ExecuteTime": {
     "end_time": "2017-12-30T00:31:28.554282Z",
     "start_time": "2017-12-30T00:31:28.530682Z"
    }
   },
   "outputs": [],
   "source": [
    "todo = [(i, folder) for i in bucket]"
   ]
  },
  {
   "cell_type": "code",
   "execution_count": 23,
   "metadata": {
    "ExecuteTime": {
     "end_time": "2017-12-30T00:31:30.509015Z",
     "start_time": "2017-12-30T00:31:30.484111Z"
    }
   },
   "outputs": [
    {
     "data": {
      "text/plain": [
       "('ESP_012079_0945', 'catalog_1.0b3')"
      ]
     },
     "execution_count": 23,
     "metadata": {},
     "output_type": "execute_result"
    }
   ],
   "source": [
    "todo[0]"
   ]
  },
  {
   "cell_type": "code",
   "execution_count": 24,
   "metadata": {
    "ExecuteTime": {
     "end_time": "2017-12-30T00:33:06.590577Z",
     "start_time": "2017-12-30T00:31:53.803900Z"
    }
   },
   "outputs": [
    {
     "data": {
      "text/plain": [
       "'ESP_012079_0945'"
      ]
     },
     "execution_count": 24,
     "metadata": {},
     "output_type": "execute_result"
    }
   ],
   "source": [
    "process_obsid_parallel(todo[0])"
   ]
  },
  {
   "cell_type": "code",
   "execution_count": 25,
   "metadata": {
    "ExecuteTime": {
     "end_time": "2017-12-30T00:34:42.519727Z",
     "start_time": "2017-12-30T00:34:42.494041Z"
    }
   },
   "outputs": [
    {
     "data": {
      "text/plain": [
       "[('ESP_011697_0980', 'catalog_1.0b3')]"
      ]
     },
     "execution_count": 25,
     "metadata": {},
     "output_type": "execute_result"
    }
   ],
   "source": [
    "todo[1:2]"
   ]
  },
  {
   "cell_type": "code",
   "execution_count": 28,
   "metadata": {
    "ExecuteTime": {
     "end_time": "2017-12-30T01:23:18.541325Z",
     "start_time": "2017-12-30T00:36:37.070453Z"
    }
   },
   "outputs": [
    {
     "data": {
      "application/vnd.jupyter.widget-view+json": {
       "model_id": "1981b3f571e94315a5b0a8f22ec2fff9",
       "version_major": 2,
       "version_minor": 0
      },
      "text/html": [
       "<p>Failed to display Jupyter Widget of type <code>IntProgress</code>.</p>\n",
       "<p>\n",
       "  If you're reading this message in the Jupyter Notebook or JupyterLab Notebook, it may mean\n",
       "  that the widgets JavaScript is still loading. If this message persists, it\n",
       "  likely means that the widgets JavaScript library is either not installed or\n",
       "  not enabled. See the <a href=\"https://ipywidgets.readthedocs.io/en/stable/user_install.html\">Jupyter\n",
       "  Widgets Documentation</a> for setup instructions.\n",
       "</p>\n",
       "<p>\n",
       "  If you're reading this message in another frontend (for example, a static\n",
       "  rendering on GitHub or <a href=\"https://nbviewer.jupyter.org/\">NBViewer</a>),\n",
       "  it may mean that your frontend doesn't currently support widgets.\n",
       "</p>\n"
      ],
      "text/plain": [
       "IntProgress(value=0, max=218)"
      ]
     },
     "metadata": {},
     "output_type": "display_data"
    }
   ],
   "source": [
    "results = execute_in_parallel(process_obsid_parallel, todo[2:])"
   ]
  },
  {
   "cell_type": "code",
   "execution_count": 29,
   "metadata": {
    "ExecuteTime": {
     "end_time": "2017-12-30T04:12:22.943088Z",
     "start_time": "2017-12-30T04:12:22.712568Z"
    },
    "scrolled": false
   },
   "outputs": [
    {
     "name": "stdout",
     "output_type": "stream",
     "text": [
      "ESP_021455_0935\n",
      "ESP_012008_0975\n",
      "ESP_012436_0980\n",
      "ESP_020347_0930\n",
      "ESP_020519_0935\n",
      "ESP_011931_0945\n",
      "ESP_011960_0925\n",
      "ESP_012291_0980\n",
      "ESP_012077_0930\n",
      "ESP_011341_0980\n",
      "ESP_011711_0930\n",
      "ESP_021495_0935\n",
      "ESP_020742_0925\n",
      "ESP_012063_0945\n",
      "ESP_020357_0950\n",
      "ESP_021642_0980\n",
      "ESP_011350_0945\n",
      "ESP_012884_0935\n",
      "ESP_011900_0985\n",
      "ESP_021494_0945\n",
      "ESP_021454_0925\n",
      "ESP_020339_0985\n",
      "ESP_020954_0935\n",
      "ESP_012499_0930\n",
      "ESP_011407_0945\n",
      "ESP_020476_0950\n",
      "ESP_020748_0985\n",
      "ESP_020782_0945\n",
      "ESP_021526_0985\n",
      "ESP_012251_0935\n",
      "ESP_021491_0950\n",
      "ESP_020677_0980\n",
      "ESP_020779_0950\n",
      "ESP_012344_0950\n",
      "ESP_021587_0980\n",
      "ESP_012227_0980\n",
      "ESP_011447_0950\n",
      "ESP_012076_0945\n",
      "ESP_012817_0925\n",
      "ESP_020598_0935\n",
      "ESP_012693_0950\n",
      "ESP_012256_0985\n",
      "ESP_020376_0980\n",
      "ESP_020783_0950\n",
      "ESP_012691_0985\n",
      "ESP_021520_0925\n",
      "ESP_012322_0985\n",
      "ESP_020322_0930\n",
      "ESP_012648_0930\n",
      "ESP_011296_0975\n",
      "ESP_022273_0950\n",
      "ESP_012643_0945\n",
      "ESP_011680_1055\n",
      "ESP_021903_0930\n",
      "ESP_020716_0945\n",
      "ESP_020214_0935\n",
      "ESP_012316_0925\n",
      "ESP_012704_0850\n",
      "ESP_020401_0950\n",
      "ESP_012393_0965\n",
      "ESP_011565_0930\n",
      "ESP_012860_0980\n",
      "ESP_012838_0950\n",
      "ESP_012744_0985\n",
      "ESP_011843_0950\n",
      "ESP_020571_0945\n",
      "ESP_020532_0935\n",
      "ESP_012211_0930\n",
      "ESP_012939_0980\n",
      "ESP_021605_0985\n",
      "ESP_012463_0930\n",
      "ESP_011842_0980\n",
      "ESP_011723_0945\n",
      "ESP_012604_0965\n",
      "ESP_020780_0930\n",
      "ESP_012845_0950\n",
      "ESP_011934_0945\n",
      "ESP_012739_0935\n",
      "ESP_021468_0935\n",
      "ESP_011921_0950\n",
      "ESP_013030_0930\n",
      "ESP_021671_0985\n",
      "ESP_020597_0925\n",
      "ESP_020297_0980\n",
      "ESP_021522_0930\n",
      "ESP_012527_0925\n",
      "ESP_020294_0945\n",
      "ESP_020146_0950\n",
      "ESP_021460_0985\n",
      "ESP_011606_0930\n",
      "ESP_020176_0930\n",
      "ESP_012854_0945\n",
      "ESP_020150_0950\n",
      "ESP_012212_0950\n",
      "ESP_020255_0935\n",
      "ESP_011351_0945\n",
      "ESP_011404_0945\n",
      "ESP_020959_0985\n",
      "ESP_011776_0930\n",
      "ESP_012265_0950\n",
      "ESP_011491_0985\n",
      "ESP_020719_0980\n",
      "ESP_020508_0980\n",
      "ESP_011961_0935\n",
      "ESP_012633_0930\n",
      "ESP_020927_0945\n",
      "ESP_022260_0935\n",
      "ESP_020128_0985\n",
      "ESP_013049_0950\n",
      "ESP_012844_0930\n",
      "ESP_012620_0975\n",
      "ESP_011737_0980\n",
      "ESP_021497_0980\n",
      "ESP_011403_0945\n",
      "ESP_012647_0980\n",
      "ESP_020568_0950\n",
      "ESP_020953_0925\n",
      "ESP_012990_0930\n",
      "ESP_012248_0965\n",
      "ESP_012304_0980\n",
      "ESP_012515_0980\n",
      "ESP_020427_0930\n",
      "ESP_022339_0935\n",
      "ESP_012501_0945\n",
      "ESP_011431_0930\n",
      "ESP_011526_0980\n",
      "ESP_011486_0980\n",
      "ESP_012254_1065\n",
      "ESP_011448_0950\n",
      "ESP_021684_0985\n",
      "ESP_012607_0980\n",
      "ESP_012290_0945\n",
      "ESP_012887_1065\n",
      "ESP_012314_0965\n",
      "ESP_012038_0930\n",
      "ESP_020902_0950\n",
      "ESP_011702_0985\n",
      "ESP_012836_0850\n",
      "ESP_020386_0925\n",
      "ESP_012225_0980\n",
      "ESP_012277_0975\n",
      "ESP_020888_0935\n",
      "ESP_012634_0930\n",
      "ESP_012461_0925\n",
      "ESP_020678_0930\n",
      "ESP_011856_0930\n",
      "ESP_020049_0985\n",
      "ESP_011671_0935\n",
      "ESP_012594_0980\n",
      "ESP_011348_0950\n",
      "ESP_020756_0980\n",
      "ESP_020374_0980\n",
      "ESP_011623_0985\n",
      "ESP_020282_0930\n",
      "ESP_012467_0985\n",
      "ESP_020321_0935\n",
      "ESP_020930_0980\n",
      "ESP_012819_0930\n",
      "ESP_012889_0985\n",
      "ESP_012488_0930\n",
      "ESP_012858_0855\n",
      "ESP_021521_0980\n",
      "ESP_021482_0950\n",
      "ESP_020955_0930\n",
      "ESP_013113_0985\n",
      "ESP_013016_0935\n",
      "ESP_012805_0980\n",
      "ESP_011370_0980\n",
      "ESP_020480_0950\n",
      "ESP_012504_0980\n",
      "ESP_012671_0930\n",
      "ESP_021829_0985\n",
      "ESP_020827_0985\n",
      "ESP_011406_0945\n",
      "ESP_012028_0930\n",
      "ESP_021574_0980\n",
      "ESP_021508_0980\n",
      "ESP_011729_0985\n",
      "ESP_012779_0930\n",
      "ESP_020202_0935\n",
      "ESP_012821_0865\n",
      "ESP_011460_0980\n",
      "ESP_011777_0950\n",
      "ESP_011557_0985\n",
      "ESP_012081_0930\n",
      "ESP_020875_0980\n",
      "ESP_020242_0945\n",
      "ESP_021654_0930\n",
      "ESP_011394_0935\n",
      "ESP_011792_0980\n",
      "ESP_022379_0930\n",
      "ESP_012871_0980\n",
      "ESP_012053_0980\n",
      "ESP_012348_0975\n",
      "ESP_013095_0935\n",
      "ESP_020115_0985\n",
      "ESP_012753_0950\n",
      "ESP_020194_0985\n",
      "ESP_013260_0950\n",
      "ESP_020731_0930\n",
      "ESP_011515_0980\n",
      "ESP_013034_0985\n",
      "ESP_020533_0930\n",
      "ESP_011422_0930\n",
      "ESP_011413_0970\n",
      "ESP_021483_0930\n",
      "ESP_011420_0930\n",
      "ESP_011408_0930\n",
      "ESP_020229_0930\n",
      "ESP_012816_0930\n",
      "ESP_020558_0930\n",
      "ESP_011544_0985\n",
      "ESP_012264_0980\n",
      "ESP_022510_0980\n",
      "ESP_020163_0980\n",
      "ESP_021969_0980\n",
      "ESP_020941_0980\n",
      "ESP_022193_0950\n",
      "ESP_022699_0985\n"
     ]
    }
   ],
   "source": [
    "for result in results:\n",
    "    print(result)"
   ]
  },
  {
   "cell_type": "markdown",
   "metadata": {
    "heading_collapsed": true
   },
   "source": [
    "# Debugging"
   ]
  },
  {
   "cell_type": "code",
   "execution_count": null,
   "metadata": {
    "collapsed": true,
    "hidden": true
   },
   "outputs": [],
   "source": [
    "from planet4.fnotching import get_clusters_in_path\n",
    "\n",
    "def find_bad_obsid(obsid, savedir):\n",
    "    pm = io.PathManager(obsid=obsid, datapath=savedir)\n",
    "    paths = pm.get_obsid_paths('L1A')\n",
    "    if len(paths) == 0:\n",
    "        logger.warning(\"No paths to fnotch found for %s\", obsid)\n",
    "    fans = []\n",
    "    blotches = []\n",
    "    for path in paths:\n",
    "        f, b = get_clusters_in_path(path)\n",
    "        fans.append(f)\n",
    "        blotches.append(b)\n",
    "    fans = pd.concat(fans, ignore_index=True)"
   ]
  },
  {
   "cell_type": "code",
   "execution_count": 24,
   "metadata": {
    "ExecuteTime": {
     "end_time": "2017-10-30T22:10:37.154990Z",
     "start_time": "2017-10-30T22:10:37.127499Z"
    },
    "hidden": true
   },
   "outputs": [
    {
     "data": {
      "text/plain": [
       "'catalog_1.0b2'"
      ]
     },
     "execution_count": 24,
     "metadata": {},
     "output_type": "execute_result"
    }
   ],
   "source": [
    "folder"
   ]
  },
  {
   "cell_type": "code",
   "execution_count": null,
   "metadata": {
    "hidden": true
   },
   "outputs": [],
   "source": [
    "for obsid in obsids:\n",
    "    print(obsid)\n",
    "    find_bad_obsid(obsid, folder)"
   ]
  },
  {
   "cell_type": "code",
   "execution_count": null,
   "metadata": {
    "hidden": true
   },
   "outputs": [],
   "source": [
    "import holoviews as hv\n",
    "hv.notebook_extension()"
   ]
  },
  {
   "cell_type": "code",
   "execution_count": null,
   "metadata": {
    "collapsed": true,
    "hidden": true
   },
   "outputs": [],
   "source": [
    "from planet4.io import get_subframe"
   ]
  },
  {
   "cell_type": "code",
   "execution_count": null,
   "metadata": {
    "collapsed": true,
    "hidden": true
   },
   "outputs": [],
   "source": [
    "obsid = 'ESP_022273_0950'"
   ]
  },
  {
   "cell_type": "code",
   "execution_count": null,
   "metadata": {
    "collapsed": true,
    "hidden": true
   },
   "outputs": [],
   "source": [
    "data = db.get_image_name_markings(obsid)[['image_id', 'image_url']]"
   ]
  },
  {
   "cell_type": "code",
   "execution_count": null,
   "metadata": {
    "collapsed": true,
    "hidden": true
   },
   "outputs": [],
   "source": [
    "data.set_index('image_id', drop=True, inplace=True)"
   ]
  },
  {
   "cell_type": "code",
   "execution_count": null,
   "metadata": {
    "collapsed": true,
    "hidden": true
   },
   "outputs": [],
   "source": [
    "data.drop_duplicates(inplace=True)"
   ]
  },
  {
   "cell_type": "code",
   "execution_count": null,
   "metadata": {
    "collapsed": true,
    "hidden": true
   },
   "outputs": [],
   "source": [
    "def show_subframe(image_id):\n",
    "    img = get_subframe(data.loc[data.index[0]].values[0])\n",
    "    return hv.Raster(img)"
   ]
  },
  {
   "cell_type": "code",
   "execution_count": null,
   "metadata": {
    "collapsed": true,
    "hidden": true
   },
   "outputs": [],
   "source": [
    "%output size=150"
   ]
  },
  {
   "cell_type": "code",
   "execution_count": null,
   "metadata": {
    "hidden": true
   },
   "outputs": [],
   "source": [
    "%%opts Raster [xaxis=None, yaxis=None]\n",
    "show_subframe(data.index[0])+show_subframe(data.index[1])"
   ]
  },
  {
   "cell_type": "code",
   "execution_count": null,
   "metadata": {
    "hidden": true
   },
   "outputs": [],
   "source": [
    "dmap = hv.DynamicMap(show_subframe, kdims=['image_id'])\n",
    "dmap"
   ]
  },
  {
   "cell_type": "code",
   "execution_count": null,
   "metadata": {
    "hidden": true
   },
   "outputs": [],
   "source": [
    "dmap.redim.values(image_id=data.index.values)"
   ]
  },
  {
   "cell_type": "code",
   "execution_count": null,
   "metadata": {
    "hidden": true
   },
   "outputs": [],
   "source": [
    "xvals = np.linspace(-4,0,202)\n",
    "yvals = np.linspace(4,0,202)\n",
    "xs,ys = np.meshgrid(xvals, yvals)\n",
    "\n",
    "def waves_image(alpha, beta):\n",
    "    return hv.Image(np.sin(((ys/alpha)**alpha+beta)*xs))\n",
    "\n",
    "waves_image(0,0) + waves_image(0,4)"
   ]
  },
  {
   "cell_type": "code",
   "execution_count": null,
   "metadata": {
    "hidden": true
   },
   "outputs": [],
   "source": [
    "dmap = hv.DynamicMap(waves_image, kdims=['alpha', 'beta'])\n",
    "dmap"
   ]
  },
  {
   "cell_type": "code",
   "execution_count": null,
   "metadata": {
    "hidden": true
   },
   "outputs": [],
   "source": [
    "dmap[0,1] + dmap.select(alpha=1, beta=2)"
   ]
  },
  {
   "cell_type": "code",
   "execution_count": null,
   "metadata": {
    "hidden": true
   },
   "outputs": [],
   "source": [
    "dmap.redim.range(alpha=(0,5.0), beta=(1,5.0))"
   ]
  },
  {
   "cell_type": "code",
   "execution_count": null,
   "metadata": {
    "hidden": true
   },
   "outputs": [],
   "source": [
    "hv.__version__"
   ]
  },
  {
   "cell_type": "code",
   "execution_count": null,
   "metadata": {
    "ExecuteTime": {
     "end_time": "2017-07-31T05:39:03.651357Z",
     "start_time": "2017-07-31T05:39:02.072948Z"
    },
    "hidden": true
   },
   "outputs": [],
   "source": [
    "for imgid in image_ids:\n",
    "    do_cluster_ids(imgid, \"without_large_fan_fnotch_on_p4_coords\" )"
   ]
  },
  {
   "cell_type": "code",
   "execution_count": null,
   "metadata": {
    "ExecuteTime": {
     "end_time": "2017-07-31T06:34:55.035742Z",
     "start_time": "2017-07-31T06:34:54.895134Z"
    },
    "collapsed": true,
    "hidden": true
   },
   "outputs": [],
   "source": [
    "obsid = 'ESP_020930_0980'\n",
    "savedir = 'fnotching_per_obsid'"
   ]
  },
  {
   "cell_type": "code",
   "execution_count": null,
   "metadata": {
    "ExecuteTime": {
     "end_time": "2017-07-31T06:28:50.265453Z",
     "start_time": "2017-07-31T06:28:49.303947Z"
    },
    "collapsed": true,
    "hidden": true
   },
   "outputs": [],
   "source": [
    "dbscanner = dbscan.DBScanner(savedir=savedir)"
   ]
  },
  {
   "cell_type": "code",
   "execution_count": null,
   "metadata": {
    "ExecuteTime": {
     "end_time": "2017-07-31T06:30:13.360723Z",
     "start_time": "2017-07-31T06:29:03.612958Z"
    },
    "collapsed": true,
    "hidden": true
   },
   "outputs": [],
   "source": [
    "dbscanner.cluster_image_name(obsid)"
   ]
  },
  {
   "cell_type": "code",
   "execution_count": null,
   "metadata": {
    "ExecuteTime": {
     "end_time": "2017-07-31T07:56:14.952010Z",
     "start_time": "2017-07-31T07:56:14.823004Z"
    },
    "hidden": true
   },
   "outputs": [],
   "source": [
    "pm.final_blotchfile"
   ]
  },
  {
   "cell_type": "code",
   "execution_count": null,
   "metadata": {
    "ExecuteTime": {
     "end_time": "2017-07-31T07:31:37.431926Z",
     "start_time": "2017-07-31T07:31:33.228991Z"
    },
    "collapsed": true,
    "hidden": true
   },
   "outputs": [],
   "source": [
    "fnotching.fnotch_obsid(obsid, savedir=savedir)"
   ]
  },
  {
   "cell_type": "code",
   "execution_count": null,
   "metadata": {
    "ExecuteTime": {
     "end_time": "2017-07-31T07:59:15.105871Z",
     "start_time": "2017-07-31T07:59:14.971043Z"
    },
    "collapsed": true,
    "hidden": true
   },
   "outputs": [],
   "source": [
    "fnotching.apply_cut_obsid(obsid, savedir=savedir)"
   ]
  },
  {
   "cell_type": "code",
   "execution_count": null,
   "metadata": {
    "collapsed": true,
    "hidden": true
   },
   "outputs": [],
   "source": []
  },
  {
   "cell_type": "code",
   "execution_count": null,
   "metadata": {
    "collapsed": true,
    "hidden": true
   },
   "outputs": [],
   "source": []
  },
  {
   "cell_type": "code",
   "execution_count": null,
   "metadata": {
    "ExecuteTime": {
     "end_time": "2017-06-12T05:29:33.630091Z",
     "start_time": "2017-06-12T05:29:33.585023Z"
    },
    "collapsed": true,
    "hidden": true
   },
   "outputs": [],
   "source": [
    "data = region_data.Inca.season2 + region_data.Inca.season3"
   ]
  },
  {
   "cell_type": "code",
   "execution_count": null,
   "metadata": {
    "ExecuteTime": {
     "end_time": "2017-06-12T04:28:47.985375Z",
     "start_time": "2017-06-12T04:27:48.599060Z"
    },
    "hidden": true,
    "scrolled": false
   },
   "outputs": [],
   "source": [
    "do_clustering(ithaca[0])"
   ]
  },
  {
   "cell_type": "code",
   "execution_count": null,
   "metadata": {
    "ExecuteTime": {
     "end_time": "2017-06-12T04:28:48.031015Z",
     "start_time": "2017-06-12T04:28:47.988698Z"
    },
    "hidden": true
   },
   "outputs": [],
   "source": [
    "ithaca[0]"
   ]
  },
  {
   "cell_type": "code",
   "execution_count": null,
   "metadata": {
    "ExecuteTime": {
     "end_time": "2017-06-12T04:28:58.454595Z",
     "start_time": "2017-06-12T04:28:58.408347Z"
    },
    "collapsed": true,
    "hidden": true
   },
   "outputs": [],
   "source": [
    "from nbtools import execute_in_parallel"
   ]
  },
  {
   "cell_type": "code",
   "execution_count": null,
   "metadata": {
    "ExecuteTime": {
     "end_time": "2017-06-12T05:56:24.928876Z",
     "start_time": "2017-06-12T05:29:36.220218Z"
    },
    "hidden": true
   },
   "outputs": [],
   "source": [
    "result = execute_in_parallel(do_clustering, data)"
   ]
  },
  {
   "cell_type": "markdown",
   "metadata": {},
   "source": [
    "# Creating obsid files"
   ]
  },
  {
   "cell_type": "code",
   "execution_count": 96,
   "metadata": {
    "ExecuteTime": {
     "end_time": "2017-10-31T00:40:01.958717Z",
     "start_time": "2017-10-31T00:40:01.929235Z"
    }
   },
   "outputs": [],
   "source": [
    "from planet4.fnotching import get_clusters_in_path"
   ]
  },
  {
   "cell_type": "code",
   "execution_count": 99,
   "metadata": {
    "ExecuteTime": {
     "end_time": "2017-12-30T06:06:41.672371Z",
     "start_time": "2017-12-30T06:06:41.637472Z"
    }
   },
   "outputs": [
    {
     "ename": "NameError",
     "evalue": "name 'roi' is not defined",
     "output_type": "error",
     "traceback": [
      "\u001b[0;31m---------------------------------------------------------------------------\u001b[0m",
      "\u001b[0;31mNameError\u001b[0m                                 Traceback (most recent call last)",
      "\u001b[0;32m<ipython-input-99-63bb1c93f866>\u001b[0m in \u001b[0;36m<module>\u001b[0;34m()\u001b[0m\n\u001b[0;32m----> 1\u001b[0;31m \u001b[0mpm\u001b[0m \u001b[0;34m=\u001b[0m \u001b[0mio\u001b[0m\u001b[0;34m.\u001b[0m\u001b[0mPathManager\u001b[0m\u001b[0;34m(\u001b[0m\u001b[0mobsid\u001b[0m\u001b[0;34m=\u001b[0m\u001b[0mroi\u001b[0m\u001b[0;34m.\u001b[0m\u001b[0mseasons\u001b[0m\u001b[0;34m[\u001b[0m\u001b[0;36m0\u001b[0m\u001b[0;34m]\u001b[0m\u001b[0;34m,\u001b[0m \u001b[0mdatapath\u001b[0m\u001b[0;34m=\u001b[0m\u001b[0mfolder\u001b[0m\u001b[0;34m)\u001b[0m\u001b[0;34m\u001b[0m\u001b[0m\n\u001b[0m",
      "\u001b[0;31mNameError\u001b[0m: name 'roi' is not defined"
     ]
    }
   ],
   "source": [
    "pm = io.PathManager(obsid=roi.seasons[0], datapath=folder)"
   ]
  },
  {
   "cell_type": "code",
   "execution_count": 98,
   "metadata": {
    "ExecuteTime": {
     "end_time": "2017-10-31T00:40:04.591550Z",
     "start_time": "2017-10-31T00:40:04.565137Z"
    }
   },
   "outputs": [
    {
     "data": {
      "text/plain": [
       "PosixPath('/Users/klay6683/Dropbox/data/planet4/catalog_1.0b2/ESP_011408_0930_blotches.csv')"
      ]
     },
     "execution_count": 98,
     "metadata": {},
     "output_type": "execute_result"
    }
   ],
   "source": [
    "pm.obsid_final_blotches_path"
   ]
  },
  {
   "cell_type": "code",
   "execution_count": 147,
   "metadata": {
    "ExecuteTime": {
     "end_time": "2017-12-30T08:28:42.483460Z",
     "start_time": "2017-12-30T08:28:42.460542Z"
    }
   },
   "outputs": [],
   "source": [
    "from planet4.catalog_production import create_roi_file"
   ]
  },
  {
   "cell_type": "code",
   "execution_count": 35,
   "metadata": {
    "ExecuteTime": {
     "end_time": "2017-12-30T05:16:18.442625Z",
     "start_time": "2017-12-30T05:16:18.415771Z"
    }
   },
   "outputs": [
    {
     "data": {
      "text/plain": [
       "'catalog_1.0b3'"
      ]
     },
     "execution_count": 35,
     "metadata": {},
     "output_type": "execute_result"
    }
   ],
   "source": [
    "savedir"
   ]
  },
  {
   "cell_type": "code",
   "execution_count": 148,
   "metadata": {
    "ExecuteTime": {
     "end_time": "2017-12-30T08:32:06.364521Z",
     "start_time": "2017-12-30T08:28:44.967572Z"
    }
   },
   "outputs": [
    {
     "name": "stderr",
     "output_type": "stream",
     "text": [
      "100%|██████████| 221/221 [03:13<00:00,  1.14it/s]\n"
     ]
    }
   ],
   "source": [
    "create_roi_file(obsids, 'catalog', savedir)"
   ]
  },
  {
   "cell_type": "code",
   "execution_count": 118,
   "metadata": {
    "ExecuteTime": {
     "end_time": "2017-12-30T06:24:23.316274Z",
     "start_time": "2017-12-30T06:24:23.293470Z"
    }
   },
   "outputs": [],
   "source": [
    "pm = io.PathManager(obsid=obsids[0], datapath=savedir)"
   ]
  },
  {
   "cell_type": "code",
   "execution_count": 119,
   "metadata": {
    "ExecuteTime": {
     "end_time": "2017-12-30T06:24:24.631594Z",
     "start_time": "2017-12-30T06:24:24.543461Z"
    }
   },
   "outputs": [],
   "source": [
    "folders = pm.get_obsid_paths('L1C')"
   ]
  },
  {
   "cell_type": "code",
   "execution_count": 132,
   "metadata": {
    "ExecuteTime": {
     "end_time": "2017-12-30T06:32:58.978730Z",
     "start_time": "2017-12-30T06:32:58.951756Z"
    }
   },
   "outputs": [],
   "source": [
    "from planet4.catalog_production import read_csvfiles_into_lists_of_frames, concat_bucket_lists"
   ]
  },
  {
   "cell_type": "code",
   "execution_count": null,
   "metadata": {},
   "outputs": [],
   "source": [
    "bucket.items()"
   ]
  },
  {
   "cell_type": "code",
   "execution_count": null,
   "metadata": {},
   "outputs": [],
   "source": []
  },
  {
   "cell_type": "code",
   "execution_count": 102,
   "metadata": {
    "ExecuteTime": {
     "end_time": "2017-10-31T00:40:19.249966Z",
     "start_time": "2017-10-31T00:40:19.220414Z"
    }
   },
   "outputs": [
    {
     "data": {
      "text/plain": [
       "['season2', 'season3']"
      ]
     },
     "execution_count": 102,
     "metadata": {},
     "output_type": "execute_result"
    }
   ],
   "source": [
    "roi.available_seasons"
   ]
  },
  {
   "cell_type": "code",
   "execution_count": 125,
   "metadata": {
    "ExecuteTime": {
     "end_time": "2017-10-31T01:32:06.234433Z",
     "start_time": "2017-10-31T01:32:06.208979Z"
    }
   },
   "outputs": [
    {
     "data": {
      "text/plain": [
       "'catalog_1.0b2'"
      ]
     },
     "execution_count": 125,
     "metadata": {},
     "output_type": "execute_result"
    }
   ],
   "source": [
    "folder"
   ]
  },
  {
   "cell_type": "code",
   "execution_count": 104,
   "metadata": {
    "ExecuteTime": {
     "end_time": "2017-10-31T00:40:23.673622Z",
     "start_time": "2017-10-31T00:40:23.557337Z"
    }
   },
   "outputs": [],
   "source": [
    "def create_roi_file_with_seasons(roi, datapath, copy_to_analysis=True):\n",
    "    Fans = []\n",
    "    Blotches = []\n",
    "    for season in roi.available_seasons:\n",
    "        print(season)\n",
    "        # keep lower case marking objects to add season column later\n",
    "        fans = []\n",
    "        blotches = []\n",
    "        for obsid in getattr(roi, season):\n",
    "            print(obsid)\n",
    "            pm = io.PathManager(obsid=obsid, datapath=datapath)\n",
    "            fans.append(pm.final_fandf)\n",
    "            blotches.append(pm.final_blotchdf)\n",
    "\n",
    "        fans = pd.concat(fans, ignore_index=True)\n",
    "        fans['season'] = season\n",
    "        Fans.append(fans)\n",
    "    \n",
    "        blotches = pd.concat(blotches, ignore_index=True)\n",
    "        blotches['season'] = season\n",
    "        Blotches.append(blotches)\n",
    "        \n",
    "    Fans = pd.concat(Fans, ignore_index=True)\n",
    "    Blotches = pd.concat(Blotches, ignore_index=True)\n",
    "    savedir = pm.path_so_far.parent\n",
    "    for marks in ['Fans', 'Blotches']:\n",
    "        savename = f\"{roi.name}_{pm.L1C_folder}_{marks}.csv\"\n",
    "        savepath = savedir / savename\n",
    "        obj = eval(marks)  # get handle to the fan or blotch object\n",
    "        obj = obj.dropna(how='all', axis=1)\n",
    "        obj.to_csv(savepath, index=False)\n",
    "        if copy_to_analysis is True:\n",
    "            savefolder = io.analysis_folder() / folder / f\"{roi.name.lower()}\"\n",
    "            savefolder.mkdir(exist_ok=True)\n",
    "            savepath = savefolder / savename\n",
    "            obj.to_csv(savepath, index=False)"
   ]
  },
  {
   "cell_type": "code",
   "execution_count": 132,
   "metadata": {
    "ExecuteTime": {
     "end_time": "2017-10-31T01:58:07.376493Z",
     "start_time": "2017-10-31T01:58:06.977116Z"
    }
   },
   "outputs": [
    {
     "name": "stdout",
     "output_type": "stream",
     "text": [
      "season2\n",
      "ESP_011460_0980\n",
      "ESP_011526_0980\n",
      "ESP_011737_0980\n",
      "ESP_012515_0980\n",
      "ESP_012594_0980\n",
      "ESP_012805_0980\n",
      "ESP_012871_0980\n",
      "season3\n",
      "ESP_022510_0980\n",
      "ESP_021587_0980\n",
      "ESP_021574_0980\n",
      "ESP_021521_0980\n",
      "ESP_021508_0980\n",
      "ESP_020941_0980\n",
      "ESP_020875_0980\n",
      "ESP_020374_0980\n",
      "ESP_020163_0980\n"
     ]
    }
   ],
   "source": [
    "create_roi_file_with_seasons(roi, folder)"
   ]
  },
  {
   "cell_type": "code",
   "execution_count": null,
   "metadata": {
    "ExecuteTime": {
     "end_time": "2017-06-12T05:26:20.773546Z",
     "start_time": "2017-06-12T05:26:20.676123Z"
    },
    "collapsed": true
   },
   "outputs": [],
   "source": [
    "def create_obsid_result_files(obsid, datapath=None):\n",
    "#     logger.debug(\"Working on %s\", obsid)\n",
    "    pm = io.PathManager(obsid=obsid, datapath=datapath)\n",
    "    # the pm.get_obsid_paths method searches for existing image_id folders inside each\n",
    "    # obsid folder\n",
    "    folders = list(pm.get_obsid_paths(pm.L1C_folder))\n",
    "    blotches = []\n",
    "    fans = []\n",
    "    for folder in folders:\n",
    "        pm.id = fnotching.get_id_from_path(folder)\n",
    "        if pm.final_blotchfile.exists() and pm.final_blotchfile.lstat().st_size > 1:\n",
    "            blotches.append(pm.final_blotchdf)\n",
    "        if pm.final_fanfile.exists() and pm.final_fanfile.lstat().st_size > 1:\n",
    "            fans.append(pm.final_fandf)\n",
    "\n",
    "    if len(blotches) > 0:\n",
    "        blotches = pd.concat(blotches, ignore_index=True)\n",
    "        blotches.dropna(how='all', axis=1, inplace=True)\n",
    "        blotches.to_csv(pm.obsid_final_blotches_path, index=False)\n",
    "        print(\"Created\", pm.obsid_final_blotches_path)\n",
    "\n",
    "    if len(fans) > 0:\n",
    "        fans = pd.concat(fans, ignore_index=True)\n",
    "        fans.dropna(how='all', axis=1, inplace=True)\n",
    "        fans.to_csv(pm.obsid_final_fans_path, index=False)\n",
    "        print(\"Created\", pm.obsid_final_fans_path)"
   ]
  },
  {
   "cell_type": "code",
   "execution_count": null,
   "metadata": {
    "ExecuteTime": {
     "end_time": "2017-06-12T06:07:27.547318Z",
     "start_time": "2017-06-12T06:05:59.784587Z"
    }
   },
   "outputs": [],
   "source": [
    "for obsid in data:\n",
    "    create_obsid_result_files(obsid, datapath='for_chase')"
   ]
  },
  {
   "cell_type": "code",
   "execution_count": null,
   "metadata": {
    "ExecuteTime": {
     "end_time": "2017-04-24T04:13:05.284512Z",
     "start_time": "2017-04-24T04:13:04.954616Z"
    },
    "collapsed": true
   },
   "outputs": [],
   "source": [
    "region = getattr(region_data, name)\n",
    "for season_no in [2, 3]:\n",
    "    season = str(season_no)\n",
    "    bucket = []\n",
    "    for obsid in getattr(region, f\"season{season}\"):\n",
    "        pm = io.PathManager(obsid=obsid)\n",
    "        df = pd.read_csv(pm.obsid_final_blotches_path)\n",
    "        df['obsid'] = obsid\n",
    "        bucket.append(df)\n",
    "\n",
    "    df = pd.concat(bucket, ignore_index=True)\n",
    "    df.to_csv(io.analysis_folder() / f\"p4_catalog/{name}_season{season}_blotches.csv\",\n",
    "              index=False)"
   ]
  },
  {
   "cell_type": "code",
   "execution_count": null,
   "metadata": {
    "ExecuteTime": {
     "end_time": "2017-06-12T04:54:28.617009Z",
     "start_time": "2017-06-12T04:54:28.577484Z"
    },
    "collapsed": true
   },
   "outputs": [],
   "source": [
    "store_folder = io.analysis_folder() / 'for_chase'\n",
    "store_folder.mkdir(exist_ok=True)"
   ]
  },
  {
   "cell_type": "code",
   "execution_count": null,
   "metadata": {
    "ExecuteTime": {
     "end_time": "2017-06-12T06:08:09.550344Z",
     "start_time": "2017-06-12T06:08:08.084699Z"
    },
    "collapsed": true
   },
   "outputs": [],
   "source": [
    "name = 'inca'"
   ]
  },
  {
   "cell_type": "code",
   "execution_count": null,
   "metadata": {
    "ExecuteTime": {
     "end_time": "2017-06-12T06:08:13.610971Z",
     "start_time": "2017-06-12T06:08:09.767188Z"
    }
   },
   "outputs": [],
   "source": [
    "p = Path('/Users/klay6683/Dropbox/data/planet4/for_chase/' + name)\n",
    "for kind in ['blotches', 'fans']:\n",
    "    bucket = []\n",
    "    filepaths = p.glob(f'*_{kind}.csv')\n",
    "    for filepath in filepaths:\n",
    "        obsid = filepath.name[:15]\n",
    "        df = pd.read_csv(filepath)\n",
    "        df['obsid'] = obsid\n",
    "        bucket.append(df)\n",
    "    df = pd.concat(bucket, ignore_index=True)\n",
    "    savedir = store_folder / f'{name}'\n",
    "    savedir.mkdir(exist_ok=True)\n",
    "    savepath = savedir / f\"{name}_{kind}.csv\"\n",
    "    print(savepath)\n",
    "    df.to_csv(savepath, index=False)\n",
    "        "
   ]
  },
  {
   "cell_type": "code",
   "execution_count": null,
   "metadata": {
    "collapsed": true
   },
   "outputs": [],
   "source": []
  }
 ],
 "metadata": {
  "anaconda-cloud": {},
  "kernelspec": {
   "display_name": "Python [conda env:stable]",
   "language": "python",
   "name": "conda-env-stable-py"
  },
  "language_info": {
   "codemirror_mode": {
    "name": "ipython",
    "version": 3
   },
   "file_extension": ".py",
   "mimetype": "text/x-python",
   "name": "python",
   "nbconvert_exporter": "python",
   "pygments_lexer": "ipython3",
   "version": "3.6.4"
  },
  "latex_envs": {
   "LaTeX_envs_menu_present": true,
   "autocomplete": true,
   "bibliofile": "biblio.bib",
   "cite_by": "apalike",
   "current_citInitial": 1,
   "eqLabelWithNumbers": true,
   "eqNumInitial": 1,
   "hotkeys": {
    "equation": "Ctrl-E",
    "itemize": "Ctrl-I"
   },
   "labels_anchors": false,
   "latex_user_defs": false,
   "report_style_numbering": false,
   "user_envs_cfg": false
  },
  "toc": {
   "nav_menu": {
    "height": "48px",
    "width": "252px"
   },
   "number_sections": false,
   "sideBar": false,
   "skip_h1_title": false,
   "toc_cell": false,
   "toc_position": {
    "height": "134px",
    "left": "786.59375px",
    "right": "20px",
    "top": "70px",
    "width": "183px"
   },
   "toc_section_display": "block",
   "toc_window_display": false
  }
 },
 "nbformat": 4,
 "nbformat_minor": 2
}
