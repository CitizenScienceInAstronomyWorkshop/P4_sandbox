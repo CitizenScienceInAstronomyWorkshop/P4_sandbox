{
 "cells": [
  {
   "cell_type": "code",
   "execution_count": null,
   "metadata": {
    "init_cell": true
   },
   "outputs": [],
   "source": [
    "from planet4 import markings, dbscan, io, fnotching"
   ]
  },
  {
   "cell_type": "code",
   "execution_count": null,
   "metadata": {},
   "outputs": [],
   "source": [
    "from nbtools.logging import setup_live_logging\n",
    "import logging"
   ]
  },
  {
   "cell_type": "code",
   "execution_count": null,
   "metadata": {},
   "outputs": [],
   "source": [
    "setup_live_logging('planet4', logging.DEBUG)"
   ]
  },
  {
   "cell_type": "markdown",
   "metadata": {},
   "source": [
    "\n",
    "# Data to cluster"
   ]
  },
  {
   "cell_type": "code",
   "execution_count": null,
   "metadata": {
    "init_cell": true
   },
   "outputs": [],
   "source": [
    "from planet4 import region_data, io"
   ]
  },
  {
   "cell_type": "code",
   "execution_count": null,
   "metadata": {},
   "outputs": [],
   "source": [
    "db = io.DBManager()"
   ]
  },
  {
   "cell_type": "code",
   "execution_count": null,
   "metadata": {},
   "outputs": [],
   "source": [
    "obsids = db.image_names"
   ]
  },
  {
   "cell_type": "code",
   "execution_count": null,
   "metadata": {},
   "outputs": [],
   "source": [
    "db.dbname"
   ]
  },
  {
   "cell_type": "code",
   "execution_count": null,
   "metadata": {},
   "outputs": [],
   "source": [
    "len(obsids)"
   ]
  },
  {
   "cell_type": "markdown",
   "metadata": {},
   "source": [
    "# Support functions"
   ]
  },
  {
   "cell_type": "code",
   "execution_count": null,
   "metadata": {},
   "outputs": [],
   "source": [
    "from planet4.catalog_production import ReleaseManager\n",
    "from planet4 import fnotching"
   ]
  },
  {
   "cell_type": "code",
   "execution_count": null,
   "metadata": {},
   "outputs": [],
   "source": [
    "rm = ReleaseManager(\"v1.1\")"
   ]
  },
  {
   "cell_type": "code",
   "execution_count": null,
   "metadata": {},
   "outputs": [],
   "source": [
    "rm.launch_catalog_production()"
   ]
  },
  {
   "cell_type": "code",
   "execution_count": null,
   "metadata": {},
   "outputs": [],
   "source": [
    "rm.merge_all()"
   ]
  },
  {
   "cell_type": "code",
   "execution_count": null,
   "metadata": {},
   "outputs": [],
   "source": [
    "pd.read_csv(rm.blotch_merged).shape"
   ]
  },
  {
   "cell_type": "code",
   "execution_count": null,
   "metadata": {},
   "outputs": [],
   "source": [
    "pd.read_csv(rm.fan_merged).shape"
   ]
  },
  {
   "cell_type": "code",
   "execution_count": null,
   "metadata": {},
   "outputs": [],
   "source": [
    "fans = pd.read_csv(self.fan_file)\n",
    "blotches = pd.read_csv(self.blotch_file)\n",
    "meta = pd.read_csv(self.metadata_path, dtype='str')\n",
    "tile_coords = pd.read_csv(self.tile_coords_path, dtype='str')"
   ]
  },
  {
   "cell_type": "code",
   "execution_count": null,
   "metadata": {},
   "outputs": [],
   "source": [
    "meta.shape"
   ]
  },
  {
   "cell_type": "code",
   "execution_count": null,
   "metadata": {},
   "outputs": [],
   "source": [
    "tile_coords.shape"
   ]
  },
  {
   "cell_type": "code",
   "execution_count": null,
   "metadata": {},
   "outputs": [],
   "source": [
    "cols_to_merge = ['OBSERVATION_ID',\n",
    "                         'SOLAR_LONGITUDE', 'north_azimuth', 'map_scale']\n",
    "fans = fans.merge(meta[cols_to_merge],\n",
    "                  left_on='obsid', right_on='OBSERVATION_ID')\n",
    "blotches = blotches.merge(\n",
    "    meta[cols_to_merge], left_on='obsid', right_on='OBSERVATION_ID')"
   ]
  },
  {
   "cell_type": "code",
   "execution_count": null,
   "metadata": {},
   "outputs": [],
   "source": [
    "fans.shape"
   ]
  },
  {
   "cell_type": "code",
   "execution_count": null,
   "metadata": {},
   "outputs": [],
   "source": [
    "blotches.shape"
   ]
  },
  {
   "cell_type": "code",
   "execution_count": null,
   "metadata": {},
   "outputs": [],
   "source": [
    "fans.drop(self.DROP_FOR_FANS, axis=1, inplace=True)\n",
    "blotches.drop(self.DROP_FOR_BLOTCHES, axis=1, inplace=True)"
   ]
  },
  {
   "cell_type": "code",
   "execution_count": null,
   "metadata": {},
   "outputs": [],
   "source": [
    "blotches.shape"
   ]
  },
  {
   "cell_type": "code",
   "execution_count": null,
   "metadata": {},
   "outputs": [],
   "source": [
    "fans, blotches = self.merge_fnotch_results(fans, blotches)"
   ]
  },
  {
   "cell_type": "code",
   "execution_count": null,
   "metadata": {},
   "outputs": [],
   "source": [
    "fans.shape"
   ]
  },
  {
   "cell_type": "code",
   "execution_count": null,
   "metadata": {},
   "outputs": [],
   "source": [
    "blotches.shape"
   ]
  },
  {
   "cell_type": "code",
   "execution_count": null,
   "metadata": {},
   "outputs": [],
   "source": [
    "from planet4 import catalog_production as cp"
   ]
  },
  {
   "cell_type": "code",
   "execution_count": null,
   "metadata": {},
   "outputs": [],
   "source": [
    "rm.EDRINDEX_meta_path"
   ]
  },
  {
   "cell_type": "code",
   "execution_count": null,
   "metadata": {},
   "outputs": [],
   "source": [
    "rm.merge_all()"
   ]
  },
  {
   "cell_type": "code",
   "execution_count": null,
   "metadata": {},
   "outputs": [],
   "source": [
    "rm.calc_metadata()"
   ]
  },
  {
   "cell_type": "code",
   "execution_count": null,
   "metadata": {},
   "outputs": [],
   "source": [
    "meta = pd.read_csv(rm.metadata_path).set_index('OBSERVATION_ID')"
   ]
  },
  {
   "cell_type": "code",
   "execution_count": null,
   "metadata": {},
   "outputs": [],
   "source": [
    "rm.EDRINDEX_meta_path"
   ]
  },
  {
   "cell_type": "code",
   "execution_count": null,
   "metadata": {},
   "outputs": [],
   "source": [
    "meta.loc['ESP_012251_0935']"
   ]
  },
  {
   "cell_type": "code",
   "execution_count": null,
   "metadata": {},
   "outputs": [],
   "source": [
    "edrindex = pd.read_hdf(\"/Volumes/Data/hirise/EDRCUMINDEX.hdf\")\n",
    "p4_edr = edrindex[edrindex.OBSERVATION_ID.isin(rm.obsids)].query(\n",
    "    'CCD_NAME==\"RED4\"').drop_duplicates(subset='OBSERVATION_ID')"
   ]
  },
  {
   "cell_type": "code",
   "execution_count": null,
   "metadata": {},
   "outputs": [],
   "source": [
    "p4_edr.set_index('OBSERVATION_ID', inplace=True)"
   ]
  },
  {
   "cell_type": "code",
   "execution_count": null,
   "metadata": {},
   "outputs": [],
   "source": [
    "p4_edr.loc['ESP_012251_0935']"
   ]
  },
  {
   "cell_type": "code",
   "execution_count": null,
   "metadata": {},
   "outputs": [],
   "source": []
  },
  {
   "cell_type": "code",
   "execution_count": null,
   "metadata": {},
   "outputs": [],
   "source": [
    "rm.calc_metadata()"
   ]
  },
  {
   "cell_type": "code",
   "execution_count": null,
   "metadata": {},
   "outputs": [],
   "source": [
    "rm."
   ]
  },
  {
   "cell_type": "code",
   "execution_count": null,
   "metadata": {},
   "outputs": [],
   "source": [
    "df.set_index('OBSERVATION_ID').to_csv(rm.EDRINDEX_meta_path, index=True)"
   ]
  },
  {
   "cell_type": "code",
   "execution_count": null,
   "metadata": {},
   "outputs": [],
   "source": [
    "cols = ['OBSERVATION_ID', 'IMAGE_CENTER_LATITUDE', 'IMAGE_CENTER_LONGITUDE', 'SOLAR_LONGITUDE', 'START_TIME',\n",
    "        'north_azimuth', '# of tiles']"
   ]
  },
  {
   "cell_type": "code",
   "execution_count": null,
   "metadata": {},
   "outputs": [],
   "source": [
    "df[cols].head()"
   ]
  },
  {
   "cell_type": "code",
   "execution_count": null,
   "metadata": {},
   "outputs": [],
   "source": [
    "fname = \"P4_catalog_v1.0_EDRINDEX_metadata.csv\"\n",
    "df.to_csv(rm.savefolder / fname, index=False)"
   ]
  },
  {
   "cell_type": "code",
   "execution_count": null,
   "metadata": {},
   "outputs": [],
   "source": [
    "rm.savefolder"
   ]
  },
  {
   "cell_type": "code",
   "execution_count": null,
   "metadata": {},
   "outputs": [],
   "source": [
    "import itertools\n",
    "import string \n",
    "\n",
    "# Adapt this prefix as a unique identifier of the dataset\n",
    "\n",
    "def fan_id_generator():\n",
    "    for newid in itertools.product(string.digits+'abcdef', repeat=6):\n",
    "        yield 'F' + ''.join(newid)\n",
    "\n",
    "def blotch_id_generator():\n",
    "    for newid in itertools.product(string.digits+'abcdef', repeat=6):\n",
    "        yield 'B' + ''.join(newid)"
   ]
  },
  {
   "cell_type": "code",
   "execution_count": null,
   "metadata": {},
   "outputs": [],
   "source": [
    "def add_marking_ids(path, fan_id, blotch_id):\n",
    "    \"\"\"Add marking_ids for catalog to cluster results.\n",
    "    \n",
    "    Parameters\n",
    "    ----------\n",
    "    path : str, pathlib.Path\n",
    "        Path to L1A image_id clustering result directory\n",
    "    fan_id, blotch_id : generator\n",
    "        Generator for marking_id\n",
    "    \"\"\"\n",
    "    image_id = path.parent.name\n",
    "    for kind, id_ in zip(['fans', 'blotches'], [fan_id, blotch_id]):\n",
    "        fname = str(path / f\"{image_id}_L1A_{kind}.csv\")\n",
    "        try:\n",
    "            df = pd.read_csv(fname)\n",
    "        except FileNotFoundError:\n",
    "            continue\n",
    "        else:\n",
    "            marking_ids = []\n",
    "            for i in range(df.shape[0]):\n",
    "                marking_ids.append(next(id_))\n",
    "            df['marking_id'] = marking_ids\n",
    "            df.to_csv(fname, index=False)"
   ]
  },
  {
   "cell_type": "code",
   "execution_count": null,
   "metadata": {},
   "outputs": [],
   "source": [
    "from tqdm import tqdm"
   ]
  },
  {
   "cell_type": "code",
   "execution_count": null,
   "metadata": {},
   "outputs": [],
   "source": [
    "obsids = rm.obsids"
   ]
  },
  {
   "cell_type": "code",
   "execution_count": null,
   "metadata": {},
   "outputs": [],
   "source": [
    "rm.launch_catalog_production()"
   ]
  },
  {
   "cell_type": "code",
   "execution_count": null,
   "metadata": {},
   "outputs": [],
   "source": [
    "rm.calc_metadata()"
   ]
  },
  {
   "cell_type": "code",
   "execution_count": null,
   "metadata": {},
   "outputs": [],
   "source": [
    "rm.calc_marking_coordinates()"
   ]
  },
  {
   "cell_type": "code",
   "execution_count": null,
   "metadata": {},
   "outputs": [],
   "source": [
    "rm.merge_all()"
   ]
  },
  {
   "cell_type": "code",
   "execution_count": null,
   "metadata": {},
   "outputs": [],
   "source": [
    "fan_id = fan_id_generator()\n",
    "blotch_id = blotch_id_generator()"
   ]
  },
  {
   "cell_type": "code",
   "execution_count": null,
   "metadata": {},
   "outputs": [],
   "source": [
    "from planet4.fnotching import fnotch_image_ids, apply_cut"
   ]
  },
  {
   "cell_type": "code",
   "execution_count": null,
   "metadata": {},
   "outputs": [],
   "source": [
    "for obsid in tqdm(obsids):\n",
    "    pm = io.PathManager(obsid=obsid, datapath=rm.savefolder)\n",
    "    paths = pm.get_obsid_paths('L1A')\n",
    "    for path in paths:\n",
    "        add_marking_ids(path, fan_id, blotch_id)"
   ]
  },
  {
   "cell_type": "code",
   "execution_count": null,
   "metadata": {},
   "outputs": [],
   "source": [
    "rm.catalog"
   ]
  },
  {
   "cell_type": "code",
   "execution_count": null,
   "metadata": {},
   "outputs": [],
   "source": [
    "for obsid in tqdm(obsids):\n",
    "    fnotch_image_ids(obsid, savedir=rm.catalog)\n",
    "    apply_cut(obsid, savedir=rm.catalog)"
   ]
  },
  {
   "cell_type": "code",
   "execution_count": null,
   "metadata": {},
   "outputs": [],
   "source": [
    "from planet4.catalog_production import create_roi_file"
   ]
  },
  {
   "cell_type": "code",
   "execution_count": null,
   "metadata": {},
   "outputs": [],
   "source": [
    "create_roi_file(obsids, rm.catalog, rm.catalog)"
   ]
  },
  {
   "cell_type": "code",
   "execution_count": null,
   "metadata": {},
   "outputs": [],
   "source": [
    "rm.get_metadata()"
   ]
  },
  {
   "cell_type": "code",
   "execution_count": null,
   "metadata": {},
   "outputs": [],
   "source": [
    "rm.merge_all()"
   ]
  },
  {
   "cell_type": "code",
   "execution_count": null,
   "metadata": {},
   "outputs": [],
   "source": [
    "fans = rm.read_fan_file()"
   ]
  },
  {
   "cell_type": "code",
   "execution_count": null,
   "metadata": {},
   "outputs": [],
   "source": [
    "fans.columns"
   ]
  },
  {
   "cell_type": "code",
   "execution_count": null,
   "metadata": {},
   "outputs": [],
   "source": [
    "blotches = rm.read_blotch_file()"
   ]
  },
  {
   "cell_type": "code",
   "execution_count": null,
   "metadata": {},
   "outputs": [],
   "source": [
    "blotches.columns"
   ]
  },
  {
   "cell_type": "code",
   "execution_count": null,
   "metadata": {},
   "outputs": [],
   "source": [
    "pd.read_csv(rm.metadata_path).columns"
   ]
  },
  {
   "cell_type": "code",
   "execution_count": null,
   "metadata": {},
   "outputs": [],
   "source": [
    "fans.vote_ratio.isna().value_counts()"
   ]
  },
  {
   "cell_type": "code",
   "execution_count": null,
   "metadata": {},
   "outputs": [],
   "source": [
    "fans.head()"
   ]
  },
  {
   "cell_type": "code",
   "execution_count": null,
   "metadata": {},
   "outputs": [],
   "source": [
    "rm.launch_catalog_production()"
   ]
  },
  {
   "cell_type": "markdown",
   "metadata": {
    "heading_collapsed": true
   },
   "source": [
    "# Debugging"
   ]
  },
  {
   "cell_type": "code",
   "execution_count": null,
   "metadata": {
    "hidden": true
   },
   "outputs": [],
   "source": [
    "from planet4.fnotching import get_clusters_in_path\n",
    "\n",
    "def find_bad_obsid(obsid, savedir):\n",
    "    pm = io.PathManager(obsid=obsid, datapath=savedir)\n",
    "    paths = pm.get_obsid_paths('L1A')\n",
    "    if len(paths) == 0:\n",
    "        logger.warning(\"No paths to fnotch found for %s\", obsid)\n",
    "    fans = []\n",
    "    blotches = []\n",
    "    for path in paths:\n",
    "        f, b = get_clusters_in_path(path)\n",
    "        fans.append(f)\n",
    "        blotches.append(b)\n",
    "    fans = pd.concat(fans, ignore_index=True)"
   ]
  },
  {
   "cell_type": "code",
   "execution_count": null,
   "metadata": {
    "hidden": true
   },
   "outputs": [],
   "source": [
    "folder"
   ]
  },
  {
   "cell_type": "code",
   "execution_count": null,
   "metadata": {
    "hidden": true
   },
   "outputs": [],
   "source": [
    "for obsid in obsids:\n",
    "    print(obsid)\n",
    "    find_bad_obsid(obsid, folder)"
   ]
  },
  {
   "cell_type": "code",
   "execution_count": null,
   "metadata": {
    "hidden": true
   },
   "outputs": [],
   "source": [
    "import holoviews as hv\n",
    "hv.notebook_extension()"
   ]
  },
  {
   "cell_type": "code",
   "execution_count": null,
   "metadata": {
    "hidden": true
   },
   "outputs": [],
   "source": [
    "from planet4.io import get_subframe"
   ]
  },
  {
   "cell_type": "code",
   "execution_count": null,
   "metadata": {
    "hidden": true
   },
   "outputs": [],
   "source": [
    "obsid = 'ESP_022273_0950'"
   ]
  },
  {
   "cell_type": "code",
   "execution_count": null,
   "metadata": {
    "hidden": true
   },
   "outputs": [],
   "source": [
    "data = db.get_image_name_markings(obsid)[['image_id', 'image_url']]"
   ]
  },
  {
   "cell_type": "code",
   "execution_count": null,
   "metadata": {
    "hidden": true
   },
   "outputs": [],
   "source": [
    "data.set_index('image_id', drop=True, inplace=True)"
   ]
  },
  {
   "cell_type": "code",
   "execution_count": null,
   "metadata": {
    "hidden": true
   },
   "outputs": [],
   "source": [
    "data.drop_duplicates(inplace=True)"
   ]
  },
  {
   "cell_type": "code",
   "execution_count": null,
   "metadata": {
    "hidden": true
   },
   "outputs": [],
   "source": [
    "def show_subframe(image_id):\n",
    "    img = get_subframe(data.loc[data.index[0]].values[0])\n",
    "    return hv.Raster(img)"
   ]
  },
  {
   "cell_type": "code",
   "execution_count": null,
   "metadata": {
    "hidden": true
   },
   "outputs": [],
   "source": [
    "%output size=150"
   ]
  },
  {
   "cell_type": "code",
   "execution_count": null,
   "metadata": {
    "hidden": true
   },
   "outputs": [],
   "source": [
    "%%opts Raster [xaxis=None, yaxis=None]\n",
    "show_subframe(data.index[0])+show_subframe(data.index[1])"
   ]
  },
  {
   "cell_type": "code",
   "execution_count": null,
   "metadata": {
    "hidden": true
   },
   "outputs": [],
   "source": [
    "dmap = hv.DynamicMap(show_subframe, kdims=['image_id'])\n",
    "dmap"
   ]
  },
  {
   "cell_type": "code",
   "execution_count": null,
   "metadata": {
    "hidden": true
   },
   "outputs": [],
   "source": [
    "dmap.redim.values(image_id=data.index.values)"
   ]
  },
  {
   "cell_type": "code",
   "execution_count": null,
   "metadata": {
    "hidden": true
   },
   "outputs": [],
   "source": [
    "xvals = np.linspace(-4,0,202)\n",
    "yvals = np.linspace(4,0,202)\n",
    "xs,ys = np.meshgrid(xvals, yvals)\n",
    "\n",
    "def waves_image(alpha, beta):\n",
    "    return hv.Image(np.sin(((ys/alpha)**alpha+beta)*xs))\n",
    "\n",
    "waves_image(0,0) + waves_image(0,4)"
   ]
  },
  {
   "cell_type": "code",
   "execution_count": null,
   "metadata": {
    "hidden": true
   },
   "outputs": [],
   "source": [
    "dmap = hv.DynamicMap(waves_image, kdims=['alpha', 'beta'])\n",
    "dmap"
   ]
  },
  {
   "cell_type": "code",
   "execution_count": null,
   "metadata": {
    "hidden": true
   },
   "outputs": [],
   "source": [
    "dmap[0,1] + dmap.select(alpha=1, beta=2)"
   ]
  },
  {
   "cell_type": "code",
   "execution_count": null,
   "metadata": {
    "hidden": true
   },
   "outputs": [],
   "source": [
    "dmap.redim.range(alpha=(0,5.0), beta=(1,5.0))"
   ]
  },
  {
   "cell_type": "code",
   "execution_count": null,
   "metadata": {
    "hidden": true
   },
   "outputs": [],
   "source": [
    "hv.__version__"
   ]
  },
  {
   "cell_type": "code",
   "execution_count": null,
   "metadata": {
    "hidden": true
   },
   "outputs": [],
   "source": [
    "for imgid in image_ids:\n",
    "    do_cluster_ids(imgid, \"without_large_fan_fnotch_on_p4_coords\" )"
   ]
  },
  {
   "cell_type": "code",
   "execution_count": null,
   "metadata": {
    "hidden": true
   },
   "outputs": [],
   "source": [
    "obsid = 'ESP_020930_0980'\n",
    "savedir = 'fnotching_per_obsid'"
   ]
  },
  {
   "cell_type": "code",
   "execution_count": null,
   "metadata": {
    "hidden": true
   },
   "outputs": [],
   "source": [
    "dbscanner = dbscan.DBScanner(savedir=savedir)"
   ]
  },
  {
   "cell_type": "code",
   "execution_count": null,
   "metadata": {
    "hidden": true
   },
   "outputs": [],
   "source": [
    "dbscanner.cluster_image_name(obsid)"
   ]
  },
  {
   "cell_type": "code",
   "execution_count": null,
   "metadata": {
    "hidden": true
   },
   "outputs": [],
   "source": [
    "pm.final_blotchfile"
   ]
  },
  {
   "cell_type": "code",
   "execution_count": null,
   "metadata": {
    "hidden": true
   },
   "outputs": [],
   "source": [
    "fnotching.fnotch_obsid(obsid, savedir=savedir)"
   ]
  },
  {
   "cell_type": "code",
   "execution_count": null,
   "metadata": {
    "hidden": true
   },
   "outputs": [],
   "source": [
    "fnotching.apply_cut_obsid(obsid, savedir=savedir)"
   ]
  },
  {
   "cell_type": "code",
   "execution_count": null,
   "metadata": {
    "hidden": true
   },
   "outputs": [],
   "source": []
  },
  {
   "cell_type": "code",
   "execution_count": null,
   "metadata": {
    "hidden": true
   },
   "outputs": [],
   "source": []
  },
  {
   "cell_type": "code",
   "execution_count": null,
   "metadata": {
    "hidden": true
   },
   "outputs": [],
   "source": [
    "data = region_data.Inca.season2 + region_data.Inca.season3"
   ]
  },
  {
   "cell_type": "code",
   "execution_count": null,
   "metadata": {
    "hidden": true
   },
   "outputs": [],
   "source": [
    "do_clustering(ithaca[0])"
   ]
  },
  {
   "cell_type": "code",
   "execution_count": null,
   "metadata": {
    "hidden": true
   },
   "outputs": [],
   "source": [
    "ithaca[0]"
   ]
  },
  {
   "cell_type": "code",
   "execution_count": null,
   "metadata": {
    "hidden": true
   },
   "outputs": [],
   "source": [
    "from nbtools import execute_in_parallel"
   ]
  },
  {
   "cell_type": "code",
   "execution_count": null,
   "metadata": {
    "hidden": true
   },
   "outputs": [],
   "source": [
    "result = execute_in_parallel(do_clustering, data)"
   ]
  },
  {
   "cell_type": "markdown",
   "metadata": {},
   "source": [
    "# Creating obsid files"
   ]
  },
  {
   "cell_type": "code",
   "execution_count": null,
   "metadata": {},
   "outputs": [],
   "source": [
    "from planet4.fnotching import get_clusters_in_path"
   ]
  },
  {
   "cell_type": "code",
   "execution_count": null,
   "metadata": {},
   "outputs": [],
   "source": [
    "pm = io.PathManager(obsid=roi.seasons[0], datapath=folder)"
   ]
  },
  {
   "cell_type": "code",
   "execution_count": null,
   "metadata": {},
   "outputs": [],
   "source": [
    "pm.obsid_final_blotches_path"
   ]
  },
  {
   "cell_type": "code",
   "execution_count": null,
   "metadata": {},
   "outputs": [],
   "source": [
    "from planet4.catalog_production import create_roi_file"
   ]
  },
  {
   "cell_type": "code",
   "execution_count": null,
   "metadata": {},
   "outputs": [],
   "source": [
    "savedir"
   ]
  },
  {
   "cell_type": "code",
   "execution_count": null,
   "metadata": {},
   "outputs": [],
   "source": [
    "create_roi_file(obsids, 'catalog', savedir)"
   ]
  },
  {
   "cell_type": "code",
   "execution_count": null,
   "metadata": {},
   "outputs": [],
   "source": [
    "pm = io.PathManager(obsid=obsids[0], datapath=savedir)"
   ]
  },
  {
   "cell_type": "code",
   "execution_count": null,
   "metadata": {},
   "outputs": [],
   "source": [
    "folders = pm.get_obsid_paths('L1C')"
   ]
  },
  {
   "cell_type": "code",
   "execution_count": null,
   "metadata": {},
   "outputs": [],
   "source": [
    "from planet4.catalog_production import read_csvfiles_into_lists_of_frames, concat_bucket_lists"
   ]
  },
  {
   "cell_type": "code",
   "execution_count": null,
   "metadata": {},
   "outputs": [],
   "source": [
    "bucket.items()"
   ]
  },
  {
   "cell_type": "code",
   "execution_count": null,
   "metadata": {},
   "outputs": [],
   "source": []
  },
  {
   "cell_type": "code",
   "execution_count": null,
   "metadata": {},
   "outputs": [],
   "source": [
    "roi.available_seasons"
   ]
  },
  {
   "cell_type": "code",
   "execution_count": null,
   "metadata": {},
   "outputs": [],
   "source": [
    "folder"
   ]
  },
  {
   "cell_type": "code",
   "execution_count": null,
   "metadata": {},
   "outputs": [],
   "source": [
    "def create_roi_file_with_seasons(roi, datapath, copy_to_analysis=True):\n",
    "    Fans = []\n",
    "    Blotches = []\n",
    "    for season in roi.available_seasons:\n",
    "        print(season)\n",
    "        # keep lower case marking objects to add season column later\n",
    "        fans = []\n",
    "        blotches = []\n",
    "        for obsid in getattr(roi, season):\n",
    "            print(obsid)\n",
    "            pm = io.PathManager(obsid=obsid, datapath=datapath)\n",
    "            fans.append(pm.final_fandf)\n",
    "            blotches.append(pm.final_blotchdf)\n",
    "\n",
    "        fans = pd.concat(fans, ignore_index=True)\n",
    "        fans['season'] = season\n",
    "        Fans.append(fans)\n",
    "    \n",
    "        blotches = pd.concat(blotches, ignore_index=True)\n",
    "        blotches['season'] = season\n",
    "        Blotches.append(blotches)\n",
    "        \n",
    "    Fans = pd.concat(Fans, ignore_index=True)\n",
    "    Blotches = pd.concat(Blotches, ignore_index=True)\n",
    "    savedir = pm.path_so_far.parent\n",
    "    for marks in ['Fans', 'Blotches']:\n",
    "        savename = f\"{roi.name}_{pm.L1C_folder}_{marks}.csv\"\n",
    "        savepath = savedir / savename\n",
    "        obj = eval(marks)  # get handle to the fan or blotch object\n",
    "        obj = obj.dropna(how='all', axis=1)\n",
    "        obj.to_csv(savepath, index=False)\n",
    "        if copy_to_analysis is True:\n",
    "            savefolder = io.analysis_folder() / folder / f\"{roi.name.lower()}\"\n",
    "            savefolder.mkdir(exist_ok=True)\n",
    "            savepath = savefolder / savename\n",
    "            obj.to_csv(savepath, index=False)"
   ]
  },
  {
   "cell_type": "code",
   "execution_count": null,
   "metadata": {},
   "outputs": [],
   "source": [
    "create_roi_file_with_seasons(roi, folder)"
   ]
  },
  {
   "cell_type": "code",
   "execution_count": null,
   "metadata": {},
   "outputs": [],
   "source": [
    "def create_obsid_result_files(obsid, datapath=None):\n",
    "#     logger.debug(\"Working on %s\", obsid)\n",
    "    pm = io.PathManager(obsid=obsid, datapath=datapath)\n",
    "    # the pm.get_obsid_paths method searches for existing image_id folders inside each\n",
    "    # obsid folder\n",
    "    folders = list(pm.get_obsid_paths(pm.L1C_folder))\n",
    "    blotches = []\n",
    "    fans = []\n",
    "    for folder in folders:\n",
    "        pm.id = fnotching.get_id_from_path(folder)\n",
    "        if pm.final_blotchfile.exists() and pm.final_blotchfile.lstat().st_size > 1:\n",
    "            blotches.append(pm.final_blotchdf)\n",
    "        if pm.final_fanfile.exists() and pm.final_fanfile.lstat().st_size > 1:\n",
    "            fans.append(pm.final_fandf)\n",
    "\n",
    "    if len(blotches) > 0:\n",
    "        blotches = pd.concat(blotches, ignore_index=True)\n",
    "        blotches.dropna(how='all', axis=1, inplace=True)\n",
    "        blotches.to_csv(pm.obsid_final_blotches_path, index=False)\n",
    "        print(\"Created\", pm.obsid_final_blotches_path)\n",
    "\n",
    "    if len(fans) > 0:\n",
    "        fans = pd.concat(fans, ignore_index=True)\n",
    "        fans.dropna(how='all', axis=1, inplace=True)\n",
    "        fans.to_csv(pm.obsid_final_fans_path, index=False)\n",
    "        print(\"Created\", pm.obsid_final_fans_path)"
   ]
  },
  {
   "cell_type": "code",
   "execution_count": null,
   "metadata": {},
   "outputs": [],
   "source": [
    "for obsid in data:\n",
    "    create_obsid_result_files(obsid, datapath='for_chase')"
   ]
  },
  {
   "cell_type": "code",
   "execution_count": null,
   "metadata": {},
   "outputs": [],
   "source": [
    "region = getattr(region_data, name)\n",
    "for season_no in [2, 3]:\n",
    "    season = str(season_no)\n",
    "    bucket = []\n",
    "    for obsid in getattr(region, f\"season{season}\"):\n",
    "        pm = io.PathManager(obsid=obsid)\n",
    "        df = pd.read_csv(pm.obsid_final_blotches_path)\n",
    "        df['obsid'] = obsid\n",
    "        bucket.append(df)\n",
    "\n",
    "    df = pd.concat(bucket, ignore_index=True)\n",
    "    df.to_csv(io.analysis_folder() / f\"p4_catalog/{name}_season{season}_blotches.csv\",\n",
    "              index=False)"
   ]
  },
  {
   "cell_type": "code",
   "execution_count": null,
   "metadata": {},
   "outputs": [],
   "source": [
    "store_folder = io.analysis_folder() / 'for_chase'\n",
    "store_folder.mkdir(exist_ok=True)"
   ]
  },
  {
   "cell_type": "code",
   "execution_count": null,
   "metadata": {},
   "outputs": [],
   "source": [
    "name = 'inca'"
   ]
  },
  {
   "cell_type": "code",
   "execution_count": null,
   "metadata": {},
   "outputs": [],
   "source": [
    "p = Path('/Users/klay6683/Dropbox/data/planet4/for_chase/' + name)\n",
    "for kind in ['blotches', 'fans']:\n",
    "    bucket = []\n",
    "    filepaths = p.glob(f'*_{kind}.csv')\n",
    "    for filepath in filepaths:\n",
    "        obsid = filepath.name[:15]\n",
    "        df = pd.read_csv(filepath)\n",
    "        df['obsid'] = obsid\n",
    "        bucket.append(df)\n",
    "    df = pd.concat(bucket, ignore_index=True)\n",
    "    savedir = store_folder / f'{name}'\n",
    "    savedir.mkdir(exist_ok=True)\n",
    "    savepath = savedir / f\"{name}_{kind}.csv\"\n",
    "    print(savepath)\n",
    "    df.to_csv(savepath, index=False)\n",
    "        "
   ]
  },
  {
   "cell_type": "code",
   "execution_count": null,
   "metadata": {},
   "outputs": [],
   "source": []
  }
 ],
 "metadata": {
  "anaconda-cloud": {},
  "kernelspec": {
   "display_name": "Python [conda env:py36]",
   "language": "python",
   "name": "conda-env-py36-py"
  },
  "language_info": {
   "codemirror_mode": {
    "name": "ipython",
    "version": 3
   },
   "file_extension": ".py",
   "mimetype": "text/x-python",
   "name": "python",
   "nbconvert_exporter": "python",
   "pygments_lexer": "ipython3",
   "version": "3.6.6"
  },
  "latex_envs": {
   "LaTeX_envs_menu_present": true,
   "autocomplete": true,
   "bibliofile": "biblio.bib",
   "cite_by": "apalike",
   "current_citInitial": 1,
   "eqLabelWithNumbers": true,
   "eqNumInitial": 1,
   "hotkeys": {
    "equation": "Ctrl-E",
    "itemize": "Ctrl-I"
   },
   "labels_anchors": false,
   "latex_user_defs": false,
   "report_style_numbering": false,
   "user_envs_cfg": false
  },
  "toc": {
   "base_numbering": 1,
   "nav_menu": {
    "height": "48px",
    "width": "252px"
   },
   "number_sections": false,
   "sideBar": false,
   "skip_h1_title": false,
   "title_cell": "Table of Contents",
   "title_sidebar": "Contents",
   "toc_cell": false,
   "toc_position": {
    "height": "134px",
    "left": "786.59375px",
    "right": "20px",
    "top": "70px",
    "width": "183px"
   },
   "toc_section_display": "block",
   "toc_window_display": false
  },
  "varInspector": {
   "cols": {
    "lenName": 16,
    "lenType": 16,
    "lenVar": 40
   },
   "kernels_config": {
    "python": {
     "delete_cmd_postfix": "",
     "delete_cmd_prefix": "del ",
     "library": "var_list.py",
     "varRefreshCmd": "print(var_dic_list())"
    },
    "r": {
     "delete_cmd_postfix": ") ",
     "delete_cmd_prefix": "rm(",
     "library": "var_list.r",
     "varRefreshCmd": "cat(var_dic_list()) "
    }
   },
   "types_to_exclude": [
    "module",
    "function",
    "builtin_function_or_method",
    "instance",
    "_Feature"
   ],
   "window_display": false
  }
 },
 "nbformat": 4,
 "nbformat_minor": 2
}
