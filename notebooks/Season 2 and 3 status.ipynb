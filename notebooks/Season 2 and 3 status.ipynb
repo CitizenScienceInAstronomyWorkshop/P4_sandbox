{
 "cells": [
  {
   "cell_type": "code",
   "execution_count": 2,
   "metadata": {
    "collapsed": false
   },
   "outputs": [
    {
     "data": {
      "text/plain": [
       "'0.15.2-142-g391f46a'"
      ]
     },
     "execution_count": 2,
     "metadata": {},
     "output_type": "execute_result"
    }
   ],
   "source": [
    "import planet4 import get_data\n",
    "import pandas as pd\n",
    "from planet4 import helper_functions as hf\n",
    "pd.__version__"
   ]
  },
  {
   "cell_type": "code",
   "execution_count": 3,
   "metadata": {
    "collapsed": false
   },
   "outputs": [
    {
     "ename": "AttributeError",
     "evalue": "'module' object has no attribute 'get_data'",
     "output_type": "error",
     "traceback": [
      "\u001b[0;31m---------------------------------------------------------------------------\u001b[0m",
      "\u001b[0;31mAttributeError\u001b[0m                            Traceback (most recent call last)",
      "\u001b[0;32m<ipython-input-3-7a0bbf9f1da1>\u001b[0m in \u001b[0;36m<module>\u001b[0;34m()\u001b[0m\n\u001b[0;32m----> 1\u001b[0;31m \u001b[0mdb_fname\u001b[0m \u001b[0;34m=\u001b[0m \u001b[0mp4\u001b[0m\u001b[0;34m.\u001b[0m\u001b[0mget_data\u001b[0m\u001b[0;34m.\u001b[0m\u001b[0mget_current_database_fname\u001b[0m\u001b[0;34m(\u001b[0m\u001b[0;34m)\u001b[0m\u001b[0;34m\u001b[0m\u001b[0m\n\u001b[0m",
      "\u001b[0;31mAttributeError\u001b[0m: 'module' object has no attribute 'get_data'"
     ]
    }
   ],
   "source": [
    "db_fname = p4.get_data.get_current_database_fname()"
   ]
  },
  {
   "cell_type": "code",
   "execution_count": 26,
   "metadata": {
    "collapsed": false
   },
   "outputs": [
    {
     "data": {
      "text/plain": [
       "['PSP_002380_0985',\n",
       " 'PSP_002868_0985',\n",
       " 'PSP_003092_0985',\n",
       " 'PSP_003158_0985',\n",
       " 'PSP_003237_0985',\n",
       " 'PSP_003448_0985',\n",
       " 'PSP_003593_0985',\n",
       " 'PSP_003770_0815',\n",
       " 'PSP_003804_0985',\n",
       " 'PSP_003928_0815',\n",
       " 'PSP_004081_0985',\n",
       " 'PSP_004371_0985',\n",
       " 'ESP_013113_0985',\n",
       " 'ESP_013034_0985',\n",
       " 'ESP_012889_0985',\n",
       " 'ESP_012744_0985',\n",
       " 'ESP_012691_0985',\n",
       " 'ESP_012467_0985',\n",
       " 'ESP_012322_0985',\n",
       " 'ESP_012256_0985',\n",
       " 'ESP_011900_0985',\n",
       " 'ESP_011729_0985',\n",
       " 'ESP_011702_0985',\n",
       " 'ESP_011623_0985',\n",
       " 'ESP_011557_0985',\n",
       " 'ESP_011544_0985',\n",
       " 'ESP_011491_0985',\n",
       " 'ESP_022699_0985',\n",
       " 'ESP_021460_0985',\n",
       " 'ESP_020959_0985',\n",
       " 'ESP_020748_0985',\n",
       " 'ESP_020194_0985',\n",
       " 'ESP_020128_0985',\n",
       " 'ESP_020049_0985',\n",
       " 'ESP_021829_0985',\n",
       " 'ESP_021684_0985',\n",
       " 'ESP_021671_0985',\n",
       " 'ESP_021605_0985',\n",
       " 'ESP_021526_0985',\n",
       " 'ESP_020827_0985',\n",
       " 'ESP_020339_0985',\n",
       " 'ESP_020115_0985']"
      ]
     },
     "execution_count": 26,
     "metadata": {},
     "output_type": "execute_result"
    }
   ],
   "source": [
    "with open('../data/inca_images.txt') as f:\n",
    "    inca_images = f.readlines()\n",
    "inca_images = [i.strip() for i in inca_images]\n",
    "inca_images"
   ]
  },
  {
   "cell_type": "code",
   "execution_count": 40,
   "metadata": {
    "collapsed": false
   },
   "outputs": [],
   "source": [
    "obs_id = inca_images[0]"
   ]
  },
  {
   "cell_type": "code",
   "execution_count": 78,
   "metadata": {
    "collapsed": false
   },
   "outputs": [],
   "source": [
    "def get_done_for_obs_id(obs_id):\n",
    "    print obs_id\n",
    "    \"obs_id are called 'image_name' in P4 lingo.\"\n",
    "    df = pd.read_hdf(db_fname, 'df', where='image_name='+obs_id)\n",
    "    if len(df) == 0:\n",
    "        return np.nan\n",
    "    return hf.get_status(df)"
   ]
  },
  {
   "cell_type": "code",
   "execution_count": 79,
   "metadata": {
    "collapsed": false
   },
   "outputs": [
    {
     "name": "stdout",
     "output_type": "stream",
     "text": [
      "PSP_002380_0985\n"
     ]
    },
    {
     "data": {
      "text/plain": [
       "91.700000000000003"
      ]
     },
     "execution_count": 79,
     "metadata": {},
     "output_type": "execute_result"
    }
   ],
   "source": [
    "get_done_for_obs_id(obs_id)"
   ]
  },
  {
   "cell_type": "code",
   "execution_count": 80,
   "metadata": {
    "collapsed": false
   },
   "outputs": [],
   "source": [
    "results = pd.DataFrame(inca_images)"
   ]
  },
  {
   "cell_type": "code",
   "execution_count": 81,
   "metadata": {
    "collapsed": false
   },
   "outputs": [],
   "source": [
    "results.columns = ['image_name']"
   ]
  },
  {
   "cell_type": "code",
   "execution_count": 82,
   "metadata": {
    "collapsed": false
   },
   "outputs": [
    {
     "name": "stdout",
     "output_type": "stream",
     "text": [
      "PSP_002380_0985\n",
      "PSP_002868_0985\n",
      "PSP_003092_0985\n",
      "PSP_003158_0985\n",
      "PSP_003237_0985\n",
      "PSP_003448_0985\n",
      "PSP_003593_0985\n",
      "PSP_003770_0815\n",
      "PSP_003804_0985\n",
      "PSP_003928_0815\n",
      "PSP_004081_0985\n",
      "PSP_004371_0985\n",
      "ESP_013113_0985\n",
      "ESP_013034_0985\n",
      "ESP_012889_0985\n",
      "ESP_012744_0985\n",
      "ESP_012691_0985\n",
      "ESP_012467_0985\n",
      "ESP_012322_0985\n",
      "ESP_012256_0985\n",
      "ESP_011900_0985\n",
      "ESP_011729_0985\n",
      "ESP_011702_0985\n",
      "ESP_011623_0985\n",
      "ESP_011557_0985\n",
      "ESP_011544_0985\n",
      "ESP_011491_0985\n",
      "ESP_022699_0985\n",
      "ESP_021460_0985\n",
      "ESP_020959_0985\n",
      "ESP_020748_0985\n",
      "ESP_020194_0985\n",
      "ESP_020128_0985\n",
      "ESP_020049_0985\n",
      "ESP_021829_0985\n",
      "ESP_021684_0985\n",
      "ESP_021671_0985\n",
      "ESP_021605_0985\n",
      "ESP_021526_0985\n",
      "ESP_020827_0985\n",
      "ESP_020339_0985\n",
      "ESP_020115_0985\n"
     ]
    }
   ],
   "source": [
    "results['status'] = results.image_name.map(get_done_for_obs_id)"
   ]
  },
  {
   "cell_type": "code",
   "execution_count": 83,
   "metadata": {
    "collapsed": false
   },
   "outputs": [
    {
     "data": {
      "text/html": [
       "<div style=\"max-height:1000px;max-width:1500px;overflow:auto;\">\n",
       "<table border=\"1\" class=\"dataframe\">\n",
       "  <thead>\n",
       "    <tr style=\"text-align: right;\">\n",
       "      <th></th>\n",
       "      <th>image_name</th>\n",
       "      <th>status</th>\n",
       "    </tr>\n",
       "  </thead>\n",
       "  <tbody>\n",
       "    <tr>\n",
       "      <th>0 </th>\n",
       "      <td> PSP_002380_0985</td>\n",
       "      <td>  91.7</td>\n",
       "    </tr>\n",
       "    <tr>\n",
       "      <th>1 </th>\n",
       "      <td> PSP_002868_0985</td>\n",
       "      <td>  85.4</td>\n",
       "    </tr>\n",
       "    <tr>\n",
       "      <th>2 </th>\n",
       "      <td> PSP_003092_0985</td>\n",
       "      <td>  88.8</td>\n",
       "    </tr>\n",
       "    <tr>\n",
       "      <th>3 </th>\n",
       "      <td> PSP_003158_0985</td>\n",
       "      <td>  80.0</td>\n",
       "    </tr>\n",
       "    <tr>\n",
       "      <th>4 </th>\n",
       "      <td> PSP_003237_0985</td>\n",
       "      <td>  91.4</td>\n",
       "    </tr>\n",
       "    <tr>\n",
       "      <th>5 </th>\n",
       "      <td> PSP_003448_0985</td>\n",
       "      <td>  85.7</td>\n",
       "    </tr>\n",
       "    <tr>\n",
       "      <th>6 </th>\n",
       "      <td> PSP_003593_0985</td>\n",
       "      <td>  78.0</td>\n",
       "    </tr>\n",
       "    <tr>\n",
       "      <th>7 </th>\n",
       "      <td> PSP_003770_0815</td>\n",
       "      <td>  87.2</td>\n",
       "    </tr>\n",
       "    <tr>\n",
       "      <th>8 </th>\n",
       "      <td> PSP_003804_0985</td>\n",
       "      <td>  77.8</td>\n",
       "    </tr>\n",
       "    <tr>\n",
       "      <th>9 </th>\n",
       "      <td> PSP_003928_0815</td>\n",
       "      <td>  76.9</td>\n",
       "    </tr>\n",
       "    <tr>\n",
       "      <th>10</th>\n",
       "      <td> PSP_004081_0985</td>\n",
       "      <td>   0.0</td>\n",
       "    </tr>\n",
       "    <tr>\n",
       "      <th>11</th>\n",
       "      <td> PSP_004371_0985</td>\n",
       "      <td>   NaN</td>\n",
       "    </tr>\n",
       "    <tr>\n",
       "      <th>12</th>\n",
       "      <td> ESP_013113_0985</td>\n",
       "      <td> 100.0</td>\n",
       "    </tr>\n",
       "    <tr>\n",
       "      <th>13</th>\n",
       "      <td> ESP_013034_0985</td>\n",
       "      <td> 100.0</td>\n",
       "    </tr>\n",
       "    <tr>\n",
       "      <th>14</th>\n",
       "      <td> ESP_012889_0985</td>\n",
       "      <td> 100.0</td>\n",
       "    </tr>\n",
       "    <tr>\n",
       "      <th>15</th>\n",
       "      <td> ESP_012744_0985</td>\n",
       "      <td>  99.7</td>\n",
       "    </tr>\n",
       "    <tr>\n",
       "      <th>16</th>\n",
       "      <td> ESP_012691_0985</td>\n",
       "      <td> 100.0</td>\n",
       "    </tr>\n",
       "    <tr>\n",
       "      <th>17</th>\n",
       "      <td> ESP_012467_0985</td>\n",
       "      <td>  99.4</td>\n",
       "    </tr>\n",
       "    <tr>\n",
       "      <th>18</th>\n",
       "      <td> ESP_012322_0985</td>\n",
       "      <td> 100.0</td>\n",
       "    </tr>\n",
       "    <tr>\n",
       "      <th>19</th>\n",
       "      <td> ESP_012256_0985</td>\n",
       "      <td> 100.0</td>\n",
       "    </tr>\n",
       "    <tr>\n",
       "      <th>20</th>\n",
       "      <td> ESP_011900_0985</td>\n",
       "      <td> 100.0</td>\n",
       "    </tr>\n",
       "    <tr>\n",
       "      <th>21</th>\n",
       "      <td> ESP_011729_0985</td>\n",
       "      <td> 100.0</td>\n",
       "    </tr>\n",
       "    <tr>\n",
       "      <th>22</th>\n",
       "      <td> ESP_011702_0985</td>\n",
       "      <td> 100.0</td>\n",
       "    </tr>\n",
       "    <tr>\n",
       "      <th>23</th>\n",
       "      <td> ESP_011623_0985</td>\n",
       "      <td> 100.0</td>\n",
       "    </tr>\n",
       "    <tr>\n",
       "      <th>24</th>\n",
       "      <td> ESP_011557_0985</td>\n",
       "      <td> 100.0</td>\n",
       "    </tr>\n",
       "    <tr>\n",
       "      <th>25</th>\n",
       "      <td> ESP_011544_0985</td>\n",
       "      <td> 100.0</td>\n",
       "    </tr>\n",
       "    <tr>\n",
       "      <th>26</th>\n",
       "      <td> ESP_011491_0985</td>\n",
       "      <td>  99.2</td>\n",
       "    </tr>\n",
       "    <tr>\n",
       "      <th>27</th>\n",
       "      <td> ESP_022699_0985</td>\n",
       "      <td> 100.0</td>\n",
       "    </tr>\n",
       "    <tr>\n",
       "      <th>28</th>\n",
       "      <td> ESP_021460_0985</td>\n",
       "      <td>  99.7</td>\n",
       "    </tr>\n",
       "    <tr>\n",
       "      <th>29</th>\n",
       "      <td> ESP_020959_0985</td>\n",
       "      <td>  99.6</td>\n",
       "    </tr>\n",
       "    <tr>\n",
       "      <th>30</th>\n",
       "      <td> ESP_020748_0985</td>\n",
       "      <td> 100.0</td>\n",
       "    </tr>\n",
       "    <tr>\n",
       "      <th>31</th>\n",
       "      <td> ESP_020194_0985</td>\n",
       "      <td>  99.3</td>\n",
       "    </tr>\n",
       "    <tr>\n",
       "      <th>32</th>\n",
       "      <td> ESP_020128_0985</td>\n",
       "      <td> 100.0</td>\n",
       "    </tr>\n",
       "    <tr>\n",
       "      <th>33</th>\n",
       "      <td> ESP_020049_0985</td>\n",
       "      <td> 100.0</td>\n",
       "    </tr>\n",
       "    <tr>\n",
       "      <th>34</th>\n",
       "      <td> ESP_021829_0985</td>\n",
       "      <td> 100.0</td>\n",
       "    </tr>\n",
       "    <tr>\n",
       "      <th>35</th>\n",
       "      <td> ESP_021684_0985</td>\n",
       "      <td>  99.7</td>\n",
       "    </tr>\n",
       "    <tr>\n",
       "      <th>36</th>\n",
       "      <td> ESP_021671_0985</td>\n",
       "      <td>  99.8</td>\n",
       "    </tr>\n",
       "    <tr>\n",
       "      <th>37</th>\n",
       "      <td> ESP_021605_0985</td>\n",
       "      <td>  99.7</td>\n",
       "    </tr>\n",
       "    <tr>\n",
       "      <th>38</th>\n",
       "      <td> ESP_021526_0985</td>\n",
       "      <td> 100.0</td>\n",
       "    </tr>\n",
       "    <tr>\n",
       "      <th>39</th>\n",
       "      <td> ESP_020827_0985</td>\n",
       "      <td>  97.2</td>\n",
       "    </tr>\n",
       "    <tr>\n",
       "      <th>40</th>\n",
       "      <td> ESP_020339_0985</td>\n",
       "      <td>  98.9</td>\n",
       "    </tr>\n",
       "    <tr>\n",
       "      <th>41</th>\n",
       "      <td> ESP_020115_0985</td>\n",
       "      <td>  99.3</td>\n",
       "    </tr>\n",
       "  </tbody>\n",
       "</table>\n",
       "</div>"
      ],
      "text/plain": [
       "         image_name  status\n",
       "0   PSP_002380_0985    91.7\n",
       "1   PSP_002868_0985    85.4\n",
       "2   PSP_003092_0985    88.8\n",
       "3   PSP_003158_0985    80.0\n",
       "4   PSP_003237_0985    91.4\n",
       "5   PSP_003448_0985    85.7\n",
       "6   PSP_003593_0985    78.0\n",
       "7   PSP_003770_0815    87.2\n",
       "8   PSP_003804_0985    77.8\n",
       "9   PSP_003928_0815    76.9\n",
       "10  PSP_004081_0985     0.0\n",
       "11  PSP_004371_0985     NaN\n",
       "12  ESP_013113_0985   100.0\n",
       "13  ESP_013034_0985   100.0\n",
       "14  ESP_012889_0985   100.0\n",
       "15  ESP_012744_0985    99.7\n",
       "16  ESP_012691_0985   100.0\n",
       "17  ESP_012467_0985    99.4\n",
       "18  ESP_012322_0985   100.0\n",
       "19  ESP_012256_0985   100.0\n",
       "20  ESP_011900_0985   100.0\n",
       "21  ESP_011729_0985   100.0\n",
       "22  ESP_011702_0985   100.0\n",
       "23  ESP_011623_0985   100.0\n",
       "24  ESP_011557_0985   100.0\n",
       "25  ESP_011544_0985   100.0\n",
       "26  ESP_011491_0985    99.2\n",
       "27  ESP_022699_0985   100.0\n",
       "28  ESP_021460_0985    99.7\n",
       "29  ESP_020959_0985    99.6\n",
       "30  ESP_020748_0985   100.0\n",
       "31  ESP_020194_0985    99.3\n",
       "32  ESP_020128_0985   100.0\n",
       "33  ESP_020049_0985   100.0\n",
       "34  ESP_021829_0985   100.0\n",
       "35  ESP_021684_0985    99.7\n",
       "36  ESP_021671_0985    99.8\n",
       "37  ESP_021605_0985    99.7\n",
       "38  ESP_021526_0985   100.0\n",
       "39  ESP_020827_0985    97.2\n",
       "40  ESP_020339_0985    98.9\n",
       "41  ESP_020115_0985    99.3"
      ]
     },
     "execution_count": 83,
     "metadata": {},
     "output_type": "execute_result"
    }
   ],
   "source": [
    "results"
   ]
  },
  {
   "cell_type": "code",
   "execution_count": 110,
   "metadata": {
    "collapsed": false
   },
   "outputs": [
    {
     "name": "stdout",
     "output_type": "stream",
     "text": [
      "PSP_002380_0985\n",
      "PSP_002868_0985\n",
      "PSP_003092_0985\n",
      "PSP_003158_0985\n",
      "PSP_003237_0985\n",
      "PSP_003448_0985\n",
      "PSP_003593_0985\n",
      "PSP_003770_0815\n",
      "PSP_003804_0985\n",
      "PSP_003928_0815\n",
      "PSP_004081_0985\n",
      "ESP_012744_0985\n",
      "ESP_012467_0985\n",
      "ESP_011491_0985\n",
      "ESP_021460_0985\n",
      "ESP_020959_0985\n",
      "ESP_020194_0985\n",
      "ESP_021684_0985\n",
      "ESP_021671_0985\n",
      "ESP_021605_0985\n",
      "ESP_020827_0985\n",
      "ESP_020339_0985\n",
      "ESP_020115_0985\n"
     ]
    }
   ],
   "source": [
    "ids_to_do = []\n",
    "for obs_id in results[results.status<100].image_name:\n",
    "    print obs_id\n",
    "    df = pd.read_hdf(db_fname, 'df', where='image_name='+obs_id)\n",
    "    counts = hf.classification_counts_per_image(df)\n",
    "    ids_to_do.append(counts[counts<30].index.values)"
   ]
  },
  {
   "cell_type": "code",
   "execution_count": 114,
   "metadata": {
    "collapsed": false
   },
   "outputs": [],
   "source": [
    "ids_to_do = np.concatenate(ids_to_do)"
   ]
  },
  {
   "cell_type": "code",
   "execution_count": 116,
   "metadata": {
    "collapsed": false
   },
   "outputs": [],
   "source": [
    "ids_to_do.tofile('unfinished_inca_ids.txt',sep='\\n')"
   ]
  },
  {
   "cell_type": "code",
   "execution_count": 92,
   "metadata": {
    "collapsed": false
   },
   "outputs": [],
   "source": [
    "counts = hf.classification_counts_per_image(df)"
   ]
  },
  {
   "cell_type": "code",
   "execution_count": 105,
   "metadata": {
    "collapsed": false
   },
   "outputs": [],
   "source": [
    "towrite = counts[counts<30].index.values"
   ]
  },
  {
   "cell_type": "code",
   "execution_count": 104,
   "metadata": {
    "collapsed": false
   },
   "outputs": [],
   "source": [
    "with open('testout.csv','w') as f:\n",
    "    f.write(towrite.values)"
   ]
  },
  {
   "cell_type": "code",
   "execution_count": 107,
   "metadata": {
    "collapsed": false
   },
   "outputs": [],
   "source": [
    "towrite.tofile('testout.csv', sep='\\n')"
   ]
  },
  {
   "cell_type": "code",
   "execution_count": null,
   "metadata": {
    "collapsed": false
   },
   "outputs": [],
   "source": []
  }
 ],
 "metadata": {
  "language_info": {
   "codemirror_mode": {
    "name": "ipython",
    "version": 3
   },
   "file_extension": ".py",
   "mimetype": "text/x-python",
   "name": "python",
   "nbconvert_exporter": "python",
   "pygments_lexer": "ipython3",
   "version": "3.4.2"
  }
 },
 "nbformat": 4,
 "nbformat_minor": 0
}
