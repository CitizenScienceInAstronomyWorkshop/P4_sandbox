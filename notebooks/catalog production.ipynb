{
 "cells": [
  {
   "cell_type": "code",
   "execution_count": 3,
   "metadata": {
    "ExecuteTime": {
     "end_time": "2017-05-08T14:12:17.597636Z",
     "start_time": "2017-05-08T14:12:17.546851Z"
    },
    "collapsed": true,
    "init_cell": true,
    "run_control": {
     "frozen": false,
     "read_only": false
    }
   },
   "outputs": [],
   "source": [
    "from planet4 import markings, dbscan, io, fnotching"
   ]
  },
  {
   "cell_type": "markdown",
   "metadata": {
    "run_control": {
     "frozen": false,
     "read_only": false
    }
   },
   "source": [
    "# Some regiondata to produce"
   ]
  },
  {
   "cell_type": "code",
   "execution_count": 4,
   "metadata": {
    "ExecuteTime": {
     "end_time": "2017-05-08T14:12:20.228673Z",
     "start_time": "2017-05-08T14:12:20.192225Z"
    },
    "collapsed": true,
    "init_cell": true,
    "run_control": {
     "frozen": false,
     "read_only": false
    }
   },
   "outputs": [],
   "source": [
    "from planet4 import region_data"
   ]
  },
  {
   "cell_type": "code",
   "execution_count": 12,
   "metadata": {
    "ExecuteTime": {
     "end_time": "2017-05-08T16:36:28.854747Z",
     "start_time": "2017-05-08T16:34:48.276172Z"
    },
    "run_control": {
     "frozen": false,
     "read_only": false
    },
    "scrolled": false
   },
   "outputs": [
    {
     "name": "stdout",
     "output_type": "stream",
     "text": [
      "ESP_012076_0945\n"
     ]
    }
   ],
   "source": [
    "savedir='only_on_small_blotch_20px'\n",
    "dbscanner = dbscan.DBScanner(savedir=savedir, do_large_run=False)\n",
    "for image_name in ['ESP_012076_0945']:\n",
    "    print(image_name)\n",
    "    dbscanner.cluster_image_name(image_name)\n",
    "    fnotching.fnotch_image_ids(image_name, savedir=savedir)\n",
    "    fnotching.apply_cut(image_name, savedir=savedir)"
   ]
  },
  {
   "cell_type": "code",
   "execution_count": 30,
   "metadata": {
    "ExecuteTime": {
     "end_time": "2017-04-24T01:51:24.460267Z",
     "start_time": "2017-04-24T01:51:24.438128Z"
    },
    "collapsed": true,
    "run_control": {
     "frozen": false,
     "read_only": false
    }
   },
   "outputs": [],
   "source": [
    "def do_clustering(obsid):\n",
    "    from planet4 import dbscan, fnotching\n",
    "    dbscanner = dbscan.DBScanner(split_by_size=False)\n",
    "    dbscanner.cluster_image_name(obsid)\n",
    "    fnotching.fnotch_image_ids(obsid)\n",
    "    fnotching.apply_cut(obsid)\n",
    "    return obsid"
   ]
  },
  {
   "cell_type": "code",
   "execution_count": null,
   "metadata": {
    "ExecuteTime": {
     "end_time": "2017-04-24T01:42:13.239144Z",
     "start_time": "2017-04-24T01:42:13.203292Z"
    },
    "collapsed": true,
    "run_control": {
     "frozen": true,
     "read_only": true
    }
   },
   "outputs": [],
   "source": [
    "for obsid in region_data.Inca.season2:\n",
    "    do_clustering"
   ]
  },
  {
   "cell_type": "code",
   "execution_count": 25,
   "metadata": {
    "ExecuteTime": {
     "end_time": "2017-04-24T16:36:49.482914Z",
     "start_time": "2017-04-24T16:36:49.454459Z"
    },
    "collapsed": true,
    "run_control": {
     "frozen": false,
     "read_only": false
    }
   },
   "outputs": [],
   "source": [
    "from nbtools import execute_in_parallel"
   ]
  },
  {
   "cell_type": "code",
   "execution_count": 46,
   "metadata": {
    "ExecuteTime": {
     "end_time": "2017-04-24T01:56:33.221991Z",
     "start_time": "2017-04-24T01:56:33.196419Z"
    },
    "collapsed": true,
    "run_control": {
     "frozen": false,
     "read_only": false
    }
   },
   "outputs": [],
   "source": [
    "result = execute_in_parallel(do_clustering, region_data.Ithaca.season3)"
   ]
  },
  {
   "cell_type": "code",
   "execution_count": 34,
   "metadata": {
    "ExecuteTime": {
     "end_time": "2017-04-24T01:52:04.312392Z",
     "start_time": "2017-04-24T01:52:04.275185Z"
    },
    "collapsed": true,
    "run_control": {
     "frozen": false,
     "read_only": false
    }
   },
   "outputs": [],
   "source": [
    "from nbtools import display_multi_progress"
   ]
  },
  {
   "cell_type": "code",
   "execution_count": 48,
   "metadata": {
    "ExecuteTime": {
     "end_time": "2017-04-24T02:06:15.752325Z",
     "start_time": "2017-04-24T02:06:15.724850Z"
    },
    "run_control": {
     "frozen": false,
     "read_only": false
    }
   },
   "outputs": [
    {
     "data": {
      "application/vnd.jupyter.widget-view+json": {
       "model_id": "cc849b3fdfc24fe7a71db3aa913739e1"
      }
     },
     "metadata": {},
     "output_type": "display_data"
    }
   ],
   "source": [
    "display_multi_progress(result, region_data.Ithaca.season3)"
   ]
  },
  {
   "cell_type": "markdown",
   "metadata": {
    "collapsed": true,
    "run_control": {
     "frozen": false,
     "read_only": false
    }
   },
   "source": [
    "# Creating obsid files"
   ]
  },
  {
   "cell_type": "code",
   "execution_count": 13,
   "metadata": {
    "ExecuteTime": {
     "end_time": "2017-05-08T16:39:13.004370Z",
     "start_time": "2017-05-08T16:39:12.972025Z"
    },
    "collapsed": true,
    "run_control": {
     "frozen": false,
     "read_only": false
    }
   },
   "outputs": [],
   "source": [
    "from planet4.fnotching import get_clusters_in_path"
   ]
  },
  {
   "cell_type": "code",
   "execution_count": 14,
   "metadata": {
    "ExecuteTime": {
     "end_time": "2017-05-08T16:39:13.448912Z",
     "start_time": "2017-05-08T16:39:13.374073Z"
    },
    "collapsed": true,
    "run_control": {
     "frozen": false,
     "read_only": false
    }
   },
   "outputs": [],
   "source": [
    "def create_obsid_result_files(obsid, datapath=None):\n",
    "#     logger.debug(\"Working on %s\", obsid)\n",
    "    pm = io.PathManager(obsid=obsid, datapath=datapath)\n",
    "    # the pm.get_obsid_paths method searches for existing image_id folders inside each\n",
    "    # obsid folder\n",
    "    folders = list(pm.get_obsid_paths(pm.L1C_folder))\n",
    "    blotches = []\n",
    "    fans = []\n",
    "    for folder in folders:\n",
    "        pm.id = fnotching.get_id_from_path(folder)\n",
    "        if pm.final_blotchfile.exists() and pm.final_blotchfile.lstat().st_size > 1:\n",
    "            blotches.append(pm.final_blotchdf)\n",
    "        if pm.final_fanfile.exists() and pm.final_fanfile.lstat().st_size > 1:\n",
    "            fans.append(pm.final_fandf)\n",
    "\n",
    "    if len(blotches) > 0:\n",
    "        blotches = pd.concat(blotches, ignore_index=True)\n",
    "        blotches.dropna(how='all', axis=1, inplace=True)\n",
    "        blotches.to_csv(pm.obsid_final_blotches_path, index=False)\n",
    "        print(\"Created\", pm.obsid_final_blotches_path)\n",
    "\n",
    "    if len(fans) > 0:\n",
    "        fans = pd.concat(fans, ignore_index=True)\n",
    "        fans.dropna(how='all', axis=1, inplace=True)\n",
    "        fans.to_csv(pm.obsid_final_fans_path, index=False)\n",
    "        print(\"Created\", pm.obsid_final_fans_path)"
   ]
  },
  {
   "cell_type": "code",
   "execution_count": 15,
   "metadata": {
    "ExecuteTime": {
     "end_time": "2017-05-08T16:39:26.632298Z",
     "start_time": "2017-05-08T16:39:23.614207Z"
    },
    "run_control": {
     "frozen": false,
     "read_only": false
    }
   },
   "outputs": [
    {
     "name": "stdout",
     "output_type": "stream",
     "text": [
      "Created /Users/klay6683/Dropbox/data/planet4/only_on_small_blotch_20px/ESP_012076_0945_blotches.csv\n",
      "Created /Users/klay6683/Dropbox/data/planet4/only_on_small_blotch_20px/ESP_012076_0945_fans.csv\n"
     ]
    }
   ],
   "source": [
    "create_obsid_result_files('ESP_012076_0945', datapath='only_on_small_blotch_20px')"
   ]
  },
  {
   "cell_type": "code",
   "execution_count": 49,
   "metadata": {
    "ExecuteTime": {
     "end_time": "2017-04-24T02:06:35.908561Z",
     "start_time": "2017-04-24T02:06:25.506249Z"
    },
    "run_control": {
     "frozen": false,
     "read_only": false
    }
   },
   "outputs": [
    {
     "name": "stdout",
     "output_type": "stream",
     "text": [
      "Created /Users/klay6683/Dropbox/data/planet4/clustering/ESP_011350_0945_blotches.csv\n",
      "Created /Users/klay6683/Dropbox/data/planet4/clustering/ESP_011350_0945_fans.csv\n",
      "Created /Users/klay6683/Dropbox/data/planet4/clustering/ESP_011351_0945_blotches.csv\n",
      "Created /Users/klay6683/Dropbox/data/planet4/clustering/ESP_011351_0945_fans.csv\n",
      "Created /Users/klay6683/Dropbox/data/planet4/clustering/ESP_011403_0945_blotches.csv\n",
      "Created /Users/klay6683/Dropbox/data/planet4/clustering/ESP_011403_0945_fans.csv\n",
      "Created /Users/klay6683/Dropbox/data/planet4/clustering/ESP_011404_0945_blotches.csv\n",
      "Created /Users/klay6683/Dropbox/data/planet4/clustering/ESP_011404_0945_fans.csv\n",
      "Created /Users/klay6683/Dropbox/data/planet4/clustering/ESP_011931_0945_blotches.csv\n",
      "Created /Users/klay6683/Dropbox/data/planet4/clustering/ESP_011931_0945_fans.csv\n",
      "Created /Users/klay6683/Dropbox/data/planet4/clustering/ESP_012063_0945_blotches.csv\n",
      "Created /Users/klay6683/Dropbox/data/planet4/clustering/ESP_012063_0945_fans.csv\n",
      "Created /Users/klay6683/Dropbox/data/planet4/clustering/ESP_012076_0945_blotches.csv\n",
      "Created /Users/klay6683/Dropbox/data/planet4/clustering/ESP_012076_0945_fans.csv\n",
      "Created /Users/klay6683/Dropbox/data/planet4/clustering/ESP_012643_0945_blotches.csv\n",
      "Created /Users/klay6683/Dropbox/data/planet4/clustering/ESP_012643_0945_fans.csv\n",
      "Created /Users/klay6683/Dropbox/data/planet4/clustering/ESP_012854_0945_blotches.csv\n",
      "Created /Users/klay6683/Dropbox/data/planet4/clustering/ESP_012854_0945_fans.csv\n",
      "Created /Users/klay6683/Dropbox/data/planet4/clustering/ESP_012858_0855_blotches.csv\n",
      "Created /Users/klay6683/Dropbox/data/planet4/clustering/ESP_012858_0855_fans.csv\n",
      "Created /Users/klay6683/Dropbox/data/planet4/clustering/ESP_021491_0950_blotches.csv\n",
      "Created /Users/klay6683/Dropbox/data/planet4/clustering/ESP_021491_0950_fans.csv\n",
      "Created /Users/klay6683/Dropbox/data/planet4/clustering/ESP_020779_0950_blotches.csv\n",
      "Created /Users/klay6683/Dropbox/data/planet4/clustering/ESP_020779_0950_fans.csv\n",
      "Created /Users/klay6683/Dropbox/data/planet4/clustering/ESP_020568_0950_blotches.csv\n",
      "Created /Users/klay6683/Dropbox/data/planet4/clustering/ESP_020568_0950_fans.csv\n",
      "Created /Users/klay6683/Dropbox/data/planet4/clustering/ESP_020476_0950_blotches.csv\n",
      "Created /Users/klay6683/Dropbox/data/planet4/clustering/ESP_020476_0950_fans.csv\n",
      "Created /Users/klay6683/Dropbox/data/planet4/clustering/ESP_020357_0950_blotches.csv\n",
      "Created /Users/klay6683/Dropbox/data/planet4/clustering/ESP_020357_0950_fans.csv\n",
      "Created /Users/klay6683/Dropbox/data/planet4/clustering/ESP_020146_0950_blotches.csv\n",
      "Created /Users/klay6683/Dropbox/data/planet4/clustering/ESP_020146_0950_fans.csv\n"
     ]
    }
   ],
   "source": [
    "        \n",
    "from pathlib import Path\n",
    "for obsid in region_data.Ithaca.season2 + region_data.Ithaca.season3:\n",
    "    create_obsid_result_files(obsid)"
   ]
  },
  {
   "cell_type": "code",
   "execution_count": 17,
   "metadata": {
    "ExecuteTime": {
     "end_time": "2017-04-24T04:13:05.284512Z",
     "start_time": "2017-04-24T04:13:04.954616Z"
    },
    "collapsed": true,
    "run_control": {
     "frozen": false,
     "read_only": false
    }
   },
   "outputs": [],
   "source": [
    "name= \"Ithaca\"\n",
    "region = getattr(region_data, name)\n",
    "for season_no in [2, 3]:\n",
    "    season = str(season_no)\n",
    "    bucket = []\n",
    "    for obsid in getattr(region, f\"season{season}\"):\n",
    "        pm = io.PathManager(obsid=obsid)\n",
    "        df = pd.read_csv(pm.obsid_final_blotches_path)\n",
    "        df['obsid'] = obsid\n",
    "        bucket.append(df)\n",
    "\n",
    "    df = pd.concat(bucket, ignore_index=True)\n",
    "    df.to_csv(io.analysis_folder() / f\"p4_catalog/{name}_season{season}_blotches.csv\",\n",
    "              index=False)"
   ]
  },
  {
   "cell_type": "code",
   "execution_count": null,
   "metadata": {
    "collapsed": true,
    "run_control": {
     "frozen": false,
     "read_only": false
    }
   },
   "outputs": [],
   "source": []
  }
 ],
 "metadata": {
  "anaconda-cloud": {},
  "kernelspec": {
   "display_name": "Python [conda env:stable]",
   "language": "python",
   "name": "conda-env-stable-py"
  },
  "language_info": {
   "codemirror_mode": {
    "name": "ipython",
    "version": 3
   },
   "file_extension": ".py",
   "mimetype": "text/x-python",
   "name": "python",
   "nbconvert_exporter": "python",
   "pygments_lexer": "ipython3",
   "version": "3.6.1"
  },
  "latex_envs": {
   "LaTeX_envs_menu_present": true,
   "autocomplete": true,
   "bibliofile": "biblio.bib",
   "cite_by": "apalike",
   "current_citInitial": 1,
   "eqLabelWithNumbers": true,
   "eqNumInitial": 1,
   "hotkeys": {
    "equation": "Ctrl-E",
    "itemize": "Ctrl-I"
   },
   "labels_anchors": false,
   "latex_user_defs": false,
   "report_style_numbering": false,
   "user_envs_cfg": false
  },
  "toc": {
   "colors": {
    "hover_highlight": "#DAA520",
    "running_highlight": "#FF0000",
    "selected_highlight": "#FFD700"
   },
   "moveMenuLeft": true,
   "nav_menu": {
    "height": "48px",
    "width": "252px"
   },
   "navigate_menu": true,
   "number_sections": false,
   "sideBar": false,
   "threshold": 4,
   "toc_cell": false,
   "toc_position": {
    "height": "134px",
    "left": "786.59375px",
    "right": "20px",
    "top": "70px",
    "width": "183px"
   },
   "toc_section_display": "block",
   "toc_window_display": true,
   "widenNotebook": false
  }
 },
 "nbformat": 4,
 "nbformat_minor": 1
}
