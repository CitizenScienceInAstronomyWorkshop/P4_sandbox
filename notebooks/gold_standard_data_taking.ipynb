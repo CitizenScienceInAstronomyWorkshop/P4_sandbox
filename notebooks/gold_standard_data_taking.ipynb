{
 "metadata": {
  "name": "",
  "signature": "sha256:a76ff2f7ff3841e1926a1e5ae37d2566cad08ec4c382f3fdf0daeda2a1daaa53"
 },
 "nbformat": 3,
 "nbformat_minor": 0,
 "worksheets": [
  {
   "cells": [
    {
     "cell_type": "code",
     "collapsed": false,
     "input": [
      "from HTMLParser import HTMLParser\n",
      "class MyHTMLParser(HTMLParser):\n",
      "\n",
      "    def __init__(self):\n",
      "        HTMLParser.__init__(self)\n",
      "        self.container = []\n",
      "\n",
      "    def handle_starttag(self, tag, attrs):\n",
      "        if attrs and attrs[0][0] == 'href':\n",
      "            url = attrs[0][1]\n",
      "            if '#' in url:\n",
      "                link = url.split('//')[1]\n",
      "                id = url.split('/')[-1]\n",
      "                self.container.append((link,id))\n",
      "#                 self.container.append(url.split('/')[-1])\n",
      "                \n",
      "parser = MyHTMLParser()\n",
      "no = '7'\n",
      "with open('../data/michael'+no+'.html') as f:\n",
      "    parser.feed(f.read())\n",
      "pre = '<a href=\"http://www.'\n",
      "middle = '\" target=\"_blank\">'\n",
      "post='</a><br>'\n",
      "with open('../data/michael'+no+'_repaired.html','w') as f:\n",
      "    for link, id in parser.container:\n",
      "        f.write(pre)\n",
      "        f.write(link)\n",
      "        f.write(middle)\n",
      "        f.write(id)\n",
      "        f.write(post)\n",
      "        f.write('\\n')"
     ],
     "language": "python",
     "metadata": {},
     "outputs": [],
     "prompt_number": 21
    },
    {
     "cell_type": "code",
     "collapsed": false,
     "input": [
      "parser.container"
     ],
     "language": "python",
     "metadata": {},
     "outputs": [
      {
       "metadata": {},
       "output_type": "pyout",
       "prompt_number": 14,
       "text": [
        "['planetfour.org/#/subjects/APF0000h5h',\n",
        " 'planetfour.org/#/subjects/APF00004o5',\n",
        " 'planetfour.org/#/subjects/APF0000a3f',\n",
        " 'planetfour.org/#/subjects/APF00006qo',\n",
        " 'planetfour.org/#/subjects/APF00000kl',\n",
        " 'planetfour.org/#/subjects/APF0000mjh',\n",
        " 'planetfour.org/#/subjects/APF0000ked',\n",
        " 'planetfour.org/#/subjects/APF0000mat',\n",
        " 'planetfour.org/#/subjects/APF0000vg2',\n",
        " 'planetfour.org/#/subjects/APF0000lwe',\n",
        " 'planetfour.org/#/subjects/APF0000c7r',\n",
        " 'planetfour.org/#/subjects/APF0000bft',\n",
        " 'planetfour.org/#/subjects/APF0000612',\n",
        " 'planetfour.org/#/subjects/APF0000ed1',\n",
        " 'planetfour.org/#/subjects/APF00009fv',\n",
        " 'planetfour.org/#/subjects/APF0000cwu',\n",
        " 'planetfour.org/#/subjects/APF0000b53',\n",
        " 'planetfour.org/#/subjects/APF0000fil',\n",
        " 'planetfour.org/#/subjects/APF0000bbd',\n",
        " 'planetfour.org/#/subjects/APF0000dk6',\n",
        " 'planetfour.org/#/subjects/APF000048h',\n",
        " 'planetfour.org/#/subjects/APF0000axt',\n",
        " 'planetfour.org/#/subjects/APF0000rnc',\n",
        " 'planetfour.org/#/subjects/APF0000vkt',\n",
        " 'planetfour.org/#/subjects/APF0000ubk',\n",
        " 'planetfour.org/#/subjects/APF0000n5g',\n",
        " 'planetfour.org/#/subjects/APF0000l9u',\n",
        " 'planetfour.org/#/subjects/APF0000mkt',\n",
        " 'planetfour.org/#/subjects/APF0000m5r',\n",
        " 'planetfour.org/#/subjects/APF0000uwu',\n",
        " 'planetfour.org/#/subjects/APF0000jyp',\n",
        " 'planetfour.org/#/subjects/APF0000ofu',\n",
        " 'planetfour.org/#/subjects/APF0000myd',\n",
        " 'planetfour.org/#/subjects/APF0000s61',\n",
        " 'planetfour.org/#/subjects/APF0000m7r']"
       ]
      }
     ],
     "prompt_number": 14
    },
    {
     "cell_type": "code",
     "collapsed": false,
     "input": [
      "less ../data/michael4_repaired.html"
     ],
     "language": "python",
     "metadata": {},
     "outputs": [
      {
       "ename": "SyntaxError",
       "evalue": "invalid syntax (<ipython-input-17-25214ddb450a>, line 1)",
       "output_type": "pyerr",
       "traceback": [
        "  File \"<ipython-input-17-25214ddb450a>\", line 1\n    less(../data/michael4_repaired.html)\n         ^\nSyntaxError: invalid syntax\n"
       ]
      }
     ],
     "prompt_number": 17
    },
    {
     "cell_type": "code",
     "collapsed": false,
     "input": [],
     "language": "python",
     "metadata": {},
     "outputs": []
    }
   ],
   "metadata": {}
  }
 ]
}