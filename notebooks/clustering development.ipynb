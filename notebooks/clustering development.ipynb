{
 "cells": [
  {
   "cell_type": "markdown",
   "metadata": {
    "toc": true
   },
   "source": [
    "<h1>Table of Contents<span class=\"tocSkip\"></span></h1>\n",
    "<div class=\"toc\"><ul class=\"toc-item\"><li><span><a href=\"#Setup-ids\" data-toc-modified-id=\"Setup-ids-1\"><span class=\"toc-item-num\">1&nbsp;&nbsp;</span>Setup ids</a></span></li><li><span><a href=\"#single-item-checking\" data-toc-modified-id=\"single-item-checking-2\"><span class=\"toc-item-num\">2&nbsp;&nbsp;</span>single item checking</a></span></li><li><span><a href=\"#testing-angle-deltas\" data-toc-modified-id=\"testing-angle-deltas-3\"><span class=\"toc-item-num\">3&nbsp;&nbsp;</span>testing angle deltas</a></span></li><li><span><a href=\"#testing-cluster_image_name\" data-toc-modified-id=\"testing-cluster_image_name-4\"><span class=\"toc-item-num\">4&nbsp;&nbsp;</span>testing cluster_image_name</a></span></li><li><span><a href=\"#Cluster-random-samples-of-obsids\" data-toc-modified-id=\"Cluster-random-samples-of-obsids-5\"><span class=\"toc-item-num\">5&nbsp;&nbsp;</span>Cluster random samples of obsids</a></span></li></ul></div>"
   ]
  },
  {
   "cell_type": "code",
   "execution_count": 1,
   "metadata": {
    "init_cell": true
   },
   "outputs": [
    {
     "ename": "KeyError",
     "evalue": "'ISISROOT'",
     "output_type": "error",
     "traceback": [
      "\u001b[0;31m---------------------------------------------------------------------------\u001b[0m",
      "\u001b[0;31mKeyError\u001b[0m                                  Traceback (most recent call last)",
      "Cell \u001b[0;32mIn [1], line 3\u001b[0m\n\u001b[1;32m      1\u001b[0m \u001b[39mfrom\u001b[39;00m \u001b[39mplanet4\u001b[39;00m\u001b[39m.\u001b[39;00m\u001b[39mdbscan\u001b[39;00m \u001b[39mimport\u001b[39;00m DBScanner\n\u001b[0;32m----> 3\u001b[0m \u001b[39mfrom\u001b[39;00m \u001b[39mplanet4\u001b[39;00m \u001b[39mimport\u001b[39;00m io, clustering, plotting, markings, dbscan\n\u001b[1;32m      4\u001b[0m \u001b[39mimport\u001b[39;00m \u001b[39mseaborn\u001b[39;00m \u001b[39mas\u001b[39;00m \u001b[39msns\u001b[39;00m\n\u001b[1;32m      5\u001b[0m sns\u001b[39m.\u001b[39mset_context(\u001b[39m'\u001b[39m\u001b[39mnotebook\u001b[39m\u001b[39m'\u001b[39m)\n",
      "File \u001b[0;32m~/Dropbox/src/planet4/planet4/plotting.py:12\u001b[0m\n\u001b[1;32m      9\u001b[0m \u001b[39mimport\u001b[39;00m \u001b[39myaml\u001b[39;00m\n\u001b[1;32m     10\u001b[0m \u001b[39mfrom\u001b[39;00m \u001b[39mipywidgets\u001b[39;00m \u001b[39mimport\u001b[39;00m interact\n\u001b[0;32m---> 12\u001b[0m \u001b[39mfrom\u001b[39;00m \u001b[39m.\u001b[39;00m \u001b[39mimport\u001b[39;00m io, markings, projection\n\u001b[1;32m     14\u001b[0m logger \u001b[39m=\u001b[39m logging\u001b[39m.\u001b[39mgetLogger(\u001b[39m__name__\u001b[39m)\n\u001b[1;32m     17\u001b[0m \u001b[39mdef\u001b[39;00m \u001b[39mget_clustering_log\u001b[39m(pm):\n",
      "File \u001b[0;32m~/Dropbox/src/planet4/planet4/projection.py:15\u001b[0m\n\u001b[1;32m     13\u001b[0m \u001b[39mimport\u001b[39;00m \u001b[39mrasterio\u001b[39;00m\n\u001b[1;32m     14\u001b[0m \u001b[39mimport\u001b[39;00m \u001b[39mrioxarray\u001b[39;00m \u001b[39mas\u001b[39;00m \u001b[39mrxr\u001b[39;00m\n\u001b[0;32m---> 15\u001b[0m \u001b[39mfrom\u001b[39;00m \u001b[39mkalasiris\u001b[39;00m\u001b[39m.\u001b[39;00m\u001b[39mpysis\u001b[39;00m \u001b[39mimport\u001b[39;00m ProcessError\n\u001b[1;32m     16\u001b[0m \u001b[39mfrom\u001b[39;00m \u001b[39mplanetarypy\u001b[39;00m\u001b[39m.\u001b[39;00m\u001b[39mhirise\u001b[39;00m \u001b[39mimport\u001b[39;00m RED_PRODUCT, SOURCE_PRODUCT\n\u001b[1;32m     18\u001b[0m \u001b[39mfrom\u001b[39;00m \u001b[39mplanet4\u001b[39;00m \u001b[39mimport\u001b[39;00m io\n",
      "File \u001b[0;32m~/miniforge3/envs/py310/lib/python3.10/site-packages/kalasiris/__init__.py:9\u001b[0m\n\u001b[1;32m      6\u001b[0m __email__ \u001b[39m=\u001b[39m \u001b[39m\"\u001b[39m\u001b[39mrbeyer@seti.org\u001b[39m\u001b[39m\"\u001b[39m\n\u001b[1;32m      7\u001b[0m __version__ \u001b[39m=\u001b[39m \u001b[39m\"\u001b[39m\u001b[39m1.9.1\u001b[39m\u001b[39m\"\u001b[39m\n\u001b[0;32m----> 9\u001b[0m \u001b[39mfrom\u001b[39;00m \u001b[39m.\u001b[39;00m\u001b[39mkalasiris\u001b[39;00m \u001b[39mimport\u001b[39;00m \u001b[39m*\u001b[39m  \u001b[39m# noqa: F401,F403\u001b[39;00m\n\u001b[1;32m     10\u001b[0m \u001b[39mfrom\u001b[39;00m \u001b[39m.\u001b[39;00m\u001b[39mk_funcs\u001b[39;00m \u001b[39mimport\u001b[39;00m \u001b[39m*\u001b[39m  \u001b[39m# noqa: F401,F403\u001b[39;00m\n\u001b[1;32m     11\u001b[0m \u001b[39mfrom\u001b[39;00m \u001b[39m.\u001b[39;00m\u001b[39mHistogram\u001b[39;00m \u001b[39mimport\u001b[39;00m Histogram  \u001b[39m# noqa: F401\u001b[39;00m\n",
      "File \u001b[0;32m~/miniforge3/envs/py310/lib/python3.10/site-packages/kalasiris/kalasiris.py:35\u001b[0m\n\u001b[1;32m     27\u001b[0m logger \u001b[39m=\u001b[39m logging\u001b[39m.\u001b[39mgetLogger(\u001b[39m__name__\u001b[39m)\n\u001b[1;32m     30\u001b[0m \u001b[39m# These definitions and the use of env= in the subprocess.run calls allow us to\u001b[39;00m\n\u001b[1;32m     31\u001b[0m \u001b[39m# run ISIS in a very lean environment.  Of course, users can override with\u001b[39;00m\n\u001b[1;32m     32\u001b[0m \u001b[39m# their complete environment by making kalasiris.environ = os.environ\u001b[39;00m\n\u001b[1;32m     33\u001b[0m \u001b[39m# before any calls to ISIS programs.\u001b[39;00m\n\u001b[1;32m     34\u001b[0m environ \u001b[39m=\u001b[39m {\n\u001b[0;32m---> 35\u001b[0m     \u001b[39m\"\u001b[39m\u001b[39mISISROOT\u001b[39m\u001b[39m\"\u001b[39m: os\u001b[39m.\u001b[39;49menviron[\u001b[39m\"\u001b[39;49m\u001b[39mISISROOT\u001b[39;49m\u001b[39m\"\u001b[39;49m],\n\u001b[1;32m     36\u001b[0m     \u001b[39m\"\u001b[39m\u001b[39mPATH\u001b[39m\u001b[39m\"\u001b[39m: \u001b[39mstr\u001b[39m(Path(os\u001b[39m.\u001b[39menviron[\u001b[39m\"\u001b[39m\u001b[39mISISROOT\u001b[39m\u001b[39m\"\u001b[39m]) \u001b[39m/\u001b[39m \u001b[39m\"\u001b[39m\u001b[39mbin\u001b[39m\u001b[39m\"\u001b[39m),\n\u001b[1;32m     37\u001b[0m     \u001b[39m\"\u001b[39m\u001b[39mHOME\u001b[39m\u001b[39m\"\u001b[39m: os\u001b[39m.\u001b[39mpath\u001b[39m.\u001b[39mexpanduser(\u001b[39m\"\u001b[39m\u001b[39m~\u001b[39m\u001b[39m\"\u001b[39m),\n\u001b[1;32m     38\u001b[0m }\n\u001b[1;32m     39\u001b[0m \u001b[39mtry\u001b[39;00m:\n\u001b[1;32m     40\u001b[0m     environ[\u001b[39m\"\u001b[39m\u001b[39mISISDATA\u001b[39m\u001b[39m\"\u001b[39m] \u001b[39m=\u001b[39m os\u001b[39m.\u001b[39menviron[\u001b[39m\"\u001b[39m\u001b[39mISISDATA\u001b[39m\u001b[39m\"\u001b[39m]\n",
      "File \u001b[0;32m~/miniforge3/envs/py310/lib/python3.10/os.py:679\u001b[0m, in \u001b[0;36m_Environ.__getitem__\u001b[0;34m(self, key)\u001b[0m\n\u001b[1;32m    676\u001b[0m     value \u001b[39m=\u001b[39m \u001b[39mself\u001b[39m\u001b[39m.\u001b[39m_data[\u001b[39mself\u001b[39m\u001b[39m.\u001b[39mencodekey(key)]\n\u001b[1;32m    677\u001b[0m \u001b[39mexcept\u001b[39;00m \u001b[39mKeyError\u001b[39;00m:\n\u001b[1;32m    678\u001b[0m     \u001b[39m# raise KeyError with the original key value\u001b[39;00m\n\u001b[0;32m--> 679\u001b[0m     \u001b[39mraise\u001b[39;00m \u001b[39mKeyError\u001b[39;00m(key) \u001b[39mfrom\u001b[39;00m \u001b[39mNone\u001b[39m\n\u001b[1;32m    680\u001b[0m \u001b[39mreturn\u001b[39;00m \u001b[39mself\u001b[39m\u001b[39m.\u001b[39mdecodevalue(value)\n",
      "\u001b[0;31mKeyError\u001b[0m: 'ISISROOT'"
     ]
    }
   ],
   "source": [
    "from planet4.dbscan import DBScanner\n",
    "\n",
    "from planet4 import io, clustering, plotting, markings, dbscan\n",
    "import seaborn as sns\n",
    "sns.set_context('notebook')\n",
    "blotchcols = markings.Blotch.to_average\n",
    "fancols = markings.Fan.to_average"
   ]
  },
  {
   "cell_type": "code",
   "execution_count": null,
   "metadata": {},
   "outputs": [],
   "source": [
    "# not automatically initialized\n",
    "%matplotlib ipympl"
   ]
  },
  {
   "cell_type": "code",
   "execution_count": null,
   "metadata": {
    "init_cell": true
   },
   "outputs": [],
   "source": [
    "import socket\n",
    "if socket.gethostname().startswith('macd2860'):\n",
    "    %config InlineBackend.figure_format = 'retina'"
   ]
  },
  {
   "cell_type": "code",
   "execution_count": null,
   "metadata": {},
   "outputs": [],
   "source": [
    "%config InlineBackend.figure_format = 'png'"
   ]
  },
  {
   "cell_type": "code",
   "execution_count": null,
   "metadata": {},
   "outputs": [],
   "source": [
    "from nbtools.logging import setup_live_logging\n",
    "import logging\n",
    "logger = setup_live_logging('planet4.dbscan', logging.DEBUG)"
   ]
  },
  {
   "cell_type": "markdown",
   "metadata": {},
   "source": [
    "# Setup ids"
   ]
  },
  {
   "cell_type": "code",
   "execution_count": null,
   "metadata": {},
   "outputs": [],
   "source": [
    "def get_gold_ids(person):\n",
    "    \"\"\"Get gold data\n",
    "    \n",
    "    Pararemeters\n",
    "    ------------\n",
    "    person : {\"GP\", \"MES\", \"KMA\", \"common_gold_data\"}\n",
    "    \n",
    "    Returns\n",
    "    -------\n",
    "    pd.Series\n",
    "    \"\"\"\n",
    "    path = Path(\"/Users/klay6683/Dropbox/Documents/latex_docs/p4_paper1/gold_data\")\n",
    "    return pd.read_csv(path / f\"{person}.txt\", header=None, squeeze=True)\n"
   ]
  },
  {
   "cell_type": "code",
   "execution_count": null,
   "metadata": {},
   "outputs": [],
   "source": [
    "ids = get_gold_ids('common_gold_data')"
   ]
  },
  {
   "cell_type": "code",
   "execution_count": null,
   "metadata": {
    "init_cell": true
   },
   "outputs": [],
   "source": [
    "ids = 'br5 bu5 ek1 pbr 1dt 1dr 1fe dch bvc 1c5 1ab 1dk 18s 1b0 1cl 1ct 1at 1al 1aa 10p 185 139 13t 15k 17a'.split()"
   ]
  },
  {
   "cell_type": "code",
   "execution_count": null,
   "metadata": {
    "code_folding": []
   },
   "outputs": [],
   "source": [
    "def create_and_save_randoms():\n",
    "    myids = np.random.choice(ids, 100)\n",
    "    np.save('myids.npy', myids)\n",
    "\n",
    "myids = np.load('myids.npy')\n",
    "\n",
    "len(myids)"
   ]
  },
  {
   "cell_type": "code",
   "execution_count": null,
   "metadata": {},
   "outputs": [],
   "source": [
    "combined = list(ids) + list(myids)"
   ]
  },
  {
   "cell_type": "code",
   "execution_count": null,
   "metadata": {},
   "outputs": [],
   "source": [
    "%store combined"
   ]
  },
  {
   "cell_type": "code",
   "execution_count": null,
   "metadata": {},
   "outputs": [],
   "source": [
    "db = DBScanner(savedir='gold_with_angle_std', do_large_run=True)"
   ]
  },
  {
   "cell_type": "code",
   "execution_count": null,
   "metadata": {},
   "outputs": [],
   "source": [
    "for id_ in ids:\n",
    "    print(id_)\n",
    "    db.cluster_image_id(id_)"
   ]
  },
  {
   "cell_type": "code",
   "execution_count": null,
   "metadata": {},
   "outputs": [],
   "source": [
    "bucket = []\n",
    "for img_id in ids:\n",
    "    p4id = markings.ImageID(img_id, scope='planet4', data=db.data)\n",
    "    db.pm.obsid = p4id.image_name\n",
    "    db.pm.id = img_id\n",
    "    try:\n",
    "        bucket.extend(db.pm.fandf.angle_std.values)\n",
    "    except FileNotFoundError:\n",
    "        continue"
   ]
  },
  {
   "cell_type": "code",
   "execution_count": null,
   "metadata": {},
   "outputs": [],
   "source": [
    "len(bucket)"
   ]
  },
  {
   "cell_type": "code",
   "execution_count": null,
   "metadata": {},
   "outputs": [],
   "source": [
    "bucket = np.array(bucket)"
   ]
  },
  {
   "cell_type": "code",
   "execution_count": null,
   "metadata": {},
   "outputs": [],
   "source": [
    "import seaborn as sns"
   ]
  },
  {
   "cell_type": "code",
   "execution_count": null,
   "metadata": {},
   "outputs": [],
   "source": [
    "sns.set_context('paper')"
   ]
  },
  {
   "cell_type": "code",
   "execution_count": null,
   "metadata": {},
   "outputs": [],
   "source": [
    "bins = np.arange(0, 22, 1)"
   ]
  },
  {
   "cell_type": "code",
   "execution_count": null,
   "metadata": {},
   "outputs": [],
   "source": [
    "pd.Series(bucket).to_csv(\"angle_std_bucket.csv\", index=False)"
   ]
  },
  {
   "cell_type": "code",
   "execution_count": null,
   "metadata": {},
   "outputs": [],
   "source": [
    "fig, ax = plt.subplots(constrained_layout=True)\n",
    "sns.distplot(bucket, kde=False, bins=bins)\n",
    "ax.set_title(\"Histogram of angular STD for merged fan clusters\")\n",
    "ax.set_xlabel(\"Fan angle standard deviation per cluster [deg]\")\n",
    "ax.set_ylabel(\"Histogram Counts\")"
   ]
  },
  {
   "cell_type": "code",
   "execution_count": null,
   "metadata": {},
   "outputs": [],
   "source": [
    "db.pm.fanfile"
   ]
  },
  {
   "cell_type": "code",
   "execution_count": null,
   "metadata": {},
   "outputs": [],
   "source": [
    "db.pm.fandf.angle_std"
   ]
  },
  {
   "cell_type": "code",
   "execution_count": null,
   "metadata": {},
   "outputs": [],
   "source": [
    "np.save('combined_ids_to_check.npy', np.array(combined))"
   ]
  },
  {
   "cell_type": "code",
   "execution_count": null,
   "metadata": {},
   "outputs": [],
   "source": [
    "from nbtools import execute_in_parallel"
   ]
  },
  {
   "cell_type": "code",
   "execution_count": null,
   "metadata": {},
   "outputs": [],
   "source": [
    "def process_id(id_):\n",
    "    from planet4.dbscan import DBScanner\n",
    "    db = DBScanner(savedir='newest_clustering_review', do_large_run=True)\n",
    "    for kind in ['fan', 'blotch']:\n",
    "        db.parameter_scan(id_, kind, \n",
    "                      msf_vals_to_scan=[0.1, 0.13],\n",
    "                      eps_vals_to_scan=[20, 25, 30],\n",
    "                      size_to_scan='large')\n"
   ]
  },
  {
   "cell_type": "markdown",
   "metadata": {},
   "source": [
    "Here's my comments from the review\"\n",
    "\n",
    "APF0000br5 - seems like the big blotch should have been seen\n",
    "\n",
    "APF0000bu5 - seems like middle fan should be there - seems too strict a cut not clustering issue?\n",
    "\n",
    "APF0000ek1- yellow final blotch comes out of no where\n",
    "\n",
    "APF0000pbr - bottom right blotch seems like it should have survived\n",
    "\n",
    "APF00001dt - cyan fan seems bigger than it should be\n"
   ]
  },
  {
   "cell_type": "code",
   "execution_count": null,
   "metadata": {},
   "outputs": [],
   "source": [
    "results = execute_in_parallel(process_id, combined)"
   ]
  },
  {
   "cell_type": "code",
   "execution_count": null,
   "metadata": {},
   "outputs": [],
   "source": [
    "for id_ in ids:\n",
    "    print(id_)\n",
    "    for kind in ['blotch']:\n",
    "        print(kind)\n",
    "        dbscanner = DBScanner(savedir='do_cluster_on_large', do_large_run=True)\n",
    "#         dbscanner.parameter_scan(kind, [0.1, 0.13], [30, 50, 70])\n",
    "        # for blotch:\n",
    "        dbscanner.cluster_and_plot(id_, kind, saveplot=True)\n",
    "        plt.close('all')"
   ]
  },
  {
   "cell_type": "code",
   "execution_count": null,
   "metadata": {},
   "outputs": [],
   "source": [
    "for id_ in ithaca_sample:\n",
    "    print(id_)\n",
    "    for kind in ['blotch']:\n",
    "        print(kind)\n",
    "        dbscanner = DBScanner(id_)\n",
    "#         dbscanner.parameter_scan(kind, [0.1, 0.13], [30, 50, 70])\n",
    "        # for blotch:\n",
    "        dbscanner.parameter_scan(kind, [0.1, 0.13], [15, 22, 30])\n",
    "        plt.close('all')"
   ]
  },
  {
   "cell_type": "code",
   "execution_count": null,
   "metadata": {},
   "outputs": [],
   "source": [
    "for id_ in ithaca_sample:\n",
    "    print(id_)\n",
    "    for kind in ['fan']:\n",
    "        print(kind)\n",
    "        dbscanner = DBScanner(id_)\n",
    "        dbscanner.parameter_scan(kind, [0.1, 0.13], [30, 50, 70])\n",
    "        # for blotch:\n",
    "#         dbscanner.parameter_scan(kind, [0.1, 0.13], [15, 22, 30])\n",
    "        plt.close('all')"
   ]
  },
  {
   "cell_type": "code",
   "execution_count": null,
   "metadata": {},
   "outputs": [],
   "source": [
    "from shapely.geometry import Point\n",
    "\n",
    "p1 = Point(266.4, 470.56)\n",
    "p2 = Point(262.072, 469.679)\n",
    "\n",
    "p1.distance(p2)"
   ]
  },
  {
   "cell_type": "markdown",
   "metadata": {},
   "source": [
    "# single item checking"
   ]
  },
  {
   "cell_type": "code",
   "execution_count": null,
   "metadata": {},
   "outputs": [],
   "source": [
    "%matplotlib ipympl"
   ]
  },
  {
   "cell_type": "code",
   "execution_count": null,
   "metadata": {},
   "outputs": [],
   "source": [
    "from planet4.catalog_production import ReleaseManager"
   ]
  },
  {
   "cell_type": "code",
   "execution_count": null,
   "metadata": {},
   "outputs": [],
   "source": [
    "rm = ReleaseManager('v1.0')\n",
    "rm.savefolder"
   ]
  },
  {
   "cell_type": "code",
   "execution_count": null,
   "metadata": {},
   "outputs": [],
   "source": [
    "db = DBScanner(savedir='examples_for_paper', do_large_run=True)"
   ]
  },
  {
   "cell_type": "code",
   "execution_count": null,
   "metadata": {},
   "outputs": [],
   "source": [
    "db.eps_values"
   ]
  },
  {
   "cell_type": "code",
   "execution_count": null,
   "metadata": {},
   "outputs": [],
   "source": [
    "db.cluster_and_plot('arp', 'fan')"
   ]
  },
  {
   "cell_type": "code",
   "execution_count": null,
   "metadata": {},
   "outputs": [],
   "source": [
    "plotting.plot_image_id_pipeline('gr0', datapath='gold_per_obsid', via_obsid=True)"
   ]
  },
  {
   "cell_type": "code",
   "execution_count": null,
   "metadata": {},
   "outputs": [],
   "source": [
    "plt.close('all')"
   ]
  },
  {
   "cell_type": "code",
   "execution_count": null,
   "metadata": {},
   "outputs": [],
   "source": [
    "id_ = ids[14]"
   ]
  },
  {
   "cell_type": "code",
   "execution_count": null,
   "metadata": {},
   "outputs": [],
   "source": [
    "db.parameter_scan(id_, 'fan', msf_vals_to_scan=(0.1, 0.13),\n",
    "                  eps_vals_to_scan=(10, 20, 30), size_to_scan='small')"
   ]
  },
  {
   "cell_type": "code",
   "execution_count": null,
   "metadata": {},
   "outputs": [],
   "source": [
    "plotting.plot_image_id_pipeline(id_, datapath=rm.savefolder, save=True, saveroot='./plots')"
   ]
  },
  {
   "cell_type": "code",
   "execution_count": null,
   "metadata": {},
   "outputs": [],
   "source": [
    "data = io.DBManager().get_image_id_markings('arp')"
   ]
  },
  {
   "cell_type": "code",
   "execution_count": null,
   "metadata": {},
   "outputs": [],
   "source": [
    "data.classification_id.nunique()"
   ]
  },
  {
   "cell_type": "code",
   "execution_count": null,
   "metadata": {},
   "outputs": [],
   "source": [
    "data.groupby(['classification_id', 'user_name']).marking.value_counts()"
   ]
  },
  {
   "cell_type": "code",
   "execution_count": null,
   "metadata": {},
   "outputs": [],
   "source": [
    "data[data.marking=='blotch'].shape"
   ]
  },
  {
   "cell_type": "code",
   "execution_count": null,
   "metadata": {},
   "outputs": [],
   "source": [
    "db.parameter_scan('bsn', 'blotch', [0.10, 0.13], [10, 12, 14], size_to_scan='small', )"
   ]
  },
  {
   "cell_type": "code",
   "execution_count": null,
   "metadata": {},
   "outputs": [],
   "source": [
    "v1 = (8.9, 87.3)\n",
    "v2 = (19.8, 79.8)"
   ]
  },
  {
   "cell_type": "code",
   "execution_count": null,
   "metadata": {},
   "outputs": [],
   "source": [
    "v1 = np.array(v1)\n",
    "v2 = np.array(v2)"
   ]
  },
  {
   "cell_type": "code",
   "execution_count": null,
   "metadata": {},
   "outputs": [],
   "source": [
    "from numpy.linalg import norm"
   ]
  },
  {
   "cell_type": "code",
   "execution_count": null,
   "metadata": {},
   "outputs": [],
   "source": [
    "norm(v1 - v2)"
   ]
  },
  {
   "cell_type": "code",
   "execution_count": null,
   "metadata": {},
   "outputs": [],
   "source": [
    "norm(np.array(v1), np.array(v2))"
   ]
  },
  {
   "cell_type": "code",
   "execution_count": null,
   "metadata": {},
   "outputs": [],
   "source": [
    "db.save_results"
   ]
  },
  {
   "cell_type": "code",
   "execution_count": null,
   "metadata": {},
   "outputs": [],
   "source": [
    "db.final_clusters['blotch']"
   ]
  },
  {
   "cell_type": "code",
   "execution_count": null,
   "metadata": {},
   "outputs": [],
   "source": [
    "import seaborn as sns\n",
    "sns.set_context('notebook')"
   ]
  },
  {
   "cell_type": "code",
   "execution_count": null,
   "metadata": {},
   "outputs": [],
   "source": [
    "import itertools\n",
    "\n",
    "palette = itertools.cycle(sns.color_palette('bright'))\n",
    "fig, ax = plt.subplots()\n",
    "\n",
    "for b in db.final_clusters['blotch'][1]:\n",
    "    db.p4id.plot_blotches(data=b, user_color=next(palette), ax=ax)\n",
    "    ax.set_title('second round')\n",
    "fig.savefig('second_round.png', dpi=150)"
   ]
  },
  {
   "cell_type": "code",
   "execution_count": null,
   "metadata": {},
   "outputs": [],
   "source": [
    "db.parameter_scan('1wg', 'fan', \n",
    "                  msf_vals_to_scan=[0.1, 0.13],\n",
    "                  eps_vals_to_scan=[20, 25, 30],\n",
    "                  size_to_scan='large')"
   ]
  },
  {
   "cell_type": "code",
   "execution_count": null,
   "metadata": {},
   "outputs": [],
   "source": [
    "db.parameter_scan('15k', 'blotch', \n",
    "                  msf_vals_to_scan=[0.1, 0.13],\n",
    "                  eps_vals_to_scan=[10, 12, 15],\n",
    "                  size_to_scan='small')"
   ]
  },
  {
   "cell_type": "code",
   "execution_count": null,
   "metadata": {},
   "outputs": [],
   "source": [
    "fig, ax = plt.subplots()\n",
    "db.p4id.plot_blotches(ax=ax)\n",
    "ax.set_title('input data')\n",
    "fig.savefig('input_data.png', dpi=150)"
   ]
  },
  {
   "cell_type": "code",
   "execution_count": null,
   "metadata": {},
   "outputs": [],
   "source": [
    "blotches = db.p4id.filter_data('blotch').dropna(how='all', axis=1)"
   ]
  },
  {
   "cell_type": "code",
   "execution_count": null,
   "metadata": {},
   "outputs": [],
   "source": [
    "blotches['x y radius_1 radius_2 angle'.split()].sort_values(by='radius_1')"
   ]
  },
  {
   "cell_type": "code",
   "execution_count": null,
   "metadata": {},
   "outputs": [],
   "source": [
    "fans = db.p4id.filter_data('fan')"
   ]
  },
  {
   "cell_type": "code",
   "execution_count": null,
   "metadata": {},
   "outputs": [],
   "source": [
    "xyclusters = pd.concat(db.cluster_xy(blotches, 15)).dropna(how='all', axis=1)"
   ]
  },
  {
   "cell_type": "code",
   "execution_count": null,
   "metadata": {},
   "outputs": [],
   "source": [
    "blotches.shape"
   ]
  },
  {
   "cell_type": "code",
   "execution_count": null,
   "metadata": {},
   "outputs": [],
   "source": [
    "xyclusters.shape"
   ]
  },
  {
   "cell_type": "code",
   "execution_count": null,
   "metadata": {},
   "outputs": [],
   "source": [
    "blotches[~blotches.isin(xyclusters).all(1)].shape"
   ]
  },
  {
   "cell_type": "code",
   "execution_count": null,
   "metadata": {},
   "outputs": [],
   "source": []
  },
  {
   "cell_type": "code",
   "execution_count": null,
   "metadata": {},
   "outputs": [],
   "source": []
  },
  {
   "cell_type": "code",
   "execution_count": null,
   "metadata": {},
   "outputs": [],
   "source": []
  },
  {
   "cell_type": "code",
   "execution_count": null,
   "metadata": {},
   "outputs": [],
   "source": [
    "db.eps_values['blotch']['angle']= None"
   ]
  },
  {
   "cell_type": "code",
   "execution_count": null,
   "metadata": {},
   "outputs": [],
   "source": [
    "db.eps_values['blotch']['angle']= 20"
   ]
  },
  {
   "cell_type": "code",
   "execution_count": null,
   "metadata": {},
   "outputs": [],
   "source": [
    "db.eps_values['blotch']['radius']['small']=30"
   ]
  },
  {
   "cell_type": "code",
   "execution_count": null,
   "metadata": {},
   "outputs": [],
   "source": [
    "db.eps_values"
   ]
  },
  {
   "cell_type": "code",
   "execution_count": null,
   "metadata": {},
   "outputs": [],
   "source": [
    "db.parameter_scan('bp7', 'blotch', [0.1, 0.13], [15,22,30], 'small')"
   ]
  },
  {
   "cell_type": "code",
   "execution_count": null,
   "metadata": {},
   "outputs": [],
   "source": [
    "db.cluster_image_id('bz7')"
   ]
  },
  {
   "cell_type": "code",
   "execution_count": null,
   "metadata": {},
   "outputs": [],
   "source": [
    "db.cluster_and_plot('bz7', 'blotch')"
   ]
  },
  {
   "cell_type": "code",
   "execution_count": null,
   "metadata": {},
   "outputs": [],
   "source": [
    "db.min_samples"
   ]
  },
  {
   "cell_type": "code",
   "execution_count": null,
   "metadata": {},
   "outputs": [],
   "source": [
    "db.cluster_image_id('bb6')"
   ]
  },
  {
   "cell_type": "code",
   "execution_count": null,
   "metadata": {},
   "outputs": [],
   "source": [
    "db.final_clusters['blotch'][0][4][markings.Blotch.to_average+['user_name']]"
   ]
  },
  {
   "cell_type": "code",
   "execution_count": null,
   "metadata": {},
   "outputs": [],
   "source": [
    "db.final_clusters['blotch'][0][2][markings.Blotch.to_average+['user_name']]"
   ]
  },
  {
   "cell_type": "code",
   "execution_count": null,
   "metadata": {},
   "outputs": [],
   "source": []
  },
  {
   "cell_type": "code",
   "execution_count": null,
   "metadata": {},
   "outputs": [],
   "source": [
    "%debug"
   ]
  },
  {
   "cell_type": "code",
   "execution_count": null,
   "metadata": {},
   "outputs": [],
   "source": [
    "db.parameter_scan('blotch', [0.1, 0.13], [15, 22, 30])"
   ]
  },
  {
   "cell_type": "code",
   "execution_count": null,
   "metadata": {},
   "outputs": [],
   "source": [
    "db.parameter_scan('fan', [0.1,0.15], [30, 50,70])"
   ]
  },
  {
   "cell_type": "code",
   "execution_count": null,
   "metadata": {},
   "outputs": [],
   "source": [
    "db.pipeline(10, 3, 50)"
   ]
  },
  {
   "cell_type": "code",
   "execution_count": null,
   "metadata": {},
   "outputs": [],
   "source": [
    "db.store_folder"
   ]
  },
  {
   "cell_type": "code",
   "execution_count": null,
   "metadata": {},
   "outputs": [],
   "source": [
    "sizes = []\n",
    "for _,b in blotches.iterrows():\n",
    "    B = markings.Blotch(b, scope='planet4')\n",
    "    sizes.append(B.area)"
   ]
  },
  {
   "cell_type": "code",
   "execution_count": null,
   "metadata": {},
   "outputs": [],
   "source": [
    "%matplotlib nbagg"
   ]
  },
  {
   "cell_type": "code",
   "execution_count": null,
   "metadata": {},
   "outputs": [],
   "source": [
    "plt.figure()\n",
    "plt.hist(sizes, bins=50);"
   ]
  },
  {
   "cell_type": "code",
   "execution_count": null,
   "metadata": {},
   "outputs": [],
   "source": [
    "db.parameter_scan('fan', [0.1,0.15], [10, 15, 20])"
   ]
  },
  {
   "cell_type": "code",
   "execution_count": null,
   "metadata": {},
   "outputs": [],
   "source": []
  },
  {
   "cell_type": "code",
   "execution_count": null,
   "metadata": {},
   "outputs": [],
   "source": []
  },
  {
   "cell_type": "code",
   "execution_count": null,
   "metadata": {},
   "outputs": [],
   "source": []
  },
  {
   "cell_type": "code",
   "execution_count": null,
   "metadata": {},
   "outputs": [],
   "source": []
  },
  {
   "cell_type": "code",
   "execution_count": null,
   "metadata": {},
   "outputs": [],
   "source": [
    "db.cluster_and_plot('blotch', 20, 3)\n",
    "ax = plt.gca()\n",
    "ax.get_title()"
   ]
  },
  {
   "cell_type": "code",
   "execution_count": null,
   "metadata": {},
   "outputs": [],
   "source": []
  },
  {
   "cell_type": "code",
   "execution_count": null,
   "metadata": {},
   "outputs": [],
   "source": [
    "db.parameter_scan('fan', [0.07, 0.1, 0.15], [15,20])"
   ]
  },
  {
   "cell_type": "code",
   "execution_count": null,
   "metadata": {},
   "outputs": [],
   "source": [
    "db.parameter_scan('blotch', [0.07, 0.1, 0.15], [15,20])"
   ]
  },
  {
   "cell_type": "code",
   "execution_count": null,
   "metadata": {},
   "outputs": [],
   "source": [
    "ek1.cluster_and_plot('blotch', 20, 3)"
   ]
  },
  {
   "cell_type": "code",
   "execution_count": null,
   "metadata": {},
   "outputs": [],
   "source": [
    "ek1.p4id.plot_blotches(data=ek1.finalclusters[5])"
   ]
  },
  {
   "cell_type": "code",
   "execution_count": null,
   "metadata": {},
   "outputs": [],
   "source": [
    "ek1.p4id.plot_blotches(data=ek1.averaged[5])"
   ]
  },
  {
   "cell_type": "code",
   "execution_count": null,
   "metadata": {},
   "outputs": [],
   "source": []
  },
  {
   "cell_type": "code",
   "execution_count": null,
   "metadata": {},
   "outputs": [],
   "source": []
  },
  {
   "cell_type": "code",
   "execution_count": null,
   "metadata": {},
   "outputs": [],
   "source": [
    "p4id = markings.ImageID('1fe', scope='planet4')\n",
    "blotches = p4id.get_blotches()"
   ]
  },
  {
   "cell_type": "code",
   "execution_count": null,
   "metadata": {},
   "outputs": [],
   "source": [
    "X = blotches['x y'.split()]"
   ]
  },
  {
   "cell_type": "code",
   "execution_count": null,
   "metadata": {},
   "outputs": [],
   "source": [
    "dbscanner = DBScanner(X, min_samples=5, eps=20)"
   ]
  },
  {
   "cell_type": "code",
   "execution_count": null,
   "metadata": {},
   "outputs": [],
   "source": [
    "clusters = [blotches.loc[idx] for idx in dbscanner.clustered_indices]"
   ]
  },
  {
   "cell_type": "code",
   "execution_count": null,
   "metadata": {},
   "outputs": [],
   "source": [
    "from planet4.clustering import cluster_angles"
   ]
  },
  {
   "cell_type": "code",
   "execution_count": null,
   "metadata": {},
   "outputs": [],
   "source": [
    "bucket = []\n",
    "for cluster in clusters:\n",
    "    print(cluster.shape)\n",
    "    bucket.append([cluster.loc[idx] for idx in cluster_angles(cluster, 'blotch', 5)])"
   ]
  },
  {
   "cell_type": "code",
   "execution_count": null,
   "metadata": {},
   "outputs": [],
   "source": [
    "for item in bucket:\n",
    "    for subitem in item:\n",
    "        print(subitem.shape)"
   ]
  },
  {
   "cell_type": "code",
   "execution_count": null,
   "metadata": {},
   "outputs": [],
   "source": [
    "        cluster_and_plot('1dr', production=True, dynamic=True,\n",
    "                         msf=msf, eps=eps, radii=False, dbscan=True,\n",
    "                         figtitle=figtitle)"
   ]
  },
  {
   "cell_type": "code",
   "execution_count": null,
   "metadata": {},
   "outputs": [],
   "source": []
  },
  {
   "cell_type": "code",
   "execution_count": null,
   "metadata": {},
   "outputs": [],
   "source": [
    "cm = cluster_and_plot('1dt', production=False, msf=0.1, dynamic=True,\n",
    "                      radii=False, dbscan=False)"
   ]
  },
  {
   "cell_type": "code",
   "execution_count": null,
   "metadata": {},
   "outputs": [],
   "source": [
    "df = pd.read_csv('fuckdf.csv')"
   ]
  },
  {
   "cell_type": "code",
   "execution_count": null,
   "metadata": {},
   "outputs": [],
   "source": [
    "(df - df.mean(axis=0))/df.std(axis=0)"
   ]
  },
  {
   "cell_type": "code",
   "execution_count": null,
   "metadata": {},
   "outputs": [],
   "source": [
    "df[df.apply(lambda x: np.abs(x - x.mean()) / x.std() < 1).all(axis=0)]"
   ]
  },
  {
   "cell_type": "code",
   "execution_count": null,
   "metadata": {},
   "outputs": [],
   "source": [
    "from scipy.stats import zscore"
   ]
  },
  {
   "cell_type": "code",
   "execution_count": null,
   "metadata": {},
   "outputs": [],
   "source": [
    "zscore??"
   ]
  },
  {
   "cell_type": "code",
   "execution_count": null,
   "metadata": {},
   "outputs": [],
   "source": [
    "pd.DataFrame(zscore(df,ddof=1))"
   ]
  },
  {
   "cell_type": "code",
   "execution_count": null,
   "metadata": {},
   "outputs": [],
   "source": [
    "def highlight_bigger_std(x):\n",
    "    '''\n",
    "    highlight the maximum in a Series yellow.\n",
    "    '''\n",
    "    is_true = (np.abs(x - x.mean()) / x.std() > 2)\n",
    "    return ['background-color: yellow' if v else '' for v in is_true]\n",
    "#     return is_true"
   ]
  },
  {
   "cell_type": "code",
   "execution_count": null,
   "metadata": {},
   "outputs": [],
   "source": [
    "df.style.apply(highlight_bigger_std)"
   ]
  },
  {
   "cell_type": "code",
   "execution_count": null,
   "metadata": {},
   "outputs": [],
   "source": []
  },
  {
   "cell_type": "code",
   "execution_count": null,
   "metadata": {},
   "outputs": [],
   "source": []
  },
  {
   "cell_type": "code",
   "execution_count": null,
   "metadata": {},
   "outputs": [],
   "source": [
    "cm = cluster_and_plot('pbr', production=False, msf=0.1, dynamic=True,\n",
    "                      radii=False)"
   ]
  },
  {
   "cell_type": "code",
   "execution_count": null,
   "metadata": {},
   "outputs": [],
   "source": [
    "cm = cluster_and_plot('pbr',eps=20, production=False, msf=0.1, dynamic=True,\n",
    "                      radii=True)"
   ]
  },
  {
   "cell_type": "code",
   "execution_count": null,
   "metadata": {},
   "outputs": [],
   "source": [
    "cm.db"
   ]
  },
  {
   "cell_type": "code",
   "execution_count": null,
   "metadata": {},
   "outputs": [],
   "source": [
    "imgid = '1at'\n",
    "imgid = 'dch'\n",
    "imgid = 'bvc'\n",
    "imgid = '1dr'\n",
    "imgid = '1fe'\n",
    "imgid = 'br5'\n",
    "imgid = 'ek1'\n",
    "p4id = markings.ImageID(imgid, scope='planet4')"
   ]
  },
  {
   "cell_type": "code",
   "execution_count": null,
   "metadata": {},
   "outputs": [],
   "source": [
    "data = p4id.get_blotches()"
   ]
  },
  {
   "cell_type": "code",
   "execution_count": null,
   "metadata": {},
   "outputs": [],
   "source": [
    "from planet4.dbscan import DBScanner"
   ]
  },
  {
   "cell_type": "code",
   "execution_count": null,
   "metadata": {},
   "outputs": [],
   "source": [
    "current_X = data[['x','y']].values"
   ]
  },
  {
   "cell_type": "code",
   "execution_count": null,
   "metadata": {},
   "outputs": [],
   "source": [
    "clusterer = DBScanner(current_X, eps=15, min_samples=3)"
   ]
  },
  {
   "cell_type": "code",
   "execution_count": null,
   "metadata": {},
   "outputs": [],
   "source": [
    "clusterer.n_clusters_"
   ]
  },
  {
   "cell_type": "code",
   "execution_count": null,
   "metadata": {},
   "outputs": [],
   "source": [
    "cluster = data.loc[clusterer.clustered_indices[0]]\n",
    "\n",
    "p4id.plot_blotches(blotches=cluster,with_center=True)"
   ]
  },
  {
   "cell_type": "code",
   "execution_count": null,
   "metadata": {},
   "outputs": [],
   "source": [
    "cluster[blotchcols]"
   ]
  },
  {
   "cell_type": "code",
   "execution_count": null,
   "metadata": {},
   "outputs": [],
   "source": [
    "indices = clustering.cluster_angles(cluster, 'blotch', eps_blotchangle=10)\n",
    "indices"
   ]
  },
  {
   "cell_type": "code",
   "execution_count": null,
   "metadata": {},
   "outputs": [],
   "source": [
    "angle_cluster_data = cluster.loc[indices[0], blotchcols +['user_name']]"
   ]
  },
  {
   "cell_type": "code",
   "execution_count": null,
   "metadata": {},
   "outputs": [],
   "source": [
    "angle_cluster_data"
   ]
  },
  {
   "cell_type": "code",
   "execution_count": null,
   "metadata": {},
   "outputs": [],
   "source": [
    "df = angle_cluster_data[blotchcols]"
   ]
  },
  {
   "cell_type": "code",
   "execution_count": null,
   "metadata": {},
   "outputs": [],
   "source": [
    "df[df.apply(lambda x: np.abs(x - x.mean()) / x.std() < 1).all(axis=1)]"
   ]
  },
  {
   "cell_type": "code",
   "execution_count": null,
   "metadata": {},
   "outputs": [],
   "source": [
    "clustering.get_average_object(angle_cluster_data[blotchcols], 'blotch')"
   ]
  },
  {
   "cell_type": "code",
   "execution_count": null,
   "metadata": {},
   "outputs": [],
   "source": [
    "p4id.plot_blotches(blotches=cluster.loc[indices[0]], with_center=True)"
   ]
  },
  {
   "cell_type": "code",
   "execution_count": null,
   "metadata": {},
   "outputs": [],
   "source": [
    "df = cluster.loc[indices[0]][blotchcols]"
   ]
  },
  {
   "cell_type": "code",
   "execution_count": null,
   "metadata": {},
   "outputs": [],
   "source": [
    "df['area'] = df.apply(lambda x: np.pi*x.radius_1*x.radius_2, axis=1)"
   ]
  },
  {
   "cell_type": "code",
   "execution_count": null,
   "metadata": {},
   "outputs": [],
   "source": [
    "df"
   ]
  },
  {
   "cell_type": "code",
   "execution_count": null,
   "metadata": {},
   "outputs": [],
   "source": [
    "col='radius_1'"
   ]
  },
  {
   "cell_type": "code",
   "execution_count": null,
   "metadata": {},
   "outputs": [],
   "source": [
    "df.radius_1.std()"
   ]
  },
  {
   "cell_type": "code",
   "execution_count": null,
   "metadata": {},
   "outputs": [],
   "source": [
    "df[np.abs(df[col]-df[col].mean())<=(1*df[col].std())]"
   ]
  },
  {
   "cell_type": "code",
   "execution_count": null,
   "metadata": {},
   "outputs": [],
   "source": [
    "df[df.apply(lambda x: np.abs(x - x.mean()) / x.std() < 1).all(axis=1)]"
   ]
  },
  {
   "cell_type": "code",
   "execution_count": null,
   "metadata": {},
   "outputs": [],
   "source": [
    "subclus"
   ]
  },
  {
   "cell_type": "code",
   "execution_count": null,
   "metadata": {},
   "outputs": [],
   "source": [
    "testblotch = markings.Blotch?"
   ]
  },
  {
   "cell_type": "code",
   "execution_count": null,
   "metadata": {},
   "outputs": [],
   "source": [
    "testblotchdata = dict(x=340, y=340, angle=127, radius_1=250, radius_2=186)"
   ]
  },
  {
   "cell_type": "code",
   "execution_count": null,
   "metadata": {},
   "outputs": [],
   "source": [
    "testblotch = markings.Blotch(\n",
    "    pd.DataFrame(\n",
    "        testblotchdata, index=[0]), scope='planet4')\n",
    "fig, ax = plt.subplots()\n",
    "ax.add_artist(testblotch)\n",
    "ax.set_xlim(0, 800)\n",
    "ax.set_ylim(0, 600)"
   ]
  },
  {
   "cell_type": "code",
   "execution_count": null,
   "metadata": {},
   "outputs": [],
   "source": [
    "testblotch = markings.Blotch(\n",
    "    pd.DataFrame(testblotchdata, index=[0]),\n",
    "    scope='planet4')\n",
    "\n",
    "p4id.plot_blotches(blotches=[testblotch])"
   ]
  },
  {
   "cell_type": "code",
   "execution_count": null,
   "metadata": {
    "code_folding": []
   },
   "outputs": [],
   "source": [
    "from sklearn.cluster import DBSCAN\n",
    "\n",
    "\n",
    "class DBScanner(object):\n",
    "    \"\"\"Execute clustering and create mean cluster markings.\n",
    "\n",
    "    The instantiated object will execute:\n",
    "\n",
    "        * _run_DBSCAN() to perform the clustering itself\n",
    "        * _post_analysis() to create mean markings from the clustering results\n",
    "\n",
    "\n",
    "    Parameters\n",
    "    ----------\n",
    "    current_X : numpy.array\n",
    "        array holding the data to be clustered, preprocessed in ClusterManager\n",
    "    eps : int, optional\n",
    "        Distance criterion for DBSCAN algorithm. Samples further away than this value don't\n",
    "        become members of the currently considered cluster. Default: 10\n",
    "    min_samples : int, optional\n",
    "        Mininum number of samples required for a cluster to be created. Default: 3\n",
    "    \"\"\"\n",
    "\n",
    "    def __init__(self, X, eps=15, min_samples=3, only_core=False):\n",
    "        self.X = X\n",
    "        self.eps = eps\n",
    "        self.min_samples = min_samples\n",
    "        self.only_core = only_core\n",
    "\n",
    "        # these lines execute the clustering\n",
    "        self._run_DBSCAN()\n",
    "\n",
    "    def _run_DBSCAN(self):\n",
    "        \"\"\"Perform the DBSCAN clustering.\"\"\"\n",
    "        db = DBSCAN(self.eps, self.min_samples).fit(self.X)\n",
    "        core_samples_mask = np.zeros_like(db.labels_, dtype=bool)\n",
    "        core_samples_mask[db.core_sample_indices_] = True\n",
    "\n",
    "        labels = db.labels_\n",
    "        unique_labels = set(labels)\n",
    "        colors = plt.cm.Spectral(np.linspace(0, 1, len(unique_labels)))\n",
    "\n",
    "        self.n_clusters_ = len(unique_labels) - (1 if -1 in labels else 0)\n",
    "\n",
    "        self.clustered_indices = []  # list of `kind` cluster average objects\n",
    "        self.n_rejected = 0\n",
    "        # loop over unique labels.\n",
    "        for k, col in zip(unique_labels, colors):\n",
    "            # get indices for members of this cluster\n",
    "            class_member_mask = (labels == k)\n",
    "            if self.only_core:\n",
    "                cluster_members = (class_member_mask & core_samples_mask)\n",
    "            else:\n",
    "                cluster_members = class_member_mask\n",
    "\n",
    "            if k == -1:\n",
    "                col = 'black'\n",
    "                self.n_rejected = len(cluster_members)\n",
    "            else:\n",
    "                xy = self.X[cluster_members]\n",
    "                if xy.shape[1] > 1:\n",
    "                    y = xy[:, 1]\n",
    "                else:\n",
    "                    y = [0] * xy.shape[0]\n",
    "                plt.plot(\n",
    "                    xy[:, 0],\n",
    "                    y,\n",
    "                    'o',\n",
    "                    markerfacecolor=col,\n",
    "                    markeredgecolor='black',\n",
    "                    markersize=14)\n",
    "                xy = self.X[class_member_mask & ~core_samples_mask]\n",
    "                if xy.shape[1] > 1:\n",
    "                    y = xy[:, 1]\n",
    "                else:\n",
    "                    y = [0] * xy.shape[0]\n",
    "                plt.plot(\n",
    "                    xy[:, 0],\n",
    "                    y,\n",
    "                    'o',\n",
    "                    markerfacecolor=col,\n",
    "                    markeredgecolor='black',\n",
    "                    markersize=6)\n",
    "                self.clustered_indices.append(cluster_members)\n",
    "        plt.gca().invert_yaxis()\n",
    "        plt.title('Estimated number of clusters: %d' % self.n_clusters_)\n",
    "        self.db = db"
   ]
  },
  {
   "cell_type": "code",
   "execution_count": null,
   "metadata": {},
   "outputs": [],
   "source": [
    "cluster[blotchcols]"
   ]
  },
  {
   "cell_type": "code",
   "execution_count": null,
   "metadata": {},
   "outputs": [],
   "source": [
    "xy_angles = clustering.angle_to_xy(cluster.angle, 'blotch')"
   ]
  },
  {
   "cell_type": "code",
   "execution_count": null,
   "metadata": {},
   "outputs": [],
   "source": [
    "xy_angles"
   ]
  },
  {
   "cell_type": "code",
   "execution_count": null,
   "metadata": {},
   "outputs": [],
   "source": [
    "xy_angles.shape"
   ]
  },
  {
   "cell_type": "code",
   "execution_count": null,
   "metadata": {},
   "outputs": [],
   "source": [
    "plt.figure(figsize=(5*1.3,5))\n",
    "clusterer = DBScanner(xy_angles, eps=20*np.pi/360, min_samples=3)"
   ]
  },
  {
   "cell_type": "code",
   "execution_count": null,
   "metadata": {},
   "outputs": [],
   "source": [
    "data.loc[clusterer.clustered_indices[1]]"
   ]
  },
  {
   "cell_type": "code",
   "execution_count": null,
   "metadata": {
    "cell_style": "center"
   },
   "outputs": [],
   "source": [
    "for cluster_members in clusterer.clustered_indices:\n",
    "    clusterdata = data.loc[cluster_members, blotchcols + ['user_name']]\n",
    "    print(len(clusterdata))\n",
    "    angle_clustered = clustering.cluster_angles(clusterdata, 'blotch')\n",
    "    for indices in angle_clustered:\n",
    "        angle_clusterdata = clusterdata.loc[indices, blotchcols +\n",
    "                                            ['user_name']]\n",
    "        filtered = angle_clusterdata.groupby('user_name').first()\n",
    "        print(len(filtered))"
   ]
  },
  {
   "cell_type": "code",
   "execution_count": null,
   "metadata": {},
   "outputs": [],
   "source": [
    "cm.min_samples"
   ]
  },
  {
   "cell_type": "code",
   "execution_count": null,
   "metadata": {},
   "outputs": [],
   "source": [
    "30* cm.min_samples_factor"
   ]
  },
  {
   "cell_type": "code",
   "execution_count": null,
   "metadata": {},
   "outputs": [],
   "source": [
    "cm.reduced_data['blotch']"
   ]
  },
  {
   "cell_type": "code",
   "execution_count": null,
   "metadata": {},
   "outputs": [],
   "source": [
    "cm.cluster_angles"
   ]
  },
  {
   "cell_type": "code",
   "execution_count": null,
   "metadata": {},
   "outputs": [],
   "source": [
    "db = clustering.cluster_angles(cluster, 'blotch')\n",
    "len(db[0])"
   ]
  },
  {
   "cell_type": "code",
   "execution_count": null,
   "metadata": {},
   "outputs": [],
   "source": [
    "len(cluster)"
   ]
  },
  {
   "cell_type": "code",
   "execution_count": null,
   "metadata": {},
   "outputs": [],
   "source": []
  },
  {
   "cell_type": "code",
   "execution_count": null,
   "metadata": {},
   "outputs": [],
   "source": []
  },
  {
   "cell_type": "code",
   "execution_count": null,
   "metadata": {},
   "outputs": [],
   "source": []
  },
  {
   "cell_type": "code",
   "execution_count": null,
   "metadata": {},
   "outputs": [],
   "source": [
    "filtered = cluster.groupby('user_name').first()"
   ]
  },
  {
   "cell_type": "code",
   "execution_count": null,
   "metadata": {},
   "outputs": [],
   "source": [
    "plt.figure()\n",
    "filtered.angle.hist()"
   ]
  },
  {
   "cell_type": "code",
   "execution_count": null,
   "metadata": {},
   "outputs": [],
   "source": []
  },
  {
   "cell_type": "code",
   "execution_count": null,
   "metadata": {},
   "outputs": [],
   "source": [
    "toprint = cluster2[markings.Fan.to_average + ['user_name', 'marking', 'classification_id']]"
   ]
  },
  {
   "cell_type": "code",
   "execution_count": null,
   "metadata": {},
   "outputs": [],
   "source": [
    "toprint.to_clipboard(index=False)"
   ]
  },
  {
   "cell_type": "code",
   "execution_count": null,
   "metadata": {},
   "outputs": [],
   "source": [
    "def add_angle_vector(df):\n",
    "    new = df.copy()\n",
    "    new['xang'] = np.cos(np.deg2rad(df.angle))\n",
    "    new['yang'] = np.sin(np.deg2rad(df.angle))\n",
    "    return new"
   ]
  },
  {
   "cell_type": "code",
   "execution_count": null,
   "metadata": {},
   "outputs": [],
   "source": [
    "cluster2 = add_angle_vector(cluster2)"
   ]
  },
  {
   "cell_type": "code",
   "execution_count": null,
   "metadata": {},
   "outputs": [],
   "source": [
    "cluster2"
   ]
  },
  {
   "cell_type": "markdown",
   "metadata": {},
   "source": [
    "\n",
    "# testing angle deltas"
   ]
  },
  {
   "cell_type": "code",
   "execution_count": null,
   "metadata": {},
   "outputs": [],
   "source": [
    "def angle_to_xy(angle):\n",
    "    x = np.cos(np.deg2rad(angle))\n",
    "    y = np.sin(np.deg2rad(angle))\n",
    "    return np.vstack([x,y]).T"
   ]
  },
  {
   "cell_type": "code",
   "execution_count": null,
   "metadata": {},
   "outputs": [],
   "source": [
    "def cluster_angles(angles, delta_angle):\n",
    "    dist_per_degree = 0.017453070996747883\n",
    "    X = angle_to_xy(angles)\n",
    "    clusterer = DBScanner(X, eps=delta_angle*dist_per_degree, min_samples=3)\n",
    "    return clusterer"
   ]
  },
  {
   "cell_type": "code",
   "execution_count": null,
   "metadata": {},
   "outputs": [],
   "source": [
    "clusterer = cluster_angles(cluster.angle, 10)"
   ]
  },
  {
   "cell_type": "code",
   "execution_count": null,
   "metadata": {},
   "outputs": [],
   "source": [
    "clusterer.db.core_sample_indices_"
   ]
  },
  {
   "cell_type": "code",
   "execution_count": null,
   "metadata": {},
   "outputs": [],
   "source": [
    "clusterer.db.labels_"
   ]
  },
  {
   "cell_type": "code",
   "execution_count": null,
   "metadata": {},
   "outputs": [],
   "source": [
    "cluster.shape"
   ]
  },
  {
   "cell_type": "code",
   "execution_count": null,
   "metadata": {},
   "outputs": [],
   "source": [
    "clusterer.clustered_indices"
   ]
  },
  {
   "cell_type": "code",
   "execution_count": null,
   "metadata": {},
   "outputs": [],
   "source": [
    "cluster2.iloc[clusterer.clustered_data[0]]"
   ]
  },
  {
   "cell_type": "code",
   "execution_count": null,
   "metadata": {},
   "outputs": [],
   "source": []
  },
  {
   "cell_type": "code",
   "execution_count": null,
   "metadata": {},
   "outputs": [],
   "source": [
    "dbscanner.reduced_data[0]"
   ]
  },
  {
   "cell_type": "markdown",
   "metadata": {},
   "source": [
    "this means all ellipses were clustered together. eps=10 picks 3 out of these 6."
   ]
  },
  {
   "cell_type": "code",
   "execution_count": null,
   "metadata": {},
   "outputs": [],
   "source": [
    "clusterdata = data.iloc[dbscanner.reduced_data[0]]"
   ]
  },
  {
   "cell_type": "markdown",
   "metadata": {},
   "source": [
    "so clusterdata is just the same as the input data, i just repeat the exact same code steps here for consistency."
   ]
  },
  {
   "cell_type": "code",
   "execution_count": null,
   "metadata": {},
   "outputs": [],
   "source": [
    "clusterdata[blotchcols]"
   ]
  },
  {
   "cell_type": "code",
   "execution_count": null,
   "metadata": {},
   "outputs": [],
   "source": []
  },
  {
   "cell_type": "code",
   "execution_count": null,
   "metadata": {},
   "outputs": [],
   "source": [
    "meandata = clusterdata.mean()\n",
    "meandata"
   ]
  },
  {
   "cell_type": "code",
   "execution_count": null,
   "metadata": {},
   "outputs": [],
   "source": [
    "from scipy.stats import circmean"
   ]
  },
  {
   "cell_type": "code",
   "execution_count": null,
   "metadata": {},
   "outputs": [],
   "source": [
    "meandata.angle = circmean(clusterdata.angle, high=180)"
   ]
  },
  {
   "cell_type": "code",
   "execution_count": null,
   "metadata": {},
   "outputs": [],
   "source": [
    "meandata"
   ]
  },
  {
   "cell_type": "code",
   "execution_count": null,
   "metadata": {},
   "outputs": [],
   "source": [
    "n_class_old = data.classification_id.nunique()\n",
    "n_class_old"
   ]
  },
  {
   "cell_type": "code",
   "execution_count": null,
   "metadata": {},
   "outputs": [],
   "source": [
    "# number of classifications that include fan and blotches\n",
    "f1 = data.marking == 'fan'\n",
    "f2 = data.marking == 'blotch'\n",
    "n_class_fb = data[f1 | f2].classification_id.nunique()\n",
    "n_class_fb"
   ]
  },
  {
   "cell_type": "code",
   "execution_count": null,
   "metadata": {},
   "outputs": [],
   "source": [
    "data=data[data.marking=='blotch']"
   ]
  },
  {
   "cell_type": "code",
   "execution_count": null,
   "metadata": {},
   "outputs": [],
   "source": [
    "plotting.plot_raw_blotches('bvc')"
   ]
  },
  {
   "cell_type": "code",
   "execution_count": null,
   "metadata": {},
   "outputs": [],
   "source": [
    "fans.plot(kind='scatter', x='x',y='y')\n",
    "plt.gca().invert_yaxis()"
   ]
  },
  {
   "cell_type": "code",
   "execution_count": null,
   "metadata": {},
   "outputs": [],
   "source": [
    "fx1 = data.x < 400 \n",
    "fx2 = data.x > 300\n",
    "fy1 = data.y_R > 300\n",
    "fy2 = data.y_R < 400"
   ]
  },
  {
   "cell_type": "code",
   "execution_count": null,
   "metadata": {},
   "outputs": [],
   "source": [
    "data = data.reset_index()"
   ]
  },
  {
   "cell_type": "code",
   "execution_count": null,
   "metadata": {},
   "outputs": [],
   "source": [
    "data[fx1 & fx2 & fy1 & fy2].angle"
   ]
  },
  {
   "cell_type": "code",
   "execution_count": null,
   "metadata": {},
   "outputs": [],
   "source": [
    "cm.dbscanner.reduced_data"
   ]
  },
  {
   "cell_type": "markdown",
   "metadata": {},
   "source": [
    "# testing cluster_image_name"
   ]
  },
  {
   "cell_type": "code",
   "execution_count": null,
   "metadata": {},
   "outputs": [],
   "source": [
    "dbscanner = dbscan.DBScanner()"
   ]
  },
  {
   "cell_type": "code",
   "execution_count": null,
   "metadata": {},
   "outputs": [],
   "source": [
    "db = io.DBManager()"
   ]
  },
  {
   "cell_type": "code",
   "execution_count": null,
   "metadata": {},
   "outputs": [],
   "source": [
    "data = db.get_obsid_markings('ESP_020568_0950')"
   ]
  },
  {
   "cell_type": "code",
   "execution_count": null,
   "metadata": {},
   "outputs": [],
   "source": [
    "image_ids = data.image_id.unique()"
   ]
  },
  {
   "cell_type": "code",
   "execution_count": null,
   "metadata": {},
   "outputs": [],
   "source": [
    "%matplotlib nbagg\n",
    "import seaborn as sns\n",
    "sns.set_context('notebook')"
   ]
  },
  {
   "cell_type": "code",
   "execution_count": null,
   "metadata": {},
   "outputs": [],
   "source": [
    "p4id = markings.ImageID(image_ids[0])\n",
    "p4id.plot_fans()"
   ]
  },
  {
   "cell_type": "code",
   "execution_count": null,
   "metadata": {},
   "outputs": [],
   "source": [
    "p4id.plot_fans(data=p4id.data.query('angle>180'))"
   ]
  },
  {
   "cell_type": "code",
   "execution_count": null,
   "metadata": {},
   "outputs": [],
   "source": [
    "p4id.imgid"
   ]
  },
  {
   "cell_type": "code",
   "execution_count": null,
   "metadata": {},
   "outputs": [],
   "source": [
    "data[data.marking=='fan'].angle.describe()"
   ]
  },
  {
   "cell_type": "code",
   "execution_count": null,
   "metadata": {},
   "outputs": [],
   "source": [
    "dbscanner.cluster_image_name('PSP_002622_0945')"
   ]
  },
  {
   "cell_type": "code",
   "execution_count": null,
   "metadata": {},
   "outputs": [],
   "source": [
    "db = io.DBManager()"
   ]
  },
  {
   "cell_type": "code",
   "execution_count": null,
   "metadata": {},
   "outputs": [],
   "source": [
    "db.get_image_name_markings('PSP_002622_0945')"
   ]
  },
  {
   "cell_type": "markdown",
   "metadata": {},
   "source": [
    "# Cluster random samples of obsids "
   ]
  },
  {
   "cell_type": "code",
   "execution_count": null,
   "metadata": {},
   "outputs": [],
   "source": [
    "obsids = 'ESP_020476_0950, ESP_011931_0945, ESP_012643_0945, ESP_020783_0950'.split(', ')"
   ]
  },
  {
   "cell_type": "code",
   "execution_count": null,
   "metadata": {},
   "outputs": [],
   "source": [
    "obsids"
   ]
  },
  {
   "cell_type": "code",
   "execution_count": null,
   "metadata": {},
   "outputs": [],
   "source": [
    "def process_obsid(obsid):\n",
    "    from planet4.catalog_production import do_cluster_obsids\n",
    "    do_cluster_obsids(obsid, savedir=obsid)\n",
    "    return obsid"
   ]
  },
  {
   "cell_type": "code",
   "execution_count": null,
   "metadata": {},
   "outputs": [],
   "source": [
    "from nbtools import execute_in_parallel"
   ]
  },
  {
   "cell_type": "code",
   "execution_count": null,
   "metadata": {},
   "outputs": [],
   "source": [
    "execute_in_parallel(process_obsid, obsids)"
   ]
  },
  {
   "cell_type": "code",
   "execution_count": null,
   "metadata": {},
   "outputs": [],
   "source": [
    "db = io.DBManager()\n",
    "\n",
    "for obsid in obsids:\n",
    "    data = db.get_image_name_markings(obsid)\n",
    "    image_ids = data.image_id.drop_duplicates().sample(n=50)\n",
    "    for id_ in image_ids:\n",
    "        print(id_)\n",
    "        plotting.plot_image_id_pipeline(id_, datapath=obsid, save=True,\n",
    "                                        saveroot=f'plots/{obsid}',\n",
    "                                        via_obsid=True)\n",
    "        plt.close('all')"
   ]
  },
  {
   "cell_type": "code",
   "execution_count": null,
   "metadata": {},
   "outputs": [],
   "source": [
    "plotting.plot_finals('prv', datapath=obsids[0], via_obsid=True)"
   ]
  },
  {
   "cell_type": "code",
   "execution_count": null,
   "metadata": {},
   "outputs": [],
   "source": []
  }
 ],
 "metadata": {
  "anaconda-cloud": {},
  "kernelspec": {
   "display_name": "Python 3.10.6 ('py310')",
   "language": "python",
   "name": "python3"
  },
  "language_info": {
   "codemirror_mode": {
    "name": "ipython",
    "version": 3
   },
   "file_extension": ".py",
   "mimetype": "text/x-python",
   "name": "python",
   "nbconvert_exporter": "python",
   "pygments_lexer": "ipython3",
   "version": "3.10.6"
  },
  "latex_envs": {
   "LaTeX_envs_menu_present": true,
   "autocomplete": true,
   "bibliofile": "biblio.bib",
   "cite_by": "apalike",
   "current_citInitial": 1,
   "eqLabelWithNumbers": true,
   "eqNumInitial": 1,
   "hotkeys": {
    "equation": "Ctrl-E",
    "itemize": "Ctrl-I"
   },
   "labels_anchors": false,
   "latex_user_defs": false,
   "report_style_numbering": false,
   "user_envs_cfg": false
  },
  "notify_time": "10",
  "toc": {
   "base_numbering": 1,
   "nav_menu": {
    "height": "48px",
    "width": "252px"
   },
   "number_sections": true,
   "sideBar": true,
   "skip_h1_title": false,
   "title_cell": "Table of Contents",
   "title_sidebar": "Contents",
   "toc_cell": true,
   "toc_position": {
    "height": "748px",
    "left": "0px",
    "right": "20px",
    "top": "32px",
    "width": "216px"
   },
   "toc_section_display": "block",
   "toc_window_display": false
  },
  "varInspector": {
   "cols": {
    "lenName": 16,
    "lenType": 16,
    "lenVar": 40
   },
   "kernels_config": {
    "python": {
     "delete_cmd_postfix": "",
     "delete_cmd_prefix": "del ",
     "library": "var_list.py",
     "varRefreshCmd": "print(var_dic_list())"
    },
    "r": {
     "delete_cmd_postfix": ") ",
     "delete_cmd_prefix": "rm(",
     "library": "var_list.r",
     "varRefreshCmd": "cat(var_dic_list()) "
    }
   },
   "types_to_exclude": [
    "module",
    "function",
    "builtin_function_or_method",
    "instance",
    "_Feature"
   ],
   "window_display": false
  },
  "vscode": {
   "interpreter": {
    "hash": "8abb254d6a07c4ab6e5d1ad597bee3b5481c1f8a02542a8acbb4b730a6e65d4b"
   }
  }
 },
 "nbformat": 4,
 "nbformat_minor": 2
}
