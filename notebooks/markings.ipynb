{
 "metadata": {
  "name": ""
 },
 "nbformat": 3,
 "nbformat_minor": 0,
 "worksheets": [
  {
   "cells": [
    {
     "cell_type": "code",
     "collapsed": false,
     "input": [
      "from planet4 import helper_functions as hf\n",
      "from planet4 import get_data\n",
      "from planet4 import markings\n",
      "reload(hf)\n",
      "reload(markings)"
     ],
     "language": "python",
     "metadata": {},
     "outputs": [],
     "prompt_number": null
    },
    {
     "cell_type": "code",
     "collapsed": false,
     "input": [
      "imgid = markings.ImageID('APF00006qo')"
     ],
     "language": "python",
     "metadata": {},
     "outputs": [],
     "prompt_number": null
    },
    {
     "cell_type": "code",
     "collapsed": false,
     "input": [
      "fname = get_data.get_current_database_fname()"
     ],
     "language": "python",
     "metadata": {},
     "outputs": []
    },
    {
     "cell_type": "code",
     "collapsed": false,
     "input": [
      "mydata = pd.read_hdf(fname, 'df', where=['user_name=michaelaye','marking=fan'])"
     ],
     "language": "python",
     "metadata": {},
     "outputs": []
    },
    {
     "cell_type": "code",
     "collapsed": false,
     "input": [
      "mydata.shape"
     ],
     "language": "python",
     "metadata": {},
     "outputs": []
    },
    {
     "cell_type": "code",
     "collapsed": false,
     "input": [
      "mydata.groupby('image_id').size().order()"
     ],
     "language": "python",
     "metadata": {},
     "outputs": []
    },
    {
     "cell_type": "code",
     "collapsed": false,
     "input": [
      "reload(markings)\n",
      "imgid = markings.ImageID('APF00006qo')\n",
      "# fans = imgid.get_fans(user_name='michaelaye')\n",
      "# imgid.plot_fans(user_name='michaelaye')\n",
      "# markings.set_upper_left_corner(10, 10)"
     ],
     "language": "python",
     "metadata": {},
     "outputs": [],
     "prompt_number": null
    },
    {
     "cell_type": "code",
     "collapsed": false,
     "input": [
      "row"
     ],
     "language": "python",
     "metadata": {},
     "outputs": []
    },
    {
     "cell_type": "code",
     "collapsed": false,
     "input": [
      "row = mydata[mydata.image_id=='APF0000fw6']"
     ],
     "language": "python",
     "metadata": {},
     "outputs": []
    },
    {
     "cell_type": "code",
     "collapsed": false,
     "input": [
      "row['x y distance angle spread'.split()]"
     ],
     "language": "python",
     "metadata": {},
     "outputs": []
    },
    {
     "cell_type": "code",
     "collapsed": false,
     "input": [
      "reload(markings)\n",
      "row.x = 0\n",
      "row.y = 0\n",
      "row.distance = sqrt(2)\n",
      "row.angle = 45\n",
      "row.spread = 45\n",
      "fan = markings.P4_Fan(row.iloc[0])\n",
      "print fan"
     ],
     "language": "python",
     "metadata": {},
     "outputs": []
    },
    {
     "cell_type": "code",
     "collapsed": false,
     "input": [],
     "language": "python",
     "metadata": {},
     "outputs": []
    },
    {
     "cell_type": "code",
     "collapsed": false,
     "input": [],
     "language": "python",
     "metadata": {},
     "outputs": []
    },
    {
     "cell_type": "code",
     "collapsed": false,
     "input": [],
     "language": "python",
     "metadata": {},
     "outputs": []
    },
    {
     "cell_type": "code",
     "collapsed": false,
     "input": [
      "imgid.plot_blotches()"
     ],
     "language": "python",
     "metadata": {},
     "outputs": []
    },
    {
     "cell_type": "code",
     "collapsed": false,
     "input": [
      "imgid.plot_fans()"
     ],
     "language": "python",
     "metadata": {},
     "outputs": []
    },
    {
     "cell_type": "code",
     "collapsed": false,
     "input": [
      "imgid.plot_fans()\n",
      "savefig('plots/APF0000sv3_fans.png', dpi=200)"
     ],
     "language": "python",
     "metadata": {},
     "outputs": []
    },
    {
     "cell_type": "code",
     "collapsed": false,
     "input": [
      "blotches = imgid.get_blotches()"
     ],
     "language": "python",
     "metadata": {},
     "outputs": []
    },
    {
     "cell_type": "code",
     "collapsed": false,
     "input": [
      "from P4_sandbox import markings\n",
      "reload(markings)"
     ],
     "language": "python",
     "metadata": {},
     "outputs": []
    },
    {
     "cell_type": "code",
     "collapsed": false,
     "input": [
      "blotches['P4blotches'] = blotches.apply(markings.P4_Blotch, axis=1)"
     ],
     "language": "python",
     "metadata": {},
     "outputs": []
    },
    {
     "cell_type": "markdown",
     "metadata": {},
     "source": [
      "According to Stuart, the `distance` value is measured until the end where the semi-circle ends. Above reconstruction assumes that the `distance` value is going until the end of a split triangle.\n",
      "\n",
      "The reconstruction with the semi-circle at the end proved a bit more complex."
     ]
    },
    {
     "cell_type": "markdown",
     "metadata": {},
     "source": [
      "## fan graphic"
     ]
    },
    {
     "cell_type": "code",
     "collapsed": false,
     "input": [
      "fan = markings.P4_Fan(fans.iloc[0])\n",
      "fans.iloc[0]"
     ],
     "language": "python",
     "metadata": {},
     "outputs": []
    },
    {
     "cell_type": "code",
     "collapsed": false,
     "input": [
      "fan.vectors"
     ],
     "language": "python",
     "metadata": {},
     "outputs": []
    },
    {
     "cell_type": "code",
     "collapsed": false,
     "input": [
      "reload(markings)\n",
      "base = array([0.5,0.5])\n",
      "length = 0.3\n",
      "fig, ax = subplots()\n",
      "ax.set_aspect('equal')\n",
      "for angle in range(0, 360, 30):\n",
      "    p1 = markings.rotate_vector([length, 0], angle-15)\n",
      "    p2 = markings.rotate_vector([length, 0], angle+15)\n",
      "    vectors = np.vstack((base+p1, base, base+p2, base+p1))\n",
      "    line = mlines.Line2D(vectors[:, 0], vectors[:, 1])\n",
      "    ax.add_line(line)\n",
      "\n",
      "    circle_base = p1-p2\n",
      "    print vectors\n",
      "    print circle_base\n",
      "    center = base + p2 + 0.5*circle_base\n",
      "    radius = 0.5 * LA.norm(circle_base)\n",
      "    theta1 = degrees(arctan2(*circle_base[::-1]))\n",
      "    theta2 = theta1+180\n",
      "    wedge = mpatches.Wedge(center, radius, theta1, theta2,width=0.01*radius)\n",
      "    ax.add_patch(wedge)"
     ],
     "language": "python",
     "metadata": {},
     "outputs": []
    },
    {
     "cell_type": "code",
     "collapsed": false,
     "input": [
      "degrees(arctan2(circle_base[1],circle_base[0]))"
     ],
     "language": "python",
     "metadata": {},
     "outputs": []
    },
    {
     "cell_type": "code",
     "collapsed": false,
     "input": [
      "arctan2?"
     ],
     "language": "python",
     "metadata": {},
     "outputs": []
    },
    {
     "cell_type": "code",
     "collapsed": false,
     "input": [
      "markings.diffangle(p1, p2, rads=False)"
     ],
     "language": "python",
     "metadata": {},
     "outputs": []
    },
    {
     "cell_type": "code",
     "collapsed": false,
     "input": [
      "base + markings.rotate_vector([0.3, 0], 45)"
     ],
     "language": "python",
     "metadata": {},
     "outputs": []
    },
    {
     "cell_type": "code",
     "collapsed": false,
     "input": [
      "circle_base = array([1,-1])\n",
      "0.5*circle_base"
     ],
     "language": "python",
     "metadata": {},
     "outputs": []
    },
    {
     "cell_type": "code",
     "collapsed": false,
     "input": [
      "degrees(arctan2(*-circle_base))"
     ],
     "language": "python",
     "metadata": {},
     "outputs": []
    },
    {
     "cell_type": "code",
     "collapsed": false,
     "input": [
      "markings.diffangle(p1, p2, rads=False)"
     ],
     "language": "python",
     "metadata": {},
     "outputs": []
    },
    {
     "cell_type": "code",
     "collapsed": false,
     "input": [
      "diff = degrees(py_ang(p1, p2))\n",
      "angle_to_p1 = degrees(py_ang([1,0],p1))\n",
      "angle = angle_to_p1 + diff/2.0\n",
      "angle"
     ],
     "language": "python",
     "metadata": {},
     "outputs": []
    },
    {
     "cell_type": "code",
     "collapsed": false,
     "input": [
      "vectors = np.vstack((p1, base, p2))\n",
      "vectors"
     ],
     "language": "python",
     "metadata": {},
     "outputs": []
    },
    {
     "cell_type": "code",
     "collapsed": false,
     "input": [
      "vectors[:,0]"
     ],
     "language": "python",
     "metadata": {},
     "outputs": []
    },
    {
     "cell_type": "code",
     "collapsed": false,
     "input": [
      "import math"
     ],
     "language": "python",
     "metadata": {},
     "outputs": []
    },
    {
     "cell_type": "code",
     "collapsed": false,
     "input": [
      "%timeit math.cos(0.2)"
     ],
     "language": "python",
     "metadata": {},
     "outputs": []
    },
    {
     "cell_type": "code",
     "collapsed": false,
     "input": [
      "%timeit np.cos(0.2)"
     ],
     "language": "python",
     "metadata": {},
     "outputs": []
    },
    {
     "cell_type": "code",
     "collapsed": false,
     "input": [],
     "language": "python",
     "metadata": {},
     "outputs": []
    }
   ],
   "metadata": {}
  }
 ]
}
