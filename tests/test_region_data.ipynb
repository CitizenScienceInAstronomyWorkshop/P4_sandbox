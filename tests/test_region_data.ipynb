{
 "cells": [
  {
   "cell_type": "markdown",
   "metadata": {
    "toc": true
   },
   "source": [
    "<h1>Table of Contents<span class=\"tocSkip\"></span></h1>\n",
    "<div class=\"toc\" style=\"margin-top: 1em;\"><ul class=\"toc-item\"></ul></div>"
   ]
  },
  {
   "cell_type": "code",
   "execution_count": 33,
   "metadata": {
    "ExecuteTime": {
     "end_time": "2017-10-30T19:06:27.068620Z",
     "start_time": "2017-10-30T19:06:27.050502Z"
    }
   },
   "outputs": [],
   "source": [
    "from planet4 import region_data"
   ]
  },
  {
   "cell_type": "code",
   "execution_count": 34,
   "metadata": {
    "ExecuteTime": {
     "end_time": "2017-10-30T19:06:30.775811Z",
     "start_time": "2017-10-30T19:06:30.759944Z"
    }
   },
   "outputs": [],
   "source": [
    "p = region_data.Manhattan()"
   ]
  },
  {
   "cell_type": "code",
   "execution_count": 35,
   "metadata": {
    "ExecuteTime": {
     "end_time": "2017-10-30T19:06:31.300579Z",
     "start_time": "2017-10-30T19:06:31.283551Z"
    }
   },
   "outputs": [
    {
     "data": {
      "text/plain": [
       "['PSP_002770_0940',\n",
       " 'PSP_003113_0940',\n",
       " 'ESP_030184_0940',\n",
       " 'ESP_029762_0940',\n",
       " 'ESP_029406_0940',\n",
       " 'ESP_029050_0940',\n",
       " 'ESP_029024_0940']"
      ]
     },
     "execution_count": 35,
     "metadata": {},
     "output_type": "execute_result"
    }
   ],
   "source": [
    "p.seasons"
   ]
  },
  {
   "cell_type": "code",
   "execution_count": 36,
   "metadata": {
    "ExecuteTime": {
     "end_time": "2017-10-30T19:06:33.095654Z",
     "start_time": "2017-10-30T19:06:33.079081Z"
    }
   },
   "outputs": [
    {
     "data": {
      "text/plain": [
       "['PSP_002770_0940', 'PSP_003113_0940']"
      ]
     },
     "execution_count": 36,
     "metadata": {},
     "output_type": "execute_result"
    }
   ],
   "source": [
    "p.season1"
   ]
  },
  {
   "cell_type": "code",
   "execution_count": 37,
   "metadata": {
    "ExecuteTime": {
     "end_time": "2017-10-30T19:06:33.660355Z",
     "start_time": "2017-10-30T19:06:33.644182Z"
    }
   },
   "outputs": [
    {
     "data": {
      "text/plain": [
       "['season1', 'season4']"
      ]
     },
     "execution_count": 37,
     "metadata": {},
     "output_type": "execute_result"
    }
   ],
   "source": [
    "p.available_seasons"
   ]
  },
  {
   "cell_type": "code",
   "execution_count": null,
   "metadata": {},
   "outputs": [],
   "source": []
  }
 ],
 "metadata": {
  "kernelspec": {
   "display_name": "Python [conda env:stable]",
   "language": "python",
   "name": "conda-env-stable-py"
  },
  "language_info": {
   "codemirror_mode": {
    "name": "ipython",
    "version": 3
   },
   "file_extension": ".py",
   "mimetype": "text/x-python",
   "name": "python",
   "nbconvert_exporter": "python",
   "pygments_lexer": "ipython3",
   "version": "3.6.3"
  },
  "toc": {
   "nav_menu": {},
   "number_sections": true,
   "sideBar": true,
   "skip_h1_title": false,
   "toc_cell": true,
   "toc_position": {},
   "toc_section_display": "block",
   "toc_window_display": false
  }
 },
 "nbformat": 4,
 "nbformat_minor": 2
}
