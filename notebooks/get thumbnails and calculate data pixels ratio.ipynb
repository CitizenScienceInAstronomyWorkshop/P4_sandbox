{
 "cells": [
  {
   "cell_type": "code",
   "execution_count": null,
   "metadata": {},
   "outputs": [],
   "source": [
    "import gdal\n",
    "\n",
    "from hirise import hirise_tools as ht"
   ]
  },
  {
   "cell_type": "code",
   "execution_count": null,
   "metadata": {},
   "outputs": [],
   "source": [
    "from planet4 import region_data"
   ]
  },
  {
   "cell_type": "code",
   "execution_count": null,
   "metadata": {},
   "outputs": [],
   "source": [
    "region = region_data.Inca"
   ]
  },
  {
   "cell_type": "code",
   "execution_count": null,
   "metadata": {},
   "outputs": [],
   "source": [
    "season = region.season2"
   ]
  },
  {
   "cell_type": "code",
   "execution_count": null,
   "metadata": {},
   "outputs": [],
   "source": [
    "dir = ht.hirise_dropbox() / 'browse'"
   ]
  },
  {
   "cell_type": "code",
   "execution_count": null,
   "metadata": {},
   "outputs": [],
   "source": [
    "def get_fraction_of_black_pixels(savepath):\n",
    "    ds = gdal.Open(str(savepath))\n",
    "    data = ds.ReadAsArray()\n",
    "    fractions = []\n",
    "    for band in data:\n",
    "        nonzeros = band.nonzero()[0]\n",
    "        fractions.append((band.size - nonzeros.size)/band.size)\n",
    "    return np.array(fractions).mean()"
   ]
  },
  {
   "cell_type": "code",
   "execution_count": null,
   "metadata": {},
   "outputs": [],
   "source": [
    "browse_fractions = []\n",
    "for img in season:\n",
    "    print(img)\n",
    "    prodid = ht.PRODUCT_ID(img)\n",
    "    prodid.kind = 'COLOR'\n",
    "    savepath = dir / prodid.browse_path.name\n",
    "#     ht.download_product(prodid.thumbnail_path, dir)\n",
    "    browse_fractions.append(get_fraction_of_black_pixels(savepath))"
   ]
  },
  {
   "cell_type": "code",
   "execution_count": null,
   "metadata": {},
   "outputs": [],
   "source": [
    "df = pd.DataFrame({'obsid':season, 'thumbnails':thumb_fractions,\n",
    "                   'browse':browse_fractions}).set_index('obsid')"
   ]
  },
  {
   "cell_type": "code",
   "execution_count": null,
   "metadata": {},
   "outputs": [],
   "source": [
    "%matplotlib inline"
   ]
  },
  {
   "cell_type": "code",
   "execution_count": null,
   "metadata": {},
   "outputs": [],
   "source": [
    "df.plot(rot=75, title='Inca, season2, fraction of invalid pixels in map-projected image.')"
   ]
  },
  {
   "cell_type": "code",
   "execution_count": null,
   "metadata": {},
   "outputs": [],
   "source": []
  }
 ],
 "metadata": {
  "kernelspec": {
   "display_name": "Python3 (stable)",
   "language": "python",
   "name": "stable"
  },
  "language_info": {
   "codemirror_mode": {
    "name": "ipython",
    "version": 3
   },
   "file_extension": ".py",
   "mimetype": "text/x-python",
   "name": "python",
   "nbconvert_exporter": "python",
   "pygments_lexer": "ipython3",
   "version": "3.5.1"
  }
 },
 "nbformat": 4,
 "nbformat_minor": 0
}
