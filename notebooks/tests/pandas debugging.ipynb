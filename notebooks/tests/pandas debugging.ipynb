{
 "cells": [
  {
   "cell_type": "code",
   "execution_count": 9,
   "metadata": {
    "collapsed": false
   },
   "outputs": [
    {
     "name": "stdout",
     "output_type": "stream",
     "text": [
      "No categories:\n",
      "Empty DataFrame\n",
      "Columns: [data, imgids, obsids]\n",
      "Index: []\n",
      "With categories:\n",
      "   data      imgids           obsids\n",
      "0   4.3  APF00006np  ESP_012345_6789\n"
     ]
    }
   ],
   "source": [
    "obsids = ['ESP_012345_6789', 'ESP_987654_3210']\n",
    "imgids = ['APF00006np', 'APF0001imm']\n",
    "data = [4.3, 9.8]\n",
    "df = pd.DataFrame(dict(obsids=obsids, imgids=imgids, data=data))\n",
    "df.to_hdf('testdf_no_cats.hdf', 'df',format='t', data_columns=True)\n",
    "df.obsids = df.obsids.astype('category')\n",
    "df.imgids = df.imgids.astype('category')\n",
    "df.to_hdf('testdf_with_cats.hdf', 'df',format='t', data_columns=True)\n",
    "print(\"No categories:\")\n",
    "print(pd.read_hdf('testdf_no_cats.hdf', 'df', where='obsids=B'))\n",
    "print(\"With categories:\")\n",
    "print(pd.read_hdf('testdf_with_cats.hdf', 'df', where='obsids=B'))"
   ]
  },
  {
   "cell_type": "code",
   "execution_count": 10,
   "metadata": {
    "collapsed": false,
    "scrolled": true
   },
   "outputs": [
    {
     "name": "stdout",
     "output_type": "stream",
     "text": [
      "\n",
      "INSTALLED VERSIONS\n",
      "------------------\n",
      "commit: None\n",
      "python: 3.5.1.final.0\n",
      "python-bits: 64\n",
      "OS: Darwin\n",
      "OS-release: 14.5.0\n",
      "machine: x86_64\n",
      "processor: i386\n",
      "byteorder: little\n",
      "LC_ALL: None\n",
      "LANG: en_US.UTF-8\n",
      "\n",
      "pandas: 0.13.1+5155.g9baf452\n",
      "nose: None\n",
      "pip: 8.1.1\n",
      "setuptools: 21.2.1\n",
      "Cython: 0.24\n",
      "numpy: 1.11.0\n",
      "scipy: 0.17.1\n",
      "statsmodels: None\n",
      "xarray: 0.7.2\n",
      "IPython: 4.2.0\n",
      "sphinx: 1.4.1\n",
      "patsy: None\n",
      "dateutil: 2.5.3\n",
      "pytz: 2016.4\n",
      "blosc: None\n",
      "bottleneck: None\n",
      "tables: 3.2.2\n",
      "numexpr: 2.5.2\n",
      "matplotlib: 1.5.1\n",
      "openpyxl: None\n",
      "xlrd: None\n",
      "xlwt: None\n",
      "xlsxwriter: None\n",
      "lxml: None\n",
      "bs4: 4.4.1\n",
      "html5lib: 0.9999999\n",
      "httplib2: None\n",
      "apiclient: None\n",
      "sqlalchemy: None\n",
      "pymysql: None\n",
      "psycopg2: None\n",
      "jinja2: 2.8\n",
      "boto: None\n",
      "pandas_datareader: None\n"
     ]
    }
   ],
   "source": [
    "pd.show_versions()"
   ]
  },
  {
   "cell_type": "code",
   "execution_count": null,
   "metadata": {
    "collapsed": true
   },
   "outputs": [],
   "source": []
  }
 ],
 "metadata": {
  "anaconda-cloud": {},
  "kernelspec": {
   "display_name": "Python [conda env:stable]",
   "language": "python",
   "name": "conda-env-stable-py"
  },
  "language_info": {
   "codemirror_mode": {
    "name": "ipython",
    "version": 3
   },
   "file_extension": ".py",
   "mimetype": "text/x-python",
   "name": "python",
   "nbconvert_exporter": "python",
   "pygments_lexer": "ipython3",
   "version": "3.5.2"
  }
 },
 "nbformat": 4,
 "nbformat_minor": 0
}
