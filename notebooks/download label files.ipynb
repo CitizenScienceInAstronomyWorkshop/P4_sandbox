{
 "cells": [
  {
   "cell_type": "code",
   "execution_count": 1,
   "metadata": {
    "collapsed": false
   },
   "outputs": [],
   "source": [
    "from planet4 import region_data"
   ]
  },
  {
   "cell_type": "code",
   "execution_count": 2,
   "metadata": {
    "collapsed": false
   },
   "outputs": [],
   "source": [
    "from hirise_tools.downloads import get_rdr_color_label, download_RED_product\n",
    "import hirise_tools as ht"
   ]
  },
  {
   "cell_type": "code",
   "execution_count": 3,
   "metadata": {
    "collapsed": false
   },
   "outputs": [
    {
     "data": {
      "text/plain": [
       "['Giza', 'Ithaca', 'Manhattan2']"
      ]
     },
     "execution_count": 3,
     "metadata": {},
     "output_type": "execute_result"
    }
   ],
   "source": [
    "regions = ['Giza', 'Ithaca', 'Manhattan2', 'Inca']\n",
    "regions.remove('Inca')\n",
    "regions"
   ]
  },
  {
   "cell_type": "code",
   "execution_count": 4,
   "metadata": {
    "collapsed": true
   },
   "outputs": [],
   "source": [
    "seasons = ['season2', 'season3']"
   ]
  },
  {
   "cell_type": "code",
   "execution_count": 5,
   "metadata": {
    "collapsed": false
   },
   "outputs": [],
   "source": [
    "from ipyparallel import Client\n",
    "c = Client()\n",
    "lbview = c.load_balanced_view()"
   ]
  },
  {
   "cell_type": "code",
   "execution_count": 6,
   "metadata": {
    "collapsed": false
   },
   "outputs": [],
   "source": [
    "obsid = region_data.Giza.season2[0]"
   ]
  },
  {
   "cell_type": "code",
   "execution_count": 7,
   "metadata": {
    "collapsed": false
   },
   "outputs": [
    {
     "data": {
      "text/plain": [
       "'ESP_011447_0950'"
      ]
     },
     "execution_count": 7,
     "metadata": {},
     "output_type": "execute_result"
    }
   ],
   "source": [
    "obsid"
   ]
  },
  {
   "cell_type": "code",
   "execution_count": 14,
   "metadata": {
    "collapsed": false
   },
   "outputs": [
    {
     "name": "stdout",
     "output_type": "stream",
     "text": [
      "Downloading\n",
      " http://hirise-pds.lpl.arizona.edu/PDS/RDR/ESP/ORB_011400_011499/ESP_011447_0950/ESP_011447_0950_COLOR.LBL to\n",
      " /Users/klay6683/Dropbox/data/hirise/labels/ESP_011447_0950_COLOR.LBL\n"
     ]
    }
   ],
   "source": [
    "get_rdr_color_label(obsid)"
   ]
  },
  {
   "cell_type": "code",
   "execution_count": 9,
   "metadata": {
    "collapsed": false
   },
   "outputs": [
    {
     "data": {
      "text/plain": [
       "PosixPath('/Volumes/Data/hirise/p4_input/ESP_011447_0950_RED4_0.IMG')"
      ]
     },
     "execution_count": 9,
     "metadata": {},
     "output_type": "execute_result"
    }
   ],
   "source": [
    "root = '/Volumes/Data/hirise/p4_input'\n",
    "download_RED_product(obsid, 4, 0, saveroot=root)"
   ]
  },
  {
   "cell_type": "code",
   "execution_count": 10,
   "metadata": {
    "collapsed": false,
    "scrolled": false
   },
   "outputs": [
    {
     "name": "stdout",
     "output_type": "stream",
     "text": [
      "Giza\n",
      "season2\n"
     ]
    },
    {
     "data": {
      "text/plain": [
       "<AsyncMapResult: get_rdr_color_label>"
      ]
     },
     "execution_count": 10,
     "metadata": {},
     "output_type": "execute_result"
    },
    {
     "name": "stdout",
     "output_type": "stream",
     "text": [
      "season3\n"
     ]
    },
    {
     "data": {
      "text/plain": [
       "<AsyncMapResult: get_rdr_color_label>"
      ]
     },
     "execution_count": 10,
     "metadata": {},
     "output_type": "execute_result"
    },
    {
     "name": "stdout",
     "output_type": "stream",
     "text": [
      "Ithaca\n",
      "season2\n"
     ]
    },
    {
     "data": {
      "text/plain": [
       "<AsyncMapResult: get_rdr_color_label>"
      ]
     },
     "execution_count": 10,
     "metadata": {},
     "output_type": "execute_result"
    },
    {
     "name": "stdout",
     "output_type": "stream",
     "text": [
      "season3\n"
     ]
    },
    {
     "data": {
      "text/plain": [
       "<AsyncMapResult: get_rdr_color_label>"
      ]
     },
     "execution_count": 10,
     "metadata": {},
     "output_type": "execute_result"
    },
    {
     "name": "stdout",
     "output_type": "stream",
     "text": [
      "Manhattan2\n",
      "season2\n"
     ]
    },
    {
     "data": {
      "text/plain": [
       "<AsyncMapResult: get_rdr_color_label>"
      ]
     },
     "execution_count": 10,
     "metadata": {},
     "output_type": "execute_result"
    },
    {
     "name": "stdout",
     "output_type": "stream",
     "text": [
      "season3\n"
     ]
    },
    {
     "data": {
      "text/plain": [
       "<AsyncMapResult: get_rdr_color_label>"
      ]
     },
     "execution_count": 10,
     "metadata": {},
     "output_type": "execute_result"
    }
   ],
   "source": [
    "for region in regions:\n",
    "    print(region)\n",
    "    for season in seasons:\n",
    "        print(season)\n",
    "        reg = getattr(region_data, region)\n",
    "        seas = getattr(reg, season)\n",
    "        lbview.map_async(get_rdr_color_label, seas)"
   ]
  },
  {
   "cell_type": "code",
   "execution_count": 12,
   "metadata": {
    "collapsed": true
   },
   "outputs": [],
   "source": [
    "def get_p4_hirise_data(obsid):\n",
    "    from hirise_tools.downloads import download_RED_product\n",
    "    root = '/Volumes/Data/hirise/p4_input'\n",
    "    for ccdno in [4,5]:\n",
    "        for channel in [0, 1]:\n",
    "            download_RED_product(obsid, ccdno, channel, saveroot=root)"
   ]
  },
  {
   "cell_type": "code",
   "execution_count": 13,
   "metadata": {
    "collapsed": false,
    "scrolled": false
   },
   "outputs": [
    {
     "name": "stdout",
     "output_type": "stream",
     "text": [
      "Giza\n",
      "season2\n"
     ]
    },
    {
     "data": {
      "text/plain": [
       "<AsyncMapResult: get_p4_hirise_data>"
      ]
     },
     "execution_count": 13,
     "metadata": {},
     "output_type": "execute_result"
    },
    {
     "name": "stdout",
     "output_type": "stream",
     "text": [
      "season3\n"
     ]
    },
    {
     "data": {
      "text/plain": [
       "<AsyncMapResult: get_p4_hirise_data>"
      ]
     },
     "execution_count": 13,
     "metadata": {},
     "output_type": "execute_result"
    },
    {
     "name": "stdout",
     "output_type": "stream",
     "text": [
      "Ithaca\n",
      "season2\n"
     ]
    },
    {
     "data": {
      "text/plain": [
       "<AsyncMapResult: get_p4_hirise_data>"
      ]
     },
     "execution_count": 13,
     "metadata": {},
     "output_type": "execute_result"
    },
    {
     "name": "stdout",
     "output_type": "stream",
     "text": [
      "season3\n"
     ]
    },
    {
     "data": {
      "text/plain": [
       "<AsyncMapResult: get_p4_hirise_data>"
      ]
     },
     "execution_count": 13,
     "metadata": {},
     "output_type": "execute_result"
    },
    {
     "name": "stdout",
     "output_type": "stream",
     "text": [
      "Manhattan2\n",
      "season2\n"
     ]
    },
    {
     "data": {
      "text/plain": [
       "<AsyncMapResult: get_p4_hirise_data>"
      ]
     },
     "execution_count": 13,
     "metadata": {},
     "output_type": "execute_result"
    },
    {
     "name": "stdout",
     "output_type": "stream",
     "text": [
      "season3\n"
     ]
    },
    {
     "data": {
      "text/plain": [
       "<AsyncMapResult: get_p4_hirise_data>"
      ]
     },
     "execution_count": 13,
     "metadata": {},
     "output_type": "execute_result"
    }
   ],
   "source": [
    "from nbtools import display_multi_progress\n",
    "for region in regions:\n",
    "    print(region)\n",
    "    for season in seasons:\n",
    "        print(season)\n",
    "        reg = getattr(region_data, region)\n",
    "        seas = getattr(reg, season)\n",
    "        lbview.map_async(get_p4_hirise_data, seas)\n",
    "        display_multi_progress?"
   ]
  },
  {
   "cell_type": "code",
   "execution_count": 24,
   "metadata": {
    "collapsed": false,
    "scrolled": false
   },
   "outputs": [
    {
     "name": "stdout",
     "output_type": "stream",
     "text": [
      "Giza\n",
      "season2\n",
      "['ESP_011447_0950', 'ESP_011448_0950', 'ESP_011777_0950', 'ESP_011843_0950', 'ESP_012212_0950', 'ESP_012265_0950', 'ESP_012344_0950', 'ESP_012704_0850', 'ESP_012753_0950', 'ESP_012836_0850', 'ESP_012845_0950']\n",
      "season3\n",
      "['ESP_020150_0950', 'ESP_020401_0950', 'ESP_020480_0950', 'ESP_020783_0950', 'ESP_020902_0950', 'ESP_021482_0950', 'ESP_022273_0950']\n",
      "Ithaca\n",
      "season2\n",
      "['ESP_011350_0945', 'ESP_011351_0945', 'ESP_011403_0945', 'ESP_011404_0945', 'ESP_011931_0945', 'ESP_012063_0945', 'ESP_012076_0945', 'ESP_012643_0945', 'ESP_012854_0945', 'ESP_012858_0855']\n",
      "season3\n",
      "['ESP_020146_0950', 'ESP_020357_0950', 'ESP_020476_0950', 'ESP_020568_0950', 'ESP_020779_0950', 'ESP_021491_0950']\n",
      "Manhattan2\n",
      "season2\n",
      "['ESP_011394_0935', 'ESP_011671_0935', 'ESP_011961_0935', 'ESP_012251_0935', 'ESP_012739_0935', 'ESP_012821_0865', 'ESP_012884_0935', 'ESP_013016_0935', 'ESP_013095_0935']\n",
      "season3\n",
      "['ESP_020202_0935', 'ESP_020214_0935', 'ESP_020255_0935', 'ESP_020321_0935', 'ESP_020519_0935', 'ESP_020532_0935', 'ESP_020598_0935', 'ESP_020888_0935', 'ESP_020954_0935', 'ESP_021455_0935', 'ESP_021468_0935', 'ESP_021495_0935', 'ESP_022260_0935', 'ESP_022339_0935']\n"
     ]
    }
   ],
   "source": [
    "for region in regions:\n",
    "    print(region)\n",
    "    for season in seasons:\n",
    "        print(season)\n",
    "        reg = getattr(region_data, region)\n",
    "        seas = getattr(reg, season)\n",
    "        print(sorted(seas))"
   ]
  },
  {
   "cell_type": "code",
   "execution_count": null,
   "metadata": {
    "collapsed": true
   },
   "outputs": [],
   "source": []
  }
 ],
 "metadata": {
  "kernelspec": {
   "display_name": "Python [conda env:stable]",
   "language": "python",
   "name": "conda-env-stable-py"
  },
  "language_info": {
   "codemirror_mode": {
    "name": "ipython",
    "version": 3
   },
   "file_extension": ".py",
   "mimetype": "text/x-python",
   "name": "python",
   "nbconvert_exporter": "python",
   "pygments_lexer": "ipython3",
   "version": "3.5.2"
  }
 },
 "nbformat": 4,
 "nbformat_minor": 0
}
