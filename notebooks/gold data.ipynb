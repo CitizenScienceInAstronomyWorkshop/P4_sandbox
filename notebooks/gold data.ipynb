{
 "metadata": {
  "name": "",
  "signature": "sha256:85b543864d52f8689533224a5d8a3c099171bbce4616ad8ea89ce8aeb6c12e9d"
 },
 "nbformat": 3,
 "nbformat_minor": 0,
 "worksheets": [
  {
   "cells": [
    {
     "cell_type": "code",
     "collapsed": false,
     "input": [
      "from planet4 import helper_functions, get_data\n",
      "from planet4 import overplot_blotches as ob\n",
      "reload(ob)"
     ],
     "language": "python",
     "metadata": {},
     "outputs": [
      {
       "metadata": {},
       "output_type": "pyout",
       "prompt_number": 2,
       "text": [
        "<module 'planet4.overplot_blotches' from '/u/paige/maye/src/P4_sandbox/planet4/overplot_blotches.pyc'>"
       ]
      }
     ],
     "prompt_number": 2
    },
    {
     "cell_type": "code",
     "collapsed": false,
     "input": [
      "data = pd.read_hdf('/raid1/maye/planet4/2014-06-09_planet_four_classifications_queryable.h5',\n",
      "                   'df',\n",
      "                   where='user_name==michaelaye')"
     ],
     "language": "python",
     "metadata": {},
     "outputs": [],
     "prompt_number": 3
    },
    {
     "cell_type": "code",
     "collapsed": false,
     "input": [
      "data.shape"
     ],
     "language": "python",
     "metadata": {},
     "outputs": [
      {
       "metadata": {},
       "output_type": "pyout",
       "prompt_number": 4,
       "text": [
        "(948, 20)"
       ]
      }
     ],
     "prompt_number": 4
    },
    {
     "cell_type": "code",
     "collapsed": false,
     "input": [
      "blotches = data[data.marking == 'blotch']"
     ],
     "language": "python",
     "metadata": {},
     "outputs": [],
     "prompt_number": 3
    },
    {
     "cell_type": "code",
     "collapsed": false,
     "input": [
      "counts = helper_functions.classification_counts_per_image(blotches)"
     ],
     "language": "python",
     "metadata": {},
     "outputs": [],
     "prompt_number": 5
    },
    {
     "cell_type": "code",
     "collapsed": false,
     "input": [
      "superset_ids = counts[counts > 80].index\n",
      "print(len(superset_ids))\n",
      "superset = data[data.image_id.isin(superset_ids)]"
     ],
     "language": "python",
     "metadata": {},
     "outputs": [
      {
       "output_type": "stream",
       "stream": "stdout",
       "text": [
        "15\n"
       ]
      }
     ],
     "prompt_number": 6
    },
    {
     "cell_type": "code",
     "collapsed": false,
     "input": [
      "for i in range(5,16):\n",
      "    ob.plot_blotches(blotches, superset_ids[i])"
     ],
     "language": "python",
     "metadata": {},
     "outputs": [
      {
       "output_type": "stream",
       "stream": "stdout",
       "text": [
        "Did not find image in cache. Downloading ...\n"
       ]
      },
      {
       "output_type": "stream",
       "stream": "stdout",
       "text": [
        "Done.\n",
        "Found image in cache.\n",
        "Did not find image in cache. Downloading ..."
       ]
      },
      {
       "output_type": "stream",
       "stream": "stdout",
       "text": [
        "\n"
       ]
      },
      {
       "output_type": "stream",
       "stream": "stdout",
       "text": [
        "Done.\n",
        "Found image in cache.\n",
        "Did not find image in cache. Downloading ..."
       ]
      },
      {
       "output_type": "stream",
       "stream": "stdout",
       "text": [
        "\n"
       ]
      },
      {
       "output_type": "stream",
       "stream": "stdout",
       "text": [
        "Done.\n",
        "Found image in cache.\n",
        "Did not find image in cache. Downloading ..."
       ]
      },
      {
       "output_type": "stream",
       "stream": "stdout",
       "text": [
        "\n"
       ]
      },
      {
       "output_type": "stream",
       "stream": "stdout",
       "text": [
        "Done.\n",
        "Found image in cache.\n",
        "Did not find image in cache. Downloading ..."
       ]
      },
      {
       "output_type": "stream",
       "stream": "stdout",
       "text": [
        "\n"
       ]
      },
      {
       "output_type": "stream",
       "stream": "stdout",
       "text": [
        "Done.\n",
        "Found image in cache.\n",
        "Did not find image in cache. Downloading ..."
       ]
      },
      {
       "output_type": "stream",
       "stream": "stdout",
       "text": [
        "\n"
       ]
      },
      {
       "output_type": "stream",
       "stream": "stdout",
       "text": [
        "Done.\n",
        "Found image in cache.\n",
        "Did not find image in cache. Downloading ..."
       ]
      },
      {
       "output_type": "stream",
       "stream": "stdout",
       "text": [
        "\n"
       ]
      },
      {
       "output_type": "stream",
       "stream": "stdout",
       "text": [
        "Done.\n",
        "Found image in cache.\n",
        "Did not find image in cache. Downloading ..."
       ]
      },
      {
       "output_type": "stream",
       "stream": "stdout",
       "text": [
        "\n"
       ]
      },
      {
       "output_type": "stream",
       "stream": "stdout",
       "text": [
        "Done.\n",
        "Found image in cache.\n",
        "Did not find image in cache. Downloading ..."
       ]
      },
      {
       "output_type": "stream",
       "stream": "stdout",
       "text": [
        "\n"
       ]
      },
      {
       "output_type": "stream",
       "stream": "stdout",
       "text": [
        "Done.\n",
        "Found image in cache.\n",
        "Did not find image in cache. Downloading ..."
       ]
      },
      {
       "output_type": "stream",
       "stream": "stdout",
       "text": [
        "\n"
       ]
      },
      {
       "output_type": "stream",
       "stream": "stdout",
       "text": [
        "Done.\n",
        "Found image in cache.\n"
       ]
      },
      {
       "ename": "IndexError",
       "evalue": "index out of bounds",
       "output_type": "pyerr",
       "traceback": [
        "---------------------------------------------------------------------------\nIndexError                                Traceback (most recent call last)",
        "<ipython-input-13-91982179b581> in <module>()\n      1 for i in range(5,16):\n----> 2     ob.plot_blotches(blotches, superset_ids[i])\n",
        "/Users/maye/Library/Enthought/Canopy_64bit/User/lib/python2.7/site-packages/pandas-0.13.1_343_g6efa4c1-py2.7-macosx-10.6-x86_64.egg/pandas/core/index.pyc in __getitem__(self, key)\n    646         __getitem__ = super(Index, self).__getitem__\n    647         if np.isscalar(key):\n--> 648             return __getitem__(key)\n    649 \n    650         if isinstance(key, slice):\n",
        "IndexError: index out of bounds"
       ]
      }
     ],
     "prompt_number": 13
    },
    {
     "cell_type": "code",
     "collapsed": false,
     "input": [
      "to_save = blotches[blotches.image_id.isin(superset_ids)]"
     ],
     "language": "python",
     "metadata": {},
     "outputs": [],
     "prompt_number": 20
    },
    {
     "cell_type": "code",
     "collapsed": false,
     "input": [
      "to_save.to_hdf('data/blotch_data.h5','df')"
     ],
     "language": "python",
     "metadata": {},
     "outputs": [],
     "prompt_number": 22
    },
    {
     "cell_type": "code",
     "collapsed": false,
     "input": [
      "blotches[blotches.image_id.isin(superset_ids)].to_hdf"
     ],
     "language": "python",
     "metadata": {},
     "outputs": []
    },
    {
     "cell_type": "code",
     "collapsed": false,
     "input": [
      "example_data = blotches[blotches.image_id == superset_ids[4]]"
     ],
     "language": "python",
     "metadata": {},
     "outputs": [],
     "prompt_number": 11
    },
    {
     "cell_type": "code",
     "collapsed": false,
     "input": [
      "superset_ids[4]"
     ],
     "language": "python",
     "metadata": {},
     "outputs": [
      {
       "metadata": {},
       "output_type": "pyout",
       "prompt_number": 14,
       "text": [
        "'APF00001ow'"
       ]
      }
     ],
     "prompt_number": 14
    },
    {
     "cell_type": "code",
     "collapsed": false,
     "input": [
      "example_data.to_hdf('data/APF00001ow.h5','df')"
     ],
     "language": "python",
     "metadata": {},
     "outputs": [],
     "prompt_number": 17
    },
    {
     "cell_type": "code",
     "collapsed": false,
     "input": [
      "!mkdir data"
     ],
     "language": "python",
     "metadata": {},
     "outputs": [],
     "prompt_number": 16
    },
    {
     "cell_type": "code",
     "collapsed": false,
     "input": [
      "img_id = superset_ids[4]\n",
      "print(img_id)\n",
      "ob.plot_blotches(data[data.image_id == img_id], img_id)"
     ],
     "language": "python",
     "metadata": {},
     "outputs": [
      {
       "output_type": "stream",
       "stream": "stdout",
       "text": [
        "APF00001ow\n",
        "Did not find image in cache. Downloading ..."
       ]
      },
      {
       "output_type": "stream",
       "stream": "stdout",
       "text": [
        "\n"
       ]
      }
     ]
    },
    {
     "cell_type": "code",
     "collapsed": false,
     "input": [
      "cols = blotches['x y radius_1 radius_2'.split()]"
     ],
     "language": "python",
     "metadata": {},
     "outputs": [],
     "prompt_number": 12
    },
    {
     "cell_type": "code",
     "collapsed": false,
     "input": [
      "pd.scatter_matrix(cols, diagonal='kde')"
     ],
     "language": "python",
     "metadata": {},
     "outputs": [
      {
       "metadata": {},
       "output_type": "pyout",
       "prompt_number": 15,
       "text": [
        "array([[<matplotlib.axes.AxesSubplot object at 0x115a6ed50>,\n",
        "        <matplotlib.axes.AxesSubplot object at 0x12bd28390>,\n",
        "        <matplotlib.axes.AxesSubplot object at 0x12b8a2350>,\n",
        "        <matplotlib.axes.AxesSubplot object at 0x12b8bd9d0>],\n",
        "       [<matplotlib.axes.AxesSubplot object at 0x12b0eb050>,\n",
        "        <matplotlib.axes.AxesSubplot object at 0x12bd3fc50>,\n",
        "        <matplotlib.axes.AxesSubplot object at 0x12bd5ec90>,\n",
        "        <matplotlib.axes.AxesSubplot object at 0x12b8fb150>],\n",
        "       [<matplotlib.axes.AxesSubplot object at 0x12bd48210>,\n",
        "        <matplotlib.axes.AxesSubplot object at 0x12b84c290>,\n",
        "        <matplotlib.axes.AxesSubplot object at 0x12b8177d0>,\n",
        "        <matplotlib.axes.AxesSubplot object at 0x12b83b250>],\n",
        "       [<matplotlib.axes.AxesSubplot object at 0x1288ebc90>,\n",
        "        <matplotlib.axes.AxesSubplot object at 0x1288d46d0>,\n",
        "        <matplotlib.axes.AxesSubplot object at 0x12bfda1d0>,\n",
        "        <matplotlib.axes.AxesSubplot object at 0x1270cc490>]], dtype=object)"
       ]
      }
     ],
     "prompt_number": 15
    },
    {
     "cell_type": "code",
     "collapsed": false,
     "input": [],
     "language": "python",
     "metadata": {},
     "outputs": []
    }
   ],
   "metadata": {}
  }
 ]
}