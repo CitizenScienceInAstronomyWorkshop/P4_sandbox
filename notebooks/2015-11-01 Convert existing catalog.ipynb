{
 "cells": [
  {
   "cell_type": "code",
   "execution_count": 1,
   "metadata": {
    "collapsed": false
   },
   "outputs": [
    {
     "name": "stdout",
     "output_type": "stream",
     "text": [
      "/Users/klay6683/Dropbox/data/planet4/season23_catalog\n"
     ]
    }
   ],
   "source": [
    "cd ~/Dropbox/data/planet4/season23_catalog/"
   ]
  },
  {
   "cell_type": "markdown",
   "metadata": {},
   "source": [
    "# Preparation of `store` method."
   ]
  },
  {
   "cell_type": "code",
   "execution_count": 3,
   "metadata": {
    "collapsed": false
   },
   "outputs": [],
   "source": [
    "blotch_fnames = !ls *_blotches.csv"
   ]
  },
  {
   "cell_type": "code",
   "execution_count": 6,
   "metadata": {
    "collapsed": false
   },
   "outputs": [],
   "source": [
    "blotches = pd.read_csv(blotch_fnames[0], index_col=0)"
   ]
  },
  {
   "cell_type": "code",
   "execution_count": 8,
   "metadata": {
    "collapsed": true
   },
   "outputs": [],
   "source": [
    "from planet4 import markings"
   ]
  },
  {
   "cell_type": "code",
   "execution_count": 60,
   "metadata": {
    "collapsed": false
   },
   "outputs": [],
   "source": [
    "blotch = markings.Blotch(blotches.iloc[0])"
   ]
  },
  {
   "cell_type": "code",
   "execution_count": 61,
   "metadata": {
    "collapsed": false
   },
   "outputs": [
    {
     "data": {
      "text/plain": [
       "image_x      696.900000\n",
       "image_y     7205.600000\n",
       "angle         40.524806\n",
       "radius_1      28.788229\n",
       "radius_2      19.301067\n",
       "x            696.900000\n",
       "y           7205.600000\n",
       "Name: 0, dtype: float64"
      ]
     },
     "execution_count": 61,
     "metadata": {},
     "output_type": "execute_result"
    }
   ],
   "source": [
    "blotch"
   ]
  },
  {
   "cell_type": "code",
   "execution_count": 13,
   "metadata": {
    "collapsed": true
   },
   "outputs": [],
   "source": [
    "fan_fnames = !ls *_fans.csv"
   ]
  },
  {
   "cell_type": "code",
   "execution_count": 15,
   "metadata": {
    "collapsed": false
   },
   "outputs": [
    {
     "data": {
      "text/html": [
       "<div>\n",
       "<table border=\"1\" class=\"dataframe\">\n",
       "  <thead>\n",
       "    <tr style=\"text-align: right;\">\n",
       "      <th></th>\n",
       "      <th>image_x</th>\n",
       "      <th>image_y</th>\n",
       "      <th>angle</th>\n",
       "      <th>spread</th>\n",
       "      <th>distance</th>\n",
       "      <th>x</th>\n",
       "      <th>y</th>\n",
       "    </tr>\n",
       "  </thead>\n",
       "  <tbody>\n",
       "    <tr>\n",
       "      <th>0</th>\n",
       "      <td>819.928571</td>\n",
       "      <td>26343.142857</td>\n",
       "      <td>-134.688855</td>\n",
       "      <td>73.359822</td>\n",
       "      <td>28.332163</td>\n",
       "      <td>819.928571</td>\n",
       "      <td>26343.142857</td>\n",
       "    </tr>\n",
       "    <tr>\n",
       "      <th>1</th>\n",
       "      <td>831.333333</td>\n",
       "      <td>26303.500000</td>\n",
       "      <td>-147.097561</td>\n",
       "      <td>82.712179</td>\n",
       "      <td>30.092176</td>\n",
       "      <td>831.333333</td>\n",
       "      <td>26303.500000</td>\n",
       "    </tr>\n",
       "    <tr>\n",
       "      <th>2</th>\n",
       "      <td>728.142857</td>\n",
       "      <td>26360.071429</td>\n",
       "      <td>-109.337855</td>\n",
       "      <td>35.886234</td>\n",
       "      <td>28.033009</td>\n",
       "      <td>728.142857</td>\n",
       "      <td>26360.071429</td>\n",
       "    </tr>\n",
       "    <tr>\n",
       "      <th>3</th>\n",
       "      <td>651.714286</td>\n",
       "      <td>26279.142857</td>\n",
       "      <td>-156.793549</td>\n",
       "      <td>48.518442</td>\n",
       "      <td>30.253778</td>\n",
       "      <td>651.714286</td>\n",
       "      <td>26279.142857</td>\n",
       "    </tr>\n",
       "    <tr>\n",
       "      <th>4</th>\n",
       "      <td>629.409091</td>\n",
       "      <td>26293.272727</td>\n",
       "      <td>-124.039297</td>\n",
       "      <td>59.234091</td>\n",
       "      <td>37.860576</td>\n",
       "      <td>629.409091</td>\n",
       "      <td>26293.272727</td>\n",
       "    </tr>\n",
       "  </tbody>\n",
       "</table>\n",
       "</div>"
      ],
      "text/plain": [
       "      image_x       image_y       angle     spread   distance           x  \\\n",
       "0  819.928571  26343.142857 -134.688855  73.359822  28.332163  819.928571   \n",
       "1  831.333333  26303.500000 -147.097561  82.712179  30.092176  831.333333   \n",
       "2  728.142857  26360.071429 -109.337855  35.886234  28.033009  728.142857   \n",
       "3  651.714286  26279.142857 -156.793549  48.518442  30.253778  651.714286   \n",
       "4  629.409091  26293.272727 -124.039297  59.234091  37.860576  629.409091   \n",
       "\n",
       "              y  \n",
       "0  26343.142857  \n",
       "1  26303.500000  \n",
       "2  26360.071429  \n",
       "3  26279.142857  \n",
       "4  26293.272727  "
      ]
     },
     "execution_count": 15,
     "metadata": {},
     "output_type": "execute_result"
    }
   ],
   "source": [
    "fans = pd.read_csv(fan_fnames[0], index_col=0)\n",
    "fans.head()"
   ]
  },
  {
   "cell_type": "code",
   "execution_count": 29,
   "metadata": {
    "collapsed": true
   },
   "outputs": [],
   "source": [
    "fan = markings.Fan(fans.iloc[0])"
   ]
  },
  {
   "cell_type": "code",
   "execution_count": 30,
   "metadata": {
    "collapsed": false
   },
   "outputs": [
    {
     "data": {
      "text/plain": [
       "array([[   799.9109122 ,  26340.10430784],\n",
       "       [   819.92857143,  26343.14285714],\n",
       "       [   817.10760917,  26323.09337748]])"
      ]
     },
     "execution_count": 30,
     "metadata": {},
     "output_type": "execute_result"
    }
   ],
   "source": [
    "fan.coords"
   ]
  },
  {
   "cell_type": "code",
   "execution_count": 31,
   "metadata": {
    "collapsed": false
   },
   "outputs": [
    {
     "data": {
      "text/plain": [
       "base: [   819.92857143  26343.14285714]\n",
       "length: 20.246961815446333\n",
       "arm1: [   799.9109122   26340.10430784]\n",
       "arm2: [   817.10760917  26323.09337748]"
      ]
     },
     "execution_count": 31,
     "metadata": {},
     "output_type": "execute_result"
    }
   ],
   "source": [
    "fan"
   ]
  },
  {
   "cell_type": "code",
   "execution_count": 32,
   "metadata": {
    "collapsed": false
   },
   "outputs": [
    {
     "data": {
      "text/plain": [
       "image_x       819.928571\n",
       "image_y     26343.142857\n",
       "angle        -134.688855\n",
       "spread         73.359822\n",
       "distance       28.332163\n",
       "x             819.928571\n",
       "y           26343.142857\n",
       "Name: 0, dtype: float64"
      ]
     },
     "execution_count": 32,
     "metadata": {},
     "output_type": "execute_result"
    }
   ],
   "source": [
    "fan.data"
   ]
  },
  {
   "cell_type": "code",
   "execution_count": 35,
   "metadata": {
    "collapsed": false
   },
   "outputs": [
    {
     "data": {
      "text/plain": [
       "image_x     819.929\n",
       "image_y     26343.1\n",
       "angle      -134.689\n",
       "spread      73.3598\n",
       "distance    28.3322\n",
       "x           819.929\n",
       "y           26343.1\n",
       "arm1_x      799.911\n",
       "arm1_y      26340.1\n",
       "arm2_x      817.108\n",
       "arm2_y      26323.1\n",
       "Name: 0, dtype: object"
      ]
     },
     "execution_count": 35,
     "metadata": {},
     "output_type": "execute_result"
    }
   ],
   "source": [
    "fan.store()"
   ]
  },
  {
   "cell_type": "code",
   "execution_count": 37,
   "metadata": {
    "collapsed": true
   },
   "outputs": [],
   "source": [
    "fnotch_fnames = !ls *_fnotches.csv"
   ]
  },
  {
   "cell_type": "code",
   "execution_count": 38,
   "metadata": {
    "collapsed": true
   },
   "outputs": [],
   "source": [
    "fnotches = pd.read_csv(fnotch_fnames[0], index_col=0)"
   ]
  },
  {
   "cell_type": "code",
   "execution_count": 76,
   "metadata": {
    "collapsed": false
   },
   "outputs": [],
   "source": [
    "fnotch = markings.Fnotch.from_dataframe(fnotches.iloc[0])"
   ]
  },
  {
   "cell_type": "code",
   "execution_count": 72,
   "metadata": {
    "collapsed": false
   },
   "outputs": [
    {
     "data": {
      "text/plain": [
       "Fnotch value: 0.43\n",
       "\n",
       "Fan:\n",
       "fan_image_x      612.763510\n",
       "fan_image_y     7189.901442\n",
       "fan_angle       -158.530541\n",
       "fan_spread        65.184955\n",
       "fan_distance      36.362188\n",
       "fan_x            612.763510\n",
       "fan_y           7189.901442\n",
       "Name: 0, dtype: float64\n",
       "\n",
       "Blotch:\n",
       "blotch_image_x      596.160853\n",
       "blotch_image_y     7183.073644\n",
       "blotch_angle        -10.946682\n",
       "blotch_radius_1      19.322250\n",
       "blotch_radius_2      15.003017\n",
       "blotch_x            596.160853\n",
       "blotch_y           7183.073644\n",
       "Name: 0, dtype: float64"
      ]
     },
     "execution_count": 72,
     "metadata": {},
     "output_type": "execute_result"
    }
   ],
   "source": [
    "fnotch"
   ]
  },
  {
   "cell_type": "code",
   "execution_count": 41,
   "metadata": {
    "collapsed": false
   },
   "outputs": [],
   "source": [
    "s = fnotches.iloc[0]"
   ]
  },
  {
   "cell_type": "code",
   "execution_count": 43,
   "metadata": {
    "collapsed": false
   },
   "outputs": [],
   "source": [
    "fnotchfan = s.filter(regex='fan_')"
   ]
  },
  {
   "cell_type": "code",
   "execution_count": 44,
   "metadata": {
    "collapsed": false
   },
   "outputs": [
    {
     "data": {
      "text/plain": [
       "image_x      612.763510\n",
       "image_y     7189.901442\n",
       "angle       -158.530541\n",
       "spread        65.184955\n",
       "distance      36.362188\n",
       "x            612.763510\n",
       "y           7189.901442\n",
       "Name: 0, dtype: float64"
      ]
     },
     "execution_count": 44,
     "metadata": {},
     "output_type": "execute_result"
    }
   ],
   "source": [
    "fnotchfan.rename(lambda x: x[4:])"
   ]
  },
  {
   "cell_type": "code",
   "execution_count": 77,
   "metadata": {
    "collapsed": false
   },
   "outputs": [
    {
     "ename": "AttributeError",
     "evalue": "'Fnotch' object has no attribute 'data'",
     "output_type": "error",
     "traceback": [
      "\u001b[0;31m---------------------------------------------------------------------------\u001b[0m",
      "\u001b[0;31mAttributeError\u001b[0m                            Traceback (most recent call last)",
      "\u001b[0;32m<ipython-input-77-d3495f097d43>\u001b[0m in \u001b[0;36m<module>\u001b[0;34m()\u001b[0m\n\u001b[0;32m----> 1\u001b[0;31m \u001b[0mfnotch\u001b[0m\u001b[0;34m.\u001b[0m\u001b[0mdata\u001b[0m\u001b[0;34m\u001b[0m\u001b[0m\n\u001b[0m",
      "\u001b[0;31mAttributeError\u001b[0m: 'Fnotch' object has no attribute 'data'"
     ]
    }
   ],
   "source": [
    "fnotch.data"
   ]
  },
  {
   "cell_type": "code",
   "execution_count": 78,
   "metadata": {
    "collapsed": false
   },
   "outputs": [
    {
     "data": {
      "text/plain": [
       "fan_image_x         612.763510\n",
       "fan_image_y        7189.901442\n",
       "fan_angle          -158.530541\n",
       "fan_spread           65.184955\n",
       "fan_distance         36.362188\n",
       "fan_x               612.763510\n",
       "fan_y              7189.901442\n",
       "fan_arm1_x          586.931216\n",
       "fan_arm1_y         7194.980315\n",
       "fan_arm2_x          597.312016\n",
       "fan_arm2_y         7168.585868\n",
       "blotch_image_x      596.160853\n",
       "blotch_image_y     7183.073644\n",
       "blotch_angle        -10.946682\n",
       "blotch_radius_1      19.322250\n",
       "blotch_radius_2      15.003017\n",
       "blotch_x            596.160853\n",
       "blotch_y           7183.073644\n",
       "blotch_p1_x         615.131522\n",
       "blotch_p1_y        7202.372804\n",
       "blotch_p2_x         577.190184\n",
       "blotch_p2_y        7163.774483\n",
       "blotch_p3_x         599.009857\n",
       "blotch_p3_y        7197.803671\n",
       "blotch_p4_x         593.311848\n",
       "blotch_p4_y        7168.343616\n",
       "fnotch_value          0.426667\n",
       "Name: 0, dtype: float64"
      ]
     },
     "execution_count": 78,
     "metadata": {},
     "output_type": "execute_result"
    }
   ],
   "source": [
    "fnotch.store()"
   ]
  },
  {
   "cell_type": "code",
   "execution_count": 80,
   "metadata": {
    "collapsed": false
   },
   "outputs": [
    {
     "data": {
      "text/plain": [
       "fan_image_x        612.763510\n",
       "fan_image_y       7189.901442\n",
       "fan_x              612.763510\n",
       "fan_y             7189.901442\n",
       "fan_arm1_x         586.931216\n",
       "fan_arm1_y        7194.980315\n",
       "fan_arm2_x         597.312016\n",
       "fan_arm2_y        7168.585868\n",
       "blotch_image_x     596.160853\n",
       "blotch_image_y    7183.073644\n",
       "blotch_x           596.160853\n",
       "blotch_y          7183.073644\n",
       "blotch_p1_x        615.131522\n",
       "blotch_p1_y       7202.372804\n",
       "blotch_p2_x        577.190184\n",
       "blotch_p2_y       7163.774483\n",
       "blotch_p3_x        599.009857\n",
       "blotch_p3_y       7197.803671\n",
       "blotch_p4_x        593.311848\n",
       "blotch_p4_y       7168.343616\n",
       "Name: 0, dtype: float64"
      ]
     },
     "execution_count": 80,
     "metadata": {},
     "output_type": "execute_result"
    }
   ],
   "source": [
    "fnotch.store().filter(regex='_[x,y]')"
   ]
  },
  {
   "cell_type": "markdown",
   "metadata": {},
   "source": [
    "# Loop over files and store in new folder"
   ]
  },
  {
   "cell_type": "code",
   "execution_count": 1,
   "metadata": {
    "collapsed": false
   },
   "outputs": [],
   "source": [
    "from pathlib import Path\n",
    "old_root = Path('/Users/klay6683/Dropbox/data/planet4/season23_catalog')"
   ]
  },
  {
   "cell_type": "code",
   "execution_count": 2,
   "metadata": {
    "collapsed": false
   },
   "outputs": [
    {
     "data": {
      "text/plain": [
       "PosixPath('/Users/klay6683/Dropbox/data/planet4/season23_catalog')"
      ]
     },
     "execution_count": 2,
     "metadata": {},
     "output_type": "execute_result"
    }
   ],
   "source": [
    "old_root"
   ]
  },
  {
   "cell_type": "code",
   "execution_count": 33,
   "metadata": {
    "collapsed": false
   },
   "outputs": [],
   "source": [
    "blotch_fnames = list(old_root.glob('*_fnotches.csv'))"
   ]
  },
  {
   "cell_type": "code",
   "execution_count": 4,
   "metadata": {
    "collapsed": true
   },
   "outputs": [],
   "source": [
    "newfolder = old_root.parent / 'season2_3_expanded'"
   ]
  },
  {
   "cell_type": "code",
   "execution_count": 10,
   "metadata": {
    "collapsed": true
   },
   "outputs": [],
   "source": [
    "def get_store(data, cls):\n",
    "    marking = cls(data)\n",
    "    return marking.store()"
   ]
  },
  {
   "cell_type": "code",
   "execution_count": 38,
   "metadata": {
    "collapsed": false
   },
   "outputs": [],
   "source": [
    "def process_blotches(blotches_fname):\n",
    "    from planet4 import markings\n",
    "    from pathlib import Path\n",
    "    p = Path(blotches_fname)\n",
    "    newp = newfolder / p.with_suffix('.hdf').name\n",
    "    blotches = pd.read_csv(p.absolute(), index_col=0)\n",
    "    newdata = blotches.apply(axis='columns', func=get_store,\n",
    "                             args=(markings.Fnotch.from_dataframe,))\n",
    "    newdata.to_hdf(str(newp), 'df')\n",
    "    return newp.name"
   ]
  },
  {
   "cell_type": "code",
   "execution_count": 39,
   "metadata": {
    "collapsed": false
   },
   "outputs": [
    {
     "data": {
      "text/plain": [
       "'ESP_011296_0975_fnotches.hdf'"
      ]
     },
     "execution_count": 39,
     "metadata": {},
     "output_type": "execute_result"
    }
   ],
   "source": [
    "df = process_blotches(list(blotch_fnames)[0])\n",
    "df"
   ]
  },
  {
   "cell_type": "code",
   "execution_count": 13,
   "metadata": {
    "collapsed": true
   },
   "outputs": [],
   "source": [
    "from ipyparallel import Client"
   ]
  },
  {
   "cell_type": "code",
   "execution_count": 40,
   "metadata": {
    "collapsed": false
   },
   "outputs": [],
   "source": [
    "c = Client()"
   ]
  },
  {
   "cell_type": "code",
   "execution_count": 41,
   "metadata": {
    "collapsed": false
   },
   "outputs": [],
   "source": [
    "lbview = c.load_balanced_view()"
   ]
  },
  {
   "cell_type": "code",
   "execution_count": 42,
   "metadata": {
    "collapsed": true
   },
   "outputs": [],
   "source": [
    "results = lbview.map_async(process_blotches, blotch_fnames)"
   ]
  },
  {
   "cell_type": "code",
   "execution_count": 43,
   "metadata": {
    "collapsed": true
   },
   "outputs": [],
   "source": [
    "from iuvs.multitools import nb_progress_display"
   ]
  },
  {
   "cell_type": "code",
   "execution_count": 44,
   "metadata": {
    "collapsed": false
   },
   "outputs": [],
   "source": [
    "nb_progress_display(results, blotch_fnames)"
   ]
  },
  {
   "cell_type": "code",
   "execution_count": 45,
   "metadata": {
    "collapsed": false
   },
   "outputs": [
    {
     "name": "stdout",
     "output_type": "stream",
     "text": [
      "<class 'pandas.core.frame.DataFrame'>\n",
      "Int64Index: 221 entries, 0 to 220\n",
      "Data columns (total 1 columns):\n",
      "0    221 non-null object\n",
      "dtypes: object(1)\n",
      "memory usage: 3.5+ KB\n"
     ]
    }
   ],
   "source": [
    "pd.DataFrame(results.result).info()"
   ]
  },
  {
   "cell_type": "code",
   "execution_count": null,
   "metadata": {
    "collapsed": true
   },
   "outputs": [],
   "source": []
  }
 ],
 "metadata": {
  "kernelspec": {
   "display_name": "Python 3",
   "language": "python",
   "name": "python3"
  },
  "language_info": {
   "codemirror_mode": {
    "name": "ipython",
    "version": 3
   },
   "file_extension": ".py",
   "mimetype": "text/x-python",
   "name": "python",
   "nbconvert_exporter": "python",
   "pygments_lexer": "ipython3",
   "version": "3.5.0"
  }
 },
 "nbformat": 4,
 "nbformat_minor": 0
}
