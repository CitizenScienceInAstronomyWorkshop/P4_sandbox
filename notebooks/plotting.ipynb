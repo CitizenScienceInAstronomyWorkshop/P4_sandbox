{
 "cells": [
  {
   "cell_type": "markdown",
   "metadata": {
    "toc": "true"
   },
   "source": [
    "# Table of Contents\n",
    " <p>"
   ]
  },
  {
   "cell_type": "code",
   "execution_count": 1,
   "metadata": {
    "ExecuteTime": {
     "end_time": "2017-07-18T01:53:23.294074Z",
     "start_time": "2017-07-18T01:53:21.152808Z"
    }
   },
   "outputs": [],
   "source": [
    "from planet4.plotting import plot_image_id_pipeline"
   ]
  },
  {
   "cell_type": "code",
   "execution_count": 2,
   "metadata": {
    "ExecuteTime": {
     "end_time": "2017-07-18T01:53:28.093280Z",
     "start_time": "2017-07-18T01:53:28.055244Z"
    }
   },
   "outputs": [],
   "source": [
    "%store -r"
   ]
  },
  {
   "cell_type": "code",
   "execution_count": 4,
   "metadata": {
    "ExecuteTime": {
     "end_time": "2017-07-18T01:53:44.332475Z",
     "start_time": "2017-07-18T01:53:44.289728Z"
    }
   },
   "outputs": [],
   "source": [
    "ids = combined  # coming in from the %store"
   ]
  },
  {
   "cell_type": "code",
   "execution_count": 3,
   "metadata": {
    "ExecuteTime": {
     "end_time": "2017-07-03T16:40:18.421105Z",
     "start_time": "2017-07-03T16:40:18.309037Z"
    },
    "collapsed": true,
    "editable": false,
    "run_control": {
     "frozen": true
    }
   },
   "outputs": [],
   "source": [
    "%matplotlib nbagg\n",
    "import seaborn as sns\n",
    "sns.set_context('notebook')"
   ]
  },
  {
   "cell_type": "code",
   "execution_count": 9,
   "metadata": {
    "ExecuteTime": {
     "end_time": "2017-07-05T02:35:53.538367Z",
     "start_time": "2017-07-05T02:35:53.492583Z"
    },
    "collapsed": true
   },
   "outputs": [],
   "source": [
    "from nbtools.logging import setup_live_logging\n",
    "import logging\n",
    "logger = setup_live_logging('planet4.plotting', logging.DEBUG)"
   ]
  },
  {
   "cell_type": "code",
   "execution_count": 14,
   "metadata": {
    "ExecuteTime": {
     "end_time": "2017-07-18T03:20:04.436757Z",
     "start_time": "2017-07-18T03:20:03.585988Z"
    }
   },
   "outputs": [],
   "source": [
    "dir_ = 'without_large_fan_fnotch_on_p4_coords'"
   ]
  },
  {
   "cell_type": "code",
   "execution_count": 15,
   "metadata": {
    "ExecuteTime": {
     "end_time": "2017-07-18T03:20:04.505726Z",
     "start_time": "2017-07-18T03:20:04.443690Z"
    }
   },
   "outputs": [],
   "source": [
    "kwargs = dict(datapath=dir_,\n",
    "              saveroot='plots/'+dir_,\n",
    "              savetitle='withLarge_hirise_coords',\n",
    "              save=True)"
   ]
  },
  {
   "cell_type": "code",
   "execution_count": 16,
   "metadata": {
    "ExecuteTime": {
     "end_time": "2017-07-18T03:27:46.463271Z",
     "start_time": "2017-07-18T03:20:04.573438Z"
    },
    "scrolled": false
   },
   "outputs": [
    {
     "name": "stdout",
     "output_type": "stream",
     "text": [
      "br5\n",
      "bu5\n",
      "ek1\n",
      "pbr\n",
      "1dt\n",
      "Clustered/reduced fanfile not found\n"
     ]
    },
    {
     "name": "stderr",
     "output_type": "stream",
     "text": [
      "WARNING:planet4.plotting:Some files not found.\n"
     ]
    },
    {
     "name": "stdout",
     "output_type": "stream",
     "text": [
      "1dr\n",
      "1fe\n",
      "dch\n"
     ]
    },
    {
     "name": "stderr",
     "output_type": "stream",
     "text": [
      "WARNING:planet4.plotting:Some files not found.\n"
     ]
    },
    {
     "name": "stdout",
     "output_type": "stream",
     "text": [
      "Clustered blotchfile not found\n",
      "bvc\n",
      "1c5\n"
     ]
    },
    {
     "name": "stderr",
     "output_type": "stream",
     "text": [
      "WARNING:planet4.plotting:Some files not found.\n"
     ]
    },
    {
     "name": "stdout",
     "output_type": "stream",
     "text": [
      "1ab\n",
      "Clustered/reduced fanfile not found\n"
     ]
    },
    {
     "name": "stderr",
     "output_type": "stream",
     "text": [
      "WARNING:planet4.plotting:Some files not found.\n"
     ]
    },
    {
     "name": "stdout",
     "output_type": "stream",
     "text": [
      "1dk\n",
      "18s\n",
      "1b0\n"
     ]
    },
    {
     "name": "stderr",
     "output_type": "stream",
     "text": [
      "WARNING:planet4.plotting:Some files not found.\n"
     ]
    },
    {
     "name": "stdout",
     "output_type": "stream",
     "text": [
      "1cl\n",
      "1ct\n",
      "1at\n",
      "1al\n",
      "1aa\n"
     ]
    },
    {
     "name": "stderr",
     "output_type": "stream",
     "text": [
      "WARNING:planet4.plotting:Some files not found.\n"
     ]
    },
    {
     "name": "stdout",
     "output_type": "stream",
     "text": [
      "10p\n"
     ]
    },
    {
     "name": "stderr",
     "output_type": "stream",
     "text": [
      "WARNING:planet4.plotting:Some files not found.\n"
     ]
    },
    {
     "name": "stdout",
     "output_type": "stream",
     "text": [
      "185\n",
      "139\n",
      "13t\n",
      "15k\n",
      "17a\n",
      "APF0000aba\n",
      "APF0000324\n",
      "APF0000995\n",
      "APF0000okx\n",
      "Clustered/reduced fanfile not found\n",
      "Clustered blotchfile not found\n"
     ]
    },
    {
     "name": "stderr",
     "output_type": "stream",
     "text": [
      "WARNING:planet4.plotting:Some files not found.\n"
     ]
    },
    {
     "name": "stdout",
     "output_type": "stream",
     "text": [
      "APF00004om\n"
     ]
    },
    {
     "name": "stderr",
     "output_type": "stream",
     "text": [
      "WARNING:planet4.plotting:Some files not found.\n"
     ]
    },
    {
     "name": "stdout",
     "output_type": "stream",
     "text": [
      "Clustered/reduced fanfile not found\n",
      "Clustered blotchfile not found\n",
      "APF00009g9\n",
      "APF00005cu\n"
     ]
    },
    {
     "name": "stderr",
     "output_type": "stream",
     "text": [
      "WARNING:planet4.plotting:Some files not found.\n"
     ]
    },
    {
     "name": "stdout",
     "output_type": "stream",
     "text": [
      "Clustered/reduced fanfile not found\n",
      "Clustered blotchfile not found\n",
      "APF0000pbr\n",
      "APF00008sn\n",
      "Clustered/reduced fanfile not found\n"
     ]
    },
    {
     "name": "stderr",
     "output_type": "stream",
     "text": [
      "WARNING:planet4.plotting:Some files not found.\n"
     ]
    },
    {
     "name": "stdout",
     "output_type": "stream",
     "text": [
      "APF0000r32\n"
     ]
    },
    {
     "name": "stderr",
     "output_type": "stream",
     "text": [
      "WARNING:planet4.plotting:Some files not found.\n"
     ]
    },
    {
     "name": "stdout",
     "output_type": "stream",
     "text": [
      "Clustered/reduced fanfile not found\n",
      "Clustered blotchfile not found\n",
      "APF0000uvw\n",
      "Clustered/reduced fanfile not found\n",
      "Clustered blotchfile not found\n"
     ]
    },
    {
     "name": "stderr",
     "output_type": "stream",
     "text": [
      "WARNING:planet4.plotting:Some files not found.\n"
     ]
    },
    {
     "name": "stdout",
     "output_type": "stream",
     "text": [
      "APF0000pfe\n",
      "APF00009uv\n",
      "APF0000c5a\n",
      "Clustered/reduced fanfile not found\n"
     ]
    },
    {
     "name": "stderr",
     "output_type": "stream",
     "text": [
      "WARNING:planet4.plotting:Some files not found.\n"
     ]
    },
    {
     "name": "stdout",
     "output_type": "stream",
     "text": [
      "APF0000m13\n",
      "Clustered/reduced fanfile not found\n"
     ]
    },
    {
     "name": "stderr",
     "output_type": "stream",
     "text": [
      "WARNING:planet4.plotting:Some files not found.\n"
     ]
    },
    {
     "name": "stdout",
     "output_type": "stream",
     "text": [
      "APF0000nvh\n",
      "APF00005ys\n",
      "APF00000nq\n",
      "APF0000635\n",
      "Clustered/reduced fanfile not found\n"
     ]
    },
    {
     "name": "stderr",
     "output_type": "stream",
     "text": [
      "WARNING:planet4.plotting:Some files not found.\n"
     ]
    },
    {
     "name": "stdout",
     "output_type": "stream",
     "text": [
      "APF0000296\n",
      "APF0000dzi\n",
      "APF0000qr0\n"
     ]
    },
    {
     "name": "stderr",
     "output_type": "stream",
     "text": [
      "WARNING:planet4.plotting:Some files not found.\n"
     ]
    },
    {
     "name": "stdout",
     "output_type": "stream",
     "text": [
      "Clustered blotchfile not found\n",
      "APF0000crx\n",
      "Clustered/reduced fanfile not found\n",
      "Clustered blotchfile not found\n"
     ]
    },
    {
     "name": "stderr",
     "output_type": "stream",
     "text": [
      "WARNING:planet4.plotting:Some files not found.\n"
     ]
    },
    {
     "name": "stdout",
     "output_type": "stream",
     "text": [
      "APF0000o3h\n",
      "Clustered/reduced fanfile not found\n"
     ]
    },
    {
     "name": "stderr",
     "output_type": "stream",
     "text": [
      "WARNING:planet4.plotting:Some files not found.\n"
     ]
    },
    {
     "name": "stdout",
     "output_type": "stream",
     "text": [
      "APF0000prz\n",
      "APF00009fj\n"
     ]
    },
    {
     "name": "stderr",
     "output_type": "stream",
     "text": [
      "WARNING:planet4.plotting:Some files not found.\n"
     ]
    },
    {
     "name": "stdout",
     "output_type": "stream",
     "text": [
      "APF00002vk\n"
     ]
    },
    {
     "name": "stderr",
     "output_type": "stream",
     "text": [
      "WARNING:planet4.plotting:Some files not found.\n"
     ]
    },
    {
     "name": "stdout",
     "output_type": "stream",
     "text": [
      "Clustered/reduced fanfile not found\n",
      "Clustered blotchfile not found\n",
      "APF00009ow\n",
      "APF0000jqk\n",
      "Clustered/reduced fanfile not found\n"
     ]
    },
    {
     "name": "stderr",
     "output_type": "stream",
     "text": [
      "WARNING:planet4.plotting:Some files not found.\n"
     ]
    },
    {
     "name": "stdout",
     "output_type": "stream",
     "text": [
      "APF0000w9p\n",
      "APF00009wb\n",
      "Clustered/reduced fanfile not found\n"
     ]
    },
    {
     "name": "stderr",
     "output_type": "stream",
     "text": [
      "WARNING:planet4.plotting:Some files not found.\n"
     ]
    },
    {
     "name": "stdout",
     "output_type": "stream",
     "text": [
      "APF00003m3\n",
      "Clustered/reduced fanfile not found\n"
     ]
    },
    {
     "name": "stderr",
     "output_type": "stream",
     "text": [
      "WARNING:planet4.plotting:Some files not found.\n"
     ]
    },
    {
     "name": "stdout",
     "output_type": "stream",
     "text": [
      "APF00007xr\n"
     ]
    },
    {
     "name": "stderr",
     "output_type": "stream",
     "text": [
      "WARNING:planet4.plotting:Some files not found.\n"
     ]
    },
    {
     "name": "stdout",
     "output_type": "stream",
     "text": [
      "APF000052i\n",
      "Clustered/reduced fanfile not found\n",
      "Clustered blotchfile not found\n"
     ]
    },
    {
     "name": "stderr",
     "output_type": "stream",
     "text": [
      "WARNING:planet4.plotting:Some files not found.\n"
     ]
    },
    {
     "name": "stdout",
     "output_type": "stream",
     "text": [
      "APF00006h4\n",
      "Clustered/reduced fanfile not found\n"
     ]
    },
    {
     "name": "stderr",
     "output_type": "stream",
     "text": [
      "WARNING:planet4.plotting:Some files not found.\n"
     ]
    },
    {
     "name": "stdout",
     "output_type": "stream",
     "text": [
      "APF0000ulk\n"
     ]
    },
    {
     "name": "stderr",
     "output_type": "stream",
     "text": [
      "WARNING:planet4.plotting:Some files not found.\n"
     ]
    },
    {
     "name": "stdout",
     "output_type": "stream",
     "text": [
      "Clustered/reduced fanfile not found\n",
      "Clustered blotchfile not found\n",
      "APF0000br5\n",
      "APF0000wxn\n"
     ]
    },
    {
     "name": "stderr",
     "output_type": "stream",
     "text": [
      "WARNING:planet4.plotting:Some files not found.\n"
     ]
    },
    {
     "name": "stdout",
     "output_type": "stream",
     "text": [
      "Clustered blotchfile not found\n",
      "APF0000iy4\n",
      "Clustered/reduced fanfile not found\n"
     ]
    },
    {
     "name": "stderr",
     "output_type": "stream",
     "text": [
      "WARNING:planet4.plotting:Some files not found.\n"
     ]
    },
    {
     "name": "stdout",
     "output_type": "stream",
     "text": [
      "APF000052e\n"
     ]
    },
    {
     "name": "stderr",
     "output_type": "stream",
     "text": [
      "WARNING:planet4.plotting:Some files not found.\n"
     ]
    },
    {
     "name": "stdout",
     "output_type": "stream",
     "text": [
      "Clustered/reduced fanfile not found\n",
      "Clustered blotchfile not found\n",
      "APF00002cd\n",
      "Clustered/reduced fanfile not found\n"
     ]
    },
    {
     "name": "stderr",
     "output_type": "stream",
     "text": [
      "WARNING:planet4.plotting:Some files not found.\n"
     ]
    },
    {
     "name": "stdout",
     "output_type": "stream",
     "text": [
      "APF0000ukk\n"
     ]
    },
    {
     "name": "stderr",
     "output_type": "stream",
     "text": [
      "WARNING:planet4.plotting:Some files not found.\n"
     ]
    },
    {
     "name": "stdout",
     "output_type": "stream",
     "text": [
      "Clustered/reduced fanfile not found\n",
      "Clustered blotchfile not found\n",
      "APF0000d2h\n"
     ]
    },
    {
     "name": "stderr",
     "output_type": "stream",
     "text": [
      "WARNING:planet4.plotting:Some files not found.\n"
     ]
    },
    {
     "name": "stdout",
     "output_type": "stream",
     "text": [
      "Clustered blotchfile not found\n",
      "APF0000a2x\n",
      "Clustered/reduced fanfile not found\n"
     ]
    },
    {
     "name": "stderr",
     "output_type": "stream",
     "text": [
      "WARNING:planet4.plotting:Some files not found.\n"
     ]
    },
    {
     "name": "stdout",
     "output_type": "stream",
     "text": [
      "APF0000hyc\n"
     ]
    },
    {
     "name": "stderr",
     "output_type": "stream",
     "text": [
      "WARNING:planet4.plotting:Some files not found.\n"
     ]
    },
    {
     "name": "stdout",
     "output_type": "stream",
     "text": [
      "APF0000fwc\n",
      "Clustered/reduced fanfile not found\n"
     ]
    },
    {
     "name": "stderr",
     "output_type": "stream",
     "text": [
      "WARNING:planet4.plotting:Some files not found.\n"
     ]
    },
    {
     "name": "stdout",
     "output_type": "stream",
     "text": [
      "APF0000art\n",
      "APF0000s7i\n"
     ]
    },
    {
     "name": "stderr",
     "output_type": "stream",
     "text": [
      "WARNING:planet4.plotting:Some files not found.\n"
     ]
    },
    {
     "name": "stdout",
     "output_type": "stream",
     "text": [
      "Clustered/reduced fanfile not found\n",
      "Clustered blotchfile not found\n",
      "APF0000fug\n",
      "Clustered/reduced fanfile not found\n"
     ]
    },
    {
     "name": "stderr",
     "output_type": "stream",
     "text": [
      "WARNING:planet4.plotting:Some files not found.\n"
     ]
    },
    {
     "name": "stdout",
     "output_type": "stream",
     "text": [
      "APF0000jiu\n",
      "Clustered/reduced fanfile not found\n"
     ]
    },
    {
     "name": "stderr",
     "output_type": "stream",
     "text": [
      "WARNING:planet4.plotting:Some files not found.\n"
     ]
    },
    {
     "name": "stdout",
     "output_type": "stream",
     "text": [
      "APF0000puq\n",
      "APF0000rmo\n",
      "APF0000q4y\n",
      "Clustered/reduced fanfile not found\n"
     ]
    },
    {
     "name": "stderr",
     "output_type": "stream",
     "text": [
      "WARNING:planet4.plotting:Some files not found.\n"
     ]
    },
    {
     "name": "stdout",
     "output_type": "stream",
     "text": [
      "Clustered blotchfile not found\n",
      "APF0000hg5\n"
     ]
    },
    {
     "name": "stderr",
     "output_type": "stream",
     "text": [
      "WARNING:planet4.plotting:Some files not found.\n"
     ]
    },
    {
     "name": "stdout",
     "output_type": "stream",
     "text": [
      "Clustered/reduced fanfile not found\n",
      "Clustered blotchfile not found\n",
      "APF0000miq\n",
      "Clustered/reduced fanfile not found\n",
      "Clustered blotchfile not found\n"
     ]
    },
    {
     "name": "stderr",
     "output_type": "stream",
     "text": [
      "WARNING:planet4.plotting:Some files not found.\n"
     ]
    },
    {
     "name": "stdout",
     "output_type": "stream",
     "text": [
      "APF00002ri\n",
      "Clustered/reduced fanfile not found\n"
     ]
    },
    {
     "name": "stderr",
     "output_type": "stream",
     "text": [
      "WARNING:planet4.plotting:Some files not found.\n"
     ]
    },
    {
     "name": "stdout",
     "output_type": "stream",
     "text": [
      "APF0000in4\n",
      "APF0000ibn\n",
      "Clustered/reduced fanfile not found\n"
     ]
    },
    {
     "name": "stderr",
     "output_type": "stream",
     "text": [
      "WARNING:planet4.plotting:Some files not found.\n"
     ]
    },
    {
     "name": "stdout",
     "output_type": "stream",
     "text": [
      "APF0000bu5\n",
      "APF0000dl4\n",
      "Clustered/reduced fanfile not found\n",
      "Clustered blotchfile not found\n"
     ]
    },
    {
     "name": "stderr",
     "output_type": "stream",
     "text": [
      "WARNING:planet4.plotting:Some files not found.\n"
     ]
    },
    {
     "name": "stdout",
     "output_type": "stream",
     "text": [
      "APF0000fik\n",
      "Clustered/reduced fanfile not found\n"
     ]
    },
    {
     "name": "stderr",
     "output_type": "stream",
     "text": [
      "WARNING:planet4.plotting:Some files not found.\n"
     ]
    },
    {
     "name": "stdout",
     "output_type": "stream",
     "text": [
      "APF0000uh1\n"
     ]
    },
    {
     "name": "stderr",
     "output_type": "stream",
     "text": [
      "WARNING:planet4.plotting:Some files not found.\n"
     ]
    },
    {
     "name": "stdout",
     "output_type": "stream",
     "text": [
      "Clustered/reduced fanfile not found\n",
      "Clustered blotchfile not found\n",
      "APF0000tw9\n"
     ]
    },
    {
     "name": "stderr",
     "output_type": "stream",
     "text": [
      "WARNING:planet4.plotting:Some files not found.\n"
     ]
    },
    {
     "name": "stdout",
     "output_type": "stream",
     "text": [
      "Clustered/reduced fanfile not found\n",
      "Clustered blotchfile not found\n",
      "APF000047a\n"
     ]
    },
    {
     "name": "stderr",
     "output_type": "stream",
     "text": [
      "WARNING:planet4.plotting:Some files not found.\n"
     ]
    },
    {
     "name": "stdout",
     "output_type": "stream",
     "text": [
      "Clustered/reduced fanfile not found\n",
      "Clustered blotchfile not found\n",
      "APF0000awi\n"
     ]
    },
    {
     "name": "stderr",
     "output_type": "stream",
     "text": [
      "WARNING:planet4.plotting:Some files not found.\n"
     ]
    },
    {
     "name": "stdout",
     "output_type": "stream",
     "text": [
      "Clustered blotchfile not found\n",
      "APF0000nbu\n",
      "Clustered/reduced fanfile not found\n"
     ]
    },
    {
     "name": "stderr",
     "output_type": "stream",
     "text": [
      "WARNING:planet4.plotting:Some files not found.\n"
     ]
    },
    {
     "name": "stdout",
     "output_type": "stream",
     "text": [
      "APF00005wm\n",
      "Clustered/reduced fanfile not found\n"
     ]
    },
    {
     "name": "stderr",
     "output_type": "stream",
     "text": [
      "WARNING:planet4.plotting:Some files not found.\n"
     ]
    },
    {
     "name": "stdout",
     "output_type": "stream",
     "text": [
      "APF0000lkq\n",
      "Clustered/reduced fanfile not found\n",
      "Clustered blotchfile not found\n"
     ]
    },
    {
     "name": "stderr",
     "output_type": "stream",
     "text": [
      "WARNING:planet4.plotting:Some files not found.\n"
     ]
    },
    {
     "name": "stdout",
     "output_type": "stream",
     "text": [
      "APF0000iqb\n",
      "APF0000ek1\n",
      "APF0000dnc\n"
     ]
    },
    {
     "name": "stderr",
     "output_type": "stream",
     "text": [
      "WARNING:planet4.plotting:Some files not found.\n"
     ]
    },
    {
     "name": "stdout",
     "output_type": "stream",
     "text": [
      "Clustered/reduced fanfile not found\n",
      "Clustered blotchfile not found\n",
      "APF0000gv1\n"
     ]
    },
    {
     "name": "stderr",
     "output_type": "stream",
     "text": [
      "WARNING:planet4.plotting:Some files not found.\n"
     ]
    },
    {
     "name": "stdout",
     "output_type": "stream",
     "text": [
      "Clustered blotchfile not found\n",
      "APF0000tb2\n",
      "APF0000aen\n",
      "APF0000cuo\n"
     ]
    },
    {
     "name": "stderr",
     "output_type": "stream",
     "text": [
      "WARNING:planet4.plotting:Some files not found.\n"
     ]
    },
    {
     "name": "stdout",
     "output_type": "stream",
     "text": [
      "Clustered/reduced fanfile not found\n",
      "Clustered blotchfile not found\n",
      "APF0000v6m\n"
     ]
    },
    {
     "name": "stderr",
     "output_type": "stream",
     "text": [
      "WARNING:planet4.plotting:Some files not found.\n"
     ]
    },
    {
     "name": "stdout",
     "output_type": "stream",
     "text": [
      "APF000063i\n"
     ]
    },
    {
     "name": "stderr",
     "output_type": "stream",
     "text": [
      "WARNING:planet4.plotting:Some files not found.\n"
     ]
    },
    {
     "name": "stdout",
     "output_type": "stream",
     "text": [
      "Clustered/reduced fanfile not found\n",
      "Clustered blotchfile not found\n",
      "APF00007g2\n",
      "Clustered/reduced fanfile not found\n"
     ]
    },
    {
     "name": "stderr",
     "output_type": "stream",
     "text": [
      "WARNING:planet4.plotting:Some files not found.\n"
     ]
    },
    {
     "name": "stdout",
     "output_type": "stream",
     "text": [
      "APF00005lb\n",
      "Clustered/reduced fanfile not found\n",
      "Clustered blotchfile not found\n"
     ]
    },
    {
     "name": "stderr",
     "output_type": "stream",
     "text": [
      "WARNING:planet4.plotting:Some files not found.\n"
     ]
    },
    {
     "name": "stdout",
     "output_type": "stream",
     "text": [
      "APF0000l6n\n"
     ]
    },
    {
     "name": "stderr",
     "output_type": "stream",
     "text": [
      "WARNING:planet4.plotting:Some files not found.\n"
     ]
    },
    {
     "name": "stdout",
     "output_type": "stream",
     "text": [
      "Clustered/reduced fanfile not found\n",
      "Clustered blotchfile not found\n",
      "APF00000k2\n",
      "APF00002mo\n",
      "Clustered/reduced fanfile not found\n",
      "Clustered blotchfile not found\n"
     ]
    },
    {
     "name": "stderr",
     "output_type": "stream",
     "text": [
      "WARNING:planet4.plotting:Some files not found.\n"
     ]
    },
    {
     "name": "stdout",
     "output_type": "stream",
     "text": [
      "APF000066b\n",
      "APF0000ubr\n"
     ]
    },
    {
     "name": "stderr",
     "output_type": "stream",
     "text": [
      "WARNING:planet4.plotting:Some files not found.\n"
     ]
    },
    {
     "name": "stdout",
     "output_type": "stream",
     "text": [
      "Clustered blotchfile not found\n",
      "APF0000u5q\n"
     ]
    },
    {
     "name": "stderr",
     "output_type": "stream",
     "text": [
      "WARNING:planet4.plotting:Some files not found.\n"
     ]
    },
    {
     "name": "stdout",
     "output_type": "stream",
     "text": [
      "Clustered blotchfile not found\n",
      "APF0000ut7\n",
      "Clustered/reduced fanfile not found\n",
      "Clustered blotchfile not found\n"
     ]
    },
    {
     "name": "stderr",
     "output_type": "stream",
     "text": [
      "WARNING:planet4.plotting:Some files not found.\n"
     ]
    },
    {
     "name": "stdout",
     "output_type": "stream",
     "text": [
      "APF0000naz\n"
     ]
    },
    {
     "name": "stderr",
     "output_type": "stream",
     "text": [
      "WARNING:planet4.plotting:Some files not found.\n"
     ]
    },
    {
     "name": "stdout",
     "output_type": "stream",
     "text": [
      "APF00001x3\n"
     ]
    },
    {
     "name": "stderr",
     "output_type": "stream",
     "text": [
      "WARNING:planet4.plotting:Some files not found.\n"
     ]
    },
    {
     "name": "stdout",
     "output_type": "stream",
     "text": [
      "Clustered/reduced fanfile not found\n",
      "Clustered blotchfile not found\n",
      "APF0000i8j\n",
      "APF0000uiq\n"
     ]
    },
    {
     "name": "stderr",
     "output_type": "stream",
     "text": [
      "WARNING:planet4.plotting:Some files not found.\n"
     ]
    },
    {
     "name": "stdout",
     "output_type": "stream",
     "text": [
      "Clustered/reduced fanfile not found\n",
      "Clustered blotchfile not found\n",
      "APF0000k09\n",
      "Clustered/reduced fanfile not found\n"
     ]
    },
    {
     "name": "stderr",
     "output_type": "stream",
     "text": [
      "WARNING:planet4.plotting:Some files not found.\n"
     ]
    },
    {
     "name": "stdout",
     "output_type": "stream",
     "text": [
      "APF0000bgo\n",
      "APF00001dt\n",
      "Clustered/reduced fanfile not found\n"
     ]
    },
    {
     "name": "stderr",
     "output_type": "stream",
     "text": [
      "WARNING:planet4.plotting:Some files not found.\n"
     ]
    },
    {
     "name": "stdout",
     "output_type": "stream",
     "text": [
      "APF0000cbq\n"
     ]
    },
    {
     "name": "stderr",
     "output_type": "stream",
     "text": [
      "WARNING:planet4.plotting:Some files not found.\n"
     ]
    },
    {
     "name": "stdout",
     "output_type": "stream",
     "text": [
      "APF0000qcn\n",
      "Clustered/reduced fanfile not found\n"
     ]
    },
    {
     "name": "stderr",
     "output_type": "stream",
     "text": [
      "WARNING:planet4.plotting:Some files not found.\n"
     ]
    },
    {
     "name": "stdout",
     "output_type": "stream",
     "text": [
      "APF0000sr7\n"
     ]
    },
    {
     "name": "stderr",
     "output_type": "stream",
     "text": [
      "WARNING:planet4.plotting:Some files not found.\n"
     ]
    },
    {
     "name": "stdout",
     "output_type": "stream",
     "text": [
      "Clustered blotchfile not found\n",
      "APF0000g4o\n",
      "Clustered/reduced fanfile not found\n",
      "Clustered blotchfile not found\n"
     ]
    },
    {
     "name": "stderr",
     "output_type": "stream",
     "text": [
      "WARNING:planet4.plotting:Some files not found.\n"
     ]
    },
    {
     "name": "stdout",
     "output_type": "stream",
     "text": [
      "APF0000alv\n"
     ]
    },
    {
     "name": "stderr",
     "output_type": "stream",
     "text": [
      "WARNING:planet4.plotting:Some files not found.\n"
     ]
    },
    {
     "name": "stdout",
     "output_type": "stream",
     "text": [
      "Clustered blotchfile not found\n",
      "APF000074t\n"
     ]
    },
    {
     "name": "stderr",
     "output_type": "stream",
     "text": [
      "WARNING:planet4.plotting:Some files not found.\n"
     ]
    },
    {
     "name": "stdout",
     "output_type": "stream",
     "text": [
      "Clustered/reduced fanfile not found\n",
      "Clustered blotchfile not found\n",
      "APF0000ru4\n"
     ]
    },
    {
     "name": "stderr",
     "output_type": "stream",
     "text": [
      "WARNING:planet4.plotting:Some files not found.\n"
     ]
    },
    {
     "name": "stdout",
     "output_type": "stream",
     "text": [
      "Clustered/reduced fanfile not found\n",
      "Clustered blotchfile not found\n"
     ]
    }
   ],
   "source": [
    "for id_ in ids:\n",
    "    print(id_)\n",
    "    plot_image_id_pipeline(id_, **kwargs)\n",
    "    plt.close('all')"
   ]
  },
  {
   "cell_type": "code",
   "execution_count": null,
   "metadata": {
    "collapsed": true
   },
   "outputs": [],
   "source": []
  }
 ],
 "metadata": {
  "kernelspec": {
   "display_name": "Python [conda env:stable]",
   "language": "python",
   "name": "conda-env-stable-py"
  },
  "language_info": {
   "codemirror_mode": {
    "name": "ipython",
    "version": 3
   },
   "file_extension": ".py",
   "mimetype": "text/x-python",
   "name": "python",
   "nbconvert_exporter": "python",
   "pygments_lexer": "ipython3",
   "version": "3.6.1"
  },
  "toc": {
   "colors": {
    "hover_highlight": "#DAA520",
    "navigate_num": "#000000",
    "navigate_text": "#333333",
    "running_highlight": "#FF0000",
    "selected_highlight": "#FFD700",
    "sidebar_border": "#EEEEEE",
    "wrapper_background": "#FFFFFF"
   },
   "moveMenuLeft": true,
   "nav_menu": {
    "height": "12px",
    "width": "252px"
   },
   "navigate_menu": true,
   "number_sections": false,
   "sideBar": false,
   "threshold": 4,
   "toc_cell": true,
   "toc_section_display": "block",
   "toc_window_display": false,
   "widenNotebook": false
  }
 },
 "nbformat": 4,
 "nbformat_minor": 2
}
