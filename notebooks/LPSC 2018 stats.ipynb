{
 "cells": [
  {
   "cell_type": "markdown",
   "metadata": {
    "toc": true
   },
   "source": [
    "<h1>Table of Contents<span class=\"tocSkip\"></span></h1>\n",
    "<div class=\"toc\"><ul class=\"toc-item\"><li><span><a href=\"#Read-in-data\" data-toc-modified-id=\"Read-in-data-1\"><span class=\"toc-item-num\">1&nbsp;&nbsp;</span>Read in data</a></span><ul class=\"toc-item\"><li><span><a href=\"#Get-original-input-stats\" data-toc-modified-id=\"Get-original-input-stats-1.1\"><span class=\"toc-item-num\">1.1&nbsp;&nbsp;</span>Get original input stats</a></span></li></ul></li><li><span><a href=\"#Convert-distance-to-meters\" data-toc-modified-id=\"Convert-distance-to-meters-2\"><span class=\"toc-item-num\">2&nbsp;&nbsp;</span>Convert distance to meters</a></span><ul class=\"toc-item\"><li><ul class=\"toc-item\"><li><span><a href=\"#Reduction-of-number-of-fan-markings-to-finals\" data-toc-modified-id=\"Reduction-of-number-of-fan-markings-to-finals-2.0.1\"><span class=\"toc-item-num\">2.0.1&nbsp;&nbsp;</span>Reduction of number of fan markings to finals</a></span></li></ul></li></ul></li><li><span><a href=\"#Length-stats\" data-toc-modified-id=\"Length-stats-3\"><span class=\"toc-item-num\">3&nbsp;&nbsp;</span>Length stats</a></span><ul class=\"toc-item\"><li><span><a href=\"#Blotch-sizes\" data-toc-modified-id=\"Blotch-sizes-3.1\"><span class=\"toc-item-num\">3.1&nbsp;&nbsp;</span>Blotch sizes</a></span></li><li><span><a href=\"#Longest-fans\" data-toc-modified-id=\"Longest-fans-3.2\"><span class=\"toc-item-num\">3.2&nbsp;&nbsp;</span>Longest fans</a></span></li></ul></li><li><span><a href=\"#Regional\" data-toc-modified-id=\"Regional-4\"><span class=\"toc-item-num\">4&nbsp;&nbsp;</span>Regional</a></span></li></ul></div>"
   ]
  },
  {
   "cell_type": "code",
   "execution_count": null,
   "metadata": {},
   "outputs": [],
   "source": [
    "%matplotlib nbagg\n",
    "\n",
    "import seaborn as sns\n",
    "from planet4 import io, stats, markings\n",
    "from planet4.catalog_production import ReleaseManager"
   ]
  },
  {
   "cell_type": "markdown",
   "metadata": {},
   "source": [
    "# Read in data"
   ]
  },
  {
   "cell_type": "code",
   "execution_count": null,
   "metadata": {},
   "outputs": [],
   "source": [
    "rm = ReleaseManager('v1.0b4')"
   ]
  },
  {
   "cell_type": "code",
   "execution_count": null,
   "metadata": {},
   "outputs": [],
   "source": [
    "db = io.DBManager()"
   ]
  },
  {
   "cell_type": "code",
   "execution_count": null,
   "metadata": {},
   "outputs": [],
   "source": [
    "db.n_image_names"
   ]
  },
  {
   "cell_type": "code",
   "execution_count": null,
   "metadata": {},
   "outputs": [],
   "source": [
    "db.dbname"
   ]
  },
  {
   "cell_type": "code",
   "execution_count": null,
   "metadata": {},
   "outputs": [],
   "source": [
    "blotches = rm.read_blotch_file()\n",
    "fans = rm.read_fan_file()"
   ]
  },
  {
   "cell_type": "markdown",
   "metadata": {
    "heading_collapsed": true
   },
   "source": [
    "## Get original input stats"
   ]
  },
  {
   "cell_type": "code",
   "execution_count": null,
   "metadata": {
    "hidden": true
   },
   "outputs": [],
   "source": [
    "import dask.dataframe as dd\n",
    "\n",
    "data = dd.read_hdf(db.dbname, 'df')\n",
    "\n",
    "fan_input = data[data.marking=='fan']\n",
    "\n",
    "blotch_input = data[data.marking=='blotch']\n",
    "\n",
    "fan_input.compute().shape\n",
    "\n",
    "blotch_input.compute().shape"
   ]
  },
  {
   "cell_type": "markdown",
   "metadata": {},
   "source": [
    "# Convert distance to meters"
   ]
  },
  {
   "cell_type": "code",
   "execution_count": null,
   "metadata": {},
   "outputs": [],
   "source": [
    "fans['distance_m'] = fans.distance*fans.map_scale\n",
    "\n",
    "blotches['radius_1_m'] = blotches.radius_1*blotches.map_scale\n",
    "blotches['radius_2_m'] = blotches.radius_2*blotches.map_scale"
   ]
  },
  {
   "cell_type": "markdown",
   "metadata": {
    "heading_collapsed": true
   },
   "source": [
    "### Reduction of number of fan markings to finals"
   ]
  },
  {
   "cell_type": "code",
   "execution_count": null,
   "metadata": {
    "hidden": true
   },
   "outputs": [],
   "source": [
    "n_fan_in = 2792963"
   ]
  },
  {
   "cell_type": "code",
   "execution_count": null,
   "metadata": {
    "hidden": true
   },
   "outputs": [],
   "source": [
    "fans.shape[0]"
   ]
  },
  {
   "cell_type": "code",
   "execution_count": null,
   "metadata": {
    "hidden": true
   },
   "outputs": [],
   "source": [
    "fans.shape[0] / n_fan_in"
   ]
  },
  {
   "cell_type": "code",
   "execution_count": null,
   "metadata": {
    "hidden": true
   },
   "outputs": [],
   "source": [
    "blotches.shape[0]"
   ]
  },
  {
   "cell_type": "markdown",
   "metadata": {},
   "source": [
    "# Length stats\n",
    "\n",
    "Percentage of fan markings below 100 m:"
   ]
  },
  {
   "cell_type": "code",
   "execution_count": null,
   "metadata": {},
   "outputs": [],
   "source": [
    "import scipy\n",
    "scipy.stats.percentileofscore(fans.distance_m, 100)"
   ]
  },
  {
   "cell_type": "markdown",
   "metadata": {},
   "source": [
    "Cumulative histogram of fan lengths"
   ]
  },
  {
   "cell_type": "code",
   "execution_count": null,
   "metadata": {},
   "outputs": [],
   "source": [
    "def add_percentage_line(ax, meters, column):\n",
    "    y = scipy.stats.percentileofscore(column, meters)\n",
    "    ax.axhline(y/100)\n",
    "    ax.axvline(meters)\n",
    "    ax.text(meters, y/100, f\"{y/100:0.2f}\")"
   ]
  },
  {
   "cell_type": "code",
   "execution_count": null,
   "metadata": {},
   "outputs": [],
   "source": [
    "plt.close('all')"
   ]
  },
  {
   "cell_type": "code",
   "execution_count": null,
   "metadata": {},
   "outputs": [],
   "source": [
    "fig, ax = plt.subplots(figsize=(8,4))\n",
    "sns.distplot(fans.distance_m, bins=500, kde=False, hist_kws={'cumulative':True,'normed':True},\n",
    "            axlabel='Fan length [m]', ax=ax)\n",
    "ax.set_title(\"Cumulative normalized histogram for fan lengths\")\n",
    "ax.set_ylabel(\"Fraction of fans with given length\")\n",
    "add_percentage_line(ax, 100, fans.distance_m)\n",
    "add_percentage_line(ax, 50, fans.distance_m)"
   ]
  },
  {
   "cell_type": "markdown",
   "metadata": {},
   "source": [
    "General fan stats, in numbers"
   ]
  },
  {
   "cell_type": "code",
   "execution_count": null,
   "metadata": {},
   "outputs": [],
   "source": [
    "fans.distance_m.describe()"
   ]
  },
  {
   "cell_type": "markdown",
   "metadata": {},
   "source": [
    "In words, the mean length of fans is {{f\"{fans.distance_m.describe()['mean']:.1f}\"}} m, while the median is\n",
    "{{f\"{fans.distance_m.describe()['50%']:.1f}\"}} m."
   ]
  },
  {
   "cell_type": "markdown",
   "metadata": {
    "heading_collapsed": true
   },
   "source": [
    "## Blotch sizes"
   ]
  },
  {
   "cell_type": "code",
   "execution_count": null,
   "metadata": {
    "hidden": true
   },
   "outputs": [],
   "source": [
    "plt.figure()\n",
    "cols = ['radius_1','radius_2']\n",
    "sns.distplot(blotches[cols], kde=False, bins=np.arange(2.0,50.), \n",
    "             color=['r','g'], label=cols)\n",
    "plt.legend()"
   ]
  },
  {
   "cell_type": "code",
   "execution_count": null,
   "metadata": {
    "hidden": true
   },
   "outputs": [],
   "source": [
    "plt.figure()\n",
    "cols = ['radius_1_m','radius_2_m']\n",
    "sns.distplot(blotches[cols], kde=False, bins=np.arange(2.0,50.), \n",
    "             color=['r','g'], label=cols)\n",
    "plt.legend()"
   ]
  },
  {
   "cell_type": "code",
   "execution_count": null,
   "metadata": {
    "hidden": true
   },
   "outputs": [],
   "source": [
    "fig, ax = plt.subplots(figsize=(8,4))\n",
    "sns.distplot(blotches.radius_2_m, bins=500, kde=False, hist_kws={'cumulative':True,'normed':True},\n",
    "            axlabel='Blotch radius_1 [m]', ax=ax)\n",
    "ax.set_title(\"Cumulative normalized histogram for blotch lengths\")\n",
    "ax.set_ylabel(\"Fraction of blotches with given radius_1\")\n",
    "add_percentage_line(ax, 30, blotches.radius_2_m)\n",
    "add_percentage_line(ax, 10, blotches.radius_2_m)"
   ]
  },
  {
   "cell_type": "code",
   "execution_count": null,
   "metadata": {
    "hidden": true
   },
   "outputs": [],
   "source": [
    "import scipy\n",
    "scipy.stats.percentileofscore(blotches.radius_2_m, 30)"
   ]
  },
  {
   "cell_type": "code",
   "execution_count": null,
   "metadata": {
    "hidden": true
   },
   "outputs": [],
   "source": [
    "plt.close('all')"
   ]
  },
  {
   "cell_type": "markdown",
   "metadata": {
    "heading_collapsed": true
   },
   "source": [
    "## Longest fans"
   ]
  },
  {
   "cell_type": "code",
   "execution_count": null,
   "metadata": {
    "hidden": true
   },
   "outputs": [],
   "source": [
    "fans.query('distance_m > 350')[\n",
    "    'distance_m distance obsid image_x image_y image_id x_tile y_tile'.split()].sort_values(\n",
    "        by='distance_m')"
   ]
  },
  {
   "cell_type": "code",
   "execution_count": null,
   "metadata": {
    "hidden": true
   },
   "outputs": [],
   "source": [
    "users1 = markings.ImageID(\"APF0000dtk\").data.user_name.unique()"
   ]
  },
  {
   "cell_type": "code",
   "execution_count": null,
   "metadata": {
    "hidden": true
   },
   "outputs": [],
   "source": [
    "users2 = markings.ImageID(\"de3\").data.user_name.unique()"
   ]
  },
  {
   "cell_type": "code",
   "execution_count": null,
   "metadata": {
    "hidden": true
   },
   "outputs": [],
   "source": [
    "same = []\n",
    "for user in users1:\n",
    "    if user in users2:\n",
    "        same.append(user)"
   ]
  },
  {
   "cell_type": "code",
   "execution_count": null,
   "metadata": {
    "hidden": true
   },
   "outputs": [],
   "source": [
    "same"
   ]
  },
  {
   "cell_type": "code",
   "execution_count": null,
   "metadata": {
    "hidden": true
   },
   "outputs": [],
   "source": [
    "len(users2)"
   ]
  },
  {
   "cell_type": "code",
   "execution_count": null,
   "metadata": {
    "hidden": true
   },
   "outputs": [],
   "source": [
    "from planet4 import plotting"
   ]
  },
  {
   "cell_type": "code",
   "execution_count": null,
   "metadata": {
    "hidden": true
   },
   "outputs": [],
   "source": [
    "plotting.plot_image_id_pipeline('q45', datapath=rm.catalog, via_obsid=False, figsize=(12,8))"
   ]
  },
  {
   "cell_type": "markdown",
   "metadata": {},
   "source": [
    "# Regional "
   ]
  },
  {
   "cell_type": "code",
   "execution_count": null,
   "metadata": {},
   "outputs": [],
   "source": [
    "from planet4 import stats\n",
    "from planet4 import region_data"
   ]
  },
  {
   "cell_type": "code",
   "execution_count": null,
   "metadata": {},
   "outputs": [],
   "source": [
    "stats.define_season_column(fans)\n",
    "stats.define_season_column(blotches)"
   ]
  },
  {
   "cell_type": "code",
   "execution_count": null,
   "metadata": {},
   "outputs": [],
   "source": [
    "regions = ['Manhattan2', 'Giza', 'Inca', 'Ithaca']"
   ]
  },
  {
   "cell_type": "code",
   "execution_count": null,
   "metadata": {},
   "outputs": [],
   "source": [
    "for reg in regions:\n",
    "    obj = getattr(region_data, reg)\n",
    "    roi = obj()\n",
    "    for marking in [fans, blotches]:\n",
    "        if reg == 'Manhattan2':\n",
    "            reg = 'Manhattan'\n",
    "        marking.loc[marking.obsid.isin(roi.all_obsids), 'roi'] = reg"
   ]
  },
  {
   "cell_type": "code",
   "execution_count": null,
   "metadata": {},
   "outputs": [],
   "source": [
    "fans.roi.value_counts(dropna=False)"
   ]
  },
  {
   "cell_type": "code",
   "execution_count": null,
   "metadata": {},
   "outputs": [],
   "source": [
    "fans_rois = fans[fans.roi.notnull()]\n",
    "blotches_rois = blotches[blotches.roi.notnull()]"
   ]
  },
  {
   "cell_type": "code",
   "execution_count": null,
   "metadata": {},
   "outputs": [],
   "source": [
    "fans_rois.roi.value_counts(dropna=False)"
   ]
  },
  {
   "cell_type": "code",
   "execution_count": null,
   "metadata": {},
   "outputs": [],
   "source": [
    "fans.query('season==2').distance_m.median()"
   ]
  },
  {
   "cell_type": "code",
   "execution_count": null,
   "metadata": {},
   "outputs": [],
   "source": [
    "fans.query('season==3').distance_m.median()"
   ]
  },
  {
   "cell_type": "code",
   "execution_count": null,
   "metadata": {},
   "outputs": [],
   "source": [
    "import seaborn as sns\n",
    "sns.set_palette('Set1')"
   ]
  },
  {
   "cell_type": "code",
   "execution_count": null,
   "metadata": {},
   "outputs": [],
   "source": [
    "fans_rois"
   ]
  },
  {
   "cell_type": "code",
   "execution_count": null,
   "metadata": {},
   "outputs": [],
   "source": [
    "def my_plot(x, **kwargs):\n",
    "    sns.distplot(x, kde=True, **kwargs)\n",
    "#     plt.axvline(x.median(), color='blue')\n",
    "    plt.gca().set_xlim(-10, 150)"
   ]
  },
  {
   "cell_type": "code",
   "execution_count": null,
   "metadata": {},
   "outputs": [],
   "source": [
    "g = sns.FacetGrid(fans_rois, col=\"roi\", hue='season', size=2, aspect=1.1, legend_out=False)\n",
    "# g.map(sns.distplot, \"distance_m\", kde=True);\n",
    "g.map(my_plot, 'distance_m')\n",
    "g.add_legend()"
   ]
  },
  {
   "cell_type": "code",
   "execution_count": null,
   "metadata": {},
   "outputs": [],
   "source": [
    "g = sns.FacetGrid(fans_rois, col=\"roi\", hue='season', size=2, aspect=1.1, legend_out=False)\n",
    "g.map(sns.distplot, \"distance_m\", kde=True);\n",
    "# g.map(my_plot, 'distance_m')\n",
    "g.add_legend()"
   ]
  },
  {
   "cell_type": "code",
   "execution_count": null,
   "metadata": {},
   "outputs": [],
   "source": [
    "for region in ['Manhattan2', 'Giza','Ithaca']:\n",
    "    print(region)\n",
    "    obj = getattr(region_data, region)\n",
    "    for s in ['season2','season3']:\n",
    "        print(s)\n",
    "        obsids = getattr(obj, s)\n",
    "        print(fans[fans.obsid.isin(obsids)].distance_m.median())"
   ]
  },
  {
   "cell_type": "code",
   "execution_count": null,
   "metadata": {},
   "outputs": [],
   "source": [
    "import numpy as np\n",
    "import scipy\n",
    "import seaborn as sns\n",
    "import matplotlib.pyplot as plt\n",
    "\n",
    "plt.figure()\n",
    "\n",
    "sns.set_palette(\"hls\", 1)\n",
    "data = np.random.randn(30)\n",
    "p=sns.kdeplot(data, shade=True)\n",
    "\n",
    "x,y = p.get_lines()[0].get_data()\n",
    "\n",
    "#care with the order, it is first y\n",
    "#initial fills a 0 so the result has same length than x\n",
    "cdf = scipy.integrate.cumtrapz(y, x, initial=0)\n",
    "\n",
    "nearest_05 = np.abs(cdf-0.5).argmin()\n",
    "\n",
    "x_median = x[nearest_05]\n",
    "y_median = y[nearest_05]\n",
    "\n",
    "plt.vlines(x_median, 0, y_median)"
   ]
  },
  {
   "cell_type": "code",
   "execution_count": null,
   "metadata": {},
   "outputs": [],
   "source": [
    "import numpy as np\n",
    "import scipy\n",
    "import seaborn as sns\n",
    "import matplotlib.pyplot as plt\n",
    "\n",
    "plt.figure()\n",
    "\n",
    "sns.set_palette(\"hls\", 1)\n",
    "data = np.random.randn(30)\n",
    "p=sns.kdeplot(data, shade=True)\n",
    "\n",
    "x,y = p.get_lines()[0].get_data()\n",
    "\n",
    "#care with the order, it is first y\n",
    "#initial fills a 0 so the result has same length than x\n",
    "cdf = scipy.integrate.cumtrapz(y, x, initial=0)\n",
    "\n",
    "nearest_05 = np.abs(cdf-0.5).argmin()\n",
    "\n",
    "x_median = x[nearest_05]\n",
    "y_median = y[nearest_05]\n",
    "\n",
    "plt.vlines(x_median, 0, y_median)"
   ]
  },
  {
   "cell_type": "code",
   "execution_count": null,
   "metadata": {},
   "outputs": [],
   "source": [
    "np.median(x)"
   ]
  },
  {
   "cell_type": "code",
   "execution_count": null,
   "metadata": {},
   "outputs": [],
   "source": [
    "np.percentile(x, 50)"
   ]
  },
  {
   "cell_type": "code",
   "execution_count": null,
   "metadata": {},
   "outputs": [],
   "source": []
  }
 ],
 "metadata": {
  "kernelspec": {
   "display_name": "Python [conda env:py36]",
   "language": "python",
   "name": "conda-env-py36-py"
  },
  "language_info": {
   "codemirror_mode": {
    "name": "ipython",
    "version": 3
   },
   "file_extension": ".py",
   "mimetype": "text/x-python",
   "name": "python",
   "nbconvert_exporter": "python",
   "pygments_lexer": "ipython3",
   "version": "3.6.6"
  },
  "toc": {
   "base_numbering": 1,
   "nav_menu": {},
   "number_sections": true,
   "sideBar": true,
   "skip_h1_title": false,
   "title_cell": "Table of Contents",
   "title_sidebar": "Contents",
   "toc_cell": true,
   "toc_position": {},
   "toc_section_display": "block",
   "toc_window_display": false
  },
  "varInspector": {
   "cols": {
    "lenName": 16,
    "lenType": 16,
    "lenVar": 40
   },
   "kernels_config": {
    "python": {
     "delete_cmd_postfix": "",
     "delete_cmd_prefix": "del ",
     "library": "var_list.py",
     "varRefreshCmd": "print(var_dic_list())"
    },
    "r": {
     "delete_cmd_postfix": ") ",
     "delete_cmd_prefix": "rm(",
     "library": "var_list.r",
     "varRefreshCmd": "cat(var_dic_list()) "
    }
   },
   "types_to_exclude": [
    "module",
    "function",
    "builtin_function_or_method",
    "instance",
    "_Feature"
   ],
   "window_display": false
  }
 },
 "nbformat": 4,
 "nbformat_minor": 2
}
