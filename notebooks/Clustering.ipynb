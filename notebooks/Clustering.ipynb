{
 "metadata": {
  "name": "",
  "signature": "sha256:7f799e8477cb3f45536619d431e923f5a0f11f44a761959821a89ae4d06e6900"
 },
 "nbformat": 3,
 "nbformat_minor": 0,
 "worksheets": [
  {
   "cells": [
    {
     "cell_type": "code",
     "collapsed": false,
     "input": [
      "from P4_sandbox import helper_functions as hf"
     ],
     "language": "python",
     "metadata": {},
     "outputs": [],
     "prompt_number": 1
    },
    {
     "cell_type": "code",
     "collapsed": false,
     "input": [
      "data = hf.get_current_done()"
     ],
     "language": "python",
     "metadata": {},
     "outputs": [],
     "prompt_number": 2
    },
    {
     "cell_type": "code",
     "collapsed": false,
     "input": [
      "data.marking.value_counts()"
     ],
     "language": "python",
     "metadata": {},
     "outputs": [
      {
       "metadata": {},
       "output_type": "pyout",
       "prompt_number": 3,
       "text": [
        "blotch         3468294\n",
        "fan            2806278\n",
        "None           2562722\n",
        "interesting     820097\n",
        "dtype: int64"
       ]
      }
     ],
     "prompt_number": 3
    },
    {
     "cell_type": "code",
     "collapsed": false,
     "input": [
      "data = data[data.marking != 'None']"
     ],
     "language": "python",
     "metadata": {},
     "outputs": [],
     "prompt_number": 5
    },
    {
     "cell_type": "code",
     "collapsed": false,
     "input": [
      "len(data)"
     ],
     "language": "python",
     "metadata": {},
     "outputs": [
      {
       "metadata": {},
       "output_type": "pyout",
       "prompt_number": 6,
       "text": [
        "7094669"
       ]
      }
     ],
     "prompt_number": 6
    },
    {
     "cell_type": "code",
     "collapsed": false,
     "input": [
      "data.image_id = data.image_id.str.strip()"
     ],
     "language": "python",
     "metadata": {},
     "outputs": [],
     "prompt_number": 11
    },
    {
     "cell_type": "code",
     "collapsed": false,
     "input": [
      "subframe = data[data.image_id == data.image_id[0]]"
     ],
     "language": "python",
     "metadata": {},
     "outputs": [],
     "prompt_number": 26
    },
    {
     "cell_type": "code",
     "collapsed": false,
     "input": [
      "subframe.marking.value_counts()"
     ],
     "language": "python",
     "metadata": {},
     "outputs": [
      {
       "metadata": {},
       "output_type": "pyout",
       "prompt_number": 27,
       "text": [
        "blotch         24\n",
        "interesting    17\n",
        "dtype: int64"
       ]
      }
     ],
     "prompt_number": 27
    },
    {
     "cell_type": "code",
     "collapsed": false,
     "input": [
      "blotches = subframe[subframe.marking=='blotch']\n",
      "blotches.shape"
     ],
     "language": "python",
     "metadata": {},
     "outputs": [
      {
       "metadata": {},
       "output_type": "pyout",
       "prompt_number": 28,
       "text": [
        "(24, 21)"
       ]
      }
     ],
     "prompt_number": 28
    },
    {
     "cell_type": "code",
     "collapsed": false,
     "input": [
      "blotches.iloc[0]"
     ],
     "language": "python",
     "metadata": {},
     "outputs": [
      {
       "metadata": {},
       "output_type": "pyout",
       "prompt_number": 34,
       "text": [
        "classification_id                             50eca17860d405083e0002c2\n",
        "created_at                                         2013-01-08 22:45:12\n",
        "image_id                                                    APF00004hc\n",
        "image_name                                             ESP_012264_0980\n",
        "image_url            http://www.planetfour.org/subjects/standard/50...\n",
        "user_name                                                       vampit\n",
        "marking                                                         blotch\n",
        "x_tile                                                               5\n",
        "y_tile                                                              84\n",
        "acquisition_date                                   2009-03-09 00:00:00\n",
        "local_mars_time                                                4:51 PM\n",
        "x                                                                  610\n",
        "y                                                                  215\n",
        "image_x                                                           3570\n",
        "image_y                                                          45699\n",
        "radius_1                                                            10\n",
        "radius_2                                                            10\n",
        "distance                                                           NaN\n",
        "angle                                                                0\n",
        "spread                                                             NaN\n",
        "season                                                               2\n",
        "Name: 391593, dtype: object"
       ]
      }
     ],
     "prompt_number": 34
    },
    {
     "cell_type": "code",
     "collapsed": false,
     "input": [
      "from matplotlib.patches import Circle\n",
      "from matplotlib.collections import PatchCollection\n",
      "blotches.plot('x','y', kind='scatter')\n",
      "patches = []\n",
      "for i in xrange(len(blotches)):\n",
      "    line = blotches.iloc[i]\n",
      "    circle = Circle((line.x, line.y), (line.radius_1+line.radius_2)/2.0)\n",
      "    patches.append(circle)\n",
      "p = PatchCollection(patches, cmap=matplotlib.cm.jet, alpha=0.2)\n",
      "ax = gca()\n",
      "ax.add_collection(p)\n",
      "draw()"
     ],
     "language": "python",
     "metadata": {},
     "outputs": [],
     "prompt_number": 72
    },
    {
     "cell_type": "code",
     "collapsed": false,
     "input": [
      "Circle((blotches.x, blotches.y), (blotches.radius_1+blotches.radius_2)/2.0)"
     ],
     "language": "python",
     "metadata": {},
     "outputs": [
      {
       "metadata": {},
       "output_type": "pyout",
       "prompt_number": 73,
       "text": [
        "<matplotlib.patches.Circle at 0x255109e10>"
       ]
      }
     ],
     "prompt_number": 73
    },
    {
     "cell_type": "code",
     "collapsed": false,
     "input": [
      "from sklearn.cluster import AffinityPropagation\n",
      "from itertools import cycle\n",
      "import pylab as pl\n",
      "# features to use for clustering\n",
      "# features = 'x y'.split()\n",
      "features = 'x y radius_1 radius_2'.split()\n",
      "X = blotches[features].values\n",
      "af = AffinityPropagation(preference=-100).fit(X)\n",
      "# post-processing\n",
      "cluster_centers_indices = af.cluster_centers_indices_\n",
      "labels = af.labels_\n",
      "n_clusters_ = len(cluster_centers_indices)\n",
      "\n",
      "colors = cycle('bgrcmyk')\n",
      "for k, col in zip(range(n_clusters_), colors):\n",
      "    class_members = labels == k\n",
      "    cluster_center = X[cluster_centers_indices[k]]\n",
      "    pl.plot(X[class_members, 0], X[class_members, 1], col + '.')\n",
      "    pl.plot(cluster_center[0], cluster_center[1], 'o', markerfacecolor=col,\n",
      "            markeredgecolor='k', markersize=14)\n",
      "    for x in X[class_members]:\n",
      "        pl.plot([cluster_center[0], x[0]], [cluster_center[1], x[1]], col)\n",
      "\n",
      "draw()"
     ],
     "language": "python",
     "metadata": {},
     "outputs": [],
     "prompt_number": 107
    },
    {
     "cell_type": "code",
     "collapsed": false,
     "input": [
      "from sklearn.cluster import MeanShift, estimate_bandwidth\n",
      "\n",
      "for i in linspace(0.1,1.0,10):\n",
      "    fig, ax = subplots()\n",
      "    bandwidth = estimate_bandwidth(X, quantile=i)\n",
      "    ms = MeanShift(bandwidth=bandwidth, bin_seeding=True)\n",
      "\n",
      "    ms.fit(X)\n",
      "    labels = ms.labels_\n",
      "    cluster_centers = ms.cluster_centers_\n",
      "\n",
      "    labels_unique = np.unique(labels)\n",
      "    n_clusters_ = len(labels_unique)\n",
      "\n",
      "    print(\"number of estimated clusters : %d\" % n_clusters_)\n",
      "    import pylab as pl\n",
      "    from itertools import cycle\n",
      "\n",
      "    pl.figure(1)\n",
      "    pl.clf()\n",
      "\n",
      "    colors = cycle('bgrcmykbgrcmykbgrcmykbgrcmyk')\n",
      "    for k, col in zip(range(n_clusters_), colors):\n",
      "        my_members = labels == k\n",
      "        cluster_center = cluster_centers[k]\n",
      "        ax.plot(X[my_members, 0], X[my_members, 1], col + '.')\n",
      "        ax.plot(cluster_center[0], cluster_center[1], 'o', markerfacecolor=col,\n",
      "                markeredgecolor='k', markersize=14)\n",
      "    ax.set_title('Quantile={0}, '\n",
      "                 'estimated number of clusters: {1}'.format(i, \n",
      "                                                            n_clusters_))\n",
      "    fig.savefig('plots/MeanShift_{}.png'.format(i),dpi=200,ax=ax)"
     ],
     "language": "python",
     "metadata": {},
     "outputs": [
      {
       "output_type": "stream",
       "stream": "stdout",
       "text": [
        "number of estimated clusters : 4\n",
        "number of estimated clusters : 6"
       ]
      },
      {
       "output_type": "stream",
       "stream": "stdout",
       "text": [
        "\n",
        "number of estimated clusters : 3"
       ]
      },
      {
       "output_type": "stream",
       "stream": "stdout",
       "text": [
        "\n",
        "number of estimated clusters : 3"
       ]
      },
      {
       "output_type": "stream",
       "stream": "stdout",
       "text": [
        "\n",
        "number of estimated clusters : 2"
       ]
      },
      {
       "output_type": "stream",
       "stream": "stdout",
       "text": [
        "\n",
        "number of estimated clusters : 2"
       ]
      },
      {
       "output_type": "stream",
       "stream": "stdout",
       "text": [
        "\n",
        "number of estimated clusters : 2"
       ]
      },
      {
       "output_type": "stream",
       "stream": "stdout",
       "text": [
        "\n",
        "number of estimated clusters : 1"
       ]
      },
      {
       "output_type": "stream",
       "stream": "stdout",
       "text": [
        "\n",
        "number of estimated clusters : 1"
       ]
      },
      {
       "output_type": "stream",
       "stream": "stdout",
       "text": [
        "\n",
        "number of estimated clusters : 1"
       ]
      },
      {
       "output_type": "stream",
       "stream": "stdout",
       "text": [
        "\n"
       ]
      }
     ],
     "prompt_number": 109
    },
    {
     "cell_type": "code",
     "collapsed": false,
     "input": [
      "linspace(0,1,11)"
     ],
     "language": "python",
     "metadata": {},
     "outputs": [
      {
       "metadata": {},
       "output_type": "pyout",
       "prompt_number": 90,
       "text": [
        "array([ 0. ,  0.1,  0.2,  0.3,  0.4,  0.5,  0.6,  0.7,  0.8,  0.9,  1. ])"
       ]
      }
     ],
     "prompt_number": 90
    },
    {
     "cell_type": "markdown",
     "metadata": {},
     "source": [
      "It seems that this algorithm does not take into account group internal variations. Possibly the Ward algorithm is doing that."
     ]
    },
    {
     "cell_type": "code",
     "collapsed": false,
     "input": [
      "from matplotlib.patches import Ellipse"
     ],
     "language": "python",
     "metadata": {},
     "outputs": [],
     "prompt_number": 118
    },
    {
     "cell_type": "code",
     "collapsed": false,
     "input": [],
     "language": "python",
     "metadata": {},
     "outputs": []
    }
   ],
   "metadata": {}
  }
 ]
}