{
 "cells": [
  {
   "cell_type": "code",
   "execution_count": null,
   "metadata": {},
   "outputs": [],
   "source": [
    "%matplotlib nbagg"
   ]
  },
  {
   "cell_type": "code",
   "execution_count": null,
   "metadata": {},
   "outputs": [],
   "source": [
    "from sklearn.datasets import make_blobs\n",
    "import seaborn as sns\n",
    "import hdbscan"
   ]
  },
  {
   "cell_type": "code",
   "execution_count": null,
   "metadata": {},
   "outputs": [],
   "source": [
    "X, Y = make_blobs(n_features=2, centers=[(1,1), (1,1.5), (3,2)],\n",
    "                    n_samples=90,\n",
    "                    random_state=42,\n",
    "                    center_box=[0,1,0,1],\n",
    "                    cluster_std=0.15,\n",
    "                   )\n",
    "plt.scatter(X[:, 0], X[:, 1], marker='o', c=Y)"
   ]
  },
  {
   "cell_type": "code",
   "execution_count": null,
   "metadata": {},
   "outputs": [],
   "source": [
    "import hdbscan\n",
    "for i in range(3, 30):\n",
    "    for j in range(1, i):\n",
    "        clusterer = hdbscan.HDBSCAN(min_cluster_size=i, \n",
    "                                    min_samples=j,\n",
    "                                    gen_min_span_tree=True,\n",
    "                                   )\n",
    "\n",
    "        clusterer.fit(X)\n",
    "        n_found = clusterer.labels_.max() + 1\n",
    "        if n_found > 2:\n",
    "            print(\"Clusters found:\", n_found)\n",
    "            print(\"i:\",i,'\\nj:', j)"
   ]
  }
 ],
 "metadata": {
  "anaconda-cloud": {},
  "kernelspec": {
   "display_name": "Python [conda env:stable]",
   "language": "python",
   "name": "conda-env-stable-py"
  },
  "language_info": {
   "codemirror_mode": {
    "name": "ipython",
    "version": 3
   },
   "file_extension": ".py",
   "mimetype": "text/x-python",
   "name": "python",
   "nbconvert_exporter": "python",
   "pygments_lexer": "ipython3",
   "version": "3.5.2"
  }
 },
 "nbformat": 4,
 "nbformat_minor": 1
}
