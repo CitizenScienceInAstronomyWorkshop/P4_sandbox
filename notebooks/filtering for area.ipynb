{
 "cells": [
  {
   "cell_type": "code",
   "execution_count": 2,
   "metadata": {
    "collapsed": false
   },
   "outputs": [],
   "source": [
    "from planet4 import region_data, io, markings\n",
    "from pathlib import Path"
   ]
  },
  {
   "cell_type": "code",
   "execution_count": 3,
   "metadata": {
    "collapsed": false
   },
   "outputs": [],
   "source": [
    "root = io.analysis_folder() / 'inca_s23_0.5cut_applied/'"
   ]
  },
  {
   "cell_type": "code",
   "execution_count": 4,
   "metadata": {
    "collapsed": false
   },
   "outputs": [],
   "source": [
    "fan_fnames = list(root.glob(\"*_fans_latlons.csv\"))"
   ]
  },
  {
   "cell_type": "code",
   "execution_count": 5,
   "metadata": {
    "collapsed": false
   },
   "outputs": [],
   "source": [
    "blotch_fnames = list(root.glob(\"*_blotches_latlons.csv\"))"
   ]
  },
  {
   "cell_type": "code",
   "execution_count": 6,
   "metadata": {
    "collapsed": true
   },
   "outputs": [],
   "source": [
    "from planet4 import markings"
   ]
  },
  {
   "cell_type": "code",
   "execution_count": 7,
   "metadata": {
    "collapsed": true
   },
   "outputs": [],
   "source": [
    "def get_marking(line, cut=0.8):\n",
    "    data = []\n",
    "    for marking in ['fan_','blotch_']:\n",
    "        m = line[line.index.str.startswith(marking)]\n",
    "        data.append(m.rename_axis(lambda x: x[x.index('_')+1:]))\n",
    "    fnotch = markings.Fnotch(line.fnotch_value, data[0], data[1])\n",
    "    return fnotch.get_marking(cut)"
   ]
  },
  {
   "cell_type": "code",
   "execution_count": 8,
   "metadata": {
    "collapsed": true
   },
   "outputs": [],
   "source": [
    "def get_final_markings_counts(img_name, cut=0.5):\n",
    "    # writing in dictionary here b/c later I convert it to pd.DataFrame\n",
    "    # for which a dictionary is a natural input format\n",
    "    d = {}\n",
    "    d['obsid'] = img_name\n",
    "    blotch_fname = root / '{}_blotches_latlons.csv'.format(img_name)\n",
    "    d['n_blotches'] = len(pd.read_csv(str(blotch_fname)))\n",
    "    fan_fname = root / '{}_fans_latlons.csv'.format(img_name)\n",
    "    d['n_fans'] = len(pd.read_csv(str(fan_fname)))\n",
    "    \n",
    "    return d"
   ]
  },
  {
   "cell_type": "code",
   "execution_count": 9,
   "metadata": {
    "collapsed": false
   },
   "outputs": [
    {
     "data": {
      "text/plain": [
       "{'n_blotches': 1211, 'n_fans': 185, 'obsid': 'ESP_020115_0985'}"
      ]
     },
     "execution_count": 9,
     "metadata": {},
     "output_type": "execute_result"
    }
   ],
   "source": [
    "get_final_markings_counts('ESP_020115_0985')"
   ]
  },
  {
   "cell_type": "code",
   "execution_count": 10,
   "metadata": {
    "collapsed": false
   },
   "outputs": [],
   "source": [
    "from nbtools import ListProgressBar"
   ]
  },
  {
   "cell_type": "code",
   "execution_count": 11,
   "metadata": {
    "collapsed": false
   },
   "outputs": [],
   "source": [
    "results = []\n",
    "progbar = ListProgressBar(region_data.Inca.season2)\n",
    "for img_name in region_data.Inca.season2:\n",
    "    progbar.value = img_name\n",
    "    try:\n",
    "        results.append(get_final_markings_counts(img_name))\n",
    "    except OSError:\n",
    "        continue\n",
    "season2 = pd.DataFrame(results).sort_values(by='obsid')"
   ]
  },
  {
   "cell_type": "code",
   "execution_count": 12,
   "metadata": {
    "collapsed": false
   },
   "outputs": [],
   "source": [
    "results = []\n",
    "progbar = ListProgressBar(region_data.Inca.season3)\n",
    "for img_name in region_data.Inca.season3:\n",
    "    progbar.value = img_name\n",
    "    try:\n",
    "        results.append(get_final_markings_counts(img_name))\n",
    "    except OSError:\n",
    "        continue\n",
    "season3 = pd.DataFrame(results).sort_values(by='obsid')"
   ]
  },
  {
   "cell_type": "code",
   "execution_count": 13,
   "metadata": {
    "collapsed": false,
    "scrolled": true
   },
   "outputs": [
    {
     "data": {
      "text/html": [
       "<div>\n",
       "<table border=\"1\" class=\"dataframe\">\n",
       "  <thead>\n",
       "    <tr style=\"text-align: right;\">\n",
       "      <th></th>\n",
       "      <th>n_blotches</th>\n",
       "      <th>n_fans</th>\n",
       "      <th>obsid</th>\n",
       "    </tr>\n",
       "  </thead>\n",
       "  <tbody>\n",
       "    <tr>\n",
       "      <th>14</th>\n",
       "      <td>1522</td>\n",
       "      <td>343</td>\n",
       "      <td>ESP_011491_0985</td>\n",
       "    </tr>\n",
       "    <tr>\n",
       "      <th>13</th>\n",
       "      <td>633</td>\n",
       "      <td>194</td>\n",
       "      <td>ESP_011544_0985</td>\n",
       "    </tr>\n",
       "    <tr>\n",
       "      <th>12</th>\n",
       "      <td>996</td>\n",
       "      <td>254</td>\n",
       "      <td>ESP_011557_0985</td>\n",
       "    </tr>\n",
       "    <tr>\n",
       "      <th>11</th>\n",
       "      <td>954</td>\n",
       "      <td>439</td>\n",
       "      <td>ESP_011623_0985</td>\n",
       "    </tr>\n",
       "    <tr>\n",
       "      <th>10</th>\n",
       "      <td>1859</td>\n",
       "      <td>599</td>\n",
       "      <td>ESP_011702_0985</td>\n",
       "    </tr>\n",
       "  </tbody>\n",
       "</table>\n",
       "</div>"
      ],
      "text/plain": [
       "    n_blotches  n_fans            obsid\n",
       "14        1522     343  ESP_011491_0985\n",
       "13         633     194  ESP_011544_0985\n",
       "12         996     254  ESP_011557_0985\n",
       "11         954     439  ESP_011623_0985\n",
       "10        1859     599  ESP_011702_0985"
      ]
     },
     "execution_count": 13,
     "metadata": {},
     "output_type": "execute_result"
    }
   ],
   "source": [
    "season2.head()"
   ]
  },
  {
   "cell_type": "code",
   "execution_count": 14,
   "metadata": {
    "collapsed": false
   },
   "outputs": [
    {
     "data": {
      "text/html": [
       "<div>\n",
       "<table border=\"1\" class=\"dataframe\">\n",
       "  <thead>\n",
       "    <tr style=\"text-align: right;\">\n",
       "      <th></th>\n",
       "      <th>n_blotches</th>\n",
       "      <th>n_fans</th>\n",
       "      <th>obsid</th>\n",
       "    </tr>\n",
       "  </thead>\n",
       "  <tbody>\n",
       "    <tr>\n",
       "      <th>14</th>\n",
       "      <td>1522</td>\n",
       "      <td>343</td>\n",
       "      <td>ESP_011491_0985</td>\n",
       "    </tr>\n",
       "    <tr>\n",
       "      <th>13</th>\n",
       "      <td>633</td>\n",
       "      <td>194</td>\n",
       "      <td>ESP_011544_0985</td>\n",
       "    </tr>\n",
       "    <tr>\n",
       "      <th>12</th>\n",
       "      <td>996</td>\n",
       "      <td>254</td>\n",
       "      <td>ESP_011557_0985</td>\n",
       "    </tr>\n",
       "    <tr>\n",
       "      <th>11</th>\n",
       "      <td>954</td>\n",
       "      <td>439</td>\n",
       "      <td>ESP_011623_0985</td>\n",
       "    </tr>\n",
       "    <tr>\n",
       "      <th>10</th>\n",
       "      <td>1859</td>\n",
       "      <td>599</td>\n",
       "      <td>ESP_011702_0985</td>\n",
       "    </tr>\n",
       "  </tbody>\n",
       "</table>\n",
       "</div>"
      ],
      "text/plain": [
       "    n_blotches  n_fans            obsid\n",
       "14        1522     343  ESP_011491_0985\n",
       "13         633     194  ESP_011544_0985\n",
       "12         996     254  ESP_011557_0985\n",
       "11         954     439  ESP_011623_0985\n",
       "10        1859     599  ESP_011702_0985"
      ]
     },
     "execution_count": 14,
     "metadata": {},
     "output_type": "execute_result"
    }
   ],
   "source": [
    "season2.head()"
   ]
  },
  {
   "cell_type": "code",
   "execution_count": 15,
   "metadata": {
    "collapsed": false
   },
   "outputs": [],
   "source": [
    "season2_meta = pd.read_csv(io.analysis_folder() / 'inca_season2_metadata.csv')\n",
    "# dropping the label path here as it's not required\n",
    "# if it is, delete this line.\n",
    "season2_meta.drop('path', axis=1, inplace=True)"
   ]
  },
  {
   "cell_type": "code",
   "execution_count": 16,
   "metadata": {
    "collapsed": false
   },
   "outputs": [
    {
     "data": {
      "text/html": [
       "<div>\n",
       "<table border=\"1\" class=\"dataframe\">\n",
       "  <thead>\n",
       "    <tr style=\"text-align: right;\">\n",
       "      <th></th>\n",
       "      <th>obsid</th>\n",
       "      <th>binning</th>\n",
       "      <th>l_s</th>\n",
       "      <th>line_samples</th>\n",
       "      <th>lines</th>\n",
       "    </tr>\n",
       "  </thead>\n",
       "  <tbody>\n",
       "    <tr>\n",
       "      <th>0</th>\n",
       "      <td>ESP_013113_0985</td>\n",
       "      <td>2</td>\n",
       "      <td>265.495717</td>\n",
       "      <td>40499</td>\n",
       "      <td>15596</td>\n",
       "    </tr>\n",
       "    <tr>\n",
       "      <th>1</th>\n",
       "      <td>ESP_013034_0985</td>\n",
       "      <td>2</td>\n",
       "      <td>261.604127</td>\n",
       "      <td>30527</td>\n",
       "      <td>12662</td>\n",
       "    </tr>\n",
       "    <tr>\n",
       "      <th>2</th>\n",
       "      <td>ESP_012889_0985</td>\n",
       "      <td>2</td>\n",
       "      <td>254.441753</td>\n",
       "      <td>20713</td>\n",
       "      <td>11458</td>\n",
       "    </tr>\n",
       "    <tr>\n",
       "      <th>3</th>\n",
       "      <td>ESP_012744_0985</td>\n",
       "      <td>1</td>\n",
       "      <td>247.270026</td>\n",
       "      <td>41301</td>\n",
       "      <td>22378</td>\n",
       "    </tr>\n",
       "    <tr>\n",
       "      <th>4</th>\n",
       "      <td>ESP_012691_0985</td>\n",
       "      <td>2</td>\n",
       "      <td>244.650075</td>\n",
       "      <td>26300</td>\n",
       "      <td>13993</td>\n",
       "    </tr>\n",
       "  </tbody>\n",
       "</table>\n",
       "</div>"
      ],
      "text/plain": [
       "             obsid  binning         l_s  line_samples  lines\n",
       "0  ESP_013113_0985        2  265.495717         40499  15596\n",
       "1  ESP_013034_0985        2  261.604127         30527  12662\n",
       "2  ESP_012889_0985        2  254.441753         20713  11458\n",
       "3  ESP_012744_0985        1  247.270026         41301  22378\n",
       "4  ESP_012691_0985        2  244.650075         26300  13993"
      ]
     },
     "execution_count": 16,
     "metadata": {},
     "output_type": "execute_result"
    }
   ],
   "source": [
    "season2_meta.head()"
   ]
  },
  {
   "cell_type": "code",
   "execution_count": 17,
   "metadata": {
    "collapsed": false
   },
   "outputs": [],
   "source": [
    "season2 = season2.merge(season2_meta, on='obsid')"
   ]
  },
  {
   "cell_type": "code",
   "execution_count": 18,
   "metadata": {
    "collapsed": false
   },
   "outputs": [
    {
     "data": {
      "text/html": [
       "<div>\n",
       "<table border=\"1\" class=\"dataframe\">\n",
       "  <thead>\n",
       "    <tr style=\"text-align: right;\">\n",
       "      <th></th>\n",
       "      <th>n_blotches</th>\n",
       "      <th>n_fans</th>\n",
       "      <th>obsid</th>\n",
       "      <th>binning</th>\n",
       "      <th>l_s</th>\n",
       "      <th>line_samples</th>\n",
       "      <th>lines</th>\n",
       "    </tr>\n",
       "  </thead>\n",
       "  <tbody>\n",
       "    <tr>\n",
       "      <th>0</th>\n",
       "      <td>1522</td>\n",
       "      <td>343</td>\n",
       "      <td>ESP_011491_0985</td>\n",
       "      <td>2</td>\n",
       "      <td>187.478012</td>\n",
       "      <td>70415</td>\n",
       "      <td>22905</td>\n",
       "    </tr>\n",
       "    <tr>\n",
       "      <th>1</th>\n",
       "      <td>633</td>\n",
       "      <td>194</td>\n",
       "      <td>ESP_011544_0985</td>\n",
       "      <td>2</td>\n",
       "      <td>189.864905</td>\n",
       "      <td>35322</td>\n",
       "      <td>12415</td>\n",
       "    </tr>\n",
       "    <tr>\n",
       "      <th>2</th>\n",
       "      <td>996</td>\n",
       "      <td>254</td>\n",
       "      <td>ESP_011557_0985</td>\n",
       "      <td>2</td>\n",
       "      <td>190.452778</td>\n",
       "      <td>33310</td>\n",
       "      <td>14858</td>\n",
       "    </tr>\n",
       "    <tr>\n",
       "      <th>3</th>\n",
       "      <td>954</td>\n",
       "      <td>439</td>\n",
       "      <td>ESP_011623_0985</td>\n",
       "      <td>2</td>\n",
       "      <td>193.451793</td>\n",
       "      <td>30651</td>\n",
       "      <td>13555</td>\n",
       "    </tr>\n",
       "    <tr>\n",
       "      <th>4</th>\n",
       "      <td>1859</td>\n",
       "      <td>599</td>\n",
       "      <td>ESP_011702_0985</td>\n",
       "      <td>2</td>\n",
       "      <td>197.072742</td>\n",
       "      <td>41019</td>\n",
       "      <td>17112</td>\n",
       "    </tr>\n",
       "  </tbody>\n",
       "</table>\n",
       "</div>"
      ],
      "text/plain": [
       "   n_blotches  n_fans            obsid  binning         l_s  line_samples  \\\n",
       "0        1522     343  ESP_011491_0985        2  187.478012         70415   \n",
       "1         633     194  ESP_011544_0985        2  189.864905         35322   \n",
       "2         996     254  ESP_011557_0985        2  190.452778         33310   \n",
       "3         954     439  ESP_011623_0985        2  193.451793         30651   \n",
       "4        1859     599  ESP_011702_0985        2  197.072742         41019   \n",
       "\n",
       "   lines  \n",
       "0  22905  \n",
       "1  12415  \n",
       "2  14858  \n",
       "3  13555  \n",
       "4  17112  "
      ]
     },
     "execution_count": 18,
     "metadata": {},
     "output_type": "execute_result"
    }
   ],
   "source": [
    "season2.head()"
   ]
  },
  {
   "cell_type": "code",
   "execution_count": 19,
   "metadata": {
    "collapsed": false
   },
   "outputs": [],
   "source": [
    "path = io.analysis_folder() / 'inca_season3_metadata.csv'\n",
    "season3_meta = pd.read_csv(path)"
   ]
  },
  {
   "cell_type": "code",
   "execution_count": 20,
   "metadata": {
    "collapsed": false
   },
   "outputs": [],
   "source": [
    "season3 = season3.merge(season3_meta, on='obsid')"
   ]
  },
  {
   "cell_type": "code",
   "execution_count": 21,
   "metadata": {
    "collapsed": false
   },
   "outputs": [],
   "source": [
    "season2.set_index('l_s', inplace=True)\n",
    "\n",
    "season3.set_index('l_s', inplace=True)"
   ]
  },
  {
   "cell_type": "code",
   "execution_count": 22,
   "metadata": {
    "collapsed": false
   },
   "outputs": [],
   "source": [
    "season2['both'] = season2.n_blotches + season2.n_fans\n",
    "\n",
    "season3['both'] = season3.n_blotches + season3.n_fans"
   ]
  },
  {
   "cell_type": "code",
   "execution_count": 23,
   "metadata": {
    "collapsed": false
   },
   "outputs": [
    {
     "data": {
      "text/html": [
       "<div>\n",
       "<table border=\"1\" class=\"dataframe\">\n",
       "  <thead>\n",
       "    <tr style=\"text-align: right;\">\n",
       "      <th></th>\n",
       "      <th>n_blotches</th>\n",
       "      <th>n_fans</th>\n",
       "      <th>obsid</th>\n",
       "      <th>binning</th>\n",
       "      <th>line_samples</th>\n",
       "      <th>lines</th>\n",
       "      <th>both</th>\n",
       "    </tr>\n",
       "    <tr>\n",
       "      <th>l_s</th>\n",
       "      <th></th>\n",
       "      <th></th>\n",
       "      <th></th>\n",
       "      <th></th>\n",
       "      <th></th>\n",
       "      <th></th>\n",
       "      <th></th>\n",
       "    </tr>\n",
       "  </thead>\n",
       "  <tbody>\n",
       "    <tr>\n",
       "      <th>187.478012</th>\n",
       "      <td>1522</td>\n",
       "      <td>343</td>\n",
       "      <td>ESP_011491_0985</td>\n",
       "      <td>2</td>\n",
       "      <td>70415</td>\n",
       "      <td>22905</td>\n",
       "      <td>1865</td>\n",
       "    </tr>\n",
       "    <tr>\n",
       "      <th>189.864905</th>\n",
       "      <td>633</td>\n",
       "      <td>194</td>\n",
       "      <td>ESP_011544_0985</td>\n",
       "      <td>2</td>\n",
       "      <td>35322</td>\n",
       "      <td>12415</td>\n",
       "      <td>827</td>\n",
       "    </tr>\n",
       "    <tr>\n",
       "      <th>190.452778</th>\n",
       "      <td>996</td>\n",
       "      <td>254</td>\n",
       "      <td>ESP_011557_0985</td>\n",
       "      <td>2</td>\n",
       "      <td>33310</td>\n",
       "      <td>14858</td>\n",
       "      <td>1250</td>\n",
       "    </tr>\n",
       "    <tr>\n",
       "      <th>193.451793</th>\n",
       "      <td>954</td>\n",
       "      <td>439</td>\n",
       "      <td>ESP_011623_0985</td>\n",
       "      <td>2</td>\n",
       "      <td>30651</td>\n",
       "      <td>13555</td>\n",
       "      <td>1393</td>\n",
       "    </tr>\n",
       "    <tr>\n",
       "      <th>197.072742</th>\n",
       "      <td>1859</td>\n",
       "      <td>599</td>\n",
       "      <td>ESP_011702_0985</td>\n",
       "      <td>2</td>\n",
       "      <td>41019</td>\n",
       "      <td>17112</td>\n",
       "      <td>2458</td>\n",
       "    </tr>\n",
       "    <tr>\n",
       "      <th>198.317827</th>\n",
       "      <td>1525</td>\n",
       "      <td>795</td>\n",
       "      <td>ESP_011729_0985</td>\n",
       "      <td>2</td>\n",
       "      <td>49747</td>\n",
       "      <td>17243</td>\n",
       "      <td>2320</td>\n",
       "    </tr>\n",
       "    <tr>\n",
       "      <th>206.290697</th>\n",
       "      <td>1822</td>\n",
       "      <td>1314</td>\n",
       "      <td>ESP_011900_0985</td>\n",
       "      <td>2</td>\n",
       "      <td>40748</td>\n",
       "      <td>13462</td>\n",
       "      <td>3136</td>\n",
       "    </tr>\n",
       "    <tr>\n",
       "      <th>223.313714</th>\n",
       "      <td>1499</td>\n",
       "      <td>1438</td>\n",
       "      <td>ESP_012256_0985</td>\n",
       "      <td>1</td>\n",
       "      <td>51209</td>\n",
       "      <td>24743</td>\n",
       "      <td>2937</td>\n",
       "    </tr>\n",
       "    <tr>\n",
       "      <th>226.521571</th>\n",
       "      <td>2111</td>\n",
       "      <td>1099</td>\n",
       "      <td>ESP_012322_0985</td>\n",
       "      <td>1</td>\n",
       "      <td>41042</td>\n",
       "      <td>22765</td>\n",
       "      <td>3210</td>\n",
       "    </tr>\n",
       "    <tr>\n",
       "      <th>233.612669</th>\n",
       "      <td>636</td>\n",
       "      <td>100</td>\n",
       "      <td>ESP_012467_0985</td>\n",
       "      <td>1</td>\n",
       "      <td>21516</td>\n",
       "      <td>21643</td>\n",
       "      <td>736</td>\n",
       "    </tr>\n",
       "    <tr>\n",
       "      <th>244.650075</th>\n",
       "      <td>1445</td>\n",
       "      <td>593</td>\n",
       "      <td>ESP_012691_0985</td>\n",
       "      <td>2</td>\n",
       "      <td>26300</td>\n",
       "      <td>13993</td>\n",
       "      <td>2038</td>\n",
       "    </tr>\n",
       "    <tr>\n",
       "      <th>247.270026</th>\n",
       "      <td>1469</td>\n",
       "      <td>650</td>\n",
       "      <td>ESP_012744_0985</td>\n",
       "      <td>1</td>\n",
       "      <td>41301</td>\n",
       "      <td>22378</td>\n",
       "      <td>2119</td>\n",
       "    </tr>\n",
       "    <tr>\n",
       "      <th>254.441753</th>\n",
       "      <td>1307</td>\n",
       "      <td>491</td>\n",
       "      <td>ESP_012889_0985</td>\n",
       "      <td>2</td>\n",
       "      <td>20713</td>\n",
       "      <td>11458</td>\n",
       "      <td>1798</td>\n",
       "    </tr>\n",
       "    <tr>\n",
       "      <th>261.604127</th>\n",
       "      <td>1017</td>\n",
       "      <td>225</td>\n",
       "      <td>ESP_013034_0985</td>\n",
       "      <td>2</td>\n",
       "      <td>30527</td>\n",
       "      <td>12662</td>\n",
       "      <td>1242</td>\n",
       "    </tr>\n",
       "    <tr>\n",
       "      <th>265.495717</th>\n",
       "      <td>875</td>\n",
       "      <td>662</td>\n",
       "      <td>ESP_013113_0985</td>\n",
       "      <td>2</td>\n",
       "      <td>40499</td>\n",
       "      <td>15596</td>\n",
       "      <td>1537</td>\n",
       "    </tr>\n",
       "  </tbody>\n",
       "</table>\n",
       "</div>"
      ],
      "text/plain": [
       "            n_blotches  n_fans            obsid  binning  line_samples  lines  \\\n",
       "l_s                                                                             \n",
       "187.478012        1522     343  ESP_011491_0985        2         70415  22905   \n",
       "189.864905         633     194  ESP_011544_0985        2         35322  12415   \n",
       "190.452778         996     254  ESP_011557_0985        2         33310  14858   \n",
       "193.451793         954     439  ESP_011623_0985        2         30651  13555   \n",
       "197.072742        1859     599  ESP_011702_0985        2         41019  17112   \n",
       "198.317827        1525     795  ESP_011729_0985        2         49747  17243   \n",
       "206.290697        1822    1314  ESP_011900_0985        2         40748  13462   \n",
       "223.313714        1499    1438  ESP_012256_0985        1         51209  24743   \n",
       "226.521571        2111    1099  ESP_012322_0985        1         41042  22765   \n",
       "233.612669         636     100  ESP_012467_0985        1         21516  21643   \n",
       "244.650075        1445     593  ESP_012691_0985        2         26300  13993   \n",
       "247.270026        1469     650  ESP_012744_0985        1         41301  22378   \n",
       "254.441753        1307     491  ESP_012889_0985        2         20713  11458   \n",
       "261.604127        1017     225  ESP_013034_0985        2         30527  12662   \n",
       "265.495717         875     662  ESP_013113_0985        2         40499  15596   \n",
       "\n",
       "            both  \n",
       "l_s               \n",
       "187.478012  1865  \n",
       "189.864905   827  \n",
       "190.452778  1250  \n",
       "193.451793  1393  \n",
       "197.072742  2458  \n",
       "198.317827  2320  \n",
       "206.290697  3136  \n",
       "223.313714  2937  \n",
       "226.521571  3210  \n",
       "233.612669   736  \n",
       "244.650075  2038  \n",
       "247.270026  2119  \n",
       "254.441753  1798  \n",
       "261.604127  1242  \n",
       "265.495717  1537  "
      ]
     },
     "execution_count": 23,
     "metadata": {},
     "output_type": "execute_result"
    }
   ],
   "source": [
    "season2"
   ]
  },
  {
   "cell_type": "code",
   "execution_count": 24,
   "metadata": {
    "collapsed": false
   },
   "outputs": [],
   "source": [
    "season2['scaled'] = season2.both / season2.line_samples #/ season2.binning\n",
    "\n",
    "season3['scaled'] = season3.both / season3.line_samples #/ season3.binning"
   ]
  },
  {
   "cell_type": "code",
   "execution_count": 25,
   "metadata": {
    "collapsed": false,
    "scrolled": false
   },
   "outputs": [
    {
     "data": {
      "text/plain": [
       "<matplotlib.text.Text at 0x109bb9a20>"
      ]
     },
     "execution_count": 25,
     "metadata": {},
     "output_type": "execute_result"
    },
    {
     "data": {
      "image/png": "[encoded data removed]",
      "text/plain": [
       "<matplotlib.figure.Figure at 0x10de42518>"
      ]
     },
     "metadata": {},
     "output_type": "display_data"
    }
   ],
   "source": [
    "%matplotlib inline\n",
    "season2.scaled.plot(style='*', ms=14, \n",
    "                    xlim=(season3.index.min(), season3.index.max()), label='season2')\n",
    "season3.scaled.plot(style='*', color='red', label='season3', ms=14)\n",
    "plt.legend(loc='best')\n",
    "plt.ylabel('Scaled prevalence of markings')\n",
    "plt.title(\"Number of markings in Inca City region,scaled for binning and image size.\")\n",
    "#plt.savefig('/Users/klay6683/Desktop/inca_s23.pdf')"
   ]
  },
  {
   "cell_type": "code",
   "execution_count": 25,
   "metadata": {
    "collapsed": false
   },
   "outputs": [],
   "source": [
    "map_proj_metadata = pd.read_csv('/Users/Anya/Dropbox/myPy/IC_season2_LineSampleScale.csv')"
   ]
  },
  {
   "cell_type": "code",
   "execution_count": 26,
   "metadata": {
    "collapsed": false
   },
   "outputs": [],
   "source": [
    "map_proj_metadata['area_km'] = 1e-6*map_proj_metadata.lines * \\\n",
    "    map_proj_metadata.samples*(map_proj_metadata.map_scale)**2\n",
    "map_proj_metadata.set_index('id', inplace=True)"
   ]
  },
  {
   "cell_type": "code",
   "execution_count": 27,
   "metadata": {
    "collapsed": false
   },
   "outputs": [],
   "source": [
    "season2.set_index('obsid', inplace=True)"
   ]
  },
  {
   "cell_type": "code",
   "execution_count": 28,
   "metadata": {
    "collapsed": false
   },
   "outputs": [],
   "source": [
    "map_proj_metadata['scaled_nr_fans'] = season2.n_fans / map_proj_metadata.area_km\n",
    "map_proj_metadata['scaled_nr_blos'] = season2.n_blotches / map_proj_metadata.area_km\n",
    "map_proj_metadata['scaled_nr_both'] = season2.both / map_proj_metadata.area_km"
   ]
  },
  {
   "cell_type": "code",
   "execution_count": 29,
   "metadata": {
    "collapsed": false
   },
   "outputs": [],
   "source": [
    "map_proj_metadata.set_index('l_s', inplace=True)"
   ]
  },
  {
   "cell_type": "code",
   "execution_count": 30,
   "metadata": {
    "collapsed": false
   },
   "outputs": [
    {
     "data": {
      "text/plain": [
       "<matplotlib.text.Text at 0x10987f128>"
      ]
     },
     "execution_count": 30,
     "metadata": {},
     "output_type": "execute_result"
    },
    {
     "data": {
      "image/png": "[encoded data removed]",
      "text/plain": [
       "<matplotlib.figure.Figure at 0x104ed30b8>"
      ]
     },
     "metadata": {},
     "output_type": "display_data"
    }
   ],
   "source": [
    "map_proj_metadata.scaled_nr_fans.plot(style='*', ms=14, \n",
    "                    xlim=(season3.index.min(), season3.index.max()), label='fans ')\n",
    "map_proj_metadata.scaled_nr_blos.plot(style='.', color='red', label='blotches', ms=14)\n",
    "map_proj_metadata.scaled_nr_both.plot(style='*', color='green', label='both', ms=14)\n",
    "plt.legend(loc='best')\n",
    "plt.ylabel('Scaled prevalence of markings')\n",
    "plt.title(\"Number of markings in Inca City region,season 2, scaled for binning and image size.\")\n"
   ]
  },
  {
   "cell_type": "code",
   "execution_count": 59,
   "metadata": {
    "collapsed": false
   },
   "outputs": [
    {
     "data": {
      "text/plain": [
       "obsid\n",
       "ESP_011491_0985    1522\n",
       "ESP_011544_0985     633\n",
       "ESP_011557_0985     996\n",
       "ESP_011623_0985     954\n",
       "ESP_011702_0985    1859\n",
       "ESP_011729_0985    1525\n",
       "ESP_011900_0985    1822\n",
       "ESP_012256_0985    1499\n",
       "ESP_012322_0985    2111\n",
       "ESP_012467_0985     636\n",
       "ESP_012691_0985    1445\n",
       "ESP_012744_0985    1469\n",
       "ESP_012889_0985    1307\n",
       "ESP_013034_0985    1017\n",
       "ESP_013113_0985     875\n",
       "Name: n_blotches, dtype: int64"
      ]
     },
     "execution_count": 59,
     "metadata": {},
     "output_type": "execute_result"
    }
   ],
   "source": [
    "season2.n_blotches"
   ]
  },
  {
   "cell_type": "code",
   "execution_count": 29,
   "metadata": {
    "collapsed": false
   },
   "outputs": [],
   "source": [
    "fan_fnames_hdf = list(root.glob(\"*_fans.hdf\"))\n",
    "blotch_fnames_hdf = list(root.glob(\"*_blotches.hdf\"))"
   ]
  },
  {
   "cell_type": "code",
   "execution_count": 46,
   "metadata": {
    "collapsed": true
   },
   "outputs": [],
   "source": [
    "n = 8\n",
    "bc = markings.BlotchContainer.from_fname(blotch_fnames_hdf[n])\n",
    "fc = markings.FanContainer.from_fname(fan_fnames_hdf[n])\n",
    "\n",
    "# bc.content is list of Blotch objects\n",
    "all_bl_areas = np.array([obj.area for obj in bc.content])\n",
    "all_fan_areas = np.array([obj.area for obj in fc.content])"
   ]
  },
  {
   "cell_type": "code",
   "execution_count": 47,
   "metadata": {
    "collapsed": false
   },
   "outputs": [],
   "source": [
    "# some_other_stuff = [some other stuff]\n",
    "# if above lists have same length then u can do\n",
    "# df = pd.DataFrame({'areas':all_areas,\n",
    "#                    'name2':some_other_stuff})"
   ]
  },
  {
   "cell_type": "code",
   "execution_count": 48,
   "metadata": {
    "collapsed": false
   },
   "outputs": [
    {
     "data": {
      "text/plain": [
       "(PosixPath('/Users/Anya/Dropbox/p4_analysis/inca_s23_0.5cut_applied/ESP_012322_0985_blotches_latlons.csv'),\n",
       " PosixPath('/Users/Anya/Dropbox/p4_analysis/inca_s23_0.5cut_applied/ESP_012322_0985_fans_latlons.csv'))"
      ]
     },
     "execution_count": 48,
     "metadata": {},
     "output_type": "execute_result"
    }
   ],
   "source": [
    "blotch_fnames[n], fan_fnames[n]"
   ]
  },
  {
   "cell_type": "code",
   "execution_count": 49,
   "metadata": {
    "collapsed": false
   },
   "outputs": [],
   "source": [
    "#pd.read_csv(str(blotch_fnames[n]))"
   ]
  },
  {
   "cell_type": "code",
   "execution_count": 57,
   "metadata": {
    "collapsed": false
   },
   "outputs": [
    {
     "name": "stdout",
     "output_type": "stream",
     "text": [
      "2165.59863409 79622.0428156 4\n",
      "58.2243486496 175723.029923 94\n"
     ]
    }
   ],
   "source": [
    "min_bl = np.nanmin(all_bl_areas)\n",
    "min_fan = np.nanmin(all_fan_areas)\n",
    "print(min_bl, np.nanmax(all_bl_areas), len(all_bl_areas))\n",
    "print(min_fan, np.nanmax(all_fan_areas),  len(all_fan_areas))\n",
    "all_fan_areas[all_fan_areas == np.nan] = all_fan_areas.max() +1"
   ]
  },
  {
   "cell_type": "code",
   "execution_count": 58,
   "metadata": {
    "collapsed": false
   },
   "outputs": [
    {
     "data": {
      "image/png": "[encoded data removed]",
      "text/plain": [
       "<matplotlib.figure.Figure at 0x11399f748>"
      ]
     },
     "metadata": {},
     "output_type": "display_data"
    }
   ],
   "source": [
    "fh = plt.hist(all_fan_areas, bins = 200, range = (min_fan, np.nanmax(all_fan_areas)), alpha=0.75, color = 'red')\n",
    "bh = plt.hist(all_bl_areas, bins = 200, range = (min_bl, min_bl+1e3), alpha=0.75, color = 'blue')\n",
    "\n",
    "#fh = plt.hist(all_fan_areas, 200)"
   ]
  },
  {
   "cell_type": "code",
   "execution_count": 60,
   "metadata": {
    "collapsed": false
   },
   "outputs": [
    {
     "data": {
      "image/png": "[encoded data removed]",
      "text/plain": [
       "<matplotlib.figure.Figure at 0x1139e6cc0>"
      ]
     },
     "metadata": {},
     "output_type": "display_data"
    }
   ],
   "source": [
    "fh = plt.hist(all_fan_areas, bins = 200, range = (min_fan, 5e3), normed=True)"
   ]
  },
  {
   "cell_type": "code",
   "execution_count": 62,
   "metadata": {
    "collapsed": false
   },
   "outputs": [
    {
     "data": {
      "text/plain": [
       "array([  1.74736246,  26.73862565,  51.72988883,  76.72115202])"
      ]
     },
     "execution_count": 62,
     "metadata": {},
     "output_type": "execute_result"
    }
   ],
   "source": [
    "bh[1][:4]"
   ]
  },
  {
   "cell_type": "code",
   "execution_count": null,
   "metadata": {
    "collapsed": true
   },
   "outputs": [],
   "source": []
  }
 ],
 "metadata": {
  "kernelspec": {
   "display_name": "Python 3",
   "language": "python",
   "name": "python3"
  },
  "language_info": {
   "codemirror_mode": {
    "name": "ipython",
    "version": 3
   },
   "file_extension": ".py",
   "mimetype": "text/x-python",
   "name": "python",
   "nbconvert_exporter": "python",
   "pygments_lexer": "ipython3",
   "version": "3.5.1"
  }
 },
 "nbformat": 4,
 "nbformat_minor": 0
}
