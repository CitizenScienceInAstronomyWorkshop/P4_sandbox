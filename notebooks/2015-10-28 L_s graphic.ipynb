{
 "cells": [
  {
   "cell_type": "code",
   "execution_count": 0,
   "metadata": {
    "collapsed": false
   },
   "outputs": [],
   "source": [
    "%matplotlib nbagg\n",
    "# import seaborn as sns\n",
    "# sns.set_context('notebook')"
   ]
  },
  {
   "cell_type": "code",
   "execution_count": 0,
   "metadata": {
    "collapsed": true
   },
   "outputs": [],
   "source": [
    "from matplotlib.lines import Line2D\n",
    "def draw_coord_axes(ax):\n",
    "    xline = Line2D([-4.8, 4.8], [0, 0], ls='dotted',lw=2)\n",
    "    yline = Line2D([0, 0], [-8.5, 4.5], ls='dotted', lw=2)\n",
    "    ax.add_line(xline)\n",
    "    ax.add_line(yline)"
   ]
  },
  {
   "cell_type": "code",
   "execution_count": 0,
   "metadata": {
    "collapsed": true
   },
   "outputs": [],
   "source": [
    "def annotate_degrees(ax):\n",
    "    size = 55\n",
    "    ax.annotate('$0^\\circ$', xy=(5.5, 0), va='center', size=size)\n",
    "    ax.annotate('$180^\\circ$', xy=(-10, 0), va='center', size=size)\n",
    "    ax.annotate('$90^\\circ$', xy=(0, 5), ha='center', size=size)\n",
    "    ax.annotate('$270^\\circ$', xy=(0, -9), va='top', ha='center', size=size)"
   ]
  },
  {
   "cell_type": "code",
   "execution_count": 0,
   "metadata": {
    "collapsed": true
   },
   "outputs": [],
   "source": [
    "import math\n",
    "from matplotlib.patches import Circle\n",
    "def annotate_sun(ax):\n",
    "    circle = Circle(xy=(0, 0), radius=2, color='yellow')\n",
    "    ax.add_artist(circle)"
   ]
  },
  {
   "cell_type": "code",
   "execution_count": 0,
   "metadata": {
    "collapsed": true
   },
   "outputs": [],
   "source": [
    "def draw_ls(ls, ax):\n",
    "    theta = math.radians(ls)\n",
    "    ax.annotate('',\n",
    "            xy=(theta, 5),      # theta, radius\n",
    "            xytext=(0, 0),   # theta, radius\n",
    "            xycoords='polar',\n",
    "            textcoords='polar',\n",
    "            arrowprops=dict(facecolor='black', width=10, headwidth=20),\n",
    "            horizontalalignment='center',\n",
    "            verticalalignment='center',\n",
    "            clip_on=True, # clip to the axes bounding box\n",
    "    )"
   ]
  },
  {
   "cell_type": "code",
   "execution_count": 0,
   "metadata": {
    "collapsed": false
   },
   "outputs": [],
   "source": [
    "from matplotlib.patches import Ellipse\n",
    "el = Ellipse((0,-2), 10, 13, facecolor='lightgrey', edgecolor='r', lw=3)\n",
    "\n",
    "fig = plt.figure()\n",
    "ax = fig.add_subplot(111, aspect='equal')\n",
    "ax.add_artist(el)\n",
    "el.set_clip_box(ax.bbox)\n",
    "ax.set_xlim(-10, 7)\n",
    "ax.set_ylim(-10, 6)\n",
    "ax.axis('off')\n",
    "draw_coord_axes(ax)\n",
    "annotate_degrees(ax)\n",
    "annotate_sun(ax)\n",
    "draw_ls(265, ax)\n",
    "fig.savefig('/Users/klay6683/Desktop/ls.pdf',bbox_inches='tight')"
   ]
  },
  {
   "cell_type": "code",
   "execution_count": 0,
   "metadata": {
    "collapsed": true
   },
   "outputs": [],
   "source": [
    "ax.annotate?"
   ]
  },
  {
   "cell_type": "code",
   "execution_count": 0,
   "metadata": {
    "collapsed": false
   },
   "outputs": [],
   "source": [
    "math.sqrt(13**2-100)"
   ]
  },
  {
   "cell_type": "code",
   "execution_count": 0,
   "metadata": {
    "collapsed": true
   },
   "outputs": [],
   "source": []
  }
 ],
 "metadata": {
  "kernelspec": {
   "display_name": "Python 3",
   "language": "python",
   "name": "python3"
  },
  "language_info": {
   "codemirror_mode": {
    "name": "ipython",
    "version": 3
   },
   "file_extension": ".py",
   "mimetype": "text/x-python",
   "name": "python",
   "nbconvert_exporter": "python",
   "pygments_lexer": "ipython3",
   "version": "3.5.0"
  }
 },
 "nbformat": 4,
 "nbformat_minor": 0
}