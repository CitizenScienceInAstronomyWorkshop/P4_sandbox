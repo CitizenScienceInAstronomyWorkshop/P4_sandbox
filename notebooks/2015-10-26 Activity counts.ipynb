{
 "cells": [
  {
   "cell_type": "code",
   "execution_count": 16,
   "metadata": {
    "collapsed": true
   },
   "outputs": [],
   "source": [
    "from planet4 import region_data, p4io as io"
   ]
  },
  {
   "cell_type": "code",
   "execution_count": 17,
   "metadata": {
    "collapsed": false
   },
   "outputs": [],
   "source": [
    "root = io.dropbox() / 'season23_catalog'"
   ]
  },
  {
   "cell_type": "code",
   "execution_count": 18,
   "metadata": {
    "collapsed": true
   },
   "outputs": [],
   "source": [
    "from planet4 import markings"
   ]
  },
  {
   "cell_type": "code",
   "execution_count": 19,
   "metadata": {
    "collapsed": true
   },
   "outputs": [],
   "source": [
    "def get_marking(line, cut=0.8):\n",
    "    data = []\n",
    "    for marking in ['fan_','blotch_']:\n",
    "        m = line[line.index.str.startswith(marking)]\n",
    "        data.append(m.rename_axis(lambda x: x[x.index('_')+1:]))\n",
    "    fnotch = markings.Fnotch(line.fnotch_value, data[0], data[1])\n",
    "    return fnotch.get_marking(cut)"
   ]
  },
  {
   "cell_type": "code",
   "execution_count": 21,
   "metadata": {
    "collapsed": true
   },
   "outputs": [],
   "source": [
    "def get_final_markings_counts(img_name, cut=0.5):\n",
    "    d = {}\n",
    "    d['image_name'] = img_name\n",
    "    blotch_fname = root / '{}_blotches.csv'.format(img_name)\n",
    "    d['n_blotches'] = len(pd.read_csv(blotch_fname))\n",
    "    fan_fname = root / '{}_fans.csv'.format(img_name)\n",
    "    d['n_fans'] = len(pd.read_csv(fan_fname))\n",
    "    \n",
    "    fnotch_fname = root / '{}_fnotches.csv'.format(img_name)\n",
    "    df = pd.read_csv(fnotch_fname, index_col=0)\n",
    "    for row in df.iterrows():\n",
    "        marking = get_marking(row[1])\n",
    "        if isinstance(marking, markings.Blotch):\n",
    "            d['n_blotches'] +=1\n",
    "        else:\n",
    "            d['n_fans'] += 1\n",
    "    return d"
   ]
  },
  {
   "cell_type": "code",
   "execution_count": 22,
   "metadata": {
    "collapsed": false
   },
   "outputs": [
    {
     "data": {
      "text/plain": [
       "{'image_name': 'ESP_011351_0945', 'n_blotches': 1782, 'n_fans': 2089}"
      ]
     },
     "execution_count": 22,
     "metadata": {},
     "output_type": "execute_result"
    }
   ],
   "source": [
    "get_final_markings_counts('ESP_011351_0945')"
   ]
  },
  {
   "cell_type": "code",
   "execution_count": 116,
   "metadata": {
    "collapsed": false
   },
   "outputs": [],
   "source": [
    "with open('/Users/klay6683/Dropbox/data/planet4/season2_3_image_names.txt','w') as f:\n",
    "    for i in (region_data.Inca.season2 + region_data.Inca.season3):\n",
    "        f.write(i+'\\n')"
   ]
  },
  {
   "cell_type": "code",
   "execution_count": null,
   "metadata": {
    "collapsed": true
   },
   "outputs": [],
   "source": []
  },
  {
   "cell_type": "code",
   "execution_count": 82,
   "metadata": {
    "collapsed": false
   },
   "outputs": [],
   "source": [
    "results = []\n",
    "from IPython.display import display\n",
    "from ipywidgets import IntProgress\n",
    "t = IntProgress(min=0, max=len(region_data.Inca.season2)-1)\n",
    "display(t)\n",
    "for i, img_name in enumerate(region_data.Inca.season2):\n",
    "    t.value = i\n",
    "    results.append(get_final_markings_counts(img_name))"
   ]
  },
  {
   "cell_type": "code",
   "execution_count": 83,
   "metadata": {
    "collapsed": false
   },
   "outputs": [],
   "source": [
    "season2 = pd.DataFrame(results).sort_values(by='image_name')"
   ]
  },
  {
   "cell_type": "code",
   "execution_count": 57,
   "metadata": {
    "collapsed": true
   },
   "outputs": [],
   "source": [
    "%matplotlib inline"
   ]
  },
  {
   "cell_type": "code",
   "execution_count": 58,
   "metadata": {
    "collapsed": true
   },
   "outputs": [],
   "source": [
    "metadata = pd.read_csv(\"/Users/klay6683/Dropbox/data/planet4/P4_10-18-15_H_lat_lng.csv\")"
   ]
  },
  {
   "cell_type": "code",
   "execution_count": 77,
   "metadata": {
    "collapsed": false
   },
   "outputs": [
    {
     "data": {
      "text/html": [
       "<div>\n",
       "<table border=\"1\" class=\"dataframe\">\n",
       "  <thead>\n",
       "    <tr style=\"text-align: right;\">\n",
       "      <th></th>\n",
       "      <th>lat_centered</th>\n",
       "      <th>lng_east</th>\n",
       "      <th>binning</th>\n",
       "      <th>Object_time</th>\n",
       "      <th>solar_longitude</th>\n",
       "      <th>mars_time</th>\n",
       "      <th>north_azimuth</th>\n",
       "      <th>incidence_angle</th>\n",
       "      <th>sub_solar_azimuth</th>\n",
       "      <th>phase_angle</th>\n",
       "      <th>emission_angle</th>\n",
       "      <th>line_pixel_scale</th>\n",
       "      <th>sample_pixel_scale</th>\n",
       "      <th>pixel_resolution</th>\n",
       "      <th>mean_ground_resolution</th>\n",
       "      <th>labelpath</th>\n",
       "      <th>nsamples</th>\n",
       "    </tr>\n",
       "    <tr>\n",
       "      <th>HiRISE_image</th>\n",
       "      <th></th>\n",
       "      <th></th>\n",
       "      <th></th>\n",
       "      <th></th>\n",
       "      <th></th>\n",
       "      <th></th>\n",
       "      <th></th>\n",
       "      <th></th>\n",
       "      <th></th>\n",
       "      <th></th>\n",
       "      <th></th>\n",
       "      <th></th>\n",
       "      <th></th>\n",
       "      <th></th>\n",
       "      <th></th>\n",
       "      <th></th>\n",
       "      <th></th>\n",
       "    </tr>\n",
       "  </thead>\n",
       "  <tbody>\n",
       "    <tr>\n",
       "      <th>ESP_011296_0975</th>\n",
       "      <td>-82.197</td>\n",
       "      <td>225.253</td>\n",
       "      <td>4</td>\n",
       "      <td>2008-12-23T16:15:26.861</td>\n",
       "      <td>178.833</td>\n",
       "      <td>17.1368</td>\n",
       "      <td>110.5220</td>\n",
       "      <td>88.7496</td>\n",
       "      <td>33.9692</td>\n",
       "      <td>88.6680</td>\n",
       "      <td>0.126506</td>\n",
       "      <td>0.993333</td>\n",
       "      <td>0.993333</td>\n",
       "      <td>0.993333</td>\n",
       "      <td>0.993297</td>\n",
       "      <td>/Users/klay6683/Dropbox/data/hirise/labels/ESP...</td>\n",
       "      <td>25379</td>\n",
       "    </tr>\n",
       "    <tr>\n",
       "      <th>ESP_011341_0980</th>\n",
       "      <td>-81.797</td>\n",
       "      <td>76.130</td>\n",
       "      <td>2</td>\n",
       "      <td>2008-12-27T04:25:02.363</td>\n",
       "      <td>180.809</td>\n",
       "      <td>17.1053</td>\n",
       "      <td>110.3550</td>\n",
       "      <td>87.7622</td>\n",
       "      <td>34.8539</td>\n",
       "      <td>87.9902</td>\n",
       "      <td>0.244628</td>\n",
       "      <td>0.493991</td>\n",
       "      <td>0.493991</td>\n",
       "      <td>0.493991</td>\n",
       "      <td>0.494061</td>\n",
       "      <td>/Users/klay6683/Dropbox/data/hirise/labels/ESP...</td>\n",
       "      <td>34338</td>\n",
       "    </tr>\n",
       "    <tr>\n",
       "      <th>ESP_011348_0950</th>\n",
       "      <td>-85.043</td>\n",
       "      <td>259.094</td>\n",
       "      <td>4</td>\n",
       "      <td>2008-12-27T17:29:17.706</td>\n",
       "      <td>181.117</td>\n",
       "      <td>18.0259</td>\n",
       "      <td>123.6460</td>\n",
       "      <td>89.5608</td>\n",
       "      <td>33.8052</td>\n",
       "      <td>89.6876</td>\n",
       "      <td>0.155690</td>\n",
       "      <td>0.993521</td>\n",
       "      <td>0.993521</td>\n",
       "      <td>0.993521</td>\n",
       "      <td>0.993234</td>\n",
       "      <td>/Users/klay6683/Dropbox/data/hirise/labels/ESP...</td>\n",
       "      <td>38984</td>\n",
       "    </tr>\n",
       "    <tr>\n",
       "      <th>ESP_011350_0945</th>\n",
       "      <td>-85.216</td>\n",
       "      <td>181.415</td>\n",
       "      <td>2</td>\n",
       "      <td>2008-12-27T21:14:01.135</td>\n",
       "      <td>181.205</td>\n",
       "      <td>16.4914</td>\n",
       "      <td>99.7306</td>\n",
       "      <td>87.6506</td>\n",
       "      <td>37.3171</td>\n",
       "      <td>108.1210</td>\n",
       "      <td>24.588300</td>\n",
       "      <td>0.539108</td>\n",
       "      <td>0.539108</td>\n",
       "      <td>0.539108</td>\n",
       "      <td>0.539336</td>\n",
       "      <td>/Users/klay6683/Dropbox/data/hirise/labels/ESP...</td>\n",
       "      <td>17555</td>\n",
       "    </tr>\n",
       "    <tr>\n",
       "      <th>ESP_011351_0945</th>\n",
       "      <td>-85.216</td>\n",
       "      <td>181.548</td>\n",
       "      <td>4</td>\n",
       "      <td>2008-12-27T23:05:54.685</td>\n",
       "      <td>181.249</td>\n",
       "      <td>18.3165</td>\n",
       "      <td>127.9650</td>\n",
       "      <td>89.8666</td>\n",
       "      <td>33.8784</td>\n",
       "      <td>86.4021</td>\n",
       "      <td>4.123800</td>\n",
       "      <td>0.989757</td>\n",
       "      <td>0.989757</td>\n",
       "      <td>0.989757</td>\n",
       "      <td>0.990483</td>\n",
       "      <td>/Users/klay6683/Dropbox/data/hirise/labels/ESP...</td>\n",
       "      <td>33247</td>\n",
       "    </tr>\n",
       "    <tr>\n",
       "      <th>ESP_011370_0980</th>\n",
       "      <td>-81.925</td>\n",
       "      <td>4.813</td>\n",
       "      <td>2</td>\n",
       "      <td>2008-12-29T10:39:09.516</td>\n",
       "      <td>182.088</td>\n",
       "      <td>17.1368</td>\n",
       "      <td>110.8050</td>\n",
       "      <td>87.3169</td>\n",
       "      <td>34.6865</td>\n",
       "      <td>85.9367</td>\n",
       "      <td>1.664760</td>\n",
       "      <td>0.498336</td>\n",
       "      <td>0.498336</td>\n",
       "      <td>0.498336</td>\n",
       "      <td>0.498381</td>\n",
       "      <td>/Users/klay6683/Dropbox/data/hirise/labels/ESP...</td>\n",
       "      <td>19058</td>\n",
       "    </tr>\n",
       "    <tr>\n",
       "      <th>ESP_011394_0935</th>\n",
       "      <td>-86.392</td>\n",
       "      <td>99.068</td>\n",
       "      <td>4</td>\n",
       "      <td>2008-12-31T07:30:26.589</td>\n",
       "      <td>183.150</td>\n",
       "      <td>19.0773</td>\n",
       "      <td>139.4660</td>\n",
       "      <td>89.6666</td>\n",
       "      <td>33.6177</td>\n",
       "      <td>89.6491</td>\n",
       "      <td>0.022776</td>\n",
       "      <td>0.982442</td>\n",
       "      <td>0.982442</td>\n",
       "      <td>0.982442</td>\n",
       "      <td>0.983157</td>\n",
       "      <td>/Users/klay6683/Dropbox/data/hirise/labels/ESP...</td>\n",
       "      <td>33266</td>\n",
       "    </tr>\n",
       "    <tr>\n",
       "      <th>ESP_011403_0945</th>\n",
       "      <td>-85.239</td>\n",
       "      <td>181.038</td>\n",
       "      <td>2</td>\n",
       "      <td>2009-01-01T00:21:03.206</td>\n",
       "      <td>183.549</td>\n",
       "      <td>16.9348</td>\n",
       "      <td>106.5850</td>\n",
       "      <td>87.1865</td>\n",
       "      <td>35.9206</td>\n",
       "      <td>102.2180</td>\n",
       "      <td>17.944400</td>\n",
       "      <td>0.516220</td>\n",
       "      <td>0.516220</td>\n",
       "      <td>0.516220</td>\n",
       "      <td>0.516571</td>\n",
       "      <td>/Users/klay6683/Dropbox/data/hirise/labels/ESP...</td>\n",
       "      <td>23127</td>\n",
       "    </tr>\n",
       "    <tr>\n",
       "      <th>ESP_011404_0945</th>\n",
       "      <td>-85.236</td>\n",
       "      <td>181.105</td>\n",
       "      <td>4</td>\n",
       "      <td>2009-01-01T02:12:52.786</td>\n",
       "      <td>183.594</td>\n",
       "      <td>18.7543</td>\n",
       "      <td>134.2930</td>\n",
       "      <td>89.4106</td>\n",
       "      <td>33.8896</td>\n",
       "      <td>81.4188</td>\n",
       "      <td>9.519270</td>\n",
       "      <td>0.999692</td>\n",
       "      <td>0.999692</td>\n",
       "      <td>0.999692</td>\n",
       "      <td>1.000340</td>\n",
       "      <td>/Users/klay6683/Dropbox/data/hirise/labels/ESP...</td>\n",
       "      <td>37878</td>\n",
       "    </tr>\n",
       "    <tr>\n",
       "      <th>ESP_011406_0945</th>\n",
       "      <td>-85.409</td>\n",
       "      <td>103.924</td>\n",
       "      <td>2</td>\n",
       "      <td>2009-01-01T05:57:35.607</td>\n",
       "      <td>183.683</td>\n",
       "      <td>17.2527</td>\n",
       "      <td>111.5220</td>\n",
       "      <td>87.5474</td>\n",
       "      <td>35.4884</td>\n",
       "      <td>100.5530</td>\n",
       "      <td>15.512000</td>\n",
       "      <td>0.510679</td>\n",
       "      <td>0.510679</td>\n",
       "      <td>0.510679</td>\n",
       "      <td>0.510901</td>\n",
       "      <td>/Users/klay6683/Dropbox/data/hirise/labels/ESP...</td>\n",
       "      <td>36840</td>\n",
       "    </tr>\n",
       "    <tr>\n",
       "      <th>ESP_011407_0945</th>\n",
       "      <td>-85.407</td>\n",
       "      <td>103.983</td>\n",
       "      <td>4</td>\n",
       "      <td>2009-01-01T07:49:16.130</td>\n",
       "      <td>183.727</td>\n",
       "      <td>19.0694</td>\n",
       "      <td>138.7770</td>\n",
       "      <td>89.6881</td>\n",
       "      <td>34.0329</td>\n",
       "      <td>80.8892</td>\n",
       "      <td>10.477000</td>\n",
       "      <td>0.997691</td>\n",
       "      <td>0.997691</td>\n",
       "      <td>0.997691</td>\n",
       "      <td>0.998168</td>\n",
       "      <td>/Users/klay6683/Dropbox/data/hirise/labels/ESP...</td>\n",
       "      <td>43871</td>\n",
       "    </tr>\n",
       "    <tr>\n",
       "      <th>ESP_011408_0930</th>\n",
       "      <td>-87.019</td>\n",
       "      <td>86.559</td>\n",
       "      <td>4</td>\n",
       "      <td>2009-01-01T09:41:03.376</td>\n",
       "      <td>183.771</td>\n",
       "      <td>19.7204</td>\n",
       "      <td>149.1350</td>\n",
       "      <td>89.6955</td>\n",
       "      <td>33.5040</td>\n",
       "      <td>91.2999</td>\n",
       "      <td>1.925760</td>\n",
       "      <td>0.985975</td>\n",
       "      <td>0.985975</td>\n",
       "      <td>0.985975</td>\n",
       "      <td>0.986405</td>\n",
       "      <td>/Users/klay6683/Dropbox/data/hirise/labels/ESP...</td>\n",
       "      <td>19387</td>\n",
       "    </tr>\n",
       "    <tr>\n",
       "      <th>ESP_011413_0970</th>\n",
       "      <td>-82.699</td>\n",
       "      <td>273.129</td>\n",
       "      <td>2</td>\n",
       "      <td>2009-01-01T19:03:46.713</td>\n",
       "      <td>183.994</td>\n",
       "      <td>17.2857</td>\n",
       "      <td>112.9870</td>\n",
       "      <td>86.9613</td>\n",
       "      <td>34.5748</td>\n",
       "      <td>87.1574</td>\n",
       "      <td>0.215635</td>\n",
       "      <td>0.492922</td>\n",
       "      <td>0.492922</td>\n",
       "      <td>0.492922</td>\n",
       "      <td>0.492897</td>\n",
       "      <td>/Users/klay6683/Dropbox/data/hirise/labels/ESP...</td>\n",
       "      <td>31229</td>\n",
       "    </tr>\n",
       "    <tr>\n",
       "      <th>ESP_011420_0930</th>\n",
       "      <td>-87.009</td>\n",
       "      <td>127.317</td>\n",
       "      <td>4</td>\n",
       "      <td>2009-01-02T08:07:26.683</td>\n",
       "      <td>184.304</td>\n",
       "      <td>20.2773</td>\n",
       "      <td>157.5610</td>\n",
       "      <td>89.8505</td>\n",
       "      <td>33.4689</td>\n",
       "      <td>89.6609</td>\n",
       "      <td>0.206427</td>\n",
       "      <td>0.976965</td>\n",
       "      <td>0.976965</td>\n",
       "      <td>0.976965</td>\n",
       "      <td>0.977207</td>\n",
       "      <td>/Users/klay6683/Dropbox/data/hirise/labels/ESP...</td>\n",
       "      <td>27860</td>\n",
       "    </tr>\n",
       "    <tr>\n",
       "      <th>ESP_011422_0930</th>\n",
       "      <td>-87.041</td>\n",
       "      <td>72.356</td>\n",
       "      <td>4</td>\n",
       "      <td>2009-01-02T11:51:51.720</td>\n",
       "      <td>184.393</td>\n",
       "      <td>20.2536</td>\n",
       "      <td>157.1770</td>\n",
       "      <td>89.7798</td>\n",
       "      <td>33.4134</td>\n",
       "      <td>88.8153</td>\n",
       "      <td>1.124310</td>\n",
       "      <td>0.988493</td>\n",
       "      <td>0.988493</td>\n",
       "      <td>0.988493</td>\n",
       "      <td>0.988319</td>\n",
       "      <td>/Users/klay6683/Dropbox/data/hirise/labels/ESP...</td>\n",
       "      <td>7959</td>\n",
       "    </tr>\n",
       "  </tbody>\n",
       "</table>\n",
       "</div>"
      ],
      "text/plain": [
       "                 lat_centered  lng_east  binning              Object_time  \\\n",
       "HiRISE_image                                                                \n",
       "ESP_011296_0975       -82.197   225.253        4  2008-12-23T16:15:26.861   \n",
       "ESP_011341_0980       -81.797    76.130        2  2008-12-27T04:25:02.363   \n",
       "ESP_011348_0950       -85.043   259.094        4  2008-12-27T17:29:17.706   \n",
       "ESP_011350_0945       -85.216   181.415        2  2008-12-27T21:14:01.135   \n",
       "ESP_011351_0945       -85.216   181.548        4  2008-12-27T23:05:54.685   \n",
       "ESP_011370_0980       -81.925     4.813        2  2008-12-29T10:39:09.516   \n",
       "ESP_011394_0935       -86.392    99.068        4  2008-12-31T07:30:26.589   \n",
       "ESP_011403_0945       -85.239   181.038        2  2009-01-01T00:21:03.206   \n",
       "ESP_011404_0945       -85.236   181.105        4  2009-01-01T02:12:52.786   \n",
       "ESP_011406_0945       -85.409   103.924        2  2009-01-01T05:57:35.607   \n",
       "ESP_011407_0945       -85.407   103.983        4  2009-01-01T07:49:16.130   \n",
       "ESP_011408_0930       -87.019    86.559        4  2009-01-01T09:41:03.376   \n",
       "ESP_011413_0970       -82.699   273.129        2  2009-01-01T19:03:46.713   \n",
       "ESP_011420_0930       -87.009   127.317        4  2009-01-02T08:07:26.683   \n",
       "ESP_011422_0930       -87.041    72.356        4  2009-01-02T11:51:51.720   \n",
       "\n",
       "                 solar_longitude  mars_time  north_azimuth  incidence_angle  \\\n",
       "HiRISE_image                                                                  \n",
       "ESP_011296_0975          178.833    17.1368       110.5220          88.7496   \n",
       "ESP_011341_0980          180.809    17.1053       110.3550          87.7622   \n",
       "ESP_011348_0950          181.117    18.0259       123.6460          89.5608   \n",
       "ESP_011350_0945          181.205    16.4914        99.7306          87.6506   \n",
       "ESP_011351_0945          181.249    18.3165       127.9650          89.8666   \n",
       "ESP_011370_0980          182.088    17.1368       110.8050          87.3169   \n",
       "ESP_011394_0935          183.150    19.0773       139.4660          89.6666   \n",
       "ESP_011403_0945          183.549    16.9348       106.5850          87.1865   \n",
       "ESP_011404_0945          183.594    18.7543       134.2930          89.4106   \n",
       "ESP_011406_0945          183.683    17.2527       111.5220          87.5474   \n",
       "ESP_011407_0945          183.727    19.0694       138.7770          89.6881   \n",
       "ESP_011408_0930          183.771    19.7204       149.1350          89.6955   \n",
       "ESP_011413_0970          183.994    17.2857       112.9870          86.9613   \n",
       "ESP_011420_0930          184.304    20.2773       157.5610          89.8505   \n",
       "ESP_011422_0930          184.393    20.2536       157.1770          89.7798   \n",
       "\n",
       "                 sub_solar_azimuth  phase_angle  emission_angle  \\\n",
       "HiRISE_image                                                      \n",
       "ESP_011296_0975            33.9692      88.6680        0.126506   \n",
       "ESP_011341_0980            34.8539      87.9902        0.244628   \n",
       "ESP_011348_0950            33.8052      89.6876        0.155690   \n",
       "ESP_011350_0945            37.3171     108.1210       24.588300   \n",
       "ESP_011351_0945            33.8784      86.4021        4.123800   \n",
       "ESP_011370_0980            34.6865      85.9367        1.664760   \n",
       "ESP_011394_0935            33.6177      89.6491        0.022776   \n",
       "ESP_011403_0945            35.9206     102.2180       17.944400   \n",
       "ESP_011404_0945            33.8896      81.4188        9.519270   \n",
       "ESP_011406_0945            35.4884     100.5530       15.512000   \n",
       "ESP_011407_0945            34.0329      80.8892       10.477000   \n",
       "ESP_011408_0930            33.5040      91.2999        1.925760   \n",
       "ESP_011413_0970            34.5748      87.1574        0.215635   \n",
       "ESP_011420_0930            33.4689      89.6609        0.206427   \n",
       "ESP_011422_0930            33.4134      88.8153        1.124310   \n",
       "\n",
       "                 line_pixel_scale  sample_pixel_scale  pixel_resolution  \\\n",
       "HiRISE_image                                                              \n",
       "ESP_011296_0975          0.993333            0.993333          0.993333   \n",
       "ESP_011341_0980          0.493991            0.493991          0.493991   \n",
       "ESP_011348_0950          0.993521            0.993521          0.993521   \n",
       "ESP_011350_0945          0.539108            0.539108          0.539108   \n",
       "ESP_011351_0945          0.989757            0.989757          0.989757   \n",
       "ESP_011370_0980          0.498336            0.498336          0.498336   \n",
       "ESP_011394_0935          0.982442            0.982442          0.982442   \n",
       "ESP_011403_0945          0.516220            0.516220          0.516220   \n",
       "ESP_011404_0945          0.999692            0.999692          0.999692   \n",
       "ESP_011406_0945          0.510679            0.510679          0.510679   \n",
       "ESP_011407_0945          0.997691            0.997691          0.997691   \n",
       "ESP_011408_0930          0.985975            0.985975          0.985975   \n",
       "ESP_011413_0970          0.492922            0.492922          0.492922   \n",
       "ESP_011420_0930          0.976965            0.976965          0.976965   \n",
       "ESP_011422_0930          0.988493            0.988493          0.988493   \n",
       "\n",
       "                 mean_ground_resolution  \\\n",
       "HiRISE_image                              \n",
       "ESP_011296_0975                0.993297   \n",
       "ESP_011341_0980                0.494061   \n",
       "ESP_011348_0950                0.993234   \n",
       "ESP_011350_0945                0.539336   \n",
       "ESP_011351_0945                0.990483   \n",
       "ESP_011370_0980                0.498381   \n",
       "ESP_011394_0935                0.983157   \n",
       "ESP_011403_0945                0.516571   \n",
       "ESP_011404_0945                1.000340   \n",
       "ESP_011406_0945                0.510901   \n",
       "ESP_011407_0945                0.998168   \n",
       "ESP_011408_0930                0.986405   \n",
       "ESP_011413_0970                0.492897   \n",
       "ESP_011420_0930                0.977207   \n",
       "ESP_011422_0930                0.988319   \n",
       "\n",
       "                                                         labelpath  nsamples  \n",
       "HiRISE_image                                                                  \n",
       "ESP_011296_0975  /Users/klay6683/Dropbox/data/hirise/labels/ESP...     25379  \n",
       "ESP_011341_0980  /Users/klay6683/Dropbox/data/hirise/labels/ESP...     34338  \n",
       "ESP_011348_0950  /Users/klay6683/Dropbox/data/hirise/labels/ESP...     38984  \n",
       "ESP_011350_0945  /Users/klay6683/Dropbox/data/hirise/labels/ESP...     17555  \n",
       "ESP_011351_0945  /Users/klay6683/Dropbox/data/hirise/labels/ESP...     33247  \n",
       "ESP_011370_0980  /Users/klay6683/Dropbox/data/hirise/labels/ESP...     19058  \n",
       "ESP_011394_0935  /Users/klay6683/Dropbox/data/hirise/labels/ESP...     33266  \n",
       "ESP_011403_0945  /Users/klay6683/Dropbox/data/hirise/labels/ESP...     23127  \n",
       "ESP_011404_0945  /Users/klay6683/Dropbox/data/hirise/labels/ESP...     37878  \n",
       "ESP_011406_0945  /Users/klay6683/Dropbox/data/hirise/labels/ESP...     36840  \n",
       "ESP_011407_0945  /Users/klay6683/Dropbox/data/hirise/labels/ESP...     43871  \n",
       "ESP_011408_0930  /Users/klay6683/Dropbox/data/hirise/labels/ESP...     19387  \n",
       "ESP_011413_0970  /Users/klay6683/Dropbox/data/hirise/labels/ESP...     31229  \n",
       "ESP_011420_0930  /Users/klay6683/Dropbox/data/hirise/labels/ESP...     27860  \n",
       "ESP_011422_0930  /Users/klay6683/Dropbox/data/hirise/labels/ESP...      7959  "
      ]
     },
     "execution_count": 77,
     "metadata": {},
     "output_type": "execute_result"
    }
   ],
   "source": [
    "metadata.head(15)"
   ]
  },
  {
   "cell_type": "code",
   "execution_count": 60,
   "metadata": {
    "collapsed": true
   },
   "outputs": [],
   "source": [
    "from hirise.hirise_tools import get_rdr_label, labels_root"
   ]
  },
  {
   "cell_type": "code",
   "execution_count": 61,
   "metadata": {
    "collapsed": true
   },
   "outputs": [],
   "source": [
    "def get_nlines_from_label(labelfname):\n",
    "    module = pvl.load(str(labelfname))\n",
    "    return module['UNCOMPRESSED_FILE']['IMAGE']['LINE_SAMPLES']"
   ]
  },
  {
   "cell_type": "code",
   "execution_count": 62,
   "metadata": {
    "collapsed": false
   },
   "outputs": [],
   "source": [
    "p = labels_root()"
   ]
  },
  {
   "cell_type": "code",
   "execution_count": 63,
   "metadata": {
    "collapsed": true
   },
   "outputs": [],
   "source": [
    "metadata['labelpath'] = metadata.HiRISE_image.map(lambda x: p / (x + '_RED.LBL'))"
   ]
  },
  {
   "cell_type": "code",
   "execution_count": 64,
   "metadata": {
    "collapsed": false
   },
   "outputs": [],
   "source": [
    "metadata['nsamples'] = metadata.labelpath.map(get_nlines_from_label)"
   ]
  },
  {
   "cell_type": "code",
   "execution_count": 65,
   "metadata": {
    "collapsed": false
   },
   "outputs": [],
   "source": [
    "metadata.set_index('HiRISE_image', inplace=True)"
   ]
  },
  {
   "cell_type": "code",
   "execution_count": 84,
   "metadata": {
    "collapsed": false
   },
   "outputs": [],
   "source": [
    "season2.set_index('image_name', inplace=True)"
   ]
  },
  {
   "cell_type": "code",
   "execution_count": 86,
   "metadata": {
    "collapsed": false
   },
   "outputs": [],
   "source": [
    "season2 = season2.join(metadata['solar_longitude binning nsamples'.split()])"
   ]
  },
  {
   "cell_type": "code",
   "execution_count": 87,
   "metadata": {
    "collapsed": false
   },
   "outputs": [],
   "source": [
    "season2.set_index('solar_longitude', inplace=True)"
   ]
  },
  {
   "cell_type": "code",
   "execution_count": 88,
   "metadata": {
    "collapsed": false
   },
   "outputs": [
    {
     "data": {
      "text/html": [
       "<div>\n",
       "<table border=\"1\" class=\"dataframe\">\n",
       "  <thead>\n",
       "    <tr style=\"text-align: right;\">\n",
       "      <th></th>\n",
       "      <th>n_blotches</th>\n",
       "      <th>n_fans</th>\n",
       "      <th>binning</th>\n",
       "      <th>nsamples</th>\n",
       "      <th>both</th>\n",
       "      <th>scaled</th>\n",
       "    </tr>\n",
       "    <tr>\n",
       "      <th>solar_longitude</th>\n",
       "      <th></th>\n",
       "      <th></th>\n",
       "      <th></th>\n",
       "      <th></th>\n",
       "      <th></th>\n",
       "      <th></th>\n",
       "    </tr>\n",
       "  </thead>\n",
       "  <tbody>\n",
       "    <tr>\n",
       "      <th>176.075</th>\n",
       "      <td>361</td>\n",
       "      <td>76</td>\n",
       "      <td>4</td>\n",
       "      <td>25352</td>\n",
       "      <td>437</td>\n",
       "      <td>0.004309</td>\n",
       "    </tr>\n",
       "    <tr>\n",
       "      <th>178.951</th>\n",
       "      <td>1217</td>\n",
       "      <td>179</td>\n",
       "      <td>2</td>\n",
       "      <td>40716</td>\n",
       "      <td>1396</td>\n",
       "      <td>0.017143</td>\n",
       "    </tr>\n",
       "    <tr>\n",
       "      <th>179.521</th>\n",
       "      <td>711</td>\n",
       "      <td>93</td>\n",
       "      <td>2</td>\n",
       "      <td>51314</td>\n",
       "      <td>804</td>\n",
       "      <td>0.007834</td>\n",
       "    </tr>\n",
       "    <tr>\n",
       "      <th>182.428</th>\n",
       "      <td>949</td>\n",
       "      <td>224</td>\n",
       "      <td>2</td>\n",
       "      <td>41025</td>\n",
       "      <td>1173</td>\n",
       "      <td>0.014296</td>\n",
       "    </tr>\n",
       "    <tr>\n",
       "      <th>188.901</th>\n",
       "      <td>1976</td>\n",
       "      <td>447</td>\n",
       "      <td>2</td>\n",
       "      <td>50896</td>\n",
       "      <td>2423</td>\n",
       "      <td>0.023803</td>\n",
       "    </tr>\n",
       "  </tbody>\n",
       "</table>\n",
       "</div>"
      ],
      "text/plain": [
       "                 n_blotches  n_fans  binning  nsamples  both    scaled\n",
       "solar_longitude                                                       \n",
       "176.075                 361      76        4     25352   437  0.004309\n",
       "178.951                1217     179        2     40716  1396  0.017143\n",
       "179.521                 711      93        2     51314   804  0.007834\n",
       "182.428                 949     224        2     41025  1173  0.014296\n",
       "188.901                1976     447        2     50896  2423  0.023803"
      ]
     },
     "execution_count": 88,
     "metadata": {},
     "output_type": "execute_result"
    }
   ],
   "source": [
    "counts.head()"
   ]
  },
  {
   "cell_type": "code",
   "execution_count": 89,
   "metadata": {
    "collapsed": false
   },
   "outputs": [],
   "source": [
    "season2['both'] = season2.n_blotches + season2.n_fans"
   ]
  },
  {
   "cell_type": "code",
   "execution_count": 96,
   "metadata": {
    "collapsed": false
   },
   "outputs": [
    {
     "data": {
      "text/html": [
       "<div>\n",
       "<table border=\"1\" class=\"dataframe\">\n",
       "  <thead>\n",
       "    <tr style=\"text-align: right;\">\n",
       "      <th></th>\n",
       "      <th>n_blotches</th>\n",
       "      <th>n_fans</th>\n",
       "      <th>binning</th>\n",
       "      <th>nsamples</th>\n",
       "      <th>both</th>\n",
       "      <th>scaled</th>\n",
       "    </tr>\n",
       "    <tr>\n",
       "      <th>solar_longitude</th>\n",
       "      <th></th>\n",
       "      <th></th>\n",
       "      <th></th>\n",
       "      <th></th>\n",
       "      <th></th>\n",
       "      <th></th>\n",
       "    </tr>\n",
       "  </thead>\n",
       "  <tbody>\n",
       "    <tr>\n",
       "      <th>187.478</th>\n",
       "      <td>1546</td>\n",
       "      <td>319</td>\n",
       "      <td>2</td>\n",
       "      <td>70415</td>\n",
       "      <td>1865</td>\n",
       "      <td>0.013243</td>\n",
       "    </tr>\n",
       "    <tr>\n",
       "      <th>189.865</th>\n",
       "      <td>642</td>\n",
       "      <td>185</td>\n",
       "      <td>2</td>\n",
       "      <td>35322</td>\n",
       "      <td>827</td>\n",
       "      <td>0.011707</td>\n",
       "    </tr>\n",
       "    <tr>\n",
       "      <th>190.453</th>\n",
       "      <td>1011</td>\n",
       "      <td>239</td>\n",
       "      <td>2</td>\n",
       "      <td>33310</td>\n",
       "      <td>1250</td>\n",
       "      <td>0.018763</td>\n",
       "    </tr>\n",
       "    <tr>\n",
       "      <th>193.452</th>\n",
       "      <td>996</td>\n",
       "      <td>397</td>\n",
       "      <td>2</td>\n",
       "      <td>30651</td>\n",
       "      <td>1393</td>\n",
       "      <td>0.022724</td>\n",
       "    </tr>\n",
       "    <tr>\n",
       "      <th>197.073</th>\n",
       "      <td>1892</td>\n",
       "      <td>566</td>\n",
       "      <td>2</td>\n",
       "      <td>41019</td>\n",
       "      <td>2458</td>\n",
       "      <td>0.029962</td>\n",
       "    </tr>\n",
       "    <tr>\n",
       "      <th>198.318</th>\n",
       "      <td>1575</td>\n",
       "      <td>745</td>\n",
       "      <td>2</td>\n",
       "      <td>49747</td>\n",
       "      <td>2320</td>\n",
       "      <td>0.023318</td>\n",
       "    </tr>\n",
       "    <tr>\n",
       "      <th>206.291</th>\n",
       "      <td>1913</td>\n",
       "      <td>1223</td>\n",
       "      <td>2</td>\n",
       "      <td>40748</td>\n",
       "      <td>3136</td>\n",
       "      <td>0.038480</td>\n",
       "    </tr>\n",
       "    <tr>\n",
       "      <th>223.314</th>\n",
       "      <td>1622</td>\n",
       "      <td>1315</td>\n",
       "      <td>1</td>\n",
       "      <td>51209</td>\n",
       "      <td>2937</td>\n",
       "      <td>0.057353</td>\n",
       "    </tr>\n",
       "    <tr>\n",
       "      <th>226.522</th>\n",
       "      <td>2241</td>\n",
       "      <td>969</td>\n",
       "      <td>1</td>\n",
       "      <td>41042</td>\n",
       "      <td>3210</td>\n",
       "      <td>0.078213</td>\n",
       "    </tr>\n",
       "    <tr>\n",
       "      <th>233.613</th>\n",
       "      <td>644</td>\n",
       "      <td>92</td>\n",
       "      <td>1</td>\n",
       "      <td>21516</td>\n",
       "      <td>736</td>\n",
       "      <td>0.034207</td>\n",
       "    </tr>\n",
       "  </tbody>\n",
       "</table>\n",
       "</div>"
      ],
      "text/plain": [
       "                 n_blotches  n_fans  binning  nsamples  both    scaled\n",
       "solar_longitude                                                       \n",
       "187.478                1546     319        2     70415  1865  0.013243\n",
       "189.865                 642     185        2     35322   827  0.011707\n",
       "190.453                1011     239        2     33310  1250  0.018763\n",
       "193.452                 996     397        2     30651  1393  0.022724\n",
       "197.073                1892     566        2     41019  2458  0.029962\n",
       "198.318                1575     745        2     49747  2320  0.023318\n",
       "206.291                1913    1223        2     40748  3136  0.038480\n",
       "223.314                1622    1315        1     51209  2937  0.057353\n",
       "226.522                2241     969        1     41042  3210  0.078213\n",
       "233.613                 644      92        1     21516   736  0.034207"
      ]
     },
     "execution_count": 96,
     "metadata": {},
     "output_type": "execute_result"
    }
   ],
   "source": [
    "season2.head(10)"
   ]
  },
  {
   "cell_type": "code",
   "execution_count": 95,
   "metadata": {
    "collapsed": false
   },
   "outputs": [
    {
     "data": {
      "text/html": [
       "<div>\n",
       "<table border=\"1\" class=\"dataframe\">\n",
       "  <thead>\n",
       "    <tr style=\"text-align: right;\">\n",
       "      <th></th>\n",
       "      <th>n_blotches</th>\n",
       "      <th>n_fans</th>\n",
       "      <th>binning</th>\n",
       "      <th>nsamples</th>\n",
       "      <th>both</th>\n",
       "      <th>scaled</th>\n",
       "    </tr>\n",
       "    <tr>\n",
       "      <th>solar_longitude</th>\n",
       "      <th></th>\n",
       "      <th></th>\n",
       "      <th></th>\n",
       "      <th></th>\n",
       "      <th></th>\n",
       "      <th></th>\n",
       "    </tr>\n",
       "  </thead>\n",
       "  <tbody>\n",
       "    <tr>\n",
       "      <th>176.075</th>\n",
       "      <td>361</td>\n",
       "      <td>76</td>\n",
       "      <td>4</td>\n",
       "      <td>25352</td>\n",
       "      <td>437</td>\n",
       "      <td>0.004309</td>\n",
       "    </tr>\n",
       "    <tr>\n",
       "      <th>178.951</th>\n",
       "      <td>1217</td>\n",
       "      <td>179</td>\n",
       "      <td>2</td>\n",
       "      <td>40716</td>\n",
       "      <td>1396</td>\n",
       "      <td>0.017143</td>\n",
       "    </tr>\n",
       "    <tr>\n",
       "      <th>179.521</th>\n",
       "      <td>711</td>\n",
       "      <td>93</td>\n",
       "      <td>2</td>\n",
       "      <td>51314</td>\n",
       "      <td>804</td>\n",
       "      <td>0.007834</td>\n",
       "    </tr>\n",
       "    <tr>\n",
       "      <th>182.428</th>\n",
       "      <td>949</td>\n",
       "      <td>224</td>\n",
       "      <td>2</td>\n",
       "      <td>41025</td>\n",
       "      <td>1173</td>\n",
       "      <td>0.014296</td>\n",
       "    </tr>\n",
       "    <tr>\n",
       "      <th>188.901</th>\n",
       "      <td>1976</td>\n",
       "      <td>447</td>\n",
       "      <td>2</td>\n",
       "      <td>50896</td>\n",
       "      <td>2423</td>\n",
       "      <td>0.023803</td>\n",
       "    </tr>\n",
       "    <tr>\n",
       "      <th>207.777</th>\n",
       "      <td>1783</td>\n",
       "      <td>1305</td>\n",
       "      <td>1</td>\n",
       "      <td>41239</td>\n",
       "      <td>3088</td>\n",
       "      <td>0.074881</td>\n",
       "    </tr>\n",
       "    <tr>\n",
       "      <th>211.519</th>\n",
       "      <td>596</td>\n",
       "      <td>263</td>\n",
       "      <td>2</td>\n",
       "      <td>11120</td>\n",
       "      <td>859</td>\n",
       "      <td>0.038624</td>\n",
       "    </tr>\n",
       "    <tr>\n",
       "      <th>217.831</th>\n",
       "      <td>1363</td>\n",
       "      <td>819</td>\n",
       "      <td>1</td>\n",
       "      <td>31234</td>\n",
       "      <td>2182</td>\n",
       "      <td>0.069860</td>\n",
       "    </tr>\n",
       "    <tr>\n",
       "      <th>242.299</th>\n",
       "      <td>1368</td>\n",
       "      <td>652</td>\n",
       "      <td>1</td>\n",
       "      <td>36392</td>\n",
       "      <td>2020</td>\n",
       "      <td>0.055507</td>\n",
       "    </tr>\n",
       "    <tr>\n",
       "      <th>245.559</th>\n",
       "      <td>2297</td>\n",
       "      <td>1057</td>\n",
       "      <td>2</td>\n",
       "      <td>40517</td>\n",
       "      <td>3354</td>\n",
       "      <td>0.041390</td>\n",
       "    </tr>\n",
       "  </tbody>\n",
       "</table>\n",
       "</div>"
      ],
      "text/plain": [
       "                 n_blotches  n_fans  binning  nsamples  both    scaled\n",
       "solar_longitude                                                       \n",
       "176.075                 361      76        4     25352   437  0.004309\n",
       "178.951                1217     179        2     40716  1396  0.017143\n",
       "179.521                 711      93        2     51314   804  0.007834\n",
       "182.428                 949     224        2     41025  1173  0.014296\n",
       "188.901                1976     447        2     50896  2423  0.023803\n",
       "207.777                1783    1305        1     41239  3088  0.074881\n",
       "211.519                 596     263        2     11120   859  0.038624\n",
       "217.831                1363     819        1     31234  2182  0.069860\n",
       "242.299                1368     652        1     36392  2020  0.055507\n",
       "245.559                2297    1057        2     40517  3354  0.041390"
      ]
     },
     "execution_count": 95,
     "metadata": {},
     "output_type": "execute_result"
    }
   ],
   "source": [
    "counts.head(10)"
   ]
  },
  {
   "cell_type": "code",
   "execution_count": 91,
   "metadata": {
    "collapsed": true
   },
   "outputs": [],
   "source": [
    "season2['scaled'] = season2.both / season2.nsamples / season2.binning"
   ]
  },
  {
   "cell_type": "code",
   "execution_count": 98,
   "metadata": {
    "collapsed": false
   },
   "outputs": [
    {
     "data": {
      "text/plain": [
       "176.07499999999999"
      ]
     },
     "execution_count": 98,
     "metadata": {},
     "output_type": "execute_result"
    }
   ],
   "source": [
    "counts.index.min()"
   ]
  },
  {
   "cell_type": "code",
   "execution_count": 106,
   "metadata": {
    "collapsed": false,
    "scrolled": false
   },
   "outputs": [
    {
     "data": {
      "text/plain": [
       "<matplotlib.legend.Legend at 0x10be0d0b8>"
      ]
     },
     "execution_count": 106,
     "metadata": {},
     "output_type": "execute_result"
    },
    {
     "data": {
      "image/png": "[encoded data removed]",
      "text/plain": [
       "<matplotlib.figure.Figure at 0x10bb5f5c0>"
      ]
     },
     "metadata": {},
     "output_type": "display_data"
    }
   ],
   "source": [
    "season2.scaled.plot(style='.-', xlim=(counts.index.min(), counts.index.max()), label='season2')\n",
    "counts.scaled.plot(style='.-', color='red', label='season3')\n",
    "plt.legend()"
   ]
  },
  {
   "cell_type": "code",
   "execution_count": 100,
   "metadata": {
    "collapsed": false
   },
   "outputs": [
    {
     "data": {
      "text/plain": [
       "<matplotlib.axes._subplots.AxesSubplot at 0x10af225f8>"
      ]
     },
     "execution_count": 100,
     "metadata": {},
     "output_type": "execute_result"
    },
    {
     "data": {
      "image/png": "[encoded data removed]",
      "text/plain": [
       "<matplotlib.figure.Figure at 0x10ad6e8d0>"
      ]
     },
     "metadata": {},
     "output_type": "display_data"
    }
   ],
   "source": [
    "counts.scaled.plot(style='.-')"
   ]
  },
  {
   "cell_type": "code",
   "execution_count": 151,
   "metadata": {
    "collapsed": false
   },
   "outputs": [
    {
     "data": {
      "text/plain": [
       "Index(['lat_centered', 'lng_east', 'binning', 'Object_time', 'solar_longitude',\n",
       "       'mars_time', 'north_azimuth', 'incidence_angle', 'sub_solar_azimuth',\n",
       "       'phase_angle', 'emission_angle', 'line_pixel_scale',\n",
       "       'sample_pixel_scale', 'pixel_resolution', 'mean_ground_resolution'],\n",
       "      dtype='object')"
      ]
     },
     "execution_count": 151,
     "metadata": {},
     "output_type": "execute_result"
    }
   ],
   "source": [
    "metadata.columns"
   ]
  },
  {
   "cell_type": "code",
   "execution_count": 152,
   "metadata": {
    "collapsed": false,
    "scrolled": true
   },
   "outputs": [
    {
     "data": {
      "text/html": [
       "<div>\n",
       "<table border=\"1\" class=\"dataframe\">\n",
       "  <thead>\n",
       "    <tr style=\"text-align: right;\">\n",
       "      <th></th>\n",
       "      <th>lat_centered</th>\n",
       "      <th>lng_east</th>\n",
       "      <th>binning</th>\n",
       "      <th>Object_time</th>\n",
       "      <th>solar_longitude</th>\n",
       "      <th>mars_time</th>\n",
       "      <th>north_azimuth</th>\n",
       "      <th>incidence_angle</th>\n",
       "      <th>sub_solar_azimuth</th>\n",
       "      <th>phase_angle</th>\n",
       "      <th>emission_angle</th>\n",
       "      <th>line_pixel_scale</th>\n",
       "      <th>sample_pixel_scale</th>\n",
       "      <th>pixel_resolution</th>\n",
       "      <th>mean_ground_resolution</th>\n",
       "    </tr>\n",
       "    <tr>\n",
       "      <th>HiRISE_image</th>\n",
       "      <th></th>\n",
       "      <th></th>\n",
       "      <th></th>\n",
       "      <th></th>\n",
       "      <th></th>\n",
       "      <th></th>\n",
       "      <th></th>\n",
       "      <th></th>\n",
       "      <th></th>\n",
       "      <th></th>\n",
       "      <th></th>\n",
       "      <th></th>\n",
       "      <th></th>\n",
       "      <th></th>\n",
       "      <th></th>\n",
       "    </tr>\n",
       "  </thead>\n",
       "  <tbody>\n",
       "    <tr>\n",
       "      <th>ESP_011296_0975</th>\n",
       "      <td>-82.197</td>\n",
       "      <td>225.253</td>\n",
       "      <td>4</td>\n",
       "      <td>2008-12-23T16:15:26.861</td>\n",
       "      <td>178.833</td>\n",
       "      <td>17.1368</td>\n",
       "      <td>110.5220</td>\n",
       "      <td>88.7496</td>\n",
       "      <td>33.9692</td>\n",
       "      <td>88.6680</td>\n",
       "      <td>0.126506</td>\n",
       "      <td>0.993333</td>\n",
       "      <td>0.993333</td>\n",
       "      <td>0.993333</td>\n",
       "      <td>0.993297</td>\n",
       "    </tr>\n",
       "    <tr>\n",
       "      <th>ESP_011341_0980</th>\n",
       "      <td>-81.797</td>\n",
       "      <td>76.130</td>\n",
       "      <td>2</td>\n",
       "      <td>2008-12-27T04:25:02.363</td>\n",
       "      <td>180.809</td>\n",
       "      <td>17.1053</td>\n",
       "      <td>110.3550</td>\n",
       "      <td>87.7622</td>\n",
       "      <td>34.8539</td>\n",
       "      <td>87.9902</td>\n",
       "      <td>0.244628</td>\n",
       "      <td>0.493991</td>\n",
       "      <td>0.493991</td>\n",
       "      <td>0.493991</td>\n",
       "      <td>0.494061</td>\n",
       "    </tr>\n",
       "    <tr>\n",
       "      <th>ESP_011348_0950</th>\n",
       "      <td>-85.043</td>\n",
       "      <td>259.094</td>\n",
       "      <td>4</td>\n",
       "      <td>2008-12-27T17:29:17.706</td>\n",
       "      <td>181.117</td>\n",
       "      <td>18.0259</td>\n",
       "      <td>123.6460</td>\n",
       "      <td>89.5608</td>\n",
       "      <td>33.8052</td>\n",
       "      <td>89.6876</td>\n",
       "      <td>0.155690</td>\n",
       "      <td>0.993521</td>\n",
       "      <td>0.993521</td>\n",
       "      <td>0.993521</td>\n",
       "      <td>0.993234</td>\n",
       "    </tr>\n",
       "    <tr>\n",
       "      <th>ESP_011350_0945</th>\n",
       "      <td>-85.216</td>\n",
       "      <td>181.415</td>\n",
       "      <td>2</td>\n",
       "      <td>2008-12-27T21:14:01.135</td>\n",
       "      <td>181.205</td>\n",
       "      <td>16.4914</td>\n",
       "      <td>99.7306</td>\n",
       "      <td>87.6506</td>\n",
       "      <td>37.3171</td>\n",
       "      <td>108.1210</td>\n",
       "      <td>24.588300</td>\n",
       "      <td>0.539108</td>\n",
       "      <td>0.539108</td>\n",
       "      <td>0.539108</td>\n",
       "      <td>0.539336</td>\n",
       "    </tr>\n",
       "    <tr>\n",
       "      <th>ESP_011351_0945</th>\n",
       "      <td>-85.216</td>\n",
       "      <td>181.548</td>\n",
       "      <td>4</td>\n",
       "      <td>2008-12-27T23:05:54.685</td>\n",
       "      <td>181.249</td>\n",
       "      <td>18.3165</td>\n",
       "      <td>127.9650</td>\n",
       "      <td>89.8666</td>\n",
       "      <td>33.8784</td>\n",
       "      <td>86.4021</td>\n",
       "      <td>4.123800</td>\n",
       "      <td>0.989757</td>\n",
       "      <td>0.989757</td>\n",
       "      <td>0.989757</td>\n",
       "      <td>0.990483</td>\n",
       "    </tr>\n",
       "  </tbody>\n",
       "</table>\n",
       "</div>"
      ],
      "text/plain": [
       "                 lat_centered  lng_east  binning              Object_time  \\\n",
       "HiRISE_image                                                                \n",
       "ESP_011296_0975       -82.197   225.253        4  2008-12-23T16:15:26.861   \n",
       "ESP_011341_0980       -81.797    76.130        2  2008-12-27T04:25:02.363   \n",
       "ESP_011348_0950       -85.043   259.094        4  2008-12-27T17:29:17.706   \n",
       "ESP_011350_0945       -85.216   181.415        2  2008-12-27T21:14:01.135   \n",
       "ESP_011351_0945       -85.216   181.548        4  2008-12-27T23:05:54.685   \n",
       "\n",
       "                 solar_longitude  mars_time  north_azimuth  incidence_angle  \\\n",
       "HiRISE_image                                                                  \n",
       "ESP_011296_0975          178.833    17.1368       110.5220          88.7496   \n",
       "ESP_011341_0980          180.809    17.1053       110.3550          87.7622   \n",
       "ESP_011348_0950          181.117    18.0259       123.6460          89.5608   \n",
       "ESP_011350_0945          181.205    16.4914        99.7306          87.6506   \n",
       "ESP_011351_0945          181.249    18.3165       127.9650          89.8666   \n",
       "\n",
       "                 sub_solar_azimuth  phase_angle  emission_angle  \\\n",
       "HiRISE_image                                                      \n",
       "ESP_011296_0975            33.9692      88.6680        0.126506   \n",
       "ESP_011341_0980            34.8539      87.9902        0.244628   \n",
       "ESP_011348_0950            33.8052      89.6876        0.155690   \n",
       "ESP_011350_0945            37.3171     108.1210       24.588300   \n",
       "ESP_011351_0945            33.8784      86.4021        4.123800   \n",
       "\n",
       "                 line_pixel_scale  sample_pixel_scale  pixel_resolution  \\\n",
       "HiRISE_image                                                              \n",
       "ESP_011296_0975          0.993333            0.993333          0.993333   \n",
       "ESP_011341_0980          0.493991            0.493991          0.493991   \n",
       "ESP_011348_0950          0.993521            0.993521          0.993521   \n",
       "ESP_011350_0945          0.539108            0.539108          0.539108   \n",
       "ESP_011351_0945          0.989757            0.989757          0.989757   \n",
       "\n",
       "                 mean_ground_resolution  \n",
       "HiRISE_image                             \n",
       "ESP_011296_0975                0.993297  \n",
       "ESP_011341_0980                0.494061  \n",
       "ESP_011348_0950                0.993234  \n",
       "ESP_011350_0945                0.539336  \n",
       "ESP_011351_0945                0.990483  "
      ]
     },
     "execution_count": 152,
     "metadata": {},
     "output_type": "execute_result"
    }
   ],
   "source": [
    "metadata.head()"
   ]
  },
  {
   "cell_type": "code",
   "execution_count": 120,
   "metadata": {
    "collapsed": false
   },
   "outputs": [
    {
     "data": {
      "text/plain": [
       "0    248.852941\n",
       "dtype: float64"
      ]
     },
     "execution_count": 120,
     "metadata": {},
     "output_type": "execute_result"
    }
   ],
   "source": [
    "pd.read_clipboard(header=None).mean()"
   ]
  },
  {
   "cell_type": "code",
   "execution_count": 1,
   "metadata": {
    "collapsed": false
   },
   "outputs": [],
   "source": [
    "from pysis import CubeFile"
   ]
  },
  {
   "cell_type": "code",
   "execution_count": 2,
   "metadata": {
    "collapsed": true
   },
   "outputs": [],
   "source": [
    "cube = CubeFile('/Users/klay6683/data/hirise/ESP_011544_0985_RGB.NOMAP.cub')"
   ]
  },
  {
   "cell_type": "code",
   "execution_count": 3,
   "metadata": {
    "collapsed": false
   },
   "outputs": [
    {
     "data": {
      "text/plain": [
       "3"
      ]
     },
     "execution_count": 3,
     "metadata": {},
     "output_type": "execute_result"
    }
   ],
   "source": [
    "cube.bands"
   ]
  },
  {
   "cell_type": "code",
   "execution_count": null,
   "metadata": {
    "collapsed": true
   },
   "outputs": [],
   "source": []
  }
 ],
 "metadata": {
  "kernelspec": {
   "display_name": "Python 3",
   "language": "python",
   "name": "python3"
  },
  "language_info": {
   "codemirror_mode": {
    "name": "ipython",
    "version": 3
   },
   "file_extension": ".py",
   "mimetype": "text/x-python",
   "name": "python",
   "nbconvert_exporter": "python",
   "pygments_lexer": "ipython3",
   "version": "3.5.0"
  }
 },
 "nbformat": 4,
 "nbformat_minor": 0
}
