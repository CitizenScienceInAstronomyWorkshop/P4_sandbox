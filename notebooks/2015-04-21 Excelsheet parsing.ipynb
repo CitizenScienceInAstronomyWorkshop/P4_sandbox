{
 "cells": [
  {
   "cell_type": "code",
   "execution_count": 1,
   "metadata": {
    "collapsed": true
   },
   "outputs": [],
   "source": [
    "fname = '/Users/klay6683/Dropbox/DDocuments/planet4/hireport_south_mars_zoo_v6.xls'"
   ]
  },
  {
   "cell_type": "markdown",
   "metadata": {},
   "source": [
    "#South Year 1"
   ]
  },
  {
   "cell_type": "code",
   "execution_count": 2,
   "metadata": {
    "collapsed": false
   },
   "outputs": [],
   "source": [
    "df = pd.read_excel(fname, sheet='South_year_1')"
   ]
  },
  {
   "cell_type": "code",
   "execution_count": 4,
   "metadata": {
    "collapsed": false
   },
   "outputs": [],
   "source": [
    "# df.dropna(how='all', inplace=True)"
   ]
  },
  {
   "cell_type": "code",
   "execution_count": 5,
   "metadata": {
    "collapsed": false
   },
   "outputs": [],
   "source": [
    "#df.time = pd.to_datetime(df.time)"
   ]
  },
  {
   "cell_type": "code",
   "execution_count": 6,
   "metadata": {
    "collapsed": false
   },
   "outputs": [
    {
     "data": {
      "text/html": [
       "<div style=\"max-height:1000px;max-width:1500px;overflow:auto;\">\n",
       "<table border=\"1\" class=\"dataframe\">\n",
       "  <thead>\n",
       "    <tr style=\"text-align: right;\">\n",
       "      <th></th>\n",
       "      <th>Observation_id</th>\n",
       "      <th>lat¬∞</th>\n",
       "      <th>lon¬∞</th>\n",
       "      <th>Ls¬∞</th>\n",
       "      <th>time</th>\n",
       "      <th>Comment</th>\n",
       "      <th>Unnamed: 6</th>\n",
       "      <th>Unnamed: 7</th>\n",
       "    </tr>\n",
       "  </thead>\n",
       "  <tbody>\n",
       "    <tr>\n",
       "      <th>0</th>\n",
       "      <td>NaN</td>\n",
       "      <td>NaN</td>\n",
       "      <td>NaN</td>\n",
       "      <td>NaN</td>\n",
       "      <td>NaN</td>\n",
       "      <td>NaN</td>\n",
       "      <td>NaN</td>\n",
       "      <td>NaN</td>\n",
       "    </tr>\n",
       "    <tr>\n",
       "      <th>1</th>\n",
       "      <td>NaN</td>\n",
       "      <td>NaN</td>\n",
       "      <td>NaN</td>\n",
       "      <td>NaN</td>\n",
       "      <td>NaN</td>\n",
       "      <td>NaN</td>\n",
       "      <td>NaN</td>\n",
       "      <td>NaN</td>\n",
       "    </tr>\n",
       "    <tr>\n",
       "      <th>2</th>\n",
       "      <td>NaN</td>\n",
       "      <td>NaN</td>\n",
       "      <td>NaN</td>\n",
       "      <td>NaN</td>\n",
       "      <td>NaN</td>\n",
       "      <td>NaN</td>\n",
       "      <td>NaN</td>\n",
       "      <td>NaN</td>\n",
       "    </tr>\n",
       "    <tr>\n",
       "      <th>3</th>\n",
       "      <td>PSP_001920_1110</td>\n",
       "      <td>-68.971</td>\n",
       "      <td>241.784</td>\n",
       "      <td>155.212</td>\n",
       "      <td>2006-Dec-24-358T01:01:34</td>\n",
       "      <td>8523 Observe seasonal defrosting</td>\n",
       "      <td>NaN</td>\n",
       "      <td>NaN</td>\n",
       "    </tr>\n",
       "    <tr>\n",
       "      <th>4</th>\n",
       "      <td>NaN</td>\n",
       "      <td>NaN</td>\n",
       "      <td>NaN</td>\n",
       "      <td>NaN</td>\n",
       "      <td>NaN</td>\n",
       "      <td>NaN</td>\n",
       "      <td>NaN</td>\n",
       "      <td>NaN</td>\n",
       "    </tr>\n",
       "  </tbody>\n",
       "</table>\n",
       "</div>"
      ],
      "text/plain": [
       "    Observation_id   lat¬∞    lon¬∞     Ls¬∞                      time  \\\n",
       "0              NaN     NaN      NaN      NaN                       NaN   \n",
       "1              NaN     NaN      NaN      NaN                       NaN   \n",
       "2              NaN     NaN      NaN      NaN                       NaN   \n",
       "3  PSP_001920_1110 -68.971  241.784  155.212  2006-Dec-24-358T01:01:34   \n",
       "4              NaN     NaN      NaN      NaN                       NaN   \n",
       "\n",
       "                            Comment Unnamed: 6 Unnamed: 7  \n",
       "0                               NaN        NaN        NaN  \n",
       "1                               NaN        NaN        NaN  \n",
       "2                               NaN        NaN        NaN  \n",
       "3  8523 Observe seasonal defrosting        NaN        NaN  \n",
       "4                               NaN        NaN        NaN  "
      ]
     },
     "execution_count": 6,
     "metadata": {},
     "output_type": "execute_result"
    }
   ],
   "source": [
    "df.head()"
   ]
  },
  {
   "cell_type": "code",
   "execution_count": 7,
   "metadata": {
    "collapsed": false
   },
   "outputs": [
    {
     "data": {
      "text/plain": [
       "Observation_id     object\n",
       "lat¬∞             float64\n",
       "lon¬∞             float64\n",
       "Ls¬∞              float64\n",
       "time               object\n",
       "Comment            object\n",
       "Unnamed: 6         object\n",
       "Unnamed: 7         object\n",
       "dtype: object"
      ]
     },
     "execution_count": 7,
     "metadata": {},
     "output_type": "execute_result"
    }
   ],
   "source": [
    "df.dtypes"
   ]
  },
  {
   "cell_type": "code",
   "execution_count": 36,
   "metadata": {
    "collapsed": false
   },
   "outputs": [],
   "source": [
    "def repair_time(tstr):\n",
    "    if type(tstr) == float:\n",
    "        return tstr\n",
    "    date, time = tstr.split('T')\n",
    "    date_tokens = date.split('-')\n",
    "    newdate = '-'.join(date_tokens[:3])\n",
    "    return \"{}T{}\".format(newdate, time).split('.')[0]\n",
    "\n",
    "status = pd.read_hdf('image_name_status.h5','df')\n",
    "def fix_and_merge(df):\n",
    "    df.time = df.time.map(repair_time)    \n",
    "    df.columns = ['obs_id','Lat','Lon','Ls', 'time', 'Comment','Unnamed1','Unnamed2']\n",
    "    oldindex = df.index\n",
    "    merged = df.merge(status, left_on='obs_id', right_index=True).reindex(oldindex)\n",
    "    merged = merged.drop(['Unnamed1','Unnamed2'], axis=1)\n",
    "    return merged"
   ]
  },
  {
   "cell_type": "code",
   "execution_count": 9,
   "metadata": {
    "collapsed": false
   },
   "outputs": [],
   "source": [
    "df.time = df.time.map(repair_time)"
   ]
  },
  {
   "cell_type": "code",
   "execution_count": 10,
   "metadata": {
    "collapsed": false
   },
   "outputs": [],
   "source": [
    "try:\n",
    "    df.time = pd.to_datetime(df.time, format='%Y-%b-%dT%H:%M:%S', errors='raise')\n",
    "except ValueError as e:\n",
    "    print(e)"
   ]
  },
  {
   "cell_type": "code",
   "execution_count": 11,
   "metadata": {
    "collapsed": false
   },
   "outputs": [
    {
     "data": {
      "text/html": [
       "<div style=\"max-height:1000px;max-width:1500px;overflow:auto;\">\n",
       "<table border=\"1\" class=\"dataframe\">\n",
       "  <thead>\n",
       "    <tr style=\"text-align: right;\">\n",
       "      <th></th>\n",
       "      <th>Observation_id</th>\n",
       "      <th>lat¬∞</th>\n",
       "      <th>lon¬∞</th>\n",
       "      <th>Ls¬∞</th>\n",
       "      <th>time</th>\n",
       "      <th>Comment</th>\n",
       "      <th>Unnamed: 6</th>\n",
       "      <th>Unnamed: 7</th>\n",
       "    </tr>\n",
       "  </thead>\n",
       "  <tbody>\n",
       "    <tr>\n",
       "      <th>0</th>\n",
       "      <td>NaN</td>\n",
       "      <td>NaN</td>\n",
       "      <td>NaN</td>\n",
       "      <td>NaN</td>\n",
       "      <td>NaT</td>\n",
       "      <td>NaN</td>\n",
       "      <td>NaN</td>\n",
       "      <td>NaN</td>\n",
       "    </tr>\n",
       "    <tr>\n",
       "      <th>1</th>\n",
       "      <td>NaN</td>\n",
       "      <td>NaN</td>\n",
       "      <td>NaN</td>\n",
       "      <td>NaN</td>\n",
       "      <td>NaT</td>\n",
       "      <td>NaN</td>\n",
       "      <td>NaN</td>\n",
       "      <td>NaN</td>\n",
       "    </tr>\n",
       "    <tr>\n",
       "      <th>2</th>\n",
       "      <td>NaN</td>\n",
       "      <td>NaN</td>\n",
       "      <td>NaN</td>\n",
       "      <td>NaN</td>\n",
       "      <td>NaT</td>\n",
       "      <td>NaN</td>\n",
       "      <td>NaN</td>\n",
       "      <td>NaN</td>\n",
       "    </tr>\n",
       "    <tr>\n",
       "      <th>3</th>\n",
       "      <td>PSP_001920_1110</td>\n",
       "      <td>-68.971</td>\n",
       "      <td>241.784</td>\n",
       "      <td>155.212</td>\n",
       "      <td>2006-12-24 01:01:34</td>\n",
       "      <td>8523 Observe seasonal defrosting</td>\n",
       "      <td>NaN</td>\n",
       "      <td>NaN</td>\n",
       "    </tr>\n",
       "    <tr>\n",
       "      <th>4</th>\n",
       "      <td>NaN</td>\n",
       "      <td>NaN</td>\n",
       "      <td>NaN</td>\n",
       "      <td>NaN</td>\n",
       "      <td>NaT</td>\n",
       "      <td>NaN</td>\n",
       "      <td>NaN</td>\n",
       "      <td>NaN</td>\n",
       "    </tr>\n",
       "  </tbody>\n",
       "</table>\n",
       "</div>"
      ],
      "text/plain": [
       "    Observation_id   lat¬∞    lon¬∞     Ls¬∞                time  \\\n",
       "0              NaN     NaN      NaN      NaN                 NaT   \n",
       "1              NaN     NaN      NaN      NaN                 NaT   \n",
       "2              NaN     NaN      NaN      NaN                 NaT   \n",
       "3  PSP_001920_1110 -68.971  241.784  155.212 2006-12-24 01:01:34   \n",
       "4              NaN     NaN      NaN      NaN                 NaT   \n",
       "\n",
       "                            Comment Unnamed: 6 Unnamed: 7  \n",
       "0                               NaN        NaN        NaN  \n",
       "1                               NaN        NaN        NaN  \n",
       "2                               NaN        NaN        NaN  \n",
       "3  8523 Observe seasonal defrosting        NaN        NaN  \n",
       "4                               NaN        NaN        NaN  "
      ]
     },
     "execution_count": 11,
     "metadata": {},
     "output_type": "execute_result"
    }
   ],
   "source": [
    "df.head()"
   ]
  },
  {
   "cell_type": "code",
   "execution_count": 12,
   "metadata": {
    "collapsed": false
   },
   "outputs": [],
   "source": []
  },
  {
   "cell_type": "code",
   "execution_count": 13,
   "metadata": {
    "collapsed": true
   },
   "outputs": [],
   "source": []
  },
  {
   "cell_type": "code",
   "execution_count": 15,
   "metadata": {
    "collapsed": false
   },
   "outputs": [
    {
     "data": {
      "text/plain": [
       "Index(['status'], dtype='object')"
      ]
     },
     "execution_count": 15,
     "metadata": {},
     "output_type": "execute_result"
    }
   ],
   "source": [
    "status.columns"
   ]
  },
  {
   "cell_type": "code",
   "execution_count": 19,
   "metadata": {
    "collapsed": false
   },
   "outputs": [],
   "source": []
  },
  {
   "cell_type": "code",
   "execution_count": 24,
   "metadata": {
    "collapsed": false
   },
   "outputs": [],
   "source": []
  },
  {
   "cell_type": "code",
   "execution_count": 26,
   "metadata": {
    "collapsed": false
   },
   "outputs": [
    {
     "data": {
      "text/plain": [
       "Index(['obs_id', 'Lat', 'Lon', 'Ls', 'time', 'Comment', 'Unnamed1', 'Unnamed2', 'status'], dtype='object')"
      ]
     },
     "execution_count": 26,
     "metadata": {},
     "output_type": "execute_result"
    }
   ],
   "source": [
    "merged.columns"
   ]
  },
  {
   "cell_type": "code",
   "execution_count": 28,
   "metadata": {
    "collapsed": false
   },
   "outputs": [],
   "source": [
    "merged = merged.drop("
   ]
  },
  {
   "cell_type": "code",
   "execution_count": 29,
   "metadata": {
    "collapsed": true
   },
   "outputs": [],
   "source": [
    "merged.to_excel('merged_with_status_excel_sheet.xlsx')"
   ]
  },
  {
   "cell_type": "code",
   "execution_count": null,
   "metadata": {
    "collapsed": true
   },
   "outputs": [],
   "source": []
  },
  {
   "cell_type": "code",
   "execution_count": null,
   "metadata": {
    "collapsed": false
   },
   "outputs": [],
   "source": [
    "# %load /Users/klay6683/Downloads/spstere.py\n",
    "from mpl_toolkits.basemap import Basemap\n",
    "import numpy as np\n",
    "import matplotlib.pyplot as plt\n",
    "# setup north polar stereographic basemap.\n",
    "# The longitude lon_0 is at 6-o'clock, and the\n",
    "# latitude circle boundinglat is tangent to the edge  \n",
    "# of the map at lon_0. Default value of lat_ts\n",
    "# (latitude of true scale) is pole.\n",
    "m = Basemap(projection='spstere',boundinglat=-80,lon_0=90,resolution='l')\n",
    "m.drawcoastlines()\n",
    "m.fillcontinents(color='coral',lake_color='aqua')\n",
    "# draw parallels and meridians.\n",
    "m.drawparallels(np.arange(-80.,81.,20.))\n",
    "m.drawmeridians(np.arange(-180.,181.,20.))\n",
    "m.drawmapboundary(fill_color='aqua') \n",
    "# draw tissot's indicatrix to show distortion.\n",
    "ax = plt.gca()\n",
    "for y in np.linspace(19*m.ymin/20,m.ymin/20,10):\n",
    "    for x in np.linspace(19*m.xmin/20,m.xmin/20,10):\n",
    "        lon, lat = m(x,y,inverse=True)\n",
    "        poly = m.tissot(lon,lat,2.5,100,\\\n",
    "                        facecolor='green',zorder=10,alpha=0.5)\n",
    "plt.title(\"South Polar Stereographic Projection\")\n",
    "plt.show()\n"
   ]
  },
  {
   "cell_type": "code",
   "execution_count": 68,
   "metadata": {
    "collapsed": false
   },
   "outputs": [],
   "source": [
    "%matplotlib inline"
   ]
  },
  {
   "cell_type": "code",
   "execution_count": 123,
   "metadata": {
    "collapsed": true
   },
   "outputs": [],
   "source": [
    "from mpl_toolkits.basemap import Basemap\n",
    "import matplotlib as mpl\n",
    "\n",
    "class PoleMapper(object):\n",
    "    \"\"\"docstring for PoleMapper\"\"\"\n",
    "\n",
    "#     palette = mpl.cm.cubehelix\n",
    "    \n",
    "    def __init__(self, blat, gridpts=1000, round=True):\n",
    "        super(PoleMapper, self).__init__()\n",
    "        self.blat = blat\n",
    "        self.gridpts = gridpts\n",
    "        self.basemap = Basemap(lon_0=180, boundinglat=blat, \n",
    "                         projection='spstere', round=round)\n",
    "        self.pole = 'Southpole' if blat < 0 else 'Northpole'\n",
    "        \n",
    "    def create_map(self, hdata, strings, ax=None, vmin=None, vmax=None):\n",
    "        mode, chid, dayside = strings\n",
    "        if not ax:\n",
    "            fig, ax = plt.subplots()\n",
    "        self.palette.set_bad(ax.get_axis_bgcolor(), 1.0)\n",
    "        CS = self.basemap.pcolormesh(hdata.xedges, hdata.yedges, hdata.H.T,\n",
    "                               shading='flat', cmap=self.palette,\n",
    "                               ax = ax, vmin=vmin, vmax=vmax)\n",
    "        self.basemap.drawparallels(np.arange(-90, self.blat),latmax=-90, ax=ax, \n",
    "                                    labels=[1,1,1,1])\n",
    "        self.basemap.drawmeridians(np.arange(0,360,30),latmax=-90, ax=ax,\n",
    "                                    labels=[1,1,1,1])\n",
    "        self.basemap.colorbar(CS,ax=ax)\n",
    "        ax.set_title(' '.join([self.pole, chid, mode, dayside]))\n",
    "        plt.savefig('_'.join(['southpole', chid, mode, str(self.gridpts),\n",
    "                              dayside]) + '.png', dpi=300)\n",
    "\n",
    "    def create_scatter_map(self, lon, lat, ax=None):\n",
    "        if ax is None:\n",
    "            fig, ax = plt.subplots()\n",
    "        CS = self.basemap.scatter(lon, lat, latlon=True)\n",
    "        self.basemap.drawparallels(np.arange(-90, self.blat, 5), latmax=90, ax=ax)\n",
    "        meridians = self.basemap.drawmeridians(np.arange(0, 360, 30), labelstyle='+/-', latmax=90, ax=ax,\n",
    "                                   labels=[1, 1, 1, 1],\n",
    "                                  )\n",
    "        ax.set_title('Southpole of Mars')\n",
    "        return meridians\n",
    "    \n",
    "    def create_multimap(self, data, strings):\n",
    "        n = len(data)\n",
    "        fig, ax = plt.subplots(1, n)\n",
    "        for i,d in enumerate(data):\n",
    "            self.create_map(d, strings[i], ax.flatten()[i])\n"
   ]
  },
  {
   "cell_type": "code",
   "execution_count": 130,
   "metadata": {
    "collapsed": false
   },
   "outputs": [
    {
     "data": {
      "image/png": "[encoded data removed]",
      "text/plain": [
       "<matplotlib.figure.Figure at 0x111c78278>"
      ]
     },
     "metadata": {},
     "output_type": "display_data"
    }
   ],
   "source": [
    "fig, ax = plt.subplots(figsize=(8,8))\n",
    "pm = PoleMapper(-65, round=True)\n",
    "meridians = pm.create_scatter_map(df.Lon.values, df.Lat.values, ax=ax)"
   ]
  },
  {
   "cell_type": "code",
   "execution_count": 158,
   "metadata": {
    "collapsed": false
   },
   "outputs": [],
   "source": [
    "for i in meridians.items():\n",
    "    to = i[1][1][0]"
   ]
  },
  {
   "cell_type": "code",
   "execution_count": 161,
   "metadata": {
    "collapsed": false
   },
   "outputs": [
    {
     "name": "stdout",
     "output_type": "stream",
     "text": [
      "Text(-4.2772e+06,-5.3404e+06,'+30°')\n"
     ]
    }
   ],
   "source": [
    "print(to)"
   ]
  },
  {
   "cell_type": "code",
   "execution_count": 120,
   "metadata": {
    "collapsed": false
   },
   "outputs": [
    {
     "data": {
      "text/html": [
       "<div style=\"max-height:1000px;max-width:1500px;overflow:auto;\">\n",
       "<table border=\"1\" class=\"dataframe\">\n",
       "  <thead>\n",
       "    <tr style=\"text-align: right;\">\n",
       "      <th></th>\n",
       "      <th>obs_id</th>\n",
       "      <th>Lat</th>\n",
       "      <th>Lon</th>\n",
       "      <th>Ls</th>\n",
       "      <th>Comment</th>\n",
       "      <th>Unnamed1</th>\n",
       "      <th>Unnamed2</th>\n",
       "    </tr>\n",
       "    <tr>\n",
       "      <th>time</th>\n",
       "      <th></th>\n",
       "      <th></th>\n",
       "      <th></th>\n",
       "      <th></th>\n",
       "      <th></th>\n",
       "      <th></th>\n",
       "      <th></th>\n",
       "    </tr>\n",
       "  </thead>\n",
       "  <tbody>\n",
       "    <tr>\n",
       "      <th>2006-12-24 01:01:34</th>\n",
       "      <td>PSP_001920_1110</td>\n",
       "      <td>-68.971</td>\n",
       "      <td>241.784</td>\n",
       "      <td>155.212</td>\n",
       "      <td>8523 Observe seasonal defrosting</td>\n",
       "      <td>NaN</td>\n",
       "      <td>NaN</td>\n",
       "    </tr>\n",
       "  </tbody>\n",
       "</table>\n",
       "</div>"
      ],
      "text/plain": [
       "                              obs_id     Lat      Lon       Ls  \\\n",
       "time                                                             \n",
       "2006-12-24 01:01:34  PSP_001920_1110 -68.971  241.784  155.212   \n",
       "\n",
       "                                              Comment Unnamed1 Unnamed2  \n",
       "time                                                                     \n",
       "2006-12-24 01:01:34  8523 Observe seasonal defrosting      NaN      NaN  "
      ]
     },
     "execution_count": 120,
     "metadata": {},
     "output_type": "execute_result"
    }
   ],
   "source": [
    "df[df.Lat==df.Lat.max()]"
   ]
  },
  {
   "cell_type": "markdown",
   "metadata": {
    "collapsed": true
   },
   "source": [
    "# South year 2"
   ]
  },
  {
   "cell_type": "code",
   "execution_count": 74,
   "metadata": {
    "collapsed": false
   },
   "outputs": [],
   "source": [
    "fname = fname+'x'"
   ]
  },
  {
   "cell_type": "code",
   "execution_count": 75,
   "metadata": {
    "collapsed": false
   },
   "outputs": [
    {
     "data": {
      "text/plain": [
       "'/Users/klay6683/Dropbox/DDocuments/planet4/hireport_south_mars_zoo_v6.xlsx'"
      ]
     },
     "execution_count": 75,
     "metadata": {},
     "output_type": "execute_result"
    }
   ],
   "source": [
    "fname"
   ]
  },
  {
   "cell_type": "code",
   "execution_count": 82,
   "metadata": {
    "collapsed": true
   },
   "outputs": [],
   "source": [
    "excelfile = pd.ExcelFile(fname)"
   ]
  },
  {
   "cell_type": "code",
   "execution_count": 84,
   "metadata": {
    "collapsed": false
   },
   "outputs": [],
   "source": [
    "df = excelfile.parse(1)"
   ]
  },
  {
   "cell_type": "code",
   "execution_count": 85,
   "metadata": {
    "collapsed": false
   },
   "outputs": [
    {
     "data": {
      "text/html": [
       "<div style=\"max-height:1000px;max-width:1500px;overflow:auto;\">\n",
       "<table border=\"1\" class=\"dataframe\">\n",
       "  <thead>\n",
       "    <tr style=\"text-align: right;\">\n",
       "      <th></th>\n",
       "      <th>Observation_id</th>\n",
       "      <th>lat¬∞</th>\n",
       "      <th>lon¬∞</th>\n",
       "      <th>Ls¬∞</th>\n",
       "      <th>time</th>\n",
       "      <th>Comment</th>\n",
       "      <th>Unnamed: 6</th>\n",
       "      <th>Unnamed: 7</th>\n",
       "      <th>Unnamed: 8</th>\n",
       "      <th>Unnamed: 9</th>\n",
       "      <th>Unnamed: 10</th>\n",
       "      <th>Unnamed: 11</th>\n",
       "      <th>Unnamed: 12</th>\n",
       "    </tr>\n",
       "  </thead>\n",
       "  <tbody>\n",
       "    <tr>\n",
       "      <th>0</th>\n",
       "      <td>NaN</td>\n",
       "      <td>NaN</td>\n",
       "      <td>NaN</td>\n",
       "      <td>NaN</td>\n",
       "      <td>NaN</td>\n",
       "      <td>NaN</td>\n",
       "      <td>NaN</td>\n",
       "      <td>NaN</td>\n",
       "      <td>NaN</td>\n",
       "      <td>NaN</td>\n",
       "      <td>NaN</td>\n",
       "      <td>NaN</td>\n",
       "      <td>NaN</td>\n",
       "    </tr>\n",
       "    <tr>\n",
       "      <th>1</th>\n",
       "      <td>ESP_012254_1065</td>\n",
       "      <td>-73.474</td>\n",
       "      <td>339.506</td>\n",
       "      <td>223.223</td>\n",
       "      <td>2009-Mar-08-67T07:51:45</td>\n",
       "      <td>32792 OMEGA observes here transformation of CO...</td>\n",
       "      <td>NaN</td>\n",
       "      <td>NaN</td>\n",
       "      <td>NaN</td>\n",
       "      <td>NaN</td>\n",
       "      <td>NaN</td>\n",
       "      <td>NaN</td>\n",
       "      <td>NaN</td>\n",
       "    </tr>\n",
       "    <tr>\n",
       "      <th>2</th>\n",
       "      <td>ESP_012887_1065</td>\n",
       "      <td>-73.474</td>\n",
       "      <td>339.506</td>\n",
       "      <td>254.349</td>\n",
       "      <td>2009-Apr-26-116T15:38:48</td>\n",
       "      <td>32794 Carbon dioxide transformation from snow ...</td>\n",
       "      <td>NaN</td>\n",
       "      <td>NaN</td>\n",
       "      <td>NaN</td>\n",
       "      <td>NaN</td>\n",
       "      <td>NaN</td>\n",
       "      <td>NaN</td>\n",
       "      <td>NaN</td>\n",
       "    </tr>\n",
       "    <tr>\n",
       "      <th>3</th>\n",
       "      <td>NaN</td>\n",
       "      <td>NaN</td>\n",
       "      <td>NaN</td>\n",
       "      <td>NaN</td>\n",
       "      <td>NaN</td>\n",
       "      <td>NaN</td>\n",
       "      <td>NaN</td>\n",
       "      <td>NaN</td>\n",
       "      <td>NaN</td>\n",
       "      <td>NaN</td>\n",
       "      <td>NaN</td>\n",
       "      <td>NaN</td>\n",
       "      <td>NaN</td>\n",
       "    </tr>\n",
       "    <tr>\n",
       "      <th>4</th>\n",
       "      <td>ESP_011680_1055</td>\n",
       "      <td>-74.225</td>\n",
       "      <td>168.513</td>\n",
       "      <td>196.067</td>\n",
       "      <td>2009-Jan-22-22T14:25:53</td>\n",
       "      <td>4188 Caterpillar evolution Seasonal Processes</td>\n",
       "      <td>NaN</td>\n",
       "      <td>NaN</td>\n",
       "      <td>NaN</td>\n",
       "      <td>NaN</td>\n",
       "      <td>NaN</td>\n",
       "      <td>NaN</td>\n",
       "      <td>NaN</td>\n",
       "    </tr>\n",
       "  </tbody>\n",
       "</table>\n",
       "</div>"
      ],
      "text/plain": [
       "    Observation_id   lat¬∞    lon¬∞     Ls¬∞                      time  \\\n",
       "0              NaN     NaN      NaN      NaN                       NaN   \n",
       "1  ESP_012254_1065 -73.474  339.506  223.223   2009-Mar-08-67T07:51:45   \n",
       "2  ESP_012887_1065 -73.474  339.506  254.349  2009-Apr-26-116T15:38:48   \n",
       "3              NaN     NaN      NaN      NaN                       NaN   \n",
       "4  ESP_011680_1055 -74.225  168.513  196.067   2009-Jan-22-22T14:25:53   \n",
       "\n",
       "                                             Comment  Unnamed: 6  Unnamed: 7  \\\n",
       "0                                                NaN         NaN         NaN   \n",
       "1  32792 OMEGA observes here transformation of CO...         NaN         NaN   \n",
       "2  32794 Carbon dioxide transformation from snow ...         NaN         NaN   \n",
       "3                                                NaN         NaN         NaN   \n",
       "4      4188 Caterpillar evolution Seasonal Processes         NaN         NaN   \n",
       "\n",
       "   Unnamed: 8 Unnamed: 9  Unnamed: 10  Unnamed: 11 Unnamed: 12  \n",
       "0         NaN        NaN          NaN          NaN         NaN  \n",
       "1         NaN        NaN          NaN          NaN         NaN  \n",
       "2         NaN        NaN          NaN          NaN         NaN  \n",
       "3         NaN        NaN          NaN          NaN         NaN  \n",
       "4         NaN        NaN          NaN          NaN         NaN  "
      ]
     },
     "execution_count": 85,
     "metadata": {},
     "output_type": "execute_result"
    }
   ],
   "source": [
    "df.head()"
   ]
  },
  {
   "cell_type": "code",
   "execution_count": 87,
   "metadata": {
    "collapsed": true
   },
   "outputs": [],
   "source": [
    "df.time = df.time.map(repair_time)\n",
    "df = df.loc[:, df.columns[:-7]]\n",
    "oldindex = df.index\n",
    "merged = df.merge(status, left_on='Observation_id', right_index=True).reindex(oldindex)\n",
    "merged.head()"
   ]
  },
  {
   "cell_type": "code",
   "execution_count": 101,
   "metadata": {
    "collapsed": true
   },
   "outputs": [],
   "source": [
    "merged.to_excel('merged_season2.xlsx')"
   ]
  },
  {
   "cell_type": "code",
   "execution_count": 105,
   "metadata": {
    "collapsed": false
   },
   "outputs": [
    {
     "data": {
      "text/html": [
       "<div style=\"max-height:1000px;max-width:1500px;overflow:auto;\">\n",
       "<table border=\"1\" class=\"dataframe\">\n",
       "  <thead>\n",
       "    <tr style=\"text-align: right;\">\n",
       "      <th></th>\n",
       "      <th>Observation_id</th>\n",
       "      <th>lat¬∞</th>\n",
       "      <th>lon¬∞</th>\n",
       "      <th>Ls¬∞</th>\n",
       "      <th>Unnamed: 4</th>\n",
       "      <th>Comment</th>\n",
       "      <th>time</th>\n",
       "      <th>Unnamed: 7</th>\n",
       "      <th>Unnamed: 8</th>\n",
       "      <th>Unnamed: 9</th>\n",
       "    </tr>\n",
       "  </thead>\n",
       "  <tbody>\n",
       "    <tr>\n",
       "      <th>0</th>\n",
       "      <td>NaN</td>\n",
       "      <td>NaN</td>\n",
       "      <td>NaN</td>\n",
       "      <td>NaN</td>\n",
       "      <td>NaN</td>\n",
       "      <td>NaN</td>\n",
       "      <td>NaN</td>\n",
       "      <td>NaN</td>\n",
       "      <td>NaN</td>\n",
       "      <td>NaN</td>\n",
       "    </tr>\n",
       "    <tr>\n",
       "      <th>1</th>\n",
       "      <td>ESP_022699_0985</td>\n",
       "      <td>-81.378</td>\n",
       "      <td>295.759</td>\n",
       "      <td>302.400</td>\n",
       "      <td>NaN</td>\n",
       "      <td>60388 Inca City ice-free Seasonal Processes</td>\n",
       "      <td>2011-May-31-151T05:01:51</td>\n",
       "      <td>NaN</td>\n",
       "      <td>NaN</td>\n",
       "      <td>NaN</td>\n",
       "    </tr>\n",
       "    <tr>\n",
       "      <th>2</th>\n",
       "      <td>ESP_021460_0985</td>\n",
       "      <td>-81.381</td>\n",
       "      <td>295.753</td>\n",
       "      <td>242.304</td>\n",
       "      <td>NaN</td>\n",
       "      <td>56720 monitoring spring surface evolution of I...</td>\n",
       "      <td>2011-Feb-23-54T15:57:00</td>\n",
       "      <td>NaN</td>\n",
       "      <td>NaN</td>\n",
       "      <td>NaN</td>\n",
       "    </tr>\n",
       "    <tr>\n",
       "      <th>3</th>\n",
       "      <td>ESP_020959_0985</td>\n",
       "      <td>-81.378</td>\n",
       "      <td>295.757</td>\n",
       "      <td>217.836</td>\n",
       "      <td>NaN</td>\n",
       "      <td>55294 Observe early spring evolution in Inca C...</td>\n",
       "      <td>2011-Jan-15-15T14:59:28</td>\n",
       "      <td>NaN</td>\n",
       "      <td>NaN</td>\n",
       "      <td>NaN</td>\n",
       "    </tr>\n",
       "    <tr>\n",
       "      <th>4</th>\n",
       "      <td>ESP_020748_0985</td>\n",
       "      <td>-81.378</td>\n",
       "      <td>295.757</td>\n",
       "      <td>207.782</td>\n",
       "      <td>NaN</td>\n",
       "      <td>55298 Observe early spring evolution in Inca C...</td>\n",
       "      <td>2010-Dec-30-364T04:24:21</td>\n",
       "      <td>NaN</td>\n",
       "      <td>NaN</td>\n",
       "      <td>NaN</td>\n",
       "    </tr>\n",
       "  </tbody>\n",
       "</table>\n",
       "</div>"
      ],
      "text/plain": [
       "    Observation_id   lat¬∞    lon¬∞     Ls¬∞  Unnamed: 4  \\\n",
       "0              NaN     NaN      NaN      NaN         NaN   \n",
       "1  ESP_022699_0985 -81.378  295.759  302.400         NaN   \n",
       "2  ESP_021460_0985 -81.381  295.753  242.304         NaN   \n",
       "3  ESP_020959_0985 -81.378  295.757  217.836         NaN   \n",
       "4  ESP_020748_0985 -81.378  295.757  207.782         NaN   \n",
       "\n",
       "                                             Comment  \\\n",
       "0                                                NaN   \n",
       "1        60388 Inca City ice-free Seasonal Processes   \n",
       "2  56720 monitoring spring surface evolution of I...   \n",
       "3  55294 Observe early spring evolution in Inca C...   \n",
       "4  55298 Observe early spring evolution in Inca C...   \n",
       "\n",
       "                       time  Unnamed: 7 Unnamed: 8 Unnamed: 9  \n",
       "0                       NaN         NaN        NaN        NaN  \n",
       "1  2011-May-31-151T05:01:51         NaN        NaN        NaN  \n",
       "2   2011-Feb-23-54T15:57:00         NaN        NaN        NaN  \n",
       "3   2011-Jan-15-15T14:59:28         NaN        NaN        NaN  \n",
       "4  2010-Dec-30-364T04:24:21         NaN        NaN        NaN  "
      ]
     },
     "execution_count": 105,
     "metadata": {},
     "output_type": "execute_result"
    }
   ],
   "source": [
    "df = excelfile.parse(2)\n",
    "df.head()"
   ]
  },
  {
   "cell_type": "code",
   "execution_count": 110,
   "metadata": {
    "collapsed": false
   },
   "outputs": [],
   "source": [
    "df = df.loc[:, df.columns[:7]]"
   ]
  },
  {
   "cell_type": "code",
   "execution_count": 107,
   "metadata": {
    "collapsed": false
   },
   "outputs": [
    {
     "data": {
      "text/html": [
       "<div style=\"max-height:1000px;max-width:1500px;overflow:auto;\">\n",
       "<table border=\"1\" class=\"dataframe\">\n",
       "  <thead>\n",
       "    <tr style=\"text-align: right;\">\n",
       "      <th></th>\n",
       "      <th>Observation_id</th>\n",
       "      <th>lat¬∞</th>\n",
       "      <th>lon¬∞</th>\n",
       "      <th>Ls¬∞</th>\n",
       "      <th>Unnamed: 4</th>\n",
       "      <th>Comment</th>\n",
       "      <th>time</th>\n",
       "    </tr>\n",
       "  </thead>\n",
       "  <tbody>\n",
       "    <tr>\n",
       "      <th>0</th>\n",
       "      <td>NaN</td>\n",
       "      <td>NaN</td>\n",
       "      <td>NaN</td>\n",
       "      <td>NaN</td>\n",
       "      <td>NaN</td>\n",
       "      <td>NaN</td>\n",
       "      <td>NaN</td>\n",
       "    </tr>\n",
       "    <tr>\n",
       "      <th>1</th>\n",
       "      <td>ESP_022699_0985</td>\n",
       "      <td>-81.378</td>\n",
       "      <td>295.759</td>\n",
       "      <td>302.400</td>\n",
       "      <td>NaN</td>\n",
       "      <td>60388 Inca City ice-free Seasonal Processes</td>\n",
       "      <td>2011-May-31-151T05:01:51</td>\n",
       "    </tr>\n",
       "    <tr>\n",
       "      <th>2</th>\n",
       "      <td>ESP_021460_0985</td>\n",
       "      <td>-81.381</td>\n",
       "      <td>295.753</td>\n",
       "      <td>242.304</td>\n",
       "      <td>NaN</td>\n",
       "      <td>56720 monitoring spring surface evolution of I...</td>\n",
       "      <td>2011-Feb-23-54T15:57:00</td>\n",
       "    </tr>\n",
       "    <tr>\n",
       "      <th>3</th>\n",
       "      <td>ESP_020959_0985</td>\n",
       "      <td>-81.378</td>\n",
       "      <td>295.757</td>\n",
       "      <td>217.836</td>\n",
       "      <td>NaN</td>\n",
       "      <td>55294 Observe early spring evolution in Inca C...</td>\n",
       "      <td>2011-Jan-15-15T14:59:28</td>\n",
       "    </tr>\n",
       "    <tr>\n",
       "      <th>4</th>\n",
       "      <td>ESP_020748_0985</td>\n",
       "      <td>-81.378</td>\n",
       "      <td>295.757</td>\n",
       "      <td>207.782</td>\n",
       "      <td>NaN</td>\n",
       "      <td>55298 Observe early spring evolution in Inca C...</td>\n",
       "      <td>2010-Dec-30-364T04:24:21</td>\n",
       "    </tr>\n",
       "  </tbody>\n",
       "</table>\n",
       "</div>"
      ],
      "text/plain": [
       "    Observation_id   lat¬∞    lon¬∞     Ls¬∞  Unnamed: 4  \\\n",
       "0              NaN     NaN      NaN      NaN         NaN   \n",
       "1  ESP_022699_0985 -81.378  295.759  302.400         NaN   \n",
       "2  ESP_021460_0985 -81.381  295.753  242.304         NaN   \n",
       "3  ESP_020959_0985 -81.378  295.757  217.836         NaN   \n",
       "4  ESP_020748_0985 -81.378  295.757  207.782         NaN   \n",
       "\n",
       "                                             Comment                      time  \n",
       "0                                                NaN                       NaN  \n",
       "1        60388 Inca City ice-free Seasonal Processes  2011-May-31-151T05:01:51  \n",
       "2  56720 monitoring spring surface evolution of I...   2011-Feb-23-54T15:57:00  \n",
       "3  55294 Observe early spring evolution in Inca C...   2011-Jan-15-15T14:59:28  \n",
       "4  55298 Observe early spring evolution in Inca C...  2010-Dec-30-364T04:24:21  "
      ]
     },
     "execution_count": 107,
     "metadata": {},
     "output_type": "execute_result"
    }
   ],
   "source": [
    "df.head()"
   ]
  },
  {
   "cell_type": "code",
   "execution_count": 111,
   "metadata": {
    "collapsed": false
   },
   "outputs": [
    {
     "data": {
      "text/html": [
       "<div style=\"max-height:1000px;max-width:1500px;overflow:auto;\">\n",
       "<table border=\"1\" class=\"dataframe\">\n",
       "  <thead>\n",
       "    <tr style=\"text-align: right;\">\n",
       "      <th></th>\n",
       "      <th>Observation_id</th>\n",
       "      <th>lat¬∞</th>\n",
       "      <th>lon¬∞</th>\n",
       "      <th>Ls¬∞</th>\n",
       "      <th>Unnamed: 4</th>\n",
       "      <th>Comment</th>\n",
       "      <th>time</th>\n",
       "      <th>status</th>\n",
       "    </tr>\n",
       "  </thead>\n",
       "  <tbody>\n",
       "    <tr>\n",
       "      <th>0</th>\n",
       "      <td>NaN</td>\n",
       "      <td>NaN</td>\n",
       "      <td>NaN</td>\n",
       "      <td>NaN</td>\n",
       "      <td>NaN</td>\n",
       "      <td>NaN</td>\n",
       "      <td>NaN</td>\n",
       "      <td>NaN</td>\n",
       "    </tr>\n",
       "    <tr>\n",
       "      <th>1</th>\n",
       "      <td>ESP_022699_0985</td>\n",
       "      <td>-81.378</td>\n",
       "      <td>295.759</td>\n",
       "      <td>302.400</td>\n",
       "      <td>NaN</td>\n",
       "      <td>60388 Inca City ice-free Seasonal Processes</td>\n",
       "      <td>2011-May-31T05:01:51</td>\n",
       "      <td>280.2</td>\n",
       "    </tr>\n",
       "    <tr>\n",
       "      <th>2</th>\n",
       "      <td>ESP_021460_0985</td>\n",
       "      <td>-81.381</td>\n",
       "      <td>295.753</td>\n",
       "      <td>242.304</td>\n",
       "      <td>NaN</td>\n",
       "      <td>56720 monitoring spring surface evolution of I...</td>\n",
       "      <td>2011-Feb-23T15:57:00</td>\n",
       "      <td>291.5</td>\n",
       "    </tr>\n",
       "    <tr>\n",
       "      <th>3</th>\n",
       "      <td>ESP_020959_0985</td>\n",
       "      <td>-81.378</td>\n",
       "      <td>295.757</td>\n",
       "      <td>217.836</td>\n",
       "      <td>NaN</td>\n",
       "      <td>55294 Observe early spring evolution in Inca C...</td>\n",
       "      <td>2011-Jan-15T14:59:28</td>\n",
       "      <td>284.0</td>\n",
       "    </tr>\n",
       "    <tr>\n",
       "      <th>4</th>\n",
       "      <td>ESP_020748_0985</td>\n",
       "      <td>-81.378</td>\n",
       "      <td>295.757</td>\n",
       "      <td>207.782</td>\n",
       "      <td>NaN</td>\n",
       "      <td>55298 Observe early spring evolution in Inca C...</td>\n",
       "      <td>2010-Dec-30T04:24:21</td>\n",
       "      <td>284.7</td>\n",
       "    </tr>\n",
       "  </tbody>\n",
       "</table>\n",
       "</div>"
      ],
      "text/plain": [
       "    Observation_id   lat¬∞    lon¬∞     Ls¬∞  Unnamed: 4  \\\n",
       "0              NaN     NaN      NaN      NaN         NaN   \n",
       "1  ESP_022699_0985 -81.378  295.759  302.400         NaN   \n",
       "2  ESP_021460_0985 -81.381  295.753  242.304         NaN   \n",
       "3  ESP_020959_0985 -81.378  295.757  217.836         NaN   \n",
       "4  ESP_020748_0985 -81.378  295.757  207.782         NaN   \n",
       "\n",
       "                                             Comment                  time  \\\n",
       "0                                                NaN                   NaN   \n",
       "1        60388 Inca City ice-free Seasonal Processes  2011-May-31T05:01:51   \n",
       "2  56720 monitoring spring surface evolution of I...  2011-Feb-23T15:57:00   \n",
       "3  55294 Observe early spring evolution in Inca C...  2011-Jan-15T14:59:28   \n",
       "4  55298 Observe early spring evolution in Inca C...  2010-Dec-30T04:24:21   \n",
       "\n",
       "   status  \n",
       "0     NaN  \n",
       "1   280.2  \n",
       "2   291.5  \n",
       "3   284.0  \n",
       "4   284.7  "
      ]
     },
     "execution_count": 111,
     "metadata": {},
     "output_type": "execute_result"
    }
   ],
   "source": [
    "df.time = df.time.map(repair_time)\n",
    "oldindex = df.index\n",
    "merged = df.merge(status, left_on='Observation_id', right_index=True).reindex(oldindex)\n",
    "merged.head()"
   ]
  },
  {
   "cell_type": "code",
   "execution_count": 112,
   "metadata": {
    "collapsed": true
   },
   "outputs": [],
   "source": [
    "merged.to_excel('merged_season3.xlsx')"
   ]
  },
  {
   "cell_type": "code",
   "execution_count": 113,
   "metadata": {
    "collapsed": false
   },
   "outputs": [
    {
     "data": {
      "text/html": [
       "<div style=\"max-height:1000px;max-width:1500px;overflow:auto;\">\n",
       "<table border=\"1\" class=\"dataframe\">\n",
       "  <thead>\n",
       "    <tr style=\"text-align: right;\">\n",
       "      <th></th>\n",
       "      <th>observation_id</th>\n",
       "      <th>roll¬∞</th>\n",
       "      <th>Status</th>\n",
       "      <th>stereo</th>\n",
       "      <th>Stability</th>\n",
       "      <th>lat¬∞</th>\n",
       "      <th>lon¬∞</th>\n",
       "      <th>Ls¬∞</th>\n",
       "      <th>Unnamed: 8</th>\n",
       "      <th>Comment</th>\n",
       "      <th>time</th>\n",
       "      <th>Unnamed: 11</th>\n",
       "      <th>Unnamed: 12</th>\n",
       "    </tr>\n",
       "  </thead>\n",
       "  <tbody>\n",
       "    <tr>\n",
       "      <th>0</th>\n",
       "      <td>NaN</td>\n",
       "      <td>NaN</td>\n",
       "      <td>NaN</td>\n",
       "      <td>NaN</td>\n",
       "      <td>NaN</td>\n",
       "      <td>NaN</td>\n",
       "      <td>NaN</td>\n",
       "      <td>NaN</td>\n",
       "      <td>NaN</td>\n",
       "      <td>NaN</td>\n",
       "      <td>NaN</td>\n",
       "      <td>NaN</td>\n",
       "      <td>NaN</td>\n",
       "    </tr>\n",
       "    <tr>\n",
       "      <th>1</th>\n",
       "      <td>NaN</td>\n",
       "      <td>NaN</td>\n",
       "      <td>NaN</td>\n",
       "      <td>NaN</td>\n",
       "      <td>NaN</td>\n",
       "      <td>NaN</td>\n",
       "      <td>NaN</td>\n",
       "      <td>NaN</td>\n",
       "      <td>NaN</td>\n",
       "      <td>NaN</td>\n",
       "      <td>NaN</td>\n",
       "      <td>NaN</td>\n",
       "      <td>NaN</td>\n",
       "    </tr>\n",
       "    <tr>\n",
       "      <th>2</th>\n",
       "      <td>NaN</td>\n",
       "      <td>NaN</td>\n",
       "      <td>NaN</td>\n",
       "      <td>NaN</td>\n",
       "      <td>NaN</td>\n",
       "      <td>NaN</td>\n",
       "      <td>NaN</td>\n",
       "      <td>NaN</td>\n",
       "      <td>NaN</td>\n",
       "      <td>NaN</td>\n",
       "      <td>NaN</td>\n",
       "      <td>NaN</td>\n",
       "      <td>NaN</td>\n",
       "    </tr>\n",
       "    <tr>\n",
       "      <th>3</th>\n",
       "      <td>ESP_030084_0985</td>\n",
       "      <td>-4.586</td>\n",
       "      <td>COMPLETE</td>\n",
       "      <td>NO</td>\n",
       "      <td>HIGH</td>\n",
       "      <td>-81.361</td>\n",
       "      <td>295.818</td>\n",
       "      <td>232.856</td>\n",
       "      <td>NaN</td>\n",
       "      <td>8925 Inca City monitoring Polar Geology</td>\n",
       "      <td>2012-Dec-26-361T15:29:16</td>\n",
       "      <td>NaN</td>\n",
       "      <td>NaN</td>\n",
       "    </tr>\n",
       "    <tr>\n",
       "      <th>4</th>\n",
       "      <td>ESP_030229_0985</td>\n",
       "      <td>-2.454</td>\n",
       "      <td>COMPLETE</td>\n",
       "      <td>NO</td>\n",
       "      <td>HIGH</td>\n",
       "      <td>-81.451</td>\n",
       "      <td>295.798</td>\n",
       "      <td>239.987</td>\n",
       "      <td>NaN</td>\n",
       "      <td>77038 Inca City Seasonal Processes</td>\n",
       "      <td>2013-Jan-06-6T22:41:10</td>\n",
       "      <td>NaN</td>\n",
       "      <td>NaN</td>\n",
       "    </tr>\n",
       "  </tbody>\n",
       "</table>\n",
       "</div>"
      ],
      "text/plain": [
       "    observation_id  roll¬∞    Status stereo Stability   lat¬∞    lon¬∞  \\\n",
       "0              NaN     NaN       NaN    NaN       NaN     NaN      NaN   \n",
       "1              NaN     NaN       NaN    NaN       NaN     NaN      NaN   \n",
       "2              NaN     NaN       NaN    NaN       NaN     NaN      NaN   \n",
       "3  ESP_030084_0985  -4.586  COMPLETE     NO      HIGH -81.361  295.818   \n",
       "4  ESP_030229_0985  -2.454  COMPLETE     NO      HIGH -81.451  295.798   \n",
       "\n",
       "      Ls¬∞  Unnamed: 8                                  Comment  \\\n",
       "0      NaN         NaN                                      NaN   \n",
       "1      NaN         NaN                                      NaN   \n",
       "2      NaN         NaN                                      NaN   \n",
       "3  232.856         NaN  8925 Inca City monitoring Polar Geology   \n",
       "4  239.987         NaN       77038 Inca City Seasonal Processes   \n",
       "\n",
       "                       time  Unnamed: 11 Unnamed: 12  \n",
       "0                       NaN          NaN         NaN  \n",
       "1                       NaN          NaN         NaN  \n",
       "2                       NaN          NaN         NaN  \n",
       "3  2012-Dec-26-361T15:29:16          NaN         NaN  \n",
       "4    2013-Jan-06-6T22:41:10          NaN         NaN  "
      ]
     },
     "execution_count": 113,
     "metadata": {},
     "output_type": "execute_result"
    }
   ],
   "source": [
    "df = excelfile.parse(3)\n",
    "df.head()"
   ]
  },
  {
   "cell_type": "code",
   "execution_count": 114,
   "metadata": {
    "collapsed": false
   },
   "outputs": [
    {
     "data": {
      "text/html": [
       "<div style=\"max-height:1000px;max-width:1500px;overflow:auto;\">\n",
       "<table border=\"1\" class=\"dataframe\">\n",
       "  <thead>\n",
       "    <tr style=\"text-align: right;\">\n",
       "      <th></th>\n",
       "      <th>observation_id</th>\n",
       "      <th>roll¬∞</th>\n",
       "      <th>Status</th>\n",
       "      <th>stereo</th>\n",
       "      <th>Stability</th>\n",
       "      <th>lat¬∞</th>\n",
       "      <th>lon¬∞</th>\n",
       "      <th>Ls¬∞</th>\n",
       "      <th>Unnamed: 8</th>\n",
       "      <th>Comment</th>\n",
       "      <th>time</th>\n",
       "    </tr>\n",
       "  </thead>\n",
       "  <tbody>\n",
       "    <tr>\n",
       "      <th>0</th>\n",
       "      <td>NaN</td>\n",
       "      <td>NaN</td>\n",
       "      <td>NaN</td>\n",
       "      <td>NaN</td>\n",
       "      <td>NaN</td>\n",
       "      <td>NaN</td>\n",
       "      <td>NaN</td>\n",
       "      <td>NaN</td>\n",
       "      <td>NaN</td>\n",
       "      <td>NaN</td>\n",
       "      <td>NaN</td>\n",
       "    </tr>\n",
       "    <tr>\n",
       "      <th>1</th>\n",
       "      <td>NaN</td>\n",
       "      <td>NaN</td>\n",
       "      <td>NaN</td>\n",
       "      <td>NaN</td>\n",
       "      <td>NaN</td>\n",
       "      <td>NaN</td>\n",
       "      <td>NaN</td>\n",
       "      <td>NaN</td>\n",
       "      <td>NaN</td>\n",
       "      <td>NaN</td>\n",
       "      <td>NaN</td>\n",
       "    </tr>\n",
       "    <tr>\n",
       "      <th>2</th>\n",
       "      <td>NaN</td>\n",
       "      <td>NaN</td>\n",
       "      <td>NaN</td>\n",
       "      <td>NaN</td>\n",
       "      <td>NaN</td>\n",
       "      <td>NaN</td>\n",
       "      <td>NaN</td>\n",
       "      <td>NaN</td>\n",
       "      <td>NaN</td>\n",
       "      <td>NaN</td>\n",
       "      <td>NaN</td>\n",
       "    </tr>\n",
       "    <tr>\n",
       "      <th>3</th>\n",
       "      <td>ESP_030084_0985</td>\n",
       "      <td>-4.586</td>\n",
       "      <td>COMPLETE</td>\n",
       "      <td>NO</td>\n",
       "      <td>HIGH</td>\n",
       "      <td>-81.361</td>\n",
       "      <td>295.818</td>\n",
       "      <td>232.856</td>\n",
       "      <td>NaN</td>\n",
       "      <td>8925 Inca City monitoring Polar Geology</td>\n",
       "      <td>2012-Dec-26-361T15:29:16</td>\n",
       "    </tr>\n",
       "    <tr>\n",
       "      <th>4</th>\n",
       "      <td>ESP_030229_0985</td>\n",
       "      <td>-2.454</td>\n",
       "      <td>COMPLETE</td>\n",
       "      <td>NO</td>\n",
       "      <td>HIGH</td>\n",
       "      <td>-81.451</td>\n",
       "      <td>295.798</td>\n",
       "      <td>239.987</td>\n",
       "      <td>NaN</td>\n",
       "      <td>77038 Inca City Seasonal Processes</td>\n",
       "      <td>2013-Jan-06-6T22:41:10</td>\n",
       "    </tr>\n",
       "  </tbody>\n",
       "</table>\n",
       "</div>"
      ],
      "text/plain": [
       "    observation_id  roll¬∞    Status stereo Stability   lat¬∞    lon¬∞  \\\n",
       "0              NaN     NaN       NaN    NaN       NaN     NaN      NaN   \n",
       "1              NaN     NaN       NaN    NaN       NaN     NaN      NaN   \n",
       "2              NaN     NaN       NaN    NaN       NaN     NaN      NaN   \n",
       "3  ESP_030084_0985  -4.586  COMPLETE     NO      HIGH -81.361  295.818   \n",
       "4  ESP_030229_0985  -2.454  COMPLETE     NO      HIGH -81.451  295.798   \n",
       "\n",
       "      Ls¬∞  Unnamed: 8                                  Comment  \\\n",
       "0      NaN         NaN                                      NaN   \n",
       "1      NaN         NaN                                      NaN   \n",
       "2      NaN         NaN                                      NaN   \n",
       "3  232.856         NaN  8925 Inca City monitoring Polar Geology   \n",
       "4  239.987         NaN       77038 Inca City Seasonal Processes   \n",
       "\n",
       "                       time  \n",
       "0                       NaN  \n",
       "1                       NaN  \n",
       "2                       NaN  \n",
       "3  2012-Dec-26-361T15:29:16  \n",
       "4    2013-Jan-06-6T22:41:10  "
      ]
     },
     "execution_count": 114,
     "metadata": {},
     "output_type": "execute_result"
    }
   ],
   "source": [
    "df = df.loc[:, df.columns[:-2]]\n",
    "df.head()"
   ]
  },
  {
   "cell_type": "code",
   "execution_count": 116,
   "metadata": {
    "collapsed": false
   },
   "outputs": [
    {
     "data": {
      "text/html": [
       "<div style=\"max-height:1000px;max-width:1500px;overflow:auto;\">\n",
       "<table border=\"1\" class=\"dataframe\">\n",
       "  <thead>\n",
       "    <tr style=\"text-align: right;\">\n",
       "      <th></th>\n",
       "      <th>observation_id</th>\n",
       "      <th>roll¬∞</th>\n",
       "      <th>Status</th>\n",
       "      <th>stereo</th>\n",
       "      <th>Stability</th>\n",
       "      <th>lat¬∞</th>\n",
       "      <th>lon¬∞</th>\n",
       "      <th>Ls¬∞</th>\n",
       "      <th>Unnamed: 8</th>\n",
       "      <th>Comment</th>\n",
       "      <th>time</th>\n",
       "      <th>status</th>\n",
       "    </tr>\n",
       "  </thead>\n",
       "  <tbody>\n",
       "    <tr>\n",
       "      <th>0</th>\n",
       "      <td>NaN</td>\n",
       "      <td>NaN</td>\n",
       "      <td>NaN</td>\n",
       "      <td>NaN</td>\n",
       "      <td>NaN</td>\n",
       "      <td>NaN</td>\n",
       "      <td>NaN</td>\n",
       "      <td>NaN</td>\n",
       "      <td>NaN</td>\n",
       "      <td>NaN</td>\n",
       "      <td>NaN</td>\n",
       "      <td>NaN</td>\n",
       "    </tr>\n",
       "    <tr>\n",
       "      <th>1</th>\n",
       "      <td>NaN</td>\n",
       "      <td>NaN</td>\n",
       "      <td>NaN</td>\n",
       "      <td>NaN</td>\n",
       "      <td>NaN</td>\n",
       "      <td>NaN</td>\n",
       "      <td>NaN</td>\n",
       "      <td>NaN</td>\n",
       "      <td>NaN</td>\n",
       "      <td>NaN</td>\n",
       "      <td>NaN</td>\n",
       "      <td>NaN</td>\n",
       "    </tr>\n",
       "    <tr>\n",
       "      <th>2</th>\n",
       "      <td>NaN</td>\n",
       "      <td>NaN</td>\n",
       "      <td>NaN</td>\n",
       "      <td>NaN</td>\n",
       "      <td>NaN</td>\n",
       "      <td>NaN</td>\n",
       "      <td>NaN</td>\n",
       "      <td>NaN</td>\n",
       "      <td>NaN</td>\n",
       "      <td>NaN</td>\n",
       "      <td>NaN</td>\n",
       "      <td>NaN</td>\n",
       "    </tr>\n",
       "    <tr>\n",
       "      <th>3</th>\n",
       "      <td>ESP_030084_0985</td>\n",
       "      <td>-4.586</td>\n",
       "      <td>COMPLETE</td>\n",
       "      <td>NO</td>\n",
       "      <td>HIGH</td>\n",
       "      <td>-81.361</td>\n",
       "      <td>295.818</td>\n",
       "      <td>232.856</td>\n",
       "      <td>NaN</td>\n",
       "      <td>8925 Inca City monitoring Polar Geology</td>\n",
       "      <td>2012-Dec-26T15:29:16</td>\n",
       "      <td>100.3</td>\n",
       "    </tr>\n",
       "    <tr>\n",
       "      <th>4</th>\n",
       "      <td>ESP_030229_0985</td>\n",
       "      <td>-2.454</td>\n",
       "      <td>COMPLETE</td>\n",
       "      <td>NO</td>\n",
       "      <td>HIGH</td>\n",
       "      <td>-81.451</td>\n",
       "      <td>295.798</td>\n",
       "      <td>239.987</td>\n",
       "      <td>NaN</td>\n",
       "      <td>77038 Inca City Seasonal Processes</td>\n",
       "      <td>2013-Jan-06T22:41:10</td>\n",
       "      <td>100.1</td>\n",
       "    </tr>\n",
       "  </tbody>\n",
       "</table>\n",
       "</div>"
      ],
      "text/plain": [
       "    observation_id  roll¬∞    Status stereo Stability   lat¬∞    lon¬∞  \\\n",
       "0              NaN     NaN       NaN    NaN       NaN     NaN      NaN   \n",
       "1              NaN     NaN       NaN    NaN       NaN     NaN      NaN   \n",
       "2              NaN     NaN       NaN    NaN       NaN     NaN      NaN   \n",
       "3  ESP_030084_0985  -4.586  COMPLETE     NO      HIGH -81.361  295.818   \n",
       "4  ESP_030229_0985  -2.454  COMPLETE     NO      HIGH -81.451  295.798   \n",
       "\n",
       "      Ls¬∞  Unnamed: 8                                  Comment  \\\n",
       "0      NaN         NaN                                      NaN   \n",
       "1      NaN         NaN                                      NaN   \n",
       "2      NaN         NaN                                      NaN   \n",
       "3  232.856         NaN  8925 Inca City monitoring Polar Geology   \n",
       "4  239.987         NaN       77038 Inca City Seasonal Processes   \n",
       "\n",
       "                   time  status  \n",
       "0                   NaN     NaN  \n",
       "1                   NaN     NaN  \n",
       "2                   NaN     NaN  \n",
       "3  2012-Dec-26T15:29:16   100.3  \n",
       "4  2013-Jan-06T22:41:10   100.1  "
      ]
     },
     "execution_count": 116,
     "metadata": {},
     "output_type": "execute_result"
    }
   ],
   "source": [
    "df.time = df.time.map(repair_time)\n",
    "oldindex = df.index\n",
    "merged = df.merge(status, left_on='observation_id', right_index=True).reindex(oldindex)\n",
    "merged.head()"
   ]
  },
  {
   "cell_type": "code",
   "execution_count": 117,
   "metadata": {
    "collapsed": true
   },
   "outputs": [],
   "source": [
    "merged.to_excel('merged_season4.xlsx')"
   ]
  },
  {
   "cell_type": "code",
   "execution_count": null,
   "metadata": {
    "collapsed": true
   },
   "outputs": [],
   "source": []
  }
 ],
 "metadata": {
  "kernelspec": {
   "display_name": "Python 3",
   "language": "python",
   "name": "python3"
  },
  "language_info": {
   "codemirror_mode": {
    "name": "ipython",
    "version": 3
   },
   "file_extension": ".py",
   "mimetype": "text/x-python",
   "name": "python",
   "nbconvert_exporter": "python",
   "pygments_lexer": "ipython3",
   "version": "3.4.3"
  }
 },
 "nbformat": 4,
 "nbformat_minor": 0
}
