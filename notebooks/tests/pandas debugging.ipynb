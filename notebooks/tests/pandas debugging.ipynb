{
 "cells": [
  {
   "cell_type": "code",
   "execution_count": null,
   "metadata": {},
   "outputs": [],
   "source": [
    "obsids = ['ESP_012345_6789', 'ESP_987654_3210']\n",
    "imgids = ['APF00006np', 'APF0001imm']\n",
    "data = [4.3, 9.8]\n",
    "df = pd.DataFrame(dict(obsids=obsids, imgids=imgids, data=data))\n",
    "df.to_hdf('testdf_no_cats.hdf', 'df',format='t', data_columns=True)\n",
    "df.obsids = df.obsids.astype('category')\n",
    "df.imgids = df.imgids.astype('category')\n",
    "df.to_hdf('testdf_with_cats.hdf', 'df',format='t', data_columns=True)\n",
    "print(\"No categories:\")\n",
    "print(pd.read_hdf('testdf_no_cats.hdf', 'df', where='obsids=B'))\n",
    "print(\"With categories:\")\n",
    "print(pd.read_hdf('testdf_with_cats.hdf', 'df', where='obsids=B'))"
   ]
  },
  {
   "cell_type": "code",
   "execution_count": null,
   "metadata": {},
   "outputs": [],
   "source": [
    "pd.show_versions()"
   ]
  },
  {
   "cell_type": "code",
   "execution_count": null,
   "metadata": {},
   "outputs": [],
   "source": []
  }
 ],
 "metadata": {
  "anaconda-cloud": {},
  "kernelspec": {
   "display_name": "Python [conda env:stable]",
   "language": "python",
   "name": "conda-env-stable-py"
  },
  "language_info": {
   "codemirror_mode": {
    "name": "ipython",
    "version": 3
   },
   "file_extension": ".py",
   "mimetype": "text/x-python",
   "name": "python",
   "nbconvert_exporter": "python",
   "pygments_lexer": "ipython3",
   "version": "3.5.2"
  }
 },
 "nbformat": 4,
 "nbformat_minor": 0
}
