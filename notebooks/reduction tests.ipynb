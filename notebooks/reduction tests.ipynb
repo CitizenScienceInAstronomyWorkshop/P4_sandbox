{
 "cells": [
  {
   "cell_type": "code",
   "execution_count": null,
   "metadata": {
    "collapsed": false
   },
   "outputs": [],
   "source": [
    "from IPython.html.widgets import interact, interactive, fixed\n",
    "from IPython.html import widgets\n",
    "from IPython.display import clear_output, display, HTML"
   ]
  },
  {
   "cell_type": "code",
   "execution_count": null,
   "metadata": {
    "collapsed": false
   },
   "outputs": [],
   "source": [
    "df = pd.read_hdf('/raid1/maye/planet4/dirty_data.h5','df')"
   ]
  },
  {
   "cell_type": "code",
   "execution_count": null,
   "metadata": {
    "collapsed": false
   },
   "outputs": [],
   "source": [
    "rest = df[(df.marking!='interesting')]# & (df.image_name!='tutorial')]"
   ]
  },
  {
   "cell_type": "code",
   "execution_count": null,
   "metadata": {
    "collapsed": false
   },
   "outputs": [],
   "source": [
    "blotches = rest[(rest.marking=='blotch')]\n",
    "fans = rest[(rest.marking=='fan')]\n",
    "print blotches.shape\n",
    "print fans.shape"
   ]
  },
  {
   "cell_type": "code",
   "execution_count": null,
   "metadata": {
    "collapsed": false
   },
   "outputs": [],
   "source": [
    "fans.columns"
   ]
  },
  {
   "cell_type": "code",
   "execution_count": null,
   "metadata": {
    "collapsed": false
   },
   "outputs": [],
   "source": [
    "fandata_cols = 'x y image_x image_y distance angle spread'.split()"
   ]
  },
  {
   "cell_type": "code",
   "execution_count": null,
   "metadata": {
    "collapsed": false
   },
   "outputs": [],
   "source": [
    "ind = fans[fandata_cols].isnull().any(axis=1)"
   ]
  },
  {
   "cell_type": "markdown",
   "metadata": {},
   "source": [
    "blotchdata = blotches['x y image_x image_y radius_1 radius_2'.split()]"
   ]
  },
  {
   "cell_type": "code",
   "execution_count": null,
   "metadata": {
    "collapsed": false
   },
   "outputs": [],
   "source": [
    "larger = (fandata[fandata.isnull().any(axis=1)])"
   ]
  },
  {
   "cell_type": "code",
   "execution_count": null,
   "metadata": {
    "collapsed": false
   },
   "outputs": [],
   "source": [
    "fans.ix[ind]"
   ]
  },
  {
   "cell_type": "code",
   "execution_count": null,
   "metadata": {
    "collapsed": false
   },
   "outputs": [],
   "source": [
    "smaller = fans['x y image_x image_y distance angle spread'.split()]"
   ]
  },
  {
   "cell_type": "code",
   "execution_count": null,
   "metadata": {
    "collapsed": false
   },
   "outputs": [],
   "source": [
    "smaller.shape"
   ]
  },
  {
   "cell_type": "code",
   "execution_count": null,
   "metadata": {
    "collapsed": false
   },
   "outputs": [],
   "source": []
  },
  {
   "cell_type": "code",
   "execution_count": null,
   "metadata": {
    "collapsed": false
   },
   "outputs": [],
   "source": [
    "larger.shape"
   ]
  },
  {
   "cell_type": "code",
   "execution_count": null,
   "metadata": {
    "collapsed": false
   },
   "outputs": [],
   "source": [
    "larger - smaller"
   ]
  },
  {
   "cell_type": "code",
   "execution_count": null,
   "metadata": {
    "collapsed": false
   },
   "outputs": [],
   "source": [
    "ind = pd.Index([2422687, 3008797, 7699551, 10849987])"
   ]
  },
  {
   "cell_type": "code",
   "execution_count": null,
   "metadata": {
    "collapsed": false
   },
   "outputs": [],
   "source": [
    "ind"
   ]
  },
  {
   "cell_type": "code",
   "execution_count": null,
   "metadata": {
    "collapsed": false
   },
   "outputs": [],
   "source": [
    "fandata.ix[2422687]"
   ]
  },
  {
   "cell_type": "code",
   "execution_count": null,
   "metadata": {
    "collapsed": false
   },
   "outputs": [],
   "source": [
    "blotchdata[blotchdata.isnull().any(axis=1)]"
   ]
  },
  {
   "cell_type": "code",
   "execution_count": null,
   "metadata": {
    "collapsed": false
   },
   "outputs": [],
   "source": [
    "def show_stuff(i):\n",
    "    display(blotches.irow(i))"
   ]
  },
  {
   "cell_type": "code",
   "execution_count": null,
   "metadata": {
    "collapsed": false
   },
   "outputs": [],
   "source": [
    "i = interact(show_stuff,\n",
    "             i=(30,40),\n",
    "             a=widgets.IntSliderWidget(min=0,max=10,step=1))"
   ]
  },
  {
   "cell_type": "code",
   "execution_count": null,
   "metadata": {
    "collapsed": false
   },
   "outputs": [],
   "source": [
    "rest[rest.image_name!='tutorial'].shape"
   ]
  },
  {
   "cell_type": "code",
   "execution_count": null,
   "metadata": {
    "collapsed": false
   },
   "outputs": [],
   "source": [
    "s = blotches.created_at"
   ]
  },
  {
   "cell_type": "code",
   "execution_count": null,
   "metadata": {
    "collapsed": false
   },
   "outputs": [],
   "source": [
    "index = pd.DatetimeIndex(s)"
   ]
  },
  {
   "cell_type": "code",
   "execution_count": null,
   "metadata": {
    "collapsed": false
   },
   "outputs": [],
   "source": [
    "blotches.created_at = index"
   ]
  },
  {
   "cell_type": "code",
   "execution_count": null,
   "metadata": {
    "collapsed": false
   },
   "outputs": [],
   "source": [
    "blotches.loc[:, 'created_at'] = index"
   ]
  },
  {
   "cell_type": "code",
   "execution_count": null,
   "metadata": {
    "collapsed": false
   },
   "outputs": [],
   "source": [
    "blotches.plot(x='created_at',y='x_tile', style='*')"
   ]
  },
  {
   "cell_type": "code",
   "execution_count": null,
   "metadata": {
    "collapsed": false
   },
   "outputs": [],
   "source": [
    "blotches.tail()"
   ]
  },
  {
   "cell_type": "markdown",
   "metadata": {},
   "source": [
    "# time conversions"
   ]
  },
  {
   "cell_type": "code",
   "execution_count": 3,
   "metadata": {
    "collapsed": false
   },
   "outputs": [
    {
     "data": {
      "text/plain": [
       "<module 'planet4' from 'planet4/__init__.pyc'>"
      ]
     },
     "execution_count": 3,
     "metadata": {},
     "output_type": "execute_result"
    }
   ],
   "source": [
    "import planet4\n",
    "reload(planet4)"
   ]
  },
  {
   "cell_type": "code",
   "execution_count": 4,
   "metadata": {
    "collapsed": false
   },
   "outputs": [],
   "source": [
    "from planet4 import reduction"
   ]
  },
  {
   "cell_type": "code",
   "execution_count": 23,
   "metadata": {
    "collapsed": false
   },
   "outputs": [],
   "source": [
    "reader = pd.read_csv('/Users/maye/data/planet4/2014-07-20_planet_four_classifications.csv',\n",
    "                     chunksize=1e5, na_values=['null'])"
   ]
  },
  {
   "cell_type": "code",
   "execution_count": 24,
   "metadata": {
    "collapsed": false
   },
   "outputs": [],
   "source": [
    "chunk = reader.get_chunk()"
   ]
  },
  {
   "cell_type": "code",
   "execution_count": 27,
   "metadata": {
    "collapsed": false
   },
   "outputs": [
    {
     "data": {
      "text/html": [
       "<div style=\"max-height:1000px;max-width:1500px;overflow:auto;\">\n",
       "<table border=\"1\" class=\"dataframe\">\n",
       "  <thead>\n",
       "    <tr style=\"text-align: right;\">\n",
       "      <th></th>\n",
       "      <th>classification_id</th>\n",
       "      <th>created_at</th>\n",
       "      <th>image_id</th>\n",
       "      <th>image_name</th>\n",
       "      <th>image_url</th>\n",
       "      <th>user_name</th>\n",
       "      <th>marking</th>\n",
       "      <th>x_tile</th>\n",
       "      <th>y_tile</th>\n",
       "      <th>acquisition_date</th>\n",
       "      <th>local_mars_time</th>\n",
       "      <th>x</th>\n",
       "      <th>y</th>\n",
       "      <th>image_x</th>\n",
       "      <th>image_y</th>\n",
       "      <th>radius_1</th>\n",
       "      <th>radius_2</th>\n",
       "      <th>distance</th>\n",
       "      <th>angle</th>\n",
       "      <th>spread</th>\n",
       "    </tr>\n",
       "  </thead>\n",
       "  <tbody>\n",
       "    <tr>\n",
       "      <th>0</th>\n",
       "      <td> 50ea1eae45d7e11332000bf9</td>\n",
       "      <td> 2013-01-07 01:02:38 UTC</td>\n",
       "      <td> APF00004hc</td>\n",
       "      <td> ESP_012264_0980</td>\n",
       "      <td> http://www.planetfour.org/subjects/standard/50...</td>\n",
       "      <td>   brian-c</td>\n",
       "      <td> interesting</td>\n",
       "      <td> 5</td>\n",
       "      <td>  84</td>\n",
       "      <td> 2009-03-09</td>\n",
       "      <td> 4:51 PM</td>\n",
       "      <td> 415.5</td>\n",
       "      <td> 317</td>\n",
       "      <td> 3375.5</td>\n",
       "      <td> 45801</td>\n",
       "      <td>        NaN</td>\n",
       "      <td>       NaN</td>\n",
       "      <td>        NaN</td>\n",
       "      <td>        NaN</td>\n",
       "      <td>       NaN</td>\n",
       "    </tr>\n",
       "    <tr>\n",
       "      <th>1</th>\n",
       "      <td> 50ea21c245d7e11332000c88</td>\n",
       "      <td> 2013-01-07 01:15:46 UTC</td>\n",
       "      <td> APF00002rq</td>\n",
       "      <td> ESP_011544_0985</td>\n",
       "      <td> http://www.planetfour.org/subjects/standard/50...</td>\n",
       "      <td>     arfon</td>\n",
       "      <td>      blotch</td>\n",
       "      <td> 2</td>\n",
       "      <td>  10</td>\n",
       "      <td> 2009-01-12</td>\n",
       "      <td> 5:14 PM</td>\n",
       "      <td> 278.5</td>\n",
       "      <td> 145</td>\n",
       "      <td> 1018.5</td>\n",
       "      <td>  5077</td>\n",
       "      <td> 186.657440</td>\n",
       "      <td> 77.006493</td>\n",
       "      <td>        NaN</td>\n",
       "      <td> 142.386043</td>\n",
       "      <td>       NaN</td>\n",
       "    </tr>\n",
       "    <tr>\n",
       "      <th>2</th>\n",
       "      <td> 50ea21d7e3995601cb00016d</td>\n",
       "      <td> 2013-01-07 01:16:07 UTC</td>\n",
       "      <td> APF0000cwl</td>\n",
       "      <td> ESP_012079_0945</td>\n",
       "      <td> http://www.planetfour.org/subjects/standard/50...</td>\n",
       "      <td>     arfon</td>\n",
       "      <td>         fan</td>\n",
       "      <td> 5</td>\n",
       "      <td>  35</td>\n",
       "      <td> 2009-02-22</td>\n",
       "      <td> 6:04 PM</td>\n",
       "      <td> 294.5</td>\n",
       "      <td> 371</td>\n",
       "      <td> 3254.5</td>\n",
       "      <td> 19003</td>\n",
       "      <td>        NaN</td>\n",
       "      <td>       NaN</td>\n",
       "      <td> 195.133288</td>\n",
       "      <td> -96.178065</td>\n",
       "      <td>  6.768722</td>\n",
       "    </tr>\n",
       "    <tr>\n",
       "      <th>3</th>\n",
       "      <td> 50ea21d7e3995601cb00016d</td>\n",
       "      <td> 2013-01-07 01:16:07 UTC</td>\n",
       "      <td> APF0000cwl</td>\n",
       "      <td> ESP_012079_0945</td>\n",
       "      <td> http://www.planetfour.org/subjects/standard/50...</td>\n",
       "      <td>     arfon</td>\n",
       "      <td>         fan</td>\n",
       "      <td> 5</td>\n",
       "      <td>  35</td>\n",
       "      <td> 2009-02-22</td>\n",
       "      <td> 6:04 PM</td>\n",
       "      <td> 295.5</td>\n",
       "      <td> 366</td>\n",
       "      <td> 3255.5</td>\n",
       "      <td> 18998</td>\n",
       "      <td>        NaN</td>\n",
       "      <td>       NaN</td>\n",
       "      <td> 280.264161</td>\n",
       "      <td>-162.987453</td>\n",
       "      <td> 10.572224</td>\n",
       "    </tr>\n",
       "    <tr>\n",
       "      <th>4</th>\n",
       "      <td> 50ea21e745d7e11332000c97</td>\n",
       "      <td> 2013-01-07 01:16:23 UTC</td>\n",
       "      <td> APF0000jn4</td>\n",
       "      <td> ESP_021684_0985</td>\n",
       "      <td> http://www.planetfour.org/subjects/standard/50...</td>\n",
       "      <td>     arfon</td>\n",
       "      <td>      blotch</td>\n",
       "      <td> 2</td>\n",
       "      <td> 127</td>\n",
       "      <td> 2011-03-13</td>\n",
       "      <td> 4:08 PM</td>\n",
       "      <td>  71.5</td>\n",
       "      <td> 543</td>\n",
       "      <td>  811.5</td>\n",
       "      <td> 69591</td>\n",
       "      <td>  26.172505</td>\n",
       "      <td> 19.629378</td>\n",
       "      <td>        NaN</td>\n",
       "      <td>  43.451842</td>\n",
       "      <td>       NaN</td>\n",
       "    </tr>\n",
       "    <tr>\n",
       "      <th>5</th>\n",
       "      <td> 50ea21e745d7e11332000c97</td>\n",
       "      <td> 2013-01-07 01:16:23 UTC</td>\n",
       "      <td> APF0000jn4</td>\n",
       "      <td> ESP_021684_0985</td>\n",
       "      <td> http://www.planetfour.org/subjects/standard/50...</td>\n",
       "      <td>     arfon</td>\n",
       "      <td>      blotch</td>\n",
       "      <td> 2</td>\n",
       "      <td> 127</td>\n",
       "      <td> 2011-03-13</td>\n",
       "      <td> 4:08 PM</td>\n",
       "      <td>  43.5</td>\n",
       "      <td> 199</td>\n",
       "      <td>  783.5</td>\n",
       "      <td> 69247</td>\n",
       "      <td>  23.000000</td>\n",
       "      <td> 17.250000</td>\n",
       "      <td>        NaN</td>\n",
       "      <td>  90.000000</td>\n",
       "      <td>       NaN</td>\n",
       "    </tr>\n",
       "    <tr>\n",
       "      <th>6</th>\n",
       "      <td> 50ea21e745d7e11332000c97</td>\n",
       "      <td> 2013-01-07 01:16:23 UTC</td>\n",
       "      <td> APF0000jn4</td>\n",
       "      <td> ESP_021684_0985</td>\n",
       "      <td> http://www.planetfour.org/subjects/standard/50...</td>\n",
       "      <td>     arfon</td>\n",
       "      <td>      blotch</td>\n",
       "      <td> 2</td>\n",
       "      <td> 127</td>\n",
       "      <td> 2011-03-13</td>\n",
       "      <td> 4:08 PM</td>\n",
       "      <td> 314.5</td>\n",
       "      <td> 589</td>\n",
       "      <td> 1054.5</td>\n",
       "      <td> 69637</td>\n",
       "      <td>  44.407207</td>\n",
       "      <td> 33.305405</td>\n",
       "      <td>        NaN</td>\n",
       "      <td>  35.837653</td>\n",
       "      <td>       NaN</td>\n",
       "    </tr>\n",
       "    <tr>\n",
       "      <th>7</th>\n",
       "      <td> 50eacdcb45d7e143b10002c0</td>\n",
       "      <td> 2013-01-07 13:29:47 UTC</td>\n",
       "      <td> APF0000469</td>\n",
       "      <td> ESP_011697_0980</td>\n",
       "      <td> http://www.planetfour.org/subjects/standard/50...</td>\n",
       "      <td> lukesmith</td>\n",
       "      <td>         fan</td>\n",
       "      <td> 2</td>\n",
       "      <td>   7</td>\n",
       "      <td> 2009-01-23</td>\n",
       "      <td> 5:03 PM</td>\n",
       "      <td> 146.5</td>\n",
       "      <td> 312</td>\n",
       "      <td>  886.5</td>\n",
       "      <td>  3600</td>\n",
       "      <td>        NaN</td>\n",
       "      <td>       NaN</td>\n",
       "      <td>  62.769419</td>\n",
       "      <td>  67.520566</td>\n",
       "      <td> 23.714055</td>\n",
       "    </tr>\n",
       "    <tr>\n",
       "      <th>8</th>\n",
       "      <td> 50eacdcb45d7e143b10002c0</td>\n",
       "      <td> 2013-01-07 13:29:47 UTC</td>\n",
       "      <td> APF0000469</td>\n",
       "      <td> ESP_011697_0980</td>\n",
       "      <td> http://www.planetfour.org/subjects/standard/50...</td>\n",
       "      <td> lukesmith</td>\n",
       "      <td>      blotch</td>\n",
       "      <td> 2</td>\n",
       "      <td>   7</td>\n",
       "      <td> 2009-01-23</td>\n",
       "      <td> 5:03 PM</td>\n",
       "      <td> 107.5</td>\n",
       "      <td> 600</td>\n",
       "      <td>  847.5</td>\n",
       "      <td>  3888</td>\n",
       "      <td>  16.552945</td>\n",
       "      <td> 19.416488</td>\n",
       "      <td>        NaN</td>\n",
       "      <td> -64.983107</td>\n",
       "      <td>       NaN</td>\n",
       "    </tr>\n",
       "    <tr>\n",
       "      <th>9</th>\n",
       "      <td> 50eacdcb45d7e143b10002c0</td>\n",
       "      <td> 2013-01-07 13:29:47 UTC</td>\n",
       "      <td> APF0000469</td>\n",
       "      <td> ESP_011697_0980</td>\n",
       "      <td> http://www.planetfour.org/subjects/standard/50...</td>\n",
       "      <td> lukesmith</td>\n",
       "      <td>      blotch</td>\n",
       "      <td> 2</td>\n",
       "      <td>   7</td>\n",
       "      <td> 2009-01-23</td>\n",
       "      <td> 5:03 PM</td>\n",
       "      <td> 348.5</td>\n",
       "      <td> 391</td>\n",
       "      <td> 1088.5</td>\n",
       "      <td>  3679</td>\n",
       "      <td>  20.124612</td>\n",
       "      <td> 15.093459</td>\n",
       "      <td>        NaN</td>\n",
       "      <td>  26.565051</td>\n",
       "      <td>       NaN</td>\n",
       "    </tr>\n",
       "  </tbody>\n",
       "</table>\n",
       "</div>"
      ],
      "text/plain": [
       "          classification_id               created_at    image_id  \\\n",
       "0  50ea1eae45d7e11332000bf9  2013-01-07 01:02:38 UTC  APF00004hc   \n",
       "1  50ea21c245d7e11332000c88  2013-01-07 01:15:46 UTC  APF00002rq   \n",
       "2  50ea21d7e3995601cb00016d  2013-01-07 01:16:07 UTC  APF0000cwl   \n",
       "3  50ea21d7e3995601cb00016d  2013-01-07 01:16:07 UTC  APF0000cwl   \n",
       "4  50ea21e745d7e11332000c97  2013-01-07 01:16:23 UTC  APF0000jn4   \n",
       "5  50ea21e745d7e11332000c97  2013-01-07 01:16:23 UTC  APF0000jn4   \n",
       "6  50ea21e745d7e11332000c97  2013-01-07 01:16:23 UTC  APF0000jn4   \n",
       "7  50eacdcb45d7e143b10002c0  2013-01-07 13:29:47 UTC  APF0000469   \n",
       "8  50eacdcb45d7e143b10002c0  2013-01-07 13:29:47 UTC  APF0000469   \n",
       "9  50eacdcb45d7e143b10002c0  2013-01-07 13:29:47 UTC  APF0000469   \n",
       "\n",
       "        image_name                                          image_url  \\\n",
       "0  ESP_012264_0980  http://www.planetfour.org/subjects/standard/50...   \n",
       "1  ESP_011544_0985  http://www.planetfour.org/subjects/standard/50...   \n",
       "2  ESP_012079_0945  http://www.planetfour.org/subjects/standard/50...   \n",
       "3  ESP_012079_0945  http://www.planetfour.org/subjects/standard/50...   \n",
       "4  ESP_021684_0985  http://www.planetfour.org/subjects/standard/50...   \n",
       "5  ESP_021684_0985  http://www.planetfour.org/subjects/standard/50...   \n",
       "6  ESP_021684_0985  http://www.planetfour.org/subjects/standard/50...   \n",
       "7  ESP_011697_0980  http://www.planetfour.org/subjects/standard/50...   \n",
       "8  ESP_011697_0980  http://www.planetfour.org/subjects/standard/50...   \n",
       "9  ESP_011697_0980  http://www.planetfour.org/subjects/standard/50...   \n",
       "\n",
       "   user_name      marking  x_tile  y_tile acquisition_date local_mars_time  \\\n",
       "0    brian-c  interesting       5      84       2009-03-09         4:51 PM   \n",
       "1      arfon       blotch       2      10       2009-01-12         5:14 PM   \n",
       "2      arfon          fan       5      35       2009-02-22         6:04 PM   \n",
       "3      arfon          fan       5      35       2009-02-22         6:04 PM   \n",
       "4      arfon       blotch       2     127       2011-03-13         4:08 PM   \n",
       "5      arfon       blotch       2     127       2011-03-13         4:08 PM   \n",
       "6      arfon       blotch       2     127       2011-03-13         4:08 PM   \n",
       "7  lukesmith          fan       2       7       2009-01-23         5:03 PM   \n",
       "8  lukesmith       blotch       2       7       2009-01-23         5:03 PM   \n",
       "9  lukesmith       blotch       2       7       2009-01-23         5:03 PM   \n",
       "\n",
       "       x    y  image_x  image_y    radius_1   radius_2    distance  \\\n",
       "0  415.5  317   3375.5    45801         NaN        NaN         NaN   \n",
       "1  278.5  145   1018.5     5077  186.657440  77.006493         NaN   \n",
       "2  294.5  371   3254.5    19003         NaN        NaN  195.133288   \n",
       "3  295.5  366   3255.5    18998         NaN        NaN  280.264161   \n",
       "4   71.5  543    811.5    69591   26.172505  19.629378         NaN   \n",
       "5   43.5  199    783.5    69247   23.000000  17.250000         NaN   \n",
       "6  314.5  589   1054.5    69637   44.407207  33.305405         NaN   \n",
       "7  146.5  312    886.5     3600         NaN        NaN   62.769419   \n",
       "8  107.5  600    847.5     3888   16.552945  19.416488         NaN   \n",
       "9  348.5  391   1088.5     3679   20.124612  15.093459         NaN   \n",
       "\n",
       "        angle     spread  \n",
       "0         NaN        NaN  \n",
       "1  142.386043        NaN  \n",
       "2  -96.178065   6.768722  \n",
       "3 -162.987453  10.572224  \n",
       "4   43.451842        NaN  \n",
       "5   90.000000        NaN  \n",
       "6   35.837653        NaN  \n",
       "7   67.520566  23.714055  \n",
       "8  -64.983107        NaN  \n",
       "9   26.565051        NaN  "
      ]
     },
     "execution_count": 27,
     "metadata": {},
     "output_type": "execute_result"
    }
   ],
   "source": [
    "chunk.head(10)"
   ]
  },
  {
   "cell_type": "code",
   "execution_count": 54,
   "metadata": {
    "collapsed": false
   },
   "outputs": [
    {
     "name": "stdout",
     "output_type": "stream",
     "text": [
      "10000 loops, best of 3: 98.5 µs per loop\n",
      "1000 loops, best of 3: 1.73 ms per loop\n",
      "1000 loops, best of 3: 955 µs per loop\n",
      "1000 loops, best of 3: 222 µs per loop\n"
     ]
    }
   ],
   "source": [
    "%timeit pd.to_datetime(df.acquisition_date)\n",
    "%timeit pd.to_datetime(df.created_at)\n",
    "%timeit pd.to_datetime(df.created_at, infer_datetime_format=True)\n",
    "%timeit pd.to_datetime(df.created_at, format='%Y-%m-%d %H:%M:%S %Z')"
   ]
  },
  {
   "cell_type": "code",
   "execution_count": 52,
   "metadata": {
    "collapsed": false
   },
   "outputs": [
    {
     "name": "stdout",
     "output_type": "stream",
     "text": [
      "1000 loops, best of 3: 221 µs per loop\n"
     ]
    }
   ],
   "source": []
  },
  {
   "cell_type": "code",
   "execution_count": 53,
   "metadata": {
    "collapsed": false
   },
   "outputs": [
    {
     "data": {
      "text/plain": [
       "2.257405515832482"
      ]
     },
     "execution_count": 53,
     "metadata": {},
     "output_type": "execute_result"
    }
   ],
   "source": [
    "221/97.9"
   ]
  },
  {
   "cell_type": "code",
   "execution_count": null,
   "metadata": {
    "collapsed": false
   },
   "outputs": [],
   "source": [
    "df.created_at"
   ]
  },
  {
   "cell_type": "code",
   "execution_count": null,
   "metadata": {
    "collapsed": false
   },
   "outputs": [],
   "source": [
    "df.acquisition_date"
   ]
  },
  {
   "cell_type": "markdown",
   "metadata": {},
   "source": [
    "# production check"
   ]
  },
  {
   "cell_type": "code",
   "execution_count": 1,
   "metadata": {
    "collapsed": false
   },
   "outputs": [],
   "source": [
    "from planet4 import reduction"
   ]
  },
  {
   "cell_type": "code",
   "execution_count": 2,
   "metadata": {
    "collapsed": false
   },
   "outputs": [],
   "source": [
    "after = pd.read_hdf(\n",
    "     '/raid1/maye/planet4/2014-06-09_planet_four_classifications_fast_all_read.h5',\n",
    "      'df')\n",
    "queried = pd.read_hdf(\n",
    "     '/raid1/maye/planet4/2014-06-09_planet_four_classifications_queryable.h5',\n",
    "      'df')"
   ]
  },
  {
   "cell_type": "code",
   "execution_count": 3,
   "metadata": {
    "collapsed": false
   },
   "outputs": [
    {
     "data": {
      "text/plain": [
       "(11347267, 20)"
      ]
     },
     "execution_count": 3,
     "metadata": {},
     "output_type": "execute_result"
    }
   ],
   "source": [
    "after.shape"
   ]
  },
  {
   "cell_type": "code",
   "execution_count": 4,
   "metadata": {
    "collapsed": false
   },
   "outputs": [
    {
     "data": {
      "text/plain": [
       "(11347267, 20)"
      ]
     },
     "execution_count": 4,
     "metadata": {},
     "output_type": "execute_result"
    }
   ],
   "source": [
    "queried.shape"
   ]
  },
  {
   "cell_type": "code",
   "execution_count": 4,
   "metadata": {
    "collapsed": false
   },
   "outputs": [
    {
     "name": "stdout",
     "output_type": "stream",
     "text": [
      "-6.8691599369\n"
     ]
    }
   ],
   "source": [
    "import time\n",
    "t1 = time.time()\n",
    "tutorials = df[df.image_name == 'tutorial']\n",
    "df = df[df.image_name != 'tutorial']\n",
    "print t1 - time.time()"
   ]
  },
  {
   "cell_type": "code",
   "execution_count": 4,
   "metadata": {
    "collapsed": false
   },
   "outputs": [],
   "source": [
    "# tutorials = df[df.image_name == 'tutorial']\n",
    "# df = df[df.image_name != 'tutorial']\n",
    "rest = df[(df.marking=='interesting') | (df.marking=='none')]\n",
    "fans = df[df.marking=='fan']\n",
    "blotches = df[df.marking=='blotch']"
   ]
  },
  {
   "cell_type": "code",
   "execution_count": 8,
   "metadata": {
    "collapsed": false
   },
   "outputs": [
    {
     "data": {
      "text/plain": [
       "11737857"
      ]
     },
     "execution_count": 8,
     "metadata": {},
     "output_type": "execute_result"
    }
   ],
   "source": [
    "sum = 0\n",
    "for item in [rest, fans, blotches]:\n",
    "    sum+=item.shape[0]\n",
    "sum"
   ]
  },
  {
   "cell_type": "code",
   "execution_count": 10,
   "metadata": {
    "collapsed": false
   },
   "outputs": [
    {
     "data": {
      "text/plain": [
       "11737857"
      ]
     },
     "execution_count": 10,
     "metadata": {},
     "output_type": "execute_result"
    }
   ],
   "source": [
    "df.marking.value_counts().sum()"
   ]
  },
  {
   "cell_type": "code",
   "execution_count": 16,
   "metadata": {
    "collapsed": false
   },
   "outputs": [
    {
     "data": {
      "text/html": [
       "<div style=\"max-height:1000px;max-width:1500px;overflow:auto;\">\n",
       "<table border=\"1\" class=\"dataframe\">\n",
       "  <thead>\n",
       "    <tr style=\"text-align: right;\">\n",
       "      <th></th>\n",
       "      <th>classification_id</th>\n",
       "      <th>created_at</th>\n",
       "      <th>image_id</th>\n",
       "      <th>image_name</th>\n",
       "      <th>image_url</th>\n",
       "      <th>user_name</th>\n",
       "      <th>marking</th>\n",
       "      <th>x_tile</th>\n",
       "      <th>y_tile</th>\n",
       "      <th>acquisition_date</th>\n",
       "      <th>local_mars_time</th>\n",
       "      <th>x</th>\n",
       "      <th>y</th>\n",
       "      <th>image_x</th>\n",
       "      <th>image_y</th>\n",
       "      <th>radius_1</th>\n",
       "      <th>radius_2</th>\n",
       "      <th>distance</th>\n",
       "      <th>angle</th>\n",
       "      <th>spread</th>\n",
       "    </tr>\n",
       "  </thead>\n",
       "  <tbody>\n",
       "    <tr>\n",
       "      <th>11737857</th>\n",
       "      <td> NaN</td>\n",
       "      <td> NaN</td>\n",
       "      <td> NaN</td>\n",
       "      <td> NaN</td>\n",
       "      <td> NaN</td>\n",
       "      <td> NaN</td>\n",
       "      <td> NaN</td>\n",
       "      <td>NaN</td>\n",
       "      <td>NaN</td>\n",
       "      <td>NaT</td>\n",
       "      <td> NaN</td>\n",
       "      <td>NaN</td>\n",
       "      <td>NaN</td>\n",
       "      <td>NaN</td>\n",
       "      <td>NaN</td>\n",
       "      <td>NaN</td>\n",
       "      <td>NaN</td>\n",
       "      <td>NaN</td>\n",
       "      <td>NaN</td>\n",
       "      <td>NaN</td>\n",
       "    </tr>\n",
       "  </tbody>\n",
       "</table>\n",
       "<p>1 rows × 20 columns</p>\n",
       "</div>"
      ],
      "text/plain": [
       "         classification_id created_at image_id image_name image_url user_name  \\\n",
       "11737857               NaN        NaN      NaN        NaN       NaN       NaN   \n",
       "\n",
       "         marking  x_tile  y_tile acquisition_date local_mars_time   x   y  \\\n",
       "11737857     NaN     NaN     NaN              NaT             NaN NaN NaN   \n",
       "\n",
       "          image_x  image_y  radius_1  radius_2  distance  angle  spread  \n",
       "11737857      NaN      NaN       NaN       NaN       NaN    NaN     NaN  \n",
       "\n",
       "[1 rows x 20 columns]"
      ]
     },
     "execution_count": 16,
     "metadata": {},
     "output_type": "execute_result"
    }
   ],
   "source": [
    "df[df.marking.isnull()]"
   ]
  },
  {
   "cell_type": "code",
   "execution_count": 4,
   "metadata": {
    "collapsed": false
   },
   "outputs": [
    {
     "data": {
      "text/plain": [
       "none           2937784\n",
       "interesting     966313\n",
       "dtype: int64"
      ]
     },
     "execution_count": 4,
     "metadata": {},
     "output_type": "execute_result"
    }
   ],
   "source": [
    "rest.marking.value_counts()"
   ]
  },
  {
   "cell_type": "code",
   "execution_count": 5,
   "metadata": {
    "collapsed": false
   },
   "outputs": [],
   "source": [
    "fan_ind = fans[reduction.fan_data_cols].isnull().any(axis=1)\n",
    "blotch_ind = blotches[reduction.blotch_data_cols].isnull().any(axis=1)"
   ]
  },
  {
   "cell_type": "code",
   "execution_count": 6,
   "metadata": {
    "collapsed": false
   },
   "outputs": [
    {
     "name": "stdout",
     "output_type": "stream",
     "text": [
      "(3315970, 20)\n",
      "(4117393, 20)\n"
     ]
    }
   ],
   "source": [
    "print fans.shape\n",
    "print blotches.shape"
   ]
  },
  {
   "cell_type": "code",
   "execution_count": 7,
   "metadata": {
    "collapsed": false
   },
   "outputs": [
    {
     "data": {
      "text/plain": [
       "55"
      ]
     },
     "execution_count": 7,
     "metadata": {},
     "output_type": "execute_result"
    }
   ],
   "source": [
    "fans.shape[0] - fans[~fan_ind].shape[0]"
   ]
  },
  {
   "cell_type": "code",
   "execution_count": 8,
   "metadata": {
    "collapsed": false
   },
   "outputs": [
    {
     "data": {
      "text/plain": [
       "45"
      ]
     },
     "execution_count": 8,
     "metadata": {},
     "output_type": "execute_result"
    }
   ],
   "source": [
    "blotches.shape[0] - blotches[~blotch_ind].shape[0]"
   ]
  },
  {
   "cell_type": "code",
   "execution_count": 10,
   "metadata": {
    "collapsed": false
   },
   "outputs": [],
   "source": [
    "fans = fans[~fan_ind]\n",
    "blotches = blotches[~blotch_ind]"
   ]
  },
  {
   "cell_type": "code",
   "execution_count": 11,
   "metadata": {
    "collapsed": false
   },
   "outputs": [],
   "source": [
    "df = pd.concat([fans,blotches,rest])"
   ]
  },
  {
   "cell_type": "code",
   "execution_count": 14,
   "metadata": {
    "collapsed": false
   },
   "outputs": [
    {
     "data": {
      "text/plain": [
       "11337360"
      ]
     },
     "execution_count": 14,
     "metadata": {},
     "output_type": "execute_result"
    }
   ],
   "source": [
    "df.shape[0]"
   ]
  },
  {
   "cell_type": "code",
   "execution_count": 43,
   "metadata": {
    "collapsed": false
   },
   "outputs": [
    {
     "data": {
      "text/plain": [
       "<module 'planet4.markings' from 'planet4/markings.py'>"
      ]
     },
     "execution_count": 43,
     "metadata": {},
     "output_type": "execute_result"
    }
   ],
   "source": [
    "from planet4 import markings\n",
    "reload(markings)"
   ]
  },
  {
   "cell_type": "code",
   "execution_count": 44,
   "metadata": {
    "collapsed": false
   },
   "outputs": [],
   "source": [
    "aab=markings.ImageID('APF0000aab')"
   ]
  },
  {
   "cell_type": "code",
   "execution_count": 45,
   "metadata": {
    "collapsed": false
   },
   "outputs": [],
   "source": [
    "aab.plot_fans()"
   ]
  },
  {
   "cell_type": "code",
   "execution_count": 37,
   "metadata": {
    "collapsed": false
   },
   "outputs": [],
   "source": [
    "import six"
   ]
  },
  {
   "cell_type": "code",
   "execution_count": 53,
   "metadata": {
    "collapsed": false
   },
   "outputs": [
    {
     "data": {
      "text/plain": [
       "<matplotlib.text.Text at 0x11ab38710>"
      ]
     },
     "execution_count": 53,
     "metadata": {},
     "output_type": "execute_result"
    }
   ],
   "source": [
    "fig, ax = subplots(ncols=2)\n",
    "aab.show_subframe(ax=ax[0], aspect='equal')\n",
    "aab.plot_fans(ax=ax[1])\n",
    "fig.suptitle('APF0000aab')"
   ]
  },
  {
   "cell_type": "code",
   "execution_count": 1,
   "metadata": {
    "collapsed": false
   },
   "outputs": [],
   "source": [
    "import blaze"
   ]
  },
  {
   "cell_type": "code",
   "execution_count": 5,
   "metadata": {
    "collapsed": false
   },
   "outputs": [
    {
     "data": {
      "text/html": [
       "<table border=\"1\" class=\"dataframe\">\n",
       "  <thead>\n",
       "    <tr style=\"text-align: right;\">\n",
       "      <th></th>\n",
       "      <th>classification_id</th>\n",
       "      <th>created_at</th>\n",
       "      <th>image_id</th>\n",
       "      <th>image_name</th>\n",
       "      <th>image_url</th>\n",
       "      <th>user_name</th>\n",
       "      <th>marking</th>\n",
       "      <th>x_tile</th>\n",
       "      <th>y_tile</th>\n",
       "      <th>acquisition_date</th>\n",
       "      <th>local_mars_time</th>\n",
       "      <th>x</th>\n",
       "      <th>y</th>\n",
       "      <th>image_x</th>\n",
       "      <th>image_y</th>\n",
       "      <th>radius_1</th>\n",
       "      <th>radius_2</th>\n",
       "      <th>distance</th>\n",
       "      <th>angle</th>\n",
       "      <th>spread</th>\n",
       "      <th>version</th>\n",
       "      <th>user_agent</th>\n",
       "    </tr>\n",
       "  </thead>\n",
       "  <tbody>\n",
       "    <tr>\n",
       "      <th>0 </th>\n",
       "      <td> 50ea1eae45d7e11332000bf9</td>\n",
       "      <td>2013-01-07 01:02:38</td>\n",
       "      <td> APF00004hc</td>\n",
       "      <td> ESP_012264_0980</td>\n",
       "      <td> http://www.planetfour.org/subjects/standard/50...</td>\n",
       "      <td>   brian-c</td>\n",
       "      <td> interesting</td>\n",
       "      <td> 5</td>\n",
       "      <td>  84</td>\n",
       "      <td>2009-03-09</td>\n",
       "      <td>2014-12-26 16:51:00</td>\n",
       "      <td> 415.5</td>\n",
       "      <td> 317</td>\n",
       "      <td> 3375.5</td>\n",
       "      <td> 45801</td>\n",
       "      <td>        NaN</td>\n",
       "      <td>       NaN</td>\n",
       "      <td>        NaN</td>\n",
       "      <td>        NaN</td>\n",
       "      <td>       NaN</td>\n",
       "      <td>NaN</td>\n",
       "      <td> Mozilla/5.0 (Macintosh; Intel Mac OS X 10.7; r...</td>\n",
       "    </tr>\n",
       "    <tr>\n",
       "      <th>1 </th>\n",
       "      <td> 50ea21c245d7e11332000c88</td>\n",
       "      <td>2013-01-07 01:15:46</td>\n",
       "      <td> APF00002rq</td>\n",
       "      <td> ESP_011544_0985</td>\n",
       "      <td> http://www.planetfour.org/subjects/standard/50...</td>\n",
       "      <td>     arfon</td>\n",
       "      <td>      blotch</td>\n",
       "      <td> 2</td>\n",
       "      <td>  10</td>\n",
       "      <td>2009-01-12</td>\n",
       "      <td>2014-12-26 17:14:00</td>\n",
       "      <td> 278.5</td>\n",
       "      <td> 145</td>\n",
       "      <td> 1018.5</td>\n",
       "      <td>  5077</td>\n",
       "      <td> 186.657440</td>\n",
       "      <td> 77.006493</td>\n",
       "      <td>        NaN</td>\n",
       "      <td> 142.386043</td>\n",
       "      <td>       NaN</td>\n",
       "      <td>NaN</td>\n",
       "      <td> Mozilla/5.0 (Macintosh; Intel Mac OS X 10_8_2)...</td>\n",
       "    </tr>\n",
       "    <tr>\n",
       "      <th>2 </th>\n",
       "      <td> 50ea21d7e3995601cb00016d</td>\n",
       "      <td>2013-01-07 01:16:07</td>\n",
       "      <td> APF0000cwl</td>\n",
       "      <td> ESP_012079_0945</td>\n",
       "      <td> http://www.planetfour.org/subjects/standard/50...</td>\n",
       "      <td>     arfon</td>\n",
       "      <td>         fan</td>\n",
       "      <td> 5</td>\n",
       "      <td>  35</td>\n",
       "      <td>2009-02-22</td>\n",
       "      <td>2014-12-26 18:04:00</td>\n",
       "      <td> 295.5</td>\n",
       "      <td> 366</td>\n",
       "      <td> 3255.5</td>\n",
       "      <td> 18998</td>\n",
       "      <td>        NaN</td>\n",
       "      <td>       NaN</td>\n",
       "      <td> 280.264161</td>\n",
       "      <td>-162.987453</td>\n",
       "      <td> 10.572224</td>\n",
       "      <td>  1</td>\n",
       "      <td> Mozilla/5.0 (Macintosh; Intel Mac OS X 10_8_2)...</td>\n",
       "    </tr>\n",
       "    <tr>\n",
       "      <th>3 </th>\n",
       "      <td> 50ea21d7e3995601cb00016d</td>\n",
       "      <td>2013-01-07 01:16:07</td>\n",
       "      <td> APF0000cwl</td>\n",
       "      <td> ESP_012079_0945</td>\n",
       "      <td> http://www.planetfour.org/subjects/standard/50...</td>\n",
       "      <td>     arfon</td>\n",
       "      <td>         fan</td>\n",
       "      <td> 5</td>\n",
       "      <td>  35</td>\n",
       "      <td>2009-02-22</td>\n",
       "      <td>2014-12-26 18:04:00</td>\n",
       "      <td> 294.5</td>\n",
       "      <td> 371</td>\n",
       "      <td> 3254.5</td>\n",
       "      <td> 19003</td>\n",
       "      <td>        NaN</td>\n",
       "      <td>       NaN</td>\n",
       "      <td> 195.133288</td>\n",
       "      <td> -96.178065</td>\n",
       "      <td>  6.768722</td>\n",
       "      <td>  1</td>\n",
       "      <td> Mozilla/5.0 (Macintosh; Intel Mac OS X 10_8_2)...</td>\n",
       "    </tr>\n",
       "    <tr>\n",
       "      <th>4 </th>\n",
       "      <td> 50ea21e745d7e11332000c97</td>\n",
       "      <td>2013-01-07 01:16:23</td>\n",
       "      <td> APF0000jn4</td>\n",
       "      <td> ESP_021684_0985</td>\n",
       "      <td> http://www.planetfour.org/subjects/standard/50...</td>\n",
       "      <td>     arfon</td>\n",
       "      <td>      blotch</td>\n",
       "      <td> 2</td>\n",
       "      <td> 127</td>\n",
       "      <td>2011-03-13</td>\n",
       "      <td>2014-12-26 16:08:00</td>\n",
       "      <td> 314.5</td>\n",
       "      <td> 589</td>\n",
       "      <td> 1054.5</td>\n",
       "      <td> 69637</td>\n",
       "      <td>  44.407207</td>\n",
       "      <td> 33.305405</td>\n",
       "      <td>        NaN</td>\n",
       "      <td>  35.837653</td>\n",
       "      <td>       NaN</td>\n",
       "      <td>NaN</td>\n",
       "      <td> Mozilla/5.0 (Macintosh; Intel Mac OS X 10_8_2)...</td>\n",
       "    </tr>\n",
       "    <tr>\n",
       "      <th>5 </th>\n",
       "      <td> 50ea21e745d7e11332000c97</td>\n",
       "      <td>2013-01-07 01:16:23</td>\n",
       "      <td> APF0000jn4</td>\n",
       "      <td> ESP_021684_0985</td>\n",
       "      <td> http://www.planetfour.org/subjects/standard/50...</td>\n",
       "      <td>     arfon</td>\n",
       "      <td>      blotch</td>\n",
       "      <td> 2</td>\n",
       "      <td> 127</td>\n",
       "      <td>2011-03-13</td>\n",
       "      <td>2014-12-26 16:08:00</td>\n",
       "      <td>  43.5</td>\n",
       "      <td> 199</td>\n",
       "      <td>  783.5</td>\n",
       "      <td> 69247</td>\n",
       "      <td>  23.000000</td>\n",
       "      <td> 17.250000</td>\n",
       "      <td>        NaN</td>\n",
       "      <td>  90.000000</td>\n",
       "      <td>       NaN</td>\n",
       "      <td>NaN</td>\n",
       "      <td> Mozilla/5.0 (Macintosh; Intel Mac OS X 10_8_2)...</td>\n",
       "    </tr>\n",
       "    <tr>\n",
       "      <th>6 </th>\n",
       "      <td> 50ea21e745d7e11332000c97</td>\n",
       "      <td>2013-01-07 01:16:23</td>\n",
       "      <td> APF0000jn4</td>\n",
       "      <td> ESP_021684_0985</td>\n",
       "      <td> http://www.planetfour.org/subjects/standard/50...</td>\n",
       "      <td>     arfon</td>\n",
       "      <td>      blotch</td>\n",
       "      <td> 2</td>\n",
       "      <td> 127</td>\n",
       "      <td>2011-03-13</td>\n",
       "      <td>2014-12-26 16:08:00</td>\n",
       "      <td>  71.5</td>\n",
       "      <td> 543</td>\n",
       "      <td>  811.5</td>\n",
       "      <td> 69591</td>\n",
       "      <td>  26.172505</td>\n",
       "      <td> 19.629378</td>\n",
       "      <td>        NaN</td>\n",
       "      <td>  43.451842</td>\n",
       "      <td>       NaN</td>\n",
       "      <td>NaN</td>\n",
       "      <td> Mozilla/5.0 (Macintosh; Intel Mac OS X 10_8_2)...</td>\n",
       "    </tr>\n",
       "    <tr>\n",
       "      <th>7 </th>\n",
       "      <td> 50eacdcb45d7e143b10002c0</td>\n",
       "      <td>2013-01-07 13:29:47</td>\n",
       "      <td> APF0000469</td>\n",
       "      <td> ESP_011697_0980</td>\n",
       "      <td> http://www.planetfour.org/subjects/standard/50...</td>\n",
       "      <td> lukesmith</td>\n",
       "      <td>      blotch</td>\n",
       "      <td> 2</td>\n",
       "      <td>   7</td>\n",
       "      <td>2009-01-23</td>\n",
       "      <td>2014-12-26 17:03:00</td>\n",
       "      <td> 459.5</td>\n",
       "      <td> 202</td>\n",
       "      <td> 1199.5</td>\n",
       "      <td>  3490</td>\n",
       "      <td>  24.083189</td>\n",
       "      <td> 10.000000</td>\n",
       "      <td>        NaN</td>\n",
       "      <td>  41.633539</td>\n",
       "      <td>       NaN</td>\n",
       "      <td>NaN</td>\n",
       "      <td> Mozilla/5.0 (Windows NT 6.1; WOW64; rv:17.0) G...</td>\n",
       "    </tr>\n",
       "    <tr>\n",
       "      <th>8 </th>\n",
       "      <td> 50eacdcb45d7e143b10002c0</td>\n",
       "      <td>2013-01-07 13:29:47</td>\n",
       "      <td> APF0000469</td>\n",
       "      <td> ESP_011697_0980</td>\n",
       "      <td> http://www.planetfour.org/subjects/standard/50...</td>\n",
       "      <td> lukesmith</td>\n",
       "      <td>      blotch</td>\n",
       "      <td> 2</td>\n",
       "      <td>   7</td>\n",
       "      <td>2009-01-23</td>\n",
       "      <td>2014-12-26 17:03:00</td>\n",
       "      <td> 426.5</td>\n",
       "      <td> 509</td>\n",
       "      <td> 1166.5</td>\n",
       "      <td>  3797</td>\n",
       "      <td>  15.556349</td>\n",
       "      <td> 10.000000</td>\n",
       "      <td>        NaN</td>\n",
       "      <td>  45.000000</td>\n",
       "      <td>       NaN</td>\n",
       "      <td>NaN</td>\n",
       "      <td> Mozilla/5.0 (Windows NT 6.1; WOW64; rv:17.0) G...</td>\n",
       "    </tr>\n",
       "    <tr>\n",
       "      <th>9 </th>\n",
       "      <td> 50eacdcb45d7e143b10002c0</td>\n",
       "      <td>2013-01-07 13:29:47</td>\n",
       "      <td> APF0000469</td>\n",
       "      <td> ESP_011697_0980</td>\n",
       "      <td> http://www.planetfour.org/subjects/standard/50...</td>\n",
       "      <td> lukesmith</td>\n",
       "      <td>      blotch</td>\n",
       "      <td> 2</td>\n",
       "      <td>   7</td>\n",
       "      <td>2009-01-23</td>\n",
       "      <td>2014-12-26 17:03:00</td>\n",
       "      <td> 816.5</td>\n",
       "      <td> 212</td>\n",
       "      <td> 1556.5</td>\n",
       "      <td>  3500</td>\n",
       "      <td>  17.000000</td>\n",
       "      <td> 14.000000</td>\n",
       "      <td>        NaN</td>\n",
       "      <td>   0.000000</td>\n",
       "      <td>       NaN</td>\n",
       "      <td>NaN</td>\n",
       "      <td> Mozilla/5.0 (Windows NT 6.1; WOW64; rv:17.0) G...</td>\n",
       "    </tr>\n",
       "    <tr>\n",
       "      <th>10</th>\n",
       "      <td> 50eacdcb45d7e143b10002c0</td>\n",
       "      <td>2013-01-07 13:29:47</td>\n",
       "      <td> APF0000469</td>\n",
       "      <td> ESP_011697_0980</td>\n",
       "      <td> http://www.planetfour.org/subjects/standard/50...</td>\n",
       "      <td> lukesmith</td>\n",
       "      <td>      blotch</td>\n",
       "      <td> 2</td>\n",
       "      <td>   7</td>\n",
       "      <td>2009-01-23</td>\n",
       "      <td>2014-12-26 17:03:00</td>\n",
       "      <td> 660.5</td>\n",
       "      <td> 545</td>\n",
       "      <td> 1400.5</td>\n",
       "      <td>  3833</td>\n",
       "      <td>  23.086793</td>\n",
       "      <td> 21.213203</td>\n",
       "      <td>        NaN</td>\n",
       "      <td>  -8.130102</td>\n",
       "      <td>       NaN</td>\n",
       "      <td>NaN</td>\n",
       "      <td> Mozilla/5.0 (Windows NT 6.1; WOW64; rv:17.0) G...</td>\n",
       "    </tr>\n",
       "  </tbody>\n",
       "</table>"
      ],
      "text/plain": [
       "           classification_id          created_at    image_id       image_name  \\\n",
       "0   50ea1eae45d7e11332000bf9 2013-01-07 01:02:38  APF00004hc  ESP_012264_0980   \n",
       "1   50ea21c245d7e11332000c88 2013-01-07 01:15:46  APF00002rq  ESP_011544_0985   \n",
       "2   50ea21d7e3995601cb00016d 2013-01-07 01:16:07  APF0000cwl  ESP_012079_0945   \n",
       "3   50ea21d7e3995601cb00016d 2013-01-07 01:16:07  APF0000cwl  ESP_012079_0945   \n",
       "4   50ea21e745d7e11332000c97 2013-01-07 01:16:23  APF0000jn4  ESP_021684_0985   \n",
       "5   50ea21e745d7e11332000c97 2013-01-07 01:16:23  APF0000jn4  ESP_021684_0985   \n",
       "6   50ea21e745d7e11332000c97 2013-01-07 01:16:23  APF0000jn4  ESP_021684_0985   \n",
       "7   50eacdcb45d7e143b10002c0 2013-01-07 13:29:47  APF0000469  ESP_011697_0980   \n",
       "8   50eacdcb45d7e143b10002c0 2013-01-07 13:29:47  APF0000469  ESP_011697_0980   \n",
       "9   50eacdcb45d7e143b10002c0 2013-01-07 13:29:47  APF0000469  ESP_011697_0980   \n",
       "10  50eacdcb45d7e143b10002c0 2013-01-07 13:29:47  APF0000469  ESP_011697_0980   \n",
       "\n",
       "                                            image_url  user_name      marking  \\\n",
       "0   http://www.planetfour.org/subjects/standard/50...    brian-c  interesting   \n",
       "1   http://www.planetfour.org/subjects/standard/50...      arfon       blotch   \n",
       "2   http://www.planetfour.org/subjects/standard/50...      arfon          fan   \n",
       "3   http://www.planetfour.org/subjects/standard/50...      arfon          fan   \n",
       "4   http://www.planetfour.org/subjects/standard/50...      arfon       blotch   \n",
       "5   http://www.planetfour.org/subjects/standard/50...      arfon       blotch   \n",
       "6   http://www.planetfour.org/subjects/standard/50...      arfon       blotch   \n",
       "7   http://www.planetfour.org/subjects/standard/50...  lukesmith       blotch   \n",
       "8   http://www.planetfour.org/subjects/standard/50...  lukesmith       blotch   \n",
       "9   http://www.planetfour.org/subjects/standard/50...  lukesmith       blotch   \n",
       "10  http://www.planetfour.org/subjects/standard/50...  lukesmith       blotch   \n",
       "\n",
       "    x_tile  y_tile acquisition_date  \\\n",
       "0        5      84       2009-03-09   \n",
       "1        2      10       2009-01-12   \n",
       "2        5      35       2009-02-22   \n",
       "3        5      35       2009-02-22   \n",
       "4        2     127       2011-03-13   \n",
       "5        2     127       2011-03-13   \n",
       "6        2     127       2011-03-13   \n",
       "7        2       7       2009-01-23   \n",
       "8        2       7       2009-01-23   \n",
       "9        2       7       2009-01-23   \n",
       "10       2       7       2009-01-23   \n",
       "\n",
       "                          ...                            y  image_x  image_y  \\\n",
       "0                         ...                          317   3375.5    45801   \n",
       "1                         ...                          145   1018.5     5077   \n",
       "2                         ...                          366   3255.5    18998   \n",
       "3                         ...                          371   3254.5    19003   \n",
       "4                         ...                          589   1054.5    69637   \n",
       "5                         ...                          199    783.5    69247   \n",
       "6                         ...                          543    811.5    69591   \n",
       "7                         ...                          202   1199.5     3490   \n",
       "8                         ...                          509   1166.5     3797   \n",
       "9                         ...                          212   1556.5     3500   \n",
       "10                        ...                          545   1400.5     3833   \n",
       "\n",
       "      radius_1   radius_2    distance       angle     spread  version  \\\n",
       "0          NaN        NaN         NaN         NaN        NaN      NaN   \n",
       "1   186.657440  77.006493         NaN  142.386043        NaN      NaN   \n",
       "2          NaN        NaN  280.264161 -162.987453  10.572224        1   \n",
       "3          NaN        NaN  195.133288  -96.178065   6.768722        1   \n",
       "4    44.407207  33.305405         NaN   35.837653        NaN      NaN   \n",
       "5    23.000000  17.250000         NaN   90.000000        NaN      NaN   \n",
       "6    26.172505  19.629378         NaN   43.451842        NaN      NaN   \n",
       "7    24.083189  10.000000         NaN   41.633539        NaN      NaN   \n",
       "8    15.556349  10.000000         NaN   45.000000        NaN      NaN   \n",
       "9    17.000000  14.000000         NaN    0.000000        NaN      NaN   \n",
       "10   23.086793  21.213203         NaN   -8.130102        NaN      NaN   \n",
       "\n",
       "                                           user_agent  \n",
       "0   Mozilla/5.0 (Macintosh; Intel Mac OS X 10.7; r...  \n",
       "1   Mozilla/5.0 (Macintosh; Intel Mac OS X 10_8_2)...  \n",
       "2   Mozilla/5.0 (Macintosh; Intel Mac OS X 10_8_2)...  \n",
       "3   Mozilla/5.0 (Macintosh; Intel Mac OS X 10_8_2)...  \n",
       "4   Mozilla/5.0 (Macintosh; Intel Mac OS X 10_8_2)...  \n",
       "5   Mozilla/5.0 (Macintosh; Intel Mac OS X 10_8_2)...  \n",
       "6   Mozilla/5.0 (Macintosh; Intel Mac OS X 10_8_2)...  \n",
       "7   Mozilla/5.0 (Windows NT 6.1; WOW64; rv:17.0) G...  \n",
       "8   Mozilla/5.0 (Windows NT 6.1; WOW64; rv:17.0) G...  \n",
       "9   Mozilla/5.0 (Windows NT 6.1; WOW64; rv:17.0) G...  \n",
       "10  Mozilla/5.0 (Windows NT 6.1; WOW64; rv:17.0) G...  \n",
       "\n",
       "..."
      ]
     },
     "execution_count": 5,
     "metadata": {},
     "output_type": "execute_result"
    }
   ],
   "source": [
    "d = blaze.Data('/Users/maye/data/planet4/2014-12-21_planet_four_classifications.csv')\n",
    "d"
   ]
  },
  {
   "cell_type": "code",
   "execution_count": 8,
   "metadata": {
    "collapsed": false
   },
   "outputs": [],
   "source": [
    "expr = blaze.by(d.image_id, count=d.classification_id.count())"
   ]
  },
  {
   "cell_type": "code",
   "execution_count": 9,
   "metadata": {
    "collapsed": false
   },
   "outputs": [
    {
     "name": "stdout",
     "output_type": "stream",
     "text": [
      "CPU times: user 28 s, sys: 2.99 s, total: 31 s\n",
      "Wall time: 31.9 s\n"
     ]
    }
   ],
   "source": [
    "%time _ = blaze.compute(expr)"
   ]
  },
  {
   "cell_type": "code",
   "execution_count": 10,
   "metadata": {
    "collapsed": true
   },
   "outputs": [],
   "source": [
    "import multiprocessing"
   ]
  },
  {
   "cell_type": "code",
   "execution_count": 11,
   "metadata": {
    "collapsed": true
   },
   "outputs": [],
   "source": [
    "pool = multiprocessing.Pool(4)"
   ]
  },
  {
   "cell_type": "code",
   "execution_count": 16,
   "metadata": {
    "collapsed": false
   },
   "outputs": [],
   "source": [
    "results = blaze.compute(expr, map=pool.map)"
   ]
  },
  {
   "cell_type": "code",
   "execution_count": 21,
   "metadata": {
    "collapsed": false
   },
   "outputs": [],
   "source": [
    "act_cols = d.columns[:-1]"
   ]
  },
  {
   "cell_type": "code",
   "execution_count": 23,
   "metadata": {
    "collapsed": false
   },
   "outputs": [],
   "source": [
    "intermediates = []"
   ]
  },
  {
   "cell_type": "code",
   "execution_count": 24,
   "metadata": {
    "collapsed": true
   },
   "outputs": [],
   "source": [
    "import pandas as pd"
   ]
  },
  {
   "cell_type": "code",
   "execution_count": 34,
   "metadata": {
    "collapsed": false
   },
   "outputs": [
    {
     "ename": "ValueError",
     "evalue": "could not convert string to float: 'null'",
     "output_type": "error",
     "traceback": [
      "\u001b[0;31m---------------------------------------------------------------------------\u001b[0m",
      "\u001b[0;31mTypeError\u001b[0m                                 Traceback (most recent call last)",
      "\u001b[0;32mpandas/parser.pyx\u001b[0m in \u001b[0;36mpandas.parser.TextReader._convert_tokens (pandas/parser.c:10828)\u001b[0;34m()\u001b[0m\n",
      "\u001b[0;31mTypeError\u001b[0m: Cannot cast array from dtype('O') to dtype('float64') according to the rule 'safe'",
      "\nDuring handling of the above exception, another exception occurred:\n",
      "\u001b[0;31mValueError\u001b[0m                                Traceback (most recent call last)",
      "\u001b[0;32m<ipython-input-34-16e78659d760>\u001b[0m in \u001b[0;36m<module>\u001b[0;34m()\u001b[0m\n\u001b[1;32m      1\u001b[0m blaze.into('/Users/maye/data/planet4/test.bcolz',\n\u001b[1;32m      2\u001b[0m             \u001b[0;34m'/Users/maye/data/planet4/2014-12-21_planet_four_classifications.csv'\u001b[0m\u001b[0;34m,\u001b[0m\u001b[0;34m\u001b[0m\u001b[0m\n\u001b[0;32m----> 3\u001b[0;31m            dshape=d.dshape)\n\u001b[0m",
      "\u001b[0;32m/Users/maye/miniconda3/envs/py34/lib/python3.4/site-packages/multipledispatch/dispatcher.py\u001b[0m in \u001b[0;36m__call__\u001b[0;34m(self, *args, **kwargs)\u001b[0m\n\u001b[1;32m    161\u001b[0m             \u001b[0mself\u001b[0m\u001b[0;34m.\u001b[0m\u001b[0m_cache\u001b[0m\u001b[0;34m[\u001b[0m\u001b[0mtypes\u001b[0m\u001b[0;34m]\u001b[0m \u001b[0;34m=\u001b[0m \u001b[0mfunc\u001b[0m\u001b[0;34m\u001b[0m\u001b[0m\n\u001b[1;32m    162\u001b[0m         \u001b[0;32mtry\u001b[0m\u001b[0;34m:\u001b[0m\u001b[0;34m\u001b[0m\u001b[0m\n\u001b[0;32m--> 163\u001b[0;31m             \u001b[0;32mreturn\u001b[0m \u001b[0mfunc\u001b[0m\u001b[0;34m(\u001b[0m\u001b[0;34m*\u001b[0m\u001b[0margs\u001b[0m\u001b[0;34m,\u001b[0m \u001b[0;34m**\u001b[0m\u001b[0mkwargs\u001b[0m\u001b[0;34m)\u001b[0m\u001b[0;34m\u001b[0m\u001b[0m\n\u001b[0m\u001b[1;32m    164\u001b[0m \u001b[0;34m\u001b[0m\u001b[0m\n\u001b[1;32m    165\u001b[0m         \u001b[0;32mexcept\u001b[0m \u001b[0mMDNotImplementedError\u001b[0m\u001b[0;34m:\u001b[0m\u001b[0;34m\u001b[0m\u001b[0m\n",
      "\u001b[0;32m/Users/maye/miniconda3/envs/py34/lib/python3.4/site-packages/into/into.py\u001b[0m in \u001b[0;36minto_string_string\u001b[0;34m(a, b, **kwargs)\u001b[0m\n\u001b[1;32m     78\u001b[0m \u001b[0;32mdef\u001b[0m \u001b[0minto_string_string\u001b[0m\u001b[0;34m(\u001b[0m\u001b[0ma\u001b[0m\u001b[0;34m,\u001b[0m \u001b[0mb\u001b[0m\u001b[0;34m,\u001b[0m \u001b[0;34m**\u001b[0m\u001b[0mkwargs\u001b[0m\u001b[0;34m)\u001b[0m\u001b[0;34m:\u001b[0m\u001b[0;34m\u001b[0m\u001b[0m\n\u001b[1;32m     79\u001b[0m     \u001b[0mr\u001b[0m \u001b[0;34m=\u001b[0m \u001b[0mresource\u001b[0m\u001b[0;34m(\u001b[0m\u001b[0mb\u001b[0m\u001b[0;34m,\u001b[0m \u001b[0;34m**\u001b[0m\u001b[0mkwargs\u001b[0m\u001b[0;34m)\u001b[0m\u001b[0;34m\u001b[0m\u001b[0m\n\u001b[0;32m---> 80\u001b[0;31m     \u001b[0;32mreturn\u001b[0m \u001b[0minto\u001b[0m\u001b[0;34m(\u001b[0m\u001b[0ma\u001b[0m\u001b[0;34m,\u001b[0m \u001b[0mr\u001b[0m\u001b[0;34m,\u001b[0m \u001b[0;34m**\u001b[0m\u001b[0mkwargs\u001b[0m\u001b[0;34m)\u001b[0m\u001b[0;34m\u001b[0m\u001b[0m\n\u001b[0m\u001b[1;32m     81\u001b[0m \u001b[0;34m\u001b[0m\u001b[0m\n\u001b[1;32m     82\u001b[0m \u001b[0;34m\u001b[0m\u001b[0m\n",
      "\u001b[0;32m/Users/maye/miniconda3/envs/py34/lib/python3.4/site-packages/multipledispatch/dispatcher.py\u001b[0m in \u001b[0;36m__call__\u001b[0;34m(self, *args, **kwargs)\u001b[0m\n\u001b[1;32m    161\u001b[0m             \u001b[0mself\u001b[0m\u001b[0;34m.\u001b[0m\u001b[0m_cache\u001b[0m\u001b[0;34m[\u001b[0m\u001b[0mtypes\u001b[0m\u001b[0;34m]\u001b[0m \u001b[0;34m=\u001b[0m \u001b[0mfunc\u001b[0m\u001b[0;34m\u001b[0m\u001b[0m\n\u001b[1;32m    162\u001b[0m         \u001b[0;32mtry\u001b[0m\u001b[0;34m:\u001b[0m\u001b[0;34m\u001b[0m\u001b[0m\n\u001b[0;32m--> 163\u001b[0;31m             \u001b[0;32mreturn\u001b[0m \u001b[0mfunc\u001b[0m\u001b[0;34m(\u001b[0m\u001b[0;34m*\u001b[0m\u001b[0margs\u001b[0m\u001b[0;34m,\u001b[0m \u001b[0;34m**\u001b[0m\u001b[0mkwargs\u001b[0m\u001b[0;34m)\u001b[0m\u001b[0;34m\u001b[0m\u001b[0m\n\u001b[0m\u001b[1;32m    164\u001b[0m \u001b[0;34m\u001b[0m\u001b[0m\n\u001b[1;32m    165\u001b[0m         \u001b[0;32mexcept\u001b[0m \u001b[0mMDNotImplementedError\u001b[0m\u001b[0;34m:\u001b[0m\u001b[0;34m\u001b[0m\u001b[0m\n",
      "\u001b[0;32m/Users/maye/miniconda3/envs/py34/lib/python3.4/site-packages/into/into.py\u001b[0m in \u001b[0;36minto_string\u001b[0;34m(uri, b, **kwargs)\u001b[0m\n\u001b[1;32m     72\u001b[0m         \u001b[0;32mpass\u001b[0m\u001b[0;34m\u001b[0m\u001b[0m\n\u001b[1;32m     73\u001b[0m     \u001b[0ma\u001b[0m \u001b[0;34m=\u001b[0m \u001b[0mresource\u001b[0m\u001b[0;34m(\u001b[0m\u001b[0muri\u001b[0m\u001b[0;34m,\u001b[0m \u001b[0;34m**\u001b[0m\u001b[0mkwargs\u001b[0m\u001b[0;34m)\u001b[0m\u001b[0;34m\u001b[0m\u001b[0m\n\u001b[0;32m---> 74\u001b[0;31m     \u001b[0;32mreturn\u001b[0m \u001b[0minto\u001b[0m\u001b[0;34m(\u001b[0m\u001b[0ma\u001b[0m\u001b[0;34m,\u001b[0m \u001b[0mb\u001b[0m\u001b[0;34m,\u001b[0m \u001b[0;34m**\u001b[0m\u001b[0mkwargs\u001b[0m\u001b[0;34m)\u001b[0m\u001b[0;34m\u001b[0m\u001b[0m\n\u001b[0m\u001b[1;32m     75\u001b[0m \u001b[0;34m\u001b[0m\u001b[0m\n\u001b[1;32m     76\u001b[0m \u001b[0;34m\u001b[0m\u001b[0m\n",
      "\u001b[0;32m/Users/maye/miniconda3/envs/py34/lib/python3.4/site-packages/multipledispatch/dispatcher.py\u001b[0m in \u001b[0;36m__call__\u001b[0;34m(self, *args, **kwargs)\u001b[0m\n\u001b[1;32m    161\u001b[0m             \u001b[0mself\u001b[0m\u001b[0;34m.\u001b[0m\u001b[0m_cache\u001b[0m\u001b[0;34m[\u001b[0m\u001b[0mtypes\u001b[0m\u001b[0;34m]\u001b[0m \u001b[0;34m=\u001b[0m \u001b[0mfunc\u001b[0m\u001b[0;34m\u001b[0m\u001b[0m\n\u001b[1;32m    162\u001b[0m         \u001b[0;32mtry\u001b[0m\u001b[0;34m:\u001b[0m\u001b[0;34m\u001b[0m\u001b[0m\n\u001b[0;32m--> 163\u001b[0;31m             \u001b[0;32mreturn\u001b[0m \u001b[0mfunc\u001b[0m\u001b[0;34m(\u001b[0m\u001b[0;34m*\u001b[0m\u001b[0margs\u001b[0m\u001b[0;34m,\u001b[0m \u001b[0;34m**\u001b[0m\u001b[0mkwargs\u001b[0m\u001b[0;34m)\u001b[0m\u001b[0;34m\u001b[0m\u001b[0m\n\u001b[0m\u001b[1;32m    164\u001b[0m \u001b[0;34m\u001b[0m\u001b[0m\n\u001b[1;32m    165\u001b[0m         \u001b[0;32mexcept\u001b[0m \u001b[0mMDNotImplementedError\u001b[0m\u001b[0;34m:\u001b[0m\u001b[0;34m\u001b[0m\u001b[0m\n",
      "\u001b[0;32m/Users/maye/miniconda3/envs/py34/lib/python3.4/site-packages/into/into.py\u001b[0m in \u001b[0;36minto_object\u001b[0;34m(a, b, **kwargs)\u001b[0m\n\u001b[1;32m     58\u001b[0m     \u001b[0;32mexcept\u001b[0m \u001b[0mNotImplementedError\u001b[0m\u001b[0;34m:\u001b[0m\u001b[0;34m\u001b[0m\u001b[0m\n\u001b[1;32m     59\u001b[0m         \u001b[0;32mpass\u001b[0m\u001b[0;34m\u001b[0m\u001b[0m\n\u001b[0;32m---> 60\u001b[0;31m     \u001b[0;32mreturn\u001b[0m \u001b[0mappend\u001b[0m\u001b[0;34m(\u001b[0m\u001b[0ma\u001b[0m\u001b[0;34m,\u001b[0m \u001b[0mb\u001b[0m\u001b[0;34m,\u001b[0m \u001b[0;34m**\u001b[0m\u001b[0mkwargs\u001b[0m\u001b[0;34m)\u001b[0m\u001b[0;34m\u001b[0m\u001b[0m\n\u001b[0m\u001b[1;32m     61\u001b[0m \u001b[0;34m\u001b[0m\u001b[0m\n\u001b[1;32m     62\u001b[0m \u001b[0;34m\u001b[0m\u001b[0m\n",
      "\u001b[0;32m/Users/maye/miniconda3/envs/py34/lib/python3.4/site-packages/multipledispatch/dispatcher.py\u001b[0m in \u001b[0;36m__call__\u001b[0;34m(self, *args, **kwargs)\u001b[0m\n\u001b[1;32m    161\u001b[0m             \u001b[0mself\u001b[0m\u001b[0;34m.\u001b[0m\u001b[0m_cache\u001b[0m\u001b[0;34m[\u001b[0m\u001b[0mtypes\u001b[0m\u001b[0;34m]\u001b[0m \u001b[0;34m=\u001b[0m \u001b[0mfunc\u001b[0m\u001b[0;34m\u001b[0m\u001b[0m\n\u001b[1;32m    162\u001b[0m         \u001b[0;32mtry\u001b[0m\u001b[0;34m:\u001b[0m\u001b[0;34m\u001b[0m\u001b[0m\n\u001b[0;32m--> 163\u001b[0;31m             \u001b[0;32mreturn\u001b[0m \u001b[0mfunc\u001b[0m\u001b[0;34m(\u001b[0m\u001b[0;34m*\u001b[0m\u001b[0margs\u001b[0m\u001b[0;34m,\u001b[0m \u001b[0;34m**\u001b[0m\u001b[0mkwargs\u001b[0m\u001b[0;34m)\u001b[0m\u001b[0;34m\u001b[0m\u001b[0m\n\u001b[0m\u001b[1;32m    164\u001b[0m \u001b[0;34m\u001b[0m\u001b[0m\n\u001b[1;32m    165\u001b[0m         \u001b[0;32mexcept\u001b[0m \u001b[0mMDNotImplementedError\u001b[0m\u001b[0;34m:\u001b[0m\u001b[0;34m\u001b[0m\u001b[0m\n",
      "\u001b[0;32m/Users/maye/miniconda3/envs/py34/lib/python3.4/site-packages/into/backends/bcolz.py\u001b[0m in \u001b[0;36mnumpy_append_to_bcolz\u001b[0;34m(a, b, **kwargs)\u001b[0m\n\u001b[1;32m     31\u001b[0m \u001b[0;34m@\u001b[0m\u001b[0mappend\u001b[0m\u001b[0;34m.\u001b[0m\u001b[0mregister\u001b[0m\u001b[0;34m(\u001b[0m\u001b[0;34m(\u001b[0m\u001b[0mctable\u001b[0m\u001b[0;34m,\u001b[0m \u001b[0mcarray\u001b[0m\u001b[0;34m)\u001b[0m\u001b[0;34m,\u001b[0m \u001b[0mobject\u001b[0m\u001b[0;34m)\u001b[0m\u001b[0;34m\u001b[0m\u001b[0m\n\u001b[1;32m     32\u001b[0m \u001b[0;32mdef\u001b[0m \u001b[0mnumpy_append_to_bcolz\u001b[0m\u001b[0;34m(\u001b[0m\u001b[0ma\u001b[0m\u001b[0;34m,\u001b[0m \u001b[0mb\u001b[0m\u001b[0;34m,\u001b[0m \u001b[0;34m**\u001b[0m\u001b[0mkwargs\u001b[0m\u001b[0;34m)\u001b[0m\u001b[0;34m:\u001b[0m\u001b[0;34m\u001b[0m\u001b[0m\n\u001b[0;32m---> 33\u001b[0;31m     \u001b[0;32mreturn\u001b[0m \u001b[0mappend\u001b[0m\u001b[0;34m(\u001b[0m\u001b[0ma\u001b[0m\u001b[0;34m,\u001b[0m \u001b[0mconvert\u001b[0m\u001b[0;34m(\u001b[0m\u001b[0mnp\u001b[0m\u001b[0;34m.\u001b[0m\u001b[0mndarray\u001b[0m\u001b[0;34m,\u001b[0m \u001b[0mb\u001b[0m\u001b[0;34m,\u001b[0m \u001b[0;34m**\u001b[0m\u001b[0mkwargs\u001b[0m\u001b[0;34m)\u001b[0m\u001b[0;34m,\u001b[0m \u001b[0;34m**\u001b[0m\u001b[0mkwargs\u001b[0m\u001b[0;34m)\u001b[0m\u001b[0;34m\u001b[0m\u001b[0m\n\u001b[0m\u001b[1;32m     34\u001b[0m \u001b[0;34m\u001b[0m\u001b[0m\n\u001b[1;32m     35\u001b[0m \u001b[0;34m\u001b[0m\u001b[0m\n",
      "\u001b[0;32m/Users/maye/miniconda3/envs/py34/lib/python3.4/site-packages/into/core.py\u001b[0m in \u001b[0;36m__call__\u001b[0;34m(self, *args, **kwargs)\u001b[0m\n\u001b[1;32m     27\u001b[0m \u001b[0;34m\u001b[0m\u001b[0m\n\u001b[1;32m     28\u001b[0m     \u001b[0;32mdef\u001b[0m \u001b[0m__call__\u001b[0m\u001b[0;34m(\u001b[0m\u001b[0mself\u001b[0m\u001b[0;34m,\u001b[0m \u001b[0;34m*\u001b[0m\u001b[0margs\u001b[0m\u001b[0;34m,\u001b[0m \u001b[0;34m**\u001b[0m\u001b[0mkwargs\u001b[0m\u001b[0;34m)\u001b[0m\u001b[0;34m:\u001b[0m\u001b[0;34m\u001b[0m\u001b[0m\n\u001b[0;32m---> 29\u001b[0;31m         \u001b[0;32mreturn\u001b[0m \u001b[0m_transform\u001b[0m\u001b[0;34m(\u001b[0m\u001b[0mself\u001b[0m\u001b[0;34m.\u001b[0m\u001b[0mgraph\u001b[0m\u001b[0;34m,\u001b[0m \u001b[0;34m*\u001b[0m\u001b[0margs\u001b[0m\u001b[0;34m,\u001b[0m \u001b[0;34m**\u001b[0m\u001b[0mkwargs\u001b[0m\u001b[0;34m)\u001b[0m\u001b[0;34m\u001b[0m\u001b[0m\n\u001b[0m\u001b[1;32m     30\u001b[0m \u001b[0;34m\u001b[0m\u001b[0m\n\u001b[1;32m     31\u001b[0m \u001b[0;34m\u001b[0m\u001b[0m\n",
      "\u001b[0;32m/Users/maye/miniconda3/envs/py34/lib/python3.4/site-packages/into/core.py\u001b[0m in \u001b[0;36m_transform\u001b[0;34m(graph, target, source, excluded_edges, ooc_types, **kwargs)\u001b[0m\n\u001b[1;32m     46\u001b[0m         \u001b[0;32mfor\u001b[0m \u001b[0;34m(\u001b[0m\u001b[0mA\u001b[0m\u001b[0;34m,\u001b[0m \u001b[0mB\u001b[0m\u001b[0;34m,\u001b[0m \u001b[0mf\u001b[0m\u001b[0;34m)\u001b[0m \u001b[0;32min\u001b[0m \u001b[0mpth\u001b[0m\u001b[0;34m:\u001b[0m\u001b[0;34m\u001b[0m\u001b[0m\n\u001b[1;32m     47\u001b[0m             \u001b[0moldx\u001b[0m \u001b[0;34m=\u001b[0m \u001b[0mx\u001b[0m\u001b[0;34m\u001b[0m\u001b[0m\n\u001b[0;32m---> 48\u001b[0;31m             \u001b[0mx\u001b[0m \u001b[0;34m=\u001b[0m \u001b[0mf\u001b[0m\u001b[0;34m(\u001b[0m\u001b[0mx\u001b[0m\u001b[0;34m,\u001b[0m \u001b[0mexcluded_edges\u001b[0m\u001b[0;34m=\u001b[0m\u001b[0mexcluded_edges\u001b[0m\u001b[0;34m,\u001b[0m \u001b[0;34m**\u001b[0m\u001b[0mkwargs\u001b[0m\u001b[0;34m)\u001b[0m\u001b[0;34m\u001b[0m\u001b[0m\n\u001b[0m\u001b[1;32m     49\u001b[0m         \u001b[0;32mreturn\u001b[0m \u001b[0mx\u001b[0m\u001b[0;34m\u001b[0m\u001b[0m\n\u001b[1;32m     50\u001b[0m     \u001b[0;32mexcept\u001b[0m \u001b[0mNotImplementedError\u001b[0m \u001b[0;32mas\u001b[0m \u001b[0me\u001b[0m\u001b[0;34m:\u001b[0m\u001b[0;34m\u001b[0m\u001b[0m\n",
      "\u001b[0;32m/Users/maye/miniconda3/envs/py34/lib/python3.4/site-packages/into/convert.py\u001b[0m in \u001b[0;36mnumpy_chunks_to_numpy\u001b[0;34m(c, **kwargs)\u001b[0m\n\u001b[1;32m     77\u001b[0m \u001b[0;34m@\u001b[0m\u001b[0mconvert\u001b[0m\u001b[0;34m.\u001b[0m\u001b[0mregister\u001b[0m\u001b[0;34m(\u001b[0m\u001b[0mnp\u001b[0m\u001b[0;34m.\u001b[0m\u001b[0mndarray\u001b[0m\u001b[0;34m,\u001b[0m \u001b[0mchunks\u001b[0m\u001b[0;34m(\u001b[0m\u001b[0mnp\u001b[0m\u001b[0;34m.\u001b[0m\u001b[0mndarray\u001b[0m\u001b[0;34m)\u001b[0m\u001b[0;34m,\u001b[0m \u001b[0mcost\u001b[0m\u001b[0;34m=\u001b[0m\u001b[0;36m1.0\u001b[0m\u001b[0;34m)\u001b[0m\u001b[0;34m\u001b[0m\u001b[0m\n\u001b[1;32m     78\u001b[0m \u001b[0;32mdef\u001b[0m \u001b[0mnumpy_chunks_to_numpy\u001b[0m\u001b[0;34m(\u001b[0m\u001b[0mc\u001b[0m\u001b[0;34m,\u001b[0m \u001b[0;34m**\u001b[0m\u001b[0mkwargs\u001b[0m\u001b[0;34m)\u001b[0m\u001b[0;34m:\u001b[0m\u001b[0;34m\u001b[0m\u001b[0m\n\u001b[0;32m---> 79\u001b[0;31m     \u001b[0;32mreturn\u001b[0m \u001b[0mnp\u001b[0m\u001b[0;34m.\u001b[0m\u001b[0mconcatenate\u001b[0m\u001b[0;34m(\u001b[0m\u001b[0mlist\u001b[0m\u001b[0;34m(\u001b[0m\u001b[0mc\u001b[0m\u001b[0;34m)\u001b[0m\u001b[0;34m)\u001b[0m\u001b[0;34m\u001b[0m\u001b[0m\n\u001b[0m\u001b[1;32m     80\u001b[0m \u001b[0;34m\u001b[0m\u001b[0m\n\u001b[1;32m     81\u001b[0m \u001b[0;34m\u001b[0m\u001b[0m\n",
      "\u001b[0;32m/Users/maye/miniconda3/envs/py34/lib/python3.4/site-packages/into/convert.py\u001b[0m in \u001b[0;36m<genexpr>\u001b[0;34m(.0)\u001b[0m\n\u001b[1;32m    161\u001b[0m \u001b[0;34m@\u001b[0m\u001b[0mconvert\u001b[0m\u001b[0;34m.\u001b[0m\u001b[0mregister\u001b[0m\u001b[0;34m(\u001b[0m\u001b[0mchunks\u001b[0m\u001b[0;34m(\u001b[0m\u001b[0mnp\u001b[0m\u001b[0;34m.\u001b[0m\u001b[0mndarray\u001b[0m\u001b[0;34m)\u001b[0m\u001b[0;34m,\u001b[0m \u001b[0mchunks\u001b[0m\u001b[0;34m(\u001b[0m\u001b[0mpd\u001b[0m\u001b[0;34m.\u001b[0m\u001b[0mDataFrame\u001b[0m\u001b[0;34m)\u001b[0m\u001b[0;34m,\u001b[0m \u001b[0mcost\u001b[0m\u001b[0;34m=\u001b[0m\u001b[0;36m1.0\u001b[0m\u001b[0;34m)\u001b[0m\u001b[0;34m\u001b[0m\u001b[0m\n\u001b[1;32m    162\u001b[0m \u001b[0;32mdef\u001b[0m \u001b[0mchunked_pandas_to_chunked_numpy\u001b[0m\u001b[0;34m(\u001b[0m\u001b[0mc\u001b[0m\u001b[0;34m,\u001b[0m \u001b[0;34m**\u001b[0m\u001b[0mkwargs\u001b[0m\u001b[0;34m)\u001b[0m\u001b[0;34m:\u001b[0m\u001b[0;34m\u001b[0m\u001b[0m\n\u001b[0;32m--> 163\u001b[0;31m     \u001b[0;32mreturn\u001b[0m \u001b[0mchunks\u001b[0m\u001b[0;34m(\u001b[0m\u001b[0mnp\u001b[0m\u001b[0;34m.\u001b[0m\u001b[0mndarray\u001b[0m\u001b[0;34m)\u001b[0m\u001b[0;34m(\u001b[0m\u001b[0;32mlambda\u001b[0m\u001b[0;34m:\u001b[0m \u001b[0;34m(\u001b[0m\u001b[0mconvert\u001b[0m\u001b[0;34m(\u001b[0m\u001b[0mnp\u001b[0m\u001b[0;34m.\u001b[0m\u001b[0mndarray\u001b[0m\u001b[0;34m,\u001b[0m \u001b[0mchunk\u001b[0m\u001b[0;34m,\u001b[0m \u001b[0;34m**\u001b[0m\u001b[0mkwargs\u001b[0m\u001b[0;34m)\u001b[0m \u001b[0;32mfor\u001b[0m \u001b[0mchunk\u001b[0m \u001b[0;32min\u001b[0m \u001b[0mc\u001b[0m\u001b[0;34m)\u001b[0m\u001b[0;34m)\u001b[0m\u001b[0;34m\u001b[0m\u001b[0m\n\u001b[0m\u001b[1;32m    164\u001b[0m \u001b[0;34m\u001b[0m\u001b[0m\n\u001b[1;32m    165\u001b[0m \u001b[0;34m@\u001b[0m\u001b[0mconvert\u001b[0m\u001b[0;34m.\u001b[0m\u001b[0mregister\u001b[0m\u001b[0;34m(\u001b[0m\u001b[0mchunks\u001b[0m\u001b[0;34m(\u001b[0m\u001b[0mpd\u001b[0m\u001b[0;34m.\u001b[0m\u001b[0mDataFrame\u001b[0m\u001b[0;34m)\u001b[0m\u001b[0;34m,\u001b[0m \u001b[0mchunks\u001b[0m\u001b[0;34m(\u001b[0m\u001b[0mnp\u001b[0m\u001b[0;34m.\u001b[0m\u001b[0mndarray\u001b[0m\u001b[0;34m)\u001b[0m\u001b[0;34m,\u001b[0m \u001b[0mcost\u001b[0m\u001b[0;34m=\u001b[0m\u001b[0;36m1.0\u001b[0m\u001b[0;34m)\u001b[0m\u001b[0;34m\u001b[0m\u001b[0m\n",
      "\u001b[0;32m/Users/maye/miniconda3/envs/py34/lib/python3.4/site-packages/into/backends/csv.py\u001b[0m in \u001b[0;36m_\u001b[0;34m()\u001b[0m\n\u001b[1;32m    186\u001b[0m     \u001b[0;32mdef\u001b[0m \u001b[0m_\u001b[0m\u001b[0;34m(\u001b[0m\u001b[0;34m)\u001b[0m\u001b[0;34m:\u001b[0m\u001b[0;34m\u001b[0m\u001b[0m\n\u001b[1;32m    187\u001b[0m         \u001b[0;32myield\u001b[0m \u001b[0mfirst\u001b[0m\u001b[0;34m\u001b[0m\u001b[0m\n\u001b[0;32m--> 188\u001b[0;31m         \u001b[0;32mfor\u001b[0m \u001b[0mdf\u001b[0m \u001b[0;32min\u001b[0m \u001b[0mrest\u001b[0m\u001b[0;34m:\u001b[0m\u001b[0;34m\u001b[0m\u001b[0m\n\u001b[0m\u001b[1;32m    189\u001b[0m             \u001b[0;32myield\u001b[0m \u001b[0mdf\u001b[0m\u001b[0;34m\u001b[0m\u001b[0m\n\u001b[1;32m    190\u001b[0m     \u001b[0;32mreturn\u001b[0m \u001b[0mchunks\u001b[0m\u001b[0;34m(\u001b[0m\u001b[0mpd\u001b[0m\u001b[0;34m.\u001b[0m\u001b[0mDataFrame\u001b[0m\u001b[0;34m)\u001b[0m\u001b[0;34m(\u001b[0m\u001b[0m_\u001b[0m\u001b[0;34m)\u001b[0m\u001b[0;34m\u001b[0m\u001b[0m\n",
      "\u001b[0;32m/Users/maye/miniconda3/envs/py34/lib/python3.4/site-packages/pandas/io/parsers.py\u001b[0m in \u001b[0;36m__iter__\u001b[0;34m(self)\u001b[0m\n\u001b[1;32m    684\u001b[0m             \u001b[0;32mif\u001b[0m \u001b[0mself\u001b[0m\u001b[0;34m.\u001b[0m\u001b[0mchunksize\u001b[0m\u001b[0;34m:\u001b[0m\u001b[0;34m\u001b[0m\u001b[0m\n\u001b[1;32m    685\u001b[0m                 \u001b[0;32mwhile\u001b[0m \u001b[0;32mTrue\u001b[0m\u001b[0;34m:\u001b[0m\u001b[0;34m\u001b[0m\u001b[0m\n\u001b[0;32m--> 686\u001b[0;31m                     \u001b[0;32myield\u001b[0m \u001b[0mself\u001b[0m\u001b[0;34m.\u001b[0m\u001b[0mread\u001b[0m\u001b[0;34m(\u001b[0m\u001b[0mself\u001b[0m\u001b[0;34m.\u001b[0m\u001b[0mchunksize\u001b[0m\u001b[0;34m)\u001b[0m\u001b[0;34m\u001b[0m\u001b[0m\n\u001b[0m\u001b[1;32m    687\u001b[0m             \u001b[0;32melse\u001b[0m\u001b[0;34m:\u001b[0m\u001b[0;34m\u001b[0m\u001b[0m\n\u001b[1;32m    688\u001b[0m                 \u001b[0;32myield\u001b[0m \u001b[0mself\u001b[0m\u001b[0;34m.\u001b[0m\u001b[0mread\u001b[0m\u001b[0;34m(\u001b[0m\u001b[0;34m)\u001b[0m\u001b[0;34m\u001b[0m\u001b[0m\n",
      "\u001b[0;32m/Users/maye/miniconda3/envs/py34/lib/python3.4/site-packages/pandas/io/parsers.py\u001b[0m in \u001b[0;36mread\u001b[0;34m(self, nrows)\u001b[0m\n\u001b[1;32m    708\u001b[0m                 \u001b[0;32mraise\u001b[0m \u001b[0mValueError\u001b[0m\u001b[0;34m(\u001b[0m\u001b[0;34m'skip_footer not supported for iteration'\u001b[0m\u001b[0;34m)\u001b[0m\u001b[0;34m\u001b[0m\u001b[0m\n\u001b[1;32m    709\u001b[0m \u001b[0;34m\u001b[0m\u001b[0m\n\u001b[0;32m--> 710\u001b[0;31m         \u001b[0mret\u001b[0m \u001b[0;34m=\u001b[0m \u001b[0mself\u001b[0m\u001b[0;34m.\u001b[0m\u001b[0m_engine\u001b[0m\u001b[0;34m.\u001b[0m\u001b[0mread\u001b[0m\u001b[0;34m(\u001b[0m\u001b[0mnrows\u001b[0m\u001b[0;34m)\u001b[0m\u001b[0;34m\u001b[0m\u001b[0m\n\u001b[0m\u001b[1;32m    711\u001b[0m \u001b[0;34m\u001b[0m\u001b[0m\n\u001b[1;32m    712\u001b[0m         \u001b[0;32mif\u001b[0m \u001b[0mself\u001b[0m\u001b[0;34m.\u001b[0m\u001b[0moptions\u001b[0m\u001b[0;34m.\u001b[0m\u001b[0mget\u001b[0m\u001b[0;34m(\u001b[0m\u001b[0;34m'as_recarray'\u001b[0m\u001b[0;34m)\u001b[0m\u001b[0;34m:\u001b[0m\u001b[0;34m\u001b[0m\u001b[0m\n",
      "\u001b[0;32m/Users/maye/miniconda3/envs/py34/lib/python3.4/site-packages/pandas/io/parsers.py\u001b[0m in \u001b[0;36mread\u001b[0;34m(self, nrows)\u001b[0m\n\u001b[1;32m   1157\u001b[0m \u001b[0;34m\u001b[0m\u001b[0m\n\u001b[1;32m   1158\u001b[0m         \u001b[0;32mtry\u001b[0m\u001b[0;34m:\u001b[0m\u001b[0;34m\u001b[0m\u001b[0m\n\u001b[0;32m-> 1159\u001b[0;31m             \u001b[0mdata\u001b[0m \u001b[0;34m=\u001b[0m \u001b[0mself\u001b[0m\u001b[0;34m.\u001b[0m\u001b[0m_reader\u001b[0m\u001b[0;34m.\u001b[0m\u001b[0mread\u001b[0m\u001b[0;34m(\u001b[0m\u001b[0mnrows\u001b[0m\u001b[0;34m)\u001b[0m\u001b[0;34m\u001b[0m\u001b[0m\n\u001b[0m\u001b[1;32m   1160\u001b[0m         \u001b[0;32mexcept\u001b[0m \u001b[0mStopIteration\u001b[0m\u001b[0;34m:\u001b[0m\u001b[0;34m\u001b[0m\u001b[0m\n\u001b[1;32m   1161\u001b[0m             \u001b[0;32mif\u001b[0m \u001b[0mnrows\u001b[0m \u001b[0;32mis\u001b[0m \u001b[0;32mNone\u001b[0m\u001b[0;34m:\u001b[0m\u001b[0;34m\u001b[0m\u001b[0m\n",
      "\u001b[0;32mpandas/parser.pyx\u001b[0m in \u001b[0;36mpandas.parser.TextReader.read (pandas/parser.c:7396)\u001b[0;34m()\u001b[0m\n",
      "\u001b[0;32mpandas/parser.pyx\u001b[0m in \u001b[0;36mpandas.parser.TextReader._read_low_memory (pandas/parser.c:7804)\u001b[0;34m()\u001b[0m\n",
      "\u001b[0;32mpandas/parser.pyx\u001b[0m in \u001b[0;36mpandas.parser.TextReader._read_rows (pandas/parser.c:8474)\u001b[0;34m()\u001b[0m\n",
      "\u001b[0;32mpandas/parser.pyx\u001b[0m in \u001b[0;36mpandas.parser.TextReader._convert_column_data (pandas/parser.c:9790)\u001b[0;34m()\u001b[0m\n",
      "\u001b[0;32mpandas/parser.pyx\u001b[0m in \u001b[0;36mpandas.parser.TextReader._convert_tokens (pandas/parser.c:10895)\u001b[0;34m()\u001b[0m\n",
      "\u001b[0;31mValueError\u001b[0m: could not convert string to float: 'null'"
     ]
    }
   ],
   "source": [
    "blaze.into('/Users/maye/data/planet4/test.bcolz',\n",
    "            '/Users/maye/data/planet4/2014-12-21_planet_four_classifications.csv',\n",
    "           dshape=d.dshape)"
   ]
  },
  {
   "cell_type": "code",
   "execution_count": 30,
   "metadata": {
    "collapsed": false
   },
   "outputs": [
    {
     "data": {
      "text/plain": [
       "dshape(\"\"\"var * {\n",
       "  classification_id: string,\n",
       "  created_at: datetime,\n",
       "  image_id: string,\n",
       "  image_name: string,\n",
       "  image_url: string,\n",
       "  user_name: string,\n",
       "  marking: string,\n",
       "  x_tile: int64,\n",
       "  y_tile: int64,\n",
       "  acquisition_date: datetime,\n",
       "  local_mars_time: datetime,\n",
       "  x: float64,\n",
       "  y: float64,\n",
       "  image_x: float64,\n",
       "  image_y: float64,\n",
       "  radius_1: float64,\n",
       "  radius_2: float64,\n",
       "  distance: float64,\n",
       "  angle: float64,\n",
       "  spread: float64,\n",
       "  version: float64,\n",
       "  user_agent: string\n",
       "  }\"\"\")"
      ]
     },
     "execution_count": 30,
     "metadata": {},
     "output_type": "execute_result"
    }
   ],
   "source": []
  },
  {
   "cell_type": "code",
   "execution_count": 63,
   "metadata": {
    "collapsed": false
   },
   "outputs": [],
   "source": [
    "ds = blaze.dshape(\"\"\"var * {\n",
    "  classification_id: string[24, 'ascii'],\n",
    "  created_at: datetime,\n",
    "  image_id: string,\n",
    "  image_name: string[15, 'ascii'],\n",
    "  image_url: string,\n",
    "  user_name: string,\n",
    "  marking: string,\n",
    "  x_tile: int64,\n",
    "  y_tile: int64,\n",
    "  acquisition_date: datetime,\n",
    "  local_mars_time: datetime,\n",
    "  x: float64,\n",
    "  y: float64,\n",
    "  image_x: float64,\n",
    "  image_y: float64,\n",
    "  radius_1: float64,\n",
    "  radius_2: float64,\n",
    "  distance: float64,\n",
    "  angle: float64,\n",
    "  spread: float64,\n",
    "  version: float64,\n",
    "  user_agent: string\n",
    "  }\"\"\")"
   ]
  },
  {
   "cell_type": "code",
   "execution_count": 65,
   "metadata": {
    "collapsed": false
   },
   "outputs": [
    {
     "name": "stdout",
     "output_type": "stream",
     "text": [
      "/Users/maye/data/planet4\n"
     ]
    }
   ],
   "source": [
    "cd ~/data/planet4/"
   ]
  },
  {
   "cell_type": "code",
   "execution_count": 67,
   "metadata": {
    "collapsed": false
   },
   "outputs": [
    {
     "ename": "ValueError",
     "evalue": "could not broadcast input array from shape (12306372) into shape (3)",
     "output_type": "error",
     "traceback": [
      "\u001b[0;31m---------------------------------------------------------------------------\u001b[0m",
      "\u001b[0;31mValueError\u001b[0m                                Traceback (most recent call last)",
      "\u001b[0;32m/Users/maye/miniconda3/envs/py34/lib/python3.4/site-packages/IPython/core/formatters.py\u001b[0m in \u001b[0;36m__call__\u001b[0;34m(self, obj)\u001b[0m\n\u001b[1;32m    693\u001b[0m                 \u001b[0mtype_pprinters\u001b[0m\u001b[0;34m=\u001b[0m\u001b[0mself\u001b[0m\u001b[0;34m.\u001b[0m\u001b[0mtype_printers\u001b[0m\u001b[0;34m,\u001b[0m\u001b[0;34m\u001b[0m\u001b[0m\n\u001b[1;32m    694\u001b[0m                 deferred_pprinters=self.deferred_printers)\n\u001b[0;32m--> 695\u001b[0;31m             \u001b[0mprinter\u001b[0m\u001b[0;34m.\u001b[0m\u001b[0mpretty\u001b[0m\u001b[0;34m(\u001b[0m\u001b[0mobj\u001b[0m\u001b[0;34m)\u001b[0m\u001b[0;34m\u001b[0m\u001b[0m\n\u001b[0m\u001b[1;32m    696\u001b[0m             \u001b[0mprinter\u001b[0m\u001b[0;34m.\u001b[0m\u001b[0mflush\u001b[0m\u001b[0;34m(\u001b[0m\u001b[0;34m)\u001b[0m\u001b[0;34m\u001b[0m\u001b[0m\n\u001b[1;32m    697\u001b[0m             \u001b[0;32mreturn\u001b[0m \u001b[0mstream\u001b[0m\u001b[0;34m.\u001b[0m\u001b[0mgetvalue\u001b[0m\u001b[0;34m(\u001b[0m\u001b[0;34m)\u001b[0m\u001b[0;34m\u001b[0m\u001b[0m\n",
      "\u001b[0;32m/Users/maye/miniconda3/envs/py34/lib/python3.4/site-packages/IPython/lib/pretty.py\u001b[0m in \u001b[0;36mpretty\u001b[0;34m(self, obj)\u001b[0m\n\u001b[1;32m    399\u001b[0m                             \u001b[0;32mif\u001b[0m \u001b[0mcallable\u001b[0m\u001b[0;34m(\u001b[0m\u001b[0mmeth\u001b[0m\u001b[0;34m)\u001b[0m\u001b[0;34m:\u001b[0m\u001b[0;34m\u001b[0m\u001b[0m\n\u001b[1;32m    400\u001b[0m                                 \u001b[0;32mreturn\u001b[0m \u001b[0mmeth\u001b[0m\u001b[0;34m(\u001b[0m\u001b[0mobj\u001b[0m\u001b[0;34m,\u001b[0m \u001b[0mself\u001b[0m\u001b[0;34m,\u001b[0m \u001b[0mcycle\u001b[0m\u001b[0;34m)\u001b[0m\u001b[0;34m\u001b[0m\u001b[0m\n\u001b[0;32m--> 401\u001b[0;31m             \u001b[0;32mreturn\u001b[0m \u001b[0m_default_pprint\u001b[0m\u001b[0;34m(\u001b[0m\u001b[0mobj\u001b[0m\u001b[0;34m,\u001b[0m \u001b[0mself\u001b[0m\u001b[0;34m,\u001b[0m \u001b[0mcycle\u001b[0m\u001b[0;34m)\u001b[0m\u001b[0;34m\u001b[0m\u001b[0m\n\u001b[0m\u001b[1;32m    402\u001b[0m         \u001b[0;32mfinally\u001b[0m\u001b[0;34m:\u001b[0m\u001b[0;34m\u001b[0m\u001b[0m\n\u001b[1;32m    403\u001b[0m             \u001b[0mself\u001b[0m\u001b[0;34m.\u001b[0m\u001b[0mend_group\u001b[0m\u001b[0;34m(\u001b[0m\u001b[0;34m)\u001b[0m\u001b[0;34m\u001b[0m\u001b[0m\n",
      "\u001b[0;32m/Users/maye/miniconda3/envs/py34/lib/python3.4/site-packages/IPython/lib/pretty.py\u001b[0m in \u001b[0;36m_default_pprint\u001b[0;34m(obj, p, cycle)\u001b[0m\n\u001b[1;32m    519\u001b[0m     \u001b[0;32mif\u001b[0m \u001b[0m_safe_getattr\u001b[0m\u001b[0;34m(\u001b[0m\u001b[0mklass\u001b[0m\u001b[0;34m,\u001b[0m \u001b[0;34m'__repr__'\u001b[0m\u001b[0;34m,\u001b[0m \u001b[0;32mNone\u001b[0m\u001b[0;34m)\u001b[0m \u001b[0;32mnot\u001b[0m \u001b[0;32min\u001b[0m \u001b[0m_baseclass_reprs\u001b[0m\u001b[0;34m:\u001b[0m\u001b[0;34m\u001b[0m\u001b[0m\n\u001b[1;32m    520\u001b[0m         \u001b[0;31m# A user-provided repr. Find newlines and replace them with p.break_()\u001b[0m\u001b[0;34m\u001b[0m\u001b[0;34m\u001b[0m\u001b[0m\n\u001b[0;32m--> 521\u001b[0;31m         \u001b[0m_repr_pprint\u001b[0m\u001b[0;34m(\u001b[0m\u001b[0mobj\u001b[0m\u001b[0;34m,\u001b[0m \u001b[0mp\u001b[0m\u001b[0;34m,\u001b[0m \u001b[0mcycle\u001b[0m\u001b[0;34m)\u001b[0m\u001b[0;34m\u001b[0m\u001b[0m\n\u001b[0m\u001b[1;32m    522\u001b[0m         \u001b[0;32mreturn\u001b[0m\u001b[0;34m\u001b[0m\u001b[0m\n\u001b[1;32m    523\u001b[0m     \u001b[0mp\u001b[0m\u001b[0;34m.\u001b[0m\u001b[0mbegin_group\u001b[0m\u001b[0;34m(\u001b[0m\u001b[0;36m1\u001b[0m\u001b[0;34m,\u001b[0m \u001b[0;34m'<'\u001b[0m\u001b[0;34m)\u001b[0m\u001b[0;34m\u001b[0m\u001b[0m\n",
      "\u001b[0;32m/Users/maye/miniconda3/envs/py34/lib/python3.4/site-packages/IPython/lib/pretty.py\u001b[0m in \u001b[0;36m_repr_pprint\u001b[0;34m(obj, p, cycle)\u001b[0m\n\u001b[1;32m    701\u001b[0m     \u001b[0;34m\"\"\"A pprint that just redirects to the normal repr function.\"\"\"\u001b[0m\u001b[0;34m\u001b[0m\u001b[0m\n\u001b[1;32m    702\u001b[0m     \u001b[0;31m# Find newlines and replace them with p.break_()\u001b[0m\u001b[0;34m\u001b[0m\u001b[0;34m\u001b[0m\u001b[0m\n\u001b[0;32m--> 703\u001b[0;31m     \u001b[0moutput\u001b[0m \u001b[0;34m=\u001b[0m \u001b[0mrepr\u001b[0m\u001b[0;34m(\u001b[0m\u001b[0mobj\u001b[0m\u001b[0;34m)\u001b[0m\u001b[0;34m\u001b[0m\u001b[0m\n\u001b[0m\u001b[1;32m    704\u001b[0m     \u001b[0;32mfor\u001b[0m \u001b[0midx\u001b[0m\u001b[0;34m,\u001b[0m\u001b[0moutput_line\u001b[0m \u001b[0;32min\u001b[0m \u001b[0menumerate\u001b[0m\u001b[0;34m(\u001b[0m\u001b[0moutput\u001b[0m\u001b[0;34m.\u001b[0m\u001b[0msplitlines\u001b[0m\u001b[0;34m(\u001b[0m\u001b[0;34m)\u001b[0m\u001b[0;34m)\u001b[0m\u001b[0;34m:\u001b[0m\u001b[0;34m\u001b[0m\u001b[0m\n\u001b[1;32m    705\u001b[0m         \u001b[0;32mif\u001b[0m \u001b[0midx\u001b[0m\u001b[0;34m:\u001b[0m\u001b[0;34m\u001b[0m\u001b[0m\n",
      "\u001b[0;32m/Users/maye/miniconda3/envs/py34/lib/python3.4/site-packages/bcolz/ctable.py\u001b[0m in \u001b[0;36m__repr__\u001b[0;34m(self)\u001b[0m\n\u001b[1;32m   1252\u001b[0m         \u001b[0;32mif\u001b[0m \u001b[0mself\u001b[0m\u001b[0;34m.\u001b[0m\u001b[0mrootdir\u001b[0m\u001b[0;34m:\u001b[0m\u001b[0;34m\u001b[0m\u001b[0m\n\u001b[1;32m   1253\u001b[0m             \u001b[0mheader\u001b[0m \u001b[0;34m+=\u001b[0m \u001b[0;34m\"  rootdir := '%s'\\n\"\u001b[0m \u001b[0;34m%\u001b[0m \u001b[0mself\u001b[0m\u001b[0;34m.\u001b[0m\u001b[0mrootdir\u001b[0m\u001b[0;34m\u001b[0m\u001b[0m\n\u001b[0;32m-> 1254\u001b[0;31m         \u001b[0mfullrepr\u001b[0m \u001b[0;34m=\u001b[0m \u001b[0mheader\u001b[0m \u001b[0;34m+\u001b[0m \u001b[0mstr\u001b[0m\u001b[0;34m(\u001b[0m\u001b[0mself\u001b[0m\u001b[0;34m)\u001b[0m\u001b[0;34m\u001b[0m\u001b[0m\n\u001b[0m\u001b[1;32m   1255\u001b[0m         \u001b[0;32mreturn\u001b[0m \u001b[0mfullrepr\u001b[0m\u001b[0;34m\u001b[0m\u001b[0m\n\u001b[1;32m   1256\u001b[0m \u001b[0;34m\u001b[0m\u001b[0m\n",
      "\u001b[0;32m/Users/maye/miniconda3/envs/py34/lib/python3.4/site-packages/bcolz/ctable.py\u001b[0m in \u001b[0;36m__str__\u001b[0;34m(self)\u001b[0m\n\u001b[1;32m   1240\u001b[0m \u001b[0;34m\u001b[0m\u001b[0m\n\u001b[1;32m   1241\u001b[0m     \u001b[0;32mdef\u001b[0m \u001b[0m__str__\u001b[0m\u001b[0;34m(\u001b[0m\u001b[0mself\u001b[0m\u001b[0;34m)\u001b[0m\u001b[0;34m:\u001b[0m\u001b[0;34m\u001b[0m\u001b[0m\n\u001b[0;32m-> 1242\u001b[0;31m         \u001b[0;32mreturn\u001b[0m \u001b[0marray2string\u001b[0m\u001b[0;34m(\u001b[0m\u001b[0mself\u001b[0m\u001b[0;34m)\u001b[0m\u001b[0;34m\u001b[0m\u001b[0m\n\u001b[0m\u001b[1;32m   1243\u001b[0m \u001b[0;34m\u001b[0m\u001b[0m\n\u001b[1;32m   1244\u001b[0m     \u001b[0;32mdef\u001b[0m \u001b[0m__repr__\u001b[0m\u001b[0;34m(\u001b[0m\u001b[0mself\u001b[0m\u001b[0;34m)\u001b[0m\u001b[0;34m:\u001b[0m\u001b[0;34m\u001b[0m\u001b[0m\n",
      "\u001b[0;32m/Users/maye/miniconda3/envs/py34/lib/python3.4/site-packages/bcolz/arrayprint.py\u001b[0m in \u001b[0;36marray2string\u001b[0;34m(a, max_line_width, precision, suppress_small, separator, prefix, style, formatter)\u001b[0m\n\u001b[1;32m    466\u001b[0m     \u001b[0;32melse\u001b[0m\u001b[0;34m:\u001b[0m\u001b[0;34m\u001b[0m\u001b[0m\n\u001b[1;32m    467\u001b[0m         lst = _array2string(a, max_line_width, precision, suppress_small,\n\u001b[0;32m--> 468\u001b[0;31m                             separator, prefix, formatter=formatter)\n\u001b[0m\u001b[1;32m    469\u001b[0m     \u001b[0;32mreturn\u001b[0m \u001b[0mlst\u001b[0m\u001b[0;34m\u001b[0m\u001b[0m\n\u001b[1;32m    470\u001b[0m \u001b[0;34m\u001b[0m\u001b[0m\n",
      "\u001b[0;32m/Users/maye/miniconda3/envs/py34/lib/python3.4/site-packages/bcolz/arrayprint.py\u001b[0m in \u001b[0;36m_array2string\u001b[0;34m(a, max_line_width, precision, suppress_small, separator, prefix, formatter)\u001b[0m\n\u001b[1;32m    257\u001b[0m     \u001b[0;32mif\u001b[0m \u001b[0ma\u001b[0m\u001b[0;34m.\u001b[0m\u001b[0msize\u001b[0m \u001b[0;34m>\u001b[0m \u001b[0m_summaryThreshold\u001b[0m\u001b[0;34m:\u001b[0m\u001b[0;34m\u001b[0m\u001b[0m\n\u001b[1;32m    258\u001b[0m         \u001b[0msummary_insert\u001b[0m \u001b[0;34m=\u001b[0m \u001b[0;34m\"..., \"\u001b[0m\u001b[0;34m\u001b[0m\u001b[0m\n\u001b[0;32m--> 259\u001b[0;31m         \u001b[0mdata\u001b[0m \u001b[0;34m=\u001b[0m \u001b[0m_leading_trailing\u001b[0m\u001b[0;34m(\u001b[0m\u001b[0ma\u001b[0m\u001b[0;34m)\u001b[0m\u001b[0;34m\u001b[0m\u001b[0m\n\u001b[0m\u001b[1;32m    260\u001b[0m     \u001b[0;32melse\u001b[0m\u001b[0;34m:\u001b[0m\u001b[0;34m\u001b[0m\u001b[0m\n\u001b[1;32m    261\u001b[0m         \u001b[0msummary_insert\u001b[0m \u001b[0;34m=\u001b[0m \u001b[0;34m\"\"\u001b[0m\u001b[0;34m\u001b[0m\u001b[0m\n",
      "\u001b[0;32m/Users/maye/miniconda3/envs/py34/lib/python3.4/site-packages/bcolz/arrayprint.py\u001b[0m in \u001b[0;36m_leading_trailing\u001b[0;34m(a)\u001b[0m\n\u001b[1;32m    214\u001b[0m     \u001b[0;32mif\u001b[0m \u001b[0ma\u001b[0m\u001b[0;34m.\u001b[0m\u001b[0mndim\u001b[0m \u001b[0;34m==\u001b[0m \u001b[0;36m1\u001b[0m\u001b[0;34m:\u001b[0m\u001b[0;34m\u001b[0m\u001b[0m\n\u001b[1;32m    215\u001b[0m         \u001b[0;32mif\u001b[0m \u001b[0mlen\u001b[0m\u001b[0;34m(\u001b[0m\u001b[0ma\u001b[0m\u001b[0;34m)\u001b[0m \u001b[0;34m>\u001b[0m \u001b[0;36m2\u001b[0m \u001b[0;34m*\u001b[0m \u001b[0m_summaryEdgeItems\u001b[0m\u001b[0;34m:\u001b[0m\u001b[0;34m\u001b[0m\u001b[0m\n\u001b[0;32m--> 216\u001b[0;31m             b = _nc.concatenate((a[:_summaryEdgeItems],\n\u001b[0m\u001b[1;32m    217\u001b[0m                                  a[-_summaryEdgeItems:]))\n\u001b[1;32m    218\u001b[0m         \u001b[0;32melse\u001b[0m\u001b[0;34m:\u001b[0m\u001b[0;34m\u001b[0m\u001b[0m\n",
      "\u001b[0;32m/Users/maye/miniconda3/envs/py34/lib/python3.4/site-packages/bcolz/ctable.py\u001b[0m in \u001b[0;36m__getitem__\u001b[0;34m(self, key)\u001b[0m\n\u001b[1;32m   1109\u001b[0m         \u001b[0;31m# Fill it\u001b[0m\u001b[0;34m\u001b[0m\u001b[0;34m\u001b[0m\u001b[0m\n\u001b[1;32m   1110\u001b[0m         \u001b[0;32mfor\u001b[0m \u001b[0mname\u001b[0m \u001b[0;32min\u001b[0m \u001b[0mself\u001b[0m\u001b[0;34m.\u001b[0m\u001b[0mnames\u001b[0m\u001b[0;34m:\u001b[0m\u001b[0;34m\u001b[0m\u001b[0m\n\u001b[0;32m-> 1111\u001b[0;31m             \u001b[0mra\u001b[0m\u001b[0;34m[\u001b[0m\u001b[0mname\u001b[0m\u001b[0;34m]\u001b[0m\u001b[0;34m[\u001b[0m\u001b[0;34m:\u001b[0m\u001b[0;34m]\u001b[0m \u001b[0;34m=\u001b[0m \u001b[0mself\u001b[0m\u001b[0;34m.\u001b[0m\u001b[0mcols\u001b[0m\u001b[0;34m[\u001b[0m\u001b[0mname\u001b[0m\u001b[0;34m]\u001b[0m\u001b[0;34m[\u001b[0m\u001b[0mstart\u001b[0m\u001b[0;34m:\u001b[0m\u001b[0mstop\u001b[0m\u001b[0;34m:\u001b[0m\u001b[0mstep\u001b[0m\u001b[0;34m]\u001b[0m\u001b[0;34m\u001b[0m\u001b[0m\n\u001b[0m\u001b[1;32m   1112\u001b[0m \u001b[0;34m\u001b[0m\u001b[0m\n\u001b[1;32m   1113\u001b[0m         \u001b[0;32mreturn\u001b[0m \u001b[0mra\u001b[0m\u001b[0;34m\u001b[0m\u001b[0m\n",
      "\u001b[0;31mValueError\u001b[0m: could not broadcast input array from shape (12306372) into shape (3)"
     ]
    }
   ],
   "source": [
    "blaze.into('test.bcolz',\n",
    "           '2014-12-21_planet_four_classifications.csv',\n",
    "           dshape=ds, na_values=['null'])"
   ]
  },
  {
   "cell_type": "code",
   "execution_count": null,
   "metadata": {
    "collapsed": true
   },
   "outputs": [],
   "source": []
  }
 ],
 "metadata": {
  "kernelspec": {
   "display_name": "IPython (Python 3)",
   "name": "python3"
  },
  "language_info": {
   "codemirror_mode": {
    "name": "ipython",
    "version": 3
   },
   "file_extension": ".py",
   "mimetype": "text/x-python",
   "name": "python",
   "nbconvert_exporter": "python",
   "pygments_lexer": "ipython3",
   "version": "3.4.2"
  },
  "signature": "sha256:99d3b6c3e6dab65fcb9b5d8d34b0cc8e20ecf8cf3c3bc607b6063022c667f744"
 },
 "nbformat": 4,
 "nbformat_minor": 0
}