{
 "metadata": {
  "name": "",
  "signature": "sha256:14c7dadae7d515e54fb424fb8cda0b9c3439c0a0fd3691147585a8087181ac45"
 },
 "nbformat": 3,
 "nbformat_minor": 0,
 "worksheets": [
  {
   "cells": [
    {
     "cell_type": "markdown",
     "metadata": {},
     "source": [
      "# Task: Define status of Planet 4"
     ]
    },
    {
     "cell_type": "markdown",
     "metadata": {},
     "source": [
      "First import the `pandas` data table analyis library and check which version I'm using (as I'm constantly changing that to keep up-to-date.)"
     ]
    },
    {
     "cell_type": "code",
     "collapsed": false,
     "input": [
      "import planet4 as p4\n",
      "import pandas as pd\n",
      "from planet4 import get_data\n",
      "print pd.__version__"
     ],
     "language": "python",
     "metadata": {},
     "outputs": [
      {
       "output_type": "stream",
       "stream": "stdout",
       "text": [
        "0.14.1\n"
       ]
      }
     ],
     "prompt_number": 1
    },
    {
     "cell_type": "code",
     "collapsed": false,
     "input": [
      "db_fname = get_data.get_current_database_fname()\n",
      "db_fname = '/Users/maye/data/planet4/2014-10-02_planet_four_classifications_queryable.h5'"
     ],
     "language": "python",
     "metadata": {},
     "outputs": [],
     "prompt_number": 2
    },
    {
     "cell_type": "code",
     "collapsed": false,
     "input": [
      "df = pd.read_hdf(db_fname, 'df', stop=1e5)"
     ],
     "language": "python",
     "metadata": {},
     "outputs": [],
     "prompt_number": 3
    },
    {
     "cell_type": "markdown",
     "metadata": {},
     "source": [
      "## Image IDs\n",
      "For a simple first task, let's get a list of unique image ids, to know how many objects have been published."
     ]
    },
    {
     "cell_type": "code",
     "collapsed": false,
     "input": [
      "img_ids = pd.read_hdf(db_fname, 'df', columns=['image_id'])"
     ],
     "language": "python",
     "metadata": {},
     "outputs": [],
     "prompt_number": 4
    },
    {
     "cell_type": "code",
     "collapsed": false,
     "input": [
      "img_ids = df.image_id.unique()\n",
      "print img_ids"
     ],
     "language": "python",
     "metadata": {},
     "outputs": [
      {
       "output_type": "stream",
       "stream": "stdout",
       "text": [
        "['APF00004hc' 'APF00002rq' 'APF0000cwl' ..., 'APF0001yce' 'APF0001vwj'\n",
        " 'APF0001vr2']\n"
       ]
      }
     ],
     "prompt_number": 6
    },
    {
     "cell_type": "markdown",
     "metadata": {},
     "source": [
      "So, how many objects were online:"
     ]
    },
    {
     "cell_type": "code",
     "collapsed": false,
     "input": [
      "no_all = len(img_ids)\n",
      "no_all"
     ],
     "language": "python",
     "metadata": {},
     "outputs": [
      {
       "metadata": {},
       "output_type": "pyout",
       "prompt_number": 8,
       "text": [
        "98096"
       ]
      }
     ],
     "prompt_number": 8
    },
    {
     "cell_type": "markdown",
     "metadata": {},
     "source": [
      "## Classification IDs\n",
      "Now we need to find out how often each image_id has been looked at. \n",
      "For that we have the groupby functionality. \n",
      "Specifically, because we want to know how many citizens have submitted a classification for each image_id, we need to group by the image_id and count the unique classification_ids within each image_id group. \n",
      "\n",
      "### Uniqueness within Image_ID!\n",
      "We need to constrain for uniqueness because each classified object is included with the same classification_id and we don't want to count them more than once, because we are interested in the overall submission only for now.\n",
      "\n",
      "In other words: Because the different fans, blobs and interesting things for one image_id have all been submitted with the same classification_id, I need to constrain to unique classification_ids, otherwise images with a lot of submitted items would appear 'more completed' just for having a lot of fan-content, and not for being analyzed by a lot of citizens, which is what we want.\n",
      "\n",
      "First, I confirm that classification_ids indeed have more than 1 entry, i.e. when there was more than one object classified by a user:"
     ]
    },
    {
     "cell_type": "code",
     "collapsed": false,
     "input": [
      "df.groupby(df.classification_id, sort=False).size()"
     ],
     "language": "python",
     "metadata": {},
     "outputs": [
      {
       "metadata": {},
       "output_type": "pyout",
       "prompt_number": 10,
       "text": [
        "classification_id\n",
        "50ea1eae45d7e11332000bf9     1\n",
        "50ea21c245d7e11332000c88     1\n",
        "50ea21d7e3995601cb00016d     2\n",
        "50ea21e745d7e11332000c97     3\n",
        "50eacdcb45d7e143b10002c0    11\n",
        "50eacdf545d7e143d6000925     5\n",
        "50eace09e39956220600081f     1\n",
        "50eace33e3995621190006b8     5\n",
        "...\n",
        "52ee1747f7e39832fd001202    16\n",
        "52ee19aff11e0479d800086d     1\n",
        "52ee19b3f11e0479d800086f     1\n",
        "52ee19c5f11e0479d8000870     1\n",
        "52ee1fc0f7e3986f7d000041     3\n",
        "52ee1fc8f7e3986f7d000042     1\n",
        "52ee2045f11e041f2e000081    23\n",
        "52ee2817f11e0479d80009de    28\n",
        "Length: 3995797, dtype: int64"
       ]
      }
     ],
     "prompt_number": 10
    },
    {
     "cell_type": "markdown",
     "metadata": {},
     "source": [
      "Ok, that is the case.\n",
      "Now, group those classification_ids by the image_ids and save the grouping. Switch off sorting for speed, we want to sort by the counts later anyway."
     ]
    },
    {
     "cell_type": "code",
     "collapsed": false,
     "input": [
      "grouping = df.classification_id.groupby(df.image_id, sort=False)"
     ],
     "language": "python",
     "metadata": {},
     "outputs": [],
     "prompt_number": 11
    },
    {
     "cell_type": "markdown",
     "metadata": {},
     "source": [
      "Aggregate each group by finding the size of the unique list of classification_ids."
     ]
    },
    {
     "cell_type": "code",
     "collapsed": false,
     "input": [
      "counts = grouping.agg(lambda x: x.unique().size)\n",
      "counts"
     ],
     "language": "python",
     "metadata": {},
     "outputs": [
      {
       "metadata": {},
       "output_type": "pyout",
       "prompt_number": 12,
       "text": [
        "image_id\n",
        "APF00004hc    147\n",
        "APF00002rq    141\n",
        "APF0000cwl    129\n",
        "APF0000jn4    107\n",
        "APF0000469    125\n",
        "APF0000v73     94\n",
        "APF00008jy    102\n",
        "APF0000sqw    123\n",
        "...\n",
        "APF0001y9h    10\n",
        "APF0001vfg    14\n",
        "APF0001y7l     7\n",
        "APF0001vt6     9\n",
        "APF0001xf7     4\n",
        "APF0001yce     4\n",
        "APF0001vwj     9\n",
        "APF0001vr2     9\n",
        "Length: 98096, dtype: int64"
       ]
      }
     ],
     "prompt_number": 12
    },
    {
     "cell_type": "markdown",
     "metadata": {},
     "source": [
      "Order the counts by value"
     ]
    },
    {
     "cell_type": "code",
     "collapsed": false,
     "input": [
      "counts = counts.order(ascending=False)\n",
      "counts"
     ],
     "language": "python",
     "metadata": {},
     "outputs": [
      {
       "metadata": {},
       "output_type": "pyout",
       "prompt_number": 14,
       "text": [
        "image_id\n",
        "APF0000jp7    180\n",
        "APF0000fpt    180\n",
        "APF0000dho    175\n",
        "APF0000syu    175\n",
        "APF00002b2    174\n",
        "APF0000mys    173\n",
        "APF0000wyr    173\n",
        "APF0000fmn    172\n",
        "...\n",
        "APF00022vq    1\n",
        "APF0001de6    1\n",
        "APF00023lb    1\n",
        "APF0001eki    1\n",
        "APF0001hua    1\n",
        "APF00023li    1\n",
        "APF0001u3e    1\n",
        "APF0001ubh    1\n",
        "Length: 98096, dtype: int64"
       ]
      }
     ],
     "prompt_number": 14
    },
    {
     "cell_type": "markdown",
     "metadata": {},
     "source": [
      "Note also that the length of this counts data series is 98096, exactly the number of unique image_ids."
     ]
    },
    {
     "cell_type": "markdown",
     "metadata": {},
     "source": [
      "## Percentages done.\n",
      "\n",
      "By constraining the previous data series for the value it has (the counts) and look at the length of the remaining data, we can determine the status of the finished rate."
     ]
    },
    {
     "cell_type": "code",
     "collapsed": false,
     "input": [
      "counts[counts >= 30].size"
     ],
     "language": "python",
     "metadata": {},
     "outputs": [
      {
       "metadata": {},
       "output_type": "pyout",
       "prompt_number": 13,
       "text": [
        "41381"
       ]
      }
     ],
     "prompt_number": 13
    },
    {
     "cell_type": "markdown",
     "metadata": {},
     "source": [
      "That's pretty disappointing, but alas, the cold hard truth. \n",
      "This means, taking all submitted years into account in the data, we have currently only the following percentage done:"
     ]
    },
    {
     "cell_type": "code",
     "collapsed": false,
     "input": [
      "counts[counts>= 30].size / float(no_all) * 100"
     ],
     "language": "python",
     "metadata": {},
     "outputs": [
      {
       "metadata": {},
       "output_type": "pyout",
       "prompt_number": 14,
       "text": [
        "42.18418691893655"
       ]
      }
     ],
     "prompt_number": 14
    },
    {
     "cell_type": "markdown",
     "metadata": {},
     "source": [
      "Wishing to see higher values, I was for some moments contemplating if one maybe has to sum up the different counts to be correct, but I don't think that's it.\n",
      "\n",
      "The way I see it, one has to decide in what 'phase-space' one works to determine the status of Planet4.\n",
      "Either in the phase space of total subframes or in the total number of classifications. And I believe to determine the finished state of Planet4 it is sufficient and actually easier to focus on the available number of subframes and determine how often each of them has been looked at.\n",
      "\n",
      "## Separate for seasons\n",
      "The different seasons of our south polar observations are separated by several counts of the `thousands` digit in the `image_id` column of the original HiRISE image id, in P4 called image_name."
     ]
    },
    {
     "cell_type": "code",
     "collapsed": false,
     "input": [
      "# str[5:7] is the 2-digit thousands count in, e.g., ESP_011234_0950, in this case 11.\n",
      "df['thousands'] = df.image_name.str[5:7].astype('int')"
     ],
     "language": "python",
     "metadata": {},
     "outputs": [],
     "prompt_number": 15
    },
    {
     "cell_type": "code",
     "collapsed": false,
     "input": [
      "thousands = df.thousands.value_counts().sort_index()\n",
      "thousands"
     ],
     "language": "python",
     "metadata": {},
     "outputs": [
      {
       "metadata": {},
       "output_type": "pyout",
       "prompt_number": 16,
       "text": [
        "1        4128\n",
        "2      186594\n",
        "3      670391\n",
        "4      171171\n",
        "5       30668\n",
        "11    1776924\n",
        "12    3965951\n",
        "13     192181\n",
        "20    1918526\n",
        "21    1769143\n",
        "22     137867\n",
        "dtype: int64"
       ]
      }
     ],
     "prompt_number": 16
    },
    {
     "cell_type": "markdown",
     "metadata": {},
     "source": [
      "As one can see, we have groups of [1..5, 11..13, 20..22].\n",
      "Let's add another season column to the dataframe, first filled with zeros."
     ]
    },
    {
     "cell_type": "code",
     "collapsed": false,
     "input": [
      "df['season'] = 0"
     ],
     "language": "python",
     "metadata": {},
     "outputs": [],
     "prompt_number": 18
    },
    {
     "cell_type": "markdown",
     "metadata": {},
     "source": [
      "For the first season, we actually don't need to look at the thousands counter, as the first 3 letters of the image_names started all with PSP in the first season (for 'P_rimary S_cience P_hase').\n",
      "Now let's set all rows with names starting with 'PSP' to season 1."
     ]
    },
    {
     "cell_type": "code",
     "collapsed": false,
     "input": [
      "df.loc[:, 'season'][df.image_name.str.startswith('PSP')] = 1"
     ],
     "language": "python",
     "metadata": {},
     "outputs": [],
     "prompt_number": 19
    },
    {
     "cell_type": "markdown",
     "metadata": {},
     "source": [
      "And for the later seasons, we actually need to group by the thousands counter:"
     ]
    },
    {
     "cell_type": "code",
     "collapsed": false,
     "input": [
      "df.loc[:, 'season'][(df.thousands > 10) & (df.thousands < 20)] = 2\n",
      "df.loc[:, 'season'][df.thousands > 19] = 3"
     ],
     "language": "python",
     "metadata": {},
     "outputs": [],
     "prompt_number": 20
    },
    {
     "cell_type": "markdown",
     "metadata": {},
     "source": [
      "So, for all seasons, how many rows to we have in the overall data:"
     ]
    },
    {
     "cell_type": "code",
     "collapsed": false,
     "input": [
      "no_all = df.season.value_counts()\n",
      "no_all"
     ],
     "language": "python",
     "metadata": {},
     "outputs": [
      {
       "metadata": {},
       "output_type": "pyout",
       "prompt_number": 25,
       "text": [
        "2    5935056\n",
        "3    3825536\n",
        "1    1062952\n",
        "dtype: int64"
       ]
      }
     ],
     "prompt_number": 25
    },
    {
     "cell_type": "markdown",
     "metadata": {},
     "source": [
      "### Percentages done\n",
      "Now I code a short function with the code I used above to create the counts of classification_ids per image_id. Note again the restriction to uniqueness of classification_ids."
     ]
    },
    {
     "cell_type": "code",
     "collapsed": false,
     "input": [
      "def get_counts_per_classification_id(df, unique=True):\n",
      "    grouping = df.classification_id.groupby(df.image_id, sort=False)\n",
      "    # because I only grouped the classification_id column above, this function is only\n",
      "    # applied to it. First, reduce to a unique list, and then save the size of that list.\n",
      "    if unique:\n",
      "        return grouping.agg(lambda x: x.unique().size)\n",
      "    else:\n",
      "        return grouping.size()"
     ],
     "language": "python",
     "metadata": {},
     "outputs": [],
     "prompt_number": 22
    },
    {
     "cell_type": "code",
     "collapsed": false,
     "input": [
      "df.image_name.groupby(df.season).agg(lambda x:x.unique().size)"
     ],
     "language": "python",
     "metadata": {},
     "outputs": [
      {
       "metadata": {},
       "output_type": "pyout",
       "prompt_number": 46,
       "text": [
        "season\n",
        "1         164\n",
        "2         129\n",
        "3          92\n",
        "dtype: int64"
       ]
      }
     ],
     "prompt_number": 46
    },
    {
     "cell_type": "code",
     "collapsed": false,
     "input": [
      "no_all = df.image_id.groupby(df.season).agg(lambda x: x.unique().size)\n",
      "no_all"
     ],
     "language": "python",
     "metadata": {},
     "outputs": [
      {
       "metadata": {},
       "output_type": "pyout",
       "prompt_number": 47,
       "text": [
        "season\n",
        "1         55192\n",
        "2         23723\n",
        "3         19181\n",
        "dtype: int64"
       ]
      }
     ],
     "prompt_number": 47
    },
    {
     "cell_type": "code",
     "collapsed": false,
     "input": [
      "def done_per_season(season, limit, unique=True, in_percent=True):\n",
      "    subdf = df[df.season == season]\n",
      "    counts_per_classid = get_counts_per_classification_id(subdf, unique)\n",
      "    no_done = counts_per_classid[counts_per_classid >= limit].size\n",
      "    if in_percent:\n",
      "        return 100.0 * no_done / no_all[season]\n",
      "    else:\n",
      "        return no_done"
     ],
     "language": "python",
     "metadata": {},
     "outputs": [],
     "prompt_number": 49
    },
    {
     "cell_type": "code",
     "collapsed": false,
     "input": [
      "for season in [1,2,3]:\n",
      "    print season\n",
      "    print done_per_season(season, 30, in_percent=True)"
     ],
     "language": "python",
     "metadata": {},
     "outputs": [
      {
       "output_type": "stream",
       "stream": "stdout",
       "text": [
        "1\n",
        "0.240976953182"
       ]
      },
      {
       "output_type": "stream",
       "stream": "stdout",
       "text": [
        "\n",
        "2\n",
        "96.1514142393"
       ]
      },
      {
       "output_type": "stream",
       "stream": "stdout",
       "text": [
        "\n",
        "3\n",
        "96.1263750587"
       ]
      },
      {
       "output_type": "stream",
       "stream": "stdout",
       "text": [
        "\n"
       ]
      }
     ],
     "prompt_number": 50
    },
    {
     "cell_type": "markdown",
     "metadata": {},
     "source": [
      "In the following code I not only check for the different years, but also the influence on the demanded limit of counts to define a subframe as 'finished'.\n",
      "\n",
      "To collect the data I create an empty dataframe with an index ranging through the different limits I want to check (i.e. `range(30,101,10)`)"
     ]
    },
    {
     "cell_type": "code",
     "collapsed": true,
     "input": [
      "import sys\n",
      "from collections import OrderedDict\n",
      "results = pd.DataFrame(index=range(30,101,10))\n",
      "for season in [1,2,3]:\n",
      "    print season\n",
      "    sys.stdout.flush() # to force a print out of the std buffer\n",
      "    subdf = df[df.season == season]\n",
      "    counts = get_counts_per_classification_id(subdf)\n",
      "    values = OrderedDict()\n",
      "    for limit in results.index:\n",
      "        values[limit] = done_per_season(season, limit)\n",
      "    results[season] = values.values()"
     ],
     "language": "python",
     "metadata": {},
     "outputs": [
      {
       "output_type": "stream",
       "stream": "stdout",
       "text": [
        "1\n"
       ]
      },
      {
       "output_type": "stream",
       "stream": "stdout",
       "text": [
        "2\n"
       ]
      },
      {
       "output_type": "stream",
       "stream": "stdout",
       "text": [
        "3\n"
       ]
      }
     ],
     "prompt_number": 53
    },
    {
     "cell_type": "code",
     "collapsed": false,
     "input": [
      "np.round(results)"
     ],
     "language": "python",
     "metadata": {},
     "outputs": [
      {
       "html": [
        "<div style=\"max-height:1000px;max-width:1500px;overflow:auto;\">\n",
        "<table border=\"1\" class=\"dataframe\">\n",
        "  <thead>\n",
        "    <tr style=\"text-align: right;\">\n",
        "      <th></th>\n",
        "      <th>1</th>\n",
        "      <th>2</th>\n",
        "      <th>3</th>\n",
        "    </tr>\n",
        "  </thead>\n",
        "  <tbody>\n",
        "    <tr>\n",
        "      <th>30 </th>\n",
        "      <td> 0</td>\n",
        "      <td> 96</td>\n",
        "      <td> 96</td>\n",
        "    </tr>\n",
        "    <tr>\n",
        "      <th>40 </th>\n",
        "      <td> 0</td>\n",
        "      <td> 89</td>\n",
        "      <td> 89</td>\n",
        "    </tr>\n",
        "    <tr>\n",
        "      <th>50 </th>\n",
        "      <td> 0</td>\n",
        "      <td> 80</td>\n",
        "      <td> 80</td>\n",
        "    </tr>\n",
        "    <tr>\n",
        "      <th>60 </th>\n",
        "      <td> 0</td>\n",
        "      <td> 72</td>\n",
        "      <td> 72</td>\n",
        "    </tr>\n",
        "    <tr>\n",
        "      <th>70 </th>\n",
        "      <td> 0</td>\n",
        "      <td> 67</td>\n",
        "      <td> 67</td>\n",
        "    </tr>\n",
        "    <tr>\n",
        "      <th>80 </th>\n",
        "      <td> 0</td>\n",
        "      <td> 59</td>\n",
        "      <td> 60</td>\n",
        "    </tr>\n",
        "    <tr>\n",
        "      <th>90 </th>\n",
        "      <td> 0</td>\n",
        "      <td> 47</td>\n",
        "      <td> 48</td>\n",
        "    </tr>\n",
        "    <tr>\n",
        "      <th>100</th>\n",
        "      <td> 0</td>\n",
        "      <td> 38</td>\n",
        "      <td> 39</td>\n",
        "    </tr>\n",
        "  </tbody>\n",
        "</table>\n",
        "<p>8 rows \u00d7 3 columns</p>\n",
        "</div>"
       ],
       "metadata": {},
       "output_type": "pyout",
       "prompt_number": 54,
       "text": [
        "     1   2   3\n",
        "30   0  96  96\n",
        "40   0  89  89\n",
        "50   0  80  80\n",
        "60   0  72  72\n",
        "70   0  67  67\n",
        "80   0  59  60\n",
        "90   0  47  48\n",
        "100  0  38  39\n",
        "\n",
        "[8 rows x 3 columns]"
       ]
      }
     ],
     "prompt_number": 54
    },
    {
     "cell_type": "markdown",
     "metadata": {},
     "source": [
      "# Problem ??\n",
      "## Group by user_name instead of classification_id\n",
      "\n",
      "I realised that user_ids should provide just the same access to the performed counts, because each classification_id should have exactly one user_id, as they are created when that user clicks on *Submit*, right? \n",
      "At least that's how I understood it.\n",
      "\n",
      "So imagine my surprise when I found out it isn't the same answer. And unfortunately it looks like we have to reduce our dataset even further by apparent multiple submissions of the same classification, but let's see.\n",
      "\n",
      "First, create the respective function to determine counts via the user_name instead of classification_id after grouping for image_id.\n",
      "This first grouping by image_id is the essential step for the determination how often a particular image_id has been worked on, so that doesn't change."
     ]
    },
    {
     "cell_type": "code",
     "collapsed": false,
     "input": [
      "def get_counts_per_user_name(df):\n",
      "    grouping = df.user_name.groupby(df.image_id, sort=False)\n",
      "    counts = grouping.agg(lambda x: x.unique().size)\n",
      "#    counts = counts.order(ascending=False)\n",
      "    return counts"
     ],
     "language": "python",
     "metadata": {},
     "outputs": [],
     "prompt_number": 62
    },
    {
     "cell_type": "code",
     "collapsed": false,
     "input": [
      "counts_by_user = get_counts_per_user_name(df)\n",
      "counts_by_user"
     ],
     "language": "python",
     "metadata": {},
     "outputs": [
      {
       "metadata": {},
       "output_type": "pyout",
       "prompt_number": 63,
       "text": [
        "image_id\n",
        "APF00004hc    144\n",
        "APF00002rq    136\n",
        "APF0000cwl    127\n",
        "APF0000jn4    102\n",
        "APF0000469    122\n",
        "APF0000v73     91\n",
        "APF00008jy    100\n",
        "APF0000sqw    122\n",
        "...\n",
        "APF0001y9h    10\n",
        "APF0001vfg    13\n",
        "APF0001y7l     7\n",
        "APF0001vt6     9\n",
        "APF0001xf7     4\n",
        "APF0001yce     4\n",
        "APF0001vwj     9\n",
        "APF0001vr2     9\n",
        "Length: 98096, dtype: int64"
       ]
      }
     ],
     "prompt_number": 63
    },
    {
     "cell_type": "markdown",
     "metadata": {},
     "source": [
      "Compare that again to the output for classifying per classification_id:"
     ]
    },
    {
     "cell_type": "code",
     "collapsed": false,
     "input": [
      "counts_by_class = get_counts_per_classification_id(df)\n",
      "counts_by_class"
     ],
     "language": "python",
     "metadata": {},
     "outputs": []
    },
    {
     "cell_type": "markdown",
     "metadata": {},
     "source": [
      "So, _not_ the same result! Let's dig deeper.\n",
      "\n",
      "### The subframe known as jp7\n",
      "Focus on one image_id and study what is happening there. I first get a sub-table for the subframe 'jp7' and determine the user_names that worked on that subframe.\n",
      "\n",
      "Then I loop over the names, filtering another sub-part of the table where the current user worked on jp7. \n",
      "According to the hypothesis that a classification_id is created for a user at submisssion time and the idea that a user should not see an image twice, there should only be one classification_id in that sub-part.\n",
      "\n",
      "I am testing that by checking if the unique list of classification_ids has a length $>1$. If it does, I print out the user_name."
     ]
    },
    {
     "cell_type": "code",
     "collapsed": false,
     "input": [
      "jp7 = df[df.image_id == 'APF0000jp7']\n",
      "unique_users = jp7.user_name.unique()\n",
      "# having the list of users that worked on jp7\n",
      "for user in unique_users:\n",
      "    subdf = jp7[jp7.user_name == user]\n",
      "    if len(subdf.classification_id.unique()) > 1:\n",
      "        print user, len(subdf)"
     ],
     "language": "python",
     "metadata": {},
     "outputs": []
    },
    {
     "cell_type": "markdown",
     "metadata": {},
     "source": [
      "Ok, so let's have a look at the data for the first user_name for the subframe jp7"
     ]
    },
    {
     "cell_type": "code",
     "collapsed": false,
     "input": [
      "jp7[jp7.user_name == 'not-logged-in-8d495c463aeffd67c08b2dfc1141f33b']"
     ],
     "language": "python",
     "metadata": {},
     "outputs": []
    },
    {
     "cell_type": "markdown",
     "metadata": {},
     "source": [
      "First note that the creation time of these 2 different classifications is different, so it looks like this user has seen the jp7 subframe more than once.\n",
      "\n",
      "But then when you scroll this html table to the right, you will notice that the submitted object has the exact same coordinates in both classifications? \n",
      "How likely is it, that the user finds the exact same coordinates in less than 60 seconds?\n",
      "\n",
      "So the question is, is this really a new classification and the user has done it twice? Or was the same thing submitted twice? Hopefully Meg knows the answer to that."
     ]
    },
    {
     "cell_type": "markdown",
     "metadata": {},
     "source": [
      "## Some instructive plots\n",
      "\n",
      "### Plot over required constraint\n",
      "\n",
      "I found it instructive to look at how the status of finished data depends on the limit we put on the reached counts per image_id (i.e. subframe).\n",
      "\n",
      "Also, how does it change when looking for unique user_names per image_id instead of unique classification_ids."
     ]
    },
    {
     "cell_type": "code",
     "collapsed": false,
     "input": [
      "results[[2,3]].plot()\n",
      "xlabel('Required number of analyses submitted to be considered \"done\".')\n",
      "ylabel('Current percentage of dataset finished [%]')\n",
      "title(\"Season 2 and 3 status, depending on definition of 'done'.\")\n",
      "savefig('Season2_3_status.png', dpi=200)"
     ],
     "language": "python",
     "metadata": {},
     "outputs": [
      {
       "metadata": {},
       "output_type": "display_data",
       "png": "[encoded data removed]",
       "text": [
        "<matplotlib.figure.Figure at 0x2874d75d0>"
       ]
      }
     ],
     "prompt_number": 82
    },
    {
     "cell_type": "code",
     "collapsed": false,
     "input": [
      "x = range(1,101)\n",
      "per_class = []\n",
      "per_user = []\n",
      "for val in x:\n",
      "    per_class.append(100 * counts_by_class[counts_by_class >= val].size/float(no_all))\n",
      "    per_user.append(100 * counts_by_user[counts_by_user >= val].size/float(no_all))"
     ],
     "language": "python",
     "metadata": {},
     "outputs": []
    },
    {
     "cell_type": "code",
     "collapsed": false,
     "input": [
      "plot(x,per_class)\n",
      "plot(x, per_user)\n",
      "xlabel('Counts constraint for _finished_ criterium')\n",
      "ylabel('Current percent finished [%]')"
     ],
     "language": "python",
     "metadata": {},
     "outputs": []
    },
    {
     "cell_type": "markdown",
     "metadata": {},
     "source": [
      "Ok, so not that big a deal until we require more than 80 classifications to be done.\n",
      "\n",
      "### How do the different existing user counts distribute\n",
      "\n",
      "The method 'value_counts()' basically delivers a histogram on the counts_by_user data series.\n",
      "In other words, it shows how the frequency of classifications distribute over the dataset. It shows an to be expected peak close to 100, because that's what we are aiming now and the system does _today_ not anymore show a subframe that has been seen 100 times.\n",
      "\n",
      "But it also shows quite some _waste_ in citizen power from all the counts that went for counts > 100."
     ]
    },
    {
     "cell_type": "code",
     "collapsed": false,
     "input": [
      "counts_by_user.value_counts()"
     ],
     "language": "python",
     "metadata": {},
     "outputs": [
      {
       "metadata": {},
       "output_type": "pyout",
       "prompt_number": 64,
       "text": [
        "4    5899\n",
        "5    5807\n",
        "3    5444\n",
        "6    5430\n",
        "7    5093\n",
        "8    4497\n",
        "2    4399\n",
        "9    3816\n",
        "...\n",
        "158    4\n",
        "159    3\n",
        "157    3\n",
        "156    3\n",
        "167    2\n",
        "164    1\n",
        "160    1\n",
        "166    1\n",
        "Length: 163, dtype: int64"
       ]
      }
     ],
     "prompt_number": 64
    },
    {
     "cell_type": "code",
     "collapsed": false,
     "input": [
      "counts_by_user.value_counts().plot(style='*')"
     ],
     "language": "python",
     "metadata": {},
     "outputs": [
      {
       "metadata": {},
       "output_type": "pyout",
       "prompt_number": 65,
       "text": [
        "<matplotlib.axes.AxesSubplot at 0x288c08110>"
       ]
      },
      {
       "metadata": {},
       "output_type": "display_data",
       "png": "[encoded data removed]",
       "text": [
        "<matplotlib.figure.Figure at 0x28972c790>"
       ]
      }
     ],
     "prompt_number": 65
    },
    {
     "cell_type": "code",
     "collapsed": false,
     "input": [
      "users_work = df.classification_id.groupby(df.user_name).agg(lambda x: x.unique().size)"
     ],
     "language": "python",
     "metadata": {},
     "outputs": [],
     "prompt_number": 71
    },
    {
     "cell_type": "code",
     "collapsed": false,
     "input": [
      "users_work.order(ascending=False)[:10]"
     ],
     "language": "python",
     "metadata": {},
     "outputs": [
      {
       "metadata": {},
       "output_type": "pyout",
       "prompt_number": 83,
       "text": [
        "user_name\n",
        "gwyneth walker    39376\n",
        "poplar11          37903\n",
        "Paul Johnson      33353\n",
        "Kitharode         24075\n",
        "14int             22055\n",
        "JellyMonster      18797\n",
        "mattlou117        16805\n",
        "chadich           14474\n",
        "tracestokes       12500\n",
        "Ian Mason         12008\n",
        "dtype: int64"
       ]
      }
     ],
     "prompt_number": 83
    },
    {
     "cell_type": "code",
     "collapsed": false,
     "input": [
      "df[df.user_name=='gwyneth walker'].classification_id.value_counts()"
     ],
     "language": "python",
     "metadata": {},
     "outputs": [
      {
       "metadata": {},
       "output_type": "pyout",
       "prompt_number": 81,
       "text": [
        "515dc4e480b0df03d300663f    32\n",
        "51040d8695ad7f3213000001    24\n",
        "5113ada63cc0d343a8002ad4    24\n",
        "51093a9795ad7f4214000001    24\n",
        "511a46a407f67514e7001f91    23\n",
        "50f99d02dea6531c50000001    22\n",
        "510c080a3cc0d379a00064ea    21\n",
        "50f3ff6edea6537aec000001    21\n",
        "...\n",
        "5106db5c95ad7f3f72000001    1\n",
        "5127c6342f48cc51eb00118d    1\n",
        "511680bc934e505554003344    1\n",
        "5108ec68dea6532607000001    1\n",
        "5166b633ebc6ae043e001ac9    1\n",
        "51ab7856e5031d557a03d2af    1\n",
        "51ab7836a507e842a9003147    1\n",
        "51929051d8b0540a7e004f26    1\n",
        "Length: 39376, dtype: int64"
       ]
      }
     ],
     "prompt_number": 81
    },
    {
     "cell_type": "code",
     "collapsed": false,
     "input": [
      "import helper_functions as hf\n",
      "reload(hf)"
     ],
     "language": "python",
     "metadata": {},
     "outputs": [
      {
       "metadata": {},
       "output_type": "pyout",
       "prompt_number": 88,
       "text": [
        "<module 'helper_functions' from 'helper_functions.py'>"
       ]
      }
     ],
     "prompt_number": 88
    },
    {
     "cell_type": "code",
     "collapsed": false,
     "input": [
      "hf.classification_counts_for_user('Kitharode', df).hist?"
     ],
     "language": "python",
     "metadata": {},
     "outputs": [],
     "prompt_number": 93
    },
    {
     "cell_type": "code",
     "collapsed": false,
     "input": [
      "hf.classification_counts_for_user('Paul Johnson', df)"
     ],
     "language": "python",
     "metadata": {},
     "outputs": [
      {
       "metadata": {},
       "output_type": "pyout",
       "prompt_number": 101,
       "text": [
        "50edd5b8737dd507660000e5    34\n",
        "50edd746d71dcd70a000011c    23\n",
        "50edd8902320f2096800000a    13\n",
        "5114f2dcc3b66378480029e7    12\n",
        "50eddc5fcdb2ce0995000055    11\n",
        "50f1c2f9d89f272132000001    10\n",
        "514dd5c3e2b58d04b600115b     9\n",
        "50f44db295ad7f4684000001     9\n",
        "...\n",
        "5112cc753cc0d33478000437    1\n",
        "5116af0276cbad0438001099    1\n",
        "50fb123995ad7f768b000001    1\n",
        "5111634dc3b66315810007a6    1\n",
        "5117ee837e9b095ad9000312    1\n",
        "510fc714c3b66368100044fb    1\n",
        "510051e3dea6533e05000001    1\n",
        "50effb9995e6e47ab2000001    1\n",
        "Length: 33353, dtype: int64"
       ]
      }
     ],
     "prompt_number": 101
    },
    {
     "cell_type": "code",
     "collapsed": false,
     "input": [
      "np.isnan(df.marking)"
     ],
     "language": "python",
     "metadata": {},
     "outputs": [
      {
       "metadata": {},
       "output_type": "pyout",
       "prompt_number": 119,
       "text": [
        "float"
       ]
      }
     ],
     "prompt_number": 119
    },
    {
     "cell_type": "code",
     "collapsed": false,
     "input": [
      "df.marking"
     ],
     "language": "python",
     "metadata": {},
     "outputs": [
      {
       "metadata": {},
       "output_type": "pyout",
       "prompt_number": 112,
       "text": [
        "0    interesting\n",
        "1         blotch\n",
        "2            fan\n",
        "3            fan\n",
        "4         blotch\n",
        "5         blotch\n",
        "6         blotch\n",
        "7            fan\n",
        "...\n",
        "11198926    blotch\n",
        "11198927    blotch\n",
        "11198928    blotch\n",
        "11198929    blotch\n",
        "11198930    blotch\n",
        "11198931    blotch\n",
        "11198932    blotch\n",
        "11198933    blotch\n",
        "Name: marking, Length: 10823544, dtype: object"
       ]
      }
     ],
     "prompt_number": 112
    },
    {
     "cell_type": "code",
     "collapsed": false,
     "input": [
      "s = 'INVESTIGATION OF POLAR SEASONAL FAN DEPOSITS USING CROWDSOURCING'"
     ],
     "language": "python",
     "metadata": {},
     "outputs": [],
     "prompt_number": 9
    },
    {
     "cell_type": "code",
     "collapsed": false,
     "input": [
      "s.title()"
     ],
     "language": "python",
     "metadata": {},
     "outputs": [
      {
       "metadata": {},
       "output_type": "pyout",
       "prompt_number": 10,
       "text": [
        "'Investigation Of Polar Seasonal Fan Deposits Using Crowdsourcing'"
       ]
      }
     ],
     "prompt_number": 10
    },
    {
     "cell_type": "code",
     "collapsed": false,
     "input": [],
     "language": "python",
     "metadata": {},
     "outputs": []
    }
   ],
   "metadata": {}
  }
 ]
}