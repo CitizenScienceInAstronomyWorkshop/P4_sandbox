{
 "cells": [
  {
   "cell_type": "code",
   "execution_count": 2,
   "metadata": {
    "collapsed": true
   },
   "outputs": [],
   "source": [
    "# setup\n",
    "from planet4 import plotting, io\n",
    "from pathlib import Path"
   ]
  },
  {
   "cell_type": "code",
   "execution_count": 9,
   "metadata": {
    "collapsed": true
   },
   "outputs": [],
   "source": [
    "# test_ResultManager_with_p4id\n",
    "resman = plotting.ResultManager('APF0123test', '/testpath')\n",
    "assert resman.fanfile() == Path('/testpath/APF0123test_fans.hdf')\n",
    "assert resman.blotchfile() == Path('/testpath/APF0123test_blotches.hdf')\n",
    "assert resman.fnotchfile == Path('/testpath/APF0123test_fnotches.hdf')"
   ]
  },
  {
   "cell_type": "code",
   "execution_count": 10,
   "metadata": {
    "collapsed": false
   },
   "outputs": [],
   "source": [
    "# test_ResultManager_with_obsid\n",
    "resman = plotting.ResultManager('ESP_123456_0123', '/testpath')\n",
    "assert resman.fanfile() == Path('/testpath/ESP_123456_0123_fans.hdf')\n",
    "assert resman.blotchfile() == Path('/testpath/ESP_123456_0123_blotches.hdf')\n",
    "assert resman.fnotchfile == Path('/testpath/ESP_123456_0123_fnotches.hdf')"
   ]
  },
  {
   "cell_type": "code",
   "execution_count": null,
   "metadata": {
    "collapsed": true
   },
   "outputs": [],
   "source": []
  }
 ],
 "metadata": {
  "kernelspec": {
   "display_name": "Python 3",
   "language": "python",
   "name": "python3"
  },
  "language_info": {
   "codemirror_mode": {
    "name": "ipython",
    "version": 3
   },
   "file_extension": ".py",
   "mimetype": "text/x-python",
   "name": "python",
   "nbconvert_exporter": "python",
   "pygments_lexer": "ipython3",
   "version": "3.5.0"
  }
 },
 "nbformat": 4,
 "nbformat_minor": 0
}
