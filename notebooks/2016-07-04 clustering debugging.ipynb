{
 "cells": [
  {
   "cell_type": "code",
   "execution_count": null,
   "metadata": {},
   "outputs": [],
   "source": [
    "%matplotlib nbagg\n",
    "import seaborn as sns\n",
    "sns.set_context('notebook')"
   ]
  },
  {
   "cell_type": "code",
   "execution_count": null,
   "metadata": {},
   "outputs": [],
   "source": [
    "from planet4 import io, clustering, plotting, markings"
   ]
  },
  {
   "cell_type": "code",
   "execution_count": null,
   "metadata": {},
   "outputs": [],
   "source": [
    "def cluster_and_plot(image_id, eps=10, dynamic=False, angles=False, \n",
    "                     scaler='scale', normalize=True, \n",
    "                     dir_ext='_check1', msf=0.15, data=None):\n",
    "    from planet4 import plotting, clustering\n",
    "    cm = clustering.ClusteringManager(do_dynamic_min_samples=dynamic,\n",
    "                                      include_angle=angles,\n",
    "                                      quiet=False,\n",
    "                                      output_dir='old_DBSCAN'+dir_ext,\n",
    "                                      normalize=normalize,\n",
    "                                      scaler=scaler,\n",
    "                                      min_samples_factor=msf,\n",
    "                                      use_DBSCAN=True,\n",
    "                                      eps=eps)\n",
    "\n",
    "    cm.cluster_image_id(image_id, data=data)\n",
    "    plotting.plot_image_id_pipeline(image_id,\n",
    "                                    save=True, \n",
    "                                    savetitle='dbscan_',\n",
    "                                    cm=cm,\n",
    "                                   )\n",
    "#     plt.close('all')\n",
    "    return dict(id_=image_id)"
   ]
  },
  {
   "cell_type": "code",
   "execution_count": null,
   "metadata": {},
   "outputs": [],
   "source": [
    "def create_and_save_randoms():\n",
    "    myids = np.random.choice(ids, 100)\n",
    "    np.save('myids.npy', myids)"
   ]
  },
  {
   "cell_type": "code",
   "execution_count": null,
   "metadata": {},
   "outputs": [],
   "source": [
    "io.data_root"
   ]
  },
  {
   "cell_type": "code",
   "execution_count": null,
   "metadata": {},
   "outputs": [],
   "source": [
    "myids = np.load('myids.npy')\n",
    "\n",
    "len(myids)"
   ]
  },
  {
   "cell_type": "code",
   "execution_count": null,
   "metadata": {},
   "outputs": [],
   "source": [
    "def do_parallel(func, list_):\n",
    "    from ipyparallel import Client\n",
    "    from nbtools import display_multi_progress\n",
    "    c = Client()\n",
    "    lbview = c.load_balanced_view()\n",
    "    results = lbview.map_async(func, list_)\n",
    "    display_multi_progress(results, list_)"
   ]
  },
  {
   "cell_type": "code",
   "execution_count": null,
   "metadata": {},
   "outputs": [],
   "source": [
    "blotchcols = markings.Blotch.to_average\n",
    "blotchcols\n",
    "fancols = markings.Fan.to_average\n",
    "fancols"
   ]
  },
  {
   "cell_type": "code",
   "execution_count": null,
   "metadata": {},
   "outputs": [],
   "source": [
    "imgid = '1at'\n",
    "imgid = 'dch'\n",
    "# imgid = 'bvc'\n",
    "# imgid = '1dr'\n",
    "# imgid = '1fe'\n",
    "p4id = markings.ImageID(imgid, scope='planet4')"
   ]
  },
  {
   "cell_type": "code",
   "execution_count": null,
   "metadata": {},
   "outputs": [],
   "source": [
    "def normalize_blotch_angle(df):\n",
    "    data = df.copy()\n",
    "    r1_lt_r2 = data.radius_1 < data.radius_2\n",
    "    blotches = data.marking=='blotch'\n",
    "    col_orig = ['radius_1','radius_2']\n",
    "    col_reversed = list(reversed(col_orig))\n",
    "    data.loc[r1_lt_r2&blotches, col_orig] = data.loc[r1_lt_r2&blotches, col_reversed].values\n",
    "    data.loc[r1_lt_r2&blotches, 'angle'] += 90\n",
    "    data.loc[blotches, 'angle'] = data.loc[blotches, 'angle'] % 180\n",
    "    return data "
   ]
  },
  {
   "cell_type": "code",
   "execution_count": null,
   "metadata": {},
   "outputs": [],
   "source": [
    "%time cluster_and_plot(imgid, eps=10, angles=False)"
   ]
  },
  {
   "cell_type": "code",
   "execution_count": null,
   "metadata": {},
   "outputs": [],
   "source": [
    "%time cluster_and_plot(imgid, eps=10, angles=True)"
   ]
  },
  {
   "cell_type": "code",
   "execution_count": null,
   "metadata": {},
   "outputs": [],
   "source": [
    "fans = p4id.get_fans()"
   ]
  },
  {
   "cell_type": "code",
   "execution_count": null,
   "metadata": {},
   "outputs": [],
   "source": [
    "fans.info()"
   ]
  },
  {
   "cell_type": "code",
   "execution_count": null,
   "metadata": {},
   "outputs": [],
   "source": [
    "from planet4.dbscan import DBScanner"
   ]
  },
  {
   "cell_type": "code",
   "execution_count": null,
   "metadata": {},
   "outputs": [],
   "source": [
    "current_X = fans[['x','y']].values"
   ]
  },
  {
   "cell_type": "code",
   "execution_count": null,
   "metadata": {},
   "outputs": [],
   "source": [
    "clusterer = DBScanner(current_X, eps=20, min_samples=3)"
   ]
  },
  {
   "cell_type": "code",
   "execution_count": null,
   "metadata": {},
   "outputs": [],
   "source": [
    "cluster2 = fans.iloc[clusterer.clustered_data[1]].copy()"
   ]
  },
  {
   "cell_type": "code",
   "execution_count": null,
   "metadata": {},
   "outputs": [],
   "source": [
    "fancols = markings.Fan.to_average"
   ]
  },
  {
   "cell_type": "code",
   "execution_count": null,
   "metadata": {},
   "outputs": [],
   "source": [
    "p4id.plot_fans(fans=cluster2)"
   ]
  },
  {
   "cell_type": "code",
   "execution_count": null,
   "metadata": {},
   "outputs": [],
   "source": [
    "cluster2.user_name"
   ]
  },
  {
   "cell_type": "code",
   "execution_count": null,
   "metadata": {},
   "outputs": [],
   "source": [
    "cluster2.at[cluster2.index[0], 'user_name'] = 'user1'"
   ]
  },
  {
   "cell_type": "code",
   "execution_count": null,
   "metadata": {},
   "outputs": [],
   "source": [
    "cluster2.at[cluster2.index[1], 'user_name'] = 'user2'"
   ]
  },
  {
   "cell_type": "code",
   "execution_count": null,
   "metadata": {},
   "outputs": [],
   "source": [
    "cluster2.groupby('user_name').first()"
   ]
  },
  {
   "cell_type": "code",
   "execution_count": null,
   "metadata": {},
   "outputs": [],
   "source": [
    "cluster2.user_name = 'test_user'"
   ]
  },
  {
   "cell_type": "code",
   "execution_count": null,
   "metadata": {},
   "outputs": [],
   "source": [
    "toprint = cluster2[markings.Fan.to_average + ['user_name', 'marking', 'classification_id']]"
   ]
  },
  {
   "cell_type": "code",
   "execution_count": null,
   "metadata": {},
   "outputs": [],
   "source": [
    "toprint.to_clipboard(index=False)"
   ]
  },
  {
   "cell_type": "code",
   "execution_count": null,
   "metadata": {},
   "outputs": [],
   "source": [
    "def add_angle_vector(df):\n",
    "    new = df.copy()\n",
    "    new['xang'] = np.cos(np.deg2rad(df.angle))\n",
    "    new['yang'] = np.sin(np.deg2rad(df.angle))\n",
    "    return new"
   ]
  },
  {
   "cell_type": "code",
   "execution_count": null,
   "metadata": {},
   "outputs": [],
   "source": [
    "fans = add_angle_vector(fans)"
   ]
  },
  {
   "cell_type": "code",
   "execution_count": null,
   "metadata": {},
   "outputs": [],
   "source": [
    "cluster2"
   ]
  },
  {
   "cell_type": "markdown",
   "metadata": {},
   "source": [
    "# testing angle deltas"
   ]
  },
  {
   "cell_type": "code",
   "execution_count": null,
   "metadata": {},
   "outputs": [],
   "source": [
    "def angle_to_xy(angle):\n",
    "    x = np.cos(np.deg2rad(angle))\n",
    "    y = np.sin(np.deg2rad(angle))\n",
    "    return np.vstack([x,y]).T"
   ]
  },
  {
   "cell_type": "code",
   "execution_count": null,
   "metadata": {},
   "outputs": [],
   "source": [
    "from numpy.linalg import norm\n",
    "\n",
    "def get_delta(v1, v2):\n",
    "    try:\n",
    "        difference = v1.values - v2.values\n",
    "    except AttributeError:\n",
    "        difference = v1 - v2\n",
    "    return norm(difference, axis=1)"
   ]
  },
  {
   "cell_type": "code",
   "execution_count": null,
   "metadata": {},
   "outputs": [],
   "source": [
    "get_delta(angle_to_xy(5), angle_to_xy(6))[0]"
   ]
  },
  {
   "cell_type": "code",
   "execution_count": null,
   "metadata": {},
   "outputs": [],
   "source": [
    "def cluster_angles(angles, delta_angle):\n",
    "    dist_per_degree = 0.017453070996747883\n",
    "    X = angle_to_xy(angles)\n",
    "    clusterer = DBScanner(X, eps=delta_angle*dist_per_degree, min_samples=3)\n",
    "    return clusterer"
   ]
  },
  {
   "cell_type": "code",
   "execution_count": null,
   "metadata": {},
   "outputs": [],
   "source": [
    "clusterer = cluster_angles([5,4,3, 16,17,18])"
   ]
  },
  {
   "cell_type": "code",
   "execution_count": null,
   "metadata": {},
   "outputs": [],
   "source": [
    "clusterer.labels"
   ]
  },
  {
   "cell_type": "code",
   "execution_count": null,
   "metadata": {},
   "outputs": [],
   "source": []
  },
  {
   "cell_type": "code",
   "execution_count": null,
   "metadata": {},
   "outputs": [],
   "source": []
  },
  {
   "cell_type": "code",
   "execution_count": null,
   "metadata": {},
   "outputs": [],
   "source": [
    "dbscanner.reduced_data[0]"
   ]
  },
  {
   "cell_type": "markdown",
   "metadata": {},
   "source": [
    "this means all ellipses were clustered together. eps=10 picks 3 out of these 6."
   ]
  },
  {
   "cell_type": "code",
   "execution_count": null,
   "metadata": {},
   "outputs": [],
   "source": [
    "clusterdata = data.iloc[dbscanner.reduced_data[0]]"
   ]
  },
  {
   "cell_type": "markdown",
   "metadata": {},
   "source": [
    "so clusterdata is just the same as the input data, i just repeat the exact same code steps here for consistency."
   ]
  },
  {
   "cell_type": "code",
   "execution_count": null,
   "metadata": {},
   "outputs": [],
   "source": [
    "clusterdata[blotchcols]"
   ]
  },
  {
   "cell_type": "code",
   "execution_count": null,
   "metadata": {},
   "outputs": [],
   "source": []
  },
  {
   "cell_type": "code",
   "execution_count": null,
   "metadata": {},
   "outputs": [],
   "source": [
    "meandata = clusterdata.mean()\n",
    "meandata"
   ]
  },
  {
   "cell_type": "code",
   "execution_count": null,
   "metadata": {},
   "outputs": [],
   "source": [
    "from scipy.stats import circmean"
   ]
  },
  {
   "cell_type": "code",
   "execution_count": null,
   "metadata": {},
   "outputs": [],
   "source": [
    "meandata.angle = circmean(clusterdata.angle, high=180)"
   ]
  },
  {
   "cell_type": "code",
   "execution_count": null,
   "metadata": {},
   "outputs": [],
   "source": [
    "meandata"
   ]
  },
  {
   "cell_type": "code",
   "execution_count": null,
   "metadata": {},
   "outputs": [],
   "source": [
    "from sklearn.preprocessing import StandardScaler, robust_scale\n",
    "\n",
    "scaler = StandardScaler().fit(X)\n",
    "\n",
    "tX = robust_scale(X)"
   ]
  },
  {
   "cell_type": "code",
   "execution_count": null,
   "metadata": {},
   "outputs": [],
   "source": [
    "import hdbscan\n",
    "def do_hdbscan(min_cluster, min_samples=None):\n",
    "    clusterer = hdbscan.HDBSCAN(min_cluster_size=min_cluster, \n",
    "                                approx_min_span_tree=False,\n",
    "                                min_samples=min_samples,\n",
    "                               )\n",
    "\n",
    "    imgid.plot_fans()\n",
    "\n",
    "    db = clusterer.fit(tX)\n",
    "    core_samples_mask = np.zeros_like(db.labels_, dtype=bool)\n",
    "    core_samples_mask[db.probabilities_ > 0.75] = True\n",
    "    labels = db.labels_\n",
    "\n",
    "    # Number of clusters in labels, ignoring noise if present.\n",
    "    n_clusters_ = len(set(labels)) - (1 if -1 in labels else 0)\n",
    "\n",
    "    unique_labels = set(labels)\n",
    "    colors = plt.cm.Spectral(np.linspace(0, 1, len(unique_labels)))\n",
    "    for k, col in zip(unique_labels, colors):\n",
    "        if k == -1:\n",
    "            # Black used for noise.\n",
    "            col = 'k'\n",
    "\n",
    "        class_member_mask = (labels == k)\n",
    "\n",
    "        xy = X[class_member_mask & core_samples_mask]\n",
    "        plt.plot(xy[:, 0], xy[:, 1], 'o', markerfacecolor=col,\n",
    "                 markeredgecolor='k', markersize=14)\n",
    "\n",
    "        xy = X[class_member_mask & ~core_samples_mask]\n",
    "        plt.plot(xy[:, 0], xy[:, 1], 'o', markerfacecolor=col,\n",
    "                 markeredgecolor='k', markersize=6)\n",
    "\n",
    "    plt.title('Estimated number of clusters: %d' % n_clusters_)\n",
    "    \n",
    "    reduced_data = []\n",
    "    for k in unique_labels:\n",
    "        class_member_mask = (labels == k)\n",
    "        if k == -1:\n",
    "            continue\n",
    "        else:\n",
    "            reduced_data.append(class_member_mask & core_samples_mask)\n",
    "    return reduced_data"
   ]
  },
  {
   "cell_type": "code",
   "execution_count": null,
   "metadata": {},
   "outputs": [],
   "source": [
    "reduced_data = do_hdbscan(4, 1)"
   ]
  },
  {
   "cell_type": "code",
   "execution_count": null,
   "metadata": {},
   "outputs": [],
   "source": [
    "blotches[reduced_data[0]]['x y'.split()]"
   ]
  },
  {
   "cell_type": "code",
   "execution_count": null,
   "metadata": {},
   "outputs": [],
   "source": [
    "tX.shape"
   ]
  },
  {
   "cell_type": "code",
   "execution_count": null,
   "metadata": {},
   "outputs": [],
   "source": [
    "plt.figure()\n",
    "db.condensed_tree_.plot(select_clusters=True)"
   ]
  },
  {
   "cell_type": "code",
   "execution_count": null,
   "metadata": {},
   "outputs": [],
   "source": [
    "cm.dbname"
   ]
  },
  {
   "cell_type": "code",
   "execution_count": null,
   "metadata": {},
   "outputs": [],
   "source": [
    "db = io.DBManager()"
   ]
  },
  {
   "cell_type": "code",
   "execution_count": null,
   "metadata": {},
   "outputs": [],
   "source": [
    "data = db.get_image_id_markings('bvc')"
   ]
  },
  {
   "cell_type": "code",
   "execution_count": null,
   "metadata": {},
   "outputs": [],
   "source": [
    "n_class_old = data.classification_id.nunique()\n",
    "n_class_old"
   ]
  },
  {
   "cell_type": "code",
   "execution_count": null,
   "metadata": {},
   "outputs": [],
   "source": [
    "# number of classifications that include fan and blotches\n",
    "f1 = data.marking == 'fan'\n",
    "f2 = data.marking == 'blotch'\n",
    "n_class_fb = data[f1 | f2].classification_id.nunique()\n",
    "n_class_fb"
   ]
  },
  {
   "cell_type": "code",
   "execution_count": null,
   "metadata": {},
   "outputs": [],
   "source": [
    "data=data[data.marking=='blotch']"
   ]
  },
  {
   "cell_type": "code",
   "execution_count": null,
   "metadata": {},
   "outputs": [],
   "source": [
    "plotting.plot_raw_blotches('bvc')"
   ]
  },
  {
   "cell_type": "code",
   "execution_count": null,
   "metadata": {},
   "outputs": [],
   "source": [
    "fans.plot(kind='scatter', x='x',y='y')\n",
    "plt.gca().invert_yaxis()"
   ]
  },
  {
   "cell_type": "code",
   "execution_count": null,
   "metadata": {},
   "outputs": [],
   "source": [
    "fx1 = data.x < 400 \n",
    "fx2 = data.x > 300\n",
    "fy1 = data.y_R > 300\n",
    "fy2 = data.y_R < 400"
   ]
  },
  {
   "cell_type": "code",
   "execution_count": null,
   "metadata": {},
   "outputs": [],
   "source": [
    "data = data.reset_index()"
   ]
  },
  {
   "cell_type": "code",
   "execution_count": null,
   "metadata": {},
   "outputs": [],
   "source": [
    "data[fx1 & fx2 & fy1 & fy2].angle"
   ]
  },
  {
   "cell_type": "code",
   "execution_count": null,
   "metadata": {},
   "outputs": [],
   "source": [
    "cm.dbscanner.reduced_data"
   ]
  },
  {
   "cell_type": "code",
   "execution_count": null,
   "metadata": {},
   "outputs": [],
   "source": []
  }
 ],
 "metadata": {
  "anaconda-cloud": {},
  "kernelspec": {
   "display_name": "Python [conda env:stable]",
   "language": "python",
   "name": "conda-env-stable-py"
  },
  "language_info": {
   "codemirror_mode": {
    "name": "ipython",
    "version": 3
   },
   "file_extension": ".py",
   "mimetype": "text/x-python",
   "name": "python",
   "nbconvert_exporter": "python",
   "pygments_lexer": "ipython3",
   "version": "3.5.2"
  }
 },
 "nbformat": 4,
 "nbformat_minor": 0
}
