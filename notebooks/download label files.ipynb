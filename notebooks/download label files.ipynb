{
 "cells": [
  {
   "cell_type": "markdown",
   "metadata": {
    "toc": "true"
   },
   "source": [
    "<h1>Table of Contents<span class=\"tocSkip\"></span></h1>\n",
    "<div class=\"toc\" style=\"margin-top: 1em;\"><ul class=\"toc-item\"></ul></div>"
   ]
  },
  {
   "cell_type": "code",
   "execution_count": null,
   "metadata": {},
   "outputs": [],
   "source": [
    "from planet4 import region_data"
   ]
  },
  {
   "cell_type": "code",
   "execution_count": null,
   "metadata": {},
   "outputs": [],
   "source": [
    "from hirise_tools.downloads import get_rdr_color_label, download_RED_product\n",
    "import hirise_tools as ht"
   ]
  },
  {
   "cell_type": "code",
   "execution_count": null,
   "metadata": {},
   "outputs": [],
   "source": [
    "# regions = ['Giza', 'Ithaca', 'Manhattan2', 'Inca']\n",
    "# regions.remove('Inca')\n",
    "regions = ['Potsdam']\n"
   ]
  },
  {
   "cell_type": "code",
   "execution_count": null,
   "metadata": {},
   "outputs": [],
   "source": [
    "seasons = ['season2', 'season3']"
   ]
  },
  {
   "cell_type": "code",
   "execution_count": null,
   "metadata": {},
   "outputs": [],
   "source": [
    "get_rdr_color_label(obsid)"
   ]
  },
  {
   "cell_type": "code",
   "execution_count": null,
   "metadata": {},
   "outputs": [],
   "source": [
    "root = '/Volumes/Data/hirise/p4_input'"
   ]
  },
  {
   "cell_type": "code",
   "execution_count": null,
   "metadata": {},
   "outputs": [],
   "source": [
    "from nbtools import execute_in_parallel"
   ]
  },
  {
   "cell_type": "code",
   "execution_count": null,
   "metadata": {},
   "outputs": [],
   "source": [
    "for region in regions:\n",
    "    print(region)\n",
    "    for season in seasons:\n",
    "        print(season)\n",
    "        reg = getattr(region_data, region)\n",
    "        seas = getattr(reg, season)\n",
    "        execute_in_parallel(get_rdr_color_label, seas)"
   ]
  },
  {
   "cell_type": "code",
   "execution_count": null,
   "metadata": {},
   "outputs": [],
   "source": [
    "def get_p4_hirise_data(obsid):\n",
    "    from hirise_tools.downloads import download_RED_product\n",
    "    root = '/Volumes/Data/hirise/p4_input'\n",
    "    for ccdno in [4,5]:\n",
    "        for channel in [0, 1]:\n",
    "            download_RED_product(obsid, ccdno, channel, saveroot=root)"
   ]
  },
  {
   "cell_type": "code",
   "execution_count": null,
   "metadata": {},
   "outputs": [],
   "source": [
    "from nbtools import display_multi_progress\n",
    "for region in regions:\n",
    "    print(region)\n",
    "    for season in seasons:\n",
    "        print(season)\n",
    "        reg = getattr(region_data, region)\n",
    "        seas = getattr(reg, season)\n",
    "        lbview.map_async(get_p4_hirise_data, seas)\n",
    "        display_multi_progress?"
   ]
  },
  {
   "cell_type": "code",
   "execution_count": null,
   "metadata": {},
   "outputs": [],
   "source": [
    "for region in regions:\n",
    "    print(region)\n",
    "    for season in seasons:\n",
    "        print(season)\n",
    "        reg = getattr(region_data, region)\n",
    "        seas = getattr(reg, season)\n",
    "        print(sorted(seas))"
   ]
  },
  {
   "cell_type": "code",
   "execution_count": null,
   "metadata": {},
   "outputs": [],
   "source": []
  }
 ],
 "metadata": {
  "kernelspec": {
   "display_name": "Python [conda env:stable]",
   "language": "python",
   "name": "conda-env-stable-py"
  },
  "language_info": {
   "codemirror_mode": {
    "name": "ipython",
    "version": 3
   },
   "file_extension": ".py",
   "mimetype": "text/x-python",
   "name": "python",
   "nbconvert_exporter": "python",
   "pygments_lexer": "ipython3",
   "version": "3.6.3"
  },
  "toc": {
   "nav_menu": {
    "height": "12px",
    "width": "252px"
   },
   "number_sections": false,
   "sideBar": false,
   "skip_h1_title": false,
   "toc_cell": true,
   "toc_position": {},
   "toc_section_display": "block",
   "toc_window_display": true
  }
 },
 "nbformat": 4,
 "nbformat_minor": 1
}
