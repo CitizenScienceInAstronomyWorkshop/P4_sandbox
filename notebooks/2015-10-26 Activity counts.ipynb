{
 "cells": [
  {
   "cell_type": "code",
   "execution_count": 0,
   "metadata": {
    "collapsed": false
   },
   "outputs": [],
   "source": [
    "from planet4 import region_data, io\n",
    "from pathlib import Path"
   ]
  },
  {
   "cell_type": "code",
   "execution_count": 0,
   "metadata": {
    "collapsed": false
   },
   "outputs": [],
   "source": [
    "root = io.analysis_folder() / 'inca_s23_0.5cut_applied/'"
   ]
  },
  {
   "cell_type": "code",
   "execution_count": 0,
   "metadata": {
    "collapsed": false
   },
   "outputs": [],
   "source": [
    "fan_fnames = list(root.glob(\"*_fans_latlons.csv\"))"
   ]
  },
  {
   "cell_type": "code",
   "execution_count": 0,
   "metadata": {
    "collapsed": false
   },
   "outputs": [],
   "source": [
    "blotch_fnames = list(root.glob(\"*_blotches_latlons.csv\"))"
   ]
  },
  {
   "cell_type": "code",
   "execution_count": 0,
   "metadata": {
    "collapsed": true
   },
   "outputs": [],
   "source": [
    "from planet4 import markings"
   ]
  },
  {
   "cell_type": "code",
   "execution_count": 0,
   "metadata": {
    "collapsed": true
   },
   "outputs": [],
   "source": [
    "def get_marking(line, cut=0.8):\n",
    "    data = []\n",
    "    for marking in ['fan_','blotch_']:\n",
    "        m = line[line.index.str.startswith(marking)]\n",
    "        data.append(m.rename_axis(lambda x: x[x.index('_')+1:]))\n",
    "    fnotch = markings.Fnotch(line.fnotch_value, data[0], data[1])\n",
    "    return fnotch.get_marking(cut)"
   ]
  },
  {
   "cell_type": "code",
   "execution_count": 0,
   "metadata": {
    "collapsed": true
   },
   "outputs": [],
   "source": [
    "def get_final_markings_counts(img_name, cut=0.5):\n",
    "    # writing in dictionary here b/c later I convert it to pd.DataFrame\n",
    "    # for which a dictionary is a natural input format\n",
    "    d = {}\n",
    "    d['image_name'] = img_name\n",
    "    blotch_fname = root / '{}_blotches_latlons.csv'.format(img_name)\n",
    "    d['n_blotches'] = len(pd.read_csv(str(blotch_fname)))\n",
    "    fan_fname = root / '{}_fans_latlons.csv'.format(img_name)\n",
    "    d['n_fans'] = len(pd.read_csv(str(fan_fname)))\n",
    "    \n",
    "    return d"
   ]
  },
  {
   "cell_type": "code",
   "execution_count": 0,
   "metadata": {
    "collapsed": false
   },
   "outputs": [],
   "source": [
    "get_final_markings_counts('ESP_020115_0985')"
   ]
  },
  {
   "cell_type": "code",
   "execution_count": 0,
   "metadata": {
    "collapsed": false
   },
   "outputs": [],
   "source": [
    "results = []\n",
    "from IPython.display import display\n",
    "from ipywidgets import IntProgress\n",
    "t = IntProgress(min=0, max=len(region_data.Inca.season2)-1)\n",
    "display(t)\n",
    "for i, img_name in enumerate(region_data.Inca.season2):\n",
    "    t.value = i\n",
    "    try:\n",
    "        results.append(get_final_markings_counts(img_name))\n",
    "    except OSError:\n",
    "        continue\n",
    "season2 = pd.DataFrame(results).sort_values(by='image_name')"
   ]
  },
  {
   "cell_type": "code",
   "execution_count": 0,
   "metadata": {
    "collapsed": false
   },
   "outputs": [],
   "source": [
    "results = []\n",
    "from IPython.display import display\n",
    "from ipywidgets import IntProgress\n",
    "t = IntProgress(min=0, max=len(region_data.Inca.season3)-1)\n",
    "display(t)\n",
    "for i, img_name in enumerate(region_data.Inca.season3):\n",
    "    t.value = i\n",
    "    try:\n",
    "        results.append(get_final_markings_counts(img_name))\n",
    "    except OSError:\n",
    "        continue\n",
    "season3 = pd.DataFrame(results).sort_values(by='image_name')"
   ]
  },
  {
   "cell_type": "code",
   "execution_count": 0,
   "metadata": {
    "collapsed": false
   },
   "outputs": [],
   "source": [
    "season2.info()"
   ]
  },
  {
   "cell_type": "code",
   "execution_count": 0,
   "metadata": {
    "collapsed": true
   },
   "outputs": [],
   "source": [
    "%matplotlib inline"
   ]
  },
  {
   "cell_type": "code",
   "execution_count": 0,
   "metadata": {
    "collapsed": true
   },
   "outputs": [],
   "source": [
    "metadata = pd.read_csv(\"/Users/klay6683/Dropbox/data/planet4/P4_10-18-15_H_lat_lng.csv\")"
   ]
  },
  {
   "cell_type": "code",
   "execution_count": 0,
   "metadata": {
    "collapsed": false
   },
   "outputs": [],
   "source": [
    "metadata"
   ]
  },
  {
   "cell_type": "code",
   "execution_count": 0,
   "metadata": {
    "collapsed": true
   },
   "outputs": [],
   "source": [
    "from hirise.hirise_tools import get_rdr_label, labels_root"
   ]
  },
  {
   "cell_type": "code",
   "execution_count": 0,
   "metadata": {
    "collapsed": true
   },
   "outputs": [],
   "source": [
    "import pvl\n",
    "def get_nlines_from_label(labelfname):\n",
    "    module = pvl.load(str(labelfname))\n",
    "    return module['UNCOMPRESSED_FILE']['IMAGE']['LINE_SAMPLES']"
   ]
  },
  {
   "cell_type": "code",
   "execution_count": 0,
   "metadata": {
    "collapsed": false
   },
   "outputs": [],
   "source": [
    "p = labels_root()"
   ]
  },
  {
   "cell_type": "code",
   "execution_count": 0,
   "metadata": {
    "collapsed": true
   },
   "outputs": [],
   "source": [
    "metadata['labelpath'] = metadata.HiRISE_image.map(lambda x: p / (x + '_RED.LBL'))"
   ]
  },
  {
   "cell_type": "code",
   "execution_count": 0,
   "metadata": {
    "collapsed": false
   },
   "outputs": [],
   "source": [
    "metadata['nsamples'] = metadata.labelpath.map(get_nlines_from_label)"
   ]
  },
  {
   "cell_type": "code",
   "execution_count": 0,
   "metadata": {
    "collapsed": true
   },
   "outputs": [],
   "source": [
    "metadata.set_index('HiRISE_image', inplace=True)"
   ]
  },
  {
   "cell_type": "code",
   "execution_count": 0,
   "metadata": {
    "collapsed": false
   },
   "outputs": [],
   "source": [
    "season2.set_index('image_name', inplace=True)\n",
    "season3.set_index('image_name', inplace=True)"
   ]
  },
  {
   "cell_type": "code",
   "execution_count": 0,
   "metadata": {
    "collapsed": false
   },
   "outputs": [],
   "source": [
    "season2 = season2.join(metadata['solar_longitude binning nsamples'.split()])"
   ]
  },
  {
   "cell_type": "code",
   "execution_count": 0,
   "metadata": {
    "collapsed": false
   },
   "outputs": [],
   "source": [
    "season3 = season3.join(metadata['solar_longitude binning nsamples'.split()])"
   ]
  },
  {
   "cell_type": "code",
   "execution_count": 0,
   "metadata": {
    "collapsed": false
   },
   "outputs": [],
   "source": [
    "season2.set_index('solar_longitude', inplace=True)"
   ]
  },
  {
   "cell_type": "code",
   "execution_count": 0,
   "metadata": {
    "collapsed": false
   },
   "outputs": [],
   "source": [
    "season3.set_index('solar_longitude', inplace=True)"
   ]
  },
  {
   "cell_type": "code",
   "execution_count": 0,
   "metadata": {
    "collapsed": false
   },
   "outputs": [],
   "source": [
    "season2['both'] = season2.n_blotches + season2.n_fans"
   ]
  },
  {
   "cell_type": "code",
   "execution_count": 0,
   "metadata": {
    "collapsed": false
   },
   "outputs": [],
   "source": [
    "season3['both'] = season3.n_blotches + season3.n_fans"
   ]
  },
  {
   "cell_type": "code",
   "execution_count": 0,
   "metadata": {
    "collapsed": false
   },
   "outputs": [],
   "source": [
    "season2['scaled'] = season2.both / season2.nsamples / season2.binning"
   ]
  },
  {
   "cell_type": "code",
   "execution_count": 0,
   "metadata": {
    "collapsed": true
   },
   "outputs": [],
   "source": [
    "season3['scaled'] = season3.both / season3.nsamples / season3.binning"
   ]
  },
  {
   "cell_type": "code",
   "execution_count": 0,
   "metadata": {
    "collapsed": false
   },
   "outputs": [],
   "source": [
    "%matplotlib notebook\n",
    "import seaborn as sns\n",
    "sns.set()"
   ]
  },
  {
   "cell_type": "code",
   "execution_count": 0,
   "metadata": {
    "collapsed": false,
    "scrolled": false
   },
   "outputs": [],
   "source": [
    "season2.scaled.plot(style='*', ms=14, \n",
    "                    xlim=(season3.index.min(), season3.index.max()), label='season2')\n",
    "season3.scaled.plot(style='*', color='red', label='season3', ms=14)\n",
    "plt.legend(loc='best')\n",
    "plt.ylabel('Scaled prevalence of markings')\n",
    "plt.title(\"Number of markings in Inca City region,scaled for binning and image size.\")\n",
    "plt.savefig('/Users/klay6683/Desktop/inca_s23.pdf')"
   ]
  },
  {
   "cell_type": "code",
   "execution_count": 0,
   "metadata": {
    "collapsed": false
   },
   "outputs": [],
   "source": [
    "season2"
   ]
  },
  {
   "cell_type": "code",
   "execution_count": 0,
   "metadata": {
    "collapsed": false
   },
   "outputs": [],
   "source": [
    "season3"
   ]
  },
  {
   "cell_type": "code",
   "execution_count": 0,
   "metadata": {
    "collapsed": false
   },
   "outputs": [],
   "source": [
    "season3.scaled.plot()"
   ]
  },
  {
   "cell_type": "code",
   "execution_count": 0,
   "metadata": {
    "collapsed": true
   },
   "outputs": [],
   "source": []
  }
 ],
 "metadata": {
  "kernelspec": {
   "display_name": "Python 2",
   "language": "python",
   "name": "python2"
  },
  "language_info": {
   "codemirror_mode": {
    "name": "ipython",
    "version": 2
   },
   "file_extension": ".py",
   "mimetype": "text/x-python",
   "name": "python",
   "nbconvert_exporter": "python",
   "pygments_lexer": "ipython2",
   "version": "2.7.10"
  }
 },
 "nbformat": 4,
 "nbformat_minor": 0
}