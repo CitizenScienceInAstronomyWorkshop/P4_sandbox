{
 "cells": [
  {
   "cell_type": "code",
   "execution_count": 1,
   "metadata": {
    "collapsed": false
   },
   "outputs": [],
   "source": [
    "from __future__ import print_function, division\n",
    "from pysis.util import file_variations\n",
    "import os\n",
    "from pysis import CubeFile\n",
    "from pysis.isis import cubenorm, handmos, hi2isis, hical, histitch, spiceinit, getkey\n",
    "import subprocess as sp\n",
    "from pysis.exceptions import ProcessError\n",
    "import sys\n",
    "\n",
    "# case 2: turn IMG to cub, give information of it (spiceinit), don't calibrate it\n",
    "def nocal_hi(img_name):\n",
    "    (img_name, cub_name) = file_variations(img_name, ['.IMG', '.cub'])\n",
    "    # something wrong here, if just put one extension in it, the name will contain brankets\n",
    "    try:\n",
    "        hi2isis(from_=img_name, to=cub_name)\n",
    "        spiceinit(from_=cub_name)\n",
    "    except ProcessError as e:\n",
    "        print(e.stdout)\n",
    "        print(e.stderr)\n",
    "        sys.exit()\n",
    "\n",
    "# stitch _0 and _1 together and normalize it\n",
    "def stit_norm_hi(img1, img2):\n",
    "    cub = img1[0:20]+'.cub'\n",
    "    (cub, norm) = file_variations(cub, ['.cub', '.norm.cub'])   # same here\n",
    "    try:\n",
    "        histitch(from1=img1, from2=img2, to=cub)\n",
    "        cubenorm(from_=cub, to=norm)\n",
    "    except ProcessError as e:\n",
    "        print(e.stdout)\n",
    "        print(e.stderr)\n",
    "        sys.exit()\n",
    "        \n",
    "def hi2mos(nm):\n",
    "    os.chdir('/Users/klay6683/data/planet4/season2_3_EDRs')\n",
    "    print('Processing the EDR data associated with '+nm)\n",
    "\n",
    "    mos_name = 'redMosaic'+nm+'.cub'\n",
    "#     status = os.path.isfile(mos_name)\n",
    "    status = False\n",
    "    if status is True:\n",
    "        print('skip processing '+nm+'...')\n",
    "        return nm, False\n",
    "    else:\n",
    "        nm = nm+'_RED'\n",
    "        channel = [4, 5]\n",
    "        ccd = [0, 1]\n",
    "\n",
    "        for c in channel:\n",
    "            for chip in ccd:\n",
    "                nocal_hi(nm+str(c)+'_'+str(chip)+'.IMG')\n",
    "\n",
    "            stit_norm_hi(nm+str(c)+'_0.cub', nm+str(c)+'_1.cub')\n",
    "\n",
    "        # handmos part\n",
    "        im0 = CubeFile.open(nm+'4.norm.cub')  # use CubeFile to get lines and samples\n",
    "        # use linux commands to get binning mode\n",
    "        bin = int(getkey(from_=nm+'4.norm.cub', objname=\"isiscube\", grpname=\"instrument\",\n",
    "                  keyword=\"summing\"))\n",
    "\n",
    "        # because there is a gap btw RED4 & 5, nsamples need to first make space\n",
    "        # for 2 cubs then cut some overlap pixels\n",
    "        try:\n",
    "            handmos(from_=nm+'4.norm.cub', mosaic=mos_name, nbands=1, outline=1, outband=1,\n",
    "                    create='Y', outsample=1, nsamples=im0.samples*2-48//bin, \n",
    "                    nlines=im0.lines)\n",
    "        except ProcessError as e:\n",
    "            print(\"STDOUT:\", e.stdout)\n",
    "            print(\"STDERR:\", e.stderr)\n",
    "        im0 = CubeFile.open(nm+'5.norm.cub')  # use CubeFile to get lines and samples\n",
    "\n",
    "        # deal with the overlap gap between RED4 & 5:\n",
    "        handmos(from_=nm+'5.norm.cub', mosaic=mos_name, outline=1, outband=1, create='N',\n",
    "                outsample=im0.samples-48//bin+1)  \n",
    "        return nm, True    \n",
    "\n",
    "\n",
    "def cleanup(data_dir, img):\n",
    "    # do some cleanup removing temporary files\n",
    "    # removing ISIS cubes made during processing that aren't needed\n",
    "    fs = glob.glob(data_dir+'/'+img+'_RED*.cub')\n",
    "\n",
    "    print(fs)\n",
    "    for f in fs:\n",
    "        os.remove(f)\n",
    "\n",
    "    # removing the normalized files\n",
    "\n",
    "    fs = glob.glob(data_dir+'/'+img+'_RED*.norm.cub')\n",
    "    for f in fs:\n",
    "        os.remove(f)\n",
    "\n",
    "    # remove the raw EDR data\n",
    "\n",
    "    fs = glob.glob(data_dir+'/'+img+'_RED*.IMG')\n",
    "    for f in fs:\n",
    "        os.remove(f)\n",
    "\n"
   ]
  },
  {
   "cell_type": "code",
   "execution_count": 3,
   "metadata": {
    "collapsed": false
   },
   "outputs": [
    {
     "data": {
      "text/plain": [
       "0    ESP_013113_0985\n",
       "1    ESP_013034_0985\n",
       "2    ESP_012889_0985\n",
       "3    ESP_012744_0985\n",
       "4    ESP_012691_0985\n",
       "Name: 0, dtype: object"
      ]
     },
     "execution_count": 3,
     "metadata": {},
     "output_type": "execute_result"
    }
   ],
   "source": [
    "img_names = pd.read_table('/Users/klay6683/Dropbox/data/planet4/season2_3_image_names.txt',\n",
    "                          header=None, squeeze=True)\n",
    "img_names.head()"
   ]
  },
  {
   "cell_type": "code",
   "execution_count": 5,
   "metadata": {
    "collapsed": false
   },
   "outputs": [
    {
     "name": "stdout",
     "output_type": "stream",
     "text": [
      "/Users/klay6683/data/planet4/season2_3_EDRs\n"
     ]
    }
   ],
   "source": [
    "cd ~/data/planet4/season2_3_EDRs/"
   ]
  },
  {
   "cell_type": "code",
   "execution_count": 107,
   "metadata": {
    "collapsed": false
   },
   "outputs": [],
   "source": [
    "from ipyparallel import Client\n",
    "c = Client()"
   ]
  },
  {
   "cell_type": "code",
   "execution_count": 108,
   "metadata": {
    "collapsed": true
   },
   "outputs": [],
   "source": [
    "lbview = c.load_balanced_view()\n",
    "dview = c.direct_view()"
   ]
  },
  {
   "cell_type": "code",
   "execution_count": 8,
   "metadata": {
    "collapsed": true
   },
   "outputs": [],
   "source": [
    "%%px \n",
    "from __future__ import print_function,division\n",
    "from pysis.util import file_variations\n",
    "import os\n",
    "from pysis import CubeFile\n",
    "from pysis.isis import cubenorm, handmos, hi2isis, hical, histitch, spiceinit, getkey\n",
    "import subprocess as sp\n",
    "from pysis.exceptions import ProcessError\n",
    "import sys"
   ]
  },
  {
   "cell_type": "code",
   "execution_count": 9,
   "metadata": {
    "collapsed": false
   },
   "outputs": [
    {
     "data": {
      "text/plain": [
       "<AsyncResult: finished>"
      ]
     },
     "execution_count": 9,
     "metadata": {},
     "output_type": "execute_result"
    }
   ],
   "source": [
    "dview.push({'nocal_hi':nocal_hi,\n",
    "            'stit_norm_hi':stit_norm_hi})"
   ]
  },
  {
   "cell_type": "code",
   "execution_count": 12,
   "metadata": {
    "collapsed": true
   },
   "outputs": [],
   "source": [
    "results = lbview.map_async(hi2mos, img_names)"
   ]
  },
  {
   "cell_type": "code",
   "execution_count": 8,
   "metadata": {
    "collapsed": true
   },
   "outputs": [],
   "source": [
    "from iuvs.multitools import nb_progress_display"
   ]
  },
  {
   "cell_type": "code",
   "execution_count": 14,
   "metadata": {
    "collapsed": false
   },
   "outputs": [],
   "source": [
    "nb_progress_display(results, img_names)"
   ]
  },
  {
   "cell_type": "code",
   "execution_count": 15,
   "metadata": {
    "collapsed": false
   },
   "outputs": [
    {
     "name": "stdout",
     "output_type": "stream",
     "text": [
      "('ESP_013113_0985_RED', True)\n",
      "('ESP_013034_0985_RED', True)\n",
      "('ESP_012889_0985_RED', True)\n",
      "('ESP_012744_0985_RED', True)\n",
      "('ESP_012691_0985_RED', True)\n",
      "('ESP_012467_0985_RED', True)\n",
      "('ESP_012322_0985_RED', True)\n",
      "('ESP_012256_0985_RED', True)\n",
      "('ESP_011900_0985_RED', True)\n",
      "('ESP_011729_0985_RED', True)\n",
      "('ESP_011702_0985_RED', True)\n",
      "('ESP_011623_0985_RED', True)\n",
      "('ESP_011557_0985_RED', True)\n",
      "('ESP_011544_0985_RED', True)\n",
      "('ESP_011491_0985_RED', True)\n",
      "('ESP_022699_0985_RED', True)\n",
      "('ESP_021460_0985_RED', True)\n",
      "('ESP_020959_0985_RED', True)\n",
      "('ESP_020748_0985_RED', True)\n",
      "('ESP_020194_0985_RED', True)\n",
      "('ESP_020128_0985_RED', True)\n",
      "('ESP_020049_0985_RED', True)\n",
      "('ESP_021829_0985_RED', True)\n",
      "('ESP_021684_0985_RED', True)\n",
      "('ESP_021671_0985_RED', True)\n",
      "('ESP_021605_0985_RED', True)\n",
      "('ESP_021526_0985_RED', True)\n",
      "('ESP_020827_0985_RED', True)\n",
      "('ESP_020339_0985_RED', True)\n",
      "('ESP_020115_0985_RED', True)\n"
     ]
    }
   ],
   "source": [
    "for res in results:\n",
    "    print(res)"
   ]
  },
  {
   "cell_type": "markdown",
   "metadata": {},
   "source": [
    "## cleanup"
   ]
  },
  {
   "cell_type": "code",
   "execution_count": 17,
   "metadata": {
    "collapsed": false
   },
   "outputs": [],
   "source": [
    "!rm -f *RED*.cub"
   ]
  },
  {
   "cell_type": "markdown",
   "metadata": {},
   "source": [
    "# xy2latlon"
   ]
  },
  {
   "cell_type": "code",
   "execution_count": 10,
   "metadata": {
    "collapsed": false
   },
   "outputs": [
    {
     "data": {
      "text/html": [
       "<div>\n",
       "<table border=\"1\" class=\"dataframe\">\n",
       "  <thead>\n",
       "    <tr style=\"text-align: right;\">\n",
       "      <th></th>\n",
       "      <th>x</th>\n",
       "      <th>y</th>\n",
       "      <th>angle</th>\n",
       "      <th>radius_1</th>\n",
       "      <th>radius_2</th>\n",
       "      <th>p1_x</th>\n",
       "      <th>p1_y</th>\n",
       "      <th>p2_x</th>\n",
       "      <th>p2_y</th>\n",
       "      <th>p3_x</th>\n",
       "      <th>p3_y</th>\n",
       "      <th>p4_x</th>\n",
       "      <th>p4_y</th>\n",
       "      <th>n_members</th>\n",
       "    </tr>\n",
       "  </thead>\n",
       "  <tbody>\n",
       "    <tr>\n",
       "      <th>0</th>\n",
       "      <td>696.900000</td>\n",
       "      <td>7205.600000</td>\n",
       "      <td>40.524806</td>\n",
       "      <td>28.788229</td>\n",
       "      <td>19.301067</td>\n",
       "      <td>718.782644</td>\n",
       "      <td>7214.543650</td>\n",
       "      <td>675.017356</td>\n",
       "      <td>7196.656350</td>\n",
       "      <td>684.358607</td>\n",
       "      <td>7220.271218</td>\n",
       "      <td>709.441393</td>\n",
       "      <td>7190.928782</td>\n",
       "      <td>5</td>\n",
       "    </tr>\n",
       "    <tr>\n",
       "      <th>1</th>\n",
       "      <td>504.371528</td>\n",
       "      <td>6903.006945</td>\n",
       "      <td>-6.437134</td>\n",
       "      <td>13.623201</td>\n",
       "      <td>12.144633</td>\n",
       "      <td>517.908841</td>\n",
       "      <td>6900.917949</td>\n",
       "      <td>490.834215</td>\n",
       "      <td>6905.095941</td>\n",
       "      <td>505.733099</td>\n",
       "      <td>6915.075011</td>\n",
       "      <td>503.009957</td>\n",
       "      <td>6890.938878</td>\n",
       "      <td>24</td>\n",
       "    </tr>\n",
       "    <tr>\n",
       "      <th>2</th>\n",
       "      <td>385.189815</td>\n",
       "      <td>6753.222222</td>\n",
       "      <td>-13.839050</td>\n",
       "      <td>24.177703</td>\n",
       "      <td>18.880157</td>\n",
       "      <td>408.665675</td>\n",
       "      <td>6730.110967</td>\n",
       "      <td>361.713955</td>\n",
       "      <td>6776.333477</td>\n",
       "      <td>389.705860</td>\n",
       "      <td>6771.554316</td>\n",
       "      <td>380.673771</td>\n",
       "      <td>6734.890128</td>\n",
       "      <td>18</td>\n",
       "    </tr>\n",
       "    <tr>\n",
       "      <th>3</th>\n",
       "      <td>779.250000</td>\n",
       "      <td>7551.300000</td>\n",
       "      <td>3.560808</td>\n",
       "      <td>11.718488</td>\n",
       "      <td>11.278663</td>\n",
       "      <td>790.945865</td>\n",
       "      <td>7546.530061</td>\n",
       "      <td>767.554135</td>\n",
       "      <td>7556.069939</td>\n",
       "      <td>778.549507</td>\n",
       "      <td>7562.556889</td>\n",
       "      <td>779.950493</td>\n",
       "      <td>7540.043111</td>\n",
       "      <td>10</td>\n",
       "    </tr>\n",
       "    <tr>\n",
       "      <th>4</th>\n",
       "      <td>833.062500</td>\n",
       "      <td>4602.000000</td>\n",
       "      <td>-9.765882</td>\n",
       "      <td>14.234663</td>\n",
       "      <td>12.238497</td>\n",
       "      <td>847.090889</td>\n",
       "      <td>4606.761891</td>\n",
       "      <td>819.034111</td>\n",
       "      <td>4597.238109</td>\n",
       "      <td>835.138427</td>\n",
       "      <td>4614.061150</td>\n",
       "      <td>830.986573</td>\n",
       "      <td>4589.938850</td>\n",
       "      <td>8</td>\n",
       "    </tr>\n",
       "  </tbody>\n",
       "</table>\n",
       "</div>"
      ],
      "text/plain": [
       "            x            y      angle   radius_1   radius_2        p1_x  \\\n",
       "0  696.900000  7205.600000  40.524806  28.788229  19.301067  718.782644   \n",
       "1  504.371528  6903.006945  -6.437134  13.623201  12.144633  517.908841   \n",
       "2  385.189815  6753.222222 -13.839050  24.177703  18.880157  408.665675   \n",
       "3  779.250000  7551.300000   3.560808  11.718488  11.278663  790.945865   \n",
       "4  833.062500  4602.000000  -9.765882  14.234663  12.238497  847.090889   \n",
       "\n",
       "          p1_y        p2_x         p2_y        p3_x         p3_y        p4_x  \\\n",
       "0  7214.543650  675.017356  7196.656350  684.358607  7220.271218  709.441393   \n",
       "1  6900.917949  490.834215  6905.095941  505.733099  6915.075011  503.009957   \n",
       "2  6730.110967  361.713955  6776.333477  389.705860  6771.554316  380.673771   \n",
       "3  7546.530061  767.554135  7556.069939  778.549507  7562.556889  779.950493   \n",
       "4  4606.761891  819.034111  4597.238109  835.138427  4614.061150  830.986573   \n",
       "\n",
       "          p4_y  n_members  \n",
       "0  7190.928782          5  \n",
       "1  6890.938878         24  \n",
       "2  6734.890128         18  \n",
       "3  7540.043111         10  \n",
       "4  4589.938850          8  "
      ]
     },
     "execution_count": 10,
     "metadata": {},
     "output_type": "execute_result"
    }
   ],
   "source": [
    "df = pd.read_hdf('/Users/klay6683/Dropbox/data/planet4/seasons2and3_v2/ESP_011296_0975_blotches.hdf')\n",
    "df.head()"
   ]
  },
  {
   "cell_type": "code",
   "execution_count": 11,
   "metadata": {
    "collapsed": true
   },
   "outputs": [],
   "source": [
    "from pysis.isis import campt\n",
    "from pysis.exceptions import ProcessError\n",
    "import pvl"
   ]
  },
  {
   "cell_type": "code",
   "execution_count": 18,
   "metadata": {
    "collapsed": true
   },
   "outputs": [],
   "source": [
    "from pathlib import Path\n",
    "edrpath = Path('/Users/klay6683/data/planet4/season2_3_EDRs/')\n",
    "clusterpath = Path('/Users/klay6683/Dropbox/data/planet4/seasons2and3_v2/')"
   ]
  },
  {
   "cell_type": "code",
   "execution_count": 19,
   "metadata": {
    "collapsed": false
   },
   "outputs": [],
   "source": [
    "obsids = !cat /Users/klay6683/Dropbox/data/planet4/season2_3_image_names.txt"
   ]
  },
  {
   "cell_type": "code",
   "execution_count": 57,
   "metadata": {
    "collapsed": false
   },
   "outputs": [],
   "source": [
    "fpaths = [item for obsid in obsids for item in (clusterpath.glob(\"{}_*.hdf\".format(obsid)))]"
   ]
  },
  {
   "cell_type": "code",
   "execution_count": 140,
   "metadata": {
    "collapsed": true
   },
   "outputs": [],
   "source": [
    "blotch_coords = ['', 'p1', 'p2', 'p3', 'p4']\n",
    "fan_coords = ['', 'arm1', 'arm2']\n",
    "fnotch_coords = ['blotch_'+c for c in blotch_coords]\n",
    "fnotch_coords += ['fan_'+c for c in fan_coords]"
   ]
  },
  {
   "cell_type": "code",
   "execution_count": 141,
   "metadata": {
    "collapsed": false
   },
   "outputs": [
    {
     "data": {
      "text/plain": [
       "['blotch_',\n",
       " 'blotch_p1',\n",
       " 'blotch_p2',\n",
       " 'blotch_p3',\n",
       " 'blotch_p4',\n",
       " 'fan_',\n",
       " 'fan_arm1',\n",
       " 'fan_arm2']"
      ]
     },
     "execution_count": 141,
     "metadata": {},
     "output_type": "execute_result"
    }
   ],
   "source": [
    "fnotch_coords"
   ]
  },
  {
   "cell_type": "code",
   "execution_count": 166,
   "metadata": {
    "collapsed": false
   },
   "outputs": [
    {
     "name": "stdout",
     "output_type": "stream",
     "text": [
      "importing campt from pysis.isis on engine(s)\n",
      "importing ProcessError from pysis.exceptions on engine(s)\n",
      "importing Path from pathlib on engine(s)\n",
      "importing CompositeError from ipyparallel on engine(s)\n"
     ]
    }
   ],
   "source": [
    "with dview.sync_imports():\n",
    "    from pysis.isis import campt\n",
    "    from pysis.exceptions import ProcessError\n",
    "    from pathlib import Path\n",
    "    from ipyparallel import CompositeError"
   ]
  },
  {
   "cell_type": "code",
   "execution_count": 185,
   "metadata": {
    "collapsed": false
   },
   "outputs": [],
   "source": [
    "def do_campt(mosaicname, savepath, temppath):\n",
    "    try:\n",
    "        campt(from_=mosaicname, to=savepath, format='flat', append='no',\n",
    "              coordlist=temppath, coordtype='image')\n",
    "    except ProcessError as e:\n",
    "        print(e.stderr)\n",
    "        return obsid, False\n",
    "\n",
    "\n",
    "def process_inpath(inpath, marking, mosaicpath):\n",
    "    coords_switch = dict(blotches=blotch_coords,\n",
    "                         fans=fan_coords,\n",
    "                         fnotches=fnotch_coords)\n",
    "        \n",
    "    df = pd.read_hdf(str(inpath), 'df')\n",
    "    for coord in coords_switch[marking]:\n",
    "        if coord.endswith('_'):\n",
    "            tempcoords = [coord + 'x', coord + 'y']\n",
    "        elif coord == '':\n",
    "            tempcoords = ['x', 'y']\n",
    "        else:\n",
    "            tempcoords = [coord + '_x', coord + '_y']\n",
    "        if marking == 'fnotches':\n",
    "            tempcoords\n",
    "        temppath = inpath.with_suffix('.tocampt')\n",
    "        try:\n",
    "            df[tempcoords].to_csv(str(temppath), header=False, index=False)\n",
    "        except KeyError:\n",
    "            return False\n",
    "        name = coord\n",
    "        if name == '' or name.endswith('_'): \n",
    "            name += 'base'\n",
    "        savename = \"{stem}_{c}_campt_out.csv\".format(stem=inpath.stem, c=name)\n",
    "        savepath = clusterpath / savename\n",
    "#         do_campt(mosaicpath, savepath, temppath)\n",
    "        return True\n",
    "\n",
    "def xy2latlon(inpath):\n",
    "    d = dict(inpath=inpath)\n",
    "    edrpath = Path('/Users/klay6683/data/planet4/season2_3_EDRs/')\n",
    "    tokens = inpath.stem.split('_')\n",
    "    obsid = '_'.join(tokens[:3])\n",
    "    marking = tokens[-1]\n",
    "    mosaicname = 'redMosaic' + obsid + '.cub'\n",
    "    mosaicpath = edrpath / mosaicname\n",
    "    ok = process_inpath(inpath, marking, mosaicpath)\n",
    "    d['ok'] = ok\n",
    "    return d"
   ]
  },
  {
   "cell_type": "code",
   "execution_count": 197,
   "metadata": {
    "collapsed": false
   },
   "outputs": [
    {
     "data": {
      "text/plain": [
       "<AsyncResult: finished>"
      ]
     },
     "execution_count": 197,
     "metadata": {},
     "output_type": "execute_result"
    }
   ],
   "source": [
    "dview.push(dict(process_inpath=process_inpath,\n",
    "                do_campt=do_campt,\n",
    "                blotch_coords=blotch_coords,\n",
    "                fan_coords=fan_coords,\n",
    "                fnotch_coords=fnotch_coords,\n",
    "                edrpath=Path('/Users/klay6683/data/planet4/season2_3_EDRs/'),\n",
    "                clusterpath=Path('/Users/klay6683/Dropbox/data/planet4/seasons2and3_v2/')))"
   ]
  },
  {
   "cell_type": "code",
   "execution_count": 169,
   "metadata": {
    "collapsed": false
   },
   "outputs": [
    {
     "data": {
      "text/plain": [
       "('ESP_013113_0985', True)"
      ]
     },
     "execution_count": 169,
     "metadata": {},
     "output_type": "execute_result"
    }
   ],
   "source": [
    "xy2latlon(fpaths[2])"
   ]
  },
  {
   "cell_type": "code",
   "execution_count": 198,
   "metadata": {
    "collapsed": false
   },
   "outputs": [],
   "source": [
    "results = lbview.map_async(xy2latlon, fpaths)"
   ]
  },
  {
   "cell_type": "code",
   "execution_count": 203,
   "metadata": {
    "collapsed": false
   },
   "outputs": [],
   "source": [
    "res = pd.DataFrame(results.result)"
   ]
  },
  {
   "cell_type": "code",
   "execution_count": 206,
   "metadata": {
    "collapsed": false
   },
   "outputs": [
    {
     "data": {
      "text/plain": [
       "array([ PosixPath('/Users/klay6683/Dropbox/data/planet4/seasons2and3_v2/ESP_022699_0985_fnotches.hdf')], dtype=object)"
      ]
     },
     "execution_count": 206,
     "metadata": {},
     "output_type": "execute_result"
    }
   ],
   "source": [
    "res[res.ok==False].inpath.values"
   ]
  },
  {
   "cell_type": "code",
   "execution_count": 188,
   "metadata": {
    "collapsed": true
   },
   "outputs": [],
   "source": [
    "from iuvs.multitools import nb_progress_display"
   ]
  },
  {
   "cell_type": "code",
   "execution_count": 195,
   "metadata": {
    "collapsed": false
   },
   "outputs": [],
   "source": [
    "nb_progress_display(results, obsids)"
   ]
  },
  {
   "cell_type": "code",
   "execution_count": null,
   "metadata": {
    "collapsed": true
   },
   "outputs": [],
   "source": []
  }
 ],
 "metadata": {
  "kernelspec": {
   "display_name": "Python 3",
   "language": "python",
   "name": "python3"
  },
  "language_info": {
   "codemirror_mode": {
    "name": "ipython",
    "version": 3
   },
   "file_extension": ".py",
   "mimetype": "text/x-python",
   "name": "python",
   "nbconvert_exporter": "python",
   "pygments_lexer": "ipython3",
   "version": "3.5.0"
  }
 },
 "nbformat": 4,
 "nbformat_minor": 0
}
