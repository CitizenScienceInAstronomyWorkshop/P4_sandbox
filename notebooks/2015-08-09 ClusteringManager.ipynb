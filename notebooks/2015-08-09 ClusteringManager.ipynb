{
 "cells": [
  {
   "cell_type": "code",
   "execution_count": 1,
   "metadata": {
    "collapsed": false
   },
   "outputs": [],
   "source": [
    "from planet4.clustering import ClusteringManager\n",
    "from planet4 import p4io as io\n",
    "from IPython.display import display\n",
    "from ipywidgets import FloatText\n",
    "from pathlib import Path"
   ]
  },
  {
   "cell_type": "code",
   "execution_count": 2,
   "metadata": {
    "collapsed": false
   },
   "outputs": [],
   "source": [
    "db = io.get_current_season23_dbase()\n",
    "dbname = db.dbname"
   ]
  },
  {
   "cell_type": "code",
   "execution_count": 18,
   "metadata": {
    "collapsed": false
   },
   "outputs": [],
   "source": [
    "def process_image_name(img_name):\n",
    "    from pathlib import Path\n",
    "    from planet4.clustering import ClusteringManager\n",
    "    output_dir = Path('/Users/klay6683/Dropbox/data/planet4/inca_seasons2and3_v2')\n",
    "    output_dir.mkdir(exist_ok=True)\n",
    "    cm = ClusteringManager(dbname, scope='hirise',\n",
    "                           output_dir=output_dir,\n",
    "                           output_format='both')\n",
    "    cm.cluster_image_name(img_name)\n",
    "    return img_name"
   ]
  },
  {
   "cell_type": "code",
   "execution_count": 4,
   "metadata": {
    "collapsed": true
   },
   "outputs": [],
   "source": [
    "obsids = !cat /Users/klay6683/Dropbox/data/planet4/season2_3_image_names.txt"
   ]
  },
  {
   "cell_type": "code",
   "execution_count": 7,
   "metadata": {
    "collapsed": false
   },
   "outputs": [
    {
     "data": {
      "text/plain": [
       "'ESP_013113_0985'"
      ]
     },
     "execution_count": 7,
     "metadata": {},
     "output_type": "execute_result"
    }
   ],
   "source": [
    "process_image_name(obsids[0])"
   ]
  },
  {
   "cell_type": "code",
   "execution_count": 5,
   "metadata": {
    "collapsed": false
   },
   "outputs": [],
   "source": [
    "from ipyparallel import Client\n",
    "c = Client()"
   ]
  },
  {
   "cell_type": "code",
   "execution_count": 6,
   "metadata": {
    "collapsed": true
   },
   "outputs": [],
   "source": [
    "lbview = c.load_balanced_view()"
   ]
  },
  {
   "cell_type": "code",
   "execution_count": 7,
   "metadata": {
    "collapsed": true
   },
   "outputs": [],
   "source": [
    "dview = c.direct_view()"
   ]
  },
  {
   "cell_type": "code",
   "execution_count": 8,
   "metadata": {
    "collapsed": false
   },
   "outputs": [
    {
     "data": {
      "text/plain": [
       "<AsyncResult: finished>"
      ]
     },
     "execution_count": 8,
     "metadata": {},
     "output_type": "execute_result"
    }
   ],
   "source": [
    "dview.push({'dbname': str(db.dbname)})"
   ]
  },
  {
   "cell_type": "code",
   "execution_count": 9,
   "metadata": {
    "collapsed": false
   },
   "outputs": [],
   "source": [
    "results = lbview.map_async(process_image_name, obsids)"
   ]
  },
  {
   "cell_type": "code",
   "execution_count": 10,
   "metadata": {
    "collapsed": false
   },
   "outputs": [],
   "source": [
    "from iuvs.multitools import nb_progress_display"
   ]
  },
  {
   "cell_type": "code",
   "execution_count": 11,
   "metadata": {
    "collapsed": false
   },
   "outputs": [],
   "source": [
    "nb_progress_display(results, obsids)"
   ]
  },
  {
   "cell_type": "markdown",
   "metadata": {
    "collapsed": true
   },
   "source": [
    "# Applying cut to fnotches"
   ]
  },
  {
   "cell_type": "code",
   "execution_count": 19,
   "metadata": {
    "collapsed": true
   },
   "outputs": [],
   "source": [
    "output_dir = Path('/Users/klay6683/Dropbox/data/planet4/inca_seasons2and3_v2')"
   ]
  },
  {
   "cell_type": "code",
   "execution_count": 22,
   "metadata": {
    "collapsed": false
   },
   "outputs": [],
   "source": [
    "fnotch_fnames = list(output_dir.glob('*_fnotches.hdf'))"
   ]
  },
  {
   "cell_type": "code",
   "execution_count": 180,
   "metadata": {
    "collapsed": false
   },
   "outputs": [],
   "source": [
    "def filter_for_fans(x):\n",
    "    if isinstance(x, planet4.markings.Fan):\n",
    "        return x\n",
    "\n",
    "def filter_for_blotches(x):\n",
    "    if isinstance(x, planet4.markings.Blotch):\n",
    "        return x"
   ]
  },
  {
   "cell_type": "code",
   "execution_count": 192,
   "metadata": {
    "collapsed": true
   },
   "outputs": [],
   "source": [
    "from planet4 import markings\n",
    "\n",
    "def process_fnotch_fname(fname):\n",
    "    outpath = Path('/Users/klay6683/Dropbox/data/planet4/inca_s23_0.5cut_applied')\n",
    "    outpath.mkdir(exist_ok=True)\n",
    "    resman = io.ResultManager(fname)\n",
    "    df = resman.fnotchdf \n",
    "    final_clusters = df.apply(markings.Fnotch.from_dataframe, axis=1).\\\n",
    "        apply(lambda x: x.get_marking(0.5))\n",
    "    newfans = final_clusters[final_clusters.apply(filter_for_fans).notnull()]\n",
    "    newblotches = final_clusters[final_clusters.apply(filter_for_blotches).notnull()]\n",
    "    completefans = resman.fandf.append(newfans.apply(lambda x: x.store()),\n",
    "                                       ignore_index=True)\n",
    "    completeblotches = resman.blotchdf.append(newblotches.apply(lambda x: x.store()),\n",
    "                                              ignore_index=True)\n",
    "    completefans.to_hdf(str(outpath / resman.fanfile.name), 'df')\n",
    "    completeblotches.to_hdf(str(outpath / resman.blotchfile.name), 'df')"
   ]
  },
  {
   "cell_type": "code",
   "execution_count": 193,
   "metadata": {
    "collapsed": false,
    "scrolled": false
   },
   "outputs": [
    {
     "name": "stdout",
     "output_type": "stream",
     "text": [
      "/Users/klay6683/Dropbox/data/planet4/inca_seasons2and3_v2/ESP_011491_0985_fnotches.hdf\n",
      "/Users/klay6683/Dropbox/data/planet4/inca_seasons2and3_v2/ESP_011544_0985_fnotches.hdf\n",
      "/Users/klay6683/Dropbox/data/planet4/inca_seasons2and3_v2/ESP_011557_0985_fnotches.hdf\n",
      "/Users/klay6683/Dropbox/data/planet4/inca_seasons2and3_v2/ESP_011623_0985_fnotches.hdf\n",
      "/Users/klay6683/Dropbox/data/planet4/inca_seasons2and3_v2/ESP_011702_0985_fnotches.hdf\n",
      "/Users/klay6683/Dropbox/data/planet4/inca_seasons2and3_v2/ESP_011729_0985_fnotches.hdf\n",
      "/Users/klay6683/Dropbox/data/planet4/inca_seasons2and3_v2/ESP_011900_0985_fnotches.hdf\n",
      "/Users/klay6683/Dropbox/data/planet4/inca_seasons2and3_v2/ESP_012256_0985_fnotches.hdf\n",
      "/Users/klay6683/Dropbox/data/planet4/inca_seasons2and3_v2/ESP_012322_0985_fnotches.hdf\n",
      "/Users/klay6683/Dropbox/data/planet4/inca_seasons2and3_v2/ESP_012467_0985_fnotches.hdf\n",
      "/Users/klay6683/Dropbox/data/planet4/inca_seasons2and3_v2/ESP_012691_0985_fnotches.hdf\n",
      "/Users/klay6683/Dropbox/data/planet4/inca_seasons2and3_v2/ESP_012744_0985_fnotches.hdf\n",
      "/Users/klay6683/Dropbox/data/planet4/inca_seasons2and3_v2/ESP_012889_0985_fnotches.hdf\n",
      "/Users/klay6683/Dropbox/data/planet4/inca_seasons2and3_v2/ESP_013034_0985_fnotches.hdf\n",
      "/Users/klay6683/Dropbox/data/planet4/inca_seasons2and3_v2/ESP_013113_0985_fnotches.hdf\n",
      "/Users/klay6683/Dropbox/data/planet4/inca_seasons2and3_v2/ESP_020049_0985_fnotches.hdf\n",
      "/Users/klay6683/Dropbox/data/planet4/inca_seasons2and3_v2/ESP_020115_0985_fnotches.hdf\n",
      "/Users/klay6683/Dropbox/data/planet4/inca_seasons2and3_v2/ESP_020128_0985_fnotches.hdf\n",
      "/Users/klay6683/Dropbox/data/planet4/inca_seasons2and3_v2/ESP_020194_0985_fnotches.hdf\n",
      "/Users/klay6683/Dropbox/data/planet4/inca_seasons2and3_v2/ESP_020214_0935_fnotches.hdf\n",
      "/Users/klay6683/Dropbox/data/planet4/inca_seasons2and3_v2/ESP_020322_0930_fnotches.hdf\n",
      "/Users/klay6683/Dropbox/data/planet4/inca_seasons2and3_v2/ESP_020339_0985_fnotches.hdf\n",
      "/Users/klay6683/Dropbox/data/planet4/inca_seasons2and3_v2/ESP_020748_0985_fnotches.hdf\n",
      "/Users/klay6683/Dropbox/data/planet4/inca_seasons2and3_v2/ESP_020827_0985_fnotches.hdf\n",
      "/Users/klay6683/Dropbox/data/planet4/inca_seasons2and3_v2/ESP_020959_0985_fnotches.hdf\n",
      "/Users/klay6683/Dropbox/data/planet4/inca_seasons2and3_v2/ESP_021460_0985_fnotches.hdf\n",
      "/Users/klay6683/Dropbox/data/planet4/inca_seasons2and3_v2/ESP_021526_0985_fnotches.hdf\n",
      "/Users/klay6683/Dropbox/data/planet4/inca_seasons2and3_v2/ESP_021605_0985_fnotches.hdf\n",
      "/Users/klay6683/Dropbox/data/planet4/inca_seasons2and3_v2/ESP_021671_0985_fnotches.hdf\n",
      "/Users/klay6683/Dropbox/data/planet4/inca_seasons2and3_v2/ESP_021684_0985_fnotches.hdf\n",
      "/Users/klay6683/Dropbox/data/planet4/inca_seasons2and3_v2/ESP_021829_0985_fnotches.hdf\n"
     ]
    }
   ],
   "source": [
    "for fnotch in fnotch_fnames:\n",
    "    print(fnotch)\n",
    "    process_fnotch_fname(fnotch)"
   ]
  },
  {
   "cell_type": "code",
   "execution_count": 116,
   "metadata": {
    "collapsed": false
   },
   "outputs": [],
   "source": [
    "fandf = resman.fandf"
   ]
  },
  {
   "cell_type": "code",
   "execution_count": 117,
   "metadata": {
    "collapsed": true
   },
   "outputs": [],
   "source": [
    "fclusters = process_fnotch_fname(fnotch_fnames[0])"
   ]
  },
  {
   "cell_type": "code",
   "execution_count": 118,
   "metadata": {
    "collapsed": false
   },
   "outputs": [
    {
     "data": {
      "text/html": [
       "<div>\n",
       "<table border=\"1\" class=\"dataframe\">\n",
       "  <thead>\n",
       "    <tr style=\"text-align: right;\">\n",
       "      <th></th>\n",
       "      <th>x</th>\n",
       "      <th>y</th>\n",
       "      <th>angle</th>\n",
       "      <th>spread</th>\n",
       "      <th>distance</th>\n",
       "      <th>arm1_x</th>\n",
       "      <th>arm1_y</th>\n",
       "      <th>arm2_x</th>\n",
       "      <th>arm2_y</th>\n",
       "      <th>n_members</th>\n",
       "    </tr>\n",
       "  </thead>\n",
       "  <tbody>\n",
       "    <tr>\n",
       "      <th>0</th>\n",
       "      <td>1027.430417</td>\n",
       "      <td>66003.498891</td>\n",
       "      <td>-163.832883</td>\n",
       "      <td>40.719932</td>\n",
       "      <td>190.799632</td>\n",
       "      <td>879.396572</td>\n",
       "      <td>66014.351243</td>\n",
       "      <td>908.154802</td>\n",
       "      <td>65915.152298</td>\n",
       "      <td>58</td>\n",
       "    </tr>\n",
       "    <tr>\n",
       "      <th>1</th>\n",
       "      <td>850.700290</td>\n",
       "      <td>21407.542400</td>\n",
       "      <td>62.340526</td>\n",
       "      <td>66.563484</td>\n",
       "      <td>48.201664</td>\n",
       "      <td>881.127783</td>\n",
       "      <td>21424.449468</td>\n",
       "      <td>847.290043</td>\n",
       "      <td>21442.184159</td>\n",
       "      <td>43</td>\n",
       "    </tr>\n",
       "    <tr>\n",
       "      <th>2</th>\n",
       "      <td>1228.375000</td>\n",
       "      <td>21950.800000</td>\n",
       "      <td>-97.210326</td>\n",
       "      <td>78.351442</td>\n",
       "      <td>28.474869</td>\n",
       "      <td>1213.721703</td>\n",
       "      <td>21936.839047</td>\n",
       "      <td>1239.089801</td>\n",
       "      <td>21933.629666</td>\n",
       "      <td>4</td>\n",
       "    </tr>\n",
       "    <tr>\n",
       "      <th>3</th>\n",
       "      <td>783.614134</td>\n",
       "      <td>45525.612245</td>\n",
       "      <td>57.247704</td>\n",
       "      <td>49.574504</td>\n",
       "      <td>95.468890</td>\n",
       "      <td>844.311719</td>\n",
       "      <td>45564.221997</td>\n",
       "      <td>793.582345</td>\n",
       "      <td>45596.855101</td>\n",
       "      <td>49</td>\n",
       "    </tr>\n",
       "    <tr>\n",
       "      <th>4</th>\n",
       "      <td>729.480273</td>\n",
       "      <td>45964.978261</td>\n",
       "      <td>68.047135</td>\n",
       "      <td>62.520928</td>\n",
       "      <td>99.716577</td>\n",
       "      <td>787.613331</td>\n",
       "      <td>46008.446256</td>\n",
       "      <td>717.740384</td>\n",
       "      <td>46036.609916</td>\n",
       "      <td>46</td>\n",
       "    </tr>\n",
       "  </tbody>\n",
       "</table>\n",
       "</div>"
      ],
      "text/plain": [
       "             x             y       angle     spread    distance       arm1_x  \\\n",
       "0  1027.430417  66003.498891 -163.832883  40.719932  190.799632   879.396572   \n",
       "1   850.700290  21407.542400   62.340526  66.563484   48.201664   881.127783   \n",
       "2  1228.375000  21950.800000  -97.210326  78.351442   28.474869  1213.721703   \n",
       "3   783.614134  45525.612245   57.247704  49.574504   95.468890   844.311719   \n",
       "4   729.480273  45964.978261   68.047135  62.520928   99.716577   787.613331   \n",
       "\n",
       "         arm1_y       arm2_x        arm2_y  n_members  \n",
       "0  66014.351243   908.154802  65915.152298         58  \n",
       "1  21424.449468   847.290043  21442.184159         43  \n",
       "2  21936.839047  1239.089801  21933.629666          4  \n",
       "3  45564.221997   793.582345  45596.855101         49  \n",
       "4  46008.446256   717.740384  46036.609916         46  "
      ]
     },
     "execution_count": 118,
     "metadata": {},
     "output_type": "execute_result"
    }
   ],
   "source": [
    "fandf.head()"
   ]
  },
  {
   "cell_type": "code",
   "execution_count": 128,
   "metadata": {
    "collapsed": false
   },
   "outputs": [
    {
     "data": {
      "text/plain": [
       "True"
      ]
     },
     "execution_count": 128,
     "metadata": {},
     "output_type": "execute_result"
    }
   ],
   "source": [
    "isinstance(fclusters.iloc[0], planet4.markings.Blotch)"
   ]
  },
  {
   "cell_type": "code",
   "execution_count": 163,
   "metadata": {
    "collapsed": false
   },
   "outputs": [],
   "source": [
    "newfans = fclusters[fclusters.apply(filter_for_fans).notnull()]"
   ]
  },
  {
   "cell_type": "code",
   "execution_count": 171,
   "metadata": {
    "collapsed": false
   },
   "outputs": [
    {
     "data": {
      "text/plain": [
       "Index(['x', 'y', 'angle', 'spread', 'distance', 'arm1_x', 'arm1_y', 'arm2_x',\n",
       "       'arm2_y', 'n_members'],\n",
       "      dtype='object')"
      ]
     },
     "execution_count": 171,
     "metadata": {},
     "output_type": "execute_result"
    }
   ],
   "source": [
    "fandf.columns"
   ]
  },
  {
   "cell_type": "code",
   "execution_count": 173,
   "metadata": {
    "collapsed": false
   },
   "outputs": [
    {
     "data": {
      "text/plain": [
       "Index(['x', 'y', 'angle', 'spread', 'distance', 'arm1_x', 'arm1_y', 'arm2_x',\n",
       "       'arm2_y', 'n_members'],\n",
       "      dtype='object')"
      ]
     },
     "execution_count": 173,
     "metadata": {},
     "output_type": "execute_result"
    }
   ],
   "source": [
    "newfans.apply(lambda x: x.store()).columns"
   ]
  },
  {
   "cell_type": "code",
   "execution_count": 178,
   "metadata": {
    "collapsed": false
   },
   "outputs": [
    {
     "data": {
      "text/plain": [
       "[PosixPath('/Users/klay6683/Dropbox/data/planet4/inca_seasons2and3_v2'),\n",
       " PosixPath('/Users/klay6683/Dropbox/data/planet4'),\n",
       " PosixPath('/Users/klay6683/Dropbox/data'),\n",
       " PosixPath('/Users/klay6683/Dropbox'),\n",
       " PosixPath('/Users/klay6683'),\n",
       " PosixPath('/Users'),\n",
       " PosixPath('/')]"
      ]
     },
     "execution_count": 178,
     "metadata": {},
     "output_type": "execute_result"
    }
   ],
   "source": [
    "list(resman.inpath.parents)"
   ]
  },
  {
   "cell_type": "code",
   "execution_count": null,
   "metadata": {
    "collapsed": true
   },
   "outputs": [],
   "source": []
  }
 ],
 "metadata": {
  "kernelspec": {
   "display_name": "Python 3",
   "language": "python",
   "name": "python3"
  },
  "language_info": {
   "codemirror_mode": {
    "name": "ipython",
    "version": 3
   },
   "file_extension": ".py",
   "mimetype": "text/x-python",
   "name": "python",
   "nbconvert_exporter": "python",
   "pygments_lexer": "ipython3",
   "version": "3.5.0"
  }
 },
 "nbformat": 4,
 "nbformat_minor": 0
}
