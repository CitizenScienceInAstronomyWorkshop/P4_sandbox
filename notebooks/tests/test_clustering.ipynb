{
 "cells": [
  {
   "cell_type": "code",
   "execution_count": null,
   "metadata": {
    "collapsed": false
   },
   "outputs": [],
   "source": [
    "# setup\n",
    "import planet4 as p4\n",
    "from planet4 import clustering, io, markings\n",
    "import pandas as pd\n",
    "from pathlib import Path\n",
    "import pkg_resources as pr\n",
    "\n",
    "with pr.resource_stream('planet4', 'data/test_db.csv') as f:\n",
    "    data = pd.read_csv(f)\n",
    "\n",
    "import warnings\n",
    "with warnings.catch_warnings():\n",
    "    warnings.filterwarnings(\"ignore\",category=DeprecationWarning)\n",
    "    \n",
    "from tempfile import TemporaryDirectory\n",
    "\n",
    "_tdir = TemporaryDirectory()\n",
    "tdir = Path(_tdir.name)\n",
    "\n",
    "imid1 = 'APF000012w'\n",
    "imid2 = 'APF000012q'\n",
    "\n",
    "imid1data = data[data.image_id==imid1]\n",
    "imid2data = data[data.image_id==imid2]\n",
    "\n",
    "fans1 = imid1data[imid1data.marking=='fan']\n",
    "blotches1 = imid1data[imid1data.marking=='blotch']\n",
    "fans2 = imid2data[imid2data.marking=='fan']\n",
    "blotches2 = imid2data[imid2data.marking=='blotch']\n",
    "\n",
    "# basic clustering manager\n",
    "cm = clustering.ClusteringManager(dbname='ignore', output_dir=tdir)"
   ]
  },
  {
   "cell_type": "code",
   "execution_count": null,
   "metadata": {
    "collapsed": false
   },
   "outputs": [],
   "source": [
    "# test_calc_fnotch\n",
    "actual = clustering.calc_fnotch(4, 4)\n",
    "assert actual == 0.5\n",
    "actual = clustering.calc_fnotch(4, 0)\n",
    "assert actual == 1\n",
    "actual = clustering.calc_fnotch(0, 4)\n",
    "assert actual == 0"
   ]
  },
  {
   "cell_type": "code",
   "execution_count": null,
   "metadata": {
    "collapsed": false
   },
   "outputs": [],
   "source": [
    "# test_dbscan_xy_blotch\n",
    "\n",
    "# using only x and y (or image_x,image_y)\n",
    "coords = ['image_x','image_y']\n",
    "X = blotches1[coords].values\n",
    "dbscanner = clustering.DBScanner(X, min_samples=2)\n",
    "\n",
    "assert dbscanner.n_clusters == 26\n",
    "assert dbscanner.n_rejected == 25"
   ]
  },
  {
   "cell_type": "code",
   "execution_count": null,
   "metadata": {
    "collapsed": false
   },
   "outputs": [],
   "source": [
    "# test_dbscan_xy_fan\n",
    "\n",
    "# using only x and y (or image_x,image_y)\n",
    "coords = ['image_x','image_y']\n",
    "X = fans1[coords].values\n",
    "dbscanner = clustering.DBScanner(X, min_samples=2)\n",
    "\n",
    "assert dbscanner.n_clusters == 7\n",
    "assert dbscanner.n_rejected == 11"
   ]
  },
  {
   "cell_type": "code",
   "execution_count": null,
   "metadata": {
    "collapsed": false
   },
   "outputs": [],
   "source": [
    "# test_dbscan_xy_angle_blotch\n",
    "\n",
    "coords = ['image_x','image_y', 'angle']\n",
    "X = blotches1[coords].values\n",
    "dbscanner = clustering.DBScanner(X, min_samples=2)\n",
    "\n",
    "assert dbscanner.n_clusters == 35\n",
    "assert dbscanner.n_rejected == 102"
   ]
  },
  {
   "cell_type": "code",
   "execution_count": null,
   "metadata": {
    "collapsed": false
   },
   "outputs": [],
   "source": [
    "# test_dbscan_xy_angle_fan\n",
    "\n",
    "coords = ['image_x','image_y', 'angle']\n",
    "X = fans1[coords].values\n",
    "dbscanner = clustering.DBScanner(X, min_samples=2)\n",
    "\n",
    "assert dbscanner.n_clusters == 6\n",
    "assert dbscanner.n_rejected == 15"
   ]
  },
  {
   "cell_type": "code",
   "execution_count": null,
   "metadata": {
    "collapsed": false
   },
   "outputs": [],
   "source": [
    "# test_clustering_basics\n",
    "\n",
    "cm.cluster_image_id(imid1, data=imid1data)"
   ]
  },
  {
   "cell_type": "code",
   "execution_count": null,
   "metadata": {
    "collapsed": true
   },
   "outputs": [],
   "source": []
  },
  {
   "cell_type": "code",
   "execution_count": null,
   "metadata": {
    "collapsed": false
   },
   "outputs": [],
   "source": [
    "# assert cm.n_classifications == 94\n",
    "\n",
    "cm.cluster_image_id(imid2, data=imid2data)\n",
    "# assert cm.n_classifications == 121\n",
    "\n",
    "for subdir in ['applied_cut_0.5', 'just_clustering']:\n",
    "    expected = tdir / subdir\n",
    "    assert expected.exists() and expected.is_dir()"
   ]
  },
  {
   "cell_type": "code",
   "execution_count": null,
   "metadata": {
    "collapsed": false
   },
   "outputs": [],
   "source": [
    "# test_output_file_creation_just_clustering\n",
    "\n",
    "for marking in ['blotches', 'fans']:\n",
    "    expected = tdir / 'just_clustering' / (imid1 + '_' + marking + '.csv')\n",
    "    print()\n",
    "    assert expected.exists()\n",
    "\n",
    "for marking in ['blotches']:\n",
    "    expected = tdir / 'just_clustering' / (imid2 + '_' + marking + '.csv')\n",
    "    if marking == 'blotches':\n",
    "        assert expected.exists()\n",
    "    else: # 12q,i.e. imdid2 only has blotches\n",
    "        assert not expected.exists()"
   ]
  },
  {
   "cell_type": "code",
   "execution_count": null,
   "metadata": {
    "collapsed": true
   },
   "outputs": [],
   "source": [
    "dbname='/Volumes/USB128GB/planet4/2016-05-29_planet_four_classifications_queryable_cleaned.h5'"
   ]
  },
  {
   "cell_type": "code",
   "execution_count": null,
   "metadata": {
    "collapsed": true
   },
   "outputs": [],
   "source": [
    "from planet4 import clustering"
   ]
  },
  {
   "cell_type": "code",
   "execution_count": null,
   "metadata": {
    "collapsed": false
   },
   "outputs": [],
   "source": [
    "# image_name = 'ESP_011394_0935'\n",
    "image_name = 'ESP_011350_0945'\n",
    "cm = clustering.ClusteringManager(output_dir=tdir, scope='hirise')\n",
    "cm.cluster_image_name(image_name)"
   ]
  },
  {
   "cell_type": "code",
   "execution_count": null,
   "metadata": {
    "collapsed": false
   },
   "outputs": [],
   "source": [
    "cm = clustering.ClusteringManager(dbname='ignore', output_dir=tdir, scope='planet4')\n",
    "cm.cluster_image_id('ani', data=data)"
   ]
  },
  {
   "cell_type": "code",
   "execution_count": null,
   "metadata": {
    "collapsed": false
   },
   "outputs": [],
   "source": [
    "p = tdir / 'applied_cut_0.5'"
   ]
  },
  {
   "cell_type": "code",
   "execution_count": null,
   "metadata": {
    "collapsed": true
   },
   "outputs": [],
   "source": [
    "def hunt_bug(fname):\n",
    "    df = pd.read_csv(fname)\n",
    "    return (df[df.duplicated()].shape[0])"
   ]
  },
  {
   "cell_type": "code",
   "execution_count": null,
   "metadata": {
    "collapsed": false
   },
   "outputs": [],
   "source": [
    "fnames = p.glob('*.csv')\n",
    "obsids = []\n",
    "no_of_dupes = []\n",
    "kind = []\n",
    "for fname in fnames:\n",
    "    tokens = fname.name.split('_')\n",
    "    if fname.name.startswith('ESP'):\n",
    "        obsids.append('_'.join(tokens[:3]))\n",
    "        kind.append(tokens[3].split('.')[0])\n",
    "    else:\n",
    "        obsids.append(tokens[0])\n",
    "        kind.append(tokens[1].split('.')[0])\n",
    "    no_of_dupes.append(hunt_bug(fname))"
   ]
  },
  {
   "cell_type": "code",
   "execution_count": null,
   "metadata": {
    "collapsed": false
   },
   "outputs": [],
   "source": [
    "df = pd.DataFrame(dict(obsids=obsids, no_of_dupes=no_of_dupes,\n",
    "                       kind=kind))\n",
    "df"
   ]
  },
  {
   "cell_type": "code",
   "execution_count": null,
   "metadata": {
    "collapsed": true
   },
   "outputs": [],
   "source": [
    "%matplotlib nbagg"
   ]
  },
  {
   "cell_type": "code",
   "execution_count": null,
   "metadata": {
    "collapsed": false
   },
   "outputs": [],
   "source": [
    "db.get_image_id_markings('apx').iloc[0]"
   ]
  },
  {
   "cell_type": "code",
   "execution_count": null,
   "metadata": {
    "collapsed": false
   },
   "outputs": [],
   "source": [
    "db.get_image_id_markings('ani').iloc[0]"
   ]
  },
  {
   "cell_type": "code",
   "execution_count": null,
   "metadata": {
    "collapsed": false
   },
   "outputs": [],
   "source": [
    "plotting.plot_clustered_fans('apx', _dir=tdir)"
   ]
  },
  {
   "cell_type": "code",
   "execution_count": null,
   "metadata": {
    "collapsed": false
   },
   "outputs": [],
   "source": [
    "plotting.plot_clustered_fans('ani', _dir=tdir)"
   ]
  },
  {
   "cell_type": "code",
   "execution_count": null,
   "metadata": {
    "collapsed": false
   },
   "outputs": [],
   "source": [
    "plotting.plot_raw_fans('ani')"
   ]
  },
  {
   "cell_type": "code",
   "execution_count": null,
   "metadata": {
    "collapsed": false
   },
   "outputs": [],
   "source": [
    "newblotches = cm.newblotches.apply(lambda x: x.store())"
   ]
  },
  {
   "cell_type": "code",
   "execution_count": null,
   "metadata": {
    "collapsed": false
   },
   "outputs": [],
   "source": [
    "newblotches[newblotches.duplicated(keep=False)].head()"
   ]
  },
  {
   "cell_type": "code",
   "execution_count": null,
   "metadata": {
    "collapsed": false
   },
   "outputs": [],
   "source": [
    "cm.pm.fnotchdf.head()"
   ]
  },
  {
   "cell_type": "code",
   "execution_count": null,
   "metadata": {
    "collapsed": false
   },
   "outputs": [],
   "source": [
    "cm.pm.fnotchdf.filter(regex='_image_id').head()"
   ]
  },
  {
   "cell_type": "code",
   "execution_count": null,
   "metadata": {
    "collapsed": false
   },
   "outputs": [],
   "source": [
    "cm.pm.fnotchdf.iloc[2:4].T"
   ]
  },
  {
   "cell_type": "code",
   "execution_count": null,
   "metadata": {
    "collapsed": false
   },
   "outputs": [],
   "source": [
    "fn1 = markings.Fnotch.from_series(cm.pm.fnotchdf.iloc[2], scope='hirise')"
   ]
  },
  {
   "cell_type": "code",
   "execution_count": null,
   "metadata": {
    "collapsed": true
   },
   "outputs": [],
   "source": [
    "fn2 = markings.Fnotch.from_series(cm.pm.fnotchdf.iloc[3], scope='hirise')"
   ]
  },
  {
   "cell_type": "code",
   "execution_count": null,
   "metadata": {
    "collapsed": false
   },
   "outputs": [],
   "source": [
    "fn1.fan"
   ]
  },
  {
   "cell_type": "code",
   "execution_count": null,
   "metadata": {
    "collapsed": false
   },
   "outputs": [],
   "source": [
    "fn2.fan"
   ]
  },
  {
   "cell_type": "code",
   "execution_count": null,
   "metadata": {
    "collapsed": false
   },
   "outputs": [],
   "source": [
    "norm(fn1.fan.midpoint - fn2.fan.midpoint)"
   ]
  },
  {
   "cell_type": "code",
   "execution_count": null,
   "metadata": {
    "collapsed": true
   },
   "outputs": [],
   "source": [
    "p4id = markings.ImageID('apx', data=data, scope='planet4')"
   ]
  },
  {
   "cell_type": "code",
   "execution_count": null,
   "metadata": {
    "collapsed": true
   },
   "outputs": [],
   "source": [
    "%matplotlib inline"
   ]
  },
  {
   "cell_type": "code",
   "execution_count": null,
   "metadata": {
    "collapsed": false
   },
   "outputs": [],
   "source": [
    "p4id.plot_blotches()"
   ]
  },
  {
   "cell_type": "code",
   "execution_count": null,
   "metadata": {
    "collapsed": true
   },
   "outputs": [],
   "source": [
    "from planet4 import plotting"
   ]
  },
  {
   "cell_type": "code",
   "execution_count": null,
   "metadata": {
    "collapsed": false
   },
   "outputs": [],
   "source": [
    "plotting.plot_clustered_blotches('apx', _dir=tdir)"
   ]
  },
  {
   "cell_type": "code",
   "execution_count": null,
   "metadata": {
    "collapsed": false
   },
   "outputs": [],
   "source": [
    "pm = io.PathManager(id_='apx', datapath=tdir)"
   ]
  },
  {
   "cell_type": "code",
   "execution_count": null,
   "metadata": {
    "collapsed": false
   },
   "outputs": [],
   "source": [
    "pm.reduced_blotchfile"
   ]
  },
  {
   "cell_type": "code",
   "execution_count": null,
   "metadata": {
    "collapsed": false
   },
   "outputs": [],
   "source": [
    "tdir"
   ]
  },
  {
   "cell_type": "code",
   "execution_count": null,
   "metadata": {
    "collapsed": false
   },
   "outputs": [],
   "source": [
    "list(tdir.glob('just_clustering/*'))"
   ]
  },
  {
   "cell_type": "code",
   "execution_count": null,
   "metadata": {
    "collapsed": false
   },
   "outputs": [],
   "source": [
    "newblotches = cm.newblotches.apply(lambda x: x.store())"
   ]
  },
  {
   "cell_type": "code",
   "execution_count": null,
   "metadata": {
    "collapsed": false
   },
   "outputs": [],
   "source": [
    "newblotches.head()"
   ]
  },
  {
   "cell_type": "code",
   "execution_count": null,
   "metadata": {
    "collapsed": false
   },
   "outputs": [],
   "source": [
    "b1 = markings.Blotch(cm.newblotches.iloc[0].data)\n",
    "b2 = markings.Blotch(cm.newblotches.iloc[1].data)\n",
    "b1 == b2"
   ]
  },
  {
   "cell_type": "code",
   "execution_count": null,
   "metadata": {
    "collapsed": true
   },
   "outputs": [],
   "source": [
    "df = cm.pm.fnotchdf"
   ]
  },
  {
   "cell_type": "code",
   "execution_count": null,
   "metadata": {
    "collapsed": true
   },
   "outputs": [],
   "source": [
    "df.apply?"
   ]
  },
  {
   "cell_type": "code",
   "execution_count": null,
   "metadata": {
    "collapsed": false
   },
   "outputs": [],
   "source": [
    "df.duplicated().value_counts()"
   ]
  },
  {
   "cell_type": "code",
   "execution_count": null,
   "metadata": {
    "collapsed": false,
    "scrolled": true
   },
   "outputs": [],
   "source": [
    "final_clusters = df.apply(markings.Fnotch.from_series, axis=1).apply(lambda x: x.get_marking(0.5))"
   ]
  },
  {
   "cell_type": "code",
   "execution_count": null,
   "metadata": {
    "collapsed": false
   },
   "outputs": [],
   "source": [
    "pd.set_option('display.width', 10000)"
   ]
  },
  {
   "cell_type": "code",
   "execution_count": null,
   "metadata": {
    "collapsed": false
   },
   "outputs": [],
   "source": [
    "final_clusters.head()"
   ]
  },
  {
   "cell_type": "code",
   "execution_count": null,
   "metadata": {
    "collapsed": false
   },
   "outputs": [],
   "source": [
    "df.filter(regex='fan_').head()"
   ]
  },
  {
   "cell_type": "code",
   "execution_count": null,
   "metadata": {
    "collapsed": false
   },
   "outputs": [],
   "source": [
    "df.filter(regex='blotch_').head()"
   ]
  },
  {
   "cell_type": "code",
   "execution_count": null,
   "metadata": {
    "collapsed": true
   },
   "outputs": [],
   "source": [
    "from planet4 import markings"
   ]
  },
  {
   "cell_type": "code",
   "execution_count": null,
   "metadata": {
    "collapsed": false
   },
   "outputs": [],
   "source": [
    "fnotch = markings.Fnotch.from_series(df.iloc[0], scope='planet4')"
   ]
  },
  {
   "cell_type": "code",
   "execution_count": null,
   "metadata": {
    "collapsed": true
   },
   "outputs": [],
   "source": [
    "from numpy.linalg import norm"
   ]
  },
  {
   "cell_type": "code",
   "execution_count": null,
   "metadata": {
    "collapsed": false
   },
   "outputs": [],
   "source": [
    "norm(fnotch.blotch.center - fnotch.fan.midpoint)"
   ]
  },
  {
   "cell_type": "code",
   "execution_count": null,
   "metadata": {
    "collapsed": true
   },
   "outputs": [],
   "source": [
    "def filter_for_fans(x):\n",
    "            if isinstance(x, markings.Fan):\n",
    "                return x\n",
    "\n",
    "def filter_for_blotches(x):\n",
    "    if isinstance(x, markings.Blotch):\n",
    "        return x"
   ]
  },
  {
   "cell_type": "code",
   "execution_count": null,
   "metadata": {
    "collapsed": false
   },
   "outputs": [],
   "source": [
    "final_clusters.apply(filter_for_blotches)"
   ]
  },
  {
   "cell_type": "code",
   "execution_count": null,
   "metadata": {
    "collapsed": false
   },
   "outputs": [],
   "source": [
    "pd.read_csv(cm.pm.final_fanfile).duplicated().value_counts()"
   ]
  },
  {
   "cell_type": "code",
   "execution_count": null,
   "metadata": {
    "collapsed": false
   },
   "outputs": [],
   "source": [
    "# teardown\n",
    "_tdir.cleanup()"
   ]
  },
  {
   "cell_type": "code",
   "execution_count": null,
   "metadata": {
    "collapsed": true
   },
   "outputs": [],
   "source": []
  }
 ],
 "metadata": {
  "anaconda-cloud": {},
  "kernelspec": {
   "display_name": "Python [conda env:stable]",
   "language": "python",
   "name": "conda-env-stable-py"
  },
  "language_info": {
   "codemirror_mode": {
    "name": "ipython",
    "version": 3
   },
   "file_extension": ".py",
   "mimetype": "text/x-python",
   "name": "python",
   "nbconvert_exporter": "python",
   "pygments_lexer": "ipython3",
   "version": "3.5.2"
  },
  "widgets": {
   "state": {},
   "version": "1.1.1"
  }
 },
 "nbformat": 4,
 "nbformat_minor": 0
}
