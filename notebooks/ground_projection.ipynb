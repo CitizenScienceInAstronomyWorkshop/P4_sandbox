{
 "cells": [
  {
   "cell_type": "markdown",
   "metadata": {
    "toc": "true"
   },
   "source": [
    "<h1>Table of Contents<span class=\"tocSkip\"></span></h1>\n",
    "<div class=\"toc\"><ul class=\"toc-item\"><li><span><a href=\"#Input-preparation\" data-toc-modified-id=\"Input-preparation-1\">Input preparation</a></span></li><li><span><a href=\"#Create-mosaics\" data-toc-modified-id=\"Create-mosaics-2\">Create mosaics</a></span><ul class=\"toc-item\"><li><span><a href=\"#Parallel-production\" data-toc-modified-id=\"Parallel-production-2.1\">Parallel production</a></span></li></ul></li><li><span><a href=\"#xy2latlon\" data-toc-modified-id=\"xy2latlon-3\">xy2latlon</a></span><ul class=\"toc-item\"><li><span><a href=\"#Execute-campt-for-all-obsids\" data-toc-modified-id=\"Execute-campt-for-all-obsids-3.1\">Execute <code>campt</code> for all obsids</a></span></li><li><span><a href=\"#Combine-obsid-results-and-merge-with-marking-related-files\" data-toc-modified-id=\"Combine-obsid-results-and-merge-with-marking-related-files-3.2\">Combine obsid results and merge with marking related files</a></span></li></ul></li><li><span><a href=\"#Tile-coordinates\" data-toc-modified-id=\"Tile-coordinates-4\">Tile coordinates</a></span><ul class=\"toc-item\"><li><ul class=\"toc-item\"><li><span><a href=\"#Check-for-presence-of-campt-files\" data-toc-modified-id=\"Check-for-presence-of-campt-files-4.0.1\">Check for presence of campt files</a></span></li></ul></li></ul></li><li><span><a href=\"#Metadata\" data-toc-modified-id=\"Metadata-5\">Metadata</a></span></li></ul></div>"
   ]
  },
  {
   "cell_type": "markdown",
   "metadata": {
    "heading_collapsed": true
   },
   "source": [
    "# Input preparation"
   ]
  },
  {
   "cell_type": "code",
   "execution_count": null,
   "metadata": {
    "hidden": true,
    "init_cell": true
   },
   "outputs": [],
   "source": [
    "import logging\n",
    "from nbtools.logging import setup_live_logging"
   ]
  },
  {
   "cell_type": "code",
   "execution_count": 2,
   "metadata": {
    "hidden": true
   },
   "outputs": [],
   "source": [
    "from planet4 import io, region_data"
   ]
  },
  {
   "cell_type": "code",
   "execution_count": 3,
   "metadata": {
    "hidden": true
   },
   "outputs": [],
   "source": [
    "db = io.DBManager(\"/home/ayek72/Dropbox/data/\""
   ]
  },
  {
   "cell_type": "code",
   "execution_count": 6,
   "metadata": {
    "hidden": true
   },
   "outputs": [
    {
     "data": {
      "text/plain": [
       "['ESP_011460_0980',\n",
       " 'ESP_011526_0980',\n",
       " 'ESP_011737_0980',\n",
       " 'ESP_012515_0980',\n",
       " 'ESP_012594_0980',\n",
       " 'ESP_012805_0980',\n",
       " 'ESP_012871_0980',\n",
       " 'ESP_022510_0980',\n",
       " 'ESP_021587_0980',\n",
       " 'ESP_021574_0980',\n",
       " 'ESP_021521_0980',\n",
       " 'ESP_021508_0980',\n",
       " 'ESP_020941_0980',\n",
       " 'ESP_020875_0980',\n",
       " 'ESP_020374_0980',\n",
       " 'ESP_020163_0980']"
      ]
     },
     "execution_count": 6,
     "metadata": {},
     "output_type": "execute_result"
    }
   ],
   "source": [
    "roi = region_data.Potsdam()\n",
    "obsids = roi.all_obsids\n",
    "obsids"
   ]
  },
  {
   "cell_type": "code",
   "execution_count": null,
   "metadata": {
    "hidden": true
   },
   "outputs": [],
   "source": [
    "obsids = db.obsids\n",
    "len(obsids)"
   ]
  },
  {
   "cell_type": "code",
   "execution_count": null,
   "metadata": {
    "deletable": false,
    "editable": false,
    "hidden": true,
    "run_control": {
     "frozen": true
    }
   },
   "outputs": [],
   "source": [
    "setup_live_logging(\"planet4\", logging.DEBUG)"
   ]
  },
  {
   "cell_type": "markdown",
   "metadata": {
    "heading_collapsed": true
   },
   "source": [
    "# Create mosaics"
   ]
  },
  {
   "cell_type": "code",
   "execution_count": null,
   "metadata": {
    "hidden": true
   },
   "outputs": [],
   "source": [
    "from planet4.projection import create_RED45_mosaic\n",
    "from planet4 import io"
   ]
  },
  {
   "cell_type": "code",
   "execution_count": null,
   "metadata": {
    "hidden": true
   },
   "outputs": [],
   "source": [
    "from nbtools import execute_in_parallel"
   ]
  },
  {
   "cell_type": "code",
   "execution_count": null,
   "metadata": {
    "hidden": true
   },
   "outputs": [],
   "source": [
    "len(obsids)"
   ]
  },
  {
   "cell_type": "code",
   "execution_count": null,
   "metadata": {
    "hidden": true
   },
   "outputs": [],
   "source": [
    "results = execute_in_parallel(create_RED45_mosaic, obsids)"
   ]
  },
  {
   "cell_type": "code",
   "execution_count": null,
   "metadata": {
    "hidden": true
   },
   "outputs": [],
   "source": [
    "for res in results:\n",
    "    print(res)"
   ]
  },
  {
   "cell_type": "markdown",
   "metadata": {
    "heading_collapsed": true,
    "hidden": true
   },
   "source": [
    "## Parallel production"
   ]
  },
  {
   "cell_type": "code",
   "execution_count": null,
   "metadata": {
    "hidden": true
   },
   "outputs": [],
   "source": [
    "from ipyparallel import Client\n",
    "\n",
    "c = Client()\n",
    "\n",
    "lbview = c.load_balanced_view()\n",
    "dview = c.direct_view()"
   ]
  },
  {
   "cell_type": "code",
   "execution_count": null,
   "metadata": {
    "hidden": true
   },
   "outputs": [],
   "source": [
    "with c[:].sync_imports():\n",
    "    from planet4.projection import create_RED45_mosaic"
   ]
  },
  {
   "cell_type": "code",
   "execution_count": null,
   "metadata": {
    "hidden": true
   },
   "outputs": [],
   "source": [
    "results = lbview.map_async(create_RED45_mosaic, obsids)"
   ]
  },
  {
   "cell_type": "code",
   "execution_count": null,
   "metadata": {
    "hidden": true
   },
   "outputs": [],
   "source": [
    "from nbtools import display_multi_progress"
   ]
  },
  {
   "cell_type": "code",
   "execution_count": null,
   "metadata": {
    "hidden": true
   },
   "outputs": [],
   "source": [
    "display_multi_progress(results, obsids)"
   ]
  },
  {
   "cell_type": "code",
   "execution_count": null,
   "metadata": {
    "hidden": true
   },
   "outputs": [],
   "source": [
    "for res in results:\n",
    "    print(res)"
   ]
  },
  {
   "cell_type": "markdown",
   "metadata": {},
   "source": [
    "# xy2latlon"
   ]
  },
  {
   "cell_type": "code",
   "execution_count": 7,
   "metadata": {
    "init_cell": true
   },
   "outputs": [
    {
     "name": "stderr",
     "output_type": "stream",
     "text": [
      "/Users/klay6683/Dropbox/src/Pysis/pysis/env.py:33: RuntimeWarning: Could not find isis. Is `ISISROOT` set?\n",
      "  warnings.warn('Could not find isis. Is `ISISROOT` set?', RuntimeWarning)\n"
     ]
    },
    {
     "ename": "ImportError",
     "evalue": "cannot import name 'campt' from 'pysis.isis' (unknown location)",
     "output_type": "error",
     "traceback": [
      "\u001b[0;31m---------------------------------------------------------------------------\u001b[0m",
      "\u001b[0;31mImportError\u001b[0m                               Traceback (most recent call last)",
      "\u001b[0;32m<ipython-input-7-139cea331f98>\u001b[0m in \u001b[0;36m<module>\u001b[0;34m\u001b[0m\n\u001b[0;32m----> 1\u001b[0;31m \u001b[0;32mfrom\u001b[0m \u001b[0mpysis\u001b[0m\u001b[0;34m.\u001b[0m\u001b[0misis\u001b[0m \u001b[0;32mimport\u001b[0m \u001b[0mcampt\u001b[0m\u001b[0;34m\u001b[0m\u001b[0;34m\u001b[0m\u001b[0m\n\u001b[0m\u001b[1;32m      2\u001b[0m \u001b[0;32mfrom\u001b[0m \u001b[0mpysis\u001b[0m\u001b[0;34m.\u001b[0m\u001b[0mexceptions\u001b[0m \u001b[0;32mimport\u001b[0m \u001b[0mProcessError\u001b[0m\u001b[0;34m\u001b[0m\u001b[0;34m\u001b[0m\u001b[0m\n\u001b[1;32m      3\u001b[0m \u001b[0;32mimport\u001b[0m \u001b[0mpvl\u001b[0m\u001b[0;34m\u001b[0m\u001b[0;34m\u001b[0m\u001b[0m\n\u001b[1;32m      4\u001b[0m \u001b[0;32mfrom\u001b[0m \u001b[0mplanet4\u001b[0m \u001b[0;32mimport\u001b[0m \u001b[0mio\u001b[0m\u001b[0;34m,\u001b[0m \u001b[0mcatalog_production\u001b[0m \u001b[0;32mas\u001b[0m \u001b[0mcp\u001b[0m\u001b[0;34m\u001b[0m\u001b[0;34m\u001b[0m\u001b[0m\n",
      "\u001b[0;31mImportError\u001b[0m: cannot import name 'campt' from 'pysis.isis' (unknown location)"
     ]
    }
   ],
   "source": [
    "from kalasiris.pysis import campt\n",
    "from kalasiris.pysis import ProcessError\n",
    "import pvl\n",
    "from planet4 import io, catalog_production as cp"
   ]
  },
  {
   "cell_type": "code",
   "execution_count": null,
   "metadata": {
    "init_cell": true
   },
   "outputs": [],
   "source": [
    "from pathlib import Path\n",
    "\n",
    "# clusterpath = io.analysis_folder() / 'p4_catalog'\n",
    "rm = cp.ReleaseManager(\"v1.0\")"
   ]
  },
  {
   "cell_type": "code",
   "execution_count": null,
   "metadata": {},
   "outputs": [],
   "source": [
    "rm.calc_tile_coordinates()"
   ]
  },
  {
   "cell_type": "code",
   "execution_count": null,
   "metadata": {},
   "outputs": [],
   "source": [
    "rm.calc_metadata()"
   ]
  },
  {
   "cell_type": "code",
   "execution_count": null,
   "metadata": {},
   "outputs": [],
   "source": [
    "rm.merge_all()"
   ]
  },
  {
   "cell_type": "code",
   "execution_count": null,
   "metadata": {},
   "outputs": [],
   "source": [
    "meta = pd.read_csv(rm.metadata_path)\n",
    "meta.query(\"map_scale==0.25\")"
   ]
  },
  {
   "cell_type": "code",
   "execution_count": null,
   "metadata": {},
   "outputs": [],
   "source": [
    "obsids = rm.obsids"
   ]
  },
  {
   "cell_type": "code",
   "execution_count": null,
   "metadata": {},
   "outputs": [],
   "source": [
    "with dview.sync_imports():\n",
    "    from pysis.isis import campt\n",
    "    from pysis.exceptions import ProcessError\n",
    "    from pathlib import Path\n",
    "    from ipyparallel import CompositeError"
   ]
  },
  {
   "cell_type": "code",
   "execution_count": null,
   "metadata": {},
   "outputs": [],
   "source": [
    "def do_campt(mosaicname, savepath, temppath):\n",
    "    try:\n",
    "        campt(\n",
    "            from_=mosaicname,\n",
    "            to=savepath,\n",
    "            format=\"flat\",\n",
    "            append=\"no\",\n",
    "            coordlist=temppath,\n",
    "            coordtype=\"image\",\n",
    "        )\n",
    "    except ProcessError as e:\n",
    "        print(e.stderr)\n",
    "        return obsid, False\n",
    "\n",
    "\n",
    "def obsid_marking_from_clusterpath(inpath):\n",
    "    \"\"\"Find obsid and marking kind from HiRISE cluster path.\n",
    "\n",
    "    For example, a cluster path like this:\n",
    "    '/Users/klay6683/Dropbox/data/planet4/p4_analysis/p4_catalog/ESP_011350_0945_blotches.csv'\n",
    "    will return:\n",
    "    ('ESP_011350_0945', 'blotches')\n",
    "    \"\"\"\n",
    "    s = inpath.stem  # stem is 'name' (without folders) minus extension\n",
    "    # s = ESP_xxxxxx_yyyy_blotches (or ..._fans)\n",
    "    # obsid = s[:until last '_']\n",
    "    sep = s.rfind(\"_\")\n",
    "    return s[:sep], s[sep + 1 :]"
   ]
  },
  {
   "cell_type": "code",
   "execution_count": null,
   "metadata": {},
   "outputs": [],
   "source": [
    "class XY2LATLON:\n",
    "    edrpath = io.get_ground_projection_root()\n",
    "\n",
    "    def __init__(self, df, inpath, overwrite=False, obsid=None):\n",
    "        self.obsid = obsid\n",
    "        self.df = df\n",
    "        self.inpath = inpath\n",
    "        self.overwrite = overwrite\n",
    "        self.edrpath = io.get_ground_projection_root()\n",
    "        self._obsid = obsid\n",
    "\n",
    "    @property\n",
    "    def obsid(self):\n",
    "        return self.df.image_name.iloc[0] if self._obsid is None else self._obsid\n",
    "\n",
    "    @obsid.setter\n",
    "    def obsid(self, value):\n",
    "        self._obsid = value\n",
    "\n",
    "    @property\n",
    "    def mosaicname(self):\n",
    "        return f\"{self.obsid}_mosaic_RED45.cub\"\n",
    "\n",
    "    @property\n",
    "    def mosaicpath(self):\n",
    "        return self.edrpath / self.obsid / self.mosaicname\n",
    "\n",
    "    @property\n",
    "    def savepath(self):\n",
    "        return self.inpath / f\"{self.obsid}_campt_out.csv\"\n",
    "\n",
    "    @property\n",
    "    def savepath_blotch(self):\n",
    "        return self.inpath / f\"{self.obsid}_blotch_campt_out.csv\"\n",
    "\n",
    "    @property\n",
    "    def savepath_fan(self):\n",
    "        return self.inpath / f\"{self.obsid}_fan_campt_out.csv\"\n",
    "\n",
    "    @property\n",
    "    def temppath(self):\n",
    "        return self.inpath / f\"{self.obsid}.tocampt\"\n",
    "\n",
    "    def process_inpath(self):\n",
    "        df = self.df\n",
    "        tempcoords = [\"image_x\", \"image_y\"]\n",
    "        df[tempcoords].to_csv(str(self.temppath), header=False, index=False)\n",
    "        if self.savepath.exists() and self.overwrite is False:\n",
    "            return\n",
    "        try:\n",
    "            do_campt(self.mosaicpath, self.savepath, self.temppath)\n",
    "        except Exception as e:\n",
    "            print(e)\n",
    "            return False\n",
    "\n",
    "    def combine_marking_files(self):\n",
    "        try:\n",
    "            f = pd.read_csv(self.savepath_fan)\n",
    "        except FileNotFoundError:\n",
    "            f = None\n",
    "        try:\n",
    "            b = pd.read_csv(self.savepath_blotch)\n",
    "        except FileNotFoundError:\n",
    "            b = None\n",
    "        pd.concat([f, b]).to_csv(self.savepath, index=False)"
   ]
  },
  {
   "cell_type": "code",
   "execution_count": null,
   "metadata": {},
   "outputs": [],
   "source": [
    "from pysis.isis import campt\n",
    "from pysis.exceptions import ProcessError\n",
    "import pvl\n",
    "from astropy import units as u\n",
    "from astropy.coordinates import CartesianRepresentation\n",
    "\n",
    "\n",
    "def vec_unit_to_astro(pvlunit):\n",
    "    rep = CartesianRepresentation(pvlunit.value, unit=pvlunit.units)\n",
    "    return rep\n",
    "\n",
    "\n",
    "class CAMPTER:\n",
    "    edrpath = io.get_ground_projection_root()\n",
    "\n",
    "    def __init__(self, obsid):\n",
    "        self.obsid = obsid\n",
    "\n",
    "    @property\n",
    "    def mosaicpath(self):\n",
    "        mosaicname = f\"{self.obsid}_mosaic_RED45.cub\"\n",
    "        return self.edrpath / self.obsid / mosaicname\n",
    "\n",
    "    def execute(self, sample, line):\n",
    "        try:\n",
    "            return campt(from_=self.mosaicpath, SAMPLE=sample, LINE=line, type_=\"image\")\n",
    "        except ProcessError as e:\n",
    "            print(e.stderr)\n",
    "            raise ValueError(\"CAMPT failed.\")\n",
    "\n",
    "    def calc_point(self, sample, line):\n",
    "        obj = pvl.loads(self.execute(sample, line))\n",
    "        self.dic = obj[\"GroundPoint\"]\n",
    "        return self.dic\n",
    "\n",
    "    @property\n",
    "    def body_vector(self):\n",
    "        vec = self.dic[\"BodyFixedCoordinate\"]\n",
    "        return vec_unit_to_astro(vec)\n",
    "\n",
    "    @property\n",
    "    def lat(self):\n",
    "        return self.dic[\"PlanetographicLatitude\"].value * u.deg\n",
    "\n",
    "    def get_two_results(self, p1, p2):\n",
    "        dic1 = self.calc_point(*p1)\n",
    "        dic2 = self.calc_point(*p2)\n",
    "        return dic1, dic2\n",
    "\n",
    "    def calc_pixel_diff_km(self, p1, p2):\n",
    "        \"\"\"Calculate BodyFixed Vector difference for two pixel coordinates.\n",
    "\n",
    "        Parameters:\n",
    "        p1, p2 : tuple\n",
    "            Tuples of (SAMPLE, LINE) coordinates\n",
    "        \"\"\"\n",
    "        dic1, dic2 = self.get_two_results(p1, p2)\n",
    "        key = \"BodyFixedCoordinate\"\n",
    "        v1 = vec_unit_to_astro(dic1[key])\n",
    "        v2 = vec_unit_to_astro(dic2[key])\n",
    "        return v1 - v2\n",
    "\n",
    "    def calc_pixel_diff_latlon(self, p1, p2, key=\"lat\"):\n",
    "        \"\"\"Calculate Lat/Lon difference for two pixel coordinates.\n",
    "\n",
    "        Parameters:\n",
    "        p1, p2 : tuple\n",
    "            Tuples of (SAMPLE, LINE) coordinates\n",
    "        \"\"\"\n",
    "        switch = dict(lat=\"PlanetographicLatitude\", lon=\"PositiveEast360Longitude\")\n",
    "        dic1, dic2 = self.get_two_results(p1, p2)\n",
    "        key = switch[key]\n",
    "        lat1 = dic1[key].value * u.deg\n",
    "        lat2 = dic2[key].value * u.deg\n",
    "        return lat1 - lat2"
   ]
  },
  {
   "cell_type": "code",
   "execution_count": null,
   "metadata": {},
   "outputs": [],
   "source": [
    "campter = CAMPTER(\"ESP_011680_1055\")"
   ]
  },
  {
   "cell_type": "code",
   "execution_count": null,
   "metadata": {},
   "outputs": [],
   "source": [
    "campter.dic[\"BodyFixedCoordinate\"]"
   ]
  },
  {
   "cell_type": "code",
   "execution_count": null,
   "metadata": {},
   "outputs": [],
   "source": [
    "campter.calc_pixel_diff_km((1, 1), (1.5, 1))"
   ]
  },
  {
   "cell_type": "code",
   "execution_count": null,
   "metadata": {},
   "outputs": [],
   "source": [
    "campter.calc_pixel_diff_latlon((1, 1), (2, 1), key=\"lat\").value"
   ]
  },
  {
   "cell_type": "code",
   "execution_count": null,
   "metadata": {},
   "outputs": [],
   "source": [
    "0.0000031"
   ]
  },
  {
   "cell_type": "code",
   "execution_count": null,
   "metadata": {},
   "outputs": [],
   "source": [
    "campter.dic.keys()"
   ]
  },
  {
   "cell_type": "code",
   "execution_count": null,
   "metadata": {},
   "outputs": [],
   "source": []
  },
  {
   "cell_type": "code",
   "execution_count": null,
   "metadata": {},
   "outputs": [],
   "source": [
    "from astropy import units as u\n",
    "from astropy.coordinates import CartesianRepresentation\n",
    "\n",
    "rep = CartesianRepresentation(campter.body_vector.value, unit=campter.body_vector.units)"
   ]
  },
  {
   "cell_type": "code",
   "execution_count": null,
   "metadata": {},
   "outputs": [],
   "source": [
    "rep"
   ]
  },
  {
   "cell_type": "code",
   "execution_count": null,
   "metadata": {},
   "outputs": [],
   "source": []
  },
  {
   "cell_type": "code",
   "execution_count": null,
   "metadata": {},
   "outputs": [],
   "source": []
  },
  {
   "cell_type": "code",
   "execution_count": null,
   "metadata": {},
   "outputs": [],
   "source": [
    "def xy2latlon(inpath):\n",
    "    d = dict(inpath=inpath)\n",
    "    xy = XY2LATLON(inpath)\n",
    "    ok = xy.process_inpath()  # inpath, *marking_mosaicpath_from_inpath(inpath))\n",
    "    d[\"ok\"] = ok\n",
    "    return d"
   ]
  },
  {
   "cell_type": "code",
   "execution_count": null,
   "metadata": {},
   "outputs": [],
   "source": []
  },
  {
   "cell_type": "code",
   "execution_count": null,
   "metadata": {},
   "outputs": [],
   "source": [
    "blotches = rm.read_blotch_file().drop_duplicates()\n",
    "fans = rm.read_fan_file().drop_duplicates()\n",
    "combined = pd.concat([blotches, fans])"
   ]
  },
  {
   "cell_type": "code",
   "execution_count": null,
   "metadata": {},
   "outputs": [],
   "source": [
    "obsids = combined.obsid.unique()"
   ]
  },
  {
   "cell_type": "code",
   "execution_count": null,
   "metadata": {},
   "outputs": [],
   "source": [
    "len(obsids)"
   ]
  },
  {
   "cell_type": "code",
   "execution_count": null,
   "metadata": {},
   "outputs": [],
   "source": [
    "for obsid in obsids:\n",
    "    xy = XY2LATLON(combined, rm.savefolder, obsid=obsid)\n",
    "    xy.combine_marking_files()"
   ]
  },
  {
   "cell_type": "markdown",
   "metadata": {},
   "source": [
    "## Execute `campt` for all obsids"
   ]
  },
  {
   "cell_type": "code",
   "execution_count": null,
   "metadata": {},
   "outputs": [],
   "source": [
    "from tqdm import tqdm\n",
    "\n",
    "for obsid in tqdm(obsids):\n",
    "    data = combined[combined.image_name == obsid]\n",
    "    xy = XY2LATLON(data, rm.savefolder)\n",
    "    xy.process_inpath()"
   ]
  },
  {
   "cell_type": "markdown",
   "metadata": {},
   "source": [
    "## Combine obsid results and merge with marking related files "
   ]
  },
  {
   "cell_type": "code",
   "execution_count": null,
   "metadata": {},
   "outputs": [],
   "source": [
    "pd.set_option(\"display.max_columns\", 100)"
   ]
  },
  {
   "cell_type": "code",
   "execution_count": null,
   "metadata": {},
   "outputs": [],
   "source": [
    "cols_to_merge = (\n",
    "    \"image_name image_x image_y PlanetocentricLatitude PlanetographicLatitude \"\n",
    "    \"PositiveEast360Longitude BodyFixedCoordinateX BodyFixedCoordinateY \"\n",
    "    \"BodyFixedCoordinateZ\".split()\n",
    ")\n",
    "index = [\"image_name\", \"image_x\", \"image_y\"]\n",
    "\n",
    "\n",
    "def combine_campt_into_catalog():\n",
    "    for marking in [\"fans\", \"blotches\"]:\n",
    "        print(marking)\n",
    "        data = eval(marking)\n",
    "        bucket = []\n",
    "        for obsid in obsids:\n",
    "            df = data.query(\"image_name==@obsid\")\n",
    "            if df.shape[0] == 0:\n",
    "                continue\n",
    "            xy = XY2LATLON(df, rm.savefolder, obsid=obsid)\n",
    "            savepath = xy.savepath_blotch if marking == \"blotches\" else xy.savepath_fan\n",
    "            bucket.append(pd.read_csv(savepath).assign(image_name=obsid))\n",
    "\n",
    "        ground = pd.concat(bucket).drop_duplicates()\n",
    "        ground.rename(dict(Sample=\"image_x\", Line=\"image_y\"), axis=1, inplace=True)\n",
    "\n",
    "        data.sort_values(by=index, inplace=True)\n",
    "        ground.sort_values(by=index, inplace=True)\n",
    "\n",
    "        merged = data.merge(ground[cols_to_merge], on=index)\n",
    "        savepath = rm.blotch_merged if marking == \"blotches\" else rm.fan_merged\n",
    "        if marking == \"fans\":\n",
    "            merged.version = merged.version.astype(\"int\")\n",
    "        merged.to_csv(savepath, index=False)"
   ]
  },
  {
   "cell_type": "code",
   "execution_count": null,
   "metadata": {},
   "outputs": [],
   "source": [
    "cols_to_merge = (\n",
    "    \"obsid image_x image_y PlanetocentricLatitude PlanetographicLatitude \"\n",
    "    \"PositiveEast360Longitude BodyFixedCoordinateX BodyFixedCoordinateY \"\n",
    "    \"BodyFixedCoordinateZ\".split()\n",
    ")\n",
    "\n",
    "index = [\"obsid\", \"image_x\", \"image_y\"]\n",
    "\n",
    "\n",
    "def get_all_campt_results():\n",
    "    bucket = []\n",
    "    for obsid in obsids:\n",
    "        xy = XY2LATLON(None, rm.savefolder, obsid=obsid)\n",
    "        bucket.append(pd.read_csv(xy.savepath).assign(obsid=obsid))\n",
    "\n",
    "    ground = pd.concat(bucket).drop_duplicates()\n",
    "    ground.rename(dict(Sample=\"image_x\", Line=\"image_y\"), axis=1, inplace=True)\n",
    "    return ground\n",
    "\n",
    "\n",
    "def combine_campt_into_catalog(fans, blotches):\n",
    "    ground = get_all_campt_results()\n",
    "\n",
    "    fans = fans.merge(ground[cols_to_merge], on=index)\n",
    "    blotches = blotches.merge(ground[cols_to_merge], on=index)\n",
    "    return fans, blotches"
   ]
  },
  {
   "cell_type": "code",
   "execution_count": null,
   "metadata": {},
   "outputs": [],
   "source": [
    "ground = get_all_campt_results()"
   ]
  },
  {
   "cell_type": "code",
   "execution_count": null,
   "metadata": {},
   "outputs": [],
   "source": [
    "fans.shape"
   ]
  },
  {
   "cell_type": "code",
   "execution_count": null,
   "metadata": {},
   "outputs": [],
   "source": [
    "fans.merge(ground[cols_to_merge], on=index).shape"
   ]
  },
  {
   "cell_type": "code",
   "execution_count": null,
   "metadata": {},
   "outputs": [],
   "source": [
    "blotches.shape"
   ]
  },
  {
   "cell_type": "code",
   "execution_count": null,
   "metadata": {},
   "outputs": [],
   "source": [
    "blotches.merge(ground[cols_to_merge], on=index).shape"
   ]
  },
  {
   "cell_type": "code",
   "execution_count": null,
   "metadata": {},
   "outputs": [],
   "source": [
    "fans.columns"
   ]
  },
  {
   "cell_type": "markdown",
   "metadata": {
    "heading_collapsed": true
   },
   "source": [
    "# Tile coordinates"
   ]
  },
  {
   "cell_type": "code",
   "execution_count": null,
   "metadata": {
    "hidden": true
   },
   "outputs": [],
   "source": [
    "from planet4.projection import TileCalculator, xy_to_hirise\n",
    "from planet4 import projection as proj"
   ]
  },
  {
   "cell_type": "code",
   "execution_count": null,
   "metadata": {
    "hidden": true
   },
   "outputs": [],
   "source": [
    "edrpath = io.get_ground_projection_root()\n",
    "edrpath"
   ]
  },
  {
   "cell_type": "code",
   "execution_count": null,
   "metadata": {
    "hidden": true
   },
   "outputs": [],
   "source": [
    "obsids.shape"
   ]
  },
  {
   "cell_type": "code",
   "execution_count": null,
   "metadata": {
    "hidden": true
   },
   "outputs": [],
   "source": [
    "cubepaths = [edrpath / obsid / f\"{obsid}_mosaic_RED45.cub\" for obsid in obsids]"
   ]
  },
  {
   "cell_type": "code",
   "execution_count": null,
   "metadata": {
    "hidden": true
   },
   "outputs": [],
   "source": [
    "cubepaths[:3]"
   ]
  },
  {
   "cell_type": "code",
   "execution_count": null,
   "metadata": {
    "hidden": true
   },
   "outputs": [],
   "source": [
    "# testing\n",
    "tc = TileCalculator(cubepaths[0])\n",
    "\n",
    "tc.calc_tile_coords()\n",
    "\n",
    "df = pd.read_csv(tc.campt_results_path)\n",
    "\n",
    "pd.set_option(\"max_columns\", 60)\n",
    "\n",
    "%matplotlib inline"
   ]
  },
  {
   "cell_type": "markdown",
   "metadata": {
    "hidden": true
   },
   "source": [
    "### Check for presence of campt files"
   ]
  },
  {
   "cell_type": "code",
   "execution_count": null,
   "metadata": {
    "hidden": true
   },
   "outputs": [],
   "source": [
    "todo = []\n",
    "for cubepath in cubepaths:\n",
    "    tilecalc = proj.TileCalculator(cubepath, read_data=False)\n",
    "    if not tilecalc.campt_results_path.exists():\n",
    "        todo.append(cubepath)\n",
    "print(f\"{len(todo)} still todo.\")"
   ]
  },
  {
   "cell_type": "code",
   "execution_count": null,
   "metadata": {
    "hidden": true
   },
   "outputs": [],
   "source": [
    "def get_tile_coords(cubepath):\n",
    "    from planet4.projection import TileCalculator\n",
    "\n",
    "    tilecalc = TileCalculator(cubepath)\n",
    "    tilecalc.calc_tile_coords()"
   ]
  },
  {
   "cell_type": "code",
   "execution_count": null,
   "metadata": {
    "hidden": true
   },
   "outputs": [],
   "source": [
    "results = execute_in_parallel(get_tile_coords, todo)"
   ]
  },
  {
   "cell_type": "code",
   "execution_count": null,
   "metadata": {
    "hidden": true
   },
   "outputs": [],
   "source": [
    "len(cubepaths)"
   ]
  },
  {
   "cell_type": "code",
   "execution_count": null,
   "metadata": {
    "hidden": true
   },
   "outputs": [],
   "source": [
    "bucket = []\n",
    "from tqdm import tqdm\n",
    "\n",
    "for cubepath in tqdm(cubepaths):\n",
    "    tilecalc = proj.TileCalculator(cubepath, read_data=False)\n",
    "    bucket.append(tilecalc.tile_coords_df)\n",
    "\n",
    "coords = pd.concat(bucket, ignore_index=True)"
   ]
  },
  {
   "cell_type": "code",
   "execution_count": null,
   "metadata": {
    "hidden": true
   },
   "outputs": [],
   "source": [
    "coords.shape"
   ]
  },
  {
   "cell_type": "code",
   "execution_count": null,
   "metadata": {
    "hidden": true
   },
   "outputs": [],
   "source": [
    "coords.head()"
   ]
  },
  {
   "cell_type": "code",
   "execution_count": null,
   "metadata": {
    "hidden": true
   },
   "outputs": [],
   "source": [
    "catalog = \"catalog_1.0b3\""
   ]
  },
  {
   "cell_type": "code",
   "execution_count": null,
   "metadata": {
    "hidden": true
   },
   "outputs": [],
   "source": [
    "savefolder = io.analysis_folder() / catalog / f\"{roi.name.lower()}\"\n",
    "savefolder.mkdir(exist_ok=True)\n",
    "savename = savefolder / f\"{roi.name.lower()}_tile_coords.csv\""
   ]
  },
  {
   "cell_type": "code",
   "execution_count": null,
   "metadata": {
    "hidden": true
   },
   "outputs": [],
   "source": [
    "savefolder = io.data_root / catalog"
   ]
  },
  {
   "cell_type": "code",
   "execution_count": null,
   "metadata": {
    "hidden": true
   },
   "outputs": [],
   "source": [
    "savename = savefolder / \"all_images_tile_coords.csv\""
   ]
  },
  {
   "cell_type": "code",
   "execution_count": null,
   "metadata": {
    "hidden": true
   },
   "outputs": [],
   "source": [
    "coords.to_csv(savename, index=False)"
   ]
  },
  {
   "cell_type": "code",
   "execution_count": null,
   "metadata": {
    "hidden": true
   },
   "outputs": [],
   "source": [
    "coords = pd.read_csv(savename)"
   ]
  },
  {
   "cell_type": "code",
   "execution_count": null,
   "metadata": {
    "hidden": true
   },
   "outputs": [],
   "source": [
    "coords.shape"
   ]
  },
  {
   "cell_type": "code",
   "execution_count": null,
   "metadata": {
    "hidden": true
   },
   "outputs": [],
   "source": [
    "coords.tail()"
   ]
  },
  {
   "cell_type": "code",
   "execution_count": null,
   "metadata": {
    "hidden": true
   },
   "outputs": [],
   "source": [
    "%matplotlib nbagg"
   ]
  },
  {
   "cell_type": "code",
   "execution_count": null,
   "metadata": {
    "hidden": true
   },
   "outputs": [],
   "source": [
    "coords.plot(\n",
    "    kind=\"scatter\", marker=\".\", x=\"BodyFixedCoordinateY\", y=\"BodyFixedCoordinateX\"\n",
    ")"
   ]
  },
  {
   "cell_type": "code",
   "execution_count": null,
   "metadata": {
    "hidden": true
   },
   "outputs": [],
   "source": [
    "ax = plt.gca()\n",
    "\n",
    "ax.invert_xaxis()\n",
    "\n",
    "ax.invert_yaxis()\n",
    "\n",
    "ax.set_title(f\"{roi} tile center coordinates\")\n",
    "\n",
    "fig = plt.gcf()\n",
    "\n",
    "fig.savefig(\n",
    "    f\"/Users/klay6683/Dropbox/src/p4_paper1/figures/{roi.lower()}_tile_center_coordinates.png\",\n",
    "    dpi=200,\n",
    ")"
   ]
  },
  {
   "cell_type": "code",
   "execution_count": null,
   "metadata": {
    "hidden": true
   },
   "outputs": [],
   "source": [
    "from matplotlib.colors import LogNorm"
   ]
  },
  {
   "cell_type": "code",
   "execution_count": null,
   "metadata": {
    "hidden": true
   },
   "outputs": [],
   "source": [
    "xycoords = coords[\"BodyFixedCoordinateX BodyFixedCoordinateY\".split()]"
   ]
  },
  {
   "cell_type": "code",
   "execution_count": null,
   "metadata": {
    "hidden": true
   },
   "outputs": [],
   "source": [
    "xrange = []\n",
    "yrange = []\n",
    "for col, bucket in zip(xycoords.columns, [xrange, yrange]):\n",
    "    coord = xycoords[col]\n",
    "    bucket.append(int(coord.min()))\n",
    "    bucket.append(int(coord.max()))"
   ]
  },
  {
   "cell_type": "code",
   "execution_count": null,
   "metadata": {
    "hidden": true
   },
   "outputs": [],
   "source": [
    "xrange\n",
    "yrange"
   ]
  },
  {
   "cell_type": "code",
   "execution_count": null,
   "metadata": {
    "hidden": true
   },
   "outputs": [],
   "source": [
    "gridres = 0.5\n",
    "xedges = np.arange(xrange[0], xrange[1] + 1, gridres)\n",
    "yedges = np.arange(yrange[0], yrange[1] + 1, gridres)"
   ]
  },
  {
   "cell_type": "code",
   "execution_count": null,
   "metadata": {
    "hidden": true
   },
   "outputs": [],
   "source": [
    "plt.figure()\n",
    "plt.scatter(\n",
    "    xycoords.BodyFixedCoordinateY,\n",
    "    xycoords.BodyFixedCoordinateX,\n",
    "    marker=\".\",\n",
    "    alpha=0.1,\n",
    "    color=\"red\",\n",
    ")\n",
    "\n",
    "counts, y_ret, x_ret, _ = plt.hist2d(\n",
    "    xycoords.BodyFixedCoordinateY,\n",
    "    xycoords.BodyFixedCoordinateX,\n",
    "    bins=[yedges, xedges],\n",
    "    cmin=10,\n",
    ")\n",
    "plt.colorbar()\n",
    "\n",
    "plt.hlines(yedges, *xrange, lw=0.5)\n",
    "plt.vlines(xedges, *yrange, lw=0.5)\n",
    "plt.gca().axes.set_aspect(\"equal\", \"datalim\")\n",
    "plt.gca().invert_xaxis()\n",
    "plt.gca().invert_yaxis()\n",
    "# plt.savefig('ithaca_coverage.png', dpi=200)"
   ]
  },
  {
   "cell_type": "code",
   "execution_count": null,
   "metadata": {
    "hidden": true
   },
   "outputs": [],
   "source": [
    "H, y_ret, x_ret = np.histogram2d(\n",
    "    xycoords.BodyFixedCoordinateY, xycoords.BodyFixedCoordinateX, bins=[yedges, xedges]\n",
    ")"
   ]
  },
  {
   "cell_type": "code",
   "execution_count": null,
   "metadata": {
    "hidden": true
   },
   "outputs": [],
   "source": [
    "yindices, xindices = np.where(H > 11)"
   ]
  },
  {
   "cell_type": "code",
   "execution_count": null,
   "metadata": {
    "hidden": true
   },
   "outputs": [],
   "source": [
    "x1 = -288.402\n",
    "y1 = -3.17798\n",
    "x2 = -283.19\n",
    "y2 = -6.21769\n",
    "m = (y1 - y2) / (x1 - x2)\n",
    "b = y1 - m * x1\n",
    "b"
   ]
  },
  {
   "cell_type": "code",
   "execution_count": null,
   "metadata": {
    "hidden": true
   },
   "outputs": [],
   "source": [
    "def f(x):\n",
    "    return m * x + b"
   ]
  },
  {
   "cell_type": "code",
   "execution_count": null,
   "metadata": {
    "hidden": true
   },
   "outputs": [],
   "source": [
    "f(-288)"
   ]
  },
  {
   "cell_type": "code",
   "execution_count": null,
   "metadata": {
    "hidden": true
   },
   "outputs": [],
   "source": [
    "box1 = []\n",
    "box2 = []\n",
    "for xind, yind in zip(xindices, yindices):\n",
    "    xlow = x_ret[xind]\n",
    "    xhigh = x_ret[xind + 1]\n",
    "    xmean = (xlow + xhigh) / 2\n",
    "    ylow = y_ret[yind]\n",
    "    yhigh = y_ret[yind + 1]\n",
    "    ymean = (ylow + yhigh) / 2\n",
    "    x_query = \"@xlow < BodyFixedCoordinateX < @xhigh\"\n",
    "    y_query = \"@ylow < BodyFixedCoordinateY < @yhigh\"\n",
    "    boxtmp = coords.query(f\"{x_query} and {y_query}\")\n",
    "    if f(xmean) > ymean:  # if the separating line is above the current y-value\n",
    "        box1.append(boxtmp)\n",
    "    elif f(xmean) < ymean:\n",
    "        if xmean > -281.5:\n",
    "            box1.append(boxtmp)\n",
    "        else:\n",
    "            box2.append(boxtmp)\n",
    "box1 = pd.concat(box1, ignore_index=True)\n",
    "box2 = pd.concat(box2, ignore_index=True)"
   ]
  },
  {
   "cell_type": "code",
   "execution_count": null,
   "metadata": {
    "hidden": true
   },
   "outputs": [],
   "source": [
    "import seaborn as sns\n",
    "\n",
    "sns.set_context(\"poster\")"
   ]
  },
  {
   "cell_type": "code",
   "execution_count": null,
   "metadata": {
    "hidden": true
   },
   "outputs": [],
   "source": [
    "ax = box1.plot.scatter(\n",
    "    x=\"BodyFixedCoordinateX\", y=\"BodyFixedCoordinateY\", color=\"green\"\n",
    ")\n",
    "box2.plot.scatter(\n",
    "    x=\"BodyFixedCoordinateX\", y=\"BodyFixedCoordinateY\", color=\"blue\", ax=ax\n",
    ")\n",
    "x = np.linspace(-290, -278, 100)\n",
    "ax.plot(x, m * x + b, c=\"red\")\n",
    "ax.hlines(yedges, *xrange, lw=0.5)\n",
    "ax.vlines(xedges, *yrange, lw=0.5)\n",
    "ax.set_xlim(-293, -276)\n",
    "ax.set_ylim(-11, 0)\n",
    "ax.set_title(\"Ithaca P4 tile coords with > 11 entries in 0.25 sqkm cell\")\n",
    "fig = ax.get_figure()\n",
    "fig.savefig(\"/Users/klay6683/Dropbox/p4_4Chase/ithaca/box_selection.png\", dpi=200)"
   ]
  },
  {
   "cell_type": "code",
   "execution_count": null,
   "metadata": {
    "hidden": true
   },
   "outputs": [],
   "source": [
    "box1.image_id.to_csv(\"box1_image_ids.csv\", index=False)\n",
    "box2.image_id.to_csv(\"box2_image_ids.csv\", index=False)"
   ]
  },
  {
   "cell_type": "code",
   "execution_count": null,
   "metadata": {
    "hidden": true
   },
   "outputs": [],
   "source": []
  },
  {
   "cell_type": "markdown",
   "metadata": {
    "heading_collapsed": true
   },
   "source": [
    "# Metadata"
   ]
  },
  {
   "cell_type": "code",
   "execution_count": null,
   "metadata": {
    "hidden": true
   },
   "outputs": [],
   "source": [
    "meta = pd.read_hdf(\n",
    "    \"/Users/klay6683/Dropbox/SternchenAndMe/python_stuff/hirise_rdr_index.hdf\"\n",
    ")"
   ]
  },
  {
   "cell_type": "code",
   "execution_count": null,
   "metadata": {
    "hidden": true
   },
   "outputs": [],
   "source": [
    "colorimgs = meta[meta.PRODUCT_ID.str.endswith(\"_COLOR\")]"
   ]
  },
  {
   "cell_type": "code",
   "execution_count": null,
   "metadata": {
    "hidden": true
   },
   "outputs": [],
   "source": [
    "coords = coords.merge(colorimgs, right_on=\"OBSERVATION_ID\", left_on=\"image_name\")"
   ]
  },
  {
   "cell_type": "code",
   "execution_count": null,
   "metadata": {
    "hidden": true
   },
   "outputs": [],
   "source": [
    "coords.SOLAR_LONGITUDE.max()"
   ]
  },
  {
   "cell_type": "code",
   "execution_count": null,
   "metadata": {
    "hidden": true
   },
   "outputs": [],
   "source": [
    "coords.columns"
   ]
  },
  {
   "cell_type": "code",
   "execution_count": null,
   "metadata": {
    "hidden": true
   },
   "outputs": [],
   "source": [
    "coords.groupby(\"image_name\").IMAGE_LINES.mean()"
   ]
  },
  {
   "cell_type": "code",
   "execution_count": null,
   "metadata": {
    "hidden": true
   },
   "outputs": [],
   "source": []
  }
 ],
 "metadata": {
  "kernelspec": {
   "display_name": "py311",
   "language": "python",
   "name": "python3"
  },
  "language_info": {
   "codemirror_mode": {
    "name": "ipython",
    "version": 3
   },
   "file_extension": ".py",
   "mimetype": "text/x-python",
   "name": "python",
   "nbconvert_exporter": "python",
   "pygments_lexer": "ipython3",
   "version": "3.11.9"
  },
  "latex_envs": {
   "LaTeX_envs_menu_present": true,
   "bibliofile": "biblio.bib",
   "cite_by": "apalike",
   "current_citInitial": 1,
   "eqLabelWithNumbers": true,
   "eqNumInitial": 1,
   "labels_anchors": false,
   "latex_user_defs": false,
   "report_style_numbering": false,
   "user_envs_cfg": false
  },
  "toc": {
   "nav_menu": {
    "height": "101px",
    "width": "253px"
   },
   "number_sections": false,
   "sideBar": false,
   "skip_h1_title": false,
   "title_cell": "Table of Contents",
   "title_sidebar": "Contents",
   "toc_cell": true,
   "toc_position": {
    "height": "197px",
    "left": "775px",
    "right": "269px",
    "top": "110px",
    "width": "180px"
   },
   "toc_section_display": "block",
   "toc_window_display": false
  }
 },
 "nbformat": 4,
 "nbformat_minor": 2
}
