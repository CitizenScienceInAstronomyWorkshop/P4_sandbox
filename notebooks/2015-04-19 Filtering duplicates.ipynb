{
 "cells": [
  {
   "cell_type": "code",
   "execution_count": 5,
   "metadata": {
    "collapsed": false
   },
   "outputs": [],
   "source": [
    "from planet4.io import get_image_id, get_image_name, get_list_of_image_names"
   ]
  },
  {
   "cell_type": "code",
   "execution_count": 2,
   "metadata": {
    "collapsed": true
   },
   "outputs": [],
   "source": [
    "from planet4.region_data import Inca"
   ]
  },
  {
   "cell_type": "code",
   "execution_count": 6,
   "metadata": {
    "collapsed": false
   },
   "outputs": [],
   "source": [
    "data = get_list_of_image_names(Inca.season1)"
   ]
  },
  {
   "cell_type": "code",
   "execution_count": 8,
   "metadata": {
    "collapsed": false
   },
   "outputs": [
    {
     "name": "stdout",
     "output_type": "stream",
     "text": [
      "<class 'pandas.core.frame.DataFrame'>\n",
      "Int64Index: 498871 entries, 9496514 to 12845064\n",
      "Data columns (total 23 columns):\n",
      "classification_id    498871 non-null object\n",
      "created_at           498871 non-null datetime64[ns]\n",
      "image_id             498871 non-null object\n",
      "image_name           498871 non-null object\n",
      "image_url            498871 non-null object\n",
      "user_name            498871 non-null object\n",
      "marking              498871 non-null object\n",
      "x_tile               498871 non-null int64\n",
      "y_tile               498871 non-null int64\n",
      "acquisition_date     498871 non-null datetime64[ns]\n",
      "local_mars_time      498871 non-null object\n",
      "x                    422145 non-null float64\n",
      "y                    422145 non-null float64\n",
      "image_x              422145 non-null float64\n",
      "image_y              422145 non-null float64\n",
      "radius_1             226544 non-null float64\n",
      "radius_2             226544 non-null float64\n",
      "distance             132975 non-null float64\n",
      "angle                359519 non-null float64\n",
      "spread               483217 non-null float64\n",
      "version              483217 non-null float64\n",
      "hirise_x             422145 non-null float64\n",
      "hirise_y             422145 non-null float64\n",
      "dtypes: datetime64[ns](2), float64(12), int64(2), object(7)\n",
      "memory usage: 91.3+ MB\n"
     ]
    }
   ],
   "source": [
    "data.info()"
   ]
  },
  {
   "cell_type": "code",
   "execution_count": 9,
   "metadata": {
    "collapsed": false
   },
   "outputs": [],
   "source": [
    "image_ids = data.image_id.unique()"
   ]
  },
  {
   "cell_type": "code",
   "execution_count": 10,
   "metadata": {
    "collapsed": true
   },
   "outputs": [],
   "source": [
    "df = data[data.image_id==image_ids[0]]"
   ]
  },
  {
   "cell_type": "code",
   "execution_count": 11,
   "metadata": {
    "collapsed": false
   },
   "outputs": [
    {
     "name": "stdout",
     "output_type": "stream",
     "text": [
      "<class 'pandas.core.frame.DataFrame'>\n",
      "Int64Index: 87 entries, 9496514 to 11533480\n",
      "Data columns (total 23 columns):\n",
      "classification_id    87 non-null object\n",
      "created_at           87 non-null datetime64[ns]\n",
      "image_id             87 non-null object\n",
      "image_name           87 non-null object\n",
      "image_url            87 non-null object\n",
      "user_name            87 non-null object\n",
      "marking              87 non-null object\n",
      "x_tile               87 non-null int64\n",
      "y_tile               87 non-null int64\n",
      "acquisition_date     87 non-null datetime64[ns]\n",
      "local_mars_time      87 non-null object\n",
      "x                    70 non-null float64\n",
      "y                    70 non-null float64\n",
      "image_x              70 non-null float64\n",
      "image_y              70 non-null float64\n",
      "radius_1             58 non-null float64\n",
      "radius_2             58 non-null float64\n",
      "distance             0 non-null float64\n",
      "angle                58 non-null float64\n",
      "spread               87 non-null float64\n",
      "version              87 non-null float64\n",
      "hirise_x             70 non-null float64\n",
      "hirise_y             70 non-null float64\n",
      "dtypes: datetime64[ns](2), float64(12), int64(2), object(7)\n",
      "memory usage: 16.3+ KB\n"
     ]
    }
   ],
   "source": [
    "df.info()"
   ]
  },
  {
   "cell_type": "code",
   "execution_count": 13,
   "metadata": {
    "collapsed": false
   },
   "outputs": [
    {
     "data": {
      "text/plain": [
       "classification_id         user_name                                     \n",
       "5147b77ca202b4039700068c  not-logged-in-1aba962442d2759bc2b1a0efa97b7c60    1\n",
       "5147ca3fa202b40397000ca3  VanessaEsparza                                    6\n",
       "514ca6cd7c1d5e04d300dcce  7bluebird7                                        8\n",
       "515f203fc237d93b3a0013a2  Pandabeara78                                      1\n",
       "51621dfd79807c3b9600938c  Dwelling                                          1\n",
       "518d60dc2887f31f4c03b33a  Hooloovoo                                         1\n",
       "519bb053a507e8043d000ca4  Higginsj                                          2\n",
       "51eef91c12af046299007e35  merxator                                          4\n",
       "51f50c24be70a605140211da  Wiblet                                            1\n",
       "52559b9472c10938eb0017fb  not-logged-in-c040503abf6d2f63105f4fd3e730d254    1\n",
       "525959677498327ba6005868  not-logged-in-e2f11c59134f6da6e95d796422ae2a12    1\n",
       "5269058272c1096b9b019558  not-logged-in-353e5e708a8b9153ce0037f02f3f4d3f    1\n",
       "5269396b72c1096b9b01de0c  gwyneth walker                                    1\n",
       "5295c6c9134bb305cd0033a6  not-logged-in-e3ff8f5a6cef8a64bc2ba1c51213abbf    1\n",
       "52caf947996c9e44cc0004b7  simmons4                                          8\n",
       "531f344f21c81f1234000788  brentvanosch                                      3\n",
       "531f8d5221c81f18c8001219  VoyagerST                                         4\n",
       "53208e8f21c81f2d53000602  Popcycler                                         4\n",
       "5320d0eabc714c0969000dd5  simontopliss                                      6\n",
       "53215fdb21c81f674a000d75  moon001                                           1\n",
       "5321fa34bc714c036100024e  orionsam1                                         1\n",
       "5324b652d33e51014e000dd1  adonnel8@uwo.ca                                   1\n",
       "5324d6ff21c81f2fa4001271  Fodhla                                            8\n",
       "532695e082b33b1aff001afc  cgreen62                                          5\n",
       "532df6c3d33e51449200148f  scienceisgreat                                    1\n",
       "53307568699fda454c0003a9  not-logged-in-21f20b3ab603fef04c888babea43d9ab    1\n",
       "5332a482699fda676c001647  naythe                                            6\n",
       "533474d4da653d184200002b  b.umberto                                         1\n",
       "533c7726da653d3d470010b8  not-logged-in-64d5db1df5905903130e2440e486f17a    1\n",
       "533cb909699fda7ea6000acb  dennispattensr                                    6\n",
       "dtype: int64"
      ]
     },
     "execution_count": 13,
     "metadata": {},
     "output_type": "execute_result"
    }
   ],
   "source": [
    "df.groupby(['classification_id','user_name']).size()"
   ]
  },
  {
   "cell_type": "code",
   "execution_count": 77,
   "metadata": {
    "collapsed": true
   },
   "outputs": [],
   "source": [
    "def process_image_name(image_name):\n",
    "\n",
    "    def process_user_group(g):\n",
    "        c_id = g.sort('created_at').classification_id.iloc[0]\n",
    "        return g[g.classification_id == c_id]\n",
    "\n",
    "    data = df[df.image_name == image_name]\n",
    "    data = data.groupby(['user_name']).apply(\n",
    "        process_user_group).reset_index(drop=True)\n",
    "    fname = 'temp_' + image_name + '.h5'\n",
    "    data.to_hdf(fname, 'df')\n",
    "\n",
    "def process_group(g):\n",
    "    user_data.sort_index(inplace=True)\n",
    "    return user_data.f"
   ]
  },
  {
   "cell_type": "code",
   "execution_count": 165,
   "metadata": {
    "collapsed": true
   },
   "outputs": [],
   "source": [
    "def process_user_group(g):\n",
    "    c_id = g.sort('created_at').classification_id.iloc[0]\n",
    "    return g[g.classification_id == c_id]"
   ]
  },
  {
   "cell_type": "code",
   "execution_count": 139,
   "metadata": {
    "collapsed": false
   },
   "outputs": [],
   "source": [
    "filtered_data = df.groupby(['user_name']).apply(process_user_group)"
   ]
  },
  {
   "cell_type": "code",
   "execution_count": 16,
   "metadata": {
    "collapsed": true
   },
   "outputs": [],
   "source": [
    "from planet4 import helper_functions as hf"
   ]
  },
  {
   "cell_type": "code",
   "execution_count": 80,
   "metadata": {
    "collapsed": false
   },
   "outputs": [],
   "source": [
    "def process_image_id(image_id):\n",
    "    df = data[data.image_id==image_id]\n",
    "    n_class = df.classification_id.unique().size\n",
    "    results = hf.classification_counts_per_user(df).value_counts()\n",
    "    if not any(results.index>1):\n",
    "        return n_class, n_class\n",
    "    else:\n",
    "        n_class_real = results[1]\n",
    "        for index in results.index[results.index>1]:\n",
    "            n_class_real += results[index]\n",
    "        return (n_class_real, n_class)"
   ]
  },
  {
   "cell_type": "code",
   "execution_count": 81,
   "metadata": {
    "collapsed": false,
    "scrolled": true
   },
   "outputs": [],
   "source": [
    "real_class_percents = []\n",
    "for image_id in image_ids:\n",
    "    real_class_percents.append(process_image_id(image_id))"
   ]
  },
  {
   "cell_type": "code",
   "execution_count": 92,
   "metadata": {
    "collapsed": false
   },
   "outputs": [],
   "source": [
    "%matplotlib inline\n",
    "import matplotlib.pyplot as plt"
   ]
  },
  {
   "cell_type": "code",
   "execution_count": 83,
   "metadata": {
    "collapsed": false
   },
   "outputs": [],
   "source": [
    "s = pd.DataFrame(real_class_percents, index=image_ids, columns=['real_n_class', 'expected_n_class'])"
   ]
  },
  {
   "cell_type": "code",
   "execution_count": 84,
   "metadata": {
    "collapsed": false
   },
   "outputs": [
    {
     "data": {
      "text/html": [
       "<div style=\"max-height:1000px;max-width:1500px;overflow:auto;\">\n",
       "<table border=\"1\" class=\"dataframe\">\n",
       "  <thead>\n",
       "    <tr style=\"text-align: right;\">\n",
       "      <th></th>\n",
       "      <th>real_n_class</th>\n",
       "      <th>expected_n_class</th>\n",
       "    </tr>\n",
       "  </thead>\n",
       "  <tbody>\n",
       "    <tr>\n",
       "      <th>APF0000zby</th>\n",
       "      <td>30</td>\n",
       "      <td>30</td>\n",
       "    </tr>\n",
       "    <tr>\n",
       "      <th>APF0000zb5</th>\n",
       "      <td>30</td>\n",
       "      <td>30</td>\n",
       "    </tr>\n",
       "    <tr>\n",
       "      <th>APF0000zbr</th>\n",
       "      <td>30</td>\n",
       "      <td>30</td>\n",
       "    </tr>\n",
       "    <tr>\n",
       "      <th>APF0000zb7</th>\n",
       "      <td>30</td>\n",
       "      <td>30</td>\n",
       "    </tr>\n",
       "    <tr>\n",
       "      <th>APF0000zc1</th>\n",
       "      <td>29</td>\n",
       "      <td>30</td>\n",
       "    </tr>\n",
       "  </tbody>\n",
       "</table>\n",
       "</div>"
      ],
      "text/plain": [
       "            real_n_class  expected_n_class\n",
       "APF0000zby            30                30\n",
       "APF0000zb5            30                30\n",
       "APF0000zbr            30                30\n",
       "APF0000zb7            30                30\n",
       "APF0000zc1            29                30"
      ]
     },
     "execution_count": 84,
     "metadata": {},
     "output_type": "execute_result"
    }
   ],
   "source": [
    "s.head()"
   ]
  },
  {
   "cell_type": "code",
   "execution_count": 88,
   "metadata": {
    "collapsed": false
   },
   "outputs": [
    {
     "data": {
      "text/plain": [
       "<matplotlib.axes._subplots.AxesSubplot at 0x11da5e240>"
      ]
     },
     "execution_count": 88,
     "metadata": {},
     "output_type": "execute_result"
    }
   ],
   "source": [
    "s.plot()"
   ]
  },
  {
   "cell_type": "code",
   "execution_count": 99,
   "metadata": {
    "collapsed": true
   },
   "outputs": [],
   "source": [
    "import seaborn as sns\n",
    "sns.set_context('talk')"
   ]
  },
  {
   "cell_type": "code",
   "execution_count": 94,
   "metadata": {
    "collapsed": false
   },
   "outputs": [
    {
     "data": {
      "text/html": [
       "<div style=\"max-height:1000px;max-width:1500px;overflow:auto;\">\n",
       "<table border=\"1\" class=\"dataframe\">\n",
       "  <thead>\n",
       "    <tr style=\"text-align: right;\">\n",
       "      <th></th>\n",
       "      <th>real_n_class</th>\n",
       "      <th>expected_n_class</th>\n",
       "    </tr>\n",
       "  </thead>\n",
       "  <tbody>\n",
       "    <tr>\n",
       "      <th>APF0000zby</th>\n",
       "      <td>30</td>\n",
       "      <td>30</td>\n",
       "    </tr>\n",
       "    <tr>\n",
       "      <th>APF0000zb5</th>\n",
       "      <td>30</td>\n",
       "      <td>30</td>\n",
       "    </tr>\n",
       "    <tr>\n",
       "      <th>APF0000zbr</th>\n",
       "      <td>30</td>\n",
       "      <td>30</td>\n",
       "    </tr>\n",
       "    <tr>\n",
       "      <th>APF0000zb7</th>\n",
       "      <td>30</td>\n",
       "      <td>30</td>\n",
       "    </tr>\n",
       "    <tr>\n",
       "      <th>APF0000zc1</th>\n",
       "      <td>29</td>\n",
       "      <td>30</td>\n",
       "    </tr>\n",
       "  </tbody>\n",
       "</table>\n",
       "</div>"
      ],
      "text/plain": [
       "            real_n_class  expected_n_class\n",
       "APF0000zby            30                30\n",
       "APF0000zb5            30                30\n",
       "APF0000zbr            30                30\n",
       "APF0000zb7            30                30\n",
       "APF0000zc1            29                30"
      ]
     },
     "execution_count": 94,
     "metadata": {},
     "output_type": "execute_result"
    }
   ],
   "source": [
    "s.head()"
   ]
  },
  {
   "cell_type": "code",
   "execution_count": 96,
   "metadata": {
    "collapsed": false
   },
   "outputs": [],
   "source": [
    "s = s.assign(fraction=s.real_n_class/s.expected_n_class)"
   ]
  },
  {
   "cell_type": "code",
   "execution_count": 102,
   "metadata": {
    "collapsed": false
   },
   "outputs": [
    {
     "data": {
      "text/plain": [
       "<matplotlib.axes._subplots.AxesSubplot at 0x122ea2320>"
      ]
     },
     "execution_count": 102,
     "metadata": {},
     "output_type": "execute_result"
    },
    {
     "data": {
      "image/png": "[encoded data removed]",
      "text/plain": [
       "<matplotlib.figure.Figure at 0x12354ac18>"
      ]
     },
     "metadata": {},
     "output_type": "display_data"
    }
   ],
   "source": [
    "s.fraction.plot(style='.',title='Inca City, season1, fraction of good classifications')"
   ]
  },
  {
   "cell_type": "code",
   "execution_count": 101,
   "metadata": {
    "collapsed": false
   },
   "outputs": [
    {
     "data": {
      "text/html": [
       "<div style=\"max-height:1000px;max-width:1500px;overflow:auto;\">\n",
       "<table border=\"1\" class=\"dataframe\">\n",
       "  <thead>\n",
       "    <tr style=\"text-align: right;\">\n",
       "      <th></th>\n",
       "      <th>real_n_class</th>\n",
       "      <th>expected_n_class</th>\n",
       "      <th>fraction</th>\n",
       "    </tr>\n",
       "  </thead>\n",
       "  <tbody>\n",
       "    <tr>\n",
       "      <th>count</th>\n",
       "      <td>4666.000000</td>\n",
       "      <td>4666.000000</td>\n",
       "      <td>4666.000000</td>\n",
       "    </tr>\n",
       "    <tr>\n",
       "      <th>mean</th>\n",
       "      <td>29.936348</td>\n",
       "      <td>30.202315</td>\n",
       "      <td>0.991828</td>\n",
       "    </tr>\n",
       "    <tr>\n",
       "      <th>std</th>\n",
       "      <td>0.879454</td>\n",
       "      <td>1.397672</td>\n",
       "      <td>0.026835</td>\n",
       "    </tr>\n",
       "    <tr>\n",
       "      <th>min</th>\n",
       "      <td>11.000000</td>\n",
       "      <td>13.000000</td>\n",
       "      <td>0.121739</td>\n",
       "    </tr>\n",
       "    <tr>\n",
       "      <th>25%</th>\n",
       "      <td>30.000000</td>\n",
       "      <td>30.000000</td>\n",
       "      <td>1.000000</td>\n",
       "    </tr>\n",
       "    <tr>\n",
       "      <th>50%</th>\n",
       "      <td>30.000000</td>\n",
       "      <td>30.000000</td>\n",
       "      <td>1.000000</td>\n",
       "    </tr>\n",
       "    <tr>\n",
       "      <th>75%</th>\n",
       "      <td>30.000000</td>\n",
       "      <td>30.000000</td>\n",
       "      <td>1.000000</td>\n",
       "    </tr>\n",
       "    <tr>\n",
       "      <th>max</th>\n",
       "      <td>32.000000</td>\n",
       "      <td>115.000000</td>\n",
       "      <td>1.000000</td>\n",
       "    </tr>\n",
       "  </tbody>\n",
       "</table>\n",
       "</div>"
      ],
      "text/plain": [
       "       real_n_class  expected_n_class     fraction\n",
       "count   4666.000000       4666.000000  4666.000000\n",
       "mean      29.936348         30.202315     0.991828\n",
       "std        0.879454          1.397672     0.026835\n",
       "min       11.000000         13.000000     0.121739\n",
       "25%       30.000000         30.000000     1.000000\n",
       "50%       30.000000         30.000000     1.000000\n",
       "75%       30.000000         30.000000     1.000000\n",
       "max       32.000000        115.000000     1.000000"
      ]
     },
     "execution_count": 101,
     "metadata": {},
     "output_type": "execute_result"
    }
   ],
   "source": [
    "s.describe()"
   ]
  },
  {
   "cell_type": "code",
   "execution_count": 48,
   "metadata": {
    "collapsed": false
   },
   "outputs": [],
   "source": [
    "df = data[data.image_id=='APF0000zea']\n",
    "n_class= df.classification_id.unique().size\n",
    "n_class\n",
    "results = hf.classification_counts_per_user(df).value_counts()\n",
    "results\n",
    "results.index>1\n",
    "n_class_real = results[1]\n",
    "for index in results.index[results.index>1]:\n",
    "    n_class_real += results[index]\n",
    "n_class_real"
   ]
  },
  {
   "cell_type": "code",
   "execution_count": null,
   "metadata": {
    "collapsed": true
   },
   "outputs": [],
   "source": []
  }
 ],
 "metadata": {
  "kernelspec": {
   "display_name": "Python 3",
   "language": "python",
   "name": "python3"
  },
  "language_info": {
   "codemirror_mode": {
    "name": "ipython",
    "version": 3
   },
   "file_extension": ".py",
   "mimetype": "text/x-python",
   "name": "python",
   "nbconvert_exporter": "python",
   "pygments_lexer": "ipython3",
   "version": "3.4.3"
  }
 },
 "nbformat": 4,
 "nbformat_minor": 0
}
