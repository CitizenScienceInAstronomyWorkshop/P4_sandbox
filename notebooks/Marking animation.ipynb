{
 "metadata": {
  "name": ""
 },
 "nbformat": 3,
 "nbformat_minor": 0,
 "worksheets": [
  {
   "cells": [
    {
     "cell_type": "code",
     "collapsed": false,
     "input": [
      "from P4_sandbox import helper_functions as hf\n",
      "from P4_sandbox import overplot_blotches as ob\n",
      "from P4_sandbox import get_data\n",
      "reload(hf)\n",
      "reload(ob)"
     ],
     "language": "python",
     "metadata": {},
     "outputs": [],
     "prompt_number": null
    },
    {
     "cell_type": "code",
     "collapsed": false,
     "input": [
      "data = ob.data_munging('APF0000bha')\n",
      "colors = ob.cycle('bgrcmyk')"
     ],
     "language": "python",
     "metadata": {},
     "outputs": [],
     "prompt_number": null
    },
    {
     "cell_type": "code",
     "collapsed": false,
     "input": [
      "img_id = 'APF0000bha'\n",
      "fans = ob.get_fans(data, img_id)\n",
      "fig, ax = plt.subplots()\n",
      "ax.imshow(get_data.get_image_from_record(fans.iloc[0]))\n"
     ],
     "language": "python",
     "metadata": {},
     "outputs": [],
     "prompt_number": null
    },
    {
     "cell_type": "code",
     "collapsed": false,
     "input": [
      "ax.set_title('image_id {}'.format(img_id))\n",
      "ims = []\n",
      "for i, color in zip(xrange(len(blotches),), colors):\n",
      "    line = blotches.iloc[i]\n",
      "    artist1 = plt.scatter(line.x, line.y, color=color)\n",
      "    el = Ellipse((line.x, line.y),\n",
      "             line.radius_1, line.radius_2, line.angle,\n",
      "             fill=False, color=color, linewidth=1)\n",
      "    plt.savefig('_tmp{}.png'.format(str(i).zfill(3)))"
     ],
     "language": "python",
     "metadata": {},
     "outputs": [],
     "prompt_number": null
    },
    {
     "cell_type": "code",
     "collapsed": false,
     "input": [
      "import matplotlib.animation as animation"
     ],
     "language": "python",
     "metadata": {},
     "outputs": [],
     "prompt_number": null
    },
    {
     "cell_type": "code",
     "collapsed": false,
     "input": [
      "Writer = animation.writers['ffmpeg']"
     ],
     "language": "python",
     "metadata": {},
     "outputs": [],
     "prompt_number": null
    },
    {
     "cell_type": "code",
     "collapsed": false,
     "input": [
      "writer = Writer(fps=15, metadata=dict(artist='Me'), bitrate=1800)"
     ],
     "language": "python",
     "metadata": {},
     "outputs": [],
     "prompt_number": null
    },
    {
     "cell_type": "code",
     "collapsed": false,
     "input": [
      "animation.ArtistAnimation?"
     ],
     "language": "python",
     "metadata": {},
     "outputs": [],
     "prompt_number": null
    },
    {
     "cell_type": "code",
     "collapsed": false,
     "input": [
      "anim = animation.ArtistAnimation(fig, ims)"
     ],
     "language": "python",
     "metadata": {},
     "outputs": [],
     "prompt_number": null
    },
    {
     "cell_type": "code",
     "collapsed": false,
     "input": [
      "anim.save('ellipses.mp4',writer=writer)"
     ],
     "language": "python",
     "metadata": {},
     "outputs": [],
     "prompt_number": null
    },
    {
     "cell_type": "code",
     "collapsed": false,
     "input": [
      "from subprocess import call\n",
      "call('ffmpeg -r 3 -i _tmp%03d.png -c:v libx264 -r 30 -pix_fmt yuv420p out.mp4',\n",
      "     shell=True)"
     ],
     "language": "python",
     "metadata": {},
     "outputs": [],
     "prompt_number": null
    },
    {
     "cell_type": "markdown",
     "metadata": {},
     "source": [
      "# Verification run 1\n",
      "This file describes the parameters for this production run of RDR2.\n",
      "## Location\n",
      "/luna4/maye/rdr_out/verification\n",
      "## Calibration settings\n",
      "* JPL radiance correction ON\n",
      "* Josh's noise fix ON\n",
      "* Standard way of determining offsets:\n",
      "    1. Mean value per spaceview\n",
      "    2. Each calibration block (either for thermal or visual) then determines an average of all participating spaceview averages (can be 2 or 3)\n"
     ]
    },
    {
     "cell_type": "code",
     "collapsed": false,
     "input": [
      "\n"
     ],
     "language": "python",
     "metadata": {},
     "outputs": []
    }
   ],
   "metadata": {}
  }
 ]
}
