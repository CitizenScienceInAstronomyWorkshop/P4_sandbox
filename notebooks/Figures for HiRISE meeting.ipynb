{
 "metadata": {
  "name": "",
  "signature": "sha256:528cdb2c5c1ace9cd691c1fe14e34f258068241af70b7c314f027ad42a6bfb66"
 },
 "nbformat": 3,
 "nbformat_minor": 0,
 "worksheets": [
  {
   "cells": [
    {
     "cell_type": "code",
     "collapsed": false,
     "input": [
      "import helper_functions as hf\n",
      "reload(hf)"
     ],
     "language": "python",
     "metadata": {},
     "outputs": [
      {
       "metadata": {},
       "output_type": "pyout",
       "prompt_number": 35,
       "text": [
        "<module 'helper_functions' from 'helper_functions.py'>"
       ]
      }
     ],
     "prompt_number": 35
    },
    {
     "cell_type": "code",
     "collapsed": false,
     "input": [
      "pd.__version__"
     ],
     "language": "python",
     "metadata": {},
     "outputs": [
      {
       "metadata": {},
       "output_type": "pyout",
       "prompt_number": 4,
       "text": [
        "'0.13.1-221-g4adb98b'"
       ]
      }
     ],
     "prompt_number": 4
    },
    {
     "cell_type": "code",
     "collapsed": false,
     "input": [
      "df = hf.get_current_cleaned()"
     ],
     "language": "python",
     "metadata": {},
     "outputs": [],
     "prompt_number": 8
    },
    {
     "cell_type": "code",
     "collapsed": false,
     "input": [
      "users_work = hf.classification_counts_per_user(df)\n",
      "topten = users_work.order(ascending=False)[:10]"
     ],
     "language": "python",
     "metadata": {},
     "outputs": [],
     "prompt_number": 13
    },
    {
     "cell_type": "code",
     "collapsed": false,
     "input": [
      "topten"
     ],
     "language": "python",
     "metadata": {},
     "outputs": [
      {
       "metadata": {},
       "output_type": "pyout",
       "prompt_number": 14,
       "text": [
        "user_name\n",
        "gwyneth walker    39376\n",
        "poplar11          37903\n",
        "Paul Johnson      33353\n",
        "Kitharode         24075\n",
        "14int             22055\n",
        "JellyMonster      18797\n",
        "mattlou117        16805\n",
        "chadich           14474\n",
        "tracestokes       12500\n",
        "Ian Mason         12008\n",
        "dtype: int64"
       ]
      }
     ],
     "prompt_number": 14
    },
    {
     "cell_type": "code",
     "collapsed": false,
     "input": [
      "hf.classification_counts_for_user('Kitharode',df)"
     ],
     "language": "python",
     "metadata": {},
     "outputs": [
      {
       "metadata": {},
       "output_type": "pyout",
       "prompt_number": 16,
       "text": [
        "525ea16a72c109435c01b2c7    122\n",
        "5214d3f2e917ff18dc004674     95\n",
        "520b946bbe70a6488801395f     93\n",
        "51e6d19fdc32060457003583     74\n",
        "520b8de8be70a64888013654     66\n",
        "51d5b847f6ad770446016dce     62\n",
        "51840c8dde59d923c8000b98     56\n",
        "5265327c72c10944dd00a0d8     46\n",
        "521fa4a9e1e4674151000877     45\n",
        "5158aed22dda9056e1006b74     44\n",
        "51f7d0e9be70a6521f008bd4     44\n",
        "52515ca172c10966460048c9     43\n",
        "51803103c580b8040b00a41e     42\n",
        "521624d3a674240d3100a42e     42\n",
        "51cc92ed39ea53598800d961     39\n",
        "...\n",
        "50f06e1ed89f2738ae000001    1\n",
        "50f05912d89f2773ea000001    1\n",
        "50f3516b95ad7f1154000001    1\n",
        "50f3294f95ad7f7649000001    1\n",
        "50f07453dea653656d000001    1\n",
        "50f9bc4b95ad7f5037000001    1\n",
        "50edce319ba28b1ab600005a    1\n",
        "50fe086cdea65366c6000001    1\n",
        "50fa092fdea6534022000001    1\n",
        "50f0a1bedea6537a4a000001    1\n",
        "50f37541dea6535a60000001    1\n",
        "50f09780d89f27314f000001    1\n",
        "50f5a0dcdea6530770000001    1\n",
        "50f0981b76e1ae509a000001    1\n",
        "50f0808bd89f276134000001    1\n",
        "Length: 24075, dtype: int64"
       ]
      }
     ],
     "prompt_number": 16
    },
    {
     "cell_type": "code",
     "collapsed": false,
     "input": [
      "for user in topten.index:\n",
      "    print user\n",
      "    print df[df.user_name==user].marking.value_counts()"
     ],
     "language": "python",
     "metadata": {},
     "outputs": [
      {
       "output_type": "stream",
       "stream": "stdout",
       "text": [
        "gwyneth walker\n",
        "None           36587\n",
        "blotch          5040\n",
        "fan             2411\n",
        "interesting     1505\n",
        "dtype: int64"
       ]
      },
      {
       "output_type": "stream",
       "stream": "stdout",
       "text": [
        "\n",
        "poplar11\n",
        "None           37360\n",
        "interesting     1006\n",
        "fan              643\n",
        "blotch           573\n",
        "dtype: int64"
       ]
      },
      {
       "output_type": "stream",
       "stream": "stdout",
       "text": [
        "\n",
        "Paul Johnson\n",
        "None           32770\n",
        "blotch           593\n",
        "fan              435\n",
        "interesting      205\n",
        "dtype: int64"
       ]
      },
      {
       "output_type": "stream",
       "stream": "stdout",
       "text": [
        "\n",
        "Kitharode\n",
        "None           23314\n",
        "blotch          4081\n",
        "fan             1325\n",
        "interesting       68\n",
        "dtype: int64"
       ]
      },
      {
       "output_type": "stream",
       "stream": "stdout",
       "text": [
        "\n",
        "14int\n",
        "None           20348\n",
        "blotch          3622\n",
        "fan             1509\n",
        "interesting      307\n",
        "dtype: int64"
       ]
      },
      {
       "output_type": "stream",
       "stream": "stdout",
       "text": [
        "\n",
        "JellyMonster\n",
        "None           18780\n",
        "fan               13\n",
        "blotch             7\n",
        "interesting        1\n",
        "dtype: int64"
       ]
      },
      {
       "output_type": "stream",
       "stream": "stdout",
       "text": [
        "\n",
        "mattlou117\n",
        "None           15977\n",
        "fan             2909\n",
        "blotch          1235\n",
        "interesting     1117\n",
        "dtype: int64"
       ]
      },
      {
       "output_type": "stream",
       "stream": "stdout",
       "text": [
        "\n",
        "chadich\n",
        "blotch         14195\n",
        "None            9315\n",
        "fan             4047\n",
        "interesting     2064\n",
        "dtype: int64"
       ]
      },
      {
       "output_type": "stream",
       "stream": "stdout",
       "text": [
        "\n",
        "tracestokes\n",
        "None           12282\n",
        "interesting      485\n",
        "fan              476\n",
        "blotch            51\n",
        "dtype: int64"
       ]
      },
      {
       "output_type": "stream",
       "stream": "stdout",
       "text": [
        "\n",
        "Ian Mason\n",
        "None           11128\n",
        "blotch          1719\n",
        "fan             1576\n",
        "interesting       54\n",
        "dtype: int64"
       ]
      },
      {
       "output_type": "stream",
       "stream": "stdout",
       "text": [
        "\n"
       ]
      }
     ],
     "prompt_number": 19
    },
    {
     "cell_type": "code",
     "collapsed": false,
     "input": [
      "df.marking.value_counts().plot?"
     ],
     "language": "python",
     "metadata": {},
     "outputs": [],
     "prompt_number": 24
    },
    {
     "cell_type": "code",
     "collapsed": false,
     "input": [
      "s = df.marking.value_counts()"
     ],
     "language": "python",
     "metadata": {},
     "outputs": [],
     "prompt_number": 25
    },
    {
     "cell_type": "code",
     "collapsed": false,
     "input": [
      "s.plot(kind='bar')\n",
      "title('Marking stats')"
     ],
     "language": "python",
     "metadata": {},
     "outputs": [
      {
       "metadata": {},
       "output_type": "pyout",
       "prompt_number": 28,
       "text": [
        "<matplotlib.text.Text at 0x11c8b1090>"
       ]
      }
     ],
     "prompt_number": 28
    },
    {
     "cell_type": "code",
     "collapsed": false,
     "input": [
      "savefig(\"marking_stats.png\",dpi=200)"
     ],
     "language": "python",
     "metadata": {},
     "outputs": [],
     "prompt_number": 29
    },
    {
     "cell_type": "code",
     "collapsed": false,
     "input": [
      "df.columns"
     ],
     "language": "python",
     "metadata": {},
     "outputs": [
      {
       "metadata": {},
       "output_type": "pyout",
       "prompt_number": 30,
       "text": [
        "Index([u'classification_id', u'created_at', u'image_id', u'image_name', u'image_url', u'user_name', u'marking', u'x_tile', u'y_tile', u'acquisition_date', u'local_mars_time', u'x', u'y', u'image_x', u'image_y', u'radius_1', u'radius_2', u'distance', u'angle', u'spread', u'season'], dtype='object')"
       ]
      }
     ],
     "prompt_number": 30
    },
    {
     "cell_type": "code",
     "collapsed": false,
     "input": [
      "no_nones = df[df.marking != 'None']"
     ],
     "language": "python",
     "metadata": {},
     "outputs": [],
     "prompt_number": 34
    },
    {
     "cell_type": "code",
     "collapsed": false,
     "input": [
      "hf.get_top_ten_users(no_nones)"
     ],
     "language": "python",
     "metadata": {},
     "outputs": [
      {
       "metadata": {},
       "output_type": "pyout",
       "prompt_number": 36,
       "text": [
        "user_name\n",
        "angi60            8026\n",
        "chadich           5159\n",
        "jan.lubek         4867\n",
        "ianw3913          3223\n",
        "safitoledo        3040\n",
        "Chocstar          2994\n",
        "ElisabethB        2854\n",
        "gwyneth walker    2789\n",
        "yasmar            2784\n",
        "NinaYu            2763\n",
        "dtype: int64"
       ]
      }
     ],
     "prompt_number": 36
    },
    {
     "cell_type": "code",
     "collapsed": false,
     "input": [
      "topten = hf.get_top_ten_users(df)"
     ],
     "language": "python",
     "metadata": {},
     "outputs": [],
     "prompt_number": 38
    },
    {
     "cell_type": "code",
     "collapsed": false,
     "input": [
      "topten.plot(kind='bar')\n",
      "title(\"Top ten citizens, submissions\")\n",
      "savefig('top_ten_submitters.png',dpi=200)"
     ],
     "language": "python",
     "metadata": {},
     "outputs": [],
     "prompt_number": 41
    },
    {
     "cell_type": "code",
     "collapsed": false,
     "input": [],
     "language": "python",
     "metadata": {},
     "outputs": [],
     "prompt_number": 40
    },
    {
     "cell_type": "code",
     "collapsed": false,
     "input": [],
     "language": "python",
     "metadata": {},
     "outputs": []
    }
   ],
   "metadata": {}
  }
 ]
}