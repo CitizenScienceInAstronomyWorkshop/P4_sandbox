{
 "cells": [
  {
   "cell_type": "code",
   "execution_count": null,
   "metadata": {},
   "outputs": [],
   "source": [
    "from planet4 import markings, dbscan, io, fnotching, reduction\n",
    "from pathlib import Path\n",
    "from dask import dataframe as dd\n",
    "import pandas as pd\n",
    "import numpy as np"
   ]
  },
  {
   "cell_type": "code",
   "execution_count": null,
   "metadata": {},
   "outputs": [],
   "source": []
  },
  {
   "cell_type": "code",
   "execution_count": null,
   "metadata": {},
   "outputs": [
    {
     "data": {
      "text/plain": [
       "Path('/home/ayek72/mnt/slowdata/p4_reduction')"
      ]
     },
     "execution_count": null,
     "metadata": {},
     "output_type": "execute_result"
    }
   ],
   "source": [
    "io.data_root"
   ]
  },
  {
   "cell_type": "code",
   "execution_count": null,
   "metadata": {},
   "outputs": [],
   "source": [
    "from nbtools.logging import setup_live_logging\n",
    "import logging"
   ]
  },
  {
   "cell_type": "code",
   "execution_count": null,
   "metadata": {},
   "outputs": [
    {
     "data": {
      "text/plain": [
       "<Logger planet4 (WARNING)>"
      ]
     },
     "execution_count": null,
     "metadata": {},
     "output_type": "execute_result"
    }
   ],
   "source": [
    "setup_live_logging(\"planet4\", logging.WARNING)"
   ]
  },
  {
   "cell_type": "markdown",
   "metadata": {},
   "source": [
    "# Data reduction"
   ]
  },
  {
   "cell_type": "code",
   "execution_count": null,
   "metadata": {},
   "outputs": [
    {
     "data": {
      "text/plain": [
       "True"
      ]
     },
     "execution_count": null,
     "metadata": {},
     "output_type": "execute_result"
    }
   ],
   "source": [
    "fpath = Path(\"/home/ayek72/Dropbox/data/planet4/panoptes/man_s6.parq\")\n",
    "fpath = Path(\"/home/ayek72/Dropbox/data/planet4/seasons145.parq\")\n",
    "fpath.exists()"
   ]
  },
  {
   "cell_type": "code",
   "execution_count": null,
   "metadata": {},
   "outputs": [],
   "source": [
    "df = pd.read_parquet(fpath)"
   ]
  },
  {
   "cell_type": "code",
   "execution_count": null,
   "metadata": {},
   "outputs": [
    {
     "data": {
      "text/html": [
       "<div>\n",
       "<style scoped>\n",
       "    .dataframe tbody tr th:only-of-type {\n",
       "        vertical-align: middle;\n",
       "    }\n",
       "\n",
       "    .dataframe tbody tr th {\n",
       "        vertical-align: top;\n",
       "    }\n",
       "\n",
       "    .dataframe thead th {\n",
       "        text-align: right;\n",
       "    }\n",
       "</style>\n",
       "<table border=\"1\" class=\"dataframe\">\n",
       "  <thead>\n",
       "    <tr style=\"text-align: right;\">\n",
       "      <th></th>\n",
       "      <th>classification_id</th>\n",
       "      <th>created_at</th>\n",
       "      <th>image_id</th>\n",
       "      <th>image_url</th>\n",
       "      <th>user_name</th>\n",
       "      <th>marking</th>\n",
       "      <th>x_tile</th>\n",
       "      <th>y_tile</th>\n",
       "      <th>acquisition_date</th>\n",
       "      <th>local_mars_time</th>\n",
       "      <th>...</th>\n",
       "      <th>radius_1</th>\n",
       "      <th>radius_2</th>\n",
       "      <th>distance</th>\n",
       "      <th>angle</th>\n",
       "      <th>spread</th>\n",
       "      <th>version</th>\n",
       "      <th>x_angle</th>\n",
       "      <th>y_angle</th>\n",
       "      <th>image_name</th>\n",
       "      <th>season</th>\n",
       "    </tr>\n",
       "  </thead>\n",
       "  <tbody>\n",
       "    <tr>\n",
       "      <th>9461062</th>\n",
       "      <td>5190322d60f4366429074640</td>\n",
       "      <td>2013-05-13 00:22:05+00:00</td>\n",
       "      <td>APF00014pu</td>\n",
       "      <td>http://www.planetfour.org/subjects/standard/51...</td>\n",
       "      <td>AlexandreGarcia</td>\n",
       "      <td>blotch</td>\n",
       "      <td>2</td>\n",
       "      <td>73</td>\n",
       "      <td>2007-04-03</td>\n",
       "      <td>5:24 PM</td>\n",
       "      <td>...</td>\n",
       "      <td>72.000000</td>\n",
       "      <td>54.000000</td>\n",
       "      <td>NaN</td>\n",
       "      <td>90.000000</td>\n",
       "      <td>NaN</td>\n",
       "      <td>NaN</td>\n",
       "      <td>6.123234e-17</td>\n",
       "      <td>1.000000</td>\n",
       "      <td>PSP_003213_0955</td>\n",
       "      <td>1</td>\n",
       "    </tr>\n",
       "    <tr>\n",
       "      <th>9461063</th>\n",
       "      <td>5190322d60f4366429074640</td>\n",
       "      <td>2013-05-13 00:22:05+00:00</td>\n",
       "      <td>APF00014pu</td>\n",
       "      <td>http://www.planetfour.org/subjects/standard/51...</td>\n",
       "      <td>AlexandreGarcia</td>\n",
       "      <td>blotch</td>\n",
       "      <td>2</td>\n",
       "      <td>73</td>\n",
       "      <td>2007-04-03</td>\n",
       "      <td>5:24 PM</td>\n",
       "      <td>...</td>\n",
       "      <td>34.000000</td>\n",
       "      <td>25.500000</td>\n",
       "      <td>NaN</td>\n",
       "      <td>90.000000</td>\n",
       "      <td>NaN</td>\n",
       "      <td>NaN</td>\n",
       "      <td>6.123234e-17</td>\n",
       "      <td>1.000000</td>\n",
       "      <td>PSP_003213_0955</td>\n",
       "      <td>1</td>\n",
       "    </tr>\n",
       "    <tr>\n",
       "      <th>9461064</th>\n",
       "      <td>5190322d60f4366429074640</td>\n",
       "      <td>2013-05-13 00:22:05+00:00</td>\n",
       "      <td>APF00014pu</td>\n",
       "      <td>http://www.planetfour.org/subjects/standard/51...</td>\n",
       "      <td>AlexandreGarcia</td>\n",
       "      <td>blotch</td>\n",
       "      <td>2</td>\n",
       "      <td>73</td>\n",
       "      <td>2007-04-03</td>\n",
       "      <td>5:24 PM</td>\n",
       "      <td>...</td>\n",
       "      <td>35.114100</td>\n",
       "      <td>26.335575</td>\n",
       "      <td>NaN</td>\n",
       "      <td>70.016893</td>\n",
       "      <td>NaN</td>\n",
       "      <td>NaN</td>\n",
       "      <td>3.417431e-01</td>\n",
       "      <td>0.939793</td>\n",
       "      <td>PSP_003213_0955</td>\n",
       "      <td>1</td>\n",
       "    </tr>\n",
       "    <tr>\n",
       "      <th>9461065</th>\n",
       "      <td>5190322d60f4366429074640</td>\n",
       "      <td>2013-05-13 00:22:05+00:00</td>\n",
       "      <td>APF00014pu</td>\n",
       "      <td>http://www.planetfour.org/subjects/standard/51...</td>\n",
       "      <td>AlexandreGarcia</td>\n",
       "      <td>blotch</td>\n",
       "      <td>2</td>\n",
       "      <td>73</td>\n",
       "      <td>2007-04-03</td>\n",
       "      <td>5:24 PM</td>\n",
       "      <td>...</td>\n",
       "      <td>50.487622</td>\n",
       "      <td>37.865717</td>\n",
       "      <td>NaN</td>\n",
       "      <td>82.030390</td>\n",
       "      <td>NaN</td>\n",
       "      <td>NaN</td>\n",
       "      <td>1.386478e-01</td>\n",
       "      <td>0.990342</td>\n",
       "      <td>PSP_003213_0955</td>\n",
       "      <td>1</td>\n",
       "    </tr>\n",
       "    <tr>\n",
       "      <th>9461066</th>\n",
       "      <td>5190322d60f4366429074640</td>\n",
       "      <td>2013-05-13 00:22:05+00:00</td>\n",
       "      <td>APF00014pu</td>\n",
       "      <td>http://www.planetfour.org/subjects/standard/51...</td>\n",
       "      <td>AlexandreGarcia</td>\n",
       "      <td>blotch</td>\n",
       "      <td>2</td>\n",
       "      <td>73</td>\n",
       "      <td>2007-04-03</td>\n",
       "      <td>5:24 PM</td>\n",
       "      <td>...</td>\n",
       "      <td>46.043458</td>\n",
       "      <td>34.532593</td>\n",
       "      <td>NaN</td>\n",
       "      <td>87.510447</td>\n",
       "      <td>NaN</td>\n",
       "      <td>NaN</td>\n",
       "      <td>4.343722e-02</td>\n",
       "      <td>0.999056</td>\n",
       "      <td>PSP_003213_0955</td>\n",
       "      <td>1</td>\n",
       "    </tr>\n",
       "  </tbody>\n",
       "</table>\n",
       "<p>5 rows × 24 columns</p>\n",
       "</div>"
      ],
      "text/plain": [
       "                classification_id                created_at    image_id  \\\n",
       "9461062  5190322d60f4366429074640 2013-05-13 00:22:05+00:00  APF00014pu   \n",
       "9461063  5190322d60f4366429074640 2013-05-13 00:22:05+00:00  APF00014pu   \n",
       "9461064  5190322d60f4366429074640 2013-05-13 00:22:05+00:00  APF00014pu   \n",
       "9461065  5190322d60f4366429074640 2013-05-13 00:22:05+00:00  APF00014pu   \n",
       "9461066  5190322d60f4366429074640 2013-05-13 00:22:05+00:00  APF00014pu   \n",
       "\n",
       "                                                 image_url        user_name  \\\n",
       "9461062  http://www.planetfour.org/subjects/standard/51...  AlexandreGarcia   \n",
       "9461063  http://www.planetfour.org/subjects/standard/51...  AlexandreGarcia   \n",
       "9461064  http://www.planetfour.org/subjects/standard/51...  AlexandreGarcia   \n",
       "9461065  http://www.planetfour.org/subjects/standard/51...  AlexandreGarcia   \n",
       "9461066  http://www.planetfour.org/subjects/standard/51...  AlexandreGarcia   \n",
       "\n",
       "        marking  x_tile  y_tile acquisition_date local_mars_time  ...  \\\n",
       "9461062  blotch       2      73       2007-04-03         5:24 PM  ...   \n",
       "9461063  blotch       2      73       2007-04-03         5:24 PM  ...   \n",
       "9461064  blotch       2      73       2007-04-03         5:24 PM  ...   \n",
       "9461065  blotch       2      73       2007-04-03         5:24 PM  ...   \n",
       "9461066  blotch       2      73       2007-04-03         5:24 PM  ...   \n",
       "\n",
       "          radius_1   radius_2  distance      angle  spread  version  \\\n",
       "9461062  72.000000  54.000000       NaN  90.000000     NaN      NaN   \n",
       "9461063  34.000000  25.500000       NaN  90.000000     NaN      NaN   \n",
       "9461064  35.114100  26.335575       NaN  70.016893     NaN      NaN   \n",
       "9461065  50.487622  37.865717       NaN  82.030390     NaN      NaN   \n",
       "9461066  46.043458  34.532593       NaN  87.510447     NaN      NaN   \n",
       "\n",
       "              x_angle   y_angle       image_name  season  \n",
       "9461062  6.123234e-17  1.000000  PSP_003213_0955       1  \n",
       "9461063  6.123234e-17  1.000000  PSP_003213_0955       1  \n",
       "9461064  3.417431e-01  0.939793  PSP_003213_0955       1  \n",
       "9461065  1.386478e-01  0.990342  PSP_003213_0955       1  \n",
       "9461066  4.343722e-02  0.999056  PSP_003213_0955       1  \n",
       "\n",
       "[5 rows x 24 columns]"
      ]
     },
     "execution_count": null,
     "metadata": {},
     "output_type": "execute_result"
    }
   ],
   "source": [
    "df.head()"
   ]
  },
  {
   "cell_type": "code",
   "execution_count": null,
   "metadata": {},
   "outputs": [],
   "source": [
    "reduction.convert_times(df)"
   ]
  },
  {
   "cell_type": "code",
   "execution_count": null,
   "metadata": {},
   "outputs": [
    {
     "data": {
      "text/plain": [
       "(5288033, 24)"
      ]
     },
     "execution_count": null,
     "metadata": {},
     "output_type": "execute_result"
    }
   ],
   "source": [
    "df.shape"
   ]
  },
  {
   "cell_type": "code",
   "execution_count": null,
   "metadata": {},
   "outputs": [
    {
     "data": {
      "text/plain": [
       "(5288033, 24)"
      ]
     },
     "execution_count": null,
     "metadata": {},
     "output_type": "execute_result"
    }
   ],
   "source": [
    "df.dropna(how='all').shape"
   ]
  },
  {
   "cell_type": "code",
   "execution_count": null,
   "metadata": {},
   "outputs": [
    {
     "data": {
      "text/plain": [
       "(5288033, 24)"
      ]
     },
     "execution_count": null,
     "metadata": {},
     "output_type": "execute_result"
    }
   ],
   "source": [
    "df.dropna(how='all', axis=1).shape"
   ]
  },
  {
   "cell_type": "code",
   "execution_count": null,
   "metadata": {},
   "outputs": [],
   "source": [
    "df = df.dropna(how='all', axis=1)"
   ]
  },
  {
   "cell_type": "code",
   "execution_count": null,
   "metadata": {},
   "outputs": [
    {
     "data": {
      "text/plain": [
       "Index(['classification_id', 'created_at', 'image_id', 'image_url', 'user_name',\n",
       "       'marking', 'x_tile', 'y_tile', 'acquisition_date', 'local_mars_time',\n",
       "       'x', 'y', 'image_x', 'image_y', 'radius_1', 'radius_2', 'distance',\n",
       "       'angle', 'spread', 'version', 'x_angle', 'y_angle', 'image_name',\n",
       "       'season'],\n",
       "      dtype='object')"
      ]
     },
     "execution_count": null,
     "metadata": {},
     "output_type": "execute_result"
    }
   ],
   "source": [
    "df.columns"
   ]
  },
  {
   "cell_type": "code",
   "execution_count": null,
   "metadata": {},
   "outputs": [
    {
     "data": {
      "text/html": [
       "<div>\n",
       "<style scoped>\n",
       "    .dataframe tbody tr th:only-of-type {\n",
       "        vertical-align: middle;\n",
       "    }\n",
       "\n",
       "    .dataframe tbody tr th {\n",
       "        vertical-align: top;\n",
       "    }\n",
       "\n",
       "    .dataframe thead th {\n",
       "        text-align: right;\n",
       "    }\n",
       "</style>\n",
       "<table border=\"1\" class=\"dataframe\">\n",
       "  <thead>\n",
       "    <tr style=\"text-align: right;\">\n",
       "      <th></th>\n",
       "      <th>classification_id</th>\n",
       "      <th>user_id</th>\n",
       "      <th>workflow_id</th>\n",
       "      <th>workflow_version</th>\n",
       "      <th>subject_ids</th>\n",
       "      <th>len_annot</th>\n",
       "      <th>viewport.width</th>\n",
       "      <th>viewport.height</th>\n",
       "      <th>x</th>\n",
       "      <th>y</th>\n",
       "      <th>tool</th>\n",
       "      <th>frame</th>\n",
       "      <th>distance</th>\n",
       "      <th>spread</th>\n",
       "      <th>rotation</th>\n",
       "      <th>radius_1</th>\n",
       "      <th>radius_2</th>\n",
       "      <th>angle</th>\n",
       "    </tr>\n",
       "  </thead>\n",
       "  <tbody>\n",
       "    <tr>\n",
       "      <th>count</th>\n",
       "      <td>1.024170e+05</td>\n",
       "      <td>1.024170e+05</td>\n",
       "      <td>102417.0</td>\n",
       "      <td>1.024170e+05</td>\n",
       "      <td>1.024170e+05</td>\n",
       "      <td>102417.000000</td>\n",
       "      <td>102417.000000</td>\n",
       "      <td>102417.000000</td>\n",
       "      <td>102417.000000</td>\n",
       "      <td>102417.000000</td>\n",
       "      <td>102417.00000</td>\n",
       "      <td>102417.0</td>\n",
       "      <td>70554.000000</td>\n",
       "      <td>70554.000000</td>\n",
       "      <td>70554.000000</td>\n",
       "      <td>31863.000000</td>\n",
       "      <td>31863.000000</td>\n",
       "      <td>31863.000000</td>\n",
       "    </tr>\n",
       "    <tr>\n",
       "      <th>mean</th>\n",
       "      <td>2.200250e+08</td>\n",
       "      <td>1.267740e+06</td>\n",
       "      <td>12978.0</td>\n",
       "      <td>3.230000e+00</td>\n",
       "      <td>4.147373e+07</td>\n",
       "      <td>1860.695588</td>\n",
       "      <td>1449.998887</td>\n",
       "      <td>789.925520</td>\n",
       "      <td>391.943464</td>\n",
       "      <td>308.453877</td>\n",
       "      <td>0.31111</td>\n",
       "      <td>0.0</td>\n",
       "      <td>133.244223</td>\n",
       "      <td>28.844479</td>\n",
       "      <td>78.327512</td>\n",
       "      <td>78.244081</td>\n",
       "      <td>40.081500</td>\n",
       "      <td>-22.552411</td>\n",
       "    </tr>\n",
       "    <tr>\n",
       "      <th>std</th>\n",
       "      <td>6.968151e+06</td>\n",
       "      <td>8.982721e+05</td>\n",
       "      <td>0.0</td>\n",
       "      <td>2.424739e-13</td>\n",
       "      <td>1.563920e+04</td>\n",
       "      <td>1308.501232</td>\n",
       "      <td>413.287647</td>\n",
       "      <td>170.924866</td>\n",
       "      <td>238.673550</td>\n",
       "      <td>182.378521</td>\n",
       "      <td>0.46295</td>\n",
       "      <td>0.0</td>\n",
       "      <td>120.937871</td>\n",
       "      <td>21.023718</td>\n",
       "      <td>81.666292</td>\n",
       "      <td>79.664074</td>\n",
       "      <td>40.640963</td>\n",
       "      <td>83.300334</td>\n",
       "    </tr>\n",
       "    <tr>\n",
       "      <th>min</th>\n",
       "      <td>2.116558e+08</td>\n",
       "      <td>0.000000e+00</td>\n",
       "      <td>12978.0</td>\n",
       "      <td>3.230000e+00</td>\n",
       "      <td>4.145116e+07</td>\n",
       "      <td>321.000000</td>\n",
       "      <td>256.000000</td>\n",
       "      <td>115.000000</td>\n",
       "      <td>-493.531250</td>\n",
       "      <td>-571.499123</td>\n",
       "      <td>0.00000</td>\n",
       "      <td>0.0</td>\n",
       "      <td>0.000000</td>\n",
       "      <td>0.000000</td>\n",
       "      <td>0.000000</td>\n",
       "      <td>0.000000</td>\n",
       "      <td>0.000000</td>\n",
       "      <td>-270.000000</td>\n",
       "    </tr>\n",
       "    <tr>\n",
       "      <th>25%</th>\n",
       "      <td>2.145733e+08</td>\n",
       "      <td>0.000000e+00</td>\n",
       "      <td>12978.0</td>\n",
       "      <td>3.230000e+00</td>\n",
       "      <td>4.145391e+07</td>\n",
       "      <td>924.000000</td>\n",
       "      <td>1280.000000</td>\n",
       "      <td>667.000000</td>\n",
       "      <td>187.968750</td>\n",
       "      <td>155.726303</td>\n",
       "      <td>0.00000</td>\n",
       "      <td>0.0</td>\n",
       "      <td>56.993615</td>\n",
       "      <td>10.000000</td>\n",
       "      <td>22.331447</td>\n",
       "      <td>29.413270</td>\n",
       "      <td>15.244073</td>\n",
       "      <td>-68.198591</td>\n",
       "    </tr>\n",
       "    <tr>\n",
       "      <th>50%</th>\n",
       "      <td>2.180138e+08</td>\n",
       "      <td>1.883250e+06</td>\n",
       "      <td>12978.0</td>\n",
       "      <td>3.230000e+00</td>\n",
       "      <td>4.147720e+07</td>\n",
       "      <td>1488.000000</td>\n",
       "      <td>1433.000000</td>\n",
       "      <td>751.000000</td>\n",
       "      <td>386.793732</td>\n",
       "      <td>305.406250</td>\n",
       "      <td>0.00000</td>\n",
       "      <td>0.0</td>\n",
       "      <td>94.107592</td>\n",
       "      <td>24.317378</td>\n",
       "      <td>50.735364</td>\n",
       "      <td>54.411754</td>\n",
       "      <td>27.979509</td>\n",
       "      <td>-26.565051</td>\n",
       "    </tr>\n",
       "    <tr>\n",
       "      <th>75%</th>\n",
       "      <td>2.238796e+08</td>\n",
       "      <td>2.013530e+06</td>\n",
       "      <td>12978.0</td>\n",
       "      <td>3.230000e+00</td>\n",
       "      <td>4.148950e+07</td>\n",
       "      <td>2386.000000</td>\n",
       "      <td>1680.000000</td>\n",
       "      <td>916.000000</td>\n",
       "      <td>593.174988</td>\n",
       "      <td>458.976562</td>\n",
       "      <td>1.00000</td>\n",
       "      <td>0.0</td>\n",
       "      <td>164.520425</td>\n",
       "      <td>39.811490</td>\n",
       "      <td>103.240520</td>\n",
       "      <td>98.027700</td>\n",
       "      <td>50.331990</td>\n",
       "      <td>1.051183</td>\n",
       "    </tr>\n",
       "    <tr>\n",
       "      <th>max</th>\n",
       "      <td>2.420698e+08</td>\n",
       "      <td>2.076095e+06</td>\n",
       "      <td>12978.0</td>\n",
       "      <td>3.230000e+00</td>\n",
       "      <td>4.148990e+07</td>\n",
       "      <td>11967.000000</td>\n",
       "      <td>4222.000000</td>\n",
       "      <td>2027.000000</td>\n",
       "      <td>1368.906250</td>\n",
       "      <td>963.343079</td>\n",
       "      <td>1.00000</td>\n",
       "      <td>0.0</td>\n",
       "      <td>1435.277159</td>\n",
       "      <td>180.000000</td>\n",
       "      <td>359.999994</td>\n",
       "      <td>1345.925995</td>\n",
       "      <td>672.962997</td>\n",
       "      <td>179.999917</td>\n",
       "    </tr>\n",
       "  </tbody>\n",
       "</table>\n",
       "</div>"
      ],
      "text/plain": [
       "       classification_id       user_id  workflow_id  workflow_version  \\\n",
       "count       1.024170e+05  1.024170e+05     102417.0      1.024170e+05   \n",
       "mean        2.200250e+08  1.267740e+06      12978.0      3.230000e+00   \n",
       "std         6.968151e+06  8.982721e+05          0.0      2.424739e-13   \n",
       "min         2.116558e+08  0.000000e+00      12978.0      3.230000e+00   \n",
       "25%         2.145733e+08  0.000000e+00      12978.0      3.230000e+00   \n",
       "50%         2.180138e+08  1.883250e+06      12978.0      3.230000e+00   \n",
       "75%         2.238796e+08  2.013530e+06      12978.0      3.230000e+00   \n",
       "max         2.420698e+08  2.076095e+06      12978.0      3.230000e+00   \n",
       "\n",
       "        subject_ids      len_annot  viewport.width  viewport.height  \\\n",
       "count  1.024170e+05  102417.000000   102417.000000    102417.000000   \n",
       "mean   4.147373e+07    1860.695588     1449.998887       789.925520   \n",
       "std    1.563920e+04    1308.501232      413.287647       170.924866   \n",
       "min    4.145116e+07     321.000000      256.000000       115.000000   \n",
       "25%    4.145391e+07     924.000000     1280.000000       667.000000   \n",
       "50%    4.147720e+07    1488.000000     1433.000000       751.000000   \n",
       "75%    4.148950e+07    2386.000000     1680.000000       916.000000   \n",
       "max    4.148990e+07   11967.000000     4222.000000      2027.000000   \n",
       "\n",
       "                   x              y          tool     frame      distance  \\\n",
       "count  102417.000000  102417.000000  102417.00000  102417.0  70554.000000   \n",
       "mean      391.943464     308.453877       0.31111       0.0    133.244223   \n",
       "std       238.673550     182.378521       0.46295       0.0    120.937871   \n",
       "min      -493.531250    -571.499123       0.00000       0.0      0.000000   \n",
       "25%       187.968750     155.726303       0.00000       0.0     56.993615   \n",
       "50%       386.793732     305.406250       0.00000       0.0     94.107592   \n",
       "75%       593.174988     458.976562       1.00000       0.0    164.520425   \n",
       "max      1368.906250     963.343079       1.00000       0.0   1435.277159   \n",
       "\n",
       "             spread      rotation      radius_1      radius_2         angle  \n",
       "count  70554.000000  70554.000000  31863.000000  31863.000000  31863.000000  \n",
       "mean      28.844479     78.327512     78.244081     40.081500    -22.552411  \n",
       "std       21.023718     81.666292     79.664074     40.640963     83.300334  \n",
       "min        0.000000      0.000000      0.000000      0.000000   -270.000000  \n",
       "25%       10.000000     22.331447     29.413270     15.244073    -68.198591  \n",
       "50%       24.317378     50.735364     54.411754     27.979509    -26.565051  \n",
       "75%       39.811490    103.240520     98.027700     50.331990      1.051183  \n",
       "max      180.000000    359.999994   1345.925995    672.962997    179.999917  "
      ]
     },
     "execution_count": null,
     "metadata": {},
     "output_type": "execute_result"
    }
   ],
   "source": [
    "df.describe()"
   ]
  },
  {
   "cell_type": "code",
   "execution_count": null,
   "metadata": {},
   "outputs": [
    {
     "data": {
      "text/plain": [
       "(102417, 42)"
      ]
     },
     "execution_count": null,
     "metadata": {},
     "output_type": "execute_result"
    }
   ],
   "source": [
    "df.shape"
   ]
  },
  {
   "cell_type": "code",
   "execution_count": null,
   "metadata": {},
   "outputs": [],
   "source": [
    "df = reduction.filter_data(df)"
   ]
  },
  {
   "cell_type": "code",
   "execution_count": null,
   "metadata": {},
   "outputs": [
    {
     "data": {
      "text/plain": [
       "(5288033, 24)"
      ]
     },
     "execution_count": null,
     "metadata": {},
     "output_type": "execute_result"
    }
   ],
   "source": [
    "df.shape"
   ]
  },
  {
   "cell_type": "code",
   "execution_count": null,
   "metadata": {},
   "outputs": [],
   "source": [
    "blotches = df.marking == \"blotch\""
   ]
  },
  {
   "cell_type": "code",
   "execution_count": null,
   "metadata": {},
   "outputs": [],
   "source": [
    "reduction.convert_ellipse_angles(df)"
   ]
  },
  {
   "cell_type": "code",
   "execution_count": null,
   "metadata": {},
   "outputs": [],
   "source": [
    "reduction.normalize_fan_angles(df)"
   ]
  },
  {
   "cell_type": "code",
   "execution_count": null,
   "metadata": {},
   "outputs": [
    {
     "data": {
      "text/plain": [
       "Index(['classification_id', 'created_at', 'image_id', 'image_url', 'user_name',\n",
       "       'marking', 'x_tile', 'y_tile', 'acquisition_date', 'local_mars_time',\n",
       "       'x', 'y', 'image_x', 'image_y', 'radius_1', 'radius_2', 'distance',\n",
       "       'angle', 'spread', 'version', 'x_angle', 'y_angle', 'image_name',\n",
       "       'season'],\n",
       "      dtype='object')"
      ]
     },
     "execution_count": null,
     "metadata": {},
     "output_type": "execute_result"
    }
   ],
   "source": [
    "df.columns"
   ]
  },
  {
   "cell_type": "code",
   "execution_count": null,
   "metadata": {},
   "outputs": [
    {
     "data": {
      "text/plain": [
       "count    3.802132e+06\n",
       "mean     1.135086e+02\n",
       "std      9.541926e+01\n",
       "min      0.000000e+00\n",
       "25%      3.756859e+01\n",
       "50%      8.647855e+01\n",
       "75%      1.732902e+02\n",
       "max      3.599415e+02\n",
       "Name: angle, dtype: float64"
      ]
     },
     "execution_count": null,
     "metadata": {},
     "output_type": "execute_result"
    }
   ],
   "source": [
    "df.angle.describe()"
   ]
  },
  {
   "cell_type": "code",
   "execution_count": null,
   "metadata": {},
   "outputs": [
    {
     "ename": "AttributeError",
     "evalue": "'DataFrame' object has no attribute 'rotation'",
     "output_type": "error",
     "traceback": [
      "\u001b[0;31m---------------------------------------------------------------------------\u001b[0m",
      "\u001b[0;31mAttributeError\u001b[0m                            Traceback (most recent call last)",
      "\u001b[0;32m/tmp/ipykernel_310099/4284821999.py\u001b[0m in \u001b[0;36m?\u001b[0;34m()\u001b[0m\n\u001b[0;32m----> 1\u001b[0;31m \u001b[0mdf\u001b[0m\u001b[0;34m.\u001b[0m\u001b[0mrotation\u001b[0m\u001b[0;34m.\u001b[0m\u001b[0mdescribe\u001b[0m\u001b[0;34m(\u001b[0m\u001b[0;34m)\u001b[0m\u001b[0;34m\u001b[0m\u001b[0;34m\u001b[0m\u001b[0m\n\u001b[0m",
      "\u001b[0;32m~/mambaforge/envs/py310/lib/python3.10/site-packages/pandas/core/generic.py\u001b[0m in \u001b[0;36m?\u001b[0;34m(self, name)\u001b[0m\n\u001b[1;32m   5898\u001b[0m             \u001b[0;32mand\u001b[0m \u001b[0mname\u001b[0m \u001b[0;32mnot\u001b[0m \u001b[0;32min\u001b[0m \u001b[0mself\u001b[0m\u001b[0;34m.\u001b[0m\u001b[0m_accessors\u001b[0m\u001b[0;34m\u001b[0m\u001b[0;34m\u001b[0m\u001b[0m\n\u001b[1;32m   5899\u001b[0m             \u001b[0;32mand\u001b[0m \u001b[0mself\u001b[0m\u001b[0;34m.\u001b[0m\u001b[0m_info_axis\u001b[0m\u001b[0;34m.\u001b[0m\u001b[0m_can_hold_identifiers_and_holds_name\u001b[0m\u001b[0;34m(\u001b[0m\u001b[0mname\u001b[0m\u001b[0;34m)\u001b[0m\u001b[0;34m\u001b[0m\u001b[0;34m\u001b[0m\u001b[0m\n\u001b[1;32m   5900\u001b[0m         ):\n\u001b[1;32m   5901\u001b[0m             \u001b[0;32mreturn\u001b[0m \u001b[0mself\u001b[0m\u001b[0;34m[\u001b[0m\u001b[0mname\u001b[0m\u001b[0;34m]\u001b[0m\u001b[0;34m\u001b[0m\u001b[0;34m\u001b[0m\u001b[0m\n\u001b[0;32m-> 5902\u001b[0;31m         \u001b[0;32mreturn\u001b[0m \u001b[0mobject\u001b[0m\u001b[0;34m.\u001b[0m\u001b[0m__getattribute__\u001b[0m\u001b[0;34m(\u001b[0m\u001b[0mself\u001b[0m\u001b[0;34m,\u001b[0m \u001b[0mname\u001b[0m\u001b[0;34m)\u001b[0m\u001b[0;34m\u001b[0m\u001b[0;34m\u001b[0m\u001b[0m\n\u001b[0m",
      "\u001b[0;31mAttributeError\u001b[0m: 'DataFrame' object has no attribute 'rotation'"
     ]
    }
   ],
   "source": [
    "df.rotation.describe()"
   ]
  },
  {
   "cell_type": "code",
   "execution_count": null,
   "metadata": {},
   "outputs": [],
   "source": [
    "df = df.assign(x_angle=np.cos(np.deg2rad(df['angle'])),\n",
    "               y_angle=np.sin(np.deg2rad(df['angle'])))"
   ]
  },
  {
   "cell_type": "code",
   "execution_count": null,
   "metadata": {},
   "outputs": [
    {
     "data": {
      "text/plain": [
       "Path('/home/ayek72/Dropbox/data/planet4/seasons145.parq')"
      ]
     },
     "execution_count": null,
     "metadata": {},
     "output_type": "execute_result"
    }
   ],
   "source": [
    "fpath"
   ]
  },
  {
   "cell_type": "code",
   "execution_count": null,
   "metadata": {},
   "outputs": [
    {
     "data": {
      "text/plain": [
       "Path('/home/ayek72/Dropbox/data/planet4/panoptes/man_s6_filtered.parq')"
      ]
     },
     "execution_count": null,
     "metadata": {},
     "output_type": "execute_result"
    }
   ],
   "source": [
    "newfpath = fpath.with_name(\"man_s6_filtered.parq\")\n",
    "newfpath"
   ]
  },
  {
   "cell_type": "code",
   "execution_count": null,
   "metadata": {},
   "outputs": [],
   "source": [
    "df.to_parquet(newfpath)"
   ]
  },
  {
   "cell_type": "code",
   "execution_count": null,
   "metadata": {},
   "outputs": [],
   "source": [
    "ddf = pd.read_parquet(newfpath, filters=[(\"image_name\",\"==\", \"ESP_021455_0935\")])"
   ]
  },
  {
   "cell_type": "code",
   "execution_count": null,
   "metadata": {},
   "outputs": [],
   "source": [
    "dd.compute(ddf.shape)"
   ]
  },
  {
   "cell_type": "code",
   "execution_count": null,
   "metadata": {},
   "outputs": [],
   "source": [
    "image_names = ddf.image_name.unique()"
   ]
  },
  {
   "cell_type": "code",
   "execution_count": null,
   "metadata": {},
   "outputs": [],
   "source": [
    "img_data = ddf[ddf.image_name==\"ESP_021455_0935\"]"
   ]
  },
  {
   "cell_type": "code",
   "execution_count": null,
   "metadata": {},
   "outputs": [],
   "source": [
    "img_data.persist()"
   ]
  },
  {
   "cell_type": "code",
   "execution_count": null,
   "metadata": {},
   "outputs": [],
   "source": [
    "data = img_data"
   ]
  },
  {
   "cell_type": "code",
   "execution_count": null,
   "metadata": {},
   "outputs": [],
   "source": [
    "def remove_dupes(data):\n",
    "\n",
    "    c_ids = []\n",
    "\n",
    "    def process_user_group(g):\n",
    "        c_ids.append(g[g.created_at == g.created_at.min()\n",
    "                       ].classification_id.min())\n",
    "\n",
    "    data.groupby(['image_id', 'user_name'],\n",
    "                 sort=False).apply(process_user_group)\n",
    "    return data.set_index('classification_id').loc[set(c_ids)].reset_index()"
   ]
  },
  {
   "cell_type": "code",
   "execution_count": null,
   "metadata": {},
   "outputs": [],
   "source": []
  },
  {
   "cell_type": "markdown",
   "metadata": {},
   "source": [
    "# Data to cluster"
   ]
  },
  {
   "cell_type": "code",
   "execution_count": null,
   "metadata": {},
   "outputs": [
    {
     "name": "stderr",
     "output_type": "stream",
     "text": [
      "INFO: To route to workers diagnostics web server please install jupyter-server-proxy: python -m pip install jupyter-server-proxy\n",
      "INFO: State start\n",
      "INFO:   Scheduler at:     tcp://127.0.0.1:40377\n",
      "INFO:   dashboard at:            127.0.0.1:8787\n",
      "INFO:         Start Nanny at: 'tcp://127.0.0.1:42217'\n",
      "INFO:         Start Nanny at: 'tcp://127.0.0.1:43349'\n",
      "INFO:         Start Nanny at: 'tcp://127.0.0.1:43899'\n",
      "INFO:         Start Nanny at: 'tcp://127.0.0.1:37337'\n",
      "INFO: Register worker <WorkerState 'tcp://127.0.0.1:46715', name: 0, status: init, memory: 0, processing: 0>\n",
      "INFO: Starting worker compute stream, tcp://127.0.0.1:46715\n",
      "INFO: Starting established connection to tcp://127.0.0.1:53442\n",
      "INFO: Register worker <WorkerState 'tcp://127.0.0.1:43573', name: 2, status: init, memory: 0, processing: 0>\n",
      "INFO: Starting worker compute stream, tcp://127.0.0.1:43573\n",
      "INFO: Starting established connection to tcp://127.0.0.1:53446\n",
      "INFO: Register worker <WorkerState 'tcp://127.0.0.1:43955', name: 3, status: init, memory: 0, processing: 0>\n",
      "INFO: Starting worker compute stream, tcp://127.0.0.1:43955\n",
      "INFO: Starting established connection to tcp://127.0.0.1:53472\n",
      "INFO: Register worker <WorkerState 'tcp://127.0.0.1:37205', name: 1, status: init, memory: 0, processing: 0>\n",
      "INFO: Starting worker compute stream, tcp://127.0.0.1:37205\n",
      "INFO: Starting established connection to tcp://127.0.0.1:53456\n",
      "INFO: Receive client connection: Client-89bc061e-b91d-11ed-95b0-40b034467fed\n",
      "INFO: Starting established connection to tcp://127.0.0.1:39890\n"
     ]
    },
    {
     "data": {
      "text/html": [
       "<div>\n",
       "    <div style=\"width: 24px; height: 24px; background-color: #e1e1e1; border: 3px solid #9D9D9D; border-radius: 5px; position: absolute;\"> </div>\n",
       "    <div style=\"margin-left: 48px;\">\n",
       "        <h3 style=\"margin-bottom: 0px;\">Client</h3>\n",
       "        <p style=\"color: #9D9D9D; margin-bottom: 0px;\">Client-89bc061e-b91d-11ed-95b0-40b034467fed</p>\n",
       "        <table style=\"width: 100%; text-align: left;\">\n",
       "\n",
       "        <tr>\n",
       "        \n",
       "            <td style=\"text-align: left;\"><strong>Connection method:</strong> Cluster object</td>\n",
       "            <td style=\"text-align: left;\"><strong>Cluster type:</strong> distributed.LocalCluster</td>\n",
       "        \n",
       "        </tr>\n",
       "\n",
       "        \n",
       "            <tr>\n",
       "                <td style=\"text-align: left;\">\n",
       "                    <strong>Dashboard: </strong> <a href=\"http://127.0.0.1:8787/status\" target=\"_blank\">http://127.0.0.1:8787/status</a>\n",
       "                </td>\n",
       "                <td style=\"text-align: left;\"></td>\n",
       "            </tr>\n",
       "        \n",
       "\n",
       "        </table>\n",
       "\n",
       "        \n",
       "\n",
       "        \n",
       "            <details>\n",
       "            <summary style=\"margin-bottom: 20px;\"><h3 style=\"display: inline;\">Cluster Info</h3></summary>\n",
       "            <div class=\"jp-RenderedHTMLCommon jp-RenderedHTML jp-mod-trusted jp-OutputArea-output\">\n",
       "    <div style=\"width: 24px; height: 24px; background-color: #e1e1e1; border: 3px solid #9D9D9D; border-radius: 5px; position: absolute;\">\n",
       "    </div>\n",
       "    <div style=\"margin-left: 48px;\">\n",
       "        <h3 style=\"margin-bottom: 0px; margin-top: 0px;\">LocalCluster</h3>\n",
       "        <p style=\"color: #9D9D9D; margin-bottom: 0px;\">00b08f5b</p>\n",
       "        <table style=\"width: 100%; text-align: left;\">\n",
       "            <tr>\n",
       "                <td style=\"text-align: left;\">\n",
       "                    <strong>Dashboard:</strong> <a href=\"http://127.0.0.1:8787/status\" target=\"_blank\">http://127.0.0.1:8787/status</a>\n",
       "                </td>\n",
       "                <td style=\"text-align: left;\">\n",
       "                    <strong>Workers:</strong> 4\n",
       "                </td>\n",
       "            </tr>\n",
       "            <tr>\n",
       "                <td style=\"text-align: left;\">\n",
       "                    <strong>Total threads:</strong> 8\n",
       "                </td>\n",
       "                <td style=\"text-align: left;\">\n",
       "                    <strong>Total memory:</strong> 125.52 GiB\n",
       "                </td>\n",
       "            </tr>\n",
       "            \n",
       "            <tr>\n",
       "    <td style=\"text-align: left;\"><strong>Status:</strong> running</td>\n",
       "    <td style=\"text-align: left;\"><strong>Using processes:</strong> True</td>\n",
       "</tr>\n",
       "\n",
       "            \n",
       "        </table>\n",
       "\n",
       "        <details>\n",
       "            <summary style=\"margin-bottom: 20px;\">\n",
       "                <h3 style=\"display: inline;\">Scheduler Info</h3>\n",
       "            </summary>\n",
       "\n",
       "            <div style=\"\">\n",
       "    <div>\n",
       "        <div style=\"width: 24px; height: 24px; background-color: #FFF7E5; border: 3px solid #FF6132; border-radius: 5px; position: absolute;\"> </div>\n",
       "        <div style=\"margin-left: 48px;\">\n",
       "            <h3 style=\"margin-bottom: 0px;\">Scheduler</h3>\n",
       "            <p style=\"color: #9D9D9D; margin-bottom: 0px;\">Scheduler-3ad8ad72-7320-4bd4-b491-2e2ef7bcdc64</p>\n",
       "            <table style=\"width: 100%; text-align: left;\">\n",
       "                <tr>\n",
       "                    <td style=\"text-align: left;\">\n",
       "                        <strong>Comm:</strong> tcp://127.0.0.1:40377\n",
       "                    </td>\n",
       "                    <td style=\"text-align: left;\">\n",
       "                        <strong>Workers:</strong> 4\n",
       "                    </td>\n",
       "                </tr>\n",
       "                <tr>\n",
       "                    <td style=\"text-align: left;\">\n",
       "                        <strong>Dashboard:</strong> <a href=\"http://127.0.0.1:8787/status\" target=\"_blank\">http://127.0.0.1:8787/status</a>\n",
       "                    </td>\n",
       "                    <td style=\"text-align: left;\">\n",
       "                        <strong>Total threads:</strong> 8\n",
       "                    </td>\n",
       "                </tr>\n",
       "                <tr>\n",
       "                    <td style=\"text-align: left;\">\n",
       "                        <strong>Started:</strong> Just now\n",
       "                    </td>\n",
       "                    <td style=\"text-align: left;\">\n",
       "                        <strong>Total memory:</strong> 125.52 GiB\n",
       "                    </td>\n",
       "                </tr>\n",
       "            </table>\n",
       "        </div>\n",
       "    </div>\n",
       "\n",
       "    <details style=\"margin-left: 48px;\">\n",
       "        <summary style=\"margin-bottom: 20px;\">\n",
       "            <h3 style=\"display: inline;\">Workers</h3>\n",
       "        </summary>\n",
       "\n",
       "        \n",
       "        <div style=\"margin-bottom: 20px;\">\n",
       "            <div style=\"width: 24px; height: 24px; background-color: #DBF5FF; border: 3px solid #4CC9FF; border-radius: 5px; position: absolute;\"> </div>\n",
       "            <div style=\"margin-left: 48px;\">\n",
       "            <details>\n",
       "                <summary>\n",
       "                    <h4 style=\"margin-bottom: 0px; display: inline;\">Worker: 0</h4>\n",
       "                </summary>\n",
       "                <table style=\"width: 100%; text-align: left;\">\n",
       "                    <tr>\n",
       "                        <td style=\"text-align: left;\">\n",
       "                            <strong>Comm: </strong> tcp://127.0.0.1:46715\n",
       "                        </td>\n",
       "                        <td style=\"text-align: left;\">\n",
       "                            <strong>Total threads: </strong> 2\n",
       "                        </td>\n",
       "                    </tr>\n",
       "                    <tr>\n",
       "                        <td style=\"text-align: left;\">\n",
       "                            <strong>Dashboard: </strong> <a href=\"http://127.0.0.1:36137/status\" target=\"_blank\">http://127.0.0.1:36137/status</a>\n",
       "                        </td>\n",
       "                        <td style=\"text-align: left;\">\n",
       "                            <strong>Memory: </strong> 31.38 GiB\n",
       "                        </td>\n",
       "                    </tr>\n",
       "                    <tr>\n",
       "                        <td style=\"text-align: left;\">\n",
       "                            <strong>Nanny: </strong> tcp://127.0.0.1:42217\n",
       "                        </td>\n",
       "                        <td style=\"text-align: left;\"></td>\n",
       "                    </tr>\n",
       "                    <tr>\n",
       "                        <td colspan=\"2\" style=\"text-align: left;\">\n",
       "                            <strong>Local directory: </strong> /tmp/dask-worker-space/worker-1xvrzhm6\n",
       "                        </td>\n",
       "                    </tr>\n",
       "\n",
       "                    \n",
       "\n",
       "                    \n",
       "\n",
       "                </table>\n",
       "            </details>\n",
       "            </div>\n",
       "        </div>\n",
       "        \n",
       "        <div style=\"margin-bottom: 20px;\">\n",
       "            <div style=\"width: 24px; height: 24px; background-color: #DBF5FF; border: 3px solid #4CC9FF; border-radius: 5px; position: absolute;\"> </div>\n",
       "            <div style=\"margin-left: 48px;\">\n",
       "            <details>\n",
       "                <summary>\n",
       "                    <h4 style=\"margin-bottom: 0px; display: inline;\">Worker: 1</h4>\n",
       "                </summary>\n",
       "                <table style=\"width: 100%; text-align: left;\">\n",
       "                    <tr>\n",
       "                        <td style=\"text-align: left;\">\n",
       "                            <strong>Comm: </strong> tcp://127.0.0.1:37205\n",
       "                        </td>\n",
       "                        <td style=\"text-align: left;\">\n",
       "                            <strong>Total threads: </strong> 2\n",
       "                        </td>\n",
       "                    </tr>\n",
       "                    <tr>\n",
       "                        <td style=\"text-align: left;\">\n",
       "                            <strong>Dashboard: </strong> <a href=\"http://127.0.0.1:43227/status\" target=\"_blank\">http://127.0.0.1:43227/status</a>\n",
       "                        </td>\n",
       "                        <td style=\"text-align: left;\">\n",
       "                            <strong>Memory: </strong> 31.38 GiB\n",
       "                        </td>\n",
       "                    </tr>\n",
       "                    <tr>\n",
       "                        <td style=\"text-align: left;\">\n",
       "                            <strong>Nanny: </strong> tcp://127.0.0.1:43349\n",
       "                        </td>\n",
       "                        <td style=\"text-align: left;\"></td>\n",
       "                    </tr>\n",
       "                    <tr>\n",
       "                        <td colspan=\"2\" style=\"text-align: left;\">\n",
       "                            <strong>Local directory: </strong> /tmp/dask-worker-space/worker-jdf5zfhs\n",
       "                        </td>\n",
       "                    </tr>\n",
       "\n",
       "                    \n",
       "\n",
       "                    \n",
       "\n",
       "                </table>\n",
       "            </details>\n",
       "            </div>\n",
       "        </div>\n",
       "        \n",
       "        <div style=\"margin-bottom: 20px;\">\n",
       "            <div style=\"width: 24px; height: 24px; background-color: #DBF5FF; border: 3px solid #4CC9FF; border-radius: 5px; position: absolute;\"> </div>\n",
       "            <div style=\"margin-left: 48px;\">\n",
       "            <details>\n",
       "                <summary>\n",
       "                    <h4 style=\"margin-bottom: 0px; display: inline;\">Worker: 2</h4>\n",
       "                </summary>\n",
       "                <table style=\"width: 100%; text-align: left;\">\n",
       "                    <tr>\n",
       "                        <td style=\"text-align: left;\">\n",
       "                            <strong>Comm: </strong> tcp://127.0.0.1:43573\n",
       "                        </td>\n",
       "                        <td style=\"text-align: left;\">\n",
       "                            <strong>Total threads: </strong> 2\n",
       "                        </td>\n",
       "                    </tr>\n",
       "                    <tr>\n",
       "                        <td style=\"text-align: left;\">\n",
       "                            <strong>Dashboard: </strong> <a href=\"http://127.0.0.1:36929/status\" target=\"_blank\">http://127.0.0.1:36929/status</a>\n",
       "                        </td>\n",
       "                        <td style=\"text-align: left;\">\n",
       "                            <strong>Memory: </strong> 31.38 GiB\n",
       "                        </td>\n",
       "                    </tr>\n",
       "                    <tr>\n",
       "                        <td style=\"text-align: left;\">\n",
       "                            <strong>Nanny: </strong> tcp://127.0.0.1:43899\n",
       "                        </td>\n",
       "                        <td style=\"text-align: left;\"></td>\n",
       "                    </tr>\n",
       "                    <tr>\n",
       "                        <td colspan=\"2\" style=\"text-align: left;\">\n",
       "                            <strong>Local directory: </strong> /tmp/dask-worker-space/worker-hoolitcn\n",
       "                        </td>\n",
       "                    </tr>\n",
       "\n",
       "                    \n",
       "\n",
       "                    \n",
       "\n",
       "                </table>\n",
       "            </details>\n",
       "            </div>\n",
       "        </div>\n",
       "        \n",
       "        <div style=\"margin-bottom: 20px;\">\n",
       "            <div style=\"width: 24px; height: 24px; background-color: #DBF5FF; border: 3px solid #4CC9FF; border-radius: 5px; position: absolute;\"> </div>\n",
       "            <div style=\"margin-left: 48px;\">\n",
       "            <details>\n",
       "                <summary>\n",
       "                    <h4 style=\"margin-bottom: 0px; display: inline;\">Worker: 3</h4>\n",
       "                </summary>\n",
       "                <table style=\"width: 100%; text-align: left;\">\n",
       "                    <tr>\n",
       "                        <td style=\"text-align: left;\">\n",
       "                            <strong>Comm: </strong> tcp://127.0.0.1:43955\n",
       "                        </td>\n",
       "                        <td style=\"text-align: left;\">\n",
       "                            <strong>Total threads: </strong> 2\n",
       "                        </td>\n",
       "                    </tr>\n",
       "                    <tr>\n",
       "                        <td style=\"text-align: left;\">\n",
       "                            <strong>Dashboard: </strong> <a href=\"http://127.0.0.1:38719/status\" target=\"_blank\">http://127.0.0.1:38719/status</a>\n",
       "                        </td>\n",
       "                        <td style=\"text-align: left;\">\n",
       "                            <strong>Memory: </strong> 31.38 GiB\n",
       "                        </td>\n",
       "                    </tr>\n",
       "                    <tr>\n",
       "                        <td style=\"text-align: left;\">\n",
       "                            <strong>Nanny: </strong> tcp://127.0.0.1:37337\n",
       "                        </td>\n",
       "                        <td style=\"text-align: left;\"></td>\n",
       "                    </tr>\n",
       "                    <tr>\n",
       "                        <td colspan=\"2\" style=\"text-align: left;\">\n",
       "                            <strong>Local directory: </strong> /tmp/dask-worker-space/worker-el3lmkwo\n",
       "                        </td>\n",
       "                    </tr>\n",
       "\n",
       "                    \n",
       "\n",
       "                    \n",
       "\n",
       "                </table>\n",
       "            </details>\n",
       "            </div>\n",
       "        </div>\n",
       "        \n",
       "\n",
       "    </details>\n",
       "</div>\n",
       "\n",
       "        </details>\n",
       "    </div>\n",
       "</div>\n",
       "            </details>\n",
       "        \n",
       "\n",
       "    </div>\n",
       "</div>"
      ],
      "text/plain": [
       "<Client: 'tcp://127.0.0.1:40377' processes=4 threads=8, memory=125.52 GiB>"
      ]
     },
     "execution_count": null,
     "metadata": {},
     "output_type": "execute_result"
    }
   ],
   "source": [
    "from dask.distributed import Client\n",
    "\n",
    "client = Client()\n",
    "client"
   ]
  },
  {
   "cell_type": "code",
   "execution_count": null,
   "metadata": {},
   "outputs": [],
   "source": [
    "from planet4 import region_data, io"
   ]
  },
  {
   "cell_type": "code",
   "execution_count": null,
   "metadata": {},
   "outputs": [
    {
     "data": {
      "text/plain": [
       "Timestamp('2019-05-02 11:01:23+0000', tz='UTC')"
      ]
     },
     "execution_count": null,
     "metadata": {},
     "output_type": "execute_result"
    }
   ],
   "source": [
    "df.created_at.max()"
   ]
  },
  {
   "cell_type": "code",
   "execution_count": null,
   "metadata": {},
   "outputs": [
    {
     "data": {
      "text/plain": [
       "Path('/home/ayek72/Dropbox/data/planet4/panoptes/man_s6.parq')"
      ]
     },
     "execution_count": null,
     "metadata": {},
     "output_type": "execute_result"
    }
   ],
   "source": [
    "fpath"
   ]
  },
  {
   "cell_type": "code",
   "execution_count": null,
   "metadata": {},
   "outputs": [],
   "source": [
    "db = io.DBManager(newfpath)"
   ]
  },
  {
   "cell_type": "code",
   "execution_count": null,
   "metadata": {},
   "outputs": [
    {
     "data": {
      "text/plain": [
       "False"
      ]
     },
     "execution_count": null,
     "metadata": {},
     "output_type": "execute_result"
    }
   ],
   "source": [
    "any(df.x.isnull())"
   ]
  },
  {
   "cell_type": "code",
   "execution_count": null,
   "metadata": {},
   "outputs": [
    {
     "data": {
      "text/plain": [
       "0    ESP_046642_0935\n",
       "1    ESP_047696_0935\n",
       "2    ESP_047327_0935\n",
       "3    ESP_046971_0935\n",
       "4    ESP_047103_0935\n",
       "Name: image_name, dtype: object"
      ]
     },
     "execution_count": null,
     "metadata": {},
     "output_type": "execute_result"
    }
   ],
   "source": [
    "db.obsids.head()"
   ]
  },
  {
   "cell_type": "markdown",
   "metadata": {},
   "source": [
    "# Support functions"
   ]
  },
  {
   "cell_type": "code",
   "execution_count": null,
   "metadata": {},
   "outputs": [],
   "source": [
    "from planet4.catalog_production import (\n",
    "    ReleaseManager,\n",
    "    cluster_obsid_parallel,\n",
    "    fnotch_obsid_parallel,\n",
    "    fnotch_obsid,\n",
    "    cluster_obsid\n",
    ")\n",
    "from planet4 import fnotching\n",
    "from planet4.dbscan import DBScanner\n",
    "from planet4.markings import TileID\n",
    "from planet4.io import check_and_pad_id, get_subframe, urlretrieve\n",
    "from planetarypy.utils import url_retrieve\n",
    "from nbtools import execute_in_parallel\n",
    "from kalasiris.pysis import ProcessError\n",
    "from subprocess import CalledProcessError"
   ]
  },
  {
   "cell_type": "code",
   "execution_count": null,
   "metadata": {},
   "outputs": [],
   "source": [
    "rm = ReleaseManager(\"v3.0_Manhattan\", dbname=db.dbname, overwrite=False)"
   ]
  },
  {
   "cell_type": "code",
   "execution_count": null,
   "metadata": {},
   "outputs": [
    {
     "data": {
      "text/plain": [
       "'P4_catalog_v3.0_Manhattan'"
      ]
     },
     "execution_count": null,
     "metadata": {},
     "output_type": "execute_result"
    }
   ],
   "source": [
    "rm.catalog"
   ]
  },
  {
   "cell_type": "code",
   "execution_count": null,
   "metadata": {},
   "outputs": [],
   "source": [
    "rm.check_for_todo()"
   ]
  },
  {
   "cell_type": "code",
   "execution_count": null,
   "metadata": {},
   "outputs": [
    {
     "data": {
      "text/plain": [
       "['ESP_046642_0935',\n",
       " 'ESP_047696_0935',\n",
       " 'ESP_047327_0935',\n",
       " 'ESP_046971_0935',\n",
       " 'ESP_047103_0935',\n",
       " 'ESP_047459_0935',\n",
       " 'ESP_046681_0935',\n",
       " 'ESP_047961_0935']"
      ]
     },
     "execution_count": null,
     "metadata": {},
     "output_type": "execute_result"
    }
   ],
   "source": [
    "rm.todo"
   ]
  },
  {
   "cell_type": "markdown",
   "metadata": {},
   "source": [
    "## clustering"
   ]
  },
  {
   "cell_type": "code",
   "execution_count": null,
   "metadata": {},
   "outputs": [
    {
     "data": {
      "text/plain": [
       "'ESP_046642_0935'"
      ]
     },
     "execution_count": null,
     "metadata": {},
     "output_type": "execute_result"
    }
   ],
   "source": [
    "obsid = rm.todo[0]\n",
    "obsid"
   ]
  },
  {
   "cell_type": "code",
   "execution_count": null,
   "metadata": {},
   "outputs": [],
   "source": [
    "savedir = Path(\"/home/ayek72/mnt/slowdata/p4_reduction\")"
   ]
  },
  {
   "cell_type": "code",
   "execution_count": null,
   "metadata": {},
   "outputs": [
    {
     "data": {
      "text/plain": [
       "Index(['classification_id', 'user_name', 'user_id', 'user_ip', 'workflow_id',\n",
       "       'workflow_name', 'workflow_version', 'created_at', 'subject_ids',\n",
       "       'len_annot', 'source', 'session', 'started_at', 'user_agent',\n",
       "       'utc_offset', 'finished_at', 'live_project', 'user_language',\n",
       "       'user_group_ids', 'workflow_translation_id', 'viewport.width',\n",
       "       'viewport.height', 'subject_selection_state.retired',\n",
       "       'subject_selection_state.selected_at',\n",
       "       'subject_selection_state.already_seen',\n",
       "       'subject_selection_state.selection_state',\n",
       "       'subject_selection_state.finished_workflow',\n",
       "       'subject_selection_state.user_has_finished_workflow', 'seen_before',\n",
       "       'image_id', 'image_name', 'x', 'y', 'tool', 'frame', 'distance',\n",
       "       'spread', 'rotation', 'marking', 'radius_1', 'radius_2', 'angle',\n",
       "       'x_angle', 'y_angle'],\n",
       "      dtype='object')"
      ]
     },
     "execution_count": null,
     "metadata": {},
     "output_type": "execute_result"
    }
   ],
   "source": [
    "df.columns"
   ]
  },
  {
   "cell_type": "code",
   "execution_count": null,
   "metadata": {},
   "outputs": [
    {
     "data": {
      "application/vnd.jupyter.widget-view+json": {
       "model_id": "73563d3ce1664b8eb5e7c156abb2c150",
       "version_major": 2,
       "version_minor": 0
      },
      "text/plain": [
       "  0%|          | 0/174 [00:00<?, ?it/s]"
      ]
     },
     "metadata": {},
     "output_type": "display_data"
    },
    {
     "name": "stderr",
     "output_type": "stream",
     "text": [
      "INFO: full garbage collection released 44.89 MiB from 2073 reference cycles (threshold: 9.54 MiB)\n"
     ]
    },
    {
     "ename": "ValueError",
     "evalue": "Input X contains NaN.\nDBSCAN does not accept missing values encoded as NaN natively. For supervised learning, you might want to consider sklearn.ensemble.HistGradientBoostingClassifier and Regressor which accept missing values encoded as NaNs natively. Alternatively, it is possible to preprocess the data, for instance by using an imputer transformer in a pipeline or drop samples with missing values. See https://scikit-learn.org/stable/modules/impute.html You can find a list of all estimators that handle NaN values at the following page: https://scikit-learn.org/stable/modules/impute.html#estimators-that-handle-nan-values",
     "output_type": "error",
     "traceback": [
      "\u001b[0;31m---------------------------------------------------------------------------\u001b[0m",
      "\u001b[0;31mValueError\u001b[0m                                Traceback (most recent call last)",
      "Cell \u001b[0;32mIn[167], line 1\u001b[0m\n\u001b[0;32m----> 1\u001b[0m \u001b[43mcluster_obsid\u001b[49m\u001b[43m(\u001b[49m\u001b[43mobsid\u001b[49m\u001b[43m,\u001b[49m\u001b[43m \u001b[49m\u001b[43msavedir\u001b[49m\u001b[43m,\u001b[49m\u001b[43m \u001b[49m\u001b[43mdbname\u001b[49m\u001b[38;5;241;43m=\u001b[39;49m\u001b[43mdb\u001b[49m\u001b[38;5;241;43m.\u001b[39;49m\u001b[43mdbname\u001b[49m\u001b[43m)\u001b[49m\n",
      "File \u001b[0;32m~/Dropbox/src/planet4/planet4/catalog_production.py:94\u001b[0m, in \u001b[0;36mcluster_obsid\u001b[0;34m(obsid, savedir, imgid, dbname)\u001b[0m\n\u001b[1;32m     92\u001b[0m \u001b[38;5;66;03m# cluster\u001b[39;00m\n\u001b[1;32m     93\u001b[0m dbscanner \u001b[38;5;241m=\u001b[39m dbscan\u001b[38;5;241m.\u001b[39mDBScanner(savedir\u001b[38;5;241m=\u001b[39msavedir, dbname\u001b[38;5;241m=\u001b[39mdbname)\n\u001b[0;32m---> 94\u001b[0m \u001b[43mdbscanner\u001b[49m\u001b[38;5;241;43m.\u001b[39;49m\u001b[43mcluster_image_name\u001b[49m\u001b[43m(\u001b[49m\u001b[43mobsid\u001b[49m\u001b[43m)\u001b[49m\n\u001b[1;32m     95\u001b[0m \u001b[38;5;28;01mreturn\u001b[39;00m obsid\n",
      "File \u001b[0;32m~/Dropbox/src/planet4/planet4/dbscan.py:322\u001b[0m, in \u001b[0;36mDBScanner.cluster_image_name\u001b[0;34m(self, image_name, msf, eps_values)\u001b[0m\n\u001b[1;32m    320\u001b[0m \u001b[38;5;28;01mfor\u001b[39;00m image_id \u001b[38;5;129;01min\u001b[39;00m tqdm(image_ids):\n\u001b[1;32m    321\u001b[0m     \u001b[38;5;28mself\u001b[39m\u001b[38;5;241m.\u001b[39mpm\u001b[38;5;241m.\u001b[39mid \u001b[38;5;241m=\u001b[39m image_id\n\u001b[0;32m--> 322\u001b[0m     \u001b[38;5;28;43mself\u001b[39;49m\u001b[38;5;241;43m.\u001b[39;49m\u001b[43mcluster_image_id\u001b[49m\u001b[43m(\u001b[49m\u001b[43mimage_id\u001b[49m\u001b[43m,\u001b[49m\u001b[43m \u001b[49m\u001b[43mmsf\u001b[49m\u001b[43m,\u001b[49m\u001b[43m \u001b[49m\u001b[43meps_values\u001b[49m\u001b[43m,\u001b[49m\u001b[43m \u001b[49m\u001b[43mimage_name\u001b[49m\u001b[43m)\u001b[49m\n",
      "File \u001b[0;32m~/Dropbox/src/planet4/planet4/dbscan.py:394\u001b[0m, in \u001b[0;36mDBScanner.cluster_image_id\u001b[0;34m(self, img_id, msf, eps_values, image_name)\u001b[0m\n\u001b[1;32m    392\u001b[0m     \u001b[38;5;28;01mcontinue\u001b[39;00m\n\u001b[1;32m    393\u001b[0m \u001b[38;5;66;03m# cluster first with the parameters for small objects\u001b[39;00m\n\u001b[0;32m--> 394\u001b[0m \u001b[38;5;28;43mself\u001b[39;49m\u001b[38;5;241;43m.\u001b[39;49m\u001b[43m_setup_and_call_clustering\u001b[49m\u001b[43m(\u001b[49m\u001b[43meps_values\u001b[49m\u001b[43m,\u001b[49m\u001b[43m \u001b[49m\u001b[43mdata\u001b[49m\u001b[43m,\u001b[49m\u001b[43m \u001b[49m\u001b[43mkind\u001b[49m\u001b[43m,\u001b[49m\u001b[43m \u001b[49m\u001b[38;5;124;43m\"\u001b[39;49m\u001b[38;5;124;43msmall\u001b[39;49m\u001b[38;5;124;43m\"\u001b[39;49m\u001b[43m)\u001b[49m\n\u001b[1;32m    395\u001b[0m \u001b[38;5;66;03m# self.remaining was created during previous call.\u001b[39;00m\n\u001b[1;32m    396\u001b[0m \u001b[38;5;28;01mif\u001b[39;00m \u001b[38;5;28mlen\u001b[39m(\u001b[38;5;28mself\u001b[39m\u001b[38;5;241m.\u001b[39mremaining) \u001b[38;5;241m>\u001b[39m \u001b[38;5;28mself\u001b[39m\u001b[38;5;241m.\u001b[39mmin_samples \u001b[38;5;129;01mand\u001b[39;00m \u001b[38;5;28mself\u001b[39m\u001b[38;5;241m.\u001b[39mdo_large_run \u001b[38;5;129;01mis\u001b[39;00m \u001b[38;5;28;01mTrue\u001b[39;00m:\n\u001b[1;32m    397\u001b[0m     \u001b[38;5;66;03m# if we allow it, and more than min_samples are left, do 2nd round\u001b[39;00m\n\u001b[1;32m    398\u001b[0m     \u001b[38;5;66;03m# with parameters for large objects\u001b[39;00m\n",
      "File \u001b[0;32m~/Dropbox/src/planet4/planet4/dbscan.py:426\u001b[0m, in \u001b[0;36mDBScanner._setup_and_call_clustering\u001b[0;34m(self, eps_values, dataset, kind, size)\u001b[0m\n\u001b[1;32m    423\u001b[0m eps_rad \u001b[38;5;241m=\u001b[39m eps_values[kind][\u001b[38;5;124m\"\u001b[39m\u001b[38;5;124mradius\u001b[39m\u001b[38;5;124m\"\u001b[39m][size]\n\u001b[1;32m    424\u001b[0m logger\u001b[38;5;241m.\u001b[39mdebug(\u001b[38;5;124m\"\u001b[39m\u001b[38;5;124mLength of dataset: \u001b[39m\u001b[38;5;132;01m%i\u001b[39;00m\u001b[38;5;124m\"\u001b[39m, \u001b[38;5;28mlen\u001b[39m(dataset))\n\u001b[1;32m    425\u001b[0m \u001b[38;5;28mself\u001b[39m\u001b[38;5;241m.\u001b[39mreduced_data[kind]\u001b[38;5;241m.\u001b[39mappend(\n\u001b[0;32m--> 426\u001b[0m     \u001b[38;5;28;43mself\u001b[39;49m\u001b[38;5;241;43m.\u001b[39;49m\u001b[43m_cluster_pipeline\u001b[49m\u001b[43m(\u001b[49m\u001b[43mkind\u001b[49m\u001b[43m,\u001b[49m\u001b[43m \u001b[49m\u001b[43mdataset\u001b[49m\u001b[43m,\u001b[49m\u001b[43m \u001b[49m\u001b[43meps_xy\u001b[49m\u001b[43m,\u001b[49m\u001b[43m \u001b[49m\u001b[43meps_rad\u001b[49m\u001b[43m)\u001b[49m\n\u001b[1;32m    427\u001b[0m )\n\u001b[1;32m    428\u001b[0m logger\u001b[38;5;241m.\u001b[39mdebug(\u001b[38;5;124m\"\u001b[39m\u001b[38;5;124mAppending \u001b[39m\u001b[38;5;132;01m%i\u001b[39;00m\u001b[38;5;124m items to final_clusters\u001b[39m\u001b[38;5;124m\"\u001b[39m, \u001b[38;5;28mlen\u001b[39m(\u001b[38;5;28mself\u001b[39m\u001b[38;5;241m.\u001b[39mfinalclusters))\n\u001b[1;32m    429\u001b[0m \u001b[38;5;28mself\u001b[39m\u001b[38;5;241m.\u001b[39mfinal_clusters[kind]\u001b[38;5;241m.\u001b[39mappend(\u001b[38;5;28mself\u001b[39m\u001b[38;5;241m.\u001b[39mfinalclusters)\n",
      "File \u001b[0;32m~/Dropbox/src/planet4/planet4/dbscan.py:465\u001b[0m, in \u001b[0;36mDBScanner._cluster_pipeline\u001b[0;34m(self, kind, data, eps, eps_rad)\u001b[0m\n\u001b[1;32m    463\u001b[0m     finalclusters \u001b[38;5;241m=\u001b[39m last\n\u001b[1;32m    464\u001b[0m last \u001b[38;5;241m=\u001b[39m \u001b[38;5;28mlist\u001b[39m(last)\n\u001b[0;32m--> 465\u001b[0m finalclusters \u001b[38;5;241m=\u001b[39m \u001b[38;5;28;43mlist\u001b[39;49m\u001b[43m(\u001b[49m\u001b[43mfinalclusters\u001b[49m\u001b[43m)\u001b[49m\n\u001b[1;32m    466\u001b[0m \u001b[38;5;28mself\u001b[39m\u001b[38;5;241m.\u001b[39mfinalclusters \u001b[38;5;241m=\u001b[39m finalclusters\n\u001b[1;32m    467\u001b[0m averaged \u001b[38;5;241m=\u001b[39m get_average_objects(finalclusters, kind)\n",
      "File \u001b[0;32m~/Dropbox/src/planet4/planet4/dbscan.py:204\u001b[0m, in \u001b[0;36mDBScanner.cluster_angles\u001b[0;34m(self, xy_clusters, kind)\u001b[0m\n\u001b[1;32m    202\u001b[0m \u001b[38;5;28;01mfor\u001b[39;00m xy_cluster \u001b[38;5;129;01min\u001b[39;00m xy_clusters:\n\u001b[1;32m    203\u001b[0m     X \u001b[38;5;241m=\u001b[39m xy_cluster[cols_to_cluster[kind]]\n\u001b[0;32m--> 204\u001b[0m     \u001b[38;5;28;01mfor\u001b[39;00m indices \u001b[38;5;129;01min\u001b[39;00m \u001b[38;5;28mself\u001b[39m\u001b[38;5;241m.\u001b[39mcluster_any(X, eps):\n\u001b[1;32m    205\u001b[0m         \u001b[38;5;28;01myield\u001b[39;00m xy_cluster\u001b[38;5;241m.\u001b[39mloc[indices]\n",
      "File \u001b[0;32m~/Dropbox/src/planet4/planet4/dbscan.py:145\u001b[0m, in \u001b[0;36mDBScanner.cluster_any\u001b[0;34m(self, X, eps)\u001b[0m\n\u001b[1;32m    143\u001b[0m \u001b[38;5;28;01mdef\u001b[39;00m \u001b[38;5;21mcluster_any\u001b[39m(\u001b[38;5;28mself\u001b[39m, X, eps):\n\u001b[1;32m    144\u001b[0m     logger\u001b[38;5;241m.\u001b[39mdebug(\u001b[38;5;124m\"\u001b[39m\u001b[38;5;124mClustering any.\u001b[39m\u001b[38;5;124m\"\u001b[39m)\n\u001b[0;32m--> 145\u001b[0m     db \u001b[38;5;241m=\u001b[39m \u001b[43mDBSCAN\u001b[49m\u001b[43m(\u001b[49m\u001b[43meps\u001b[49m\u001b[43m,\u001b[49m\u001b[43m \u001b[49m\u001b[43mmin_samples\u001b[49m\u001b[38;5;241;43m=\u001b[39;49m\u001b[38;5;28;43mself\u001b[39;49m\u001b[38;5;241;43m.\u001b[39;49m\u001b[43mmin_samples\u001b[49m\u001b[43m)\u001b[49m\u001b[38;5;241;43m.\u001b[39;49m\u001b[43mfit\u001b[49m\u001b[43m(\u001b[49m\u001b[43mX\u001b[49m\u001b[43m)\u001b[49m\n\u001b[1;32m    146\u001b[0m     labels \u001b[38;5;241m=\u001b[39m db\u001b[38;5;241m.\u001b[39mlabels_\n\u001b[1;32m    147\u001b[0m     unique_labels \u001b[38;5;241m=\u001b[39m \u001b[38;5;28msorted\u001b[39m(\u001b[38;5;28mset\u001b[39m(labels))\n",
      "File \u001b[0;32m~/mambaforge/envs/py310/lib/python3.10/site-packages/sklearn/cluster/_dbscan.py:368\u001b[0m, in \u001b[0;36mDBSCAN.fit\u001b[0;34m(self, X, y, sample_weight)\u001b[0m\n\u001b[1;32m    342\u001b[0m \u001b[38;5;250m\u001b[39m\u001b[38;5;124;03m\"\"\"Perform DBSCAN clustering from features, or distance matrix.\u001b[39;00m\n\u001b[1;32m    343\u001b[0m \n\u001b[1;32m    344\u001b[0m \u001b[38;5;124;03mParameters\u001b[39;00m\n\u001b[0;32m   (...)\u001b[0m\n\u001b[1;32m    364\u001b[0m \u001b[38;5;124;03m    Returns a fitted instance of self.\u001b[39;00m\n\u001b[1;32m    365\u001b[0m \u001b[38;5;124;03m\"\"\"\u001b[39;00m\n\u001b[1;32m    366\u001b[0m \u001b[38;5;28mself\u001b[39m\u001b[38;5;241m.\u001b[39m_validate_params()\n\u001b[0;32m--> 368\u001b[0m X \u001b[38;5;241m=\u001b[39m \u001b[38;5;28;43mself\u001b[39;49m\u001b[38;5;241;43m.\u001b[39;49m\u001b[43m_validate_data\u001b[49m\u001b[43m(\u001b[49m\u001b[43mX\u001b[49m\u001b[43m,\u001b[49m\u001b[43m \u001b[49m\u001b[43maccept_sparse\u001b[49m\u001b[38;5;241;43m=\u001b[39;49m\u001b[38;5;124;43m\"\u001b[39;49m\u001b[38;5;124;43mcsr\u001b[39;49m\u001b[38;5;124;43m\"\u001b[39;49m\u001b[43m)\u001b[49m\n\u001b[1;32m    370\u001b[0m \u001b[38;5;28;01mif\u001b[39;00m sample_weight \u001b[38;5;129;01mis\u001b[39;00m \u001b[38;5;129;01mnot\u001b[39;00m \u001b[38;5;28;01mNone\u001b[39;00m:\n\u001b[1;32m    371\u001b[0m     sample_weight \u001b[38;5;241m=\u001b[39m _check_sample_weight(sample_weight, X)\n",
      "File \u001b[0;32m~/mambaforge/envs/py310/lib/python3.10/site-packages/sklearn/base.py:546\u001b[0m, in \u001b[0;36mBaseEstimator._validate_data\u001b[0;34m(self, X, y, reset, validate_separately, **check_params)\u001b[0m\n\u001b[1;32m    544\u001b[0m     \u001b[38;5;28;01mraise\u001b[39;00m \u001b[38;5;167;01mValueError\u001b[39;00m(\u001b[38;5;124m\"\u001b[39m\u001b[38;5;124mValidation should be done on X, y or both.\u001b[39m\u001b[38;5;124m\"\u001b[39m)\n\u001b[1;32m    545\u001b[0m \u001b[38;5;28;01melif\u001b[39;00m \u001b[38;5;129;01mnot\u001b[39;00m no_val_X \u001b[38;5;129;01mand\u001b[39;00m no_val_y:\n\u001b[0;32m--> 546\u001b[0m     X \u001b[38;5;241m=\u001b[39m \u001b[43mcheck_array\u001b[49m\u001b[43m(\u001b[49m\u001b[43mX\u001b[49m\u001b[43m,\u001b[49m\u001b[43m \u001b[49m\u001b[43minput_name\u001b[49m\u001b[38;5;241;43m=\u001b[39;49m\u001b[38;5;124;43m\"\u001b[39;49m\u001b[38;5;124;43mX\u001b[39;49m\u001b[38;5;124;43m\"\u001b[39;49m\u001b[43m,\u001b[49m\u001b[43m \u001b[49m\u001b[38;5;241;43m*\u001b[39;49m\u001b[38;5;241;43m*\u001b[39;49m\u001b[43mcheck_params\u001b[49m\u001b[43m)\u001b[49m\n\u001b[1;32m    547\u001b[0m     out \u001b[38;5;241m=\u001b[39m X\n\u001b[1;32m    548\u001b[0m \u001b[38;5;28;01melif\u001b[39;00m no_val_X \u001b[38;5;129;01mand\u001b[39;00m \u001b[38;5;129;01mnot\u001b[39;00m no_val_y:\n",
      "File \u001b[0;32m~/mambaforge/envs/py310/lib/python3.10/site-packages/sklearn/utils/validation.py:921\u001b[0m, in \u001b[0;36mcheck_array\u001b[0;34m(array, accept_sparse, accept_large_sparse, dtype, order, copy, force_all_finite, ensure_2d, allow_nd, ensure_min_samples, ensure_min_features, estimator, input_name)\u001b[0m\n\u001b[1;32m    915\u001b[0m         \u001b[38;5;28;01mraise\u001b[39;00m \u001b[38;5;167;01mValueError\u001b[39;00m(\n\u001b[1;32m    916\u001b[0m             \u001b[38;5;124m\"\u001b[39m\u001b[38;5;124mFound array with dim \u001b[39m\u001b[38;5;132;01m%d\u001b[39;00m\u001b[38;5;124m. \u001b[39m\u001b[38;5;132;01m%s\u001b[39;00m\u001b[38;5;124m expected <= 2.\u001b[39m\u001b[38;5;124m\"\u001b[39m\n\u001b[1;32m    917\u001b[0m             \u001b[38;5;241m%\u001b[39m (array\u001b[38;5;241m.\u001b[39mndim, estimator_name)\n\u001b[1;32m    918\u001b[0m         )\n\u001b[1;32m    920\u001b[0m     \u001b[38;5;28;01mif\u001b[39;00m force_all_finite:\n\u001b[0;32m--> 921\u001b[0m         \u001b[43m_assert_all_finite\u001b[49m\u001b[43m(\u001b[49m\n\u001b[1;32m    922\u001b[0m \u001b[43m            \u001b[49m\u001b[43marray\u001b[49m\u001b[43m,\u001b[49m\n\u001b[1;32m    923\u001b[0m \u001b[43m            \u001b[49m\u001b[43minput_name\u001b[49m\u001b[38;5;241;43m=\u001b[39;49m\u001b[43minput_name\u001b[49m\u001b[43m,\u001b[49m\n\u001b[1;32m    924\u001b[0m \u001b[43m            \u001b[49m\u001b[43mestimator_name\u001b[49m\u001b[38;5;241;43m=\u001b[39;49m\u001b[43mestimator_name\u001b[49m\u001b[43m,\u001b[49m\n\u001b[1;32m    925\u001b[0m \u001b[43m            \u001b[49m\u001b[43mallow_nan\u001b[49m\u001b[38;5;241;43m=\u001b[39;49m\u001b[43mforce_all_finite\u001b[49m\u001b[43m \u001b[49m\u001b[38;5;241;43m==\u001b[39;49m\u001b[43m \u001b[49m\u001b[38;5;124;43m\"\u001b[39;49m\u001b[38;5;124;43mallow-nan\u001b[39;49m\u001b[38;5;124;43m\"\u001b[39;49m\u001b[43m,\u001b[49m\n\u001b[1;32m    926\u001b[0m \u001b[43m        \u001b[49m\u001b[43m)\u001b[49m\n\u001b[1;32m    928\u001b[0m \u001b[38;5;28;01mif\u001b[39;00m ensure_min_samples \u001b[38;5;241m>\u001b[39m \u001b[38;5;241m0\u001b[39m:\n\u001b[1;32m    929\u001b[0m     n_samples \u001b[38;5;241m=\u001b[39m _num_samples(array)\n",
      "File \u001b[0;32m~/mambaforge/envs/py310/lib/python3.10/site-packages/sklearn/utils/validation.py:161\u001b[0m, in \u001b[0;36m_assert_all_finite\u001b[0;34m(X, allow_nan, msg_dtype, estimator_name, input_name)\u001b[0m\n\u001b[1;32m    144\u001b[0m \u001b[38;5;28;01mif\u001b[39;00m estimator_name \u001b[38;5;129;01mand\u001b[39;00m input_name \u001b[38;5;241m==\u001b[39m \u001b[38;5;124m\"\u001b[39m\u001b[38;5;124mX\u001b[39m\u001b[38;5;124m\"\u001b[39m \u001b[38;5;129;01mand\u001b[39;00m has_nan_error:\n\u001b[1;32m    145\u001b[0m     \u001b[38;5;66;03m# Improve the error message on how to handle missing values in\u001b[39;00m\n\u001b[1;32m    146\u001b[0m     \u001b[38;5;66;03m# scikit-learn.\u001b[39;00m\n\u001b[1;32m    147\u001b[0m     msg_err \u001b[38;5;241m+\u001b[39m\u001b[38;5;241m=\u001b[39m (\n\u001b[1;32m    148\u001b[0m         \u001b[38;5;124mf\u001b[39m\u001b[38;5;124m\"\u001b[39m\u001b[38;5;130;01m\\n\u001b[39;00m\u001b[38;5;132;01m{\u001b[39;00mestimator_name\u001b[38;5;132;01m}\u001b[39;00m\u001b[38;5;124m does not accept missing values\u001b[39m\u001b[38;5;124m\"\u001b[39m\n\u001b[1;32m    149\u001b[0m         \u001b[38;5;124m\"\u001b[39m\u001b[38;5;124m encoded as NaN natively. For supervised learning, you might want\u001b[39m\u001b[38;5;124m\"\u001b[39m\n\u001b[0;32m   (...)\u001b[0m\n\u001b[1;32m    159\u001b[0m         \u001b[38;5;124m\"\u001b[39m\u001b[38;5;124m#estimators-that-handle-nan-values\u001b[39m\u001b[38;5;124m\"\u001b[39m\n\u001b[1;32m    160\u001b[0m     )\n\u001b[0;32m--> 161\u001b[0m \u001b[38;5;28;01mraise\u001b[39;00m \u001b[38;5;167;01mValueError\u001b[39;00m(msg_err)\n",
      "\u001b[0;31mValueError\u001b[0m: Input X contains NaN.\nDBSCAN does not accept missing values encoded as NaN natively. For supervised learning, you might want to consider sklearn.ensemble.HistGradientBoostingClassifier and Regressor which accept missing values encoded as NaNs natively. Alternatively, it is possible to preprocess the data, for instance by using an imputer transformer in a pipeline or drop samples with missing values. See https://scikit-learn.org/stable/modules/impute.html You can find a list of all estimators that handle NaN values at the following page: https://scikit-learn.org/stable/modules/impute.html#estimators-that-handle-nan-values"
     ]
    }
   ],
   "source": [
    "cluster_obsid(obsid, savedir, dbname=db.dbname)"
   ]
  },
  {
   "cell_type": "code",
   "execution_count": null,
   "metadata": {},
   "outputs": [
    {
     "data": {
      "text/plain": [
       "'P4_catalog_v2.0_Manhattan'"
      ]
     },
     "execution_count": null,
     "metadata": {},
     "output_type": "execute_result"
    }
   ],
   "source": [
    "rm.catalog"
   ]
  },
  {
   "cell_type": "code",
   "execution_count": null,
   "metadata": {},
   "outputs": [
    {
     "data": {
      "text/plain": [
       "Path('/home/maye/big_drive/maye/local_data/planet4/manhattan_queryable_cleaned.parq')"
      ]
     },
     "execution_count": null,
     "metadata": {},
     "output_type": "execute_result"
    }
   ],
   "source": [
    "rm.dbname"
   ]
  },
  {
   "cell_type": "code",
   "execution_count": null,
   "metadata": {},
   "outputs": [
    {
     "name": "stderr",
     "output_type": "stream",
     "text": [
      "100%|██████████| 73/73 [00:01<00:00, 72.05it/s]\n",
      "INFO: Wrote /home/maye/big_drive/processed_data/planet4/catalogs/P4_catalog_v2.0_Manhattan/P4_catalog_v2.0_Manhattan_tile_coords.csv\n"
     ]
    }
   ],
   "source": [
    "rm.calc_tile_coordinates()"
   ]
  },
  {
   "cell_type": "code",
   "execution_count": null,
   "metadata": {},
   "outputs": [],
   "source": [
    "rm.calc_marking_coordinates()"
   ]
  },
  {
   "cell_type": "code",
   "execution_count": null,
   "metadata": {},
   "outputs": [
    {
     "ename": "AttributeError",
     "evalue": "'DBManager' object has no attribute 'get_all'",
     "output_type": "error",
     "traceback": [
      "\u001b[0;31m---------------------------------------------------------------------------\u001b[0m",
      "\u001b[0;31mAttributeError\u001b[0m                            Traceback (most recent call last)",
      "Input \u001b[0;32mIn [13]\u001b[0m, in \u001b[0;36m<module>\u001b[0;34m\u001b[0m\n\u001b[0;32m----> 1\u001b[0m rm\u001b[39m.\u001b[39;49mcalc_metadata()\n",
      "File \u001b[0;32m~/Dropbox/src/planet4/planet4/catalog_production.py:312\u001b[0m, in \u001b[0;36mReleaseManager.calc_metadata\u001b[0;34m(self)\u001b[0m\n\u001b[1;32m    <a href='file:///~/Dropbox/src/planet4/planet4/catalog_production.py?line=303'>304</a>\u001b[0m p4_edr \u001b[39m=\u001b[39m (\n\u001b[1;32m    <a href='file:///~/Dropbox/src/planet4/planet4/catalog_production.py?line=304'>305</a>\u001b[0m     edrindex[edrindex\u001b[39m.\u001b[39mOBSERVATION_ID\u001b[39m.\u001b[39misin(\u001b[39mself\u001b[39m\u001b[39m.\u001b[39mobsids)]\n\u001b[1;32m    <a href='file:///~/Dropbox/src/planet4/planet4/catalog_production.py?line=305'>306</a>\u001b[0m     \u001b[39m.\u001b[39mquery(\u001b[39m'\u001b[39m\u001b[39mCCD_NAME==\u001b[39m\u001b[39m\"\u001b[39m\u001b[39mRED4\u001b[39m\u001b[39m\"\u001b[39m\u001b[39m'\u001b[39m)\n\u001b[1;32m    <a href='file:///~/Dropbox/src/planet4/planet4/catalog_production.py?line=306'>307</a>\u001b[0m     \u001b[39m.\u001b[39mdrop_duplicates(subset\u001b[39m=\u001b[39m\u001b[39m\"\u001b[39m\u001b[39mOBSERVATION_ID\u001b[39m\u001b[39m\"\u001b[39m)\n\u001b[1;32m    <a href='file:///~/Dropbox/src/planet4/planet4/catalog_production.py?line=307'>308</a>\u001b[0m )\n\u001b[1;32m    <a href='file:///~/Dropbox/src/planet4/planet4/catalog_production.py?line=308'>309</a>\u001b[0m p4_edr \u001b[39m=\u001b[39m p4_edr\u001b[39m.\u001b[39mset_index(\u001b[39m\"\u001b[39m\u001b[39mOBSERVATION_ID\u001b[39m\u001b[39m\"\u001b[39m)\u001b[39m.\u001b[39mjoin(\n\u001b[1;32m    <a href='file:///~/Dropbox/src/planet4/planet4/catalog_production.py?line=309'>310</a>\u001b[0m     NAs\u001b[39m.\u001b[39mset_index(\u001b[39m\"\u001b[39m\u001b[39mOBSERVATION_ID\u001b[39m\u001b[39m\"\u001b[39m)\n\u001b[1;32m    <a href='file:///~/Dropbox/src/planet4/planet4/catalog_production.py?line=310'>311</a>\u001b[0m )\n\u001b[0;32m--> <a href='file:///~/Dropbox/src/planet4/planet4/catalog_production.py?line=311'>312</a>\u001b[0m p4_edr \u001b[39m=\u001b[39m p4_edr\u001b[39m.\u001b[39mjoin(\u001b[39mself\u001b[39;49m\u001b[39m.\u001b[39;49mget_no_of_tiles_per_obsid())\n\u001b[1;32m    <a href='file:///~/Dropbox/src/planet4/planet4/catalog_production.py?line=312'>313</a>\u001b[0m p4_edr\u001b[39m.\u001b[39mrename(\u001b[39mdict\u001b[39m(image_id\u001b[39m=\u001b[39m\u001b[39m\"\u001b[39m\u001b[39m# of tiles\u001b[39m\u001b[39m\"\u001b[39m), axis\u001b[39m=\u001b[39m\u001b[39m1\u001b[39m, inplace\u001b[39m=\u001b[39m\u001b[39mTrue\u001b[39;00m)\n\u001b[1;32m    <a href='file:///~/Dropbox/src/planet4/planet4/catalog_production.py?line=313'>314</a>\u001b[0m p4_edr[\u001b[39m\"\u001b[39m\u001b[39mmap_scale\u001b[39m\u001b[39m\"\u001b[39m] \u001b[39m=\u001b[39m \u001b[39m0.25\u001b[39m \u001b[39m*\u001b[39m p4_edr\u001b[39m.\u001b[39mBINNING\n",
      "File \u001b[0;32m~/Dropbox/src/planet4/planet4/catalog_production.py:293\u001b[0m, in \u001b[0;36mReleaseManager.get_no_of_tiles_per_obsid\u001b[0;34m(self)\u001b[0m\n\u001b[1;32m    <a href='file:///~/Dropbox/src/planet4/planet4/catalog_production.py?line=290'>291</a>\u001b[0m \u001b[39mdef\u001b[39;00m \u001b[39mget_no_of_tiles_per_obsid\u001b[39m(\u001b[39mself\u001b[39m):\n\u001b[1;32m    <a href='file:///~/Dropbox/src/planet4/planet4/catalog_production.py?line=291'>292</a>\u001b[0m     db \u001b[39m=\u001b[39m io\u001b[39m.\u001b[39mDBManager(\u001b[39mself\u001b[39m\u001b[39m.\u001b[39mdbname)\n\u001b[0;32m--> <a href='file:///~/Dropbox/src/planet4/planet4/catalog_production.py?line=292'>293</a>\u001b[0m     all_data \u001b[39m=\u001b[39m db\u001b[39m.\u001b[39;49mget_all()\n\u001b[1;32m    <a href='file:///~/Dropbox/src/planet4/planet4/catalog_production.py?line=293'>294</a>\u001b[0m     \u001b[39mreturn\u001b[39;00m all_data\u001b[39m.\u001b[39mgroupby(\u001b[39m\"\u001b[39m\u001b[39mimage_name\u001b[39m\u001b[39m\"\u001b[39m)\u001b[39m.\u001b[39mimage_id\u001b[39m.\u001b[39mnunique()\n",
      "\u001b[0;31mAttributeError\u001b[0m: 'DBManager' object has no attribute 'get_all'"
     ]
    }
   ],
   "source": [
    "rm.calc_metadata()"
   ]
  },
  {
   "cell_type": "code",
   "execution_count": null,
   "metadata": {},
   "outputs": [
    {
     "name": "stdout",
     "output_type": "stream",
     "text": [
      "\u001b[0;31mType:\u001b[0m        property\n",
      "\u001b[0;31mString form:\u001b[0m <property object>\n",
      "\u001b[0;31mSource:\u001b[0m     \n",
      "\u001b[0;31m# db.image_ids.fget\u001b[0m\u001b[0;34m\u001b[0m\n",
      "\u001b[0;34m\u001b[0m\u001b[0;34m@\u001b[0m\u001b[0mproperty\u001b[0m\u001b[0;34m\u001b[0m\n",
      "\u001b[0;34m\u001b[0m\u001b[0;32mdef\u001b[0m \u001b[0mimage_ids\u001b[0m\u001b[0;34m(\u001b[0m\u001b[0mself\u001b[0m\u001b[0;34m)\u001b[0m\u001b[0;34m:\u001b[0m\u001b[0;34m\u001b[0m\n",
      "\u001b[0;34m\u001b[0m    \u001b[0;34m\"Return list of unique image_ids in database.\"\u001b[0m\u001b[0;34m\u001b[0m\n",
      "\u001b[0;34m\u001b[0m    \u001b[0;32mreturn\u001b[0m \u001b[0mself\u001b[0m\u001b[0;34m.\u001b[0m\u001b[0mdf\u001b[0m\u001b[0;34m.\u001b[0m\u001b[0mimage_id\u001b[0m\u001b[0;34m.\u001b[0m\u001b[0munique\u001b[0m\u001b[0;34m(\u001b[0m\u001b[0;34m)\u001b[0m\u001b[0;34m.\u001b[0m\u001b[0mcompute\u001b[0m\u001b[0;34m(\u001b[0m\u001b[0;34m)\u001b[0m\u001b[0;34m\u001b[0m\u001b[0;34m\u001b[0m\u001b[0m\n"
     ]
    }
   ],
   "source": [
    "db.image_ids??"
   ]
  },
  {
   "cell_type": "code",
   "execution_count": null,
   "metadata": {},
   "outputs": [],
   "source": []
  },
  {
   "cell_type": "code",
   "execution_count": null,
   "metadata": {},
   "outputs": [],
   "source": [
    "rm.launch_catalog_production()"
   ]
  },
  {
   "cell_type": "code",
   "execution_count": null,
   "metadata": {},
   "outputs": [],
   "source": [
    "from planet4.projection import create_RED45_mosaic, nocal_hi, get_RED45_mosaic_inputs"
   ]
  },
  {
   "cell_type": "code",
   "execution_count": null,
   "metadata": {},
   "outputs": [],
   "source": [
    "from kalasiris import spiceinit"
   ]
  },
  {
   "cell_type": "code",
   "execution_count": null,
   "metadata": {},
   "outputs": [],
   "source": [
    "from tqdm.auto import tqdm"
   ]
  },
  {
   "cell_type": "code",
   "execution_count": null,
   "metadata": {},
   "outputs": [],
   "source": [
    "overwrite=True\n",
    "\n",
    "def do_first_part(obsid):\n",
    "    products = get_RED45_mosaic_inputs(obsid)\n",
    "    mos_path = products[0].local_path.parent / f\"{obsid}_mosaic_RED45.cub\"\n",
    "\n",
    "    # bail out if exists:\n",
    "    if mos_path.exists() and not overwrite:\n",
    "        print(f\"{mos_path} already exists and I am not allowed to overwrite.\")\n",
    "        return obsid, True\n",
    "\n",
    "    for prod in products:\n",
    "        prod.download(overwrite=overwrite)\n",
    "        nocal_hi(prod)"
   ]
  },
  {
   "cell_type": "code",
   "execution_count": null,
   "metadata": {},
   "outputs": [],
   "source": [
    "for obsid in tqdm(rm.obsids):\n",
    "    try:\n",
    "        do_first_part(obsid)\n",
    "    except CalledProcessError as e:\n",
    "        print(e.stdout)\n",
    "        print(e.stderr)"
   ]
  },
  {
   "cell_type": "code",
   "execution_count": null,
   "metadata": {},
   "outputs": [],
   "source": [
    "from dask import delayed, compute"
   ]
  },
  {
   "cell_type": "code",
   "execution_count": null,
   "metadata": {},
   "outputs": [],
   "source": [
    "lazys = []\n",
    "for obsid in rm.obsids:\n",
    "    lazys.append(delayed(create_RED45_mosaic)(obsid, overwrite=True))"
   ]
  },
  {
   "cell_type": "code",
   "execution_count": null,
   "metadata": {},
   "outputs": [],
   "source": [
    "results = compute(*lazys)"
   ]
  },
  {
   "cell_type": "markdown",
   "metadata": {},
   "source": [
    "### Metadata"
   ]
  },
  {
   "cell_type": "code",
   "execution_count": null,
   "metadata": {},
   "outputs": [],
   "source": [
    "from planet4.metadata import MetadataReader"
   ]
  },
  {
   "cell_type": "code",
   "execution_count": null,
   "metadata": {},
   "outputs": [],
   "source": [
    "md = MetadataReader(rm.todo[0])"
   ]
  },
  {
   "cell_type": "code",
   "execution_count": null,
   "metadata": {},
   "outputs": [
    {
     "data": {
      "text/plain": [
       "Path('/home/maye/big_drive/processed_data/planet4/ground_projection')"
      ]
     },
     "execution_count": null,
     "metadata": {},
     "output_type": "execute_result"
    }
   ],
   "source": [
    "md.proj_folder"
   ]
  },
  {
   "cell_type": "code",
   "execution_count": null,
   "metadata": {},
   "outputs": [],
   "source": [
    "from planet4.io import get_ground_projection_root, get_config"
   ]
  },
  {
   "cell_type": "code",
   "execution_count": null,
   "metadata": {},
   "outputs": [],
   "source": [
    "from planetarypy.config import config"
   ]
  },
  {
   "cell_type": "code",
   "execution_count": null,
   "metadata": {},
   "outputs": [],
   "source": [
    "config.storage_root"
   ]
  },
  {
   "cell_type": "code",
   "execution_count": null,
   "metadata": {},
   "outputs": [],
   "source": [
    "get_ground_projection_root()"
   ]
  },
  {
   "cell_type": "code",
   "execution_count": null,
   "metadata": {},
   "outputs": [],
   "source": [
    "rm.calc_metadata()"
   ]
  },
  {
   "cell_type": "code",
   "execution_count": null,
   "metadata": {},
   "outputs": [],
   "source": [
    "%debug"
   ]
  },
  {
   "cell_type": "code",
   "execution_count": null,
   "metadata": {},
   "outputs": [],
   "source": [
    "rm.merge_all()"
   ]
  },
  {
   "cell_type": "code",
   "execution_count": null,
   "metadata": {},
   "outputs": [],
   "source": [
    "blotches = pd.read_csv(rm.blotch_merged)"
   ]
  },
  {
   "cell_type": "code",
   "execution_count": null,
   "metadata": {},
   "outputs": [],
   "source": [
    "blotches.head()"
   ]
  },
  {
   "cell_type": "code",
   "execution_count": null,
   "metadata": {},
   "outputs": [],
   "source": [
    "pd.read_csv(rm.fan_merged).shape"
   ]
  },
  {
   "cell_type": "code",
   "execution_count": null,
   "metadata": {},
   "outputs": [],
   "source": [
    "rm.fan_merged"
   ]
  },
  {
   "cell_type": "code",
   "execution_count": null,
   "metadata": {},
   "outputs": [],
   "source": [
    "fans = pd.read_csv(self.fan_file)\n",
    "blotches = pd.read_csv(self.blotch_file)\n",
    "meta = pd.read_csv(self.metadata_path, dtype='str')\n",
    "tile_coords = pd.read_csv(self.tile_coords_path, dtype='str')"
   ]
  },
  {
   "cell_type": "code",
   "execution_count": null,
   "metadata": {},
   "outputs": [],
   "source": [
    "meta.shape"
   ]
  },
  {
   "cell_type": "code",
   "execution_count": null,
   "metadata": {},
   "outputs": [],
   "source": [
    "tile_coords.shape"
   ]
  },
  {
   "cell_type": "code",
   "execution_count": null,
   "metadata": {},
   "outputs": [],
   "source": [
    "cols_to_merge = ['OBSERVATION_ID',\n",
    "                         'SOLAR_LONGITUDE', 'north_azimuth', 'map_scale']\n",
    "fans = fans.merge(meta[cols_to_merge],\n",
    "                  left_on='obsid', right_on='OBSERVATION_ID')\n",
    "blotches = blotches.merge(\n",
    "    meta[cols_to_merge], left_on='obsid', right_on='OBSERVATION_ID')"
   ]
  },
  {
   "cell_type": "code",
   "execution_count": null,
   "metadata": {},
   "outputs": [],
   "source": [
    "fans.shape"
   ]
  },
  {
   "cell_type": "code",
   "execution_count": null,
   "metadata": {},
   "outputs": [],
   "source": [
    "blotches.shape"
   ]
  },
  {
   "cell_type": "code",
   "execution_count": null,
   "metadata": {},
   "outputs": [],
   "source": [
    "fans.drop(self.DROP_FOR_FANS, axis=1, inplace=True)\n",
    "blotches.drop(self.DROP_FOR_BLOTCHES, axis=1, inplace=True)"
   ]
  },
  {
   "cell_type": "code",
   "execution_count": null,
   "metadata": {},
   "outputs": [],
   "source": [
    "blotches.shape"
   ]
  },
  {
   "cell_type": "code",
   "execution_count": null,
   "metadata": {},
   "outputs": [],
   "source": [
    "fans, blotches = self.merge_fnotch_results(fans, blotches)"
   ]
  },
  {
   "cell_type": "code",
   "execution_count": null,
   "metadata": {},
   "outputs": [],
   "source": [
    "fans.shape"
   ]
  },
  {
   "cell_type": "code",
   "execution_count": null,
   "metadata": {},
   "outputs": [],
   "source": [
    "blotches.shape"
   ]
  },
  {
   "cell_type": "code",
   "execution_count": null,
   "metadata": {},
   "outputs": [],
   "source": [
    "from planet4 import catalog_production as cp"
   ]
  },
  {
   "cell_type": "code",
   "execution_count": null,
   "metadata": {},
   "outputs": [],
   "source": [
    "rm.EDRINDEX_meta_path"
   ]
  },
  {
   "cell_type": "code",
   "execution_count": null,
   "metadata": {},
   "outputs": [],
   "source": [
    "rm.merge_all()"
   ]
  },
  {
   "cell_type": "code",
   "execution_count": null,
   "metadata": {},
   "outputs": [],
   "source": [
    "rm.calc_metadata()"
   ]
  },
  {
   "cell_type": "code",
   "execution_count": null,
   "metadata": {},
   "outputs": [],
   "source": [
    "meta = pd.read_csv(rm.metadata_path).set_index('OBSERVATION_ID')"
   ]
  },
  {
   "cell_type": "code",
   "execution_count": null,
   "metadata": {},
   "outputs": [],
   "source": [
    "rm.EDRINDEX_meta_path"
   ]
  },
  {
   "cell_type": "code",
   "execution_count": null,
   "metadata": {},
   "outputs": [],
   "source": [
    "meta.loc['ESP_012251_0935']"
   ]
  },
  {
   "cell_type": "code",
   "execution_count": null,
   "metadata": {},
   "outputs": [],
   "source": [
    "edrindex = pd.read_hdf(\"/Volumes/Data/hirise/EDRCUMINDEX.hdf\")\n",
    "p4_edr = edrindex[edrindex.OBSERVATION_ID.isin(rm.obsids)].query(\n",
    "    'CCD_NAME==\"RED4\"').drop_duplicates(subset='OBSERVATION_ID')"
   ]
  },
  {
   "cell_type": "code",
   "execution_count": null,
   "metadata": {},
   "outputs": [],
   "source": [
    "p4_edr.set_index('OBSERVATION_ID', inplace=True)"
   ]
  },
  {
   "cell_type": "code",
   "execution_count": null,
   "metadata": {},
   "outputs": [],
   "source": [
    "p4_edr.loc['ESP_012251_0935']"
   ]
  },
  {
   "cell_type": "code",
   "execution_count": null,
   "metadata": {},
   "outputs": [],
   "source": []
  },
  {
   "cell_type": "code",
   "execution_count": null,
   "metadata": {},
   "outputs": [],
   "source": [
    "rm.calc_metadata()"
   ]
  },
  {
   "cell_type": "code",
   "execution_count": null,
   "metadata": {},
   "outputs": [],
   "source": [
    "rm."
   ]
  },
  {
   "cell_type": "code",
   "execution_count": null,
   "metadata": {},
   "outputs": [],
   "source": [
    "df.set_index('OBSERVATION_ID').to_csv(rm.EDRINDEX_meta_path, index=True)"
   ]
  },
  {
   "cell_type": "code",
   "execution_count": null,
   "metadata": {},
   "outputs": [],
   "source": [
    "cols = ['OBSERVATION_ID', 'IMAGE_CENTER_LATITUDE', 'IMAGE_CENTER_LONGITUDE', 'SOLAR_LONGITUDE', 'START_TIME',\n",
    "        'north_azimuth', '# of tiles']"
   ]
  },
  {
   "cell_type": "code",
   "execution_count": null,
   "metadata": {},
   "outputs": [],
   "source": [
    "df[cols].head()"
   ]
  },
  {
   "cell_type": "code",
   "execution_count": null,
   "metadata": {},
   "outputs": [],
   "source": [
    "fname = \"P4_catalog_v1.0_EDRINDEX_metadata.csv\"\n",
    "df.to_csv(rm.savefolder / fname, index=False)"
   ]
  },
  {
   "cell_type": "code",
   "execution_count": null,
   "metadata": {},
   "outputs": [],
   "source": [
    "rm.savefolder"
   ]
  },
  {
   "cell_type": "code",
   "execution_count": null,
   "metadata": {},
   "outputs": [],
   "source": [
    "import itertools\n",
    "import string \n",
    "\n",
    "# Adapt this prefix as a unique identifier of the dataset\n",
    "\n",
    "def fan_id_generator():\n",
    "    for newid in itertools.product(string.digits+'abcdef', repeat=6):\n",
    "        yield 'F' + ''.join(newid)\n",
    "\n",
    "def blotch_id_generator():\n",
    "    for newid in itertools.product(string.digits+'abcdef', repeat=6):\n",
    "        yield 'B' + ''.join(newid)"
   ]
  },
  {
   "cell_type": "code",
   "execution_count": null,
   "metadata": {},
   "outputs": [],
   "source": [
    "def add_marking_ids(path, fan_id, blotch_id):\n",
    "    \"\"\"Add marking_ids for catalog to cluster results.\n",
    "    \n",
    "    Parameters\n",
    "    ----------\n",
    "    path : str, pathlib.Path\n",
    "        Path to L1A image_id clustering result directory\n",
    "    fan_id, blotch_id : generator\n",
    "        Generator for marking_id\n",
    "    \"\"\"\n",
    "    image_id = path.parent.name\n",
    "    for kind, id_ in zip(['fans', 'blotches'], [fan_id, blotch_id]):\n",
    "        fname = str(path / f\"{image_id}_L1A_{kind}.csv\")\n",
    "        try:\n",
    "            df = pd.read_csv(fname)\n",
    "        except FileNotFoundError:\n",
    "            continue\n",
    "        else:\n",
    "            marking_ids = []\n",
    "            for i in range(df.shape[0]):\n",
    "                marking_ids.append(next(id_))\n",
    "            df['marking_id'] = marking_ids\n",
    "            df.to_csv(fname, index=False)"
   ]
  },
  {
   "cell_type": "code",
   "execution_count": null,
   "metadata": {},
   "outputs": [],
   "source": [
    "from tqdm import tqdm"
   ]
  },
  {
   "cell_type": "code",
   "execution_count": null,
   "metadata": {},
   "outputs": [],
   "source": [
    "obsids = rm.obsids"
   ]
  },
  {
   "cell_type": "code",
   "execution_count": null,
   "metadata": {},
   "outputs": [],
   "source": [
    "rm.launch_catalog_production()"
   ]
  },
  {
   "cell_type": "code",
   "execution_count": null,
   "metadata": {},
   "outputs": [],
   "source": [
    "rm.calc_metadata()"
   ]
  },
  {
   "cell_type": "code",
   "execution_count": null,
   "metadata": {},
   "outputs": [],
   "source": [
    "rm.calc_marking_coordinates()"
   ]
  },
  {
   "cell_type": "code",
   "execution_count": null,
   "metadata": {},
   "outputs": [],
   "source": [
    "rm.merge_all()"
   ]
  },
  {
   "cell_type": "code",
   "execution_count": null,
   "metadata": {},
   "outputs": [],
   "source": [
    "fan_id = fan_id_generator()\n",
    "blotch_id = blotch_id_generator()"
   ]
  },
  {
   "cell_type": "code",
   "execution_count": null,
   "metadata": {},
   "outputs": [],
   "source": [
    "from planet4.fnotching import fnotch_image_ids, apply_cut"
   ]
  },
  {
   "cell_type": "code",
   "execution_count": null,
   "metadata": {},
   "outputs": [],
   "source": [
    "for obsid in tqdm(obsids):\n",
    "    pm = io.PathManager(obsid=obsid, datapath=rm.savefolder)\n",
    "    paths = pm.get_obsid_paths('L1A')\n",
    "    for path in paths:\n",
    "        add_marking_ids(path, fan_id, blotch_id)"
   ]
  },
  {
   "cell_type": "code",
   "execution_count": null,
   "metadata": {},
   "outputs": [],
   "source": [
    "rm.catalog"
   ]
  },
  {
   "cell_type": "code",
   "execution_count": null,
   "metadata": {},
   "outputs": [],
   "source": [
    "for obsid in tqdm(obsids):\n",
    "    fnotch_image_ids(obsid, savedir=rm.catalog)\n",
    "    apply_cut(obsid, savedir=rm.catalog)"
   ]
  },
  {
   "cell_type": "code",
   "execution_count": null,
   "metadata": {},
   "outputs": [],
   "source": [
    "from planet4.catalog_production import create_roi_file"
   ]
  },
  {
   "cell_type": "code",
   "execution_count": null,
   "metadata": {},
   "outputs": [],
   "source": [
    "create_roi_file(obsids, rm.catalog, rm.catalog)"
   ]
  },
  {
   "cell_type": "code",
   "execution_count": null,
   "metadata": {},
   "outputs": [],
   "source": [
    "rm.get_metadata()"
   ]
  },
  {
   "cell_type": "code",
   "execution_count": null,
   "metadata": {},
   "outputs": [],
   "source": [
    "rm.merge_all()"
   ]
  },
  {
   "cell_type": "code",
   "execution_count": null,
   "metadata": {},
   "outputs": [],
   "source": [
    "fans = rm.read_fan_file()"
   ]
  },
  {
   "cell_type": "code",
   "execution_count": null,
   "metadata": {},
   "outputs": [],
   "source": [
    "fans.columns"
   ]
  },
  {
   "cell_type": "code",
   "execution_count": null,
   "metadata": {},
   "outputs": [],
   "source": [
    "blotches = rm.read_blotch_file()"
   ]
  },
  {
   "cell_type": "code",
   "execution_count": null,
   "metadata": {},
   "outputs": [],
   "source": [
    "blotches.columns"
   ]
  },
  {
   "cell_type": "code",
   "execution_count": null,
   "metadata": {},
   "outputs": [],
   "source": [
    "pd.read_csv(rm.metadata_path).columns"
   ]
  },
  {
   "cell_type": "code",
   "execution_count": null,
   "metadata": {},
   "outputs": [],
   "source": [
    "fans.vote_ratio.isna().value_counts()"
   ]
  },
  {
   "cell_type": "code",
   "execution_count": null,
   "metadata": {},
   "outputs": [],
   "source": [
    "fans.head()"
   ]
  },
  {
   "cell_type": "code",
   "execution_count": null,
   "metadata": {},
   "outputs": [],
   "source": [
    "rm.launch_catalog_production()"
   ]
  },
  {
   "cell_type": "markdown",
   "metadata": {},
   "source": [
    "# Debugging"
   ]
  },
  {
   "cell_type": "code",
   "execution_count": null,
   "metadata": {},
   "outputs": [],
   "source": [
    "from planet4.fnotching import get_clusters_in_path\n",
    "\n",
    "def find_bad_obsid(obsid, savedir):\n",
    "    pm = io.PathManager(obsid=obsid, datapath=savedir)\n",
    "    paths = pm.get_obsid_paths('L1A')\n",
    "    if len(paths) == 0:\n",
    "        logger.warning(\"No paths to fnotch found for %s\", obsid)\n",
    "    fans = []\n",
    "    blotches = []\n",
    "    for path in paths:\n",
    "        f, b = get_clusters_in_path(path)\n",
    "        fans.append(f)\n",
    "        blotches.append(b)\n",
    "    fans = pd.concat(fans, ignore_index=True)"
   ]
  },
  {
   "cell_type": "code",
   "execution_count": null,
   "metadata": {},
   "outputs": [],
   "source": [
    "folder"
   ]
  },
  {
   "cell_type": "code",
   "execution_count": null,
   "metadata": {},
   "outputs": [],
   "source": [
    "for obsid in obsids:\n",
    "    print(obsid)\n",
    "    find_bad_obsid(obsid, folder)"
   ]
  },
  {
   "cell_type": "code",
   "execution_count": null,
   "metadata": {},
   "outputs": [],
   "source": [
    "import holoviews as hv\n",
    "hv.notebook_extension()"
   ]
  },
  {
   "cell_type": "code",
   "execution_count": null,
   "metadata": {},
   "outputs": [],
   "source": [
    "from planet4.io import get_subframe"
   ]
  },
  {
   "cell_type": "code",
   "execution_count": null,
   "metadata": {},
   "outputs": [],
   "source": [
    "obsid = 'ESP_022273_0950'"
   ]
  },
  {
   "cell_type": "code",
   "execution_count": null,
   "metadata": {},
   "outputs": [],
   "source": [
    "data = db.get_image_name_markings(obsid)[['image_id', 'image_url']]"
   ]
  },
  {
   "cell_type": "code",
   "execution_count": null,
   "metadata": {},
   "outputs": [],
   "source": [
    "data.set_index('image_id', drop=True, inplace=True)"
   ]
  },
  {
   "cell_type": "code",
   "execution_count": null,
   "metadata": {},
   "outputs": [],
   "source": [
    "data.drop_duplicates(inplace=True)"
   ]
  },
  {
   "cell_type": "code",
   "execution_count": null,
   "metadata": {},
   "outputs": [],
   "source": [
    "def show_subframe(image_id):\n",
    "    img = get_subframe(data.loc[data.index[0]].values[0])\n",
    "    return hv.Raster(img)"
   ]
  },
  {
   "cell_type": "code",
   "execution_count": null,
   "metadata": {},
   "outputs": [],
   "source": [
    "%output size=150"
   ]
  },
  {
   "cell_type": "code",
   "execution_count": null,
   "metadata": {},
   "outputs": [],
   "source": [
    "%%opts Raster [xaxis=None, yaxis=None]\n",
    "show_subframe(data.index[0])+show_subframe(data.index[1])"
   ]
  },
  {
   "cell_type": "code",
   "execution_count": null,
   "metadata": {},
   "outputs": [],
   "source": [
    "dmap = hv.DynamicMap(show_subframe, kdims=['image_id'])\n",
    "dmap"
   ]
  },
  {
   "cell_type": "code",
   "execution_count": null,
   "metadata": {},
   "outputs": [],
   "source": [
    "dmap.redim.values(image_id=data.index.values)"
   ]
  },
  {
   "cell_type": "code",
   "execution_count": null,
   "metadata": {},
   "outputs": [],
   "source": [
    "xvals = np.linspace(-4,0,202)\n",
    "yvals = np.linspace(4,0,202)\n",
    "xs,ys = np.meshgrid(xvals, yvals)\n",
    "\n",
    "def waves_image(alpha, beta):\n",
    "    return hv.Image(np.sin(((ys/alpha)**alpha+beta)*xs))\n",
    "\n",
    "waves_image(0,0) + waves_image(0,4)"
   ]
  },
  {
   "cell_type": "code",
   "execution_count": null,
   "metadata": {},
   "outputs": [],
   "source": [
    "dmap = hv.DynamicMap(waves_image, kdims=['alpha', 'beta'])\n",
    "dmap"
   ]
  },
  {
   "cell_type": "code",
   "execution_count": null,
   "metadata": {},
   "outputs": [],
   "source": [
    "dmap[0,1] + dmap.select(alpha=1, beta=2)"
   ]
  },
  {
   "cell_type": "code",
   "execution_count": null,
   "metadata": {},
   "outputs": [],
   "source": [
    "dmap.redim.range(alpha=(0,5.0), beta=(1,5.0))"
   ]
  },
  {
   "cell_type": "code",
   "execution_count": null,
   "metadata": {},
   "outputs": [],
   "source": [
    "hv.__version__"
   ]
  },
  {
   "cell_type": "code",
   "execution_count": null,
   "metadata": {},
   "outputs": [],
   "source": [
    "for imgid in image_ids:\n",
    "    do_cluster_ids(imgid, \"without_large_fan_fnotch_on_p4_coords\" )"
   ]
  },
  {
   "cell_type": "code",
   "execution_count": null,
   "metadata": {},
   "outputs": [],
   "source": [
    "obsid = 'ESP_020930_0980'\n",
    "savedir = 'fnotching_per_obsid'"
   ]
  },
  {
   "cell_type": "code",
   "execution_count": null,
   "metadata": {},
   "outputs": [],
   "source": [
    "dbscanner = dbscan.DBScanner(savedir=savedir)"
   ]
  },
  {
   "cell_type": "code",
   "execution_count": null,
   "metadata": {},
   "outputs": [],
   "source": [
    "dbscanner.cluster_image_name(obsid)"
   ]
  },
  {
   "cell_type": "code",
   "execution_count": null,
   "metadata": {},
   "outputs": [],
   "source": [
    "pm.final_blotchfile"
   ]
  },
  {
   "cell_type": "code",
   "execution_count": null,
   "metadata": {},
   "outputs": [],
   "source": [
    "fnotching.fnotch_obsid(obsid, savedir=savedir)"
   ]
  },
  {
   "cell_type": "code",
   "execution_count": null,
   "metadata": {},
   "outputs": [],
   "source": [
    "fnotching.apply_cut_obsid(obsid, savedir=savedir)"
   ]
  },
  {
   "cell_type": "code",
   "execution_count": null,
   "metadata": {},
   "outputs": [],
   "source": []
  },
  {
   "cell_type": "code",
   "execution_count": null,
   "metadata": {},
   "outputs": [],
   "source": []
  },
  {
   "cell_type": "code",
   "execution_count": null,
   "metadata": {},
   "outputs": [],
   "source": [
    "data = region_data.Inca.season2 + region_data.Inca.season3"
   ]
  },
  {
   "cell_type": "code",
   "execution_count": null,
   "metadata": {},
   "outputs": [],
   "source": [
    "do_clustering(ithaca[0])"
   ]
  },
  {
   "cell_type": "code",
   "execution_count": null,
   "metadata": {},
   "outputs": [],
   "source": [
    "ithaca[0]"
   ]
  },
  {
   "cell_type": "code",
   "execution_count": null,
   "metadata": {},
   "outputs": [],
   "source": [
    "from nbtools import execute_in_parallel"
   ]
  },
  {
   "cell_type": "code",
   "execution_count": null,
   "metadata": {},
   "outputs": [],
   "source": [
    "result = execute_in_parallel(do_clustering, data)"
   ]
  },
  {
   "cell_type": "markdown",
   "metadata": {},
   "source": [
    "# Creating obsid files"
   ]
  },
  {
   "cell_type": "code",
   "execution_count": null,
   "metadata": {},
   "outputs": [],
   "source": [
    "from planet4.fnotching import get_clusters_in_path"
   ]
  },
  {
   "cell_type": "code",
   "execution_count": null,
   "metadata": {},
   "outputs": [],
   "source": [
    "pm = io.PathManager(obsid=roi.seasons[0], datapath=folder)"
   ]
  },
  {
   "cell_type": "code",
   "execution_count": null,
   "metadata": {},
   "outputs": [],
   "source": [
    "pm.obsid_final_blotches_path"
   ]
  },
  {
   "cell_type": "code",
   "execution_count": null,
   "metadata": {},
   "outputs": [],
   "source": [
    "from planet4.catalog_production import create_roi_file"
   ]
  },
  {
   "cell_type": "code",
   "execution_count": null,
   "metadata": {},
   "outputs": [],
   "source": [
    "savedir"
   ]
  },
  {
   "cell_type": "code",
   "execution_count": null,
   "metadata": {},
   "outputs": [],
   "source": [
    "create_roi_file(obsids, 'catalog', savedir)"
   ]
  },
  {
   "cell_type": "code",
   "execution_count": null,
   "metadata": {},
   "outputs": [],
   "source": [
    "pm = io.PathManager(obsid=obsids[0], datapath=savedir)"
   ]
  },
  {
   "cell_type": "code",
   "execution_count": null,
   "metadata": {},
   "outputs": [],
   "source": [
    "folders = pm.get_obsid_paths('L1C')"
   ]
  },
  {
   "cell_type": "code",
   "execution_count": null,
   "metadata": {},
   "outputs": [],
   "source": [
    "from planet4.catalog_production import read_csvfiles_into_lists_of_frames, concat_bucket_lists"
   ]
  },
  {
   "cell_type": "code",
   "execution_count": null,
   "metadata": {},
   "outputs": [],
   "source": [
    "bucket.items()"
   ]
  },
  {
   "cell_type": "code",
   "execution_count": null,
   "metadata": {},
   "outputs": [],
   "source": []
  },
  {
   "cell_type": "code",
   "execution_count": null,
   "metadata": {},
   "outputs": [],
   "source": [
    "roi.available_seasons"
   ]
  },
  {
   "cell_type": "code",
   "execution_count": null,
   "metadata": {},
   "outputs": [],
   "source": [
    "folder"
   ]
  },
  {
   "cell_type": "code",
   "execution_count": null,
   "metadata": {},
   "outputs": [],
   "source": [
    "def create_roi_file_with_seasons(roi, datapath, copy_to_analysis=True):\n",
    "    Fans = []\n",
    "    Blotches = []\n",
    "    for season in roi.available_seasons:\n",
    "        print(season)\n",
    "        # keep lower case marking objects to add season column later\n",
    "        fans = []\n",
    "        blotches = []\n",
    "        for obsid in getattr(roi, season):\n",
    "            print(obsid)\n",
    "            pm = io.PathManager(obsid=obsid, datapath=datapath)\n",
    "            fans.append(pm.final_fandf)\n",
    "            blotches.append(pm.final_blotchdf)\n",
    "\n",
    "        fans = pd.concat(fans, ignore_index=True)\n",
    "        fans['season'] = season\n",
    "        Fans.append(fans)\n",
    "    \n",
    "        blotches = pd.concat(blotches, ignore_index=True)\n",
    "        blotches['season'] = season\n",
    "        Blotches.append(blotches)\n",
    "        \n",
    "    Fans = pd.concat(Fans, ignore_index=True)\n",
    "    Blotches = pd.concat(Blotches, ignore_index=True)\n",
    "    savedir = pm.path_so_far.parent\n",
    "    for marks in ['Fans', 'Blotches']:\n",
    "        savename = f\"{roi.name}_{pm.L1C_folder}_{marks}.csv\"\n",
    "        savepath = savedir / savename\n",
    "        obj = eval(marks)  # get handle to the fan or blotch object\n",
    "        obj = obj.dropna(how='all', axis=1)\n",
    "        obj.to_csv(savepath, index=False)\n",
    "        if copy_to_analysis is True:\n",
    "            savefolder = io.analysis_folder() / folder / f\"{roi.name.lower()}\"\n",
    "            savefolder.mkdir(exist_ok=True)\n",
    "            savepath = savefolder / savename\n",
    "            obj.to_csv(savepath, index=False)"
   ]
  },
  {
   "cell_type": "code",
   "execution_count": null,
   "metadata": {},
   "outputs": [],
   "source": [
    "create_roi_file_with_seasons(roi, folder)"
   ]
  },
  {
   "cell_type": "code",
   "execution_count": null,
   "metadata": {},
   "outputs": [],
   "source": [
    "def create_obsid_result_files(obsid, datapath=None):\n",
    "#     logger.debug(\"Working on %s\", obsid)\n",
    "    pm = io.PathManager(obsid=obsid, datapath=datapath)\n",
    "    # the pm.get_obsid_paths method searches for existing image_id folders inside each\n",
    "    # obsid folder\n",
    "    folders = list(pm.get_obsid_paths(pm.L1C_folder))\n",
    "    blotches = []\n",
    "    fans = []\n",
    "    for folder in folders:\n",
    "        pm.id = fnotching.get_id_from_path(folder)\n",
    "        if pm.final_blotchfile.exists() and pm.final_blotchfile.lstat().st_size > 1:\n",
    "            blotches.append(pm.final_blotchdf)\n",
    "        if pm.final_fanfile.exists() and pm.final_fanfile.lstat().st_size > 1:\n",
    "            fans.append(pm.final_fandf)\n",
    "\n",
    "    if len(blotches) > 0:\n",
    "        blotches = pd.concat(blotches, ignore_index=True)\n",
    "        blotches.dropna(how='all', axis=1, inplace=True)\n",
    "        blotches.to_csv(pm.obsid_final_blotches_path, index=False)\n",
    "        print(\"Created\", pm.obsid_final_blotches_path)\n",
    "\n",
    "    if len(fans) > 0:\n",
    "        fans = pd.concat(fans, ignore_index=True)\n",
    "        fans.dropna(how='all', axis=1, inplace=True)\n",
    "        fans.to_csv(pm.obsid_final_fans_path, index=False)\n",
    "        print(\"Created\", pm.obsid_final_fans_path)"
   ]
  },
  {
   "cell_type": "code",
   "execution_count": null,
   "metadata": {},
   "outputs": [],
   "source": [
    "for obsid in data:\n",
    "    create_obsid_result_files(obsid, datapath='for_chase')"
   ]
  },
  {
   "cell_type": "code",
   "execution_count": null,
   "metadata": {},
   "outputs": [],
   "source": [
    "region = getattr(region_data, name)\n",
    "for season_no in [2, 3]:\n",
    "    season = str(season_no)\n",
    "    bucket = []\n",
    "    for obsid in getattr(region, f\"season{season}\"):\n",
    "        pm = io.PathManager(obsid=obsid)\n",
    "        df = pd.read_csv(pm.obsid_final_blotches_path)\n",
    "        df['obsid'] = obsid\n",
    "        bucket.append(df)\n",
    "\n",
    "    df = pd.concat(bucket, ignore_index=True)\n",
    "    df.to_csv(io.analysis_folder() / f\"p4_catalog/{name}_season{season}_blotches.csv\",\n",
    "              index=False)"
   ]
  },
  {
   "cell_type": "code",
   "execution_count": null,
   "metadata": {},
   "outputs": [],
   "source": [
    "store_folder = io.analysis_folder() / 'for_chase'\n",
    "store_folder.mkdir(exist_ok=True)"
   ]
  },
  {
   "cell_type": "code",
   "execution_count": null,
   "metadata": {},
   "outputs": [],
   "source": [
    "name = 'inca'"
   ]
  },
  {
   "cell_type": "code",
   "execution_count": null,
   "metadata": {},
   "outputs": [],
   "source": [
    "p = Path('/Users/klay6683/Dropbox/data/planet4/for_chase/' + name)\n",
    "for kind in ['blotches', 'fans']:\n",
    "    bucket = []\n",
    "    filepaths = p.glob(f'*_{kind}.csv')\n",
    "    for filepath in filepaths:\n",
    "        obsid = filepath.name[:15]\n",
    "        df = pd.read_csv(filepath)\n",
    "        df['obsid'] = obsid\n",
    "        bucket.append(df)\n",
    "    df = pd.concat(bucket, ignore_index=True)\n",
    "    savedir = store_folder / f'{name}'\n",
    "    savedir.mkdir(exist_ok=True)\n",
    "    savepath = savedir / f\"{name}_{kind}.csv\"\n",
    "    print(savepath)\n",
    "    df.to_csv(savepath, index=False)\n",
    "        "
   ]
  },
  {
   "cell_type": "code",
   "execution_count": null,
   "metadata": {},
   "outputs": [],
   "source": []
  }
 ],
 "metadata": {
  "kernelspec": {
   "display_name": "python3",
   "language": "python",
   "name": "python3"
  },
  "widgets": {
   "application/vnd.jupyter.widget-state+json": {
    "state": {},
    "version_major": 2,
    "version_minor": 0
   }
  }
 },
 "nbformat": 4,
 "nbformat_minor": 4
}
