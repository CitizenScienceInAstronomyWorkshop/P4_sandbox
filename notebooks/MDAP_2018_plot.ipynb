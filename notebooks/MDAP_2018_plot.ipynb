{
 "cells": [
  {
   "cell_type": "markdown",
   "metadata": {
    "toc": true
   },
   "source": [
    "<h1>Table of Contents<span class=\"tocSkip\"></span></h1>\n",
    "<div class=\"toc\"><ul class=\"toc-item\"><li><span><a href=\"#P4-catalog-stats\" data-toc-modified-id=\"P4-catalog-stats-1\"><span class=\"toc-item-num\">1&nbsp;&nbsp;</span>P4 catalog stats</a></span></li></ul></div>"
   ]
  },
  {
   "cell_type": "code",
   "execution_count": 1,
   "metadata": {},
   "outputs": [],
   "source": [
    "%load_ext lab_black"
   ]
  },
  {
   "cell_type": "code",
   "execution_count": 2,
   "metadata": {},
   "outputs": [],
   "source": [
    "import seaborn as sns\n",
    "\n",
    "sns.set_context(\"notebook\")"
   ]
  },
  {
   "cell_type": "code",
   "execution_count": 3,
   "metadata": {},
   "outputs": [],
   "source": [
    "obsids = pd.read_csv(\"./image_names.csv\", header=None, names=[\"obsid\"])"
   ]
  },
  {
   "cell_type": "code",
   "execution_count": 4,
   "metadata": {},
   "outputs": [
    {
     "name": "stdout",
     "output_type": "stream",
     "text": [
      "<class 'pandas.core.frame.DataFrame'>\n",
      "RangeIndex: 462 entries, 0 to 461\n",
      "Data columns (total 1 columns):\n",
      "obsid    462 non-null object\n",
      "dtypes: object(1)\n",
      "memory usage: 3.7+ KB\n"
     ]
    }
   ],
   "source": [
    "obsids.info()"
   ]
  },
  {
   "cell_type": "code",
   "execution_count": 5,
   "metadata": {},
   "outputs": [],
   "source": [
    "from planetarypy.pdstools import indices"
   ]
  },
  {
   "cell_type": "code",
   "execution_count": 6,
   "metadata": {},
   "outputs": [],
   "source": [
    "edrindex = indices.indexdb.get(\"mro.hirise.edr\")"
   ]
  },
  {
   "cell_type": "code",
   "execution_count": 7,
   "metadata": {},
   "outputs": [
    {
     "data": {
      "text/plain": [
       "PosixPath('/Users/klay6683/Dropbox/data/planetarypy/indices/mro/hirise/EDRCUMINDEX.hdf')"
      ]
     },
     "execution_count": 7,
     "metadata": {},
     "output_type": "execute_result"
    }
   ],
   "source": [
    "edrindex.local_hdf_path"
   ]
  },
  {
   "cell_type": "code",
   "execution_count": 8,
   "metadata": {},
   "outputs": [],
   "source": [
    "meta = pd.read_hdf(edrindex.local_hdf_path)"
   ]
  },
  {
   "cell_type": "code",
   "execution_count": 9,
   "metadata": {},
   "outputs": [
    {
     "data": {
      "text/plain": [
       "'ESP_061798_2640'"
      ]
     },
     "execution_count": 9,
     "metadata": {},
     "output_type": "execute_result"
    }
   ],
   "source": [
    "meta[meta.OBSERVATION_ID.str.startswith(\"ESP\")].OBSERVATION_ID.max()"
   ]
  },
  {
   "cell_type": "code",
   "execution_count": 10,
   "metadata": {},
   "outputs": [
    {
     "data": {
      "text/plain": [
       "Index(['VOLUME_ID', 'FILE_NAME_SPECIFICATION', 'INSTRUMENT_HOST_ID',\n",
       "       'INSTRUMENT_ID', 'OBSERVATION_ID', 'PRODUCT_ID', 'PRODUCT_VERSION_ID',\n",
       "       'HICAL_VERSION', 'TARGET_NAME', 'ORBIT_NUMBER', 'MISSION_PHASE_NAME',\n",
       "       'RATIONALE_DESC', 'OBSERVATION_START_TIME', 'OBSERVATION_START_COUNT',\n",
       "       'START_TIME', 'SPACECRAFT_CLOCK_START_COUNT', 'STOP_TIME',\n",
       "       'SPACECRAFT_CLOCK_STOP_COUNT', 'CCD_NAME', 'CHANNEL_NUMBER',\n",
       "       'FILTER_NAME', 'SCAN_EXPOSURE_DURATION', 'DELTA_LINE_TIME_COUNT',\n",
       "       'BINNING', 'TDI', 'TRIM_LINES', 'FOCUS_POSITION_COUNT',\n",
       "       'FELICS_COMPRESSION_FLAG', 'STIMULATION_LAMP_FLAG_RED',\n",
       "       'STIMULATION_LAMP_FLAG_BLUEGREEN', 'STIMULATION_LAMP_FLAG_NEARINFRARED',\n",
       "       'LOOKUP_TABLE_TYPE', 'LOOKUP_TABLE_MINIMUM', 'LOOKUP_TABLE_MAXIMUM',\n",
       "       'LOOKUP_TABLE_MEDIAN', 'LOOKUP_TABLE_K_VALUE', 'LOOKUP_TABLE_NUMBER',\n",
       "       'ADC_CONVERSION_SETTINGS_1', 'ADC_CONVERSION_SETTINGS_2',\n",
       "       'FPA_POSITIVE_Y_TEMPERATURE', 'FPA_NEGATIVE_Y_TEMPERATURE',\n",
       "       'FPE_TEMPERATURE', 'IEA_TEMPERATURE', 'IEA_PWS_BOARD_TEMPERATURE',\n",
       "       'CPMM_PWS_BOARD_TEMPERATURE', 'IMAGE_LINES', 'LINE_SAMPLES',\n",
       "       'SAMPLE_BITS', 'SCALED_PIXEL_WIDTH', 'EMISSION_ANGLE',\n",
       "       'INCIDENCE_ANGLE', 'PHASE_ANGLE', 'IMAGE_CENTER_LATITUDE',\n",
       "       'IMAGE_CENTER_LONGITUDE', 'MINIMUM_LATITUDE', 'MAXIMUM_LATITUDE',\n",
       "       'MINIMUM_LONGITUDE', 'MAXIMUM_LONGITUDE', 'SPACECRAFT_ALTITUDE',\n",
       "       'TARGET_CENTER_DISTANCE', 'SLANT_DISTANCE', 'NORTH_AZIMUTH',\n",
       "       'SUB_SOLAR_AZIMUTH', 'SUB_SOLAR_LATITUDE', 'SUB_SOLAR_LONGITUDE',\n",
       "       'SUB_SPACECRAFT_LATITUDE', 'SUB_SPACECRAFT_LONGITUDE', 'SOLAR_DISTANCE',\n",
       "       'SOLAR_LONGITUDE', 'LOCAL_TIME', 'STEREO_FLAG'],\n",
       "      dtype='object')"
      ]
     },
     "execution_count": 10,
     "metadata": {},
     "output_type": "execute_result"
    }
   ],
   "source": [
    "meta.columns"
   ]
  },
  {
   "cell_type": "code",
   "execution_count": null,
   "metadata": {},
   "outputs": [],
   "source": []
  },
  {
   "cell_type": "code",
   "execution_count": 11,
   "metadata": {},
   "outputs": [],
   "source": [
    "meta.drop_duplicates(subset=\"OBSERVATION_ID\", inplace=True)"
   ]
  },
  {
   "cell_type": "code",
   "execution_count": 12,
   "metadata": {},
   "outputs": [],
   "source": [
    "meta_cols = [\n",
    "    \"OBSERVATION_ID\",\n",
    "    \"IMAGE_CENTER_LATITUDE\",\n",
    "    \"IMAGE_CENTER_LONGITUDE\",\n",
    "]"
   ]
  },
  {
   "cell_type": "code",
   "execution_count": 13,
   "metadata": {},
   "outputs": [
    {
     "data": {
      "text/html": [
       "<div>\n",
       "<style scoped>\n",
       "    .dataframe tbody tr th:only-of-type {\n",
       "        vertical-align: middle;\n",
       "    }\n",
       "\n",
       "    .dataframe tbody tr th {\n",
       "        vertical-align: top;\n",
       "    }\n",
       "\n",
       "    .dataframe thead th {\n",
       "        text-align: right;\n",
       "    }\n",
       "</style>\n",
       "<table border=\"1\" class=\"dataframe\">\n",
       "  <thead>\n",
       "    <tr style=\"text-align: right;\">\n",
       "      <th></th>\n",
       "      <th>obsid</th>\n",
       "    </tr>\n",
       "  </thead>\n",
       "  <tbody>\n",
       "    <tr>\n",
       "      <th>0</th>\n",
       "      <td>ESP_012079_0945</td>\n",
       "    </tr>\n",
       "    <tr>\n",
       "      <th>1</th>\n",
       "      <td>ESP_011697_0980</td>\n",
       "    </tr>\n",
       "    <tr>\n",
       "      <th>2</th>\n",
       "      <td>ESP_021455_0935</td>\n",
       "    </tr>\n",
       "    <tr>\n",
       "      <th>3</th>\n",
       "      <td>ESP_012008_0975</td>\n",
       "    </tr>\n",
       "    <tr>\n",
       "      <th>4</th>\n",
       "      <td>ESP_012436_0980</td>\n",
       "    </tr>\n",
       "    <tr>\n",
       "      <th>...</th>\n",
       "      <td>...</td>\n",
       "    </tr>\n",
       "    <tr>\n",
       "      <th>457</th>\n",
       "      <td>ESP_046770_0950</td>\n",
       "    </tr>\n",
       "    <tr>\n",
       "      <th>458</th>\n",
       "      <td>ESP_046769_0950</td>\n",
       "    </tr>\n",
       "    <tr>\n",
       "      <th>459</th>\n",
       "      <td>ESP_046862_0950</td>\n",
       "    </tr>\n",
       "    <tr>\n",
       "      <th>460</th>\n",
       "      <td>ESP_040216_0950</td>\n",
       "    </tr>\n",
       "    <tr>\n",
       "      <th>461</th>\n",
       "      <td>ESP_040189_0950</td>\n",
       "    </tr>\n",
       "  </tbody>\n",
       "</table>\n",
       "<p>462 rows × 1 columns</p>\n",
       "</div>"
      ],
      "text/plain": [
       "               obsid\n",
       "0    ESP_012079_0945\n",
       "1    ESP_011697_0980\n",
       "2    ESP_021455_0935\n",
       "3    ESP_012008_0975\n",
       "4    ESP_012436_0980\n",
       "..               ...\n",
       "457  ESP_046770_0950\n",
       "458  ESP_046769_0950\n",
       "459  ESP_046862_0950\n",
       "460  ESP_040216_0950\n",
       "461  ESP_040189_0950\n",
       "\n",
       "[462 rows x 1 columns]"
      ]
     },
     "execution_count": 13,
     "metadata": {},
     "output_type": "execute_result"
    }
   ],
   "source": [
    "obsids"
   ]
  },
  {
   "cell_type": "code",
   "execution_count": 21,
   "metadata": {},
   "outputs": [
    {
     "data": {
      "text/html": [
       "<div>\n",
       "<style scoped>\n",
       "    .dataframe tbody tr th:only-of-type {\n",
       "        vertical-align: middle;\n",
       "    }\n",
       "\n",
       "    .dataframe tbody tr th {\n",
       "        vertical-align: top;\n",
       "    }\n",
       "\n",
       "    .dataframe thead th {\n",
       "        text-align: right;\n",
       "    }\n",
       "</style>\n",
       "<table border=\"1\" class=\"dataframe\">\n",
       "  <thead>\n",
       "    <tr style=\"text-align: right;\">\n",
       "      <th></th>\n",
       "      <th>obsid</th>\n",
       "      <th>IMAGE_CENTER_LATITUDE</th>\n",
       "      <th>IMAGE_CENTER_LONGITUDE</th>\n",
       "    </tr>\n",
       "  </thead>\n",
       "  <tbody>\n",
       "    <tr>\n",
       "      <th>0</th>\n",
       "      <td>ESP_012079_0945</td>\n",
       "      <td>-85.4074</td>\n",
       "      <td>103.9700</td>\n",
       "    </tr>\n",
       "    <tr>\n",
       "      <th>1</th>\n",
       "      <td>ESP_011697_0980</td>\n",
       "      <td>-81.8089</td>\n",
       "      <td>76.1636</td>\n",
       "    </tr>\n",
       "    <tr>\n",
       "      <th>2</th>\n",
       "      <td>ESP_021455_0935</td>\n",
       "      <td>-86.3962</td>\n",
       "      <td>99.1061</td>\n",
       "    </tr>\n",
       "    <tr>\n",
       "      <th>3</th>\n",
       "      <td>ESP_012008_0975</td>\n",
       "      <td>-82.1867</td>\n",
       "      <td>225.2310</td>\n",
       "    </tr>\n",
       "    <tr>\n",
       "      <th>4</th>\n",
       "      <td>ESP_012436_0980</td>\n",
       "      <td>-81.9405</td>\n",
       "      <td>60.4513</td>\n",
       "    </tr>\n",
       "  </tbody>\n",
       "</table>\n",
       "</div>"
      ],
      "text/plain": [
       "             obsid IMAGE_CENTER_LATITUDE IMAGE_CENTER_LONGITUDE\n",
       "0  ESP_012079_0945              -85.4074               103.9700\n",
       "1  ESP_011697_0980              -81.8089                76.1636\n",
       "2  ESP_021455_0935              -86.3962                99.1061\n",
       "3  ESP_012008_0975              -82.1867               225.2310\n",
       "4  ESP_012436_0980              -81.9405                60.4513"
      ]
     },
     "execution_count": 21,
     "metadata": {},
     "output_type": "execute_result"
    }
   ],
   "source": [
    "df = obsids.merge(\n",
    "    meta[meta_cols], left_on=\"obsid\", right_on=\"OBSERVATION_ID\", how=\"inner\"\n",
    ").drop(\"OBSERVATION_ID\", axis=1)\n",
    "df.head()"
   ]
  },
  {
   "cell_type": "code",
   "execution_count": 34,
   "metadata": {},
   "outputs": [],
   "source": [
    "df = meta[meta_cols].rename({\"OBSERVATION_ID\": \"obsid\"}, axis=1)"
   ]
  },
  {
   "cell_type": "code",
   "execution_count": 35,
   "metadata": {},
   "outputs": [],
   "source": [
    "df = df[(df.obsid.str.startswith(\"PSP\")) | (df.obsid.str.startswith(\"ESP\"))]"
   ]
  },
  {
   "cell_type": "code",
   "execution_count": 36,
   "metadata": {},
   "outputs": [
    {
     "data": {
      "text/html": [
       "<div>\n",
       "<style scoped>\n",
       "    .dataframe tbody tr th:only-of-type {\n",
       "        vertical-align: middle;\n",
       "    }\n",
       "\n",
       "    .dataframe tbody tr th {\n",
       "        vertical-align: top;\n",
       "    }\n",
       "\n",
       "    .dataframe thead th {\n",
       "        text-align: right;\n",
       "    }\n",
       "</style>\n",
       "<table border=\"1\" class=\"dataframe\">\n",
       "  <thead>\n",
       "    <tr style=\"text-align: right;\">\n",
       "      <th></th>\n",
       "      <th>obsid</th>\n",
       "      <th>IMAGE_CENTER_LATITUDE</th>\n",
       "      <th>IMAGE_CENTER_LONGITUDE</th>\n",
       "    </tr>\n",
       "  </thead>\n",
       "  <tbody>\n",
       "    <tr>\n",
       "      <th>2827</th>\n",
       "      <td>PSP_001330_1395</td>\n",
       "      <td>-40.1045</td>\n",
       "      <td>132.2780</td>\n",
       "    </tr>\n",
       "    <tr>\n",
       "      <th>2855</th>\n",
       "      <td>PSP_001331_2260</td>\n",
       "      <td>45.6201</td>\n",
       "      <td>93.6834</td>\n",
       "    </tr>\n",
       "    <tr>\n",
       "      <th>2871</th>\n",
       "      <td>PSP_001332_2620</td>\n",
       "      <td>81.8166</td>\n",
       "      <td>48.7460</td>\n",
       "    </tr>\n",
       "    <tr>\n",
       "      <th>2899</th>\n",
       "      <td>PSP_001333_2485</td>\n",
       "      <td>68.1677</td>\n",
       "      <td>33.5881</td>\n",
       "    </tr>\n",
       "    <tr>\n",
       "      <th>2915</th>\n",
       "      <td>PSP_001334_2215</td>\n",
       "      <td>40.9504</td>\n",
       "      <td>12.0690</td>\n",
       "    </tr>\n",
       "  </tbody>\n",
       "</table>\n",
       "</div>"
      ],
      "text/plain": [
       "                obsid  IMAGE_CENTER_LATITUDE  IMAGE_CENTER_LONGITUDE\n",
       "2827  PSP_001330_1395               -40.1045                132.2780\n",
       "2855  PSP_001331_2260                45.6201                 93.6834\n",
       "2871  PSP_001332_2620                81.8166                 48.7460\n",
       "2899  PSP_001333_2485                68.1677                 33.5881\n",
       "2915  PSP_001334_2215                40.9504                 12.0690"
      ]
     },
     "execution_count": 36,
     "metadata": {},
     "output_type": "execute_result"
    }
   ],
   "source": [
    "df.head()"
   ]
  },
  {
   "cell_type": "code",
   "execution_count": 17,
   "metadata": {},
   "outputs": [],
   "source": [
    "%matplotlib widget"
   ]
  },
  {
   "cell_type": "code",
   "execution_count": 37,
   "metadata": {},
   "outputs": [],
   "source": [
    "df.columns = [\"obsid\", \"lat\", \"lon\"]"
   ]
  },
  {
   "cell_type": "code",
   "execution_count": 38,
   "metadata": {},
   "outputs": [
    {
     "data": {
      "text/plain": [
       "(62936, 3)"
      ]
     },
     "execution_count": 38,
     "metadata": {},
     "output_type": "execute_result"
    }
   ],
   "source": [
    "df.shape"
   ]
  },
  {
   "cell_type": "code",
   "execution_count": 46,
   "metadata": {},
   "outputs": [],
   "source": [
    "region_names = pd.read_csv(\n",
    "    \"/Users/klay6683/Dropbox/src/planet4/planet4/data/region_names.csv\"\n",
    ")\n",
    "region_names.columns = [\"name\", \"lat\", \"lon\"]"
   ]
  },
  {
   "cell_type": "code",
   "execution_count": 47,
   "metadata": {},
   "outputs": [
    {
     "data": {
      "text/plain": [
       "(27, 3)"
      ]
     },
     "execution_count": 47,
     "metadata": {},
     "output_type": "execute_result"
    }
   ],
   "source": [
    "region_names.shape"
   ]
  },
  {
   "cell_type": "code",
   "execution_count": 48,
   "metadata": {},
   "outputs": [
    {
     "data": {
      "text/html": [
       "<div>\n",
       "<style scoped>\n",
       "    .dataframe tbody tr th:only-of-type {\n",
       "        vertical-align: middle;\n",
       "    }\n",
       "\n",
       "    .dataframe tbody tr th {\n",
       "        vertical-align: top;\n",
       "    }\n",
       "\n",
       "    .dataframe thead th {\n",
       "        text-align: right;\n",
       "    }\n",
       "</style>\n",
       "<table border=\"1\" class=\"dataframe\">\n",
       "  <thead>\n",
       "    <tr style=\"text-align: right;\">\n",
       "      <th></th>\n",
       "      <th>name</th>\n",
       "      <th>lat</th>\n",
       "      <th>lon</th>\n",
       "    </tr>\n",
       "  </thead>\n",
       "  <tbody>\n",
       "    <tr>\n",
       "      <th>0</th>\n",
       "      <td>Albany</td>\n",
       "      <td>-81.930</td>\n",
       "      <td>60.400</td>\n",
       "    </tr>\n",
       "    <tr>\n",
       "      <th>1</th>\n",
       "      <td>Atka</td>\n",
       "      <td>-86.980</td>\n",
       "      <td>169.700</td>\n",
       "    </tr>\n",
       "    <tr>\n",
       "      <th>2</th>\n",
       "      <td>Bilbao</td>\n",
       "      <td>-87.008</td>\n",
       "      <td>127.273</td>\n",
       "    </tr>\n",
       "    <tr>\n",
       "      <th>3</th>\n",
       "      <td>Binghamton</td>\n",
       "      <td>-73.530</td>\n",
       "      <td>339.500</td>\n",
       "    </tr>\n",
       "    <tr>\n",
       "      <th>4</th>\n",
       "      <td>BuenosAires</td>\n",
       "      <td>-81.901</td>\n",
       "      <td>4.750</td>\n",
       "    </tr>\n",
       "  </tbody>\n",
       "</table>\n",
       "</div>"
      ],
      "text/plain": [
       "          name     lat      lon\n",
       "0       Albany -81.930   60.400\n",
       "1         Atka -86.980  169.700\n",
       "2       Bilbao -87.008  127.273\n",
       "3   Binghamton -73.530  339.500\n",
       "4  BuenosAires -81.901    4.750"
      ]
     },
     "execution_count": 48,
     "metadata": {},
     "output_type": "execute_result"
    }
   ],
   "source": [
    "region_names.head()"
   ]
  },
  {
   "cell_type": "code",
   "execution_count": 49,
   "metadata": {},
   "outputs": [],
   "source": [
    "from scipy.spatial.distance import cdist, pdist"
   ]
  },
  {
   "cell_type": "code",
   "execution_count": 50,
   "metadata": {},
   "outputs": [],
   "source": [
    "from geopy.distance import distance\n",
    "from geopy import Point\n",
    "\n",
    "\n",
    "def create_point(row):\n",
    "    return Point(latitude=row.lat, longitude=row.lon)"
   ]
  },
  {
   "cell_type": "code",
   "execution_count": 51,
   "metadata": {},
   "outputs": [],
   "source": [
    "region_names[\"point\"] = region_names[[\"lat\", \"lon\"]].apply(create_point, axis=1)"
   ]
  },
  {
   "cell_type": "code",
   "execution_count": 52,
   "metadata": {},
   "outputs": [],
   "source": [
    "df.loc[df.lat < -9997, \"lat\"] = np.nan"
   ]
  },
  {
   "cell_type": "code",
   "execution_count": 53,
   "metadata": {},
   "outputs": [],
   "source": [
    "df.loc[df.lon < -9997, \"lon\"] = np.nan"
   ]
  },
  {
   "cell_type": "code",
   "execution_count": 57,
   "metadata": {},
   "outputs": [
    {
     "data": {
      "text/plain": [
       "(62936, 3)"
      ]
     },
     "execution_count": 57,
     "metadata": {},
     "output_type": "execute_result"
    }
   ],
   "source": [
    "df.shape"
   ]
  },
  {
   "cell_type": "code",
   "execution_count": 58,
   "metadata": {},
   "outputs": [],
   "source": [
    "df = df.dropna(how=\"all\", subset=[\"lat\", \"lon\"])"
   ]
  },
  {
   "cell_type": "code",
   "execution_count": 59,
   "metadata": {},
   "outputs": [],
   "source": [
    "df[\"point\"] = df[[\"lat\", \"lon\"]].apply(create_point, axis=1)"
   ]
  },
  {
   "cell_type": "code",
   "execution_count": 60,
   "metadata": {},
   "outputs": [
    {
     "data": {
      "text/plain": [
       "5331.443072200442"
      ]
     },
     "execution_count": 60,
     "metadata": {},
     "output_type": "execute_result"
    }
   ],
   "source": [
    "distance(region_names.point.iloc[0], df.point.iloc[0]).kilometers"
   ]
  },
  {
   "cell_type": "code",
   "execution_count": 61,
   "metadata": {},
   "outputs": [],
   "source": [
    "Y = cdist(\n",
    "    df[[\"point\"]], region_names[[\"point\"]], lambda x, y: distance(x, y).kilometers,\n",
    ")"
   ]
  },
  {
   "cell_type": "code",
   "execution_count": 62,
   "metadata": {},
   "outputs": [],
   "source": [
    "df[\"geopy_names\"] = region_names.iloc[Y.argmin(axis=1)].name.values"
   ]
  },
  {
   "cell_type": "code",
   "execution_count": 63,
   "metadata": {},
   "outputs": [],
   "source": [
    "df[\"minimal_distance\"] = Y.min(axis=1)"
   ]
  },
  {
   "cell_type": "code",
   "execution_count": 64,
   "metadata": {},
   "outputs": [],
   "source": [
    "merged = (\n",
    "    df.drop(\"point\", axis=1)\n",
    "    .merge(\n",
    "        region_names.drop(\"point\", axis=1),\n",
    "        left_on=\"geopy_names\",\n",
    "        right_on=\"name\",\n",
    "        suffixes=(\"_IND\", \"_WORD\"),\n",
    "    )\n",
    "    .drop(\"name\", axis=1)\n",
    ")"
   ]
  },
  {
   "cell_type": "code",
   "execution_count": 41,
   "metadata": {},
   "outputs": [
    {
     "data": {
      "application/vnd.jupyter.widget-view+json": {
       "model_id": "b9cf188e4e4f4f868ebbf005915f7873",
       "version_major": 2,
       "version_minor": 0
      },
      "text/plain": [
       "Canvas(toolbar=Toolbar(toolitems=[('Home', 'Reset original view', 'home', 'home'), ('Back', 'Back to previous …"
      ]
     },
     "metadata": {},
     "output_type": "display_data"
    },
    {
     "data": {
      "text/plain": [
       "<matplotlib.axes._subplots.AxesSubplot at 0x12503ff28>"
      ]
     },
     "execution_count": 41,
     "metadata": {},
     "output_type": "execute_result"
    }
   ],
   "source": [
    "merged.minimal_distance.hist(log=True, bins=100)"
   ]
  },
  {
   "cell_type": "code",
   "execution_count": 65,
   "metadata": {},
   "outputs": [],
   "source": [
    "merged.loc[merged.minimal_distance > 50, \"geopy_names\"] = \"unknown\""
   ]
  },
  {
   "cell_type": "code",
   "execution_count": 66,
   "metadata": {},
   "outputs": [
    {
     "data": {
      "text/plain": [
       "geopy_names\n",
       "Albany                      17\n",
       "Atka                        28\n",
       "Bilbao                      62\n",
       "Binghamton                   4\n",
       "BuenosAires                 41\n",
       "Caterpillar                 20\n",
       "Cortland                    24\n",
       "Geneseo                     11\n",
       "Giza                        59\n",
       "Halifax                     22\n",
       "Inca_City                   60\n",
       "Inca_City_Ridges            80\n",
       "Ithaca                      70\n",
       "Macclesfield                67\n",
       "Manhattan2                  22\n",
       "Manhattan_Classic          100\n",
       "Manhattan_Cracks            25\n",
       "Manhattan_Frontinella       37\n",
       "Oswego_Edge                 41\n",
       "Pisaq                       20\n",
       "Portsmouth                  53\n",
       "Potsdam                     81\n",
       "Rochester                    9\n",
       "Schenectady                 23\n",
       "Starburst                   49\n",
       "Troy                        32\n",
       "Wellington                  17\n",
       "unknown                  61317\n",
       "dtype: int64"
      ]
     },
     "execution_count": 66,
     "metadata": {},
     "output_type": "execute_result"
    }
   ],
   "source": [
    "merged.groupby(\"geopy_names\").size()"
   ]
  },
  {
   "cell_type": "code",
   "execution_count": 43,
   "metadata": {},
   "outputs": [
    {
     "data": {
      "text/plain": [
       "geopy_names\n",
       "Albany                    5\n",
       "Atka                      3\n",
       "Bilbao                   12\n",
       "Binghamton                2\n",
       "BuenosAires              14\n",
       "Caterpillar               9\n",
       "Cortland                  1\n",
       "Geneseo                   1\n",
       "Giza                     35\n",
       "Halifax                   3\n",
       "Inca_City                30\n",
       "Inca_City_Ridges         33\n",
       "Ithaca                   50\n",
       "Macclesfield             35\n",
       "Manhattan2               11\n",
       "Manhattan_Classic        45\n",
       "Manhattan_Cracks         13\n",
       "Manhattan_Frontinella    21\n",
       "Oswego_Edge              20\n",
       "Pisaq                     5\n",
       "Portsmouth               11\n",
       "Potsdam                  17\n",
       "Rochester                 4\n",
       "Schenectady               9\n",
       "Starburst                12\n",
       "Troy                      5\n",
       "Wellington                2\n",
       "unknown                  54\n",
       "dtype: int64"
      ]
     },
     "execution_count": 43,
     "metadata": {},
     "output_type": "execute_result"
    }
   ],
   "source": [
    "merged.groupby(\"geopy_names\").size()"
   ]
  },
  {
   "cell_type": "code",
   "execution_count": 67,
   "metadata": {},
   "outputs": [],
   "source": [
    "merged = merged.merge(\n",
    "    meta[[\"OBSERVATION_START_TIME\", \"OBSERVATION_ID\"]],\n",
    "    left_on=\"obsid\",\n",
    "    right_on=\"OBSERVATION_ID\",\n",
    ").drop(\"OBSERVATION_ID\", axis=1)"
   ]
  },
  {
   "cell_type": "code",
   "execution_count": 68,
   "metadata": {},
   "outputs": [],
   "source": [
    "merged.rename({\"OBSERVATION_START_TIME\": \"time\"}, axis=1, inplace=True)"
   ]
  },
  {
   "cell_type": "code",
   "execution_count": 69,
   "metadata": {},
   "outputs": [
    {
     "data": {
      "text/html": [
       "<div>\n",
       "<style scoped>\n",
       "    .dataframe tbody tr th:only-of-type {\n",
       "        vertical-align: middle;\n",
       "    }\n",
       "\n",
       "    .dataframe tbody tr th {\n",
       "        vertical-align: top;\n",
       "    }\n",
       "\n",
       "    .dataframe thead th {\n",
       "        text-align: right;\n",
       "    }\n",
       "</style>\n",
       "<table border=\"1\" class=\"dataframe\">\n",
       "  <thead>\n",
       "    <tr style=\"text-align: right;\">\n",
       "      <th></th>\n",
       "      <th>obsid</th>\n",
       "      <th>lat_IND</th>\n",
       "      <th>lon_IND</th>\n",
       "      <th>geopy_names</th>\n",
       "      <th>minimal_distance</th>\n",
       "      <th>lat_WORD</th>\n",
       "      <th>lon_WORD</th>\n",
       "      <th>time</th>\n",
       "    </tr>\n",
       "  </thead>\n",
       "  <tbody>\n",
       "    <tr>\n",
       "      <th>0</th>\n",
       "      <td>PSP_001330_1395</td>\n",
       "      <td>-40.1045</td>\n",
       "      <td>132.278</td>\n",
       "      <td>unknown</td>\n",
       "      <td>4235.996329</td>\n",
       "      <td>-74.22</td>\n",
       "      <td>168.5</td>\n",
       "      <td>2006-11-08 02:30:23</td>\n",
       "    </tr>\n",
       "    <tr>\n",
       "      <th>1</th>\n",
       "      <td>PSP_001340_1945</td>\n",
       "      <td>14.1640</td>\n",
       "      <td>213.001</td>\n",
       "      <td>unknown</td>\n",
       "      <td>10290.947681</td>\n",
       "      <td>-74.22</td>\n",
       "      <td>168.5</td>\n",
       "      <td>2006-11-08 21:28:15</td>\n",
       "    </tr>\n",
       "    <tr>\n",
       "      <th>2</th>\n",
       "      <td>PSP_001341_2010</td>\n",
       "      <td>20.8079</td>\n",
       "      <td>184.493</td>\n",
       "      <td>unknown</td>\n",
       "      <td>10605.012103</td>\n",
       "      <td>-74.22</td>\n",
       "      <td>168.5</td>\n",
       "      <td>2006-11-08 23:22:29</td>\n",
       "    </tr>\n",
       "    <tr>\n",
       "      <th>3</th>\n",
       "      <td>PSP_001341_2485</td>\n",
       "      <td>68.3594</td>\n",
       "      <td>175.410</td>\n",
       "      <td>unknown</td>\n",
       "      <td>15833.536150</td>\n",
       "      <td>-74.22</td>\n",
       "      <td>168.5</td>\n",
       "      <td>2006-11-08 23:37:32</td>\n",
       "    </tr>\n",
       "    <tr>\n",
       "      <th>4</th>\n",
       "      <td>PSP_001341_2650</td>\n",
       "      <td>84.9654</td>\n",
       "      <td>150.396</td>\n",
       "      <td>unknown</td>\n",
       "      <td>17700.908878</td>\n",
       "      <td>-74.22</td>\n",
       "      <td>168.5</td>\n",
       "      <td>2006-11-08 23:42:56</td>\n",
       "    </tr>\n",
       "    <tr>\n",
       "      <th>5</th>\n",
       "      <td>PSP_001342_1910</td>\n",
       "      <td>10.7420</td>\n",
       "      <td>158.451</td>\n",
       "      <td>unknown</td>\n",
       "      <td>9454.168657</td>\n",
       "      <td>-74.22</td>\n",
       "      <td>168.5</td>\n",
       "      <td>2006-11-09 01:11:29</td>\n",
       "    </tr>\n",
       "    <tr>\n",
       "      <th>6</th>\n",
       "      <td>PSP_001343_1970</td>\n",
       "      <td>16.5792</td>\n",
       "      <td>130.564</td>\n",
       "      <td>unknown</td>\n",
       "      <td>10426.844427</td>\n",
       "      <td>-74.22</td>\n",
       "      <td>168.5</td>\n",
       "      <td>2006-11-09 03:05:25</td>\n",
       "    </tr>\n",
       "    <tr>\n",
       "      <th>7</th>\n",
       "      <td>PSP_001343_2510</td>\n",
       "      <td>70.7793</td>\n",
       "      <td>124.003</td>\n",
       "      <td>unknown</td>\n",
       "      <td>16392.458332</td>\n",
       "      <td>-74.22</td>\n",
       "      <td>168.5</td>\n",
       "      <td>2006-11-09 03:22:33</td>\n",
       "    </tr>\n",
       "    <tr>\n",
       "      <th>8</th>\n",
       "      <td>PSP_001350_2710</td>\n",
       "      <td>88.9874</td>\n",
       "      <td>188.731</td>\n",
       "      <td>unknown</td>\n",
       "      <td>18135.322657</td>\n",
       "      <td>-74.22</td>\n",
       "      <td>168.5</td>\n",
       "      <td>2006-11-09 16:33:29</td>\n",
       "    </tr>\n",
       "    <tr>\n",
       "      <th>9</th>\n",
       "      <td>PSP_001357_2200</td>\n",
       "      <td>39.4768</td>\n",
       "      <td>105.416</td>\n",
       "      <td>unknown</td>\n",
       "      <td>13441.055886</td>\n",
       "      <td>-74.22</td>\n",
       "      <td>168.5</td>\n",
       "      <td>2006-11-10 05:22:16</td>\n",
       "    </tr>\n",
       "    <tr>\n",
       "      <th>10</th>\n",
       "      <td>PSP_001364_2690</td>\n",
       "      <td>88.9811</td>\n",
       "      <td>188.731</td>\n",
       "      <td>unknown</td>\n",
       "      <td>18134.657577</td>\n",
       "      <td>-74.22</td>\n",
       "      <td>168.5</td>\n",
       "      <td>2006-11-10 18:43:00</td>\n",
       "    </tr>\n",
       "    <tr>\n",
       "      <th>11</th>\n",
       "      <td>PSP_001365_2720</td>\n",
       "      <td>88.0653</td>\n",
       "      <td>135.657</td>\n",
       "      <td>unknown</td>\n",
       "      <td>18056.859970</td>\n",
       "      <td>-74.22</td>\n",
       "      <td>168.5</td>\n",
       "      <td>2006-11-10 20:35:19</td>\n",
       "    </tr>\n",
       "    <tr>\n",
       "      <th>12</th>\n",
       "      <td>PSP_001367_1620</td>\n",
       "      <td>-17.7238</td>\n",
       "      <td>199.904</td>\n",
       "      <td>unknown</td>\n",
       "      <td>6566.776817</td>\n",
       "      <td>-74.22</td>\n",
       "      <td>168.5</td>\n",
       "      <td>2006-11-10 23:45:29</td>\n",
       "    </tr>\n",
       "    <tr>\n",
       "      <th>13</th>\n",
       "      <td>PSP_001368_1400</td>\n",
       "      <td>-39.6430</td>\n",
       "      <td>175.970</td>\n",
       "      <td>unknown</td>\n",
       "      <td>3869.997805</td>\n",
       "      <td>-74.22</td>\n",
       "      <td>168.5</td>\n",
       "      <td>2006-11-11 01:30:51</td>\n",
       "    </tr>\n",
       "    <tr>\n",
       "      <th>14</th>\n",
       "      <td>PSP_001370_2505</td>\n",
       "      <td>70.1409</td>\n",
       "      <td>103.002</td>\n",
       "      <td>unknown</td>\n",
       "      <td>16664.753696</td>\n",
       "      <td>-74.22</td>\n",
       "      <td>168.5</td>\n",
       "      <td>2006-11-11 05:49:34</td>\n",
       "    </tr>\n",
       "    <tr>\n",
       "      <th>15</th>\n",
       "      <td>PSP_001378_2640</td>\n",
       "      <td>84.0250</td>\n",
       "      <td>230.068</td>\n",
       "      <td>unknown</td>\n",
       "      <td>17845.125504</td>\n",
       "      <td>-74.22</td>\n",
       "      <td>168.5</td>\n",
       "      <td>2006-11-11 20:50:57</td>\n",
       "    </tr>\n",
       "    <tr>\n",
       "      <th>16</th>\n",
       "      <td>PSP_001379_1985</td>\n",
       "      <td>18.3783</td>\n",
       "      <td>228.302</td>\n",
       "      <td>unknown</td>\n",
       "      <td>11099.980691</td>\n",
       "      <td>-74.22</td>\n",
       "      <td>168.5</td>\n",
       "      <td>2006-11-11 22:22:09</td>\n",
       "    </tr>\n",
       "    <tr>\n",
       "      <th>17</th>\n",
       "      <td>PSP_001379_2680</td>\n",
       "      <td>88.0624</td>\n",
       "      <td>135.644</td>\n",
       "      <td>unknown</td>\n",
       "      <td>18056.602202</td>\n",
       "      <td>-74.22</td>\n",
       "      <td>168.5</td>\n",
       "      <td>2006-11-11 22:44:46</td>\n",
       "    </tr>\n",
       "    <tr>\n",
       "      <th>18</th>\n",
       "      <td>PSP_001380_2520</td>\n",
       "      <td>71.6680</td>\n",
       "      <td>189.930</td>\n",
       "      <td>unknown</td>\n",
       "      <td>16263.062900</td>\n",
       "      <td>-74.22</td>\n",
       "      <td>168.5</td>\n",
       "      <td>2006-11-12 00:31:11</td>\n",
       "    </tr>\n",
       "    <tr>\n",
       "      <th>19</th>\n",
       "      <td>PSP_001381_2485</td>\n",
       "      <td>68.4277</td>\n",
       "      <td>164.177</td>\n",
       "      <td>unknown</td>\n",
       "      <td>15836.471623</td>\n",
       "      <td>-74.22</td>\n",
       "      <td>168.5</td>\n",
       "      <td>2006-11-12 02:22:18</td>\n",
       "    </tr>\n",
       "  </tbody>\n",
       "</table>\n",
       "</div>"
      ],
      "text/plain": [
       "              obsid  lat_IND  lon_IND geopy_names  minimal_distance  lat_WORD  \\\n",
       "0   PSP_001330_1395 -40.1045  132.278     unknown       4235.996329    -74.22   \n",
       "1   PSP_001340_1945  14.1640  213.001     unknown      10290.947681    -74.22   \n",
       "2   PSP_001341_2010  20.8079  184.493     unknown      10605.012103    -74.22   \n",
       "3   PSP_001341_2485  68.3594  175.410     unknown      15833.536150    -74.22   \n",
       "4   PSP_001341_2650  84.9654  150.396     unknown      17700.908878    -74.22   \n",
       "5   PSP_001342_1910  10.7420  158.451     unknown       9454.168657    -74.22   \n",
       "6   PSP_001343_1970  16.5792  130.564     unknown      10426.844427    -74.22   \n",
       "7   PSP_001343_2510  70.7793  124.003     unknown      16392.458332    -74.22   \n",
       "8   PSP_001350_2710  88.9874  188.731     unknown      18135.322657    -74.22   \n",
       "9   PSP_001357_2200  39.4768  105.416     unknown      13441.055886    -74.22   \n",
       "10  PSP_001364_2690  88.9811  188.731     unknown      18134.657577    -74.22   \n",
       "11  PSP_001365_2720  88.0653  135.657     unknown      18056.859970    -74.22   \n",
       "12  PSP_001367_1620 -17.7238  199.904     unknown       6566.776817    -74.22   \n",
       "13  PSP_001368_1400 -39.6430  175.970     unknown       3869.997805    -74.22   \n",
       "14  PSP_001370_2505  70.1409  103.002     unknown      16664.753696    -74.22   \n",
       "15  PSP_001378_2640  84.0250  230.068     unknown      17845.125504    -74.22   \n",
       "16  PSP_001379_1985  18.3783  228.302     unknown      11099.980691    -74.22   \n",
       "17  PSP_001379_2680  88.0624  135.644     unknown      18056.602202    -74.22   \n",
       "18  PSP_001380_2520  71.6680  189.930     unknown      16263.062900    -74.22   \n",
       "19  PSP_001381_2485  68.4277  164.177     unknown      15836.471623    -74.22   \n",
       "\n",
       "    lon_WORD                time  \n",
       "0      168.5 2006-11-08 02:30:23  \n",
       "1      168.5 2006-11-08 21:28:15  \n",
       "2      168.5 2006-11-08 23:22:29  \n",
       "3      168.5 2006-11-08 23:37:32  \n",
       "4      168.5 2006-11-08 23:42:56  \n",
       "5      168.5 2006-11-09 01:11:29  \n",
       "6      168.5 2006-11-09 03:05:25  \n",
       "7      168.5 2006-11-09 03:22:33  \n",
       "8      168.5 2006-11-09 16:33:29  \n",
       "9      168.5 2006-11-10 05:22:16  \n",
       "10     168.5 2006-11-10 18:43:00  \n",
       "11     168.5 2006-11-10 20:35:19  \n",
       "12     168.5 2006-11-10 23:45:29  \n",
       "13     168.5 2006-11-11 01:30:51  \n",
       "14     168.5 2006-11-11 05:49:34  \n",
       "15     168.5 2006-11-11 20:50:57  \n",
       "16     168.5 2006-11-11 22:22:09  \n",
       "17     168.5 2006-11-11 22:44:46  \n",
       "18     168.5 2006-11-12 00:31:11  \n",
       "19     168.5 2006-11-12 02:22:18  "
      ]
     },
     "execution_count": 69,
     "metadata": {},
     "output_type": "execute_result"
    }
   ],
   "source": [
    "merged.head(20)"
   ]
  },
  {
   "cell_type": "code",
   "execution_count": 70,
   "metadata": {},
   "outputs": [
    {
     "data": {
      "text/html": [
       "<div>\n",
       "<style scoped>\n",
       "    .dataframe tbody tr th:only-of-type {\n",
       "        vertical-align: middle;\n",
       "    }\n",
       "\n",
       "    .dataframe tbody tr th {\n",
       "        vertical-align: top;\n",
       "    }\n",
       "\n",
       "    .dataframe thead th {\n",
       "        text-align: right;\n",
       "    }\n",
       "</style>\n",
       "<table border=\"1\" class=\"dataframe\">\n",
       "  <thead>\n",
       "    <tr style=\"text-align: right;\">\n",
       "      <th></th>\n",
       "      <th>obsid</th>\n",
       "      <th>lat_IND</th>\n",
       "      <th>lon_IND</th>\n",
       "      <th>geopy_names</th>\n",
       "      <th>minimal_distance</th>\n",
       "      <th>lat_WORD</th>\n",
       "      <th>lon_WORD</th>\n",
       "      <th>time</th>\n",
       "    </tr>\n",
       "  </thead>\n",
       "  <tbody>\n",
       "    <tr>\n",
       "      <th>61571</th>\n",
       "      <td>PSP_002622_0945</td>\n",
       "      <td>-85.2109</td>\n",
       "      <td>181.474</td>\n",
       "      <td>Ithaca</td>\n",
       "      <td>11.777760</td>\n",
       "      <td>-85.128</td>\n",
       "      <td>180.7</td>\n",
       "      <td>2007-02-16 17:45:48</td>\n",
       "    </tr>\n",
       "    <tr>\n",
       "      <th>61572</th>\n",
       "      <td>PSP_002675_0945</td>\n",
       "      <td>-85.2228</td>\n",
       "      <td>181.616</td>\n",
       "      <td>Ithaca</td>\n",
       "      <td>13.643163</td>\n",
       "      <td>-85.128</td>\n",
       "      <td>180.7</td>\n",
       "      <td>2007-02-20 20:52:43</td>\n",
       "    </tr>\n",
       "    <tr>\n",
       "      <th>61573</th>\n",
       "      <td>PSP_002820_0945</td>\n",
       "      <td>-85.2078</td>\n",
       "      <td>181.466</td>\n",
       "      <td>Ithaca</td>\n",
       "      <td>11.461588</td>\n",
       "      <td>-85.128</td>\n",
       "      <td>180.7</td>\n",
       "      <td>2007-03-04 04:03:00</td>\n",
       "    </tr>\n",
       "    <tr>\n",
       "      <th>61574</th>\n",
       "      <td>PSP_003176_0945</td>\n",
       "      <td>-85.2077</td>\n",
       "      <td>181.478</td>\n",
       "      <td>Ithaca</td>\n",
       "      <td>11.524325</td>\n",
       "      <td>-85.128</td>\n",
       "      <td>180.7</td>\n",
       "      <td>2007-03-31 21:48:06</td>\n",
       "    </tr>\n",
       "    <tr>\n",
       "      <th>61575</th>\n",
       "      <td>PSP_003193_0850</td>\n",
       "      <td>-85.1614</td>\n",
       "      <td>180.033</td>\n",
       "      <td>Ithaca</td>\n",
       "      <td>7.326217</td>\n",
       "      <td>-85.128</td>\n",
       "      <td>180.7</td>\n",
       "      <td>2007-04-02 05:33:10</td>\n",
       "    </tr>\n",
       "    <tr>\n",
       "      <th>...</th>\n",
       "      <td>...</td>\n",
       "      <td>...</td>\n",
       "      <td>...</td>\n",
       "      <td>...</td>\n",
       "      <td>...</td>\n",
       "      <td>...</td>\n",
       "      <td>...</td>\n",
       "      <td>...</td>\n",
       "    </tr>\n",
       "    <tr>\n",
       "      <th>61716</th>\n",
       "      <td>ESP_056699_0950</td>\n",
       "      <td>-85.0537</td>\n",
       "      <td>180.282</td>\n",
       "      <td>Ithaca</td>\n",
       "      <td>9.209898</td>\n",
       "      <td>-85.128</td>\n",
       "      <td>180.7</td>\n",
       "      <td>2018-08-31 11:29:46</td>\n",
       "    </tr>\n",
       "    <tr>\n",
       "      <th>61717</th>\n",
       "      <td>ESP_056901_0855</td>\n",
       "      <td>-85.3044</td>\n",
       "      <td>180.898</td>\n",
       "      <td>Ithaca</td>\n",
       "      <td>19.787539</td>\n",
       "      <td>-85.128</td>\n",
       "      <td>180.7</td>\n",
       "      <td>2018-09-16 05:09:04</td>\n",
       "    </tr>\n",
       "    <tr>\n",
       "      <th>61718</th>\n",
       "      <td>ESP_056963_0945</td>\n",
       "      <td>-85.3674</td>\n",
       "      <td>176.565</td>\n",
       "      <td>Ithaca</td>\n",
       "      <td>46.662610</td>\n",
       "      <td>-85.128</td>\n",
       "      <td>180.7</td>\n",
       "      <td>2018-09-21 01:06:49</td>\n",
       "    </tr>\n",
       "    <tr>\n",
       "      <th>61719</th>\n",
       "      <td>ESP_056976_0950</td>\n",
       "      <td>-85.3124</td>\n",
       "      <td>180.903</td>\n",
       "      <td>Ithaca</td>\n",
       "      <td>20.681368</td>\n",
       "      <td>-85.128</td>\n",
       "      <td>180.7</td>\n",
       "      <td>2018-09-22 01:25:17</td>\n",
       "    </tr>\n",
       "    <tr>\n",
       "      <th>61720</th>\n",
       "      <td>ESP_057055_0950</td>\n",
       "      <td>-85.0591</td>\n",
       "      <td>180.314</td>\n",
       "      <td>Ithaca</td>\n",
       "      <td>8.532964</td>\n",
       "      <td>-85.128</td>\n",
       "      <td>180.7</td>\n",
       "      <td>2018-09-28 05:07:43</td>\n",
       "    </tr>\n",
       "  </tbody>\n",
       "</table>\n",
       "<p>70 rows × 8 columns</p>\n",
       "</div>"
      ],
      "text/plain": [
       "                 obsid  lat_IND  lon_IND geopy_names  minimal_distance  \\\n",
       "61571  PSP_002622_0945 -85.2109  181.474      Ithaca         11.777760   \n",
       "61572  PSP_002675_0945 -85.2228  181.616      Ithaca         13.643163   \n",
       "61573  PSP_002820_0945 -85.2078  181.466      Ithaca         11.461588   \n",
       "61574  PSP_003176_0945 -85.2077  181.478      Ithaca         11.524325   \n",
       "61575  PSP_003193_0850 -85.1614  180.033      Ithaca          7.326217   \n",
       "...                ...      ...      ...         ...               ...   \n",
       "61716  ESP_056699_0950 -85.0537  180.282      Ithaca          9.209898   \n",
       "61717  ESP_056901_0855 -85.3044  180.898      Ithaca         19.787539   \n",
       "61718  ESP_056963_0945 -85.3674  176.565      Ithaca         46.662610   \n",
       "61719  ESP_056976_0950 -85.3124  180.903      Ithaca         20.681368   \n",
       "61720  ESP_057055_0950 -85.0591  180.314      Ithaca          8.532964   \n",
       "\n",
       "       lat_WORD  lon_WORD                time  \n",
       "61571   -85.128     180.7 2007-02-16 17:45:48  \n",
       "61572   -85.128     180.7 2007-02-20 20:52:43  \n",
       "61573   -85.128     180.7 2007-03-04 04:03:00  \n",
       "61574   -85.128     180.7 2007-03-31 21:48:06  \n",
       "61575   -85.128     180.7 2007-04-02 05:33:10  \n",
       "...         ...       ...                 ...  \n",
       "61716   -85.128     180.7 2018-08-31 11:29:46  \n",
       "61717   -85.128     180.7 2018-09-16 05:09:04  \n",
       "61718   -85.128     180.7 2018-09-21 01:06:49  \n",
       "61719   -85.128     180.7 2018-09-22 01:25:17  \n",
       "61720   -85.128     180.7 2018-09-28 05:07:43  \n",
       "\n",
       "[70 rows x 8 columns]"
      ]
     },
     "execution_count": 70,
     "metadata": {},
     "output_type": "execute_result"
    }
   ],
   "source": [
    "merged.query(\"geopy_names == 'Ithaca'\")"
   ]
  },
  {
   "cell_type": "code",
   "execution_count": 71,
   "metadata": {},
   "outputs": [],
   "source": [
    "from planet4 import stats"
   ]
  },
  {
   "cell_type": "code",
   "execution_count": 72,
   "metadata": {},
   "outputs": [],
   "source": [
    "stats.define_martian_year(merged, \"time\")"
   ]
  },
  {
   "cell_type": "code",
   "execution_count": 73,
   "metadata": {},
   "outputs": [
    {
     "data": {
      "text/plain": [
       "34    11437\n",
       "33    10289\n",
       "31     9772\n",
       "32     9325\n",
       "30     8185\n",
       "29     7877\n",
       "28     3790\n",
       "35     1716\n",
       "Name: MY, dtype: int64"
      ]
     },
     "execution_count": 73,
     "metadata": {},
     "output_type": "execute_result"
    }
   ],
   "source": [
    "merged.MY.value_counts()"
   ]
  },
  {
   "cell_type": "code",
   "execution_count": 74,
   "metadata": {},
   "outputs": [
    {
     "data": {
      "text/plain": [
       "(62391, 9)"
      ]
     },
     "execution_count": 74,
     "metadata": {},
     "output_type": "execute_result"
    }
   ],
   "source": [
    "merged.shape"
   ]
  },
  {
   "cell_type": "code",
   "execution_count": 34,
   "metadata": {},
   "outputs": [],
   "source": [
    "merged.to_csv(\n",
    "    \"/Users/klay6683/Dropbox/data/planet4/p4_analysis/obsid_region_names.csv\",\n",
    "    index=False,\n",
    ")"
   ]
  },
  {
   "cell_type": "code",
   "execution_count": 33,
   "metadata": {},
   "outputs": [],
   "source": [
    "pd.set_option(\"display.max_rows\", 100)"
   ]
  },
  {
   "cell_type": "code",
   "execution_count": 78,
   "metadata": {},
   "outputs": [],
   "source": [
    "merged = merged[merged.geopy_names != \"unknown\"]"
   ]
  },
  {
   "cell_type": "code",
   "execution_count": 88,
   "metadata": {},
   "outputs": [
    {
     "data": {
      "text/plain": [
       "29    176\n",
       "28    168\n",
       "31    166\n",
       "34    159\n",
       "30    153\n",
       "32    128\n",
       "33    124\n",
       "Name: MY, dtype: int64"
      ]
     },
     "execution_count": 88,
     "metadata": {},
     "output_type": "execute_result"
    }
   ],
   "source": [
    "merged[\"MY\"].value_counts()"
   ]
  },
  {
   "cell_type": "code",
   "execution_count": 89,
   "metadata": {},
   "outputs": [],
   "source": [
    "merged[\"MY28\"] = merged.MY == 28"
   ]
  },
  {
   "cell_type": "code",
   "execution_count": 109,
   "metadata": {},
   "outputs": [],
   "source": [
    "hirise_data = merged.groupby([\"geopy_names\", \"MY\"]).size().unstack(\"MY\")"
   ]
  },
  {
   "cell_type": "code",
   "execution_count": 75,
   "metadata": {},
   "outputs": [],
   "source": [
    "to_plot2 = merged.groupby([\"geopy_names\", \"MY\"]).size().unstack(\"MY\")"
   ]
  },
  {
   "cell_type": "code",
   "execution_count": 117,
   "metadata": {},
   "outputs": [],
   "source": [
    "hirise_data.fillna(0).astype(\"int\").to_csv(\n",
    "    \"/Users/klay6683/Dropbox/SternchenAndMe/proposals/2019-11-20-MDAP-P4/all_hirise_data.csv\"\n",
    ")"
   ]
  },
  {
   "cell_type": "code",
   "execution_count": null,
   "metadata": {},
   "outputs": [],
   "source": []
  },
  {
   "cell_type": "code",
   "execution_count": null,
   "metadata": {},
   "outputs": [],
   "source": []
  },
  {
   "cell_type": "code",
   "execution_count": 36,
   "metadata": {},
   "outputs": [
    {
     "data": {
      "text/plain": [
       "28    51\n",
       "29     3\n",
       "Name: MY, dtype: int64"
      ]
     },
     "execution_count": 36,
     "metadata": {},
     "output_type": "execute_result"
    }
   ],
   "source": [
    "merged.loc[merged.geopy_names == \"unknown\"].MY.value_counts()"
   ]
  },
  {
   "cell_type": "code",
   "execution_count": 37,
   "metadata": {},
   "outputs": [
    {
     "data": {
      "text/html": [
       "<div>\n",
       "<style scoped>\n",
       "    .dataframe tbody tr th:only-of-type {\n",
       "        vertical-align: middle;\n",
       "    }\n",
       "\n",
       "    .dataframe tbody tr th {\n",
       "        vertical-align: top;\n",
       "    }\n",
       "\n",
       "    .dataframe thead th {\n",
       "        text-align: right;\n",
       "    }\n",
       "</style>\n",
       "<table border=\"1\" class=\"dataframe\">\n",
       "  <thead>\n",
       "    <tr style=\"text-align: right;\">\n",
       "      <th></th>\n",
       "      <th>lat_IND</th>\n",
       "      <th>lon_IND</th>\n",
       "      <th>MY</th>\n",
       "    </tr>\n",
       "  </thead>\n",
       "  <tbody>\n",
       "    <tr>\n",
       "      <th>14</th>\n",
       "      <td>-84.2131</td>\n",
       "      <td>118.5620</td>\n",
       "      <td>28</td>\n",
       "    </tr>\n",
       "    <tr>\n",
       "      <th>16</th>\n",
       "      <td>-84.5605</td>\n",
       "      <td>119.1830</td>\n",
       "      <td>28</td>\n",
       "    </tr>\n",
       "    <tr>\n",
       "      <th>19</th>\n",
       "      <td>-84.5618</td>\n",
       "      <td>119.2030</td>\n",
       "      <td>28</td>\n",
       "    </tr>\n",
       "    <tr>\n",
       "      <th>26</th>\n",
       "      <td>-84.6815</td>\n",
       "      <td>118.6010</td>\n",
       "      <td>28</td>\n",
       "    </tr>\n",
       "    <tr>\n",
       "      <th>29</th>\n",
       "      <td>-84.6916</td>\n",
       "      <td>118.5470</td>\n",
       "      <td>28</td>\n",
       "    </tr>\n",
       "    <tr>\n",
       "      <th>30</th>\n",
       "      <td>-84.6947</td>\n",
       "      <td>118.5780</td>\n",
       "      <td>28</td>\n",
       "    </tr>\n",
       "    <tr>\n",
       "      <th>31</th>\n",
       "      <td>-84.5610</td>\n",
       "      <td>119.1810</td>\n",
       "      <td>28</td>\n",
       "    </tr>\n",
       "    <tr>\n",
       "      <th>33</th>\n",
       "      <td>-84.5473</td>\n",
       "      <td>119.1050</td>\n",
       "      <td>28</td>\n",
       "    </tr>\n",
       "    <tr>\n",
       "      <th>35</th>\n",
       "      <td>-84.6301</td>\n",
       "      <td>117.3430</td>\n",
       "      <td>28</td>\n",
       "    </tr>\n",
       "    <tr>\n",
       "      <th>48</th>\n",
       "      <td>-82.5135</td>\n",
       "      <td>80.0473</td>\n",
       "      <td>29</td>\n",
       "    </tr>\n",
       "    <tr>\n",
       "      <th>51</th>\n",
       "      <td>-82.5184</td>\n",
       "      <td>80.0468</td>\n",
       "      <td>29</td>\n",
       "    </tr>\n",
       "    <tr>\n",
       "      <th>105</th>\n",
       "      <td>-68.9785</td>\n",
       "      <td>241.7860</td>\n",
       "      <td>28</td>\n",
       "    </tr>\n",
       "    <tr>\n",
       "      <th>122</th>\n",
       "      <td>-86.8245</td>\n",
       "      <td>147.0400</td>\n",
       "      <td>28</td>\n",
       "    </tr>\n",
       "    <tr>\n",
       "      <th>232</th>\n",
       "      <td>-82.3136</td>\n",
       "      <td>306.0470</td>\n",
       "      <td>29</td>\n",
       "    </tr>\n",
       "    <tr>\n",
       "      <th>338</th>\n",
       "      <td>-84.2601</td>\n",
       "      <td>242.0500</td>\n",
       "      <td>28</td>\n",
       "    </tr>\n",
       "    <tr>\n",
       "      <th>339</th>\n",
       "      <td>-84.4662</td>\n",
       "      <td>244.5640</td>\n",
       "      <td>28</td>\n",
       "    </tr>\n",
       "    <tr>\n",
       "      <th>340</th>\n",
       "      <td>-84.2166</td>\n",
       "      <td>241.3840</td>\n",
       "      <td>28</td>\n",
       "    </tr>\n",
       "    <tr>\n",
       "      <th>341</th>\n",
       "      <td>-84.2533</td>\n",
       "      <td>242.0080</td>\n",
       "      <td>28</td>\n",
       "    </tr>\n",
       "    <tr>\n",
       "      <th>342</th>\n",
       "      <td>-84.4793</td>\n",
       "      <td>244.5350</td>\n",
       "      <td>28</td>\n",
       "    </tr>\n",
       "    <tr>\n",
       "      <th>343</th>\n",
       "      <td>-84.2605</td>\n",
       "      <td>242.0550</td>\n",
       "      <td>28</td>\n",
       "    </tr>\n",
       "    <tr>\n",
       "      <th>344</th>\n",
       "      <td>-84.2630</td>\n",
       "      <td>242.0690</td>\n",
       "      <td>28</td>\n",
       "    </tr>\n",
       "    <tr>\n",
       "      <th>345</th>\n",
       "      <td>-84.2649</td>\n",
       "      <td>242.0800</td>\n",
       "      <td>28</td>\n",
       "    </tr>\n",
       "    <tr>\n",
       "      <th>346</th>\n",
       "      <td>-84.2613</td>\n",
       "      <td>242.0490</td>\n",
       "      <td>28</td>\n",
       "    </tr>\n",
       "    <tr>\n",
       "      <th>347</th>\n",
       "      <td>-84.2633</td>\n",
       "      <td>242.0650</td>\n",
       "      <td>28</td>\n",
       "    </tr>\n",
       "    <tr>\n",
       "      <th>348</th>\n",
       "      <td>-84.2584</td>\n",
       "      <td>242.0460</td>\n",
       "      <td>28</td>\n",
       "    </tr>\n",
       "    <tr>\n",
       "      <th>349</th>\n",
       "      <td>-84.2583</td>\n",
       "      <td>242.0660</td>\n",
       "      <td>28</td>\n",
       "    </tr>\n",
       "    <tr>\n",
       "      <th>375</th>\n",
       "      <td>-69.7498</td>\n",
       "      <td>153.6040</td>\n",
       "      <td>28</td>\n",
       "    </tr>\n",
       "    <tr>\n",
       "      <th>387</th>\n",
       "      <td>-77.5610</td>\n",
       "      <td>131.9900</td>\n",
       "      <td>28</td>\n",
       "    </tr>\n",
       "    <tr>\n",
       "      <th>388</th>\n",
       "      <td>-77.5638</td>\n",
       "      <td>131.9940</td>\n",
       "      <td>28</td>\n",
       "    </tr>\n",
       "    <tr>\n",
       "      <th>389</th>\n",
       "      <td>-77.5573</td>\n",
       "      <td>131.9900</td>\n",
       "      <td>28</td>\n",
       "    </tr>\n",
       "    <tr>\n",
       "      <th>390</th>\n",
       "      <td>-77.5569</td>\n",
       "      <td>131.9890</td>\n",
       "      <td>28</td>\n",
       "    </tr>\n",
       "    <tr>\n",
       "      <th>415</th>\n",
       "      <td>-69.2528</td>\n",
       "      <td>355.9350</td>\n",
       "      <td>28</td>\n",
       "    </tr>\n",
       "    <tr>\n",
       "      <th>416</th>\n",
       "      <td>-69.0605</td>\n",
       "      <td>350.7260</td>\n",
       "      <td>28</td>\n",
       "    </tr>\n",
       "    <tr>\n",
       "      <th>417</th>\n",
       "      <td>-69.2083</td>\n",
       "      <td>355.8740</td>\n",
       "      <td>28</td>\n",
       "    </tr>\n",
       "    <tr>\n",
       "      <th>418</th>\n",
       "      <td>-69.0451</td>\n",
       "      <td>350.7460</td>\n",
       "      <td>28</td>\n",
       "    </tr>\n",
       "    <tr>\n",
       "      <th>422</th>\n",
       "      <td>-86.5070</td>\n",
       "      <td>157.9950</td>\n",
       "      <td>28</td>\n",
       "    </tr>\n",
       "    <tr>\n",
       "      <th>423</th>\n",
       "      <td>-85.7732</td>\n",
       "      <td>166.1400</td>\n",
       "      <td>28</td>\n",
       "    </tr>\n",
       "    <tr>\n",
       "      <th>424</th>\n",
       "      <td>-86.5078</td>\n",
       "      <td>158.0160</td>\n",
       "      <td>28</td>\n",
       "    </tr>\n",
       "    <tr>\n",
       "      <th>425</th>\n",
       "      <td>-86.5059</td>\n",
       "      <td>157.9870</td>\n",
       "      <td>28</td>\n",
       "    </tr>\n",
       "    <tr>\n",
       "      <th>426</th>\n",
       "      <td>-86.5028</td>\n",
       "      <td>158.0430</td>\n",
       "      <td>28</td>\n",
       "    </tr>\n",
       "    <tr>\n",
       "      <th>427</th>\n",
       "      <td>-86.5053</td>\n",
       "      <td>157.9700</td>\n",
       "      <td>28</td>\n",
       "    </tr>\n",
       "    <tr>\n",
       "      <th>430</th>\n",
       "      <td>-85.4636</td>\n",
       "      <td>81.3679</td>\n",
       "      <td>28</td>\n",
       "    </tr>\n",
       "    <tr>\n",
       "      <th>431</th>\n",
       "      <td>-84.7661</td>\n",
       "      <td>81.9467</td>\n",
       "      <td>28</td>\n",
       "    </tr>\n",
       "    <tr>\n",
       "      <th>432</th>\n",
       "      <td>-85.4572</td>\n",
       "      <td>83.5012</td>\n",
       "      <td>28</td>\n",
       "    </tr>\n",
       "    <tr>\n",
       "      <th>433</th>\n",
       "      <td>-85.4616</td>\n",
       "      <td>83.4716</td>\n",
       "      <td>28</td>\n",
       "    </tr>\n",
       "    <tr>\n",
       "      <th>434</th>\n",
       "      <td>-85.4501</td>\n",
       "      <td>83.4314</td>\n",
       "      <td>28</td>\n",
       "    </tr>\n",
       "    <tr>\n",
       "      <th>435</th>\n",
       "      <td>-85.4560</td>\n",
       "      <td>83.4827</td>\n",
       "      <td>28</td>\n",
       "    </tr>\n",
       "    <tr>\n",
       "      <th>436</th>\n",
       "      <td>-85.4086</td>\n",
       "      <td>82.6734</td>\n",
       "      <td>28</td>\n",
       "    </tr>\n",
       "    <tr>\n",
       "      <th>437</th>\n",
       "      <td>-85.4107</td>\n",
       "      <td>82.6774</td>\n",
       "      <td>28</td>\n",
       "    </tr>\n",
       "    <tr>\n",
       "      <th>438</th>\n",
       "      <td>-85.4637</td>\n",
       "      <td>83.5576</td>\n",
       "      <td>28</td>\n",
       "    </tr>\n",
       "    <tr>\n",
       "      <th>439</th>\n",
       "      <td>-85.4653</td>\n",
       "      <td>83.5681</td>\n",
       "      <td>28</td>\n",
       "    </tr>\n",
       "    <tr>\n",
       "      <th>440</th>\n",
       "      <td>-85.4622</td>\n",
       "      <td>83.5268</td>\n",
       "      <td>28</td>\n",
       "    </tr>\n",
       "    <tr>\n",
       "      <th>441</th>\n",
       "      <td>-85.4593</td>\n",
       "      <td>83.5156</td>\n",
       "      <td>28</td>\n",
       "    </tr>\n",
       "    <tr>\n",
       "      <th>444</th>\n",
       "      <td>-84.8225</td>\n",
       "      <td>120.1380</td>\n",
       "      <td>28</td>\n",
       "    </tr>\n",
       "  </tbody>\n",
       "</table>\n",
       "</div>"
      ],
      "text/plain": [
       "     lat_IND   lon_IND  MY\n",
       "14  -84.2131  118.5620  28\n",
       "16  -84.5605  119.1830  28\n",
       "19  -84.5618  119.2030  28\n",
       "26  -84.6815  118.6010  28\n",
       "29  -84.6916  118.5470  28\n",
       "30  -84.6947  118.5780  28\n",
       "31  -84.5610  119.1810  28\n",
       "33  -84.5473  119.1050  28\n",
       "35  -84.6301  117.3430  28\n",
       "48  -82.5135   80.0473  29\n",
       "51  -82.5184   80.0468  29\n",
       "105 -68.9785  241.7860  28\n",
       "122 -86.8245  147.0400  28\n",
       "232 -82.3136  306.0470  29\n",
       "338 -84.2601  242.0500  28\n",
       "339 -84.4662  244.5640  28\n",
       "340 -84.2166  241.3840  28\n",
       "341 -84.2533  242.0080  28\n",
       "342 -84.4793  244.5350  28\n",
       "343 -84.2605  242.0550  28\n",
       "344 -84.2630  242.0690  28\n",
       "345 -84.2649  242.0800  28\n",
       "346 -84.2613  242.0490  28\n",
       "347 -84.2633  242.0650  28\n",
       "348 -84.2584  242.0460  28\n",
       "349 -84.2583  242.0660  28\n",
       "375 -69.7498  153.6040  28\n",
       "387 -77.5610  131.9900  28\n",
       "388 -77.5638  131.9940  28\n",
       "389 -77.5573  131.9900  28\n",
       "390 -77.5569  131.9890  28\n",
       "415 -69.2528  355.9350  28\n",
       "416 -69.0605  350.7260  28\n",
       "417 -69.2083  355.8740  28\n",
       "418 -69.0451  350.7460  28\n",
       "422 -86.5070  157.9950  28\n",
       "423 -85.7732  166.1400  28\n",
       "424 -86.5078  158.0160  28\n",
       "425 -86.5059  157.9870  28\n",
       "426 -86.5028  158.0430  28\n",
       "427 -86.5053  157.9700  28\n",
       "430 -85.4636   81.3679  28\n",
       "431 -84.7661   81.9467  28\n",
       "432 -85.4572   83.5012  28\n",
       "433 -85.4616   83.4716  28\n",
       "434 -85.4501   83.4314  28\n",
       "435 -85.4560   83.4827  28\n",
       "436 -85.4086   82.6734  28\n",
       "437 -85.4107   82.6774  28\n",
       "438 -85.4637   83.5576  28\n",
       "439 -85.4653   83.5681  28\n",
       "440 -85.4622   83.5268  28\n",
       "441 -85.4593   83.5156  28\n",
       "444 -84.8225  120.1380  28"
      ]
     },
     "execution_count": 37,
     "metadata": {},
     "output_type": "execute_result"
    }
   ],
   "source": [
    "merged[merged.geopy_names == \"unknown\"][[\"lat_IND\", \"lon_IND\", \"MY\"]]"
   ]
  },
  {
   "cell_type": "code",
   "execution_count": null,
   "metadata": {},
   "outputs": [],
   "source": []
  },
  {
   "cell_type": "code",
   "execution_count": 38,
   "metadata": {},
   "outputs": [],
   "source": [
    "to_plot = to_plot[to_plot.MY < 33]"
   ]
  },
  {
   "cell_type": "code",
   "execution_count": 39,
   "metadata": {},
   "outputs": [],
   "source": [
    "merged[merged.geopy_names == \"unknown\"][\n",
    "    [\"MY\", \"obsid\", \"lat_IND\", \"lon_IND\"]\n",
    "].to_csv(\"unknowns.csv\", index=False)"
   ]
  },
  {
   "cell_type": "code",
   "execution_count": 40,
   "metadata": {},
   "outputs": [],
   "source": [
    "to_plot.columns = [\"name\", \"MY\", \"count\"]"
   ]
  },
  {
   "cell_type": "code",
   "execution_count": 41,
   "metadata": {},
   "outputs": [
    {
     "data": {
      "text/html": [
       "<div>\n",
       "<style scoped>\n",
       "    .dataframe tbody tr th:only-of-type {\n",
       "        vertical-align: middle;\n",
       "    }\n",
       "\n",
       "    .dataframe tbody tr th {\n",
       "        vertical-align: top;\n",
       "    }\n",
       "\n",
       "    .dataframe thead th {\n",
       "        text-align: right;\n",
       "    }\n",
       "</style>\n",
       "<table border=\"1\" class=\"dataframe\">\n",
       "  <thead>\n",
       "    <tr style=\"text-align: right;\">\n",
       "      <th>MY</th>\n",
       "      <th>28</th>\n",
       "      <th>29</th>\n",
       "      <th>30</th>\n",
       "      <th>31</th>\n",
       "      <th>32</th>\n",
       "    </tr>\n",
       "    <tr>\n",
       "      <th>geopy_names</th>\n",
       "      <th></th>\n",
       "      <th></th>\n",
       "      <th></th>\n",
       "      <th></th>\n",
       "      <th></th>\n",
       "    </tr>\n",
       "  </thead>\n",
       "  <tbody>\n",
       "    <tr>\n",
       "      <th>Albany</th>\n",
       "      <td>NaN</td>\n",
       "      <td>5.0</td>\n",
       "      <td>NaN</td>\n",
       "      <td>NaN</td>\n",
       "      <td>NaN</td>\n",
       "    </tr>\n",
       "    <tr>\n",
       "      <th>Atka</th>\n",
       "      <td>NaN</td>\n",
       "      <td>3.0</td>\n",
       "      <td>NaN</td>\n",
       "      <td>NaN</td>\n",
       "      <td>NaN</td>\n",
       "    </tr>\n",
       "    <tr>\n",
       "      <th>Bilbao</th>\n",
       "      <td>2.0</td>\n",
       "      <td>7.0</td>\n",
       "      <td>3.0</td>\n",
       "      <td>NaN</td>\n",
       "      <td>NaN</td>\n",
       "    </tr>\n",
       "    <tr>\n",
       "      <th>Binghamton</th>\n",
       "      <td>NaN</td>\n",
       "      <td>2.0</td>\n",
       "      <td>NaN</td>\n",
       "      <td>NaN</td>\n",
       "      <td>NaN</td>\n",
       "    </tr>\n",
       "    <tr>\n",
       "      <th>BuenosAires</th>\n",
       "      <td>NaN</td>\n",
       "      <td>7.0</td>\n",
       "      <td>7.0</td>\n",
       "      <td>NaN</td>\n",
       "      <td>NaN</td>\n",
       "    </tr>\n",
       "  </tbody>\n",
       "</table>\n",
       "</div>"
      ],
      "text/plain": [
       "MY            28   29   30  31  32\n",
       "geopy_names                       \n",
       "Albany       NaN  5.0  NaN NaN NaN\n",
       "Atka         NaN  3.0  NaN NaN NaN\n",
       "Bilbao       2.0  7.0  3.0 NaN NaN\n",
       "Binghamton   NaN  2.0  NaN NaN NaN\n",
       "BuenosAires  NaN  7.0  7.0 NaN NaN"
      ]
     },
     "execution_count": 41,
     "metadata": {},
     "output_type": "execute_result"
    }
   ],
   "source": [
    "to_plot2.head()"
   ]
  },
  {
   "cell_type": "code",
   "execution_count": 42,
   "metadata": {},
   "outputs": [],
   "source": [
    "to_plot2 = to_plot2.reset_index()"
   ]
  },
  {
   "cell_type": "code",
   "execution_count": 43,
   "metadata": {},
   "outputs": [
    {
     "ename": "KeyError",
     "evalue": "False",
     "output_type": "error",
     "traceback": [
      "\u001b[0;31m---------------------------------------------------------------------------\u001b[0m",
      "\u001b[0;31mKeyError\u001b[0m                                  Traceback (most recent call last)",
      "\u001b[0;32m~/miniconda3/envs/py37/lib/python3.7/site-packages/pandas/core/indexes/base.py\u001b[0m in \u001b[0;36mget_loc\u001b[0;34m(self, key, method, tolerance)\u001b[0m\n\u001b[1;32m   3077\u001b[0m             \u001b[0;32mtry\u001b[0m\u001b[0;34m:\u001b[0m\u001b[0;34m\u001b[0m\u001b[0;34m\u001b[0m\u001b[0m\n\u001b[0;32m-> 3078\u001b[0;31m                 \u001b[0;32mreturn\u001b[0m \u001b[0mself\u001b[0m\u001b[0;34m.\u001b[0m\u001b[0m_engine\u001b[0m\u001b[0;34m.\u001b[0m\u001b[0mget_loc\u001b[0m\u001b[0;34m(\u001b[0m\u001b[0mkey\u001b[0m\u001b[0;34m)\u001b[0m\u001b[0;34m\u001b[0m\u001b[0;34m\u001b[0m\u001b[0m\n\u001b[0m\u001b[1;32m   3079\u001b[0m             \u001b[0;32mexcept\u001b[0m \u001b[0mKeyError\u001b[0m\u001b[0;34m:\u001b[0m\u001b[0;34m\u001b[0m\u001b[0;34m\u001b[0m\u001b[0m\n",
      "\u001b[0;32mpandas/_libs/index.pyx\u001b[0m in \u001b[0;36mpandas._libs.index.IndexEngine.get_loc\u001b[0;34m()\u001b[0m\n",
      "\u001b[0;32mpandas/_libs/index.pyx\u001b[0m in \u001b[0;36mpandas._libs.index.IndexEngine.get_loc\u001b[0;34m()\u001b[0m\n",
      "\u001b[0;32mpandas/_libs/hashtable_class_helper.pxi\u001b[0m in \u001b[0;36mpandas._libs.hashtable.PyObjectHashTable.get_item\u001b[0;34m()\u001b[0m\n",
      "\u001b[0;32mpandas/_libs/hashtable_class_helper.pxi\u001b[0m in \u001b[0;36mpandas._libs.hashtable.PyObjectHashTable.get_item\u001b[0;34m()\u001b[0m\n",
      "\u001b[0;31mKeyError\u001b[0m: False",
      "\nDuring handling of the above exception, another exception occurred:\n",
      "\u001b[0;31mKeyError\u001b[0m                                  Traceback (most recent call last)",
      "\u001b[0;32m<ipython-input-43-041c56ed9cac>\u001b[0m in \u001b[0;36m<module>\u001b[0;34m\u001b[0m\n\u001b[0;32m----> 1\u001b[0;31m \u001b[0mto_plot2\u001b[0m\u001b[0;34m[\u001b[0m\u001b[0mto_plot2\u001b[0m\u001b[0;34m.\u001b[0m\u001b[0mindex\u001b[0m\u001b[0;34m==\u001b[0m\u001b[0;34m'unknown'\u001b[0m\u001b[0;34m]\u001b[0m\u001b[0;34m\u001b[0m\u001b[0;34m\u001b[0m\u001b[0m\n\u001b[0m",
      "\u001b[0;32m~/miniconda3/envs/py37/lib/python3.7/site-packages/pandas/core/frame.py\u001b[0m in \u001b[0;36m__getitem__\u001b[0;34m(self, key)\u001b[0m\n\u001b[1;32m   2686\u001b[0m             \u001b[0;32mreturn\u001b[0m \u001b[0mself\u001b[0m\u001b[0;34m.\u001b[0m\u001b[0m_getitem_multilevel\u001b[0m\u001b[0;34m(\u001b[0m\u001b[0mkey\u001b[0m\u001b[0;34m)\u001b[0m\u001b[0;34m\u001b[0m\u001b[0;34m\u001b[0m\u001b[0m\n\u001b[1;32m   2687\u001b[0m         \u001b[0;32melse\u001b[0m\u001b[0;34m:\u001b[0m\u001b[0;34m\u001b[0m\u001b[0;34m\u001b[0m\u001b[0m\n\u001b[0;32m-> 2688\u001b[0;31m             \u001b[0;32mreturn\u001b[0m \u001b[0mself\u001b[0m\u001b[0;34m.\u001b[0m\u001b[0m_getitem_column\u001b[0m\u001b[0;34m(\u001b[0m\u001b[0mkey\u001b[0m\u001b[0;34m)\u001b[0m\u001b[0;34m\u001b[0m\u001b[0;34m\u001b[0m\u001b[0m\n\u001b[0m\u001b[1;32m   2689\u001b[0m \u001b[0;34m\u001b[0m\u001b[0m\n\u001b[1;32m   2690\u001b[0m     \u001b[0;32mdef\u001b[0m \u001b[0m_getitem_column\u001b[0m\u001b[0;34m(\u001b[0m\u001b[0mself\u001b[0m\u001b[0;34m,\u001b[0m \u001b[0mkey\u001b[0m\u001b[0;34m)\u001b[0m\u001b[0;34m:\u001b[0m\u001b[0;34m\u001b[0m\u001b[0;34m\u001b[0m\u001b[0m\n",
      "\u001b[0;32m~/miniconda3/envs/py37/lib/python3.7/site-packages/pandas/core/frame.py\u001b[0m in \u001b[0;36m_getitem_column\u001b[0;34m(self, key)\u001b[0m\n\u001b[1;32m   2693\u001b[0m         \u001b[0;31m# get column\u001b[0m\u001b[0;34m\u001b[0m\u001b[0;34m\u001b[0m\u001b[0;34m\u001b[0m\u001b[0m\n\u001b[1;32m   2694\u001b[0m         \u001b[0;32mif\u001b[0m \u001b[0mself\u001b[0m\u001b[0;34m.\u001b[0m\u001b[0mcolumns\u001b[0m\u001b[0;34m.\u001b[0m\u001b[0mis_unique\u001b[0m\u001b[0;34m:\u001b[0m\u001b[0;34m\u001b[0m\u001b[0;34m\u001b[0m\u001b[0m\n\u001b[0;32m-> 2695\u001b[0;31m             \u001b[0;32mreturn\u001b[0m \u001b[0mself\u001b[0m\u001b[0;34m.\u001b[0m\u001b[0m_get_item_cache\u001b[0m\u001b[0;34m(\u001b[0m\u001b[0mkey\u001b[0m\u001b[0;34m)\u001b[0m\u001b[0;34m\u001b[0m\u001b[0;34m\u001b[0m\u001b[0m\n\u001b[0m\u001b[1;32m   2696\u001b[0m \u001b[0;34m\u001b[0m\u001b[0m\n\u001b[1;32m   2697\u001b[0m         \u001b[0;31m# duplicate columns & possible reduce dimensionality\u001b[0m\u001b[0;34m\u001b[0m\u001b[0;34m\u001b[0m\u001b[0;34m\u001b[0m\u001b[0m\n",
      "\u001b[0;32m~/miniconda3/envs/py37/lib/python3.7/site-packages/pandas/core/generic.py\u001b[0m in \u001b[0;36m_get_item_cache\u001b[0;34m(self, item)\u001b[0m\n\u001b[1;32m   2487\u001b[0m         \u001b[0mres\u001b[0m \u001b[0;34m=\u001b[0m \u001b[0mcache\u001b[0m\u001b[0;34m.\u001b[0m\u001b[0mget\u001b[0m\u001b[0;34m(\u001b[0m\u001b[0mitem\u001b[0m\u001b[0;34m)\u001b[0m\u001b[0;34m\u001b[0m\u001b[0;34m\u001b[0m\u001b[0m\n\u001b[1;32m   2488\u001b[0m         \u001b[0;32mif\u001b[0m \u001b[0mres\u001b[0m \u001b[0;32mis\u001b[0m \u001b[0;32mNone\u001b[0m\u001b[0;34m:\u001b[0m\u001b[0;34m\u001b[0m\u001b[0;34m\u001b[0m\u001b[0m\n\u001b[0;32m-> 2489\u001b[0;31m             \u001b[0mvalues\u001b[0m \u001b[0;34m=\u001b[0m \u001b[0mself\u001b[0m\u001b[0;34m.\u001b[0m\u001b[0m_data\u001b[0m\u001b[0;34m.\u001b[0m\u001b[0mget\u001b[0m\u001b[0;34m(\u001b[0m\u001b[0mitem\u001b[0m\u001b[0;34m)\u001b[0m\u001b[0;34m\u001b[0m\u001b[0;34m\u001b[0m\u001b[0m\n\u001b[0m\u001b[1;32m   2490\u001b[0m             \u001b[0mres\u001b[0m \u001b[0;34m=\u001b[0m \u001b[0mself\u001b[0m\u001b[0;34m.\u001b[0m\u001b[0m_box_item_values\u001b[0m\u001b[0;34m(\u001b[0m\u001b[0mitem\u001b[0m\u001b[0;34m,\u001b[0m \u001b[0mvalues\u001b[0m\u001b[0;34m)\u001b[0m\u001b[0;34m\u001b[0m\u001b[0;34m\u001b[0m\u001b[0m\n\u001b[1;32m   2491\u001b[0m             \u001b[0mcache\u001b[0m\u001b[0;34m[\u001b[0m\u001b[0mitem\u001b[0m\u001b[0;34m]\u001b[0m \u001b[0;34m=\u001b[0m \u001b[0mres\u001b[0m\u001b[0;34m\u001b[0m\u001b[0;34m\u001b[0m\u001b[0m\n",
      "\u001b[0;32m~/miniconda3/envs/py37/lib/python3.7/site-packages/pandas/core/internals.py\u001b[0m in \u001b[0;36mget\u001b[0;34m(self, item, fastpath)\u001b[0m\n\u001b[1;32m   4113\u001b[0m \u001b[0;34m\u001b[0m\u001b[0m\n\u001b[1;32m   4114\u001b[0m             \u001b[0;32mif\u001b[0m \u001b[0;32mnot\u001b[0m \u001b[0misna\u001b[0m\u001b[0;34m(\u001b[0m\u001b[0mitem\u001b[0m\u001b[0;34m)\u001b[0m\u001b[0;34m:\u001b[0m\u001b[0;34m\u001b[0m\u001b[0;34m\u001b[0m\u001b[0m\n\u001b[0;32m-> 4115\u001b[0;31m                 \u001b[0mloc\u001b[0m \u001b[0;34m=\u001b[0m \u001b[0mself\u001b[0m\u001b[0;34m.\u001b[0m\u001b[0mitems\u001b[0m\u001b[0;34m.\u001b[0m\u001b[0mget_loc\u001b[0m\u001b[0;34m(\u001b[0m\u001b[0mitem\u001b[0m\u001b[0;34m)\u001b[0m\u001b[0;34m\u001b[0m\u001b[0;34m\u001b[0m\u001b[0m\n\u001b[0m\u001b[1;32m   4116\u001b[0m             \u001b[0;32melse\u001b[0m\u001b[0;34m:\u001b[0m\u001b[0;34m\u001b[0m\u001b[0;34m\u001b[0m\u001b[0m\n\u001b[1;32m   4117\u001b[0m                 \u001b[0mindexer\u001b[0m \u001b[0;34m=\u001b[0m \u001b[0mnp\u001b[0m\u001b[0;34m.\u001b[0m\u001b[0marange\u001b[0m\u001b[0;34m(\u001b[0m\u001b[0mlen\u001b[0m\u001b[0;34m(\u001b[0m\u001b[0mself\u001b[0m\u001b[0;34m.\u001b[0m\u001b[0mitems\u001b[0m\u001b[0;34m)\u001b[0m\u001b[0;34m)\u001b[0m\u001b[0;34m[\u001b[0m\u001b[0misna\u001b[0m\u001b[0;34m(\u001b[0m\u001b[0mself\u001b[0m\u001b[0;34m.\u001b[0m\u001b[0mitems\u001b[0m\u001b[0;34m)\u001b[0m\u001b[0;34m]\u001b[0m\u001b[0;34m\u001b[0m\u001b[0;34m\u001b[0m\u001b[0m\n",
      "\u001b[0;32m~/miniconda3/envs/py37/lib/python3.7/site-packages/pandas/core/indexes/base.py\u001b[0m in \u001b[0;36mget_loc\u001b[0;34m(self, key, method, tolerance)\u001b[0m\n\u001b[1;32m   3078\u001b[0m                 \u001b[0;32mreturn\u001b[0m \u001b[0mself\u001b[0m\u001b[0;34m.\u001b[0m\u001b[0m_engine\u001b[0m\u001b[0;34m.\u001b[0m\u001b[0mget_loc\u001b[0m\u001b[0;34m(\u001b[0m\u001b[0mkey\u001b[0m\u001b[0;34m)\u001b[0m\u001b[0;34m\u001b[0m\u001b[0;34m\u001b[0m\u001b[0m\n\u001b[1;32m   3079\u001b[0m             \u001b[0;32mexcept\u001b[0m \u001b[0mKeyError\u001b[0m\u001b[0;34m:\u001b[0m\u001b[0;34m\u001b[0m\u001b[0;34m\u001b[0m\u001b[0m\n\u001b[0;32m-> 3080\u001b[0;31m                 \u001b[0;32mreturn\u001b[0m \u001b[0mself\u001b[0m\u001b[0;34m.\u001b[0m\u001b[0m_engine\u001b[0m\u001b[0;34m.\u001b[0m\u001b[0mget_loc\u001b[0m\u001b[0;34m(\u001b[0m\u001b[0mself\u001b[0m\u001b[0;34m.\u001b[0m\u001b[0m_maybe_cast_indexer\u001b[0m\u001b[0;34m(\u001b[0m\u001b[0mkey\u001b[0m\u001b[0;34m)\u001b[0m\u001b[0;34m)\u001b[0m\u001b[0;34m\u001b[0m\u001b[0;34m\u001b[0m\u001b[0m\n\u001b[0m\u001b[1;32m   3081\u001b[0m \u001b[0;34m\u001b[0m\u001b[0m\n\u001b[1;32m   3082\u001b[0m         \u001b[0mindexer\u001b[0m \u001b[0;34m=\u001b[0m \u001b[0mself\u001b[0m\u001b[0;34m.\u001b[0m\u001b[0mget_indexer\u001b[0m\u001b[0;34m(\u001b[0m\u001b[0;34m[\u001b[0m\u001b[0mkey\u001b[0m\u001b[0;34m]\u001b[0m\u001b[0;34m,\u001b[0m \u001b[0mmethod\u001b[0m\u001b[0;34m=\u001b[0m\u001b[0mmethod\u001b[0m\u001b[0;34m,\u001b[0m \u001b[0mtolerance\u001b[0m\u001b[0;34m=\u001b[0m\u001b[0mtolerance\u001b[0m\u001b[0;34m)\u001b[0m\u001b[0;34m\u001b[0m\u001b[0;34m\u001b[0m\u001b[0m\n",
      "\u001b[0;32mpandas/_libs/index.pyx\u001b[0m in \u001b[0;36mpandas._libs.index.IndexEngine.get_loc\u001b[0;34m()\u001b[0m\n",
      "\u001b[0;32mpandas/_libs/index.pyx\u001b[0m in \u001b[0;36mpandas._libs.index.IndexEngine.get_loc\u001b[0;34m()\u001b[0m\n",
      "\u001b[0;32mpandas/_libs/hashtable_class_helper.pxi\u001b[0m in \u001b[0;36mpandas._libs.hashtable.PyObjectHashTable.get_item\u001b[0;34m()\u001b[0m\n",
      "\u001b[0;32mpandas/_libs/hashtable_class_helper.pxi\u001b[0m in \u001b[0;36mpandas._libs.hashtable.PyObjectHashTable.get_item\u001b[0;34m()\u001b[0m\n",
      "\u001b[0;31mKeyError\u001b[0m: False"
     ]
    }
   ],
   "source": [
    "to_plot2[to_plot2.index=='unknown']"
   ]
  },
  {
   "cell_type": "code",
   "execution_count": null,
   "metadata": {},
   "outputs": [],
   "source": [
    "to_plot2 = to_plot2[to_plot2.geopy_names!='unknown']"
   ]
  },
  {
   "cell_type": "code",
   "execution_count": null,
   "metadata": {},
   "outputs": [],
   "source": [
    "to_plot2.get(['Caterpillar', 29])"
   ]
  },
  {
   "cell_type": "code",
   "execution_count": null,
   "metadata": {},
   "outputs": [],
   "source": [
    "to_plot2.set_index('geopy_names').at['Caterpillar', 28]"
   ]
  },
  {
   "cell_type": "code",
   "execution_count": null,
   "metadata": {},
   "outputs": [],
   "source": [
    "to_plot2.loc[to_plot2.geopy_names'Albany', 29]"
   ]
  },
  {
   "cell_type": "code",
   "execution_count": null,
   "metadata": {},
   "outputs": [],
   "source": [
    "for name in indexed.index:\n",
    "    print(name)"
   ]
  },
  {
   "cell_type": "code",
   "execution_count": null,
   "metadata": {},
   "outputs": [],
   "source": [
    "indexed.at['Starburst', 28]"
   ]
  },
  {
   "cell_type": "code",
   "execution_count": null,
   "metadata": {},
   "outputs": [],
   "source": []
  },
  {
   "cell_type": "code",
   "execution_count": null,
   "metadata": {},
   "outputs": [],
   "source": [
    "f, axes = plt.subplots(1, 5, figsize=(6,6), sharey=True,\n",
    "                       constrained_layout=True)\n",
    "\n",
    "indexed = to_plot2.set_index('geopy_names')\n",
    "\n",
    "for yr,ax in zip(range(28,33), axes):\n",
    "    g = sns.barplot(x=yr, y='geopy_names', ax=ax, data=to_plot2)\n",
    "    ax.set_ylabel('')\n",
    "    \n",
    "#     for name in indexed.index:\n",
    "#         s = indexed.at[name, yr]\n",
    "#         ax.text(s, name, s);"
   ]
  },
  {
   "cell_type": "code",
   "execution_count": null,
   "metadata": {},
   "outputs": [],
   "source": [
    "for_table = to_plot2.set_index('geopy_names')"
   ]
  },
  {
   "cell_type": "code",
   "execution_count": null,
   "metadata": {},
   "outputs": [],
   "source": [
    "for_table.index.name=\"ROI\""
   ]
  },
  {
   "cell_type": "code",
   "execution_count": null,
   "metadata": {},
   "outputs": [],
   "source": [
    "for_table.to_csv(\"dataset_table.csv\")"
   ]
  },
  {
   "cell_type": "code",
   "execution_count": null,
   "metadata": {},
   "outputs": [],
   "source": [
    "merged.shape"
   ]
  },
  {
   "cell_type": "code",
   "execution_count": null,
   "metadata": {},
   "outputs": [],
   "source": [
    "to_plot2 = to_plot2.fillna(0).astype('int')"
   ]
  },
  {
   "cell_type": "code",
   "execution_count": null,
   "metadata": {},
   "outputs": [],
   "source": [
    "sns.countplot(x='MY', y='geopy_names', data=to_plot)"
   ]
  },
  {
   "cell_type": "code",
   "execution_count": null,
   "metadata": {},
   "outputs": [],
   "source": [
    "region_names.set_index('name').drop('point', axis=1).join(for_table).to_csv(\"dataset_table.csv\")"
   ]
  },
  {
   "cell_type": "code",
   "execution_count": null,
   "metadata": {},
   "outputs": [],
   "source": [
    "for_table.join(region_names.set_index('name'))"
   ]
  },
  {
   "cell_type": "code",
   "execution_count": null,
   "metadata": {},
   "outputs": [],
   "source": [
    "merged.time.max()"
   ]
  },
  {
   "cell_type": "code",
   "execution_count": null,
   "metadata": {},
   "outputs": [],
   "source": [
    "to_plot"
   ]
  },
  {
   "cell_type": "code",
   "execution_count": null,
   "metadata": {},
   "outputs": [],
   "source": [
    "!ls *.csv"
   ]
  },
  {
   "cell_type": "code",
   "execution_count": null,
   "metadata": {},
   "outputs": [],
   "source": [
    "status = pd.read_csv(\"current_status.csv\", header=None)"
   ]
  },
  {
   "cell_type": "code",
   "execution_count": null,
   "metadata": {},
   "outputs": [],
   "source": [
    "status.columns = ['obsid', 'done']"
   ]
  },
  {
   "cell_type": "code",
   "execution_count": null,
   "metadata": {},
   "outputs": [],
   "source": [
    "merged.columns"
   ]
  },
  {
   "cell_type": "code",
   "execution_count": null,
   "metadata": {},
   "outputs": [],
   "source": [
    "newmerge = merged.merge(status, on='obsid')"
   ]
  },
  {
   "cell_type": "code",
   "execution_count": null,
   "metadata": {},
   "outputs": [],
   "source": [
    "newmerge[newmerge.done < 25].geopy_names.value_counts()"
   ]
  },
  {
   "cell_type": "code",
   "execution_count": null,
   "metadata": {},
   "outputs": [],
   "source": [
    "import qgrid"
   ]
  },
  {
   "cell_type": "code",
   "execution_count": null,
   "metadata": {},
   "outputs": [],
   "source": []
  },
  {
   "cell_type": "markdown",
   "metadata": {},
   "source": [
    "# P4 catalog stats"
   ]
  },
  {
   "cell_type": "code",
   "execution_count": 47,
   "metadata": {},
   "outputs": [],
   "source": [
    "fans = pd.read_csv(\n",
    "    \"/Users/klay6683/Dropbox/data/planet4/p4_analysis/P4_catalog_v1.1/P4_catalog_v1.1_L1C_cut_0.5_fan.csv\"\n",
    ")"
   ]
  },
  {
   "cell_type": "code",
   "execution_count": 48,
   "metadata": {},
   "outputs": [
    {
     "data": {
      "text/html": [
       "<div>\n",
       "<style scoped>\n",
       "    .dataframe tbody tr th:only-of-type {\n",
       "        vertical-align: middle;\n",
       "    }\n",
       "\n",
       "    .dataframe tbody tr th {\n",
       "        vertical-align: top;\n",
       "    }\n",
       "\n",
       "    .dataframe thead th {\n",
       "        text-align: right;\n",
       "    }\n",
       "</style>\n",
       "<table border=\"1\" class=\"dataframe\">\n",
       "  <thead>\n",
       "    <tr style=\"text-align: right;\">\n",
       "      <th></th>\n",
       "      <th>marking_id</th>\n",
       "      <th>angle</th>\n",
       "      <th>distance</th>\n",
       "      <th>tile_id</th>\n",
       "      <th>image_x</th>\n",
       "      <th>image_y</th>\n",
       "      <th>n_votes</th>\n",
       "      <th>obsid</th>\n",
       "      <th>spread</th>\n",
       "      <th>version</th>\n",
       "      <th>...</th>\n",
       "      <th>y_angle</th>\n",
       "      <th>l_s</th>\n",
       "      <th>map_scale</th>\n",
       "      <th>north_azimuth</th>\n",
       "      <th>BodyFixedCoordinateX</th>\n",
       "      <th>BodyFixedCoordinateY</th>\n",
       "      <th>BodyFixedCoordinateZ</th>\n",
       "      <th>PlanetocentricLatitude</th>\n",
       "      <th>PlanetographicLatitude</th>\n",
       "      <th>Longitude</th>\n",
       "    </tr>\n",
       "  </thead>\n",
       "  <tbody>\n",
       "    <tr>\n",
       "      <th>0</th>\n",
       "      <td>F000000</td>\n",
       "      <td>205.56</td>\n",
       "      <td>179.71</td>\n",
       "      <td>APF0000ci9</td>\n",
       "      <td>2270.76</td>\n",
       "      <td>24336.16</td>\n",
       "      <td>35</td>\n",
       "      <td>ESP_012079_0945</td>\n",
       "      <td>88.03</td>\n",
       "      <td>1</td>\n",
       "      <td>...</td>\n",
       "      <td>-0.43</td>\n",
       "      <td>214.785</td>\n",
       "      <td>0.25</td>\n",
       "      <td>126.856883</td>\n",
       "      <td>-65.804336</td>\n",
       "      <td>261.407884</td>\n",
       "      <td>-3370.504345</td>\n",
       "      <td>-85.427383</td>\n",
       "      <td>-85.480829</td>\n",
       "      <td>104.129523</td>\n",
       "    </tr>\n",
       "    <tr>\n",
       "      <th>1</th>\n",
       "      <td>F000001</td>\n",
       "      <td>185.39</td>\n",
       "      <td>179.62</td>\n",
       "      <td>APF0000cia</td>\n",
       "      <td>3391.21</td>\n",
       "      <td>5640.60</td>\n",
       "      <td>15</td>\n",
       "      <td>ESP_012079_0945</td>\n",
       "      <td>21.35</td>\n",
       "      <td>1</td>\n",
       "      <td>...</td>\n",
       "      <td>-0.09</td>\n",
       "      <td>214.785</td>\n",
       "      <td>0.25</td>\n",
       "      <td>126.856883</td>\n",
       "      <td>-67.219114</td>\n",
       "      <td>257.011589</td>\n",
       "      <td>-3370.631413</td>\n",
       "      <td>-85.493546</td>\n",
       "      <td>-85.546226</td>\n",
       "      <td>104.656897</td>\n",
       "    </tr>\n",
       "    <tr>\n",
       "      <th>2</th>\n",
       "      <td>F000002</td>\n",
       "      <td>184.98</td>\n",
       "      <td>500.27</td>\n",
       "      <td>APF0000cia</td>\n",
       "      <td>3509.96</td>\n",
       "      <td>5876.70</td>\n",
       "      <td>10</td>\n",
       "      <td>ESP_012079_0945</td>\n",
       "      <td>18.91</td>\n",
       "      <td>1</td>\n",
       "      <td>...</td>\n",
       "      <td>-0.09</td>\n",
       "      <td>214.785</td>\n",
       "      <td>0.25</td>\n",
       "      <td>126.856883</td>\n",
       "      <td>-67.170611</td>\n",
       "      <td>257.055226</td>\n",
       "      <td>-3370.630794</td>\n",
       "      <td>-85.493039</td>\n",
       "      <td>-85.545725</td>\n",
       "      <td>104.644396</td>\n",
       "    </tr>\n",
       "    <tr>\n",
       "      <th>3</th>\n",
       "      <td>F000004</td>\n",
       "      <td>184.29</td>\n",
       "      <td>105.43</td>\n",
       "      <td>APF0000cia</td>\n",
       "      <td>3716.27</td>\n",
       "      <td>5824.50</td>\n",
       "      <td>6</td>\n",
       "      <td>ESP_012079_0945</td>\n",
       "      <td>26.41</td>\n",
       "      <td>1</td>\n",
       "      <td>...</td>\n",
       "      <td>-0.07</td>\n",
       "      <td>214.785</td>\n",
       "      <td>0.25</td>\n",
       "      <td>126.856883</td>\n",
       "      <td>-67.127761</td>\n",
       "      <td>257.024926</td>\n",
       "      <td>-3370.635002</td>\n",
       "      <td>-85.493723</td>\n",
       "      <td>-85.546401</td>\n",
       "      <td>104.637107</td>\n",
       "    </tr>\n",
       "    <tr>\n",
       "      <th>4</th>\n",
       "      <td>F000005</td>\n",
       "      <td>189.42</td>\n",
       "      <td>109.50</td>\n",
       "      <td>APF0000cia</td>\n",
       "      <td>3452.17</td>\n",
       "      <td>6033.00</td>\n",
       "      <td>3</td>\n",
       "      <td>ESP_012079_0945</td>\n",
       "      <td>22.58</td>\n",
       "      <td>1</td>\n",
       "      <td>...</td>\n",
       "      <td>-0.16</td>\n",
       "      <td>214.785</td>\n",
       "      <td>0.25</td>\n",
       "      <td>126.856883</td>\n",
       "      <td>-67.169940</td>\n",
       "      <td>257.096267</td>\n",
       "      <td>-3370.628302</td>\n",
       "      <td>-85.492368</td>\n",
       "      <td>-85.545061</td>\n",
       "      <td>104.642019</td>\n",
       "    </tr>\n",
       "  </tbody>\n",
       "</table>\n",
       "<p>5 rows × 24 columns</p>\n",
       "</div>"
      ],
      "text/plain": [
       "  marking_id   angle  distance     tile_id  image_x   image_y  n_votes  \\\n",
       "0    F000000  205.56    179.71  APF0000ci9  2270.76  24336.16       35   \n",
       "1    F000001  185.39    179.62  APF0000cia  3391.21   5640.60       15   \n",
       "2    F000002  184.98    500.27  APF0000cia  3509.96   5876.70       10   \n",
       "3    F000004  184.29    105.43  APF0000cia  3716.27   5824.50        6   \n",
       "4    F000005  189.42    109.50  APF0000cia  3452.17   6033.00        3   \n",
       "\n",
       "             obsid  spread  version     ...      y_angle      l_s  map_scale  \\\n",
       "0  ESP_012079_0945   88.03        1     ...        -0.43  214.785       0.25   \n",
       "1  ESP_012079_0945   21.35        1     ...        -0.09  214.785       0.25   \n",
       "2  ESP_012079_0945   18.91        1     ...        -0.09  214.785       0.25   \n",
       "3  ESP_012079_0945   26.41        1     ...        -0.07  214.785       0.25   \n",
       "4  ESP_012079_0945   22.58        1     ...        -0.16  214.785       0.25   \n",
       "\n",
       "   north_azimuth  BodyFixedCoordinateX  BodyFixedCoordinateY  \\\n",
       "0     126.856883            -65.804336            261.407884   \n",
       "1     126.856883            -67.219114            257.011589   \n",
       "2     126.856883            -67.170611            257.055226   \n",
       "3     126.856883            -67.127761            257.024926   \n",
       "4     126.856883            -67.169940            257.096267   \n",
       "\n",
       "   BodyFixedCoordinateZ  PlanetocentricLatitude  PlanetographicLatitude  \\\n",
       "0          -3370.504345              -85.427383              -85.480829   \n",
       "1          -3370.631413              -85.493546              -85.546226   \n",
       "2          -3370.630794              -85.493039              -85.545725   \n",
       "3          -3370.635002              -85.493723              -85.546401   \n",
       "4          -3370.628302              -85.492368              -85.545061   \n",
       "\n",
       "    Longitude  \n",
       "0  104.129523  \n",
       "1  104.656897  \n",
       "2  104.644396  \n",
       "3  104.637107  \n",
       "4  104.642019  \n",
       "\n",
       "[5 rows x 24 columns]"
      ]
     },
     "execution_count": 48,
     "metadata": {},
     "output_type": "execute_result"
    }
   ],
   "source": [
    "fans.head()"
   ]
  },
  {
   "cell_type": "code",
   "execution_count": 49,
   "metadata": {},
   "outputs": [
    {
     "data": {
      "text/plain": [
       "obsid\n",
       "ESP_012316_0925    12304\n",
       "ESP_012527_0925    10918\n",
       "ESP_011960_0925     6737\n",
       "ESP_021520_0925     6585\n",
       "ESP_021454_0925     6514\n",
       "dtype: int64"
      ]
     },
     "execution_count": 49,
     "metadata": {},
     "output_type": "execute_result"
    }
   ],
   "source": [
    "fans.groupby(\"obsid\").size().sort_values(ascending=False).head()"
   ]
  },
  {
   "cell_type": "code",
   "execution_count": 50,
   "metadata": {},
   "outputs": [
    {
     "data": {
      "text/plain": [
       "737.0976744186047"
      ]
     },
     "execution_count": 50,
     "metadata": {},
     "output_type": "execute_result"
    }
   ],
   "source": [
    "fans.groupby(\"obsid\").size().mean()"
   ]
  },
  {
   "cell_type": "code",
   "execution_count": 52,
   "metadata": {},
   "outputs": [],
   "source": [
    "blotches = pd.read_csv(\n",
    "    \"/Users/klay6683/Dropbox/data/planet4/p4_analysis/P4_catalog_v1.1/P4_catalog_v1.1_L1C_cut_0.5_blotch.csv\"\n",
    ")"
   ]
  },
  {
   "cell_type": "code",
   "execution_count": 53,
   "metadata": {},
   "outputs": [
    {
     "data": {
      "text/plain": [
       "obsid\n",
       "ESP_012604_0965    20916\n",
       "ESP_012314_0965    20094\n",
       "ESP_012248_0965    19264\n",
       "ESP_012393_0965     9978\n",
       "ESP_011680_1055     7102\n",
       "dtype: int64"
      ]
     },
     "execution_count": 53,
     "metadata": {},
     "output_type": "execute_result"
    }
   ],
   "source": [
    "blotches.groupby(\"obsid\").size().sort_values(ascending=False).head()"
   ]
  },
  {
   "cell_type": "code",
   "execution_count": 54,
   "metadata": {},
   "outputs": [
    {
     "data": {
      "text/plain": [
       "1130.3212669683257"
      ]
     },
     "execution_count": 54,
     "metadata": {},
     "output_type": "execute_result"
    }
   ],
   "source": [
    "blotches.groupby(\"obsid\").size().mean()"
   ]
  },
  {
   "cell_type": "code",
   "execution_count": null,
   "metadata": {},
   "outputs": [],
   "source": []
  }
 ],
 "metadata": {
  "kernelspec": {
   "display_name": "Python 3",
   "language": "python",
   "name": "python3"
  },
  "language_info": {
   "codemirror_mode": {
    "name": "ipython",
    "version": 3
   },
   "file_extension": ".py",
   "mimetype": "text/x-python",
   "name": "python",
   "nbconvert_exporter": "python",
   "pygments_lexer": "ipython3",
   "version": "3.7.3"
  },
  "toc": {
   "base_numbering": 1,
   "nav_menu": {},
   "number_sections": true,
   "sideBar": true,
   "skip_h1_title": false,
   "title_cell": "Table of Contents",
   "title_sidebar": "Contents",
   "toc_cell": true,
   "toc_position": {},
   "toc_section_display": true,
   "toc_window_display": false
  },
  "varInspector": {
   "cols": {
    "lenName": 16,
    "lenType": 16,
    "lenVar": 40
   },
   "kernels_config": {
    "python": {
     "delete_cmd_postfix": "",
     "delete_cmd_prefix": "del ",
     "library": "var_list.py",
     "varRefreshCmd": "print(var_dic_list())"
    },
    "r": {
     "delete_cmd_postfix": ") ",
     "delete_cmd_prefix": "rm(",
     "library": "var_list.r",
     "varRefreshCmd": "cat(var_dic_list()) "
    }
   },
   "types_to_exclude": [
    "module",
    "function",
    "builtin_function_or_method",
    "instance",
    "_Feature"
   ],
   "window_display": false
  },
  "widgets": {
   "application/vnd.jupyter.widget-state+json": {
    "state": {},
    "version_major": 2,
    "version_minor": 0
   }
  }
 },
 "nbformat": 4,
 "nbformat_minor": 4
}
