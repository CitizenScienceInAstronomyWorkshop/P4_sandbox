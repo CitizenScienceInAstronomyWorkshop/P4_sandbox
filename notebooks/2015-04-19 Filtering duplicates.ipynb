{
 "cells": [
  {
   "cell_type": "code",
   "execution_count": 4,
   "metadata": {
    "collapsed": false
   },
   "outputs": [],
   "source": [
    "from planet4.get_data import get_image_id"
   ]
  },
  {
   "cell_type": "code",
   "execution_count": 6,
   "metadata": {
    "collapsed": false
   },
   "outputs": [],
   "source": [
    "df = get_image_id('APF0001m7c')"
   ]
  },
  {
   "cell_type": "code",
   "execution_count": 44,
   "metadata": {
    "collapsed": false
   },
   "outputs": [
    {
     "data": {
      "text/html": [
       "<div style=\"max-height:1000px;max-width:1500px;overflow:auto;\">\n",
       "<table border=\"1\" class=\"dataframe\">\n",
       "  <thead>\n",
       "    <tr style=\"text-align: right;\">\n",
       "      <th></th>\n",
       "      <th>classification_id</th>\n",
       "      <th>created_at</th>\n",
       "      <th>image_id</th>\n",
       "      <th>image_name</th>\n",
       "      <th>image_url</th>\n",
       "      <th>user_name</th>\n",
       "      <th>marking</th>\n",
       "      <th>x_tile</th>\n",
       "      <th>y_tile</th>\n",
       "      <th>acquisition_date</th>\n",
       "      <th>...</th>\n",
       "      <th>x</th>\n",
       "      <th>y</th>\n",
       "      <th>image_x</th>\n",
       "      <th>image_y</th>\n",
       "      <th>radius_1</th>\n",
       "      <th>radius_2</th>\n",
       "      <th>distance</th>\n",
       "      <th>angle</th>\n",
       "      <th>spread</th>\n",
       "      <th>version</th>\n",
       "    </tr>\n",
       "  </thead>\n",
       "  <tbody>\n",
       "    <tr>\n",
       "      <th>10979012</th>\n",
       "      <td>52a6145f9e32600583001a85</td>\n",
       "      <td>2013-12-09 19:05:03</td>\n",
       "      <td>APF0001m7c</td>\n",
       "      <td>PSP_003453_0945</td>\n",
       "      <td>http://www.planetfour.org/subjects/standard/51...</td>\n",
       "      <td>Mildredo</td>\n",
       "      <td>blotch</td>\n",
       "      <td>5</td>\n",
       "      <td>3</td>\n",
       "      <td>2007-04-22</td>\n",
       "      <td>...</td>\n",
       "      <td>740.5</td>\n",
       "      <td>51</td>\n",
       "      <td>3700.5</td>\n",
       "      <td>1147</td>\n",
       "      <td>27.018512</td>\n",
       "      <td>20.263884</td>\n",
       "      <td>NaN</td>\n",
       "      <td>87.878904</td>\n",
       "      <td>0</td>\n",
       "      <td>1</td>\n",
       "    </tr>\n",
       "    <tr>\n",
       "      <th>10979013</th>\n",
       "      <td>52a6145f9e32600583001a85</td>\n",
       "      <td>2013-12-09 19:05:03</td>\n",
       "      <td>APF0001m7c</td>\n",
       "      <td>PSP_003453_0945</td>\n",
       "      <td>http://www.planetfour.org/subjects/standard/51...</td>\n",
       "      <td>Mildredo</td>\n",
       "      <td>blotch</td>\n",
       "      <td>5</td>\n",
       "      <td>3</td>\n",
       "      <td>2007-04-22</td>\n",
       "      <td>...</td>\n",
       "      <td>700.5</td>\n",
       "      <td>638</td>\n",
       "      <td>3660.5</td>\n",
       "      <td>1734</td>\n",
       "      <td>50.695167</td>\n",
       "      <td>38.021376</td>\n",
       "      <td>NaN</td>\n",
       "      <td>-14.858614</td>\n",
       "      <td>0</td>\n",
       "      <td>1</td>\n",
       "    </tr>\n",
       "    <tr>\n",
       "      <th>11756671</th>\n",
       "      <td>539b0d3fa5ae133007000218</td>\n",
       "      <td>2014-06-13 14:39:59</td>\n",
       "      <td>APF0001m7c</td>\n",
       "      <td>PSP_003453_0945</td>\n",
       "      <td>http://www.planetfour.org/subjects/standard/51...</td>\n",
       "      <td>Djoga</td>\n",
       "      <td>blotch</td>\n",
       "      <td>5</td>\n",
       "      <td>3</td>\n",
       "      <td>2007-04-22</td>\n",
       "      <td>...</td>\n",
       "      <td>160.5</td>\n",
       "      <td>237</td>\n",
       "      <td>3120.5</td>\n",
       "      <td>1333</td>\n",
       "      <td>63.063460</td>\n",
       "      <td>47.297595</td>\n",
       "      <td>NaN</td>\n",
       "      <td>62.622297</td>\n",
       "      <td>0</td>\n",
       "      <td>1</td>\n",
       "    </tr>\n",
       "    <tr>\n",
       "      <th>11756672</th>\n",
       "      <td>539b0d3fa5ae133007000218</td>\n",
       "      <td>2014-06-13 14:39:59</td>\n",
       "      <td>APF0001m7c</td>\n",
       "      <td>PSP_003453_0945</td>\n",
       "      <td>http://www.planetfour.org/subjects/standard/51...</td>\n",
       "      <td>Djoga</td>\n",
       "      <td>blotch</td>\n",
       "      <td>5</td>\n",
       "      <td>3</td>\n",
       "      <td>2007-04-22</td>\n",
       "      <td>...</td>\n",
       "      <td>743.5</td>\n",
       "      <td>55</td>\n",
       "      <td>3703.5</td>\n",
       "      <td>1151</td>\n",
       "      <td>22.203603</td>\n",
       "      <td>16.652702</td>\n",
       "      <td>NaN</td>\n",
       "      <td>97.765166</td>\n",
       "      <td>0</td>\n",
       "      <td>1</td>\n",
       "    </tr>\n",
       "    <tr>\n",
       "      <th>11756673</th>\n",
       "      <td>539b0d3fa5ae133007000218</td>\n",
       "      <td>2014-06-13 14:39:59</td>\n",
       "      <td>APF0001m7c</td>\n",
       "      <td>PSP_003453_0945</td>\n",
       "      <td>http://www.planetfour.org/subjects/standard/51...</td>\n",
       "      <td>Djoga</td>\n",
       "      <td>blotch</td>\n",
       "      <td>5</td>\n",
       "      <td>3</td>\n",
       "      <td>2007-04-22</td>\n",
       "      <td>...</td>\n",
       "      <td>705.5</td>\n",
       "      <td>634</td>\n",
       "      <td>3665.5</td>\n",
       "      <td>1730</td>\n",
       "      <td>34.885527</td>\n",
       "      <td>26.164145</td>\n",
       "      <td>NaN</td>\n",
       "      <td>62.700428</td>\n",
       "      <td>0</td>\n",
       "      <td>1</td>\n",
       "    </tr>\n",
       "  </tbody>\n",
       "</table>\n",
       "<p>5 rows × 21 columns</p>\n",
       "</div>"
      ],
      "text/plain": [
       "                 classification_id          created_at    image_id  \\\n",
       "10979012  52a6145f9e32600583001a85 2013-12-09 19:05:03  APF0001m7c   \n",
       "10979013  52a6145f9e32600583001a85 2013-12-09 19:05:03  APF0001m7c   \n",
       "11756671  539b0d3fa5ae133007000218 2014-06-13 14:39:59  APF0001m7c   \n",
       "11756672  539b0d3fa5ae133007000218 2014-06-13 14:39:59  APF0001m7c   \n",
       "11756673  539b0d3fa5ae133007000218 2014-06-13 14:39:59  APF0001m7c   \n",
       "\n",
       "               image_name                                          image_url  \\\n",
       "10979012  PSP_003453_0945  http://www.planetfour.org/subjects/standard/51...   \n",
       "10979013  PSP_003453_0945  http://www.planetfour.org/subjects/standard/51...   \n",
       "11756671  PSP_003453_0945  http://www.planetfour.org/subjects/standard/51...   \n",
       "11756672  PSP_003453_0945  http://www.planetfour.org/subjects/standard/51...   \n",
       "11756673  PSP_003453_0945  http://www.planetfour.org/subjects/standard/51...   \n",
       "\n",
       "         user_name marking  x_tile  y_tile acquisition_date   ...         x  \\\n",
       "10979012  Mildredo  blotch       5       3       2007-04-22   ...     740.5   \n",
       "10979013  Mildredo  blotch       5       3       2007-04-22   ...     700.5   \n",
       "11756671     Djoga  blotch       5       3       2007-04-22   ...     160.5   \n",
       "11756672     Djoga  blotch       5       3       2007-04-22   ...     743.5   \n",
       "11756673     Djoga  blotch       5       3       2007-04-22   ...     705.5   \n",
       "\n",
       "            y  image_x  image_y   radius_1   radius_2  distance      angle  \\\n",
       "10979012   51   3700.5     1147  27.018512  20.263884       NaN  87.878904   \n",
       "10979013  638   3660.5     1734  50.695167  38.021376       NaN -14.858614   \n",
       "11756671  237   3120.5     1333  63.063460  47.297595       NaN  62.622297   \n",
       "11756672   55   3703.5     1151  22.203603  16.652702       NaN  97.765166   \n",
       "11756673  634   3665.5     1730  34.885527  26.164145       NaN  62.700428   \n",
       "\n",
       "          spread  version  \n",
       "10979012       0        1  \n",
       "10979013       0        1  \n",
       "11756671       0        1  \n",
       "11756672       0        1  \n",
       "11756673       0        1  \n",
       "\n",
       "[5 rows x 21 columns]"
      ]
     },
     "execution_count": 44,
     "metadata": {},
     "output_type": "execute_result"
    }
   ],
   "source": [
    "df.head()"
   ]
  },
  {
   "cell_type": "code",
   "execution_count": 50,
   "metadata": {
    "collapsed": true
   },
   "outputs": [],
   "source": [
    "cols = 'user_name classification_id created_at image_id'.split()"
   ]
  },
  {
   "cell_type": "code",
   "execution_count": 52,
   "metadata": {
    "collapsed": true
   },
   "outputs": [],
   "source": [
    "from planet4 import helper_functions as hf"
   ]
  },
  {
   "cell_type": "code",
   "execution_count": 97,
   "metadata": {
    "collapsed": false
   },
   "outputs": [],
   "source": [
    "newdf = df.set_index('created_at').sort_index()"
   ]
  },
  {
   "cell_type": "code",
   "execution_count": 115,
   "metadata": {
    "collapsed": false
   },
   "outputs": [],
   "source": [
    "g = df.groupby(['user_name','created_at'])"
   ]
  },
  {
   "cell_type": "code",
   "execution_count": 118,
   "metadata": {
    "collapsed": false
   },
   "outputs": [],
   "source": [
    "g.first?"
   ]
  },
  {
   "cell_type": "code",
   "execution_count": 77,
   "metadata": {
    "collapsed": true
   },
   "outputs": [],
   "source": [
    "def process_group(g):\n",
    "    user_data.sort_index(inplace=True)\n",
    "    return user_data.f"
   ]
  },
  {
   "cell_type": "code",
   "execution_count": 122,
   "metadata": {
    "collapsed": false
   },
   "outputs": [
    {
     "data": {
      "text/plain": [
       "count                      68\n",
       "unique                     29\n",
       "top       2014-10-07 13:59:04\n",
       "freq                        6\n",
       "first     2013-03-20 20:20:41\n",
       "last      2014-11-03 17:04:04\n",
       "Name: created_at, dtype: object"
      ]
     },
     "execution_count": 122,
     "metadata": {},
     "output_type": "execute_result"
    }
   ],
   "source": [
    "df.created_at.describe()"
   ]
  },
  {
   "cell_type": "code",
   "execution_count": 128,
   "metadata": {
    "collapsed": false
   },
   "outputs": [
    {
     "data": {
      "text/html": [
       "<div style=\"max-height:1000px;max-width:1500px;overflow:auto;\">\n",
       "<table border=\"1\" class=\"dataframe\">\n",
       "  <thead>\n",
       "    <tr style=\"text-align: right;\">\n",
       "      <th></th>\n",
       "      <th>classification_id</th>\n",
       "      <th>created_at</th>\n",
       "      <th>image_id</th>\n",
       "      <th>image_name</th>\n",
       "      <th>image_url</th>\n",
       "      <th>user_name</th>\n",
       "      <th>marking</th>\n",
       "      <th>x_tile</th>\n",
       "      <th>y_tile</th>\n",
       "      <th>acquisition_date</th>\n",
       "      <th>...</th>\n",
       "      <th>x</th>\n",
       "      <th>y</th>\n",
       "      <th>image_x</th>\n",
       "      <th>image_y</th>\n",
       "      <th>radius_1</th>\n",
       "      <th>radius_2</th>\n",
       "      <th>distance</th>\n",
       "      <th>angle</th>\n",
       "      <th>spread</th>\n",
       "      <th>version</th>\n",
       "    </tr>\n",
       "  </thead>\n",
       "  <tbody>\n",
       "    <tr>\n",
       "      <th>9506878</th>\n",
       "      <td>514a1a16a202b404ca007f6f</td>\n",
       "      <td>2013-03-20 20:20:41</td>\n",
       "      <td>APF0001m7c</td>\n",
       "      <td>PSP_003453_0945</td>\n",
       "      <td>http://www.planetfour.org/subjects/standard/51...</td>\n",
       "      <td>MY LUCKY STARS</td>\n",
       "      <td>none</td>\n",
       "      <td>5</td>\n",
       "      <td>3</td>\n",
       "      <td>2007-04-22</td>\n",
       "      <td>...</td>\n",
       "      <td>NaN</td>\n",
       "      <td>NaN</td>\n",
       "      <td>NaN</td>\n",
       "      <td>NaN</td>\n",
       "      <td>NaN</td>\n",
       "      <td>NaN</td>\n",
       "      <td>NaN</td>\n",
       "      <td>NaN</td>\n",
       "      <td>0</td>\n",
       "      <td>1</td>\n",
       "    </tr>\n",
       "  </tbody>\n",
       "</table>\n",
       "<p>1 rows × 21 columns</p>\n",
       "</div>"
      ],
      "text/plain": [
       "                classification_id          created_at    image_id  \\\n",
       "9506878  514a1a16a202b404ca007f6f 2013-03-20 20:20:41  APF0001m7c   \n",
       "\n",
       "              image_name                                          image_url  \\\n",
       "9506878  PSP_003453_0945  http://www.planetfour.org/subjects/standard/51...   \n",
       "\n",
       "              user_name marking  x_tile  y_tile acquisition_date   ...      x  \\\n",
       "9506878  MY LUCKY STARS    none       5       3       2007-04-22   ...    NaN   \n",
       "\n",
       "          y  image_x  image_y  radius_1  radius_2  distance  angle  spread  \\\n",
       "9506878 NaN      NaN      NaN       NaN       NaN       NaN    NaN       0   \n",
       "\n",
       "         version  \n",
       "9506878        1  \n",
       "\n",
       "[1 rows x 21 columns]"
      ]
     },
     "execution_count": 128,
     "metadata": {},
     "output_type": "execute_result"
    }
   ],
   "source": [
    "df[df.created_at == df.created_at.min()]"
   ]
  },
  {
   "cell_type": "code",
   "execution_count": null,
   "metadata": {
    "collapsed": true
   },
   "outputs": [],
   "source": [
    "df.groupby['user_name']"
   ]
  },
  {
   "cell_type": "code",
   "execution_count": 165,
   "metadata": {
    "collapsed": true
   },
   "outputs": [],
   "source": [
    "def process_user_group(g):\n",
    "    c_id = g.sort('created_at').classification_id.iloc[0]\n",
    "    return g[g.classification_id == c_id]"
   ]
  },
  {
   "cell_type": "code",
   "execution_count": 139,
   "metadata": {
    "collapsed": false
   },
   "outputs": [],
   "source": [
    "filtered_data = df.groupby(['user_name']).apply(process_user_group)"
   ]
  },
  {
   "cell_type": "code",
   "execution_count": 189,
   "metadata": {
    "collapsed": false
   },
   "outputs": [
    {
     "data": {
      "text/plain": [
       "Index(['classification_id', 'created_at', 'image_id', 'image_name', 'image_url', 'user_name', 'marking', 'x_tile', 'y_tile', 'acquisition_date', 'local_mars_time', 'x', 'y', 'image_x', 'image_y', 'radius_1', 'radius_2', 'distance', 'angle', 'spread', 'version'], dtype='object')"
      ]
     },
     "execution_count": 189,
     "metadata": {},
     "output_type": "execute_result"
    }
   ],
   "source": [
    "filtered_data.columns"
   ]
  },
  {
   "cell_type": "code",
   "execution_count": 26,
   "metadata": {
    "collapsed": true
   },
   "outputs": [],
   "source": [
    "from planet4.get_data import get_image_name"
   ]
  },
  {
   "cell_type": "code",
   "execution_count": 27,
   "metadata": {
    "collapsed": true
   },
   "outputs": [],
   "source": [
    "dfimg = get_image_name(df.image_name.iloc[0])"
   ]
  },
  {
   "cell_type": "code",
   "execution_count": 185,
   "metadata": {
    "collapsed": false
   },
   "outputs": [
    {
     "name": "stdout",
     "output_type": "stream",
     "text": [
      "1 loops, best of 3: 22.1 s per loop\n"
     ]
    }
   ],
   "source": [
    "%%timeit\n",
    "container = []\n",
    "for image_id in dfimg.image_id.unique():\n",
    "    container.append(dfimg[dfimg.image_id == image_id].groupby('user_name').apply(process_user_group))\n",
    "filtered_df = pd.concat(container).reset_index(drop=True)"
   ]
  },
  {
   "cell_type": "code",
   "execution_count": 187,
   "metadata": {
    "collapsed": false
   },
   "outputs": [],
   "source": [
    "filtered_df = dfimg.groupby(['image_id','user_name']).apply(process_user_group).reset_index(drop=True)"
   ]
  },
  {
   "cell_type": "code",
   "execution_count": 190,
   "metadata": {
    "collapsed": true
   },
   "outputs": [],
   "source": [
    "pd.read_csv?"
   ]
  },
  {
   "cell_type": "code",
   "execution_count": 149,
   "metadata": {
    "collapsed": false
   },
   "outputs": [
    {
     "data": {
      "text/plain": [
       "image_id    user_name\n",
       "APF0001m83  mjester      7\n",
       "APF0001lx1  cmoran3      6\n",
       "Name: classification_id, dtype: int64"
      ]
     },
     "execution_count": 149,
     "metadata": {},
     "output_type": "execute_result"
    }
   ],
   "source": [
    "dfimg.groupby('image_id').apply(hf.classification_counts_per_user).nlargest(2)"
   ]
  },
  {
   "cell_type": "code",
   "execution_count": 151,
   "metadata": {
    "collapsed": false
   },
   "outputs": [
    {
     "data": {
      "text/plain": [
       "user_name\n",
       "davegrimble1                                      1\n",
       "not-logged-in-9e5677f1a606605a01beb41b63ecc0a1    1\n",
       "cornmill                                          1\n",
       "willOS                                            1\n",
       "angi60                                            1\n",
       "Mike191919                                        1\n",
       "emma.rance                                        1\n",
       "doug67                                            1\n",
       "pknut53                                           1\n",
       "not-logged-in-3b5235c7515dadec19f60d0923281671    1\n",
       "drigo                                             1\n",
       "Quincy Elizabeth                                  1\n",
       "servewhonor                                       1\n",
       "not-logged-in-bbe7a773d210a82bdcde038cb89c5927    1\n",
       "not-logged-in-61f85ec6e64b6a9fa8a1329848383c07    1\n",
       "not-logged-in-55f6cac76d260fbc76bff23b576c31e5    1\n",
       "Alebon                                            1\n",
       "Rachel05                                          1\n",
       "mjester                                           7\n",
       "Name: classification_id, dtype: int64"
      ]
     },
     "execution_count": 151,
     "metadata": {},
     "output_type": "execute_result"
    }
   ],
   "source": [
    "hf.classification_counts_per_user(dfimg[dfimg.image_id=='APF0001m83'])"
   ]
  },
  {
   "cell_type": "code",
   "execution_count": null,
   "metadata": {
    "collapsed": true
   },
   "outputs": [],
   "source": []
  }
 ],
 "metadata": {
  "kernelspec": {
   "display_name": "Python 3",
   "language": "python",
   "name": "python3"
  },
  "language_info": {
   "codemirror_mode": {
    "name": "ipython",
    "version": 3
   },
   "file_extension": ".py",
   "mimetype": "text/x-python",
   "name": "python",
   "nbconvert_exporter": "python",
   "pygments_lexer": "ipython3",
   "version": "3.4.3"
  }
 },
 "nbformat": 4,
 "nbformat_minor": 0
}
