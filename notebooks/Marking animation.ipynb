{
 "metadata": {
  "name": "",
  "signature": "sha256:13c9993d4cf29e118c958ae9d3ee76737d46454a6710b2b66d6763d28e4ae51d"
 },
 "nbformat": 3,
 "nbformat_minor": 0,
 "worksheets": [
  {
   "cells": [
    {
     "cell_type": "code",
     "collapsed": false,
     "input": [
      "from P4_sandbox import helper_functions as hf"
     ],
     "language": "python",
     "metadata": {},
     "outputs": [],
     "prompt_number": 1
    },
    {
     "cell_type": "code",
     "collapsed": false,
     "input": [
      "data = hf.get_current_done()"
     ],
     "language": "python",
     "metadata": {},
     "outputs": [],
     "prompt_number": 89
    },
    {
     "cell_type": "code",
     "collapsed": false,
     "input": [
      "data.image_id = data.image_id.str.strip()"
     ],
     "language": "python",
     "metadata": {},
     "outputs": [],
     "prompt_number": 92
    },
    {
     "cell_type": "code",
     "collapsed": false,
     "input": [
      "marked = data[data.marking != 'None']"
     ],
     "language": "python",
     "metadata": {},
     "outputs": [],
     "prompt_number": 93
    },
    {
     "cell_type": "code",
     "collapsed": false,
     "input": [
      "marked.to_hdf('marked.h5','df')"
     ],
     "language": "python",
     "metadata": {},
     "outputs": [],
     "prompt_number": 94
    },
    {
     "cell_type": "code",
     "collapsed": false,
     "input": [
      "marked"
     ],
     "language": "python",
     "metadata": {},
     "outputs": []
    },
    {
     "cell_type": "code",
     "collapsed": false,
     "input": [
      "os.path.basename(url)"
     ],
     "language": "python",
     "metadata": {},
     "outputs": [
      {
       "metadata": {},
       "output_type": "pyout",
       "prompt_number": 50,
       "text": [
        "'50e742d05e2ed21240004155.jpg'"
       ]
      }
     ],
     "prompt_number": 50
    },
    {
     "cell_type": "code",
     "collapsed": false,
     "input": [
      "img_ids = data.image_id.unique()"
     ],
     "language": "python",
     "metadata": {},
     "outputs": [],
     "prompt_number": 83
    },
    {
     "cell_type": "code",
     "collapsed": false,
     "input": [
      "import urllib\n",
      "import shutil\n",
      "import os\n",
      "import matplotlib.image as mplimg\n",
      "from itertools import cycle\n",
      "from matplotlib.patches import Ellipse\n",
      "\n",
      "colors = cycle('bgrcmyk')\n",
      "subframe = data[data.image_id == 'APF0000bha']\n",
      "blotches = subframe[subframe.marking=='blotch']\n",
      "url = blotches.iloc[0].image_url\n",
      "targetpath = os.path.join('./images', os.path.basename(url))\n",
      "if not os.path.exists(targetpath):\n",
      "    path = urllib.urlretrieve(url)[0]\n",
      "    shutil.move(path, targetpath)\n",
      "im = mplimg.imread(targetpath)\n",
      "imshow(im)\n",
      "ax = gca()\n",
      "for i, color in zip(xrange(len(blotches),), colors):\n",
      "    line = blotches.iloc[i]\n",
      "    scatter(line.x, line.y, color=color)\n",
      "    el = Ellipse((line.x, line.y),\n",
      "             line.radius_1, line.radius_2, line.angle,\n",
      "             fill=False, color=color, linewidth=1)\n",
      "    ax.add_artist(el)\n",
      "draw()"
     ],
     "language": "python",
     "metadata": {},
     "outputs": [],
     "prompt_number": 87
    },
    {
     "cell_type": "code",
     "collapsed": false,
     "input": [],
     "language": "python",
     "metadata": {},
     "outputs": []
    }
   ],
   "metadata": {}
  }
 ]
}