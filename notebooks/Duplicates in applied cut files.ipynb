{
 "cells": [
  {
   "cell_type": "code",
   "execution_count": 1,
   "metadata": {
    "collapsed": true
   },
   "outputs": [],
   "source": [
    "from planet4 import io"
   ]
  },
  {
   "cell_type": "code",
   "execution_count": 3,
   "metadata": {
    "collapsed": true
   },
   "outputs": [],
   "source": [
    "p = io.analysis_folder() / 'catalog_2016_04_13' / 'applied_cut_0.5'"
   ]
  },
  {
   "cell_type": "code",
   "execution_count": 5,
   "metadata": {
    "collapsed": true
   },
   "outputs": [],
   "source": [
    "p = io.analysis_folder() / 'catalog_2016_04_13'"
   ]
  },
  {
   "cell_type": "code",
   "execution_count": 31,
   "metadata": {
    "collapsed": false
   },
   "outputs": [
    {
     "data": {
      "text/plain": [
       "PosixPath('/Users/klay6683/Dropbox/data/planet4/p4_analysis/catalog_2016_04_13/applied_cut_0.5')"
      ]
     },
     "execution_count": 31,
     "metadata": {},
     "output_type": "execute_result"
    }
   ],
   "source": [
    "p"
   ]
  },
  {
   "cell_type": "code",
   "execution_count": 4,
   "metadata": {
    "collapsed": false
   },
   "outputs": [],
   "source": [
    "def hunt_bug(fname):\n",
    "    df = pd.read_csv(fname)\n",
    "    return (df[df.duplicated()].shape[0])"
   ]
  },
  {
   "cell_type": "code",
   "execution_count": 5,
   "metadata": {
    "collapsed": false,
    "scrolled": false
   },
   "outputs": [],
   "source": [
    "fnames = p.glob('*.csv')\n",
    "obsids = []\n",
    "no_of_dupes = []\n",
    "kind = []\n",
    "for fname in fnames:\n",
    "    tokens = fname.name.split('_')\n",
    "    obsids.append('_'.join(tokens[:3]))\n",
    "    kind.append(tokens[3].split('.')[0])\n",
    "    no_of_dupes.append(hunt_bug(fname))"
   ]
  },
  {
   "cell_type": "code",
   "execution_count": 6,
   "metadata": {
    "collapsed": false
   },
   "outputs": [],
   "source": [
    "df = pd.DataFrame(dict(obsids=obsids, no_of_dupes=no_of_dupes,\n",
    "                       kind=kind))"
   ]
  },
  {
   "cell_type": "code",
   "execution_count": 7,
   "metadata": {
    "collapsed": true
   },
   "outputs": [],
   "source": [
    "from hirise import hirise_tools as ht"
   ]
  },
  {
   "cell_type": "code",
   "execution_count": 8,
   "metadata": {
    "collapsed": false
   },
   "outputs": [],
   "source": [
    "df['orbit'] = df.obsids.map(lambda x: int(ht.OBSERVATION_ID(x).orbit))"
   ]
  },
  {
   "cell_type": "code",
   "execution_count": 9,
   "metadata": {
    "collapsed": true
   },
   "outputs": [],
   "source": [
    "%matplotlib inline"
   ]
  },
  {
   "cell_type": "code",
   "execution_count": 10,
   "metadata": {
    "collapsed": false
   },
   "outputs": [
    {
     "data": {
      "text/plain": [
       "<matplotlib.axes._subplots.AxesSubplot at 0x10a7e3438>"
      ]
     },
     "execution_count": 10,
     "metadata": {},
     "output_type": "execute_result"
    },
    {
     "data": {
      "image/png": "[encoded data removed]",
      "text/plain": [
       "<matplotlib.figure.Figure at 0x10a7d4978>"
      ]
     },
     "metadata": {},
     "output_type": "display_data"
    }
   ],
   "source": [
    "df.orbit.plot()"
   ]
  },
  {
   "cell_type": "code",
   "execution_count": 11,
   "metadata": {
    "collapsed": false,
    "scrolled": false
   },
   "outputs": [
    {
     "data": {
      "text/html": [
       "<div>\n",
       "<table border=\"1\" class=\"dataframe\">\n",
       "  <thead>\n",
       "    <tr style=\"text-align: right;\">\n",
       "      <th></th>\n",
       "      <th>kind</th>\n",
       "      <th>no_of_dupes</th>\n",
       "      <th>obsids</th>\n",
       "      <th>orbit</th>\n",
       "    </tr>\n",
       "  </thead>\n",
       "  <tbody>\n",
       "    <tr>\n",
       "      <th>0</th>\n",
       "      <td>blotches</td>\n",
       "      <td>1585</td>\n",
       "      <td>ESP_011296_0975</td>\n",
       "      <td>11296</td>\n",
       "    </tr>\n",
       "    <tr>\n",
       "      <th>1</th>\n",
       "      <td>fans</td>\n",
       "      <td>3407</td>\n",
       "      <td>ESP_011296_0975</td>\n",
       "      <td>11296</td>\n",
       "    </tr>\n",
       "    <tr>\n",
       "      <th>2</th>\n",
       "      <td>blotches</td>\n",
       "      <td>5</td>\n",
       "      <td>ESP_011341_0980</td>\n",
       "      <td>11341</td>\n",
       "    </tr>\n",
       "    <tr>\n",
       "      <th>3</th>\n",
       "      <td>fans</td>\n",
       "      <td>3</td>\n",
       "      <td>ESP_011341_0980</td>\n",
       "      <td>11341</td>\n",
       "    </tr>\n",
       "    <tr>\n",
       "      <th>4</th>\n",
       "      <td>blotches</td>\n",
       "      <td>3</td>\n",
       "      <td>ESP_011348_0950</td>\n",
       "      <td>11348</td>\n",
       "    </tr>\n",
       "    <tr>\n",
       "      <th>5</th>\n",
       "      <td>fans</td>\n",
       "      <td>0</td>\n",
       "      <td>ESP_011348_0950</td>\n",
       "      <td>11348</td>\n",
       "    </tr>\n",
       "    <tr>\n",
       "      <th>6</th>\n",
       "      <td>blotches</td>\n",
       "      <td>160</td>\n",
       "      <td>ESP_011350_0945</td>\n",
       "      <td>11350</td>\n",
       "    </tr>\n",
       "    <tr>\n",
       "      <th>7</th>\n",
       "      <td>fans</td>\n",
       "      <td>231</td>\n",
       "      <td>ESP_011350_0945</td>\n",
       "      <td>11350</td>\n",
       "    </tr>\n",
       "    <tr>\n",
       "      <th>8</th>\n",
       "      <td>blotches</td>\n",
       "      <td>276</td>\n",
       "      <td>ESP_011351_0945</td>\n",
       "      <td>11351</td>\n",
       "    </tr>\n",
       "    <tr>\n",
       "      <th>9</th>\n",
       "      <td>fans</td>\n",
       "      <td>1097</td>\n",
       "      <td>ESP_011351_0945</td>\n",
       "      <td>11351</td>\n",
       "    </tr>\n",
       "    <tr>\n",
       "      <th>10</th>\n",
       "      <td>blotches</td>\n",
       "      <td>0</td>\n",
       "      <td>ESP_011370_0980</td>\n",
       "      <td>11370</td>\n",
       "    </tr>\n",
       "    <tr>\n",
       "      <th>11</th>\n",
       "      <td>fans</td>\n",
       "      <td>0</td>\n",
       "      <td>ESP_011370_0980</td>\n",
       "      <td>11370</td>\n",
       "    </tr>\n",
       "    <tr>\n",
       "      <th>12</th>\n",
       "      <td>blotches</td>\n",
       "      <td>58</td>\n",
       "      <td>ESP_011394_0935</td>\n",
       "      <td>11394</td>\n",
       "    </tr>\n",
       "    <tr>\n",
       "      <th>13</th>\n",
       "      <td>fans</td>\n",
       "      <td>36</td>\n",
       "      <td>ESP_011394_0935</td>\n",
       "      <td>11394</td>\n",
       "    </tr>\n",
       "    <tr>\n",
       "      <th>14</th>\n",
       "      <td>blotches</td>\n",
       "      <td>74</td>\n",
       "      <td>ESP_011403_0945</td>\n",
       "      <td>11403</td>\n",
       "    </tr>\n",
       "  </tbody>\n",
       "</table>\n",
       "</div>"
      ],
      "text/plain": [
       "        kind  no_of_dupes           obsids  orbit\n",
       "0   blotches         1585  ESP_011296_0975  11296\n",
       "1       fans         3407  ESP_011296_0975  11296\n",
       "2   blotches            5  ESP_011341_0980  11341\n",
       "3       fans            3  ESP_011341_0980  11341\n",
       "4   blotches            3  ESP_011348_0950  11348\n",
       "5       fans            0  ESP_011348_0950  11348\n",
       "6   blotches          160  ESP_011350_0945  11350\n",
       "7       fans          231  ESP_011350_0945  11350\n",
       "8   blotches          276  ESP_011351_0945  11351\n",
       "9       fans         1097  ESP_011351_0945  11351\n",
       "10  blotches            0  ESP_011370_0980  11370\n",
       "11      fans            0  ESP_011370_0980  11370\n",
       "12  blotches           58  ESP_011394_0935  11394\n",
       "13      fans           36  ESP_011394_0935  11394\n",
       "14  blotches           74  ESP_011403_0945  11403"
      ]
     },
     "execution_count": 11,
     "metadata": {},
     "output_type": "execute_result"
    }
   ],
   "source": [
    "df[df.orbit < 18000].head(15)"
   ]
  },
  {
   "cell_type": "markdown",
   "metadata": {},
   "source": [
    "# reproduce"
   ]
  },
  {
   "cell_type": "code",
   "execution_count": 3,
   "metadata": {
    "collapsed": false
   },
   "outputs": [],
   "source": [
    "obsid = 'ESP_011296_0975'"
   ]
  },
  {
   "cell_type": "code",
   "execution_count": 6,
   "metadata": {
    "collapsed": false
   },
   "outputs": [
    {
     "data": {
      "text/plain": [
       "[PosixPath('/Users/klay6683/Dropbox/data/planet4/p4_analysis/catalog_2016_04_13/ESP_011296_0975_blotches.csv'),\n",
       " PosixPath('/Users/klay6683/Dropbox/data/planet4/p4_analysis/catalog_2016_04_13/ESP_011296_0975_fans.csv'),\n",
       " PosixPath('/Users/klay6683/Dropbox/data/planet4/p4_analysis/catalog_2016_04_13/ESP_011296_0975_fnotches.csv')]"
      ]
     },
     "execution_count": 6,
     "metadata": {},
     "output_type": "execute_result"
    }
   ],
   "source": [
    "fnames = list(p.glob(obsid+'*.csv'))\n",
    "fnames"
   ]
  },
  {
   "cell_type": "code",
   "execution_count": 7,
   "metadata": {
    "collapsed": false
   },
   "outputs": [],
   "source": [
    "blotches = pd.read_csv(fnames[0])\n",
    "fans = pd.read_csv(fnames[1])\n",
    "# fnotches = pd.read_csv(fnames[2])"
   ]
  },
  {
   "cell_type": "code",
   "execution_count": 8,
   "metadata": {
    "collapsed": false
   },
   "outputs": [
    {
     "name": "stdout",
     "output_type": "stream",
     "text": [
      "False    151\n",
      "dtype: int64\n",
      "False    478\n",
      "dtype: int64\n"
     ]
    }
   ],
   "source": [
    "for item in [blotches,fans]:\n",
    "    print(item.duplicated().value_counts())"
   ]
  },
  {
   "cell_type": "code",
   "execution_count": null,
   "metadata": {
    "collapsed": true
   },
   "outputs": [],
   "source": []
  }
 ],
 "metadata": {
  "kernelspec": {
   "display_name": "Python3 (stable)",
   "language": "python",
   "name": "stable"
  },
  "language_info": {
   "codemirror_mode": {
    "name": "ipython",
    "version": 3
   },
   "file_extension": ".py",
   "mimetype": "text/x-python",
   "name": "python",
   "nbconvert_exporter": "python",
   "pygments_lexer": "ipython3",
   "version": "3.5.1"
  },
  "widgets": {
   "state": {},
   "version": "1.1.1"
  }
 },
 "nbformat": 4,
 "nbformat_minor": 0
}
