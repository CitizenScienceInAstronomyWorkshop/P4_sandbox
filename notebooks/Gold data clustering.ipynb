{
 "cells": [
  {
   "cell_type": "markdown",
   "metadata": {
    "toc": true
   },
   "source": [
    "<h1>Table of Contents<span class=\"tocSkip\"></span></h1>\n",
    "<div class=\"toc\"><ul class=\"toc-item\"><li><span><a href=\"#gold-plotting\" data-toc-modified-id=\"gold-plotting-1\"><span class=\"toc-item-num\">1&nbsp;&nbsp;</span>gold plotting</a></span></li><li><span><a href=\"#rest\" data-toc-modified-id=\"rest-2\"><span class=\"toc-item-num\">2&nbsp;&nbsp;</span>rest</a></span></li></ul></div>"
   ]
  },
  {
   "cell_type": "markdown",
   "metadata": {
    "ExecuteTime": {
     "end_time": "2018-02-16T01:15:25.130100Z",
     "start_time": "2018-02-16T01:15:25.107801Z"
    }
   },
   "source": [
    "# gold plotting"
   ]
  },
  {
   "cell_type": "code",
   "execution_count": 2,
   "metadata": {
    "ExecuteTime": {
     "end_time": "2018-08-03T01:39:41.327765Z",
     "start_time": "2018-08-03T01:39:41.301714Z"
    }
   },
   "outputs": [],
   "source": [
    "from planet4 import io, markings, plotting, catalog_production\n",
    "import matplotlib as mpl"
   ]
  },
  {
   "cell_type": "code",
   "execution_count": 3,
   "metadata": {
    "ExecuteTime": {
     "end_time": "2018-08-03T01:42:25.178084Z",
     "start_time": "2018-08-03T01:42:25.150600Z"
    }
   },
   "outputs": [],
   "source": [
    "import seaborn as sns\n",
    "sns.set_context('paper')\n",
    "sns.set_palette('bright', color_codes=True)"
   ]
  },
  {
   "cell_type": "code",
   "execution_count": 87,
   "metadata": {
    "ExecuteTime": {
     "end_time": "2018-08-03T04:27:27.595242Z",
     "start_time": "2018-08-03T04:27:27.560541Z"
    }
   },
   "outputs": [],
   "source": [
    "def get_gold_ids(person):\n",
    "    \"\"\"Get gold data\n",
    "    \n",
    "    Pararemeters\n",
    "    ------------\n",
    "    person : {\"GP\", \"MES\", \"KMA\", \"common_gold_data\"}\n",
    "    \n",
    "    Returns\n",
    "    -------\n",
    "    pd.Series\n",
    "    \"\"\"\n",
    "    path = Path(\"/Users/klay6683/Dropbox/Documents/latex_docs/p4_paper1/gold_data\")\n",
    "    return pd.read_csv(path / f\"{person}.txt\", header=None, squeeze=True)\n",
    "\n",
    "class DataPipe:\n",
    "    gold_names = dict(GP=(\"Portyankina\", 'anya'), MES=('mschwamb','meg'), KMA=('michaelaye', 'michael'))\n",
    "    def __init__(self, version='v1.0'):\n",
    "        self.rm = catalog_production.ReleaseManager(version)\n",
    "        self.db = io.DBManager()\n",
    "        \n",
    "    @property\n",
    "    def anyas_ids(self):\n",
    "        return get_gold_ids('GP')\n",
    "    \n",
    "    @property\n",
    "    def megs_ids(self):\n",
    "        return get_gold_ids('MES')\n",
    "    \n",
    "    @property\n",
    "    def michaels_ids(self):\n",
    "        return get_gold_ids('KMA')\n",
    "    \n",
    "    @property\n",
    "    def common_ids(self):\n",
    "        return get_gold_ids('common_gold_data')\n",
    "    \n",
    "    def get_catalog_fans_for_id(self, id_):\n",
    "        pm = io.PathManager(id_=id_, datapath=self.rm.savefolder)\n",
    "        return pm.final_fandf if pm.final_fanfile.exists() else None\n",
    "\n",
    "    def get_catalog_blotches_for_id(self, id_):\n",
    "        pm = io.PathManager(id_=id_, datapath=self.rm.savefolder)\n",
    "        return pm.final_blotchdf if pm.final_blotchfile.exists() else None\n",
    "\n",
    "    def get_catalog_data_for_id(self, id_):\n",
    "        fans = self.get_catalog_fans_for_id(id_)\n",
    "        if fans is not None:\n",
    "            fans['marking'] = 'fan'\n",
    "        blotches = self.get_catalog_blotches_for_id(id_)\n",
    "        if blotches is not None:\n",
    "            blotches['marking'] = 'blotch'\n",
    "        if any([fans is not None,\n",
    "                blotches is not None]):\n",
    "            return pd.concat([fans, blotches], ignore_index=True, sort=True)\n",
    "        else:\n",
    "            return None\n",
    "    \n",
    "    def get_catalog_data_for_ids(self, ids):\n",
    "        data = list(map(self.get_catalog_data_for_id, ids))\n",
    "        return pd.concat(data, ignore_index=True, sort=True) if data is not None else None\n",
    "    \n",
    "    def get_catalog_data_for_gold_member(self, name):\n",
    "        ids = get_gold_ids(name)\n",
    "        return pd.concat(map(self.get_catalog_data_for_id, ids), ignore_index=True)\n",
    "    \n",
    "    def get_user_markings_for_id(self, user, id_,):\n",
    "        data = self.db.get_image_id_markings(id_)\n",
    "        return data.query('user_name == @user')\n",
    "\n",
    "    def get_user_markings_for_ids(self, user, ids):\n",
    "        data = [self.get_user_markings_for_id(user, id_,) for id_ in ids]\n",
    "        return pd.concat(data, ignore_index=True, sort=True)\n",
    "    \n",
    "    def get_gold_markings_for_expert(self, expert_id):\n",
    "        names = self.gold_names[expert_id]\n",
    "        ids = get_gold_ids(expert_id)\n",
    "        return self.get_user_markings_for_ids(names[0], ids)\n",
    "    \n",
    "    def get_gold_markings_common(self):\n",
    "        data = [self.db.get_image_id_markings(id_).\n",
    "                query('user_name in @markings.GOLD_MEMBERS') for id_ in self.common_ids]\n",
    "        return pd.concat(data, ignore_index=True, sort=True)\n",
    "    \n"
   ]
  },
  {
   "cell_type": "code",
   "execution_count": 69,
   "metadata": {
    "ExecuteTime": {
     "end_time": "2018-08-03T04:19:25.976476Z",
     "start_time": "2018-08-03T04:19:25.949358Z"
    }
   },
   "outputs": [],
   "source": [
    "rm = catalog_production.ReleaseManager('v1.0')"
   ]
  },
  {
   "cell_type": "code",
   "execution_count": 70,
   "metadata": {
    "ExecuteTime": {
     "end_time": "2018-08-03T04:19:26.872046Z",
     "start_time": "2018-08-03T04:19:26.842333Z"
    }
   },
   "outputs": [
    {
     "data": {
      "text/plain": [
       "PosixPath('/Users/klay6683/Dropbox/data/planet4/P4_catalog_v1.0')"
      ]
     },
     "execution_count": 70,
     "metadata": {},
     "output_type": "execute_result"
    }
   ],
   "source": [
    "rm.savefolder"
   ]
  },
  {
   "cell_type": "code",
   "execution_count": 71,
   "metadata": {
    "ExecuteTime": {
     "end_time": "2018-08-03T04:19:27.833202Z",
     "start_time": "2018-08-03T04:19:27.718093Z"
    }
   },
   "outputs": [],
   "source": [
    "pm = io.PathManager(id_='7xp', datapath=rm.savefolder)"
   ]
  },
  {
   "cell_type": "code",
   "execution_count": 72,
   "metadata": {
    "ExecuteTime": {
     "end_time": "2018-08-03T04:19:28.708281Z",
     "start_time": "2018-08-03T04:19:28.679193Z"
    }
   },
   "outputs": [
    {
     "data": {
      "text/plain": [
       "PosixPath('/Users/klay6683/Dropbox/data/planet4/P4_catalog_v1.0/ESP_011447_0950/APF00007xp/L1C_cut_0.5/APF00007xp_L1C_cut_0.5_fans.csv')"
      ]
     },
     "execution_count": 72,
     "metadata": {},
     "output_type": "execute_result"
    }
   ],
   "source": [
    "pm.final_fanfile"
   ]
  },
  {
   "cell_type": "code",
   "execution_count": 88,
   "metadata": {
    "ExecuteTime": {
     "end_time": "2018-08-03T04:27:30.878504Z",
     "start_time": "2018-08-03T04:27:30.850244Z"
    }
   },
   "outputs": [],
   "source": [
    "pipe = DataPipe()"
   ]
  },
  {
   "cell_type": "code",
   "execution_count": 13,
   "metadata": {
    "ExecuteTime": {
     "end_time": "2018-08-03T01:45:09.420564Z",
     "start_time": "2018-08-03T01:43:18.716502Z"
    },
    "scrolled": true
   },
   "outputs": [
    {
     "name": "stdout",
     "output_type": "stream",
     "text": [
      "GP\n",
      "MES\n",
      "KMA\n"
     ]
    }
   ],
   "source": [
    "gold_data = {}\n",
    "\n",
    "for expert in pipe.gold_names.keys():\n",
    "    print(expert)\n",
    "    gold_data[expert] = pipe.get_gold_markings_for_expert(expert)\n",
    "\n",
    "gold_data['common'] = pipe.get_gold_markings_common()"
   ]
  },
  {
   "cell_type": "code",
   "execution_count": 90,
   "metadata": {
    "ExecuteTime": {
     "end_time": "2018-08-03T04:30:52.928214Z",
     "start_time": "2018-08-03T04:27:45.791862Z"
    }
   },
   "outputs": [
    {
     "name": "stdout",
     "output_type": "stream",
     "text": [
      "GP\n",
      "MES\n",
      "KMA\n"
     ]
    }
   ],
   "source": [
    "catalog_data = {}\n",
    "for expert in pipe.gold_names.keys():\n",
    "    print(expert)\n",
    "    ids = get_gold_ids(expert)\n",
    "    catalog_data[expert] = pipe.get_catalog_data_for_ids(ids)"
   ]
  },
  {
   "cell_type": "code",
   "execution_count": 91,
   "metadata": {
    "ExecuteTime": {
     "end_time": "2018-08-03T04:31:21.663679Z",
     "start_time": "2018-08-03T04:30:54.111335Z"
    }
   },
   "outputs": [],
   "source": [
    "catalog_data['common'] = pipe.get_catalog_data_for_ids(get_gold_ids('common_gold_data'))"
   ]
  },
  {
   "cell_type": "code",
   "execution_count": 92,
   "metadata": {
    "ExecuteTime": {
     "end_time": "2018-08-03T04:31:22.983121Z",
     "start_time": "2018-08-03T04:31:22.937034Z"
    }
   },
   "outputs": [
    {
     "name": "stdout",
     "output_type": "stream",
     "text": [
      "GP\n",
      "430\n",
      "432\n",
      "MES\n",
      "432\n",
      "432\n",
      "KMA\n",
      "432\n",
      "432\n"
     ]
    }
   ],
   "source": [
    "for expert in pipe.gold_names.keys():\n",
    "    print(expert)\n",
    "    print(gold_data[expert].image_id.nunique())\n",
    "    print(len(get_gold_ids(expert)))"
   ]
  },
  {
   "cell_type": "code",
   "execution_count": 93,
   "metadata": {
    "ExecuteTime": {
     "end_time": "2018-08-03T04:36:37.930205Z",
     "start_time": "2018-08-03T04:36:37.706250Z"
    },
    "scrolled": true
   },
   "outputs": [
    {
     "name": "stdout",
     "output_type": "stream",
     "text": [
      "classification_id     430\n",
      "created_at            429\n",
      "image_id              430\n",
      "image_name            173\n",
      "image_url             430\n",
      "user_name               1\n",
      "marking                 3\n",
      "x_tile                  5\n",
      "y_tile                 99\n",
      "acquisition_date      126\n",
      "local_mars_time       123\n",
      "x                    1613\n",
      "y                     667\n",
      "image_x              2981\n",
      "image_y              4618\n",
      "radius_1              688\n",
      "radius_2              583\n",
      "distance             1160\n",
      "angle                2189\n",
      "spread               1375\n",
      "version                 2\n",
      "x_angle              2096\n",
      "y_angle              2078\n",
      "dtype: int64\n",
      "classification_id     432\n",
      "created_at            428\n",
      "image_id              432\n",
      "image_name            160\n",
      "image_url             432\n",
      "user_name               1\n",
      "marking                 4\n",
      "x_tile                  5\n",
      "y_tile                 86\n",
      "acquisition_date      112\n",
      "local_mars_time       119\n",
      "x                    1273\n",
      "y                     741\n",
      "image_x              2487\n",
      "image_y              4034\n",
      "radius_1              786\n",
      "radius_2              734\n",
      "distance             1134\n",
      "angle                2039\n",
      "spread               1356\n",
      "version                 2\n",
      "x_angle              1974\n",
      "y_angle              1961\n",
      "dtype: int64\n",
      "classification_id     432\n",
      "created_at            432\n",
      "image_id              432\n",
      "image_name            165\n",
      "image_url             432\n",
      "user_name               1\n",
      "marking                 4\n",
      "x_tile                  5\n",
      "y_tile                 95\n",
      "acquisition_date      118\n",
      "local_mars_time       118\n",
      "x                    1720\n",
      "y                     796\n",
      "image_x              3238\n",
      "image_y              4893\n",
      "radius_1              778\n",
      "radius_2              671\n",
      "distance             1150\n",
      "angle                2243\n",
      "spread               1326\n",
      "version                 2\n",
      "x_angle              2145\n",
      "y_angle              2140\n",
      "dtype: int64\n"
     ]
    }
   ],
   "source": [
    "for expert in pipe.gold_names.keys():\n",
    "    print(gold_data[expert].nunique())"
   ]
  },
  {
   "cell_type": "code",
   "execution_count": 94,
   "metadata": {
    "ExecuteTime": {
     "end_time": "2018-08-03T04:36:48.285847Z",
     "start_time": "2018-08-03T04:36:48.177794Z"
    }
   },
   "outputs": [],
   "source": [
    "%matplotlib ipympl\n",
    "plt.style.use('tableau-colorblind10')"
   ]
  },
  {
   "cell_type": "code",
   "execution_count": 95,
   "metadata": {
    "ExecuteTime": {
     "end_time": "2018-08-03T04:36:49.994371Z",
     "start_time": "2018-08-03T04:36:49.967001Z"
    }
   },
   "outputs": [],
   "source": [
    "plt.rcParams['axes.grid'] = False\n",
    "plt.rcParams['axes.grid.which'] = 'both'"
   ]
  },
  {
   "cell_type": "code",
   "execution_count": 348,
   "metadata": {},
   "outputs": [
    {
     "name": "stderr",
     "output_type": "stream",
     "text": [
      "/Users/klay6683/miniconda3/envs/stable/lib/python3.6/site-packages/matplotlib/__init__.py:932: MatplotlibDeprecationWarning: nbagg.transparent is deprecated and ignored. Use figure.facecolor instead.\n",
      "  mplDeprecation)\n"
     ]
    },
    {
     "data": {
      "application/vnd.jupyter.widget-view+json": {
       "model_id": "948d6f553f564dcebb1eade62e6de889",
       "version_major": 2,
       "version_minor": 0
      },
      "text/html": [
       "<p>Failed to display Jupyter Widget of type <code>FigureCanvasNbAgg</code>.</p>\n",
       "<p>\n",
       "  If you're reading this message in the Jupyter Notebook or JupyterLab Notebook, it may mean\n",
       "  that the widgets JavaScript is still loading. If this message persists, it\n",
       "  likely means that the widgets JavaScript library is either not installed or\n",
       "  not enabled. See the <a href=\"https://ipywidgets.readthedocs.io/en/stable/user_install.html\">Jupyter\n",
       "  Widgets Documentation</a> for setup instructions.\n",
       "</p>\n",
       "<p>\n",
       "  If you're reading this message in another frontend (for example, a static\n",
       "  rendering on GitHub or <a href=\"https://nbviewer.jupyter.org/\">NBViewer</a>),\n",
       "  it may mean that your frontend doesn't currently support widgets.\n",
       "</p>\n"
      ],
      "text/plain": [
       "FigureCanvasNbAgg()"
      ]
     },
     "metadata": {},
     "output_type": "display_data"
    },
    {
     "name": "stderr",
     "output_type": "stream",
     "text": [
      "/Users/klay6683/miniconda3/envs/stable/lib/python3.6/site-packages/numpy/core/fromnumeric.py:52: FutureWarning: reshape is deprecated and will raise in a subsequent release. Please use .values.reshape(...) instead\n",
      "  return getattr(obj, method)(*args, **kwds)\n"
     ]
    }
   ],
   "source": [
    "bins = np.arange(0, 175, 5)\n",
    "fig, axes = plt.subplots(nrows=3, figsize=(10,7), sharex=False)\n",
    "for expert,ax in zip(pipe.gold_names.keys(), axes):\n",
    "    ax.grid(which='major', lw=0.5)\n",
    "    data = {expert:gold_data, 'catalog':catalog_data}\n",
    "    expdata = gold_data[expert].groupby('image_id').size()\n",
    "    catdata = catalog_data[expert].groupby('image_id').size()\n",
    "    _ = ax.hist([expdata, catdata], bins=bins, log=True, label=[expert, 'catalog'])\n",
    "    ax.legend()\n",
    "    ax.set_ylabel(\"# of tiles\")\n",
    "ax.set_xlabel('# of fans+blotches per Planet Four tile')\n",
    "fig.suptitle('Expert vs Catalog object identification frequency')\n",
    "fig.subplots_adjust(top=0.95)\n",
    "fig.savefig('/Users/klay6683/Dropbox/src/p4_paper1/figures/gold_fans_and_blotches_histos.pdf',\n",
    "            dpi=200, bbox_inches='tight')"
   ]
  },
  {
   "cell_type": "code",
   "execution_count": 96,
   "metadata": {
    "ExecuteTime": {
     "end_time": "2018-08-03T04:37:05.493053Z",
     "start_time": "2018-08-03T04:37:05.465189Z"
    }
   },
   "outputs": [],
   "source": [
    "sns.set_context('notebook')"
   ]
  },
  {
   "cell_type": "code",
   "execution_count": 368,
   "metadata": {},
   "outputs": [
    {
     "name": "stderr",
     "output_type": "stream",
     "text": [
      "/Users/klay6683/miniconda3/envs/stable/lib/python3.6/site-packages/matplotlib/pyplot.py:537: RuntimeWarning: More than 20 figures have been opened. Figures created through the pyplot interface (`matplotlib.pyplot.figure`) are retained until explicitly closed and may consume too much memory. (To control this warning, see the rcParam `figure.max_open_warning`).\n",
      "  max_open_warning, RuntimeWarning)\n",
      "/Users/klay6683/miniconda3/envs/stable/lib/python3.6/site-packages/matplotlib/__init__.py:932: MatplotlibDeprecationWarning: nbagg.transparent is deprecated and ignored. Use figure.facecolor instead.\n",
      "  mplDeprecation)\n"
     ]
    },
    {
     "data": {
      "application/vnd.jupyter.widget-view+json": {
       "model_id": "3cb9aa7fc4d14a5cb07bf1b2e640dd12",
       "version_major": 2,
       "version_minor": 0
      },
      "text/html": [
       "<p>Failed to display Jupyter Widget of type <code>FigureCanvasNbAgg</code>.</p>\n",
       "<p>\n",
       "  If you're reading this message in the Jupyter Notebook or JupyterLab Notebook, it may mean\n",
       "  that the widgets JavaScript is still loading. If this message persists, it\n",
       "  likely means that the widgets JavaScript library is either not installed or\n",
       "  not enabled. See the <a href=\"https://ipywidgets.readthedocs.io/en/stable/user_install.html\">Jupyter\n",
       "  Widgets Documentation</a> for setup instructions.\n",
       "</p>\n",
       "<p>\n",
       "  If you're reading this message in another frontend (for example, a static\n",
       "  rendering on GitHub or <a href=\"https://nbviewer.jupyter.org/\">NBViewer</a>),\n",
       "  it may mean that your frontend doesn't currently support widgets.\n",
       "</p>\n"
      ],
      "text/plain": [
       "FigureCanvasNbAgg()"
      ]
     },
     "metadata": {},
     "output_type": "display_data"
    },
    {
     "name": "stderr",
     "output_type": "stream",
     "text": [
      "/Users/klay6683/miniconda3/envs/stable/lib/python3.6/site-packages/numpy/core/fromnumeric.py:52: FutureWarning: reshape is deprecated and will raise in a subsequent release. Please use .values.reshape(...) instead\n",
      "  return getattr(obj, method)(*args, **kwds)\n"
     ]
    }
   ],
   "source": [
    "bins = np.arange(0, 75, 5)\n",
    "fig, axes = plt.subplots(nrows=1, figsize=(10,2.5), sharex=False)\n",
    "axes.grid(which='major', lw=0.5)\n",
    "expert='common'\n",
    "expdata = gold_data[expert].groupby(['user_name','image_id']).size()\n",
    "catdata = catalog_data[expert].groupby('image_id').size()\n",
    "_ = axes.hist([expdata['Portyankina'], expdata['mschwamb'], \n",
    "               expdata['michaelaye'], catdata], bins=bins, log=True, label=['GP', 'MES', 'KMA', 'catalog'])\n",
    "axes.legend()\n",
    "axes.set_ylabel(\"# of tiles\")\n",
    "axes.set_xlabel('# of fans+blotches per Planet Four tile')\n",
    "axes.set_title(\"Common Expert data vs Catalog\");\n",
    "fig.savefig('/Users/klay6683/Dropbox/src/p4_paper1/figures/gold_fans_and_blotches_histos_common.pdf',\n",
    "            dpi=150, bbox_inches='tight')"
   ]
  },
  {
   "cell_type": "code",
   "execution_count": 339,
   "metadata": {},
   "outputs": [],
   "source": [
    "plt.close('all')"
   ]
  },
  {
   "cell_type": "code",
   "execution_count": 356,
   "metadata": {},
   "outputs": [
    {
     "name": "stderr",
     "output_type": "stream",
     "text": [
      "/Users/klay6683/miniconda3/envs/stable/lib/python3.6/site-packages/matplotlib/__init__.py:932: MatplotlibDeprecationWarning: nbagg.transparent is deprecated and ignored. Use figure.facecolor instead.\n",
      "  mplDeprecation)\n"
     ]
    },
    {
     "data": {
      "application/vnd.jupyter.widget-view+json": {
       "model_id": "46801562a93c4fa78db94e0dbb6b1a69",
       "version_major": 2,
       "version_minor": 0
      },
      "text/html": [
       "<p>Failed to display Jupyter Widget of type <code>FigureCanvasNbAgg</code>.</p>\n",
       "<p>\n",
       "  If you're reading this message in the Jupyter Notebook or JupyterLab Notebook, it may mean\n",
       "  that the widgets JavaScript is still loading. If this message persists, it\n",
       "  likely means that the widgets JavaScript library is either not installed or\n",
       "  not enabled. See the <a href=\"https://ipywidgets.readthedocs.io/en/stable/user_install.html\">Jupyter\n",
       "  Widgets Documentation</a> for setup instructions.\n",
       "</p>\n",
       "<p>\n",
       "  If you're reading this message in another frontend (for example, a static\n",
       "  rendering on GitHub or <a href=\"https://nbviewer.jupyter.org/\">NBViewer</a>),\n",
       "  it may mean that your frontend doesn't currently support widgets.\n",
       "</p>\n"
      ],
      "text/plain": [
       "FigureCanvasNbAgg()"
      ]
     },
     "metadata": {},
     "output_type": "display_data"
    },
    {
     "name": "stderr",
     "output_type": "stream",
     "text": [
      "/Users/klay6683/miniconda3/envs/stable/lib/python3.6/site-packages/numpy/core/fromnumeric.py:52: FutureWarning: reshape is deprecated and will raise in a subsequent release. Please use .values.reshape(...) instead\n",
      "  return getattr(obj, method)(*args, **kwds)\n"
     ]
    }
   ],
   "source": [
    "bins = np.arange(0, 85, 5)\n",
    "fig, axes = plt.subplots(nrows=3, figsize=(10,7), sharex=False)\n",
    "for expert,ax in zip(pipe.gold_names.keys(), axes):\n",
    "    ax.grid(which='major', lw=0.5)\n",
    "    data = {expert:gold_data, 'catalog':catalog_data}\n",
    "    expdata = gold_data[expert].query('marking==\"fan\"').groupby('image_id').size()\n",
    "    catdata = catalog_data[expert].query('marking==\"fan\"').groupby('image_id').size()\n",
    "    _ = ax.hist([expdata, catdata], bins=bins, log=True, label=[expert, 'catalog'])\n",
    "    ax.legend()\n",
    "    ax.set_ylabel(\"# of tiles\")\n",
    "ax.set_xlabel('# of fans per Planet Four tile')\n",
    "fig.suptitle('Expert vs Catalog object identification frequency: Fans only')\n",
    "fig.subplots_adjust(top=0.95)\n",
    "fig.savefig('/Users/klay6683/Dropbox/src/p4_paper1/figures/gold_fans_histos.pdf',\n",
    "            dpi=200, bbox_inches='tight')"
   ]
  },
  {
   "cell_type": "code",
   "execution_count": 367,
   "metadata": {},
   "outputs": [
    {
     "name": "stderr",
     "output_type": "stream",
     "text": [
      "/Users/klay6683/miniconda3/envs/stable/lib/python3.6/site-packages/matplotlib/pyplot.py:537: RuntimeWarning: More than 20 figures have been opened. Figures created through the pyplot interface (`matplotlib.pyplot.figure`) are retained until explicitly closed and may consume too much memory. (To control this warning, see the rcParam `figure.max_open_warning`).\n",
      "  max_open_warning, RuntimeWarning)\n",
      "/Users/klay6683/miniconda3/envs/stable/lib/python3.6/site-packages/matplotlib/__init__.py:932: MatplotlibDeprecationWarning: nbagg.transparent is deprecated and ignored. Use figure.facecolor instead.\n",
      "  mplDeprecation)\n"
     ]
    },
    {
     "data": {
      "application/vnd.jupyter.widget-view+json": {
       "model_id": "f4ae4038dd034b87a78f80e3c3d09a8c",
       "version_major": 2,
       "version_minor": 0
      },
      "text/html": [
       "<p>Failed to display Jupyter Widget of type <code>FigureCanvasNbAgg</code>.</p>\n",
       "<p>\n",
       "  If you're reading this message in the Jupyter Notebook or JupyterLab Notebook, it may mean\n",
       "  that the widgets JavaScript is still loading. If this message persists, it\n",
       "  likely means that the widgets JavaScript library is either not installed or\n",
       "  not enabled. See the <a href=\"https://ipywidgets.readthedocs.io/en/stable/user_install.html\">Jupyter\n",
       "  Widgets Documentation</a> for setup instructions.\n",
       "</p>\n",
       "<p>\n",
       "  If you're reading this message in another frontend (for example, a static\n",
       "  rendering on GitHub or <a href=\"https://nbviewer.jupyter.org/\">NBViewer</a>),\n",
       "  it may mean that your frontend doesn't currently support widgets.\n",
       "</p>\n"
      ],
      "text/plain": [
       "FigureCanvasNbAgg()"
      ]
     },
     "metadata": {},
     "output_type": "display_data"
    },
    {
     "name": "stderr",
     "output_type": "stream",
     "text": [
      "/Users/klay6683/miniconda3/envs/stable/lib/python3.6/site-packages/numpy/core/fromnumeric.py:52: FutureWarning: reshape is deprecated and will raise in a subsequent release. Please use .values.reshape(...) instead\n",
      "  return getattr(obj, method)(*args, **kwds)\n"
     ]
    }
   ],
   "source": [
    "bins = np.arange(0, 60, 5)\n",
    "fig, axes = plt.subplots(nrows=1, figsize=(10,2.5), sharex=False)\n",
    "axes.grid(which='major', lw=0.5)\n",
    "expert='common'\n",
    "expdata = gold_data[expert].query('marking==\"fan\"').groupby(['user_name','image_id']).size()\n",
    "catdata = catalog_data[expert].query('marking==\"fan\"').groupby('image_id').size()\n",
    "_ = axes.hist([expdata['Portyankina'], expdata['mschwamb'], \n",
    "               expdata['michaelaye'], catdata], bins=bins, log=True, label=['GP', 'MES', 'KMA', 'catalog'])\n",
    "axes.legend()\n",
    "axes.set_ylabel(\"# of tiles\")\n",
    "axes.set_xlabel('# of fans per Planet Four tile')\n",
    "axes.set_title(\"Common Expert data vs Catalog: Fans only\");\n",
    "fig.savefig('/Users/klay6683/Dropbox/src/p4_paper1/figures/gold_fans_histos_common.pdf',\n",
    "            dpi=150, bbox_inches='tight')"
   ]
  },
  {
   "cell_type": "code",
   "execution_count": 361,
   "metadata": {},
   "outputs": [
    {
     "name": "stderr",
     "output_type": "stream",
     "text": [
      "/Users/klay6683/miniconda3/envs/stable/lib/python3.6/site-packages/matplotlib/pyplot.py:537: RuntimeWarning: More than 20 figures have been opened. Figures created through the pyplot interface (`matplotlib.pyplot.figure`) are retained until explicitly closed and may consume too much memory. (To control this warning, see the rcParam `figure.max_open_warning`).\n",
      "  max_open_warning, RuntimeWarning)\n",
      "/Users/klay6683/miniconda3/envs/stable/lib/python3.6/site-packages/matplotlib/__init__.py:932: MatplotlibDeprecationWarning: nbagg.transparent is deprecated and ignored. Use figure.facecolor instead.\n",
      "  mplDeprecation)\n"
     ]
    },
    {
     "data": {
      "application/vnd.jupyter.widget-view+json": {
       "model_id": "3d1a5980b31743db9d77038687f41d3f",
       "version_major": 2,
       "version_minor": 0
      },
      "text/html": [
       "<p>Failed to display Jupyter Widget of type <code>FigureCanvasNbAgg</code>.</p>\n",
       "<p>\n",
       "  If you're reading this message in the Jupyter Notebook or JupyterLab Notebook, it may mean\n",
       "  that the widgets JavaScript is still loading. If this message persists, it\n",
       "  likely means that the widgets JavaScript library is either not installed or\n",
       "  not enabled. See the <a href=\"https://ipywidgets.readthedocs.io/en/stable/user_install.html\">Jupyter\n",
       "  Widgets Documentation</a> for setup instructions.\n",
       "</p>\n",
       "<p>\n",
       "  If you're reading this message in another frontend (for example, a static\n",
       "  rendering on GitHub or <a href=\"https://nbviewer.jupyter.org/\">NBViewer</a>),\n",
       "  it may mean that your frontend doesn't currently support widgets.\n",
       "</p>\n"
      ],
      "text/plain": [
       "FigureCanvasNbAgg()"
      ]
     },
     "metadata": {},
     "output_type": "display_data"
    },
    {
     "name": "stderr",
     "output_type": "stream",
     "text": [
      "/Users/klay6683/miniconda3/envs/stable/lib/python3.6/site-packages/numpy/core/fromnumeric.py:52: FutureWarning: reshape is deprecated and will raise in a subsequent release. Please use .values.reshape(...) instead\n",
      "  return getattr(obj, method)(*args, **kwds)\n"
     ]
    }
   ],
   "source": [
    "bins = np.arange(0, 85, 5)\n",
    "fig, axes = plt.subplots(nrows=3, figsize=(10,7), sharex=False)\n",
    "for expert,ax in zip(pipe.gold_names.keys(), axes):\n",
    "    ax.grid(which='major', lw=0.5)\n",
    "    data = {expert:gold_data, 'catalog':catalog_data}\n",
    "    expdata = gold_data[expert].query('marking==\"blotch\"').groupby('image_id').size()\n",
    "    catdata = catalog_data[expert].query('marking==\"blotch\"').groupby('image_id').size()\n",
    "    _ = ax.hist([expdata, catdata], bins=bins, log=True, label=[expert, 'catalog'])\n",
    "    ax.legend()\n",
    "    ax.set_ylabel(\"# of tiles\")\n",
    "ax.set_xlabel('# of blotches per Planet Four tile')\n",
    "fig.suptitle('Expert vs Catalog object identification frequency: Blotches only')\n",
    "fig.subplots_adjust(top=0.95)\n",
    "fig.savefig('/Users/klay6683/Dropbox/src/p4_paper1/figures/gold_blotches_histos.pdf',\n",
    "            dpi=200, bbox_inches='tight')"
   ]
  },
  {
   "cell_type": "code",
   "execution_count": 366,
   "metadata": {},
   "outputs": [
    {
     "name": "stderr",
     "output_type": "stream",
     "text": [
      "/Users/klay6683/miniconda3/envs/stable/lib/python3.6/site-packages/matplotlib/pyplot.py:537: RuntimeWarning: More than 20 figures have been opened. Figures created through the pyplot interface (`matplotlib.pyplot.figure`) are retained until explicitly closed and may consume too much memory. (To control this warning, see the rcParam `figure.max_open_warning`).\n",
      "  max_open_warning, RuntimeWarning)\n",
      "/Users/klay6683/miniconda3/envs/stable/lib/python3.6/site-packages/matplotlib/__init__.py:932: MatplotlibDeprecationWarning: nbagg.transparent is deprecated and ignored. Use figure.facecolor instead.\n",
      "  mplDeprecation)\n"
     ]
    },
    {
     "data": {
      "application/vnd.jupyter.widget-view+json": {
       "model_id": "ebdbae197f4a47a7ae079affa450eaff",
       "version_major": 2,
       "version_minor": 0
      },
      "text/html": [
       "<p>Failed to display Jupyter Widget of type <code>FigureCanvasNbAgg</code>.</p>\n",
       "<p>\n",
       "  If you're reading this message in the Jupyter Notebook or JupyterLab Notebook, it may mean\n",
       "  that the widgets JavaScript is still loading. If this message persists, it\n",
       "  likely means that the widgets JavaScript library is either not installed or\n",
       "  not enabled. See the <a href=\"https://ipywidgets.readthedocs.io/en/stable/user_install.html\">Jupyter\n",
       "  Widgets Documentation</a> for setup instructions.\n",
       "</p>\n",
       "<p>\n",
       "  If you're reading this message in another frontend (for example, a static\n",
       "  rendering on GitHub or <a href=\"https://nbviewer.jupyter.org/\">NBViewer</a>),\n",
       "  it may mean that your frontend doesn't currently support widgets.\n",
       "</p>\n"
      ],
      "text/plain": [
       "FigureCanvasNbAgg()"
      ]
     },
     "metadata": {},
     "output_type": "display_data"
    },
    {
     "name": "stderr",
     "output_type": "stream",
     "text": [
      "/Users/klay6683/miniconda3/envs/stable/lib/python3.6/site-packages/numpy/core/fromnumeric.py:52: FutureWarning: reshape is deprecated and will raise in a subsequent release. Please use .values.reshape(...) instead\n",
      "  return getattr(obj, method)(*args, **kwds)\n"
     ]
    }
   ],
   "source": [
    "bins = np.arange(0, 60, 5)\n",
    "fig, axes = plt.subplots(nrows=1, figsize=(10,2.5), sharex=False)\n",
    "axes.grid(which='major', lw=0.5)\n",
    "expert='common'\n",
    "expdata = gold_data[expert].query('marking==\"blotch\"').groupby(['user_name','image_id']).size()\n",
    "catdata = catalog_data[expert].query('marking==\"blotch\"').groupby('image_id').size()\n",
    "_ = axes.hist([expdata['Portyankina'], expdata['mschwamb'], \n",
    "               expdata['michaelaye'], catdata], bins=bins, log=True, label=['GP', 'MES', 'KMA', 'catalog'])\n",
    "axes.legend()\n",
    "axes.set_ylabel(\"# of tiles\")\n",
    "axes.set_xlabel('# of blotches per Planet Four tile')\n",
    "axes.set_title(\"Common Expert data vs Catalog: Blotches only\");\n",
    "fig.savefig('/Users/klay6683/Dropbox/src/p4_paper1/figures/gold_blotches_histos_common.pdf',\n",
    "            dpi=150, bbox_inches='tight')"
   ]
  },
  {
   "cell_type": "code",
   "execution_count": 250,
   "metadata": {},
   "outputs": [],
   "source": [
    "plt.close('all')"
   ]
  },
  {
   "cell_type": "code",
   "execution_count": 352,
   "metadata": {},
   "outputs": [
    {
     "name": "stderr",
     "output_type": "stream",
     "text": [
      "/Users/klay6683/miniconda3/envs/stable/lib/python3.6/site-packages/matplotlib/__init__.py:932: MatplotlibDeprecationWarning: nbagg.transparent is deprecated and ignored. Use figure.facecolor instead.\n",
      "  mplDeprecation)\n"
     ]
    },
    {
     "data": {
      "application/vnd.jupyter.widget-view+json": {
       "model_id": "3cfe389551cd47fdb8059e0b5a06ccf3",
       "version_major": 2,
       "version_minor": 0
      },
      "text/html": [
       "<p>Failed to display Jupyter Widget of type <code>FigureCanvasNbAgg</code>.</p>\n",
       "<p>\n",
       "  If you're reading this message in the Jupyter Notebook or JupyterLab Notebook, it may mean\n",
       "  that the widgets JavaScript is still loading. If this message persists, it\n",
       "  likely means that the widgets JavaScript library is either not installed or\n",
       "  not enabled. See the <a href=\"https://ipywidgets.readthedocs.io/en/stable/user_install.html\">Jupyter\n",
       "  Widgets Documentation</a> for setup instructions.\n",
       "</p>\n",
       "<p>\n",
       "  If you're reading this message in another frontend (for example, a static\n",
       "  rendering on GitHub or <a href=\"https://nbviewer.jupyter.org/\">NBViewer</a>),\n",
       "  it may mean that your frontend doesn't currently support widgets.\n",
       "</p>\n"
      ],
      "text/plain": [
       "FigureCanvasNbAgg()"
      ]
     },
     "metadata": {},
     "output_type": "display_data"
    },
    {
     "name": "stderr",
     "output_type": "stream",
     "text": [
      "/Users/klay6683/miniconda3/envs/stable/lib/python3.6/site-packages/numpy/core/fromnumeric.py:52: FutureWarning: reshape is deprecated and will raise in a subsequent release. Please use .values.reshape(...) instead\n",
      "  return getattr(obj, method)(*args, **kwds)\n"
     ]
    }
   ],
   "source": [
    "bins = np.arange(0, 600, 30)\n",
    "fig, axes = plt.subplots(nrows=3, figsize=(10,7), sharex=False)\n",
    "for expert,ax in zip(pipe.gold_names.keys(), axes):\n",
    "    ax.grid(which='major', lw=0.5)\n",
    "    data = {expert:gold_data, 'catalog':catalog_data}\n",
    "    expdata = gold_data[expert].query('marking==\"fan\"').distance\n",
    "    catdata = catalog_data[expert].query('marking==\"fan\"').distance\n",
    "    _ = ax.hist([expdata, catdata], bins=bins, log=True, label=[expert, 'catalog'])\n",
    "    ax.legend()\n",
    "    ax.set_ylabel(\"# of fans\")\n",
    "ax.set_xlabel('Fan lengths [pixel]')\n",
    "fig.suptitle('Fans lengths, expert vs catalog')\n",
    "fig.subplots_adjust(top=0.95)\n",
    "fig.savefig('/Users/klay6683/Dropbox/src/p4_paper1/figures/gold_fan_lengths.pdf',\n",
    "            dpi=200, bbox_inches='tight')"
   ]
  },
  {
   "cell_type": "code",
   "execution_count": 365,
   "metadata": {},
   "outputs": [
    {
     "name": "stderr",
     "output_type": "stream",
     "text": [
      "/Users/klay6683/miniconda3/envs/stable/lib/python3.6/site-packages/matplotlib/pyplot.py:537: RuntimeWarning: More than 20 figures have been opened. Figures created through the pyplot interface (`matplotlib.pyplot.figure`) are retained until explicitly closed and may consume too much memory. (To control this warning, see the rcParam `figure.max_open_warning`).\n",
      "  max_open_warning, RuntimeWarning)\n",
      "/Users/klay6683/miniconda3/envs/stable/lib/python3.6/site-packages/matplotlib/__init__.py:932: MatplotlibDeprecationWarning: nbagg.transparent is deprecated and ignored. Use figure.facecolor instead.\n",
      "  mplDeprecation)\n"
     ]
    },
    {
     "data": {
      "application/vnd.jupyter.widget-view+json": {
       "model_id": "8fd0951fa479465a8b3649bc9673f7a7",
       "version_major": 2,
       "version_minor": 0
      },
      "text/html": [
       "<p>Failed to display Jupyter Widget of type <code>FigureCanvasNbAgg</code>.</p>\n",
       "<p>\n",
       "  If you're reading this message in the Jupyter Notebook or JupyterLab Notebook, it may mean\n",
       "  that the widgets JavaScript is still loading. If this message persists, it\n",
       "  likely means that the widgets JavaScript library is either not installed or\n",
       "  not enabled. See the <a href=\"https://ipywidgets.readthedocs.io/en/stable/user_install.html\">Jupyter\n",
       "  Widgets Documentation</a> for setup instructions.\n",
       "</p>\n",
       "<p>\n",
       "  If you're reading this message in another frontend (for example, a static\n",
       "  rendering on GitHub or <a href=\"https://nbviewer.jupyter.org/\">NBViewer</a>),\n",
       "  it may mean that your frontend doesn't currently support widgets.\n",
       "</p>\n"
      ],
      "text/plain": [
       "FigureCanvasNbAgg()"
      ]
     },
     "metadata": {},
     "output_type": "display_data"
    },
    {
     "name": "stderr",
     "output_type": "stream",
     "text": [
      "/Users/klay6683/miniconda3/envs/stable/lib/python3.6/site-packages/numpy/core/fromnumeric.py:52: FutureWarning: reshape is deprecated and will raise in a subsequent release. Please use .values.reshape(...) instead\n",
      "  return getattr(obj, method)(*args, **kwds)\n"
     ]
    }
   ],
   "source": [
    "bins = np.arange(0, 600, 30)\n",
    "fig, axes = plt.subplots(nrows=1, figsize=(10,2.5), sharex=False)\n",
    "axes.grid(which='major', lw=0.5)\n",
    "expert='common'\n",
    "expdata = gold_data[expert].query('marking==\"fan\"').groupby(['user_name']).distance\n",
    "catdata = catalog_data[expert].query('marking==\"fan\"').distance\n",
    "_ = axes.hist([expdata.get_group('Portyankina'), expdata.get_group('mschwamb'), \n",
    "               expdata.get_group('michaelaye'), catdata], bins=bins, log=True, label=['GP', 'MES', 'KMA', 'catalog'])\n",
    "axes.legend()\n",
    "axes.set_ylabel(\"# of fans\")\n",
    "axes.set_xlabel('Fan lengths [pixel]')\n",
    "axes.set_title(\"Fan lengths, common expert data vs catalog\");\n",
    "fig.savefig('/Users/klay6683/Dropbox/src/p4_paper1/figures/gold_fan_lengths_common.pdf',\n",
    "            dpi=150, bbox_inches='tight')"
   ]
  },
  {
   "cell_type": "code",
   "execution_count": 311,
   "metadata": {},
   "outputs": [],
   "source": [
    "plt.close('all')"
   ]
  },
  {
   "cell_type": "code",
   "execution_count": 344,
   "metadata": {},
   "outputs": [
    {
     "name": "stderr",
     "output_type": "stream",
     "text": [
      "/Users/klay6683/miniconda3/envs/stable/lib/python3.6/site-packages/matplotlib/__init__.py:932: MatplotlibDeprecationWarning: nbagg.transparent is deprecated and ignored. Use figure.facecolor instead.\n",
      "  mplDeprecation)\n"
     ]
    },
    {
     "data": {
      "application/vnd.jupyter.widget-view+json": {
       "model_id": "d278dd34916b40128c8f9cfd38087890",
       "version_major": 2,
       "version_minor": 0
      },
      "text/html": [
       "<p>Failed to display Jupyter Widget of type <code>FigureCanvasNbAgg</code>.</p>\n",
       "<p>\n",
       "  If you're reading this message in the Jupyter Notebook or JupyterLab Notebook, it may mean\n",
       "  that the widgets JavaScript is still loading. If this message persists, it\n",
       "  likely means that the widgets JavaScript library is either not installed or\n",
       "  not enabled. See the <a href=\"https://ipywidgets.readthedocs.io/en/stable/user_install.html\">Jupyter\n",
       "  Widgets Documentation</a> for setup instructions.\n",
       "</p>\n",
       "<p>\n",
       "  If you're reading this message in another frontend (for example, a static\n",
       "  rendering on GitHub or <a href=\"https://nbviewer.jupyter.org/\">NBViewer</a>),\n",
       "  it may mean that your frontend doesn't currently support widgets.\n",
       "</p>\n"
      ],
      "text/plain": [
       "FigureCanvasNbAgg()"
      ]
     },
     "metadata": {},
     "output_type": "display_data"
    },
    {
     "name": "stderr",
     "output_type": "stream",
     "text": [
      "/Users/klay6683/miniconda3/envs/stable/lib/python3.6/site-packages/numpy/core/fromnumeric.py:52: FutureWarning: reshape is deprecated and will raise in a subsequent release. Please use .values.reshape(...) instead\n",
      "  return getattr(obj, method)(*args, **kwds)\n"
     ]
    }
   ],
   "source": [
    "bins = np.arange(300, 120000, 5000)\n",
    "from math import pi\n",
    "fig, axes = plt.subplots(nrows=3, figsize=(10,7), sharex=False)\n",
    "for expert,ax in zip(pipe.gold_names.keys(), axes):\n",
    "    ax.grid(which='major', lw=0.5)\n",
    "    data = {expert:gold_data, 'catalog':catalog_data}\n",
    "    expdata = gold_data[expert].query('marking==\"blotch\"')[['radius_1', 'radius_2']]\n",
    "    expdata = expdata.radius_1*expdata.radius_2*pi\n",
    "    catdata = catalog_data[expert].query('marking==\"blotch\"')[['radius_1', 'radius_2']]\n",
    "    catdata = catdata.radius_1*catdata.radius_2*pi\n",
    "    _ = ax.hist([expdata, catdata], bins=bins, log=True, label=[expert, 'catalog'])\n",
    "    ax.legend()\n",
    "    ax.set_ylabel(\"# of blotches\")\n",
    "ax.set_xlabel('Blotch area [pixel**2]')\n",
    "fig.suptitle('Blotch area, expert vs catalog')\n",
    "fig.subplots_adjust(top=0.95)\n",
    "fig.savefig('/Users/klay6683/Dropbox/src/p4_paper1/figures/gold_blotch_areas.pdf',\n",
    "            dpi=200, bbox_inches='tight')"
   ]
  },
  {
   "cell_type": "code",
   "execution_count": 364,
   "metadata": {},
   "outputs": [
    {
     "name": "stderr",
     "output_type": "stream",
     "text": [
      "/Users/klay6683/miniconda3/envs/stable/lib/python3.6/site-packages/matplotlib/pyplot.py:537: RuntimeWarning: More than 20 figures have been opened. Figures created through the pyplot interface (`matplotlib.pyplot.figure`) are retained until explicitly closed and may consume too much memory. (To control this warning, see the rcParam `figure.max_open_warning`).\n",
      "  max_open_warning, RuntimeWarning)\n",
      "/Users/klay6683/miniconda3/envs/stable/lib/python3.6/site-packages/matplotlib/__init__.py:932: MatplotlibDeprecationWarning: nbagg.transparent is deprecated and ignored. Use figure.facecolor instead.\n",
      "  mplDeprecation)\n"
     ]
    },
    {
     "data": {
      "application/vnd.jupyter.widget-view+json": {
       "model_id": "f11e1b43eee74a12990a960ee45c47a2",
       "version_major": 2,
       "version_minor": 0
      },
      "text/html": [
       "<p>Failed to display Jupyter Widget of type <code>FigureCanvasNbAgg</code>.</p>\n",
       "<p>\n",
       "  If you're reading this message in the Jupyter Notebook or JupyterLab Notebook, it may mean\n",
       "  that the widgets JavaScript is still loading. If this message persists, it\n",
       "  likely means that the widgets JavaScript library is either not installed or\n",
       "  not enabled. See the <a href=\"https://ipywidgets.readthedocs.io/en/stable/user_install.html\">Jupyter\n",
       "  Widgets Documentation</a> for setup instructions.\n",
       "</p>\n",
       "<p>\n",
       "  If you're reading this message in another frontend (for example, a static\n",
       "  rendering on GitHub or <a href=\"https://nbviewer.jupyter.org/\">NBViewer</a>),\n",
       "  it may mean that your frontend doesn't currently support widgets.\n",
       "</p>\n"
      ],
      "text/plain": [
       "FigureCanvasNbAgg()"
      ]
     },
     "metadata": {},
     "output_type": "display_data"
    },
    {
     "name": "stderr",
     "output_type": "stream",
     "text": [
      "/Users/klay6683/miniconda3/envs/stable/lib/python3.6/site-packages/numpy/core/fromnumeric.py:52: FutureWarning: reshape is deprecated and will raise in a subsequent release. Please use .values.reshape(...) instead\n",
      "  return getattr(obj, method)(*args, **kwds)\n"
     ]
    }
   ],
   "source": [
    "bins = np.arange(300, 80000, 5000)\n",
    "from math import pi\n",
    "fig, axes = plt.subplots(nrows=1, figsize=(10,2.5), sharex=False)\n",
    "axes.grid(which='major', lw=0.5)\n",
    "expert='common'\n",
    "gold_data[expert]['area'] = gold_data[expert].radius_1*gold_data[expert].radius_2*pi\n",
    "catalog_data[expert]['area'] = catalog_data[expert].radius_1*catalog_data[expert].radius_2*pi\n",
    "expdata = gold_data[expert].query('marking==\"blotch\"').groupby(['user_name']).area\n",
    "catdata = catalog_data[expert].query('marking==\"blotch\"').area\n",
    "_ = axes.hist([expdata.get_group('Portyankina'), expdata.get_group('mschwamb'), \n",
    "               expdata.get_group('michaelaye'), catdata], bins=bins, log=True, label=['GP', 'MES', 'KMA', 'catalog'])\n",
    "axes.legend()\n",
    "axes.set_ylabel(\"# of blotches\")\n",
    "axes.set_xlabel('Blotch area [pixel**2]')\n",
    "axes.set_title(\"Blotch area, common expert data vs catalog\");\n",
    "fig.savefig('/Users/klay6683/Dropbox/src/p4_paper1/figures/gold_blotch_areas_common.pdf',\n",
    "            dpi=150, bbox_inches='tight')"
   ]
  },
  {
   "cell_type": "code",
   "execution_count": null,
   "metadata": {},
   "outputs": [],
   "source": []
  },
  {
   "cell_type": "code",
   "execution_count": 112,
   "metadata": {
    "ExecuteTime": {
     "end_time": "2018-08-03T04:44:58.258331Z",
     "start_time": "2018-08-03T04:44:58.227319Z"
    }
   },
   "outputs": [],
   "source": [
    "gold_ids = get_gold_ids('common_gold_data')"
   ]
  },
  {
   "cell_type": "code",
   "execution_count": 113,
   "metadata": {
    "ExecuteTime": {
     "end_time": "2018-08-03T04:44:59.693665Z",
     "start_time": "2018-08-03T04:44:59.661950Z"
    },
    "scrolled": false
   },
   "outputs": [],
   "source": [
    "def plot_gold(i):\n",
    "    id_ = gold_ids[i]\n",
    "    p4img = markings.ImageID(id_)\n",
    "    # create plot window\n",
    "    fig, ax = plt.subplots(ncols=2, nrows=2)\n",
    "    axes = ax.flatten()\n",
    "\n",
    "    # fill images, 0 and 2 get it automatically\n",
    "    # for i in [1,3]:\n",
    "    #     p4img.show_subframe(ax=axes[i])\n",
    "\n",
    "    # remove pixel coord axes\n",
    "    for ax in axes:\n",
    "        ax.axis('off')\n",
    "\n",
    "    # citizen stuff\n",
    "    p4img.show_subframe(ax=axes[0])\n",
    "    axes[0].set_title('Planet Four input tile')\n",
    "    p4img.plot_fans(without_users=markings.GOLD_MEMBERS, ax=axes[1])\n",
    "    p4img.plot_blotches(without_users=markings.GOLD_MEMBERS, ax=axes[1])\n",
    "    # plotting.plot_raw_fans(id_, ax=axes[1])\n",
    "    axes[1].set_title('Citizen Markings')\n",
    "    plotting.plot_finals(id_, datapath=rm.savefolder, ax=axes[2],\n",
    "                         wind_pointer=True)\n",
    "    axes[2].set_title('Catalog clustered data.')\n",
    "\n",
    "    # gold stuff\n",
    "    gold_star_plotter(p4img, axes[3], kind='fan')\n",
    "    gold_star_plotter(p4img, axes[3], kind='blotch')\n",
    "    axes[3].set_title('Science team markings')\n",
    "    fig.subplots_adjust(wspace=0.05, hspace=0.15)\n",
    "    fig.suptitle(id_)\n",
    "    path = Path(\"./plots/gold_plots\")\n",
    "    path.mkdir(exist_ok=True)\n",
    "    fig.savefig(path / f\"gold_data{str(i).zfill(2)}.png\",\n",
    "                dpi=150, bbox_inches='tight')"
   ]
  },
  {
   "cell_type": "code",
   "execution_count": 114,
   "metadata": {
    "ExecuteTime": {
     "end_time": "2018-08-03T04:45:02.284927Z",
     "start_time": "2018-08-03T04:45:01.495246Z"
    }
   },
   "outputs": [
    {
     "data": {
      "application/vnd.jupyter.widget-view+json": {
       "model_id": "",
       "version_major": 2,
       "version_minor": 0
      },
      "text/plain": [
       "FigureCanvasNbAgg()"
      ]
     },
     "metadata": {},
     "output_type": "display_data"
    },
    {
     "ename": "NameError",
     "evalue": "name 'gold_star_plotter' is not defined",
     "output_type": "error",
     "traceback": [
      "\u001b[0;31m---------------------------------------------------------------------------\u001b[0m",
      "\u001b[0;31mNameError\u001b[0m                                 Traceback (most recent call last)",
      "\u001b[0;32m<ipython-input-114-498a6e86d480>\u001b[0m in \u001b[0;36m<module>\u001b[0;34m()\u001b[0m\n\u001b[0;32m----> 1\u001b[0;31m \u001b[0mplot_gold\u001b[0m\u001b[0;34m(\u001b[0m\u001b[0;36m0\u001b[0m\u001b[0;34m)\u001b[0m\u001b[0;34m\u001b[0m\u001b[0m\n\u001b[0m",
      "\u001b[0;32m<ipython-input-113-ea5b539788ac>\u001b[0m in \u001b[0;36mplot_gold\u001b[0;34m(i)\u001b[0m\n\u001b[1;32m     26\u001b[0m \u001b[0;34m\u001b[0m\u001b[0m\n\u001b[1;32m     27\u001b[0m     \u001b[0;31m# gold stuff\u001b[0m\u001b[0;34m\u001b[0m\u001b[0;34m\u001b[0m\u001b[0m\n\u001b[0;32m---> 28\u001b[0;31m     \u001b[0mgold_star_plotter\u001b[0m\u001b[0;34m(\u001b[0m\u001b[0mp4img\u001b[0m\u001b[0;34m,\u001b[0m \u001b[0maxes\u001b[0m\u001b[0;34m[\u001b[0m\u001b[0;36m3\u001b[0m\u001b[0;34m]\u001b[0m\u001b[0;34m,\u001b[0m \u001b[0mkind\u001b[0m\u001b[0;34m=\u001b[0m\u001b[0;34m'fan'\u001b[0m\u001b[0;34m)\u001b[0m\u001b[0;34m\u001b[0m\u001b[0m\n\u001b[0m\u001b[1;32m     29\u001b[0m     \u001b[0mgold_star_plotter\u001b[0m\u001b[0;34m(\u001b[0m\u001b[0mp4img\u001b[0m\u001b[0;34m,\u001b[0m \u001b[0maxes\u001b[0m\u001b[0;34m[\u001b[0m\u001b[0;36m3\u001b[0m\u001b[0;34m]\u001b[0m\u001b[0;34m,\u001b[0m \u001b[0mkind\u001b[0m\u001b[0;34m=\u001b[0m\u001b[0;34m'blotch'\u001b[0m\u001b[0;34m)\u001b[0m\u001b[0;34m\u001b[0m\u001b[0m\n\u001b[1;32m     30\u001b[0m     \u001b[0maxes\u001b[0m\u001b[0;34m[\u001b[0m\u001b[0;36m3\u001b[0m\u001b[0;34m]\u001b[0m\u001b[0;34m.\u001b[0m\u001b[0mset_title\u001b[0m\u001b[0;34m(\u001b[0m\u001b[0;34m'Science team markings'\u001b[0m\u001b[0;34m)\u001b[0m\u001b[0;34m\u001b[0m\u001b[0m\n",
      "\u001b[0;31mNameError\u001b[0m: name 'gold_star_plotter' is not defined"
     ]
    }
   ],
   "source": [
    "plot_gold(0)"
   ]
  },
  {
   "cell_type": "code",
   "execution_count": null,
   "metadata": {
    "ExecuteTime": {
     "end_time": "2018-02-16T01:47:49.046284Z",
     "start_time": "2018-02-16T01:41:31.788468Z"
    },
    "scrolled": true
   },
   "outputs": [],
   "source": [
    "for i in range(len(gold_ids)):\n",
    "    print(i)\n",
    "    try:\n",
    "        plot_gold(i)\n",
    "    except:\n",
    "        continue\n",
    "    plt.close('all')"
   ]
  },
  {
   "cell_type": "code",
   "execution_count": 115,
   "metadata": {
    "ExecuteTime": {
     "end_time": "2018-08-03T04:45:09.805568Z",
     "start_time": "2018-08-03T04:45:09.776759Z"
    }
   },
   "outputs": [],
   "source": [
    "db = io.DBManager()"
   ]
  },
  {
   "cell_type": "code",
   "execution_count": 152,
   "metadata": {
    "ExecuteTime": {
     "end_time": "2018-08-03T06:06:26.851405Z",
     "start_time": "2018-08-03T06:05:55.576361Z"
    }
   },
   "outputs": [],
   "source": [
    "bucket = []\n",
    "ids = []\n",
    "for id_ in gold_ids:\n",
    "    golddata = db.get_image_id_markings(id_).query('user_name in @markings.GOLD_MEMBERS')\n",
    "    gold_angle_mean = golddata.query('marking==\"fan\"').angle.mean()\n",
    "    pm = io.PathManager(id_=id_, datapath=rm.savefolder)\n",
    "    try:\n",
    "        catalog_angle_mean = pm.final_fandf.angle.mean()\n",
    "    except FileNotFoundError:\n",
    "        continue\n",
    "    else:\n",
    "        if len(pm.final_fandf) > 3:\n",
    "            ids.append(id_)\n",
    "            bucket.append(gold_angle_mean-catalog_angle_mean)"
   ]
  },
  {
   "cell_type": "code",
   "execution_count": 153,
   "metadata": {
    "ExecuteTime": {
     "end_time": "2018-08-03T06:16:12.177475Z",
     "start_time": "2018-08-03T06:16:11.565233Z"
    }
   },
   "outputs": [],
   "source": [
    "bucket = np.array(bucket)\n",
    "ids = np.array(ids)"
   ]
  },
  {
   "cell_type": "code",
   "execution_count": 154,
   "metadata": {
    "ExecuteTime": {
     "end_time": "2018-08-03T06:16:13.620175Z",
     "start_time": "2018-08-03T06:16:13.589192Z"
    }
   },
   "outputs": [
    {
     "data": {
      "text/plain": [
       "array(['APF0000c0t'], dtype='<U10')"
      ]
     },
     "execution_count": 154,
     "metadata": {},
     "output_type": "execute_result"
    }
   ],
   "source": [
    "ids[bucket > 25]"
   ]
  },
  {
   "cell_type": "code",
   "execution_count": 95,
   "metadata": {
    "ExecuteTime": {
     "end_time": "2018-02-16T06:01:01.547715Z",
     "start_time": "2018-02-16T06:01:01.226195Z"
    }
   },
   "outputs": [
    {
     "data": {
      "application/vnd.jupyter.widget-view+json": {
       "model_id": "af22b949e90a4f56a65ab74fc27d9d8a",
       "version_major": 2,
       "version_minor": 0
      },
      "text/html": [
       "<p>Failed to display Jupyter Widget of type <code>FigureCanvasNbAgg</code>.</p>\n",
       "<p>\n",
       "  If you're reading this message in the Jupyter Notebook or JupyterLab Notebook, it may mean\n",
       "  that the widgets JavaScript is still loading. If this message persists, it\n",
       "  likely means that the widgets JavaScript library is either not installed or\n",
       "  not enabled. See the <a href=\"https://ipywidgets.readthedocs.io/en/stable/user_install.html\">Jupyter\n",
       "  Widgets Documentation</a> for setup instructions.\n",
       "</p>\n",
       "<p>\n",
       "  If you're reading this message in another frontend (for example, a static\n",
       "  rendering on GitHub or <a href=\"https://nbviewer.jupyter.org/\">NBViewer</a>),\n",
       "  it may mean that your frontend doesn't currently support widgets.\n",
       "</p>\n"
      ],
      "text/plain": [
       "FigureCanvasNbAgg()"
      ]
     },
     "metadata": {},
     "output_type": "display_data"
    }
   ],
   "source": [
    "plotting.plot_finals('c0t', datapath=rm.savefolder)"
   ]
  },
  {
   "cell_type": "code",
   "execution_count": 155,
   "metadata": {
    "ExecuteTime": {
     "end_time": "2018-08-03T06:16:18.282821Z",
     "start_time": "2018-08-03T06:16:18.254485Z"
    }
   },
   "outputs": [],
   "source": [
    "gold_ids = np.array(gold_ids)"
   ]
  },
  {
   "cell_type": "code",
   "execution_count": 120,
   "metadata": {
    "ExecuteTime": {
     "end_time": "2018-08-03T04:46:38.675225Z",
     "start_time": "2018-08-03T04:46:38.645453Z"
    }
   },
   "outputs": [
    {
     "data": {
      "text/plain": [
       "(array([114]),)"
      ]
     },
     "execution_count": 120,
     "metadata": {},
     "output_type": "execute_result"
    }
   ],
   "source": [
    "np.where(gold_ids=='APF0000c0t')"
   ]
  },
  {
   "cell_type": "code",
   "execution_count": 121,
   "metadata": {
    "ExecuteTime": {
     "end_time": "2018-08-03T04:46:41.696574Z",
     "start_time": "2018-08-03T04:46:41.665230Z"
    }
   },
   "outputs": [
    {
     "data": {
      "text/plain": [
       "array([False, False, False, False, False, False, False, False, False,\n",
       "       False, False, False, False, False, False, False, False, False,\n",
       "       False, False, False, False,  True, False, False, False, False,\n",
       "       False, False, False, False, False, False, False, False, False,\n",
       "       False, False, False, False, False, False, False, False, False,\n",
       "       False, False, False, False, False, False, False, False, False,\n",
       "       False, False, False, False, False, False, False, False, False,\n",
       "       False, False, False, False, False, False, False, False, False,\n",
       "       False, False, False, False, False, False, False, False, False,\n",
       "       False, False, False, False, False, False, False, False, False,\n",
       "       False, False, False, False, False, False, False, False, False,\n",
       "       False, False, False, False, False, False, False, False, False,\n",
       "       False, False, False, False, False, False, False, False, False,\n",
       "       False, False, False, False, False, False, False, False, False,\n",
       "       False, False, False, False, False, False, False, False, False,\n",
       "       False, False, False, False, False, False, False, False, False,\n",
       "       False, False, False, False, False, False, False, False, False,\n",
       "       False, False, False, False, False, False, False, False, False,\n",
       "       False, False, False, False, False, False, False, False, False,\n",
       "       False, False, False, False, False, False, False, False, False,\n",
       "       False, False, False, False, False, False, False, False, False,\n",
       "       False, False, False])"
      ]
     },
     "execution_count": 121,
     "metadata": {},
     "output_type": "execute_result"
    }
   ],
   "source": [
    "gold_ids == 'APF00002aj'"
   ]
  },
  {
   "cell_type": "code",
   "execution_count": 156,
   "metadata": {
    "ExecuteTime": {
     "end_time": "2018-08-03T06:16:23.190502Z",
     "start_time": "2018-08-03T06:16:23.161257Z"
    }
   },
   "outputs": [
    {
     "data": {
      "text/plain": [
       "39"
      ]
     },
     "execution_count": 156,
     "metadata": {},
     "output_type": "execute_result"
    }
   ],
   "source": [
    "len(bucket)"
   ]
  },
  {
   "cell_type": "code",
   "execution_count": 157,
   "metadata": {
    "ExecuteTime": {
     "end_time": "2018-08-03T06:16:24.616693Z",
     "start_time": "2018-08-03T06:16:24.587465Z"
    }
   },
   "outputs": [],
   "source": [
    "bucket=bucket[bucket < 80]"
   ]
  },
  {
   "cell_type": "code",
   "execution_count": 158,
   "metadata": {
    "ExecuteTime": {
     "end_time": "2018-08-03T06:16:25.974048Z",
     "start_time": "2018-08-03T06:16:25.944022Z"
    }
   },
   "outputs": [
    {
     "data": {
      "text/plain": [
       "38.259146227919324"
      ]
     },
     "execution_count": 158,
     "metadata": {},
     "output_type": "execute_result"
    }
   ],
   "source": [
    "bucket.max()"
   ]
  },
  {
   "cell_type": "code",
   "execution_count": 125,
   "metadata": {
    "ExecuteTime": {
     "end_time": "2018-08-03T04:46:49.976733Z",
     "start_time": "2018-08-03T04:46:49.946035Z"
    }
   },
   "outputs": [],
   "source": [
    "plt.close('all')"
   ]
  },
  {
   "cell_type": "code",
   "execution_count": 159,
   "metadata": {
    "ExecuteTime": {
     "end_time": "2018-08-03T06:16:27.323836Z",
     "start_time": "2018-08-03T06:16:27.293455Z"
    }
   },
   "outputs": [
    {
     "data": {
      "text/plain": [
       "192"
      ]
     },
     "execution_count": 159,
     "metadata": {},
     "output_type": "execute_result"
    }
   ],
   "source": [
    "len(gold_ids)"
   ]
  },
  {
   "cell_type": "code",
   "execution_count": 160,
   "metadata": {
    "ExecuteTime": {
     "end_time": "2018-08-03T06:16:28.839439Z",
     "start_time": "2018-08-03T06:16:28.811242Z"
    }
   },
   "outputs": [],
   "source": [
    "sns.set_context('paper')"
   ]
  },
  {
   "cell_type": "code",
   "execution_count": 161,
   "metadata": {
    "ExecuteTime": {
     "end_time": "2018-08-03T06:16:30.241201Z",
     "start_time": "2018-08-03T06:16:30.205582Z"
    }
   },
   "outputs": [],
   "source": [
    "bucket2 = pd.read_csv(\"angle_std_bucket.csv\", squeeze=True, header=None)"
   ]
  },
  {
   "cell_type": "code",
   "execution_count": 167,
   "metadata": {
    "ExecuteTime": {
     "end_time": "2018-08-03T06:18:41.079366Z",
     "start_time": "2018-08-03T06:18:41.050464Z"
    }
   },
   "outputs": [],
   "source": [
    "bins = np.arange(0, 22, 1)"
   ]
  },
  {
   "cell_type": "code",
   "execution_count": 175,
   "metadata": {
    "ExecuteTime": {
     "end_time": "2018-08-03T06:22:51.242908Z",
     "start_time": "2018-08-03T06:22:51.018135Z"
    }
   },
   "outputs": [
    {
     "name": "stderr",
     "output_type": "stream",
     "text": [
      "/Users/klay6683/miniconda3/envs/stable/lib/python3.6/site-packages/matplotlib/pyplot.py:537: RuntimeWarning: More than 20 figures have been opened. Figures created through the pyplot interface (`matplotlib.pyplot.figure`) are retained until explicitly closed and may consume too much memory. (To control this warning, see the rcParam `figure.max_open_warning`).\n",
      "  max_open_warning, RuntimeWarning)\n"
     ]
    },
    {
     "data": {
      "application/vnd.jupyter.widget-view+json": {
       "model_id": "644222200a1e4e9a8a4bb693a7726107",
       "version_major": 2,
       "version_minor": 0
      },
      "text/plain": [
       "FigureCanvasNbAgg()"
      ]
     },
     "metadata": {},
     "output_type": "display_data"
    }
   ],
   "source": [
    "fig, axes = plt.subplots(constrained_layout=True, ncols=2, figsize=(8, 3))\n",
    "sns.distplot(bucket[~np.isnan(bucket)], bins=np.arange(-40, 41, 2), kde=False, ax=axes[0])\n",
    "axes[0].set_title('Histogram of deltas between science team\\nand volunteer mean fan directions.')\n",
    "axes[0].set_xlabel(\"Delta mean wind direction per Planet Four tile\");\n",
    "axes[0].set_ylabel(\"Bin Counts\");\n",
    "sns.distplot(bucket2, kde=False, bins=bins, ax=axes[1])\n",
    "ax=axes[1]\n",
    "ax.set_title(\"Histogram of angular STD for merged fan clusters\")\n",
    "ax.set_xlabel(\"Fan angle standard deviation per cluster [deg]\")\n",
    "ax.set_ylabel(\"Bin Counts\")\n",
    "for ax in axes:\n",
    "    ax.grid()\n",
    "plt.savefig(\"/Users/klay6683/Documents/latex_docs/p4_paper1/figures/gold_mean_fan_deltas_histo.pdf\")"
   ]
  },
  {
   "cell_type": "code",
   "execution_count": 134,
   "metadata": {
    "ExecuteTime": {
     "end_time": "2018-08-03T05:21:08.534844Z",
     "start_time": "2018-08-03T05:21:08.506138Z"
    }
   },
   "outputs": [],
   "source": [
    "from scipy.stats import circstd"
   ]
  },
  {
   "cell_type": "code",
   "execution_count": 135,
   "metadata": {
    "ExecuteTime": {
     "end_time": "2018-08-03T05:21:12.747964Z",
     "start_time": "2018-08-03T05:21:12.700272Z"
    }
   },
   "outputs": [],
   "source": [
    "circstd?"
   ]
  },
  {
   "cell_type": "code",
   "execution_count": null,
   "metadata": {},
   "outputs": [],
   "source": [
    "from scipy.stats import circstd"
   ]
  },
  {
   "cell_type": "code",
   "execution_count": null,
   "metadata": {},
   "outputs": [],
   "source": []
  },
  {
   "cell_type": "markdown",
   "metadata": {
    "heading_collapsed": true
   },
   "source": [
    "# rest\n"
   ]
  },
  {
   "cell_type": "code",
   "execution_count": null,
   "metadata": {
    "hidden": true
   },
   "outputs": [],
   "source": [
    "### 2 windows side by side. before and after clustering\n",
    "# create plot window\n",
    "fig, ax = plt.subplots(ncols=2, figsize=(12,5))\n",
    "fig.tight_layout()\n",
    "axes = ax.flatten()\n",
    "\n",
    "# fill images, 0 and 2 get it automatically\n",
    "for i in [1]:\n",
    "    p4img.show_subframe(ax=axes[i])\n",
    "\n",
    "# remove pixel coord axes\n",
    "for ax in axes:\n",
    "    ax.axis('off')\n",
    "    \n",
    "# citizen stuff\n",
    "p4img.plot_fans(ax=axes[0])\n",
    "axes[0].set_title('Citizen Markings')\n",
    "db = clustering(p4img.get_fans(), axes[1],\n",
    "                eps=7,\n",
    "                min_samples=5, fans=True, ls='-')\n",
    "axes[1].set_title('All citizens clusters (science team dashed lines)')\n",
    "\n",
    "db = clustering(golddata, axes[1],\n",
    "                min_samples=2,\n",
    "                eps=11, fans=True, ls='--')\n",
    "savefig('MDAP_clustering1.png',dpi=100)"
   ]
  },
  {
   "cell_type": "code",
   "execution_count": null,
   "metadata": {
    "hidden": true
   },
   "outputs": [],
   "source": [
    "p4img.plot_fans()\n",
    "title(p4img.imgid)\n",
    "plt.axis('off')\n",
    "savefig('/Users/maye/Dropbox/src/planet4_paper1/images/fan_markings.eps', dpi=150)"
   ]
  },
  {
   "cell_type": "code",
   "execution_count": null,
   "metadata": {
    "hidden": true
   },
   "outputs": [],
   "source": [
    "# create plot window\n",
    "fig, ax = plt.subplots(ncols=1, nrows=2, figsize=(12,10))\n",
    "axes = ax.flatten()\n",
    "\n",
    "# fill images, 0 and 2 get it automatically\n",
    "for i in [0,1]:\n",
    "    p4img.show_subframe(ax=axes[i])\n",
    "\n",
    "# citizen stuff\n",
    "db = clustering(p4img.get_fans(), axes[0],\n",
    "                eps=7,\n",
    "                min_samples=5, fans=True)\n",
    "axes[0].set_title('All citizens clusters (including science team)')\n",
    "\n",
    "# gold stuff\n",
    "db = clustering(golddata, axes[1],\n",
    "                min_samples=1,\n",
    "                eps=7, fans=True)\n",
    "axes[1].set_title('Gold data clusters')"
   ]
  },
  {
   "cell_type": "code",
   "execution_count": null,
   "metadata": {
    "hidden": true
   },
   "outputs": [],
   "source": [
    "### single window, after clustering\n",
    "# create plot window\n",
    "fig, ax = plt.subplots(figsize=(12,9))\n",
    "axes = ax\n",
    "\n",
    "# fill images, 0 and 2 get it automatically\n",
    "for i in [0]:\n",
    "    p4img.show_subframe(ax=axes)\n",
    "\n",
    "# citizen stuff\n",
    "db = clustering(p4img.get_fans(), axes,\n",
    "                eps=7,\n",
    "                min_samples=5, fans=True)\n",
    "# axes.set_title('All citizens clusters (including science team)')\n",
    "plt.axis('off')\n",
    "plt.savefig('/Users/maye/Dropbox/src/planet4_paper1/images/fans_clustered.eps',bbox_inches='tight',dpi=150)"
   ]
  },
  {
   "cell_type": "code",
   "execution_count": null,
   "metadata": {
    "hidden": true
   },
   "outputs": [],
   "source": [
    "fig, axes = subplots()\n",
    "# gold stuff\n",
    "gold_star_plotter(p4img, axes, fans=True, blotches=False)\n",
    "axes.set_title('Science team markings')"
   ]
  },
  {
   "cell_type": "code",
   "execution_count": null,
   "metadata": {
    "hidden": true
   },
   "outputs": [],
   "source": [
    "labels = db.labels_.astype('int')\n",
    "unique_labels = set(labels)\n",
    "unique_labels"
   ]
  },
  {
   "cell_type": "code",
   "execution_count": null,
   "metadata": {
    "hidden": true
   },
   "outputs": [],
   "source": [
    "label_members = [index[0] for index in argwhere(labels==2)]\n",
    "label_members"
   ]
  },
  {
   "cell_type": "code",
   "execution_count": null,
   "metadata": {
    "hidden": true
   },
   "outputs": [],
   "source": [
    "ellipse_cols"
   ]
  },
  {
   "cell_type": "code",
   "execution_count": null,
   "metadata": {
    "hidden": true
   },
   "outputs": [],
   "source": [
    "data = golddata\n",
    "ellipsedata = data[ellipse_cols].iloc[label_members]\n",
    "ellipsedata"
   ]
  },
  {
   "cell_type": "code",
   "execution_count": null,
   "metadata": {
    "hidden": true
   },
   "outputs": [],
   "source": [
    "fig, ax = plt.subplots()\n",
    "for i in range(len(ellipsedata)):\n",
    "    blotch = markings.Blotch(ellipsedata.iloc[i])\n",
    "    ax.add_artist(blotch)\n",
    "\n",
    "markings.set_subframe_size(ax)\n",
    "\n",
    "# meandata = ellipsedata.mean(axis=0)\n",
    "# meandata"
   ]
  }
 ],
 "metadata": {
  "kernelspec": {
   "display_name": "Python [conda env:stable]",
   "language": "python",
   "name": "conda-env-stable-py"
  },
  "language_info": {
   "codemirror_mode": {
    "name": "ipython",
    "version": 3
   },
   "file_extension": ".py",
   "mimetype": "text/x-python",
   "name": "python",
   "nbconvert_exporter": "python",
   "pygments_lexer": "ipython3",
   "version": "3.6.5"
  },
  "toc": {
   "base_numbering": 1,
   "nav_menu": {
    "height": "12px",
    "width": "252px"
   },
   "number_sections": true,
   "sideBar": false,
   "skip_h1_title": false,
   "title_cell": "Table of Contents",
   "title_sidebar": "Contents",
   "toc_cell": true,
   "toc_position": {},
   "toc_section_display": false,
   "toc_window_display": false
  },
  "varInspector": {
   "cols": {
    "lenName": 16,
    "lenType": 16,
    "lenVar": 40
   },
   "kernels_config": {
    "python": {
     "delete_cmd_postfix": "",
     "delete_cmd_prefix": "del ",
     "library": "var_list.py",
     "varRefreshCmd": "print(var_dic_list())"
    },
    "r": {
     "delete_cmd_postfix": ") ",
     "delete_cmd_prefix": "rm(",
     "library": "var_list.r",
     "varRefreshCmd": "cat(var_dic_list()) "
    }
   },
   "types_to_exclude": [
    "module",
    "function",
    "builtin_function_or_method",
    "instance",
    "_Feature"
   ],
   "window_display": false
  }
 },
 "nbformat": 4,
 "nbformat_minor": 2
}
