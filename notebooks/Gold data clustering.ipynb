{
 "metadata": {
  "name": "",
  "signature": "sha256:3200229cc15ad49e07caf5a4fdc08428824dd1488db944a5fe455d8d6f5cebd1"
 },
 "nbformat": 3,
 "nbformat_minor": 0,
 "worksheets": [
  {
   "cells": [
    {
     "cell_type": "code",
     "collapsed": false,
     "input": [
      "from planet4 import get_data\n",
      "from planet4 import markings\n",
      "from sklearn.cluster import DBSCAN\n",
      "import pylab\n",
      "from matplotlib.patches import Ellipse\n",
      "from planet4.gold_standard_plotter import gold_star_plotter"
     ],
     "language": "python",
     "metadata": {},
     "outputs": [
      {
       "output_type": "stream",
       "stream": "stderr",
       "text": [
        "/Users/maye/anaconda/lib/python2.7/site-packages/matplotlib/__init__.py:1155: UserWarning:  This call to matplotlib.use() has no effect\n",
        "because the backend has already been chosen;\n",
        "matplotlib.use() must be called *before* pylab, matplotlib.pyplot,\n",
        "or matplotlib.backends is imported for the first time.\n",
        "\n",
        "  warnings.warn(_use_error_msg)\n"
       ]
      }
     ],
     "prompt_number": 1
    },
    {
     "cell_type": "code",
     "collapsed": false,
     "input": [
      "fname = get_data.get_current_database_fname()"
     ],
     "language": "python",
     "metadata": {},
     "outputs": [],
     "prompt_number": 2
    },
    {
     "cell_type": "code",
     "collapsed": false,
     "input": [
      "id = 'APF0000jnp'\n",
      "# id = 'APF0000ddb'\n",
      "# id = 'APF00000pt'\n",
      "# id = 'APF00006s2'\n",
      "# idf = 'APF0000hl3'\n",
      "p4img = markings.P4_ImgID(id, fname)"
     ],
     "language": "python",
     "metadata": {},
     "outputs": [
      {
       "output_type": "stream",
       "stream": "stderr",
       "text": [
        "/Users/maye/src/pandas/pandas/io/pytables.py:533: DeprecationWarning: openFile() is pending deprecation, use open_file() instead. You may use the pt2to3 tool to update your source code.\n",
        "  self._handle = tables.openFile(self._path, self._mode, **kwargs)\n",
        "/Users/maye/src/pandas/pandas/io/pytables.py:1041: DeprecationWarning: getNode() is pending deprecation, use get_node() instead. You may use the pt2to3 tool to update your source code.\n",
        "  return self._handle.getNode(self.root, key)\n",
        "/Users/maye/src/pandas/pandas/io/pytables.py:4336: DeprecationWarning: readWhere() is pending deprecation, use read_where() instead. You may use the pt2to3 tool to update your source code.\n",
        "  start=self.start, stop=self.stop)\n"
       ]
      }
     ],
     "prompt_number": 60
    },
    {
     "cell_type": "code",
     "collapsed": false,
     "input": [
      "golddata = p4img.data[p4img.data.user_name.isin(markings.gold_members)]\n",
      "golddata = golddata[golddata.marking=='blotch']"
     ],
     "language": "python",
     "metadata": {},
     "outputs": [],
     "prompt_number": 61
    },
    {
     "cell_type": "code",
     "collapsed": false,
     "input": [
      "golddata.info()"
     ],
     "language": "python",
     "metadata": {},
     "outputs": [
      {
       "output_type": "stream",
       "stream": "stdout",
       "text": [
        "<class 'pandas.core.frame.DataFrame'>\n",
        "Int64Index: 19 entries, 11691402 to 11725797\n",
        "Data columns (total 20 columns):\n",
        "classification_id    19 non-null object\n",
        "created_at           19 non-null datetime64[ns]\n",
        "image_id             19 non-null object\n",
        "image_name           19 non-null object\n",
        "image_url            19 non-null object\n",
        "user_name            19 non-null object\n",
        "marking              19 non-null object\n",
        "x_tile               19 non-null int64\n",
        "y_tile               19 non-null int64\n",
        "acquisition_date     19 non-null datetime64[ns]\n",
        "local_mars_time      19 non-null object\n",
        "x                    19 non-null float64\n",
        "y                    19 non-null float64\n",
        "image_x              19 non-null float64\n",
        "image_y              19 non-null float64\n",
        "radius_1             19 non-null float64\n",
        "radius_2             19 non-null float64\n",
        "distance             0 non-null float64\n",
        "angle                19 non-null float64\n",
        "spread               0 non-null float64\n",
        "dtypes: datetime64[ns](2), float64(9), int64(2), object(7)"
       ]
      }
     ],
     "prompt_number": 62
    },
    {
     "cell_type": "code",
     "collapsed": false,
     "input": [
      "citizens = set(p4img.data.user_name) - set(markings.gold_members)"
     ],
     "language": "python",
     "metadata": {},
     "outputs": [],
     "prompt_number": 63
    },
    {
     "cell_type": "code",
     "collapsed": false,
     "input": [
      "ellipse_cols = 'x y radius_1 radius_2 angle'.split()\n",
      "\n",
      "def get_mean_ellipse(data, cluster_core_samples):\n",
      "    ellipsedata = data[ellipse_cols].values[cluster_core_samples]\n",
      "    ellipsedata = data[ellipse_cols].values[cluster_core_samples]\n",
      "    meandata = ellipsedata.mean(axis=0)\n",
      "    el = Ellipse(meandata[:2], *meandata[2:],\n",
      "                 fill=False, linewidth=2)\n",
      "    return el\n",
      "\n",
      "def clustering(current_data, current_axis):\n",
      "    current_X = current_data[['x','y']].values\n",
      "    db = DBSCAN(eps=9, min_samples=3).fit(current_X)\n",
      "    labels = db.labels_\n",
      "    core_samples = db.core_sample_indices_\n",
      "    # number of clusters in labels, ignoring noise if present\n",
      "    n_clusters = len(set(labels)) - (1 if -1 in labels else 0)\n",
      "    print \"Estimated number of clusters:\", n_clusters\n",
      "\n",
      "    unique_labels = set(labels)\n",
      "    colors = pylab.cm.Spectral(linspace(0,1,len(unique_labels)))\n",
      "    for k, color in zip(unique_labels, colors):\n",
      "        print k\n",
      "        if k == -1:\n",
      "            color = 'w'\n",
      "            markersize = 5\n",
      "        class_members = [index[0] for index in argwhere(labels==k)]\n",
      "        cluster_core_samples = [index for index in core_samples\n",
      "                                if labels[index] == k]\n",
      "        for index in class_members:\n",
      "            x = current_X[index]\n",
      "            if index in core_samples and k !=-1:\n",
      "                markersize = 8\n",
      "            else:\n",
      "                markersize = 5\n",
      "            current_axis.plot(x[0], x[1], 'o', markerfacecolor=color,\n",
      "                         markeredgecolor='k', markersize=markersize)\n",
      "        if k > -0.5:\n",
      "            el = get_mean_ellipse(current_data, cluster_core_samples)\n",
      "            el.set_color(color)\n",
      "            current_axis.add_artist(el)\n",
      "            markings.set_subframe_size(current_axis)"
     ],
     "language": "python",
     "metadata": {},
     "outputs": [],
     "prompt_number": 79
    },
    {
     "cell_type": "code",
     "collapsed": false,
     "input": [
      "# create plot window\n",
      "fig, ax = subplots(ncols=2, nrows=2, figsize=(12,10))\n",
      "axes = ax.flatten()\n",
      "\n",
      "# fill images\n",
      "for i in [1,3]:\n",
      "    p4img.show_subframe(ax=axes[i])\n",
      "\n",
      "p4img.plot_blotches(ax=axes[0])\n",
      "axes[0].set_title('Citizen Markings')\n",
      "\n",
      "clustering(p4img.get_blotches(), axes[1])\n",
      "axes[1].set_title('All citizens clusters (including gold stars)')\n",
      "\n",
      "gold_star_plotter(p4img, axes[2])\n",
      "axes[2].set_title('Goldstars markings')\n",
      "clustering(golddata, axes[3])\n",
      "axes[3].set_title('Gold data clusters')\n",
      "\n"
     ],
     "language": "python",
     "metadata": {},
     "outputs": [
      {
       "output_type": "stream",
       "stream": "stdout",
       "text": [
        "Estimated number of clusters: 8\n",
        "0.0\n",
        "[ 173.61674006  361.67166731]\n",
        "34\n",
        "1.0\n",
        "[ 411.94026947  260.58343202]"
       ]
      },
      {
       "output_type": "stream",
       "stream": "stdout",
       "text": [
        "\n",
        "34\n",
        "2.0\n",
        "[ 117.6604948   562.30739652]\n",
        "32\n",
        "3.0\n",
        "[ 381.21118673  286.29808147]"
       ]
      },
      {
       "output_type": "stream",
       "stream": "stdout",
       "text": [
        "\n",
        "33\n",
        "4.0\n",
        "[ 769.16666667  221.66666667]\n",
        "3\n",
        "5.0\n",
        "[ 0.  0.]\n",
        "3\n",
        "6.0\n",
        "[   6.29543335  546.91346754]\n",
        "25\n",
        "7.0\n",
        "[ 750.62222064  209.43765437]"
       ]
      },
      {
       "output_type": "stream",
       "stream": "stdout",
       "text": [
        "\n",
        "27\n",
        "-1.0\n",
        "Estimated number of clusters:"
       ]
      },
      {
       "output_type": "stream",
       "stream": "stdout",
       "text": [
        " 6\n",
        "0.0\n",
        "[   4.83333333  549.78333537]\n",
        "3\n",
        "1.0\n",
        "[ 382.16666667  288.78333537]\n",
        "3\n",
        "2.0\n",
        "[ 119.16666667  567.78333537]\n",
        "3\n",
        "3.0\n",
        "[ 412.83333333  264.78333537]\n",
        "3\n",
        "4.0\n",
        "[ 745.16666667  206.45000203]\n",
        "3\n",
        "5.0\n",
        "[ 174.83333333  363.45000203]\n",
        "3\n",
        "-1.0\n"
       ]
      },
      {
       "metadata": {},
       "output_type": "pyout",
       "prompt_number": 80,
       "text": [
        "<matplotlib.text.Text at 0x17fa51710>"
       ]
      }
     ],
     "prompt_number": 80
    },
    {
     "cell_type": "code",
     "collapsed": false,
     "input": [],
     "language": "python",
     "metadata": {},
     "outputs": []
    },
    {
     "cell_type": "code",
     "collapsed": false,
     "input": [
      "labels"
     ],
     "language": "python",
     "metadata": {},
     "outputs": [
      {
       "metadata": {},
       "output_type": "pyout",
       "prompt_number": 22,
       "text": [
        "array([ 3.,  1.,  2.,  0.,  4.,  5.,  2.,  3.,  4., -1.,  1.,  0.,  3.,\n",
        "        1.,  4.,  2.,  0.,  5., -1.])"
       ]
      }
     ],
     "prompt_number": 22
    },
    {
     "cell_type": "code",
     "collapsed": false,
     "input": [
      "cluster_core_samples"
     ],
     "language": "python",
     "metadata": {},
     "outputs": [
      {
       "metadata": {},
       "output_type": "pyout",
       "prompt_number": 24,
       "text": [
        "[13, 10, 1]"
       ]
      }
     ],
     "prompt_number": 24
    },
    {
     "cell_type": "code",
     "collapsed": false,
     "input": [
      "argwhere?"
     ],
     "language": "python",
     "metadata": {},
     "outputs": [],
     "prompt_number": 36
    },
    {
     "cell_type": "code",
     "collapsed": false,
     "input": [],
     "language": "python",
     "metadata": {},
     "outputs": []
    }
   ],
   "metadata": {}
  }
 ]
}