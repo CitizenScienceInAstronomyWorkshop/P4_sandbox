{
 "metadata": {
  "name": "",
  "signature": "sha256:69048c9b3ac331d1193caf56f523e34fa9cf162238f82c3c28f441e55bd6de66"
 },
 "nbformat": 3,
 "nbformat_minor": 0,
 "worksheets": [
  {
   "cells": [
    {
     "cell_type": "code",
     "collapsed": false,
     "input": [
      "from planet4 import get_data"
     ],
     "language": "python",
     "metadata": {},
     "outputs": [],
     "prompt_number": 1
    },
    {
     "cell_type": "code",
     "collapsed": false,
     "input": [
      "fname = get_data.get_current_database_fname()"
     ],
     "language": "python",
     "metadata": {},
     "outputs": [],
     "prompt_number": 2
    },
    {
     "cell_type": "code",
     "collapsed": false,
     "input": [
      "data = pd.read_hdf('/Users/maye/data/planet4/2014-06-29_planet_four_classifications_fast_all_read.h5','df')"
     ],
     "language": "python",
     "metadata": {},
     "outputs": [],
     "prompt_number": 3
    },
    {
     "cell_type": "code",
     "collapsed": false,
     "input": [
      "image_ids = data.image_id.unique()"
     ],
     "language": "python",
     "metadata": {},
     "outputs": [],
     "prompt_number": 22
    },
    {
     "cell_type": "code",
     "collapsed": false,
     "input": [
      "eps = 0.00001\n",
      "def get_data_with_pos_zero(data):\n",
      "    return data[(data.x.abs() < eps) & (data.y.abs() < eps)]\n",
      "\n",
      "def get_data_with_radii_10(data):\n",
      "    return data[((data.radius_1 - 10).abs() < eps) &\n",
      "                ((data.radius_2 - 10).abs() < eps)]\n",
      "\n",
      "def get_fans_with_default_data(data):\n",
      "    return data[(data.angle.abs() < eps) &\n",
      "                ((data.spread - 1).abs() < eps) &\n",
      "                ((data.distance - 10).abs() < eps)]"
     ],
     "language": "python",
     "metadata": {},
     "outputs": [],
     "prompt_number": 101
    },
    {
     "cell_type": "code",
     "collapsed": false,
     "input": [
      "eps = 0.00001\n",
      "cont = []\n",
      "for image_id in image_ids:\n",
      "    blotches = data[(data.marking=='blotch') & (data.image_id==image_id)]\n",
      "    at_zero = get_data_with_pos_zero(blotches)\n",
      "    both = get_data_with_radii_10(at_zero)\n",
      "    if at_zero.shape[0] > 0:\n",
      "        cont.append(image_id)"
     ],
     "language": "python",
     "metadata": {},
     "outputs": [],
     "prompt_number": 26
    },
    {
     "cell_type": "code",
     "collapsed": false,
     "input": [
      "at_zero = get_data_with_pos_zero(data)"
     ],
     "language": "python",
     "metadata": {},
     "outputs": [],
     "prompt_number": 28
    },
    {
     "cell_type": "code",
     "collapsed": false,
     "input": [
      "at_zero_and_radius_10 = get_data_with_radii_10(at_zero)"
     ],
     "language": "python",
     "metadata": {},
     "outputs": [],
     "prompt_number": 32
    },
    {
     "cell_type": "code",
     "collapsed": false,
     "input": [
      "bad_ids = at_zero_and_radius_10.image_id.unique()"
     ],
     "language": "python",
     "metadata": {},
     "outputs": [],
     "prompt_number": 39
    },
    {
     "cell_type": "code",
     "collapsed": false,
     "input": [
      "bad_data = at_zero_and_radius_10"
     ],
     "language": "python",
     "metadata": {},
     "outputs": [],
     "prompt_number": 47
    },
    {
     "cell_type": "code",
     "collapsed": false,
     "input": [
      "grouped = at_zero_and_radius_10.groupby(['image_id','classification_id','user_name'])"
     ],
     "language": "python",
     "metadata": {},
     "outputs": [],
     "prompt_number": 76
    },
    {
     "cell_type": "code",
     "collapsed": false,
     "input": [
      "bad_id = bad_data[bad_data.image_id=='APF0001k80']"
     ],
     "language": "python",
     "metadata": {},
     "outputs": [],
     "prompt_number": 59
    },
    {
     "cell_type": "code",
     "collapsed": false,
     "input": [
      "cols_of_interest = 'classification_id created_at user_name x y radius_1 radius_2 angle'.split()"
     ],
     "language": "python",
     "metadata": {},
     "outputs": [],
     "prompt_number": 60
    },
    {
     "cell_type": "code",
     "collapsed": false,
     "input": [
      "bad_class_ids = grouped.size().order(ascending=False)"
     ],
     "language": "python",
     "metadata": {},
     "outputs": [],
     "prompt_number": 72
    },
    {
     "cell_type": "code",
     "collapsed": false,
     "input": [
      "s = grouped.size().order(ascending=False)"
     ],
     "language": "python",
     "metadata": {},
     "outputs": [],
     "prompt_number": 81
    },
    {
     "cell_type": "code",
     "collapsed": false,
     "input": [
      "s[s>15].sum()"
     ],
     "language": "python",
     "metadata": {},
     "outputs": [
      {
       "metadata": {},
       "output_type": "pyout",
       "prompt_number": 91,
       "text": [
        "1198"
       ]
      }
     ],
     "prompt_number": 91
    },
    {
     "cell_type": "code",
     "collapsed": false,
     "input": [
      "s.sum()"
     ],
     "language": "python",
     "metadata": {},
     "outputs": [
      {
       "metadata": {},
       "output_type": "pyout",
       "prompt_number": 92,
       "text": [
        "7365"
       ]
      }
     ],
     "prompt_number": 92
    },
    {
     "cell_type": "code",
     "collapsed": false,
     "input": [
      "data[data.marking=='blotch'].shape"
     ],
     "language": "python",
     "metadata": {},
     "outputs": [
      {
       "metadata": {},
       "output_type": "pyout",
       "prompt_number": 94,
       "text": [
        "(4152498, 20)"
       ]
      }
     ],
     "prompt_number": 94
    },
    {
     "cell_type": "code",
     "collapsed": false,
     "input": [
      "s.sum() / 4152498.0"
     ],
     "language": "python",
     "metadata": {},
     "outputs": [
      {
       "metadata": {},
       "output_type": "pyout",
       "prompt_number": 95,
       "text": [
        "0.001773631197414183"
       ]
      }
     ],
     "prompt_number": 95
    },
    {
     "cell_type": "code",
     "collapsed": false,
     "input": [
      "s"
     ],
     "language": "python",
     "metadata": {},
     "outputs": [
      {
       "metadata": {},
       "output_type": "pyout",
       "prompt_number": 96,
       "text": [
        "image_id    classification_id         user_name                                     \n",
        "APF000031s  50ee580e84af3b269a000001  not-logged-in-8101042547f367eb79a1e145e5ffb329    56\n",
        "APF0000l24  50eec82984af3b61ae000001  jboddis                                           34\n",
        "APF00001pz  50f055d59b15ae3338000001  not-logged-in-cf77981336a11917594ae69581603803    31\n",
        "APF00007u4  50ef1c4b84af3b2fa0000001  JDWHay                                            31\n",
        "APF00007qj  50ef724a95e6e46804000001  bobmayer                                          28\n",
        "APF0000wtf  50ecb43960d4055e3d00022d  not-logged-in-92c1627c3acde86c1b252233bd03b983    27\n",
        "APF00007qj  50ef725595e6e46c00000001  bobmayer                                          27\n",
        "APF000012n  50ef561195e6e40943000001  not-logged-in-e7c2b41bb35e6c2fa3621b8a26cb4e94    26\n",
        "APF00007qj  50ef729b95e6e405ea000001  bobmayer                                          26\n",
        "APF0000e7c  50f86865dea6531fed000001  jobo6464                                          26\n",
        "APF0001k80  539a2eef7afd8417fa000623  not-logged-in-c34cae94af46034d6ed3010b746b621b    26\n",
        "            539a2ed8a5ae13759a000487  not-logged-in-c34cae94af46034d6ed3010b746b621b    26\n",
        "APF00007l6  5157855579807c291d001153  angi60                                            25\n",
        "APF0001yzx  51beff0639ea532972001962  maewe                                             25\n",
        "APF0001igd  51d5d0fe39ea534a8900af60  szukam                                            24\n",
        "...\n",
        "APF0000qka  511965c307f675040f00071c  jwbeeston                                         1\n",
        "APF0000qdh  50f1c4fe1659d304d1000001  Breeduk                                           1\n",
        "APF0000qc3  50f1ef3f95ad7f6289000001  david meechan                                     1\n",
        "APF0000qbw  50ee667784af3b50e3000001  dunkcartwright                                    1\n",
        "APF00006n1  50ef49a795e6e45c6d000001  Rebecca Nuckley                                   1\n",
        "APF0000qa7  50edbd549ba28b0a48000422  caffster                                          1\n",
        "APF0000q21  50ed4b645aadce01b5000504  sallyhowse88                                      1\n",
        "APF0000pc7  50eedd6a84af3b53dc000001  not-logged-in-5c5ec0ad3d78e9bcef0eddb707b31079    1\n",
        "APF0000q1z  50fc811795ad7f4103000001  rowbumby                                          1\n",
        "APF00006r2  51b1917e39ea535d700379d8  Knutra                                            1\n",
        "APF0000pyr  50f13097dea6536c54000001  arthurw                                           1\n",
        "APF0000pyc  50eda88a60d4055d9b000027  not-logged-in-beabf253108b5b182c11f539e4fc06ef    1\n",
        "APF0000pus  50eeb72294b9d55f37000001  CMP88                                             1\n",
        "APF0000pph  50ef4d9695e6e43009000001  Jhdlammy                                          1\n",
        "APF0000gfd  50ef48bf95e6e4103d000001  L & M Torrance                                    1\n",
        "Length: 1330, dtype: int64"
       ]
      }
     ],
     "prompt_number": 96
    },
    {
     "cell_type": "code",
     "collapsed": false,
     "input": [
      "fans = data[data.marking=='fan']"
     ],
     "language": "python",
     "metadata": {},
     "outputs": [],
     "prompt_number": 97
    },
    {
     "cell_type": "code",
     "collapsed": false,
     "input": [
      "fans_at_zero = get_data_with_pos_zero(fans)"
     ],
     "language": "python",
     "metadata": {},
     "outputs": [],
     "prompt_number": 98
    },
    {
     "cell_type": "code",
     "collapsed": false,
     "input": [
      "fans_at_zero.shape"
     ],
     "language": "python",
     "metadata": {},
     "outputs": [
      {
       "metadata": {},
       "output_type": "pyout",
       "prompt_number": 99,
       "text": [
        "(5767, 20)"
       ]
      }
     ],
     "prompt_number": 99
    },
    {
     "cell_type": "code",
     "collapsed": false,
     "input": [
      "bad_fans = get_fans_with_default_data(fans_at_zero)"
     ],
     "language": "python",
     "metadata": {},
     "outputs": [],
     "prompt_number": 102
    },
    {
     "cell_type": "code",
     "collapsed": false,
     "input": [
      "bad_fans.shape"
     ],
     "language": "python",
     "metadata": {},
     "outputs": [
      {
       "metadata": {},
       "output_type": "pyout",
       "prompt_number": 103,
       "text": [
        "(5764, 20)"
       ]
      }
     ],
     "prompt_number": 103
    },
    {
     "cell_type": "code",
     "collapsed": false,
     "input": [
      "grouped_fans = bad_fans.groupby(['image_id','classification_id','user_name'])"
     ],
     "language": "python",
     "metadata": {},
     "outputs": [],
     "prompt_number": 104
    },
    {
     "cell_type": "code",
     "collapsed": false,
     "input": [
      "grouped_fans.size().order(ascending=False).to_csv('bad_fans.csv')"
     ],
     "language": "python",
     "metadata": {},
     "outputs": [],
     "prompt_number": 107
    },
    {
     "cell_type": "code",
     "collapsed": false,
     "input": [
      "fans[(fans.x <0) & (fans.y < 0)].shape"
     ],
     "language": "python",
     "metadata": {},
     "outputs": [
      {
       "metadata": {},
       "output_type": "pyout",
       "prompt_number": 116,
       "text": [
        "(602, 20)"
       ]
      }
     ],
     "prompt_number": 116
    },
    {
     "cell_type": "code",
     "collapsed": false,
     "input": [
      "data[(data.marking=='blotch') & (data.x < 0) & (data.y < 0)].shape"
     ],
     "language": "python",
     "metadata": {},
     "outputs": [
      {
       "metadata": {},
       "output_type": "pyout",
       "prompt_number": 117,
       "text": [
        "(33, 20)"
       ]
      }
     ],
     "prompt_number": 117
    },
    {
     "cell_type": "code",
     "collapsed": false,
     "input": [
      "fans.shape"
     ],
     "language": "python",
     "metadata": {},
     "outputs": [
      {
       "metadata": {},
       "output_type": "pyout",
       "prompt_number": 118,
       "text": [
        "(3352349, 20)"
       ]
      }
     ],
     "prompt_number": 118
    },
    {
     "cell_type": "code",
     "collapsed": false,
     "input": [
      "5764 / 3352349.0"
     ],
     "language": "python",
     "metadata": {},
     "outputs": [
      {
       "metadata": {},
       "output_type": "pyout",
       "prompt_number": 119,
       "text": [
        "0.0017193913879491663"
       ]
      }
     ],
     "prompt_number": 119
    },
    {
     "cell_type": "code",
     "collapsed": false,
     "input": [
      "fig, ax = subplots(nrows=2)\n",
      "bad_fans.groupby('created_at').size().plot(style='*', title='Default value fans', ax=ax[0])\n",
      "bad_data.groupby('created_at').size().plot(style='*', title='Default value blotches', ax=ax[1])"
     ],
     "language": "python",
     "metadata": {},
     "outputs": [
      {
       "metadata": {},
       "output_type": "pyout",
       "prompt_number": 126,
       "text": [
        "<matplotlib.axes.AxesSubplot at 0x1757fa150>"
       ]
      }
     ],
     "prompt_number": 126
    },
    {
     "cell_type": "code",
     "collapsed": false,
     "input": [
      "grouped_fans.size().order(ascending=False)"
     ],
     "language": "python",
     "metadata": {},
     "outputs": [
      {
       "metadata": {},
       "output_type": "pyout",
       "prompt_number": 132,
       "text": [
        "image_id    classification_id         user_name                                     \n",
        "APF0000at2  50ef089084af3b7376000001  ricky zanco                                       124\n",
        "            50ef088f84af3b7327000001  ricky zanco                                       123\n",
        "            50ef088f84af3b7345000001  ricky zanco                                       122\n",
        "            50ef089684af3b7590000001  ricky zanco                                       121\n",
        "APF0000hpg  50ee102c2daa4f6182000294  imthecrabby                                        37\n",
        "APF0001l3e  51f9dec20aab2a1cde004492  spinkick                                           35\n",
        "APF0000j92  50ef573e95e6e46b5c000001  RAJones101                                         34\n",
        "APF0000cxb  50f7045edea65310ac000001  colcol                                             33\n",
        "APF0000mqv  50f2e74095ad7f553d000001  ChrisRGarrett                                      29\n",
        "APF0000ela  50ef2c7984af3b7b2b000001  gill b                                             28\n",
        "APF00002qy  50ee5b4994b9d54104000001  not-logged-in-6dc2e4a6cd0d485f8556b1e246f9f8c6     27\n",
        "APF0000mw5  50f3147bdea653756b000001  tim mustchin                                       27\n",
        "APF0000wq2  50ef47a995e6e43270000001  daveyjones                                         27\n",
        "APF0000huv  5151d15b4bbc9504ae00f2ec  not-logged-in-e4dc3c7c135ea4f944b53bc8bb15bf48     27\n",
        "APF0000q0h  50f1b2e995ad7f3d1e000001  not-logged-in-3fb049ba04e051eaffece71cf995a1ba     27\n",
        "...\n",
        "APF00007u2  50f0cc46d89f273dc8000001  datex                                             1\n",
        "APF0000p6r  50f2dcfe95ad7f3898000001  tracestokes                                       1\n",
        "APF00007tc  5106f9ba95ad7f25af000001  rowbumby                                          1\n",
        "APF00007rf  510484de95ad7f706a000001  rowbumby                                          1\n",
        "APF0000f22  50eca052861cf80961000107  dspmi                                             1\n",
        "APF00007p3  51d68e1739ea5314f9003faf  04hlawrence                                       1\n",
        "APF00007ml  50f08f09dea653783e000001  paulm-65                                          1\n",
        "APF0000fb1  50ef74f995e6e465f6000001  Iggy2k                                            1\n",
        "APF00007kx  50f19ecc95ad7f538e000001  not-logged-in-752a87bca8e1b40e569327ecec3937b5    1\n",
        "APF0000fff  50eec20b84af3b08f2000001  wearenotalone47                                   1\n",
        "APF00007k7  50f1ab8f95ad7f2ffd000001  Brendan_Wilde                                     1\n",
        "APF0000xid  51fbb2cebe70a64ad700f191  geoffreydodd                                      1\n",
        "APF00007hi  50f02ddb95e6e45131000001  mikeangove                                        1\n",
        "APF0000xit  51b0022d39ea535d70018b1f  jennyxz23                                         1\n",
        "APF000001i  50fd9b0f95ad7f199a000001  jean.f.kelly@googlemail.com                       1\n",
        "Length: 1030, dtype: int64"
       ]
      }
     ],
     "prompt_number": 132
    },
    {
     "cell_type": "code",
     "collapsed": false,
     "input": [
      "bad_data.angle.plot()"
     ],
     "language": "python",
     "metadata": {},
     "outputs": [
      {
       "metadata": {},
       "output_type": "pyout",
       "prompt_number": 130,
       "text": [
        "<matplotlib.axes.AxesSubplot at 0x17582f150>"
       ]
      }
     ],
     "prompt_number": 130
    },
    {
     "cell_type": "code",
     "collapsed": false,
     "input": [
      "grouped_all = data['image_id user_name classification_id'.split()].groupby(['image_id','user_name'])"
     ],
     "language": "python",
     "metadata": {},
     "outputs": [],
     "prompt_number": 156
    },
    {
     "cell_type": "code",
     "collapsed": false,
     "input": [
      "grouped_all.apply(lambda x: x.classification_id.nunique())"
     ],
     "language": "python",
     "metadata": {},
     "outputs": []
    },
    {
     "cell_type": "code",
     "collapsed": false,
     "input": [],
     "language": "python",
     "metadata": {},
     "outputs": []
    },
    {
     "cell_type": "code",
     "collapsed": false,
     "input": [
      "data[(data.image_id=='APF0000001') & (data.user_name =='JellyMonster')]"
     ],
     "language": "python",
     "metadata": {},
     "outputs": [
      {
       "html": [
        "<div style=\"max-height:1000px;max-width:1500px;overflow:auto;\">\n",
        "<table border=\"1\" class=\"dataframe\">\n",
        "  <thead>\n",
        "    <tr style=\"text-align: right;\">\n",
        "      <th></th>\n",
        "      <th>classification_id</th>\n",
        "      <th>created_at</th>\n",
        "      <th>image_id</th>\n",
        "      <th>image_name</th>\n",
        "      <th>image_url</th>\n",
        "      <th>user_name</th>\n",
        "      <th>marking</th>\n",
        "      <th>x_tile</th>\n",
        "      <th>y_tile</th>\n",
        "      <th>acquisition_date</th>\n",
        "      <th>local_mars_time</th>\n",
        "      <th>x</th>\n",
        "      <th>y</th>\n",
        "      <th>image_x</th>\n",
        "      <th>image_y</th>\n",
        "      <th>radius_1</th>\n",
        "      <th>radius_2</th>\n",
        "      <th>distance</th>\n",
        "      <th>angle</th>\n",
        "      <th>spread</th>\n",
        "    </tr>\n",
        "  </thead>\n",
        "  <tbody>\n",
        "    <tr>\n",
        "      <th>7800827</th>\n",
        "      <td> 50f68ed495ad7f3dbe000001</td>\n",
        "      <td>2013-01-16 11:28:20</td>\n",
        "      <td> APF0000001</td>\n",
        "      <td> ESP_012254_1065</td>\n",
        "      <td> http://www.planetfour.org/subjects/standard/50...</td>\n",
        "      <td> JellyMonster</td>\n",
        "      <td> none</td>\n",
        "      <td> 4</td>\n",
        "      <td> 3</td>\n",
        "      <td>2009-03-08</td>\n",
        "      <td> 4:16 PM</td>\n",
        "      <td>NaN</td>\n",
        "      <td>NaN</td>\n",
        "      <td>NaN</td>\n",
        "      <td>NaN</td>\n",
        "      <td>NaN</td>\n",
        "      <td>NaN</td>\n",
        "      <td>NaN</td>\n",
        "      <td>NaN</td>\n",
        "      <td>NaN</td>\n",
        "    </tr>\n",
        "    <tr>\n",
        "      <th>8023686</th>\n",
        "      <td> 50f8420ddea6530baa000001</td>\n",
        "      <td>2013-01-17 18:25:17</td>\n",
        "      <td> APF0000001</td>\n",
        "      <td> ESP_012254_1065</td>\n",
        "      <td> http://www.planetfour.org/subjects/standard/50...</td>\n",
        "      <td> JellyMonster</td>\n",
        "      <td> none</td>\n",
        "      <td> 4</td>\n",
        "      <td> 3</td>\n",
        "      <td>2009-03-08</td>\n",
        "      <td> 4:16 PM</td>\n",
        "      <td>NaN</td>\n",
        "      <td>NaN</td>\n",
        "      <td>NaN</td>\n",
        "      <td>NaN</td>\n",
        "      <td>NaN</td>\n",
        "      <td>NaN</td>\n",
        "      <td>NaN</td>\n",
        "      <td>NaN</td>\n",
        "      <td>NaN</td>\n",
        "    </tr>\n",
        "  </tbody>\n",
        "</table>\n",
        "</div>"
       ],
       "metadata": {},
       "output_type": "pyout",
       "prompt_number": 149,
       "text": [
        "                classification_id          created_at    image_id  \\\n",
        "7800827  50f68ed495ad7f3dbe000001 2013-01-16 11:28:20  APF0000001   \n",
        "8023686  50f8420ddea6530baa000001 2013-01-17 18:25:17  APF0000001   \n",
        "\n",
        "              image_name                                          image_url  \\\n",
        "7800827  ESP_012254_1065  http://www.planetfour.org/subjects/standard/50...   \n",
        "8023686  ESP_012254_1065  http://www.planetfour.org/subjects/standard/50...   \n",
        "\n",
        "            user_name marking  x_tile  y_tile acquisition_date  \\\n",
        "7800827  JellyMonster    none       4       3       2009-03-08   \n",
        "8023686  JellyMonster    none       4       3       2009-03-08   \n",
        "\n",
        "        local_mars_time   x   y  image_x  image_y  radius_1  radius_2  \\\n",
        "7800827         4:16 PM NaN NaN      NaN      NaN       NaN       NaN   \n",
        "8023686         4:16 PM NaN NaN      NaN      NaN       NaN       NaN   \n",
        "\n",
        "         distance  angle  spread  \n",
        "7800827       NaN    NaN     NaN  \n",
        "8023686       NaN    NaN     NaN  "
       ]
      }
     ],
     "prompt_number": 149
    },
    {
     "cell_type": "code",
     "collapsed": false,
     "input": [
      "df = pd.DataFrame.from_dict(dict(image_id=[1,1,2,2,2], user_name=['a','a','c','d','d'],\n",
      "                            classification_id=['ABC','ABC','GHI','JKL','MNO']))"
     ],
     "language": "python",
     "metadata": {},
     "outputs": [],
     "prompt_number": 164
    },
    {
     "cell_type": "code",
     "collapsed": false,
     "input": [
      "df.groupby(['image_id','user_name']).classification_id.nunique()"
     ],
     "language": "python",
     "metadata": {},
     "outputs": [
      {
       "metadata": {},
       "output_type": "pyout",
       "prompt_number": 165,
       "text": [
        "image_id  user_name\n",
        "1         a            1\n",
        "2         c            1\n",
        "          d            2\n",
        "Name: classification_id, dtype: int64"
       ]
      }
     ],
     "prompt_number": 165
    },
    {
     "cell_type": "code",
     "collapsed": false,
     "input": [],
     "language": "python",
     "metadata": {},
     "outputs": []
    }
   ],
   "metadata": {}
  }
 ]
}