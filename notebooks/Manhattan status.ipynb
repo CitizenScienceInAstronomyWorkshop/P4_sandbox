{
 "cells": [
  {
   "cell_type": "code",
   "execution_count": null,
   "metadata": {
    "collapsed": true
   },
   "outputs": [],
   "source": [
    "manhattan = np.array(['ESP_021455_0935', 'ESP_020214_0935', 'ESP_012884_0935',\n",
    "       'ESP_020598_0935', 'ESP_020888_0935', 'ESP_020519_0935',\n",
    "       'ESP_020255_0935', 'ESP_021495_0935', 'ESP_011394_0935',\n",
    "       'ESP_021468_0935', 'ESP_020321_0935', 'ESP_013016_0935',\n",
    "       'ESP_020202_0935', 'ESP_020954_0935', 'ESP_011671_0935',\n",
    "       'ESP_022260_0935', 'ESP_020532_0935', 'ESP_012739_0935',\n",
    "       'ESP_011961_0935', 'ESP_012251_0935', 'ESP_013095_0935',\n",
    "       'ESP_022339_0935', 'PSP_004142_0935', 'PSP_003151_0935',\n",
    "       'PSP_002940_0935', 'PSP_003997_0935', 'PSP_003575_0935',\n",
    "       'PSP_003496_0935', 'PSP_004920_0935', 'PSP_003285_0935',\n",
    "       'PSP_003784_0935', 'PSP_003930_0935', 'PSP_002626_0935',\n",
    "       'PSP_003430_0935', 'PSP_003140_0935', 'PSP_003746_0935',\n",
    "       'PSP_002942_0935', 'PSP_002876_0935', 'PSP_003641_0935',\n",
    "       'PSP_005579_0935', 'PSP_002532_0935', 'PSP_002702_0935',\n",
    "       'PSP_002850_0935', 'PSP_005696_0935', 'PSP_002533_0935'], dtype=object)"
   ]
  },
  {
   "cell_type": "code",
   "execution_count": null,
   "metadata": {
    "collapsed": false
   },
   "outputs": [],
   "source": [
    "dfs = []\n",
    "for image_name in manhattan:\n",
    "    dfs.append(pd.read_hdf(dbname,'df', where='image_name='+image_name))"
   ]
  },
  {
   "cell_type": "code",
   "execution_count": null,
   "metadata": {
    "collapsed": true
   },
   "outputs": [],
   "source": [
    "df= pd.concat(dfs)"
   ]
  },
  {
   "cell_type": "code",
   "execution_count": null,
   "metadata": {
    "collapsed": false
   },
   "outputs": [],
   "source": [
    "df.info()"
   ]
  },
  {
   "cell_type": "code",
   "execution_count": null,
   "metadata": {
    "collapsed": true
   },
   "outputs": [],
   "source": [
    "from planet4 import helper_functions as hf"
   ]
  },
  {
   "cell_type": "code",
   "execution_count": null,
   "metadata": {
    "collapsed": false
   },
   "outputs": [],
   "source": [
    "hf.define_season_column(df)"
   ]
  },
  {
   "cell_type": "code",
   "execution_count": null,
   "metadata": {
    "collapsed": false
   },
   "outputs": [],
   "source": [
    "df.columns"
   ]
  },
  {
   "cell_type": "code",
   "execution_count": null,
   "metadata": {
    "collapsed": false
   },
   "outputs": [],
   "source": [
    "hf.get_status(df[df.season==1])"
   ]
  },
  {
   "cell_type": "code",
   "execution_count": null,
   "metadata": {
    "collapsed": false
   },
   "outputs": [],
   "source": [
    "manhattan"
   ]
  },
  {
   "cell_type": "code",
   "execution_count": null,
   "metadata": {
    "collapsed": true
   },
   "outputs": [],
   "source": []
  }
 ],
 "metadata": {
  "kernelspec": {
   "display_name": "Python 3",
   "language": "python",
   "name": "python3"
  },
  "language_info": {
   "codemirror_mode": {
    "name": "ipython",
    "version": 3
   },
   "file_extension": ".py",
   "mimetype": "text/x-python",
   "name": "python",
   "nbconvert_exporter": "python",
   "pygments_lexer": "ipython3",
   "version": "3.4.3"
  }
 },
 "nbformat": 4,
 "nbformat_minor": 0
}
