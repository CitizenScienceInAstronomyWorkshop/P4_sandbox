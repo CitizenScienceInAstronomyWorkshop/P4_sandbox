{
 "cells": [
  {
   "cell_type": "code",
   "execution_count": null,
   "metadata": {
    "collapsed": false
   },
   "outputs": [],
   "source": [
    "from planet4.p4io import get_image_id_data as get_image_id, get_image_name_data,\\\n",
    "    get_list_of_image_names_data\n",
    "from planet4 import p4io as io"
   ]
  },
  {
   "cell_type": "code",
   "execution_count": null,
   "metadata": {
    "collapsed": true
   },
   "outputs": [],
   "source": [
    "from planet4.region_data import Inca"
   ]
  },
  {
   "cell_type": "code",
   "execution_count": null,
   "metadata": {
    "collapsed": false
   },
   "outputs": [],
   "source": [
    "data = get_list_of_image_names_data(Inca.season1)"
   ]
  },
  {
   "cell_type": "code",
   "execution_count": null,
   "metadata": {
    "collapsed": false
   },
   "outputs": [],
   "source": [
    "data.info()"
   ]
  },
  {
   "cell_type": "code",
   "execution_count": null,
   "metadata": {
    "collapsed": false
   },
   "outputs": [],
   "source": [
    "image_ids = data.image_id.unique()"
   ]
  },
  {
   "cell_type": "code",
   "execution_count": null,
   "metadata": {
    "collapsed": true
   },
   "outputs": [],
   "source": [
    "df = data[data.image_id==image_ids[0]]"
   ]
  },
  {
   "cell_type": "code",
   "execution_count": null,
   "metadata": {
    "collapsed": false
   },
   "outputs": [],
   "source": [
    "df.info()"
   ]
  },
  {
   "cell_type": "code",
   "execution_count": null,
   "metadata": {
    "collapsed": false
   },
   "outputs": [],
   "source": [
    "df.groupby(['classification_id','user_name']).size()"
   ]
  },
  {
   "cell_type": "code",
   "execution_count": null,
   "metadata": {
    "collapsed": true
   },
   "outputs": [],
   "source": [
    "def process_image_name(image_name):\n",
    "\n",
    "    def process_user_group(g):\n",
    "        c_id = g.sort('created_at').classification_id.iloc[0]\n",
    "        return g[g.classification_id == c_id]\n",
    "\n",
    "    data = df[df.image_name == image_name]\n",
    "    data = data.groupby(['user_name']).apply(\n",
    "        process_user_group).reset_index(drop=True)\n",
    "    fname = 'temp_' + image_name + '.h5'\n",
    "    data.to_hdf(fname, 'df')\n"
   ]
  },
  {
   "cell_type": "code",
   "execution_count": null,
   "metadata": {
    "collapsed": true
   },
   "outputs": [],
   "source": [
    "def process_user_group(g):\n",
    "    c_id = g.sort('created_at').classification_id.iloc[0]\n",
    "    return g[g.classification_id == c_id]"
   ]
  },
  {
   "cell_type": "code",
   "execution_count": null,
   "metadata": {
    "collapsed": false
   },
   "outputs": [],
   "source": [
    "filtered_data = df.groupby(['user_name']).apply(process_user_group)"
   ]
  },
  {
   "cell_type": "code",
   "execution_count": null,
   "metadata": {
    "collapsed": true
   },
   "outputs": [],
   "source": [
    "from planet4 import helper_functions as hf"
   ]
  },
  {
   "cell_type": "code",
   "execution_count": null,
   "metadata": {
    "collapsed": false
   },
   "outputs": [],
   "source": [
    "def process_image_id(image_id):\n",
    "    df = data[data.image_id==image_id]\n",
    "    n_class = df.classification_id.unique().size\n",
    "    results = hf.classification_counts_per_user(df).value_counts()\n",
    "    if not any(results.index>1):\n",
    "        return n_class, n_class\n",
    "    else:\n",
    "        n_class_real = results[1]\n",
    "        for index in results.index[results.index>1]:\n",
    "            n_class_real += results[index]\n",
    "        return (n_class_real, n_class)"
   ]
  },
  {
   "cell_type": "code",
   "execution_count": null,
   "metadata": {
    "collapsed": false,
    "scrolled": true
   },
   "outputs": [],
   "source": [
    "real_class_percents = []\n",
    "for image_id in image_ids:\n",
    "    real_class_percents.append(process_image_id(image_id))"
   ]
  },
  {
   "cell_type": "code",
   "execution_count": null,
   "metadata": {
    "collapsed": false
   },
   "outputs": [],
   "source": [
    "%matplotlib inline\n",
    "import matplotlib.pyplot as plt"
   ]
  },
  {
   "cell_type": "code",
   "execution_count": null,
   "metadata": {
    "collapsed": false
   },
   "outputs": [],
   "source": [
    "s = pd.DataFrame(real_class_percents, index=image_ids, columns=['real_n_class', 'expected_n_class'])"
   ]
  },
  {
   "cell_type": "code",
   "execution_count": null,
   "metadata": {
    "collapsed": false
   },
   "outputs": [],
   "source": [
    "s.head()"
   ]
  },
  {
   "cell_type": "code",
   "execution_count": null,
   "metadata": {
    "collapsed": false
   },
   "outputs": [],
   "source": [
    "s.plot()"
   ]
  },
  {
   "cell_type": "code",
   "execution_count": null,
   "metadata": {
    "collapsed": true
   },
   "outputs": [],
   "source": [
    "import seaborn as sns\n",
    "sns.set_context('talk')"
   ]
  },
  {
   "cell_type": "code",
   "execution_count": null,
   "metadata": {
    "collapsed": false
   },
   "outputs": [],
   "source": [
    "s.head()"
   ]
  },
  {
   "cell_type": "code",
   "execution_count": null,
   "metadata": {
    "collapsed": false
   },
   "outputs": [],
   "source": [
    "s = s.assign(fraction=s.real_n_class/s.expected_n_class)"
   ]
  },
  {
   "cell_type": "code",
   "execution_count": null,
   "metadata": {
    "collapsed": false
   },
   "outputs": [],
   "source": [
    "s.fraction.plot(style='.',title='Inca City, season1, fraction of good classifications')"
   ]
  },
  {
   "cell_type": "code",
   "execution_count": null,
   "metadata": {
    "collapsed": false
   },
   "outputs": [],
   "source": [
    "s.describe()"
   ]
  },
  {
   "cell_type": "code",
   "execution_count": null,
   "metadata": {
    "collapsed": false
   },
   "outputs": [],
   "source": [
    "df = data[data.image_id=='APF0000zea']\n",
    "n_class= df.classification_id.unique().size\n",
    "n_class\n",
    "results = hf.classification_counts_per_user(df).value_counts()\n",
    "results\n",
    "results.index>1\n",
    "n_class_real = results[1]\n",
    "for index in results.index[results.index>1]:\n",
    "    n_class_real += results[index]\n",
    "n_class_real"
   ]
  },
  {
   "cell_type": "markdown",
   "metadata": {
    "collapsed": true
   },
   "source": [
    "# Update"
   ]
  },
  {
   "cell_type": "code",
   "execution_count": 1,
   "metadata": {
    "collapsed": true
   },
   "outputs": [],
   "source": [
    "from planet4 import p4io as io"
   ]
  },
  {
   "cell_type": "code",
   "execution_count": 2,
   "metadata": {
    "collapsed": true
   },
   "outputs": [],
   "source": [
    "from planet4 import reduction"
   ]
  },
  {
   "cell_type": "code",
   "execution_count": 3,
   "metadata": {
    "collapsed": true
   },
   "outputs": [],
   "source": [
    "db = io.DBManager('/Users/klay6683/data/planet4/2015-10-11_planet_four_classifications_queryable2.h5')"
   ]
  },
  {
   "cell_type": "code",
   "execution_count": 4,
   "metadata": {
    "collapsed": false
   },
   "outputs": [],
   "source": [
    "data = db.get_image_id_markings('APF00003hp')"
   ]
  },
  {
   "cell_type": "code",
   "execution_count": 5,
   "metadata": {
    "collapsed": true
   },
   "outputs": [],
   "source": [
    "from planet4 import helper_functions as hf"
   ]
  },
  {
   "cell_type": "code",
   "execution_count": 7,
   "metadata": {
    "collapsed": false
   },
   "outputs": [
    {
     "data": {
      "text/plain": [
       "user_name\n",
       "Kitharode                                         2\n",
       "bmacpherson                                       2\n",
       "not-logged-in-073dee28bbc9c250d9dc02cb99f4ef93    2\n",
       "GazyB                                             2\n",
       "stephen milanovic                                 1\n",
       "tonnie1                                           1\n",
       "not-logged-in-a73525bd89cfa4ce77d75d2fe53fcb2d    1\n",
       "CosmoMallard                                      1\n",
       "ewa@gorska.co.uk                                  1\n",
       "simonwalker                                       1\n",
       "garydougill                                       1\n",
       "Hannah93                                          1\n",
       "D_J_G                                             1\n",
       "LivingMars                                        1\n",
       "pauly1080                                         1\n",
       "Juliandmark                                       1\n",
       "timtrent                                          1\n",
       "ray149                                            1\n",
       "not-logged-in-a2fe0761f89efa289864177a0d14dcc3    1\n",
       "kenrobinson                                       1\n",
       "crater rater                                      1\n",
       "not-logged-in-0f05ba508144a1fcb9cdde560755c068    1\n",
       "not-logged-in-32b5c4b59ea64f901bad279b8b8dd02d    1\n",
       "not-logged-in-8f6804ca3f6aff20734c0ed86a8ca062    1\n",
       "not-logged-in-c56ba65224c188ab339c1074debc34d4    1\n",
       "SJIllustrator                                     1\n",
       "not-logged-in-85fa08699c17f4a83428ee5fc5ff941d    1\n",
       "not-logged-in-8198d68f24d1c0b95c214293fd48962e    1\n",
       "TomRais27                                         1\n",
       "not-logged-in-e9499fe3a172eb1e6cf62e330949d1d2    1\n",
       "                                                 ..\n",
       "max baer                                          1\n",
       "not-logged-in-349ee219314ea5fbd44b69cfc1295684    1\n",
       "stonehouse_c8                                     1\n",
       "steholmes                                         1\n",
       "not-logged-in-3fb3c21e4ae3d9d8d2e0d97ab959dc62    1\n",
       "37313                                             1\n",
       "AndyCotton                                        1\n",
       "angelsco                                          1\n",
       "Untempered Eye                                    1\n",
       "alexcostabh                                       1\n",
       "blaze_carter                                      1\n",
       "davwil                                            1\n",
       "not-logged-in-2e60dcdfdef9f9789a25e8b99d257457    1\n",
       "not-logged-in-dd19b3e673ea6b503873b845fa42e5e5    1\n",
       "chrisironside                                     1\n",
       "Nando123                                          1\n",
       "mktedman                                          1\n",
       "timthomas49@hotmail.co.uk                         1\n",
       "flep51                                            1\n",
       "clearsky                                          1\n",
       "save the ewoks                                    1\n",
       "not-logged-in-5f5f1cc83d65db0c52a701374116a38b    1\n",
       "Rob                                               1\n",
       "not-logged-in-c71f1e363c59722e7b4a0172b5dcc6ac    1\n",
       "irelg                                             1\n",
       "tequilaprince                                     1\n",
       "Samflack                                          1\n",
       "NJWhite                                           1\n",
       "ajvsdvn                                           1\n",
       "clcrabtree                                        1\n",
       "Name: classification_id, dtype: int64"
      ]
     },
     "execution_count": 7,
     "metadata": {},
     "output_type": "execute_result"
    }
   ],
   "source": [
    "hf.classification_counts_per_user(data)"
   ]
  },
  {
   "cell_type": "code",
   "execution_count": 9,
   "metadata": {
    "collapsed": false
   },
   "outputs": [],
   "source": [
    "def pug1(g):\n",
    "    c_id = g.sort_values(by='classification_id').classification_id.iloc[0]\n",
    "    return g[g.classification_id == c_id]"
   ]
  },
  {
   "cell_type": "code",
   "execution_count": 10,
   "metadata": {
    "collapsed": false
   },
   "outputs": [],
   "source": [
    "def pug1b(g):\n",
    "    c_id = g.sort_values(by='classification_id').classification_id.iloc[0]\n",
    "    return c_id"
   ]
  },
  {
   "cell_type": "code",
   "execution_count": 11,
   "metadata": {
    "collapsed": false
   },
   "outputs": [],
   "source": [
    "def pug2(g):\n",
    "    c_id = g.classification_id.min()\n",
    "    return g[g.classification_id == c_id]"
   ]
  },
  {
   "cell_type": "code",
   "execution_count": 12,
   "metadata": {
    "collapsed": false
   },
   "outputs": [],
   "source": [
    "def pug2b(g):\n",
    "    c_id = g.classification_id.min()\n",
    "    return c_id"
   ]
  },
  {
   "cell_type": "code",
   "execution_count": 21,
   "metadata": {
    "collapsed": true
   },
   "outputs": [],
   "source": [
    "usergroup = data.groupby(['user_name'], sort=False)"
   ]
  },
  {
   "cell_type": "code",
   "execution_count": 22,
   "metadata": {
    "collapsed": false
   },
   "outputs": [
    {
     "name": "stdout",
     "output_type": "stream",
     "text": [
      "10 loops, best of 3: 169 ms per loop\n"
     ]
    }
   ],
   "source": [
    "%timeit usergroup.apply(pug1).reset_index(drop=True)"
   ]
  },
  {
   "cell_type": "code",
   "execution_count": 23,
   "metadata": {
    "collapsed": false
   },
   "outputs": [
    {
     "name": "stdout",
     "output_type": "stream",
     "text": [
      "10 loops, best of 3: 132 ms per loop\n"
     ]
    }
   ],
   "source": [
    "%timeit usergroup.apply(pug2).reset_index(drop=True)"
   ]
  },
  {
   "cell_type": "code",
   "execution_count": 25,
   "metadata": {
    "collapsed": false
   },
   "outputs": [
    {
     "name": "stdout",
     "output_type": "stream",
     "text": [
      "100 loops, best of 3: 6.95 ms per loop\n"
     ]
    }
   ],
   "source": [
    "%timeit data[data.classification_id.isin(usergroup.classification_id.min())]"
   ]
  },
  {
   "cell_type": "code",
   "execution_count": 26,
   "metadata": {
    "collapsed": false
   },
   "outputs": [],
   "source": [
    "v1 = usergroup.apply(pug1).reset_index(drop=True).sort_values(by=['classification_id'])"
   ]
  },
  {
   "cell_type": "code",
   "execution_count": 27,
   "metadata": {
    "collapsed": true
   },
   "outputs": [],
   "source": [
    "v2 = usergroup.apply(pug2).reset_index(drop=True).sort_values(by=['classification_id'])"
   ]
  },
  {
   "cell_type": "code",
   "execution_count": 31,
   "metadata": {
    "collapsed": false
   },
   "outputs": [],
   "source": [
    "v3 = data[data.classification_id.isin(usergroup.classification_id.min())]"
   ]
  },
  {
   "cell_type": "code",
   "execution_count": 32,
   "metadata": {
    "collapsed": false
   },
   "outputs": [
    {
     "data": {
      "text/plain": [
       "classification_id    True\n",
       "created_at           True\n",
       "image_id             True\n",
       "image_name           True\n",
       "image_url            True\n",
       "user_name            True\n",
       "marking              True\n",
       "x_tile               True\n",
       "y_tile               True\n",
       "acquisition_date     True\n",
       "local_mars_time      True\n",
       "x                    True\n",
       "y                    True\n",
       "image_x              True\n",
       "image_y              True\n",
       "radius_1             True\n",
       "radius_2             True\n",
       "distance             True\n",
       "angle                True\n",
       "spread               True\n",
       "version              True\n",
       "dtype: bool"
      ]
     },
     "execution_count": 32,
     "metadata": {},
     "output_type": "execute_result"
    }
   ],
   "source": [
    "(v1.dropna() == v3.dropna()).all()"
   ]
  },
  {
   "cell_type": "code",
   "execution_count": 34,
   "metadata": {
    "collapsed": false
   },
   "outputs": [
    {
     "data": {
      "text/html": [
       "<div>\n",
       "<table border=\"1\" class=\"dataframe\">\n",
       "  <thead>\n",
       "    <tr style=\"text-align: right;\">\n",
       "      <th></th>\n",
       "      <th>classification_id</th>\n",
       "      <th>created_at</th>\n",
       "      <th>image_id</th>\n",
       "      <th>image_name</th>\n",
       "      <th>image_url</th>\n",
       "      <th>user_name</th>\n",
       "      <th>marking</th>\n",
       "      <th>x_tile</th>\n",
       "      <th>y_tile</th>\n",
       "      <th>acquisition_date</th>\n",
       "      <th>...</th>\n",
       "      <th>x</th>\n",
       "      <th>y</th>\n",
       "      <th>image_x</th>\n",
       "      <th>image_y</th>\n",
       "      <th>radius_1</th>\n",
       "      <th>radius_2</th>\n",
       "      <th>distance</th>\n",
       "      <th>angle</th>\n",
       "      <th>spread</th>\n",
       "      <th>version</th>\n",
       "    </tr>\n",
       "  </thead>\n",
       "  <tbody>\n",
       "  </tbody>\n",
       "</table>\n",
       "<p>0 rows × 21 columns</p>\n",
       "</div>"
      ],
      "text/plain": [
       "Empty DataFrame\n",
       "Columns: [classification_id, created_at, image_id, image_name, image_url, user_name, marking, x_tile, y_tile, acquisition_date, local_mars_time, x, y, image_x, image_y, radius_1, radius_2, distance, angle, spread, version]\n",
       "Index: []\n",
       "\n",
       "[0 rows x 21 columns]"
      ]
     },
     "execution_count": 34,
     "metadata": {},
     "output_type": "execute_result"
    }
   ],
   "source": [
    "v3[v3.classification_id=='50ef44b995e6e42d8c000001']"
   ]
  },
  {
   "cell_type": "code",
   "execution_count": 30,
   "metadata": {
    "collapsed": false
   },
   "outputs": [
    {
     "data": {
      "text/plain": [
       "classification_id    True\n",
       "created_at           True\n",
       "image_id             True\n",
       "image_name           True\n",
       "image_url            True\n",
       "user_name            True\n",
       "marking              True\n",
       "x_tile               True\n",
       "y_tile               True\n",
       "acquisition_date     True\n",
       "local_mars_time      True\n",
       "x                    True\n",
       "y                    True\n",
       "image_x              True\n",
       "image_y              True\n",
       "radius_1             True\n",
       "radius_2             True\n",
       "distance             True\n",
       "angle                True\n",
       "spread               True\n",
       "version              True\n",
       "dtype: bool"
      ]
     },
     "execution_count": 30,
     "metadata": {},
     "output_type": "execute_result"
    }
   ],
   "source": [
    "(usergroup.apply(pug1).dropna() == usergroup.apply(pug2).dropna()).all()"
   ]
  },
  {
   "cell_type": "code",
   "execution_count": null,
   "metadata": {
    "collapsed": false,
    "scrolled": false
   },
   "outputs": [],
   "source": [
    "v1.info()"
   ]
  },
  {
   "cell_type": "code",
   "execution_count": null,
   "metadata": {
    "collapsed": false
   },
   "outputs": [],
   "source": [
    "(v1.dropna()==v2.dropna()).all()"
   ]
  },
  {
   "cell_type": "code",
   "execution_count": null,
   "metadata": {
    "collapsed": false
   },
   "outputs": [],
   "source": [
    "v2.head()"
   ]
  },
  {
   "cell_type": "code",
   "execution_count": null,
   "metadata": {
    "collapsed": false
   },
   "outputs": [],
   "source": [
    "data.groupby(['user_name','classification_id']).apply(lambda x: len(x.classification_id.unique())).sort_values(ascending=False).min()"
   ]
  },
  {
   "cell_type": "code",
   "execution_count": null,
   "metadata": {
    "collapsed": true
   },
   "outputs": [],
   "source": [
    "v3 = data[data.classification_id.isin(data.groupby('user_name').classification_id.max())].sort_values(by='classification_id')"
   ]
  },
  {
   "cell_type": "code",
   "execution_count": null,
   "metadata": {
    "collapsed": false
   },
   "outputs": [],
   "source": [
    "(v1.classification_id.sort_values() == v2.classification_id.sort_values()).all()"
   ]
  },
  {
   "cell_type": "code",
   "execution_count": null,
   "metadata": {
    "collapsed": false
   },
   "outputs": [],
   "source": [
    "(g.apply(pug1).reset_index(drop=True) == g.apply(pug2).reset_index(drop=True)).all()"
   ]
  },
  {
   "cell_type": "code",
   "execution_count": null,
   "metadata": {
    "collapsed": false
   },
   "outputs": [],
   "source": [
    "%timeit g.apply(pug2b)"
   ]
  },
  {
   "cell_type": "code",
   "execution_count": null,
   "metadata": {
    "collapsed": false,
    "scrolled": false
   },
   "outputs": [],
   "source": [
    "img_ids = ['APF00003hp']\n",
    "users = ['not-logged-in-073dee28bbc9c250d9dc02cb99f4ef93']\n",
    "\n",
    "for img_id, user in zip(img_ids, users):\n",
    "    print(\"image_id: \", img_id)\n",
    "    print(\"User: \", user)\n",
    "    data = db.get_image_id_markings(img_id)\n",
    "    print(\"Before filtering classification_id created_at times:\")\n",
    "    print(data[data.user_name==user].created_at.unique())\n",
    "    print(\"Classification_ids:\")\n",
    "    print(data[data.user_name==user].classification_id.unique())\n",
    "\n",
    "    g = data.groupby(['user_name'])\n",
    "    res = g.apply(process_user_group).reset_index(drop=True)\n",
    "    print(\"After filtering:\")\n",
    "    print(res[res.user_name==user].created_at.unique())\n",
    "    print(res[res.user_name==user].classification_id.unique())\n",
    "    print()"
   ]
  },
  {
   "cell_type": "code",
   "execution_count": null,
   "metadata": {
    "collapsed": false
   },
   "outputs": [],
   "source": [
    "fname = '/Users/klay6683/data/planet4/2015-10-11_planet_four_classifications_queryable.h5'\n",
    "db = io.DBManager()"
   ]
  },
  {
   "cell_type": "code",
   "execution_count": null,
   "metadata": {
    "collapsed": false
   },
   "outputs": [],
   "source": [
    "db.dbname"
   ]
  },
  {
   "cell_type": "code",
   "execution_count": null,
   "metadata": {
    "collapsed": false,
    "scrolled": false
   },
   "outputs": [],
   "source": [
    "data = pd.read_hdf(db.dbname, 'df',\n",
    "                    where=\"classification_id=='50ef44b795e6e42cd2000001'\")\n",
    "data"
   ]
  },
  {
   "cell_type": "code",
   "execution_count": null,
   "metadata": {
    "collapsed": true
   },
   "outputs": [],
   "source": [
    "df = pd.read_hdf(db.dbname, 'df')"
   ]
  },
  {
   "cell_type": "code",
   "execution_count": null,
   "metadata": {
    "collapsed": false
   },
   "outputs": [],
   "source": [
    "df[df.classification_id=='50ef44b795e6e42cd2000001']"
   ]
  },
  {
   "cell_type": "code",
   "execution_count": null,
   "metadata": {
    "collapsed": false,
    "scrolled": true
   },
   "outputs": [],
   "source": [
    "df[df.classification_id=='50ef44b995e6e42d8c000001']"
   ]
  },
  {
   "cell_type": "code",
   "execution_count": null,
   "metadata": {
    "collapsed": false,
    "scrolled": false
   },
   "outputs": [],
   "source": [
    "df[df.classification_id=='50ee0e5694b9d564a90000b5']"
   ]
  },
  {
   "cell_type": "code",
   "execution_count": null,
   "metadata": {
    "collapsed": false
   },
   "outputs": [],
   "source": [
    "db.dbname"
   ]
  },
  {
   "cell_type": "code",
   "execution_count": null,
   "metadata": {
    "collapsed": false
   },
   "outputs": [],
   "source": [
    "df.classification_id = df.classification_id.astype('str')"
   ]
  },
  {
   "cell_type": "code",
   "execution_count": null,
   "metadata": {
    "collapsed": false
   },
   "outputs": [],
   "source": [
    "df.to_hdf('/Users/klay6683/data/planet4/2015-10-11_planet_four_classifications_queryable_cleaned.h5',\n",
    "         'df', format='t', data_columns=reduction.data_columns)"
   ]
  },
  {
   "cell_type": "code",
   "execution_count": null,
   "metadata": {
    "collapsed": false
   },
   "outputs": [],
   "source": [
    "pd.read_hdf('/Users/klay6683/data/planet4/2015-10-11_planet_four_classifications_queryable_cleaned.h5',\n",
    "           'df', where=\"classification_id=='50ef44b795e6e42cd2000001'\")"
   ]
  },
  {
   "cell_type": "code",
   "execution_count": null,
   "metadata": {
    "collapsed": true
   },
   "outputs": [],
   "source": [
    "fname = '/Users/klay6683/data/planet4/2015-10-11_planet_four_classifications_queryable.h5'"
   ]
  },
  {
   "cell_type": "code",
   "execution_count": null,
   "metadata": {
    "collapsed": false,
    "scrolled": true
   },
   "outputs": [],
   "source": [
    "reduction.remove_duplicates_from_file(fname)"
   ]
  },
  {
   "cell_type": "code",
   "execution_count": null,
   "metadata": {
    "collapsed": false
   },
   "outputs": [],
   "source": [
    "data = pd.read_hdf('testing.h5', 'df',\n",
    "                    where=\"classification_id=='50ef44b995e6e42d8c000001'\")\n",
    "data"
   ]
  },
  {
   "cell_type": "code",
   "execution_count": null,
   "metadata": {
    "collapsed": true
   },
   "outputs": [],
   "source": [
    "data2 = db.get_class_id_data('50ef44b995e6e42d8c000001')"
   ]
  },
  {
   "cell_type": "code",
   "execution_count": null,
   "metadata": {
    "collapsed": true
   },
   "outputs": [],
   "source": []
  }
 ],
 "metadata": {
  "kernelspec": {
   "display_name": "Python 3 (root)",
   "language": "python",
   "name": "python3root"
  },
  "language_info": {
   "codemirror_mode": {
    "name": "ipython",
    "version": 3
   },
   "file_extension": ".py",
   "mimetype": "text/x-python",
   "name": "python",
   "nbconvert_exporter": "python",
   "pygments_lexer": "ipython3",
   "version": "3.4.3"
  }
 },
 "nbformat": 4,
 "nbformat_minor": 0
}
