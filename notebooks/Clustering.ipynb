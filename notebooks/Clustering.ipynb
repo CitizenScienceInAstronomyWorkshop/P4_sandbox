{
 "metadata": {
  "name": ""
 },
 "nbformat": 3,
 "nbformat_minor": 0,
 "worksheets": [
  {
   "cells": [
    {
     "cell_type": "code",
     "collapsed": false,
     "input": [
      "from planet4 import helper_functions as hf\n",
      "from planet4 import get_data\n",
      "from planet4 import overplot_blotches as ob\n",
      "import numpy as np\n",
      "from sklearn.cluster import DBSCAN\n",
      "from sklearn import metrics\n",
      "from sklearn.preprocessing import StandardScaler\n",
      "import pylab as pl\n",
      "from math import pi\n",
      "reload(get_data)"
     ],
     "language": "python",
     "metadata": {},
     "outputs": [],
     "prompt_number": null
    },
    {
     "cell_type": "code",
     "collapsed": false,
     "input": [
      "fname = get_data.get_current_database_fname()"
     ],
     "language": "python",
     "metadata": {},
     "outputs": [],
     "prompt_number": null
    },
    {
     "cell_type": "code",
     "collapsed": false,
     "input": [
      "data = pd.read_hdf(fname, 'df', where='image_id=APF0000jnp')"
     ],
     "language": "python",
     "metadata": {},
     "outputs": [],
     "prompt_number": null
    },
    {
     "cell_type": "code",
     "collapsed": false,
     "input": [
      "data.info()"
     ],
     "language": "python",
     "metadata": {},
     "outputs": [],
     "prompt_number": null
    },
    {
     "cell_type": "code",
     "collapsed": false,
     "input": [
      "gold_user = 'mschwamb'\n",
      "gold_data = data[data.user_name == gold_user]\n",
      "# image ids to be used for analysis\n",
      "img_ids = gold_data.image_id.unique()\n",
      "gold_blotches = gold_data[gold_data.marking=='blotch']\n",
      "gold_blotches['area'] = gold_blotches.apply(hf.get_blotch_area, axis=1)"
     ],
     "language": "python",
     "metadata": {},
     "outputs": [],
     "prompt_number": null
    },
    {
     "cell_type": "code",
     "collapsed": false,
     "input": [
      "gold_standard = gold_blotches['area'].groupby(gold_blotches.image_id).agg({'counts':len, 'area':np.sum})"
     ],
     "language": "python",
     "metadata": {},
     "outputs": [],
     "prompt_number": null
    },
    {
     "cell_type": "code",
     "collapsed": false,
     "input": [
      "gold_standard"
     ],
     "language": "python",
     "metadata": {},
     "outputs": [],
     "prompt_number": null
    },
    {
     "cell_type": "code",
     "collapsed": false,
     "input": [
      "# get all blotch markings for these image_ids\n",
      "blotches = data[data.image_id.isin(img_ids)]\n",
      "blotches = blotches[blotches.marking == 'blotch']"
     ],
     "language": "python",
     "metadata": {},
     "outputs": [],
     "prompt_number": null
    },
    {
     "cell_type": "code",
     "collapsed": false,
     "input": [
      "cols = 'x y'.split()\n",
      "ellipse_cols = 'x y radius_1 radius_2 angle'.split()"
     ],
     "language": "python",
     "metadata": {},
     "outputs": [],
     "prompt_number": null
    },
    {
     "cell_type": "code",
     "collapsed": false,
     "input": [
      "img_ids"
     ],
     "language": "python",
     "metadata": {},
     "outputs": [],
     "prompt_number": null
    },
    {
     "cell_type": "code",
     "collapsed": false,
     "input": [
      "def resetExtent(data,im):\n",
      "    \"\"\"\n",
      "    Using the data and axes from an AxesImage, im, force the extent and \n",
      "    axis values to match shape of data.\n",
      "    \"\"\"\n",
      "    ax = im.get_axes()\n",
      "    dataShape = data.shape\n",
      "\n",
      "    if im.origin == 'upper':\n",
      "        im.set_extent((-0.5,dataShape[0]-.5,dataShape[1]-.5,-.5))\n",
      "        ax.set_xlim((-0.5,dataShape[0]-.5))\n",
      "        ax.set_ylim((dataShape[1]-.5,-.5))\n",
      "    else:\n",
      "        im.set_extent((-0.5,dataShape[0]-.5,-.5,dataShape[1]-.5))\n",
      "        ax.set_xlim((-0.5,dataShape[0]-.5))\n",
      "        ax.set_ylim((-.5,dataShape[1]-.5))"
     ],
     "language": "python",
     "metadata": {},
     "outputs": [],
     "prompt_number": null
    },
    {
     "cell_type": "code",
     "collapsed": true,
     "input": [
      "for eps in range(4,8):\n",
      "    for img_id in img_ids:\n",
      "        markings = blotches[blotches.image_id==img_id]\n",
      "        X = markings[cols].values\n",
      "        if X.shape[0] == 0:\n",
      "            continue\n",
      "        X_all = markings['x y radius_1 radius_2'.split()]\n",
      "        min_samples=5\n",
      "        # X = StandardScaler().fit_transform(data[cols].values); eps=0.3\n",
      "    #     p4img = get_data.get_image_from_record(data.iloc[0])\n",
      "    #     fig, ax = plt.subplots(ncols=2,nrows=2, figsize=(10,8))\n",
      "    #     axes = ax.flatten()\n",
      "    #     for i in range(4):\n",
      "    #         im = axes[i].imshow(p4img)\n",
      "    #         axes[i].set_title('Original')\n",
      "    #     ob.add_ellipses_to_axis(axes[1], markings)\n",
      "    #     axes[1].set_title(\"Markings\")\n",
      "        db = DBSCAN(eps=eps, min_samples=min_samples).fit(X)\n",
      "        core_samples = db.core_sample_indices_\n",
      "        labels = db.labels_\n",
      "        # Number of clusters in labels, ignoring noise if present.\n",
      "        n_clusters = len(set(labels)) - (1 if -1 in labels else 0)\n",
      "#         print('Estimated number of clusters: %d' % n_clusters)\n",
      "        gold_standard.loc[img_id, 'mycluster'] = n_clusters\n",
      "    \n",
      "        unique_labels = set(labels)\n",
      "        areas = []\n",
      "        for k in unique_labels:\n",
      "            if k < 0:\n",
      "                continue\n",
      "            cluster_core_samples = [index for index in core_samples \n",
      "                                    if labels[index] == k]\n",
      "            ellipsedata = markings[ellipse_cols].values[cluster_core_samples]\n",
      "            meandata = ellipsedata.mean(axis=0)\n",
      "            areas.append(pi*meandata[2]*meandata[3])\n",
      "        gold_standard.loc[img_id, 'myareas'] = np.array(areas).sum()\n",
      "    print 'eps:',eps\n",
      "    print gold_standard.head(10)"
     ],
     "language": "python",
     "metadata": {},
     "outputs": [],
     "prompt_number": null
    },
    {
     "cell_type": "code",
     "collapsed": false,
     "input": [
      "    if n_clusters_ > 0:\n",
      "        print(\"Silhouette Coefficient: %0.3f\"\n",
      "          % metrics.silhouette_score(X, labels))\n",
      "\n",
      "    unique_labels = set(labels)\n",
      "    colors = pl.cm.Spectral(linspace(0,1, len(unique_labels)))\n",
      "    for k, col in zip(unique_labels, colors):\n",
      "        if k == -1:\n",
      "            col = 'k'\n",
      "            markersize=5\n",
      "        class_members = [index[0] for index in argwhere(labels == k)]\n",
      "        cluster_core_samples = [index for index in core_samples \n",
      "                                if labels[index] == k]\n",
      "        for index in class_members:\n",
      "            x = X[index]\n",
      "            if index in core_samples and k != -1:\n",
      "                markersize = 8\n",
      "            else:\n",
      "                markersize = 5\n",
      "            axes[3].plot(x[0], x[1], 'o', markerfacecolor=col,\n",
      "                    markeredgecolor='k', markersize=markersize)\n",
      "        if k > -0.5:\n",
      "    #         axes[3].plot(meanx, meany, 'x', markerfacecolor='green',\n",
      "    #                      markeredgecolor='k', markersize=12,\n",
      "    #                      mew=2)\n",
      "            ellipsedata = markings[ellipse_cols].values[cluster_core_samples]\n",
      "            meandata = ellipsedata.mean(axis=0)\n",
      "            el = Ellipse(meandata[:2], *meandata[2:],\n",
      "                         fill=False, color=col, linewidth=2)\n",
      "            axes[3].add_artist(el)\n",
      "    axes[3].set_title('Estimated number of clusters: {}'.format(n_clusters))\n",
      "    resetExtent(p4img[...,0].T, im)\n",
      "    pl.tight_layout()\n",
      "    fig.suptitle(img_id)"
     ],
     "language": "python",
     "metadata": {},
     "outputs": []
    },
    {
     "cell_type": "code",
     "collapsed": false,
     "input": [],
     "language": "python",
     "metadata": {},
     "outputs": []
    }
   ],
   "metadata": {}
  }
 ]
}
