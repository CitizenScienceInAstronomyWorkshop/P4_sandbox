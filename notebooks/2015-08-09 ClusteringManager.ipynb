{
 "cells": [
  {
   "cell_type": "code",
   "execution_count": 1,
   "metadata": {
    "collapsed": false
   },
   "outputs": [],
   "source": [
    "%matplotlib nbagg\n",
    "from planet4.clustering import ClusteringManager\n",
    "from planet4 import io, markings, plotting\n",
    "from IPython.display import display\n",
    "from ipywidgets import FloatText\n",
    "from pathlib import Path"
   ]
  },
  {
   "cell_type": "code",
   "execution_count": 9,
   "metadata": {
    "collapsed": false
   },
   "outputs": [],
   "source": [
    "db = io.DBManager(\"/Volumes/USB128GB/planet4/2015-11-22_planet_four_classifications_queryable_cleaned.h5\")\n",
    "dbname = db.dbname"
   ]
  },
  {
   "cell_type": "code",
   "execution_count": 10,
   "metadata": {
    "collapsed": true
   },
   "outputs": [],
   "source": [
    "obsids = !cat /Users/klay6683/Dropbox/data/planet4/season2_3_image_names.txt"
   ]
  },
  {
   "cell_type": "code",
   "execution_count": 11,
   "metadata": {
    "collapsed": false
   },
   "outputs": [],
   "source": [
    "img_name = obsids[0]"
   ]
  },
  {
   "cell_type": "code",
   "execution_count": 5,
   "metadata": {
    "collapsed": false
   },
   "outputs": [],
   "source": [
    "def process_image_name(img_name):\n",
    "    from pathlib import Path\n",
    "    from planet4.clustering import ClusteringManager\n",
    "    output_dir = Path('/Users/klay6683/Dropbox/data/planet4/season23_v3')\n",
    "    output_dir.mkdir(exist_ok=True)\n",
    "    cm = ClusteringManager(dbname, scope='planet4',\n",
    "                           output_dir=output_dir,\n",
    "                           output_format='both')\n",
    "    cm.cluster_image_name(img_name)\n",
    "    return img_name"
   ]
  },
  {
   "cell_type": "code",
   "execution_count": 6,
   "metadata": {
    "collapsed": false
   },
   "outputs": [
    {
     "data": {
      "text/plain": [
       "'ESP_013113_0985'"
      ]
     },
     "execution_count": 6,
     "metadata": {},
     "output_type": "execute_result"
    }
   ],
   "source": [
    "process_image_name(img_name)"
   ]
  },
  {
   "cell_type": "code",
   "execution_count": 6,
   "metadata": {
    "collapsed": true
   },
   "outputs": [],
   "source": [
    "from planet4.clustering import ClusteringManager\n",
    "fnotched_dir = Path('/Users/klay6683/Dropbox/data/planet4/debug')\n",
    "fnotched_dir.mkdir(exist_ok=True)"
   ]
  },
  {
   "cell_type": "code",
   "execution_count": 12,
   "metadata": {
    "collapsed": false
   },
   "outputs": [],
   "source": [
    "def check_processing_image_id(img_id):\n",
    "    cm = ClusteringManager(dbname, scope='planet4',\n",
    "                       fnotched_dir=fnotched_dir,\n",
    "                       output_format='both')\n",
    "    cm.cluster_image_id(img_id)\n",
    "    p4id = markings.ImageID(img_id, database_fname=dbname)\n",
    "    fig, axes = plt.subplots(nrows=2, sharex=True)\n",
    "    resman = plotting.ResultManager(img_id, fnotched_dir)\n",
    "    p4id.plot_blotches(ax=axes[0],\n",
    "                       blotches=resman.blotches(unfnotched=True))\n",
    "    p4id.plot_fans(ax=axes[1],\n",
    "                   fans=resman.fans(unfnotched=True))\n",
    "    cm.apply_fnotch_cut(img_id)\n",
    "    return cm"
   ]
  },
  {
   "cell_type": "code",
   "execution_count": 14,
   "metadata": {
    "collapsed": false,
    "scrolled": false
   },
   "outputs": [
    {
     "name": "stderr",
     "output_type": "stream",
     "text": [
      "--- Logging error ---\n",
      "Traceback (most recent call last):\n",
      "  File \"/Users/klay6683/miniconda3/envs/py35/lib/python3.5/logging/__init__.py\", line 980, in emit\n",
      "    msg = self.format(record)\n",
      "  File \"/Users/klay6683/miniconda3/envs/py35/lib/python3.5/logging/__init__.py\", line 830, in format\n",
      "    return fmt.format(record)\n",
      "  File \"/Users/klay6683/miniconda3/envs/py35/lib/python3.5/logging/__init__.py\", line 567, in format\n",
      "    record.message = record.getMessage()\n",
      "  File \"/Users/klay6683/miniconda3/envs/py35/lib/python3.5/logging/__init__.py\", line 330, in getMessage\n",
      "    msg = msg % self.args\n",
      "TypeError: not all arguments converted during string formatting\n",
      "Call stack:\n",
      "  File \"/Users/klay6683/miniconda3/envs/py35/lib/python3.5/runpy.py\", line 170, in _run_module_as_main\n",
      "    \"__main__\", mod_spec)\n",
      "  File \"/Users/klay6683/miniconda3/envs/py35/lib/python3.5/runpy.py\", line 85, in _run_code\n",
      "    exec(code, run_globals)\n",
      "  File \"/Users/klay6683/miniconda3/envs/py35/lib/python3.5/site-packages/ipykernel/__main__.py\", line 3, in <module>\n",
      "    app.launch_new_instance()\n",
      "  File \"/Users/klay6683/miniconda3/envs/py35/lib/python3.5/site-packages/traitlets/config/application.py\", line 592, in launch_instance\n",
      "    app.start()\n",
      "  File \"/Users/klay6683/miniconda3/envs/py35/lib/python3.5/site-packages/ipykernel/kernelapp.py\", line 403, in start\n",
      "    ioloop.IOLoop.instance().start()\n",
      "  File \"/Users/klay6683/miniconda3/envs/py35/lib/python3.5/site-packages/zmq/eventloop/ioloop.py\", line 151, in start\n",
      "    super(ZMQIOLoop, self).start()\n",
      "  File \"/Users/klay6683/miniconda3/envs/py35/lib/python3.5/site-packages/tornado/ioloop.py\", line 883, in start\n",
      "    handler_func(fd_obj, events)\n",
      "  File \"/Users/klay6683/miniconda3/envs/py35/lib/python3.5/site-packages/tornado/stack_context.py\", line 275, in null_wrapper\n",
      "    return fn(*args, **kwargs)\n",
      "  File \"/Users/klay6683/miniconda3/envs/py35/lib/python3.5/site-packages/zmq/eventloop/zmqstream.py\", line 433, in _handle_events\n",
      "    self._handle_recv()\n",
      "  File \"/Users/klay6683/miniconda3/envs/py35/lib/python3.5/site-packages/zmq/eventloop/zmqstream.py\", line 465, in _handle_recv\n",
      "    self._run_callback(callback, msg)\n",
      "  File \"/Users/klay6683/miniconda3/envs/py35/lib/python3.5/site-packages/zmq/eventloop/zmqstream.py\", line 407, in _run_callback\n",
      "    callback(*args, **kwargs)\n",
      "  File \"/Users/klay6683/miniconda3/envs/py35/lib/python3.5/site-packages/tornado/stack_context.py\", line 275, in null_wrapper\n",
      "    return fn(*args, **kwargs)\n",
      "  File \"/Users/klay6683/miniconda3/envs/py35/lib/python3.5/site-packages/ipykernel/kernelbase.py\", line 260, in dispatcher\n",
      "    return self.dispatch_shell(stream, msg)\n",
      "  File \"/Users/klay6683/miniconda3/envs/py35/lib/python3.5/site-packages/ipykernel/kernelbase.py\", line 212, in dispatch_shell\n",
      "    handler(stream, idents, msg)\n",
      "  File \"/Users/klay6683/miniconda3/envs/py35/lib/python3.5/site-packages/ipykernel/kernelbase.py\", line 370, in execute_request\n",
      "    user_expressions, allow_stdin)\n",
      "  File \"/Users/klay6683/miniconda3/envs/py35/lib/python3.5/site-packages/ipykernel/ipkernel.py\", line 175, in do_execute\n",
      "    shell.run_cell(code, store_history=store_history, silent=silent)\n",
      "  File \"/Users/klay6683/miniconda3/envs/py35/lib/python3.5/site-packages/IPython/core/interactiveshell.py\", line 2902, in run_cell\n",
      "    interactivity=interactivity, compiler=compiler, result=result)\n",
      "  File \"/Users/klay6683/miniconda3/envs/py35/lib/python3.5/site-packages/IPython/core/interactiveshell.py\", line 3006, in run_ast_nodes\n",
      "    if self.run_code(code, result):\n",
      "  File \"/Users/klay6683/miniconda3/envs/py35/lib/python3.5/site-packages/IPython/core/interactiveshell.py\", line 3066, in run_code\n",
      "    exec(code_obj, self.user_global_ns, self.user_ns)\n",
      "  File \"<ipython-input-14-937ae7454657>\", line 1, in <module>\n",
      "    cm = check_processing_image_id('APF000036k')\n",
      "  File \"<ipython-input-12-59810086e3d2>\", line 5, in check_processing_image_id\n",
      "    cm.cluster_image_id(img_id)\n",
      "  File \"/Users/klay6683/Dropbox/src/planet4/planet4/clustering.py\", line 400, in cluster_image_id\n",
      "    self.execute_pipeline(self.p4id.data)\n",
      "  File \"/Users/klay6683/Dropbox/src/planet4/planet4/clustering.py\", line 383, in execute_pipeline\n",
      "    self.cluster_data(data)\n",
      "  File \"/Users/klay6683/Dropbox/src/planet4/planet4/clustering.py\", line 318, in cluster_data\n",
      "    dbscanner = DBScanner(markings, kind, eps=self.eps, scope=self.scope)\n",
      "  File \"/Users/klay6683/Dropbox/src/planet4/planet4/clustering.py\", line 95, in __init__\n",
      "    self._run_DBSCAN()\n",
      "  File \"/Users/klay6683/Dropbox/src/planet4/planet4/clustering.py\", line 115, in _run_DBSCAN\n",
      "    logging.debug(\"Estimated number of clusters:\", self.n_clusters)\n",
      "Message: 'Estimated number of clusters:'\n",
      "Arguments: (7,)\n",
      "--- Logging error ---\n",
      "Traceback (most recent call last):\n",
      "  File \"/Users/klay6683/miniconda3/envs/py35/lib/python3.5/logging/__init__.py\", line 980, in emit\n",
      "    msg = self.format(record)\n",
      "  File \"/Users/klay6683/miniconda3/envs/py35/lib/python3.5/logging/__init__.py\", line 830, in format\n",
      "    return fmt.format(record)\n",
      "  File \"/Users/klay6683/miniconda3/envs/py35/lib/python3.5/logging/__init__.py\", line 567, in format\n",
      "    record.message = record.getMessage()\n",
      "  File \"/Users/klay6683/miniconda3/envs/py35/lib/python3.5/logging/__init__.py\", line 330, in getMessage\n",
      "    msg = msg % self.args\n",
      "TypeError: not all arguments converted during string formatting\n",
      "Call stack:\n",
      "  File \"/Users/klay6683/miniconda3/envs/py35/lib/python3.5/runpy.py\", line 170, in _run_module_as_main\n",
      "    \"__main__\", mod_spec)\n",
      "  File \"/Users/klay6683/miniconda3/envs/py35/lib/python3.5/runpy.py\", line 85, in _run_code\n",
      "    exec(code, run_globals)\n",
      "  File \"/Users/klay6683/miniconda3/envs/py35/lib/python3.5/site-packages/ipykernel/__main__.py\", line 3, in <module>\n",
      "    app.launch_new_instance()\n",
      "  File \"/Users/klay6683/miniconda3/envs/py35/lib/python3.5/site-packages/traitlets/config/application.py\", line 592, in launch_instance\n",
      "    app.start()\n",
      "  File \"/Users/klay6683/miniconda3/envs/py35/lib/python3.5/site-packages/ipykernel/kernelapp.py\", line 403, in start\n",
      "    ioloop.IOLoop.instance().start()\n",
      "  File \"/Users/klay6683/miniconda3/envs/py35/lib/python3.5/site-packages/zmq/eventloop/ioloop.py\", line 151, in start\n",
      "    super(ZMQIOLoop, self).start()\n",
      "  File \"/Users/klay6683/miniconda3/envs/py35/lib/python3.5/site-packages/tornado/ioloop.py\", line 883, in start\n",
      "    handler_func(fd_obj, events)\n",
      "  File \"/Users/klay6683/miniconda3/envs/py35/lib/python3.5/site-packages/tornado/stack_context.py\", line 275, in null_wrapper\n",
      "    return fn(*args, **kwargs)\n",
      "  File \"/Users/klay6683/miniconda3/envs/py35/lib/python3.5/site-packages/zmq/eventloop/zmqstream.py\", line 433, in _handle_events\n",
      "    self._handle_recv()\n",
      "  File \"/Users/klay6683/miniconda3/envs/py35/lib/python3.5/site-packages/zmq/eventloop/zmqstream.py\", line 465, in _handle_recv\n",
      "    self._run_callback(callback, msg)\n",
      "  File \"/Users/klay6683/miniconda3/envs/py35/lib/python3.5/site-packages/zmq/eventloop/zmqstream.py\", line 407, in _run_callback\n",
      "    callback(*args, **kwargs)\n",
      "  File \"/Users/klay6683/miniconda3/envs/py35/lib/python3.5/site-packages/tornado/stack_context.py\", line 275, in null_wrapper\n",
      "    return fn(*args, **kwargs)\n",
      "  File \"/Users/klay6683/miniconda3/envs/py35/lib/python3.5/site-packages/ipykernel/kernelbase.py\", line 260, in dispatcher\n",
      "    return self.dispatch_shell(stream, msg)\n",
      "  File \"/Users/klay6683/miniconda3/envs/py35/lib/python3.5/site-packages/ipykernel/kernelbase.py\", line 212, in dispatch_shell\n",
      "    handler(stream, idents, msg)\n",
      "  File \"/Users/klay6683/miniconda3/envs/py35/lib/python3.5/site-packages/ipykernel/kernelbase.py\", line 370, in execute_request\n",
      "    user_expressions, allow_stdin)\n",
      "  File \"/Users/klay6683/miniconda3/envs/py35/lib/python3.5/site-packages/ipykernel/ipkernel.py\", line 175, in do_execute\n",
      "    shell.run_cell(code, store_history=store_history, silent=silent)\n",
      "  File \"/Users/klay6683/miniconda3/envs/py35/lib/python3.5/site-packages/IPython/core/interactiveshell.py\", line 2902, in run_cell\n",
      "    interactivity=interactivity, compiler=compiler, result=result)\n",
      "  File \"/Users/klay6683/miniconda3/envs/py35/lib/python3.5/site-packages/IPython/core/interactiveshell.py\", line 3006, in run_ast_nodes\n",
      "    if self.run_code(code, result):\n",
      "  File \"/Users/klay6683/miniconda3/envs/py35/lib/python3.5/site-packages/IPython/core/interactiveshell.py\", line 3066, in run_code\n",
      "    exec(code_obj, self.user_global_ns, self.user_ns)\n",
      "  File \"<ipython-input-14-937ae7454657>\", line 1, in <module>\n",
      "    cm = check_processing_image_id('APF000036k')\n",
      "  File \"<ipython-input-12-59810086e3d2>\", line 5, in check_processing_image_id\n",
      "    cm.cluster_image_id(img_id)\n",
      "  File \"/Users/klay6683/Dropbox/src/planet4/planet4/clustering.py\", line 400, in cluster_image_id\n",
      "    self.execute_pipeline(self.p4id.data)\n",
      "  File \"/Users/klay6683/Dropbox/src/planet4/planet4/clustering.py\", line 383, in execute_pipeline\n",
      "    self.cluster_data(data)\n",
      "  File \"/Users/klay6683/Dropbox/src/planet4/planet4/clustering.py\", line 318, in cluster_data\n",
      "    dbscanner = DBScanner(markings, kind, eps=self.eps, scope=self.scope)\n",
      "  File \"/Users/klay6683/Dropbox/src/planet4/planet4/clustering.py\", line 95, in __init__\n",
      "    self._run_DBSCAN()\n",
      "  File \"/Users/klay6683/Dropbox/src/planet4/planet4/clustering.py\", line 115, in _run_DBSCAN\n",
      "    logging.debug(\"Estimated number of clusters:\", self.n_clusters)\n",
      "Message: 'Estimated number of clusters:'\n",
      "Arguments: (38,)\n"
     ]
    },
    {
     "ename": "TypeError",
     "evalue": "apply_fnotch_cut() missing 1 required positional argument: 'id_'",
     "output_type": "error",
     "traceback": [
      "\u001b[0;31m---------------------------------------------------------------------------\u001b[0m",
      "\u001b[0;31mTypeError\u001b[0m                                 Traceback (most recent call last)",
      "\u001b[0;32m<ipython-input-14-937ae7454657>\u001b[0m in \u001b[0;36m<module>\u001b[0;34m()\u001b[0m\n\u001b[0;32m----> 1\u001b[0;31m \u001b[0mcm\u001b[0m \u001b[0;34m=\u001b[0m \u001b[0mcheck_processing_image_id\u001b[0m\u001b[0;34m(\u001b[0m\u001b[0;34m'APF000036k'\u001b[0m\u001b[0;34m)\u001b[0m\u001b[0;34m\u001b[0m\u001b[0m\n\u001b[0m",
      "\u001b[0;32m<ipython-input-12-59810086e3d2>\u001b[0m in \u001b[0;36mcheck_processing_image_id\u001b[0;34m(img_id)\u001b[0m\n\u001b[1;32m      3\u001b[0m                        \u001b[0mfnotched_dir\u001b[0m\u001b[0;34m=\u001b[0m\u001b[0mfnotched_dir\u001b[0m\u001b[0;34m,\u001b[0m\u001b[0;34m\u001b[0m\u001b[0m\n\u001b[1;32m      4\u001b[0m                        output_format='both')\n\u001b[0;32m----> 5\u001b[0;31m     \u001b[0mcm\u001b[0m\u001b[0;34m.\u001b[0m\u001b[0mcluster_image_id\u001b[0m\u001b[0;34m(\u001b[0m\u001b[0mimg_id\u001b[0m\u001b[0;34m)\u001b[0m\u001b[0;34m\u001b[0m\u001b[0m\n\u001b[0m\u001b[1;32m      6\u001b[0m     \u001b[0mp4id\u001b[0m \u001b[0;34m=\u001b[0m \u001b[0mmarkings\u001b[0m\u001b[0;34m.\u001b[0m\u001b[0mImageID\u001b[0m\u001b[0;34m(\u001b[0m\u001b[0mimg_id\u001b[0m\u001b[0;34m,\u001b[0m \u001b[0mdatabase_fname\u001b[0m\u001b[0;34m=\u001b[0m\u001b[0mdbname\u001b[0m\u001b[0;34m)\u001b[0m\u001b[0;34m\u001b[0m\u001b[0m\n\u001b[1;32m      7\u001b[0m     \u001b[0mfig\u001b[0m\u001b[0;34m,\u001b[0m \u001b[0maxes\u001b[0m \u001b[0;34m=\u001b[0m \u001b[0mplt\u001b[0m\u001b[0;34m.\u001b[0m\u001b[0msubplots\u001b[0m\u001b[0;34m(\u001b[0m\u001b[0mnrows\u001b[0m\u001b[0;34m=\u001b[0m\u001b[0;36m2\u001b[0m\u001b[0;34m,\u001b[0m \u001b[0msharex\u001b[0m\u001b[0;34m=\u001b[0m\u001b[0;32mTrue\u001b[0m\u001b[0;34m)\u001b[0m\u001b[0;34m\u001b[0m\u001b[0m\n",
      "\u001b[0;32m/Users/klay6683/Dropbox/src/planet4/planet4/clustering.py\u001b[0m in \u001b[0;36mcluster_image_id\u001b[0;34m(self, image_id)\u001b[0m\n\u001b[1;32m    398\u001b[0m         \u001b[0mself\u001b[0m\u001b[0;34m.\u001b[0m\u001b[0mdata_id\u001b[0m \u001b[0;34m=\u001b[0m \u001b[0mimage_id\u001b[0m\u001b[0;34m\u001b[0m\u001b[0m\n\u001b[1;32m    399\u001b[0m         \u001b[0mself\u001b[0m\u001b[0;34m.\u001b[0m\u001b[0mp4id\u001b[0m \u001b[0;34m=\u001b[0m \u001b[0mmarkings\u001b[0m\u001b[0;34m.\u001b[0m\u001b[0mImageID\u001b[0m\u001b[0;34m(\u001b[0m\u001b[0mimage_id\u001b[0m\u001b[0;34m,\u001b[0m \u001b[0mself\u001b[0m\u001b[0;34m.\u001b[0m\u001b[0mdbname\u001b[0m\u001b[0;34m)\u001b[0m\u001b[0;34m\u001b[0m\u001b[0m\n\u001b[0;32m--> 400\u001b[0;31m         \u001b[0mself\u001b[0m\u001b[0;34m.\u001b[0m\u001b[0mexecute_pipeline\u001b[0m\u001b[0;34m(\u001b[0m\u001b[0mself\u001b[0m\u001b[0;34m.\u001b[0m\u001b[0mp4id\u001b[0m\u001b[0;34m.\u001b[0m\u001b[0mdata\u001b[0m\u001b[0;34m)\u001b[0m\u001b[0;34m\u001b[0m\u001b[0m\n\u001b[0m\u001b[1;32m    401\u001b[0m \u001b[0;34m\u001b[0m\u001b[0m\n\u001b[1;32m    402\u001b[0m     \u001b[0;32mdef\u001b[0m \u001b[0mcluster_image_name\u001b[0m\u001b[0;34m(\u001b[0m\u001b[0mself\u001b[0m\u001b[0;34m,\u001b[0m \u001b[0mimage_name\u001b[0m\u001b[0;34m)\u001b[0m\u001b[0;34m:\u001b[0m\u001b[0;34m\u001b[0m\u001b[0m\n",
      "\u001b[0;32m/Users/klay6683/Dropbox/src/planet4/planet4/clustering.py\u001b[0m in \u001b[0;36mexecute_pipeline\u001b[0;34m(self, data)\u001b[0m\n\u001b[1;32m    385\u001b[0m         \u001b[0mlogging\u001b[0m\u001b[0;34m.\u001b[0m\u001b[0mdebug\u001b[0m\u001b[0;34m(\u001b[0m\u001b[0;34m\"Clustering and fnotching completed.\"\u001b[0m\u001b[0;34m)\u001b[0m\u001b[0;34m\u001b[0m\u001b[0m\n\u001b[1;32m    386\u001b[0m         \u001b[0mself\u001b[0m\u001b[0;34m.\u001b[0m\u001b[0mstore_output\u001b[0m\u001b[0;34m(\u001b[0m\u001b[0;34m)\u001b[0m\u001b[0;34m\u001b[0m\u001b[0m\n\u001b[0;32m--> 387\u001b[0;31m         \u001b[0mself\u001b[0m\u001b[0;34m.\u001b[0m\u001b[0mapply_fnotch_cut\u001b[0m\u001b[0;34m(\u001b[0m\u001b[0;34m)\u001b[0m\u001b[0;34m\u001b[0m\u001b[0m\n\u001b[0m\u001b[1;32m    388\u001b[0m \u001b[0;34m\u001b[0m\u001b[0m\n\u001b[1;32m    389\u001b[0m     \u001b[0;32mdef\u001b[0m \u001b[0mcluster_image_id\u001b[0m\u001b[0;34m(\u001b[0m\u001b[0mself\u001b[0m\u001b[0;34m,\u001b[0m \u001b[0mimage_id\u001b[0m\u001b[0;34m)\u001b[0m\u001b[0;34m:\u001b[0m\u001b[0;34m\u001b[0m\u001b[0m\n",
      "\u001b[0;31mTypeError\u001b[0m: apply_fnotch_cut() missing 1 required positional argument: 'id_'"
     ]
    }
   ],
   "source": [
    "cm = check_processing_image_id('APF000036k')"
   ]
  },
  {
   "cell_type": "code",
   "execution_count": null,
   "metadata": {
    "collapsed": true
   },
   "outputs": [],
   "source": []
  },
  {
   "cell_type": "code",
   "execution_count": 18,
   "metadata": {
    "collapsed": true
   },
   "outputs": [],
   "source": [
    "resman = plotting.ResultManager(\"APF000036k\", cm.fnotched_dir)"
   ]
  },
  {
   "cell_type": "code",
   "execution_count": 23,
   "metadata": {
    "collapsed": false
   },
   "outputs": [
    {
     "ename": "TypeError",
     "evalue": "'PosixPath' object is not callable",
     "output_type": "error",
     "traceback": [
      "\u001b[0;31m---------------------------------------------------------------------------\u001b[0m",
      "\u001b[0;31mTypeError\u001b[0m                                 Traceback (most recent call last)",
      "\u001b[0;32m<ipython-input-23-ccc2f35a76b2>\u001b[0m in \u001b[0;36m<module>\u001b[0;34m()\u001b[0m\n\u001b[0;32m----> 1\u001b[0;31m \u001b[0mresman\u001b[0m\u001b[0;34m.\u001b[0m\u001b[0mfnotchfile\u001b[0m\u001b[0;34m(\u001b[0m\u001b[0;34m)\u001b[0m\u001b[0;34m\u001b[0m\u001b[0m\n\u001b[0m",
      "\u001b[0;31mTypeError\u001b[0m: 'PosixPath' object is not callable"
     ]
    }
   ],
   "source": [
    "resman.fnotchfile"
   ]
  },
  {
   "cell_type": "code",
   "execution_count": 9,
   "metadata": {
    "collapsed": false
   },
   "outputs": [
    {
     "name": "stdout",
     "output_type": "stream",
     "text": [
      "/Users/klay6683/Dropbox/data/planet4/debug\n"
     ]
    }
   ],
   "source": [
    "cd ~/Dropbox/data/planet4/debug/"
   ]
  },
  {
   "cell_type": "code",
   "execution_count": 10,
   "metadata": {
    "collapsed": false
   },
   "outputs": [
    {
     "name": "stdout",
     "output_type": "stream",
     "text": [
      "total 6448\r\n",
      "-rw-r--r--@ 1 klay6683  LASP\\Domain Users     8430 Nov 25 16:41 APF000036k_blotches.csv\r\n",
      "-rw-r--r--@ 1 klay6683  LASP\\Domain Users  1098808 Nov 25 16:41 APF000036k_blotches.hdf\r\n",
      "-rw-r--r--@ 1 klay6683  LASP\\Domain Users      879 Nov 25 16:41 APF000036k_fans.csv\r\n",
      "-rw-r--r--@ 1 klay6683  LASP\\Domain Users  1086672 Nov 25 16:41 APF000036k_fans.hdf\r\n",
      "-rw-r--r--@ 1 klay6683  LASP\\Domain Users     1137 Nov 25 16:41 APF000036k_fnotches.csv\r\n",
      "-rw-r--r--@ 1 klay6683  LASP\\Domain Users  1086672 Nov 25 16:41 APF000036k_fnotches.hdf\r\n"
     ]
    }
   ],
   "source": [
    "ll"
   ]
  },
  {
   "cell_type": "code",
   "execution_count": 25,
   "metadata": {
    "collapsed": false
   },
   "outputs": [],
   "source": [
    "df = pd.read_hdf('./APF000036k_fnotches.hdf')"
   ]
  },
  {
   "cell_type": "code",
   "execution_count": 29,
   "metadata": {
    "collapsed": false
   },
   "outputs": [],
   "source": [
    "fc = markings.FnotchContainer.from_df(df)"
   ]
  },
  {
   "cell_type": "code",
   "execution_count": 30,
   "metadata": {
    "collapsed": false
   },
   "outputs": [
    {
     "data": {
      "text/plain": [
       "Fnotch value: 0.43\n",
       "\n",
       "Fan:\n",
       "x              344.167\n",
       "y                  164\n",
       "angle          10.9772\n",
       "spread         45.4477\n",
       "distance       50.2048\n",
       "arm1_x         381.727\n",
       "arm1_y          156.19\n",
       "arm2_x         376.083\n",
       "arm2_y         185.286\n",
       "image_id    APF000036k\n",
       "Name: 0, dtype: object\n",
       "\n",
       "Blotch:\n",
       "x              370.688\n",
       "y                  169\n",
       "angle          57.5947\n",
       "radius_1        30.456\n",
       "radius_2        23.467\n",
       "p1_x           387.009\n",
       "p1_y           195.358\n",
       "p2_x           354.366\n",
       "p2_y           142.642\n",
       "p3_x           350.875\n",
       "p3_y           181.576\n",
       "p4_x             390.5\n",
       "p4_y           156.424\n",
       "image_id    APF000036k\n",
       "Name: 0, dtype: object"
      ]
     },
     "execution_count": 30,
     "metadata": {},
     "output_type": "execute_result"
    }
   ],
   "source": [
    "fc.content[0]"
   ]
  },
  {
   "cell_type": "code",
   "execution_count": 10,
   "metadata": {
    "collapsed": false
   },
   "outputs": [],
   "source": [
    "from ipyparallel import Client\n",
    "c = Client()"
   ]
  },
  {
   "cell_type": "code",
   "execution_count": 11,
   "metadata": {
    "collapsed": true
   },
   "outputs": [],
   "source": [
    "lbview = c.load_balanced_view()"
   ]
  },
  {
   "cell_type": "code",
   "execution_count": 12,
   "metadata": {
    "collapsed": true
   },
   "outputs": [],
   "source": [
    "dview = c.direct_view()"
   ]
  },
  {
   "cell_type": "code",
   "execution_count": 13,
   "metadata": {
    "collapsed": false
   },
   "outputs": [
    {
     "data": {
      "text/plain": [
       "<AsyncResult: finished>"
      ]
     },
     "execution_count": 13,
     "metadata": {},
     "output_type": "execute_result"
    }
   ],
   "source": [
    "dview.push({'dbname': str(db.dbname)})"
   ]
  },
  {
   "cell_type": "code",
   "execution_count": 14,
   "metadata": {
    "collapsed": false
   },
   "outputs": [],
   "source": [
    "image_ids = []\n",
    "for image_name in obsids:\n",
    "    image_ids.append(db.get_image_name_markings(image_name)['image_id'].unique())"
   ]
  },
  {
   "cell_type": "code",
   "execution_count": 15,
   "metadata": {
    "collapsed": false
   },
   "outputs": [],
   "source": [
    "image_ids = pd.concat([pd.Series(i).astype(str) for i in image_ids])"
   ]
  },
  {
   "cell_type": "code",
   "execution_count": 16,
   "metadata": {
    "collapsed": false
   },
   "outputs": [
    {
     "data": {
      "text/plain": [
       "6407"
      ]
     },
     "execution_count": 16,
     "metadata": {},
     "output_type": "execute_result"
    }
   ],
   "source": [
    "len(image_ids)"
   ]
  },
  {
   "cell_type": "code",
   "execution_count": 11,
   "metadata": {
    "collapsed": false
   },
   "outputs": [],
   "source": [
    "cm = ClusteringManager(dbname, scope='planet4',\n",
    "                       output_dir=output_dir,\n",
    "                       output_format='both', cut=0.5)"
   ]
  },
  {
   "cell_type": "code",
   "execution_count": 20,
   "metadata": {
    "collapsed": false
   },
   "outputs": [],
   "source": [
    "todo = image_ids[:]\n",
    "results = lbview.map_async(cm.cluster_image_id, todo)"
   ]
  },
  {
   "cell_type": "code",
   "execution_count": 15,
   "metadata": {
    "collapsed": false
   },
   "outputs": [],
   "source": [
    "from iuvs.multitools import nb_progress_display"
   ]
  },
  {
   "cell_type": "code",
   "execution_count": 22,
   "metadata": {
    "collapsed": false
   },
   "outputs": [],
   "source": [
    "nb_progress_display(results, todo)"
   ]
  },
  {
   "cell_type": "code",
   "execution_count": 25,
   "metadata": {
    "collapsed": false
   },
   "outputs": [],
   "source": [
    "for res in results:\n",
    "    res"
   ]
  },
  {
   "cell_type": "markdown",
   "metadata": {
    "collapsed": true
   },
   "source": [
    "# Applying cut to fnotches"
   ]
  },
  {
   "cell_type": "code",
   "execution_count": 17,
   "metadata": {
    "collapsed": false
   },
   "outputs": [],
   "source": [
    "from pathlib import Path\n",
    "from planet4 import io"
   ]
  },
  {
   "cell_type": "code",
   "execution_count": 15,
   "metadata": {
    "collapsed": false
   },
   "outputs": [],
   "source": [
    "output_dir = io.dropbox() / 'season23_by_id_fnotched_0.5/'\n",
    "input_dir = io.dropbox() / 'season23_by_id'"
   ]
  },
  {
   "cell_type": "code",
   "execution_count": 16,
   "metadata": {
    "collapsed": false
   },
   "outputs": [],
   "source": [
    "fnotch_fnames = list(input_dir.glob('*_fnotches.hdf'))"
   ]
  },
  {
   "cell_type": "code",
   "execution_count": 18,
   "metadata": {
    "collapsed": false
   },
   "outputs": [
    {
     "data": {
      "text/plain": [
       "1688"
      ]
     },
     "execution_count": 18,
     "metadata": {},
     "output_type": "execute_result"
    }
   ],
   "source": [
    "len(fnotch_fnames)"
   ]
  },
  {
   "cell_type": "code",
   "execution_count": 19,
   "metadata": {
    "collapsed": false
   },
   "outputs": [],
   "source": [
    "def filter_for_fans(x):\n",
    "    if isinstance(x, planet4.markings.Fan):\n",
    "        return x\n",
    "\n",
    "def filter_for_blotches(x):\n",
    "    if isinstance(x, planet4.markings.Blotch):\n",
    "        return x"
   ]
  },
  {
   "cell_type": "code",
   "execution_count": 20,
   "metadata": {
    "collapsed": true
   },
   "outputs": [],
   "source": [
    "from planet4 import markings, plotting\n",
    "\n",
    "def get_newfans_newblotches(fname, input_dir):\n",
    "    resman = plotting.ResultManager(fname, input_dir)\n",
    "    df = resman.fnotchdf\n",
    "    final_clusters = df.apply(markings.Fnotch.from_dataframe, axis=1).\\\n",
    "        apply(lambda x: x.get_marking(0.5))\n",
    "    newfans = final_clusters[final_clusters.apply(filter_for_fans).notnull()]\n",
    "    newblotches = final_clusters[final_clusters.apply(filter_for_blotches).notnull()]\n",
    "    return newfans, newblotches\n",
    "    \n",
    "def process_fnotch_fname(fname):\n",
    "    outpath = output_dir\n",
    "    outpath.mkdir(exist_ok=True)\n",
    "    newfans, newblotches = get_newfans_newblotches(fname, input_dir)\n",
    "    \n",
    "    if len(newfans) > 0:\n",
    "        newfans = newfans.apply(lambda x: x.store())\n",
    "        try:\n",
    "            completefans = pd.DataFrame(resman.fandf).append(newfans, ignore_index=True)\n",
    "        except OSError:\n",
    "            completefans = newfans\n",
    "    else:\n",
    "        completefans = resman.fandf\n",
    "    if len(newblotches) > 0:\n",
    "        newblotches = newblotches.apply(lambda x: x.store())\n",
    "        try:\n",
    "            completeblotches = pd.DataFrame(resman.blotchdf).append(newblotches,\n",
    "                                                      ignore_index=True)\n",
    "        except OSError:\n",
    "            completeblotches = newblotches\n",
    "    else:\n",
    "        completeblotches = resman.blotchdf\n",
    "    completefans.to_hdf(str(outpath / resman.fanfile.name), 'df')\n",
    "    completeblotches.to_hdf(str(outpath / resman.blotchfile.name), 'df')"
   ]
  },
  {
   "cell_type": "code",
   "execution_count": 21,
   "metadata": {
    "collapsed": false
   },
   "outputs": [],
   "source": [
    "image_ids = [i.stem.split('_')[0] for i in fnotch_fnames]"
   ]
  },
  {
   "cell_type": "code",
   "execution_count": 22,
   "metadata": {
    "collapsed": false
   },
   "outputs": [
    {
     "data": {
      "text/plain": [
       "'APF000010p'"
      ]
     },
     "execution_count": 22,
     "metadata": {},
     "output_type": "execute_result"
    }
   ],
   "source": [
    "image_ids[0]"
   ]
  },
  {
   "cell_type": "code",
   "execution_count": 27,
   "metadata": {
    "collapsed": false,
    "scrolled": false
   },
   "outputs": [
    {
     "ename": "AttributeError",
     "evalue": "(\"'Fan' object has no attribute 'image_id'\", 'occurred at index 0')",
     "output_type": "error",
     "traceback": [
      "\u001b[0;31m---------------------------------------------------------------------------\u001b[0m",
      "\u001b[0;31mAttributeError\u001b[0m                            Traceback (most recent call last)",
      "\u001b[0;32m<ipython-input-27-8f0eac9c3264>\u001b[0m in \u001b[0;36m<module>\u001b[0;34m()\u001b[0m\n\u001b[0;32m----> 1\u001b[0;31m \u001b[0mcm\u001b[0m\u001b[0;34m.\u001b[0m\u001b[0mapply_fnotch_cut\u001b[0m\u001b[0;34m(\u001b[0m\u001b[0mimage_ids\u001b[0m\u001b[0;34m[\u001b[0m\u001b[0;36m0\u001b[0m\u001b[0;34m]\u001b[0m\u001b[0;34m)\u001b[0m\u001b[0;34m\u001b[0m\u001b[0m\n\u001b[0m",
      "\u001b[0;32m/Users/klay6683/Dropbox/src/planet4/planet4/clustering.py\u001b[0m in \u001b[0;36mapply_fnotch_cut\u001b[0;34m(self, id_)\u001b[0m\n\u001b[1;32m    351\u001b[0m         \u001b[0mself\u001b[0m\u001b[0;34m.\u001b[0m\u001b[0mresman\u001b[0m \u001b[0;34m=\u001b[0m \u001b[0mplotting\u001b[0m\u001b[0;34m.\u001b[0m\u001b[0mResultManager\u001b[0m\u001b[0;34m(\u001b[0m\u001b[0mid_\u001b[0m\u001b[0;34m,\u001b[0m \u001b[0mself\u001b[0m\u001b[0;34m.\u001b[0m\u001b[0moutput_dir\u001b[0m\u001b[0;34m)\u001b[0m\u001b[0;34m\u001b[0m\u001b[0m\n\u001b[1;32m    352\u001b[0m \u001b[0;34m\u001b[0m\u001b[0m\n\u001b[0;32m--> 353\u001b[0;31m         \u001b[0mself\u001b[0m\u001b[0;34m.\u001b[0m\u001b[0mget_newfans_newblotches\u001b[0m\u001b[0;34m(\u001b[0m\u001b[0;34m)\u001b[0m\u001b[0;34m\u001b[0m\u001b[0m\n\u001b[0m\u001b[1;32m    354\u001b[0m \u001b[0;34m\u001b[0m\u001b[0m\n\u001b[1;32m    355\u001b[0m         \u001b[0;32mif\u001b[0m \u001b[0mlen\u001b[0m\u001b[0;34m(\u001b[0m\u001b[0mself\u001b[0m\u001b[0;34m.\u001b[0m\u001b[0mnewfans\u001b[0m\u001b[0;34m)\u001b[0m \u001b[0;34m>\u001b[0m \u001b[0;36m0\u001b[0m\u001b[0;34m:\u001b[0m\u001b[0;34m\u001b[0m\u001b[0m\n",
      "\u001b[0;32m/Users/klay6683/Dropbox/src/planet4/planet4/clustering.py\u001b[0m in \u001b[0;36mget_newfans_newblotches\u001b[0;34m(self)\u001b[0m\n\u001b[1;32m    327\u001b[0m     \u001b[0;32mdef\u001b[0m \u001b[0mget_newfans_newblotches\u001b[0m\u001b[0;34m(\u001b[0m\u001b[0mself\u001b[0m\u001b[0;34m)\u001b[0m\u001b[0;34m:\u001b[0m\u001b[0;34m\u001b[0m\u001b[0m\n\u001b[1;32m    328\u001b[0m         \u001b[0mdf\u001b[0m \u001b[0;34m=\u001b[0m \u001b[0mself\u001b[0m\u001b[0;34m.\u001b[0m\u001b[0mresman\u001b[0m\u001b[0;34m.\u001b[0m\u001b[0mfnotchdf\u001b[0m\u001b[0;34m\u001b[0m\u001b[0m\n\u001b[0;32m--> 329\u001b[0;31m         \u001b[0mfinal_clusters\u001b[0m \u001b[0;34m=\u001b[0m \u001b[0mdf\u001b[0m\u001b[0;34m.\u001b[0m\u001b[0mapply\u001b[0m\u001b[0;34m(\u001b[0m\u001b[0mmarkings\u001b[0m\u001b[0;34m.\u001b[0m\u001b[0mFnotch\u001b[0m\u001b[0;34m.\u001b[0m\u001b[0mfrom_dataframe\u001b[0m\u001b[0;34m,\u001b[0m \u001b[0maxis\u001b[0m\u001b[0;34m=\u001b[0m\u001b[0;36m1\u001b[0m\u001b[0;34m)\u001b[0m\u001b[0;34m.\u001b[0m\u001b[0;31m\\\u001b[0m\u001b[0;34m\u001b[0m\u001b[0m\n\u001b[0m\u001b[1;32m    330\u001b[0m             \u001b[0mapply\u001b[0m\u001b[0;34m(\u001b[0m\u001b[0;32mlambda\u001b[0m \u001b[0mx\u001b[0m\u001b[0;34m:\u001b[0m \u001b[0mx\u001b[0m\u001b[0;34m.\u001b[0m\u001b[0mget_marking\u001b[0m\u001b[0;34m(\u001b[0m\u001b[0mself\u001b[0m\u001b[0;34m.\u001b[0m\u001b[0mcut\u001b[0m\u001b[0;34m)\u001b[0m\u001b[0;34m)\u001b[0m\u001b[0;34m\u001b[0m\u001b[0m\n\u001b[1;32m    331\u001b[0m \u001b[0;34m\u001b[0m\u001b[0m\n",
      "\u001b[0;32m/Users/klay6683/miniconda3/envs/py35/lib/python3.5/site-packages/pandas-0.17.0+137.geb66bcc-py3.5-macosx-10.5-x86_64.egg/pandas/core/frame.py\u001b[0m in \u001b[0;36mapply\u001b[0;34m(self, func, axis, broadcast, raw, reduce, args, **kwds)\u001b[0m\n\u001b[1;32m   3947\u001b[0m                     \u001b[0;32mif\u001b[0m \u001b[0mreduce\u001b[0m \u001b[0;32mis\u001b[0m \u001b[0;32mNone\u001b[0m\u001b[0;34m:\u001b[0m\u001b[0;34m\u001b[0m\u001b[0m\n\u001b[1;32m   3948\u001b[0m                         \u001b[0mreduce\u001b[0m \u001b[0;34m=\u001b[0m \u001b[0;32mTrue\u001b[0m\u001b[0;34m\u001b[0m\u001b[0m\n\u001b[0;32m-> 3949\u001b[0;31m                     \u001b[0;32mreturn\u001b[0m \u001b[0mself\u001b[0m\u001b[0;34m.\u001b[0m\u001b[0m_apply_standard\u001b[0m\u001b[0;34m(\u001b[0m\u001b[0mf\u001b[0m\u001b[0;34m,\u001b[0m \u001b[0maxis\u001b[0m\u001b[0;34m,\u001b[0m \u001b[0mreduce\u001b[0m\u001b[0;34m=\u001b[0m\u001b[0mreduce\u001b[0m\u001b[0;34m)\u001b[0m\u001b[0;34m\u001b[0m\u001b[0m\n\u001b[0m\u001b[1;32m   3950\u001b[0m             \u001b[0;32melse\u001b[0m\u001b[0;34m:\u001b[0m\u001b[0;34m\u001b[0m\u001b[0m\n\u001b[1;32m   3951\u001b[0m                 \u001b[0;32mreturn\u001b[0m \u001b[0mself\u001b[0m\u001b[0;34m.\u001b[0m\u001b[0m_apply_broadcast\u001b[0m\u001b[0;34m(\u001b[0m\u001b[0mf\u001b[0m\u001b[0;34m,\u001b[0m \u001b[0maxis\u001b[0m\u001b[0;34m)\u001b[0m\u001b[0;34m\u001b[0m\u001b[0m\n",
      "\u001b[0;32m/Users/klay6683/miniconda3/envs/py35/lib/python3.5/site-packages/pandas-0.17.0+137.geb66bcc-py3.5-macosx-10.5-x86_64.egg/pandas/core/frame.py\u001b[0m in \u001b[0;36m_apply_standard\u001b[0;34m(self, func, axis, ignore_failures, reduce)\u001b[0m\n\u001b[1;32m   4039\u001b[0m             \u001b[0;32mtry\u001b[0m\u001b[0;34m:\u001b[0m\u001b[0;34m\u001b[0m\u001b[0m\n\u001b[1;32m   4040\u001b[0m                 \u001b[0;32mfor\u001b[0m \u001b[0mi\u001b[0m\u001b[0;34m,\u001b[0m \u001b[0mv\u001b[0m \u001b[0;32min\u001b[0m \u001b[0menumerate\u001b[0m\u001b[0;34m(\u001b[0m\u001b[0mseries_gen\u001b[0m\u001b[0;34m)\u001b[0m\u001b[0;34m:\u001b[0m\u001b[0;34m\u001b[0m\u001b[0m\n\u001b[0;32m-> 4041\u001b[0;31m                     \u001b[0mresults\u001b[0m\u001b[0;34m[\u001b[0m\u001b[0mi\u001b[0m\u001b[0;34m]\u001b[0m \u001b[0;34m=\u001b[0m \u001b[0mfunc\u001b[0m\u001b[0;34m(\u001b[0m\u001b[0mv\u001b[0m\u001b[0;34m)\u001b[0m\u001b[0;34m\u001b[0m\u001b[0m\n\u001b[0m\u001b[1;32m   4042\u001b[0m                     \u001b[0mkeys\u001b[0m\u001b[0;34m.\u001b[0m\u001b[0mappend\u001b[0m\u001b[0;34m(\u001b[0m\u001b[0mv\u001b[0m\u001b[0;34m.\u001b[0m\u001b[0mname\u001b[0m\u001b[0;34m)\u001b[0m\u001b[0;34m\u001b[0m\u001b[0m\n\u001b[1;32m   4043\u001b[0m             \u001b[0;32mexcept\u001b[0m \u001b[0mException\u001b[0m \u001b[0;32mas\u001b[0m \u001b[0me\u001b[0m\u001b[0;34m:\u001b[0m\u001b[0;34m\u001b[0m\u001b[0m\n",
      "\u001b[0;32m/Users/klay6683/Dropbox/src/planet4/planet4/markings.py\u001b[0m in \u001b[0;36mfrom_dataframe\u001b[0;34m(cls, series)\u001b[0m\n\u001b[1;32m    481\u001b[0m         \u001b[0mfan\u001b[0m \u001b[0;34m=\u001b[0m \u001b[0mFan\u001b[0m\u001b[0;34m(\u001b[0m\u001b[0mseries\u001b[0m\u001b[0;34m.\u001b[0m\u001b[0mfilter\u001b[0m\u001b[0;34m(\u001b[0m\u001b[0mregex\u001b[0m\u001b[0;34m=\u001b[0m\u001b[0;34m'fan_'\u001b[0m\u001b[0;34m)\u001b[0m\u001b[0;34m.\u001b[0m\u001b[0mrename\u001b[0m\u001b[0;34m(\u001b[0m\u001b[0;32mlambda\u001b[0m \u001b[0mx\u001b[0m\u001b[0;34m:\u001b[0m \u001b[0mx\u001b[0m\u001b[0;34m[\u001b[0m\u001b[0;36m4\u001b[0m\u001b[0;34m:\u001b[0m\u001b[0;34m]\u001b[0m\u001b[0;34m)\u001b[0m\u001b[0;34m)\u001b[0m\u001b[0;34m\u001b[0m\u001b[0m\n\u001b[1;32m    482\u001b[0m         \u001b[0mblotch\u001b[0m \u001b[0;34m=\u001b[0m \u001b[0mBlotch\u001b[0m\u001b[0;34m(\u001b[0m\u001b[0mseries\u001b[0m\u001b[0;34m.\u001b[0m\u001b[0mfilter\u001b[0m\u001b[0;34m(\u001b[0m\u001b[0mregex\u001b[0m\u001b[0;34m=\u001b[0m\u001b[0;34m'blotch_'\u001b[0m\u001b[0;34m)\u001b[0m\u001b[0;34m.\u001b[0m\u001b[0mrename\u001b[0m\u001b[0;34m(\u001b[0m\u001b[0;32mlambda\u001b[0m \u001b[0mx\u001b[0m\u001b[0;34m:\u001b[0m \u001b[0mx\u001b[0m\u001b[0;34m[\u001b[0m\u001b[0;36m7\u001b[0m\u001b[0;34m:\u001b[0m\u001b[0;34m]\u001b[0m\u001b[0;34m)\u001b[0m\u001b[0;34m)\u001b[0m\u001b[0;34m\u001b[0m\u001b[0m\n\u001b[0;32m--> 483\u001b[0;31m         \u001b[0;32mreturn\u001b[0m \u001b[0mcls\u001b[0m\u001b[0;34m(\u001b[0m\u001b[0mseries\u001b[0m\u001b[0;34m.\u001b[0m\u001b[0mfnotch_value\u001b[0m\u001b[0;34m,\u001b[0m \u001b[0mfan\u001b[0m\u001b[0;34m,\u001b[0m \u001b[0mblotch\u001b[0m\u001b[0;34m)\u001b[0m\u001b[0;34m\u001b[0m\u001b[0m\n\u001b[0m\u001b[1;32m    484\u001b[0m \u001b[0;34m\u001b[0m\u001b[0m\n\u001b[1;32m    485\u001b[0m     \u001b[0;32mdef\u001b[0m \u001b[0m__init__\u001b[0m\u001b[0;34m(\u001b[0m\u001b[0mself\u001b[0m\u001b[0;34m,\u001b[0m \u001b[0mvalue\u001b[0m\u001b[0;34m,\u001b[0m \u001b[0mfan\u001b[0m\u001b[0;34m,\u001b[0m \u001b[0mblotch\u001b[0m\u001b[0;34m)\u001b[0m\u001b[0;34m:\u001b[0m\u001b[0;34m\u001b[0m\u001b[0m\n",
      "\u001b[0;32m/Users/klay6683/Dropbox/src/planet4/planet4/markings.py\u001b[0m in \u001b[0;36m__init__\u001b[0;34m(self, value, fan, blotch)\u001b[0m\n\u001b[1;32m    488\u001b[0m         \u001b[0mself\u001b[0m\u001b[0;34m.\u001b[0m\u001b[0mblotchdata\u001b[0m \u001b[0;34m=\u001b[0m \u001b[0mblotch\u001b[0m\u001b[0;34m.\u001b[0m\u001b[0mdata\u001b[0m\u001b[0;34m\u001b[0m\u001b[0m\n\u001b[1;32m    489\u001b[0m \u001b[0;34m\u001b[0m\u001b[0m\n\u001b[0;32m--> 490\u001b[0;31m         \u001b[0mfanstore\u001b[0m \u001b[0;34m=\u001b[0m \u001b[0mfan\u001b[0m\u001b[0;34m.\u001b[0m\u001b[0mstore\u001b[0m\u001b[0;34m(\u001b[0m\u001b[0;34m)\u001b[0m\u001b[0;34m.\u001b[0m\u001b[0mcopy\u001b[0m\u001b[0;34m(\u001b[0m\u001b[0;34m)\u001b[0m  \u001b[0;31m# copy(),otherwise renaming original\u001b[0m\u001b[0;34m\u001b[0m\u001b[0m\n\u001b[0m\u001b[1;32m    491\u001b[0m         \u001b[0mfanstore\u001b[0m\u001b[0;34m.\u001b[0m\u001b[0mrename_axis\u001b[0m\u001b[0;34m(\u001b[0m\u001b[0;32mlambda\u001b[0m \u001b[0mx\u001b[0m\u001b[0;34m:\u001b[0m \u001b[0;34m'fan_'\u001b[0m\u001b[0;34m+\u001b[0m\u001b[0mx\u001b[0m\u001b[0;34m,\u001b[0m \u001b[0minplace\u001b[0m\u001b[0;34m=\u001b[0m\u001b[0;32mTrue\u001b[0m\u001b[0;34m)\u001b[0m\u001b[0;34m\u001b[0m\u001b[0m\n\u001b[1;32m    492\u001b[0m         \u001b[0mblotchstore\u001b[0m \u001b[0;34m=\u001b[0m \u001b[0mblotch\u001b[0m\u001b[0;34m.\u001b[0m\u001b[0mstore\u001b[0m\u001b[0;34m(\u001b[0m\u001b[0;34m)\u001b[0m\u001b[0;34m.\u001b[0m\u001b[0mcopy\u001b[0m\u001b[0;34m(\u001b[0m\u001b[0;34m)\u001b[0m  \u001b[0;31m# copy(),otherwise renaming original\u001b[0m\u001b[0;34m\u001b[0m\u001b[0m\n",
      "\u001b[0;32m/Users/klay6683/Dropbox/src/planet4/planet4/markings.py\u001b[0m in \u001b[0;36mstore\u001b[0;34m(self, fpath)\u001b[0m\n\u001b[1;32m    456\u001b[0m             \u001b[0mout\u001b[0m\u001b[0;34m[\u001b[0m\u001b[0;34m'arm{}_y'\u001b[0m\u001b[0;34m.\u001b[0m\u001b[0mformat\u001b[0m\u001b[0;34m(\u001b[0m\u001b[0mi\u001b[0m\u001b[0;34m+\u001b[0m\u001b[0;36m1\u001b[0m\u001b[0;34m)\u001b[0m\u001b[0;34m]\u001b[0m \u001b[0;34m=\u001b[0m \u001b[0;34m(\u001b[0m\u001b[0mself\u001b[0m\u001b[0;34m.\u001b[0m\u001b[0mbase\u001b[0m \u001b[0;34m+\u001b[0m \u001b[0marm\u001b[0m\u001b[0;34m)\u001b[0m\u001b[0;34m[\u001b[0m\u001b[0;36m1\u001b[0m\u001b[0;34m]\u001b[0m\u001b[0;34m\u001b[0m\u001b[0m\n\u001b[1;32m    457\u001b[0m         \u001b[0;32mif\u001b[0m \u001b[0;34m'image_id'\u001b[0m \u001b[0;32mnot\u001b[0m \u001b[0;32min\u001b[0m \u001b[0mout\u001b[0m\u001b[0;34m.\u001b[0m\u001b[0mindex\u001b[0m\u001b[0;34m:\u001b[0m\u001b[0;34m\u001b[0m\u001b[0m\n\u001b[0;32m--> 458\u001b[0;31m             \u001b[0mout\u001b[0m\u001b[0;34m[\u001b[0m\u001b[0;34m'image_id'\u001b[0m\u001b[0;34m]\u001b[0m \u001b[0;34m=\u001b[0m \u001b[0mself\u001b[0m\u001b[0;34m.\u001b[0m\u001b[0mimage_id\u001b[0m\u001b[0;34m\u001b[0m\u001b[0m\n\u001b[0m\u001b[1;32m    459\u001b[0m         \u001b[0;32mif\u001b[0m \u001b[0mfpath\u001b[0m \u001b[0;32mis\u001b[0m \u001b[0;32mnot\u001b[0m \u001b[0;32mNone\u001b[0m\u001b[0;34m:\u001b[0m\u001b[0;34m\u001b[0m\u001b[0m\n\u001b[1;32m    460\u001b[0m             \u001b[0mout\u001b[0m\u001b[0;34m.\u001b[0m\u001b[0mto_hdf\u001b[0m\u001b[0;34m(\u001b[0m\u001b[0mstr\u001b[0m\u001b[0;34m(\u001b[0m\u001b[0mfpath\u001b[0m\u001b[0;34m.\u001b[0m\u001b[0mwith_suffix\u001b[0m\u001b[0;34m(\u001b[0m\u001b[0;34m'.hdf'\u001b[0m\u001b[0;34m)\u001b[0m\u001b[0;34m)\u001b[0m\u001b[0;34m,\u001b[0m \u001b[0;34m'df'\u001b[0m\u001b[0;34m)\u001b[0m\u001b[0;34m\u001b[0m\u001b[0m\n",
      "\u001b[0;31mAttributeError\u001b[0m: (\"'Fan' object has no attribute 'image_id'\", 'occurred at index 0')"
     ]
    }
   ],
   "source": [
    "cm.apply_fnotch_cut(image_ids[0])"
   ]
  },
  {
   "cell_type": "code",
   "execution_count": 23,
   "metadata": {
    "collapsed": false,
    "scrolled": false
   },
   "outputs": [],
   "source": [
    "results = lbview.map_async(cm.apply_fnotch_cut, image_ids)"
   ]
  },
  {
   "cell_type": "code",
   "execution_count": 24,
   "metadata": {
    "collapsed": false
   },
   "outputs": [],
   "source": [
    "nb_progress_display(results, image_ids)"
   ]
  },
  {
   "cell_type": "code",
   "execution_count": 32,
   "metadata": {
    "collapsed": false
   },
   "outputs": [
    {
     "data": {
      "text/plain": [
       "0.5"
      ]
     },
     "execution_count": 32,
     "metadata": {},
     "output_type": "execute_result"
    }
   ],
   "source": [
    "cm."
   ]
  },
  {
   "cell_type": "code",
   "execution_count": 25,
   "metadata": {
    "collapsed": false,
    "scrolled": false
   },
   "outputs": [
    {
     "ename": "CompositeError",
     "evalue": "one or more exceptions from call to method: apply_fnotch_cut\n[0:apply]: AttributeError: (\"'Fan' object has no attribute 'image_id'\", 'occurred at index 0')\n[1:apply]: PandasError: DataFrame constructor not properly called!\n[5:apply]: PandasError: DataFrame constructor not properly called!\n[4:apply]: PandasError: DataFrame constructor not properly called!\n.... 1683 more exceptions ...",
     "output_type": "error",
     "traceback": [
      "[0:apply]: ",
      "\u001b[0;31m---------------------------------------------------------------------------\u001b[0m\u001b[0;31mAttributeError\u001b[0m                            Traceback (most recent call last)\u001b[0;32m<string>\u001b[0m in \u001b[0;36m<module>\u001b[0;34m()\u001b[0m",
      "\u001b[0;32m/Users/klay6683/miniconda3/envs/py35/lib/python3.5/site-packages/ipyparallel/client/remotefunction.py\u001b[0m in \u001b[0;36m<lambda>\u001b[0;34m(f, *sequences)\u001b[0m",
      "\u001b[1;32m    229\u001b[0m             \u001b[0;32mif\u001b[0m \u001b[0mself\u001b[0m\u001b[0;34m.\u001b[0m\u001b[0m_mapping\u001b[0m\u001b[0;34m:\u001b[0m\u001b[0;34m\u001b[0m\u001b[0m",
      "\u001b[1;32m    230\u001b[0m                 \u001b[0;32mif\u001b[0m \u001b[0msys\u001b[0m\u001b[0;34m.\u001b[0m\u001b[0mversion_info\u001b[0m\u001b[0;34m[\u001b[0m\u001b[0;36m0\u001b[0m\u001b[0;34m]\u001b[0m \u001b[0;34m>=\u001b[0m \u001b[0;36m3\u001b[0m\u001b[0;34m:\u001b[0m\u001b[0;34m\u001b[0m\u001b[0m",
      "\u001b[0;32m--> 231\u001b[0;31m                     \u001b[0mf\u001b[0m \u001b[0;34m=\u001b[0m \u001b[0;32mlambda\u001b[0m \u001b[0mf\u001b[0m\u001b[0;34m,\u001b[0m \u001b[0;34m*\u001b[0m\u001b[0msequences\u001b[0m\u001b[0;34m:\u001b[0m \u001b[0mlist\u001b[0m\u001b[0;34m(\u001b[0m\u001b[0mmap\u001b[0m\u001b[0;34m(\u001b[0m\u001b[0mf\u001b[0m\u001b[0;34m,\u001b[0m \u001b[0;34m*\u001b[0m\u001b[0msequences\u001b[0m\u001b[0;34m)\u001b[0m\u001b[0;34m)\u001b[0m\u001b[0;34m\u001b[0m\u001b[0m",
      "\u001b[0m\u001b[1;32m    232\u001b[0m                 \u001b[0;32melse\u001b[0m\u001b[0;34m:\u001b[0m\u001b[0;34m\u001b[0m\u001b[0m",
      "\u001b[1;32m    233\u001b[0m                     \u001b[0mf\u001b[0m \u001b[0;34m=\u001b[0m \u001b[0mmap\u001b[0m\u001b[0;34m\u001b[0m\u001b[0m",
      "\u001b[0;32m/Users/klay6683/Dropbox/src/planet4/planet4/clustering.py\u001b[0m in \u001b[0;36mapply_fnotch_cut\u001b[0;34m(self, fname)\u001b[0m",
      "\u001b[1;32m    345\u001b[0m         \u001b[0mself\u001b[0m\u001b[0;34m.\u001b[0m\u001b[0mresman\u001b[0m \u001b[0;34m=\u001b[0m \u001b[0mplotting\u001b[0m\u001b[0;34m.\u001b[0m\u001b[0mResultManager\u001b[0m\u001b[0;34m(\u001b[0m\u001b[0mfname\u001b[0m\u001b[0;34m,\u001b[0m \u001b[0mself\u001b[0m\u001b[0;34m.\u001b[0m\u001b[0moutput_dir\u001b[0m\u001b[0;34m)\u001b[0m\u001b[0;34m\u001b[0m\u001b[0m",
      "\u001b[1;32m    346\u001b[0m \u001b[0;34m\u001b[0m\u001b[0m",
      "\u001b[0;32m--> 347\u001b[0;31m         \u001b[0mself\u001b[0m\u001b[0;34m.\u001b[0m\u001b[0mget_newfans_newblotches\u001b[0m\u001b[0;34m(\u001b[0m\u001b[0mfname\u001b[0m\u001b[0;34m)\u001b[0m\u001b[0;34m\u001b[0m\u001b[0m",
      "\u001b[0m\u001b[1;32m    348\u001b[0m \u001b[0;34m\u001b[0m\u001b[0m",
      "\u001b[1;32m    349\u001b[0m         \u001b[0;32mif\u001b[0m \u001b[0mlen\u001b[0m\u001b[0;34m(\u001b[0m\u001b[0mself\u001b[0m\u001b[0;34m.\u001b[0m\u001b[0mnewfans\u001b[0m\u001b[0;34m)\u001b[0m \u001b[0;34m>\u001b[0m \u001b[0;36m0\u001b[0m\u001b[0;34m:\u001b[0m\u001b[0;34m\u001b[0m\u001b[0m",
      "\u001b[0;32m/Users/klay6683/Dropbox/src/planet4/planet4/clustering.py\u001b[0m in \u001b[0;36mget_newfans_newblotches\u001b[0;34m(self, fname)\u001b[0m",
      "\u001b[1;32m    321\u001b[0m     \u001b[0;32mdef\u001b[0m \u001b[0mget_newfans_newblotches\u001b[0m\u001b[0;34m(\u001b[0m\u001b[0mself\u001b[0m\u001b[0;34m,\u001b[0m \u001b[0mfname\u001b[0m\u001b[0;34m)\u001b[0m\u001b[0;34m:\u001b[0m\u001b[0;34m\u001b[0m\u001b[0m",
      "\u001b[1;32m    322\u001b[0m         \u001b[0mdf\u001b[0m \u001b[0;34m=\u001b[0m \u001b[0mself\u001b[0m\u001b[0;34m.\u001b[0m\u001b[0mresman\u001b[0m\u001b[0;34m.\u001b[0m\u001b[0mfnotchdf\u001b[0m\u001b[0;34m\u001b[0m\u001b[0m",
      "\u001b[0;32m--> 323\u001b[0;31m         \u001b[0mfinal_clusters\u001b[0m \u001b[0;34m=\u001b[0m \u001b[0mdf\u001b[0m\u001b[0;34m.\u001b[0m\u001b[0mapply\u001b[0m\u001b[0;34m(\u001b[0m\u001b[0mmarkings\u001b[0m\u001b[0;34m.\u001b[0m\u001b[0mFnotch\u001b[0m\u001b[0;34m.\u001b[0m\u001b[0mfrom_dataframe\u001b[0m\u001b[0;34m,\u001b[0m \u001b[0maxis\u001b[0m\u001b[0;34m=\u001b[0m\u001b[0;36m1\u001b[0m\u001b[0;34m)\u001b[0m\u001b[0;34m.\u001b[0m\u001b[0;31m\\\u001b[0m\u001b[0;34m\u001b[0m\u001b[0m",
      "\u001b[0m\u001b[1;32m    324\u001b[0m             \u001b[0mapply\u001b[0m\u001b[0;34m(\u001b[0m\u001b[0;32mlambda\u001b[0m \u001b[0mx\u001b[0m\u001b[0;34m:\u001b[0m \u001b[0mx\u001b[0m\u001b[0;34m.\u001b[0m\u001b[0mget_marking\u001b[0m\u001b[0;34m(\u001b[0m\u001b[0mself\u001b[0m\u001b[0;34m.\u001b[0m\u001b[0mcut\u001b[0m\u001b[0;34m)\u001b[0m\u001b[0;34m)\u001b[0m\u001b[0;34m\u001b[0m\u001b[0m",
      "\u001b[1;32m    325\u001b[0m \u001b[0;34m\u001b[0m\u001b[0m",
      "\u001b[0;32m/Users/klay6683/miniconda3/envs/py35/lib/python3.5/site-packages/pandas-0.17.0+137.geb66bcc-py3.5-macosx-10.5-x86_64.egg/pandas/core/frame.py\u001b[0m in \u001b[0;36mapply\u001b[0;34m(self, func, axis, broadcast, raw, reduce, args, **kwds)\u001b[0m",
      "\u001b[1;32m   3947\u001b[0m                     \u001b[0;32mif\u001b[0m \u001b[0mreduce\u001b[0m \u001b[0;32mis\u001b[0m \u001b[0;32mNone\u001b[0m\u001b[0;34m:\u001b[0m\u001b[0;34m\u001b[0m\u001b[0m",
      "\u001b[1;32m   3948\u001b[0m                         \u001b[0mreduce\u001b[0m \u001b[0;34m=\u001b[0m \u001b[0;32mTrue\u001b[0m\u001b[0;34m\u001b[0m\u001b[0m",
      "\u001b[0;32m-> 3949\u001b[0;31m                     \u001b[0;32mreturn\u001b[0m \u001b[0mself\u001b[0m\u001b[0;34m.\u001b[0m\u001b[0m_apply_standard\u001b[0m\u001b[0;34m(\u001b[0m\u001b[0mf\u001b[0m\u001b[0;34m,\u001b[0m \u001b[0maxis\u001b[0m\u001b[0;34m,\u001b[0m \u001b[0mreduce\u001b[0m\u001b[0;34m=\u001b[0m\u001b[0mreduce\u001b[0m\u001b[0;34m)\u001b[0m\u001b[0;34m\u001b[0m\u001b[0m",
      "\u001b[0m\u001b[1;32m   3950\u001b[0m             \u001b[0;32melse\u001b[0m\u001b[0;34m:\u001b[0m\u001b[0;34m\u001b[0m\u001b[0m",
      "\u001b[1;32m   3951\u001b[0m                 \u001b[0;32mreturn\u001b[0m \u001b[0mself\u001b[0m\u001b[0;34m.\u001b[0m\u001b[0m_apply_broadcast\u001b[0m\u001b[0;34m(\u001b[0m\u001b[0mf\u001b[0m\u001b[0;34m,\u001b[0m \u001b[0maxis\u001b[0m\u001b[0;34m)\u001b[0m\u001b[0;34m\u001b[0m\u001b[0m",
      "\u001b[0;32m/Users/klay6683/miniconda3/envs/py35/lib/python3.5/site-packages/pandas-0.17.0+137.geb66bcc-py3.5-macosx-10.5-x86_64.egg/pandas/core/frame.py\u001b[0m in \u001b[0;36m_apply_standard\u001b[0;34m(self, func, axis, ignore_failures, reduce)\u001b[0m",
      "\u001b[1;32m   4039\u001b[0m             \u001b[0;32mtry\u001b[0m\u001b[0;34m:\u001b[0m\u001b[0;34m\u001b[0m\u001b[0m",
      "\u001b[1;32m   4040\u001b[0m                 \u001b[0;32mfor\u001b[0m \u001b[0mi\u001b[0m\u001b[0;34m,\u001b[0m \u001b[0mv\u001b[0m \u001b[0;32min\u001b[0m \u001b[0menumerate\u001b[0m\u001b[0;34m(\u001b[0m\u001b[0mseries_gen\u001b[0m\u001b[0;34m)\u001b[0m\u001b[0;34m:\u001b[0m\u001b[0;34m\u001b[0m\u001b[0m",
      "\u001b[0;32m-> 4041\u001b[0;31m                     \u001b[0mresults\u001b[0m\u001b[0;34m[\u001b[0m\u001b[0mi\u001b[0m\u001b[0;34m]\u001b[0m \u001b[0;34m=\u001b[0m \u001b[0mfunc\u001b[0m\u001b[0;34m(\u001b[0m\u001b[0mv\u001b[0m\u001b[0;34m)\u001b[0m\u001b[0;34m\u001b[0m\u001b[0m",
      "\u001b[0m\u001b[1;32m   4042\u001b[0m                     \u001b[0mkeys\u001b[0m\u001b[0;34m.\u001b[0m\u001b[0mappend\u001b[0m\u001b[0;34m(\u001b[0m\u001b[0mv\u001b[0m\u001b[0;34m.\u001b[0m\u001b[0mname\u001b[0m\u001b[0;34m)\u001b[0m\u001b[0;34m\u001b[0m\u001b[0m",
      "\u001b[1;32m   4043\u001b[0m             \u001b[0;32mexcept\u001b[0m \u001b[0mException\u001b[0m \u001b[0;32mas\u001b[0m \u001b[0me\u001b[0m\u001b[0;34m:\u001b[0m\u001b[0;34m\u001b[0m\u001b[0m",
      "\u001b[0;32m/Users/klay6683/Dropbox/src/planet4/planet4/markings.py\u001b[0m in \u001b[0;36mfrom_dataframe\u001b[0;34m(cls, series)\u001b[0m",
      "\u001b[1;32m    481\u001b[0m         \u001b[0mfan\u001b[0m \u001b[0;34m=\u001b[0m \u001b[0mFan\u001b[0m\u001b[0;34m(\u001b[0m\u001b[0mseries\u001b[0m\u001b[0;34m.\u001b[0m\u001b[0mfilter\u001b[0m\u001b[0;34m(\u001b[0m\u001b[0mregex\u001b[0m\u001b[0;34m=\u001b[0m\u001b[0;34m'fan_'\u001b[0m\u001b[0;34m)\u001b[0m\u001b[0;34m.\u001b[0m\u001b[0mrename\u001b[0m\u001b[0;34m(\u001b[0m\u001b[0;32mlambda\u001b[0m \u001b[0mx\u001b[0m\u001b[0;34m:\u001b[0m \u001b[0mx\u001b[0m\u001b[0;34m[\u001b[0m\u001b[0;36m4\u001b[0m\u001b[0;34m:\u001b[0m\u001b[0;34m]\u001b[0m\u001b[0;34m)\u001b[0m\u001b[0;34m)\u001b[0m\u001b[0;34m\u001b[0m\u001b[0m",
      "\u001b[1;32m    482\u001b[0m         \u001b[0mblotch\u001b[0m \u001b[0;34m=\u001b[0m \u001b[0mBlotch\u001b[0m\u001b[0;34m(\u001b[0m\u001b[0mseries\u001b[0m\u001b[0;34m.\u001b[0m\u001b[0mfilter\u001b[0m\u001b[0;34m(\u001b[0m\u001b[0mregex\u001b[0m\u001b[0;34m=\u001b[0m\u001b[0;34m'blotch_'\u001b[0m\u001b[0;34m)\u001b[0m\u001b[0;34m.\u001b[0m\u001b[0mrename\u001b[0m\u001b[0;34m(\u001b[0m\u001b[0;32mlambda\u001b[0m \u001b[0mx\u001b[0m\u001b[0;34m:\u001b[0m \u001b[0mx\u001b[0m\u001b[0;34m[\u001b[0m\u001b[0;36m7\u001b[0m\u001b[0;34m:\u001b[0m\u001b[0;34m]\u001b[0m\u001b[0;34m)\u001b[0m\u001b[0;34m)\u001b[0m\u001b[0;34m\u001b[0m\u001b[0m",
      "\u001b[0;32m--> 483\u001b[0;31m         \u001b[0;32mreturn\u001b[0m \u001b[0mcls\u001b[0m\u001b[0;34m(\u001b[0m\u001b[0mseries\u001b[0m\u001b[0;34m.\u001b[0m\u001b[0mfnotch_value\u001b[0m\u001b[0;34m,\u001b[0m \u001b[0mfan\u001b[0m\u001b[0;34m,\u001b[0m \u001b[0mblotch\u001b[0m\u001b[0;34m)\u001b[0m\u001b[0;34m\u001b[0m\u001b[0m",
      "\u001b[0m\u001b[1;32m    484\u001b[0m \u001b[0;34m\u001b[0m\u001b[0m",
      "\u001b[1;32m    485\u001b[0m     \u001b[0;32mdef\u001b[0m \u001b[0m__init__\u001b[0m\u001b[0;34m(\u001b[0m\u001b[0mself\u001b[0m\u001b[0;34m,\u001b[0m \u001b[0mvalue\u001b[0m\u001b[0;34m,\u001b[0m \u001b[0mfan\u001b[0m\u001b[0;34m,\u001b[0m \u001b[0mblotch\u001b[0m\u001b[0;34m)\u001b[0m\u001b[0;34m:\u001b[0m\u001b[0;34m\u001b[0m\u001b[0m",
      "\u001b[0;32m/Users/klay6683/Dropbox/src/planet4/planet4/markings.py\u001b[0m in \u001b[0;36m__init__\u001b[0;34m(self, value, fan, blotch)\u001b[0m",
      "\u001b[1;32m    488\u001b[0m         \u001b[0mself\u001b[0m\u001b[0;34m.\u001b[0m\u001b[0mblotchdata\u001b[0m \u001b[0;34m=\u001b[0m \u001b[0mblotch\u001b[0m\u001b[0;34m.\u001b[0m\u001b[0mdata\u001b[0m\u001b[0;34m\u001b[0m\u001b[0m",
      "\u001b[1;32m    489\u001b[0m \u001b[0;34m\u001b[0m\u001b[0m",
      "\u001b[0;32m--> 490\u001b[0;31m         \u001b[0mfanstore\u001b[0m \u001b[0;34m=\u001b[0m \u001b[0mfan\u001b[0m\u001b[0;34m.\u001b[0m\u001b[0mstore\u001b[0m\u001b[0;34m(\u001b[0m\u001b[0;34m)\u001b[0m\u001b[0;34m.\u001b[0m\u001b[0mcopy\u001b[0m\u001b[0;34m(\u001b[0m\u001b[0;34m)\u001b[0m  \u001b[0;31m# copy(),otherwise renaming original\u001b[0m\u001b[0;34m\u001b[0m\u001b[0m",
      "\u001b[0m\u001b[1;32m    491\u001b[0m         \u001b[0mfanstore\u001b[0m\u001b[0;34m.\u001b[0m\u001b[0mrename_axis\u001b[0m\u001b[0;34m(\u001b[0m\u001b[0;32mlambda\u001b[0m \u001b[0mx\u001b[0m\u001b[0;34m:\u001b[0m \u001b[0;34m'fan_'\u001b[0m\u001b[0;34m+\u001b[0m\u001b[0mx\u001b[0m\u001b[0;34m,\u001b[0m \u001b[0minplace\u001b[0m\u001b[0;34m=\u001b[0m\u001b[0;32mTrue\u001b[0m\u001b[0;34m)\u001b[0m\u001b[0;34m\u001b[0m\u001b[0m",
      "\u001b[1;32m    492\u001b[0m         \u001b[0mblotchstore\u001b[0m \u001b[0;34m=\u001b[0m \u001b[0mblotch\u001b[0m\u001b[0;34m.\u001b[0m\u001b[0mstore\u001b[0m\u001b[0;34m(\u001b[0m\u001b[0;34m)\u001b[0m\u001b[0;34m.\u001b[0m\u001b[0mcopy\u001b[0m\u001b[0;34m(\u001b[0m\u001b[0;34m)\u001b[0m  \u001b[0;31m# copy(),otherwise renaming original\u001b[0m\u001b[0;34m\u001b[0m\u001b[0m",
      "\u001b[0;32m/Users/klay6683/Dropbox/src/planet4/planet4/markings.py\u001b[0m in \u001b[0;36mstore\u001b[0;34m(self, fpath)\u001b[0m",
      "\u001b[1;32m    456\u001b[0m             \u001b[0mout\u001b[0m\u001b[0;34m[\u001b[0m\u001b[0;34m'arm{}_y'\u001b[0m\u001b[0;34m.\u001b[0m\u001b[0mformat\u001b[0m\u001b[0;34m(\u001b[0m\u001b[0mi\u001b[0m\u001b[0;34m+\u001b[0m\u001b[0;36m1\u001b[0m\u001b[0;34m)\u001b[0m\u001b[0;34m]\u001b[0m \u001b[0;34m=\u001b[0m \u001b[0;34m(\u001b[0m\u001b[0mself\u001b[0m\u001b[0;34m.\u001b[0m\u001b[0mbase\u001b[0m \u001b[0;34m+\u001b[0m \u001b[0marm\u001b[0m\u001b[0;34m)\u001b[0m\u001b[0;34m[\u001b[0m\u001b[0;36m1\u001b[0m\u001b[0;34m]\u001b[0m\u001b[0;34m\u001b[0m\u001b[0m",
      "\u001b[1;32m    457\u001b[0m         \u001b[0;32mif\u001b[0m \u001b[0;34m'image_id'\u001b[0m \u001b[0;32mnot\u001b[0m \u001b[0;32min\u001b[0m \u001b[0mout\u001b[0m\u001b[0;34m.\u001b[0m\u001b[0mindex\u001b[0m\u001b[0;34m:\u001b[0m\u001b[0;34m\u001b[0m\u001b[0m",
      "\u001b[0;32m--> 458\u001b[0;31m             \u001b[0mout\u001b[0m\u001b[0;34m[\u001b[0m\u001b[0;34m'image_id'\u001b[0m\u001b[0;34m]\u001b[0m \u001b[0;34m=\u001b[0m \u001b[0mself\u001b[0m\u001b[0;34m.\u001b[0m\u001b[0mimage_id\u001b[0m\u001b[0;34m\u001b[0m\u001b[0m",
      "\u001b[0m\u001b[1;32m    459\u001b[0m         \u001b[0;32mif\u001b[0m \u001b[0mfpath\u001b[0m \u001b[0;32mis\u001b[0m \u001b[0;32mnot\u001b[0m \u001b[0;32mNone\u001b[0m\u001b[0;34m:\u001b[0m\u001b[0;34m\u001b[0m\u001b[0m",
      "\u001b[1;32m    460\u001b[0m             \u001b[0mout\u001b[0m\u001b[0;34m.\u001b[0m\u001b[0mto_hdf\u001b[0m\u001b[0;34m(\u001b[0m\u001b[0mstr\u001b[0m\u001b[0;34m(\u001b[0m\u001b[0mfpath\u001b[0m\u001b[0;34m.\u001b[0m\u001b[0mwith_suffix\u001b[0m\u001b[0;34m(\u001b[0m\u001b[0;34m'.hdf'\u001b[0m\u001b[0;34m)\u001b[0m\u001b[0;34m)\u001b[0m\u001b[0;34m,\u001b[0m \u001b[0;34m'df'\u001b[0m\u001b[0;34m)\u001b[0m\u001b[0;34m\u001b[0m\u001b[0m",
      "\u001b[0;31mAttributeError\u001b[0m: (\"'Fan' object has no attribute 'image_id'\", 'occurred at index 0')",
      "",
      "[1:apply]: ",
      "\u001b[0;31m---------------------------------------------------------------------------\u001b[0m\u001b[0;31mPandasError\u001b[0m                               Traceback (most recent call last)\u001b[0;32m<string>\u001b[0m in \u001b[0;36m<module>\u001b[0;34m()\u001b[0m",
      "\u001b[0;32m/Users/klay6683/miniconda3/envs/py35/lib/python3.5/site-packages/ipyparallel/client/remotefunction.py\u001b[0m in \u001b[0;36m<lambda>\u001b[0;34m(f, *sequences)\u001b[0m",
      "\u001b[1;32m    229\u001b[0m             \u001b[0;32mif\u001b[0m \u001b[0mself\u001b[0m\u001b[0;34m.\u001b[0m\u001b[0m_mapping\u001b[0m\u001b[0;34m:\u001b[0m\u001b[0;34m\u001b[0m\u001b[0m",
      "\u001b[1;32m    230\u001b[0m                 \u001b[0;32mif\u001b[0m \u001b[0msys\u001b[0m\u001b[0;34m.\u001b[0m\u001b[0mversion_info\u001b[0m\u001b[0;34m[\u001b[0m\u001b[0;36m0\u001b[0m\u001b[0;34m]\u001b[0m \u001b[0;34m>=\u001b[0m \u001b[0;36m3\u001b[0m\u001b[0;34m:\u001b[0m\u001b[0;34m\u001b[0m\u001b[0m",
      "\u001b[0;32m--> 231\u001b[0;31m                     \u001b[0mf\u001b[0m \u001b[0;34m=\u001b[0m \u001b[0;32mlambda\u001b[0m \u001b[0mf\u001b[0m\u001b[0;34m,\u001b[0m \u001b[0;34m*\u001b[0m\u001b[0msequences\u001b[0m\u001b[0;34m:\u001b[0m \u001b[0mlist\u001b[0m\u001b[0;34m(\u001b[0m\u001b[0mmap\u001b[0m\u001b[0;34m(\u001b[0m\u001b[0mf\u001b[0m\u001b[0;34m,\u001b[0m \u001b[0;34m*\u001b[0m\u001b[0msequences\u001b[0m\u001b[0;34m)\u001b[0m\u001b[0;34m)\u001b[0m\u001b[0;34m\u001b[0m\u001b[0m",
      "\u001b[0m\u001b[1;32m    232\u001b[0m                 \u001b[0;32melse\u001b[0m\u001b[0;34m:\u001b[0m\u001b[0;34m\u001b[0m\u001b[0m",
      "\u001b[1;32m    233\u001b[0m                     \u001b[0mf\u001b[0m \u001b[0;34m=\u001b[0m \u001b[0mmap\u001b[0m\u001b[0;34m\u001b[0m\u001b[0m",
      "\u001b[0;32m/Users/klay6683/Dropbox/src/planet4/planet4/clustering.py\u001b[0m in \u001b[0;36mapply_fnotch_cut\u001b[0;34m(self, fname)\u001b[0m",
      "\u001b[1;32m    351\u001b[0m             \u001b[0;32mtry\u001b[0m\u001b[0;34m:\u001b[0m\u001b[0;34m\u001b[0m\u001b[0m",
      "\u001b[1;32m    352\u001b[0m                 completefans = pd.DataFrame(",
      "\u001b[0;32m--> 353\u001b[0;31m                     self.resman.fandf).append(newfans, ignore_index=True)",
      "\u001b[0m\u001b[1;32m    354\u001b[0m             \u001b[0;32mexcept\u001b[0m \u001b[0mOSError\u001b[0m\u001b[0;34m:\u001b[0m\u001b[0;34m\u001b[0m\u001b[0m",
      "\u001b[1;32m    355\u001b[0m                 \u001b[0mcompletefans\u001b[0m \u001b[0;34m=\u001b[0m \u001b[0mnewfans\u001b[0m\u001b[0;34m\u001b[0m\u001b[0m",
      "\u001b[0;32m/Users/klay6683/miniconda3/envs/py35/lib/python3.5/site-packages/pandas-0.17.0+137.geb66bcc-py3.5-macosx-10.5-x86_64.egg/pandas/core/frame.py\u001b[0m in \u001b[0;36m__init__\u001b[0;34m(self, data, index, columns, dtype, copy)\u001b[0m",
      "\u001b[1;32m    304\u001b[0m                                          copy=False)",
      "\u001b[1;32m    305\u001b[0m             \u001b[0;32melse\u001b[0m\u001b[0;34m:\u001b[0m\u001b[0;34m\u001b[0m\u001b[0m",
      "\u001b[0;32m--> 306\u001b[0;31m                 \u001b[0;32mraise\u001b[0m \u001b[0mPandasError\u001b[0m\u001b[0;34m(\u001b[0m\u001b[0;34m'DataFrame constructor not properly called!'\u001b[0m\u001b[0;34m)\u001b[0m\u001b[0;34m\u001b[0m\u001b[0m",
      "\u001b[0m\u001b[1;32m    307\u001b[0m \u001b[0;34m\u001b[0m\u001b[0m",
      "\u001b[1;32m    308\u001b[0m         \u001b[0mNDFrame\u001b[0m\u001b[0;34m.\u001b[0m\u001b[0m__init__\u001b[0m\u001b[0;34m(\u001b[0m\u001b[0mself\u001b[0m\u001b[0;34m,\u001b[0m \u001b[0mmgr\u001b[0m\u001b[0;34m,\u001b[0m \u001b[0mfastpath\u001b[0m\u001b[0;34m=\u001b[0m\u001b[0;32mTrue\u001b[0m\u001b[0;34m)\u001b[0m\u001b[0;34m\u001b[0m\u001b[0m",
      "\u001b[0;31mPandasError\u001b[0m: DataFrame constructor not properly called!",
      "",
      "[5:apply]: ",
      "\u001b[0;31m---------------------------------------------------------------------------\u001b[0m\u001b[0;31mPandasError\u001b[0m                               Traceback (most recent call last)\u001b[0;32m<string>\u001b[0m in \u001b[0;36m<module>\u001b[0;34m()\u001b[0m",
      "\u001b[0;32m/Users/klay6683/miniconda3/envs/py35/lib/python3.5/site-packages/ipyparallel/client/remotefunction.py\u001b[0m in \u001b[0;36m<lambda>\u001b[0;34m(f, *sequences)\u001b[0m",
      "\u001b[1;32m    229\u001b[0m             \u001b[0;32mif\u001b[0m \u001b[0mself\u001b[0m\u001b[0;34m.\u001b[0m\u001b[0m_mapping\u001b[0m\u001b[0;34m:\u001b[0m\u001b[0;34m\u001b[0m\u001b[0m",
      "\u001b[1;32m    230\u001b[0m                 \u001b[0;32mif\u001b[0m \u001b[0msys\u001b[0m\u001b[0;34m.\u001b[0m\u001b[0mversion_info\u001b[0m\u001b[0;34m[\u001b[0m\u001b[0;36m0\u001b[0m\u001b[0;34m]\u001b[0m \u001b[0;34m>=\u001b[0m \u001b[0;36m3\u001b[0m\u001b[0;34m:\u001b[0m\u001b[0;34m\u001b[0m\u001b[0m",
      "\u001b[0;32m--> 231\u001b[0;31m                     \u001b[0mf\u001b[0m \u001b[0;34m=\u001b[0m \u001b[0;32mlambda\u001b[0m \u001b[0mf\u001b[0m\u001b[0;34m,\u001b[0m \u001b[0;34m*\u001b[0m\u001b[0msequences\u001b[0m\u001b[0;34m:\u001b[0m \u001b[0mlist\u001b[0m\u001b[0;34m(\u001b[0m\u001b[0mmap\u001b[0m\u001b[0;34m(\u001b[0m\u001b[0mf\u001b[0m\u001b[0;34m,\u001b[0m \u001b[0;34m*\u001b[0m\u001b[0msequences\u001b[0m\u001b[0;34m)\u001b[0m\u001b[0;34m)\u001b[0m\u001b[0;34m\u001b[0m\u001b[0m",
      "\u001b[0m\u001b[1;32m    232\u001b[0m                 \u001b[0;32melse\u001b[0m\u001b[0;34m:\u001b[0m\u001b[0;34m\u001b[0m\u001b[0m",
      "\u001b[1;32m    233\u001b[0m                     \u001b[0mf\u001b[0m \u001b[0;34m=\u001b[0m \u001b[0mmap\u001b[0m\u001b[0;34m\u001b[0m\u001b[0m",
      "\u001b[0;32m/Users/klay6683/Dropbox/src/planet4/planet4/clustering.py\u001b[0m in \u001b[0;36mapply_fnotch_cut\u001b[0;34m(self, fname)\u001b[0m",
      "\u001b[1;32m    360\u001b[0m             \u001b[0;32mtry\u001b[0m\u001b[0;34m:\u001b[0m\u001b[0;34m\u001b[0m\u001b[0m",
      "\u001b[1;32m    361\u001b[0m                 completeblotches = pd.DataFrame(",
      "\u001b[0;32m--> 362\u001b[0;31m                     self.resman.blotchdf).append(newblotches, ignore_index=True)",
      "\u001b[0m\u001b[1;32m    363\u001b[0m             \u001b[0;32mexcept\u001b[0m \u001b[0mOSError\u001b[0m\u001b[0;34m:\u001b[0m\u001b[0;34m\u001b[0m\u001b[0m",
      "\u001b[1;32m    364\u001b[0m                 \u001b[0mcompleteblotches\u001b[0m \u001b[0;34m=\u001b[0m \u001b[0mnewblotches\u001b[0m\u001b[0;34m\u001b[0m\u001b[0m",
      "\u001b[0;32m/Users/klay6683/miniconda3/envs/py35/lib/python3.5/site-packages/pandas-0.17.0+137.geb66bcc-py3.5-macosx-10.5-x86_64.egg/pandas/core/frame.py\u001b[0m in \u001b[0;36m__init__\u001b[0;34m(self, data, index, columns, dtype, copy)\u001b[0m",
      "\u001b[1;32m    304\u001b[0m                                          copy=False)",
      "\u001b[1;32m    305\u001b[0m             \u001b[0;32melse\u001b[0m\u001b[0;34m:\u001b[0m\u001b[0;34m\u001b[0m\u001b[0m",
      "\u001b[0;32m--> 306\u001b[0;31m                 \u001b[0;32mraise\u001b[0m \u001b[0mPandasError\u001b[0m\u001b[0;34m(\u001b[0m\u001b[0;34m'DataFrame constructor not properly called!'\u001b[0m\u001b[0;34m)\u001b[0m\u001b[0;34m\u001b[0m\u001b[0m",
      "\u001b[0m\u001b[1;32m    307\u001b[0m \u001b[0;34m\u001b[0m\u001b[0m",
      "\u001b[1;32m    308\u001b[0m         \u001b[0mNDFrame\u001b[0m\u001b[0;34m.\u001b[0m\u001b[0m__init__\u001b[0m\u001b[0;34m(\u001b[0m\u001b[0mself\u001b[0m\u001b[0;34m,\u001b[0m \u001b[0mmgr\u001b[0m\u001b[0;34m,\u001b[0m \u001b[0mfastpath\u001b[0m\u001b[0;34m=\u001b[0m\u001b[0;32mTrue\u001b[0m\u001b[0;34m)\u001b[0m\u001b[0;34m\u001b[0m\u001b[0m",
      "\u001b[0;31mPandasError\u001b[0m: DataFrame constructor not properly called!",
      "",
      "[4:apply]: ",
      "\u001b[0;31m---------------------------------------------------------------------------\u001b[0m\u001b[0;31mPandasError\u001b[0m                               Traceback (most recent call last)\u001b[0;32m<string>\u001b[0m in \u001b[0;36m<module>\u001b[0;34m()\u001b[0m",
      "\u001b[0;32m/Users/klay6683/miniconda3/envs/py35/lib/python3.5/site-packages/ipyparallel/client/remotefunction.py\u001b[0m in \u001b[0;36m<lambda>\u001b[0;34m(f, *sequences)\u001b[0m",
      "\u001b[1;32m    229\u001b[0m             \u001b[0;32mif\u001b[0m \u001b[0mself\u001b[0m\u001b[0;34m.\u001b[0m\u001b[0m_mapping\u001b[0m\u001b[0;34m:\u001b[0m\u001b[0;34m\u001b[0m\u001b[0m",
      "\u001b[1;32m    230\u001b[0m                 \u001b[0;32mif\u001b[0m \u001b[0msys\u001b[0m\u001b[0;34m.\u001b[0m\u001b[0mversion_info\u001b[0m\u001b[0;34m[\u001b[0m\u001b[0;36m0\u001b[0m\u001b[0;34m]\u001b[0m \u001b[0;34m>=\u001b[0m \u001b[0;36m3\u001b[0m\u001b[0;34m:\u001b[0m\u001b[0;34m\u001b[0m\u001b[0m",
      "\u001b[0;32m--> 231\u001b[0;31m                     \u001b[0mf\u001b[0m \u001b[0;34m=\u001b[0m \u001b[0;32mlambda\u001b[0m \u001b[0mf\u001b[0m\u001b[0;34m,\u001b[0m \u001b[0;34m*\u001b[0m\u001b[0msequences\u001b[0m\u001b[0;34m:\u001b[0m \u001b[0mlist\u001b[0m\u001b[0;34m(\u001b[0m\u001b[0mmap\u001b[0m\u001b[0;34m(\u001b[0m\u001b[0mf\u001b[0m\u001b[0;34m,\u001b[0m \u001b[0;34m*\u001b[0m\u001b[0msequences\u001b[0m\u001b[0;34m)\u001b[0m\u001b[0;34m)\u001b[0m\u001b[0;34m\u001b[0m\u001b[0m",
      "\u001b[0m\u001b[1;32m    232\u001b[0m                 \u001b[0;32melse\u001b[0m\u001b[0;34m:\u001b[0m\u001b[0;34m\u001b[0m\u001b[0m",
      "\u001b[1;32m    233\u001b[0m                     \u001b[0mf\u001b[0m \u001b[0;34m=\u001b[0m \u001b[0mmap\u001b[0m\u001b[0;34m\u001b[0m\u001b[0m",
      "\u001b[0;32m/Users/klay6683/Dropbox/src/planet4/planet4/clustering.py\u001b[0m in \u001b[0;36mapply_fnotch_cut\u001b[0;34m(self, fname)\u001b[0m",
      "\u001b[1;32m    351\u001b[0m             \u001b[0;32mtry\u001b[0m\u001b[0;34m:\u001b[0m\u001b[0;34m\u001b[0m\u001b[0m",
      "\u001b[1;32m    352\u001b[0m                 completefans = pd.DataFrame(",
      "\u001b[0;32m--> 353\u001b[0;31m                     self.resman.fandf).append(newfans, ignore_index=True)",
      "\u001b[0m\u001b[1;32m    354\u001b[0m             \u001b[0;32mexcept\u001b[0m \u001b[0mOSError\u001b[0m\u001b[0;34m:\u001b[0m\u001b[0;34m\u001b[0m\u001b[0m",
      "\u001b[1;32m    355\u001b[0m                 \u001b[0mcompletefans\u001b[0m \u001b[0;34m=\u001b[0m \u001b[0mnewfans\u001b[0m\u001b[0;34m\u001b[0m\u001b[0m",
      "\u001b[0;32m/Users/klay6683/miniconda3/envs/py35/lib/python3.5/site-packages/pandas-0.17.0+137.geb66bcc-py3.5-macosx-10.5-x86_64.egg/pandas/core/frame.py\u001b[0m in \u001b[0;36m__init__\u001b[0;34m(self, data, index, columns, dtype, copy)\u001b[0m",
      "\u001b[1;32m    304\u001b[0m                                          copy=False)",
      "\u001b[1;32m    305\u001b[0m             \u001b[0;32melse\u001b[0m\u001b[0;34m:\u001b[0m\u001b[0;34m\u001b[0m\u001b[0m",
      "\u001b[0;32m--> 306\u001b[0;31m                 \u001b[0;32mraise\u001b[0m \u001b[0mPandasError\u001b[0m\u001b[0;34m(\u001b[0m\u001b[0;34m'DataFrame constructor not properly called!'\u001b[0m\u001b[0;34m)\u001b[0m\u001b[0;34m\u001b[0m\u001b[0m",
      "\u001b[0m\u001b[1;32m    307\u001b[0m \u001b[0;34m\u001b[0m\u001b[0m",
      "\u001b[1;32m    308\u001b[0m         \u001b[0mNDFrame\u001b[0m\u001b[0;34m.\u001b[0m\u001b[0m__init__\u001b[0m\u001b[0;34m(\u001b[0m\u001b[0mself\u001b[0m\u001b[0;34m,\u001b[0m \u001b[0mmgr\u001b[0m\u001b[0;34m,\u001b[0m \u001b[0mfastpath\u001b[0m\u001b[0;34m=\u001b[0m\u001b[0;32mTrue\u001b[0m\u001b[0;34m)\u001b[0m\u001b[0;34m\u001b[0m\u001b[0m",
      "\u001b[0;31mPandasError\u001b[0m: DataFrame constructor not properly called!",
      "",
      "... 1683 more exceptions ..."
     ]
    }
   ],
   "source": [
    "for res in results:\n",
    "    res"
   ]
  },
  {
   "cell_type": "code",
   "execution_count": 13,
   "metadata": {
    "collapsed": false
   },
   "outputs": [],
   "source": [
    "resman = plotting.ResultManager('APF000036k', input_dir)"
   ]
  },
  {
   "cell_type": "code",
   "execution_count": 14,
   "metadata": {
    "collapsed": false
   },
   "outputs": [
    {
     "data": {
      "text/plain": [
       "pandas.core.frame.DataFrame"
      ]
     },
     "execution_count": 14,
     "metadata": {},
     "output_type": "execute_result"
    }
   ],
   "source": [
    "type(resman.fandf)"
   ]
  },
  {
   "cell_type": "code",
   "execution_count": 37,
   "metadata": {
    "collapsed": false
   },
   "outputs": [
    {
     "data": {
      "text/html": [
       "<div>\n",
       "<table border=\"1\" class=\"dataframe\">\n",
       "  <thead>\n",
       "    <tr style=\"text-align: right;\">\n",
       "      <th></th>\n",
       "      <th>x</th>\n",
       "      <th>y</th>\n",
       "      <th>angle</th>\n",
       "      <th>radius_1</th>\n",
       "      <th>radius_2</th>\n",
       "      <th>p1_x</th>\n",
       "      <th>p1_y</th>\n",
       "      <th>p2_x</th>\n",
       "      <th>p2_y</th>\n",
       "      <th>p3_x</th>\n",
       "      <th>p3_y</th>\n",
       "      <th>p4_x</th>\n",
       "      <th>p4_y</th>\n",
       "    </tr>\n",
       "  </thead>\n",
       "  <tbody>\n",
       "    <tr>\n",
       "      <th>0</th>\n",
       "      <td>79.166667</td>\n",
       "      <td>563.833333</td>\n",
       "      <td>44.576761</td>\n",
       "      <td>14.482960</td>\n",
       "      <td>12.153886</td>\n",
       "      <td>89.483035</td>\n",
       "      <td>571.944721</td>\n",
       "      <td>68.850298</td>\n",
       "      <td>555.721945</td>\n",
       "      <td>70.636289</td>\n",
       "      <td>572.490678</td>\n",
       "      <td>87.697044</td>\n",
       "      <td>555.175989</td>\n",
       "    </tr>\n",
       "    <tr>\n",
       "      <th>1</th>\n",
       "      <td>588.125000</td>\n",
       "      <td>23.250000</td>\n",
       "      <td>17.049648</td>\n",
       "      <td>18.270330</td>\n",
       "      <td>15.577747</td>\n",
       "      <td>605.592368</td>\n",
       "      <td>5.457102</td>\n",
       "      <td>570.657632</td>\n",
       "      <td>41.042898</td>\n",
       "      <td>583.557601</td>\n",
       "      <td>38.143122</td>\n",
       "      <td>592.692399</td>\n",
       "      <td>8.356878</td>\n",
       "    </tr>\n",
       "    <tr>\n",
       "      <th>2</th>\n",
       "      <td>169.125000</td>\n",
       "      <td>457.250000</td>\n",
       "      <td>38.358737</td>\n",
       "      <td>10.662278</td>\n",
       "      <td>10.000000</td>\n",
       "      <td>177.485725</td>\n",
       "      <td>463.784066</td>\n",
       "      <td>160.764275</td>\n",
       "      <td>450.715934</td>\n",
       "      <td>162.919168</td>\n",
       "      <td>465.091406</td>\n",
       "      <td>175.330832</td>\n",
       "      <td>449.408594</td>\n",
       "    </tr>\n",
       "    <tr>\n",
       "      <th>3</th>\n",
       "      <td>619.928571</td>\n",
       "      <td>597.428571</td>\n",
       "      <td>70.117456</td>\n",
       "      <td>14.394736</td>\n",
       "      <td>12.399120</td>\n",
       "      <td>624.824121</td>\n",
       "      <td>609.560091</td>\n",
       "      <td>615.033022</td>\n",
       "      <td>585.297052</td>\n",
       "      <td>608.268541</td>\n",
       "      <td>601.645426</td>\n",
       "      <td>631.588602</td>\n",
       "      <td>593.211717</td>\n",
       "    </tr>\n",
       "    <tr>\n",
       "      <th>4</th>\n",
       "      <td>498.125000</td>\n",
       "      <td>485.000000</td>\n",
       "      <td>41.206464</td>\n",
       "      <td>14.494004</td>\n",
       "      <td>12.433003</td>\n",
       "      <td>509.029427</td>\n",
       "      <td>479.816097</td>\n",
       "      <td>487.220573</td>\n",
       "      <td>490.183903</td>\n",
       "      <td>489.934457</td>\n",
       "      <td>494.353853</td>\n",
       "      <td>506.315543</td>\n",
       "      <td>475.646147</td>\n",
       "    </tr>\n",
       "    <tr>\n",
       "      <th>5</th>\n",
       "      <td>693.500000</td>\n",
       "      <td>459.285714</td>\n",
       "      <td>43.681093</td>\n",
       "      <td>14.507452</td>\n",
       "      <td>11.952017</td>\n",
       "      <td>703.991718</td>\n",
       "      <td>454.981778</td>\n",
       "      <td>683.008282</td>\n",
       "      <td>463.589651</td>\n",
       "      <td>685.245413</td>\n",
       "      <td>467.929355</td>\n",
       "      <td>701.754587</td>\n",
       "      <td>450.642074</td>\n",
       "    </tr>\n",
       "    <tr>\n",
       "      <th>6</th>\n",
       "      <td>712.000000</td>\n",
       "      <td>424.333333</td>\n",
       "      <td>27.624995</td>\n",
       "      <td>10.000000</td>\n",
       "      <td>10.000000</td>\n",
       "      <td>720.860014</td>\n",
       "      <td>430.379937</td>\n",
       "      <td>703.139986</td>\n",
       "      <td>418.286730</td>\n",
       "      <td>707.363174</td>\n",
       "      <td>433.193347</td>\n",
       "      <td>716.636826</td>\n",
       "      <td>415.473319</td>\n",
       "    </tr>\n",
       "    <tr>\n",
       "      <th>7</th>\n",
       "      <td>705.166667</td>\n",
       "      <td>380.333333</td>\n",
       "      <td>111.055319</td>\n",
       "      <td>16.359207</td>\n",
       "      <td>13.102738</td>\n",
       "      <td>699.289308</td>\n",
       "      <td>365.757036</td>\n",
       "      <td>711.044025</td>\n",
       "      <td>394.909631</td>\n",
       "      <td>692.938746</td>\n",
       "      <td>375.625924</td>\n",
       "      <td>717.394587</td>\n",
       "      <td>385.040743</td>\n",
       "    </tr>\n",
       "    <tr>\n",
       "      <th>8</th>\n",
       "      <td>663.916667</td>\n",
       "      <td>387.333333</td>\n",
       "      <td>47.465266</td>\n",
       "      <td>13.699519</td>\n",
       "      <td>11.941306</td>\n",
       "      <td>673.178049</td>\n",
       "      <td>382.746948</td>\n",
       "      <td>654.655284</td>\n",
       "      <td>391.919719</td>\n",
       "      <td>655.117505</td>\n",
       "      <td>395.406098</td>\n",
       "      <td>672.715829</td>\n",
       "      <td>379.260568</td>\n",
       "    </tr>\n",
       "    <tr>\n",
       "      <th>9</th>\n",
       "      <td>638.500000</td>\n",
       "      <td>413.250000</td>\n",
       "      <td>85.086544</td>\n",
       "      <td>21.433034</td>\n",
       "      <td>17.324776</td>\n",
       "      <td>640.335759</td>\n",
       "      <td>407.666647</td>\n",
       "      <td>636.664241</td>\n",
       "      <td>418.833353</td>\n",
       "      <td>621.238889</td>\n",
       "      <td>414.733883</td>\n",
       "      <td>655.761111</td>\n",
       "      <td>411.766117</td>\n",
       "    </tr>\n",
       "    <tr>\n",
       "      <th>10</th>\n",
       "      <td>758.666667</td>\n",
       "      <td>413.833333</td>\n",
       "      <td>35.395048</td>\n",
       "      <td>19.520954</td>\n",
       "      <td>15.474049</td>\n",
       "      <td>774.579716</td>\n",
       "      <td>399.329428</td>\n",
       "      <td>742.753617</td>\n",
       "      <td>428.337239</td>\n",
       "      <td>749.703932</td>\n",
       "      <td>426.447435</td>\n",
       "      <td>767.629402</td>\n",
       "      <td>401.219232</td>\n",
       "    </tr>\n",
       "    <tr>\n",
       "      <th>11</th>\n",
       "      <td>804.142857</td>\n",
       "      <td>355.428571</td>\n",
       "      <td>23.685418</td>\n",
       "      <td>15.541798</td>\n",
       "      <td>13.084920</td>\n",
       "      <td>818.375490</td>\n",
       "      <td>340.005094</td>\n",
       "      <td>789.910224</td>\n",
       "      <td>370.852049</td>\n",
       "      <td>798.886452</td>\n",
       "      <td>367.411281</td>\n",
       "      <td>809.399262</td>\n",
       "      <td>343.445861</td>\n",
       "    </tr>\n",
       "    <tr>\n",
       "      <th>12</th>\n",
       "      <td>793.928571</td>\n",
       "      <td>482.428571</td>\n",
       "      <td>50.687307</td>\n",
       "      <td>16.940722</td>\n",
       "      <td>13.776970</td>\n",
       "      <td>804.661404</td>\n",
       "      <td>489.364539</td>\n",
       "      <td>783.195738</td>\n",
       "      <td>475.492604</td>\n",
       "      <td>783.269332</td>\n",
       "      <td>491.157002</td>\n",
       "      <td>804.587811</td>\n",
       "      <td>473.700141</td>\n",
       "    </tr>\n",
       "    <tr>\n",
       "      <th>13</th>\n",
       "      <td>662.375000</td>\n",
       "      <td>327.750000</td>\n",
       "      <td>44.781012</td>\n",
       "      <td>19.088188</td>\n",
       "      <td>13.720354</td>\n",
       "      <td>675.923877</td>\n",
       "      <td>341.425925</td>\n",
       "      <td>648.826123</td>\n",
       "      <td>314.074075</td>\n",
       "      <td>652.710396</td>\n",
       "      <td>337.488765</td>\n",
       "      <td>672.039604</td>\n",
       "      <td>318.011235</td>\n",
       "    </tr>\n",
       "    <tr>\n",
       "      <th>14</th>\n",
       "      <td>752.000000</td>\n",
       "      <td>463.250000</td>\n",
       "      <td>65.966250</td>\n",
       "      <td>15.172269</td>\n",
       "      <td>12.629202</td>\n",
       "      <td>758.179281</td>\n",
       "      <td>463.359169</td>\n",
       "      <td>745.820719</td>\n",
       "      <td>463.140831</td>\n",
       "      <td>740.465678</td>\n",
       "      <td>468.393554</td>\n",
       "      <td>763.534322</td>\n",
       "      <td>458.106446</td>\n",
       "    </tr>\n",
       "    <tr>\n",
       "      <th>15</th>\n",
       "      <td>725.000000</td>\n",
       "      <td>506.000000</td>\n",
       "      <td>41.118972</td>\n",
       "      <td>16.420385</td>\n",
       "      <td>13.565289</td>\n",
       "      <td>737.370226</td>\n",
       "      <td>501.489477</td>\n",
       "      <td>712.629774</td>\n",
       "      <td>510.510523</td>\n",
       "      <td>716.079130</td>\n",
       "      <td>516.219352</td>\n",
       "      <td>733.920870</td>\n",
       "      <td>495.780648</td>\n",
       "    </tr>\n",
       "    <tr>\n",
       "      <th>16</th>\n",
       "      <td>709.388889</td>\n",
       "      <td>318.555556</td>\n",
       "      <td>53.007992</td>\n",
       "      <td>16.237799</td>\n",
       "      <td>14.273081</td>\n",
       "      <td>719.159231</td>\n",
       "      <td>324.865134</td>\n",
       "      <td>699.618547</td>\n",
       "      <td>312.245977</td>\n",
       "      <td>697.988702</td>\n",
       "      <td>327.143720</td>\n",
       "      <td>720.789076</td>\n",
       "      <td>309.967391</td>\n",
       "    </tr>\n",
       "    <tr>\n",
       "      <th>17</th>\n",
       "      <td>695.722222</td>\n",
       "      <td>129.777778</td>\n",
       "      <td>33.177356</td>\n",
       "      <td>16.134442</td>\n",
       "      <td>13.217772</td>\n",
       "      <td>709.226438</td>\n",
       "      <td>145.619936</td>\n",
       "      <td>682.218007</td>\n",
       "      <td>113.935620</td>\n",
       "      <td>688.489028</td>\n",
       "      <td>140.840797</td>\n",
       "      <td>702.955416</td>\n",
       "      <td>118.714759</td>\n",
       "    </tr>\n",
       "    <tr>\n",
       "      <th>18</th>\n",
       "      <td>716.666667</td>\n",
       "      <td>544.333333</td>\n",
       "      <td>57.763388</td>\n",
       "      <td>12.372414</td>\n",
       "      <td>10.945977</td>\n",
       "      <td>723.266321</td>\n",
       "      <td>555.929648</td>\n",
       "      <td>710.067012</td>\n",
       "      <td>532.737018</td>\n",
       "      <td>707.407985</td>\n",
       "      <td>550.172103</td>\n",
       "      <td>725.925349</td>\n",
       "      <td>538.494564</td>\n",
       "    </tr>\n",
       "    <tr>\n",
       "      <th>19</th>\n",
       "      <td>384.937500</td>\n",
       "      <td>81.875000</td>\n",
       "      <td>44.772440</td>\n",
       "      <td>16.577598</td>\n",
       "      <td>13.995699</td>\n",
       "      <td>396.706096</td>\n",
       "      <td>93.652623</td>\n",
       "      <td>373.168904</td>\n",
       "      <td>70.097377</td>\n",
       "      <td>375.080430</td>\n",
       "      <td>91.810681</td>\n",
       "      <td>394.794570</td>\n",
       "      <td>71.939319</td>\n",
       "    </tr>\n",
       "    <tr>\n",
       "      <th>20</th>\n",
       "      <td>412.642857</td>\n",
       "      <td>57.714286</td>\n",
       "      <td>20.674894</td>\n",
       "      <td>15.566450</td>\n",
       "      <td>13.460552</td>\n",
       "      <td>427.206810</td>\n",
       "      <td>72.779168</td>\n",
       "      <td>398.078904</td>\n",
       "      <td>42.649404</td>\n",
       "      <td>407.890409</td>\n",
       "      <td>70.307962</td>\n",
       "      <td>417.395306</td>\n",
       "      <td>45.120609</td>\n",
       "    </tr>\n",
       "    <tr>\n",
       "      <th>21</th>\n",
       "      <td>470.937500</td>\n",
       "      <td>25.375000</td>\n",
       "      <td>24.514177</td>\n",
       "      <td>15.890124</td>\n",
       "      <td>13.792593</td>\n",
       "      <td>485.395266</td>\n",
       "      <td>16.160861</td>\n",
       "      <td>456.479734</td>\n",
       "      <td>34.589139</td>\n",
       "      <td>465.214700</td>\n",
       "      <td>37.924310</td>\n",
       "      <td>476.660300</td>\n",
       "      <td>12.825690</td>\n",
       "    </tr>\n",
       "    <tr>\n",
       "      <th>22</th>\n",
       "      <td>608.250000</td>\n",
       "      <td>45.000000</td>\n",
       "      <td>0.000000</td>\n",
       "      <td>10.000000</td>\n",
       "      <td>10.000000</td>\n",
       "      <td>618.250000</td>\n",
       "      <td>45.000000</td>\n",
       "      <td>598.250000</td>\n",
       "      <td>45.000000</td>\n",
       "      <td>608.250000</td>\n",
       "      <td>55.000000</td>\n",
       "      <td>608.250000</td>\n",
       "      <td>35.000000</td>\n",
       "    </tr>\n",
       "    <tr>\n",
       "      <th>23</th>\n",
       "      <td>666.900000</td>\n",
       "      <td>37.000000</td>\n",
       "      <td>23.662109</td>\n",
       "      <td>14.126082</td>\n",
       "      <td>12.094562</td>\n",
       "      <td>679.838477</td>\n",
       "      <td>22.944721</td>\n",
       "      <td>653.961523</td>\n",
       "      <td>51.055279</td>\n",
       "      <td>662.045943</td>\n",
       "      <td>48.077750</td>\n",
       "      <td>671.754057</td>\n",
       "      <td>25.922250</td>\n",
       "    </tr>\n",
       "    <tr>\n",
       "      <th>24</th>\n",
       "      <td>679.300000</td>\n",
       "      <td>57.800000</td>\n",
       "      <td>5.871551</td>\n",
       "      <td>15.343024</td>\n",
       "      <td>13.507268</td>\n",
       "      <td>694.562530</td>\n",
       "      <td>51.661135</td>\n",
       "      <td>664.037470</td>\n",
       "      <td>63.938865</td>\n",
       "      <td>677.918225</td>\n",
       "      <td>71.236405</td>\n",
       "      <td>680.681775</td>\n",
       "      <td>44.363595</td>\n",
       "    </tr>\n",
       "    <tr>\n",
       "      <th>25</th>\n",
       "      <td>751.428571</td>\n",
       "      <td>68.714286</td>\n",
       "      <td>37.180147</td>\n",
       "      <td>17.804860</td>\n",
       "      <td>16.046886</td>\n",
       "      <td>765.614404</td>\n",
       "      <td>59.883405</td>\n",
       "      <td>737.242739</td>\n",
       "      <td>77.545167</td>\n",
       "      <td>741.731068</td>\n",
       "      <td>81.499471</td>\n",
       "      <td>761.126075</td>\n",
       "      <td>55.929100</td>\n",
       "    </tr>\n",
       "    <tr>\n",
       "      <th>26</th>\n",
       "      <td>604.562500</td>\n",
       "      <td>290.000000</td>\n",
       "      <td>30.523360</td>\n",
       "      <td>15.906939</td>\n",
       "      <td>13.180204</td>\n",
       "      <td>618.265090</td>\n",
       "      <td>277.613512</td>\n",
       "      <td>590.859910</td>\n",
       "      <td>302.386488</td>\n",
       "      <td>597.868411</td>\n",
       "      <td>301.353720</td>\n",
       "      <td>611.256589</td>\n",
       "      <td>278.646280</td>\n",
       "    </tr>\n",
       "    <tr>\n",
       "      <th>27</th>\n",
       "      <td>830.350000</td>\n",
       "      <td>312.200000</td>\n",
       "      <td>51.274384</td>\n",
       "      <td>15.195734</td>\n",
       "      <td>12.522158</td>\n",
       "      <td>839.856322</td>\n",
       "      <td>325.059344</td>\n",
       "      <td>820.843678</td>\n",
       "      <td>299.340656</td>\n",
       "      <td>820.580829</td>\n",
       "      <td>320.033756</td>\n",
       "      <td>840.119171</td>\n",
       "      <td>304.366244</td>\n",
       "    </tr>\n",
       "    <tr>\n",
       "      <th>28</th>\n",
       "      <td>641.125000</td>\n",
       "      <td>175.250000</td>\n",
       "      <td>45.251272</td>\n",
       "      <td>13.873774</td>\n",
       "      <td>12.280331</td>\n",
       "      <td>650.892123</td>\n",
       "      <td>188.496631</td>\n",
       "      <td>631.357877</td>\n",
       "      <td>162.003369</td>\n",
       "      <td>632.403497</td>\n",
       "      <td>183.895340</td>\n",
       "      <td>649.846503</td>\n",
       "      <td>166.604660</td>\n",
       "    </tr>\n",
       "    <tr>\n",
       "      <th>29</th>\n",
       "      <td>449.600000</td>\n",
       "      <td>345.200000</td>\n",
       "      <td>39.409006</td>\n",
       "      <td>13.227705</td>\n",
       "      <td>11.420779</td>\n",
       "      <td>459.820172</td>\n",
       "      <td>358.299946</td>\n",
       "      <td>439.379828</td>\n",
       "      <td>332.100054</td>\n",
       "      <td>442.349496</td>\n",
       "      <td>354.024080</td>\n",
       "      <td>456.850504</td>\n",
       "      <td>336.375920</td>\n",
       "    </tr>\n",
       "    <tr>\n",
       "      <th>30</th>\n",
       "      <td>709.312500</td>\n",
       "      <td>612.125000</td>\n",
       "      <td>30.061967</td>\n",
       "      <td>19.773874</td>\n",
       "      <td>15.455406</td>\n",
       "      <td>726.426474</td>\n",
       "      <td>592.814175</td>\n",
       "      <td>692.198526</td>\n",
       "      <td>631.435825</td>\n",
       "      <td>701.570326</td>\n",
       "      <td>625.501408</td>\n",
       "      <td>717.054674</td>\n",
       "      <td>598.748592</td>\n",
       "    </tr>\n",
       "    <tr>\n",
       "      <th>31</th>\n",
       "      <td>767.562500</td>\n",
       "      <td>552.000000</td>\n",
       "      <td>40.456439</td>\n",
       "      <td>17.579120</td>\n",
       "      <td>14.121840</td>\n",
       "      <td>780.938444</td>\n",
       "      <td>558.590028</td>\n",
       "      <td>754.186556</td>\n",
       "      <td>545.409972</td>\n",
       "      <td>758.399265</td>\n",
       "      <td>562.745301</td>\n",
       "      <td>776.725735</td>\n",
       "      <td>541.254699</td>\n",
       "    </tr>\n",
       "    <tr>\n",
       "      <th>32</th>\n",
       "      <td>485.000000</td>\n",
       "      <td>372.400000</td>\n",
       "      <td>48.920818</td>\n",
       "      <td>19.587944</td>\n",
       "      <td>15.690958</td>\n",
       "      <td>497.871265</td>\n",
       "      <td>353.310745</td>\n",
       "      <td>472.128735</td>\n",
       "      <td>391.489255</td>\n",
       "      <td>473.172122</td>\n",
       "      <td>382.710550</td>\n",
       "      <td>496.827878</td>\n",
       "      <td>362.089450</td>\n",
       "    </tr>\n",
       "    <tr>\n",
       "      <th>33</th>\n",
       "      <td>631.166667</td>\n",
       "      <td>230.333333</td>\n",
       "      <td>39.999561</td>\n",
       "      <td>18.495551</td>\n",
       "      <td>14.704997</td>\n",
       "      <td>645.335172</td>\n",
       "      <td>244.120032</td>\n",
       "      <td>616.998161</td>\n",
       "      <td>216.546635</td>\n",
       "      <td>621.714563</td>\n",
       "      <td>241.598087</td>\n",
       "      <td>640.618770</td>\n",
       "      <td>219.068580</td>\n",
       "    </tr>\n",
       "    <tr>\n",
       "      <th>34</th>\n",
       "      <td>551.750000</td>\n",
       "      <td>84.000000</td>\n",
       "      <td>28.996711</td>\n",
       "      <td>16.832501</td>\n",
       "      <td>15.323455</td>\n",
       "      <td>566.472506</td>\n",
       "      <td>72.870853</td>\n",
       "      <td>537.027494</td>\n",
       "      <td>95.129147</td>\n",
       "      <td>544.321811</td>\n",
       "      <td>97.402622</td>\n",
       "      <td>559.178189</td>\n",
       "      <td>70.597378</td>\n",
       "    </tr>\n",
       "    <tr>\n",
       "      <th>35</th>\n",
       "      <td>529.000000</td>\n",
       "      <td>309.000000</td>\n",
       "      <td>59.920753</td>\n",
       "      <td>24.643953</td>\n",
       "      <td>18.482965</td>\n",
       "      <td>541.351484</td>\n",
       "      <td>303.369909</td>\n",
       "      <td>516.648516</td>\n",
       "      <td>314.630091</td>\n",
       "      <td>513.006080</td>\n",
       "      <td>318.263613</td>\n",
       "      <td>544.993920</td>\n",
       "      <td>299.736387</td>\n",
       "    </tr>\n",
       "    <tr>\n",
       "      <th>36</th>\n",
       "      <td>370.687500</td>\n",
       "      <td>169.000000</td>\n",
       "      <td>57.594700</td>\n",
       "      <td>30.455965</td>\n",
       "      <td>23.466974</td>\n",
       "      <td>387.009001</td>\n",
       "      <td>195.357869</td>\n",
       "      <td>354.365999</td>\n",
       "      <td>142.642131</td>\n",
       "      <td>350.874842</td>\n",
       "      <td>181.576066</td>\n",
       "      <td>390.500158</td>\n",
       "      <td>156.423934</td>\n",
       "    </tr>\n",
       "    <tr>\n",
       "      <th>37</th>\n",
       "      <td>462.785714</td>\n",
       "      <td>309.142857</td>\n",
       "      <td>53.501787</td>\n",
       "      <td>23.265268</td>\n",
       "      <td>18.163237</td>\n",
       "      <td>476.623843</td>\n",
       "      <td>306.942662</td>\n",
       "      <td>448.947586</td>\n",
       "      <td>311.343052</td>\n",
       "      <td>448.184735</td>\n",
       "      <td>319.946309</td>\n",
       "      <td>477.386694</td>\n",
       "      <td>298.339405</td>\n",
       "    </tr>\n",
       "  </tbody>\n",
       "</table>\n",
       "</div>"
      ],
      "text/plain": [
       "             x           y       angle   radius_1   radius_2        p1_x  \\\n",
       "0    79.166667  563.833333   44.576761  14.482960  12.153886   89.483035   \n",
       "1   588.125000   23.250000   17.049648  18.270330  15.577747  605.592368   \n",
       "2   169.125000  457.250000   38.358737  10.662278  10.000000  177.485725   \n",
       "3   619.928571  597.428571   70.117456  14.394736  12.399120  624.824121   \n",
       "4   498.125000  485.000000   41.206464  14.494004  12.433003  509.029427   \n",
       "5   693.500000  459.285714   43.681093  14.507452  11.952017  703.991718   \n",
       "6   712.000000  424.333333   27.624995  10.000000  10.000000  720.860014   \n",
       "7   705.166667  380.333333  111.055319  16.359207  13.102738  699.289308   \n",
       "8   663.916667  387.333333   47.465266  13.699519  11.941306  673.178049   \n",
       "9   638.500000  413.250000   85.086544  21.433034  17.324776  640.335759   \n",
       "10  758.666667  413.833333   35.395048  19.520954  15.474049  774.579716   \n",
       "11  804.142857  355.428571   23.685418  15.541798  13.084920  818.375490   \n",
       "12  793.928571  482.428571   50.687307  16.940722  13.776970  804.661404   \n",
       "13  662.375000  327.750000   44.781012  19.088188  13.720354  675.923877   \n",
       "14  752.000000  463.250000   65.966250  15.172269  12.629202  758.179281   \n",
       "15  725.000000  506.000000   41.118972  16.420385  13.565289  737.370226   \n",
       "16  709.388889  318.555556   53.007992  16.237799  14.273081  719.159231   \n",
       "17  695.722222  129.777778   33.177356  16.134442  13.217772  709.226438   \n",
       "18  716.666667  544.333333   57.763388  12.372414  10.945977  723.266321   \n",
       "19  384.937500   81.875000   44.772440  16.577598  13.995699  396.706096   \n",
       "20  412.642857   57.714286   20.674894  15.566450  13.460552  427.206810   \n",
       "21  470.937500   25.375000   24.514177  15.890124  13.792593  485.395266   \n",
       "22  608.250000   45.000000    0.000000  10.000000  10.000000  618.250000   \n",
       "23  666.900000   37.000000   23.662109  14.126082  12.094562  679.838477   \n",
       "24  679.300000   57.800000    5.871551  15.343024  13.507268  694.562530   \n",
       "25  751.428571   68.714286   37.180147  17.804860  16.046886  765.614404   \n",
       "26  604.562500  290.000000   30.523360  15.906939  13.180204  618.265090   \n",
       "27  830.350000  312.200000   51.274384  15.195734  12.522158  839.856322   \n",
       "28  641.125000  175.250000   45.251272  13.873774  12.280331  650.892123   \n",
       "29  449.600000  345.200000   39.409006  13.227705  11.420779  459.820172   \n",
       "30  709.312500  612.125000   30.061967  19.773874  15.455406  726.426474   \n",
       "31  767.562500  552.000000   40.456439  17.579120  14.121840  780.938444   \n",
       "32  485.000000  372.400000   48.920818  19.587944  15.690958  497.871265   \n",
       "33  631.166667  230.333333   39.999561  18.495551  14.704997  645.335172   \n",
       "34  551.750000   84.000000   28.996711  16.832501  15.323455  566.472506   \n",
       "35  529.000000  309.000000   59.920753  24.643953  18.482965  541.351484   \n",
       "36  370.687500  169.000000   57.594700  30.455965  23.466974  387.009001   \n",
       "37  462.785714  309.142857   53.501787  23.265268  18.163237  476.623843   \n",
       "\n",
       "          p1_y        p2_x        p2_y        p3_x        p3_y        p4_x  \\\n",
       "0   571.944721   68.850298  555.721945   70.636289  572.490678   87.697044   \n",
       "1     5.457102  570.657632   41.042898  583.557601   38.143122  592.692399   \n",
       "2   463.784066  160.764275  450.715934  162.919168  465.091406  175.330832   \n",
       "3   609.560091  615.033022  585.297052  608.268541  601.645426  631.588602   \n",
       "4   479.816097  487.220573  490.183903  489.934457  494.353853  506.315543   \n",
       "5   454.981778  683.008282  463.589651  685.245413  467.929355  701.754587   \n",
       "6   430.379937  703.139986  418.286730  707.363174  433.193347  716.636826   \n",
       "7   365.757036  711.044025  394.909631  692.938746  375.625924  717.394587   \n",
       "8   382.746948  654.655284  391.919719  655.117505  395.406098  672.715829   \n",
       "9   407.666647  636.664241  418.833353  621.238889  414.733883  655.761111   \n",
       "10  399.329428  742.753617  428.337239  749.703932  426.447435  767.629402   \n",
       "11  340.005094  789.910224  370.852049  798.886452  367.411281  809.399262   \n",
       "12  489.364539  783.195738  475.492604  783.269332  491.157002  804.587811   \n",
       "13  341.425925  648.826123  314.074075  652.710396  337.488765  672.039604   \n",
       "14  463.359169  745.820719  463.140831  740.465678  468.393554  763.534322   \n",
       "15  501.489477  712.629774  510.510523  716.079130  516.219352  733.920870   \n",
       "16  324.865134  699.618547  312.245977  697.988702  327.143720  720.789076   \n",
       "17  145.619936  682.218007  113.935620  688.489028  140.840797  702.955416   \n",
       "18  555.929648  710.067012  532.737018  707.407985  550.172103  725.925349   \n",
       "19   93.652623  373.168904   70.097377  375.080430   91.810681  394.794570   \n",
       "20   72.779168  398.078904   42.649404  407.890409   70.307962  417.395306   \n",
       "21   16.160861  456.479734   34.589139  465.214700   37.924310  476.660300   \n",
       "22   45.000000  598.250000   45.000000  608.250000   55.000000  608.250000   \n",
       "23   22.944721  653.961523   51.055279  662.045943   48.077750  671.754057   \n",
       "24   51.661135  664.037470   63.938865  677.918225   71.236405  680.681775   \n",
       "25   59.883405  737.242739   77.545167  741.731068   81.499471  761.126075   \n",
       "26  277.613512  590.859910  302.386488  597.868411  301.353720  611.256589   \n",
       "27  325.059344  820.843678  299.340656  820.580829  320.033756  840.119171   \n",
       "28  188.496631  631.357877  162.003369  632.403497  183.895340  649.846503   \n",
       "29  358.299946  439.379828  332.100054  442.349496  354.024080  456.850504   \n",
       "30  592.814175  692.198526  631.435825  701.570326  625.501408  717.054674   \n",
       "31  558.590028  754.186556  545.409972  758.399265  562.745301  776.725735   \n",
       "32  353.310745  472.128735  391.489255  473.172122  382.710550  496.827878   \n",
       "33  244.120032  616.998161  216.546635  621.714563  241.598087  640.618770   \n",
       "34   72.870853  537.027494   95.129147  544.321811   97.402622  559.178189   \n",
       "35  303.369909  516.648516  314.630091  513.006080  318.263613  544.993920   \n",
       "36  195.357869  354.365999  142.642131  350.874842  181.576066  390.500158   \n",
       "37  306.942662  448.947586  311.343052  448.184735  319.946309  477.386694   \n",
       "\n",
       "          p4_y  \n",
       "0   555.175989  \n",
       "1     8.356878  \n",
       "2   449.408594  \n",
       "3   593.211717  \n",
       "4   475.646147  \n",
       "5   450.642074  \n",
       "6   415.473319  \n",
       "7   385.040743  \n",
       "8   379.260568  \n",
       "9   411.766117  \n",
       "10  401.219232  \n",
       "11  343.445861  \n",
       "12  473.700141  \n",
       "13  318.011235  \n",
       "14  458.106446  \n",
       "15  495.780648  \n",
       "16  309.967391  \n",
       "17  118.714759  \n",
       "18  538.494564  \n",
       "19   71.939319  \n",
       "20   45.120609  \n",
       "21   12.825690  \n",
       "22   35.000000  \n",
       "23   25.922250  \n",
       "24   44.363595  \n",
       "25   55.929100  \n",
       "26  278.646280  \n",
       "27  304.366244  \n",
       "28  166.604660  \n",
       "29  336.375920  \n",
       "30  598.748592  \n",
       "31  541.254699  \n",
       "32  362.089450  \n",
       "33  219.068580  \n",
       "34   70.597378  \n",
       "35  299.736387  \n",
       "36  156.423934  \n",
       "37  298.339405  "
      ]
     },
     "execution_count": 37,
     "metadata": {},
     "output_type": "execute_result"
    }
   ],
   "source": [
    "resman.blotchdf"
   ]
  },
  {
   "cell_type": "code",
   "execution_count": null,
   "metadata": {
    "collapsed": true
   },
   "outputs": [],
   "source": []
  }
 ],
 "metadata": {
  "kernelspec": {
   "display_name": "Python 3",
   "language": "python",
   "name": "python3"
  },
  "language_info": {
   "codemirror_mode": {
    "name": "ipython",
    "version": 3
   },
   "file_extension": ".py",
   "mimetype": "text/x-python",
   "name": "python",
   "nbconvert_exporter": "python",
   "pygments_lexer": "ipython3",
   "version": "3.5.0"
  }
 },
 "nbformat": 4,
 "nbformat_minor": 0
}
