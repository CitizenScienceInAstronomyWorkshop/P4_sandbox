{
 "cells": [
  {
   "cell_type": "markdown",
   "metadata": {
    "toc": true
   },
   "source": [
    "<h1>Table of Contents<span class=\"tocSkip\"></span></h1>\n",
    "<div class=\"toc\"><ul class=\"toc-item\"></ul></div>"
   ]
  },
  {
   "cell_type": "code",
   "execution_count": 66,
   "metadata": {
    "ExecuteTime": {
     "end_time": "2018-09-28T23:35:10.258650Z",
     "start_time": "2018-09-28T23:35:10.219196Z"
    }
   },
   "outputs": [],
   "source": [
    "folder = Path('/Users/klay6683/Dropbox/data/planet4/p4_analysis/P4_catalog_v1.0/')"
   ]
  },
  {
   "cell_type": "code",
   "execution_count": 67,
   "metadata": {
    "ExecuteTime": {
     "end_time": "2018-09-28T23:35:24.751186Z",
     "start_time": "2018-09-28T23:35:24.711560Z"
    }
   },
   "outputs": [],
   "source": [
    "newfolder = folder.with_name(\"P4_catalog_v1.1\")"
   ]
  },
  {
   "cell_type": "code",
   "execution_count": 68,
   "metadata": {
    "ExecuteTime": {
     "end_time": "2018-09-28T23:35:28.306046Z",
     "start_time": "2018-09-28T23:35:28.267615Z"
    }
   },
   "outputs": [],
   "source": [
    "newfolder.mkdir()"
   ]
  },
  {
   "cell_type": "code",
   "execution_count": 69,
   "metadata": {
    "ExecuteTime": {
     "end_time": "2018-09-28T23:35:47.197536Z",
     "start_time": "2018-09-28T23:35:47.149605Z"
    }
   },
   "outputs": [],
   "source": [
    "fanfname = folder / \"P4_catalog_v1.0_L1C_cut_0.5_fan_meta_merged.csv\""
   ]
  },
  {
   "cell_type": "code",
   "execution_count": 71,
   "metadata": {
    "ExecuteTime": {
     "end_time": "2018-09-28T23:36:31.473519Z",
     "start_time": "2018-09-28T23:36:31.254086Z"
    }
   },
   "outputs": [],
   "source": [
    "newfanfname = fanfname.with_name(\"P4_catalog_v1.1_L1C_cut_0.5_fan_meta_merged.csv\")"
   ]
  },
  {
   "cell_type": "code",
   "execution_count": 2,
   "metadata": {
    "ExecuteTime": {
     "end_time": "2018-09-28T21:56:33.065872Z",
     "start_time": "2018-09-28T21:56:31.603253Z"
    }
   },
   "outputs": [],
   "source": [
    "fans = pd.read_csv(fanfname)"
   ]
  },
  {
   "cell_type": "code",
   "execution_count": 3,
   "metadata": {
    "ExecuteTime": {
     "end_time": "2018-09-28T21:56:33.356204Z",
     "start_time": "2018-09-28T21:56:33.290202Z"
    }
   },
   "outputs": [
    {
     "data": {
      "text/plain": [
       "159287"
      ]
     },
     "execution_count": 3,
     "metadata": {},
     "output_type": "execute_result"
    }
   ],
   "source": [
    "fans.marking_id.count()"
   ]
  },
  {
   "cell_type": "code",
   "execution_count": 4,
   "metadata": {
    "ExecuteTime": {
     "end_time": "2018-09-28T21:56:34.511613Z",
     "start_time": "2018-09-28T21:56:34.408020Z"
    }
   },
   "outputs": [
    {
     "data": {
      "text/plain": [
       "158473"
      ]
     },
     "execution_count": 4,
     "metadata": {},
     "output_type": "execute_result"
    }
   ],
   "source": [
    "fans.marking_id.nunique()"
   ]
  },
  {
   "cell_type": "code",
   "execution_count": 72,
   "metadata": {
    "ExecuteTime": {
     "end_time": "2018-09-28T23:46:28.943486Z",
     "start_time": "2018-09-28T23:46:28.322394Z"
    }
   },
   "outputs": [
    {
     "data": {
      "text/plain": [
       "marking_id\n",
       "F006c23    3\n",
       "F00cfa9    3\n",
       "F018f75    3\n",
       "F0121dd    3\n",
       "F006fa6    3\n",
       "dtype: int64"
      ]
     },
     "execution_count": 72,
     "metadata": {},
     "output_type": "execute_result"
    }
   ],
   "source": [
    "fans.groupby('marking_id').size().sort_values(ascending=False).head()"
   ]
  },
  {
   "cell_type": "markdown",
   "metadata": {},
   "source": [
    "From several fnotching events I got several entries with different vote_ratios in the catalog.\n",
    "I think the best way to deal with them is to average the vote_ratio, as a fair judgement on its \"fan-ness\"."
   ]
  },
  {
   "cell_type": "code",
   "execution_count": 75,
   "metadata": {
    "ExecuteTime": {
     "end_time": "2018-09-28T23:47:43.473590Z",
     "start_time": "2018-09-28T23:47:43.404940Z"
    }
   },
   "outputs": [
    {
     "data": {
      "text/plain": [
       "count    3.000000\n",
       "mean     0.670000\n",
       "std      0.069282\n",
       "min      0.590000\n",
       "25%      0.650000\n",
       "50%      0.710000\n",
       "75%      0.710000\n",
       "max      0.710000\n",
       "Name: vote_ratio, dtype: float64"
      ]
     },
     "execution_count": 75,
     "metadata": {},
     "output_type": "execute_result"
    }
   ],
   "source": [
    "fans.query(\"marking_id=='F018f75'\").vote_ratio.describe()"
   ]
  },
  {
   "cell_type": "code",
   "execution_count": 118,
   "metadata": {
    "ExecuteTime": {
     "end_time": "2018-09-29T00:00:13.841074Z",
     "start_time": "2018-09-29T00:00:13.781252Z"
    }
   },
   "outputs": [
    {
     "data": {
      "text/plain": [
       "46689    0.65\n",
       "46690    0.71\n",
       "46691    0.71\n",
       "Name: vote_ratio, dtype: float64"
      ]
     },
     "execution_count": 118,
     "metadata": {},
     "output_type": "execute_result"
    }
   ],
   "source": [
    "fans.query(\"marking_id=='F00cfa9'\").vote_ratio"
   ]
  },
  {
   "cell_type": "code",
   "execution_count": 135,
   "metadata": {
    "ExecuteTime": {
     "end_time": "2018-09-29T00:38:10.843536Z",
     "start_time": "2018-09-29T00:38:10.433859Z"
    }
   },
   "outputs": [],
   "source": [
    "# this will create mean value for each column\n",
    "mean_fans = fans.groupby('marking_id').mean()"
   ]
  },
  {
   "cell_type": "code",
   "execution_count": 129,
   "metadata": {
    "ExecuteTime": {
     "end_time": "2018-09-29T00:37:20.605337Z",
     "start_time": "2018-09-29T00:37:20.496364Z"
    }
   },
   "outputs": [
    {
     "data": {
      "text/plain": [
       "angle                          77.710000\n",
       "distance                      115.120000\n",
       "image_x                      1089.030000\n",
       "image_y                     32162.710000\n",
       "n_votes                         7.000000\n",
       "spread                         63.910000\n",
       "version                         1.000000\n",
       "vote_ratio                      0.690000\n",
       "x                             349.030000\n",
       "x_angle                         0.210000\n",
       "y                             378.710000\n",
       "y_angle                         0.970000\n",
       "l_s                           227.593000\n",
       "north_azimuth                 123.159021\n",
       "map_scale                       1.000000\n",
       "BodyFixedCoordinateX          127.770092\n",
       "BodyFixedCoordinateY          280.665938\n",
       "BodyFixedCoordinateZ        -3367.457282\n",
       "PlanetocentricLatitude        -84.767637\n",
       "PlanetographicLatitude        -84.828716\n",
       "PositiveEast360Longitude       65.523119\n",
       "Name: F00cfa9, dtype: float64"
      ]
     },
     "execution_count": 129,
     "metadata": {},
     "output_type": "execute_result"
    }
   ],
   "source": [
    "mean_fans.loc['F00cfa9']"
   ]
  },
  {
   "cell_type": "code",
   "execution_count": 130,
   "metadata": {
    "ExecuteTime": {
     "end_time": "2018-09-29T00:37:22.343114Z",
     "start_time": "2018-09-29T00:37:22.289899Z"
    }
   },
   "outputs": [
    {
     "data": {
      "text/plain": [
       "(159287, 24)"
      ]
     },
     "execution_count": 130,
     "metadata": {},
     "output_type": "execute_result"
    }
   ],
   "source": [
    "fans.shape"
   ]
  },
  {
   "cell_type": "code",
   "execution_count": 106,
   "metadata": {
    "ExecuteTime": {
     "end_time": "2018-09-28T23:56:26.476851Z",
     "start_time": "2018-09-28T23:56:26.386226Z"
    }
   },
   "outputs": [
    {
     "data": {
      "text/plain": [
       "(158473, 22)"
      ]
     },
     "execution_count": 106,
     "metadata": {},
     "output_type": "execute_result"
    }
   ],
   "source": [
    "mean_fans = mean_fans.reset_index()\n",
    "mean_fans.shape"
   ]
  },
  {
   "cell_type": "code",
   "execution_count": 110,
   "metadata": {
    "ExecuteTime": {
     "end_time": "2018-09-28T23:56:37.276095Z",
     "start_time": "2018-09-28T23:56:37.231360Z"
    }
   },
   "outputs": [
    {
     "data": {
      "text/plain": [
       "(159287, 24)"
      ]
     },
     "execution_count": 110,
     "metadata": {},
     "output_type": "execute_result"
    }
   ],
   "source": [
    "fans.shape"
   ]
  },
  {
   "cell_type": "code",
   "execution_count": 136,
   "metadata": {
    "ExecuteTime": {
     "end_time": "2018-09-29T00:38:14.827167Z",
     "start_time": "2018-09-29T00:38:14.789459Z"
    }
   },
   "outputs": [
    {
     "data": {
      "text/plain": [
       "(158473, 21)"
      ]
     },
     "execution_count": 136,
     "metadata": {},
     "output_type": "execute_result"
    }
   ],
   "source": [
    "mean_fans.shape"
   ]
  },
  {
   "cell_type": "code",
   "execution_count": 113,
   "metadata": {
    "ExecuteTime": {
     "end_time": "2018-09-28T23:57:29.987212Z",
     "start_time": "2018-09-28T23:57:29.652318Z"
    }
   },
   "outputs": [
    {
     "data": {
      "text/html": [
       "<div>\n",
       "<style scoped>\n",
       "    .dataframe tbody tr th:only-of-type {\n",
       "        vertical-align: middle;\n",
       "    }\n",
       "\n",
       "    .dataframe tbody tr th {\n",
       "        vertical-align: top;\n",
       "    }\n",
       "\n",
       "    .dataframe thead th {\n",
       "        text-align: right;\n",
       "    }\n",
       "</style>\n",
       "<table border=\"1\" class=\"dataframe\">\n",
       "  <thead>\n",
       "    <tr style=\"text-align: right;\">\n",
       "      <th></th>\n",
       "      <th>angle</th>\n",
       "      <th>distance</th>\n",
       "      <th>image_x</th>\n",
       "      <th>image_y</th>\n",
       "      <th>n_votes</th>\n",
       "      <th>spread</th>\n",
       "      <th>version</th>\n",
       "      <th>vote_ratio</th>\n",
       "      <th>x</th>\n",
       "      <th>x_angle</th>\n",
       "      <th>...</th>\n",
       "      <th>y_angle</th>\n",
       "      <th>l_s</th>\n",
       "      <th>north_azimuth</th>\n",
       "      <th>map_scale</th>\n",
       "      <th>BodyFixedCoordinateX</th>\n",
       "      <th>BodyFixedCoordinateY</th>\n",
       "      <th>BodyFixedCoordinateZ</th>\n",
       "      <th>PlanetocentricLatitude</th>\n",
       "      <th>PlanetographicLatitude</th>\n",
       "      <th>PositiveEast360Longitude</th>\n",
       "    </tr>\n",
       "    <tr>\n",
       "      <th>marking_id</th>\n",
       "      <th></th>\n",
       "      <th></th>\n",
       "      <th></th>\n",
       "      <th></th>\n",
       "      <th></th>\n",
       "      <th></th>\n",
       "      <th></th>\n",
       "      <th></th>\n",
       "      <th></th>\n",
       "      <th></th>\n",
       "      <th></th>\n",
       "      <th></th>\n",
       "      <th></th>\n",
       "      <th></th>\n",
       "      <th></th>\n",
       "      <th></th>\n",
       "      <th></th>\n",
       "      <th></th>\n",
       "      <th></th>\n",
       "      <th></th>\n",
       "      <th></th>\n",
       "    </tr>\n",
       "  </thead>\n",
       "  <tbody>\n",
       "    <tr>\n",
       "      <th>F000000</th>\n",
       "      <td>205.56</td>\n",
       "      <td>179.71</td>\n",
       "      <td>2270.76</td>\n",
       "      <td>24336.16</td>\n",
       "      <td>35</td>\n",
       "      <td>88.03</td>\n",
       "      <td>1</td>\n",
       "      <td>1.00</td>\n",
       "      <td>790.76</td>\n",
       "      <td>-0.90</td>\n",
       "      <td>...</td>\n",
       "      <td>-0.43</td>\n",
       "      <td>214.785</td>\n",
       "      <td>126.856883</td>\n",
       "      <td>1.0</td>\n",
       "      <td>-65.804336</td>\n",
       "      <td>261.407884</td>\n",
       "      <td>-3370.504345</td>\n",
       "      <td>-85.427383</td>\n",
       "      <td>-85.480830</td>\n",
       "      <td>104.129523</td>\n",
       "    </tr>\n",
       "    <tr>\n",
       "      <th>F000001</th>\n",
       "      <td>185.39</td>\n",
       "      <td>179.62</td>\n",
       "      <td>3391.21</td>\n",
       "      <td>5640.60</td>\n",
       "      <td>15</td>\n",
       "      <td>21.35</td>\n",
       "      <td>1</td>\n",
       "      <td>1.00</td>\n",
       "      <td>431.21</td>\n",
       "      <td>-1.00</td>\n",
       "      <td>...</td>\n",
       "      <td>-0.09</td>\n",
       "      <td>214.785</td>\n",
       "      <td>126.856883</td>\n",
       "      <td>1.0</td>\n",
       "      <td>-67.219114</td>\n",
       "      <td>257.011589</td>\n",
       "      <td>-3370.631413</td>\n",
       "      <td>-85.493546</td>\n",
       "      <td>-85.546226</td>\n",
       "      <td>104.656897</td>\n",
       "    </tr>\n",
       "    <tr>\n",
       "      <th>F000002</th>\n",
       "      <td>184.98</td>\n",
       "      <td>500.27</td>\n",
       "      <td>3509.96</td>\n",
       "      <td>5876.70</td>\n",
       "      <td>10</td>\n",
       "      <td>18.91</td>\n",
       "      <td>1</td>\n",
       "      <td>1.00</td>\n",
       "      <td>549.96</td>\n",
       "      <td>-1.00</td>\n",
       "      <td>...</td>\n",
       "      <td>-0.09</td>\n",
       "      <td>214.785</td>\n",
       "      <td>126.856883</td>\n",
       "      <td>1.0</td>\n",
       "      <td>-67.170611</td>\n",
       "      <td>257.055226</td>\n",
       "      <td>-3370.630794</td>\n",
       "      <td>-85.493039</td>\n",
       "      <td>-85.545725</td>\n",
       "      <td>104.644396</td>\n",
       "    </tr>\n",
       "    <tr>\n",
       "      <th>F000004</th>\n",
       "      <td>184.29</td>\n",
       "      <td>105.43</td>\n",
       "      <td>3716.27</td>\n",
       "      <td>5824.50</td>\n",
       "      <td>6</td>\n",
       "      <td>26.41</td>\n",
       "      <td>1</td>\n",
       "      <td>0.68</td>\n",
       "      <td>756.27</td>\n",
       "      <td>-1.00</td>\n",
       "      <td>...</td>\n",
       "      <td>-0.07</td>\n",
       "      <td>214.785</td>\n",
       "      <td>126.856883</td>\n",
       "      <td>1.0</td>\n",
       "      <td>-67.127761</td>\n",
       "      <td>257.024926</td>\n",
       "      <td>-3370.635002</td>\n",
       "      <td>-85.493723</td>\n",
       "      <td>-85.546401</td>\n",
       "      <td>104.637107</td>\n",
       "    </tr>\n",
       "    <tr>\n",
       "      <th>F000005</th>\n",
       "      <td>189.42</td>\n",
       "      <td>109.50</td>\n",
       "      <td>3452.17</td>\n",
       "      <td>6033.00</td>\n",
       "      <td>3</td>\n",
       "      <td>22.58</td>\n",
       "      <td>1</td>\n",
       "      <td>0.51</td>\n",
       "      <td>492.17</td>\n",
       "      <td>-0.99</td>\n",
       "      <td>...</td>\n",
       "      <td>-0.16</td>\n",
       "      <td>214.785</td>\n",
       "      <td>126.856883</td>\n",
       "      <td>1.0</td>\n",
       "      <td>-67.169940</td>\n",
       "      <td>257.096267</td>\n",
       "      <td>-3370.628302</td>\n",
       "      <td>-85.492368</td>\n",
       "      <td>-85.545061</td>\n",
       "      <td>104.642019</td>\n",
       "    </tr>\n",
       "  </tbody>\n",
       "</table>\n",
       "<p>5 rows × 21 columns</p>\n",
       "</div>"
      ],
      "text/plain": [
       "             angle  distance  image_x   image_y  n_votes  spread  version  \\\n",
       "marking_id                                                                  \n",
       "F000000     205.56    179.71  2270.76  24336.16       35   88.03        1   \n",
       "F000001     185.39    179.62  3391.21   5640.60       15   21.35        1   \n",
       "F000002     184.98    500.27  3509.96   5876.70       10   18.91        1   \n",
       "F000004     184.29    105.43  3716.27   5824.50        6   26.41        1   \n",
       "F000005     189.42    109.50  3452.17   6033.00        3   22.58        1   \n",
       "\n",
       "            vote_ratio       x  x_angle            ...             y_angle  \\\n",
       "marking_id                                         ...                       \n",
       "F000000           1.00  790.76    -0.90            ...               -0.43   \n",
       "F000001           1.00  431.21    -1.00            ...               -0.09   \n",
       "F000002           1.00  549.96    -1.00            ...               -0.09   \n",
       "F000004           0.68  756.27    -1.00            ...               -0.07   \n",
       "F000005           0.51  492.17    -0.99            ...               -0.16   \n",
       "\n",
       "                l_s  north_azimuth  map_scale  BodyFixedCoordinateX  \\\n",
       "marking_id                                                            \n",
       "F000000     214.785     126.856883        1.0            -65.804336   \n",
       "F000001     214.785     126.856883        1.0            -67.219114   \n",
       "F000002     214.785     126.856883        1.0            -67.170611   \n",
       "F000004     214.785     126.856883        1.0            -67.127761   \n",
       "F000005     214.785     126.856883        1.0            -67.169940   \n",
       "\n",
       "            BodyFixedCoordinateY  BodyFixedCoordinateZ  \\\n",
       "marking_id                                               \n",
       "F000000               261.407884          -3370.504345   \n",
       "F000001               257.011589          -3370.631413   \n",
       "F000002               257.055226          -3370.630794   \n",
       "F000004               257.024926          -3370.635002   \n",
       "F000005               257.096267          -3370.628302   \n",
       "\n",
       "            PlanetocentricLatitude  PlanetographicLatitude  \\\n",
       "marking_id                                                   \n",
       "F000000                 -85.427383              -85.480830   \n",
       "F000001                 -85.493546              -85.546226   \n",
       "F000002                 -85.493039              -85.545725   \n",
       "F000004                 -85.493723              -85.546401   \n",
       "F000005                 -85.492368              -85.545061   \n",
       "\n",
       "            PositiveEast360Longitude  \n",
       "marking_id                            \n",
       "F000000                   104.129523  \n",
       "F000001                   104.656897  \n",
       "F000002                   104.644396  \n",
       "F000004                   104.637107  \n",
       "F000005                   104.642019  \n",
       "\n",
       "[5 rows x 21 columns]"
      ]
     },
     "execution_count": 113,
     "metadata": {},
     "output_type": "execute_result"
    }
   ],
   "source": [
    "mean_fans.head()"
   ]
  },
  {
   "cell_type": "code",
   "execution_count": 175,
   "metadata": {
    "ExecuteTime": {
     "end_time": "2018-09-29T00:56:07.372025Z",
     "start_time": "2018-09-29T00:56:06.959895Z"
    }
   },
   "outputs": [
    {
     "data": {
      "text/plain": [
       "(158473, 23)"
      ]
     },
     "execution_count": 175,
     "metadata": {},
     "output_type": "execute_result"
    }
   ],
   "source": [
    "mean_fans = mean_fans.join(fans.drop_duplicates(subset='marking_id').set_index('marking_id')[['tile_id', 'obsid']],\n",
    "                           how='inner')\n",
    "mean_fans.shape"
   ]
  },
  {
   "cell_type": "code",
   "execution_count": 178,
   "metadata": {
    "ExecuteTime": {
     "end_time": "2018-09-29T00:56:40.569624Z",
     "start_time": "2018-09-29T00:56:40.513331Z"
    }
   },
   "outputs": [],
   "source": [
    "mean_fans.reset_index(inplace=True)"
   ]
  },
  {
   "cell_type": "code",
   "execution_count": 179,
   "metadata": {
    "ExecuteTime": {
     "end_time": "2018-09-29T00:56:42.961499Z",
     "start_time": "2018-09-29T00:56:42.920548Z"
    }
   },
   "outputs": [
    {
     "data": {
      "text/plain": [
       "-0.005110272652507738"
      ]
     },
     "execution_count": 179,
     "metadata": {},
     "output_type": "execute_result"
    }
   ],
   "source": [
    "(mean_fans.shape[0]-fans.shape[0])/fans.shape[0]"
   ]
  },
  {
   "cell_type": "code",
   "execution_count": 181,
   "metadata": {
    "ExecuteTime": {
     "end_time": "2018-09-29T00:59:01.880505Z",
     "start_time": "2018-09-29T00:58:56.542081Z"
    }
   },
   "outputs": [],
   "source": [
    "mean_fans[fans.columns].to_csv(newfanfname, index=False)"
   ]
  },
  {
   "cell_type": "code",
   "execution_count": 182,
   "metadata": {
    "ExecuteTime": {
     "end_time": "2018-09-29T00:59:52.340578Z",
     "start_time": "2018-09-29T00:59:52.290846Z"
    }
   },
   "outputs": [
    {
     "data": {
      "text/plain": [
       "(158473, 24)"
      ]
     },
     "execution_count": 182,
     "metadata": {},
     "output_type": "execute_result"
    }
   ],
   "source": [
    "mean_fans.shape"
   ]
  },
  {
   "cell_type": "code",
   "execution_count": 183,
   "metadata": {
    "ExecuteTime": {
     "end_time": "2018-09-29T00:59:54.718685Z",
     "start_time": "2018-09-29T00:59:54.652293Z"
    }
   },
   "outputs": [
    {
     "data": {
      "text/plain": [
       "(159287, 24)"
      ]
     },
     "execution_count": 183,
     "metadata": {},
     "output_type": "execute_result"
    }
   ],
   "source": [
    "fans.shape"
   ]
  },
  {
   "cell_type": "code",
   "execution_count": null,
   "metadata": {},
   "outputs": [],
   "source": []
  }
 ],
 "metadata": {
  "kernelspec": {
   "display_name": "Python [conda env:py36]",
   "language": "python",
   "name": "conda-env-py36-py"
  },
  "language_info": {
   "codemirror_mode": {
    "name": "ipython",
    "version": 3
   },
   "file_extension": ".py",
   "mimetype": "text/x-python",
   "name": "python",
   "nbconvert_exporter": "python",
   "pygments_lexer": "ipython3",
   "version": "3.6.6"
  },
  "toc": {
   "base_numbering": 1,
   "nav_menu": {},
   "number_sections": true,
   "sideBar": true,
   "skip_h1_title": false,
   "title_cell": "Table of Contents",
   "title_sidebar": "Contents",
   "toc_cell": true,
   "toc_position": {},
   "toc_section_display": true,
   "toc_window_display": false
  },
  "varInspector": {
   "cols": {
    "lenName": 16,
    "lenType": 16,
    "lenVar": 40
   },
   "kernels_config": {
    "python": {
     "delete_cmd_postfix": "",
     "delete_cmd_prefix": "del ",
     "library": "var_list.py",
     "varRefreshCmd": "print(var_dic_list())"
    },
    "r": {
     "delete_cmd_postfix": ") ",
     "delete_cmd_prefix": "rm(",
     "library": "var_list.r",
     "varRefreshCmd": "cat(var_dic_list()) "
    }
   },
   "types_to_exclude": [
    "module",
    "function",
    "builtin_function_or_method",
    "instance",
    "_Feature"
   ],
   "window_display": false
  }
 },
 "nbformat": 4,
 "nbformat_minor": 2
}
