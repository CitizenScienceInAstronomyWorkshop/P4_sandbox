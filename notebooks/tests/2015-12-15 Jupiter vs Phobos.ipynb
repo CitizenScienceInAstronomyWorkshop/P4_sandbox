{
 "cells": [
  {
   "cell_type": "code",
   "execution_count": 1,
   "metadata": {
    "collapsed": false
   },
   "outputs": [
    {
     "data": {
      "text/latex": [
       "$784.10912 \\; \\mathrm{\\frac{m^{3}}{s^{2}}}$"
      ],
      "text/plain": [
       "<Quantity 784.1091201617037 m3 / s2>"
      ]
     },
     "execution_count": 1,
     "metadata": {},
     "output_type": "execute_result"
    }
   ],
   "source": [
    "from astropy.constants import G, M_jup, M_earth, M_sun\n",
    "M_mars = 6.39e23\n",
    "\n",
    "def F_g(m1, m2, r):\n",
    "    return G*m1*m2/(r**2)\n",
    "\n",
    "F_g(80, M_earth, 6378000)"
   ]
  },
  {
   "cell_type": "code",
   "execution_count": 2,
   "metadata": {
    "collapsed": true
   },
   "outputs": [],
   "source": [
    "r_jup_sun = 483800000*1.6"
   ]
  },
  {
   "cell_type": "code",
   "execution_count": 3,
   "metadata": {
    "collapsed": false
   },
   "outputs": [
    {
     "data": {
      "text/plain": [
       "774080000.0"
      ]
     },
     "execution_count": 3,
     "metadata": {},
     "output_type": "execute_result"
    }
   ],
   "source": [
    "r_jup_sun"
   ]
  },
  {
   "cell_type": "code",
   "execution_count": 4,
   "metadata": {
    "collapsed": true
   },
   "outputs": [],
   "source": [
    "r_mars_sun = 141600000*1.6"
   ]
  },
  {
   "cell_type": "code",
   "execution_count": 5,
   "metadata": {
    "collapsed": true
   },
   "outputs": [],
   "source": [
    "r_delta = r_jup_sun - r_mars_sun"
   ]
  },
  {
   "cell_type": "code",
   "execution_count": 6,
   "metadata": {
    "collapsed": false
   },
   "outputs": [
    {
     "data": {
      "text/plain": [
       "547520000.0"
      ]
     },
     "execution_count": 6,
     "metadata": {},
     "output_type": "execute_result"
    }
   ],
   "source": [
    "r_delta"
   ]
  },
  {
   "cell_type": "code",
   "execution_count": 7,
   "metadata": {
    "collapsed": false
   },
   "outputs": [
    {
     "data": {
      "text/latex": [
       "$2.7010525 \\times 10^{17} \\; \\mathrm{\\frac{m^{3}}{s^{2}}}$"
      ],
      "text/plain": [
       "<Quantity 2.7010524864163014e+17 m3 / s2>"
      ]
     },
     "execution_count": 7,
     "metadata": {},
     "output_type": "execute_result"
    }
   ],
   "source": [
    "F_g(M_jup, M_mars, r_delta*1e3)"
   ]
  },
  {
   "cell_type": "code",
   "execution_count": 8,
   "metadata": {
    "collapsed": true
   },
   "outputs": [],
   "source": [
    "M_phobos = 1.08e+16"
   ]
  },
  {
   "cell_type": "code",
   "execution_count": 29,
   "metadata": {
    "collapsed": true
   },
   "outputs": [],
   "source": [
    "r_phobos_mars = 9380*1e3"
   ]
  },
  {
   "cell_type": "code",
   "execution_count": 10,
   "metadata": {
    "collapsed": false
   },
   "outputs": [
    {
     "data": {
      "text/latex": [
       "$5.2347353 \\times 10^{15} \\; \\mathrm{\\frac{m^{3}}{kg\\,s^{2}}}$"
      ],
      "text/plain": [
       "<Quantity 5234735317624488.0 m3 / (kg s2)>"
      ]
     },
     "execution_count": 10,
     "metadata": {},
     "output_type": "execute_result"
    }
   ],
   "source": [
    "F_g(M_mars, M_phobos, r_phobos_mars*1e3)"
   ]
  },
  {
   "cell_type": "code",
   "execution_count": 11,
   "metadata": {
    "collapsed": true
   },
   "outputs": [],
   "source": [
    "from planetpy.constants import mars, jupiter"
   ]
  },
  {
   "cell_type": "code",
   "execution_count": 13,
   "metadata": {
    "collapsed": false
   },
   "outputs": [],
   "source": [
    "from planetpy import constants"
   ]
  },
  {
   "cell_type": "code",
   "execution_count": 17,
   "metadata": {
    "collapsed": false
   },
   "outputs": [
    {
     "data": {
      "text/html": [
       "<div>\n",
       "<table border=\"1\" class=\"dataframe\">\n",
       "  <thead>\n",
       "    <tr style=\"text-align: right;\">\n",
       "      <th></th>\n",
       "      <th>Mass (10^24kg)</th>\n",
       "      <th>Diameter (km)</th>\n",
       "      <th>Density (kg/m3)</th>\n",
       "      <th>Gravity (m/s2)</th>\n",
       "      <th>Escape Velocity (km/s)</th>\n",
       "      <th>Rotation Period (hours)</th>\n",
       "      <th>Length of Day (hours)</th>\n",
       "      <th>Distance from Sun (10^6 km)</th>\n",
       "      <th>Perihelion (10^6 km)</th>\n",
       "      <th>Aphelion (10^6 km)</th>\n",
       "      <th>Orbital Period (days)</th>\n",
       "      <th>Orbital Velocity (km/s)</th>\n",
       "      <th>Orbital Inclination (degrees)</th>\n",
       "      <th>Orbital Eccentricity</th>\n",
       "      <th>Obliquity to Orbit (degrees)</th>\n",
       "      <th>Mean Temperature (C)</th>\n",
       "      <th>Surface Pressure (bars)</th>\n",
       "      <th>Number of Moons</th>\n",
       "      <th>Ring System?</th>\n",
       "      <th>Global Magnetic Field?</th>\n",
       "    </tr>\n",
       "  </thead>\n",
       "  <tbody>\n",
       "    <tr>\n",
       "      <th>MERCURY</th>\n",
       "      <td>0.3300</td>\n",
       "      <td>4879</td>\n",
       "      <td>5427</td>\n",
       "      <td>3.7</td>\n",
       "      <td>4.3</td>\n",
       "      <td>1407.6</td>\n",
       "      <td>4222.6</td>\n",
       "      <td>57.900</td>\n",
       "      <td>46.000</td>\n",
       "      <td>69.800</td>\n",
       "      <td>88.0</td>\n",
       "      <td>47.4</td>\n",
       "      <td>7.0</td>\n",
       "      <td>0.205</td>\n",
       "      <td>0.01</td>\n",
       "      <td>167</td>\n",
       "      <td>0.00</td>\n",
       "      <td>0</td>\n",
       "      <td>0</td>\n",
       "      <td>1</td>\n",
       "    </tr>\n",
       "    <tr>\n",
       "      <th>VENUS</th>\n",
       "      <td>4.8700</td>\n",
       "      <td>12104</td>\n",
       "      <td>5243</td>\n",
       "      <td>8.9</td>\n",
       "      <td>10.4</td>\n",
       "      <td>-5832.5</td>\n",
       "      <td>2802.0</td>\n",
       "      <td>108.200</td>\n",
       "      <td>107.500</td>\n",
       "      <td>108.900</td>\n",
       "      <td>224.7</td>\n",
       "      <td>35.0</td>\n",
       "      <td>3.4</td>\n",
       "      <td>0.007</td>\n",
       "      <td>177.40</td>\n",
       "      <td>464</td>\n",
       "      <td>92.00</td>\n",
       "      <td>0</td>\n",
       "      <td>0</td>\n",
       "      <td>0</td>\n",
       "    </tr>\n",
       "    <tr>\n",
       "      <th>EARTH</th>\n",
       "      <td>5.9700</td>\n",
       "      <td>12756</td>\n",
       "      <td>5514</td>\n",
       "      <td>9.8</td>\n",
       "      <td>11.2</td>\n",
       "      <td>23.9</td>\n",
       "      <td>24.0</td>\n",
       "      <td>149.600</td>\n",
       "      <td>147.100</td>\n",
       "      <td>152.100</td>\n",
       "      <td>365.2</td>\n",
       "      <td>29.8</td>\n",
       "      <td>0.0</td>\n",
       "      <td>0.017</td>\n",
       "      <td>23.40</td>\n",
       "      <td>15</td>\n",
       "      <td>1.00</td>\n",
       "      <td>1</td>\n",
       "      <td>0</td>\n",
       "      <td>1</td>\n",
       "    </tr>\n",
       "    <tr>\n",
       "      <th>MOON</th>\n",
       "      <td>0.0730</td>\n",
       "      <td>3475</td>\n",
       "      <td>3340</td>\n",
       "      <td>1.6</td>\n",
       "      <td>2.4</td>\n",
       "      <td>655.7</td>\n",
       "      <td>708.7</td>\n",
       "      <td>0.384</td>\n",
       "      <td>0.363</td>\n",
       "      <td>0.406</td>\n",
       "      <td>27.3</td>\n",
       "      <td>1.0</td>\n",
       "      <td>5.1</td>\n",
       "      <td>0.055</td>\n",
       "      <td>6.70</td>\n",
       "      <td>-20</td>\n",
       "      <td>0.00</td>\n",
       "      <td>0</td>\n",
       "      <td>0</td>\n",
       "      <td>0</td>\n",
       "    </tr>\n",
       "    <tr>\n",
       "      <th>MARS</th>\n",
       "      <td>0.6420</td>\n",
       "      <td>6792</td>\n",
       "      <td>3933</td>\n",
       "      <td>3.7</td>\n",
       "      <td>5.0</td>\n",
       "      <td>24.6</td>\n",
       "      <td>24.7</td>\n",
       "      <td>227.900</td>\n",
       "      <td>206.600</td>\n",
       "      <td>249.200</td>\n",
       "      <td>687.0</td>\n",
       "      <td>24.1</td>\n",
       "      <td>1.9</td>\n",
       "      <td>0.094</td>\n",
       "      <td>25.20</td>\n",
       "      <td>-65</td>\n",
       "      <td>0.01</td>\n",
       "      <td>2</td>\n",
       "      <td>0</td>\n",
       "      <td>0</td>\n",
       "    </tr>\n",
       "    <tr>\n",
       "      <th>JUPITER</th>\n",
       "      <td>1898.0000</td>\n",
       "      <td>142984</td>\n",
       "      <td>1326</td>\n",
       "      <td>23.1</td>\n",
       "      <td>59.5</td>\n",
       "      <td>9.9</td>\n",
       "      <td>9.9</td>\n",
       "      <td>778.600</td>\n",
       "      <td>740.500</td>\n",
       "      <td>816.600</td>\n",
       "      <td>4331.0</td>\n",
       "      <td>13.1</td>\n",
       "      <td>1.3</td>\n",
       "      <td>0.049</td>\n",
       "      <td>3.10</td>\n",
       "      <td>-110</td>\n",
       "      <td>NaN</td>\n",
       "      <td>67</td>\n",
       "      <td>1</td>\n",
       "      <td>1</td>\n",
       "    </tr>\n",
       "    <tr>\n",
       "      <th>SATURN</th>\n",
       "      <td>568.0000</td>\n",
       "      <td>120536</td>\n",
       "      <td>687</td>\n",
       "      <td>9.0</td>\n",
       "      <td>35.5</td>\n",
       "      <td>10.7</td>\n",
       "      <td>10.7</td>\n",
       "      <td>1433.500</td>\n",
       "      <td>1352.600</td>\n",
       "      <td>1514.500</td>\n",
       "      <td>10747.0</td>\n",
       "      <td>9.7</td>\n",
       "      <td>2.5</td>\n",
       "      <td>0.057</td>\n",
       "      <td>26.70</td>\n",
       "      <td>-140</td>\n",
       "      <td>NaN</td>\n",
       "      <td>62</td>\n",
       "      <td>1</td>\n",
       "      <td>1</td>\n",
       "    </tr>\n",
       "    <tr>\n",
       "      <th>URANUS</th>\n",
       "      <td>86.8000</td>\n",
       "      <td>51118</td>\n",
       "      <td>1271</td>\n",
       "      <td>8.7</td>\n",
       "      <td>21.3</td>\n",
       "      <td>-17.2</td>\n",
       "      <td>17.2</td>\n",
       "      <td>2872.500</td>\n",
       "      <td>2741.300</td>\n",
       "      <td>3003.600</td>\n",
       "      <td>30589.0</td>\n",
       "      <td>6.8</td>\n",
       "      <td>0.8</td>\n",
       "      <td>0.046</td>\n",
       "      <td>97.80</td>\n",
       "      <td>-195</td>\n",
       "      <td>NaN</td>\n",
       "      <td>27</td>\n",
       "      <td>1</td>\n",
       "      <td>1</td>\n",
       "    </tr>\n",
       "    <tr>\n",
       "      <th>NEPTUNE</th>\n",
       "      <td>102.0000</td>\n",
       "      <td>49528</td>\n",
       "      <td>1638</td>\n",
       "      <td>11.0</td>\n",
       "      <td>23.5</td>\n",
       "      <td>16.1</td>\n",
       "      <td>16.1</td>\n",
       "      <td>4495.100</td>\n",
       "      <td>4444.500</td>\n",
       "      <td>4545.700</td>\n",
       "      <td>59800.0</td>\n",
       "      <td>5.4</td>\n",
       "      <td>1.8</td>\n",
       "      <td>0.011</td>\n",
       "      <td>28.30</td>\n",
       "      <td>-200</td>\n",
       "      <td>NaN</td>\n",
       "      <td>14</td>\n",
       "      <td>1</td>\n",
       "      <td>1</td>\n",
       "    </tr>\n",
       "    <tr>\n",
       "      <th>PLUTO</th>\n",
       "      <td>0.0146</td>\n",
       "      <td>2370</td>\n",
       "      <td>2095</td>\n",
       "      <td>0.7</td>\n",
       "      <td>1.3</td>\n",
       "      <td>-153.3</td>\n",
       "      <td>153.3</td>\n",
       "      <td>5906.400</td>\n",
       "      <td>4436.800</td>\n",
       "      <td>7375.900</td>\n",
       "      <td>90560.0</td>\n",
       "      <td>4.7</td>\n",
       "      <td>17.2</td>\n",
       "      <td>0.244</td>\n",
       "      <td>122.50</td>\n",
       "      <td>-225</td>\n",
       "      <td>0.00</td>\n",
       "      <td>5</td>\n",
       "      <td>0</td>\n",
       "      <td>NaN</td>\n",
       "    </tr>\n",
       "  </tbody>\n",
       "</table>\n",
       "</div>"
      ],
      "text/plain": [
       "         Mass (10^24kg)  Diameter (km)  Density (kg/m3)  Gravity (m/s2)  \\\n",
       "MERCURY          0.3300           4879             5427             3.7   \n",
       "VENUS            4.8700          12104             5243             8.9   \n",
       "EARTH            5.9700          12756             5514             9.8   \n",
       "MOON             0.0730           3475             3340             1.6   \n",
       "MARS             0.6420           6792             3933             3.7   \n",
       "JUPITER       1898.0000         142984             1326            23.1   \n",
       "SATURN         568.0000         120536              687             9.0   \n",
       "URANUS          86.8000          51118             1271             8.7   \n",
       "NEPTUNE        102.0000          49528             1638            11.0   \n",
       "PLUTO            0.0146           2370             2095             0.7   \n",
       "\n",
       "         Escape Velocity (km/s)  Rotation Period (hours)  \\\n",
       "MERCURY                     4.3                   1407.6   \n",
       "VENUS                      10.4                  -5832.5   \n",
       "EARTH                      11.2                     23.9   \n",
       "MOON                        2.4                    655.7   \n",
       "MARS                        5.0                     24.6   \n",
       "JUPITER                    59.5                      9.9   \n",
       "SATURN                     35.5                     10.7   \n",
       "URANUS                     21.3                    -17.2   \n",
       "NEPTUNE                    23.5                     16.1   \n",
       "PLUTO                       1.3                   -153.3   \n",
       "\n",
       "         Length of Day (hours)  Distance from Sun (10^6 km)  \\\n",
       "MERCURY                 4222.6                       57.900   \n",
       "VENUS                   2802.0                      108.200   \n",
       "EARTH                     24.0                      149.600   \n",
       "MOON                     708.7                        0.384   \n",
       "MARS                      24.7                      227.900   \n",
       "JUPITER                    9.9                      778.600   \n",
       "SATURN                    10.7                     1433.500   \n",
       "URANUS                    17.2                     2872.500   \n",
       "NEPTUNE                   16.1                     4495.100   \n",
       "PLUTO                    153.3                     5906.400   \n",
       "\n",
       "         Perihelion (10^6 km)  Aphelion (10^6 km)  Orbital Period (days)  \\\n",
       "MERCURY                46.000              69.800                   88.0   \n",
       "VENUS                 107.500             108.900                  224.7   \n",
       "EARTH                 147.100             152.100                  365.2   \n",
       "MOON                    0.363               0.406                   27.3   \n",
       "MARS                  206.600             249.200                  687.0   \n",
       "JUPITER               740.500             816.600                 4331.0   \n",
       "SATURN               1352.600            1514.500                10747.0   \n",
       "URANUS               2741.300            3003.600                30589.0   \n",
       "NEPTUNE              4444.500            4545.700                59800.0   \n",
       "PLUTO                4436.800            7375.900                90560.0   \n",
       "\n",
       "         Orbital Velocity (km/s)  Orbital Inclination (degrees)  \\\n",
       "MERCURY                     47.4                            7.0   \n",
       "VENUS                       35.0                            3.4   \n",
       "EARTH                       29.8                            0.0   \n",
       "MOON                         1.0                            5.1   \n",
       "MARS                        24.1                            1.9   \n",
       "JUPITER                     13.1                            1.3   \n",
       "SATURN                       9.7                            2.5   \n",
       "URANUS                       6.8                            0.8   \n",
       "NEPTUNE                      5.4                            1.8   \n",
       "PLUTO                        4.7                           17.2   \n",
       "\n",
       "         Orbital Eccentricity  Obliquity to Orbit (degrees)  \\\n",
       "MERCURY                 0.205                          0.01   \n",
       "VENUS                   0.007                        177.40   \n",
       "EARTH                   0.017                         23.40   \n",
       "MOON                    0.055                          6.70   \n",
       "MARS                    0.094                         25.20   \n",
       "JUPITER                 0.049                          3.10   \n",
       "SATURN                  0.057                         26.70   \n",
       "URANUS                  0.046                         97.80   \n",
       "NEPTUNE                 0.011                         28.30   \n",
       "PLUTO                   0.244                        122.50   \n",
       "\n",
       "         Mean Temperature (C)  Surface Pressure (bars)  Number of Moons  \\\n",
       "MERCURY                   167                     0.00                0   \n",
       "VENUS                     464                    92.00                0   \n",
       "EARTH                      15                     1.00                1   \n",
       "MOON                      -20                     0.00                0   \n",
       "MARS                      -65                     0.01                2   \n",
       "JUPITER                  -110                      NaN               67   \n",
       "SATURN                   -140                      NaN               62   \n",
       "URANUS                   -195                      NaN               27   \n",
       "NEPTUNE                  -200                      NaN               14   \n",
       "PLUTO                    -225                     0.00                5   \n",
       "\n",
       "         Ring System?  Global Magnetic Field?  \n",
       "MERCURY             0                       1  \n",
       "VENUS               0                       0  \n",
       "EARTH               0                       1  \n",
       "MOON                0                       0  \n",
       "MARS                0                       0  \n",
       "JUPITER             1                       1  \n",
       "SATURN              1                       1  \n",
       "URANUS              1                       1  \n",
       "NEPTUNE             1                       1  \n",
       "PLUTO               0                     NaN  "
      ]
     },
     "execution_count": 17,
     "metadata": {},
     "output_type": "execute_result"
    }
   ],
   "source": [
    "constants.planets_pretty"
   ]
  },
  {
   "cell_type": "code",
   "execution_count": 18,
   "metadata": {
    "collapsed": false
   },
   "outputs": [
    {
     "data": {
      "text/plain": [
       "1.08e+16"
      ]
     },
     "execution_count": 18,
     "metadata": {},
     "output_type": "execute_result"
    }
   ],
   "source": [
    "M_phobos"
   ]
  },
  {
   "cell_type": "code",
   "execution_count": 19,
   "metadata": {
    "collapsed": false
   },
   "outputs": [
    {
     "data": {
      "text/plain": [
       "9380"
      ]
     },
     "execution_count": 19,
     "metadata": {},
     "output_type": "execute_result"
    }
   ],
   "source": [
    "r_phobos_mars"
   ]
  },
  {
   "cell_type": "code",
   "execution_count": 26,
   "metadata": {
    "collapsed": false
   },
   "outputs": [],
   "source": [
    "r_delta = (jupiter['distance_from_sun'] - mars.distance_from_sun)*1e9"
   ]
  },
  {
   "cell_type": "code",
   "execution_count": 28,
   "metadata": {
    "collapsed": false
   },
   "outputs": [
    {
     "data": {
      "text/latex": [
       "$2.6814943 \\times 10^{17} \\; \\mathrm{\\frac{m^{3}}{kg\\,s^{2}}}$"
      ],
      "text/plain": [
       "<Quantity 2.681494273128915e+17 m3 / (kg s2)>"
      ]
     },
     "execution_count": 28,
     "metadata": {},
     "output_type": "execute_result"
    }
   ],
   "source": [
    "F_g(mars.mass*1e24, jupiter.mass*1e24, r_delta)"
   ]
  },
  {
   "cell_type": "code",
   "execution_count": 30,
   "metadata": {
    "collapsed": false
   },
   "outputs": [
    {
     "data": {
      "text/latex": [
       "$5.2593115 \\times 10^{15} \\; \\mathrm{\\frac{m^{3}}{kg\\,s^{2}}}$"
      ],
      "text/plain": [
       "<Quantity 5259311539772959.0 m3 / (kg s2)>"
      ]
     },
     "execution_count": 30,
     "metadata": {},
     "output_type": "execute_result"
    }
   ],
   "source": [
    "F_g(mars.mass*1e24, M_phobos, r_phobos_mars)"
   ]
  },
  {
   "cell_type": "code",
   "execution_count": 31,
   "metadata": {
    "collapsed": true
   },
   "outputs": [],
   "source": [
    "r_added = jupiter.distance_from_sun + mars.distance_from_sun"
   ]
  },
  {
   "cell_type": "code",
   "execution_count": 32,
   "metadata": {
    "collapsed": true
   },
   "outputs": [],
   "source": [
    "r_added = r_added *1e9"
   ]
  },
  {
   "cell_type": "code",
   "execution_count": 33,
   "metadata": {
    "collapsed": false
   },
   "outputs": [
    {
     "data": {
      "text/latex": [
       "$8.0274844 \\times 10^{16} \\; \\mathrm{\\frac{m^{3}}{kg\\,s^{2}}}$"
      ],
      "text/plain": [
       "<Quantity 8.027484363500139e+16 m3 / (kg s2)>"
      ]
     },
     "execution_count": 33,
     "metadata": {},
     "output_type": "execute_result"
    }
   ],
   "source": [
    "F_g(mars.mass*1e24, jupiter.mass*1e24, r_added)"
   ]
  },
  {
   "cell_type": "code",
   "execution_count": 34,
   "metadata": {
    "collapsed": false
   },
   "outputs": [
    {
     "data": {
      "text/plain": [
       "51.330798479087456"
      ]
     },
     "execution_count": 34,
     "metadata": {},
     "output_type": "execute_result"
    }
   ],
   "source": [
    "2.7e17/5.26e15"
   ]
  },
  {
   "cell_type": "code",
   "execution_count": 35,
   "metadata": {
    "collapsed": false
   },
   "outputs": [
    {
     "data": {
      "text/plain": [
       "3.363647689049458"
      ]
     },
     "execution_count": 35,
     "metadata": {},
     "output_type": "execute_result"
    }
   ],
   "source": [
    "2.7e17/8.027e16"
   ]
  },
  {
   "cell_type": "code",
   "execution_count": 36,
   "metadata": {
    "collapsed": false
   },
   "outputs": [
    {
     "data": {
      "text/plain": [
       "1.08e-08"
      ]
     },
     "execution_count": 36,
     "metadata": {},
     "output_type": "execute_result"
    }
   ],
   "source": [
    "M_phobos / 1e24"
   ]
  },
  {
   "cell_type": "code",
   "execution_count": 37,
   "metadata": {
    "collapsed": false
   },
   "outputs": [
    {
     "data": {
      "text/plain": [
       "175740740740.74072"
      ]
     },
     "execution_count": 37,
     "metadata": {},
     "output_type": "execute_result"
    }
   ],
   "source": [
    "jupiter.mass / _"
   ]
  },
  {
   "cell_type": "code",
   "execution_count": null,
   "metadata": {
    "collapsed": true
   },
   "outputs": [],
   "source": []
  }
 ],
 "metadata": {
  "kernelspec": {
   "display_name": "Python 3",
   "language": "python",
   "name": "python3"
  },
  "language_info": {
   "codemirror_mode": {
    "name": "ipython",
    "version": 3
   },
   "file_extension": ".py",
   "mimetype": "text/x-python",
   "name": "python",
   "nbconvert_exporter": "python",
   "pygments_lexer": "ipython3",
   "version": "3.5.1"
  }
 },
 "nbformat": 4,
 "nbformat_minor": 0
}
