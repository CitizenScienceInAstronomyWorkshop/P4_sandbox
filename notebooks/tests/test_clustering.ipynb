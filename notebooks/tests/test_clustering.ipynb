{
 "cells": [
  {
   "cell_type": "code",
   "execution_count": null,
   "metadata": {},
   "outputs": [],
   "source": [
    "# setup\n",
    "import planet4 as p4\n",
    "from planet4.dbscan import DBScanner\n",
    "from planet4 import io, markings\n",
    "import pandas as pd\n",
    "from pathlib import Path\n",
    "import pkg_resources as pr\n",
    "\n",
    "with pr.resource_stream('planet4', 'data/test_db.csv') as f:\n",
    "    data = pd.read_csv(f)\n",
    "\n",
    "# import warnings\n",
    "# with warnings.catch_warnings():\n",
    "#     warnings.filterwarnings(\"ignore\",category=DeprecationWarning)\n",
    "    \n",
    "from tempfile import TemporaryDirectory\n",
    "import tempfile\n",
    "\n",
    "_tdir = TemporaryDirectory()\n",
    "tdir = Path(_tdir.name)\n",
    "\n",
    "imid1 = 'APF000012w'\n",
    "imid2 = 'APF000012q'\n",
    "\n",
    "imid1data = data[data.image_id==imid1]\n",
    "imid2data = data[data.image_id==imid2]\n",
    "\n",
    "fans1 = imid1data[imid1data.marking=='fan']\n",
    "blotches1 = imid1data[imid1data.marking=='blotch']\n",
    "fans2 = imid2data[imid2data.marking=='fan']\n",
    "blotches2 = imid2data[imid2data.marking=='blotch']"
   ]
  },
  {
   "cell_type": "code",
   "execution_count": null,
   "metadata": {},
   "outputs": [],
   "source": [
    "dbscanner = DBScanner(save_results=False)"
   ]
  },
  {
   "cell_type": "code",
   "execution_count": null,
   "metadata": {},
   "outputs": [],
   "source": [
    "from planet4 import region_data"
   ]
  },
  {
   "cell_type": "code",
   "execution_count": null,
   "metadata": {},
   "outputs": [],
   "source": [
    "region_data.Ithaca.season2"
   ]
  },
  {
   "cell_type": "code",
   "execution_count": null,
   "metadata": {},
   "outputs": [],
   "source": [
    "obsid = region_data.Ithaca.season2[-1]\n",
    "dbscanner.cluster_image_name(obsid)"
   ]
  },
  {
   "cell_type": "code",
   "execution_count": null,
   "metadata": {},
   "outputs": [],
   "source": [
    "db = io.DBManager()"
   ]
  },
  {
   "cell_type": "code",
   "execution_count": null,
   "metadata": {},
   "outputs": [],
   "source": [
    "data = db.get_image_name_markings(obsid)"
   ]
  },
  {
   "cell_type": "code",
   "execution_count": null,
   "metadata": {},
   "outputs": [],
   "source": [
    "data.shape"
   ]
  },
  {
   "cell_type": "code",
   "execution_count": null,
   "metadata": {},
   "outputs": [],
   "source": [
    "db.dbname"
   ]
  },
  {
   "cell_type": "code",
   "execution_count": null,
   "metadata": {},
   "outputs": [],
   "source": [
    "dbscanner.eps_values"
   ]
  },
  {
   "cell_type": "code",
   "execution_count": null,
   "metadata": {},
   "outputs": [],
   "source": [
    "dbscanner.cluster_image_id('12w')"
   ]
  },
  {
   "cell_type": "code",
   "execution_count": null,
   "metadata": {},
   "outputs": [],
   "source": [
    "p4id = markings.ImageID('12w')"
   ]
  },
  {
   "cell_type": "code",
   "execution_count": null,
   "metadata": {},
   "outputs": [],
   "source": [
    "dbscanner.reduced_data['fan'].shape"
   ]
  },
  {
   "cell_type": "code",
   "execution_count": null,
   "metadata": {},
   "outputs": [],
   "source": [
    "%matplotlib inline"
   ]
  },
  {
   "cell_type": "code",
   "execution_count": null,
   "metadata": {},
   "outputs": [],
   "source": [
    "dbscanner.cluster_and_plot('17a', 'blotch')"
   ]
  },
  {
   "cell_type": "code",
   "execution_count": null,
   "metadata": {},
   "outputs": [],
   "source": [
    "dbscanner.parameter_scan('17a', 'fan', [0.1, 0.13], [50, 60, 70], size_to_scan='small')"
   ]
  },
  {
   "cell_type": "code",
   "execution_count": null,
   "metadata": {},
   "outputs": [],
   "source": [
    "dbscanner.save_results"
   ]
  },
  {
   "cell_type": "code",
   "execution_count": null,
   "metadata": {},
   "outputs": [],
   "source": [
    "# test_calc_fnotch\n",
    "actual = clustering.calc_fnotch(4, 4)\n",
    "assert actual == 0.5\n",
    "actual = clustering.calc_fnotch(4, 0)\n",
    "assert actual == 1\n",
    "actual = clustering.calc_fnotch(0, 4)\n",
    "assert actual == 0"
   ]
  },
  {
   "cell_type": "code",
   "execution_count": null,
   "metadata": {},
   "outputs": [],
   "source": [
    "# test_dbscan_xy_blotch\n",
    "\n",
    "# using only x and y (or image_x,image_y)\n",
    "coords = ['image_x','image_y']\n",
    "X = blotches1[coords].values\n",
    "dbscanner = clustering.DBScanner(X, min_samples=2)\n",
    "\n",
    "assert dbscanner.n_clusters == 26\n",
    "assert dbscanner.n_rejected == 25"
   ]
  },
  {
   "cell_type": "code",
   "execution_count": null,
   "metadata": {},
   "outputs": [],
   "source": [
    "# test_dbscan_xy_fan\n",
    "\n",
    "# using only x and y (or image_x,image_y)\n",
    "coords = ['image_x','image_y']\n",
    "X = fans1[coords].values\n",
    "dbscanner = clustering.DBScanner(X, min_samples=2)\n",
    "\n",
    "assert dbscanner.n_clusters == 7\n",
    "assert dbscanner.n_rejected == 11"
   ]
  },
  {
   "cell_type": "code",
   "execution_count": null,
   "metadata": {},
   "outputs": [],
   "source": [
    "# test_dbscan_xy_angle_blotch\n",
    "\n",
    "coords = ['image_x','image_y', 'angle']\n",
    "X = blotches1[coords].values\n",
    "dbscanner = clustering.DBScanner(X, min_samples=2)\n",
    "\n",
    "assert dbscanner.n_clusters == 35\n",
    "assert dbscanner.n_rejected == 102"
   ]
  },
  {
   "cell_type": "code",
   "execution_count": null,
   "metadata": {},
   "outputs": [],
   "source": [
    "# test_dbscan_xy_angle_fan\n",
    "\n",
    "coords = ['image_x','image_y', 'angle']\n",
    "X = fans1[coords].values\n",
    "dbscanner = clustering.DBScanner(X, min_samples=2)\n",
    "\n",
    "assert dbscanner.n_clusters == 6\n",
    "assert dbscanner.n_rejected == 15"
   ]
  },
  {
   "cell_type": "code",
   "execution_count": null,
   "metadata": {},
   "outputs": [],
   "source": [
    "# test_clustering_basics\n",
    "\n",
    "cm.cluster_image_id(imid1, data=imid1data)\n",
    "\n",
    "assert cm.n_classifications == 28"
   ]
  },
  {
   "cell_type": "code",
   "execution_count": null,
   "metadata": {},
   "outputs": [],
   "source": [
    "cm.cluster_image_id(imid2, data=imid2data)\n",
    "assert cm.n_classifications == 23\n",
    "\n",
    "for subdir in ['just_clustering']:  # 'applied_cut_0.5', \n",
    "    expected = tdir / subdir\n",
    "    assert expected.exists() and expected.is_dir()"
   ]
  },
  {
   "cell_type": "code",
   "execution_count": null,
   "metadata": {},
   "outputs": [],
   "source": [
    "# test_output_file_creation_just_clustering\n",
    "\n",
    "for marking in ['blotches', 'fans']:\n",
    "    expected = tdir / 'just_clustering' / (imid1 + '_' + marking + '.csv')\n",
    "    print()\n",
    "    assert expected.exists()\n",
    "\n",
    "for marking in ['blotches']:\n",
    "    expected = tdir / 'just_clustering' / (imid2 + '_' + marking + '.csv')\n",
    "    if marking == 'blotches':\n",
    "        assert expected.exists()\n",
    "    else: # 12q,i.e. imdid2 only has blotches\n",
    "        assert not expected.exists()"
   ]
  },
  {
   "cell_type": "markdown",
   "metadata": {},
   "source": [
    "##  same user rejection"
   ]
  },
  {
   "cell_type": "code",
   "execution_count": null,
   "metadata": {},
   "outputs": [],
   "source": [
    "s = \"\"\"\n",
    "x\ty\timage_x\timage_y\tangle\tspread\tdistance\tuser_name\tmarking\tclassification_id\n",
    "67.0\t320.0\t67.0\t27172.0\t90.0\t2.01745014480398\t10.0\ttest_user\tfan\t50ec9c10861cf8095600017b\n",
    "74.0\t318.0\t74.0\t27170.0\t90.0\t2.01745014480398\t10.0\ttest_user\tfan\t50ec9c10861cf8095600017b\n",
    "82.0\t336.0\t82.0\t27188.0\t90.0\t2.01745014480398\t10.0\ttest_user\tfan\t50ec9c10861cf8095600017b\n",
    "57.0\t310.0\t57.0\t27162.0\t90.0\t2.01745014480398\t10.0\ttest_user\tfan\t50ec9c10861cf8095600017b\n",
    "60.0\t315.0\t60.0\t27167.0\t35.21759296819272\t10.434250055350423\t41.617304093369626\ttest_user\tfan\t50ec9c10861cf8095600017b\n",
    "63.0\t307.0\t63.0\t27159.0\t62.38162109858792\t2.01745014480398\t437.89610639968015\ttest_user\tfan\t50ec9c10861cf8095600017b\n",
    "\"\"\""
   ]
  },
  {
   "cell_type": "code",
   "execution_count": null,
   "metadata": {},
   "outputs": [],
   "source": [
    "from io import StringIO"
   ]
  },
  {
   "cell_type": "code",
   "execution_count": null,
   "metadata": {},
   "outputs": [],
   "source": [
    "df = pd.read_table(StringIO(s))\n",
    "df"
   ]
  },
  {
   "cell_type": "code",
   "execution_count": null,
   "metadata": {},
   "outputs": [],
   "source": [
    "cm.data = df\n",
    "cm.pm.id_ = 'test_id'"
   ]
  },
  {
   "cell_type": "code",
   "execution_count": null,
   "metadata": {},
   "outputs": [],
   "source": [
    "cm.cluster_data()"
   ]
  },
  {
   "cell_type": "code",
   "execution_count": null,
   "metadata": {},
   "outputs": [],
   "source": [
    "cm.reduced_data['fan'][0]"
   ]
  },
  {
   "cell_type": "markdown",
   "metadata": {},
   "source": [
    "# some bug hunting"
   ]
  },
  {
   "cell_type": "code",
   "execution_count": null,
   "metadata": {},
   "outputs": [],
   "source": [
    "def hunt_bug(fname):\n",
    "    df = pd.read_csv(fname)\n",
    "    return (df[df.duplicated()].shape[0])"
   ]
  },
  {
   "cell_type": "code",
   "execution_count": null,
   "metadata": {},
   "outputs": [],
   "source": [
    "fnames = p.glob('*.csv')\n",
    "obsids = []\n",
    "no_of_dupes = []\n",
    "kind = []\n",
    "for fname in fnames:\n",
    "    tokens = fname.name.split('_')\n",
    "    if fname.name.startswith('ESP'):\n",
    "        obsids.append('_'.join(tokens[:3]))\n",
    "        kind.append(tokens[3].split('.')[0])\n",
    "    else:\n",
    "        obsids.append(tokens[0])\n",
    "        kind.append(tokens[1].split('.')[0])\n",
    "    no_of_dupes.append(hunt_bug(fname))"
   ]
  },
  {
   "cell_type": "code",
   "execution_count": null,
   "metadata": {},
   "outputs": [],
   "source": [
    "df = pd.DataFrame(dict(obsids=obsids, no_of_dupes=no_of_dupes,\n",
    "                       kind=kind))\n",
    "df"
   ]
  },
  {
   "cell_type": "code",
   "execution_count": null,
   "metadata": {},
   "outputs": [],
   "source": [
    "%matplotlib nbagg"
   ]
  },
  {
   "cell_type": "code",
   "execution_count": null,
   "metadata": {},
   "outputs": [],
   "source": [
    "db.get_image_id_markings('apx').iloc[0]"
   ]
  },
  {
   "cell_type": "code",
   "execution_count": null,
   "metadata": {},
   "outputs": [],
   "source": [
    "db.get_image_id_markings('ani').iloc[0]"
   ]
  },
  {
   "cell_type": "code",
   "execution_count": null,
   "metadata": {},
   "outputs": [],
   "source": [
    "plotting.plot_clustered_fans('apx', _dir=tdir)"
   ]
  },
  {
   "cell_type": "code",
   "execution_count": null,
   "metadata": {},
   "outputs": [],
   "source": [
    "plotting.plot_clustered_fans('ani', _dir=tdir)"
   ]
  },
  {
   "cell_type": "code",
   "execution_count": null,
   "metadata": {},
   "outputs": [],
   "source": [
    "plotting.plot_raw_fans('ani')"
   ]
  },
  {
   "cell_type": "code",
   "execution_count": null,
   "metadata": {},
   "outputs": [],
   "source": [
    "newblotches = cm.newblotches.apply(lambda x: x.store())"
   ]
  },
  {
   "cell_type": "code",
   "execution_count": null,
   "metadata": {},
   "outputs": [],
   "source": [
    "newblotches[newblotches.duplicated(keep=False)].head()"
   ]
  },
  {
   "cell_type": "code",
   "execution_count": null,
   "metadata": {},
   "outputs": [],
   "source": [
    "cm.pm.fnotchdf.head()"
   ]
  },
  {
   "cell_type": "code",
   "execution_count": null,
   "metadata": {},
   "outputs": [],
   "source": [
    "cm.pm.fnotchdf.filter(regex='_image_id').head()"
   ]
  },
  {
   "cell_type": "code",
   "execution_count": null,
   "metadata": {},
   "outputs": [],
   "source": [
    "cm.pm.fnotchdf.iloc[2:4].T"
   ]
  },
  {
   "cell_type": "code",
   "execution_count": null,
   "metadata": {},
   "outputs": [],
   "source": [
    "fn1 = markings.Fnotch.from_series(cm.pm.fnotchdf.iloc[2], scope='hirise')"
   ]
  },
  {
   "cell_type": "code",
   "execution_count": null,
   "metadata": {},
   "outputs": [],
   "source": [
    "fn2 = markings.Fnotch.from_series(cm.pm.fnotchdf.iloc[3], scope='hirise')"
   ]
  },
  {
   "cell_type": "code",
   "execution_count": null,
   "metadata": {},
   "outputs": [],
   "source": [
    "fn1.fan"
   ]
  },
  {
   "cell_type": "code",
   "execution_count": null,
   "metadata": {},
   "outputs": [],
   "source": [
    "fn2.fan"
   ]
  },
  {
   "cell_type": "code",
   "execution_count": null,
   "metadata": {},
   "outputs": [],
   "source": [
    "norm(fn1.fan.midpoint - fn2.fan.midpoint)"
   ]
  },
  {
   "cell_type": "code",
   "execution_count": null,
   "metadata": {},
   "outputs": [],
   "source": [
    "p4id = markings.ImageID('apx', data=data, scope='planet4')"
   ]
  },
  {
   "cell_type": "code",
   "execution_count": null,
   "metadata": {},
   "outputs": [],
   "source": [
    "%matplotlib inline"
   ]
  },
  {
   "cell_type": "code",
   "execution_count": null,
   "metadata": {},
   "outputs": [],
   "source": [
    "p4id.plot_blotches()"
   ]
  },
  {
   "cell_type": "code",
   "execution_count": null,
   "metadata": {},
   "outputs": [],
   "source": [
    "from planet4 import plotting"
   ]
  },
  {
   "cell_type": "code",
   "execution_count": null,
   "metadata": {},
   "outputs": [],
   "source": [
    "plotting.plot_clustered_blotches('apx', _dir=tdir)"
   ]
  },
  {
   "cell_type": "code",
   "execution_count": null,
   "metadata": {},
   "outputs": [],
   "source": [
    "pm = io.PathManager(id_='apx', datapath=tdir)"
   ]
  },
  {
   "cell_type": "code",
   "execution_count": null,
   "metadata": {},
   "outputs": [],
   "source": [
    "pm.reduced_blotchfile"
   ]
  },
  {
   "cell_type": "code",
   "execution_count": null,
   "metadata": {},
   "outputs": [],
   "source": [
    "tdir"
   ]
  },
  {
   "cell_type": "code",
   "execution_count": null,
   "metadata": {},
   "outputs": [],
   "source": [
    "list(tdir.glob('just_clustering/*'))"
   ]
  },
  {
   "cell_type": "code",
   "execution_count": null,
   "metadata": {},
   "outputs": [],
   "source": [
    "newblotches = cm.newblotches.apply(lambda x: x.store())"
   ]
  },
  {
   "cell_type": "code",
   "execution_count": null,
   "metadata": {},
   "outputs": [],
   "source": [
    "newblotches.head()"
   ]
  },
  {
   "cell_type": "code",
   "execution_count": null,
   "metadata": {},
   "outputs": [],
   "source": [
    "b1 = markings.Blotch(cm.newblotches.iloc[0].data)\n",
    "b2 = markings.Blotch(cm.newblotches.iloc[1].data)\n",
    "b1 == b2"
   ]
  },
  {
   "cell_type": "code",
   "execution_count": null,
   "metadata": {},
   "outputs": [],
   "source": [
    "df = cm.pm.fnotchdf"
   ]
  },
  {
   "cell_type": "code",
   "execution_count": null,
   "metadata": {},
   "outputs": [],
   "source": [
    "df.apply?"
   ]
  },
  {
   "cell_type": "code",
   "execution_count": null,
   "metadata": {},
   "outputs": [],
   "source": [
    "df.duplicated().value_counts()"
   ]
  },
  {
   "cell_type": "code",
   "execution_count": null,
   "metadata": {},
   "outputs": [],
   "source": [
    "final_clusters = df.apply(markings.Fnotch.from_series, axis=1).apply(lambda x: x.get_marking(0.5))"
   ]
  },
  {
   "cell_type": "code",
   "execution_count": null,
   "metadata": {},
   "outputs": [],
   "source": [
    "pd.set_option('display.width', 10000)"
   ]
  },
  {
   "cell_type": "code",
   "execution_count": null,
   "metadata": {},
   "outputs": [],
   "source": [
    "final_clusters.head()"
   ]
  },
  {
   "cell_type": "code",
   "execution_count": null,
   "metadata": {},
   "outputs": [],
   "source": [
    "df.filter(regex='fan_').head()"
   ]
  },
  {
   "cell_type": "code",
   "execution_count": null,
   "metadata": {},
   "outputs": [],
   "source": [
    "df.filter(regex='blotch_').head()"
   ]
  },
  {
   "cell_type": "code",
   "execution_count": null,
   "metadata": {},
   "outputs": [],
   "source": [
    "from planet4 import markings"
   ]
  },
  {
   "cell_type": "code",
   "execution_count": null,
   "metadata": {},
   "outputs": [],
   "source": [
    "fnotch = markings.Fnotch.from_series(df.iloc[0], scope='planet4')"
   ]
  },
  {
   "cell_type": "code",
   "execution_count": null,
   "metadata": {},
   "outputs": [],
   "source": [
    "from numpy.linalg import norm"
   ]
  },
  {
   "cell_type": "code",
   "execution_count": null,
   "metadata": {},
   "outputs": [],
   "source": [
    "norm(fnotch.blotch.center - fnotch.fan.midpoint)"
   ]
  },
  {
   "cell_type": "code",
   "execution_count": null,
   "metadata": {},
   "outputs": [],
   "source": [
    "def filter_for_fans(x):\n",
    "            if isinstance(x, markings.Fan):\n",
    "                return x\n",
    "\n",
    "def filter_for_blotches(x):\n",
    "    if isinstance(x, markings.Blotch):\n",
    "        return x"
   ]
  },
  {
   "cell_type": "code",
   "execution_count": null,
   "metadata": {},
   "outputs": [],
   "source": [
    "final_clusters.apply(filter_for_blotches)"
   ]
  },
  {
   "cell_type": "code",
   "execution_count": null,
   "metadata": {},
   "outputs": [],
   "source": [
    "pd.read_csv(cm.pm.final_fanfile).duplicated().value_counts()"
   ]
  },
  {
   "cell_type": "code",
   "execution_count": null,
   "metadata": {},
   "outputs": [],
   "source": [
    "# teardown\n",
    "_tdir.cleanup()"
   ]
  },
  {
   "cell_type": "code",
   "execution_count": null,
   "metadata": {},
   "outputs": [],
   "source": []
  }
 ],
 "metadata": {
  "anaconda-cloud": {},
  "kernelspec": {
   "display_name": "Python [conda env:stable]",
   "language": "python",
   "name": "conda-env-stable-py"
  },
  "language_info": {
   "codemirror_mode": {
    "name": "ipython",
    "version": 3
   },
   "file_extension": ".py",
   "mimetype": "text/x-python",
   "name": "python",
   "nbconvert_exporter": "python",
   "pygments_lexer": "ipython3",
   "version": "3.6.4"
  },
  "toc": {
   "nav_menu": {
    "height": "48px",
    "width": "252px"
   },
   "number_sections": false,
   "sideBar": false,
   "skip_h1_title": false,
   "title_cell": "Table of Contents",
   "title_sidebar": "Contents",
   "toc_cell": false,
   "toc_position": {},
   "toc_section_display": "block",
   "toc_window_display": false
  }
 },
 "nbformat": 4,
 "nbformat_minor": 1
}
