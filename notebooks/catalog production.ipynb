{
 "cells": [
  {
   "cell_type": "code",
   "execution_count": 3,
   "metadata": {
    "ExecuteTime": {
     "end_time": "2018-08-03T05:23:09.218610Z",
     "start_time": "2018-08-03T05:23:09.192299Z"
    },
    "init_cell": true
   },
   "outputs": [],
   "source": [
    "from planet4 import markings, dbscan, io, fnotching"
   ]
  },
  {
   "cell_type": "code",
   "execution_count": 101,
   "metadata": {
    "ExecuteTime": {
     "end_time": "2018-01-31T10:03:40.549520Z",
     "start_time": "2018-01-31T10:03:40.526761Z"
    }
   },
   "outputs": [],
   "source": [
    "from nbtools.logging import setup_live_logging\n",
    "import logging"
   ]
  },
  {
   "cell_type": "code",
   "execution_count": 102,
   "metadata": {
    "ExecuteTime": {
     "end_time": "2018-01-31T10:03:43.362802Z",
     "start_time": "2018-01-31T10:03:43.339002Z"
    }
   },
   "outputs": [
    {
     "data": {
      "text/plain": [
       "<Logger planet4 (DEBUG)>"
      ]
     },
     "execution_count": 102,
     "metadata": {},
     "output_type": "execute_result"
    }
   ],
   "source": [
    "setup_live_logging('planet4', logging.DEBUG)"
   ]
  },
  {
   "cell_type": "markdown",
   "metadata": {},
   "source": [
    "# Data to cluster"
   ]
  },
  {
   "cell_type": "code",
   "execution_count": 4,
   "metadata": {
    "ExecuteTime": {
     "end_time": "2018-08-03T05:23:09.246996Z",
     "start_time": "2018-08-03T05:23:09.220230Z"
    },
    "init_cell": true
   },
   "outputs": [],
   "source": [
    "from planet4 import region_data, io"
   ]
  },
  {
   "cell_type": "code",
   "execution_count": 5,
   "metadata": {
    "ExecuteTime": {
     "end_time": "2018-01-09T15:11:47.610094Z",
     "start_time": "2018-01-09T15:11:47.588343Z"
    }
   },
   "outputs": [],
   "source": [
    "db = io.DBManager()"
   ]
  },
  {
   "cell_type": "code",
   "execution_count": 4,
   "metadata": {
    "ExecuteTime": {
     "end_time": "2018-01-09T15:12:00.352691Z",
     "start_time": "2018-01-09T15:11:49.702526Z"
    }
   },
   "outputs": [],
   "source": [
    "obsids = db.image_names"
   ]
  },
  {
   "cell_type": "code",
   "execution_count": 5,
   "metadata": {
    "ExecuteTime": {
     "end_time": "2018-01-09T15:12:00.382551Z",
     "start_time": "2018-01-09T15:12:00.354409Z"
    }
   },
   "outputs": [
    {
     "data": {
      "text/plain": [
       "'/Users/klay6683/Dropbox/data/planet4/2017-12-31_planet_four_classifications_queryable_cleaned_seasons2and3.h5'"
      ]
     },
     "execution_count": 5,
     "metadata": {},
     "output_type": "execute_result"
    }
   ],
   "source": [
    "db.dbname"
   ]
  },
  {
   "cell_type": "code",
   "execution_count": 6,
   "metadata": {
    "ExecuteTime": {
     "end_time": "2018-01-09T15:12:00.407322Z",
     "start_time": "2018-01-09T15:12:00.383940Z"
    }
   },
   "outputs": [
    {
     "data": {
      "text/plain": [
       "221"
      ]
     },
     "execution_count": 6,
     "metadata": {},
     "output_type": "execute_result"
    }
   ],
   "source": [
    "len(obsids)"
   ]
  },
  {
   "cell_type": "markdown",
   "metadata": {},
   "source": [
    "# Support functions"
   ]
  },
  {
   "cell_type": "code",
   "execution_count": 9,
   "metadata": {
    "ExecuteTime": {
     "end_time": "2018-02-13T10:04:22.675268Z",
     "start_time": "2018-02-13T10:04:16.726555Z"
    }
   },
   "outputs": [],
   "source": [
    "from planet4.catalog_production import ReleaseManager\n",
    "from planet4 import fnotching"
   ]
  },
  {
   "cell_type": "code",
   "execution_count": 10,
   "metadata": {
    "ExecuteTime": {
     "end_time": "2018-02-13T10:04:22.699755Z",
     "start_time": "2018-02-13T10:04:22.677191Z"
    }
   },
   "outputs": [],
   "source": [
    "rm = ReleaseManager(\"v1.0\")"
   ]
  },
  {
   "cell_type": "code",
   "execution_count": 11,
   "metadata": {},
   "outputs": [],
   "source": [
    "rm.calc_metadata()"
   ]
  },
  {
   "cell_type": "code",
   "execution_count": 5,
   "metadata": {},
   "outputs": [],
   "source": [
    "meta = pd.read_csv(rm.metadata_path).set_index('OBSERVATION_ID')"
   ]
  },
  {
   "cell_type": "code",
   "execution_count": 12,
   "metadata": {},
   "outputs": [
    {
     "data": {
      "text/plain": [
       "PosixPath('/Users/klay6683/Dropbox/data/planet4/P4_catalog_v1.0/P4_catalog_v1.0_EDRINDEX_metadata.csv')"
      ]
     },
     "execution_count": 12,
     "metadata": {},
     "output_type": "execute_result"
    }
   ],
   "source": [
    "rm.EDRINDEX_meta_path"
   ]
  },
  {
   "cell_type": "code",
   "execution_count": 6,
   "metadata": {},
   "outputs": [
    {
     "data": {
      "text/plain": [
       "IMAGE_CENTER_LATITUDE                -86.3968\n",
       "IMAGE_CENTER_LONGITUDE                99.1505\n",
       "SOLAR_LONGITUDE                        223.07\n",
       "START_TIME                2009-03-08 02:10:48\n",
       "map_scale                                   1\n",
       "north_azimuth                         137.978\n",
       "# of tiles                                360\n",
       "Name: ESP_012251_0935, dtype: object"
      ]
     },
     "execution_count": 6,
     "metadata": {},
     "output_type": "execute_result"
    }
   ],
   "source": [
    "meta.loc['ESP_012251_0935']"
   ]
  },
  {
   "cell_type": "code",
   "execution_count": 8,
   "metadata": {},
   "outputs": [],
   "source": [
    "edrindex = pd.read_hdf(\"/Volumes/Data/hirise/EDRCUMINDEX.hdf\")\n",
    "p4_edr = edrindex[edrindex.OBSERVATION_ID.isin(rm.obsids)].query(\n",
    "    'CCD_NAME==\"RED4\"').drop_duplicates(subset='OBSERVATION_ID')"
   ]
  },
  {
   "cell_type": "code",
   "execution_count": 10,
   "metadata": {},
   "outputs": [],
   "source": [
    "p4_edr.set_index('OBSERVATION_ID', inplace=True)"
   ]
  },
  {
   "cell_type": "code",
   "execution_count": 11,
   "metadata": {},
   "outputs": [
    {
     "data": {
      "text/plain": [
       "VOLUME_ID                                                                    MROHR_0001\n",
       "FILE_NAME_SPECIFICATION               EDR/ESP/ORB_012200_012299/ESP_012251_0935/ESP_...\n",
       "INSTRUMENT_HOST_ID                                                                  MRO\n",
       "INSTRUMENT_ID                                                                    HIRISE\n",
       "PRODUCT_ID                                                       ESP_012251_0935_RED4_0\n",
       "PRODUCT_VERSION_ID                                                                    1\n",
       "HICAL_VERSION                                          3.1.18 | 2009-01-23 | 2008-11-17\n",
       "TARGET_NAME                                                                        MARS\n",
       "ORBIT_NUMBER                                                                      12251\n",
       "MISSION_PHASE_NAME                                               Extended Science Phase\n",
       "RATIONALE_DESC                                                   South polar monitoring\n",
       "OBSERVATION_START_TIME                                              2009-03-08 02:10:48\n",
       "OBSERVATION_START_COUNT                                                 920945469:50946\n",
       "START_TIME                                                          2009-03-08 02:10:48\n",
       "SPACECRAFT_CLOCK_START_COUNT                                            920945469:61618\n",
       "STOP_TIME                                                           2009-03-08 02:10:51\n",
       "SPACECRAFT_CLOCK_STOP_COUNT                                             920945472:63912\n",
       "CCD_NAME                                                                           RED4\n",
       "CHANNEL_NUMBER                                                                        0\n",
       "FILTER_NAME                                                                         RED\n",
       "SCAN_EXPOSURE_DURATION                                                           75.875\n",
       "DELTA_LINE_TIME_COUNT                                                                30\n",
       "BINNING                                                                               1\n",
       "TDI                                                                                 128\n",
       "TRIM_LINES                                                                         1797\n",
       "FOCUS_POSITION_COUNT                                                               2023\n",
       "FELICS_COMPRESSION_FLAG                                                             YES\n",
       "STIMULATION_LAMP_FLAG_RED                                                           OFF\n",
       "STIMULATION_LAMP_FLAG_BLUEGREEN                                                     OFF\n",
       "STIMULATION_LAMP_FLAG_NEARINFRARED                                                  OFF\n",
       "                                                            ...                        \n",
       "FPE_TEMPERATURE                                                                 32.3562\n",
       "IEA_TEMPERATURE                                                                 26.7908\n",
       "IEA_PWS_BOARD_TEMPERATURE                                                       31.4036\n",
       "CPMM_PWS_BOARD_TEMPERATURE                                                      41.5402\n",
       "IMAGE_LINES                                                                       40000\n",
       "LINE_SAMPLES                                                                       1024\n",
       "SAMPLE_BITS                                                                           8\n",
       "SCALED_PIXEL_WIDTH                                                             0.244988\n",
       "EMISSION_ANGLE                                                                   1.3837\n",
       "INCIDENCE_ANGLE                                                                 73.8048\n",
       "PHASE_ANGLE                                                                     74.9586\n",
       "IMAGE_CENTER_LATITUDE                                                          -86.3968\n",
       "IMAGE_CENTER_LONGITUDE                                                          99.1505\n",
       "MINIMUM_LATITUDE                                                               -86.4842\n",
       "MAXIMUM_LATITUDE                                                               -86.3091\n",
       "MINIMUM_LONGITUDE                                                               97.7484\n",
       "MAXIMUM_LONGITUDE                                                               100.568\n",
       "SPACECRAFT_ALTITUDE                                                             244.795\n",
       "TARGET_CENTER_DISTANCE                                                          3626.35\n",
       "SLANT_DISTANCE                                                                  244.886\n",
       "NORTH_AZIMUTH                                                                    134.87\n",
       "SUB_SOLAR_AZIMUTH                                                               32.4474\n",
       "SUB_SOLAR_LATITUDE                                                             -16.8992\n",
       "SUB_SOLAR_LONGITUDE                                                             358.427\n",
       "SUB_SPACECRAFT_LATITUDE                                                        -86.3297\n",
       "SUB_SPACECRAFT_LONGITUDE                                                        100.176\n",
       "SOLAR_DISTANCE                                                                  1.39524\n",
       "SOLAR_LONGITUDE                                                                  223.07\n",
       "LOCAL_TIME                                                                      18.7149\n",
       "STEREO_FLAG                                                                          NO\n",
       "Name: ESP_012251_0935, Length: 70, dtype: object"
      ]
     },
     "execution_count": 11,
     "metadata": {},
     "output_type": "execute_result"
    }
   ],
   "source": [
    "p4_edr.loc['ESP_012251_0935']"
   ]
  },
  {
   "cell_type": "code",
   "execution_count": null,
   "metadata": {},
   "outputs": [],
   "source": []
  },
  {
   "cell_type": "code",
   "execution_count": 13,
   "metadata": {},
   "outputs": [
    {
     "ename": "UnboundLocalError",
     "evalue": "local variable 'metadata' referenced before assignment",
     "output_type": "error",
     "traceback": [
      "\u001b[0;31m---------------------------------------------------------------------------\u001b[0m",
      "\u001b[0;31mUnboundLocalError\u001b[0m                         Traceback (most recent call last)",
      "\u001b[0;32m<ipython-input-13-bc695dd2963a>\u001b[0m in \u001b[0;36m<module>\u001b[0;34m()\u001b[0m\n\u001b[0;32m----> 1\u001b[0;31m \u001b[0mrm\u001b[0m\u001b[0;34m.\u001b[0m\u001b[0mcalc_metadata\u001b[0m\u001b[0;34m(\u001b[0m\u001b[0;34m)\u001b[0m\u001b[0;34m\u001b[0m\u001b[0m\n\u001b[0m",
      "\u001b[0;32m~/Dropbox/src/planet4/planet4/catalog_production.py\u001b[0m in \u001b[0;36mcalc_metadata\u001b[0;34m(self)\u001b[0m\n\u001b[1;32m    243\u001b[0m     \u001b[0;32mdef\u001b[0m \u001b[0mcalc_metadata\u001b[0m\u001b[0;34m(\u001b[0m\u001b[0mself\u001b[0m\u001b[0;34m)\u001b[0m\u001b[0;34m:\u001b[0m\u001b[0;34m\u001b[0m\u001b[0m\n\u001b[1;32m    244\u001b[0m         \u001b[0;32mif\u001b[0m \u001b[0;32mnot\u001b[0m \u001b[0mself\u001b[0m\u001b[0;34m.\u001b[0m\u001b[0mEDRINDEX_meta_path\u001b[0m\u001b[0;34m.\u001b[0m\u001b[0mexists\u001b[0m\u001b[0;34m(\u001b[0m\u001b[0;34m)\u001b[0m\u001b[0;34m:\u001b[0m\u001b[0;34m\u001b[0m\u001b[0m\n\u001b[0;32m--> 245\u001b[0;31m             \u001b[0mNAs\u001b[0m \u001b[0;34m=\u001b[0m \u001b[0mmetadata\u001b[0m\u001b[0;34m.\u001b[0m\u001b[0mget_north_azimuths_from_SPICE\u001b[0m\u001b[0;34m(\u001b[0m\u001b[0mself\u001b[0m\u001b[0;34m.\u001b[0m\u001b[0mobsids\u001b[0m\u001b[0;34m)\u001b[0m\u001b[0;34m\u001b[0m\u001b[0m\n\u001b[0m\u001b[1;32m    246\u001b[0m             \u001b[0medrindex\u001b[0m \u001b[0;34m=\u001b[0m \u001b[0mpd\u001b[0m\u001b[0;34m.\u001b[0m\u001b[0mread_hdf\u001b[0m\u001b[0;34m(\u001b[0m\u001b[0;34m\"/Volumes/Data/hirise/EDRCUMINDEX.hdf\"\u001b[0m\u001b[0;34m)\u001b[0m\u001b[0;34m\u001b[0m\u001b[0m\n\u001b[1;32m    247\u001b[0m             p4_edr = edrindex[edrindex.OBSERVATION_ID.isin(self.obsids)].query(\n",
      "\u001b[0;31mUnboundLocalError\u001b[0m: local variable 'metadata' referenced before assignment"
     ]
    }
   ],
   "source": [
    "rm.calc_metadata()"
   ]
  },
  {
   "cell_type": "code",
   "execution_count": null,
   "metadata": {},
   "outputs": [],
   "source": [
    "rm."
   ]
  },
  {
   "cell_type": "code",
   "execution_count": 61,
   "metadata": {},
   "outputs": [],
   "source": [
    "df.set_index('OBSERVATION_ID').to_csv(rm.EDRINDEX_meta_path, index=True)"
   ]
  },
  {
   "cell_type": "code",
   "execution_count": 43,
   "metadata": {},
   "outputs": [],
   "source": [
    "cols = ['OBSERVATION_ID', 'IMAGE_CENTER_LATITUDE', 'IMAGE_CENTER_LONGITUDE', 'SOLAR_LONGITUDE', 'START_TIME',\n",
    "        'north_azimuth', '# of tiles']"
   ]
  },
  {
   "cell_type": "code",
   "execution_count": 44,
   "metadata": {},
   "outputs": [
    {
     "data": {
      "text/html": [
       "<div>\n",
       "<style scoped>\n",
       "    .dataframe tbody tr th:only-of-type {\n",
       "        vertical-align: middle;\n",
       "    }\n",
       "\n",
       "    .dataframe tbody tr th {\n",
       "        vertical-align: top;\n",
       "    }\n",
       "\n",
       "    .dataframe thead th {\n",
       "        text-align: right;\n",
       "    }\n",
       "</style>\n",
       "<table border=\"1\" class=\"dataframe\">\n",
       "  <thead>\n",
       "    <tr style=\"text-align: right;\">\n",
       "      <th></th>\n",
       "      <th>OBSERVATION_ID</th>\n",
       "      <th>IMAGE_CENTER_LATITUDE</th>\n",
       "      <th>IMAGE_CENTER_LONGITUDE</th>\n",
       "      <th>SOLAR_LONGITUDE</th>\n",
       "      <th>START_TIME</th>\n",
       "      <th>north_azimuth</th>\n",
       "      <th># of tiles</th>\n",
       "    </tr>\n",
       "  </thead>\n",
       "  <tbody>\n",
       "    <tr>\n",
       "      <th>0</th>\n",
       "      <td>ESP_011296_0975</td>\n",
       "      <td>-82.1965</td>\n",
       "      <td>225.2530</td>\n",
       "      <td>178.833</td>\n",
       "      <td>2008-12-23 16:15:26</td>\n",
       "      <td>110.600107</td>\n",
       "      <td>91</td>\n",
       "    </tr>\n",
       "    <tr>\n",
       "      <th>1</th>\n",
       "      <td>ESP_011341_0980</td>\n",
       "      <td>-81.7969</td>\n",
       "      <td>76.1304</td>\n",
       "      <td>180.809</td>\n",
       "      <td>2008-12-27 04:25:02</td>\n",
       "      <td>110.208923</td>\n",
       "      <td>126</td>\n",
       "    </tr>\n",
       "    <tr>\n",
       "      <th>2</th>\n",
       "      <td>ESP_011348_0950</td>\n",
       "      <td>-85.0427</td>\n",
       "      <td>259.0940</td>\n",
       "      <td>181.117</td>\n",
       "      <td>2008-12-27 17:29:17</td>\n",
       "      <td>123.624057</td>\n",
       "      <td>91</td>\n",
       "    </tr>\n",
       "    <tr>\n",
       "      <th>3</th>\n",
       "      <td>ESP_011350_0945</td>\n",
       "      <td>-85.2160</td>\n",
       "      <td>181.4150</td>\n",
       "      <td>181.205</td>\n",
       "      <td>2008-12-27 21:14:01</td>\n",
       "      <td>99.672793</td>\n",
       "      <td>126</td>\n",
       "    </tr>\n",
       "    <tr>\n",
       "      <th>4</th>\n",
       "      <td>ESP_011351_0945</td>\n",
       "      <td>-85.2157</td>\n",
       "      <td>181.5480</td>\n",
       "      <td>181.249</td>\n",
       "      <td>2008-12-27 23:05:54</td>\n",
       "      <td>127.960688</td>\n",
       "      <td>91</td>\n",
       "    </tr>\n",
       "  </tbody>\n",
       "</table>\n",
       "</div>"
      ],
      "text/plain": [
       "    OBSERVATION_ID  IMAGE_CENTER_LATITUDE  IMAGE_CENTER_LONGITUDE  \\\n",
       "0  ESP_011296_0975               -82.1965                225.2530   \n",
       "1  ESP_011341_0980               -81.7969                 76.1304   \n",
       "2  ESP_011348_0950               -85.0427                259.0940   \n",
       "3  ESP_011350_0945               -85.2160                181.4150   \n",
       "4  ESP_011351_0945               -85.2157                181.5480   \n",
       "\n",
       "   SOLAR_LONGITUDE           START_TIME  north_azimuth  # of tiles  \n",
       "0          178.833  2008-12-23 16:15:26     110.600107          91  \n",
       "1          180.809  2008-12-27 04:25:02     110.208923         126  \n",
       "2          181.117  2008-12-27 17:29:17     123.624057          91  \n",
       "3          181.205  2008-12-27 21:14:01      99.672793         126  \n",
       "4          181.249  2008-12-27 23:05:54     127.960688          91  "
      ]
     },
     "execution_count": 44,
     "metadata": {},
     "output_type": "execute_result"
    }
   ],
   "source": [
    "df[cols].head()"
   ]
  },
  {
   "cell_type": "code",
   "execution_count": 8,
   "metadata": {},
   "outputs": [],
   "source": [
    "fname = \"P4_catalog_v1.0_EDRINDEX_metadata.csv\"\n",
    "df.to_csv(rm.savefolder / fname, index=False)"
   ]
  },
  {
   "cell_type": "code",
   "execution_count": 9,
   "metadata": {
    "ExecuteTime": {
     "end_time": "2018-02-13T10:04:24.861233Z",
     "start_time": "2018-02-13T10:04:24.836918Z"
    }
   },
   "outputs": [
    {
     "data": {
      "text/plain": [
       "PosixPath('/Users/klay6683/Dropbox/data/planet4/P4_catalog_v1.0')"
      ]
     },
     "execution_count": 9,
     "metadata": {},
     "output_type": "execute_result"
    }
   ],
   "source": [
    "rm.savefolder"
   ]
  },
  {
   "cell_type": "code",
   "execution_count": 11,
   "metadata": {
    "ExecuteTime": {
     "end_time": "2018-01-31T10:13:23.566326Z",
     "start_time": "2018-01-31T10:13:23.538897Z"
    }
   },
   "outputs": [],
   "source": [
    "import itertools\n",
    "import string \n",
    "\n",
    "# Adapt this prefix as a unique identifier of the dataset\n",
    "\n",
    "def fan_id_generator():\n",
    "    for newid in itertools.product(string.digits+'abcdef', repeat=6):\n",
    "        yield 'F' + ''.join(newid)\n",
    "\n",
    "def blotch_id_generator():\n",
    "    for newid in itertools.product(string.digits+'abcdef', repeat=6):\n",
    "        yield 'B' + ''.join(newid)"
   ]
  },
  {
   "cell_type": "code",
   "execution_count": 22,
   "metadata": {
    "ExecuteTime": {
     "end_time": "2018-01-31T10:28:21.991715Z",
     "start_time": "2018-01-31T10:28:21.960139Z"
    }
   },
   "outputs": [],
   "source": [
    "def add_marking_ids(path, fan_id, blotch_id):\n",
    "    \"\"\"Add marking_ids for catalog to cluster results.\n",
    "    \n",
    "    Parameters\n",
    "    ----------\n",
    "    path : str, pathlib.Path\n",
    "        Path to L1A image_id clustering result directory\n",
    "    fan_id, blotch_id : generator\n",
    "        Generator for marking_id\n",
    "    \"\"\"\n",
    "    image_id = path.parent.name\n",
    "    for kind, id_ in zip(['fans', 'blotches'], [fan_id, blotch_id]):\n",
    "        fname = str(path / f\"{image_id}_L1A_{kind}.csv\")\n",
    "        try:\n",
    "            df = pd.read_csv(fname)\n",
    "        except FileNotFoundError:\n",
    "            continue\n",
    "        else:\n",
    "            marking_ids = []\n",
    "            for i in range(df.shape[0]):\n",
    "                marking_ids.append(next(id_))\n",
    "            df['marking_id'] = marking_ids\n",
    "            df.to_csv(fname, index=False)"
   ]
  },
  {
   "cell_type": "code",
   "execution_count": 12,
   "metadata": {
    "ExecuteTime": {
     "end_time": "2018-02-13T10:04:26.996507Z",
     "start_time": "2018-02-13T10:04:26.974944Z"
    }
   },
   "outputs": [],
   "source": [
    "from tqdm import tqdm"
   ]
  },
  {
   "cell_type": "code",
   "execution_count": 7,
   "metadata": {
    "ExecuteTime": {
     "end_time": "2018-02-13T10:04:35.469886Z",
     "start_time": "2018-02-13T10:04:28.111811Z"
    }
   },
   "outputs": [],
   "source": [
    "obsids = rm.obsids"
   ]
  },
  {
   "cell_type": "code",
   "execution_count": null,
   "metadata": {},
   "outputs": [],
   "source": [
    "rm.launch_catalog_production()"
   ]
  },
  {
   "cell_type": "code",
   "execution_count": 45,
   "metadata": {},
   "outputs": [],
   "source": [
    "rm.calc_metadata()"
   ]
  },
  {
   "cell_type": "code",
   "execution_count": 8,
   "metadata": {
    "ExecuteTime": {
     "end_time": "2018-02-13T10:05:37.981414Z",
     "start_time": "2018-02-13T10:05:28.927686Z"
    }
   },
   "outputs": [
    {
     "name": "stderr",
     "output_type": "stream",
     "text": [
      "100%|██████████| 221/221 [00:07<00:00, 28.10it/s]\n"
     ]
    }
   ],
   "source": [
    "rm.calc_marking_coordinates()"
   ]
  },
  {
   "cell_type": "code",
   "execution_count": 12,
   "metadata": {
    "ExecuteTime": {
     "end_time": "2018-02-13T10:07:08.405228Z",
     "start_time": "2018-02-13T10:06:45.768289Z"
    },
    "scrolled": false
   },
   "outputs": [],
   "source": [
    "rm.merge_all()"
   ]
  },
  {
   "cell_type": "code",
   "execution_count": 21,
   "metadata": {
    "ExecuteTime": {
     "end_time": "2018-01-31T10:28:01.067100Z",
     "start_time": "2018-01-31T10:28:01.044422Z"
    }
   },
   "outputs": [],
   "source": [
    "fan_id = fan_id_generator()\n",
    "blotch_id = blotch_id_generator()"
   ]
  },
  {
   "cell_type": "code",
   "execution_count": 12,
   "metadata": {
    "ExecuteTime": {
     "end_time": "2018-01-31T10:13:34.921242Z",
     "start_time": "2018-01-31T10:13:34.897827Z"
    }
   },
   "outputs": [],
   "source": [
    "from planet4.fnotching import fnotch_image_ids, apply_cut"
   ]
  },
  {
   "cell_type": "code",
   "execution_count": 31,
   "metadata": {
    "ExecuteTime": {
     "end_time": "2018-01-31T12:00:15.264219Z",
     "start_time": "2018-01-31T11:57:58.962851Z"
    }
   },
   "outputs": [
    {
     "name": "stderr",
     "output_type": "stream",
     "text": [
      "100%|██████████| 221/221 [02:16<00:00,  1.62it/s]\n"
     ]
    }
   ],
   "source": [
    "for obsid in tqdm(obsids):\n",
    "    pm = io.PathManager(obsid=obsid, datapath=rm.savefolder)\n",
    "    paths = pm.get_obsid_paths('L1A')\n",
    "    for path in paths:\n",
    "        add_marking_ids(path, fan_id, blotch_id)"
   ]
  },
  {
   "cell_type": "code",
   "execution_count": 16,
   "metadata": {
    "ExecuteTime": {
     "end_time": "2018-02-08T09:18:51.716901Z",
     "start_time": "2018-02-08T09:18:51.690187Z"
    }
   },
   "outputs": [
    {
     "data": {
      "text/plain": [
       "'P4_catalog_v1.0b4'"
      ]
     },
     "execution_count": 16,
     "metadata": {},
     "output_type": "execute_result"
    }
   ],
   "source": [
    "rm.catalog"
   ]
  },
  {
   "cell_type": "code",
   "execution_count": 32,
   "metadata": {
    "ExecuteTime": {
     "end_time": "2018-01-31T12:16:48.194193Z",
     "start_time": "2018-01-31T12:03:41.811206Z"
    }
   },
   "outputs": [
    {
     "name": "stderr",
     "output_type": "stream",
     "text": [
      "100%|██████████| 221/221 [13:06<00:00,  3.56s/it]\n"
     ]
    }
   ],
   "source": [
    "for obsid in tqdm(obsids):\n",
    "    fnotch_image_ids(obsid, savedir=rm.catalog)\n",
    "    apply_cut(obsid, savedir=rm.catalog)"
   ]
  },
  {
   "cell_type": "code",
   "execution_count": 33,
   "metadata": {
    "ExecuteTime": {
     "end_time": "2018-01-31T12:16:48.482349Z",
     "start_time": "2018-01-31T12:16:48.195851Z"
    }
   },
   "outputs": [],
   "source": [
    "from planet4.catalog_production import create_roi_file"
   ]
  },
  {
   "cell_type": "code",
   "execution_count": 34,
   "metadata": {
    "ExecuteTime": {
     "end_time": "2018-01-31T12:18:17.880644Z",
     "start_time": "2018-01-31T12:16:48.483825Z"
    }
   },
   "outputs": [
    {
     "name": "stderr",
     "output_type": "stream",
     "text": [
      "100%|██████████| 221/221 [01:22<00:00,  2.67it/s]\n"
     ]
    },
    {
     "name": "stdout",
     "output_type": "stream",
     "text": [
      "Created /Users/klay6683/Dropbox/data/planet4/P4_catalog_v1.0b4/P4_catalog_v1.0b4_L1C_cut_0.5_fan.csv.\n",
      "Created /Users/klay6683/Dropbox/data/planet4/P4_catalog_v1.0b4/P4_catalog_v1.0b4_L1C_cut_0.5_blotch.csv.\n"
     ]
    }
   ],
   "source": [
    "create_roi_file(obsids, rm.catalog, rm.catalog)"
   ]
  },
  {
   "cell_type": "code",
   "execution_count": 10,
   "metadata": {
    "ExecuteTime": {
     "end_time": "2018-02-08T09:04:25.308972Z",
     "start_time": "2018-02-08T09:04:12.969719Z"
    }
   },
   "outputs": [
    {
     "name": "stderr",
     "output_type": "stream",
     "text": [
      "100%|██████████| 221/221 [00:12<00:00, 17.95it/s]\n"
     ]
    }
   ],
   "source": [
    "rm.get_metadata()"
   ]
  },
  {
   "cell_type": "code",
   "execution_count": 69,
   "metadata": {
    "ExecuteTime": {
     "end_time": "2018-02-08T15:08:21.072702Z",
     "start_time": "2018-02-08T15:08:13.896037Z"
    }
   },
   "outputs": [],
   "source": [
    "rm.merge_all()"
   ]
  },
  {
   "cell_type": "code",
   "execution_count": 67,
   "metadata": {
    "ExecuteTime": {
     "end_time": "2018-02-08T15:08:22.780217Z",
     "start_time": "2018-02-08T15:08:22.290398Z"
    }
   },
   "outputs": [],
   "source": [
    "fans = rm.read_fan_file()"
   ]
  },
  {
   "cell_type": "code",
   "execution_count": 68,
   "metadata": {
    "ExecuteTime": {
     "end_time": "2018-02-08T15:08:23.401118Z",
     "start_time": "2018-02-08T15:08:23.377648Z"
    }
   },
   "outputs": [
    {
     "data": {
      "text/plain": [
       "Index(['angle', 'distance', 'tile_id', 'image_x', 'image_y', 'marking_id',\n",
       "       'n_votes', 'obsid', 'spread', 'version', 'vote_ratio', 'x', 'x_angle',\n",
       "       'y', 'y_angle', 'l_s', 'north_azimuth', 'map_scale',\n",
       "       'BodyFixedCoordinateX', 'BodyFixedCoordinateY', 'BodyFixedCoordinateZ',\n",
       "       'PlanetocentricLatitude', 'PlanetographicLatitude',\n",
       "       'PositiveEast360Longitude'],\n",
       "      dtype='object')"
      ]
     },
     "execution_count": 68,
     "metadata": {},
     "output_type": "execute_result"
    }
   ],
   "source": [
    "fans.columns"
   ]
  },
  {
   "cell_type": "code",
   "execution_count": 32,
   "metadata": {
    "ExecuteTime": {
     "end_time": "2018-02-08T15:08:26.677424Z",
     "start_time": "2018-02-08T15:08:25.961711Z"
    }
   },
   "outputs": [],
   "source": [
    "blotches = rm.read_blotch_file()"
   ]
  },
  {
   "cell_type": "code",
   "execution_count": 33,
   "metadata": {
    "ExecuteTime": {
     "end_time": "2018-02-08T15:08:28.203006Z",
     "start_time": "2018-02-08T15:08:28.178977Z"
    }
   },
   "outputs": [
    {
     "data": {
      "text/plain": [
       "Index(['angle', 'image_id', 'image_name', 'image_x', 'image_y', 'marking_id',\n",
       "       'n_votes', 'obsid', 'radius_1', 'radius_2', 'vote_ratio', 'x',\n",
       "       'x_angle', 'y', 'y_angle', 'l_s', 'map_scale', 'north_azimuth'],\n",
       "      dtype='object')"
      ]
     },
     "execution_count": 33,
     "metadata": {},
     "output_type": "execute_result"
    }
   ],
   "source": [
    "blotches.columns"
   ]
  },
  {
   "cell_type": "code",
   "execution_count": 34,
   "metadata": {
    "ExecuteTime": {
     "end_time": "2018-02-08T15:08:36.783162Z",
     "start_time": "2018-02-08T15:08:36.758106Z"
    }
   },
   "outputs": [
    {
     "data": {
      "text/plain": [
       "Index(['l_s', 'line_samples', 'lines', 'map_scale', 'north_azimuth', 'obsid'], dtype='object')"
      ]
     },
     "execution_count": 34,
     "metadata": {},
     "output_type": "execute_result"
    }
   ],
   "source": [
    "pd.read_csv(rm.metadata_path).columns"
   ]
  },
  {
   "cell_type": "code",
   "execution_count": 35,
   "metadata": {
    "ExecuteTime": {
     "end_time": "2018-02-08T15:08:43.842668Z",
     "start_time": "2018-02-08T15:08:43.816732Z"
    }
   },
   "outputs": [
    {
     "data": {
      "text/plain": [
       "False    159293\n",
       "Name: vote_ratio, dtype: int64"
      ]
     },
     "execution_count": 35,
     "metadata": {},
     "output_type": "execute_result"
    }
   ],
   "source": [
    "fans.vote_ratio.isna().value_counts()"
   ]
  },
  {
   "cell_type": "code",
   "execution_count": 36,
   "metadata": {
    "ExecuteTime": {
     "end_time": "2018-02-08T15:08:57.311884Z",
     "start_time": "2018-02-08T15:08:57.276245Z"
    }
   },
   "outputs": [
    {
     "data": {
      "text/html": [
       "<div>\n",
       "<style scoped>\n",
       "    .dataframe tbody tr th:only-of-type {\n",
       "        vertical-align: middle;\n",
       "    }\n",
       "\n",
       "    .dataframe tbody tr th {\n",
       "        vertical-align: top;\n",
       "    }\n",
       "\n",
       "    .dataframe thead th {\n",
       "        text-align: right;\n",
       "    }\n",
       "</style>\n",
       "<table border=\"1\" class=\"dataframe\">\n",
       "  <thead>\n",
       "    <tr style=\"text-align: right;\">\n",
       "      <th></th>\n",
       "      <th>angle</th>\n",
       "      <th>distance</th>\n",
       "      <th>image_id</th>\n",
       "      <th>image_name</th>\n",
       "      <th>image_x</th>\n",
       "      <th>image_y</th>\n",
       "      <th>marking_id</th>\n",
       "      <th>n_votes</th>\n",
       "      <th>obsid</th>\n",
       "      <th>spread</th>\n",
       "      <th>version</th>\n",
       "      <th>vote_ratio</th>\n",
       "      <th>x</th>\n",
       "      <th>x_angle</th>\n",
       "      <th>y</th>\n",
       "      <th>y_angle</th>\n",
       "      <th>l_s</th>\n",
       "      <th>map_scale</th>\n",
       "      <th>north_azimuth</th>\n",
       "    </tr>\n",
       "  </thead>\n",
       "  <tbody>\n",
       "    <tr>\n",
       "      <th>0</th>\n",
       "      <td>205.56</td>\n",
       "      <td>179.71</td>\n",
       "      <td>APF0000ci9</td>\n",
       "      <td>ESP_012079_0945</td>\n",
       "      <td>2270.76</td>\n",
       "      <td>24336.16</td>\n",
       "      <td>F039765</td>\n",
       "      <td>35</td>\n",
       "      <td>ESP_012079_0945</td>\n",
       "      <td>88.03</td>\n",
       "      <td>1.0</td>\n",
       "      <td>1.00</td>\n",
       "      <td>790.76</td>\n",
       "      <td>-0.90</td>\n",
       "      <td>224.16</td>\n",
       "      <td>-0.43</td>\n",
       "      <td>214.784691</td>\n",
       "      <td>0.25</td>\n",
       "      <td>126.856883</td>\n",
       "    </tr>\n",
       "    <tr>\n",
       "      <th>1</th>\n",
       "      <td>185.39</td>\n",
       "      <td>179.62</td>\n",
       "      <td>APF0000cia</td>\n",
       "      <td>ESP_012079_0945</td>\n",
       "      <td>3391.21</td>\n",
       "      <td>5640.60</td>\n",
       "      <td>F039766</td>\n",
       "      <td>15</td>\n",
       "      <td>ESP_012079_0945</td>\n",
       "      <td>21.35</td>\n",
       "      <td>1.0</td>\n",
       "      <td>1.00</td>\n",
       "      <td>431.21</td>\n",
       "      <td>-1.00</td>\n",
       "      <td>160.60</td>\n",
       "      <td>-0.09</td>\n",
       "      <td>214.784691</td>\n",
       "      <td>0.25</td>\n",
       "      <td>126.856883</td>\n",
       "    </tr>\n",
       "    <tr>\n",
       "      <th>2</th>\n",
       "      <td>184.98</td>\n",
       "      <td>500.27</td>\n",
       "      <td>APF0000cia</td>\n",
       "      <td>ESP_012079_0945</td>\n",
       "      <td>3509.96</td>\n",
       "      <td>5876.70</td>\n",
       "      <td>F039767</td>\n",
       "      <td>10</td>\n",
       "      <td>ESP_012079_0945</td>\n",
       "      <td>18.91</td>\n",
       "      <td>1.0</td>\n",
       "      <td>1.00</td>\n",
       "      <td>549.96</td>\n",
       "      <td>-1.00</td>\n",
       "      <td>396.70</td>\n",
       "      <td>-0.09</td>\n",
       "      <td>214.784691</td>\n",
       "      <td>0.25</td>\n",
       "      <td>126.856883</td>\n",
       "    </tr>\n",
       "    <tr>\n",
       "      <th>3</th>\n",
       "      <td>184.29</td>\n",
       "      <td>105.43</td>\n",
       "      <td>APF0000cia</td>\n",
       "      <td>ESP_012079_0945</td>\n",
       "      <td>3716.27</td>\n",
       "      <td>5824.50</td>\n",
       "      <td>F039769</td>\n",
       "      <td>6</td>\n",
       "      <td>ESP_012079_0945</td>\n",
       "      <td>26.41</td>\n",
       "      <td>1.0</td>\n",
       "      <td>0.68</td>\n",
       "      <td>756.27</td>\n",
       "      <td>-1.00</td>\n",
       "      <td>344.50</td>\n",
       "      <td>-0.07</td>\n",
       "      <td>214.784691</td>\n",
       "      <td>0.25</td>\n",
       "      <td>126.856883</td>\n",
       "    </tr>\n",
       "    <tr>\n",
       "      <th>4</th>\n",
       "      <td>189.42</td>\n",
       "      <td>109.50</td>\n",
       "      <td>APF0000cia</td>\n",
       "      <td>ESP_012079_0945</td>\n",
       "      <td>3452.17</td>\n",
       "      <td>6033.00</td>\n",
       "      <td>F03976a</td>\n",
       "      <td>3</td>\n",
       "      <td>ESP_012079_0945</td>\n",
       "      <td>22.58</td>\n",
       "      <td>1.0</td>\n",
       "      <td>0.51</td>\n",
       "      <td>492.17</td>\n",
       "      <td>-0.99</td>\n",
       "      <td>553.00</td>\n",
       "      <td>-0.16</td>\n",
       "      <td>214.784691</td>\n",
       "      <td>0.25</td>\n",
       "      <td>126.856883</td>\n",
       "    </tr>\n",
       "  </tbody>\n",
       "</table>\n",
       "</div>"
      ],
      "text/plain": [
       "    angle  distance    image_id       image_name  image_x   image_y  \\\n",
       "0  205.56    179.71  APF0000ci9  ESP_012079_0945  2270.76  24336.16   \n",
       "1  185.39    179.62  APF0000cia  ESP_012079_0945  3391.21   5640.60   \n",
       "2  184.98    500.27  APF0000cia  ESP_012079_0945  3509.96   5876.70   \n",
       "3  184.29    105.43  APF0000cia  ESP_012079_0945  3716.27   5824.50   \n",
       "4  189.42    109.50  APF0000cia  ESP_012079_0945  3452.17   6033.00   \n",
       "\n",
       "  marking_id  n_votes            obsid  spread  version  vote_ratio       x  \\\n",
       "0    F039765       35  ESP_012079_0945   88.03      1.0        1.00  790.76   \n",
       "1    F039766       15  ESP_012079_0945   21.35      1.0        1.00  431.21   \n",
       "2    F039767       10  ESP_012079_0945   18.91      1.0        1.00  549.96   \n",
       "3    F039769        6  ESP_012079_0945   26.41      1.0        0.68  756.27   \n",
       "4    F03976a        3  ESP_012079_0945   22.58      1.0        0.51  492.17   \n",
       "\n",
       "   x_angle       y  y_angle         l_s  map_scale  north_azimuth  \n",
       "0    -0.90  224.16    -0.43  214.784691       0.25     126.856883  \n",
       "1    -1.00  160.60    -0.09  214.784691       0.25     126.856883  \n",
       "2    -1.00  396.70    -0.09  214.784691       0.25     126.856883  \n",
       "3    -1.00  344.50    -0.07  214.784691       0.25     126.856883  \n",
       "4    -0.99  553.00    -0.16  214.784691       0.25     126.856883  "
      ]
     },
     "execution_count": 36,
     "metadata": {},
     "output_type": "execute_result"
    }
   ],
   "source": [
    "fans.head()"
   ]
  },
  {
   "cell_type": "code",
   "execution_count": 25,
   "metadata": {
    "ExecuteTime": {
     "end_time": "2018-01-09T16:13:54.793502Z",
     "start_time": "2018-01-09T15:23:08.488702Z"
    },
    "scrolled": true
   },
   "outputs": [
    {
     "data": {
      "application/vnd.jupyter.widget-view+json": {
       "model_id": "01c6e77d988549e18d7ee14bd90a11fb",
       "version_major": 2,
       "version_minor": 0
      },
      "text/html": [
       "<p>Failed to display Jupyter Widget of type <code>IntProgress</code>.</p>\n",
       "<p>\n",
       "  If you're reading this message in the Jupyter Notebook or JupyterLab Notebook, it may mean\n",
       "  that the widgets JavaScript is still loading. If this message persists, it\n",
       "  likely means that the widgets JavaScript library is either not installed or\n",
       "  not enabled. See the <a href=\"https://ipywidgets.readthedocs.io/en/stable/user_install.html\">Jupyter\n",
       "  Widgets Documentation</a> for setup instructions.\n",
       "</p>\n",
       "<p>\n",
       "  If you're reading this message in another frontend (for example, a static\n",
       "  rendering on GitHub or <a href=\"https://nbviewer.jupyter.org/\">NBViewer</a>),\n",
       "  it may mean that your frontend doesn't currently support widgets.\n",
       "</p>\n"
      ],
      "text/plain": [
       "IntProgress(value=0, max=220)"
      ]
     },
     "metadata": {},
     "output_type": "display_data"
    },
    {
     "name": "stderr",
     "output_type": "stream",
     "text": [
      "100%|██████████| 221/221 [01:30<00:00,  2.45it/s]\n"
     ]
    },
    {
     "name": "stdout",
     "output_type": "stream",
     "text": [
      "Created /Users/klay6683/Dropbox/data/planet4/P4_catalog_v1.0b4/P4_catalog_v1.0b4_L1C_cut_0.5_fan.csv.\n",
      "Created /Users/klay6683/Dropbox/data/planet4/P4_catalog_v1.0b4/P4_catalog_v1.0b4_L1C_cut_0.5_blotch.csv.\n"
     ]
    },
    {
     "data": {
      "application/vnd.jupyter.widget-view+json": {
       "model_id": "926efaa4bf444690a82ed8eba0a07364",
       "version_major": 2,
       "version_minor": 0
      },
      "text/html": [
       "<p>Failed to display Jupyter Widget of type <code>IntProgress</code>.</p>\n",
       "<p>\n",
       "  If you're reading this message in the Jupyter Notebook or JupyterLab Notebook, it may mean\n",
       "  that the widgets JavaScript is still loading. If this message persists, it\n",
       "  likely means that the widgets JavaScript library is either not installed or\n",
       "  not enabled. See the <a href=\"https://ipywidgets.readthedocs.io/en/stable/user_install.html\">Jupyter\n",
       "  Widgets Documentation</a> for setup instructions.\n",
       "</p>\n",
       "<p>\n",
       "  If you're reading this message in another frontend (for example, a static\n",
       "  rendering on GitHub or <a href=\"https://nbviewer.jupyter.org/\">NBViewer</a>),\n",
       "  it may mean that your frontend doesn't currently support widgets.\n",
       "</p>\n"
      ],
      "text/plain": [
       "IntProgress(value=0, max=220)"
      ]
     },
     "metadata": {},
     "output_type": "display_data"
    },
    {
     "name": "stderr",
     "output_type": "stream",
     "text": [
      "100%|██████████| 221/221 [00:03<00:00, 59.02it/s]\n",
      "100%|██████████| 221/221 [00:11<00:00, 18.47it/s]\n"
     ]
    }
   ],
   "source": [
    "rm.launch_catalog_production()"
   ]
  },
  {
   "cell_type": "markdown",
   "metadata": {
    "heading_collapsed": true
   },
   "source": [
    "# Debugging"
   ]
  },
  {
   "cell_type": "code",
   "execution_count": null,
   "metadata": {
    "collapsed": true,
    "hidden": true
   },
   "outputs": [],
   "source": [
    "from planet4.fnotching import get_clusters_in_path\n",
    "\n",
    "def find_bad_obsid(obsid, savedir):\n",
    "    pm = io.PathManager(obsid=obsid, datapath=savedir)\n",
    "    paths = pm.get_obsid_paths('L1A')\n",
    "    if len(paths) == 0:\n",
    "        logger.warning(\"No paths to fnotch found for %s\", obsid)\n",
    "    fans = []\n",
    "    blotches = []\n",
    "    for path in paths:\n",
    "        f, b = get_clusters_in_path(path)\n",
    "        fans.append(f)\n",
    "        blotches.append(b)\n",
    "    fans = pd.concat(fans, ignore_index=True)"
   ]
  },
  {
   "cell_type": "code",
   "execution_count": 24,
   "metadata": {
    "ExecuteTime": {
     "end_time": "2017-10-30T22:10:37.154990Z",
     "start_time": "2017-10-30T22:10:37.127499Z"
    },
    "hidden": true
   },
   "outputs": [
    {
     "data": {
      "text/plain": [
       "'catalog_1.0b2'"
      ]
     },
     "execution_count": 24,
     "metadata": {},
     "output_type": "execute_result"
    }
   ],
   "source": [
    "folder"
   ]
  },
  {
   "cell_type": "code",
   "execution_count": null,
   "metadata": {
    "hidden": true
   },
   "outputs": [],
   "source": [
    "for obsid in obsids:\n",
    "    print(obsid)\n",
    "    find_bad_obsid(obsid, folder)"
   ]
  },
  {
   "cell_type": "code",
   "execution_count": null,
   "metadata": {
    "hidden": true
   },
   "outputs": [],
   "source": [
    "import holoviews as hv\n",
    "hv.notebook_extension()"
   ]
  },
  {
   "cell_type": "code",
   "execution_count": null,
   "metadata": {
    "collapsed": true,
    "hidden": true
   },
   "outputs": [],
   "source": [
    "from planet4.io import get_subframe"
   ]
  },
  {
   "cell_type": "code",
   "execution_count": null,
   "metadata": {
    "collapsed": true,
    "hidden": true
   },
   "outputs": [],
   "source": [
    "obsid = 'ESP_022273_0950'"
   ]
  },
  {
   "cell_type": "code",
   "execution_count": null,
   "metadata": {
    "collapsed": true,
    "hidden": true
   },
   "outputs": [],
   "source": [
    "data = db.get_image_name_markings(obsid)[['image_id', 'image_url']]"
   ]
  },
  {
   "cell_type": "code",
   "execution_count": null,
   "metadata": {
    "collapsed": true,
    "hidden": true
   },
   "outputs": [],
   "source": [
    "data.set_index('image_id', drop=True, inplace=True)"
   ]
  },
  {
   "cell_type": "code",
   "execution_count": null,
   "metadata": {
    "collapsed": true,
    "hidden": true
   },
   "outputs": [],
   "source": [
    "data.drop_duplicates(inplace=True)"
   ]
  },
  {
   "cell_type": "code",
   "execution_count": null,
   "metadata": {
    "collapsed": true,
    "hidden": true
   },
   "outputs": [],
   "source": [
    "def show_subframe(image_id):\n",
    "    img = get_subframe(data.loc[data.index[0]].values[0])\n",
    "    return hv.Raster(img)"
   ]
  },
  {
   "cell_type": "code",
   "execution_count": null,
   "metadata": {
    "collapsed": true,
    "hidden": true
   },
   "outputs": [],
   "source": [
    "%output size=150"
   ]
  },
  {
   "cell_type": "code",
   "execution_count": null,
   "metadata": {
    "hidden": true
   },
   "outputs": [],
   "source": [
    "%%opts Raster [xaxis=None, yaxis=None]\n",
    "show_subframe(data.index[0])+show_subframe(data.index[1])"
   ]
  },
  {
   "cell_type": "code",
   "execution_count": null,
   "metadata": {
    "hidden": true
   },
   "outputs": [],
   "source": [
    "dmap = hv.DynamicMap(show_subframe, kdims=['image_id'])\n",
    "dmap"
   ]
  },
  {
   "cell_type": "code",
   "execution_count": null,
   "metadata": {
    "hidden": true
   },
   "outputs": [],
   "source": [
    "dmap.redim.values(image_id=data.index.values)"
   ]
  },
  {
   "cell_type": "code",
   "execution_count": null,
   "metadata": {
    "hidden": true
   },
   "outputs": [],
   "source": [
    "xvals = np.linspace(-4,0,202)\n",
    "yvals = np.linspace(4,0,202)\n",
    "xs,ys = np.meshgrid(xvals, yvals)\n",
    "\n",
    "def waves_image(alpha, beta):\n",
    "    return hv.Image(np.sin(((ys/alpha)**alpha+beta)*xs))\n",
    "\n",
    "waves_image(0,0) + waves_image(0,4)"
   ]
  },
  {
   "cell_type": "code",
   "execution_count": null,
   "metadata": {
    "hidden": true
   },
   "outputs": [],
   "source": [
    "dmap = hv.DynamicMap(waves_image, kdims=['alpha', 'beta'])\n",
    "dmap"
   ]
  },
  {
   "cell_type": "code",
   "execution_count": null,
   "metadata": {
    "hidden": true
   },
   "outputs": [],
   "source": [
    "dmap[0,1] + dmap.select(alpha=1, beta=2)"
   ]
  },
  {
   "cell_type": "code",
   "execution_count": null,
   "metadata": {
    "hidden": true
   },
   "outputs": [],
   "source": [
    "dmap.redim.range(alpha=(0,5.0), beta=(1,5.0))"
   ]
  },
  {
   "cell_type": "code",
   "execution_count": null,
   "metadata": {
    "hidden": true
   },
   "outputs": [],
   "source": [
    "hv.__version__"
   ]
  },
  {
   "cell_type": "code",
   "execution_count": null,
   "metadata": {
    "ExecuteTime": {
     "end_time": "2017-07-31T05:39:03.651357Z",
     "start_time": "2017-07-31T05:39:02.072948Z"
    },
    "hidden": true
   },
   "outputs": [],
   "source": [
    "for imgid in image_ids:\n",
    "    do_cluster_ids(imgid, \"without_large_fan_fnotch_on_p4_coords\" )"
   ]
  },
  {
   "cell_type": "code",
   "execution_count": null,
   "metadata": {
    "ExecuteTime": {
     "end_time": "2017-07-31T06:34:55.035742Z",
     "start_time": "2017-07-31T06:34:54.895134Z"
    },
    "collapsed": true,
    "hidden": true
   },
   "outputs": [],
   "source": [
    "obsid = 'ESP_020930_0980'\n",
    "savedir = 'fnotching_per_obsid'"
   ]
  },
  {
   "cell_type": "code",
   "execution_count": null,
   "metadata": {
    "ExecuteTime": {
     "end_time": "2017-07-31T06:28:50.265453Z",
     "start_time": "2017-07-31T06:28:49.303947Z"
    },
    "collapsed": true,
    "hidden": true
   },
   "outputs": [],
   "source": [
    "dbscanner = dbscan.DBScanner(savedir=savedir)"
   ]
  },
  {
   "cell_type": "code",
   "execution_count": null,
   "metadata": {
    "ExecuteTime": {
     "end_time": "2017-07-31T06:30:13.360723Z",
     "start_time": "2017-07-31T06:29:03.612958Z"
    },
    "collapsed": true,
    "hidden": true
   },
   "outputs": [],
   "source": [
    "dbscanner.cluster_image_name(obsid)"
   ]
  },
  {
   "cell_type": "code",
   "execution_count": null,
   "metadata": {
    "ExecuteTime": {
     "end_time": "2017-07-31T07:56:14.952010Z",
     "start_time": "2017-07-31T07:56:14.823004Z"
    },
    "hidden": true
   },
   "outputs": [],
   "source": [
    "pm.final_blotchfile"
   ]
  },
  {
   "cell_type": "code",
   "execution_count": null,
   "metadata": {
    "ExecuteTime": {
     "end_time": "2017-07-31T07:31:37.431926Z",
     "start_time": "2017-07-31T07:31:33.228991Z"
    },
    "collapsed": true,
    "hidden": true
   },
   "outputs": [],
   "source": [
    "fnotching.fnotch_obsid(obsid, savedir=savedir)"
   ]
  },
  {
   "cell_type": "code",
   "execution_count": null,
   "metadata": {
    "ExecuteTime": {
     "end_time": "2017-07-31T07:59:15.105871Z",
     "start_time": "2017-07-31T07:59:14.971043Z"
    },
    "collapsed": true,
    "hidden": true
   },
   "outputs": [],
   "source": [
    "fnotching.apply_cut_obsid(obsid, savedir=savedir)"
   ]
  },
  {
   "cell_type": "code",
   "execution_count": null,
   "metadata": {
    "collapsed": true,
    "hidden": true
   },
   "outputs": [],
   "source": []
  },
  {
   "cell_type": "code",
   "execution_count": null,
   "metadata": {
    "collapsed": true,
    "hidden": true
   },
   "outputs": [],
   "source": []
  },
  {
   "cell_type": "code",
   "execution_count": null,
   "metadata": {
    "ExecuteTime": {
     "end_time": "2017-06-12T05:29:33.630091Z",
     "start_time": "2017-06-12T05:29:33.585023Z"
    },
    "collapsed": true,
    "hidden": true
   },
   "outputs": [],
   "source": [
    "data = region_data.Inca.season2 + region_data.Inca.season3"
   ]
  },
  {
   "cell_type": "code",
   "execution_count": null,
   "metadata": {
    "ExecuteTime": {
     "end_time": "2017-06-12T04:28:47.985375Z",
     "start_time": "2017-06-12T04:27:48.599060Z"
    },
    "hidden": true,
    "scrolled": false
   },
   "outputs": [],
   "source": [
    "do_clustering(ithaca[0])"
   ]
  },
  {
   "cell_type": "code",
   "execution_count": null,
   "metadata": {
    "ExecuteTime": {
     "end_time": "2017-06-12T04:28:48.031015Z",
     "start_time": "2017-06-12T04:28:47.988698Z"
    },
    "hidden": true
   },
   "outputs": [],
   "source": [
    "ithaca[0]"
   ]
  },
  {
   "cell_type": "code",
   "execution_count": null,
   "metadata": {
    "ExecuteTime": {
     "end_time": "2017-06-12T04:28:58.454595Z",
     "start_time": "2017-06-12T04:28:58.408347Z"
    },
    "collapsed": true,
    "hidden": true
   },
   "outputs": [],
   "source": [
    "from nbtools import execute_in_parallel"
   ]
  },
  {
   "cell_type": "code",
   "execution_count": null,
   "metadata": {
    "ExecuteTime": {
     "end_time": "2017-06-12T05:56:24.928876Z",
     "start_time": "2017-06-12T05:29:36.220218Z"
    },
    "hidden": true
   },
   "outputs": [],
   "source": [
    "result = execute_in_parallel(do_clustering, data)"
   ]
  },
  {
   "cell_type": "markdown",
   "metadata": {},
   "source": [
    "# Creating obsid files"
   ]
  },
  {
   "cell_type": "code",
   "execution_count": 96,
   "metadata": {
    "ExecuteTime": {
     "end_time": "2017-10-31T00:40:01.958717Z",
     "start_time": "2017-10-31T00:40:01.929235Z"
    }
   },
   "outputs": [],
   "source": [
    "from planet4.fnotching import get_clusters_in_path"
   ]
  },
  {
   "cell_type": "code",
   "execution_count": 99,
   "metadata": {
    "ExecuteTime": {
     "end_time": "2017-12-30T06:06:41.672371Z",
     "start_time": "2017-12-30T06:06:41.637472Z"
    }
   },
   "outputs": [
    {
     "ename": "NameError",
     "evalue": "name 'roi' is not defined",
     "output_type": "error",
     "traceback": [
      "\u001b[0;31m---------------------------------------------------------------------------\u001b[0m",
      "\u001b[0;31mNameError\u001b[0m                                 Traceback (most recent call last)",
      "\u001b[0;32m<ipython-input-99-63bb1c93f866>\u001b[0m in \u001b[0;36m<module>\u001b[0;34m()\u001b[0m\n\u001b[0;32m----> 1\u001b[0;31m \u001b[0mpm\u001b[0m \u001b[0;34m=\u001b[0m \u001b[0mio\u001b[0m\u001b[0;34m.\u001b[0m\u001b[0mPathManager\u001b[0m\u001b[0;34m(\u001b[0m\u001b[0mobsid\u001b[0m\u001b[0;34m=\u001b[0m\u001b[0mroi\u001b[0m\u001b[0;34m.\u001b[0m\u001b[0mseasons\u001b[0m\u001b[0;34m[\u001b[0m\u001b[0;36m0\u001b[0m\u001b[0;34m]\u001b[0m\u001b[0;34m,\u001b[0m \u001b[0mdatapath\u001b[0m\u001b[0;34m=\u001b[0m\u001b[0mfolder\u001b[0m\u001b[0;34m)\u001b[0m\u001b[0;34m\u001b[0m\u001b[0m\n\u001b[0m",
      "\u001b[0;31mNameError\u001b[0m: name 'roi' is not defined"
     ]
    }
   ],
   "source": [
    "pm = io.PathManager(obsid=roi.seasons[0], datapath=folder)"
   ]
  },
  {
   "cell_type": "code",
   "execution_count": 98,
   "metadata": {
    "ExecuteTime": {
     "end_time": "2017-10-31T00:40:04.591550Z",
     "start_time": "2017-10-31T00:40:04.565137Z"
    }
   },
   "outputs": [
    {
     "data": {
      "text/plain": [
       "PosixPath('/Users/klay6683/Dropbox/data/planet4/catalog_1.0b2/ESP_011408_0930_blotches.csv')"
      ]
     },
     "execution_count": 98,
     "metadata": {},
     "output_type": "execute_result"
    }
   ],
   "source": [
    "pm.obsid_final_blotches_path"
   ]
  },
  {
   "cell_type": "code",
   "execution_count": 21,
   "metadata": {
    "ExecuteTime": {
     "end_time": "2017-12-30T10:37:09.089362Z",
     "start_time": "2017-12-30T10:37:09.067068Z"
    }
   },
   "outputs": [],
   "source": [
    "from planet4.catalog_production import create_roi_file"
   ]
  },
  {
   "cell_type": "code",
   "execution_count": 22,
   "metadata": {
    "ExecuteTime": {
     "end_time": "2017-12-30T10:37:09.898087Z",
     "start_time": "2017-12-30T10:37:09.874190Z"
    }
   },
   "outputs": [
    {
     "data": {
      "text/plain": [
       "'catalog_1.0b3'"
      ]
     },
     "execution_count": 22,
     "metadata": {},
     "output_type": "execute_result"
    }
   ],
   "source": [
    "savedir"
   ]
  },
  {
   "cell_type": "code",
   "execution_count": 24,
   "metadata": {
    "ExecuteTime": {
     "end_time": "2017-12-30T10:40:46.025421Z",
     "start_time": "2017-12-30T10:37:42.047717Z"
    }
   },
   "outputs": [
    {
     "name": "stderr",
     "output_type": "stream",
     "text": [
      "100%|██████████| 221/221 [02:56<00:00,  1.25it/s]\n"
     ]
    }
   ],
   "source": [
    "create_roi_file(obsids, 'catalog', savedir)"
   ]
  },
  {
   "cell_type": "code",
   "execution_count": 118,
   "metadata": {
    "ExecuteTime": {
     "end_time": "2017-12-30T06:24:23.316274Z",
     "start_time": "2017-12-30T06:24:23.293470Z"
    }
   },
   "outputs": [],
   "source": [
    "pm = io.PathManager(obsid=obsids[0], datapath=savedir)"
   ]
  },
  {
   "cell_type": "code",
   "execution_count": 119,
   "metadata": {
    "ExecuteTime": {
     "end_time": "2017-12-30T06:24:24.631594Z",
     "start_time": "2017-12-30T06:24:24.543461Z"
    }
   },
   "outputs": [],
   "source": [
    "folders = pm.get_obsid_paths('L1C')"
   ]
  },
  {
   "cell_type": "code",
   "execution_count": 132,
   "metadata": {
    "ExecuteTime": {
     "end_time": "2017-12-30T06:32:58.978730Z",
     "start_time": "2017-12-30T06:32:58.951756Z"
    }
   },
   "outputs": [],
   "source": [
    "from planet4.catalog_production import read_csvfiles_into_lists_of_frames, concat_bucket_lists"
   ]
  },
  {
   "cell_type": "code",
   "execution_count": null,
   "metadata": {},
   "outputs": [],
   "source": [
    "bucket.items()"
   ]
  },
  {
   "cell_type": "code",
   "execution_count": null,
   "metadata": {},
   "outputs": [],
   "source": []
  },
  {
   "cell_type": "code",
   "execution_count": 102,
   "metadata": {
    "ExecuteTime": {
     "end_time": "2017-10-31T00:40:19.249966Z",
     "start_time": "2017-10-31T00:40:19.220414Z"
    }
   },
   "outputs": [
    {
     "data": {
      "text/plain": [
       "['season2', 'season3']"
      ]
     },
     "execution_count": 102,
     "metadata": {},
     "output_type": "execute_result"
    }
   ],
   "source": [
    "roi.available_seasons"
   ]
  },
  {
   "cell_type": "code",
   "execution_count": 125,
   "metadata": {
    "ExecuteTime": {
     "end_time": "2017-10-31T01:32:06.234433Z",
     "start_time": "2017-10-31T01:32:06.208979Z"
    }
   },
   "outputs": [
    {
     "data": {
      "text/plain": [
       "'catalog_1.0b2'"
      ]
     },
     "execution_count": 125,
     "metadata": {},
     "output_type": "execute_result"
    }
   ],
   "source": [
    "folder"
   ]
  },
  {
   "cell_type": "code",
   "execution_count": 104,
   "metadata": {
    "ExecuteTime": {
     "end_time": "2017-10-31T00:40:23.673622Z",
     "start_time": "2017-10-31T00:40:23.557337Z"
    }
   },
   "outputs": [],
   "source": [
    "def create_roi_file_with_seasons(roi, datapath, copy_to_analysis=True):\n",
    "    Fans = []\n",
    "    Blotches = []\n",
    "    for season in roi.available_seasons:\n",
    "        print(season)\n",
    "        # keep lower case marking objects to add season column later\n",
    "        fans = []\n",
    "        blotches = []\n",
    "        for obsid in getattr(roi, season):\n",
    "            print(obsid)\n",
    "            pm = io.PathManager(obsid=obsid, datapath=datapath)\n",
    "            fans.append(pm.final_fandf)\n",
    "            blotches.append(pm.final_blotchdf)\n",
    "\n",
    "        fans = pd.concat(fans, ignore_index=True)\n",
    "        fans['season'] = season\n",
    "        Fans.append(fans)\n",
    "    \n",
    "        blotches = pd.concat(blotches, ignore_index=True)\n",
    "        blotches['season'] = season\n",
    "        Blotches.append(blotches)\n",
    "        \n",
    "    Fans = pd.concat(Fans, ignore_index=True)\n",
    "    Blotches = pd.concat(Blotches, ignore_index=True)\n",
    "    savedir = pm.path_so_far.parent\n",
    "    for marks in ['Fans', 'Blotches']:\n",
    "        savename = f\"{roi.name}_{pm.L1C_folder}_{marks}.csv\"\n",
    "        savepath = savedir / savename\n",
    "        obj = eval(marks)  # get handle to the fan or blotch object\n",
    "        obj = obj.dropna(how='all', axis=1)\n",
    "        obj.to_csv(savepath, index=False)\n",
    "        if copy_to_analysis is True:\n",
    "            savefolder = io.analysis_folder() / folder / f\"{roi.name.lower()}\"\n",
    "            savefolder.mkdir(exist_ok=True)\n",
    "            savepath = savefolder / savename\n",
    "            obj.to_csv(savepath, index=False)"
   ]
  },
  {
   "cell_type": "code",
   "execution_count": 132,
   "metadata": {
    "ExecuteTime": {
     "end_time": "2017-10-31T01:58:07.376493Z",
     "start_time": "2017-10-31T01:58:06.977116Z"
    }
   },
   "outputs": [
    {
     "name": "stdout",
     "output_type": "stream",
     "text": [
      "season2\n",
      "ESP_011460_0980\n",
      "ESP_011526_0980\n",
      "ESP_011737_0980\n",
      "ESP_012515_0980\n",
      "ESP_012594_0980\n",
      "ESP_012805_0980\n",
      "ESP_012871_0980\n",
      "season3\n",
      "ESP_022510_0980\n",
      "ESP_021587_0980\n",
      "ESP_021574_0980\n",
      "ESP_021521_0980\n",
      "ESP_021508_0980\n",
      "ESP_020941_0980\n",
      "ESP_020875_0980\n",
      "ESP_020374_0980\n",
      "ESP_020163_0980\n"
     ]
    }
   ],
   "source": [
    "create_roi_file_with_seasons(roi, folder)"
   ]
  },
  {
   "cell_type": "code",
   "execution_count": null,
   "metadata": {
    "ExecuteTime": {
     "end_time": "2017-06-12T05:26:20.773546Z",
     "start_time": "2017-06-12T05:26:20.676123Z"
    },
    "collapsed": true
   },
   "outputs": [],
   "source": [
    "def create_obsid_result_files(obsid, datapath=None):\n",
    "#     logger.debug(\"Working on %s\", obsid)\n",
    "    pm = io.PathManager(obsid=obsid, datapath=datapath)\n",
    "    # the pm.get_obsid_paths method searches for existing image_id folders inside each\n",
    "    # obsid folder\n",
    "    folders = list(pm.get_obsid_paths(pm.L1C_folder))\n",
    "    blotches = []\n",
    "    fans = []\n",
    "    for folder in folders:\n",
    "        pm.id = fnotching.get_id_from_path(folder)\n",
    "        if pm.final_blotchfile.exists() and pm.final_blotchfile.lstat().st_size > 1:\n",
    "            blotches.append(pm.final_blotchdf)\n",
    "        if pm.final_fanfile.exists() and pm.final_fanfile.lstat().st_size > 1:\n",
    "            fans.append(pm.final_fandf)\n",
    "\n",
    "    if len(blotches) > 0:\n",
    "        blotches = pd.concat(blotches, ignore_index=True)\n",
    "        blotches.dropna(how='all', axis=1, inplace=True)\n",
    "        blotches.to_csv(pm.obsid_final_blotches_path, index=False)\n",
    "        print(\"Created\", pm.obsid_final_blotches_path)\n",
    "\n",
    "    if len(fans) > 0:\n",
    "        fans = pd.concat(fans, ignore_index=True)\n",
    "        fans.dropna(how='all', axis=1, inplace=True)\n",
    "        fans.to_csv(pm.obsid_final_fans_path, index=False)\n",
    "        print(\"Created\", pm.obsid_final_fans_path)"
   ]
  },
  {
   "cell_type": "code",
   "execution_count": null,
   "metadata": {
    "ExecuteTime": {
     "end_time": "2017-06-12T06:07:27.547318Z",
     "start_time": "2017-06-12T06:05:59.784587Z"
    }
   },
   "outputs": [],
   "source": [
    "for obsid in data:\n",
    "    create_obsid_result_files(obsid, datapath='for_chase')"
   ]
  },
  {
   "cell_type": "code",
   "execution_count": null,
   "metadata": {
    "ExecuteTime": {
     "end_time": "2017-04-24T04:13:05.284512Z",
     "start_time": "2017-04-24T04:13:04.954616Z"
    },
    "collapsed": true
   },
   "outputs": [],
   "source": [
    "region = getattr(region_data, name)\n",
    "for season_no in [2, 3]:\n",
    "    season = str(season_no)\n",
    "    bucket = []\n",
    "    for obsid in getattr(region, f\"season{season}\"):\n",
    "        pm = io.PathManager(obsid=obsid)\n",
    "        df = pd.read_csv(pm.obsid_final_blotches_path)\n",
    "        df['obsid'] = obsid\n",
    "        bucket.append(df)\n",
    "\n",
    "    df = pd.concat(bucket, ignore_index=True)\n",
    "    df.to_csv(io.analysis_folder() / f\"p4_catalog/{name}_season{season}_blotches.csv\",\n",
    "              index=False)"
   ]
  },
  {
   "cell_type": "code",
   "execution_count": null,
   "metadata": {
    "ExecuteTime": {
     "end_time": "2017-06-12T04:54:28.617009Z",
     "start_time": "2017-06-12T04:54:28.577484Z"
    },
    "collapsed": true
   },
   "outputs": [],
   "source": [
    "store_folder = io.analysis_folder() / 'for_chase'\n",
    "store_folder.mkdir(exist_ok=True)"
   ]
  },
  {
   "cell_type": "code",
   "execution_count": null,
   "metadata": {
    "ExecuteTime": {
     "end_time": "2017-06-12T06:08:09.550344Z",
     "start_time": "2017-06-12T06:08:08.084699Z"
    },
    "collapsed": true
   },
   "outputs": [],
   "source": [
    "name = 'inca'"
   ]
  },
  {
   "cell_type": "code",
   "execution_count": null,
   "metadata": {
    "ExecuteTime": {
     "end_time": "2017-06-12T06:08:13.610971Z",
     "start_time": "2017-06-12T06:08:09.767188Z"
    }
   },
   "outputs": [],
   "source": [
    "p = Path('/Users/klay6683/Dropbox/data/planet4/for_chase/' + name)\n",
    "for kind in ['blotches', 'fans']:\n",
    "    bucket = []\n",
    "    filepaths = p.glob(f'*_{kind}.csv')\n",
    "    for filepath in filepaths:\n",
    "        obsid = filepath.name[:15]\n",
    "        df = pd.read_csv(filepath)\n",
    "        df['obsid'] = obsid\n",
    "        bucket.append(df)\n",
    "    df = pd.concat(bucket, ignore_index=True)\n",
    "    savedir = store_folder / f'{name}'\n",
    "    savedir.mkdir(exist_ok=True)\n",
    "    savepath = savedir / f\"{name}_{kind}.csv\"\n",
    "    print(savepath)\n",
    "    df.to_csv(savepath, index=False)\n",
    "        "
   ]
  },
  {
   "cell_type": "code",
   "execution_count": null,
   "metadata": {
    "collapsed": true
   },
   "outputs": [],
   "source": []
  }
 ],
 "metadata": {
  "anaconda-cloud": {},
  "kernelspec": {
   "display_name": "Python [default]",
   "language": "python",
   "name": "python3"
  },
  "language_info": {
   "codemirror_mode": {
    "name": "ipython",
    "version": 3
   },
   "file_extension": ".py",
   "mimetype": "text/x-python",
   "name": "python",
   "nbconvert_exporter": "python",
   "pygments_lexer": "ipython3",
   "version": "3.6.5"
  },
  "latex_envs": {
   "LaTeX_envs_menu_present": true,
   "autocomplete": true,
   "bibliofile": "biblio.bib",
   "cite_by": "apalike",
   "current_citInitial": 1,
   "eqLabelWithNumbers": true,
   "eqNumInitial": 1,
   "hotkeys": {
    "equation": "Ctrl-E",
    "itemize": "Ctrl-I"
   },
   "labels_anchors": false,
   "latex_user_defs": false,
   "report_style_numbering": false,
   "user_envs_cfg": false
  },
  "toc": {
   "base_numbering": 1,
   "nav_menu": {
    "height": "48px",
    "width": "252px"
   },
   "number_sections": false,
   "sideBar": false,
   "skip_h1_title": false,
   "title_cell": "Table of Contents",
   "title_sidebar": "Contents",
   "toc_cell": false,
   "toc_position": {
    "height": "134px",
    "left": "786.59375px",
    "right": "20px",
    "top": "70px",
    "width": "183px"
   },
   "toc_section_display": "block",
   "toc_window_display": false
  },
  "varInspector": {
   "cols": {
    "lenName": 16,
    "lenType": 16,
    "lenVar": 40
   },
   "kernels_config": {
    "python": {
     "delete_cmd_postfix": "",
     "delete_cmd_prefix": "del ",
     "library": "var_list.py",
     "varRefreshCmd": "print(var_dic_list())"
    },
    "r": {
     "delete_cmd_postfix": ") ",
     "delete_cmd_prefix": "rm(",
     "library": "var_list.r",
     "varRefreshCmd": "cat(var_dic_list()) "
    }
   },
   "types_to_exclude": [
    "module",
    "function",
    "builtin_function_or_method",
    "instance",
    "_Feature"
   ],
   "window_display": false
  }
 },
 "nbformat": 4,
 "nbformat_minor": 2
}
