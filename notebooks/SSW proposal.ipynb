{
 "metadata": {
  "name": "",
  "signature": "sha256:c74ff7fb048d3f4a901ccc8664bd1029047dc5f6b8ced7ec398ecf1ab7eb9bc5"
 },
 "nbformat": 3,
 "nbformat_minor": 0,
 "worksheets": [
  {
   "cells": [
    {
     "cell_type": "code",
     "collapsed": false,
     "input": [
      "from planet4 import get_data"
     ],
     "language": "python",
     "metadata": {},
     "outputs": [],
     "prompt_number": 1
    },
    {
     "cell_type": "code",
     "collapsed": false,
     "input": [
      "fname = get_data.get_current_database_fname()"
     ],
     "language": "python",
     "metadata": {},
     "outputs": [],
     "prompt_number": 2
    },
    {
     "cell_type": "code",
     "collapsed": false,
     "input": [
      "store= pd.HDFStore(fname)"
     ],
     "language": "python",
     "metadata": {},
     "outputs": [],
     "prompt_number": 3
    },
    {
     "cell_type": "code",
     "collapsed": false,
     "input": [
      "image_name = store.select_column('df','image_name')"
     ],
     "language": "python",
     "metadata": {},
     "outputs": [],
     "prompt_number": 13
    },
    {
     "cell_type": "code",
     "collapsed": false,
     "input": [
      "where=image_name[image_name.str.endswith('_0985')].index"
     ],
     "language": "python",
     "metadata": {},
     "outputs": [],
     "prompt_number": 16
    },
    {
     "cell_type": "code",
     "collapsed": false,
     "input": [
      "data = store.select('df', where=where)"
     ],
     "language": "python",
     "metadata": {},
     "outputs": [],
     "prompt_number": 18
    },
    {
     "cell_type": "code",
     "collapsed": false,
     "input": [
      "cleaned = data[~data.duplicated(subset='image_name')]"
     ],
     "language": "python",
     "metadata": {},
     "outputs": [],
     "prompt_number": 21
    },
    {
     "cell_type": "code",
     "collapsed": false,
     "input": [
      "times = pd.to_datetime(cleaned.acquisition_date)"
     ],
     "language": "python",
     "metadata": {},
     "outputs": [],
     "prompt_number": 26
    },
    {
     "cell_type": "code",
     "collapsed": false,
     "input": [
      "times.order()"
     ],
     "language": "python",
     "metadata": {},
     "outputs": [
      {
       "metadata": {},
       "output_type": "pyout",
       "prompt_number": 30,
       "text": [
        "9496534   2007-01-28\n",
        "9501627   2007-03-07\n",
        "9497810   2007-03-25\n",
        "9495435   2007-03-30\n",
        "9498743   2007-04-05\n",
        "9492868   2007-04-22\n",
        "9501454   2007-05-03\n",
        "9496739   2007-05-19\n",
        "9492369   2007-06-10\n",
        "5042      2009-01-07\n",
        "1         2009-01-12\n",
        "3370      2009-01-13\n",
        "10525     2009-01-18\n",
        "6645      2009-01-24\n",
        "1028      2009-01-26\n",
        "605       2009-02-08\n",
        "1159      2009-03-08\n",
        "3177      2009-03-13\n",
        "7363      2009-03-24\n",
        "1299      2009-04-11\n",
        "1278      2009-04-15\n",
        "8421      2009-04-26\n",
        "2970      2009-05-08\n",
        "7621      2009-05-14\n",
        "1306      2010-11-05\n",
        "1205      2010-11-10\n",
        "2814      2010-11-11\n",
        "6027      2010-11-17\n",
        "653       2010-11-28\n",
        "3950      2010-12-30\n",
        "10329     2011-01-05\n",
        "1536      2011-01-15\n",
        "941       2011-02-23\n",
        "900       2011-02-28\n",
        "757       2011-03-06\n",
        "1260      2011-03-12\n",
        "4         2011-03-13\n",
        "1548      2011-03-24\n",
        "3905      2011-05-31\n",
        "Name: acquisition_date, dtype: datetime64[ns]"
       ]
      }
     ],
     "prompt_number": 30
    },
    {
     "cell_type": "code",
     "collapsed": false,
     "input": [
      "cleaned.columns"
     ],
     "language": "python",
     "metadata": {},
     "outputs": [
      {
       "metadata": {},
       "output_type": "pyout",
       "prompt_number": 31,
       "text": [
        "Index([u'classification_id', u'created_at', u'image_id', u'image_name', u'image_url', u'user_name', u'marking', u'x_tile', u'y_tile', u'acquisition_date', u'local_mars_time', u'x', u'y', u'image_x', u'image_y', u'radius_1', u'radius_2', u'distance', u'angle', u'spread'], dtype='object')"
       ]
      }
     ],
     "prompt_number": 31
    },
    {
     "cell_type": "code",
     "collapsed": false,
     "input": [
      "year2 = pd.read_csv('/Users/maye/Dropbox/DDocuments/planet4/hireport_south_mars_zoo_v2/South_year_2-Table 1.csv')"
     ],
     "language": "python",
     "metadata": {},
     "outputs": [],
     "prompt_number": 82
    },
    {
     "cell_type": "code",
     "collapsed": false,
     "input": [
      "year2 = year2.dropna(how='all')"
     ],
     "language": "python",
     "metadata": {},
     "outputs": [],
     "prompt_number": 83
    },
    {
     "cell_type": "code",
     "collapsed": false,
     "input": [
      "year2.time = pd.to_datetime(year2.time)"
     ],
     "language": "python",
     "metadata": {},
     "outputs": [],
     "prompt_number": 84
    },
    {
     "cell_type": "code",
     "collapsed": false,
     "input": [
      "year2 = year2.drop(year2.filter(regex=\"Unnamed\").columns, axis=1)"
     ],
     "language": "python",
     "metadata": {},
     "outputs": [],
     "prompt_number": 85
    },
    {
     "cell_type": "code",
     "collapsed": false,
     "input": [
      "year2['is_inca'] = year2.Comment.map(lambda x: True if 'INCA' in x.upper() else False)"
     ],
     "language": "python",
     "metadata": {},
     "outputs": [],
     "prompt_number": 86
    },
    {
     "cell_type": "code",
     "collapsed": false,
     "input": [
      "inca = year2[year2.is_inca]"
     ],
     "language": "python",
     "metadata": {},
     "outputs": [],
     "prompt_number": 87
    },
    {
     "cell_type": "code",
     "collapsed": false,
     "input": [
      "inca.Ls.describe()"
     ],
     "language": "python",
     "metadata": {},
     "outputs": [
      {
       "metadata": {},
       "output_type": "pyout",
       "prompt_number": 88,
       "text": [
        "count     15.000000\n",
        "mean     221.327733\n",
        "std       28.382851\n",
        "min      187.483000\n",
        "25%      195.267500\n",
        "50%      223.319000\n",
        "75%      245.965000\n",
        "max      265.501000\n",
        "dtype: float64"
       ]
      }
     ],
     "prompt_number": 88
    },
    {
     "cell_type": "code",
     "collapsed": false,
     "input": [
      "inca['ones']= 1"
     ],
     "language": "python",
     "metadata": {},
     "outputs": [],
     "prompt_number": 89
    },
    {
     "cell_type": "code",
     "collapsed": false,
     "input": [
      "inca = inca.set_index(\"Ls\")"
     ],
     "language": "python",
     "metadata": {},
     "outputs": [],
     "prompt_number": 90
    },
    {
     "cell_type": "code",
     "collapsed": false,
     "input": [
      "%pylab inline"
     ],
     "language": "python",
     "metadata": {},
     "outputs": [
      {
       "output_type": "stream",
       "stream": "stdout",
       "text": [
        "Populating the interactive namespace from numpy and matplotlib\n"
       ]
      }
     ],
     "prompt_number": 91
    },
    {
     "cell_type": "code",
     "collapsed": false,
     "input": [
      "inca.sort_index(inplace=True)"
     ],
     "language": "python",
     "metadata": {},
     "outputs": [],
     "prompt_number": 92
    },
    {
     "cell_type": "code",
     "collapsed": false,
     "input": [
      "inca.ones.plot(style='*')"
     ],
     "language": "python",
     "metadata": {},
     "outputs": [
      {
       "metadata": {},
       "output_type": "pyout",
       "prompt_number": 93,
       "text": [
        "<matplotlib.axes.AxesSubplot at 0x1141510d0>"
       ]
      },
      {
       "metadata": {},
       "output_type": "display_data",
       "png": "[encoded data removed]",
       "text": [
        "<matplotlib.figure.Figure at 0x11416ad50>"
       ]
      }
     ],
     "prompt_number": 93
    },
    {
     "cell_type": "code",
     "collapsed": false,
     "input": [
      "print inca.index"
     ],
     "language": "python",
     "metadata": {},
     "outputs": [
      {
       "output_type": "stream",
       "stream": "stdout",
       "text": [
        "Float64Index([187.483, 189.87, 190.458, 193.457, 197.078, 198.323, 206.296, 223.319, 226.527, 233.618, 244.655, 247.275, 254.447, 261.609, 265.501], dtype='float64')\n"
       ]
      }
     ],
     "prompt_number": 94
    },
    {
     "cell_type": "code",
     "collapsed": false,
     "input": [
      "inca.index.shape"
     ],
     "language": "python",
     "metadata": {},
     "outputs": [
      {
       "metadata": {},
       "output_type": "pyout",
       "prompt_number": 81,
       "text": [
        "(15,)"
       ]
      }
     ],
     "prompt_number": 81
    },
    {
     "cell_type": "code",
     "collapsed": false,
     "input": [],
     "language": "python",
     "metadata": {},
     "outputs": []
    }
   ],
   "metadata": {}
  }
 ]
}