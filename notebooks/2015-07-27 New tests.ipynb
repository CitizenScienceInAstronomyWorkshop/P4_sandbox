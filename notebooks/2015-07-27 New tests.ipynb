{
 "cells": [
  {
   "cell_type": "markdown",
   "metadata": {},
   "source": [
    "# Creating test data set"
   ]
  },
  {
   "cell_type": "code",
   "execution_count": null,
   "metadata": {},
   "outputs": [],
   "source": [
    "from planet4 import io\n",
    "dbname = io.get_current_database_fname()\n",
    "dbname"
   ]
  },
  {
   "cell_type": "code",
   "execution_count": null,
   "metadata": {},
   "outputs": [],
   "source": [
    "db = io.DBManager()\n",
    "p4ids = db.image_ids\n",
    "p4ids[0]"
   ]
  },
  {
   "cell_type": "code",
   "execution_count": null,
   "metadata": {},
   "outputs": [],
   "source": [
    "data = db.get_image_id_markings(p4ids[1])"
   ]
  },
  {
   "cell_type": "code",
   "execution_count": null,
   "metadata": {},
   "outputs": [],
   "source": [
    "%matplotlib notebook"
   ]
  },
  {
   "cell_type": "code",
   "execution_count": null,
   "metadata": {},
   "outputs": [],
   "source": [
    "from planet4 import markings\n",
    "p4id_data = markings.ImageID(p4ids[1])"
   ]
  },
  {
   "cell_type": "code",
   "execution_count": null,
   "metadata": {},
   "outputs": [],
   "source": [
    "p4id_data.plot_all()"
   ]
  },
  {
   "cell_type": "code",
   "execution_count": null,
   "metadata": {},
   "outputs": [],
   "source": [
    "from planet4.clustering import DBScanner"
   ]
  },
  {
   "cell_type": "code",
   "execution_count": null,
   "metadata": {},
   "outputs": [],
   "source": [
    "from planet4.dbscan import DBScanner"
   ]
  },
  {
   "cell_type": "code",
   "execution_count": null,
   "metadata": {},
   "outputs": [],
   "source": [
    "reduced_fans = DBScanner(p4id_data.get_fans(), kind='fan',\n",
    "                         scope='hirise').reduced_data\n",
    "fans_data = [cluster.data for cluster in reduced_fans]\n",
    "p4id_data.plot_fans(fans=pd.DataFrame(fans_data))\n",
    "for fan in reduced_fans:\n",
    "    fan.add_midpoint_pointer(plt.gca())"
   ]
  },
  {
   "cell_type": "code",
   "execution_count": null,
   "metadata": {},
   "outputs": [],
   "source": [
    "reduced_blotches = DBScanner(p4id_data.get_blotches(), kind='blotch',\n",
    "                             scope='hirise').reduced_data\n",
    "blotches_data = [cluster.data for cluster in reduced_blotches]\n",
    "fig, ax = plt.subplots()\n",
    "p4id_data.plot_blotches(blotches=pd.DataFrame(blotches_data), ax=ax)\n",
    "p4id_data.plot_fans(fans=pd.DataFrame(fans_data), ax=ax)\n",
    "for fan in reduced_fans:\n",
    "    fan.add_midpoint_pointer(plt.gca())"
   ]
  },
  {
   "cell_type": "code",
   "execution_count": null,
   "metadata": {},
   "outputs": [],
   "source": [
    "from numpy.linalg import norm\n",
    "for blotch in reduced_blotches:\n",
    "    print(blotch.center)\n",
    "    for fan in reduced_fans:\n",
    "        fancoord = fan.base + fan.midpoint\n",
    "        delta = blotch.center - (fan.base+fan.midpoint)\n",
    "        print(norm(delta))"
   ]
  },
  {
   "cell_type": "code",
   "execution_count": null,
   "metadata": {},
   "outputs": [],
   "source": [
    "reduced_blotches[0].data"
   ]
  },
  {
   "cell_type": "code",
   "execution_count": null,
   "metadata": {},
   "outputs": [],
   "source": [
    "p4id_data.plot_fans(fans=pd.DataFrame(fans_data))"
   ]
  },
  {
   "cell_type": "code",
   "execution_count": null,
   "metadata": {},
   "outputs": [],
   "source": []
  }
 ],
 "metadata": {
  "kernelspec": {
   "display_name": "Python 3",
   "language": "python",
   "name": "python3"
  },
  "language_info": {
   "codemirror_mode": {
    "name": "ipython",
    "version": 3
   },
   "file_extension": ".py",
   "mimetype": "text/x-python",
   "name": "python",
   "nbconvert_exporter": "python",
   "pygments_lexer": "ipython3",
   "version": "3.5.0"
  }
 },
 "nbformat": 4,
 "nbformat_minor": 0
}
