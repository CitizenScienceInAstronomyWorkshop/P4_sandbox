{
 "metadata": {
  "name": "",
  "signature": "sha256:5bf07dd81b48784ff08715ab37cdd7d0b463b163dd658fc91e619046ae9d1136"
 },
 "nbformat": 3,
 "nbformat_minor": 0,
 "worksheets": [
  {
   "cells": [
    {
     "cell_type": "code",
     "collapsed": false,
     "input": [
      "from P4_sandbox import helper_functions as hf\n",
      "from P4_sandbox import overplot_blotches as ob"
     ],
     "language": "python",
     "metadata": {},
     "outputs": [],
     "prompt_number": 1
    },
    {
     "cell_type": "code",
     "collapsed": false,
     "input": [
      "data = ob.data_munging()\n",
      "colors = cycle('bgrcmyk')"
     ],
     "language": "python",
     "metadata": {},
     "outputs": [
      {
       "output_type": "stream",
       "stream": "stdout",
       "text": [
        "Reading current marked data.\n",
        "Done."
       ]
      },
      {
       "output_type": "stream",
       "stream": "stdout",
       "text": [
        "\n"
       ]
      }
     ],
     "prompt_number": 7
    },
    {
     "cell_type": "code",
     "collapsed": false,
     "input": [
      "from P4_sandbox import helper_functions as hf\n",
      "import urllib\n",
      "import shutil\n",
      "import os\n",
      "import matplotlib.pyplot as plt\n",
      "import matplotlib.image as mplimg\n",
      "from itertools import cycle\n",
      "from matplotlib.patches import Ellipse\n",
      "import sys\n",
      "\n",
      "# img id should be given on command line\n",
      "img_id = 'APF0000bha'\n",
      "blotches = ob.get_blotches(data, img_id)\n",
      "fig, ax = plt.subplots()\n",
      "ax.imshow(ob.get_image_from_record(blotches.iloc[0]))\n",
      "# for i, color in zip(xrange(len(blotches),), colors):\n",
      "#     line = blotches.iloc[i]\n",
      "#     plt.scatter(line.x, line.y, color=color)\n",
      "#     el = Ellipse((line.x, line.y),\n",
      "#              line.radius_1, line.radius_2, line.angle,\n",
      "#              fill=False, color=color, linewidth=1)\n",
      "#     ax.add_artist(el)\n",
      "ax.set_title('image_id {}'.format(img_id))\n",
      "plt.show()\n"
     ],
     "language": "python",
     "metadata": {},
     "outputs": [
      {
       "output_type": "stream",
       "stream": "stdout",
       "text": [
        "Did not find image. Downloading ...\n",
        "Done."
       ]
      },
      {
       "output_type": "stream",
       "stream": "stdout",
       "text": [
        "\n"
       ]
      },
      {
       "ename": "IOError",
       "evalue": "[Errno 2] No such file or directory: './images/50e742065e2ed21240003a1e.jpg'",
       "output_type": "pyerr",
       "traceback": [
        "---------------------------------------------------------------------------\nIOError                                   Traceback (most recent call last)",
        "<ipython-input-9-7a4bb5680baa> in <module>()\n     13 blotches = ob.get_blotches(data, img_id)\n     14 fig, ax = plt.subplots()\n---> 15 ax.imshow(ob.get_image_from_record(blotches.iloc[0]))\n     16 # for i, color in zip(xrange(len(blotches),), colors):\n     17 #     line = blotches.iloc[i]\n",
        "/Users/maye/Dropbox/src/P4_sandbox/overplot_blotches.py in get_image_from_record(line)\n     39         path = urllib.urlretrieve(url)[0]\n     40         print(\"Done.\")\n---> 41         shutil.move(path, targetpath)\n     42     else:\n     43         print(\"Found image in cache.\")\n",
        "/Applications/Canopy.app/appdata/canopy-1.3.0.1715.macosx-x86_64/Canopy.app/Contents/lib/python2.7/shutil.pyc in move(src, dst)\n    299             rmtree(src)\n    300         else:\n--> 301             copy2(src, real_dst)\n    302             os.unlink(src)\n    303 \n",
        "/Applications/Canopy.app/appdata/canopy-1.3.0.1715.macosx-x86_64/Canopy.app/Contents/lib/python2.7/shutil.pyc in copy2(src, dst)\n    128     if os.path.isdir(dst):\n    129         dst = os.path.join(dst, os.path.basename(src))\n--> 130     copyfile(src, dst)\n    131     copystat(src, dst)\n    132 \n",
        "/Applications/Canopy.app/appdata/canopy-1.3.0.1715.macosx-x86_64/Canopy.app/Contents/lib/python2.7/shutil.pyc in copyfile(src, dst)\n     81 \n     82     with open(src, 'rb') as fsrc:\n---> 83         with open(dst, 'wb') as fdst:\n     84             copyfileobj(fsrc, fdst)\n     85 \n",
        "IOError: [Errno 2] No such file or directory: './images/50e742065e2ed21240003a1e.jpg'"
       ]
      }
     ],
     "prompt_number": 9
    },
    {
     "cell_type": "code",
     "collapsed": false,
     "input": [
      "# only required for \n",
      "# img_ids = data.image_id.unique()"
     ],
     "language": "python",
     "metadata": {},
     "outputs": [],
     "prompt_number": 83
    },
    {
     "cell_type": "code",
     "collapsed": false,
     "input": [],
     "language": "python",
     "metadata": {},
     "outputs": [],
     "prompt_number": 87
    },
    {
     "cell_type": "code",
     "collapsed": false,
     "input": [],
     "language": "python",
     "metadata": {},
     "outputs": [
      {
       "metadata": {},
       "output_type": "pyout",
       "prompt_number": 101,
       "text": [
        "866685     not-logged-in-6d18a249853bf1fd44408413d30aab7e\n",
        "1821719                                        treepruner\n",
        "2077316    not-logged-in-323dfbcfc50dccdf613dce2d20f921bc\n",
        "2223773                                        benjaminct\n",
        "3107953    not-logged-in-8de32c49194a30894aeff79e70aa2d44\n",
        "3733075                                            KSF456\n",
        "3939660                                         DCLJerome\n",
        "4128782                                            Cootub\n",
        "4199298                                           RDale07\n",
        "4351969    not-logged-in-05e9ae0f10e7ad9698e20d3d114d2ab3\n",
        "4427953                                      carol hutton\n",
        "4886874                                     Squashypigeon\n",
        "5319426                                     jotaylorjones\n",
        "5319427                                     jotaylorjones\n",
        "5319428                                     jotaylorjones\n",
        "5319429                                     jotaylorjones\n",
        "5319430                                     jotaylorjones\n",
        "5642932                                           bramley\n",
        "5695120                                       JcAllen2013\n",
        "6024751                                          jonno400\n",
        "6247757    not-logged-in-33b1d26d3aa93d1966e9aa0f5a71028f\n",
        "6407550    not-logged-in-9a25ca30aca4017fe04fea7a3bf8b7d5\n",
        "6514981    not-logged-in-deec7e07aaad1c8a5c7b04b419341b42\n",
        "Name: user_name, dtype: object"
       ]
      }
     ],
     "prompt_number": 101
    },
    {
     "cell_type": "code",
     "collapsed": false,
     "input": [],
     "language": "python",
     "metadata": {},
     "outputs": []
    }
   ],
   "metadata": {}
  }
 ]
}