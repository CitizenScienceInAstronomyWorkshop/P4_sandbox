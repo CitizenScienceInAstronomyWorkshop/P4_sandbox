{
 "cells": [
  {
   "cell_type": "code",
   "execution_count": 0,
   "metadata": {
    "collapsed": false
   },
   "outputs": [],
   "source": [
    "from __future__ import print_function, division\n",
    "import os\n",
    "from planet4 import io\n",
    "from os.path import join as pjoin\n",
    "HOME = os.environ['HOME']"
   ]
  },
  {
   "cell_type": "code",
   "execution_count": 0,
   "metadata": {
    "collapsed": false
   },
   "outputs": [],
   "source": [
    "dbname = io.get_current_database_fname()"
   ]
  },
  {
   "cell_type": "code",
   "execution_count": 0,
   "metadata": {
    "collapsed": false
   },
   "outputs": [],
   "source": [
    "obsid='ESP_011544_0985'\n",
    "res = io.ResultManager(obsid)"
   ]
  },
  {
   "cell_type": "code",
   "execution_count": 0,
   "metadata": {
    "collapsed": false
   },
   "outputs": [],
   "source": [
    "res.load_dataframes()"
   ]
  },
  {
   "cell_type": "code",
   "execution_count": 0,
   "metadata": {
    "collapsed": false,
    "scrolled": true
   },
   "outputs": [],
   "source": [
    "res.blotches.columns"
   ]
  },
  {
   "cell_type": "code",
   "execution_count": 0,
   "metadata": {
    "collapsed": false
   },
   "outputs": [],
   "source": [
    "res.blotches"
   ]
  },
  {
   "cell_type": "code",
   "execution_count": 0,
   "metadata": {
    "collapsed": false
   },
   "outputs": [],
   "source": [
    "imgdata = pd.read_hdf(dbname, 'df',\n",
    "                      where='image_name='+obsid)#, columns=['image_id', 'x_tile', 'y_tile'])"
   ]
  },
  {
   "cell_type": "code",
   "execution_count": 0,
   "metadata": {
    "collapsed": false
   },
   "outputs": [],
   "source": [
    "imgdata"
   ]
  },
  {
   "cell_type": "markdown",
   "metadata": {},
   "source": [
    "I want the x and y coords of the `res` object because that's the coords of clustering results, but need the x_tile/y_tile from df for the conversion to HiRISE pixels."
   ]
  },
  {
   "cell_type": "code",
   "execution_count": 0,
   "metadata": {
    "collapsed": true
   },
   "outputs": [],
   "source": [
    "p4id = markings.ImageID('APF00006ox')"
   ]
  },
  {
   "cell_type": "code",
   "execution_count": 0,
   "metadata": {
    "collapsed": false
   },
   "outputs": [],
   "source": [
    "p4id.plot_all()"
   ]
  },
  {
   "cell_type": "code",
   "execution_count": 0,
   "metadata": {
    "collapsed": true
   },
   "outputs": [],
   "source": [
    "from skimage.io import imread\n",
    "img = imread('/Users/klay6683/data/planet4/images/ESP_011296_0975_RGB.NOMAP.tiff')"
   ]
  },
  {
   "cell_type": "code",
   "execution_count": 0,
   "metadata": {
    "collapsed": false
   },
   "outputs": [],
   "source": [
    "df.y_tile.max()"
   ]
  },
  {
   "cell_type": "code",
   "execution_count": 0,
   "metadata": {
    "collapsed": true
   },
   "outputs": [],
   "source": []
  },
  {
   "cell_type": "code",
   "execution_count": 0,
   "metadata": {
    "collapsed": false
   },
   "outputs": [],
   "source": [
    "img.shape"
   ]
  },
  {
   "cell_type": "code",
   "execution_count": 0,
   "metadata": {
    "collapsed": false
   },
   "outputs": [],
   "source": [
    "p4id.subframe.shape"
   ]
  },
  {
   "cell_type": "code",
   "execution_count": 0,
   "metadata": {
    "collapsed": false
   },
   "outputs": [],
   "source": [
    "fig, ax = plt.subplots(nrows=2)\n",
    "ax[0].imshow(p4id.subframe)\n",
    "ax[1].imshow(img[:648])"
   ]
  },
  {
   "cell_type": "code",
   "execution_count": 0,
   "metadata": {
    "collapsed": false
   },
   "outputs": [],
   "source": [
    "df.columns"
   ]
  },
  {
   "cell_type": "code",
   "execution_count": 0,
   "metadata": {
    "collapsed": true
   },
   "outputs": [],
   "source": []
  },
  {
   "cell_type": "code",
   "execution_count": 0,
   "metadata": {
    "collapsed": false
   },
   "outputs": [],
   "source": [
    "newimg = np.zeros((5, 82))"
   ]
  },
  {
   "cell_type": "code",
   "execution_count": 0,
   "metadata": {
    "collapsed": false
   },
   "outputs": [],
   "source": [
    "for index,data in zip(indices, imgdata):\n",
    "    newimg[index[0], index[1]]= data"
   ]
  },
  {
   "cell_type": "code",
   "execution_count": 0,
   "metadata": {
    "collapsed": false
   },
   "outputs": [],
   "source": [
    "plt.figure()\n",
    "plt.imshow(newimg, aspect='equal')"
   ]
  },
  {
   "cell_type": "code",
   "execution_count": 0,
   "metadata": {
    "collapsed": true
   },
   "outputs": [],
   "source": [
    "for _, blotch in res.blotches.iterrows():\n",
    "    for _, fan in res.fans.iterrows():\n",
    "        if abs(blotch.x - fan.x) < 10 and abs(blotch.y - fan.y) < 10:\n",
    "            print(\"inside 10\")\n",
    "            print(\"Blotch\", blotch, \"Fan\", fan)"
   ]
  },
  {
   "cell_type": "code",
   "execution_count": 0,
   "metadata": {
    "collapsed": false
   },
   "outputs": [],
   "source": [
    "%matplotlib qt"
   ]
  },
  {
   "cell_type": "code",
   "execution_count": 0,
   "metadata": {
    "collapsed": false
   },
   "outputs": [],
   "source": [
    "def plot_image_id(i=0):\n",
    "    imgid = res.blotches.image_id.unique().tolist()[i]\n",
    "    \n",
    "    # image 1\n",
    "    p4 = markings.ImageID(imgid)\n",
    "    fig = p4.show_subframe(aspect='equal')\n",
    "    fig.get_axes()[0].set_title(\"Planet4 id {}\".format(imgid))\n",
    "    fig.savefig('plots/'+imgid+'_1.png', dpi=150)\n",
    "    plt.close(fig)\n",
    "    \n",
    "    # image 2\n",
    "    fig, ax = plt.subplots(figsize=markings.calc_4_3(8))\n",
    "    p4.plot_fans(ax=ax)\n",
    "    p4.plot_blotches(ax=ax)\n",
    "    ax.set_title('Planet4 id {}, Original markings'.format(imgid))\n",
    "    fig.savefig('plots/'+imgid+'_2.png', dpi=150)\n",
    "    plt.close(fig)\n",
    "    \n",
    "    # image 3\n",
    "    reduced_blotches = res.blotches[res.blotches.image_id==imgid]\n",
    "    reduced_fans = res.fans[res.fans.image_id==imgid]\n",
    "    fig, ax = plt.subplots(figsize=markings.calc_4_3(8))\n",
    "    p4.plot_fans(ax=ax, fans=reduced_fans)\n",
    "    p4.plot_blotches(ax=ax, blotches=reduced_blotches)\n",
    "    ax.set_title('Planet4 id {}, Clustered markings'.format(imgid))\n",
    "    fig.savefig('plots/'+imgid+'_3.png', dpi=150)\n",
    "    plt.close(fig)\n",
    "#     plt.show()"
   ]
  },
  {
   "cell_type": "code",
   "execution_count": 0,
   "metadata": {
    "collapsed": false,
    "scrolled": true
   },
   "outputs": [],
   "source": [
    "length = len(res.blotches.image_id.unique())\n",
    "for i in range(length):\n",
    "# for i in range(3):\n",
    "    print(i*100/length,'%')\n",
    "    plot_image_id(i)"
   ]
  },
  {
   "cell_type": "code",
   "execution_count": 0,
   "metadata": {
    "collapsed": false
   },
   "outputs": [],
   "source": [
    "from IPython.html.widgets import interact"
   ]
  },
  {
   "cell_type": "code",
   "execution_count": 0,
   "metadata": {
    "collapsed": false,
    "scrolled": false
   },
   "outputs": [],
   "source": [
    "interact(plot_image_id, i=(0, len(res.blotches.image_id.unique().tolist())-1))"
   ]
  },
  {
   "cell_type": "code",
   "execution_count": 0,
   "metadata": {
    "collapsed": true
   },
   "outputs": [],
   "source": [
    "blotches = p4data[p4data.marking=='blotch']"
   ]
  },
  {
   "cell_type": "code",
   "execution_count": 0,
   "metadata": {
    "collapsed": true
   },
   "outputs": [],
   "source": []
  },
  {
   "cell_type": "code",
   "execution_count": 0,
   "metadata": {
    "collapsed": true
   },
   "outputs": [],
   "source": []
  },
  {
   "cell_type": "code",
   "execution_count": 0,
   "metadata": {
    "collapsed": true
   },
   "outputs": [],
   "source": []
  },
  {
   "cell_type": "code",
   "execution_count": 0,
   "metadata": {
    "collapsed": true
   },
   "outputs": [],
   "source": []
  },
  {
   "cell_type": "code",
   "execution_count": 0,
   "metadata": {
    "collapsed": true
   },
   "outputs": [],
   "source": []
  },
  {
   "cell_type": "code",
   "execution_count": 0,
   "metadata": {
    "collapsed": true
   },
   "outputs": [],
   "source": []
  }
 ],
 "metadata": {
  "kernelspec": {
   "display_name": "Python 3",
   "language": "python",
   "name": "python3"
  },
  "language_info": {
   "codemirror_mode": {
    "name": "ipython",
    "version": 3
   },
   "file_extension": ".py",
   "mimetype": "text/x-python",
   "name": "python",
   "nbconvert_exporter": "python",
   "pygments_lexer": "ipython3",
   "version": "3.4.3"
  }
 },
 "nbformat": 4,
 "nbformat_minor": 0
}