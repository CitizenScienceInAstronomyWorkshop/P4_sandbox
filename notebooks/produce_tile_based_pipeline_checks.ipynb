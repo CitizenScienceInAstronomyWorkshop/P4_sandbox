{
 "cells": [
  {
   "cell_type": "code",
   "execution_count": 1,
   "metadata": {
    "collapsed": true
   },
   "outputs": [],
   "source": [
    "from planet4 import io,plotting, clustering"
   ]
  },
  {
   "cell_type": "code",
   "execution_count": 2,
   "metadata": {
    "collapsed": false
   },
   "outputs": [
    {
     "data": {
      "text/plain": [
       "Database root: /Users/klay6683/Dropbox/data/planet4\n",
       "Database name: 2016-05-29_planet_four_classifications_queryable_cleaned_seasons2and3.h5"
      ]
     },
     "execution_count": 2,
     "metadata": {},
     "output_type": "execute_result"
    }
   ],
   "source": [
    "db = io.DBManager()\n",
    "db"
   ]
  },
  {
   "cell_type": "code",
   "execution_count": 3,
   "metadata": {
    "collapsed": true
   },
   "outputs": [],
   "source": [
    "image_ids = db.image_ids"
   ]
  },
  {
   "cell_type": "code",
   "execution_count": 5,
   "metadata": {
    "collapsed": false
   },
   "outputs": [],
   "source": [
    "chosen = np.random.choice(image_ids, 200)"
   ]
  },
  {
   "cell_type": "code",
   "execution_count": 4,
   "metadata": {
    "collapsed": true
   },
   "outputs": [],
   "source": [
    "from pathlib import Path"
   ]
  },
  {
   "cell_type": "code",
   "execution_count": 41,
   "metadata": {
    "collapsed": false
   },
   "outputs": [],
   "source": [
    "from ipyparallel import Client\n",
    "c = Client()\n",
    "\n",
    "lbview = c.load_balanced_view()"
   ]
  },
  {
   "cell_type": "code",
   "execution_count": 47,
   "metadata": {
    "collapsed": true
   },
   "outputs": [],
   "source": [
    "\n",
    "savepath = Path(\"/Volumes/Data/planet4/pipeline_p4_scope_checks/new_dynamic_20\")\n",
    "savepath.mkdir(exist_ok=True)\n",
    "dbname = '/Users/klay6683/Dropbox/data/planet4/2016-05-29_planet_four_classifications_queryable_cleaned_seasons2and3.h5'\n"
   ]
  },
  {
   "cell_type": "code",
   "execution_count": 43,
   "metadata": {
    "collapsed": true
   },
   "outputs": [],
   "source": [
    "from planet4.io import get_image_ids_in_folder"
   ]
  },
  {
   "cell_type": "code",
   "execution_count": 10,
   "metadata": {
    "collapsed": false
   },
   "outputs": [
    {
     "data": {
      "text/plain": [
       "<generator object Path.glob at 0x1630573b8>"
      ]
     },
     "execution_count": 10,
     "metadata": {},
     "output_type": "execute_result"
    }
   ],
   "source": [
    "(savepath.parent / 'plots').glob('*.pdf')"
   ]
  },
  {
   "cell_type": "code",
   "execution_count": 44,
   "metadata": {
    "collapsed": false
   },
   "outputs": [],
   "source": [
    "image_ids = get_image_ids_in_folder(savepath.parent / 'plots', '.pdf')"
   ]
  },
  {
   "cell_type": "code",
   "execution_count": 49,
   "metadata": {
    "collapsed": false
   },
   "outputs": [],
   "source": [
    "def cluster_and_plot(image_id):\n",
    "    from planet4 import plotting, clustering\n",
    "    cm = clustering.ClusteringManager(dbname=dbname,\n",
    "                                      scope='planet4',\n",
    "                                      output_dir=savepath,\n",
    "                                      min_samples_factor=0.15,\n",
    "                                      do_dynamic_min_samples=True,\n",
    "                                      quiet=False)\n",
    "    cm.cluster_image_id(image_id)\n",
    "    plotting.plot_image_id_pipeline(image_id, save=True, datapath=savepath,\n",
    "                                    dbname=dbname, savetitle='new_dynamic_20',\n",
    "                                    figtitle=\"min_samples: {}\".format(cm.min_samples))\n",
    "    return image_id"
   ]
  },
  {
   "cell_type": "code",
   "execution_count": 23,
   "metadata": {
    "collapsed": false
   },
   "outputs": [],
   "source": [
    "all_ids = list(chosen) + image_ids"
   ]
  },
  {
   "cell_type": "code",
   "execution_count": 21,
   "metadata": {
    "collapsed": false
   },
   "outputs": [
    {
     "data": {
      "text/plain": [
       "196"
      ]
     },
     "execution_count": 21,
     "metadata": {},
     "output_type": "execute_result"
    }
   ],
   "source": [
    "len(image_ids)"
   ]
  },
  {
   "cell_type": "code",
   "execution_count": 48,
   "metadata": {
    "collapsed": false
   },
   "outputs": [
    {
     "name": "stdout",
     "output_type": "stream",
     "text": [
      "Reduced data to 14 fan(e)s.\n",
      "Reduced data to 29 blotch(e)s.\n",
      "n_classifications: 27\n",
      "min_samples: 4\n"
     ]
    },
    {
     "data": {
      "text/plain": [
       "'APF00000nf'"
      ]
     },
     "execution_count": 48,
     "metadata": {},
     "output_type": "execute_result"
    }
   ],
   "source": [
    "cluster_and_plot(image_ids[0])"
   ]
  },
  {
   "cell_type": "code",
   "execution_count": 50,
   "metadata": {
    "collapsed": true
   },
   "outputs": [],
   "source": [
    "results = lbview.map_async(cluster_and_plot, image_ids)"
   ]
  },
  {
   "cell_type": "code",
   "execution_count": 51,
   "metadata": {
    "collapsed": false
   },
   "outputs": [],
   "source": [
    "display_multi_progress(results, image_ids)"
   ]
  },
  {
   "cell_type": "code",
   "execution_count": null,
   "metadata": {
    "collapsed": true
   },
   "outputs": [],
   "source": []
  },
  {
   "cell_type": "code",
   "execution_count": null,
   "metadata": {
    "collapsed": true
   },
   "outputs": [],
   "source": [
    "for res in res"
   ]
  },
  {
   "cell_type": "code",
   "execution_count": 55,
   "metadata": {
    "collapsed": false
   },
   "outputs": [
    {
     "data": {
      "text/plain": [
       "5.5"
      ]
     },
     "execution_count": 55,
     "metadata": {},
     "output_type": "execute_result"
    }
   ],
   "source": [
    "np.array(l1+l2).mean()"
   ]
  },
  {
   "cell_type": "code",
   "execution_count": 23,
   "metadata": {
    "collapsed": false
   },
   "outputs": [],
   "source": [
    "from nbtools import display_multi_progress"
   ]
  },
  {
   "cell_type": "code",
   "execution_count": 47,
   "metadata": {
    "collapsed": false
   },
   "outputs": [
    {
     "data": {
      "text/plain": [
       "array(['APF0000c45', 'APF00007tk', 'APF0000d0h', 'APF0000ccg', 'APF00009hs'], dtype=object)"
      ]
     },
     "execution_count": 47,
     "metadata": {},
     "output_type": "execute_result"
    }
   ],
   "source": [
    "chosen[:5]"
   ]
  },
  {
   "cell_type": "code",
   "execution_count": 49,
   "metadata": {
    "collapsed": false
   },
   "outputs": [
    {
     "data": {
      "text/plain": [
       "array([[170]])"
      ]
     },
     "execution_count": 49,
     "metadata": {},
     "output_type": "execute_result"
    }
   ],
   "source": [
    "np.argwhere(chosen == 'APF0000cag')"
   ]
  },
  {
   "cell_type": "code",
   "execution_count": 50,
   "metadata": {
    "collapsed": false
   },
   "outputs": [
    {
     "data": {
      "text/plain": [
       "array(['APF0000c45', 'APF00007tk', 'APF0000d0h', 'APF0000ccg',\n",
       "       'APF00009hs', 'APF0000aeo', 'APF0000e62', 'APF0000squ',\n",
       "       'APF00009hn', 'APF0000s2e', 'APF0000ecv', 'APF0000t36',\n",
       "       'APF0000kr6', 'APF00006f6', 'APF0000ob5', 'APF00004tj',\n",
       "       'APF00002ff', 'APF0000bvc', 'APF0000361', 'APF0000gkl',\n",
       "       'APF0000prh', 'APF000096g', 'APF000055l', 'APF0000x2c',\n",
       "       'APF0000qrf', 'APF0000rdg', 'APF0000jby', 'APF0000r7x',\n",
       "       'APF0000pur', 'APF0000tu1', 'APF0000p14', 'APF0000pr4',\n",
       "       'APF00001xr', 'APF0000nfw', 'APF00004fi', 'APF0000eal',\n",
       "       'APF00005n4', 'APF0000scj', 'APF000011s', 'APF00004hy',\n",
       "       'APF0000uyd', 'APF0000why', 'APF000067l', 'APF0000mzi',\n",
       "       'APF0000k78', 'APF0000npu', 'APF00005yo', 'APF00006v9',\n",
       "       'APF0000kqx', 'APF0000406', 'APF0000ixc', 'APF0000hvy',\n",
       "       'APF0000p3o', 'APF00004pu', 'APF00001qd', 'APF0000c3r',\n",
       "       'APF0000abe', 'APF00008gt', 'APF0000w2v', 'APF00003ue',\n",
       "       'APF00009bt', 'APF0000n8m', 'APF00002hl', 'APF0000rtu',\n",
       "       'APF00008t5', 'APF00006e4', 'APF00001l7', 'APF0000v4u',\n",
       "       'APF0000rac', 'APF000061b', 'APF0000hoo', 'APF0000kwu',\n",
       "       'APF00009bz', 'APF0000lic', 'APF0000euv', 'APF00001f5',\n",
       "       'APF0000b4c', 'APF00009bv', 'APF0000meo', 'APF000059s',\n",
       "       'APF0000258', 'APF0000hes', 'APF0000sio', 'APF0000bnn',\n",
       "       'APF0000vip', 'APF0000qxp', 'APF0000v2f', 'APF0000gdl',\n",
       "       'APF0000re4', 'APF0000h3k', 'APF0000eui', 'APF0000jv0',\n",
       "       'APF00000mu', 'APF0000nye', 'APF0000qx3', 'APF0000ve6',\n",
       "       'APF0000hsg', 'APF0000h1z', 'APF000093h', 'APF0000dj5',\n",
       "       'APF0000jrd', 'APF000035a', 'APF0000e53', 'APF0000sqh',\n",
       "       'APF00002xd', 'APF0000wg0', 'APF0000tem', 'APF0000hk3',\n",
       "       'APF0000n9j', 'APF0000g74', 'APF00007we', 'APF00001pq',\n",
       "       'APF0000su1', 'APF0000n2h', 'APF0000of3', 'APF00006ll',\n",
       "       'APF0000n6y', 'APF00000a3', 'APF00003sk', 'APF00000ur',\n",
       "       'APF00009jy', 'APF0000a7g', 'APF00002dt', 'APF00006w6',\n",
       "       'APF0000r6c', 'APF0000jnw', 'APF00006qj', 'APF000089j',\n",
       "       'APF0000481', 'APF0000t1e', 'APF0000krt', 'APF0000kx2',\n",
       "       'APF0000aop', 'APF0000d36', 'APF0000nd0', 'APF0000c7y',\n",
       "       'APF0000qrn', 'APF0000guq', 'APF0000h3a', 'APF0000kru',\n",
       "       'APF0000by8', 'APF0000tc5', 'APF0000hzy', 'APF00009jd',\n",
       "       'APF0000dch', 'APF0000mj2', 'APF0000gvo', 'APF00000xf',\n",
       "       'APF0000q5i', 'APF0000hf2', 'APF0000lxd', 'APF0000ewo',\n",
       "       'APF00008j2', 'APF0000k2f', 'APF0000n08', 'APF0000v4q',\n",
       "       'APF0000ikg', 'APF0000g4r', 'APF0000pzm', 'APF0000h80',\n",
       "       'APF0000he2', 'APF00005cq', 'APF0000nvc', 'APF0000cmf',\n",
       "       'APF0000c4d', 'APF0000sr2', 'APF00000vz', 'APF0000t58',\n",
       "       'APF000000b', 'APF0000haf', 'APF0000cag', 'APF0000kto',\n",
       "       'APF0000jur', 'APF0000azd', 'APF0000s40', 'APF0000t3t',\n",
       "       'APF0000on4', 'APF0000lu2', 'APF0000kst', 'APF00001sp',\n",
       "       'APF0000tl1', 'APF00000o4', 'APF0000rfo', 'APF0000kdl',\n",
       "       'APF00005bt', 'APF0000d0r', 'APF0000ugh', 'APF00007o1',\n",
       "       'APF00004jn', 'APF0000odb', 'APF00007yg', 'APF00007uo',\n",
       "       'APF00009vn', 'APF0000nfd', 'APF0000kdw', 'APF0000eeq',\n",
       "       'APF00000uu', 'APF0000436', 'APF0000ds3', 'APF0000jk0'], dtype=object)"
      ]
     },
     "execution_count": 50,
     "metadata": {},
     "output_type": "execute_result"
    }
   ],
   "source": [
    "chosen"
   ]
  },
  {
   "cell_type": "code",
   "execution_count": 46,
   "metadata": {
    "collapsed": false
   },
   "outputs": [
    {
     "ename": "KeyboardInterrupt",
     "evalue": "",
     "output_type": "error",
     "traceback": [
      "\u001b[0;31m---------------------------------------------------------------------------\u001b[0m",
      "\u001b[0;31mKeyboardInterrupt\u001b[0m                         Traceback (most recent call last)",
      "\u001b[0;32m<ipython-input-46-a61374fec67d>\u001b[0m in \u001b[0;36m<module>\u001b[0;34m()\u001b[0m\n\u001b[0;32m----> 1\u001b[0;31m \u001b[0mdisplay_multi_progress\u001b[0m\u001b[0;34m(\u001b[0m\u001b[0mresults\u001b[0m\u001b[0;34m,\u001b[0m \u001b[0mchosen\u001b[0m\u001b[0;34m)\u001b[0m\u001b[0;34m\u001b[0m\u001b[0m\n\u001b[0m",
      "\u001b[0;32m/Users/klay6683/Dropbox/src/nbtools/nbtools/progressbars.py\u001b[0m in \u001b[0;36mdisplay_multi_progress\u001b[0;34m(results, objectlist, sleep)\u001b[0m\n\u001b[1;32m     20\u001b[0m     \u001b[0;32mwhile\u001b[0m \u001b[0;32mnot\u001b[0m \u001b[0mresults\u001b[0m\u001b[0;34m.\u001b[0m\u001b[0mready\u001b[0m\u001b[0;34m(\u001b[0m\u001b[0;34m)\u001b[0m\u001b[0;34m:\u001b[0m\u001b[0;34m\u001b[0m\u001b[0m\n\u001b[1;32m     21\u001b[0m         \u001b[0mprog\u001b[0m\u001b[0;34m.\u001b[0m\u001b[0mvalue\u001b[0m \u001b[0;34m=\u001b[0m \u001b[0mresults\u001b[0m\u001b[0;34m.\u001b[0m\u001b[0mprogress\u001b[0m\u001b[0;34m\u001b[0m\u001b[0m\n\u001b[0;32m---> 22\u001b[0;31m         \u001b[0mtime\u001b[0m\u001b[0;34m.\u001b[0m\u001b[0msleep\u001b[0m\u001b[0;34m(\u001b[0m\u001b[0msleep\u001b[0m\u001b[0;34m)\u001b[0m\u001b[0;34m\u001b[0m\u001b[0m\n\u001b[0m\u001b[1;32m     23\u001b[0m \u001b[0;34m\u001b[0m\u001b[0m\n\u001b[1;32m     24\u001b[0m \u001b[0;34m\u001b[0m\u001b[0m\n",
      "\u001b[0;31mKeyboardInterrupt\u001b[0m: "
     ]
    }
   ],
   "source": [
    "display_multi_progress(results, chosen)"
   ]
  },
  {
   "cell_type": "code",
   "execution_count": 18,
   "metadata": {
    "collapsed": true
   },
   "outputs": [],
   "source": [
    "from planet4 import stats"
   ]
  },
  {
   "cell_type": "code",
   "execution_count": 17,
   "metadata": {
    "collapsed": false
   },
   "outputs": [
    {
     "data": {
      "text/plain": [
       "Database root: /Users/klay6683/Dropbox/data/planet4\n",
       "Database name: 2016-05-29_planet_four_classifications_queryable_cleaned_seasons2and3.h5"
      ]
     },
     "execution_count": 17,
     "metadata": {},
     "output_type": "execute_result"
    }
   ],
   "source": [
    "db"
   ]
  },
  {
   "cell_type": "code",
   "execution_count": null,
   "metadata": {
    "collapsed": true
   },
   "outputs": [],
   "source": [
    "i"
   ]
  },
  {
   "cell_type": "code",
   "execution_count": 19,
   "metadata": {
    "collapsed": false
   },
   "outputs": [
    {
     "data": {
      "text/plain": [
       "0.3375"
      ]
     },
     "execution_count": 19,
     "metadata": {},
     "output_type": "execute_result"
    }
   ],
   "source": [
    "stats.get_fb_to_all_ratio(db.get_image_id_markings('0nf'))"
   ]
  },
  {
   "cell_type": "code",
   "execution_count": 20,
   "metadata": {
    "collapsed": true
   },
   "outputs": [],
   "source": [
    "data = db.get_image_id_markings('0nf')"
   ]
  },
  {
   "cell_type": "code",
   "execution_count": null,
   "metadata": {
    "collapsed": true
   },
   "outputs": [],
   "source": [
    "data[data.marking=='fan']"
   ]
  }
 ],
 "metadata": {
  "kernelspec": {
   "display_name": "Python [conda env:stable]",
   "language": "python",
   "name": "conda-env-stable-py"
  },
  "language_info": {
   "codemirror_mode": {
    "name": "ipython",
    "version": 3
   },
   "file_extension": ".py",
   "mimetype": "text/x-python",
   "name": "python",
   "nbconvert_exporter": "python",
   "pygments_lexer": "ipython3",
   "version": "3.5.2"
  }
 },
 "nbformat": 4,
 "nbformat_minor": 0
}
