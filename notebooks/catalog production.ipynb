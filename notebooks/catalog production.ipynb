{
 "cells": [
  {
   "cell_type": "code",
   "execution_count": 1,
   "metadata": {
    "collapsed": false,
    "deletable": true,
    "editable": true
   },
   "outputs": [],
   "source": [
    "from planet4 import markings, dbscan, io"
   ]
  },
  {
   "cell_type": "markdown",
   "metadata": {},
   "source": [
    "### Some regiondata to produce"
   ]
  },
  {
   "cell_type": "code",
   "execution_count": 2,
   "metadata": {
    "collapsed": true
   },
   "outputs": [],
   "source": [
    "from planet4 import region_data"
   ]
  },
  {
   "cell_type": "code",
   "execution_count": 4,
   "metadata": {
    "collapsed": false
   },
   "outputs": [
    {
     "name": "stdout",
     "output_type": "stream",
     "text": [
      "['PSP_002380_0985', 'PSP_002868_0985', 'PSP_003092_0985', 'PSP_003158_0985', 'PSP_003237_0985', 'PSP_003448_0985', 'PSP_003593_0985', 'PSP_003770_0815', 'PSP_003804_0985', 'PSP_003928_0815', 'PSP_004081_0985', 'PSP_004371_0985']\n",
      "['ESP_013113_0985', 'ESP_013034_0985', 'ESP_012889_0985', 'ESP_012744_0985', 'ESP_012691_0985', 'ESP_012467_0985', 'ESP_012322_0985', 'ESP_012256_0985', 'ESP_011900_0985', 'ESP_011729_0985', 'ESP_011702_0985', 'ESP_011623_0985', 'ESP_011557_0985', 'ESP_011544_0985', 'ESP_011491_0985']\n",
      "['ESP_022699_0985', 'ESP_021460_0985', 'ESP_020959_0985', 'ESP_020748_0985', 'ESP_020194_0985', 'ESP_020128_0985', 'ESP_020049_0985', 'ESP_021829_0985', 'ESP_021684_0985', 'ESP_021671_0985', 'ESP_021605_0985', 'ESP_021526_0985', 'ESP_020827_0985', 'ESP_020339_0985', 'ESP_020115_0985']\n",
      "['ESP_030084_0985', 'ESP_030229_0985', 'ESP_029886_0985', 'ESP_029596_0985', 'ESP_029240_0985', 'ESP_029227_0985', 'ESP_029095_0985', 'ESP_028911_0985', 'ESP_028910_0985', 'ESP_028884_0985', 'ESP_028752_0985', 'ESP_030163_0985', 'ESP_029807_0985', 'ESP_029741_0985', 'ESP_029662_0985', 'ESP_029108_0985']\n"
     ]
    }
   ],
   "source": [
    "dbscanner = dbscan.DBScanner()\n",
    "for season in region_data.Inca.seasons:\n",
    "    for image_name in season:\n",
    "        dbscanner.cluster_image_name(image_name)"
   ]
  },
  {
   "cell_type": "code",
   "execution_count": null,
   "metadata": {
    "collapsed": false,
    "deletable": true,
    "editable": true
   },
   "outputs": [],
   "source": [
    "image_names = store.select_column('df', 'image_name').unique()"
   ]
  },
  {
   "cell_type": "code",
   "execution_count": null,
   "metadata": {
    "collapsed": false,
    "deletable": true,
    "editable": true
   },
   "outputs": [],
   "source": [
    "from IPython.parallel import Client\n",
    "client = Client()"
   ]
  },
  {
   "cell_type": "code",
   "execution_count": null,
   "metadata": {
    "collapsed": false,
    "deletable": true,
    "editable": true
   },
   "outputs": [],
   "source": [
    "dview = client.direct_view()\n",
    "lview = client.load_balanced_view()"
   ]
  },
  {
   "cell_type": "code",
   "execution_count": null,
   "metadata": {
    "collapsed": true,
    "deletable": true,
    "editable": true
   },
   "outputs": [],
   "source": [
    "%%px\n",
    "import pandas as pd\n",
    "from planet4 import clustering, markings\n",
    "from os.path import join as pjoin\n",
    "import os\n",
    "HOME = os.environ['HOME']"
   ]
  },
  {
   "cell_type": "code",
   "execution_count": null,
   "metadata": {
    "collapsed": false,
    "deletable": true,
    "editable": true
   },
   "outputs": [],
   "source": [
    "def do_clustering(p4img, fans):\n",
    "    if fans:\n",
    "        reduced = clustering.perform_dbscan(p4img.get_fans(), fans=fans)\n",
    "    else:\n",
    "        reduced = clustering.perform_dbscan(p4img.get_blotches(), fans=fans)\n",
    "    if reduced is None:\n",
    "        return None\n",
    "    series = [cluster.data for cluster in reduced]\n",
    "    n_members = [cluster.n_members for cluster in reduced]\n",
    "    df = pd.DataFrame(series)\n",
    "    df['image_id'] = p4img.imgid\n",
    "    df['n_members'] = n_members\n",
    "    return df\n",
    "    \n",
    "def process_image_name(image_name):\n",
    "    dirname = pjoin(HOME, 'data/planet4/reduced')\n",
    "    blotchfname = pjoin(dirname, image_name+'_reduced_blotches.hdf')\n",
    "    fanfname = pjoin(dirname, image_name+'_reduced_fans.hdf')\n",
    "    if os.path.exists(blotchfname) and\\\n",
    "            os.path.exists(fanfname):\n",
    "        return image_name+' already done.'\n",
    "    data = pd.read_hdf(dbfile, 'df', where=\"image_name=\"+image_name)\n",
    "    img_ids = data.image_id.unique()\n",
    "    blotches = []\n",
    "    fans = []\n",
    "    for img_id in img_ids:\n",
    "        p4img = markings.ImageID(img_id)\n",
    "        blotches.append(do_clustering(p4img, fans=False))\n",
    "        fans.append(do_clustering(p4img, fans=True))\n",
    "    blotches = pd.concat(blotches, ignore_index=True)\n",
    "    blotches.to_hdf(blotchfname, 'df')\n",
    "    fans = pd.concat(fans, ignore_index=True)\n",
    "    fans.to_hdf(fanfname, 'df')\n",
    "    return image_name"
   ]
  },
  {
   "cell_type": "code",
   "execution_count": null,
   "metadata": {
    "collapsed": false,
    "deletable": true,
    "editable": true
   },
   "outputs": [],
   "source": [
    "dview.push({'do_clustering':do_clustering,\n",
    "            'dbfile':dbfile})"
   ]
  },
  {
   "cell_type": "code",
   "execution_count": null,
   "metadata": {
    "collapsed": false,
    "deletable": true,
    "editable": true
   },
   "outputs": [],
   "source": [
    "result = lview.map_async(process_image_name, image_names)"
   ]
  },
  {
   "cell_type": "code",
   "execution_count": null,
   "metadata": {
    "collapsed": false,
    "deletable": true,
    "editable": true
   },
   "outputs": [],
   "source": [
    "for res in result:\n",
    "    print(res)"
   ]
  },
  {
   "cell_type": "code",
   "execution_count": null,
   "metadata": {
    "collapsed": false,
    "deletable": true,
    "editable": true,
    "scrolled": false
   },
   "outputs": [],
   "source": [
    "import time\n",
    "import sys\n",
    "while not result.ready():\n",
    "    print(\"{:.1f} %\".format(100*result.progress/len(image_names)))\n",
    "    sys.stdout.flush()\n",
    "    time.sleep(30)"
   ]
  },
  {
   "cell_type": "code",
   "execution_count": null,
   "metadata": {
    "collapsed": false,
    "deletable": true,
    "editable": true
   },
   "outputs": [],
   "source": [
    "reducedfiles = !ls ~/data/planet4/reduced\n",
    "nooffiles = len(reducedfiles)\n",
    "print(\"Produced\", nooffiles, \"files.\")"
   ]
  },
  {
   "cell_type": "code",
   "execution_count": null,
   "metadata": {
    "collapsed": false,
    "deletable": true,
    "editable": true
   },
   "outputs": [],
   "source": [
    "from planet4.get_data import is_catalog_production_good"
   ]
  },
  {
   "cell_type": "code",
   "execution_count": null,
   "metadata": {
    "collapsed": false,
    "deletable": true,
    "editable": true
   },
   "outputs": [],
   "source": [
    "is_catalog_production_good()"
   ]
  },
  {
   "cell_type": "code",
   "execution_count": null,
   "metadata": {
    "collapsed": true,
    "deletable": true,
    "editable": true
   },
   "outputs": [],
   "source": []
  }
 ],
 "metadata": {
  "anaconda-cloud": {},
  "kernelspec": {
   "display_name": "Python [conda env:stable]",
   "language": "python",
   "name": "conda-env-stable-py"
  },
  "language_info": {
   "codemirror_mode": {
    "name": "ipython",
    "version": 3
   },
   "file_extension": ".py",
   "mimetype": "text/x-python",
   "name": "python",
   "nbconvert_exporter": "python",
   "pygments_lexer": "ipython3",
   "version": "3.6.0"
  }
 },
 "nbformat": 4,
 "nbformat_minor": 0
}
