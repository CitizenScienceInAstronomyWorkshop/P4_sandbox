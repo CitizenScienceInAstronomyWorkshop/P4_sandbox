{
 "cells": [
  {
   "cell_type": "code",
   "execution_count": null,
   "metadata": {
    "collapsed": false
   },
   "outputs": [],
   "source": [
    "# setup\n",
    "import planet4 as p4\n",
    "import pandas as pd\n",
    "from pathlib import Path\n",
    "\n",
    "from planet4 import clustering, markings, io\n",
    "data = {'x':[210,211,212], 'y':[100,102, 104], 'image_x':[10010,10011,10012], \n",
    "        'image_y':[20000,20002,20004],\n",
    "        'angle':[34, 37,48], 'radius_1':[20,21,19], 'radius_2':[50,51,52]}\n",
    "three_blotches_data = pd.DataFrame(data)\n",
    "blotch = markings.Blotch(three_blotches_data.iloc[0])\n",
    "\n",
    "import warnings\n",
    "\n",
    "with warnings.catch_warnings():\n",
    "    warnings.filterwarnings(\"ignore\",category=DeprecationWarning)"
   ]
  },
  {
   "cell_type": "code",
   "execution_count": null,
   "metadata": {
    "collapsed": false
   },
   "outputs": [],
   "source": [
    "# test_calc_fnotch\n",
    "actual = clustering.calc_fnotch(4, 4)\n",
    "assert actual == 0.5\n",
    "actual = clustering.calc_fnotch(4, 0)\n",
    "assert actual == 1\n",
    "actual = clustering.calc_fnotch(0, 4)\n",
    "assert actual == 0"
   ]
  },
  {
   "cell_type": "code",
   "execution_count": null,
   "metadata": {
    "collapsed": false
   },
   "outputs": [],
   "source": [
    "# test_dbscan_xy\n",
    "\n",
    "# using only x and y (or image_x,image_y)\n",
    "coords = ['image_x','image_y']\n",
    "X = three_blotches_data[coords].values\n",
    "dbscanner = clustering.DBScanner(X, min_samples=2)\n",
    "\n",
    "assert dbscanner.reduced_data == [[0, 1, 2]]\n",
    "assert dbscanner.n_rejected == 0"
   ]
  },
  {
   "cell_type": "code",
   "execution_count": null,
   "metadata": {
    "collapsed": false
   },
   "outputs": [],
   "source": [
    "# test_dbscan_xy_angle\n",
    "\n",
    "coords = ['image_x','image_y', 'angle']\n",
    "X = three_blotches_data[coords].values\n",
    "dbscanner = clustering.DBScanner(X, min_samples=2)\n",
    "\n",
    "assert dbscanner.reduced_data == [[0, 1]]\n",
    "assert dbscanner.n_rejected == 1"
   ]
  },
  {
   "cell_type": "markdown",
   "metadata": {},
   "source": [
    "# Testing test database"
   ]
  },
  {
   "cell_type": "code",
   "execution_count": null,
   "metadata": {
    "collapsed": false
   },
   "outputs": [],
   "source": [
    "# test_test_database\n",
    "\n",
    "import pkg_resources as pr\n",
    "\n",
    "with pr.resource_stream('planet4', 'data/test_db.csv') as f:\n",
    "    data = pd.read_csv(f)\n",
    "imid1 = 'APF000012w'\n",
    "imid2 = 'APF000012q'\n",
    "vc = data.image_id.value_counts()\n",
    "assert vc[imid1] == 408\n",
    "assert vc[imid2] == 133\n",
    "\n",
    "imid1data = data[data.image_id==imid1]\n",
    "imid2data = data[data.image_id==imid2]\n",
    "\n",
    "from tempfile import TemporaryDirectory\n",
    "\n",
    "_tdir = TemporaryDirectory()\n",
    "tdir = Path(_tdir.name)\n",
    "cm = clustering.ClusteringManager(fnotched_dir=tdir)\n",
    "\n",
    "_id = imid1\n",
    "cm.cluster_image_id(_id, data=data[data.image_id==_id])\n",
    "\n",
    "for marking in ['blotches', 'fans', 'fnotches']:\n",
    "    for ftype in ['.csv', '.hdf']:\n",
    "        expected = tdir / (_id + '_' + marking + ftype)\n",
    "        assert expected.exists()\n",
    "\n",
    "        \n",
    "_id = imid2\n",
    "cm.cluster_image_id(_id, data=data[data.image_id==_id])\n",
    "for marking in ['blotches']:\n",
    "    for ftype in ['.csv', '.hdf']:\n",
    "        expected = tdir / (_id + '_' + marking + ftype)\n",
    "        if marking == 'blotches':\n",
    "            assert expected.exists()\n",
    "        else: # 12q,i.e. imdid2 only has blotches\n",
    "            assert not expected.exists()\n",
    "\n",
    "expected = tdir / 'applied_cut_0.5'\n",
    "assert expected.exists() and expected.is_dir()\n",
    "expected = tdir / 'just_clustering'    \n",
    "\n",
    "_tdir.cleanup()"
   ]
  },
  {
   "cell_type": "code",
   "execution_count": null,
   "metadata": {
    "collapsed": true
   },
   "outputs": [],
   "source": []
  }
 ],
 "metadata": {
  "kernelspec": {
   "display_name": "Python 3",
   "language": "python",
   "name": "python3"
  },
  "language_info": {
   "codemirror_mode": {
    "name": "ipython",
    "version": 3
   },
   "file_extension": ".py",
   "mimetype": "text/x-python",
   "name": "python",
   "nbconvert_exporter": "python",
   "pygments_lexer": "ipython3",
   "version": "3.5.1"
  }
 },
 "nbformat": 4,
 "nbformat_minor": 0
}
