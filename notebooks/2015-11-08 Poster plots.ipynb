{
 "cells": [
  {
   "cell_type": "code",
   "execution_count": null,
   "metadata": {},
   "outputs": [],
   "source": [
    "from pathlib import Path\n",
    "from planet4 import io, markings, plotting\n",
    "# %matplotlib nbagg\n",
    "import seaborn as sns\n",
    "sns.set_style('white')"
   ]
  },
  {
   "cell_type": "code",
   "execution_count": null,
   "metadata": {},
   "outputs": [],
   "source": [
    "datapath = io.p4data() / 'season23_by_id'\n",
    "fnotchedpath = io.p4data() / 'season23_by_id_fnotched_0.5'\n",
    "pngpath = fnotchedpath.with_name(fnotchedpath.name + '_pipeline_check')\n",
    "pngpath.mkdir(exist_ok=True)\n",
    "dbpath = io.p4data() / '2015-11-02_planet_four_classifications_queryable_cleaned_seasons2and3.h5'"
   ]
  },
  {
   "cell_type": "code",
   "execution_count": null,
   "metadata": {},
   "outputs": [],
   "source": [
    "image_ids = [i.stem.split('_')[0] for i in fnotchedpath.glob('*.hdf')]"
   ]
  },
  {
   "cell_type": "code",
   "execution_count": null,
   "metadata": {},
   "outputs": [],
   "source": [
    "image_ids = np.unique(image_ids)"
   ]
  },
  {
   "cell_type": "code",
   "execution_count": null,
   "metadata": {},
   "outputs": [],
   "source": [
    "from mpl_toolkits.axes_grid1 import AxesGrid\n",
    "\n",
    "def plot_pipeline_check(image_id):\n",
    "    from planet4 import plotting, markings\n",
    "    \n",
    "    resman = plotting.ResultManager(image_id, datapath)\n",
    "    p4id = markings.ImageID(image_id,database_fname = str(dbpath))\n",
    "    fig, axes = plt.subplots(2,3, figsize=(12,6), sharex=True,\n",
    "                             sharey=True)\n",
    "    axes = axes.ravel()\n",
    "    # plot tile, blotch and fan markings\n",
    "    p4id.show_subframe(ax=axes[0])\n",
    "    p4id.plot_fans(ax=axes[1])\n",
    "    p4id.plot_blotches(ax=axes[2])\n",
    "    \n",
    "    # plot clustered blotches and fans\n",
    "    try:\n",
    "        p4id.plot_fans(ax=axes[4],\n",
    "                       fans=resman.fans(unfnotched=True))\n",
    "        p4id.plot_blotches(ax=axes[5], \n",
    "                           blotches=resman.blotches(unfnotched=True))\n",
    "    except OSError as e:\n",
    "        print(e)\n",
    "        return False\n",
    "    # plot fnotched results\n",
    "    resman = plotting.ResultManager(image_id, fnotchedpath)\n",
    "    p4id.plot_blotches(ax=axes[3], blotches=resman.blotches())\n",
    "    p4id.plot_fans(ax=axes[3], fans=resman.fans())\n",
    "\n",
    "\n",
    "    fig.subplots_adjust(left=None, top=None, bottom=None, right=None,\n",
    "                        wspace=0.001, hspace=0.001)\n",
    "    savepath = pngpath / (image_id + '_pipeline_check.pdf')\n",
    "    fig.savefig(str(savepath), bbox_inches='tight')\n",
    "    plt.close(fig)"
   ]
  },
  {
   "cell_type": "code",
   "execution_count": null,
   "metadata": {},
   "outputs": [],
   "source": [
    "image_ids[100]"
   ]
  },
  {
   "cell_type": "code",
   "execution_count": null,
   "metadata": {},
   "outputs": [],
   "source": [
    "for img_id in image_ids:\n",
    "    plot_pipeline_check(img_id)"
   ]
  },
  {
   "cell_type": "code",
   "execution_count": null,
   "metadata": {},
   "outputs": [],
   "source": [
    "from ipyparallel import Client\n",
    "c = Client()"
   ]
  },
  {
   "cell_type": "code",
   "execution_count": null,
   "metadata": {},
   "outputs": [],
   "source": [
    "lbview = c.load_balanced_view()"
   ]
  },
  {
   "cell_type": "code",
   "execution_count": null,
   "metadata": {},
   "outputs": [],
   "source": [
    "results = lbview.map_async(plot_pipeline_check, image_ids)"
   ]
  },
  {
   "cell_type": "code",
   "execution_count": null,
   "metadata": {},
   "outputs": [],
   "source": [
    "from iuvs.multitools import nb_progress_display"
   ]
  },
  {
   "cell_type": "code",
   "execution_count": null,
   "metadata": {},
   "outputs": [],
   "source": [
    "nb_progress_display(results, image_ids)"
   ]
  },
  {
   "cell_type": "code",
   "execution_count": null,
   "metadata": {},
   "outputs": [],
   "source": [
    "for res in results:\n",
    "    res"
   ]
  },
  {
   "cell_type": "code",
   "execution_count": null,
   "metadata": {},
   "outputs": [],
   "source": []
  }
 ],
 "metadata": {
  "kernelspec": {
   "display_name": "Python 3",
   "language": "python",
   "name": "python3"
  },
  "language_info": {
   "codemirror_mode": {
    "name": "ipython",
    "version": 3
   },
   "file_extension": ".py",
   "mimetype": "text/x-python",
   "name": "python",
   "nbconvert_exporter": "python",
   "pygments_lexer": "ipython3",
   "version": "3.5.0"
  }
 },
 "nbformat": 4,
 "nbformat_minor": 0
}
