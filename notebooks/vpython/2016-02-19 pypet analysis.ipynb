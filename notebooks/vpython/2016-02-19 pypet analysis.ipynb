{
 "cells": [
  {
   "cell_type": "code",
   "execution_count": null,
   "metadata": {
    "collapsed": true
   },
   "outputs": [],
   "source": [
    "from pypet import Trajectory"
   ]
  },
  {
   "cell_type": "code",
   "execution_count": null,
   "metadata": {
    "collapsed": false
   },
   "outputs": [],
   "source": [
    "traj = Trajectory(filename='./pypet/FanSimulation_2016_02_22_14h50m17s.hdf5')"
   ]
  },
  {
   "cell_type": "code",
   "execution_count": null,
   "metadata": {
    "collapsed": false
   },
   "outputs": [],
   "source": [
    "traj.f_load(index=-1, load_parameters=2, load_results=2)"
   ]
  },
  {
   "cell_type": "code",
   "execution_count": null,
   "metadata": {
    "collapsed": false
   },
   "outputs": [],
   "source": [
    "traj.f_get_parameters()"
   ]
  },
  {
   "cell_type": "code",
   "execution_count": null,
   "metadata": {
    "collapsed": false
   },
   "outputs": [],
   "source": [
    "traj.f_get_explored_parameters()"
   ]
  },
  {
   "cell_type": "code",
   "execution_count": null,
   "metadata": {
    "collapsed": true
   },
   "outputs": [],
   "source": [
    "def my_filter_function(location,dt):\n",
    "    result = location =='mars' and dt=1e-2\n",
    "    return result"
   ]
  },
  {
   "cell_type": "code",
   "execution_count": null,
   "metadata": {
    "collapsed": false
   },
   "outputs": [],
   "source": [
    "set(traj.f_get('incline').f_get_range())"
   ]
  },
  {
   "cell_type": "code",
   "execution_count": null,
   "metadata": {
    "collapsed": true
   },
   "outputs": [],
   "source": [
    "def filter_function(loc,dt,vmax,vent_radius,incline):\n",
    "    result = loc=='mars' and dt==1e-2 and vmax==50\\\n",
    "        and vent_radius==0.5 and incline==1.0\n",
    "    return result"
   ]
  },
  {
   "cell_type": "code",
   "execution_count": null,
   "metadata": {
    "collapsed": false
   },
   "outputs": [],
   "source": [
    "def standard_filter(loc, dt, jitter, incline):\n",
    "    result = loc=='mars' and dt==1e-2 and jitter==0.1 and incline!=10.0\n",
    "    return result"
   ]
  },
  {
   "cell_type": "code",
   "execution_count": null,
   "metadata": {
    "collapsed": false
   },
   "outputs": [],
   "source": [
    "idx_iter = traj.f_find_idx(['parameters.location','parameters.dt',\n",
    "                            'parameters.jitter', 'parameters.incline'], standard_filter)"
   ]
  },
  {
   "cell_type": "code",
   "execution_count": null,
   "metadata": {
    "collapsed": true
   },
   "outputs": [],
   "source": [
    "indexes = list(idx_iter)"
   ]
  },
  {
   "cell_type": "code",
   "execution_count": null,
   "metadata": {
    "collapsed": true
   },
   "outputs": [],
   "source": [
    "%matplotlib nbagg"
   ]
  },
  {
   "cell_type": "code",
   "execution_count": null,
   "metadata": {
    "collapsed": false
   },
   "outputs": [],
   "source": [
    "def plot_data(i):\n",
    "\n",
    "    traj.v_idx = i\n",
    "    data = traj.res.crun.positions\n",
    "    title = ''\n",
    "    for k,v in traj.f_get_parameters(fast_access=True).items():\n",
    "        key = k.split('.')[1]\n",
    "        if key=='location' or key=='dt' or key=='N' or key=='jitter':\n",
    "            continue\n",
    "        t = \"{}:{} | \".format(key, v)\n",
    "        title += t\n",
    "    fig, axes = plt.subplots(nrows=2, squeeze=False)\n",
    "    axes = axes.ravel()\n",
    "    for ax in axes:\n",
    "        ax.scatter(data[:, 0], data[:, 1])\n",
    "        ax.set_aspect('equal')\n",
    "    axes[1].set_xlim(-15, 270)\n",
    "    axes[1].set_ylim(-20, 20)\n",
    "    fig.suptitle(title[:-2], fontsize=13)"
   ]
  },
  {
   "cell_type": "code",
   "execution_count": null,
   "metadata": {
    "collapsed": true
   },
   "outputs": [],
   "source": [
    "%matplotlib inline\n",
    "import seaborn as sns\n",
    "sns.set_context('notebook')"
   ]
  },
  {
   "cell_type": "code",
   "execution_count": null,
   "metadata": {
    "collapsed": false
   },
   "outputs": [],
   "source": [
    "from ipywidgets import interact"
   ]
  },
  {
   "cell_type": "code",
   "execution_count": null,
   "metadata": {
    "collapsed": false
   },
   "outputs": [],
   "source": [
    "interact(plot_data, i=(0, len(traj)-1));"
   ]
  },
  {
   "cell_type": "code",
   "execution_count": null,
   "metadata": {
    "collapsed": true
   },
   "outputs": [],
   "source": []
  }
 ],
 "metadata": {
  "kernelspec": {
   "display_name": "Python 3",
   "language": "python",
   "name": "python3"
  },
  "language_info": {
   "codemirror_mode": {
    "name": "ipython",
    "version": 3
   },
   "file_extension": ".py",
   "mimetype": "text/x-python",
   "name": "python",
   "nbconvert_exporter": "python",
   "pygments_lexer": "ipython3",
   "version": "3.5.1"
  }
 },
 "nbformat": 4,
 "nbformat_minor": 0
}
