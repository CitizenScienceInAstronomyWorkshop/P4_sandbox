{
 "cells": [
  {
   "cell_type": "code",
   "execution_count": null,
   "metadata": {
    "collapsed": true
   },
   "outputs": [],
   "source": [
    "vent_radius = 0.5\n",
    "r = np.linspace(-vent_radius, vent_radius, 100)"
   ]
  },
  {
   "cell_type": "code",
   "execution_count": null,
   "metadata": {
    "collapsed": true
   },
   "outputs": [],
   "source": [
    "%matplotlib nbagg"
   ]
  },
  {
   "cell_type": "code",
   "execution_count": null,
   "metadata": {
    "collapsed": true
   },
   "outputs": [],
   "source": [
    "def v_prof(vmax, r, factor):\n",
    "    return vmax * (1 - factor*(r/(vent_radius))**2)\n",
    "\n",
    "def v_prof_turb(vmax, r, factor):\n",
    "    return v_prof(vmax, r, factor)\n",
    "\n",
    "def v_power_law(vmax, r, n):\n",
    "    \n",
    "    return vmax* (1-r/vent_radius)**(1/n)"
   ]
  },
  {
   "cell_type": "code",
   "execution_count": null,
   "metadata": {
    "collapsed": false
   },
   "outputs": [],
   "source": [
    "def get_v(r, power):\n",
    "    def v_power_law(vmax, r, n):\n",
    "        return vmax* (1-r/vent_radius)**(1/n)\n",
    "    v = np.zeros_like(r)\n",
    "    v[r>0] = v_power_law(vmax, r[r>0], power)\n",
    "    v[r<0] = v_power_law(vmax, np.abs(r[r<0]), power)\n",
    "    return v"
   ]
  },
  {
   "cell_type": "code",
   "execution_count": null,
   "metadata": {
    "collapsed": false
   },
   "outputs": [],
   "source": [
    "vmax = 100\n",
    "plt.plot(r, v_prof(vmax, r, 1), label='1')\n",
    "for i in range(8,10, 1):\n",
    "    plt.plot(r, get_v(r, i), label=i)\n",
    "plt.legend()"
   ]
  },
  {
   "cell_type": "code",
   "execution_count": null,
   "metadata": {
    "collapsed": true
   },
   "outputs": [],
   "source": []
  }
 ],
 "metadata": {
  "kernelspec": {
   "display_name": "VPython",
   "language": "python",
   "name": "vpython"
  },
  "language_info": {
   "codemirror_mode": {
    "name": "ipython",
    "version": 3
   },
   "file_extension": ".py",
   "mimetype": "text/x-python",
   "name": "python",
   "nbconvert_exporter": "python",
   "pygments_lexer": "ipython3",
   "version": "3.5.0"
  }
 },
 "nbformat": 4,
 "nbformat_minor": 0
}
