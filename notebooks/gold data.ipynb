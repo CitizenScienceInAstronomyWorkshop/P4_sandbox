{
 "metadata": {
  "name": ""
 },
 "nbformat": 3,
 "nbformat_minor": 0,
 "worksheets": [
  {
   "cells": [
    {
     "cell_type": "code",
     "collapsed": false,
     "input": [
      "from planet4 import helper_functions, get_data\n",
      "from planet4 import markings\n",
      "reload(markings)"
     ],
     "language": "python",
     "metadata": {},
     "outputs": [],
     "prompt_number": null
    },
    {
     "cell_type": "code",
     "collapsed": false,
     "input": [
      "fname = ('/Users/maye/data/planet4/'\n",
      "         '2014-06-09_planet_four_classifications_queryable.h5')"
     ],
     "language": "python",
     "metadata": {},
     "outputs": [],
     "prompt_number": null
    },
    {
     "cell_type": "code",
     "collapsed": false,
     "input": [
      "with open('../data/gold_standard_commons.txt') as f:\n",
      "    gold_ids = f.read()\n",
      "gold_ids = gold_ids.split('\\n')\n",
      "del gold_ids[-1]  # last one is empty"
     ],
     "language": "python",
     "metadata": {},
     "outputs": [],
     "prompt_number": null
    },
    {
     "cell_type": "code",
     "collapsed": false,
     "input": [
      "gold_members = ['michaelaye', 'mschwamb', 'Portyankina', 'CJ-DPI']\n",
      "gold_plot_colors = list('cmyg')"
     ],
     "language": "python",
     "metadata": {},
     "outputs": [],
     "prompt_number": null
    },
    {
     "cell_type": "code",
     "collapsed": false,
     "input": [
      "gold_id = markings.P4_ImgID(gold_ids[2], fname)\n",
      "\n",
      "fig, axes = subplots(2,1, figsize=(12,12))\n",
      "markings.set_upper_left_corner(0, 0)\n",
      "for goldstar, color in zip(gold_members, gold_plot_colors):\n",
      "    gold_id.plot_fans(user_name=goldstar, ax=axes[0], user_color=color)\n",
      "    gold_id.plot_blotches(user_name=goldstar, ax=axes[0], user_color=color)\n",
      "gold_id.plot_fans(ax=axes[1], without_users=gold_members)\n",
      "gold_id.plot_blotches(ax=axes[1], without_users=gold_members)\n",
      "axes[0].set_title(\"Gold stars\")\n",
      "axes[1].set_title(\"Citizens\")\n",
      "colors = ['k','r','g','r','b']\n",
      "markings.gold_legend(axes[0])"
     ],
     "language": "python",
     "metadata": {},
     "outputs": [],
     "prompt_number": null
    },
    {
     "cell_type": "code",
     "collapsed": false,
     "input": [
      "ax.imshow?"
     ],
     "language": "python",
     "metadata": {},
     "outputs": [],
     "prompt_number": null
    },
    {
     "cell_type": "code",
     "collapsed": false,
     "input": [],
     "language": "python",
     "metadata": {},
     "outputs": []
    },
    {
     "cell_type": "markdown",
     "metadata": {},
     "source": [
      "# Statistics"
     ]
    },
    {
     "cell_type": "code",
     "collapsed": false,
     "input": [
      "blotches = data[data.marking == 'blotch']"
     ],
     "language": "python",
     "metadata": {},
     "outputs": [],
     "prompt_number": null
    },
    {
     "cell_type": "code",
     "collapsed": false,
     "input": [
      "counts = helper_functions.classification_counts_per_image(blotches)"
     ],
     "language": "python",
     "metadata": {},
     "outputs": [],
     "prompt_number": null
    },
    {
     "cell_type": "code",
     "collapsed": false,
     "input": [
      "superset_ids = counts[counts > 80].index\n",
      "print(len(superset_ids))\n",
      "superset = data[data.image_id.isin(superset_ids)]"
     ],
     "language": "python",
     "metadata": {},
     "outputs": [],
     "prompt_number": null
    },
    {
     "cell_type": "code",
     "collapsed": false,
     "input": [
      "for i in range(5,16):\n",
      "    ob.plot_blotches(blotches, superset_ids[i])"
     ],
     "language": "python",
     "metadata": {},
     "outputs": [],
     "prompt_number": null
    },
    {
     "cell_type": "code",
     "collapsed": false,
     "input": [
      "to_save = blotches[blotches.image_id.isin(superset_ids)]"
     ],
     "language": "python",
     "metadata": {},
     "outputs": [],
     "prompt_number": null
    },
    {
     "cell_type": "code",
     "collapsed": false,
     "input": [
      "to_save.to_hdf('data/blotch_data.h5','df')"
     ],
     "language": "python",
     "metadata": {},
     "outputs": [],
     "prompt_number": null
    },
    {
     "cell_type": "code",
     "collapsed": false,
     "input": [
      "blotches[blotches.image_id.isin(superset_ids)].to_hdf"
     ],
     "language": "python",
     "metadata": {},
     "outputs": []
    },
    {
     "cell_type": "code",
     "collapsed": false,
     "input": [
      "example_data = blotches[blotches.image_id == superset_ids[4]]"
     ],
     "language": "python",
     "metadata": {},
     "outputs": [],
     "prompt_number": null
    },
    {
     "cell_type": "code",
     "collapsed": false,
     "input": [
      "superset_ids[4]"
     ],
     "language": "python",
     "metadata": {},
     "outputs": [],
     "prompt_number": null
    },
    {
     "cell_type": "code",
     "collapsed": false,
     "input": [
      "example_data.to_hdf('data/APF00001ow.h5','df')"
     ],
     "language": "python",
     "metadata": {},
     "outputs": [],
     "prompt_number": null
    },
    {
     "cell_type": "code",
     "collapsed": false,
     "input": [
      "!mkdir data"
     ],
     "language": "python",
     "metadata": {},
     "outputs": [],
     "prompt_number": null
    },
    {
     "cell_type": "code",
     "collapsed": false,
     "input": [
      "img_id = superset_ids[4]\n",
      "print(img_id)\n",
      "ob.plot_blotches(data[data.image_id == img_id], img_id)"
     ],
     "language": "python",
     "metadata": {},
     "outputs": []
    },
    {
     "cell_type": "code",
     "collapsed": false,
     "input": [
      "cols = blotches['x y radius_1 radius_2'.split()]"
     ],
     "language": "python",
     "metadata": {},
     "outputs": [],
     "prompt_number": null
    },
    {
     "cell_type": "code",
     "collapsed": false,
     "input": [
      "pd.scatter_matrix(cols, diagonal='kde')"
     ],
     "language": "python",
     "metadata": {},
     "outputs": [],
     "prompt_number": null
    },
    {
     "cell_type": "code",
     "collapsed": false,
     "input": [],
     "language": "python",
     "metadata": {},
     "outputs": []
    }
   ],
   "metadata": {}
  }
 ]
}
