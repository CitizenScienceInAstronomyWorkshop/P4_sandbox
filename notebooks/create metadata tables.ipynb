{
 "cells": [
  {
   "cell_type": "markdown",
   "metadata": {
    "toc": "true"
   },
   "source": [
    "# Table of Contents\n",
    " <p>"
   ]
  },
  {
   "cell_type": "code",
   "execution_count": 1,
   "metadata": {
    "ExecuteTime": {
     "end_time": "2017-06-20T22:49:53.673988Z",
     "start_time": "2017-06-20T22:49:52.823996Z"
    },
    "collapsed": true
   },
   "outputs": [],
   "source": [
    "from planet4 import region_data, io\n",
    "import pvl\n",
    "from hirise_tools import products, downloads, labels\n",
    "import gdal"
   ]
  },
  {
   "cell_type": "code",
   "execution_count": 2,
   "metadata": {
    "ExecuteTime": {
     "end_time": "2017-06-20T22:49:53.701825Z",
     "start_time": "2017-06-20T22:49:53.675608Z"
    },
    "collapsed": true
   },
   "outputs": [],
   "source": [
    "regions = ['Inca', 'Ithaca', 'Giza', 'Manhattan2']"
   ]
  },
  {
   "cell_type": "code",
   "execution_count": 3,
   "metadata": {
    "ExecuteTime": {
     "end_time": "2017-06-20T22:49:54.565373Z",
     "start_time": "2017-06-20T22:49:54.541506Z"
    },
    "collapsed": true
   },
   "outputs": [],
   "source": [
    "seasons = ['season2', 'season3']"
   ]
  },
  {
   "cell_type": "code",
   "execution_count": 4,
   "metadata": {
    "ExecuteTime": {
     "end_time": "2017-06-20T22:49:56.728274Z",
     "start_time": "2017-06-20T22:49:56.702294Z"
    },
    "collapsed": true
   },
   "outputs": [],
   "source": [
    "def get_fraction_of_black_pixels(savepath):\n",
    "    ds = gdal.Open(str(savepath))\n",
    "    data = ds.ReadAsArray()\n",
    "    fractions = []\n",
    "    for band in data:\n",
    "        nonzeros = band.nonzero()[0]\n",
    "        fractions.append((band.size - nonzeros.size)/band.size)\n",
    "    return np.array(fractions).mean()"
   ]
  },
  {
   "cell_type": "code",
   "execution_count": 5,
   "metadata": {
    "ExecuteTime": {
     "end_time": "2017-06-20T22:55:23.312607Z",
     "start_time": "2017-06-20T22:55:23.267581Z"
    },
    "collapsed": true
   },
   "outputs": [],
   "source": [
    "def read_metadata(obsid):\n",
    "    prodid = products.PRODUCT_ID(obsid)\n",
    "    prodid.kind = 'COLOR'\n",
    "    labelpath = downloads.labels_root() / prodid.label_fname\n",
    "    label = labels.HiRISE_Label(labelpath)\n",
    "    savedir = downloads.hirise_dropbox() / 'browse'\n",
    "    savepath = savedir / prodid.browse_path.name\n",
    "    if not savepath.exists():\n",
    "        ht.download_product(prodid.browse_path, savedir)\n",
    "    black_fraction = get_fraction_of_black_pixels(savepath)\n",
    "    all_area = label.line_samples*label.lines * label.map_scale**2\n",
    "    real_area = (1-black_fraction)*all_area\n",
    "    d = dict(obsid=obsid, path=labelpath, binning=label.binning,\n",
    "             l_s=label.l_s, line_samples=label.line_samples,\n",
    "             lines=label.lines, map_scale=label.map_scale, invalids=black_fraction,\n",
    "             real_area=real_area)\n",
    "    # self calculated north azimuths\n",
    "    folder = io.get_ground_projection_root()\n",
    "    path = folder / obsid / f\"{obsid}_campt_out.csv\"\n",
    "    df = pd.read_csv(path)\n",
    "    d['north_azimuth'] = df.NorthAzimuth.median()\n",
    "    return d"
   ]
  },
  {
   "cell_type": "code",
   "execution_count": 6,
   "metadata": {
    "ExecuteTime": {
     "end_time": "2017-06-20T22:55:24.742059Z",
     "start_time": "2017-06-20T22:55:24.001668Z"
    }
   },
   "outputs": [
    {
     "data": {
      "text/plain": [
       "{'binning': [-9998,\n",
       "  -9998,\n",
       "  -9998,\n",
       "  -9998,\n",
       "  1,\n",
       "  1,\n",
       "  -9998,\n",
       "  -9998,\n",
       "  -9998,\n",
       "  -9998,\n",
       "  2,\n",
       "  2,\n",
       "  2,\n",
       "  2],\n",
       " 'invalids': 0.71131464528267252,\n",
       " 'l_s': 253.373295,\n",
       " 'line_samples': 69451,\n",
       " 'lines': 15410,\n",
       " 'map_scale': 0.25,\n",
       " 'north_azimuth': 107.47709754428001,\n",
       " 'obsid': 'ESP_021684_0985',\n",
       " 'path': PosixPath('/Users/klay6683/Dropbox/data/hirise/labels/ESP_021684_0985_COLOR.LBL'),\n",
       " 'real_area': 19310161.753186915}"
      ]
     },
     "execution_count": 6,
     "metadata": {},
     "output_type": "execute_result"
    }
   ],
   "source": [
    "read_metadata('ESP_021684_0985')"
   ]
  },
  {
   "cell_type": "code",
   "execution_count": 7,
   "metadata": {
    "ExecuteTime": {
     "end_time": "2017-06-20T22:58:00.474275Z",
     "start_time": "2017-06-20T22:57:49.301998Z"
    },
    "scrolled": false
   },
   "outputs": [
    {
     "name": "stdout",
     "output_type": "stream",
     "text": [
      "Region: Inca\n",
      "Created /Users/klay6683/Dropbox/p4_4Chase/inca/inca_metadata.csv\n",
      "Region: Ithaca\n",
      "Created /Users/klay6683/Dropbox/p4_4Chase/ithaca/ithaca_metadata.csv\n",
      "Region: Giza\n",
      "Created /Users/klay6683/Dropbox/p4_4Chase/giza/giza_metadata.csv\n",
      "Region: Manhattan\n",
      "Created /Users/klay6683/Dropbox/p4_4Chase/manhattan/manhattan_metadata.csv\n"
     ]
    }
   ],
   "source": [
    "for region in regions:\n",
    "    rea = getattr(region_data, region)\n",
    "    bucket = []\n",
    "    if region.endswith('2'):\n",
    "        region = region[:-1]\n",
    "    print(\"Region:\", region)\n",
    "    for season in seasons:\n",
    "        sea = getattr(rea, season)\n",
    "        metadata = []\n",
    "        for img in sea:\n",
    "            metadata.append(read_metadata(img))\n",
    "        df = pd.DataFrame(metadata)\n",
    "        df['season'] = season\n",
    "        bucket.append(df)\n",
    "    \n",
    "    name = \"{}_metadata.csv\".format(region.lower())\n",
    "    fname = Path('/Users/klay6683/Dropbox/p4_4Chase') / region.lower() / name\n",
    "    pd.concat(bucket, ignore_index=True).to_csv(str(fname), index=False)\n",
    "    print(\"Created\", fname)"
   ]
  },
  {
   "cell_type": "code",
   "execution_count": null,
   "metadata": {
    "collapsed": true
   },
   "outputs": [],
   "source": []
  }
 ],
 "metadata": {
  "kernelspec": {
   "display_name": "Python [conda env:stable]",
   "language": "python",
   "name": "conda-env-stable-py"
  },
  "language_info": {
   "codemirror_mode": {
    "name": "ipython",
    "version": 3
   },
   "file_extension": ".py",
   "mimetype": "text/x-python",
   "name": "python",
   "nbconvert_exporter": "python",
   "pygments_lexer": "ipython3",
   "version": "3.6.1"
  },
  "toc": {
   "colors": {
    "hover_highlight": "#DAA520",
    "navigate_num": "#000000",
    "navigate_text": "#333333",
    "running_highlight": "#FF0000",
    "selected_highlight": "#FFD700",
    "sidebar_border": "#EEEEEE",
    "wrapper_background": "#FFFFFF"
   },
   "moveMenuLeft": true,
   "nav_menu": {
    "height": "12px",
    "width": "252px"
   },
   "navigate_menu": true,
   "number_sections": false,
   "sideBar": false,
   "threshold": 4,
   "toc_cell": true,
   "toc_section_display": "block",
   "toc_window_display": true,
   "widenNotebook": false
  }
 },
 "nbformat": 4,
 "nbformat_minor": 1
}
