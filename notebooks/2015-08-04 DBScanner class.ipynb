{
 "cells": [
  {
   "cell_type": "code",
   "execution_count": null,
   "metadata": {},
   "outputs": [],
   "source": [
    "from planet4.clustering import DBScanner"
   ]
  },
  {
   "cell_type": "code",
   "execution_count": null,
   "metadata": {},
   "outputs": [],
   "source": [
    "dbname = '/Users/klay6683/data/planet4/2015-06-07_planet_four_classifications_queryable_cleaned_seasons2and3.h5'"
   ]
  },
  {
   "cell_type": "code",
   "execution_count": null,
   "metadata": {},
   "outputs": [],
   "source": [
    "from planet4 import markings, io\n",
    "\n",
    "class ClusteringManager(object):\n",
    "    def __init__(self, dbname, scope='hirise'):\n",
    "        self.db = io.DBManager(dbname)\n",
    "        self.dbname = dbname\n",
    "        self.scope = scope\n",
    "        self.confusion = []\n",
    "        self.dbscanners = []\n",
    "        self.clustered_fans = []\n",
    "        self.clustered_blotches = []\n",
    "        \n",
    "    @property\n",
    "    def n_clustered_fans(self):\n",
    "        return len(self.clustered_fans)\n",
    "    \n",
    "    @property\n",
    "    def n_clustered_blotches(self):\n",
    "        return len(self.clustered_blotches)\n",
    "    \n",
    "    def dbscan_data(self, data):\n",
    "        for kind in ['fan','blotch']:\n",
    "            markings = data[data.marking==kind]\n",
    "            dbscanner = DBScanner(markings, \n",
    "                                  kind, \n",
    "                                  scope=self.scope)\n",
    "            self.confusion.append((self.data_id,\n",
    "                                   kind,\n",
    "                                   len(markings),\n",
    "                                   dbscanner.n_reduced_data,\n",
    "                                   dbscanner.n_rejected))\n",
    "            if kind == 'fan':\n",
    "                self.clustered_fans.extend(dbscanner.reduced_data)\n",
    "            else:\n",
    "                self.clustered_blotches.extend(dbscanner.reduced_data)\n",
    "\n",
    "    def dbscan_image_id(self, image_id):\n",
    "        self.data_id = image_id\n",
    "        self.p4id = markings.ImageID(image_id, self.dbname)\n",
    "        self.dbscan_data(self.p4id.data)\n",
    "        \n",
    "    def dbscan_image_name(self, image_name):\n",
    "        data = self.db.get_image_name_markings(image_name)\n",
    "        self.data_id = image_name\n",
    "        self.dbscan_data(data)\n",
    "        \n",
    "    def dbscan_all(self):\n",
    "        image_names = self.db.image_names\n",
    "        for i, image_name in enumerate(image_names):\n",
    "            print('{:.1f}'.format(100*i/len(image_names)))\n",
    "            data = self.db.get_image_name_markings(image_name)\n",
    "            self.data_id = image_name\n",
    "            self.dbscan_data(data)"
   ]
  },
  {
   "cell_type": "code",
   "execution_count": null,
   "metadata": {},
   "outputs": [],
   "source": [
    "cm = ClusteringManager(dbname)"
   ]
  },
  {
   "cell_type": "code",
   "execution_count": null,
   "metadata": {},
   "outputs": [],
   "source": [
    "cm.dbscan_image_name('ESP_011544_0985')"
   ]
  },
  {
   "cell_type": "code",
   "execution_count": null,
   "metadata": {},
   "outputs": [],
   "source": [
    "from numpy.linalg import norm\n",
    "\n",
    "n_close = 0\n",
    "for blotch in cm.clustered_blotches:\n",
    "    for fan in cm.clustered_fans:\n",
    "        delta = blotch.center - (fan.base+fan.midpoint)\n",
    "        if norm(delta) < 10 :\n",
    "           n_close += 1 \n",
    "    "
   ]
  },
  {
   "cell_type": "code",
   "execution_count": null,
   "metadata": {},
   "outputs": [],
   "source": [
    "n_close"
   ]
  },
  {
   "cell_type": "code",
   "execution_count": null,
   "metadata": {},
   "outputs": [],
   "source": [
    "cm.n_clustered_blotches"
   ]
  },
  {
   "cell_type": "code",
   "execution_count": null,
   "metadata": {},
   "outputs": [],
   "source": [
    "cm.n_clustered_fans"
   ]
  },
  {
   "cell_type": "code",
   "execution_count": null,
   "metadata": {},
   "outputs": [],
   "source": [
    "confusion_data = pd.DataFrame(cm.confusion, columns=['image_name', 'kind', 'n_markings',\n",
    "                                    'n_cluster_members', 'n_rejected'])"
   ]
  },
  {
   "cell_type": "code",
   "execution_count": null,
   "metadata": {},
   "outputs": [],
   "source": [
    "confusion_data.to_csv('/Users/klay6683/Dropbox/DDocuments/planet4/confusion_data.csv')"
   ]
  },
  {
   "cell_type": "code",
   "execution_count": null,
   "metadata": {},
   "outputs": [],
   "source": [
    "from numpy.linalg import norm\n",
    "\n",
    "for blotch in reduced_blotches:\n",
    "    print(blotch.center)\n",
    "    for fan in reduced_fans:\n",
    "        delta = blotch.center - (fan.base+fan.midpoint)\n",
    "        print(norm(delta))"
   ]
  }
 ],
 "metadata": {
  "kernelspec": {
   "display_name": "Python [stable]",
   "language": "python",
   "name": "Python [stable]"
  },
  "language_info": {
   "codemirror_mode": {
    "name": "ipython",
    "version": 3
   },
   "file_extension": ".py",
   "mimetype": "text/x-python",
   "name": "python",
   "nbconvert_exporter": "python",
   "pygments_lexer": "ipython3",
   "version": "3.5.1"
  }
 },
 "nbformat": 4,
 "nbformat_minor": 0
}
