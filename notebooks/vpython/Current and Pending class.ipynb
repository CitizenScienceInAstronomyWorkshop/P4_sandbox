{
 "cells": [
  {
   "cell_type": "code",
   "execution_count": null,
   "metadata": {
    "collapsed": true
   },
   "outputs": [],
   "source": [
    "POCs = {'SSW':'Mary Voytek [202-358-1577; mvoytek@hq.nasa.gov]',\n",
    "        'MDAP':'Mitchell Schulte [202-358-2127; HQ-MDAP@mail.nasa.gov]'}\n",
    "\n",
    "class Support(object):\n",
    "    columns = ['Project Title', 'PI',\n",
    "               'Sponsor & Program','Point of Contact',\n",
    "               'Period of Performance',\n",
    "               'Person-Months [WM]','FTE']\n",
    "    status = {0:'Pending', 1:'Current'}\n",
    "    \n",
    "    def __init__(self, title, pi, sponsor, pop, fte, status=0):\n",
    "        self.title = title\n",
    "        self.pi = pi if pi!='me' else \"K.-Michael Aye\"\n",
    "        self.sponsor = 'NASA ' + sponsor\n",
    "        if pi!='me':\n",
    "            self.sponsor += ' (as Co-I)'\n",
    "        self.poc = POCs[sponsor]\n",
    "        self.pop = pop\n",
    "        self.fte = fte\n",
    "        \n",
    "    @property\n",
    "    def PI(self):\n",
    "        return self.columns['pi']\n",
    "        \n",
    "    @property\n",
    "    def wm(self):\n",
    "        return round(self.fte*12)\n",
    "    \n",
    "    @property\n",
    "    def series(self):\n",
    "        return pd.Series([self.title, self.pi, self.sponsor,\n",
    "                             self.poc, self.pop, self.wm, self.fte],\n",
    "                            index=self.columns)"
   ]
  },
  {
   "cell_type": "code",
   "execution_count": null,
   "metadata": {
    "collapsed": false
   },
   "outputs": [],
   "source": [
    "s1 = Support('Cryo-venting', 'me', 'SSW', 'date1 to date2', 0.25).series"
   ]
  },
  {
   "cell_type": "code",
   "execution_count": null,
   "metadata": {
    "collapsed": false
   },
   "outputs": [],
   "source": [
    "s2 = Support('DLA', 'Anya', 'MDAP', 'date1 to date2', 0.13).series"
   ]
  },
  {
   "cell_type": "code",
   "execution_count": null,
   "metadata": {
    "collapsed": false
   },
   "outputs": [],
   "source": [
    "df = pd.DataFrame([s1, s2])"
   ]
  },
  {
   "cell_type": "code",
   "execution_count": null,
   "metadata": {
    "collapsed": false
   },
   "outputs": [],
   "source": [
    "df.T"
   ]
  },
  {
   "cell_type": "code",
   "execution_count": null,
   "metadata": {
    "collapsed": false
   },
   "outputs": [],
   "source": [
    "df.T.to_latex('test_latex_out.tex', index=False)"
   ]
  },
  {
   "cell_type": "code",
   "execution_count": null,
   "metadata": {
    "collapsed": false
   },
   "outputs": [],
   "source": [
    "0.25+0.25+0.25+0.08+0.25"
   ]
  },
  {
   "cell_type": "code",
   "execution_count": null,
   "metadata": {
    "collapsed": true
   },
   "outputs": [],
   "source": []
  }
 ],
 "metadata": {
  "kernelspec": {
   "display_name": "VPython",
   "language": "python",
   "name": "vpython"
  },
  "language_info": {
   "codemirror_mode": {
    "name": "ipython",
    "version": 3
   },
   "file_extension": ".py",
   "mimetype": "text/x-python",
   "name": "python",
   "nbconvert_exporter": "python",
   "pygments_lexer": "ipython3",
   "version": "3.5.0"
  }
 },
 "nbformat": 4,
 "nbformat_minor": 0
}
