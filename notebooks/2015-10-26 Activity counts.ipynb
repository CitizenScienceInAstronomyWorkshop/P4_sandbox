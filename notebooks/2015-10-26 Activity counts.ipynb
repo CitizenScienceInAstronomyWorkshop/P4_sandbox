{
 "cells": [
  {
   "cell_type": "code",
   "execution_count": 47,
   "metadata": {
    "collapsed": true
   },
   "outputs": [],
   "source": [
    "from planet4 import region_data"
   ]
  },
  {
   "cell_type": "code",
   "execution_count": 48,
   "metadata": {
    "collapsed": false
   },
   "outputs": [],
   "source": [
    "from pathlib import Path\n",
    "root = Path('/Users/klay6683/data/planet4/season23_catalog/')"
   ]
  },
  {
   "cell_type": "code",
   "execution_count": 49,
   "metadata": {
    "collapsed": false
   },
   "outputs": [],
   "source": [
    "fnotches = pd.read_csv(root / 'ESP_011351_0945_fnotches.csv')"
   ]
  },
  {
   "cell_type": "code",
   "execution_count": 50,
   "metadata": {
    "collapsed": false
   },
   "outputs": [],
   "source": [
    "fnotches = fnotches.drop('Unnamed: 0', axis=1)"
   ]
  },
  {
   "cell_type": "code",
   "execution_count": 52,
   "metadata": {
    "collapsed": true
   },
   "outputs": [],
   "source": [
    "from planet4 import markings"
   ]
  },
  {
   "cell_type": "code",
   "execution_count": 54,
   "metadata": {
    "collapsed": true
   },
   "outputs": [],
   "source": [
    "def get_marking(line, cut=0.8):\n",
    "    data = []\n",
    "    for marking in ['fan_','blotch_']:\n",
    "        m = line[line.index.str.startswith(marking)]\n",
    "        data.append(m.rename_axis(lambda x: x[x.index('_')+1:]))\n",
    "    fnotch = markings.Fnotch(line.fnotch_value, data[0], data[1])\n",
    "    return fnotch.get_marking(cut)"
   ]
  },
  {
   "cell_type": "code",
   "execution_count": 56,
   "metadata": {
    "collapsed": false
   },
   "outputs": [
    {
     "data": {
      "text/plain": [
       "<planet4.markings.Fan at 0x11634cfd0>"
      ]
     },
     "execution_count": 56,
     "metadata": {},
     "output_type": "execute_result"
    }
   ],
   "source": [
    "get_marking(fnotches.iloc[0], 0.5)"
   ]
  },
  {
   "cell_type": "code",
   "execution_count": 99,
   "metadata": {
    "collapsed": true
   },
   "outputs": [],
   "source": [
    "def get_final_markings_counts(img_name, cut=0.5):\n",
    "    d = {}\n",
    "    d['image_name'] = img_name\n",
    "    blotch_fname = root / '{}_blotches.csv'.format(img_name)\n",
    "    d['n_blotches'] = len(pd.read_csv(blotch_fname))\n",
    "    fan_fname = root / '{}_fans.csv'.format(img_name)\n",
    "    d['n_fans'] = len(pd.read_csv(fan_fname))\n",
    "    \n",
    "    fnotch_fname = root / '{}_fnotches.csv'.format(img_name)\n",
    "    df = pd.read_csv(fnotch_fname, index_col=0)\n",
    "    for row in df.iterrows():\n",
    "        marking = get_marking(row[1])\n",
    "        if isinstance(marking, markings.Blotch):\n",
    "            d['n_blotches'] +=1\n",
    "        else:\n",
    "            d['n_fans'] += 1\n",
    "    return d"
   ]
  },
  {
   "cell_type": "code",
   "execution_count": 97,
   "metadata": {
    "collapsed": false
   },
   "outputs": [
    {
     "name": "stdout",
     "output_type": "stream",
     "text": [
      "before fnotching: {'n_fans': 1934, 'n_blotches': 1217, 'image_name': 'ESP_011351_0945'}\n",
      "after fnotching {'n_fans': 2089, 'n_blotches': 1782, 'image_name': 'ESP_011351_0945'}\n"
     ]
    },
    {
     "data": {
      "text/plain": [
       "{'image_name': 'ESP_011351_0945', 'n_blotches': 1782, 'n_fans': 2089}"
      ]
     },
     "execution_count": 97,
     "metadata": {},
     "output_type": "execute_result"
    }
   ],
   "source": [
    "get_final_markings_counts('ESP_011351_0945')"
   ]
  },
  {
   "cell_type": "code",
   "execution_count": 135,
   "metadata": {
    "collapsed": false
   },
   "outputs": [],
   "source": [
    "results = []\n",
    "from IPython.display import display\n",
    "from ipywidgets import IntProgress\n",
    "t = IntProgress(min=0, max=len(region_data.Inca.season3)-1)\n",
    "display(t)\n",
    "for i, img_name in enumerate(region_data.Inca.season3):\n",
    "    t.value = i\n",
    "    results.append(get_final_markings_counts(img_name))"
   ]
  },
  {
   "cell_type": "code",
   "execution_count": 136,
   "metadata": {
    "collapsed": false
   },
   "outputs": [],
   "source": [
    "results = pd.DataFrame(results).sort_values(by='image_name')"
   ]
  },
  {
   "cell_type": "code",
   "execution_count": 131,
   "metadata": {
    "collapsed": true
   },
   "outputs": [],
   "source": [
    "%matplotlib inline"
   ]
  },
  {
   "cell_type": "code",
   "execution_count": 137,
   "metadata": {
    "collapsed": true
   },
   "outputs": [],
   "source": [
    "metadata = pd.read_csv(\"/Users/klay6683/Dropbox/data/planet4/P4_10-18-15_H_lat_lng.csv\")"
   ]
  },
  {
   "cell_type": "code",
   "execution_count": 138,
   "metadata": {
    "collapsed": false
   },
   "outputs": [],
   "source": [
    "metadata.set_index('HiRISE_image', inplace=True)"
   ]
  },
  {
   "cell_type": "code",
   "execution_count": 139,
   "metadata": {
    "collapsed": false
   },
   "outputs": [],
   "source": [
    "results.set_index('image_name', inplace=True)"
   ]
  },
  {
   "cell_type": "code",
   "execution_count": 140,
   "metadata": {
    "collapsed": false
   },
   "outputs": [],
   "source": [
    "results = results.join(metadata.solar_longitude)"
   ]
  },
  {
   "cell_type": "code",
   "execution_count": 141,
   "metadata": {
    "collapsed": false
   },
   "outputs": [],
   "source": [
    "results.set_index('solar_longitude', inplace=True)"
   ]
  },
  {
   "cell_type": "code",
   "execution_count": 142,
   "metadata": {
    "collapsed": true
   },
   "outputs": [],
   "source": [
    "results['both'] = results.n_blotches + results.n_fans"
   ]
  },
  {
   "cell_type": "code",
   "execution_count": 134,
   "metadata": {
    "collapsed": false
   },
   "outputs": [
    {
     "data": {
      "text/plain": [
       "<matplotlib.axes._subplots.AxesSubplot at 0x116cb6da0>"
      ]
     },
     "execution_count": 134,
     "metadata": {},
     "output_type": "execute_result"
    },
    {
     "data": {
      "image/png": "[encoded data removed]",
      "text/plain": [
       "<matplotlib.figure.Figure at 0x116cc49e8>"
      ]
     },
     "metadata": {},
     "output_type": "display_data"
    }
   ],
   "source": [
    "results.both.plot(style='.-')"
   ]
  },
  {
   "cell_type": "code",
   "execution_count": 147,
   "metadata": {
    "collapsed": false
   },
   "outputs": [
    {
     "data": {
      "text/plain": [
       "<matplotlib.axes._subplots.AxesSubplot at 0x11a5bcb70>"
      ]
     },
     "execution_count": 147,
     "metadata": {},
     "output_type": "execute_result"
    },
    {
     "data": {
      "image/png": "[encoded data removed]",
      "text/plain": [
       "<matplotlib.figure.Figure at 0x11a5c7550>"
      ]
     },
     "metadata": {},
     "output_type": "display_data"
    }
   ],
   "source": [
    "results.both.plot(style='.-')"
   ]
  },
  {
   "cell_type": "code",
   "execution_count": 151,
   "metadata": {
    "collapsed": false
   },
   "outputs": [
    {
     "data": {
      "text/plain": [
       "Index(['lat_centered', 'lng_east', 'binning', 'Object_time', 'solar_longitude',\n",
       "       'mars_time', 'north_azimuth', 'incidence_angle', 'sub_solar_azimuth',\n",
       "       'phase_angle', 'emission_angle', 'line_pixel_scale',\n",
       "       'sample_pixel_scale', 'pixel_resolution', 'mean_ground_resolution'],\n",
       "      dtype='object')"
      ]
     },
     "execution_count": 151,
     "metadata": {},
     "output_type": "execute_result"
    }
   ],
   "source": [
    "metadata.columns"
   ]
  },
  {
   "cell_type": "code",
   "execution_count": 152,
   "metadata": {
    "collapsed": false,
    "scrolled": true
   },
   "outputs": [
    {
     "data": {
      "text/html": [
       "<div>\n",
       "<table border=\"1\" class=\"dataframe\">\n",
       "  <thead>\n",
       "    <tr style=\"text-align: right;\">\n",
       "      <th></th>\n",
       "      <th>lat_centered</th>\n",
       "      <th>lng_east</th>\n",
       "      <th>binning</th>\n",
       "      <th>Object_time</th>\n",
       "      <th>solar_longitude</th>\n",
       "      <th>mars_time</th>\n",
       "      <th>north_azimuth</th>\n",
       "      <th>incidence_angle</th>\n",
       "      <th>sub_solar_azimuth</th>\n",
       "      <th>phase_angle</th>\n",
       "      <th>emission_angle</th>\n",
       "      <th>line_pixel_scale</th>\n",
       "      <th>sample_pixel_scale</th>\n",
       "      <th>pixel_resolution</th>\n",
       "      <th>mean_ground_resolution</th>\n",
       "    </tr>\n",
       "    <tr>\n",
       "      <th>HiRISE_image</th>\n",
       "      <th></th>\n",
       "      <th></th>\n",
       "      <th></th>\n",
       "      <th></th>\n",
       "      <th></th>\n",
       "      <th></th>\n",
       "      <th></th>\n",
       "      <th></th>\n",
       "      <th></th>\n",
       "      <th></th>\n",
       "      <th></th>\n",
       "      <th></th>\n",
       "      <th></th>\n",
       "      <th></th>\n",
       "      <th></th>\n",
       "    </tr>\n",
       "  </thead>\n",
       "  <tbody>\n",
       "    <tr>\n",
       "      <th>ESP_011296_0975</th>\n",
       "      <td>-82.197</td>\n",
       "      <td>225.253</td>\n",
       "      <td>4</td>\n",
       "      <td>2008-12-23T16:15:26.861</td>\n",
       "      <td>178.833</td>\n",
       "      <td>17.1368</td>\n",
       "      <td>110.5220</td>\n",
       "      <td>88.7496</td>\n",
       "      <td>33.9692</td>\n",
       "      <td>88.6680</td>\n",
       "      <td>0.126506</td>\n",
       "      <td>0.993333</td>\n",
       "      <td>0.993333</td>\n",
       "      <td>0.993333</td>\n",
       "      <td>0.993297</td>\n",
       "    </tr>\n",
       "    <tr>\n",
       "      <th>ESP_011341_0980</th>\n",
       "      <td>-81.797</td>\n",
       "      <td>76.130</td>\n",
       "      <td>2</td>\n",
       "      <td>2008-12-27T04:25:02.363</td>\n",
       "      <td>180.809</td>\n",
       "      <td>17.1053</td>\n",
       "      <td>110.3550</td>\n",
       "      <td>87.7622</td>\n",
       "      <td>34.8539</td>\n",
       "      <td>87.9902</td>\n",
       "      <td>0.244628</td>\n",
       "      <td>0.493991</td>\n",
       "      <td>0.493991</td>\n",
       "      <td>0.493991</td>\n",
       "      <td>0.494061</td>\n",
       "    </tr>\n",
       "    <tr>\n",
       "      <th>ESP_011348_0950</th>\n",
       "      <td>-85.043</td>\n",
       "      <td>259.094</td>\n",
       "      <td>4</td>\n",
       "      <td>2008-12-27T17:29:17.706</td>\n",
       "      <td>181.117</td>\n",
       "      <td>18.0259</td>\n",
       "      <td>123.6460</td>\n",
       "      <td>89.5608</td>\n",
       "      <td>33.8052</td>\n",
       "      <td>89.6876</td>\n",
       "      <td>0.155690</td>\n",
       "      <td>0.993521</td>\n",
       "      <td>0.993521</td>\n",
       "      <td>0.993521</td>\n",
       "      <td>0.993234</td>\n",
       "    </tr>\n",
       "    <tr>\n",
       "      <th>ESP_011350_0945</th>\n",
       "      <td>-85.216</td>\n",
       "      <td>181.415</td>\n",
       "      <td>2</td>\n",
       "      <td>2008-12-27T21:14:01.135</td>\n",
       "      <td>181.205</td>\n",
       "      <td>16.4914</td>\n",
       "      <td>99.7306</td>\n",
       "      <td>87.6506</td>\n",
       "      <td>37.3171</td>\n",
       "      <td>108.1210</td>\n",
       "      <td>24.588300</td>\n",
       "      <td>0.539108</td>\n",
       "      <td>0.539108</td>\n",
       "      <td>0.539108</td>\n",
       "      <td>0.539336</td>\n",
       "    </tr>\n",
       "    <tr>\n",
       "      <th>ESP_011351_0945</th>\n",
       "      <td>-85.216</td>\n",
       "      <td>181.548</td>\n",
       "      <td>4</td>\n",
       "      <td>2008-12-27T23:05:54.685</td>\n",
       "      <td>181.249</td>\n",
       "      <td>18.3165</td>\n",
       "      <td>127.9650</td>\n",
       "      <td>89.8666</td>\n",
       "      <td>33.8784</td>\n",
       "      <td>86.4021</td>\n",
       "      <td>4.123800</td>\n",
       "      <td>0.989757</td>\n",
       "      <td>0.989757</td>\n",
       "      <td>0.989757</td>\n",
       "      <td>0.990483</td>\n",
       "    </tr>\n",
       "  </tbody>\n",
       "</table>\n",
       "</div>"
      ],
      "text/plain": [
       "                 lat_centered  lng_east  binning              Object_time  \\\n",
       "HiRISE_image                                                                \n",
       "ESP_011296_0975       -82.197   225.253        4  2008-12-23T16:15:26.861   \n",
       "ESP_011341_0980       -81.797    76.130        2  2008-12-27T04:25:02.363   \n",
       "ESP_011348_0950       -85.043   259.094        4  2008-12-27T17:29:17.706   \n",
       "ESP_011350_0945       -85.216   181.415        2  2008-12-27T21:14:01.135   \n",
       "ESP_011351_0945       -85.216   181.548        4  2008-12-27T23:05:54.685   \n",
       "\n",
       "                 solar_longitude  mars_time  north_azimuth  incidence_angle  \\\n",
       "HiRISE_image                                                                  \n",
       "ESP_011296_0975          178.833    17.1368       110.5220          88.7496   \n",
       "ESP_011341_0980          180.809    17.1053       110.3550          87.7622   \n",
       "ESP_011348_0950          181.117    18.0259       123.6460          89.5608   \n",
       "ESP_011350_0945          181.205    16.4914        99.7306          87.6506   \n",
       "ESP_011351_0945          181.249    18.3165       127.9650          89.8666   \n",
       "\n",
       "                 sub_solar_azimuth  phase_angle  emission_angle  \\\n",
       "HiRISE_image                                                      \n",
       "ESP_011296_0975            33.9692      88.6680        0.126506   \n",
       "ESP_011341_0980            34.8539      87.9902        0.244628   \n",
       "ESP_011348_0950            33.8052      89.6876        0.155690   \n",
       "ESP_011350_0945            37.3171     108.1210       24.588300   \n",
       "ESP_011351_0945            33.8784      86.4021        4.123800   \n",
       "\n",
       "                 line_pixel_scale  sample_pixel_scale  pixel_resolution  \\\n",
       "HiRISE_image                                                              \n",
       "ESP_011296_0975          0.993333            0.993333          0.993333   \n",
       "ESP_011341_0980          0.493991            0.493991          0.493991   \n",
       "ESP_011348_0950          0.993521            0.993521          0.993521   \n",
       "ESP_011350_0945          0.539108            0.539108          0.539108   \n",
       "ESP_011351_0945          0.989757            0.989757          0.989757   \n",
       "\n",
       "                 mean_ground_resolution  \n",
       "HiRISE_image                             \n",
       "ESP_011296_0975                0.993297  \n",
       "ESP_011341_0980                0.494061  \n",
       "ESP_011348_0950                0.993234  \n",
       "ESP_011350_0945                0.539336  \n",
       "ESP_011351_0945                0.990483  "
      ]
     },
     "execution_count": 152,
     "metadata": {},
     "output_type": "execute_result"
    }
   ],
   "source": [
    "metadata.head()"
   ]
  },
  {
   "cell_type": "code",
   "execution_count": null,
   "metadata": {
    "collapsed": true
   },
   "outputs": [],
   "source": []
  }
 ],
 "metadata": {
  "kernelspec": {
   "display_name": "Python 3",
   "language": "python",
   "name": "python3"
  },
  "language_info": {
   "codemirror_mode": {
    "name": "ipython",
    "version": 3
   },
   "file_extension": ".py",
   "mimetype": "text/x-python",
   "name": "python",
   "nbconvert_exporter": "python",
   "pygments_lexer": "ipython3",
   "version": "3.4.3"
  }
 },
 "nbformat": 4,
 "nbformat_minor": 0
}
