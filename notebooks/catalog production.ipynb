{
 "cells": [
  {
   "cell_type": "code",
   "execution_count": 1,
   "metadata": {
    "ExecuteTime": {
     "end_time": "2017-07-31T05:38:56.006838Z",
     "start_time": "2017-07-31T05:38:55.971117Z"
    },
    "init_cell": true
   },
   "outputs": [],
   "source": [
    "from planet4 import markings, dbscan, io, fnotching"
   ]
  },
  {
   "cell_type": "code",
   "execution_count": 6,
   "metadata": {
    "ExecuteTime": {
     "end_time": "2017-07-31T05:38:56.409194Z",
     "start_time": "2017-07-31T05:38:56.343701Z"
    }
   },
   "outputs": [],
   "source": [
    "from nbtools.logging import setup_live_logging\n",
    "import logging"
   ]
  },
  {
   "cell_type": "code",
   "execution_count": 11,
   "metadata": {
    "ExecuteTime": {
     "end_time": "2017-07-04T23:12:12.636586Z",
     "start_time": "2017-07-04T23:12:12.589988Z"
    }
   },
   "outputs": [
    {
     "data": {
      "text/plain": [
       "<Logger planet4 (DEBUG)>"
      ]
     },
     "execution_count": 11,
     "metadata": {},
     "output_type": "execute_result"
    }
   ],
   "source": [
    "setup_live_logging('planet4', logging.DEBUG)"
   ]
  },
  {
   "cell_type": "markdown",
   "metadata": {},
   "source": [
    "# Data to cluster"
   ]
  },
  {
   "cell_type": "code",
   "execution_count": 7,
   "metadata": {
    "ExecuteTime": {
     "end_time": "2017-07-31T05:38:59.541723Z",
     "start_time": "2017-07-31T05:38:59.494698Z"
    },
    "init_cell": true
   },
   "outputs": [],
   "source": [
    "from planet4 import region_data"
   ]
  },
  {
   "cell_type": "code",
   "execution_count": 3,
   "metadata": {
    "ExecuteTime": {
     "end_time": "2017-07-31T05:38:35.762903Z",
     "start_time": "2017-07-31T05:38:35.604904Z"
    }
   },
   "outputs": [],
   "source": [
    "%store -r"
   ]
  },
  {
   "cell_type": "code",
   "execution_count": 13,
   "metadata": {
    "ExecuteTime": {
     "end_time": "2017-07-18T00:52:49.797168Z",
     "start_time": "2017-07-18T00:52:49.760186Z"
    }
   },
   "outputs": [
    {
     "data": {
      "text/plain": [
       "125"
      ]
     },
     "execution_count": 13,
     "metadata": {},
     "output_type": "execute_result"
    }
   ],
   "source": [
    "len(combined)"
   ]
  },
  {
   "cell_type": "code",
   "execution_count": 2,
   "metadata": {},
   "outputs": [],
   "source": [
    "db = io.DBManager()"
   ]
  },
  {
   "cell_type": "code",
   "execution_count": 4,
   "metadata": {},
   "outputs": [
    {
     "data": {
      "text/plain": [
       "'/Users/klay6683/Dropbox/data/planet4/2017-01-01_planet_four_classifications_queryable_cleaned_seasons2and3.h5'"
      ]
     },
     "execution_count": 4,
     "metadata": {},
     "output_type": "execute_result"
    }
   ],
   "source": [
    "db.dbname"
   ]
  },
  {
   "cell_type": "code",
   "execution_count": 5,
   "metadata": {},
   "outputs": [],
   "source": [
    "obsids = db.image_names"
   ]
  },
  {
   "cell_type": "code",
   "execution_count": 6,
   "metadata": {},
   "outputs": [
    {
     "data": {
      "text/plain": [
       "221"
      ]
     },
     "execution_count": 6,
     "metadata": {},
     "output_type": "execute_result"
    }
   ],
   "source": [
    "len(obsids)"
   ]
  },
  {
   "cell_type": "markdown",
   "metadata": {},
   "source": [
    "# Support functions"
   ]
  },
  {
   "cell_type": "code",
   "execution_count": 9,
   "metadata": {
    "ExecuteTime": {
     "end_time": "2017-07-31T05:39:00.828744Z",
     "start_time": "2017-07-31T05:39:00.782938Z"
    }
   },
   "outputs": [],
   "source": [
    "def do_cluster_obsids(obsid, savedir=None):\n",
    "    from planet4 import dbscan, fnotching\n",
    "    dbscanner = dbscan.DBScanner(savedir=savedir)\n",
    "    dbscanner.cluster_image_name(obsid)\n",
    "    fnotching.fnotch_image_ids(obsid, savedir=savedir)\n",
    "    fnotching.apply_cut(obsid, savedir=savedir)\n",
    "    return obsid"
   ]
  },
  {
   "cell_type": "code",
   "execution_count": 9,
   "metadata": {
    "ExecuteTime": {
     "end_time": "2017-07-31T05:39:01.152518Z",
     "start_time": "2017-07-31T05:39:01.104506Z"
    }
   },
   "outputs": [],
   "source": [
    "def do_cluster_ids(imgid, savedir=None):\n",
    "    from planet4 import dbscan, fnotching\n",
    "    dbscanner = dbscan.DBScanner(savedir=savedir)\n",
    "    dbscanner.cluster_image_id(imgid)\n",
    "    obsid = dbscanner.pm.obsid\n",
    "    fnotching.fnotch_image_ids(obsid, savedir=savedir,\n",
    "                               scope='planet4')\n",
    "    fnotching.apply_cut(obsid, savedir=savedir)\n",
    "    return imgid"
   ]
  },
  {
   "cell_type": "code",
   "execution_count": 10,
   "metadata": {
    "ExecuteTime": {
     "end_time": "2017-07-31T05:39:01.558065Z",
     "start_time": "2017-07-31T05:39:01.509109Z"
    }
   },
   "outputs": [],
   "source": [
    "def do_only_fnotching(obsid, savedir=None):\n",
    "    fnotching.fnotch_image_ids(obsid, savedir=savedir)\n",
    "    fnotching.apply_cut(obsid, savedir=savedir)"
   ]
  },
  {
   "cell_type": "code",
   "execution_count": 11,
   "metadata": {
    "ExecuteTime": {
     "end_time": "2017-07-31T05:39:03.651357Z",
     "start_time": "2017-07-31T05:39:02.072948Z"
    }
   },
   "outputs": [
    {
     "data": {
      "text/plain": [
       "'APF0000nfw'"
      ]
     },
     "execution_count": 11,
     "metadata": {},
     "output_type": "execute_result"
    },
    {
     "data": {
      "text/plain": [
       "'APF0000nbo'"
      ]
     },
     "execution_count": 11,
     "metadata": {},
     "output_type": "execute_result"
    },
    {
     "data": {
      "text/plain": [
       "'APF0000nel'"
      ]
     },
     "execution_count": 11,
     "metadata": {},
     "output_type": "execute_result"
    },
    {
     "data": {
      "text/plain": [
       "'APF0000nee'"
      ]
     },
     "execution_count": 11,
     "metadata": {},
     "output_type": "execute_result"
    }
   ],
   "source": [
    "for imgid in image_ids:\n",
    "    do_cluster_ids(imgid, \"without_large_fan_fnotch_on_p4_coords\" )"
   ]
  },
  {
   "cell_type": "code",
   "execution_count": 16,
   "metadata": {
    "ExecuteTime": {
     "end_time": "2017-07-31T06:34:55.035742Z",
     "start_time": "2017-07-31T06:34:54.895134Z"
    }
   },
   "outputs": [],
   "source": [
    "obsid = 'ESP_020930_0980'\n",
    "savedir = 'fnotching_per_obsid'"
   ]
  },
  {
   "cell_type": "code",
   "execution_count": 12,
   "metadata": {
    "ExecuteTime": {
     "end_time": "2017-07-31T06:28:50.265453Z",
     "start_time": "2017-07-31T06:28:49.303947Z"
    }
   },
   "outputs": [],
   "source": [
    "dbscanner = dbscan.DBScanner(savedir=savedir)"
   ]
  },
  {
   "cell_type": "code",
   "execution_count": 13,
   "metadata": {
    "ExecuteTime": {
     "end_time": "2017-07-31T06:30:13.360723Z",
     "start_time": "2017-07-31T06:29:03.612958Z"
    }
   },
   "outputs": [],
   "source": [
    "dbscanner.cluster_image_name(obsid)"
   ]
  },
  {
   "cell_type": "code",
   "execution_count": 46,
   "metadata": {
    "ExecuteTime": {
     "end_time": "2017-07-31T07:56:14.952010Z",
     "start_time": "2017-07-31T07:56:14.823004Z"
    }
   },
   "outputs": [
    {
     "data": {
      "text/plain": [
       "PosixPath('/Users/klay6683/Dropbox/data/planet4/fnotching_per_obsid/ESP_020930_0980/L1C_cut_0.5/L1C_cut_0.5__blotches.csv')"
      ]
     },
     "execution_count": 46,
     "metadata": {},
     "output_type": "execute_result"
    }
   ],
   "source": [
    "pm.final_blotchfile"
   ]
  },
  {
   "cell_type": "code",
   "execution_count": 40,
   "metadata": {
    "ExecuteTime": {
     "end_time": "2017-07-31T07:31:37.431926Z",
     "start_time": "2017-07-31T07:31:33.228991Z"
    }
   },
   "outputs": [],
   "source": [
    "fnotching.fnotch_obsid(obsid, savedir=savedir)"
   ]
  },
  {
   "cell_type": "code",
   "execution_count": 47,
   "metadata": {
    "ExecuteTime": {
     "end_time": "2017-07-31T07:59:15.105871Z",
     "start_time": "2017-07-31T07:59:14.971043Z"
    }
   },
   "outputs": [],
   "source": [
    "fnotching.apply_cut_obsid(obsid, savedir=savedir)"
   ]
  },
  {
   "cell_type": "code",
   "execution_count": null,
   "metadata": {},
   "outputs": [],
   "source": []
  },
  {
   "cell_type": "code",
   "execution_count": null,
   "metadata": {},
   "outputs": [],
   "source": []
  },
  {
   "cell_type": "code",
   "execution_count": 67,
   "metadata": {
    "ExecuteTime": {
     "end_time": "2017-06-12T05:29:33.630091Z",
     "start_time": "2017-06-12T05:29:33.585023Z"
    },
    "collapsed": true
   },
   "outputs": [],
   "source": [
    "data = region_data.Inca.season2 + region_data.Inca.season3"
   ]
  },
  {
   "cell_type": "code",
   "execution_count": 32,
   "metadata": {
    "ExecuteTime": {
     "end_time": "2017-06-12T04:28:47.985375Z",
     "start_time": "2017-06-12T04:27:48.599060Z"
    },
    "scrolled": false
   },
   "outputs": [
    {
     "data": {
      "text/plain": [
       "'ESP_011350_0945'"
      ]
     },
     "execution_count": 32,
     "metadata": {},
     "output_type": "execute_result"
    }
   ],
   "source": [
    "do_clustering(ithaca[0])"
   ]
  },
  {
   "cell_type": "code",
   "execution_count": 33,
   "metadata": {
    "ExecuteTime": {
     "end_time": "2017-06-12T04:28:48.031015Z",
     "start_time": "2017-06-12T04:28:47.988698Z"
    }
   },
   "outputs": [
    {
     "data": {
      "text/plain": [
       "'ESP_011350_0945'"
      ]
     },
     "execution_count": 33,
     "metadata": {},
     "output_type": "execute_result"
    }
   ],
   "source": [
    "ithaca[0]"
   ]
  },
  {
   "cell_type": "code",
   "execution_count": 34,
   "metadata": {
    "ExecuteTime": {
     "end_time": "2017-06-12T04:28:58.454595Z",
     "start_time": "2017-06-12T04:28:58.408347Z"
    },
    "collapsed": true
   },
   "outputs": [],
   "source": [
    "from nbtools import execute_in_parallel"
   ]
  },
  {
   "cell_type": "code",
   "execution_count": 68,
   "metadata": {
    "ExecuteTime": {
     "end_time": "2017-06-12T05:56:24.928876Z",
     "start_time": "2017-06-12T05:29:36.220218Z"
    }
   },
   "outputs": [
    {
     "data": {
      "application/vnd.jupyter.widget-view+json": {
       "model_id": "4295da13947640c686dcb43926946395"
      }
     },
     "metadata": {},
     "output_type": "display_data"
    }
   ],
   "source": [
    "result = execute_in_parallel(do_clustering, data)"
   ]
  },
  {
   "cell_type": "markdown",
   "metadata": {},
   "source": [
    "# Creating obsid files"
   ]
  },
  {
   "cell_type": "code",
   "execution_count": 61,
   "metadata": {
    "ExecuteTime": {
     "end_time": "2017-06-12T05:26:20.118624Z",
     "start_time": "2017-06-12T05:26:19.589715Z"
    },
    "collapsed": true
   },
   "outputs": [],
   "source": [
    "from planet4.fnotching import get_clusters_in_path"
   ]
  },
  {
   "cell_type": "code",
   "execution_count": 62,
   "metadata": {
    "ExecuteTime": {
     "end_time": "2017-06-12T05:26:20.773546Z",
     "start_time": "2017-06-12T05:26:20.676123Z"
    },
    "collapsed": true
   },
   "outputs": [],
   "source": [
    "def create_obsid_result_files(obsid, datapath=None):\n",
    "#     logger.debug(\"Working on %s\", obsid)\n",
    "    pm = io.PathManager(obsid=obsid, datapath=datapath)\n",
    "    # the pm.get_obsid_paths method searches for existing image_id folders inside each\n",
    "    # obsid folder\n",
    "    folders = list(pm.get_obsid_paths(pm.L1C_folder))\n",
    "    blotches = []\n",
    "    fans = []\n",
    "    for folder in folders:\n",
    "        pm.id = fnotching.get_id_from_path(folder)\n",
    "        if pm.final_blotchfile.exists() and pm.final_blotchfile.lstat().st_size > 1:\n",
    "            blotches.append(pm.final_blotchdf)\n",
    "        if pm.final_fanfile.exists() and pm.final_fanfile.lstat().st_size > 1:\n",
    "            fans.append(pm.final_fandf)\n",
    "\n",
    "    if len(blotches) > 0:\n",
    "        blotches = pd.concat(blotches, ignore_index=True)\n",
    "        blotches.dropna(how='all', axis=1, inplace=True)\n",
    "        blotches.to_csv(pm.obsid_final_blotches_path, index=False)\n",
    "        print(\"Created\", pm.obsid_final_blotches_path)\n",
    "\n",
    "    if len(fans) > 0:\n",
    "        fans = pd.concat(fans, ignore_index=True)\n",
    "        fans.dropna(how='all', axis=1, inplace=True)\n",
    "        fans.to_csv(pm.obsid_final_fans_path, index=False)\n",
    "        print(\"Created\", pm.obsid_final_fans_path)"
   ]
  },
  {
   "cell_type": "code",
   "execution_count": 69,
   "metadata": {
    "ExecuteTime": {
     "end_time": "2017-06-12T06:07:27.547318Z",
     "start_time": "2017-06-12T06:05:59.784587Z"
    }
   },
   "outputs": [
    {
     "name": "stdout",
     "output_type": "stream",
     "text": [
      "Created /Users/klay6683/Dropbox/data/planet4/for_chase/ESP_013113_0985_blotches.csv\n",
      "Created /Users/klay6683/Dropbox/data/planet4/for_chase/ESP_013113_0985_fans.csv\n",
      "Created /Users/klay6683/Dropbox/data/planet4/for_chase/ESP_013034_0985_blotches.csv\n",
      "Created /Users/klay6683/Dropbox/data/planet4/for_chase/ESP_013034_0985_fans.csv\n",
      "Created /Users/klay6683/Dropbox/data/planet4/for_chase/ESP_012889_0985_blotches.csv\n",
      "Created /Users/klay6683/Dropbox/data/planet4/for_chase/ESP_012889_0985_fans.csv\n",
      "Created /Users/klay6683/Dropbox/data/planet4/for_chase/ESP_012744_0985_blotches.csv\n",
      "Created /Users/klay6683/Dropbox/data/planet4/for_chase/ESP_012744_0985_fans.csv\n",
      "Created /Users/klay6683/Dropbox/data/planet4/for_chase/ESP_012691_0985_blotches.csv\n",
      "Created /Users/klay6683/Dropbox/data/planet4/for_chase/ESP_012691_0985_fans.csv\n",
      "Created /Users/klay6683/Dropbox/data/planet4/for_chase/ESP_012467_0985_blotches.csv\n",
      "Created /Users/klay6683/Dropbox/data/planet4/for_chase/ESP_012467_0985_fans.csv\n",
      "Created /Users/klay6683/Dropbox/data/planet4/for_chase/ESP_012322_0985_blotches.csv\n",
      "Created /Users/klay6683/Dropbox/data/planet4/for_chase/ESP_012322_0985_fans.csv\n",
      "Created /Users/klay6683/Dropbox/data/planet4/for_chase/ESP_012256_0985_blotches.csv\n",
      "Created /Users/klay6683/Dropbox/data/planet4/for_chase/ESP_012256_0985_fans.csv\n",
      "Created /Users/klay6683/Dropbox/data/planet4/for_chase/ESP_011900_0985_blotches.csv\n",
      "Created /Users/klay6683/Dropbox/data/planet4/for_chase/ESP_011900_0985_fans.csv\n",
      "Created /Users/klay6683/Dropbox/data/planet4/for_chase/ESP_011729_0985_blotches.csv\n",
      "Created /Users/klay6683/Dropbox/data/planet4/for_chase/ESP_011729_0985_fans.csv\n",
      "Created /Users/klay6683/Dropbox/data/planet4/for_chase/ESP_011702_0985_blotches.csv\n",
      "Created /Users/klay6683/Dropbox/data/planet4/for_chase/ESP_011702_0985_fans.csv\n",
      "Created /Users/klay6683/Dropbox/data/planet4/for_chase/ESP_011623_0985_blotches.csv\n",
      "Created /Users/klay6683/Dropbox/data/planet4/for_chase/ESP_011623_0985_fans.csv\n",
      "Created /Users/klay6683/Dropbox/data/planet4/for_chase/ESP_011557_0985_blotches.csv\n",
      "Created /Users/klay6683/Dropbox/data/planet4/for_chase/ESP_011557_0985_fans.csv\n",
      "Created /Users/klay6683/Dropbox/data/planet4/for_chase/ESP_011544_0985_blotches.csv\n",
      "Created /Users/klay6683/Dropbox/data/planet4/for_chase/ESP_011544_0985_fans.csv\n",
      "Created /Users/klay6683/Dropbox/data/planet4/for_chase/ESP_011491_0985_blotches.csv\n",
      "Created /Users/klay6683/Dropbox/data/planet4/for_chase/ESP_011491_0985_fans.csv\n",
      "Created /Users/klay6683/Dropbox/data/planet4/for_chase/ESP_022699_0985_blotches.csv\n",
      "Created /Users/klay6683/Dropbox/data/planet4/for_chase/ESP_021460_0985_blotches.csv\n",
      "Created /Users/klay6683/Dropbox/data/planet4/for_chase/ESP_021460_0985_fans.csv\n",
      "Created /Users/klay6683/Dropbox/data/planet4/for_chase/ESP_020959_0985_blotches.csv\n",
      "Created /Users/klay6683/Dropbox/data/planet4/for_chase/ESP_020959_0985_fans.csv\n",
      "Created /Users/klay6683/Dropbox/data/planet4/for_chase/ESP_020748_0985_blotches.csv\n",
      "Created /Users/klay6683/Dropbox/data/planet4/for_chase/ESP_020748_0985_fans.csv\n",
      "Created /Users/klay6683/Dropbox/data/planet4/for_chase/ESP_020194_0985_blotches.csv\n",
      "Created /Users/klay6683/Dropbox/data/planet4/for_chase/ESP_020194_0985_fans.csv\n",
      "Created /Users/klay6683/Dropbox/data/planet4/for_chase/ESP_020128_0985_blotches.csv\n",
      "Created /Users/klay6683/Dropbox/data/planet4/for_chase/ESP_020128_0985_fans.csv\n",
      "Created /Users/klay6683/Dropbox/data/planet4/for_chase/ESP_020049_0985_blotches.csv\n",
      "Created /Users/klay6683/Dropbox/data/planet4/for_chase/ESP_020049_0985_fans.csv\n",
      "Created /Users/klay6683/Dropbox/data/planet4/for_chase/ESP_021829_0985_blotches.csv\n",
      "Created /Users/klay6683/Dropbox/data/planet4/for_chase/ESP_021829_0985_fans.csv\n",
      "Created /Users/klay6683/Dropbox/data/planet4/for_chase/ESP_021684_0985_blotches.csv\n",
      "Created /Users/klay6683/Dropbox/data/planet4/for_chase/ESP_021684_0985_fans.csv\n",
      "Created /Users/klay6683/Dropbox/data/planet4/for_chase/ESP_021671_0985_blotches.csv\n",
      "Created /Users/klay6683/Dropbox/data/planet4/for_chase/ESP_021671_0985_fans.csv\n",
      "Created /Users/klay6683/Dropbox/data/planet4/for_chase/ESP_021605_0985_blotches.csv\n",
      "Created /Users/klay6683/Dropbox/data/planet4/for_chase/ESP_021605_0985_fans.csv\n",
      "Created /Users/klay6683/Dropbox/data/planet4/for_chase/ESP_021526_0985_blotches.csv\n",
      "Created /Users/klay6683/Dropbox/data/planet4/for_chase/ESP_021526_0985_fans.csv\n",
      "Created /Users/klay6683/Dropbox/data/planet4/for_chase/ESP_020827_0985_blotches.csv\n",
      "Created /Users/klay6683/Dropbox/data/planet4/for_chase/ESP_020827_0985_fans.csv\n",
      "Created /Users/klay6683/Dropbox/data/planet4/for_chase/ESP_020339_0985_blotches.csv\n",
      "Created /Users/klay6683/Dropbox/data/planet4/for_chase/ESP_020339_0985_fans.csv\n",
      "Created /Users/klay6683/Dropbox/data/planet4/for_chase/ESP_020115_0985_blotches.csv\n",
      "Created /Users/klay6683/Dropbox/data/planet4/for_chase/ESP_020115_0985_fans.csv\n"
     ]
    }
   ],
   "source": [
    "for obsid in data:\n",
    "    create_obsid_result_files(obsid, datapath='for_chase')"
   ]
  },
  {
   "cell_type": "code",
   "execution_count": 17,
   "metadata": {
    "ExecuteTime": {
     "end_time": "2017-04-24T04:13:05.284512Z",
     "start_time": "2017-04-24T04:13:04.954616Z"
    },
    "collapsed": true
   },
   "outputs": [],
   "source": [
    "name= \"Ithaca\"\n",
    "region = getattr(region_data, name)\n",
    "for season_no in [2, 3]:\n",
    "    season = str(season_no)\n",
    "    bucket = []\n",
    "    for obsid in getattr(region, f\"season{season}\"):\n",
    "        pm = io.PathManager(obsid=obsid)\n",
    "        df = pd.read_csv(pm.obsid_final_blotches_path)\n",
    "        df['obsid'] = obsid\n",
    "        bucket.append(df)\n",
    "\n",
    "    df = pd.concat(bucket, ignore_index=True)\n",
    "    df.to_csv(io.analysis_folder() / f\"p4_catalog/{name}_season{season}_blotches.csv\",\n",
    "              index=False)"
   ]
  },
  {
   "cell_type": "code",
   "execution_count": 47,
   "metadata": {
    "ExecuteTime": {
     "end_time": "2017-06-12T04:54:28.617009Z",
     "start_time": "2017-06-12T04:54:28.577484Z"
    },
    "collapsed": true
   },
   "outputs": [],
   "source": [
    "store_folder = io.analysis_folder() / 'for_chase'\n",
    "store_folder.mkdir(exist_ok=True)"
   ]
  },
  {
   "cell_type": "code",
   "execution_count": 70,
   "metadata": {
    "ExecuteTime": {
     "end_time": "2017-06-12T06:08:09.550344Z",
     "start_time": "2017-06-12T06:08:08.084699Z"
    },
    "collapsed": true
   },
   "outputs": [],
   "source": [
    "name = 'inca'"
   ]
  },
  {
   "cell_type": "code",
   "execution_count": 71,
   "metadata": {
    "ExecuteTime": {
     "end_time": "2017-06-12T06:08:13.610971Z",
     "start_time": "2017-06-12T06:08:09.767188Z"
    }
   },
   "outputs": [
    {
     "name": "stdout",
     "output_type": "stream",
     "text": [
      "/Users/klay6683/Dropbox/data/planet4/p4_analysis/for_chase/inca/inca_blotches.csv\n",
      "/Users/klay6683/Dropbox/data/planet4/p4_analysis/for_chase/inca/inca_fans.csv\n"
     ]
    }
   ],
   "source": [
    "p = Path('/Users/klay6683/Dropbox/data/planet4/for_chase/' + name)\n",
    "for kind in ['blotches', 'fans']:\n",
    "    bucket = []\n",
    "    filepaths = p.glob(f'*_{kind}.csv')\n",
    "    for filepath in filepaths:\n",
    "        obsid = filepath.name[:15]\n",
    "        df = pd.read_csv(filepath)\n",
    "        df['obsid'] = obsid\n",
    "        bucket.append(df)\n",
    "    df = pd.concat(bucket, ignore_index=True)\n",
    "    savedir = store_folder / f'{name}'\n",
    "    savedir.mkdir(exist_ok=True)\n",
    "    savepath = savedir / f\"{name}_{kind}.csv\"\n",
    "    print(savepath)\n",
    "    df.to_csv(savepath, index=False)\n",
    "        "
   ]
  },
  {
   "cell_type": "code",
   "execution_count": null,
   "metadata": {
    "collapsed": true
   },
   "outputs": [],
   "source": []
  }
 ],
 "metadata": {
  "anaconda-cloud": {},
  "kernelspec": {
   "display_name": "Python [conda env:stable]",
   "language": "python",
   "name": "conda-env-stable-py"
  },
  "language_info": {
   "codemirror_mode": {
    "name": "ipython",
    "version": 3
   },
   "file_extension": ".py",
   "mimetype": "text/x-python",
   "name": "python",
   "nbconvert_exporter": "python",
   "pygments_lexer": "ipython3",
   "version": "3.6.2"
  },
  "latex_envs": {
   "LaTeX_envs_menu_present": true,
   "autocomplete": true,
   "bibliofile": "biblio.bib",
   "cite_by": "apalike",
   "current_citInitial": 1,
   "eqLabelWithNumbers": true,
   "eqNumInitial": 1,
   "hotkeys": {
    "equation": "Ctrl-E",
    "itemize": "Ctrl-I"
   },
   "labels_anchors": false,
   "latex_user_defs": false,
   "report_style_numbering": false,
   "user_envs_cfg": false
  },
  "toc": {
   "colors": {
    "hover_highlight": "#DAA520",
    "navigate_num": "#000000",
    "navigate_text": "#333333",
    "running_highlight": "#FF0000",
    "selected_highlight": "#FFD700",
    "sidebar_border": "#EEEEEE",
    "wrapper_background": "#FFFFFF"
   },
   "moveMenuLeft": true,
   "nav_menu": {
    "height": "48px",
    "width": "252px"
   },
   "navigate_menu": true,
   "number_sections": false,
   "sideBar": false,
   "threshold": 4,
   "toc_cell": false,
   "toc_position": {
    "height": "134px",
    "left": "786.59375px",
    "right": "20px",
    "top": "70px",
    "width": "183px"
   },
   "toc_section_display": "block",
   "toc_window_display": false,
   "widenNotebook": false
  }
 },
 "nbformat": 4,
 "nbformat_minor": 2
}
