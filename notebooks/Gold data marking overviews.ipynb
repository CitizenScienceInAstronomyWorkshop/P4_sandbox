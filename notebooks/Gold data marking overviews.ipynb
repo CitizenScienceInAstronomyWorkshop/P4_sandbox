{
 "cells": [
  {
   "cell_type": "code",
   "execution_count": null,
   "metadata": {},
   "outputs": [],
   "source": [
    "import matplotlib\n",
    "# matplotlib.use('Agg')\n",
    "import matplotlib.pyplot as plt"
   ]
  },
  {
   "cell_type": "code",
   "execution_count": null,
   "metadata": {},
   "outputs": [],
   "source": [
    "image_ids = pd.read_csv(\"./gold_data_ids.txt\", header=None, names=['image_id'])\n",
    "image_ids = image_ids.image_id.values"
   ]
  },
  {
   "cell_type": "code",
   "execution_count": null,
   "metadata": {},
   "outputs": [],
   "source": [
    "image_ids"
   ]
  },
  {
   "cell_type": "code",
   "execution_count": null,
   "metadata": {},
   "outputs": [],
   "source": [
    "datapath='gold_comparison'"
   ]
  },
  {
   "cell_type": "code",
   "execution_count": null,
   "metadata": {},
   "outputs": [],
   "source": [
    "from planet4 import markings, clustering, gold_standard_checker, gold_standard_plotter, io"
   ]
  },
  {
   "cell_type": "code",
   "execution_count": null,
   "metadata": {},
   "outputs": [],
   "source": [
    "len(image_ids)"
   ]
  },
  {
   "cell_type": "code",
   "execution_count": null,
   "metadata": {},
   "outputs": [],
   "source": [
    "from pathlib import Path\n",
    "from planet4 import plotting\n",
    "\n",
    "def plot_gold_comparison(id_, datapath):\n",
    "    fig, axes = plt.subplots(2, 2, figsize=(8, 5))\n",
    "    axes = axes.ravel()\n",
    "    fig.suptitle(id_)\n",
    "    plotting.plot_finals(id_, datapath, axes[0])\n",
    "    axes[0].set_title(f'Final objects.')\n",
    "    imgid = markings.ImageID(id_)\n",
    "    for ax, member in zip(axes[1:], markings.gold_members[:]):\n",
    "        ax.set_title(member)\n",
    "        for kind in ['fan', 'blotch']:\n",
    "            imgid.plot_markings(kind, ax=ax, user_name=member)\n",
    "    fig.savefig(f\"plots/gold_member_comparisons/{id_}_gold_comparison.png\", dpi=150)\n",
    "    plt.close('all')"
   ]
  },
  {
   "cell_type": "code",
   "execution_count": null,
   "metadata": {},
   "outputs": [],
   "source": [
    "savedir = Path('plots/gold_member_comparisons')\n",
    "savedir.mkdir(exist_ok=True, parents=True)\n",
    "catalog = 'gold_comparison'\n",
    "\n",
    "for id_ in image_ids:\n",
    "    plot_gold_comparison(id_, datapath=catalog)"
   ]
  },
  {
   "cell_type": "code",
   "execution_count": null,
   "metadata": {},
   "outputs": [],
   "source": [
    "db = io.DBManager()"
   ]
  },
  {
   "cell_type": "code",
   "execution_count": null,
   "metadata": {},
   "outputs": [],
   "source": [
    "data = db.get_image_id_markings('bsn')"
   ]
  },
  {
   "cell_type": "code",
   "execution_count": null,
   "metadata": {},
   "outputs": [],
   "source": [
    "data.filter(regex='tile').drop_duplicates()"
   ]
  },
  {
   "cell_type": "code",
   "execution_count": null,
   "metadata": {},
   "outputs": [],
   "source": [
    "data.filter(regex='image_name').drop_duplicates()"
   ]
  },
  {
   "cell_type": "code",
   "execution_count": null,
   "metadata": {},
   "outputs": [],
   "source": [
    "from planet4 import plotting, markings"
   ]
  },
  {
   "cell_type": "code",
   "execution_count": null,
   "metadata": {},
   "outputs": [],
   "source": [
    "imgid = markings.ImageID('bsn')"
   ]
  },
  {
   "cell_type": "code",
   "execution_count": null,
   "metadata": {},
   "outputs": [],
   "source": [
    "imgid.plot_all()"
   ]
  },
  {
   "cell_type": "code",
   "execution_count": null,
   "metadata": {},
   "outputs": [],
   "source": [
    "fig, ax = plt.subplots()\n",
    "plotting.plot_finals('bsn', datapath=datapath, ax=ax)"
   ]
  },
  {
   "cell_type": "code",
   "execution_count": null,
   "metadata": {},
   "outputs": [],
   "source": [
    "plotting.plot_clustered_blotches('bsn', datapath=datapath)"
   ]
  },
  {
   "cell_type": "code",
   "execution_count": null,
   "metadata": {},
   "outputs": [],
   "source": []
  },
  {
   "cell_type": "code",
   "execution_count": null,
   "metadata": {},
   "outputs": [],
   "source": []
  },
  {
   "cell_type": "code",
   "execution_count": null,
   "metadata": {},
   "outputs": [],
   "source": [
    "pm = io.PathManager(image_ids[0])"
   ]
  },
  {
   "cell_type": "code",
   "execution_count": null,
   "metadata": {},
   "outputs": [],
   "source": [
    "pm.final_blotchfile.exists()"
   ]
  },
  {
   "cell_type": "code",
   "execution_count": null,
   "metadata": {},
   "outputs": [],
   "source": [
    "io.check_and_pad_id(image_ids.iloc[0])"
   ]
  },
  {
   "cell_type": "code",
   "execution_count": null,
   "metadata": {},
   "outputs": [],
   "source": [
    "io.check_and_pad_id('l1r')"
   ]
  },
  {
   "cell_type": "code",
   "execution_count": null,
   "metadata": {},
   "outputs": [],
   "source": [
    "image_ids.iloc[0]"
   ]
  },
  {
   "cell_type": "code",
   "execution_count": null,
   "metadata": {},
   "outputs": [],
   "source": [
    "def check_and_pad_id(imgid):\n",
    "    if imgid is None:\n",
    "        return None\n",
    "    imgid_template = \"APF0000000\"\n",
    "    if len(imgid) < len(imgid_template):\n",
    "        imgid = imgid_template[:-len(imgid)] + imgid\n",
    "    return imgid\n"
   ]
  },
  {
   "cell_type": "code",
   "execution_count": null,
   "metadata": {},
   "outputs": [],
   "source": [
    "check_and_pad_id()"
   ]
  },
  {
   "cell_type": "code",
   "execution_count": null,
   "metadata": {},
   "outputs": [],
   "source": [
    "savedir = Path('plots/gold_member_comparisons')\n",
    "savedir.mkdir(exist_ok=True, parents=True)\n",
    "catalog = 'catalog_1.0b'\n",
    "\n",
    "for i,apfid in enumerate(apfids):\n",
    "    print(100*i/len(apfids))\n",
    "    pm = io.PathManager(id_=apfid, datapath=catalog)\n",
    "    imgid = markings.ImageID(id_, scope='planet4')\n",
    "    \n",
    "    for kind in ['fan', 'blotch']:\n",
    "        fig, axes = plt.subplots(2, 2, figsize=(10,8))\n",
    "        axes = axes.ravel()\n",
    "        fig.suptitle(apfid+' '+kind)\n",
    "        imgid.plot_markings(kind, data=getattr(pm, f\"final{kind}df\"), with_center=True)\n",
    "        axes[0].set_title(f'Final {kind} objects.')\n",
    "        for goldstar, ax in zip(markings.gold_members[:3], axes[1:]):\n",
    "            func(ax=ax, user_name=goldstar)\n",
    "            ax.set_title(goldstar)\n",
    "        fname = \"{number}_{apfid}_{kind}.png\".format(number=str(i).zfill(2),\n",
    "                                                     apfid=apfid,\n",
    "                                                     kind=func.__name__.split('_')[1])\n",
    "        plt.savefig(savepath+fname, dpi=150)\n",
    "        plt.close(fig)"
   ]
  },
  {
   "cell_type": "code",
   "execution_count": null,
   "metadata": {},
   "outputs": [],
   "source": []
  }
 ],
 "metadata": {
  "kernelspec": {
   "display_name": "Python [conda env:stable]",
   "language": "python",
   "name": "conda-env-stable-py"
  },
  "language_info": {
   "codemirror_mode": {
    "name": "ipython",
    "version": 3
   },
   "file_extension": ".py",
   "mimetype": "text/x-python",
   "name": "python",
   "nbconvert_exporter": "python",
   "pygments_lexer": "ipython3",
   "version": "3.6.2"
  },
  "toc": {
   "colors": {
    "hover_highlight": "#DAA520",
    "navigate_num": "#000000",
    "navigate_text": "#333333",
    "running_highlight": "#FF0000",
    "selected_highlight": "#FFD700",
    "sidebar_border": "#EEEEEE",
    "wrapper_background": "#FFFFFF"
   },
   "moveMenuLeft": true,
   "nav_menu": {
    "height": "12px",
    "width": "252px"
   },
   "navigate_menu": true,
   "number_sections": true,
   "sideBar": false,
   "threshold": 4,
   "toc_cell": false,
   "toc_section_display": "block",
   "toc_window_display": false,
   "widenNotebook": true
  }
 },
 "nbformat": 4,
 "nbformat_minor": 1
}
