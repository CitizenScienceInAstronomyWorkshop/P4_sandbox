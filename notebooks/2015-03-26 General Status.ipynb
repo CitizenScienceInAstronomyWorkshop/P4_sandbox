{
 "cells": [
  {
   "cell_type": "markdown",
   "metadata": {
    "toc": true
   },
   "source": [
    "<h1>Table of Contents<span class=\"tocSkip\"></span></h1>\n",
    "<div class=\"toc\"><ul class=\"toc-item\"><li><span><a href=\"#per-region\" data-toc-modified-id=\"per-region-1\"><span class=\"toc-item-num\">1&nbsp;&nbsp;</span>per region</a></span></li><li><span><a href=\"#per-image_name-(=-hirise-obs_id)\" data-toc-modified-id=\"per-image_name-(=-hirise-obs_id)-2\"><span class=\"toc-item-num\">2&nbsp;&nbsp;</span>per image_name (= hirise obs_id)</a></span></li><li><span><a href=\"#Figure-for-HiRISE-meeting\" data-toc-modified-id=\"Figure-for-HiRISE-meeting-3\"><span class=\"toc-item-num\">3&nbsp;&nbsp;</span>Figure for HiRISE meeting</a></span></li></ul></div>"
   ]
  },
  {
   "cell_type": "code",
   "execution_count": 4,
   "metadata": {},
   "outputs": [],
   "source": [
    "from planet4 import region_data, io, stats"
   ]
  },
  {
   "cell_type": "markdown",
   "metadata": {},
   "source": [
    "# per region"
   ]
  },
  {
   "cell_type": "code",
   "execution_count": 5,
   "metadata": {},
   "outputs": [],
   "source": [
    "def process_region(args):\n",
    "    from planet4 import region_data, io, stats\n",
    "    regionclass, season = args\n",
    "    try:\n",
    "        image_names = getattr(regionclass, season)\n",
    "    except AttributeError:\n",
    "        print(\"No data for that season found.\")\n",
    "        return None\n",
    "    results = []\n",
    "    for image_name in image_names:\n",
    "        df = io.DBManager(s23=False).get_image_name_markings(image_name)\n",
    "        results.append(stats.get_status_per_classifications(df))\n",
    "    resdf = pd.DataFrame(dict(image_name=image_names, completion=results))\n",
    "    resdf['season'] = season\n",
    "    resdf['region'] = regionclass.__name__\n",
    "    return resdf"
   ]
  },
  {
   "cell_type": "code",
   "execution_count": 6,
   "metadata": {},
   "outputs": [],
   "source": [
    "def get_process_list():\n",
    "    processlist = []\n",
    "    for season in ['season'+str(i) for i in range(1,5)]:\n",
    "        for region in region_data.regions:\n",
    "            processlist.append((region, season))\n",
    "    return processlist"
   ]
  },
  {
   "cell_type": "code",
   "execution_count": 7,
   "metadata": {},
   "outputs": [
    {
     "data": {
      "text/plain": [
       "[(planet4.region_data.Giza, 'season1'),\n",
       " (planet4.region_data.Inca, 'season1'),\n",
       " (planet4.region_data.Ithaca, 'season1'),\n",
       " (planet4.region_data.Manhattan, 'season1'),\n",
       " (planet4.region_data.Manhattan2, 'season1'),\n",
       " (planet4.region_data.Bilbao, 'season1'),\n",
       " (planet4.region_data.Oswego_Edge, 'season1'),\n",
       " (planet4.region_data.Manhattan_Frontinella, 'season1'),\n",
       " (planet4.region_data.BuenosAires, 'season1'),\n",
       " (planet4.region_data.Maccelsfield, 'season1'),\n",
       " (planet4.region_data.Starburst, 'season1'),\n",
       " (planet4.region_data.Potsdam, 'season1'),\n",
       " (planet4.region_data.Portsmouth, 'season1'),\n",
       " (planet4.region_data.Giza, 'season2'),\n",
       " (planet4.region_data.Inca, 'season2'),\n",
       " (planet4.region_data.Ithaca, 'season2'),\n",
       " (planet4.region_data.Manhattan, 'season2'),\n",
       " (planet4.region_data.Manhattan2, 'season2'),\n",
       " (planet4.region_data.Bilbao, 'season2'),\n",
       " (planet4.region_data.Oswego_Edge, 'season2'),\n",
       " (planet4.region_data.Manhattan_Frontinella, 'season2'),\n",
       " (planet4.region_data.BuenosAires, 'season2'),\n",
       " (planet4.region_data.Maccelsfield, 'season2'),\n",
       " (planet4.region_data.Starburst, 'season2'),\n",
       " (planet4.region_data.Potsdam, 'season2'),\n",
       " (planet4.region_data.Portsmouth, 'season2'),\n",
       " (planet4.region_data.Giza, 'season3'),\n",
       " (planet4.region_data.Inca, 'season3'),\n",
       " (planet4.region_data.Ithaca, 'season3'),\n",
       " (planet4.region_data.Manhattan, 'season3'),\n",
       " (planet4.region_data.Manhattan2, 'season3'),\n",
       " (planet4.region_data.Bilbao, 'season3'),\n",
       " (planet4.region_data.Oswego_Edge, 'season3'),\n",
       " (planet4.region_data.Manhattan_Frontinella, 'season3'),\n",
       " (planet4.region_data.BuenosAires, 'season3'),\n",
       " (planet4.region_data.Maccelsfield, 'season3'),\n",
       " (planet4.region_data.Starburst, 'season3'),\n",
       " (planet4.region_data.Potsdam, 'season3'),\n",
       " (planet4.region_data.Portsmouth, 'season3'),\n",
       " (planet4.region_data.Giza, 'season4'),\n",
       " (planet4.region_data.Inca, 'season4'),\n",
       " (planet4.region_data.Ithaca, 'season4'),\n",
       " (planet4.region_data.Manhattan, 'season4'),\n",
       " (planet4.region_data.Manhattan2, 'season4'),\n",
       " (planet4.region_data.Bilbao, 'season4'),\n",
       " (planet4.region_data.Oswego_Edge, 'season4'),\n",
       " (planet4.region_data.Manhattan_Frontinella, 'season4'),\n",
       " (planet4.region_data.BuenosAires, 'season4'),\n",
       " (planet4.region_data.Maccelsfield, 'season4'),\n",
       " (planet4.region_data.Starburst, 'season4'),\n",
       " (planet4.region_data.Potsdam, 'season4'),\n",
       " (planet4.region_data.Portsmouth, 'season4')]"
      ]
     },
     "execution_count": 7,
     "metadata": {},
     "output_type": "execute_result"
    }
   ],
   "source": [
    "get_process_list()"
   ]
  },
  {
   "cell_type": "code",
   "execution_count": null,
   "metadata": {},
   "outputs": [],
   "source": [
    "from ipyparallel import Client\n",
    "c = Client()\n",
    "lbview = c.load_balanced_view()"
   ]
  },
  {
   "cell_type": "code",
   "execution_count": null,
   "metadata": {},
   "outputs": [],
   "source": [
    "from nbtools import display_multi_progress"
   ]
  },
  {
   "cell_type": "code",
   "execution_count": null,
   "metadata": {},
   "outputs": [],
   "source": [
    "import sys\n",
    "processlist = get_process_list()\n",
    "results = lbview.map_async(process_region, processlist)\n",
    "display_multi_progress(results, processlist)"
   ]
  },
  {
   "cell_type": "code",
   "execution_count": null,
   "metadata": {},
   "outputs": [],
   "source": [
    "statusdf = pd.concat(results.result(), ignore_index=True)"
   ]
  },
  {
   "cell_type": "code",
   "execution_count": null,
   "metadata": {},
   "outputs": [],
   "source": [
    "%matplotlib inline\n",
    "%config InlineBackend.figure_format = 'retina'"
   ]
  },
  {
   "cell_type": "code",
   "execution_count": null,
   "metadata": {},
   "outputs": [],
   "source": [
    "statusdf[statusdf.completion < 110].hist(bins=50)"
   ]
  },
  {
   "cell_type": "code",
   "execution_count": null,
   "metadata": {},
   "outputs": [],
   "source": [
    "get_process_list()"
   ]
  },
  {
   "cell_type": "code",
   "execution_count": null,
   "metadata": {},
   "outputs": [],
   "source": [
    "statusdf[statusdf.completion < 95]"
   ]
  },
  {
   "cell_type": "markdown",
   "metadata": {},
   "source": [
    "# per image_name (= hirise obs_id)"
   ]
  },
  {
   "cell_type": "code",
   "execution_count": null,
   "metadata": {},
   "outputs": [],
   "source": [
    "from planet4 import io"
   ]
  },
  {
   "cell_type": "code",
   "execution_count": null,
   "metadata": {},
   "outputs": [],
   "source": [
    "# image_names = io.get_all_image_names()\n",
    "# image_names = image_names.image_name.unique()\n",
    "# with open('current_image_names.pkl', 'wb') as f:\n",
    "#     pickle.dump(image_names, f)"
   ]
  },
  {
   "cell_type": "code",
   "execution_count": null,
   "metadata": {},
   "outputs": [],
   "source": [
    "image_names = io.get_image_names_from_db(io.get_current_database_fname())"
   ]
  },
  {
   "cell_type": "code",
   "execution_count": null,
   "metadata": {},
   "outputs": [],
   "source": [
    "from planet4 import helper_functions as hf"
   ]
  },
  {
   "cell_type": "code",
   "execution_count": null,
   "metadata": {},
   "outputs": [],
   "source": [
    "def process_image_name(image_name):\n",
    "    from planet4 import helper_functions as hf\n",
    "    from planet4 import io\n",
    "    df = io.get_image_name_data(image_name)\n",
    "    status = hf.get_status_per_classifications(df)\n",
    "    return image_name, status"
   ]
  },
  {
   "cell_type": "code",
   "execution_count": null,
   "metadata": {},
   "outputs": [],
   "source": [
    "def process_image_name(image_name):\n",
    "    from planet4 import helper_functions as hf\n",
    "    from planet4 import io\n",
    "    df = io.get_image_name_data(image_name)\n",
    "    no_done = hf.get_no_tiles_done(df)\n",
    "    return {'image_name': image_name, 'no_done': no_done}"
   ]
  },
  {
   "cell_type": "code",
   "execution_count": null,
   "metadata": {},
   "outputs": [],
   "source": [
    "from ipyparallel import Client\n",
    "c = Client()\n",
    "lbview = c.load_balanced_view()"
   ]
  },
  {
   "cell_type": "code",
   "execution_count": null,
   "metadata": {},
   "outputs": [],
   "source": [
    "results = lbview.map_async(process_image_name, image_names)"
   ]
  },
  {
   "cell_type": "code",
   "execution_count": null,
   "metadata": {},
   "outputs": [],
   "source": [
    "for result in results:\n",
    "    print(result)"
   ]
  },
  {
   "cell_type": "code",
   "execution_count": null,
   "metadata": {},
   "outputs": [],
   "source": [
    "df = pd.DataFrame(results.result)\n",
    "df = df.set_index('image_name')\n",
    "df"
   ]
  },
  {
   "cell_type": "code",
   "execution_count": null,
   "metadata": {},
   "outputs": [],
   "source": [
    "df.no_done.sum()"
   ]
  },
  {
   "cell_type": "code",
   "execution_count": null,
   "metadata": {},
   "outputs": [],
   "source": [
    "%matplotlib nbagg"
   ]
  },
  {
   "cell_type": "code",
   "execution_count": null,
   "metadata": {},
   "outputs": [],
   "source": [
    "df = df.drop('tutorial')"
   ]
  },
  {
   "cell_type": "code",
   "execution_count": null,
   "metadata": {},
   "outputs": [],
   "source": [
    "df.plot(kind='hist',bins=30)"
   ]
  },
  {
   "cell_type": "code",
   "execution_count": null,
   "metadata": {},
   "outputs": [],
   "source": [
    "df = pd.read_hdf('image_name_status.h5','df')"
   ]
  },
  {
   "cell_type": "code",
   "execution_count": null,
   "metadata": {},
   "outputs": [],
   "source": [
    "df.head()"
   ]
  },
  {
   "cell_type": "markdown",
   "metadata": {},
   "source": [
    "# Figure for HiRISE meeting"
   ]
  },
  {
   "cell_type": "code",
   "execution_count": null,
   "metadata": {},
   "outputs": [],
   "source": [
    "import helper_functions as hf\n",
    "reload(hf)\n",
    "\n",
    "pd.__version__\n",
    "\n",
    "df = hf.get_current_cleaned()\n",
    "\n",
    "users_work = hf.classification_counts_per_user(df)\n",
    "topten = users_work.order(ascending=False)[:10]\n",
    "\n",
    "topten\n",
    "\n",
    "hf.classification_counts_for_user('Kitharode',df)\n",
    "\n",
    "for user in topten.index:\n",
    "    print user\n",
    "    print df[df.user_name==user].marking.value_counts()\n",
    "\n",
    "df.marking.value_counts().plot?\n",
    "\n",
    "s = df.marking.value_counts()\n",
    "\n",
    "s.plot(kind='bar')\n",
    "title('Marking stats')\n",
    "\n",
    "savefig(\"marking_stats.png\",dpi=200)\n",
    "\n",
    "df.columns\n",
    "\n",
    "no_nones = df[df.marking != 'None']\n",
    "\n",
    "hf.get_top_ten_users(no_nones)\n",
    "\n",
    "topten = hf.get_top_ten_users(df)\n",
    "\n",
    "topten.plot(kind='bar')\n",
    "title(\"Top ten citizens, submissions\")\n",
    "savefig('top_ten_submitters.png',dpi=200)"
   ]
  }
 ],
 "metadata": {
  "anaconda-cloud": {},
  "kernelspec": {
   "display_name": "Python [conda env:py310] *",
   "language": "python",
   "name": "conda-env-py310-py"
  },
  "language_info": {
   "codemirror_mode": {
    "name": "ipython",
    "version": 3
   },
   "file_extension": ".py",
   "mimetype": "text/x-python",
   "name": "python",
   "nbconvert_exporter": "python",
   "pygments_lexer": "ipython3",
   "version": "3.10.4"
  },
  "toc": {
   "nav_menu": {
    "height": "66px",
    "width": "252px"
   },
   "number_sections": true,
   "sideBar": true,
   "skip_h1_title": false,
   "title_cell": "Table of Contents",
   "title_sidebar": "Contents",
   "toc_cell": true,
   "toc_position": {},
   "toc_section_display": "block",
   "toc_window_display": false
  },
  "widgets": {
   "application/vnd.jupyter.widget-state+json": {
    "state": {},
    "version_major": 2,
    "version_minor": 0
   }
  }
 },
 "nbformat": 4,
 "nbformat_minor": 4
}
