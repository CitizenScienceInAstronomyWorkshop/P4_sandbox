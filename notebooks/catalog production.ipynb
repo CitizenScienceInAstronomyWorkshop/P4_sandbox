{
 "cells": [
  {
   "cell_type": "code",
   "execution_count": 12,
   "metadata": {
    "collapsed": false
   },
   "outputs": [
    {
     "name": "stdout",
     "output_type": "stream",
     "text": [
      "The autoreload extension is already loaded. To reload it, use:\n",
      "  %reload_ext autoreload\n"
     ]
    }
   ],
   "source": [
    "%load_ext autoreload\n",
    "%autoreload 2"
   ]
  },
  {
   "cell_type": "code",
   "execution_count": 14,
   "metadata": {
    "collapsed": false
   },
   "outputs": [],
   "source": [
    "from __future__ import print_function, division\n",
    "import planet4 as p4\n",
    "import pandas as pd\n",
    "from planet4 import markings\n",
    "from planet4.get_data import get_current_database_fname\n",
    "from planet4 import clustering\n",
    "import os\n",
    "from os.path import join as pjoin\n",
    "HOME = os.environ['HOME']"
   ]
  },
  {
   "cell_type": "code",
   "execution_count": 15,
   "metadata": {
    "collapsed": false
   },
   "outputs": [
    {
     "data": {
      "text/plain": [
       "<class 'pandas.io.pytables.HDFStore'>\n",
       "File path: /Users/klay6683/data/planet4/2015-03-08_planet_four_classifications_queryable.h5\n",
       "/df            frame_table  (typ->appendable,nrows->12554247,ncols->21,indexers->[index],dc->[classification_id,image_id,image_name,user_name,marking,acquisition_date,local_mars_time])"
      ]
     },
     "execution_count": 15,
     "metadata": {},
     "output_type": "execute_result"
    }
   ],
   "source": [
    "dbfile = get_current_database_fname()\n",
    "store = pd.HDFStore(dbfile)\n",
    "store"
   ]
  },
  {
   "cell_type": "code",
   "execution_count": 28,
   "metadata": {
    "collapsed": false
   },
   "outputs": [],
   "source": [
    "image_names = store.select_column('df', 'image_name').unique()"
   ]
  },
  {
   "cell_type": "code",
   "execution_count": 41,
   "metadata": {
    "collapsed": false
   },
   "outputs": [],
   "source": [
    "from IPython.parallel import Client\n",
    "client = Client()"
   ]
  },
  {
   "cell_type": "code",
   "execution_count": 42,
   "metadata": {
    "collapsed": false
   },
   "outputs": [],
   "source": [
    "dview = client.direct_view()\n",
    "lview = client.load_balanced_view()"
   ]
  },
  {
   "cell_type": "code",
   "execution_count": 43,
   "metadata": {
    "collapsed": true
   },
   "outputs": [],
   "source": [
    "%%px\n",
    "import pandas as pd\n",
    "from planet4 import clustering, markings\n",
    "from os.path import join as pjoin\n",
    "import os\n",
    "HOME = os.environ['HOME']"
   ]
  },
  {
   "cell_type": "code",
   "execution_count": 48,
   "metadata": {
    "collapsed": false
   },
   "outputs": [],
   "source": [
    "def do_clustering(p4img, fans):\n",
    "    if fans:\n",
    "        reduced = clustering.perform_dbscan(p4img.get_fans(), fans=fans)\n",
    "    else:\n",
    "        reduced = clustering.perform_dbscan(p4img.get_blotches(), fans=fans)\n",
    "    if reduced is None:\n",
    "        return None\n",
    "    series = [cluster.data for cluster in reduced]\n",
    "    n_members = [cluster.n_members for cluster in reduced]\n",
    "    df = pd.DataFrame(series)\n",
    "    df['image_id'] = p4img.imgid\n",
    "    df['n_members'] = n_members\n",
    "    return df\n",
    "    \n",
    "def process_image_name(image_name):\n",
    "    dirname = pjoin(HOME, 'data/planet4/reduced')\n",
    "    blotchfname = pjoin(dirname, image_name+'_reduced_blotches.hdf')\n",
    "    fanfname = pjoin(dirname, image_name+'_reduced_fans.hdf')\n",
    "    if os.path.exists(blotchfname) and\\\n",
    "            os.path.exists(fanfname):\n",
    "        return image_name+' already done.'\n",
    "    data = pd.read_hdf(dbfile, 'df', where=\"image_name=\"+image_name)\n",
    "    img_ids = data.image_id.unique()\n",
    "    blotches = []\n",
    "    fans = []\n",
    "    for img_id in img_ids:\n",
    "        p4img = markings.ImageID(img_id)\n",
    "        blotches.append(do_clustering(p4img, fans=False))\n",
    "        fans.append(do_clustering(p4img, fans=True))\n",
    "    blotches = pd.concat(blotches, ignore_index=True)\n",
    "    blotches.to_hdf(blotchfname, 'df')\n",
    "    fans = pd.concat(fans, ignore_index=True)\n",
    "    fans.to_hdf(fanfname, 'df')\n",
    "    return image_name"
   ]
  },
  {
   "cell_type": "code",
   "execution_count": 49,
   "metadata": {
    "collapsed": false
   },
   "outputs": [
    {
     "data": {
      "text/plain": [
       "<AsyncResult: finished>"
      ]
     },
     "execution_count": 49,
     "metadata": {},
     "output_type": "execute_result"
    }
   ],
   "source": [
    "dview.push({'do_clustering':do_clustering,\n",
    "            'dbfile':dbfile})"
   ]
  },
  {
   "cell_type": "code",
   "execution_count": 55,
   "metadata": {
    "collapsed": false
   },
   "outputs": [],
   "source": [
    "result = lview.map_async(process_image_name, image_names)"
   ]
  },
  {
   "cell_type": "code",
   "execution_count": 54,
   "metadata": {
    "collapsed": false
   },
   "outputs": [
    {
     "name": "stdout",
     "output_type": "stream",
     "text": [
      "ESP_011544_0985\n",
      "ESP_021684_0985\n",
      "ESP_011697_0980\n"
     ]
    }
   ],
   "source": [
    "for res in result:\n",
    "    print(res)"
   ]
  },
  {
   "cell_type": "code",
   "execution_count": 59,
   "metadata": {
    "collapsed": false,
    "scrolled": false
   },
   "outputs": [
    {
     "name": "stdout",
     "output_type": "stream",
     "text": [
      "2.5 %\n",
      "3.2 %\n",
      "3.2 %\n",
      "3.9 %\n",
      "4.2 %\n",
      "4.9 %\n",
      "5.6 %\n",
      "6.1 %\n",
      "6.6 %\n",
      "7.4 %\n",
      "7.8 %\n",
      "8.6 %\n",
      "9.3 %\n",
      "9.8 %\n",
      "10.8 %\n",
      "11.5 %\n",
      "12.0 %\n",
      "12.7 %\n",
      "13.0 %\n",
      "13.7 %\n",
      "14.2 %\n",
      "15.0 %\n",
      "16.2 %\n",
      "17.4 %\n",
      "17.9 %\n",
      "18.6 %\n",
      "18.9 %\n",
      "19.9 %\n",
      "21.1 %\n",
      "21.6 %\n",
      "22.5 %\n",
      "23.0 %\n",
      "23.5 %\n",
      "24.8 %\n",
      "26.0 %\n",
      "27.0 %\n",
      "27.5 %\n",
      "28.2 %\n",
      "28.4 %\n",
      "29.4 %\n",
      "30.4 %\n",
      "31.1 %\n",
      "32.4 %\n",
      "32.8 %\n",
      "33.8 %\n",
      "34.8 %\n",
      "36.5 %\n",
      "37.0 %\n",
      "38.0 %\n",
      "39.5 %\n",
      "40.2 %\n",
      "41.4 %\n",
      "42.2 %\n",
      "43.4 %\n",
      "44.6 %\n",
      "45.8 %\n",
      "47.1 %\n",
      "48.3 %\n",
      "49.8 %\n",
      "51.0 %\n",
      "52.0 %\n",
      "53.4 %\n",
      "54.4 %\n",
      "54.9 %\n",
      "55.4 %\n",
      "55.6 %\n",
      "56.4 %\n",
      "56.6 %\n",
      "57.1 %\n",
      "57.6 %\n",
      "58.1 %\n",
      "58.6 %\n",
      "59.3 %\n",
      "59.8 %\n",
      "60.8 %\n",
      "61.3 %\n",
      "62.3 %\n",
      "62.7 %\n",
      "63.5 %\n",
      "64.5 %\n",
      "65.9 %\n",
      "66.4 %\n",
      "67.2 %\n",
      "68.4 %\n",
      "69.6 %\n",
      "70.3 %\n",
      "71.3 %\n",
      "72.8 %\n",
      "74.3 %\n",
      "75.0 %\n",
      "76.2 %\n",
      "77.0 %\n",
      "77.9 %\n",
      "78.9 %\n",
      "80.1 %\n",
      "81.4 %\n",
      "82.4 %\n",
      "83.8 %\n",
      "85.5 %\n",
      "87.3 %\n",
      "89.0 %\n",
      "90.2 %\n",
      "92.2 %\n",
      "94.6 %\n",
      "95.6 %\n",
      "97.1 %\n",
      "98.3 %\n",
      "99.8 %\n"
     ]
    }
   ],
   "source": [
    "import time\n",
    "import sys\n",
    "while not result.ready():\n",
    "    print(\"{:.1f} %\".format(100*result.progress/len(image_names)))\n",
    "    sys.stdout.flush()\n",
    "    time.sleep(30)"
   ]
  },
  {
   "cell_type": "code",
   "execution_count": 2,
   "metadata": {
    "collapsed": false
   },
   "outputs": [
    {
     "name": "stdout",
     "output_type": "stream",
     "text": [
      "Produced 814 files.\n"
     ]
    }
   ],
   "source": [
    "reducedfiles = !ls ~/data/planet4/reduced\n",
    "nooffiles = len(reducedfiles)\n",
    "print(\"Produced\", nooffiles, \"files.\")"
   ]
  },
  {
   "cell_type": "code",
   "execution_count": 4,
   "metadata": {
    "collapsed": false
   },
   "outputs": [],
   "source": [
    "from planet4.get_data import is_catalog_production_good"
   ]
  },
  {
   "cell_type": "code",
   "execution_count": 5,
   "metadata": {
    "collapsed": false
   },
   "outputs": [
    {
     "data": {
      "text/plain": [
       "True"
      ]
     },
     "execution_count": 5,
     "metadata": {},
     "output_type": "execute_result"
    }
   ],
   "source": [
    "is_catalog_production_good()"
   ]
  },
  {
   "cell_type": "code",
   "execution_count": null,
   "metadata": {
    "collapsed": true
   },
   "outputs": [],
   "source": []
  }
 ],
 "metadata": {
  "kernelspec": {
   "display_name": "Python 3",
   "language": "python",
   "name": "python3"
  },
  "language_info": {
   "codemirror_mode": {
    "name": "ipython",
    "version": 3
   },
   "file_extension": ".py",
   "mimetype": "text/x-python",
   "name": "python",
   "nbconvert_exporter": "python",
   "pygments_lexer": "ipython3",
   "version": "3.4.3"
  }
 },
 "nbformat": 4,
 "nbformat_minor": 0
}
