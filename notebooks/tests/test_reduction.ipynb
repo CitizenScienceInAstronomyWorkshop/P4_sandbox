{
 "cells": [
  {
   "cell_type": "code",
   "execution_count": 1,
   "metadata": {
    "collapsed": true
   },
   "outputs": [],
   "source": [
    "fname = \"/Users/klay6683/data/planet4/2015-10-11_planet_four_classifications.csv\""
   ]
  },
  {
   "cell_type": "code",
   "execution_count": 2,
   "metadata": {
    "collapsed": false
   },
   "outputs": [],
   "source": [
    "from planet4 import p4io as io, reduction"
   ]
  },
  {
   "cell_type": "code",
   "execution_count": 3,
   "metadata": {
    "collapsed": true
   },
   "outputs": [],
   "source": [
    "reader = pd.read_csv(fname, chunksize=1e6, na_values=['null'], usecols=reduction.analysis_cols)"
   ]
  },
  {
   "cell_type": "code",
   "execution_count": 4,
   "metadata": {
    "collapsed": true
   },
   "outputs": [],
   "source": [
    "data = [chunk for chunk in reader]"
   ]
  },
  {
   "cell_type": "code",
   "execution_count": 5,
   "metadata": {
    "collapsed": true
   },
   "outputs": [],
   "source": [
    "df = pd.concat(data, ignore_index=True)"
   ]
  },
  {
   "cell_type": "code",
   "execution_count": 6,
   "metadata": {
    "collapsed": true
   },
   "outputs": [],
   "source": [
    "data = 0"
   ]
  },
  {
   "cell_type": "code",
   "execution_count": 7,
   "metadata": {
    "collapsed": false
   },
   "outputs": [
    {
     "name": "stdout",
     "output_type": "stream",
     "text": [
      "<class 'pandas.core.frame.DataFrame'>\n",
      "Int64Index: 13345445 entries, 0 to 13345444\n",
      "Data columns (total 21 columns):\n",
      "classification_id    object\n",
      "created_at           object\n",
      "image_id             object\n",
      "image_name           object\n",
      "image_url            object\n",
      "user_name            object\n",
      "marking              object\n",
      "x_tile               int64\n",
      "y_tile               int64\n",
      "acquisition_date     object\n",
      "local_mars_time      object\n",
      "x                    float64\n",
      "y                    float64\n",
      "image_x              float64\n",
      "image_y              float64\n",
      "radius_1             float64\n",
      "radius_2             float64\n",
      "distance             float64\n",
      "angle                float64\n",
      "spread               float64\n",
      "version              float64\n",
      "dtypes: float64(10), int64(2), object(9)\n",
      "memory usage: 2.2+ GB\n"
     ]
    }
   ],
   "source": [
    "df.info()"
   ]
  },
  {
   "cell_type": "code",
   "execution_count": 27,
   "metadata": {
    "collapsed": false
   },
   "outputs": [],
   "source": [
    "pd.set_option('display.width', 10000)\n",
    "pd.set_option('display.max_colwidth',100)"
   ]
  },
  {
   "cell_type": "code",
   "execution_count": 29,
   "metadata": {
    "collapsed": false,
    "scrolled": false
   },
   "outputs": [
    {
     "data": {
      "text/html": [
       "<div>\n",
       "<table border=\"1\" class=\"dataframe\">\n",
       "  <thead>\n",
       "    <tr style=\"text-align: right;\">\n",
       "      <th></th>\n",
       "      <th>1667957</th>\n",
       "    </tr>\n",
       "  </thead>\n",
       "  <tbody>\n",
       "    <tr>\n",
       "      <th>classification_id</th>\n",
       "      <td>50ee387194b9d50e88000001</td>\n",
       "    </tr>\n",
       "    <tr>\n",
       "      <th>created_at</th>\n",
       "      <td>2013-01-09 21:29:25 UTC</td>\n",
       "    </tr>\n",
       "    <tr>\n",
       "      <th>image_id</th>\n",
       "      <td>APF0000ojd</td>\n",
       "    </tr>\n",
       "    <tr>\n",
       "      <th>image_name</th>\n",
       "      <td>ESP_020902_0950</td>\n",
       "    </tr>\n",
       "    <tr>\n",
       "      <th>image_url</th>\n",
       "      <td>http://www.planetfour.org/subjects/standard/50e740aa5e2ed211dc001f8e.jpg</td>\n",
       "    </tr>\n",
       "    <tr>\n",
       "      <th>user_name</th>\n",
       "      <td>Pedrosan</td>\n",
       "    </tr>\n",
       "    <tr>\n",
       "      <th>marking</th>\n",
       "      <td>none</td>\n",
       "    </tr>\n",
       "    <tr>\n",
       "      <th>x_tile</th>\n",
       "      <td>5</td>\n",
       "    </tr>\n",
       "    <tr>\n",
       "      <th>y_tile</th>\n",
       "      <td>40</td>\n",
       "    </tr>\n",
       "    <tr>\n",
       "      <th>acquisition_date</th>\n",
       "      <td>2011-01-11</td>\n",
       "    </tr>\n",
       "    <tr>\n",
       "      <th>local_mars_time</th>\n",
       "      <td>5:53 PM</td>\n",
       "    </tr>\n",
       "    <tr>\n",
       "      <th>x</th>\n",
       "      <td>NaN</td>\n",
       "    </tr>\n",
       "    <tr>\n",
       "      <th>y</th>\n",
       "      <td>NaN</td>\n",
       "    </tr>\n",
       "    <tr>\n",
       "      <th>image_x</th>\n",
       "      <td>NaN</td>\n",
       "    </tr>\n",
       "    <tr>\n",
       "      <th>image_y</th>\n",
       "      <td>NaN</td>\n",
       "    </tr>\n",
       "    <tr>\n",
       "      <th>radius_1</th>\n",
       "      <td>NaN</td>\n",
       "    </tr>\n",
       "    <tr>\n",
       "      <th>radius_2</th>\n",
       "      <td>NaN</td>\n",
       "    </tr>\n",
       "    <tr>\n",
       "      <th>distance</th>\n",
       "      <td>NaN</td>\n",
       "    </tr>\n",
       "    <tr>\n",
       "      <th>angle</th>\n",
       "      <td>NaN</td>\n",
       "    </tr>\n",
       "    <tr>\n",
       "      <th>spread</th>\n",
       "      <td>0</td>\n",
       "    </tr>\n",
       "    <tr>\n",
       "      <th>version</th>\n",
       "      <td>1</td>\n",
       "    </tr>\n",
       "  </tbody>\n",
       "</table>\n",
       "</div>"
      ],
      "text/plain": [
       "                                                                                    1667957\n",
       "classification_id                                                  50ee387194b9d50e88000001\n",
       "created_at                                                          2013-01-09 21:29:25 UTC\n",
       "image_id                                                                         APF0000ojd\n",
       "image_name                                                                  ESP_020902_0950\n",
       "image_url          http://www.planetfour.org/subjects/standard/50e740aa5e2ed211dc001f8e.jpg\n",
       "user_name                                                                          Pedrosan\n",
       "marking                                                                                none\n",
       "x_tile                                                                                    5\n",
       "y_tile                                                                                   40\n",
       "acquisition_date                                                                 2011-01-11\n",
       "local_mars_time                                                                     5:53 PM\n",
       "x                                                                                       NaN\n",
       "y                                                                                       NaN\n",
       "image_x                                                                                 NaN\n",
       "image_y                                                                                 NaN\n",
       "radius_1                                                                                NaN\n",
       "radius_2                                                                                NaN\n",
       "distance                                                                                NaN\n",
       "angle                                                                                   NaN\n",
       "spread                                                                                    0\n",
       "version                                                                                   1"
      ]
     },
     "execution_count": 29,
     "metadata": {},
     "output_type": "execute_result"
    }
   ],
   "source": [
    "df[df.classification_id=='50ee387194b9d50e88000001'].T"
   ]
  },
  {
   "cell_type": "code",
   "execution_count": 9,
   "metadata": {
    "collapsed": false
   },
   "outputs": [
    {
     "data": {
      "text/html": [
       "<div>\n",
       "<table border=\"1\" class=\"dataframe\">\n",
       "  <thead>\n",
       "    <tr style=\"text-align: right;\">\n",
       "      <th></th>\n",
       "      <th>classification_id</th>\n",
       "      <th>created_at</th>\n",
       "      <th>image_id</th>\n",
       "      <th>image_name</th>\n",
       "      <th>image_url</th>\n",
       "      <th>user_name</th>\n",
       "      <th>marking</th>\n",
       "      <th>x_tile</th>\n",
       "      <th>y_tile</th>\n",
       "      <th>acquisition_date</th>\n",
       "      <th>...</th>\n",
       "      <th>x</th>\n",
       "      <th>y</th>\n",
       "      <th>image_x</th>\n",
       "      <th>image_y</th>\n",
       "      <th>radius_1</th>\n",
       "      <th>radius_2</th>\n",
       "      <th>distance</th>\n",
       "      <th>angle</th>\n",
       "      <th>spread</th>\n",
       "      <th>version</th>\n",
       "    </tr>\n",
       "  </thead>\n",
       "  <tbody>\n",
       "    <tr>\n",
       "      <th>1686232</th>\n",
       "      <td>50ee391e2daa4f2c7b000001</td>\n",
       "      <td>2013-01-09 21:31:13 UTC</td>\n",
       "      <td>APF0000cqn</td>\n",
       "      <td>ESP_012079_0945</td>\n",
       "      <td>http://www.planetfour.org/subjects/standard/50...</td>\n",
       "      <td>fiona_j</td>\n",
       "      <td>fan</td>\n",
       "      <td>2</td>\n",
       "      <td>46</td>\n",
       "      <td>2009-02-22</td>\n",
       "      <td>...</td>\n",
       "      <td>307</td>\n",
       "      <td>414</td>\n",
       "      <td>1047</td>\n",
       "      <td>25074</td>\n",
       "      <td>NaN</td>\n",
       "      <td>NaN</td>\n",
       "      <td>238.662942</td>\n",
       "      <td>-166.429566</td>\n",
       "      <td>53.204305</td>\n",
       "      <td>1</td>\n",
       "    </tr>\n",
       "    <tr>\n",
       "      <th>1686240</th>\n",
       "      <td>50ee391e2daa4f2c7b000001</td>\n",
       "      <td>2013-01-09 21:31:13 UTC</td>\n",
       "      <td>APF0000cqn</td>\n",
       "      <td>ESP_012079_0945</td>\n",
       "      <td>http://www.planetfour.org/subjects/standard/50...</td>\n",
       "      <td>fiona_j</td>\n",
       "      <td>blotch</td>\n",
       "      <td>2</td>\n",
       "      <td>46</td>\n",
       "      <td>2009-02-22</td>\n",
       "      <td>...</td>\n",
       "      <td>345</td>\n",
       "      <td>337</td>\n",
       "      <td>1085</td>\n",
       "      <td>24997</td>\n",
       "      <td>103.406963</td>\n",
       "      <td>77.555222</td>\n",
       "      <td>NaN</td>\n",
       "      <td>-71.389835</td>\n",
       "      <td>0.000000</td>\n",
       "      <td>1</td>\n",
       "    </tr>\n",
       "    <tr>\n",
       "      <th>1686244</th>\n",
       "      <td>50ee391e2daa4f2c7b000001</td>\n",
       "      <td>2013-01-09 21:31:13 UTC</td>\n",
       "      <td>APF0000cqn</td>\n",
       "      <td>ESP_012079_0945</td>\n",
       "      <td>http://www.planetfour.org/subjects/standard/50...</td>\n",
       "      <td>fiona_j</td>\n",
       "      <td>fan</td>\n",
       "      <td>2</td>\n",
       "      <td>46</td>\n",
       "      <td>2009-02-22</td>\n",
       "      <td>...</td>\n",
       "      <td>202</td>\n",
       "      <td>200</td>\n",
       "      <td>942</td>\n",
       "      <td>24860</td>\n",
       "      <td>NaN</td>\n",
       "      <td>NaN</td>\n",
       "      <td>171.400117</td>\n",
       "      <td>-161.987891</td>\n",
       "      <td>54.571703</td>\n",
       "      <td>1</td>\n",
       "    </tr>\n",
       "  </tbody>\n",
       "</table>\n",
       "<p>3 rows × 21 columns</p>\n",
       "</div>"
      ],
      "text/plain": [
       "                classification_id               created_at    image_id  \\\n",
       "1686232  50ee391e2daa4f2c7b000001  2013-01-09 21:31:13 UTC  APF0000cqn   \n",
       "1686240  50ee391e2daa4f2c7b000001  2013-01-09 21:31:13 UTC  APF0000cqn   \n",
       "1686244  50ee391e2daa4f2c7b000001  2013-01-09 21:31:13 UTC  APF0000cqn   \n",
       "\n",
       "              image_name                                          image_url  \\\n",
       "1686232  ESP_012079_0945  http://www.planetfour.org/subjects/standard/50...   \n",
       "1686240  ESP_012079_0945  http://www.planetfour.org/subjects/standard/50...   \n",
       "1686244  ESP_012079_0945  http://www.planetfour.org/subjects/standard/50...   \n",
       "\n",
       "        user_name marking  x_tile  y_tile acquisition_date   ...       x    y  \\\n",
       "1686232   fiona_j     fan       2      46       2009-02-22   ...     307  414   \n",
       "1686240   fiona_j  blotch       2      46       2009-02-22   ...     345  337   \n",
       "1686244   fiona_j     fan       2      46       2009-02-22   ...     202  200   \n",
       "\n",
       "         image_x  image_y    radius_1   radius_2    distance       angle  \\\n",
       "1686232     1047    25074         NaN        NaN  238.662942 -166.429566   \n",
       "1686240     1085    24997  103.406963  77.555222         NaN  -71.389835   \n",
       "1686244      942    24860         NaN        NaN  171.400117 -161.987891   \n",
       "\n",
       "            spread  version  \n",
       "1686232  53.204305        1  \n",
       "1686240   0.000000        1  \n",
       "1686244  54.571703        1  \n",
       "\n",
       "[3 rows x 21 columns]"
      ]
     },
     "execution_count": 9,
     "metadata": {},
     "output_type": "execute_result"
    }
   ],
   "source": [
    "df[df.classification_id=='50ee391e2daa4f2c7b000001']"
   ]
  },
  {
   "cell_type": "code",
   "execution_count": 32,
   "metadata": {
    "collapsed": false
   },
   "outputs": [
    {
     "name": "stderr",
     "output_type": "stream",
     "text": [
      "/Users/klay6683/miniconda3/envs/py35/lib/python3.5/site-packages/pandas-0.17.0+137.geb66bcc-py3.5-macosx-10.5-x86_64.egg/pandas/core/generic.py:939: PerformanceWarning: \n",
      "your performance may suffer as PyTables will pickle object types that it cannot\n",
      "map directly to c-types [inferred_type->mixed,key->block2_values] [items->['classification_id', 'created_at', 'image_id', 'image_name', 'image_url', 'user_name', 'marking', 'acquisition_date', 'local_mars_time']]\n",
      "\n",
      "  return pytables.to_hdf(path_or_buf, key, self, **kwargs)\n"
     ]
    }
   ],
   "source": [
    "df.to_hdf('debugging_db.hdf', 'df')"
   ]
  },
  {
   "cell_type": "code",
   "execution_count": 33,
   "metadata": {
    "collapsed": false
   },
   "outputs": [
    {
     "data": {
      "text/plain": [
       "'/Users/klay6683/Dropbox/src/planet4/notebooks/tests'"
      ]
     },
     "execution_count": 33,
     "metadata": {},
     "output_type": "execute_result"
    }
   ],
   "source": [
    "pwd"
   ]
  },
  {
   "cell_type": "markdown",
   "metadata": {},
   "source": [
    "## reset notebook here to clean up memory."
   ]
  },
  {
   "cell_type": "code",
   "execution_count": 1,
   "metadata": {
    "collapsed": true
   },
   "outputs": [],
   "source": [
    "from planet4 import reduction\n",
    "from pathlib import Path"
   ]
  },
  {
   "cell_type": "code",
   "execution_count": 2,
   "metadata": {
    "collapsed": true
   },
   "outputs": [],
   "source": [
    "p = Path('debugging_db.hdf')"
   ]
  },
  {
   "cell_type": "code",
   "execution_count": 3,
   "metadata": {
    "collapsed": false
   },
   "outputs": [],
   "source": [
    "pabs=p.absolute()"
   ]
  },
  {
   "cell_type": "code",
   "execution_count": 11,
   "metadata": {
    "collapsed": true
   },
   "outputs": [],
   "source": [
    "rootpath = pabs.parent / pabs.stem"
   ]
  },
  {
   "cell_type": "code",
   "execution_count": 12,
   "metadata": {
    "collapsed": false
   },
   "outputs": [
    {
     "data": {
      "text/plain": [
       "PosixPath('/Users/klay6683/Dropbox/src/planet4/notebooks/tests/debugging_db')"
      ]
     },
     "execution_count": 12,
     "metadata": {},
     "output_type": "execute_result"
    }
   ],
   "source": [
    "rootpath"
   ]
  },
  {
   "cell_type": "code",
   "execution_count": 7,
   "metadata": {
    "collapsed": false
   },
   "outputs": [],
   "source": [
    "df = pd.read_hdf('debugging_db.hdf', 'df')"
   ]
  },
  {
   "cell_type": "code",
   "execution_count": 8,
   "metadata": {
    "collapsed": true
   },
   "outputs": [],
   "source": [
    "reduction.convert_times(df)"
   ]
  },
  {
   "cell_type": "code",
   "execution_count": 9,
   "metadata": {
    "collapsed": false
   },
   "outputs": [
    {
     "data": {
      "text/html": [
       "<div>\n",
       "<table border=\"1\" class=\"dataframe\">\n",
       "  <thead>\n",
       "    <tr style=\"text-align: right;\">\n",
       "      <th></th>\n",
       "      <th>classification_id</th>\n",
       "      <th>created_at</th>\n",
       "      <th>image_id</th>\n",
       "      <th>image_name</th>\n",
       "      <th>image_url</th>\n",
       "      <th>user_name</th>\n",
       "      <th>marking</th>\n",
       "      <th>x_tile</th>\n",
       "      <th>y_tile</th>\n",
       "      <th>acquisition_date</th>\n",
       "      <th>...</th>\n",
       "      <th>x</th>\n",
       "      <th>y</th>\n",
       "      <th>image_x</th>\n",
       "      <th>image_y</th>\n",
       "      <th>radius_1</th>\n",
       "      <th>radius_2</th>\n",
       "      <th>distance</th>\n",
       "      <th>angle</th>\n",
       "      <th>spread</th>\n",
       "      <th>version</th>\n",
       "    </tr>\n",
       "  </thead>\n",
       "  <tbody>\n",
       "    <tr>\n",
       "      <th>1667957</th>\n",
       "      <td>50ee387194b9d50e88000001</td>\n",
       "      <td>2013-01-09 21:29:25</td>\n",
       "      <td>APF0000ojd</td>\n",
       "      <td>ESP_020902_0950</td>\n",
       "      <td>http://www.planetfour.org/subjects/standard/50...</td>\n",
       "      <td>Pedrosan</td>\n",
       "      <td>none</td>\n",
       "      <td>5</td>\n",
       "      <td>40</td>\n",
       "      <td>2011-01-11</td>\n",
       "      <td>...</td>\n",
       "      <td>NaN</td>\n",
       "      <td>NaN</td>\n",
       "      <td>NaN</td>\n",
       "      <td>NaN</td>\n",
       "      <td>NaN</td>\n",
       "      <td>NaN</td>\n",
       "      <td>NaN</td>\n",
       "      <td>NaN</td>\n",
       "      <td>0</td>\n",
       "      <td>1</td>\n",
       "    </tr>\n",
       "  </tbody>\n",
       "</table>\n",
       "<p>1 rows × 21 columns</p>\n",
       "</div>"
      ],
      "text/plain": [
       "                classification_id          created_at    image_id  \\\n",
       "1667957  50ee387194b9d50e88000001 2013-01-09 21:29:25  APF0000ojd   \n",
       "\n",
       "              image_name                                          image_url  \\\n",
       "1667957  ESP_020902_0950  http://www.planetfour.org/subjects/standard/50...   \n",
       "\n",
       "        user_name marking  x_tile  y_tile acquisition_date   ...      x   y  \\\n",
       "1667957  Pedrosan    none       5      40       2011-01-11   ...    NaN NaN   \n",
       "\n",
       "         image_x  image_y  radius_1  radius_2  distance  angle  spread  \\\n",
       "1667957      NaN      NaN       NaN       NaN       NaN    NaN       0   \n",
       "\n",
       "         version  \n",
       "1667957        1  \n",
       "\n",
       "[1 rows x 21 columns]"
      ]
     },
     "execution_count": 9,
     "metadata": {},
     "output_type": "execute_result"
    }
   ],
   "source": [
    "df[df.classification_id=='50ee387194b9d50e88000001']"
   ]
  },
  {
   "cell_type": "code",
   "execution_count": 44,
   "metadata": {
    "collapsed": true
   },
   "outputs": [],
   "source": [
    "df = reduction.splitting_tutorials(rootpath, df)"
   ]
  },
  {
   "cell_type": "code",
   "execution_count": 17,
   "metadata": {
    "collapsed": false
   },
   "outputs": [
    {
     "data": {
      "text/html": [
       "<div>\n",
       "<table border=\"1\" class=\"dataframe\">\n",
       "  <thead>\n",
       "    <tr style=\"text-align: right;\">\n",
       "      <th></th>\n",
       "      <th>classification_id</th>\n",
       "      <th>created_at</th>\n",
       "      <th>image_id</th>\n",
       "      <th>image_name</th>\n",
       "      <th>image_url</th>\n",
       "      <th>user_name</th>\n",
       "      <th>marking</th>\n",
       "      <th>x_tile</th>\n",
       "      <th>y_tile</th>\n",
       "      <th>acquisition_date</th>\n",
       "      <th>...</th>\n",
       "      <th>x</th>\n",
       "      <th>y</th>\n",
       "      <th>image_x</th>\n",
       "      <th>image_y</th>\n",
       "      <th>radius_1</th>\n",
       "      <th>radius_2</th>\n",
       "      <th>distance</th>\n",
       "      <th>angle</th>\n",
       "      <th>spread</th>\n",
       "      <th>version</th>\n",
       "    </tr>\n",
       "  </thead>\n",
       "  <tbody>\n",
       "    <tr>\n",
       "      <th>1667957</th>\n",
       "      <td>50ee387194b9d50e88000001</td>\n",
       "      <td>2013-01-09 21:29:25</td>\n",
       "      <td>APF0000ojd</td>\n",
       "      <td>ESP_020902_0950</td>\n",
       "      <td>http://www.planetfour.org/subjects/standard/50...</td>\n",
       "      <td>Pedrosan</td>\n",
       "      <td>none</td>\n",
       "      <td>5</td>\n",
       "      <td>40</td>\n",
       "      <td>2011-01-11</td>\n",
       "      <td>...</td>\n",
       "      <td>NaN</td>\n",
       "      <td>NaN</td>\n",
       "      <td>NaN</td>\n",
       "      <td>NaN</td>\n",
       "      <td>NaN</td>\n",
       "      <td>NaN</td>\n",
       "      <td>NaN</td>\n",
       "      <td>NaN</td>\n",
       "      <td>0</td>\n",
       "      <td>1</td>\n",
       "    </tr>\n",
       "  </tbody>\n",
       "</table>\n",
       "<p>1 rows × 21 columns</p>\n",
       "</div>"
      ],
      "text/plain": [
       "                classification_id          created_at    image_id  \\\n",
       "1667957  50ee387194b9d50e88000001 2013-01-09 21:29:25  APF0000ojd   \n",
       "\n",
       "              image_name                                          image_url  \\\n",
       "1667957  ESP_020902_0950  http://www.planetfour.org/subjects/standard/50...   \n",
       "\n",
       "        user_name marking  x_tile  y_tile acquisition_date   ...      x   y  \\\n",
       "1667957  Pedrosan    none       5      40       2011-01-11   ...    NaN NaN   \n",
       "\n",
       "         image_x  image_y  radius_1  radius_2  distance  angle  spread  \\\n",
       "1667957      NaN      NaN       NaN       NaN       NaN    NaN       0   \n",
       "\n",
       "         version  \n",
       "1667957        1  \n",
       "\n",
       "[1 rows x 21 columns]"
      ]
     },
     "execution_count": 17,
     "metadata": {},
     "output_type": "execute_result"
    }
   ],
   "source": [
    "df[df.classification_id=='50ee387194b9d50e88000001']"
   ]
  },
  {
   "cell_type": "code",
   "execution_count": 49,
   "metadata": {
    "collapsed": true
   },
   "outputs": [],
   "source": [
    "for marking in ['fan', 'blotch']:\n",
    "    df = reduction.scan_for_incomplete(df, marking)"
   ]
  },
  {
   "cell_type": "code",
   "execution_count": 50,
   "metadata": {
    "collapsed": false
   },
   "outputs": [
    {
     "data": {
      "text/html": [
       "<div>\n",
       "<table border=\"1\" class=\"dataframe\">\n",
       "  <thead>\n",
       "    <tr style=\"text-align: right;\">\n",
       "      <th></th>\n",
       "      <th>classification_id</th>\n",
       "      <th>created_at</th>\n",
       "      <th>image_id</th>\n",
       "      <th>image_name</th>\n",
       "      <th>image_url</th>\n",
       "      <th>user_name</th>\n",
       "      <th>marking</th>\n",
       "      <th>x_tile</th>\n",
       "      <th>y_tile</th>\n",
       "      <th>acquisition_date</th>\n",
       "      <th>...</th>\n",
       "      <th>x</th>\n",
       "      <th>y</th>\n",
       "      <th>image_x</th>\n",
       "      <th>image_y</th>\n",
       "      <th>radius_1</th>\n",
       "      <th>radius_2</th>\n",
       "      <th>distance</th>\n",
       "      <th>angle</th>\n",
       "      <th>spread</th>\n",
       "      <th>version</th>\n",
       "    </tr>\n",
       "  </thead>\n",
       "  <tbody>\n",
       "    <tr>\n",
       "      <th>1667957</th>\n",
       "      <td>50ee387194b9d50e88000001</td>\n",
       "      <td>2013-01-09 21:29:25</td>\n",
       "      <td>APF0000ojd</td>\n",
       "      <td>ESP_020902_0950</td>\n",
       "      <td>http://www.planetfour.org/subjects/standard/50...</td>\n",
       "      <td>Pedrosan</td>\n",
       "      <td>none</td>\n",
       "      <td>5</td>\n",
       "      <td>40</td>\n",
       "      <td>2011-01-11</td>\n",
       "      <td>...</td>\n",
       "      <td>NaN</td>\n",
       "      <td>NaN</td>\n",
       "      <td>NaN</td>\n",
       "      <td>NaN</td>\n",
       "      <td>NaN</td>\n",
       "      <td>NaN</td>\n",
       "      <td>NaN</td>\n",
       "      <td>NaN</td>\n",
       "      <td>0</td>\n",
       "      <td>1</td>\n",
       "    </tr>\n",
       "  </tbody>\n",
       "</table>\n",
       "<p>1 rows × 21 columns</p>\n",
       "</div>"
      ],
      "text/plain": [
       "                classification_id          created_at    image_id  \\\n",
       "1667957  50ee387194b9d50e88000001 2013-01-09 21:29:25  APF0000ojd   \n",
       "\n",
       "              image_name                                          image_url  \\\n",
       "1667957  ESP_020902_0950  http://www.planetfour.org/subjects/standard/50...   \n",
       "\n",
       "        user_name marking  x_tile  y_tile acquisition_date   ...      x   y  \\\n",
       "1667957  Pedrosan    none       5      40       2011-01-11   ...    NaN NaN   \n",
       "\n",
       "         image_x  image_y  radius_1  radius_2  distance  angle  spread  \\\n",
       "1667957      NaN      NaN       NaN       NaN       NaN    NaN       0   \n",
       "\n",
       "         version  \n",
       "1667957        1  \n",
       "\n",
       "[1 rows x 21 columns]"
      ]
     },
     "execution_count": 50,
     "metadata": {},
     "output_type": "execute_result"
    }
   ],
   "source": [
    "df[df.classification_id=='50ee387194b9d50e88000001']"
   ]
  },
  {
   "cell_type": "code",
   "execution_count": 51,
   "metadata": {
    "collapsed": true
   },
   "outputs": [],
   "source": [
    "reduction.convert_ellipse_angles(df)"
   ]
  },
  {
   "cell_type": "code",
   "execution_count": 10,
   "metadata": {
    "collapsed": true
   },
   "outputs": [],
   "source": [
    "df.to_hdf(str(pabs), 'df', format='table', data_columns=['image_name'])"
   ]
  },
  {
   "cell_type": "code",
   "execution_count": 6,
   "metadata": {
    "collapsed": false
   },
   "outputs": [
    {
     "name": "stdout",
     "output_type": "stream",
     "text": [
      "total 38589184\r\n",
      "-rw-r--r--@  1 klay6683  LASP\\Domain Users   3.3K Oct 23 02:59 test_markings.ipynb\r\n",
      "-rw-r--r--@  1 klay6683  LASP\\Domain Users    13K Oct 27 20:09 test_hirise_tools.ipynb\r\n",
      "-rw-r--r--@  1 klay6683  LASP\\Domain Users   1.1K Nov  3 09:49 test_io.py.ipynb\r\n",
      "-rw-r--r--@  1 klay6683  LASP\\Domain Users   2.0M Nov  3 09:49 test_clustering.ipynb\r\n",
      "drwxr-xr-x@  7 klay6683  LASP\\Domain Users   238B Nov  5 13:12 \u001b[34m.ipynb_checkpoints\u001b[m\u001b[m/\r\n",
      "drwxr-xr-x@ 58 klay6683  LASP\\Domain Users   1.9K Nov  5 14:16 \u001b[34m..\u001b[m\u001b[m/\r\n",
      "-rw-r--r--@  1 klay6683  LASP\\Domain Users   138M Nov  5 15:34 debugging_db_tutorials.h5\r\n",
      "-rw-r--r--@  1 klay6683  LASP\\Domain Users    18G Nov  5 16:38 debugging_db.hdf\r\n",
      "-rw-r--r--@  1 klay6683  LASP\\Domain Users    34K Nov  5 17:24 test_reduction.ipynb\r\n",
      "drwxr-xr-x@ 10 klay6683  LASP\\Domain Users   340B Nov  5 17:24 \u001b[34m.\u001b[m\u001b[m/\r\n"
     ]
    }
   ],
   "source": [
    "ll -arth"
   ]
  },
  {
   "cell_type": "code",
   "execution_count": 7,
   "metadata": {
    "collapsed": true
   },
   "outputs": [],
   "source": [
    "df = pd.read_hdf('debugging_db.hdf')"
   ]
  },
  {
   "cell_type": "code",
   "execution_count": 28,
   "metadata": {
    "collapsed": false
   },
   "outputs": [
    {
     "data": {
      "text/html": [
       "<div>\n",
       "<table border=\"1\" class=\"dataframe\">\n",
       "  <thead>\n",
       "    <tr style=\"text-align: right;\">\n",
       "      <th></th>\n",
       "      <th>classification_id</th>\n",
       "      <th>created_at</th>\n",
       "      <th>image_id</th>\n",
       "      <th>image_name</th>\n",
       "      <th>image_url</th>\n",
       "      <th>user_name</th>\n",
       "      <th>marking</th>\n",
       "      <th>x_tile</th>\n",
       "      <th>y_tile</th>\n",
       "      <th>acquisition_date</th>\n",
       "      <th>...</th>\n",
       "      <th>x</th>\n",
       "      <th>y</th>\n",
       "      <th>image_x</th>\n",
       "      <th>image_y</th>\n",
       "      <th>radius_1</th>\n",
       "      <th>radius_2</th>\n",
       "      <th>distance</th>\n",
       "      <th>angle</th>\n",
       "      <th>spread</th>\n",
       "      <th>version</th>\n",
       "    </tr>\n",
       "  </thead>\n",
       "  <tbody>\n",
       "    <tr>\n",
       "      <th>1686240</th>\n",
       "      <td>50ee391e2daa4f2c7b000001</td>\n",
       "      <td>2013-01-09 21:31:13</td>\n",
       "      <td>APF0000cqn</td>\n",
       "      <td>ESP_012079_0945</td>\n",
       "      <td>http://www.planetfour.org/subjects/standard/50...</td>\n",
       "      <td>fiona_j</td>\n",
       "      <td>blotch</td>\n",
       "      <td>2</td>\n",
       "      <td>46</td>\n",
       "      <td>2009-02-22</td>\n",
       "      <td>...</td>\n",
       "      <td>345</td>\n",
       "      <td>337</td>\n",
       "      <td>1085</td>\n",
       "      <td>24997</td>\n",
       "      <td>103.406963</td>\n",
       "      <td>77.555222</td>\n",
       "      <td>NaN</td>\n",
       "      <td>-71.389835</td>\n",
       "      <td>0.000000</td>\n",
       "      <td>1</td>\n",
       "    </tr>\n",
       "    <tr>\n",
       "      <th>1686232</th>\n",
       "      <td>50ee391e2daa4f2c7b000001</td>\n",
       "      <td>2013-01-09 21:31:13</td>\n",
       "      <td>APF0000cqn</td>\n",
       "      <td>ESP_012079_0945</td>\n",
       "      <td>http://www.planetfour.org/subjects/standard/50...</td>\n",
       "      <td>fiona_j</td>\n",
       "      <td>fan</td>\n",
       "      <td>2</td>\n",
       "      <td>46</td>\n",
       "      <td>2009-02-22</td>\n",
       "      <td>...</td>\n",
       "      <td>307</td>\n",
       "      <td>414</td>\n",
       "      <td>1047</td>\n",
       "      <td>25074</td>\n",
       "      <td>NaN</td>\n",
       "      <td>NaN</td>\n",
       "      <td>238.662942</td>\n",
       "      <td>-166.429566</td>\n",
       "      <td>53.204305</td>\n",
       "      <td>1</td>\n",
       "    </tr>\n",
       "    <tr>\n",
       "      <th>1686244</th>\n",
       "      <td>50ee391e2daa4f2c7b000001</td>\n",
       "      <td>2013-01-09 21:31:13</td>\n",
       "      <td>APF0000cqn</td>\n",
       "      <td>ESP_012079_0945</td>\n",
       "      <td>http://www.planetfour.org/subjects/standard/50...</td>\n",
       "      <td>fiona_j</td>\n",
       "      <td>fan</td>\n",
       "      <td>2</td>\n",
       "      <td>46</td>\n",
       "      <td>2009-02-22</td>\n",
       "      <td>...</td>\n",
       "      <td>202</td>\n",
       "      <td>200</td>\n",
       "      <td>942</td>\n",
       "      <td>24860</td>\n",
       "      <td>NaN</td>\n",
       "      <td>NaN</td>\n",
       "      <td>171.400117</td>\n",
       "      <td>-161.987891</td>\n",
       "      <td>54.571703</td>\n",
       "      <td>1</td>\n",
       "    </tr>\n",
       "  </tbody>\n",
       "</table>\n",
       "<p>3 rows × 21 columns</p>\n",
       "</div>"
      ],
      "text/plain": [
       "                classification_id          created_at    image_id  \\\n",
       "1686240  50ee391e2daa4f2c7b000001 2013-01-09 21:31:13  APF0000cqn   \n",
       "1686232  50ee391e2daa4f2c7b000001 2013-01-09 21:31:13  APF0000cqn   \n",
       "1686244  50ee391e2daa4f2c7b000001 2013-01-09 21:31:13  APF0000cqn   \n",
       "\n",
       "              image_name                                          image_url  \\\n",
       "1686240  ESP_012079_0945  http://www.planetfour.org/subjects/standard/50...   \n",
       "1686232  ESP_012079_0945  http://www.planetfour.org/subjects/standard/50...   \n",
       "1686244  ESP_012079_0945  http://www.planetfour.org/subjects/standard/50...   \n",
       "\n",
       "        user_name marking  x_tile  y_tile acquisition_date   ...       x    y  \\\n",
       "1686240   fiona_j  blotch       2      46       2009-02-22   ...     345  337   \n",
       "1686232   fiona_j     fan       2      46       2009-02-22   ...     307  414   \n",
       "1686244   fiona_j     fan       2      46       2009-02-22   ...     202  200   \n",
       "\n",
       "         image_x  image_y    radius_1   radius_2    distance       angle  \\\n",
       "1686240     1085    24997  103.406963  77.555222         NaN  -71.389835   \n",
       "1686232     1047    25074         NaN        NaN  238.662942 -166.429566   \n",
       "1686244      942    24860         NaN        NaN  171.400117 -161.987891   \n",
       "\n",
       "            spread  version  \n",
       "1686240   0.000000        1  \n",
       "1686232  53.204305        1  \n",
       "1686244  54.571703        1  \n",
       "\n",
       "[3 rows x 21 columns]"
      ]
     },
     "execution_count": 28,
     "metadata": {},
     "output_type": "execute_result"
    }
   ],
   "source": [
    "df[df.classification_id=='50ee391e2daa4f2c7b000001']"
   ]
  },
  {
   "cell_type": "code",
   "execution_count": 29,
   "metadata": {
    "collapsed": true
   },
   "outputs": [],
   "source": [
    "data = df[df.image_id=='APF0000cqn']"
   ]
  },
  {
   "cell_type": "code",
   "execution_count": 31,
   "metadata": {
    "collapsed": false
   },
   "outputs": [
    {
     "data": {
      "text/html": [
       "<div>\n",
       "<table border=\"1\" class=\"dataframe\">\n",
       "  <thead>\n",
       "    <tr style=\"text-align: right;\">\n",
       "      <th></th>\n",
       "      <th>classification_id</th>\n",
       "      <th>created_at</th>\n",
       "      <th>image_id</th>\n",
       "      <th>image_name</th>\n",
       "      <th>image_url</th>\n",
       "      <th>user_name</th>\n",
       "      <th>marking</th>\n",
       "      <th>x_tile</th>\n",
       "      <th>y_tile</th>\n",
       "      <th>acquisition_date</th>\n",
       "      <th>...</th>\n",
       "      <th>x</th>\n",
       "      <th>y</th>\n",
       "      <th>image_x</th>\n",
       "      <th>image_y</th>\n",
       "      <th>radius_1</th>\n",
       "      <th>radius_2</th>\n",
       "      <th>distance</th>\n",
       "      <th>angle</th>\n",
       "      <th>spread</th>\n",
       "      <th>version</th>\n",
       "    </tr>\n",
       "  </thead>\n",
       "  <tbody>\n",
       "    <tr>\n",
       "      <th>1686240</th>\n",
       "      <td>50ee391e2daa4f2c7b000001</td>\n",
       "      <td>2013-01-09 21:31:13</td>\n",
       "      <td>APF0000cqn</td>\n",
       "      <td>ESP_012079_0945</td>\n",
       "      <td>http://www.planetfour.org/subjects/standard/50...</td>\n",
       "      <td>fiona_j</td>\n",
       "      <td>blotch</td>\n",
       "      <td>2</td>\n",
       "      <td>46</td>\n",
       "      <td>2009-02-22</td>\n",
       "      <td>...</td>\n",
       "      <td>345</td>\n",
       "      <td>337</td>\n",
       "      <td>1085</td>\n",
       "      <td>24997</td>\n",
       "      <td>103.406963</td>\n",
       "      <td>77.555222</td>\n",
       "      <td>NaN</td>\n",
       "      <td>-71.389835</td>\n",
       "      <td>0.000000</td>\n",
       "      <td>1</td>\n",
       "    </tr>\n",
       "    <tr>\n",
       "      <th>1686232</th>\n",
       "      <td>50ee391e2daa4f2c7b000001</td>\n",
       "      <td>2013-01-09 21:31:13</td>\n",
       "      <td>APF0000cqn</td>\n",
       "      <td>ESP_012079_0945</td>\n",
       "      <td>http://www.planetfour.org/subjects/standard/50...</td>\n",
       "      <td>fiona_j</td>\n",
       "      <td>fan</td>\n",
       "      <td>2</td>\n",
       "      <td>46</td>\n",
       "      <td>2009-02-22</td>\n",
       "      <td>...</td>\n",
       "      <td>307</td>\n",
       "      <td>414</td>\n",
       "      <td>1047</td>\n",
       "      <td>25074</td>\n",
       "      <td>NaN</td>\n",
       "      <td>NaN</td>\n",
       "      <td>238.662942</td>\n",
       "      <td>-166.429566</td>\n",
       "      <td>53.204305</td>\n",
       "      <td>1</td>\n",
       "    </tr>\n",
       "    <tr>\n",
       "      <th>1686244</th>\n",
       "      <td>50ee391e2daa4f2c7b000001</td>\n",
       "      <td>2013-01-09 21:31:13</td>\n",
       "      <td>APF0000cqn</td>\n",
       "      <td>ESP_012079_0945</td>\n",
       "      <td>http://www.planetfour.org/subjects/standard/50...</td>\n",
       "      <td>fiona_j</td>\n",
       "      <td>fan</td>\n",
       "      <td>2</td>\n",
       "      <td>46</td>\n",
       "      <td>2009-02-22</td>\n",
       "      <td>...</td>\n",
       "      <td>202</td>\n",
       "      <td>200</td>\n",
       "      <td>942</td>\n",
       "      <td>24860</td>\n",
       "      <td>NaN</td>\n",
       "      <td>NaN</td>\n",
       "      <td>171.400117</td>\n",
       "      <td>-161.987891</td>\n",
       "      <td>54.571703</td>\n",
       "      <td>1</td>\n",
       "    </tr>\n",
       "  </tbody>\n",
       "</table>\n",
       "<p>3 rows × 21 columns</p>\n",
       "</div>"
      ],
      "text/plain": [
       "                classification_id          created_at    image_id  \\\n",
       "1686240  50ee391e2daa4f2c7b000001 2013-01-09 21:31:13  APF0000cqn   \n",
       "1686232  50ee391e2daa4f2c7b000001 2013-01-09 21:31:13  APF0000cqn   \n",
       "1686244  50ee391e2daa4f2c7b000001 2013-01-09 21:31:13  APF0000cqn   \n",
       "\n",
       "              image_name                                          image_url  \\\n",
       "1686240  ESP_012079_0945  http://www.planetfour.org/subjects/standard/50...   \n",
       "1686232  ESP_012079_0945  http://www.planetfour.org/subjects/standard/50...   \n",
       "1686244  ESP_012079_0945  http://www.planetfour.org/subjects/standard/50...   \n",
       "\n",
       "        user_name marking  x_tile  y_tile acquisition_date   ...       x    y  \\\n",
       "1686240   fiona_j  blotch       2      46       2009-02-22   ...     345  337   \n",
       "1686232   fiona_j     fan       2      46       2009-02-22   ...     307  414   \n",
       "1686244   fiona_j     fan       2      46       2009-02-22   ...     202  200   \n",
       "\n",
       "         image_x  image_y    radius_1   radius_2    distance       angle  \\\n",
       "1686240     1085    24997  103.406963  77.555222         NaN  -71.389835   \n",
       "1686232     1047    25074         NaN        NaN  238.662942 -166.429566   \n",
       "1686244      942    24860         NaN        NaN  171.400117 -161.987891   \n",
       "\n",
       "            spread  version  \n",
       "1686240   0.000000        1  \n",
       "1686232  53.204305        1  \n",
       "1686244  54.571703        1  \n",
       "\n",
       "[3 rows x 21 columns]"
      ]
     },
     "execution_count": 31,
     "metadata": {},
     "output_type": "execute_result"
    }
   ],
   "source": [
    "data[data.classification_id=='50ee391e2daa4f2c7b000001']"
   ]
  },
  {
   "cell_type": "code",
   "execution_count": 32,
   "metadata": {
    "collapsed": false
   },
   "outputs": [
    {
     "data": {
      "text/plain": [
       "array(['50ee391e2daa4f2c7b000001', '50ee3952e792ed286e000001',\n",
       "       '50ee397e94b9d5334d000001', '50eee7972daa4f6dad000001',\n",
       "       '50ee391c2daa4f2c3b000001', '50ee394f94b9d52d0a000001',\n",
       "       '50ee397c2daa4f3899000001', '50eee6a184af3b7f0c000001'], dtype=object)"
      ]
     },
     "execution_count": 32,
     "metadata": {},
     "output_type": "execute_result"
    }
   ],
   "source": [
    "data[data.user_name=='fiona_j'].classification_id.unique()"
   ]
  },
  {
   "cell_type": "code",
   "execution_count": 33,
   "metadata": {
    "collapsed": false
   },
   "outputs": [
    {
     "data": {
      "text/plain": [
       "'50ee391c2daa4f2c3b000001'"
      ]
     },
     "execution_count": 33,
     "metadata": {},
     "output_type": "execute_result"
    }
   ],
   "source": [
    "data[data.user_name=='fiona_j'].classification_id.unique().min()"
   ]
  },
  {
   "cell_type": "code",
   "execution_count": 34,
   "metadata": {
    "collapsed": false
   },
   "outputs": [],
   "source": [
    "group = data.groupby(['image_id','user_name'], sort=False)"
   ]
  },
  {
   "cell_type": "code",
   "execution_count": 35,
   "metadata": {
    "collapsed": true
   },
   "outputs": [],
   "source": [
    "good_class_ids = group['classification_id'].min()"
   ]
  },
  {
   "cell_type": "code",
   "execution_count": 36,
   "metadata": {
    "collapsed": true
   },
   "outputs": [],
   "source": [
    "cleaned = reduction.remove_duplicates_from_image_name_data(data)"
   ]
  },
  {
   "cell_type": "code",
   "execution_count": 37,
   "metadata": {
    "collapsed": false
   },
   "outputs": [
    {
     "data": {
      "text/html": [
       "<div>\n",
       "<table border=\"1\" class=\"dataframe\">\n",
       "  <thead>\n",
       "    <tr style=\"text-align: right;\">\n",
       "      <th></th>\n",
       "      <th>classification_id</th>\n",
       "      <th>created_at</th>\n",
       "      <th>image_id</th>\n",
       "      <th>image_name</th>\n",
       "      <th>image_url</th>\n",
       "      <th>user_name</th>\n",
       "      <th>marking</th>\n",
       "      <th>x_tile</th>\n",
       "      <th>y_tile</th>\n",
       "      <th>acquisition_date</th>\n",
       "      <th>...</th>\n",
       "      <th>x</th>\n",
       "      <th>y</th>\n",
       "      <th>image_x</th>\n",
       "      <th>image_y</th>\n",
       "      <th>radius_1</th>\n",
       "      <th>radius_2</th>\n",
       "      <th>distance</th>\n",
       "      <th>angle</th>\n",
       "      <th>spread</th>\n",
       "      <th>version</th>\n",
       "    </tr>\n",
       "  </thead>\n",
       "  <tbody>\n",
       "    <tr>\n",
       "      <th>1688020</th>\n",
       "      <td>50ee391c2daa4f2c3b000001</td>\n",
       "      <td>2013-01-09 21:31:21</td>\n",
       "      <td>APF0000cqn</td>\n",
       "      <td>ESP_012079_0945</td>\n",
       "      <td>http://www.planetfour.org/subjects/standard/50...</td>\n",
       "      <td>fiona_j</td>\n",
       "      <td>blotch</td>\n",
       "      <td>2</td>\n",
       "      <td>46</td>\n",
       "      <td>2009-02-22</td>\n",
       "      <td>...</td>\n",
       "      <td>345</td>\n",
       "      <td>337</td>\n",
       "      <td>1085</td>\n",
       "      <td>24997</td>\n",
       "      <td>103.406963</td>\n",
       "      <td>77.555222</td>\n",
       "      <td>NaN</td>\n",
       "      <td>-71.389835</td>\n",
       "      <td>0.000000</td>\n",
       "      <td>1</td>\n",
       "    </tr>\n",
       "    <tr>\n",
       "      <th>1688021</th>\n",
       "      <td>50ee391c2daa4f2c3b000001</td>\n",
       "      <td>2013-01-09 21:31:21</td>\n",
       "      <td>APF0000cqn</td>\n",
       "      <td>ESP_012079_0945</td>\n",
       "      <td>http://www.planetfour.org/subjects/standard/50...</td>\n",
       "      <td>fiona_j</td>\n",
       "      <td>fan</td>\n",
       "      <td>2</td>\n",
       "      <td>46</td>\n",
       "      <td>2009-02-22</td>\n",
       "      <td>...</td>\n",
       "      <td>202</td>\n",
       "      <td>200</td>\n",
       "      <td>942</td>\n",
       "      <td>24860</td>\n",
       "      <td>NaN</td>\n",
       "      <td>NaN</td>\n",
       "      <td>171.400117</td>\n",
       "      <td>-161.987891</td>\n",
       "      <td>54.571703</td>\n",
       "      <td>1</td>\n",
       "    </tr>\n",
       "    <tr>\n",
       "      <th>1688022</th>\n",
       "      <td>50ee391c2daa4f2c3b000001</td>\n",
       "      <td>2013-01-09 21:31:21</td>\n",
       "      <td>APF0000cqn</td>\n",
       "      <td>ESP_012079_0945</td>\n",
       "      <td>http://www.planetfour.org/subjects/standard/50...</td>\n",
       "      <td>fiona_j</td>\n",
       "      <td>fan</td>\n",
       "      <td>2</td>\n",
       "      <td>46</td>\n",
       "      <td>2009-02-22</td>\n",
       "      <td>...</td>\n",
       "      <td>307</td>\n",
       "      <td>414</td>\n",
       "      <td>1047</td>\n",
       "      <td>25074</td>\n",
       "      <td>NaN</td>\n",
       "      <td>NaN</td>\n",
       "      <td>238.662942</td>\n",
       "      <td>-166.429566</td>\n",
       "      <td>53.204305</td>\n",
       "      <td>1</td>\n",
       "    </tr>\n",
       "  </tbody>\n",
       "</table>\n",
       "<p>3 rows × 21 columns</p>\n",
       "</div>"
      ],
      "text/plain": [
       "                classification_id          created_at    image_id  \\\n",
       "1688020  50ee391c2daa4f2c3b000001 2013-01-09 21:31:21  APF0000cqn   \n",
       "1688021  50ee391c2daa4f2c3b000001 2013-01-09 21:31:21  APF0000cqn   \n",
       "1688022  50ee391c2daa4f2c3b000001 2013-01-09 21:31:21  APF0000cqn   \n",
       "\n",
       "              image_name                                          image_url  \\\n",
       "1688020  ESP_012079_0945  http://www.planetfour.org/subjects/standard/50...   \n",
       "1688021  ESP_012079_0945  http://www.planetfour.org/subjects/standard/50...   \n",
       "1688022  ESP_012079_0945  http://www.planetfour.org/subjects/standard/50...   \n",
       "\n",
       "        user_name marking  x_tile  y_tile acquisition_date   ...       x    y  \\\n",
       "1688020   fiona_j  blotch       2      46       2009-02-22   ...     345  337   \n",
       "1688021   fiona_j     fan       2      46       2009-02-22   ...     202  200   \n",
       "1688022   fiona_j     fan       2      46       2009-02-22   ...     307  414   \n",
       "\n",
       "         image_x  image_y    radius_1   radius_2    distance       angle  \\\n",
       "1688020     1085    24997  103.406963  77.555222         NaN  -71.389835   \n",
       "1688021      942    24860         NaN        NaN  171.400117 -161.987891   \n",
       "1688022     1047    25074         NaN        NaN  238.662942 -166.429566   \n",
       "\n",
       "            spread  version  \n",
       "1688020   0.000000        1  \n",
       "1688021  54.571703        1  \n",
       "1688022  53.204305        1  \n",
       "\n",
       "[3 rows x 21 columns]"
      ]
     },
     "execution_count": 37,
     "metadata": {},
     "output_type": "execute_result"
    }
   ],
   "source": [
    "cleaned[cleaned.user_name=='fiona_j']"
   ]
  },
  {
   "cell_type": "code",
   "execution_count": 41,
   "metadata": {
    "collapsed": false
   },
   "outputs": [
    {
     "data": {
      "text/html": [
       "<div>\n",
       "<table border=\"1\" class=\"dataframe\">\n",
       "  <thead>\n",
       "    <tr style=\"text-align: right;\">\n",
       "      <th></th>\n",
       "      <th>classification_id</th>\n",
       "      <th>created_at</th>\n",
       "      <th>image_id</th>\n",
       "      <th>image_name</th>\n",
       "      <th>image_url</th>\n",
       "      <th>user_name</th>\n",
       "      <th>marking</th>\n",
       "      <th>x_tile</th>\n",
       "      <th>y_tile</th>\n",
       "      <th>acquisition_date</th>\n",
       "      <th>...</th>\n",
       "      <th>x</th>\n",
       "      <th>y</th>\n",
       "      <th>image_x</th>\n",
       "      <th>image_y</th>\n",
       "      <th>radius_1</th>\n",
       "      <th>radius_2</th>\n",
       "      <th>distance</th>\n",
       "      <th>angle</th>\n",
       "      <th>spread</th>\n",
       "      <th>version</th>\n",
       "    </tr>\n",
       "  </thead>\n",
       "  <tbody>\n",
       "  </tbody>\n",
       "</table>\n",
       "<p>0 rows × 21 columns</p>\n",
       "</div>"
      ],
      "text/plain": [
       "Empty DataFrame\n",
       "Columns: [classification_id, created_at, image_id, image_name, image_url, user_name, marking, x_tile, y_tile, acquisition_date, local_mars_time, x, y, image_x, image_y, radius_1, radius_2, distance, angle, spread, version]\n",
       "Index: []\n",
       "\n",
       "[0 rows x 21 columns]"
      ]
     },
     "execution_count": 41,
     "metadata": {},
     "output_type": "execute_result"
    }
   ],
   "source": [
    "cleaned[cleaned.classification_id=='50ee391e2daa4f2c7b000001']"
   ]
  },
  {
   "cell_type": "code",
   "execution_count": 46,
   "metadata": {
    "collapsed": false
   },
   "outputs": [
    {
     "data": {
      "text/html": [
       "<div>\n",
       "<table border=\"1\" class=\"dataframe\">\n",
       "  <thead>\n",
       "    <tr style=\"text-align: right;\">\n",
       "      <th></th>\n",
       "      <th>classification_id</th>\n",
       "      <th>user_name</th>\n",
       "      <th>created_at</th>\n",
       "      <th>image_id</th>\n",
       "    </tr>\n",
       "  </thead>\n",
       "  <tbody>\n",
       "    <tr>\n",
       "      <th>1688020</th>\n",
       "      <td>50ee391c2daa4f2c3b000001</td>\n",
       "      <td>fiona_j</td>\n",
       "      <td>2013-01-09 21:31:21</td>\n",
       "      <td>APF0000cqn</td>\n",
       "    </tr>\n",
       "    <tr>\n",
       "      <th>1688021</th>\n",
       "      <td>50ee391c2daa4f2c3b000001</td>\n",
       "      <td>fiona_j</td>\n",
       "      <td>2013-01-09 21:31:21</td>\n",
       "      <td>APF0000cqn</td>\n",
       "    </tr>\n",
       "    <tr>\n",
       "      <th>1688022</th>\n",
       "      <td>50ee391c2daa4f2c3b000001</td>\n",
       "      <td>fiona_j</td>\n",
       "      <td>2013-01-09 21:31:21</td>\n",
       "      <td>APF0000cqn</td>\n",
       "    </tr>\n",
       "  </tbody>\n",
       "</table>\n",
       "</div>"
      ],
      "text/plain": [
       "                classification_id user_name          created_at    image_id\n",
       "1688020  50ee391c2daa4f2c3b000001   fiona_j 2013-01-09 21:31:21  APF0000cqn\n",
       "1688021  50ee391c2daa4f2c3b000001   fiona_j 2013-01-09 21:31:21  APF0000cqn\n",
       "1688022  50ee391c2daa4f2c3b000001   fiona_j 2013-01-09 21:31:21  APF0000cqn"
      ]
     },
     "execution_count": 46,
     "metadata": {},
     "output_type": "execute_result"
    }
   ],
   "source": [
    "cleaned[cleaned.user_name=='fiona_j'][['classification_id','user_name','created_at','image_id']]"
   ]
  },
  {
   "cell_type": "code",
   "execution_count": 38,
   "metadata": {
    "collapsed": true
   },
   "outputs": [],
   "source": [
    "from planet4 import p4io as io"
   ]
  },
  {
   "cell_type": "code",
   "execution_count": 39,
   "metadata": {
    "collapsed": true
   },
   "outputs": [],
   "source": [
    "db = io.DBManager()"
   ]
  },
  {
   "cell_type": "code",
   "execution_count": 40,
   "metadata": {
    "collapsed": false
   },
   "outputs": [
    {
     "data": {
      "text/html": [
       "<div>\n",
       "<table border=\"1\" class=\"dataframe\">\n",
       "  <thead>\n",
       "    <tr style=\"text-align: right;\">\n",
       "      <th></th>\n",
       "      <th>classification_id</th>\n",
       "      <th>created_at</th>\n",
       "      <th>image_id</th>\n",
       "      <th>image_name</th>\n",
       "      <th>image_url</th>\n",
       "      <th>user_name</th>\n",
       "      <th>marking</th>\n",
       "      <th>x_tile</th>\n",
       "      <th>y_tile</th>\n",
       "      <th>acquisition_date</th>\n",
       "      <th>...</th>\n",
       "      <th>x</th>\n",
       "      <th>y</th>\n",
       "      <th>image_x</th>\n",
       "      <th>image_y</th>\n",
       "      <th>radius_1</th>\n",
       "      <th>radius_2</th>\n",
       "      <th>distance</th>\n",
       "      <th>angle</th>\n",
       "      <th>spread</th>\n",
       "      <th>version</th>\n",
       "    </tr>\n",
       "  </thead>\n",
       "  <tbody>\n",
       "  </tbody>\n",
       "</table>\n",
       "<p>0 rows × 21 columns</p>\n",
       "</div>"
      ],
      "text/plain": [
       "Empty DataFrame\n",
       "Columns: [classification_id, created_at, image_id, image_name, image_url, user_name, marking, x_tile, y_tile, acquisition_date, local_mars_time, x, y, image_x, image_y, radius_1, radius_2, distance, angle, spread, version]\n",
       "Index: []\n",
       "\n",
       "[0 rows x 21 columns]"
      ]
     },
     "execution_count": 40,
     "metadata": {},
     "output_type": "execute_result"
    }
   ],
   "source": [
    "db.get_classification_id_data('50ee391e2daa4f2c7b000001')"
   ]
  },
  {
   "cell_type": "code",
   "execution_count": 14,
   "metadata": {
    "collapsed": false
   },
   "outputs": [
    {
     "data": {
      "text/html": [
       "<div>\n",
       "<table border=\"1\" class=\"dataframe\">\n",
       "  <thead>\n",
       "    <tr style=\"text-align: right;\">\n",
       "      <th></th>\n",
       "      <th>classification_id</th>\n",
       "      <th>created_at</th>\n",
       "      <th>image_id</th>\n",
       "      <th>image_name</th>\n",
       "      <th>image_url</th>\n",
       "      <th>user_name</th>\n",
       "      <th>marking</th>\n",
       "      <th>x_tile</th>\n",
       "      <th>y_tile</th>\n",
       "      <th>acquisition_date</th>\n",
       "      <th>...</th>\n",
       "      <th>x</th>\n",
       "      <th>y</th>\n",
       "      <th>image_x</th>\n",
       "      <th>image_y</th>\n",
       "      <th>radius_1</th>\n",
       "      <th>radius_2</th>\n",
       "      <th>distance</th>\n",
       "      <th>angle</th>\n",
       "      <th>spread</th>\n",
       "      <th>version</th>\n",
       "    </tr>\n",
       "  </thead>\n",
       "  <tbody>\n",
       "  </tbody>\n",
       "</table>\n",
       "<p>0 rows × 21 columns</p>\n",
       "</div>"
      ],
      "text/plain": [
       "Empty DataFrame\n",
       "Columns: [classification_id, created_at, image_id, image_name, image_url, user_name, marking, x_tile, y_tile, acquisition_date, local_mars_time, x, y, image_x, image_y, radius_1, radius_2, distance, angle, spread, version]\n",
       "Index: []\n",
       "\n",
       "[0 rows x 21 columns]"
      ]
     },
     "execution_count": 14,
     "metadata": {},
     "output_type": "execute_result"
    }
   ],
   "source": [
    "cleaned[cleaned.classification_id=='50ee387194b9d50e88000001']"
   ]
  },
  {
   "cell_type": "code",
   "execution_count": 27,
   "metadata": {
    "collapsed": false
   },
   "outputs": [
    {
     "data": {
      "text/html": [
       "<div>\n",
       "<table border=\"1\" class=\"dataframe\">\n",
       "  <thead>\n",
       "    <tr style=\"text-align: right;\">\n",
       "      <th></th>\n",
       "      <th>classification_id</th>\n",
       "      <th>created_at</th>\n",
       "      <th>image_id</th>\n",
       "      <th>image_name</th>\n",
       "      <th>image_url</th>\n",
       "      <th>user_name</th>\n",
       "      <th>marking</th>\n",
       "      <th>x_tile</th>\n",
       "      <th>y_tile</th>\n",
       "      <th>acquisition_date</th>\n",
       "      <th>...</th>\n",
       "      <th>x</th>\n",
       "      <th>y</th>\n",
       "      <th>image_x</th>\n",
       "      <th>image_y</th>\n",
       "      <th>radius_1</th>\n",
       "      <th>radius_2</th>\n",
       "      <th>distance</th>\n",
       "      <th>angle</th>\n",
       "      <th>spread</th>\n",
       "      <th>version</th>\n",
       "    </tr>\n",
       "  </thead>\n",
       "  <tbody>\n",
       "    <tr>\n",
       "      <th>1676082</th>\n",
       "      <td>50ede17f94b9d509a4000181</td>\n",
       "      <td>2013-01-09 21:30:39</td>\n",
       "      <td>APF0000ojd</td>\n",
       "      <td>ESP_020902_0950</td>\n",
       "      <td>http://www.planetfour.org/subjects/standard/50...</td>\n",
       "      <td>Pedrosan</td>\n",
       "      <td>none</td>\n",
       "      <td>5</td>\n",
       "      <td>40</td>\n",
       "      <td>2011-01-11</td>\n",
       "      <td>...</td>\n",
       "      <td>NaN</td>\n",
       "      <td>NaN</td>\n",
       "      <td>NaN</td>\n",
       "      <td>NaN</td>\n",
       "      <td>NaN</td>\n",
       "      <td>NaN</td>\n",
       "      <td>NaN</td>\n",
       "      <td>NaN</td>\n",
       "      <td>0</td>\n",
       "      <td>1</td>\n",
       "    </tr>\n",
       "  </tbody>\n",
       "</table>\n",
       "<p>1 rows × 21 columns</p>\n",
       "</div>"
      ],
      "text/plain": [
       "                classification_id          created_at    image_id  \\\n",
       "1676082  50ede17f94b9d509a4000181 2013-01-09 21:30:39  APF0000ojd   \n",
       "\n",
       "              image_name                                          image_url  \\\n",
       "1676082  ESP_020902_0950  http://www.planetfour.org/subjects/standard/50...   \n",
       "\n",
       "        user_name marking  x_tile  y_tile acquisition_date   ...      x   y  \\\n",
       "1676082  Pedrosan    none       5      40       2011-01-11   ...    NaN NaN   \n",
       "\n",
       "         image_x  image_y  radius_1  radius_2  distance  angle  spread  \\\n",
       "1676082      NaN      NaN       NaN       NaN       NaN    NaN       0   \n",
       "\n",
       "         version  \n",
       "1676082        1  \n",
       "\n",
       "[1 rows x 21 columns]"
      ]
     },
     "execution_count": 27,
     "metadata": {},
     "output_type": "execute_result"
    }
   ],
   "source": [
    "data[data.classification_id=='50ede17f94b9d509a4000181']"
   ]
  },
  {
   "cell_type": "code",
   "execution_count": 55,
   "metadata": {
    "collapsed": false
   },
   "outputs": [],
   "source": [
    "## reset again"
   ]
  },
  {
   "cell_type": "code",
   "execution_count": 4,
   "metadata": {
    "collapsed": false
   },
   "outputs": [],
   "source": [
    "from planet4 import reduction"
   ]
  },
  {
   "cell_type": "code",
   "execution_count": 5,
   "metadata": {
    "collapsed": false
   },
   "outputs": [
    {
     "ename": "KeyboardInterrupt",
     "evalue": "",
     "output_type": "error",
     "traceback": [
      "\u001b[0;31m---------------------------------------------------------------------------\u001b[0m",
      "\u001b[0;31mKeyboardInterrupt\u001b[0m                         Traceback (most recent call last)",
      "\u001b[0;32m<ipython-input-5-08d3c9c9b166>\u001b[0m in \u001b[0;36m<module>\u001b[0;34m()\u001b[0m\n\u001b[0;32m----> 1\u001b[0;31m \u001b[0mreduction\u001b[0m\u001b[0;34m.\u001b[0m\u001b[0mremove_duplicates_from_file\u001b[0m\u001b[0;34m(\u001b[0m\u001b[0mstr\u001b[0m\u001b[0;34m(\u001b[0m\u001b[0mpabs\u001b[0m\u001b[0;34m)\u001b[0m\u001b[0;34m)\u001b[0m\u001b[0;34m\u001b[0m\u001b[0m\n\u001b[0m",
      "\u001b[0;32m/Users/klay6683/Dropbox/src/planet4/planet4/reduction.py\u001b[0m in \u001b[0;36mremove_duplicates_from_file\u001b[0;34m(dbname, do_odo)\u001b[0m\n\u001b[1;32m    234\u001b[0m     \u001b[0mlogging\u001b[0m\u001b[0;34m.\u001b[0m\u001b[0minfo\u001b[0m\u001b[0;34m(\u001b[0m\u001b[0;34m'Removing duplicates.'\u001b[0m\u001b[0;34m)\u001b[0m\u001b[0;34m\u001b[0m\u001b[0m\n\u001b[1;32m    235\u001b[0m \u001b[0;34m\u001b[0m\u001b[0m\n\u001b[0;32m--> 236\u001b[0;31m     \u001b[0mimage_names\u001b[0m \u001b[0;34m=\u001b[0m \u001b[0mget_image_names\u001b[0m\u001b[0;34m(\u001b[0m\u001b[0mdbname\u001b[0m\u001b[0;34m)\u001b[0m\u001b[0;34m\u001b[0m\u001b[0m\n\u001b[0m\u001b[1;32m    237\u001b[0m \u001b[0;34m\u001b[0m\u001b[0m\n\u001b[1;32m    238\u001b[0m     \u001b[0;32mdef\u001b[0m \u001b[0mprocess_image_name\u001b[0m\u001b[0;34m(\u001b[0m\u001b[0mimage_name\u001b[0m\u001b[0;34m)\u001b[0m\u001b[0;34m:\u001b[0m\u001b[0;34m\u001b[0m\u001b[0m\n",
      "\u001b[0;32m/Users/klay6683/Dropbox/src/planet4/planet4/reduction.py\u001b[0m in \u001b[0;36mget_image_names\u001b[0;34m(dbname)\u001b[0m\n\u001b[1;32m    185\u001b[0m     \u001b[0mlogging\u001b[0m\u001b[0;34m.\u001b[0m\u001b[0minfo\u001b[0m\u001b[0;34m(\u001b[0m\u001b[0;34m'Reading image_names from disk.'\u001b[0m\u001b[0;34m)\u001b[0m\u001b[0;34m\u001b[0m\u001b[0m\n\u001b[1;32m    186\u001b[0m     \u001b[0mstore\u001b[0m \u001b[0;34m=\u001b[0m \u001b[0mpd\u001b[0m\u001b[0;34m.\u001b[0m\u001b[0mHDFStore\u001b[0m\u001b[0;34m(\u001b[0m\u001b[0mdbname\u001b[0m\u001b[0;34m)\u001b[0m\u001b[0;34m\u001b[0m\u001b[0m\n\u001b[0;32m--> 187\u001b[0;31m     \u001b[0mimage_names\u001b[0m \u001b[0;34m=\u001b[0m \u001b[0mstore\u001b[0m\u001b[0;34m.\u001b[0m\u001b[0mselect_column\u001b[0m\u001b[0;34m(\u001b[0m\u001b[0;34m'df'\u001b[0m\u001b[0;34m,\u001b[0m \u001b[0;34m'image_name'\u001b[0m\u001b[0;34m)\u001b[0m\u001b[0;34m.\u001b[0m\u001b[0munique\u001b[0m\u001b[0;34m(\u001b[0m\u001b[0;34m)\u001b[0m\u001b[0;34m\u001b[0m\u001b[0m\n\u001b[0m\u001b[1;32m    188\u001b[0m     \u001b[0mlogging\u001b[0m\u001b[0;34m.\u001b[0m\u001b[0minfo\u001b[0m\u001b[0;34m(\u001b[0m\u001b[0;34m'Got image_names'\u001b[0m\u001b[0;34m)\u001b[0m\u001b[0;34m\u001b[0m\u001b[0m\n\u001b[1;32m    189\u001b[0m     \u001b[0;32mreturn\u001b[0m \u001b[0mimage_names\u001b[0m\u001b[0;34m\u001b[0m\u001b[0m\n",
      "\u001b[0;32m/Users/klay6683/miniconda3/envs/py35/lib/python3.5/site-packages/pandas-0.17.0+137.geb66bcc-py3.5-macosx-10.5-x86_64.egg/pandas/io/pytables.py\u001b[0m in \u001b[0;36mselect_column\u001b[0;34m(self, key, column, **kwargs)\u001b[0m\n\u001b[1;32m    716\u001b[0m \u001b[0;34m\u001b[0m\u001b[0m\n\u001b[1;32m    717\u001b[0m         \"\"\"\n\u001b[0;32m--> 718\u001b[0;31m         \u001b[0;32mreturn\u001b[0m \u001b[0mself\u001b[0m\u001b[0;34m.\u001b[0m\u001b[0mget_storer\u001b[0m\u001b[0;34m(\u001b[0m\u001b[0mkey\u001b[0m\u001b[0;34m)\u001b[0m\u001b[0;34m.\u001b[0m\u001b[0mread_column\u001b[0m\u001b[0;34m(\u001b[0m\u001b[0mcolumn\u001b[0m\u001b[0;34m=\u001b[0m\u001b[0mcolumn\u001b[0m\u001b[0;34m,\u001b[0m \u001b[0;34m**\u001b[0m\u001b[0mkwargs\u001b[0m\u001b[0;34m)\u001b[0m\u001b[0;34m\u001b[0m\u001b[0m\n\u001b[0m\u001b[1;32m    719\u001b[0m \u001b[0;34m\u001b[0m\u001b[0m\n\u001b[1;32m    720\u001b[0m     def select_as_multiple(self, keys, where=None, selector=None, columns=None,\n",
      "\u001b[0;32m/Users/klay6683/miniconda3/envs/py35/lib/python3.5/site-packages/pandas-0.17.0+137.geb66bcc-py3.5-macosx-10.5-x86_64.egg/pandas/io/pytables.py\u001b[0m in \u001b[0;36mread_column\u001b[0;34m(self, column, where, start, stop, **kwargs)\u001b[0m\n\u001b[1;32m   3605\u001b[0m                 return Series(_set_tz(a.convert(c[start:stop],\n\u001b[1;32m   3606\u001b[0m                                                 \u001b[0mnan_rep\u001b[0m\u001b[0;34m=\u001b[0m\u001b[0mself\u001b[0m\u001b[0;34m.\u001b[0m\u001b[0mnan_rep\u001b[0m\u001b[0;34m,\u001b[0m\u001b[0;34m\u001b[0m\u001b[0m\n\u001b[0;32m-> 3607\u001b[0;31m                                                 \u001b[0mencoding\u001b[0m\u001b[0;34m=\u001b[0m\u001b[0mself\u001b[0m\u001b[0;34m.\u001b[0m\u001b[0mencoding\u001b[0m\u001b[0;34m\u001b[0m\u001b[0m\n\u001b[0m\u001b[1;32m   3608\u001b[0m                                                 ).take_data(),\n\u001b[1;32m   3609\u001b[0m                                       a.tz, True), name=column)\n",
      "\u001b[0;32m/Users/klay6683/miniconda3/envs/py35/lib/python3.5/site-packages/pandas-0.17.0+137.geb66bcc-py3.5-macosx-10.5-x86_64.egg/pandas/io/pytables.py\u001b[0m in \u001b[0;36mconvert\u001b[0;34m(self, values, nan_rep, encoding)\u001b[0m\n\u001b[1;32m   2062\u001b[0m         \u001b[0;32mif\u001b[0m \u001b[0m_ensure_decoded\u001b[0m\u001b[0;34m(\u001b[0m\u001b[0mself\u001b[0m\u001b[0;34m.\u001b[0m\u001b[0mkind\u001b[0m\u001b[0;34m)\u001b[0m \u001b[0;34m==\u001b[0m \u001b[0mu\u001b[0m\u001b[0;34m(\u001b[0m\u001b[0;34m'string'\u001b[0m\u001b[0;34m)\u001b[0m\u001b[0;34m:\u001b[0m\u001b[0;34m\u001b[0m\u001b[0m\n\u001b[1;32m   2063\u001b[0m             self.data = _unconvert_string_array(\n\u001b[0;32m-> 2064\u001b[0;31m                 self.data, nan_rep=nan_rep, encoding=encoding)\n\u001b[0m\u001b[1;32m   2065\u001b[0m \u001b[0;34m\u001b[0m\u001b[0m\n\u001b[1;32m   2066\u001b[0m         \u001b[0;32mreturn\u001b[0m \u001b[0mself\u001b[0m\u001b[0;34m\u001b[0m\u001b[0m\n",
      "\u001b[0;32m/Users/klay6683/miniconda3/envs/py35/lib/python3.5/site-packages/pandas-0.17.0+137.geb66bcc-py3.5-macosx-10.5-x86_64.egg/pandas/io/pytables.py\u001b[0m in \u001b[0;36m_unconvert_string_array\u001b[0;34m(data, nan_rep, encoding)\u001b[0m\n\u001b[1;32m   4430\u001b[0m \u001b[0;34m\u001b[0m\u001b[0m\n\u001b[1;32m   4431\u001b[0m         \u001b[0;32mif\u001b[0m \u001b[0misinstance\u001b[0m\u001b[0;34m(\u001b[0m\u001b[0mdata\u001b[0m\u001b[0;34m[\u001b[0m\u001b[0;36m0\u001b[0m\u001b[0;34m]\u001b[0m\u001b[0;34m,\u001b[0m \u001b[0mcompat\u001b[0m\u001b[0;34m.\u001b[0m\u001b[0mbinary_type\u001b[0m\u001b[0;34m)\u001b[0m\u001b[0;34m:\u001b[0m\u001b[0;34m\u001b[0m\u001b[0m\n\u001b[0;32m-> 4432\u001b[0;31m             \u001b[0mdata\u001b[0m \u001b[0;34m=\u001b[0m \u001b[0mSeries\u001b[0m\u001b[0;34m(\u001b[0m\u001b[0mdata\u001b[0m\u001b[0;34m)\u001b[0m\u001b[0;34m.\u001b[0m\u001b[0mstr\u001b[0m\u001b[0;34m.\u001b[0m\u001b[0mdecode\u001b[0m\u001b[0;34m(\u001b[0m\u001b[0mencoding\u001b[0m\u001b[0;34m)\u001b[0m\u001b[0;34m.\u001b[0m\u001b[0mvalues\u001b[0m\u001b[0;34m\u001b[0m\u001b[0m\n\u001b[0m\u001b[1;32m   4433\u001b[0m         \u001b[0;32melse\u001b[0m\u001b[0;34m:\u001b[0m\u001b[0;34m\u001b[0m\u001b[0m\n\u001b[1;32m   4434\u001b[0m             \u001b[0mdata\u001b[0m \u001b[0;34m=\u001b[0m \u001b[0mdata\u001b[0m\u001b[0;34m.\u001b[0m\u001b[0mastype\u001b[0m\u001b[0;34m(\u001b[0m\u001b[0mdtype\u001b[0m\u001b[0;34m,\u001b[0m \u001b[0mcopy\u001b[0m\u001b[0;34m=\u001b[0m\u001b[0;32mFalse\u001b[0m\u001b[0;34m)\u001b[0m\u001b[0;34m.\u001b[0m\u001b[0mastype\u001b[0m\u001b[0;34m(\u001b[0m\u001b[0mobject\u001b[0m\u001b[0;34m,\u001b[0m \u001b[0mcopy\u001b[0m\u001b[0;34m=\u001b[0m\u001b[0;32mFalse\u001b[0m\u001b[0;34m)\u001b[0m\u001b[0;34m\u001b[0m\u001b[0m\n",
      "\u001b[0;32m/Users/klay6683/miniconda3/envs/py35/lib/python3.5/site-packages/pandas-0.17.0+137.geb66bcc-py3.5-macosx-10.5-x86_64.egg/pandas/core/strings.py\u001b[0m in \u001b[0;36mdecode\u001b[0;34m(self, encoding, errors)\u001b[0m\n\u001b[1;32m   1310\u001b[0m     \u001b[0;34m@\u001b[0m\u001b[0mcopy\u001b[0m\u001b[0;34m(\u001b[0m\u001b[0mstr_decode\u001b[0m\u001b[0;34m)\u001b[0m\u001b[0;34m\u001b[0m\u001b[0m\n\u001b[1;32m   1311\u001b[0m     \u001b[0;32mdef\u001b[0m \u001b[0mdecode\u001b[0m\u001b[0;34m(\u001b[0m\u001b[0mself\u001b[0m\u001b[0;34m,\u001b[0m \u001b[0mencoding\u001b[0m\u001b[0;34m,\u001b[0m \u001b[0merrors\u001b[0m\u001b[0;34m=\u001b[0m\u001b[0;34m\"strict\"\u001b[0m\u001b[0;34m)\u001b[0m\u001b[0;34m:\u001b[0m\u001b[0;34m\u001b[0m\u001b[0m\n\u001b[0;32m-> 1312\u001b[0;31m         \u001b[0mresult\u001b[0m \u001b[0;34m=\u001b[0m \u001b[0mstr_decode\u001b[0m\u001b[0;34m(\u001b[0m\u001b[0mself\u001b[0m\u001b[0;34m.\u001b[0m\u001b[0mseries\u001b[0m\u001b[0;34m,\u001b[0m \u001b[0mencoding\u001b[0m\u001b[0;34m,\u001b[0m \u001b[0merrors\u001b[0m\u001b[0;34m)\u001b[0m\u001b[0;34m\u001b[0m\u001b[0m\n\u001b[0m\u001b[1;32m   1313\u001b[0m         \u001b[0;32mreturn\u001b[0m \u001b[0mself\u001b[0m\u001b[0;34m.\u001b[0m\u001b[0m_wrap_result\u001b[0m\u001b[0;34m(\u001b[0m\u001b[0mresult\u001b[0m\u001b[0;34m)\u001b[0m\u001b[0;34m\u001b[0m\u001b[0m\n\u001b[1;32m   1314\u001b[0m \u001b[0;34m\u001b[0m\u001b[0m\n",
      "\u001b[0;32m/Users/klay6683/miniconda3/envs/py35/lib/python3.5/site-packages/pandas-0.17.0+137.geb66bcc-py3.5-macosx-10.5-x86_64.egg/pandas/core/strings.py\u001b[0m in \u001b[0;36mstr_decode\u001b[0;34m(arr, encoding, errors)\u001b[0m\n\u001b[1;32m    979\u001b[0m     \"\"\"\n\u001b[1;32m    980\u001b[0m     \u001b[0mf\u001b[0m \u001b[0;34m=\u001b[0m \u001b[0;32mlambda\u001b[0m \u001b[0mx\u001b[0m\u001b[0;34m:\u001b[0m \u001b[0mx\u001b[0m\u001b[0;34m.\u001b[0m\u001b[0mdecode\u001b[0m\u001b[0;34m(\u001b[0m\u001b[0mencoding\u001b[0m\u001b[0;34m,\u001b[0m \u001b[0merrors\u001b[0m\u001b[0;34m)\u001b[0m\u001b[0;34m\u001b[0m\u001b[0m\n\u001b[0;32m--> 981\u001b[0;31m     \u001b[0;32mreturn\u001b[0m \u001b[0m_na_map\u001b[0m\u001b[0;34m(\u001b[0m\u001b[0mf\u001b[0m\u001b[0;34m,\u001b[0m \u001b[0marr\u001b[0m\u001b[0;34m)\u001b[0m\u001b[0;34m\u001b[0m\u001b[0m\n\u001b[0m\u001b[1;32m    982\u001b[0m \u001b[0;34m\u001b[0m\u001b[0m\n\u001b[1;32m    983\u001b[0m \u001b[0;34m\u001b[0m\u001b[0m\n",
      "\u001b[0;32m/Users/klay6683/miniconda3/envs/py35/lib/python3.5/site-packages/pandas-0.17.0+137.geb66bcc-py3.5-macosx-10.5-x86_64.egg/pandas/core/strings.py\u001b[0m in \u001b[0;36m_na_map\u001b[0;34m(f, arr, na_result, dtype)\u001b[0m\n\u001b[1;32m    119\u001b[0m \u001b[0;32mdef\u001b[0m \u001b[0m_na_map\u001b[0m\u001b[0;34m(\u001b[0m\u001b[0mf\u001b[0m\u001b[0;34m,\u001b[0m \u001b[0marr\u001b[0m\u001b[0;34m,\u001b[0m \u001b[0mna_result\u001b[0m\u001b[0;34m=\u001b[0m\u001b[0mnp\u001b[0m\u001b[0;34m.\u001b[0m\u001b[0mnan\u001b[0m\u001b[0;34m,\u001b[0m \u001b[0mdtype\u001b[0m\u001b[0;34m=\u001b[0m\u001b[0mobject\u001b[0m\u001b[0;34m)\u001b[0m\u001b[0;34m:\u001b[0m\u001b[0;34m\u001b[0m\u001b[0m\n\u001b[1;32m    120\u001b[0m     \u001b[0;31m# should really _check_ for NA\u001b[0m\u001b[0;34m\u001b[0m\u001b[0;34m\u001b[0m\u001b[0m\n\u001b[0;32m--> 121\u001b[0;31m     \u001b[0;32mreturn\u001b[0m \u001b[0m_map\u001b[0m\u001b[0;34m(\u001b[0m\u001b[0mf\u001b[0m\u001b[0;34m,\u001b[0m \u001b[0marr\u001b[0m\u001b[0;34m,\u001b[0m \u001b[0mna_mask\u001b[0m\u001b[0;34m=\u001b[0m\u001b[0;32mTrue\u001b[0m\u001b[0;34m,\u001b[0m \u001b[0mna_value\u001b[0m\u001b[0;34m=\u001b[0m\u001b[0mna_result\u001b[0m\u001b[0;34m,\u001b[0m \u001b[0mdtype\u001b[0m\u001b[0;34m=\u001b[0m\u001b[0mdtype\u001b[0m\u001b[0;34m)\u001b[0m\u001b[0;34m\u001b[0m\u001b[0m\n\u001b[0m\u001b[1;32m    122\u001b[0m \u001b[0;34m\u001b[0m\u001b[0m\n\u001b[1;32m    123\u001b[0m \u001b[0;34m\u001b[0m\u001b[0m\n",
      "\u001b[0;32m/Users/klay6683/miniconda3/envs/py35/lib/python3.5/site-packages/pandas-0.17.0+137.geb66bcc-py3.5-macosx-10.5-x86_64.egg/pandas/core/strings.py\u001b[0m in \u001b[0;36m_map\u001b[0;34m(f, arr, na_mask, na_value, dtype)\u001b[0m\n\u001b[1;32m    135\u001b[0m         \u001b[0mmask\u001b[0m \u001b[0;34m=\u001b[0m \u001b[0misnull\u001b[0m\u001b[0;34m(\u001b[0m\u001b[0marr\u001b[0m\u001b[0;34m)\u001b[0m\u001b[0;34m\u001b[0m\u001b[0m\n\u001b[1;32m    136\u001b[0m         \u001b[0;32mtry\u001b[0m\u001b[0;34m:\u001b[0m\u001b[0;34m\u001b[0m\u001b[0m\n\u001b[0;32m--> 137\u001b[0;31m             \u001b[0mresult\u001b[0m \u001b[0;34m=\u001b[0m \u001b[0mlib\u001b[0m\u001b[0;34m.\u001b[0m\u001b[0mmap_infer_mask\u001b[0m\u001b[0;34m(\u001b[0m\u001b[0marr\u001b[0m\u001b[0;34m,\u001b[0m \u001b[0mf\u001b[0m\u001b[0;34m,\u001b[0m \u001b[0mmask\u001b[0m\u001b[0;34m.\u001b[0m\u001b[0mview\u001b[0m\u001b[0;34m(\u001b[0m\u001b[0mnp\u001b[0m\u001b[0;34m.\u001b[0m\u001b[0muint8\u001b[0m\u001b[0;34m)\u001b[0m\u001b[0;34m)\u001b[0m\u001b[0;34m\u001b[0m\u001b[0m\n\u001b[0m\u001b[1;32m    138\u001b[0m         \u001b[0;32mexcept\u001b[0m \u001b[0;34m(\u001b[0m\u001b[0mTypeError\u001b[0m\u001b[0;34m,\u001b[0m \u001b[0mAttributeError\u001b[0m\u001b[0;34m)\u001b[0m\u001b[0;34m:\u001b[0m\u001b[0;34m\u001b[0m\u001b[0m\n\u001b[1;32m    139\u001b[0m             \u001b[0;32mdef\u001b[0m \u001b[0mg\u001b[0m\u001b[0;34m(\u001b[0m\u001b[0mx\u001b[0m\u001b[0;34m)\u001b[0m\u001b[0;34m:\u001b[0m\u001b[0;34m\u001b[0m\u001b[0m\n",
      "\u001b[0;32mpandas/src/inference.pyx\u001b[0m in \u001b[0;36mpandas.lib.map_infer_mask (pandas/lib.c:61753)\u001b[0;34m()\u001b[0m\n",
      "\u001b[0;32m/Users/klay6683/miniconda3/envs/py35/lib/python3.5/site-packages/pandas-0.17.0+137.geb66bcc-py3.5-macosx-10.5-x86_64.egg/pandas/core/strings.py\u001b[0m in \u001b[0;36m<lambda>\u001b[0;34m(x)\u001b[0m\n\u001b[1;32m    978\u001b[0m     \u001b[0mdecoded\u001b[0m \u001b[0;34m:\u001b[0m \u001b[0mSeries\u001b[0m\u001b[0;34m/\u001b[0m\u001b[0mIndex\u001b[0m \u001b[0mof\u001b[0m \u001b[0mobjects\u001b[0m\u001b[0;34m\u001b[0m\u001b[0m\n\u001b[1;32m    979\u001b[0m     \"\"\"\n\u001b[0;32m--> 980\u001b[0;31m     \u001b[0mf\u001b[0m \u001b[0;34m=\u001b[0m \u001b[0;32mlambda\u001b[0m \u001b[0mx\u001b[0m\u001b[0;34m:\u001b[0m \u001b[0mx\u001b[0m\u001b[0;34m.\u001b[0m\u001b[0mdecode\u001b[0m\u001b[0;34m(\u001b[0m\u001b[0mencoding\u001b[0m\u001b[0;34m,\u001b[0m \u001b[0merrors\u001b[0m\u001b[0;34m)\u001b[0m\u001b[0;34m\u001b[0m\u001b[0m\n\u001b[0m\u001b[1;32m    981\u001b[0m     \u001b[0;32mreturn\u001b[0m \u001b[0m_na_map\u001b[0m\u001b[0;34m(\u001b[0m\u001b[0mf\u001b[0m\u001b[0;34m,\u001b[0m \u001b[0marr\u001b[0m\u001b[0;34m)\u001b[0m\u001b[0;34m\u001b[0m\u001b[0m\n\u001b[1;32m    982\u001b[0m \u001b[0;34m\u001b[0m\u001b[0m\n",
      "\u001b[0;31mKeyboardInterrupt\u001b[0m: "
     ]
    }
   ],
   "source": [
    "reduction.remove_duplicates_from_file(str(pabs))"
   ]
  },
  {
   "cell_type": "code",
   "execution_count": null,
   "metadata": {
    "collapsed": true
   },
   "outputs": [],
   "source": []
  }
 ],
 "metadata": {
  "kernelspec": {
   "display_name": "Python 3",
   "language": "python",
   "name": "python3"
  },
  "language_info": {
   "codemirror_mode": {
    "name": "ipython",
    "version": 3
   },
   "file_extension": ".py",
   "mimetype": "text/x-python",
   "name": "python",
   "nbconvert_exporter": "python",
   "pygments_lexer": "ipython3",
   "version": "3.5.0"
  }
 },
 "nbformat": 4,
 "nbformat_minor": 0
}
