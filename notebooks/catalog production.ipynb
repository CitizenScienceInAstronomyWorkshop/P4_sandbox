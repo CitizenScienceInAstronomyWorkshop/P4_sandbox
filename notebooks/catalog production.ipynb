{
 "cells": [
  {
   "cell_type": "code",
   "execution_count": 1,
   "metadata": {
    "collapsed": true
   },
   "outputs": [],
   "source": [
    "%load_ext autoreload\n",
    "%autoreload 2"
   ]
  },
  {
   "cell_type": "code",
   "execution_count": 2,
   "metadata": {
    "collapsed": false
   },
   "outputs": [],
   "source": [
    "from __future__ import print_function, division\n",
    "import planet4 as p4\n",
    "import pandas as pd\n",
    "from planet4 import markings\n",
    "from planet4.get_data import get_current_database_fname\n",
    "from planet4 import clustering\n",
    "import os\n",
    "from os.path import join as pjoin\n",
    "HOME = os.environ['HOME']"
   ]
  },
  {
   "cell_type": "code",
   "execution_count": 3,
   "metadata": {
    "collapsed": false
   },
   "outputs": [
    {
     "data": {
      "text/plain": [
       "<class 'pandas.io.pytables.HDFStore'>\n",
       "File path: /Users/klay6683/data/planet4/2015-03-08_planet_four_classifications_queryable.h5\n",
       "/df            frame_table  (typ->appendable,nrows->12110427,ncols->22,indexers->[index],dc->[classification_id,image_id,image_name,user_name,marking,acquisition_date,local_mars_time])"
      ]
     },
     "execution_count": 3,
     "metadata": {},
     "output_type": "execute_result"
    }
   ],
   "source": [
    "dbfile = get_current_database_fname()\n",
    "store = pd.HDFStore(dbfile)\n",
    "store"
   ]
  },
  {
   "cell_type": "code",
   "execution_count": 4,
   "metadata": {
    "collapsed": false
   },
   "outputs": [],
   "source": [
    "image_names = store.select_column('df', 'image_name')"
   ]
  },
  {
   "cell_type": "code",
   "execution_count": 5,
   "metadata": {
    "collapsed": false
   },
   "outputs": [
    {
     "data": {
      "text/plain": [
       "12110427"
      ]
     },
     "execution_count": 5,
     "metadata": {},
     "output_type": "execute_result"
    }
   ],
   "source": [
    "image_names.size"
   ]
  },
  {
   "cell_type": "code",
   "execution_count": 6,
   "metadata": {
    "collapsed": false
   },
   "outputs": [
    {
     "data": {
      "text/plain": [
       "407"
      ]
     },
     "execution_count": 6,
     "metadata": {},
     "output_type": "execute_result"
    }
   ],
   "source": [
    "image_names.unique().size"
   ]
  },
  {
   "cell_type": "code",
   "execution_count": 7,
   "metadata": {
    "collapsed": true
   },
   "outputs": [],
   "source": [
    "image_names = image_names.unique()"
   ]
  },
  {
   "cell_type": "code",
   "execution_count": 8,
   "metadata": {
    "collapsed": false
   },
   "outputs": [],
   "source": [
    "from IPython.parallel import Client\n",
    "client = Client()"
   ]
  },
  {
   "cell_type": "code",
   "execution_count": 9,
   "metadata": {
    "collapsed": false
   },
   "outputs": [],
   "source": [
    "dview = client.direct_view()\n",
    "lview = client.load_balanced_view()"
   ]
  },
  {
   "cell_type": "code",
   "execution_count": 10,
   "metadata": {
    "collapsed": true
   },
   "outputs": [],
   "source": [
    "%%px\n",
    "import pandas as pd\n",
    "from planet4 import clustering, markings\n",
    "from os.path import join as pjoin\n",
    "import os\n",
    "HOME = os.environ['HOME']"
   ]
  },
  {
   "cell_type": "code",
   "execution_count": 23,
   "metadata": {
    "collapsed": false
   },
   "outputs": [],
   "source": [
    "def do_clustering(p4img, fans):\n",
    "    if fans:\n",
    "        reduced = clustering.perform_dbscan(p4img.get_fans(), fans=fans)\n",
    "    else:\n",
    "        reduced = clustering.perform_dbscan(p4img.get_blotches(), fans=fans)\n",
    "    if reduced is None:\n",
    "        return None\n",
    "    series = [cluster.data for cluster in reduced]\n",
    "    df = pd.DataFrame(series)\n",
    "    df['image_id'] = p4img.imgid\n",
    "    return df\n",
    "    \n",
    "def process_image_name(image_name):\n",
    "    import sys\n",
    "    dirname = pjoin(HOME, 'data/planet4/reduced')\n",
    "    blotchfname = pjoin(dirname, image_name+'_reduced_blotches.hdf')\n",
    "    fanfname = pjoin(dirname, image_name+'_reduced_fans.hdf')\n",
    "    if os.path.exists(blotchfname) and\\\n",
    "            os.path.exists(fanfname):\n",
    "        return image_name+' already done.'\n",
    "    data = pd.read_hdf(dbfile, 'df', where=\"image_name=\"+image_name)\n",
    "    img_ids = data.image_id.unique()\n",
    "    print(\"Found {} unique P4 image_ids.\".format(img_ids.shape[0]))\n",
    "    sys.stdout.flush()\n",
    "    blotches = []\n",
    "    fans = []\n",
    "    for img_id in img_ids:\n",
    "        p4img = markings.ImageID(img_id)\n",
    "        blotches.append(do_clustering(p4img, fans=False))\n",
    "        fans.append(do_clustering(p4img, fans=True))\n",
    "    blotches = pd.concat(blotches, ignore_index=True)\n",
    "    blotches.to_hdf(blotchfname, 'df')\n",
    "    fans = pd.concat(fans, ignore_index=True)\n",
    "    fans.to_hdf(fanfname, 'df')\n",
    "    return image_name"
   ]
  },
  {
   "cell_type": "code",
   "execution_count": 24,
   "metadata": {
    "collapsed": false
   },
   "outputs": [
    {
     "data": {
      "text/plain": [
       "<AsyncResult: finished>"
      ]
     },
     "execution_count": 24,
     "metadata": {},
     "output_type": "execute_result"
    }
   ],
   "source": [
    "dview.push({'do_clustering':do_clustering,\n",
    "            'dbfile':dbfile})"
   ]
  },
  {
   "cell_type": "code",
   "execution_count": 28,
   "metadata": {
    "collapsed": false
   },
   "outputs": [],
   "source": [
    "result = lview.map_async(process_image_name, image_names)"
   ]
  },
  {
   "cell_type": "code",
   "execution_count": 26,
   "metadata": {
    "collapsed": false
   },
   "outputs": [
    {
     "name": "stdout",
     "output_type": "stream",
     "text": [
      "ESP_011544_0985 already done.\n",
      "ESP_021684_0985 already done.\n",
      "ESP_011697_0980 already done.\n",
      "ESP_020322_0930 already done.\n",
      "ESP_021455_0935 already done.\n",
      "ESP_020214_0935 already done.\n",
      "ESP_012008_0975 already done.\n",
      "ESP_020930_0980 already done.\n",
      "ESP_020357_0950 already done.\n",
      "ESP_012884_0935 already done.\n",
      "ESP_021497_0980 already done.\n",
      "ESP_011900_0985 already done.\n",
      "ESP_012291_0980 already done.\n",
      "ESP_021494_0945 already done.\n",
      "ESP_021454_0925 already done.\n",
      "ESP_021522_0930 already done.\n",
      "ESP_020339_0985 already done.\n",
      "ESP_012604_0965 already done.\n",
      "ESP_012254_1065 already done.\n",
      "ESP_021605_0985 already done.\n",
      "ESP_011350_0945 already done.\n",
      "ESP_020376_0980 already done.\n",
      "ESP_021526_0985 already done.\n",
      "ESP_021460_0985 already done.\n",
      "ESP_012076_0945 already done.\n",
      "ESP_012344_0950 already done.\n",
      "ESP_011729_0985 already done.\n",
      "ESP_012063_0945 already done.\n",
      "ESP_012212_0950 already done.\n",
      "ESP_012256_0985 already done.\n",
      "ESP_020598_0935 already done.\n",
      "ESP_011565_0930 already done.\n",
      "ESP_012693_0950 already done.\n",
      "ESP_012838_0950 already done.\n",
      "ESP_020888_0935 already done.\n",
      "ESP_011737_0980 already done.\n",
      "ESP_020677_0980 already done.\n",
      "ESP_020115_0985 already done.\n",
      "ESP_011447_0950 already done.\n",
      "ESP_012436_0980 already done.\n",
      "ESP_021671_0985 already done.\n",
      "ESP_012211_0930 already done.\n",
      "ESP_020783_0950 already done.\n",
      "ESP_012744_0985 already done.\n",
      "ESP_020282_0930 already done.\n",
      "ESP_012691_0985 already done.\n",
      "ESP_020049_0985 already done.\n",
      "ESP_021491_0950 already done.\n",
      "ESP_021520_0925 already done.\n",
      "ESP_020571_0945 already done.\n",
      "ESP_020731_0930 already done.\n",
      "ESP_022273_0950 already done.\n",
      "ESP_011680_1055 already done.\n",
      "ESP_020959_0985 already done.\n",
      "ESP_021829_0985 already done.\n",
      "ESP_012316_0925 already done.\n",
      "ESP_012704_0850 already done.\n",
      "ESP_021642_0980 already done.\n",
      "ESP_020716_0945 already done.\n",
      "ESP_012860_0980 already done.\n",
      "ESP_011515_0980 already done.\n",
      "ESP_020756_0980 already done.\n",
      "ESP_012304_0980 already done.\n",
      "ESP_020782_0945 already done.\n",
      "ESP_011842_0980 already done.\n",
      "ESP_012845_0950 already done.\n",
      "ESP_020519_0935 already done.\n",
      "ESP_012648_0930 already done.\n",
      "ESP_020255_0935 already done.\n",
      "ESP_011486_0980 already done.\n",
      "ESP_020347_0930 already done.\n",
      "ESP_020176_0930 already done.\n",
      "ESP_012227_0980 already done.\n",
      "ESP_012643_0945 already done.\n",
      "ESP_011348_0950 already done.\n",
      "ESP_011931_0945 already done.\n",
      "ESP_012887_1065 already done.\n",
      "ESP_012527_0925 already done.\n",
      "ESP_021495_0935 already done.\n",
      "ESP_020508_0980 already done.\n",
      "ESP_020386_0925 already done.\n",
      "ESP_012634_0930 already done.\n",
      "ESP_020128_0985 already done.\n",
      "ESP_011407_0945 already done.\n",
      "ESP_012939_0980 already done.\n",
      "ESP_013034_0985 already done.\n",
      "ESP_011403_0945 already done.\n",
      "ESP_021969_0980 already done.\n",
      "ESP_012264_0980 already done.\n",
      "ESP_012322_0985 already done.\n",
      "ESP_020719_0980 already done.\n",
      "ESP_011406_0945 already done.\n",
      "ESP_020742_0925 already done.\n",
      "ESP_011557_0985 already done.\n",
      "ESP_011606_0930 already done.\n",
      "ESP_012077_0930 already done.\n",
      "ESP_012248_0965 already done.\n",
      "ESP_013049_0950 already done.\n",
      "ESP_021587_0980 already done.\n",
      "ESP_020427_0930 already done.\n",
      "ESP_020955_0930 already done.\n",
      "ESP_011431_0930 already done.\n",
      "ESP_011351_0945 already done.\n",
      "ESP_011526_0980 already done.\n",
      "ESP_022699_0985 already done.\n",
      "ESP_020748_0985 already done.\n",
      "ESP_012844_0930 already done.\n",
      "ESP_011448_0950 already done.\n",
      "ESP_012620_0975 already done.\n",
      "ESP_012504_0980 already done.\n",
      "ESP_012314_0965 already done.\n",
      "ESP_012038_0930 already done.\n",
      "ESP_012463_0930 already done.\n",
      "ESP_020779_0950 already done.\n",
      "ESP_011491_0985 already done.\n",
      "ESP_011394_0935 already done.\n",
      "ESP_021468_0935 already done.\n",
      "ESP_011723_0945 already done.\n",
      "ESP_012265_0950 already done.\n",
      "ESP_012633_0930 already done.\n",
      "ESP_012461_0925 already done.\n",
      "ESP_012393_0965 already done.\n",
      "ESP_011460_0980 already done.\n",
      "ESP_012290_0945 already done.\n",
      "ESP_020194_0985 already done.\n",
      "ESP_020297_0980 already done.\n",
      "ESP_020401_0950 already done.\n",
      "ESP_020321_0935 already done.\n",
      "ESP_012499_0930 already done.\n",
      "ESP_011404_0945 already done.\n",
      "ESP_011702_0985 already done.\n",
      "ESP_011921_0950 already done.\n",
      "ESP_020568_0950 already done.\n",
      "ESP_012594_0980 already done.\n",
      "ESP_012079_0945 already done.\n",
      "ESP_012053_0980 already done.\n",
      "ESP_012467_0985 already done.\n",
      "ESP_013113_0985 already done.\n",
      "ESP_020597_0925 already done.\n",
      "ESP_012858_0855 already done.\n",
      "ESP_022193_0950 already done.\n",
      "ESP_022379_0930 already done.\n",
      "ESP_012889_0985 already done.\n",
      "ESP_012488_0930 already done.\n",
      "ESP_012028_0930 already done.\n",
      "ESP_011370_0980 already done.\n",
      "ESP_020374_0980 already done.\n",
      "ESP_020780_0930 already done.\n",
      "ESP_012821_0865 already done.\n",
      "ESP_011843_0950 already done.\n",
      "ESP_020953_0925 already done.\n",
      "ESP_013260_0950 already done.\n",
      "ESP_012348_0975 already done.\n",
      "ESP_012647_0980 already done.\n",
      "ESP_020294_0945 already done.\n",
      "ESP_021574_0980 already done.\n",
      "ESP_021508_0980 already done.\n",
      "ESP_011711_0930 already done.\n",
      "ESP_012671_0930 already done.\n",
      "ESP_020827_0985 already done.\n",
      "ESP_011408_0930 already done.\n",
      "ESP_011623_0985 already done.\n",
      "ESP_021482_0950 already done.\n",
      "ESP_011413_0970 already done.\n",
      "ESP_011856_0930 already done.\n",
      "ESP_021903_0930 already done.\n",
      "ESP_012990_0930 already done.\n",
      "ESP_020480_0950 already done.\n",
      "ESP_013016_0935 already done.\n",
      "ESP_012836_0850 already done.\n",
      "ESP_020927_0945 already done.\n",
      "ESP_020678_0930 already done.\n",
      "ESP_020533_0930 already done.\n",
      "ESP_012501_0945 already done.\n",
      "ESP_012277_0975 already done.\n",
      "ESP_012779_0930 already done.\n",
      "ESP_020476_0950 already done.\n",
      "ESP_020202_0935 already done.\n",
      "ESP_011934_0945 already done.\n",
      "ESP_012816_0930 already done.\n",
      "ESP_021654_0930 already done.\n",
      "ESP_012081_0930 already done.\n",
      "ESP_012225_0980 already done.\n",
      "ESP_013030_0930 already done.\n",
      "ESP_011792_0980 already done.\n",
      "ESP_012819_0930 already done.\n",
      "ESP_011777_0950 already done.\n",
      "ESP_011422_0930 already done.\n",
      "ESP_020954_0935 already done.\n",
      "ESP_021521_0980 already done.\n",
      "ESP_012805_0980 already done.\n",
      "ESP_011671_0935 already done.\n",
      "ESP_012871_0980 already done.\n",
      "ESP_012515_0980 already done.\n",
      "ESP_012854_0945 already done.\n",
      "ESP_022260_0935 already done.\n",
      "ESP_020532_0935 already done.\n",
      "ESP_011776_0930 already done.\n",
      "ESP_011420_0930 already done.\n",
      "ESP_012607_0980 already done.\n",
      "ESP_020146_0950 already done.\n",
      "ESP_021483_0930 already done.\n",
      "ESP_011341_0980 already done.\n",
      "ESP_012739_0935 already done.\n",
      "ESP_020150_0950 already done.\n",
      "ESP_020875_0980 already done.\n",
      "ESP_020229_0930 already done.\n",
      "ESP_020558_0930 already done.\n",
      "ESP_020902_0950 already done.\n",
      "ESP_011960_0925 already done.\n",
      "ESP_020242_0945 already done.\n",
      "ESP_011961_0935 already done.\n",
      "ESP_012817_0925 already done.\n",
      "ESP_012251_0935 already done.\n",
      "ESP_011296_0975 already done.\n",
      "ESP_020941_0980 already done.\n",
      "ESP_013095_0935 already done.\n",
      "ESP_012753_0950 already done.\n",
      "ESP_022510_0980 already done.\n",
      "ESP_022339_0935 already done.\n",
      "ESP_020163_0980 already done.\n",
      "PSP_003215_1055 already done.\n",
      "PSP_004002_0845 already done.\n",
      "PSP_003760_0945 already done.\n",
      "PSP_004142_0935\n",
      "PSP_004081_0985\n",
      "PSP_003466_0945\n"
     ]
    },
    {
     "ename": "KeyboardInterrupt",
     "evalue": "",
     "output_type": "error",
     "traceback": [
      "\u001b[0;31m---------------------------------------------------------------------------\u001b[0m",
      "\u001b[0;31mTimeoutError\u001b[0m                              Traceback (most recent call last)",
      "\u001b[0;32m/Users/klay6683/miniconda3/lib/python3.4/site-packages/IPython/parallel/client/asyncresult.py\u001b[0m in \u001b[0;36m_ordered_iter\u001b[0;34m(self)\u001b[0m\n\u001b[1;32m    592\u001b[0m         \u001b[0;32mtry\u001b[0m\u001b[0;34m:\u001b[0m\u001b[0;34m\u001b[0m\u001b[0m\n\u001b[0;32m--> 593\u001b[0;31m             \u001b[0mrlist\u001b[0m \u001b[0;34m=\u001b[0m \u001b[0mself\u001b[0m\u001b[0;34m.\u001b[0m\u001b[0mget\u001b[0m\u001b[0;34m(\u001b[0m\u001b[0;36m0\u001b[0m\u001b[0;34m)\u001b[0m\u001b[0;34m\u001b[0m\u001b[0m\n\u001b[0m\u001b[1;32m    594\u001b[0m         \u001b[0;32mexcept\u001b[0m \u001b[0merror\u001b[0m\u001b[0;34m.\u001b[0m\u001b[0mTimeoutError\u001b[0m\u001b[0;34m:\u001b[0m\u001b[0;34m\u001b[0m\u001b[0m\n",
      "\u001b[0;32m/Users/klay6683/miniconda3/lib/python3.4/site-packages/IPython/parallel/client/asyncresult.py\u001b[0m in \u001b[0;36mget\u001b[0;34m(self, timeout)\u001b[0m\n\u001b[1;32m    105\u001b[0m         \u001b[0;32melse\u001b[0m\u001b[0;34m:\u001b[0m\u001b[0;34m\u001b[0m\u001b[0m\n\u001b[0;32m--> 106\u001b[0;31m             \u001b[0;32mraise\u001b[0m \u001b[0merror\u001b[0m\u001b[0;34m.\u001b[0m\u001b[0mTimeoutError\u001b[0m\u001b[0;34m(\u001b[0m\u001b[0;34m\"Result not ready.\"\u001b[0m\u001b[0;34m)\u001b[0m\u001b[0;34m\u001b[0m\u001b[0m\n\u001b[0m\u001b[1;32m    107\u001b[0m \u001b[0;34m\u001b[0m\u001b[0m\n",
      "\u001b[0;31mTimeoutError\u001b[0m: Result not ready.",
      "\nDuring handling of the above exception, another exception occurred:\n",
      "\u001b[0;31mKeyboardInterrupt\u001b[0m                         Traceback (most recent call last)",
      "\u001b[0;32m<ipython-input-26-a5981cf28b64>\u001b[0m in \u001b[0;36m<module>\u001b[0;34m()\u001b[0m\n\u001b[0;32m----> 1\u001b[0;31m \u001b[0;32mfor\u001b[0m \u001b[0mres\u001b[0m \u001b[0;32min\u001b[0m \u001b[0mresult\u001b[0m\u001b[0;34m:\u001b[0m\u001b[0;34m\u001b[0m\u001b[0m\n\u001b[0m\u001b[1;32m      2\u001b[0m     \u001b[0mprint\u001b[0m\u001b[0;34m(\u001b[0m\u001b[0mres\u001b[0m\u001b[0;34m)\u001b[0m\u001b[0;34m\u001b[0m\u001b[0m\n",
      "\u001b[0;32m/Users/klay6683/miniconda3/lib/python3.4/site-packages/IPython/parallel/client/asyncresult.py\u001b[0m in \u001b[0;36m__iter__\u001b[0;34m(self)\u001b[0m\n\u001b[1;32m    584\u001b[0m     \u001b[0;32mdef\u001b[0m \u001b[0m__iter__\u001b[0m\u001b[0;34m(\u001b[0m\u001b[0mself\u001b[0m\u001b[0;34m)\u001b[0m\u001b[0;34m:\u001b[0m\u001b[0;34m\u001b[0m\u001b[0m\n\u001b[1;32m    585\u001b[0m         \u001b[0mit\u001b[0m \u001b[0;34m=\u001b[0m \u001b[0mself\u001b[0m\u001b[0;34m.\u001b[0m\u001b[0m_ordered_iter\u001b[0m \u001b[0;32mif\u001b[0m \u001b[0mself\u001b[0m\u001b[0;34m.\u001b[0m\u001b[0mordered\u001b[0m \u001b[0;32melse\u001b[0m \u001b[0mself\u001b[0m\u001b[0;34m.\u001b[0m\u001b[0m_unordered_iter\u001b[0m\u001b[0;34m\u001b[0m\u001b[0m\n\u001b[0;32m--> 586\u001b[0;31m         \u001b[0;32mfor\u001b[0m \u001b[0mr\u001b[0m \u001b[0;32min\u001b[0m \u001b[0mit\u001b[0m\u001b[0;34m(\u001b[0m\u001b[0;34m)\u001b[0m\u001b[0;34m:\u001b[0m\u001b[0;34m\u001b[0m\u001b[0m\n\u001b[0m\u001b[1;32m    587\u001b[0m             \u001b[0;32myield\u001b[0m \u001b[0mr\u001b[0m\u001b[0;34m\u001b[0m\u001b[0m\n\u001b[1;32m    588\u001b[0m \u001b[0;34m\u001b[0m\u001b[0m\n",
      "\u001b[0;32m/Users/klay6683/miniconda3/lib/python3.4/site-packages/IPython/parallel/client/asyncresult.py\u001b[0m in \u001b[0;36m_ordered_iter\u001b[0;34m(self)\u001b[0m\n\u001b[1;32m    596\u001b[0m             \u001b[0;32mfor\u001b[0m \u001b[0mmsg_id\u001b[0m \u001b[0;32min\u001b[0m \u001b[0mself\u001b[0m\u001b[0;34m.\u001b[0m\u001b[0mmsg_ids\u001b[0m\u001b[0;34m:\u001b[0m\u001b[0;34m\u001b[0m\u001b[0m\n\u001b[1;32m    597\u001b[0m                 \u001b[0mar\u001b[0m \u001b[0;34m=\u001b[0m \u001b[0mAsyncResult\u001b[0m\u001b[0;34m(\u001b[0m\u001b[0mself\u001b[0m\u001b[0;34m.\u001b[0m\u001b[0m_client\u001b[0m\u001b[0;34m,\u001b[0m \u001b[0mmsg_id\u001b[0m\u001b[0;34m,\u001b[0m \u001b[0mself\u001b[0m\u001b[0;34m.\u001b[0m\u001b[0m_fname\u001b[0m\u001b[0;34m)\u001b[0m\u001b[0;34m\u001b[0m\u001b[0m\n\u001b[0;32m--> 598\u001b[0;31m                 \u001b[0mrlist\u001b[0m \u001b[0;34m=\u001b[0m \u001b[0mar\u001b[0m\u001b[0;34m.\u001b[0m\u001b[0mget\u001b[0m\u001b[0;34m(\u001b[0m\u001b[0;34m)\u001b[0m\u001b[0;34m\u001b[0m\u001b[0m\n\u001b[0m\u001b[1;32m    599\u001b[0m                 \u001b[0;32mtry\u001b[0m\u001b[0;34m:\u001b[0m\u001b[0;34m\u001b[0m\u001b[0m\n\u001b[1;32m    600\u001b[0m                     \u001b[0;32mfor\u001b[0m \u001b[0mr\u001b[0m \u001b[0;32min\u001b[0m \u001b[0mrlist\u001b[0m\u001b[0;34m:\u001b[0m\u001b[0;34m\u001b[0m\u001b[0m\n",
      "\u001b[0;32m/Users/klay6683/miniconda3/lib/python3.4/site-packages/IPython/parallel/client/asyncresult.py\u001b[0m in \u001b[0;36mget\u001b[0;34m(self, timeout)\u001b[0m\n\u001b[1;32m     96\u001b[0m         \"\"\"\n\u001b[1;32m     97\u001b[0m         \u001b[0;32mif\u001b[0m \u001b[0;32mnot\u001b[0m \u001b[0mself\u001b[0m\u001b[0;34m.\u001b[0m\u001b[0mready\u001b[0m\u001b[0;34m(\u001b[0m\u001b[0;34m)\u001b[0m\u001b[0;34m:\u001b[0m\u001b[0;34m\u001b[0m\u001b[0m\n\u001b[0;32m---> 98\u001b[0;31m             \u001b[0mself\u001b[0m\u001b[0;34m.\u001b[0m\u001b[0mwait\u001b[0m\u001b[0;34m(\u001b[0m\u001b[0mtimeout\u001b[0m\u001b[0;34m)\u001b[0m\u001b[0;34m\u001b[0m\u001b[0m\n\u001b[0m\u001b[1;32m     99\u001b[0m \u001b[0;34m\u001b[0m\u001b[0m\n\u001b[1;32m    100\u001b[0m         \u001b[0;32mif\u001b[0m \u001b[0mself\u001b[0m\u001b[0;34m.\u001b[0m\u001b[0m_ready\u001b[0m\u001b[0;34m:\u001b[0m\u001b[0;34m\u001b[0m\u001b[0m\n",
      "\u001b[0;32m/Users/klay6683/miniconda3/lib/python3.4/site-packages/IPython/parallel/client/asyncresult.py\u001b[0m in \u001b[0;36mwait\u001b[0;34m(self, timeout)\u001b[0m\n\u001b[1;32m    127\u001b[0m             \u001b[0mself\u001b[0m\u001b[0;34m.\u001b[0m\u001b[0m_wait_for_outputs\u001b[0m\u001b[0;34m(\u001b[0m\u001b[0mtimeout\u001b[0m\u001b[0;34m)\u001b[0m\u001b[0;34m\u001b[0m\u001b[0m\n\u001b[1;32m    128\u001b[0m             \u001b[0;32mreturn\u001b[0m\u001b[0;34m\u001b[0m\u001b[0m\n\u001b[0;32m--> 129\u001b[0;31m         \u001b[0mself\u001b[0m\u001b[0;34m.\u001b[0m\u001b[0m_ready\u001b[0m \u001b[0;34m=\u001b[0m \u001b[0mself\u001b[0m\u001b[0;34m.\u001b[0m\u001b[0m_client\u001b[0m\u001b[0;34m.\u001b[0m\u001b[0mwait\u001b[0m\u001b[0;34m(\u001b[0m\u001b[0mself\u001b[0m\u001b[0;34m.\u001b[0m\u001b[0mmsg_ids\u001b[0m\u001b[0;34m,\u001b[0m \u001b[0mtimeout\u001b[0m\u001b[0;34m)\u001b[0m\u001b[0;34m\u001b[0m\u001b[0m\n\u001b[0m\u001b[1;32m    130\u001b[0m         \u001b[0;32mif\u001b[0m \u001b[0mself\u001b[0m\u001b[0;34m.\u001b[0m\u001b[0m_ready\u001b[0m\u001b[0;34m:\u001b[0m\u001b[0;34m\u001b[0m\u001b[0m\n\u001b[1;32m    131\u001b[0m             \u001b[0;32mtry\u001b[0m\u001b[0;34m:\u001b[0m\u001b[0;34m\u001b[0m\u001b[0m\n",
      "\u001b[0;32m/Users/klay6683/miniconda3/lib/python3.4/site-packages/IPython/parallel/client/client.py\u001b[0m in \u001b[0;36mwait\u001b[0;34m(self, jobs, timeout)\u001b[0m\n\u001b[1;32m   1102\u001b[0m             \u001b[0;32mif\u001b[0m \u001b[0mtimeout\u001b[0m \u001b[0;34m>=\u001b[0m \u001b[0;36m0\u001b[0m \u001b[0;32mand\u001b[0m \u001b[0;34m(\u001b[0m \u001b[0mtime\u001b[0m\u001b[0;34m.\u001b[0m\u001b[0mtime\u001b[0m\u001b[0;34m(\u001b[0m\u001b[0;34m)\u001b[0m\u001b[0;34m-\u001b[0m\u001b[0mtic\u001b[0m \u001b[0;34m)\u001b[0m \u001b[0;34m>\u001b[0m \u001b[0mtimeout\u001b[0m\u001b[0;34m:\u001b[0m\u001b[0;34m\u001b[0m\u001b[0m\n\u001b[1;32m   1103\u001b[0m                 \u001b[0;32mbreak\u001b[0m\u001b[0;34m\u001b[0m\u001b[0m\n\u001b[0;32m-> 1104\u001b[0;31m             \u001b[0mtime\u001b[0m\u001b[0;34m.\u001b[0m\u001b[0msleep\u001b[0m\u001b[0;34m(\u001b[0m\u001b[0;36m1e-3\u001b[0m\u001b[0;34m)\u001b[0m\u001b[0;34m\u001b[0m\u001b[0m\n\u001b[0m\u001b[1;32m   1105\u001b[0m             \u001b[0mself\u001b[0m\u001b[0;34m.\u001b[0m\u001b[0mspin\u001b[0m\u001b[0;34m(\u001b[0m\u001b[0;34m)\u001b[0m\u001b[0;34m\u001b[0m\u001b[0m\n\u001b[1;32m   1106\u001b[0m         \u001b[0;32mreturn\u001b[0m \u001b[0mlen\u001b[0m\u001b[0;34m(\u001b[0m\u001b[0mtheids\u001b[0m\u001b[0;34m.\u001b[0m\u001b[0mintersection\u001b[0m\u001b[0;34m(\u001b[0m\u001b[0mself\u001b[0m\u001b[0;34m.\u001b[0m\u001b[0moutstanding\u001b[0m\u001b[0;34m)\u001b[0m\u001b[0;34m)\u001b[0m \u001b[0;34m==\u001b[0m \u001b[0;36m0\u001b[0m\u001b[0;34m\u001b[0m\u001b[0m\n",
      "\u001b[0;31mKeyboardInterrupt\u001b[0m: "
     ]
    }
   ],
   "source": [
    "for res in result:\n",
    "    print(res)"
   ]
  },
  {
   "cell_type": "code",
   "execution_count": 29,
   "metadata": {
    "collapsed": false,
    "scrolled": false
   },
   "outputs": [
    {
     "name": "stdout",
     "output_type": "stream",
     "text": [
      "54.79115479115479\n",
      "54.79115479115479\n",
      "55.52825552825553\n",
      "56.26535626535627\n",
      "57.24815724815725\n",
      "57.73955773955774\n",
      "58.47665847665848\n",
      "59.21375921375921\n",
      "59.95085995085995\n",
      "60.93366093366093\n",
      "61.91646191646192\n",
      "62.65356265356265\n",
      "62.8992628992629\n",
      "63.88206388206388\n",
      "65.1105651105651\n",
      "66.0933660933661\n",
      "66.83046683046683\n",
      "67.81326781326781\n",
      "68.55036855036855\n",
      "69.77886977886978\n",
      "70.51597051597052\n",
      "71.4987714987715\n",
      "72.72727272727273\n",
      "74.2014742014742\n",
      "74.93857493857494\n",
      "76.16707616707616\n",
      "76.90417690417691\n",
      "77.64127764127764\n",
      "78.37837837837837\n",
      "79.36117936117937\n",
      "80.58968058968058\n",
      "81.32678132678133\n",
      "82.55528255528256\n",
      "83.78378378378379\n",
      "85.25798525798525\n",
      "86.73218673218673\n",
      "87.71498771498771\n",
      "89.43488943488944\n",
      "90.17199017199017\n",
      "91.89189189189189\n",
      "94.5945945945946\n",
      "95.08599508599508\n",
      "96.56019656019656\n",
      "97.54299754299754\n",
      "99.01719901719902\n"
     ]
    }
   ],
   "source": [
    "import time\n",
    "while not result.ready():\n",
    "    print(100*result.progress/len(image_names))\n",
    "    time.sleep(30)"
   ]
  },
  {
   "cell_type": "code",
   "execution_count": 23,
   "metadata": {
    "collapsed": false
   },
   "outputs": [
    {
     "name": "stdout",
     "output_type": "stream",
     "text": [
      "ESP_011544_0985_reduced_blotches.hdf  ESP_021684_0985_reduced_blotches.hdf\r\n",
      "ESP_011544_0985_reduced_fans.hdf      ESP_021684_0985_reduced_fans.hdf\r\n"
     ]
    }
   ],
   "source": [
    "ls ~/data/planet4/reduced"
   ]
  },
  {
   "cell_type": "code",
   "execution_count": 37,
   "metadata": {
    "collapsed": true
   },
   "outputs": [],
   "source": [
    "df =pd.read_hdf('/Users/klay6683/data/planet4/reduced/ESP_011544_0985_reduced_blotches.hdf', 'df')"
   ]
  },
  {
   "cell_type": "code",
   "execution_count": 38,
   "metadata": {
    "collapsed": false
   },
   "outputs": [],
   "source": [
    "blotches= df[df.image_id=='APF00002sx']"
   ]
  },
  {
   "cell_type": "code",
   "execution_count": 29,
   "metadata": {
    "collapsed": false
   },
   "outputs": [
    {
     "data": {
      "text/plain": [
       "<module 'planet4.markings' from '/Users/klay6683/Dropbox/src/P4_sandbox/planet4/markings.py'>"
      ]
     },
     "execution_count": 29,
     "metadata": {},
     "output_type": "execute_result"
    }
   ],
   "source": [
    "reload(markings)"
   ]
  },
  {
   "cell_type": "code",
   "execution_count": 39,
   "metadata": {
    "collapsed": false
   },
   "outputs": [],
   "source": [
    "p4id = markings.ImageID('APF00002sx')"
   ]
  },
  {
   "cell_type": "code",
   "execution_count": 35,
   "metadata": {
    "collapsed": true
   },
   "outputs": [],
   "source": [
    "%matplotlib qt"
   ]
  },
  {
   "cell_type": "code",
   "execution_count": 41,
   "metadata": {
    "collapsed": false
   },
   "outputs": [],
   "source": [
    "p4id.plot_blotches(blotches=blotches)"
   ]
  },
  {
   "cell_type": "code",
   "execution_count": 14,
   "metadata": {
    "collapsed": false
   },
   "outputs": [],
   "source": [
    "def cluster_p4_id(image_id):\n",
    "    imgid = markings.ImageID(image_id)\n",
    "    reduced_blotches = clustering.perform_dbscan(imgid.get_blotches())\n",
    "    series = [b.data for b in reduced_blotches]\n",
    "    df = pd.DataFrame(series)\n",
    "    df['image_id'] = image_id\n",
    "    return df"
   ]
  },
  {
   "cell_type": "code",
   "execution_count": null,
   "metadata": {
    "collapsed": false
   },
   "outputs": [],
   "source": []
  }
 ],
 "metadata": {
  "kernelspec": {
   "display_name": "Python 3",
   "language": "python",
   "name": "python3"
  },
  "language_info": {
   "codemirror_mode": {
    "name": "ipython",
    "version": 3
   },
   "file_extension": ".py",
   "mimetype": "text/x-python",
   "name": "python",
   "nbconvert_exporter": "python",
   "pygments_lexer": "ipython3",
   "version": "3.4.3"
  }
 },
 "nbformat": 4,
 "nbformat_minor": 0
}
