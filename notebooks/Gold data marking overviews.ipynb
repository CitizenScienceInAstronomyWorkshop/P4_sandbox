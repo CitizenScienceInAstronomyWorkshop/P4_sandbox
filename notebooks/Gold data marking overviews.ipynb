{
 "cells": [
  {
   "cell_type": "code",
   "execution_count": 4,
   "metadata": {
    "collapsed": true
   },
   "outputs": [],
   "source": [
    "import matplotlib\n",
    "matplotlib.use('Agg')\n",
    "import matplotlib.pyplot as plt"
   ]
  },
  {
   "cell_type": "code",
   "execution_count": 2,
   "metadata": {
    "collapsed": false
   },
   "outputs": [
    {
     "data": {
      "text/plain": [
       "['APF0000jtr', 'APF0000n2n', 'APF00001nv', 'APF00001fn', 'APF00001yp']"
      ]
     },
     "execution_count": 2,
     "metadata": {},
     "output_type": "execute_result"
    }
   ],
   "source": [
    "with open(\"/Users/maye/Dropbox/DDocuments/planet4/P4_generate_plots_list.txt\") as f:\n",
    "    apfids = f.readlines()\n",
    "apfids = [i.strip() for i in apfids if i.startswith('APF')]\n",
    "apfids[:5]"
   ]
  },
  {
   "cell_type": "code",
   "execution_count": 3,
   "metadata": {
    "collapsed": true
   },
   "outputs": [],
   "source": [
    "from planet4 import markings"
   ]
  },
  {
   "cell_type": "code",
   "execution_count": 19,
   "metadata": {
    "collapsed": false
   },
   "outputs": [
    {
     "data": {
      "text/plain": [
       "93"
      ]
     },
     "execution_count": 19,
     "metadata": {},
     "output_type": "execute_result"
    }
   ],
   "source": [
    "len(apfids)"
   ]
  },
  {
   "cell_type": "code",
   "execution_count": 20,
   "metadata": {
    "collapsed": false
   },
   "outputs": [],
   "source": [
    "import numpy as np\n",
    "apfids = np.unique(np.array(apfids))"
   ]
  },
  {
   "cell_type": "code",
   "execution_count": 22,
   "metadata": {
    "collapsed": false
   },
   "outputs": [
    {
     "name": "stdout",
     "output_type": "stream",
     "text": [
      "0\n",
      "1\n",
      "3\n",
      "4\n",
      "6\n",
      "8\n",
      "9\n",
      "11\n",
      "12\n",
      "14\n",
      "16\n",
      "17\n",
      "19\n",
      "20\n",
      "22\n",
      "24\n",
      "25\n",
      "27\n",
      "29\n",
      "30\n",
      "32\n",
      "33\n",
      "35\n",
      "37\n",
      "38\n",
      "40\n",
      "41\n",
      "43\n",
      "45\n",
      "46\n",
      "48\n",
      "50\n",
      "51\n",
      "53\n",
      "54\n",
      "56\n",
      "58\n",
      "59\n",
      "61\n",
      "62\n",
      "64\n",
      "66\n",
      "67\n",
      "69\n",
      "70\n",
      "72\n",
      "74\n",
      "75\n",
      "77\n",
      "79\n",
      "80\n",
      "82\n",
      "83\n",
      "85\n",
      "87\n",
      "88\n",
      "90\n",
      "91\n",
      "93\n",
      "95\n",
      "96\n",
      "98\n"
     ]
    }
   ],
   "source": [
    "savepath = \"/Users/maye/Dropbox/DDocuments/planet4/gold_member_comparisons/\"\n",
    "for i,apfid in enumerate(apfids):\n",
    "    print(100*i/len(apfids))\n",
    "    imgid = markings.ImageID(apfid)\n",
    "    for func in [imgid.plot_blotches, imgid.plot_fans]:\n",
    "        fig, axes = plt.subplots(2, 2, figsize=(10,8))\n",
    "        axes = axes.ravel()\n",
    "        fig.suptitle(str(i).zfill(2)+' '+func.__name__.split('_')[1]+' '+apfid)\n",
    "        func(ax=axes[0], without_users=markings.gold_members)\n",
    "        axes[0].set_title('All citizens without gold_members')\n",
    "        for goldstar, ax in zip(markings.gold_members[:3], axes[1:]):\n",
    "            func(ax=ax, user_name=goldstar)\n",
    "            ax.set_title(goldstar)\n",
    "        fname = \"{number}_{apfid}_{kind}.png\".format(number=str(i).zfill(2),\n",
    "                                                     apfid=apfid,\n",
    "                                                     kind=func.__name__.split('_')[1])\n",
    "        plt.savefig(savepath+fname, dpi=150)\n",
    "        plt.close(fig)"
   ]
  },
  {
   "cell_type": "code",
   "execution_count": null,
   "metadata": {
    "collapsed": true
   },
   "outputs": [],
   "source": []
  }
 ],
 "metadata": {
  "kernelspec": {
   "display_name": "Python 2",
   "name": "python2"
  },
  "language_info": {
   "codemirror_mode": {
    "name": "ipython",
    "version": 2
   },
   "file_extension": ".py",
   "mimetype": "text/x-python",
   "name": "python",
   "nbconvert_exporter": "python",
   "pygments_lexer": "ipython2",
   "version": "2.7.9"
  }
 },
 "nbformat": 4,
 "nbformat_minor": 0
}