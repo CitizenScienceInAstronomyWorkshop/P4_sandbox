{
 "cells": [
  {
   "cell_type": "code",
   "execution_count": 1,
   "metadata": {
    "collapsed": false
   },
   "outputs": [],
   "source": [
    "from planet4 import region_data, get_data, helper_functions"
   ]
  },
  {
   "cell_type": "code",
   "execution_count": 2,
   "metadata": {
    "collapsed": false
   },
   "outputs": [
    {
     "data": {
      "text/plain": [
       "<module 'planet4.region_data' from '/Users/klay6683/Dropbox/src/P4_sandbox/planet4/region_data.py'>"
      ]
     },
     "execution_count": 2,
     "metadata": {},
     "output_type": "execute_result"
    }
   ],
   "source": [
    "region_data"
   ]
  },
  {
   "cell_type": "code",
   "execution_count": 3,
   "metadata": {
    "collapsed": false
   },
   "outputs": [],
   "source": [
    "def process_region(args):\n",
    "    from planet4 import region_data, get_data, helper_functions\n",
    "    regionclass, season = args\n",
    "    try:\n",
    "        imagenames = getattr(regionclass, season)\n",
    "    except AttributeError:\n",
    "        return \"No {} data for region {} in PlanetFour.\".format(season, regionclass)\n",
    "    print(imagenames)\n",
    "    df = get_data.get_list_of_image_names(imagenames)\n",
    "    return \"Status for {}, {}: {}\".format(regionclass,\n",
    "                                          season,\n",
    "                                          helper_functions.get_status_per_classifications(df))"
   ]
  },
  {
   "cell_type": "code",
   "execution_count": 4,
   "metadata": {
    "collapsed": false
   },
   "outputs": [],
   "source": [
    "processlist = []\n",
    "for season in ['season'+str(i) for i in range(1,5)]:\n",
    "    for region in [region_data.Manhattan]:\n",
    "        processlist.append((region, season))"
   ]
  },
  {
   "cell_type": "code",
   "execution_count": 4,
   "metadata": {
    "collapsed": true
   },
   "outputs": [],
   "source": [
    "from IPython.parallel import Client\n",
    "c = Client()\n",
    "lbview = c.load_balanced_view()"
   ]
  },
  {
   "cell_type": "code",
   "execution_count": 5,
   "metadata": {
    "collapsed": false
   },
   "outputs": [
    {
     "name": "stdout",
     "output_type": "stream",
     "text": [
      "<class 'planet4.region_data.Giza'>\n",
      "Status for <class 'planet4.region_data.Giza'>, season1: 16.5\n",
      "Status for <class 'planet4.region_data.Giza'>, season2: 285.6\n",
      "Status for <class 'planet4.region_data.Giza'>, season3: 280.8\n",
      "Status for <class 'planet4.region_data.Giza'>, season4: nan\n",
      "<class 'planet4.region_data.Inca'>\n",
      "Status for <class 'planet4.region_data.Inca'>, season1: 100.7\n",
      "Status for <class 'planet4.region_data.Inca'>, season2: 279.3\n",
      "Status for <class 'planet4.region_data.Inca'>, season3: 288.1\n",
      "Status for <class 'planet4.region_data.Inca'>, season4: 99.5\n",
      "<class 'planet4.region_data.Ithaca'>\n",
      "Status for <class 'planet4.region_data.Ithaca'>, season1: 55.9\n",
      "Status for <class 'planet4.region_data.Ithaca'>, season2: 276.9\n",
      "Status for <class 'planet4.region_data.Ithaca'>, season3: 274.6\n",
      "No season4 data for region <class 'planet4.region_data.Ithaca'> in PlanetFour.\n",
      "<class 'planet4.region_data.Manhattan'>\n",
      "Status for <class 'planet4.region_data.Manhattan'>, season1: 25.7\n",
      "No season2 data for region <class 'planet4.region_data.Manhattan'> in PlanetFour.\n",
      "No season3 data for region <class 'planet4.region_data.Manhattan'> in PlanetFour.\n",
      "Status for <class 'planet4.region_data.Manhattan'>, season4: 42.8\n",
      "<class 'planet4.region_data.Manhattan2'>\n",
      "Status for <class 'planet4.region_data.Manhattan2'>, season1: 100.1\n",
      "Status for <class 'planet4.region_data.Manhattan2'>, season2: 285.5\n",
      "Status for <class 'planet4.region_data.Manhattan2'>, season3: 278.9\n",
      "Status for <class 'planet4.region_data.Manhattan2'>, season4: 41.4\n"
     ]
    }
   ],
   "source": [
    "import sys\n",
    "for region in region_data.regions:\n",
    "    print(region)\n",
    "    sys.stdout.flush()\n",
    "    processlist = []\n",
    "    for season in ['season'+str(i) for i in range(1,5)]:\n",
    "        processlist.append((region, season))\n",
    "    res = lbview.map_async(process_region, processlist)\n",
    "    for result in res.result:\n",
    "        print(result)"
   ]
  },
  {
   "cell_type": "code",
   "execution_count": 7,
   "metadata": {
    "collapsed": false,
    "scrolled": true
   },
   "outputs": [
    {
     "name": "stdout",
     "output_type": "stream",
     "text": [
      "Status for <class 'planet4.region_data.Manhattan'>, season1: 25.7\n",
      "No season2 data for region <class 'planet4.region_data.Manhattan'> in PlanetFour.\n",
      "No season3 data for region <class 'planet4.region_data.Manhattan'> in PlanetFour.\n",
      "Status for <class 'planet4.region_data.Manhattan'>, season4: 42.8\n"
     ]
    }
   ],
   "source": [
    "for result in res.result:\n",
    "    print(result)"
   ]
  },
  {
   "cell_type": "code",
   "execution_count": 16,
   "metadata": {
    "collapsed": false,
    "scrolled": true
   },
   "outputs": [
    {
     "name": "stdout",
     "output_type": "stream",
     "text": [
      "Status for <class 'planet4.region_data.Manhattan2'>, season1: 100.0\n",
      "Status for <class 'planet4.region_data.Manhattan2'>, season2: 100.0\n",
      "Status for <class 'planet4.region_data.Manhattan2'>, season3: 100.0\n",
      "Status for <class 'planet4.region_data.Manhattan2'>, season4: 0.0\n"
     ]
    }
   ],
   "source": [
    "for result in res.result:\n",
    "    print(result)"
   ]
  },
  {
   "cell_type": "code",
   "execution_count": 13,
   "metadata": {
    "collapsed": false,
    "scrolled": true
   },
   "outputs": [
    {
     "name": "stdout",
     "output_type": "stream",
     "text": [
      "Status for <class 'planet4.region_data.Giza'>, season1: 0.0\n",
      "Status for <class 'planet4.region_data.Giza'>, season2: 100.0\n",
      "Status for <class 'planet4.region_data.Giza'>, season3: 100.0\n",
      "Status for <class 'planet4.region_data.Giza'>, season4: nan\n"
     ]
    }
   ],
   "source": [
    "for result in res.result:\n",
    "    print(result)"
   ]
  },
  {
   "cell_type": "code",
   "execution_count": 10,
   "metadata": {
    "collapsed": false,
    "scrolled": true
   },
   "outputs": [
    {
     "name": "stdout",
     "output_type": "stream",
     "text": [
      "Status for <class 'planet4.region_data.Inca'>, season1: 99.8\n",
      "Status for <class 'planet4.region_data.Inca'>, season2: 100.0\n",
      "Status for <class 'planet4.region_data.Inca'>, season3: 100.0\n",
      "Status for <class 'planet4.region_data.Inca'>, season4: 94.8\n"
     ]
    }
   ],
   "source": [
    "for result in res.result:\n",
    "    print(result)"
   ]
  },
  {
   "cell_type": "code",
   "execution_count": 7,
   "metadata": {
    "collapsed": false,
    "scrolled": true
   },
   "outputs": [
    {
     "name": "stdout",
     "output_type": "stream",
     "text": [
      "Status for <class 'planet4.region_data.Ithaca'>, season1: 4.9\n",
      "Status for <class 'planet4.region_data.Ithaca'>, season2: 100.0\n",
      "Status for <class 'planet4.region_data.Ithaca'>, season3: 100.0\n",
      "No season4 data for region <class 'planet4.region_data.Ithaca'> in PlanetFour.\n"
     ]
    }
   ],
   "source": [
    "for result in res.result:\n",
    "    print(result)"
   ]
  },
  {
   "cell_type": "code",
   "execution_count": null,
   "metadata": {
    "collapsed": true
   },
   "outputs": [],
   "source": []
  },
  {
   "cell_type": "code",
   "execution_count": null,
   "metadata": {
    "collapsed": true
   },
   "outputs": [],
   "source": []
  }
 ],
 "metadata": {
  "kernelspec": {
   "display_name": "Python 3",
   "language": "python",
   "name": "python3"
  },
  "language_info": {
   "codemirror_mode": {
    "name": "ipython",
    "version": 3
   },
   "file_extension": ".py",
   "mimetype": "text/x-python",
   "name": "python",
   "nbconvert_exporter": "python",
   "pygments_lexer": "ipython3",
   "version": "3.4.3"
  }
 },
 "nbformat": 4,
 "nbformat_minor": 0
}
