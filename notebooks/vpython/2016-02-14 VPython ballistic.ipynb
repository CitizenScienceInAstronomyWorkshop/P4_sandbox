{
 "cells": [
  {
   "cell_type": "code",
   "execution_count": null,
   "metadata": {
    "collapsed": false
   },
   "outputs": [],
   "source": [
    "from vpython import sphere, canvas, box, vec, color, rate\n",
    "import math\n",
    "math.tau = np.tau = 2*math.pi"
   ]
  },
  {
   "cell_type": "code",
   "execution_count": null,
   "metadata": {
    "collapsed": true
   },
   "outputs": [],
   "source": [
    "def cart2pol(vec):\n",
    "    theta = np.arctan2(vec[:, 1], vec[:, 0])\n",
    "    rho = np.hypot(vec[:, 0], vec[:, 1])\n",
    "    return theta, rho\n",
    "\n",
    "def pol2cart(theta, rho):\n",
    "    x = rho * np.cos(theta)\n",
    "    y = rho * np.sin(theta)\n",
    "    return x, y"
   ]
  },
  {
   "cell_type": "code",
   "execution_count": null,
   "metadata": {
    "collapsed": false
   },
   "outputs": [],
   "source": [
    "win=600\n",
    "L = 30. # container is a cube L on a side\n",
    "gray = vec(0.7,0.7,0.7)  # color of edges of container\n",
    "up = vec(0, 0, 1)"
   ]
  },
  {
   "cell_type": "code",
   "execution_count": null,
   "metadata": {
    "collapsed": false,
    "scrolled": false
   },
   "outputs": [],
   "source": [
    "scene = canvas(title=\"Fans\", width=win, height=win, x=0, y=0,\n",
    "               center=vec(0, 0, 0), forward=vec(1,0,-1),\n",
    "               up=up)\n",
    "scene.autoscale = False\n",
    "scene.range = 25\n",
    "\n",
    "h = 0.1\n",
    "mybox = box(pos=vec(0, 0, -h/2), length=L, height=h, width=L, up=up, color=color.white)\n",
    "\n",
    "m = 1  # kg\n",
    "radius = 0.1  # arbitrary for now\n",
    "dt = 1e-2\n",
    "start = vec(0, 0, radius)\n",
    "v0 = vec(0, 0, 100)\n",
    "g_M = vec(0, 0, -3.8)\n",
    "g_E = vec(0, 0, -9.81)\n",
    "Fg = m*g_E\n",
    "particles =[]\n",
    "N=500\n",
    "radii = np.random.uniform(-1, 1, N)\n",
    "thetas = np.random.uniform(0, np.tau, N)\n",
    "X,Y = pol2cart(thetas, radii)\n",
    "vxvy = np.random.uniform(-3,3, (N, 2))\n",
    "for x,y,(vx,vy) in zip(X, Y, vxvy):\n",
    "    pos = vec(x, y, radius/2)\n",
    "    p = sphere(pos=pos, radius=radius, color=color.red)\n",
    "    p.v = vec(2*x, 2*y, 20)\n",
    "    p.update = True  # to determine if needs position update\n",
    "    particles.append(p)"
   ]
  },
  {
   "cell_type": "code",
   "execution_count": null,
   "metadata": {
    "collapsed": false
   },
   "outputs": [],
   "source": [
    "t=0\n",
    "vp0 = []\n",
    "while True:\n",
    "    rate(50)\n",
    "    \n",
    "    # update position first\n",
    "    for p in particles:\n",
    "        if p.update:\n",
    "            p.pos += p.v*dt\n",
    "        if p.pos.z < start.z:\n",
    "            p.update = False\n",
    "        p.v += g_E*dt\n",
    "    t+=dt\n",
    "    vp0.append(np.array(list(particles[0].v.__dict__.values())))\n",
    "    if all([not p.update for p in particles]):\n",
    "        print('Done.')\n",
    "        break"
   ]
  },
  {
   "cell_type": "code",
   "execution_count": null,
   "metadata": {
    "collapsed": false
   },
   "outputs": [],
   "source": [
    "vp0 = np.array(vp0)"
   ]
  },
  {
   "cell_type": "code",
   "execution_count": null,
   "metadata": {
    "collapsed": false
   },
   "outputs": [],
   "source": [
    "plt.plot(np.linalg.norm(vp0, axis=1))"
   ]
  },
  {
   "cell_type": "code",
   "execution_count": null,
   "metadata": {
    "collapsed": false
   },
   "outputs": [],
   "source": [
    "np.array(vp0)"
   ]
  },
  {
   "cell_type": "code",
   "execution_count": null,
   "metadata": {
    "collapsed": false
   },
   "outputs": [],
   "source": [
    "v = np.append(vxvy, vxvy.shape[0]*[[20]], axis=1)"
   ]
  },
  {
   "cell_type": "code",
   "execution_count": null,
   "metadata": {
    "collapsed": false
   },
   "outputs": [],
   "source": [
    "v2d = vxvy"
   ]
  },
  {
   "cell_type": "code",
   "execution_count": null,
   "metadata": {
    "collapsed": false
   },
   "outputs": [],
   "source": [
    "v_r, v_theta = cart2pol(v2d)"
   ]
  },
  {
   "cell_type": "code",
   "execution_count": null,
   "metadata": {
    "collapsed": false
   },
   "outputs": [],
   "source": [
    "degrees = np.rad2deg(thetas)"
   ]
  },
  {
   "cell_type": "code",
   "execution_count": null,
   "metadata": {
    "collapsed": false
   },
   "outputs": [],
   "source": [
    "plt.hist(degrees, 100);"
   ]
  },
  {
   "cell_type": "code",
   "execution_count": null,
   "metadata": {
    "collapsed": true
   },
   "outputs": [],
   "source": [
    "np.lib?"
   ]
  },
  {
   "cell_type": "code",
   "execution_count": null,
   "metadata": {
    "collapsed": true
   },
   "outputs": [],
   "source": [
    "%matplotlib nbagg"
   ]
  },
  {
   "cell_type": "code",
   "execution_count": null,
   "metadata": {
    "collapsed": true
   },
   "outputs": [],
   "source": [
    "mean = [0,0]\n",
    "cov = [[1, 0], [0, 1]]"
   ]
  },
  {
   "cell_type": "code",
   "execution_count": null,
   "metadata": {
    "collapsed": true
   },
   "outputs": [],
   "source": [
    "x, y = np.random.multivariate_normal(mean, cov, 5000).T"
   ]
  },
  {
   "cell_type": "code",
   "execution_count": null,
   "metadata": {
    "collapsed": false
   },
   "outputs": [],
   "source": [
    "plt.figure(figsize=(6,6))\n",
    "plt.plot(x, y, 'x')\n",
    "# plt.axis('equal')"
   ]
  },
  {
   "cell_type": "code",
   "execution_count": null,
   "metadata": {
    "collapsed": true
   },
   "outputs": [],
   "source": []
  }
 ],
 "metadata": {
  "kernelspec": {
   "display_name": "Python 3",
   "language": "python",
   "name": "python3"
  },
  "language_info": {
   "codemirror_mode": {
    "name": "ipython",
    "version": 3
   },
   "file_extension": ".py",
   "mimetype": "text/x-python",
   "name": "python",
   "nbconvert_exporter": "python",
   "pygments_lexer": "ipython3",
   "version": "3.5.1"
  }
 },
 "nbformat": 4,
 "nbformat_minor": 0
}
