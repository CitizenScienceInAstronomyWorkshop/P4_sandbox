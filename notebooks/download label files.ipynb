{
 "cells": [
  {
   "cell_type": "markdown",
   "metadata": {
    "toc": "true"
   },
   "source": [
    "<h1>Table of Contents<span class=\"tocSkip\"></span></h1>\n",
    "<div class=\"toc\" style=\"margin-top: 1em;\"><ul class=\"toc-item\"></ul></div>"
   ]
  },
  {
   "cell_type": "code",
   "execution_count": 1,
   "metadata": {
    "ExecuteTime": {
     "end_time": "2017-10-30T23:19:13.144278Z",
     "start_time": "2017-10-30T23:19:13.126352Z"
    }
   },
   "outputs": [],
   "source": [
    "from planet4 import region_data"
   ]
  },
  {
   "cell_type": "code",
   "execution_count": 2,
   "metadata": {
    "ExecuteTime": {
     "end_time": "2017-10-30T23:19:14.843988Z",
     "start_time": "2017-10-30T23:19:14.451350Z"
    }
   },
   "outputs": [],
   "source": [
    "from hirise_tools.downloads import get_rdr_color_label, download_RED_product\n",
    "import hirise_tools as ht"
   ]
  },
  {
   "cell_type": "code",
   "execution_count": 19,
   "metadata": {
    "ExecuteTime": {
     "end_time": "2017-10-31T01:55:58.597288Z",
     "start_time": "2017-10-31T01:55:58.577536Z"
    }
   },
   "outputs": [],
   "source": [
    "# regions = ['Giza', 'Ithaca', 'Manhattan2', 'Inca']\n",
    "# regions.remove('Inca')\n",
    "regions = ['Potsdam']\n"
   ]
  },
  {
   "cell_type": "code",
   "execution_count": 20,
   "metadata": {
    "ExecuteTime": {
     "end_time": "2017-10-31T01:55:59.492157Z",
     "start_time": "2017-10-31T01:55:59.471956Z"
    }
   },
   "outputs": [],
   "source": [
    "seasons = ['season2', 'season3']"
   ]
  },
  {
   "cell_type": "code",
   "execution_count": 14,
   "metadata": {},
   "outputs": [
    {
     "name": "stdout",
     "output_type": "stream",
     "text": [
      "Downloading\n",
      " http://hirise-pds.lpl.arizona.edu/PDS/RDR/ESP/ORB_011400_011499/ESP_011447_0950/ESP_011447_0950_COLOR.LBL to\n",
      " /Users/klay6683/Dropbox/data/hirise/labels/ESP_011447_0950_COLOR.LBL\n"
     ]
    }
   ],
   "source": [
    "get_rdr_color_label(obsid)"
   ]
  },
  {
   "cell_type": "code",
   "execution_count": 5,
   "metadata": {
    "ExecuteTime": {
     "end_time": "2017-10-30T23:19:45.688385Z",
     "start_time": "2017-10-30T23:19:45.658999Z"
    }
   },
   "outputs": [],
   "source": [
    "root = '/Volumes/Data/hirise/p4_input'"
   ]
  },
  {
   "cell_type": "code",
   "execution_count": 11,
   "metadata": {
    "ExecuteTime": {
     "end_time": "2017-10-31T00:37:48.508682Z",
     "start_time": "2017-10-31T00:37:48.476992Z"
    }
   },
   "outputs": [],
   "source": [
    "from nbtools import execute_in_parallel"
   ]
  },
  {
   "cell_type": "code",
   "execution_count": 21,
   "metadata": {
    "ExecuteTime": {
     "end_time": "2017-10-31T01:56:05.244024Z",
     "start_time": "2017-10-31T01:56:03.168260Z"
    },
    "scrolled": false
   },
   "outputs": [
    {
     "name": "stdout",
     "output_type": "stream",
     "text": [
      "Potsdam\n",
      "season2\n"
     ]
    },
    {
     "data": {
      "application/vnd.jupyter.widget-view+json": {
       "model_id": "2b9b4e5f9c4c4b92bb1865531c7cd7cf",
       "version_major": 2,
       "version_minor": 0
      },
      "text/html": [
       "<p>Failed to display Jupyter Widget of type <code>IntProgress</code>.</p>\n",
       "<p>\n",
       "  If you're reading this message in Jupyter Notebook or JupyterLab, it may mean\n",
       "  that the widgets JavaScript is still loading. If this message persists, it\n",
       "  likely means that the widgets JavaScript library is either not installed or\n",
       "  not enabled. See the <a href=\"https://ipywidgets.readthedocs.io/en/stable/user_install.html\">Jupyter\n",
       "  Widgets Documentation</a> for setup instructions.\n",
       "</p>\n",
       "<p>\n",
       "  If you're reading this message in another notebook frontend (for example, a static\n",
       "  rendering on GitHub or <a href=\"https://nbviewer.jupyter.org/\">NBViewer</a>),\n",
       "  it may mean that your frontend doesn't currently support widgets.\n",
       "</p>\n"
      ],
      "text/plain": [
       "IntProgress(value=0, max=6)"
      ]
     },
     "metadata": {},
     "output_type": "display_data"
    },
    {
     "data": {
      "text/plain": [
       "<AsyncMapResult: get_rdr_color_label:finished>"
      ]
     },
     "execution_count": 21,
     "metadata": {},
     "output_type": "execute_result"
    },
    {
     "name": "stdout",
     "output_type": "stream",
     "text": [
      "season3\n"
     ]
    },
    {
     "data": {
      "application/vnd.jupyter.widget-view+json": {
       "model_id": "530ea4de7d9f440f9a1d50191ef256f3",
       "version_major": 2,
       "version_minor": 0
      },
      "text/html": [
       "<p>Failed to display Jupyter Widget of type <code>IntProgress</code>.</p>\n",
       "<p>\n",
       "  If you're reading this message in Jupyter Notebook or JupyterLab, it may mean\n",
       "  that the widgets JavaScript is still loading. If this message persists, it\n",
       "  likely means that the widgets JavaScript library is either not installed or\n",
       "  not enabled. See the <a href=\"https://ipywidgets.readthedocs.io/en/stable/user_install.html\">Jupyter\n",
       "  Widgets Documentation</a> for setup instructions.\n",
       "</p>\n",
       "<p>\n",
       "  If you're reading this message in another notebook frontend (for example, a static\n",
       "  rendering on GitHub or <a href=\"https://nbviewer.jupyter.org/\">NBViewer</a>),\n",
       "  it may mean that your frontend doesn't currently support widgets.\n",
       "</p>\n"
      ],
      "text/plain": [
       "IntProgress(value=0, max=8)"
      ]
     },
     "metadata": {},
     "output_type": "display_data"
    },
    {
     "data": {
      "text/plain": [
       "<AsyncMapResult: get_rdr_color_label:finished>"
      ]
     },
     "execution_count": 21,
     "metadata": {},
     "output_type": "execute_result"
    }
   ],
   "source": [
    "for region in regions:\n",
    "    print(region)\n",
    "    for season in seasons:\n",
    "        print(season)\n",
    "        reg = getattr(region_data, region)\n",
    "        seas = getattr(reg, season)\n",
    "        execute_in_parallel(get_rdr_color_label, seas)"
   ]
  },
  {
   "cell_type": "code",
   "execution_count": 12,
   "metadata": {
    "collapsed": true
   },
   "outputs": [],
   "source": [
    "def get_p4_hirise_data(obsid):\n",
    "    from hirise_tools.downloads import download_RED_product\n",
    "    root = '/Volumes/Data/hirise/p4_input'\n",
    "    for ccdno in [4,5]:\n",
    "        for channel in [0, 1]:\n",
    "            download_RED_product(obsid, ccdno, channel, saveroot=root)"
   ]
  },
  {
   "cell_type": "code",
   "execution_count": 13,
   "metadata": {
    "scrolled": false
   },
   "outputs": [
    {
     "name": "stdout",
     "output_type": "stream",
     "text": [
      "Giza\n",
      "season2\n"
     ]
    },
    {
     "data": {
      "text/plain": [
       "<AsyncMapResult: get_p4_hirise_data>"
      ]
     },
     "execution_count": 13,
     "metadata": {},
     "output_type": "execute_result"
    },
    {
     "name": "stdout",
     "output_type": "stream",
     "text": [
      "season3\n"
     ]
    },
    {
     "data": {
      "text/plain": [
       "<AsyncMapResult: get_p4_hirise_data>"
      ]
     },
     "execution_count": 13,
     "metadata": {},
     "output_type": "execute_result"
    },
    {
     "name": "stdout",
     "output_type": "stream",
     "text": [
      "Ithaca\n",
      "season2\n"
     ]
    },
    {
     "data": {
      "text/plain": [
       "<AsyncMapResult: get_p4_hirise_data>"
      ]
     },
     "execution_count": 13,
     "metadata": {},
     "output_type": "execute_result"
    },
    {
     "name": "stdout",
     "output_type": "stream",
     "text": [
      "season3\n"
     ]
    },
    {
     "data": {
      "text/plain": [
       "<AsyncMapResult: get_p4_hirise_data>"
      ]
     },
     "execution_count": 13,
     "metadata": {},
     "output_type": "execute_result"
    },
    {
     "name": "stdout",
     "output_type": "stream",
     "text": [
      "Manhattan2\n",
      "season2\n"
     ]
    },
    {
     "data": {
      "text/plain": [
       "<AsyncMapResult: get_p4_hirise_data>"
      ]
     },
     "execution_count": 13,
     "metadata": {},
     "output_type": "execute_result"
    },
    {
     "name": "stdout",
     "output_type": "stream",
     "text": [
      "season3\n"
     ]
    },
    {
     "data": {
      "text/plain": [
       "<AsyncMapResult: get_p4_hirise_data>"
      ]
     },
     "execution_count": 13,
     "metadata": {},
     "output_type": "execute_result"
    }
   ],
   "source": [
    "from nbtools import display_multi_progress\n",
    "for region in regions:\n",
    "    print(region)\n",
    "    for season in seasons:\n",
    "        print(season)\n",
    "        reg = getattr(region_data, region)\n",
    "        seas = getattr(reg, season)\n",
    "        lbview.map_async(get_p4_hirise_data, seas)\n",
    "        display_multi_progress?"
   ]
  },
  {
   "cell_type": "code",
   "execution_count": 24,
   "metadata": {
    "scrolled": false
   },
   "outputs": [
    {
     "name": "stdout",
     "output_type": "stream",
     "text": [
      "Giza\n",
      "season2\n",
      "['ESP_011447_0950', 'ESP_011448_0950', 'ESP_011777_0950', 'ESP_011843_0950', 'ESP_012212_0950', 'ESP_012265_0950', 'ESP_012344_0950', 'ESP_012704_0850', 'ESP_012753_0950', 'ESP_012836_0850', 'ESP_012845_0950']\n",
      "season3\n",
      "['ESP_020150_0950', 'ESP_020401_0950', 'ESP_020480_0950', 'ESP_020783_0950', 'ESP_020902_0950', 'ESP_021482_0950', 'ESP_022273_0950']\n",
      "Ithaca\n",
      "season2\n",
      "['ESP_011350_0945', 'ESP_011351_0945', 'ESP_011403_0945', 'ESP_011404_0945', 'ESP_011931_0945', 'ESP_012063_0945', 'ESP_012076_0945', 'ESP_012643_0945', 'ESP_012854_0945', 'ESP_012858_0855']\n",
      "season3\n",
      "['ESP_020146_0950', 'ESP_020357_0950', 'ESP_020476_0950', 'ESP_020568_0950', 'ESP_020779_0950', 'ESP_021491_0950']\n",
      "Manhattan2\n",
      "season2\n",
      "['ESP_011394_0935', 'ESP_011671_0935', 'ESP_011961_0935', 'ESP_012251_0935', 'ESP_012739_0935', 'ESP_012821_0865', 'ESP_012884_0935', 'ESP_013016_0935', 'ESP_013095_0935']\n",
      "season3\n",
      "['ESP_020202_0935', 'ESP_020214_0935', 'ESP_020255_0935', 'ESP_020321_0935', 'ESP_020519_0935', 'ESP_020532_0935', 'ESP_020598_0935', 'ESP_020888_0935', 'ESP_020954_0935', 'ESP_021455_0935', 'ESP_021468_0935', 'ESP_021495_0935', 'ESP_022260_0935', 'ESP_022339_0935']\n"
     ]
    }
   ],
   "source": [
    "for region in regions:\n",
    "    print(region)\n",
    "    for season in seasons:\n",
    "        print(season)\n",
    "        reg = getattr(region_data, region)\n",
    "        seas = getattr(reg, season)\n",
    "        print(sorted(seas))"
   ]
  },
  {
   "cell_type": "code",
   "execution_count": null,
   "metadata": {
    "collapsed": true
   },
   "outputs": [],
   "source": []
  }
 ],
 "metadata": {
  "kernelspec": {
   "display_name": "Python [conda env:stable]",
   "language": "python",
   "name": "conda-env-stable-py"
  },
  "language_info": {
   "codemirror_mode": {
    "name": "ipython",
    "version": 3
   },
   "file_extension": ".py",
   "mimetype": "text/x-python",
   "name": "python",
   "nbconvert_exporter": "python",
   "pygments_lexer": "ipython3",
   "version": "3.6.3"
  },
  "toc": {
   "nav_menu": {
    "height": "12px",
    "width": "252px"
   },
   "number_sections": false,
   "sideBar": false,
   "skip_h1_title": false,
   "toc_cell": true,
   "toc_position": {},
   "toc_section_display": "block",
   "toc_window_display": true
  }
 },
 "nbformat": 4,
 "nbformat_minor": 1
}
