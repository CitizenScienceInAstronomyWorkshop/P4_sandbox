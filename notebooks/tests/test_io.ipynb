{
 "cells": [
  {
   "cell_type": "code",
   "execution_count": null,
   "metadata": {},
   "outputs": [],
   "source": [
    "# setup\n",
    "from planet4 import io\n",
    "import tempfile\n",
    "import numpy as np\n",
    "import planet4 as p4\n",
    "from pathlib import Path\n",
    "import datetime as dt\n",
    "from numpy.testing import assert_array_equal\n",
    "import datetime as dt\n",
    "import pytest\n",
    "import pkg_resources as pr\n",
    "\n",
    "datapath = Path(pr.resource_filename('planet4', 'data'))"
   ]
  },
  {
   "cell_type": "code",
   "execution_count": null,
   "metadata": {},
   "outputs": [],
   "source": [
    "# test_P4DBName\n",
    "name = '2015-10-21_planet_four_classifications.csv'\n",
    "p4db = io.P4DBName(name)\n",
    "assert p4db.name == name\n",
    "assert p4db.p == Path(name)\n",
    "assert p4db.parent == Path('.')\n",
    "assert p4db.date == dt.datetime(2015, 10, 21)"
   ]
  },
  {
   "cell_type": "code",
   "execution_count": null,
   "metadata": {},
   "outputs": [],
   "source": [
    "# test_get_image_names_from_db\n",
    "result = io.get_image_names_from_db(datapath / 'test_db.csv')\n",
    "expected = np.array(['APF000012q', 'APF000012w'])\n",
    "assert_array_equal(expected, result)"
   ]
  },
  {
   "cell_type": "code",
   "execution_count": null,
   "metadata": {},
   "outputs": [],
   "source": [
    "# test_get_latest_file\n",
    "l = ['2015-12-01_test.h5','2015-11-01_test.h5']\n",
    "assert io.get_latest_file(l) == Path(l[0])\n",
    "# empty list should raise NoFilesFoundError\n",
    "with pytest.raises(p4.exceptions.NoFilesFoundError):\n",
    "    io.get_latest_file([])"
   ]
  },
  {
   "cell_type": "code",
   "execution_count": null,
   "metadata": {},
   "outputs": [],
   "source": [
    "# test_PathManager_missing_id_\n",
    "pm = io.PathManager('/tmp')\n",
    "# testing exceptions\n",
    "with pytest.raises(TypeError):\n",
    "    assert pm.fanfile == Path('/tmp/ABC0001234_fans.hdf')\n",
    "    assert pm.blotchfile == Path('/tmp/ABC0001234_blotches.hdf')\n",
    "    assert pm.fnotchfile == Path('/tmp/ABC0001234_fnotches.hdf')"
   ]
  },
  {
   "cell_type": "code",
   "execution_count": null,
   "metadata": {},
   "outputs": [],
   "source": [
    "# test_PathManager_default_setup\n",
    "pm = io.PathManager('/tmp')\n",
    "pm.id_ = 'ABC0001234'\n",
    "assert pm.fanfile == Path('/tmp/ABC0001234_fans.csv')\n",
    "assert pm.blotchfile == Path('/tmp/ABC0001234_blotches.csv')\n",
    "assert pm.fnotchfile == Path('/tmp/ABC0001234_fnotches.csv')"
   ]
  },
  {
   "cell_type": "code",
   "execution_count": null,
   "metadata": {},
   "outputs": [],
   "source": [
    "# test_PathManager_different_suffix\n",
    "pm = io.PathManager('/tmp', suffix='.hdf')\n",
    "pm.id_ = 'ABC0001234'\n",
    "assert pm.fanfile == Path('/tmp/ABC0001234_fans.hdf')\n",
    "assert pm.blotchfile == Path('/tmp/ABC0001234_blotches.hdf')\n",
    "assert pm.fnotchfile == Path('/tmp/ABC0001234_fnotches.hdf')"
   ]
  },
  {
   "cell_type": "code",
   "execution_count": null,
   "metadata": {},
   "outputs": [],
   "source": [
    "# test_PathManager_suffix_.csv\n",
    "pm = io.PathManager('/tmp', suffix='.csv')\n",
    "pm.id_ = 'ABC0001234'\n",
    "assert pm.fanfile == Path('/tmp/ABC0001234_fans.csv')\n",
    "assert pm.blotchfile == Path('/tmp/ABC0001234_blotches.csv')\n",
    "assert pm.fnotchfile == Path('/tmp/ABC0001234_fnotches.csv')"
   ]
  },
  {
   "cell_type": "code",
   "execution_count": null,
   "metadata": {},
   "outputs": [],
   "source": [
    "# test_PathManager_with_image_name\n",
    "image_name = 'PSP_012345_6789'\n",
    "pm = io.PathManager('/tmp', image_name=image_name, suffix='.csv')\n",
    "pm.id_ = 'ABC0001234'\n",
    "assert pm.fanfile == Path('/tmp/' + image_name + '/ABC0001234_fans.csv')"
   ]
  },
  {
   "cell_type": "code",
   "execution_count": null,
   "metadata": {},
   "outputs": [],
   "source": []
  }
 ],
 "metadata": {
  "anaconda-cloud": {},
  "kernelspec": {
   "display_name": "Python [conda env:mpl2]",
   "language": "python",
   "name": "conda-env-mpl2-py"
  },
  "language_info": {
   "codemirror_mode": {
    "name": "ipython",
    "version": 3
   },
   "file_extension": ".py",
   "mimetype": "text/x-python",
   "name": "python",
   "nbconvert_exporter": "python",
   "pygments_lexer": "ipython3",
   "version": "3.5.2"
  }
 },
 "nbformat": 4,
 "nbformat_minor": 1
}
