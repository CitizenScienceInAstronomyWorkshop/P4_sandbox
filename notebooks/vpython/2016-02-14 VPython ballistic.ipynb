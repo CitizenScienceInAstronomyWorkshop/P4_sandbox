{
 "cells": [
  {
   "cell_type": "code",
   "execution_count": null,
   "metadata": {
    "collapsed": false
   },
   "outputs": [],
   "source": [
    "from planet4 import FanSimulator"
   ]
  },
  {
   "cell_type": "code",
   "execution_count": null,
   "metadata": {
    "collapsed": true
   },
   "outputs": [],
   "source": [
    "from planet4.fansimulator import cart2pol"
   ]
  },
  {
   "cell_type": "code",
   "execution_count": null,
   "metadata": {
    "collapsed": true
   },
   "outputs": [],
   "source": [
    "%matplotlib inline\n",
    "\n",
    "import seaborn as sns\n",
    "sns.set_context('notebook', font_scale=1.3)"
   ]
  },
  {
   "cell_type": "code",
   "execution_count": null,
   "metadata": {
    "collapsed": true
   },
   "outputs": [],
   "source": [
    "r = np.linspace(0, 0.5, 100)"
   ]
  },
  {
   "cell_type": "code",
   "execution_count": null,
   "metadata": {
    "collapsed": true
   },
   "outputs": [],
   "source": [
    "v_laminar = FanSimulator.laminar_velocities(50, r, 0.5)"
   ]
  },
  {
   "cell_type": "code",
   "execution_count": null,
   "metadata": {
    "collapsed": true
   },
   "outputs": [],
   "source": [
    "v_turb = FanSimulator.turbulent_velocities(50, r, 0.5)"
   ]
  },
  {
   "cell_type": "code",
   "execution_count": null,
   "metadata": {
    "collapsed": false
   },
   "outputs": [],
   "source": [
    "plt.plot(r, v_laminar, label='laminar')\n",
    "plt.plot(r, v_turb, label='turb')\n",
    "plt.legend()"
   ]
  },
  {
   "cell_type": "code",
   "execution_count": null,
   "metadata": {
    "collapsed": false,
    "scrolled": false
   },
   "outputs": [],
   "source": [
    "simturb = FanSimulator(N=50000, vent_radius=0.5, vmax=50, is_turbulent=True)\n",
    "simturb.init_positions()\n",
    "simturb.init_velocities()\n",
    "simturb.incline_and_vary_jet(jitter=0.05, incline=2)\n",
    "simturb.loop()"
   ]
  },
  {
   "cell_type": "code",
   "execution_count": null,
   "metadata": {
    "collapsed": false,
    "scrolled": false
   },
   "outputs": [],
   "source": [
    "simlam = FanSimulator(N=50000, vent_radius=0.5, vmax=50, is_turbulent=False)\n",
    "simlam.init_positions()\n",
    "simlam.init_velocities()\n",
    "simlam.incline_and_vary_jet(jitter=0.05, incline=2)\n",
    "simlam.loop()"
   ]
  },
  {
   "cell_type": "code",
   "execution_count": null,
   "metadata": {
    "collapsed": false
   },
   "outputs": [],
   "source": [
    "fig, axes = plt.subplots(nrows=2, sharex=True)\n",
    "simlam.plot(ax=axes[0], alpha=0.02, label='laminar' )\n",
    "axes[0].set_xlabel('')\n",
    "simturb.plot(ax=axes[1], alpha=0.02, label='turbulent')\n",
    "for ax in axes:\n",
    "    ax.legend(fontsize=12)"
   ]
  },
  {
   "cell_type": "code",
   "execution_count": null,
   "metadata": {
    "collapsed": false
   },
   "outputs": [],
   "source": [
    "fig = plt.figure(figsize=(14,4))\n",
    "ax1 = plt.subplot2grid((2, 2), (0, 0), rowspan=2)\n",
    "ax2 = plt.subplot2grid((2, 2), (0, 1))\n",
    "ax3 = plt.subplot2grid((2, 2), (1, 1))\n",
    "ax1.plot(r, v_laminar, '-', color='blue', label='laminar')\n",
    "ax1.plot(r, v_turb, '--', color='blue', label='turbulent')\n",
    "ax1.set_xlabel('Vent radius [m]')\n",
    "ax1.set_ylabel(r'$v_z$', fontsize=20)\n",
    "simlam.plot(ax=ax2, xlim=(-10, 80), ylim=(-8,8), alpha=0.02, label='laminar',color='blue')\n",
    "axes[0].set_xlabel('')\n",
    "simturb.plot(ax=ax3, xlim=(-10, 80), ylim=(-8,8), alpha=0.02, label='turbulent', color='blue')\n",
    "for ax in [ax1, ax2, ax3]:\n",
    "    ax.legend(fontsize=12)\n",
    "ax2.set_xlabel('')\n",
    "t = ax3.get_title()\n",
    "fig.suptitle(t)\n",
    "yloc = plt.MaxNLocator(4)\n",
    "for ax in [ax2, ax3]:\n",
    "    ax.set_title('')\n",
    "    ax.yaxis.set_major_locator(yloc)\n",
    "fig.tight_layout()\n",
    "fig.subplots_adjust(top=0.9)\n",
    "fig.savefig('/Users/klay6683/Dropbox/SSW_2015_cryo_venting/figures/preliminary_jets.png', dpi=200)"
   ]
  },
  {
   "cell_type": "code",
   "execution_count": null,
   "metadata": {
    "collapsed": true
   },
   "outputs": [],
   "source": [
    "sim_no_jitter = FanSimulator(N=10000, vent_radius=0.5, vmax=10, is_turbulent=True)\n",
    "sim_no_jitter.init_positions()\n",
    "sim_no_jitter.init_velocities()\n",
    "sim_no_jitter.incline_and_vary_jet(jitter=0.00, incline=2)\n",
    "sim_no_jitter.loop()"
   ]
  },
  {
   "cell_type": "code",
   "execution_count": null,
   "metadata": {
    "collapsed": true
   },
   "outputs": [],
   "source": [
    "sim_with_jitter = FanSimulator(N=10000, vent_radius=0.5, vmax=10, is_turbulent=True)\n",
    "sim_with_jitter.init_positions()\n",
    "sim_with_jitter.init_velocities()\n",
    "sim_with_jitter.incline_and_vary_jet(jitter=0.05, incline=2)\n",
    "sim_with_jitter.loop()"
   ]
  },
  {
   "cell_type": "code",
   "execution_count": null,
   "metadata": {
    "collapsed": false
   },
   "outputs": [],
   "source": [
    "fig, axes = plt.subplots(nrows=2, figsize=(12,6), sharex=True)\n",
    "xlim = (-2, 13)\n",
    "ylim = (-1.5, 1.5)\n",
    "sim_no_jitter.plot(ax=axes[0], xlim=xlim, ylim=ylim, alpha=0.3)\n",
    "sim_with_jitter.plot(ax=axes[1], xlim=xlim, ylim=ylim, alpha=0.3)\n",
    "axes[0].set_xlabel('')\n",
    "fig.tight_layout()\n",
    "fig.savefig(\"/Users/klay6683/Dropbox/SSW_2015_cryo_venting/figures/jitter_example.png\",\n",
    "            dpi=200)"
   ]
  },
  {
   "cell_type": "code",
   "execution_count": null,
   "metadata": {
    "collapsed": true
   },
   "outputs": [],
   "source": [
    "from pypet import Environment, cartesian_product"
   ]
  },
  {
   "cell_type": "code",
   "execution_count": null,
   "metadata": {
    "collapsed": false,
    "scrolled": true
   },
   "outputs": [],
   "source": [
    "def add_parameters(traj, dt=1e-2):\n",
    "    traj.f_add_parameter('N', 5000, comment='number of particles')\n",
    "    traj.f_add_parameter('vent_radius', 0.5, comment='radius of particle emitting vent')\n",
    "    traj.f_add_parameter('vmax', 50, comment='vmax in center of vent')\n",
    "    traj.f_add_parameter('dt', dt, comment='dt of simulation')\n",
    "    traj.f_add_parameter('incline', 10.0, comment='inclining vx value')\n",
    "    traj.f_add_parameter('jitter', 0.1, comment='random x,y jitter for velocities')\n",
    "    traj.f_add_parameter('location', 'mars', comment='location determining g-force')\n",
    "\n",
    "def run_simulation(traj):\n",
    "    sim = FanSimulator(traj.N, vent_radius=traj.vent_radius, vmax=traj.vmax,\n",
    "                       dt=traj.dt, location=traj.location)\n",
    "    sim.init_positions()\n",
    "    sim.init_velocities()\n",
    "    sim.incline_and_vary_jet(incline=traj.incline, jitter=traj.jitter)\n",
    "    sim.loop()\n",
    "    sim.plot(save=True, equal=False)\n",
    "    traj.f_add_result('positions', sim.positions, comment='End positions of particles')\n",
    "    traj.f_add_result('t', sim.t, comment='duration of flight')\n",
    "\n",
    "env = Environment(trajectory='FanSimulation', filename='./pypet/',\n",
    "                  large_overview_tables=True,\n",
    "                  add_time=True,\n",
    "                  multiproc=False,\n",
    "                  ncores=6,\n",
    "                  log_config='DEFAULT')\n",
    "\n",
    "traj = env.v_trajectory\n",
    "\n",
    "add_parameters(traj, dt=1e-2)\n",
    "\n",
    "explore_dict = {'vent_radius':[0.1, 0.5, 1.0],\n",
    "                'vmax':[10, 50, 100],\n",
    "                'incline':[0.1, 1.0, 5.0]}\n",
    "\n",
    "to_explore = cartesian_product(explore_dict)\n",
    "traj.f_explore(to_explore)\n",
    "\n",
    "env.f_run(run_simulation)\n",
    "\n",
    "env.f_disable_logging()"
   ]
  },
  {
   "cell_type": "code",
   "execution_count": null,
   "metadata": {
    "collapsed": true
   },
   "outputs": [],
   "source": []
  }
 ],
 "metadata": {
  "kernelspec": {
   "display_name": "Python 3",
   "language": "python",
   "name": "python3"
  },
  "language_info": {
   "codemirror_mode": {
    "name": "ipython",
    "version": 3
   },
   "file_extension": ".py",
   "mimetype": "text/x-python",
   "name": "python",
   "nbconvert_exporter": "python",
   "pygments_lexer": "ipython3",
   "version": "3.5.1"
  }
 },
 "nbformat": 4,
 "nbformat_minor": 0
}
