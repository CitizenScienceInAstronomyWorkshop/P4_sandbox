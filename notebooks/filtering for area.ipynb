{
 "cells": [
  {
   "cell_type": "code",
   "execution_count": null,
   "metadata": {
    "collapsed": false
   },
   "outputs": [],
   "source": [
    "from planet4 import region_data, io, markings\n",
    "from pathlib import Path"
   ]
  },
  {
   "cell_type": "code",
   "execution_count": null,
   "metadata": {
    "collapsed": false
   },
   "outputs": [],
   "source": [
    "root = io.analysis_folder() / 'inca_s23_0.5cut_applied/'"
   ]
  },
  {
   "cell_type": "code",
   "execution_count": null,
   "metadata": {
    "collapsed": false
   },
   "outputs": [],
   "source": [
    "fan_fnames = list(root.glob(\"*_fans_latlons.csv\"))"
   ]
  },
  {
   "cell_type": "code",
   "execution_count": null,
   "metadata": {
    "collapsed": false
   },
   "outputs": [],
   "source": [
    "blotch_fnames = list(root.glob(\"*_blotches_latlons.csv\"))"
   ]
  },
  {
   "cell_type": "code",
   "execution_count": null,
   "metadata": {
    "collapsed": true
   },
   "outputs": [],
   "source": [
    "from planet4 import markings"
   ]
  },
  {
   "cell_type": "code",
   "execution_count": null,
   "metadata": {
    "collapsed": true
   },
   "outputs": [],
   "source": [
    "def get_marking(line, cut=0.8):\n",
    "    data = []\n",
    "    for marking in ['fan_','blotch_']:\n",
    "        m = line[line.index.str.startswith(marking)]\n",
    "        data.append(m.rename_axis(lambda x: x[x.index('_')+1:]))\n",
    "    fnotch = markings.Fnotch(line.fnotch_value, data[0], data[1])\n",
    "    return fnotch.get_marking(cut)"
   ]
  },
  {
   "cell_type": "code",
   "execution_count": null,
   "metadata": {
    "collapsed": true
   },
   "outputs": [],
   "source": [
    "def get_final_markings_counts(img_name, cut=0.5):\n",
    "    # writing in dictionary here b/c later I convert it to pd.DataFrame\n",
    "    # for which a dictionary is a natural input format\n",
    "    d = {}\n",
    "    d['obsid'] = img_name\n",
    "    blotch_fname = root / '{}_blotches_latlons.csv'.format(img_name)\n",
    "    d['n_blotches'] = len(pd.read_csv(str(blotch_fname)))\n",
    "    fan_fname = root / '{}_fans_latlons.csv'.format(img_name)\n",
    "    d['n_fans'] = len(pd.read_csv(str(fan_fname)))\n",
    "    \n",
    "    return d"
   ]
  },
  {
   "cell_type": "code",
   "execution_count": null,
   "metadata": {
    "collapsed": false
   },
   "outputs": [],
   "source": [
    "get_final_markings_counts('ESP_020115_0985')"
   ]
  },
  {
   "cell_type": "code",
   "execution_count": null,
   "metadata": {
    "collapsed": false
   },
   "outputs": [],
   "source": [
    "from nbtools import ListProgressBar"
   ]
  },
  {
   "cell_type": "code",
   "execution_count": null,
   "metadata": {
    "collapsed": false
   },
   "outputs": [],
   "source": [
    "results = []\n",
    "progbar = ListProgressBar(region_data.Inca.season2)\n",
    "for img_name in region_data.Inca.season2:\n",
    "    progbar.value = img_name\n",
    "    try:\n",
    "        results.append(get_final_markings_counts(img_name))\n",
    "    except OSError:\n",
    "        continue\n",
    "season2 = pd.DataFrame(results).sort_values(by='obsid')"
   ]
  },
  {
   "cell_type": "code",
   "execution_count": null,
   "metadata": {
    "collapsed": false
   },
   "outputs": [],
   "source": [
    "results = []\n",
    "progbar = ListProgressBar(region_data.Inca.season3)\n",
    "for img_name in region_data.Inca.season3:\n",
    "    progbar.value = img_name\n",
    "    try:\n",
    "        results.append(get_final_markings_counts(img_name))\n",
    "    except OSError:\n",
    "        continue\n",
    "season3 = pd.DataFrame(results).sort_values(by='obsid')"
   ]
  },
  {
   "cell_type": "code",
   "execution_count": null,
   "metadata": {
    "collapsed": false,
    "scrolled": true
   },
   "outputs": [],
   "source": [
    "season2.head()"
   ]
  },
  {
   "cell_type": "code",
   "execution_count": null,
   "metadata": {
    "collapsed": false
   },
   "outputs": [],
   "source": [
    "season2.head()"
   ]
  },
  {
   "cell_type": "code",
   "execution_count": null,
   "metadata": {
    "collapsed": false
   },
   "outputs": [],
   "source": [
    "season2_meta = pd.read_csv(io.analysis_folder() / 'inca_season2_metadata.csv')\n",
    "# dropping the label path here as it's not required\n",
    "# if it is, delete this line.\n",
    "season2_meta.drop('path', axis=1, inplace=True)"
   ]
  },
  {
   "cell_type": "code",
   "execution_count": null,
   "metadata": {
    "collapsed": false
   },
   "outputs": [],
   "source": [
    "season2_meta.head()"
   ]
  },
  {
   "cell_type": "code",
   "execution_count": null,
   "metadata": {
    "collapsed": false
   },
   "outputs": [],
   "source": [
    "season2 = season2.merge(season2_meta, on='obsid')"
   ]
  },
  {
   "cell_type": "code",
   "execution_count": null,
   "metadata": {
    "collapsed": false
   },
   "outputs": [],
   "source": [
    "season2.head()"
   ]
  },
  {
   "cell_type": "code",
   "execution_count": null,
   "metadata": {
    "collapsed": false
   },
   "outputs": [],
   "source": [
    "path = io.analysis_folder() / 'inca_season3_metadata.csv'\n",
    "season3_meta = pd.read_csv(path)"
   ]
  },
  {
   "cell_type": "code",
   "execution_count": null,
   "metadata": {
    "collapsed": false
   },
   "outputs": [],
   "source": [
    "season3 = season3.merge(season3_meta, on='obsid')"
   ]
  },
  {
   "cell_type": "code",
   "execution_count": null,
   "metadata": {
    "collapsed": false
   },
   "outputs": [],
   "source": [
    "season2.set_index('l_s', inplace=True)\n",
    "\n",
    "season3.set_index('l_s', inplace=True)"
   ]
  },
  {
   "cell_type": "code",
   "execution_count": null,
   "metadata": {
    "collapsed": false
   },
   "outputs": [],
   "source": [
    "season2['both'] = season2.n_blotches + season2.n_fans\n",
    "\n",
    "season3['both'] = season3.n_blotches + season3.n_fans"
   ]
  },
  {
   "cell_type": "code",
   "execution_count": null,
   "metadata": {
    "collapsed": false
   },
   "outputs": [],
   "source": [
    "season2"
   ]
  },
  {
   "cell_type": "code",
   "execution_count": null,
   "metadata": {
    "collapsed": false
   },
   "outputs": [],
   "source": [
    "season2['scaled'] = season2.both / season2.line_samples #/ season2.binning\n",
    "\n",
    "season3['scaled'] = season3.both / season3.line_samples #/ season3.binning"
   ]
  },
  {
   "cell_type": "code",
   "execution_count": null,
   "metadata": {
    "collapsed": false,
    "scrolled": false
   },
   "outputs": [],
   "source": [
    "%matplotlib inline\n",
    "season2.scaled.plot(style='*', ms=14, \n",
    "                    xlim=(season3.index.min(), season3.index.max()), label='season2')\n",
    "season3.scaled.plot(style='*', color='red', label='season3', ms=14)\n",
    "plt.legend(loc='best')\n",
    "plt.ylabel('Scaled prevalence of markings')\n",
    "plt.title(\"Number of markings in Inca City region,scaled for binning and image size.\")\n",
    "#plt.savefig('/Users/klay6683/Desktop/inca_s23.pdf')"
   ]
  },
  {
   "cell_type": "code",
   "execution_count": null,
   "metadata": {
    "collapsed": false
   },
   "outputs": [],
   "source": [
    "map_proj_metadata = pd.read_csv('/Users/Anya/Dropbox/myPy/IC_season2_LineSampleScale.csv')"
   ]
  },
  {
   "cell_type": "code",
   "execution_count": null,
   "metadata": {
    "collapsed": false
   },
   "outputs": [],
   "source": [
    "map_proj_metadata['area_km'] = 1e-6*map_proj_metadata.lines * \\\n",
    "    map_proj_metadata.samples*(map_proj_metadata.map_scale)**2\n",
    "map_proj_metadata.set_index('id', inplace=True)"
   ]
  },
  {
   "cell_type": "code",
   "execution_count": null,
   "metadata": {
    "collapsed": false
   },
   "outputs": [],
   "source": [
    "season2.set_index('obsid', inplace=True)"
   ]
  },
  {
   "cell_type": "code",
   "execution_count": null,
   "metadata": {
    "collapsed": false
   },
   "outputs": [],
   "source": [
    "map_proj_metadata['scaled_nr_fans'] = season2.n_fans / map_proj_metadata.area_km\n",
    "map_proj_metadata['scaled_nr_blos'] = season2.n_blotches / map_proj_metadata.area_km\n",
    "map_proj_metadata['scaled_nr_both'] = season2.both / map_proj_metadata.area_km"
   ]
  },
  {
   "cell_type": "code",
   "execution_count": null,
   "metadata": {
    "collapsed": false
   },
   "outputs": [],
   "source": [
    "map_proj_metadata.set_index('l_s', inplace=True)"
   ]
  },
  {
   "cell_type": "code",
   "execution_count": null,
   "metadata": {
    "collapsed": false
   },
   "outputs": [],
   "source": [
    "map_proj_metadata.scaled_nr_fans.plot(style='*', ms=14, \n",
    "                    xlim=(season3.index.min(), season3.index.max()), label='fans ')\n",
    "map_proj_metadata.scaled_nr_blos.plot(style='.', color='red', label='blotches', ms=14)\n",
    "map_proj_metadata.scaled_nr_both.plot(style='*', color='green', label='both', ms=14)\n",
    "plt.legend(loc='best')\n",
    "plt.ylabel('Scaled prevalence of markings')\n",
    "plt.title(\"Number of markings in Inca City region,season 2, scaled for binning and image size.\")\n"
   ]
  },
  {
   "cell_type": "code",
   "execution_count": null,
   "metadata": {
    "collapsed": false
   },
   "outputs": [],
   "source": [
    "season2.n_blotches"
   ]
  },
  {
   "cell_type": "code",
   "execution_count": null,
   "metadata": {
    "collapsed": false
   },
   "outputs": [],
   "source": [
    "fan_fnames_hdf = list(root.glob(\"*_fans.hdf\"))\n",
    "blotch_fnames_hdf = list(root.glob(\"*_blotches.hdf\"))"
   ]
  },
  {
   "cell_type": "code",
   "execution_count": null,
   "metadata": {
    "collapsed": true
   },
   "outputs": [],
   "source": [
    "n = 8\n",
    "bc = markings.BlotchContainer.from_fname(blotch_fnames_hdf[n])\n",
    "fc = markings.FanContainer.from_fname(fan_fnames_hdf[n])\n",
    "\n",
    "# bc.content is list of Blotch objects\n",
    "all_bl_areas = np.array([obj.area for obj in bc.content])\n",
    "all_fan_areas = np.array([obj.area for obj in fc.content])"
   ]
  },
  {
   "cell_type": "code",
   "execution_count": null,
   "metadata": {
    "collapsed": false
   },
   "outputs": [],
   "source": [
    "# some_other_stuff = [some other stuff]\n",
    "# if above lists have same length then u can do\n",
    "# df = pd.DataFrame({'areas':all_areas,\n",
    "#                    'name2':some_other_stuff})"
   ]
  },
  {
   "cell_type": "code",
   "execution_count": null,
   "metadata": {
    "collapsed": false
   },
   "outputs": [],
   "source": [
    "blotch_fnames[n], fan_fnames[n]"
   ]
  },
  {
   "cell_type": "code",
   "execution_count": null,
   "metadata": {
    "collapsed": false
   },
   "outputs": [],
   "source": [
    "#pd.read_csv(str(blotch_fnames[n]))"
   ]
  },
  {
   "cell_type": "code",
   "execution_count": null,
   "metadata": {
    "collapsed": false
   },
   "outputs": [],
   "source": [
    "min_bl = np.nanmin(all_bl_areas)\n",
    "min_fan = np.nanmin(all_fan_areas)\n",
    "print(min_bl, np.nanmax(all_bl_areas), len(all_bl_areas))\n",
    "print(min_fan, np.nanmax(all_fan_areas),  len(all_fan_areas))\n",
    "all_fan_areas[all_fan_areas == np.nan] = all_fan_areas.max() +1"
   ]
  },
  {
   "cell_type": "code",
   "execution_count": null,
   "metadata": {
    "collapsed": false
   },
   "outputs": [],
   "source": [
    "fh = plt.hist(all_fan_areas, bins = 200, range = (min_fan, np.nanmax(all_fan_areas)), alpha=0.75, color = 'red')\n",
    "bh = plt.hist(all_bl_areas, bins = 200, range = (min_bl, min_bl+1e3), alpha=0.75, color = 'blue')\n",
    "\n",
    "#fh = plt.hist(all_fan_areas, 200)"
   ]
  },
  {
   "cell_type": "code",
   "execution_count": null,
   "metadata": {
    "collapsed": false
   },
   "outputs": [],
   "source": [
    "fh = plt.hist(all_fan_areas, bins = 200, range = (min_fan, 5e3), normed=True)"
   ]
  },
  {
   "cell_type": "code",
   "execution_count": null,
   "metadata": {
    "collapsed": false
   },
   "outputs": [],
   "source": [
    "bh[1][:4]"
   ]
  },
  {
   "cell_type": "code",
   "execution_count": null,
   "metadata": {
    "collapsed": true
   },
   "outputs": [],
   "source": []
  }
 ],
 "metadata": {
  "kernelspec": {
   "display_name": "Python 3",
   "language": "python",
   "name": "python3"
  },
  "language_info": {
   "codemirror_mode": {
    "name": "ipython",
    "version": 3
   },
   "file_extension": ".py",
   "mimetype": "text/x-python",
   "name": "python",
   "nbconvert_exporter": "python",
   "pygments_lexer": "ipython3",
   "version": "3.5.1"
  }
 },
 "nbformat": 4,
 "nbformat_minor": 0
}
