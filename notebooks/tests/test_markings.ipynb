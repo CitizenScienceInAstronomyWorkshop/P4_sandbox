{
 "cells": [
  {
   "cell_type": "code",
   "execution_count": 0,
   "metadata": {
    "collapsed": false
   },
   "outputs": [],
   "source": [
    "# setup\n",
    "from planet4 import markings\n",
    "import numpy as np\n",
    "from numpy.testing import assert_allclose\n",
    "\n",
    "blotchdata = dict(\n",
    "    x = 100,\n",
    "    y = 200,\n",
    "    radius_1 = 30,\n",
    "    radius_2 = 40,\n",
    "    angle = 25,\n",
    "    image_id='blotch_id',\n",
    ")\n",
    "blotchdata = pd.Series(blotchdata)\n",
    "\n",
    "fandata = dict(x = 300,\n",
    "    y = 400,\n",
    "    angle = 55,\n",
    "    spread = 17,\n",
    "    distance = 23,\n",
    "    image_id = 'fan_id'\n",
    ")\n",
    "fandata = pd.Series(fandata)"
   ]
  },
  {
   "cell_type": "code",
   "execution_count": 0,
   "metadata": {
    "collapsed": true
   },
   "outputs": [],
   "source": [
    "# test_blotch\n",
    "blotch = markings.Blotch(blotchdata)\n",
    "assert blotch.angle == 25\n",
    "assert blotch.center == (100, 200)\n",
    "assert blotch.height == 80\n",
    "assert blotch.width == 60\n",
    "assert blotch.x == 100\n",
    "assert blotch.y == 200"
   ]
  },
  {
   "cell_type": "code",
   "execution_count": 0,
   "metadata": {
    "collapsed": false
   },
   "outputs": [],
   "source": [
    "# test_fan\n",
    "fan = markings.Fan(fandata)\n",
    "assert_allclose(fan.base, np.array([300, 400]))\n",
    "assert_allclose(fan.coords, np.array([[ 313.92663903,  414.67561542],\n",
    "                                        [ 300.        ,  400.        ],\n",
    "                                        [ 309.02737644,  418.10611602]]))\n",
    "assert_allclose(fan.inside_half, 8.5)\n",
    "assert_allclose(fan.armlength, 20.231781009871817)\n",
    "assert_allclose(fan.v1, np.array([13.92663903, 14.67561542]))\n",
    "assert_allclose(fan.v2, np.array([  9.02737644,  18.10611602]))\n",
    "assert_allclose(fan.center, np.array([ 311.47700774,  416.39086572]))\n",
    "assert_allclose(fan.circle_base, np.array([ 4.89926259, -3.4305006 ]))\n",
    "assert_allclose(fan.radius, 2.990447637172394)\n",
    "assert_allclose(fan.center, np.array([ 311.47700774,  416.39086572]))\n",
    "assert_allclose(fan.midpoint, np.array([ 306.65986158,  409.51126803]))\n",
    "assert_allclose(fan.base_to_midpoint_vec,\n",
    "                np.array([[ 300.        ,  400.        ],\n",
    "                          [ 306.65986158,  409.51126803]]))"
   ]
  },
  {
   "cell_type": "code",
   "execution_count": 0,
   "metadata": {
    "collapsed": false
   },
   "outputs": [],
   "source": [
    "fnotch = markings.Fnotch(0.4, markings.Fan(fandata),\n",
    "                         markings.Blotch(blotchdata))\n",
    "assert_allclose(fnotch.value, 0.4)\n",
    "assert isinstance(fnotch.get_marking(0.8), markings.Blotch)\n",
    "assert isinstance(fnotch.get_marking(0.3), markings.Fan)"
   ]
  },
  {
   "cell_type": "code",
   "execution_count": 0,
   "metadata": {
    "collapsed": true
   },
   "outputs": [],
   "source": []
  }
 ],
 "metadata": {
  "kernelspec": {
   "display_name": "Python 3",
   "language": "python",
   "name": "python3"
  },
  "language_info": {
   "codemirror_mode": {
    "name": "ipython",
    "version": 3
   },
   "file_extension": ".py",
   "mimetype": "text/x-python",
   "name": "python",
   "nbconvert_exporter": "python",
   "pygments_lexer": "ipython3",
   "version": "3.5.1"
  }
 },
 "nbformat": 4,
 "nbformat_minor": 0
}