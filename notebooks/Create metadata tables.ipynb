{
 "cells": [
  {
   "cell_type": "code",
   "execution_count": null,
   "metadata": {
    "collapsed": true
   },
   "outputs": [],
   "source": [
    "from planet4 import region_data, io\n",
    "import pvl\n",
    "from hirise import hirise_tools as ht\n",
    "import gdal"
   ]
  },
  {
   "cell_type": "code",
   "execution_count": null,
   "metadata": {
    "collapsed": true
   },
   "outputs": [],
   "source": [
    "regions = ['Inca', 'Ithaca', 'Giza', 'Manhattan2']"
   ]
  },
  {
   "cell_type": "code",
   "execution_count": null,
   "metadata": {
    "collapsed": true
   },
   "outputs": [],
   "source": [
    "seasons = ['season2', 'season3']"
   ]
  },
  {
   "cell_type": "code",
   "execution_count": null,
   "metadata": {
    "collapsed": true
   },
   "outputs": [],
   "source": [
    "def get_fraction_of_black_pixels(savepath):\n",
    "    ds = gdal.Open(str(savepath))\n",
    "    data = ds.ReadAsArray()\n",
    "    fractions = []\n",
    "    for band in data:\n",
    "        nonzeros = band.nonzero()[0]\n",
    "        fractions.append((band.size - nonzeros.size)/band.size)\n",
    "    return np.array(fractions).mean()"
   ]
  },
  {
   "cell_type": "code",
   "execution_count": null,
   "metadata": {
    "collapsed": true
   },
   "outputs": [],
   "source": [
    "def read_metadata(obsid):\n",
    "    prodid = ht.PRODUCT_ID(obsid)\n",
    "    prodid.kind = 'COLOR'\n",
    "    labelpath = ht.labels_root() / prodid.label_fname\n",
    "    label = ht.HiRISE_Label(labelpath)\n",
    "    savedir = ht.hirise_dropbox() / 'browse'\n",
    "    savepath = savedir / prodid.browse_path.name\n",
    "    if not savepath.exists():\n",
    "        ht.download_product(prodid.browse_path, savedir)\n",
    "    black_fraction = get_fraction_of_black_pixels(savepath)\n",
    "    all_area = label.line_samples*label.lines * label.map_scale**2\n",
    "    real_area = (1-black_fraction)*all_area\n",
    "    d = dict(obsid=obsid, path=labelpath, binning=label.binning_color,\n",
    "             l_s=label.l_s, line_samples=label.line_samples,\n",
    "             lines=label.lines, map_scale=label.map_scale, invalids=black_fraction,\n",
    "             real_area=real_area)\n",
    "    \n",
    "    return d"
   ]
  },
  {
   "cell_type": "code",
   "execution_count": null,
   "metadata": {
    "collapsed": false,
    "scrolled": true
   },
   "outputs": [],
   "source": [
    "for region in regions:\n",
    "    rea = getattr(region_data, region)\n",
    "    for season in seasons:\n",
    "        sea = getattr(rea, season)\n",
    "        metadata = []\n",
    "        for img in sea:\n",
    "            metadata.append(read_metadata(img))\n",
    "        if region.endswith('2'):\n",
    "            region = region[:-1]\n",
    "        name = \"{}_{}_metadata.csv\".format(region.lower(), season)\n",
    "        fname = io.analysis_folder() / name\n",
    "        print(fname)\n",
    "        pd.DataFrame(metadata).to_csv(str(fname), index=False)"
   ]
  },
  {
   "cell_type": "code",
   "execution_count": null,
   "metadata": {
    "collapsed": true
   },
   "outputs": [],
   "source": []
  }
 ],
 "metadata": {
  "kernelspec": {
   "display_name": "Python3 (stable)",
   "language": "python",
   "name": "stable"
  },
  "language_info": {
   "codemirror_mode": {
    "name": "ipython",
    "version": 3
   },
   "file_extension": ".py",
   "mimetype": "text/x-python",
   "name": "python",
   "nbconvert_exporter": "python",
   "pygments_lexer": "ipython3",
   "version": "3.5.1"
  }
 },
 "nbformat": 4,
 "nbformat_minor": 0
}
