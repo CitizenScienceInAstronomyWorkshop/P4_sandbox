{
 "metadata": {
  "name": "",
  "signature": "sha256:e4550537ca705ca6d2d960dce3cd170178d2c7722a4d2c7175a0d34b2801009c"
 },
 "nbformat": 3,
 "nbformat_minor": 0,
 "worksheets": [
  {
   "cells": [
    {
     "cell_type": "code",
     "collapsed": false,
     "input": [
      "import planet4 as p4\n",
      "import pandas as pd\n",
      "from planet4 import helper_functions as hf\n",
      "reload(hf)\n",
      "print pd.__version__"
     ],
     "language": "python",
     "metadata": {},
     "outputs": [
      {
       "output_type": "stream",
       "stream": "stdout",
       "text": [
        "0.14.1\n"
       ]
      }
     ],
     "prompt_number": 77
    },
    {
     "cell_type": "code",
     "collapsed": false,
     "input": [
      "root = '/Users/maye/data/planet4/'\n",
      "db_fname = root + '2014-10-02_planet_four_classifications_queryable.h5'"
     ],
     "language": "python",
     "metadata": {},
     "outputs": [],
     "prompt_number": 18
    },
    {
     "cell_type": "code",
     "collapsed": false,
     "input": [
      "with open('../data/inca_images.txt') as f:\n",
      "    inca_images = f.readlines()\n",
      "inca_images = [i.strip() for i in inca_images]\n",
      "inca_images"
     ],
     "language": "python",
     "metadata": {},
     "outputs": [
      {
       "metadata": {},
       "output_type": "pyout",
       "prompt_number": 26,
       "text": [
        "['PSP_002380_0985',\n",
        " 'PSP_002868_0985',\n",
        " 'PSP_003092_0985',\n",
        " 'PSP_003158_0985',\n",
        " 'PSP_003237_0985',\n",
        " 'PSP_003448_0985',\n",
        " 'PSP_003593_0985',\n",
        " 'PSP_003770_0815',\n",
        " 'PSP_003804_0985',\n",
        " 'PSP_003928_0815',\n",
        " 'PSP_004081_0985',\n",
        " 'PSP_004371_0985',\n",
        " 'ESP_013113_0985',\n",
        " 'ESP_013034_0985',\n",
        " 'ESP_012889_0985',\n",
        " 'ESP_012744_0985',\n",
        " 'ESP_012691_0985',\n",
        " 'ESP_012467_0985',\n",
        " 'ESP_012322_0985',\n",
        " 'ESP_012256_0985',\n",
        " 'ESP_011900_0985',\n",
        " 'ESP_011729_0985',\n",
        " 'ESP_011702_0985',\n",
        " 'ESP_011623_0985',\n",
        " 'ESP_011557_0985',\n",
        " 'ESP_011544_0985',\n",
        " 'ESP_011491_0985',\n",
        " 'ESP_022699_0985',\n",
        " 'ESP_021460_0985',\n",
        " 'ESP_020959_0985',\n",
        " 'ESP_020748_0985',\n",
        " 'ESP_020194_0985',\n",
        " 'ESP_020128_0985',\n",
        " 'ESP_020049_0985',\n",
        " 'ESP_021829_0985',\n",
        " 'ESP_021684_0985',\n",
        " 'ESP_021671_0985',\n",
        " 'ESP_021605_0985',\n",
        " 'ESP_021526_0985',\n",
        " 'ESP_020827_0985',\n",
        " 'ESP_020339_0985',\n",
        " 'ESP_020115_0985']"
       ]
      }
     ],
     "prompt_number": 26
    },
    {
     "cell_type": "code",
     "collapsed": false,
     "input": [
      "obs_id = inca_images[0]"
     ],
     "language": "python",
     "metadata": {},
     "outputs": [],
     "prompt_number": 40
    },
    {
     "cell_type": "code",
     "collapsed": false,
     "input": [
      "def get_done_for_obs_id(obs_id):\n",
      "    print obs_id\n",
      "    \"obs_id are called 'image_name' in P4 lingo.\"\n",
      "    df = pd.read_hdf(db_fname, 'df', where='image_name='+obs_id)\n",
      "    if len(df) == 0:\n",
      "        return np.nan\n",
      "    return hf.get_status(df)"
     ],
     "language": "python",
     "metadata": {},
     "outputs": [],
     "prompt_number": 78
    },
    {
     "cell_type": "code",
     "collapsed": false,
     "input": [
      "get_done_for_obs_id(obs_id)"
     ],
     "language": "python",
     "metadata": {},
     "outputs": [
      {
       "output_type": "stream",
       "stream": "stdout",
       "text": [
        "PSP_002380_0985\n"
       ]
      },
      {
       "metadata": {},
       "output_type": "pyout",
       "prompt_number": 79,
       "text": [
        "91.700000000000003"
       ]
      }
     ],
     "prompt_number": 79
    },
    {
     "cell_type": "code",
     "collapsed": false,
     "input": [
      "results = pd.DataFrame(inca_images)"
     ],
     "language": "python",
     "metadata": {},
     "outputs": [],
     "prompt_number": 80
    },
    {
     "cell_type": "code",
     "collapsed": false,
     "input": [
      "results.columns = ['image_name']"
     ],
     "language": "python",
     "metadata": {},
     "outputs": [],
     "prompt_number": 81
    },
    {
     "cell_type": "code",
     "collapsed": false,
     "input": [
      "results['status'] = results.image_name.map(get_done_for_obs_id)"
     ],
     "language": "python",
     "metadata": {},
     "outputs": [
      {
       "output_type": "stream",
       "stream": "stdout",
       "text": [
        "PSP_002380_0985\n",
        "PSP_002868_0985"
       ]
      },
      {
       "output_type": "stream",
       "stream": "stdout",
       "text": [
        "\n",
        "PSP_003092_0985"
       ]
      },
      {
       "output_type": "stream",
       "stream": "stdout",
       "text": [
        "\n",
        "PSP_003158_0985"
       ]
      },
      {
       "output_type": "stream",
       "stream": "stdout",
       "text": [
        "\n",
        "PSP_003237_0985"
       ]
      },
      {
       "output_type": "stream",
       "stream": "stdout",
       "text": [
        "\n",
        "PSP_003448_0985"
       ]
      },
      {
       "output_type": "stream",
       "stream": "stdout",
       "text": [
        "\n",
        "PSP_003593_0985"
       ]
      },
      {
       "output_type": "stream",
       "stream": "stdout",
       "text": [
        "\n",
        "PSP_003770_0815"
       ]
      },
      {
       "output_type": "stream",
       "stream": "stdout",
       "text": [
        "\n",
        "PSP_003804_0985"
       ]
      },
      {
       "output_type": "stream",
       "stream": "stdout",
       "text": [
        "\n",
        "PSP_003928_0815"
       ]
      },
      {
       "output_type": "stream",
       "stream": "stdout",
       "text": [
        "\n",
        "PSP_004081_0985"
       ]
      },
      {
       "output_type": "stream",
       "stream": "stdout",
       "text": [
        "\n",
        "PSP_004371_0985"
       ]
      },
      {
       "output_type": "stream",
       "stream": "stdout",
       "text": [
        "\n",
        "ESP_013113_0985"
       ]
      },
      {
       "output_type": "stream",
       "stream": "stdout",
       "text": [
        "\n",
        "ESP_013034_0985"
       ]
      },
      {
       "output_type": "stream",
       "stream": "stdout",
       "text": [
        "\n",
        "ESP_012889_0985"
       ]
      },
      {
       "output_type": "stream",
       "stream": "stdout",
       "text": [
        "\n",
        "ESP_012744_0985"
       ]
      },
      {
       "output_type": "stream",
       "stream": "stdout",
       "text": [
        "\n",
        "ESP_012691_0985"
       ]
      },
      {
       "output_type": "stream",
       "stream": "stdout",
       "text": [
        "\n",
        "ESP_012467_0985"
       ]
      },
      {
       "output_type": "stream",
       "stream": "stdout",
       "text": [
        "\n",
        "ESP_012322_0985"
       ]
      },
      {
       "output_type": "stream",
       "stream": "stdout",
       "text": [
        "\n",
        "ESP_012256_0985"
       ]
      },
      {
       "output_type": "stream",
       "stream": "stdout",
       "text": [
        "\n",
        "ESP_011900_0985"
       ]
      },
      {
       "output_type": "stream",
       "stream": "stdout",
       "text": [
        "\n",
        "ESP_011729_0985"
       ]
      },
      {
       "output_type": "stream",
       "stream": "stdout",
       "text": [
        "\n",
        "ESP_011702_0985"
       ]
      },
      {
       "output_type": "stream",
       "stream": "stdout",
       "text": [
        "\n",
        "ESP_011623_0985"
       ]
      },
      {
       "output_type": "stream",
       "stream": "stdout",
       "text": [
        "\n",
        "ESP_011557_0985"
       ]
      },
      {
       "output_type": "stream",
       "stream": "stdout",
       "text": [
        "\n",
        "ESP_011544_0985"
       ]
      },
      {
       "output_type": "stream",
       "stream": "stdout",
       "text": [
        "\n",
        "ESP_011491_0985"
       ]
      },
      {
       "output_type": "stream",
       "stream": "stdout",
       "text": [
        "\n",
        "ESP_022699_0985"
       ]
      },
      {
       "output_type": "stream",
       "stream": "stdout",
       "text": [
        "\n",
        "ESP_021460_0985"
       ]
      },
      {
       "output_type": "stream",
       "stream": "stdout",
       "text": [
        "\n",
        "ESP_020959_0985"
       ]
      },
      {
       "output_type": "stream",
       "stream": "stdout",
       "text": [
        "\n",
        "ESP_020748_0985"
       ]
      },
      {
       "output_type": "stream",
       "stream": "stdout",
       "text": [
        "\n",
        "ESP_020194_0985"
       ]
      },
      {
       "output_type": "stream",
       "stream": "stdout",
       "text": [
        "\n",
        "ESP_020128_0985"
       ]
      },
      {
       "output_type": "stream",
       "stream": "stdout",
       "text": [
        "\n",
        "ESP_020049_0985"
       ]
      },
      {
       "output_type": "stream",
       "stream": "stdout",
       "text": [
        "\n",
        "ESP_021829_0985"
       ]
      },
      {
       "output_type": "stream",
       "stream": "stdout",
       "text": [
        "\n",
        "ESP_021684_0985"
       ]
      },
      {
       "output_type": "stream",
       "stream": "stdout",
       "text": [
        "\n",
        "ESP_021671_0985"
       ]
      },
      {
       "output_type": "stream",
       "stream": "stdout",
       "text": [
        "\n",
        "ESP_021605_0985"
       ]
      },
      {
       "output_type": "stream",
       "stream": "stdout",
       "text": [
        "\n",
        "ESP_021526_0985"
       ]
      },
      {
       "output_type": "stream",
       "stream": "stdout",
       "text": [
        "\n",
        "ESP_020827_0985"
       ]
      },
      {
       "output_type": "stream",
       "stream": "stdout",
       "text": [
        "\n",
        "ESP_020339_0985"
       ]
      },
      {
       "output_type": "stream",
       "stream": "stdout",
       "text": [
        "\n",
        "ESP_020115_0985"
       ]
      },
      {
       "output_type": "stream",
       "stream": "stdout",
       "text": [
        "\n"
       ]
      }
     ],
     "prompt_number": 82
    },
    {
     "cell_type": "code",
     "collapsed": false,
     "input": [
      "results"
     ],
     "language": "python",
     "metadata": {},
     "outputs": [
      {
       "html": [
        "<div style=\"max-height:1000px;max-width:1500px;overflow:auto;\">\n",
        "<table border=\"1\" class=\"dataframe\">\n",
        "  <thead>\n",
        "    <tr style=\"text-align: right;\">\n",
        "      <th></th>\n",
        "      <th>image_name</th>\n",
        "      <th>status</th>\n",
        "    </tr>\n",
        "  </thead>\n",
        "  <tbody>\n",
        "    <tr>\n",
        "      <th>0 </th>\n",
        "      <td> PSP_002380_0985</td>\n",
        "      <td>  91.7</td>\n",
        "    </tr>\n",
        "    <tr>\n",
        "      <th>1 </th>\n",
        "      <td> PSP_002868_0985</td>\n",
        "      <td>  85.4</td>\n",
        "    </tr>\n",
        "    <tr>\n",
        "      <th>2 </th>\n",
        "      <td> PSP_003092_0985</td>\n",
        "      <td>  88.8</td>\n",
        "    </tr>\n",
        "    <tr>\n",
        "      <th>3 </th>\n",
        "      <td> PSP_003158_0985</td>\n",
        "      <td>  80.0</td>\n",
        "    </tr>\n",
        "    <tr>\n",
        "      <th>4 </th>\n",
        "      <td> PSP_003237_0985</td>\n",
        "      <td>  91.4</td>\n",
        "    </tr>\n",
        "    <tr>\n",
        "      <th>5 </th>\n",
        "      <td> PSP_003448_0985</td>\n",
        "      <td>  85.7</td>\n",
        "    </tr>\n",
        "    <tr>\n",
        "      <th>6 </th>\n",
        "      <td> PSP_003593_0985</td>\n",
        "      <td>  78.0</td>\n",
        "    </tr>\n",
        "    <tr>\n",
        "      <th>7 </th>\n",
        "      <td> PSP_003770_0815</td>\n",
        "      <td>  87.2</td>\n",
        "    </tr>\n",
        "    <tr>\n",
        "      <th>8 </th>\n",
        "      <td> PSP_003804_0985</td>\n",
        "      <td>  77.8</td>\n",
        "    </tr>\n",
        "    <tr>\n",
        "      <th>9 </th>\n",
        "      <td> PSP_003928_0815</td>\n",
        "      <td>  76.9</td>\n",
        "    </tr>\n",
        "    <tr>\n",
        "      <th>10</th>\n",
        "      <td> PSP_004081_0985</td>\n",
        "      <td>   0.0</td>\n",
        "    </tr>\n",
        "    <tr>\n",
        "      <th>11</th>\n",
        "      <td> PSP_004371_0985</td>\n",
        "      <td>   NaN</td>\n",
        "    </tr>\n",
        "    <tr>\n",
        "      <th>12</th>\n",
        "      <td> ESP_013113_0985</td>\n",
        "      <td> 100.0</td>\n",
        "    </tr>\n",
        "    <tr>\n",
        "      <th>13</th>\n",
        "      <td> ESP_013034_0985</td>\n",
        "      <td> 100.0</td>\n",
        "    </tr>\n",
        "    <tr>\n",
        "      <th>14</th>\n",
        "      <td> ESP_012889_0985</td>\n",
        "      <td> 100.0</td>\n",
        "    </tr>\n",
        "    <tr>\n",
        "      <th>15</th>\n",
        "      <td> ESP_012744_0985</td>\n",
        "      <td>  99.7</td>\n",
        "    </tr>\n",
        "    <tr>\n",
        "      <th>16</th>\n",
        "      <td> ESP_012691_0985</td>\n",
        "      <td> 100.0</td>\n",
        "    </tr>\n",
        "    <tr>\n",
        "      <th>17</th>\n",
        "      <td> ESP_012467_0985</td>\n",
        "      <td>  99.4</td>\n",
        "    </tr>\n",
        "    <tr>\n",
        "      <th>18</th>\n",
        "      <td> ESP_012322_0985</td>\n",
        "      <td> 100.0</td>\n",
        "    </tr>\n",
        "    <tr>\n",
        "      <th>19</th>\n",
        "      <td> ESP_012256_0985</td>\n",
        "      <td> 100.0</td>\n",
        "    </tr>\n",
        "    <tr>\n",
        "      <th>20</th>\n",
        "      <td> ESP_011900_0985</td>\n",
        "      <td> 100.0</td>\n",
        "    </tr>\n",
        "    <tr>\n",
        "      <th>21</th>\n",
        "      <td> ESP_011729_0985</td>\n",
        "      <td> 100.0</td>\n",
        "    </tr>\n",
        "    <tr>\n",
        "      <th>22</th>\n",
        "      <td> ESP_011702_0985</td>\n",
        "      <td> 100.0</td>\n",
        "    </tr>\n",
        "    <tr>\n",
        "      <th>23</th>\n",
        "      <td> ESP_011623_0985</td>\n",
        "      <td> 100.0</td>\n",
        "    </tr>\n",
        "    <tr>\n",
        "      <th>24</th>\n",
        "      <td> ESP_011557_0985</td>\n",
        "      <td> 100.0</td>\n",
        "    </tr>\n",
        "    <tr>\n",
        "      <th>25</th>\n",
        "      <td> ESP_011544_0985</td>\n",
        "      <td> 100.0</td>\n",
        "    </tr>\n",
        "    <tr>\n",
        "      <th>26</th>\n",
        "      <td> ESP_011491_0985</td>\n",
        "      <td>  99.2</td>\n",
        "    </tr>\n",
        "    <tr>\n",
        "      <th>27</th>\n",
        "      <td> ESP_022699_0985</td>\n",
        "      <td> 100.0</td>\n",
        "    </tr>\n",
        "    <tr>\n",
        "      <th>28</th>\n",
        "      <td> ESP_021460_0985</td>\n",
        "      <td>  99.7</td>\n",
        "    </tr>\n",
        "    <tr>\n",
        "      <th>29</th>\n",
        "      <td> ESP_020959_0985</td>\n",
        "      <td>  99.6</td>\n",
        "    </tr>\n",
        "    <tr>\n",
        "      <th>30</th>\n",
        "      <td> ESP_020748_0985</td>\n",
        "      <td> 100.0</td>\n",
        "    </tr>\n",
        "    <tr>\n",
        "      <th>31</th>\n",
        "      <td> ESP_020194_0985</td>\n",
        "      <td>  99.3</td>\n",
        "    </tr>\n",
        "    <tr>\n",
        "      <th>32</th>\n",
        "      <td> ESP_020128_0985</td>\n",
        "      <td> 100.0</td>\n",
        "    </tr>\n",
        "    <tr>\n",
        "      <th>33</th>\n",
        "      <td> ESP_020049_0985</td>\n",
        "      <td> 100.0</td>\n",
        "    </tr>\n",
        "    <tr>\n",
        "      <th>34</th>\n",
        "      <td> ESP_021829_0985</td>\n",
        "      <td> 100.0</td>\n",
        "    </tr>\n",
        "    <tr>\n",
        "      <th>35</th>\n",
        "      <td> ESP_021684_0985</td>\n",
        "      <td>  99.7</td>\n",
        "    </tr>\n",
        "    <tr>\n",
        "      <th>36</th>\n",
        "      <td> ESP_021671_0985</td>\n",
        "      <td>  99.8</td>\n",
        "    </tr>\n",
        "    <tr>\n",
        "      <th>37</th>\n",
        "      <td> ESP_021605_0985</td>\n",
        "      <td>  99.7</td>\n",
        "    </tr>\n",
        "    <tr>\n",
        "      <th>38</th>\n",
        "      <td> ESP_021526_0985</td>\n",
        "      <td> 100.0</td>\n",
        "    </tr>\n",
        "    <tr>\n",
        "      <th>39</th>\n",
        "      <td> ESP_020827_0985</td>\n",
        "      <td>  97.2</td>\n",
        "    </tr>\n",
        "    <tr>\n",
        "      <th>40</th>\n",
        "      <td> ESP_020339_0985</td>\n",
        "      <td>  98.9</td>\n",
        "    </tr>\n",
        "    <tr>\n",
        "      <th>41</th>\n",
        "      <td> ESP_020115_0985</td>\n",
        "      <td>  99.3</td>\n",
        "    </tr>\n",
        "  </tbody>\n",
        "</table>\n",
        "</div>"
       ],
       "metadata": {},
       "output_type": "pyout",
       "prompt_number": 83,
       "text": [
        "         image_name  status\n",
        "0   PSP_002380_0985    91.7\n",
        "1   PSP_002868_0985    85.4\n",
        "2   PSP_003092_0985    88.8\n",
        "3   PSP_003158_0985    80.0\n",
        "4   PSP_003237_0985    91.4\n",
        "5   PSP_003448_0985    85.7\n",
        "6   PSP_003593_0985    78.0\n",
        "7   PSP_003770_0815    87.2\n",
        "8   PSP_003804_0985    77.8\n",
        "9   PSP_003928_0815    76.9\n",
        "10  PSP_004081_0985     0.0\n",
        "11  PSP_004371_0985     NaN\n",
        "12  ESP_013113_0985   100.0\n",
        "13  ESP_013034_0985   100.0\n",
        "14  ESP_012889_0985   100.0\n",
        "15  ESP_012744_0985    99.7\n",
        "16  ESP_012691_0985   100.0\n",
        "17  ESP_012467_0985    99.4\n",
        "18  ESP_012322_0985   100.0\n",
        "19  ESP_012256_0985   100.0\n",
        "20  ESP_011900_0985   100.0\n",
        "21  ESP_011729_0985   100.0\n",
        "22  ESP_011702_0985   100.0\n",
        "23  ESP_011623_0985   100.0\n",
        "24  ESP_011557_0985   100.0\n",
        "25  ESP_011544_0985   100.0\n",
        "26  ESP_011491_0985    99.2\n",
        "27  ESP_022699_0985   100.0\n",
        "28  ESP_021460_0985    99.7\n",
        "29  ESP_020959_0985    99.6\n",
        "30  ESP_020748_0985   100.0\n",
        "31  ESP_020194_0985    99.3\n",
        "32  ESP_020128_0985   100.0\n",
        "33  ESP_020049_0985   100.0\n",
        "34  ESP_021829_0985   100.0\n",
        "35  ESP_021684_0985    99.7\n",
        "36  ESP_021671_0985    99.8\n",
        "37  ESP_021605_0985    99.7\n",
        "38  ESP_021526_0985   100.0\n",
        "39  ESP_020827_0985    97.2\n",
        "40  ESP_020339_0985    98.9\n",
        "41  ESP_020115_0985    99.3"
       ]
      }
     ],
     "prompt_number": 83
    },
    {
     "cell_type": "code",
     "collapsed": false,
     "input": [
      "ids_to_do = []\n",
      "for obs_id in results[results.status<100].image_name:\n",
      "    print obs_id\n",
      "    df = pd.read_hdf(db_fname, 'df', where='image_name='+obs_id)\n",
      "    counts = hf.classification_counts_per_image(df)\n",
      "    ids_to_do.append(counts[counts<30].index.values)"
     ],
     "language": "python",
     "metadata": {},
     "outputs": [
      {
       "output_type": "stream",
       "stream": "stdout",
       "text": [
        "PSP_002380_0985\n",
        "PSP_002868_0985"
       ]
      },
      {
       "output_type": "stream",
       "stream": "stdout",
       "text": [
        "\n",
        "PSP_003092_0985"
       ]
      },
      {
       "output_type": "stream",
       "stream": "stdout",
       "text": [
        "\n",
        "PSP_003158_0985"
       ]
      },
      {
       "output_type": "stream",
       "stream": "stdout",
       "text": [
        "\n",
        "PSP_003237_0985"
       ]
      },
      {
       "output_type": "stream",
       "stream": "stdout",
       "text": [
        "\n",
        "PSP_003448_0985"
       ]
      },
      {
       "output_type": "stream",
       "stream": "stdout",
       "text": [
        "\n",
        "PSP_003593_0985"
       ]
      },
      {
       "output_type": "stream",
       "stream": "stdout",
       "text": [
        "\n",
        "PSP_003770_0815"
       ]
      },
      {
       "output_type": "stream",
       "stream": "stdout",
       "text": [
        "\n",
        "PSP_003804_0985"
       ]
      },
      {
       "output_type": "stream",
       "stream": "stdout",
       "text": [
        "\n",
        "PSP_003928_0815"
       ]
      },
      {
       "output_type": "stream",
       "stream": "stdout",
       "text": [
        "\n",
        "PSP_004081_0985"
       ]
      },
      {
       "output_type": "stream",
       "stream": "stdout",
       "text": [
        "\n",
        "ESP_012744_0985"
       ]
      },
      {
       "output_type": "stream",
       "stream": "stdout",
       "text": [
        "\n",
        "ESP_012467_0985"
       ]
      },
      {
       "output_type": "stream",
       "stream": "stdout",
       "text": [
        "\n",
        "ESP_011491_0985"
       ]
      },
      {
       "output_type": "stream",
       "stream": "stdout",
       "text": [
        "\n",
        "ESP_021460_0985"
       ]
      },
      {
       "output_type": "stream",
       "stream": "stdout",
       "text": [
        "\n",
        "ESP_020959_0985"
       ]
      },
      {
       "output_type": "stream",
       "stream": "stdout",
       "text": [
        "\n",
        "ESP_020194_0985"
       ]
      },
      {
       "output_type": "stream",
       "stream": "stdout",
       "text": [
        "\n",
        "ESP_021684_0985"
       ]
      },
      {
       "output_type": "stream",
       "stream": "stdout",
       "text": [
        "\n",
        "ESP_021671_0985"
       ]
      },
      {
       "output_type": "stream",
       "stream": "stdout",
       "text": [
        "\n",
        "ESP_021605_0985"
       ]
      },
      {
       "output_type": "stream",
       "stream": "stdout",
       "text": [
        "\n",
        "ESP_020827_0985"
       ]
      },
      {
       "output_type": "stream",
       "stream": "stdout",
       "text": [
        "\n",
        "ESP_020339_0985"
       ]
      },
      {
       "output_type": "stream",
       "stream": "stdout",
       "text": [
        "\n",
        "ESP_020115_0985"
       ]
      },
      {
       "output_type": "stream",
       "stream": "stdout",
       "text": [
        "\n"
       ]
      }
     ],
     "prompt_number": 110
    },
    {
     "cell_type": "code",
     "collapsed": false,
     "input": [
      "ids_to_do = np.concatenate(ids_to_do)"
     ],
     "language": "python",
     "metadata": {},
     "outputs": [],
     "prompt_number": 114
    },
    {
     "cell_type": "code",
     "collapsed": false,
     "input": [
      "ids_to_do.tofile('unfinished_inca_ids.txt',sep='\\n')"
     ],
     "language": "python",
     "metadata": {},
     "outputs": [],
     "prompt_number": 116
    },
    {
     "cell_type": "code",
     "collapsed": false,
     "input": [
      "counts = hf.classification_counts_per_image(df)"
     ],
     "language": "python",
     "metadata": {},
     "outputs": [],
     "prompt_number": 92
    },
    {
     "cell_type": "code",
     "collapsed": false,
     "input": [
      "towrite = counts[counts<30].index.values"
     ],
     "language": "python",
     "metadata": {},
     "outputs": [],
     "prompt_number": 105
    },
    {
     "cell_type": "code",
     "collapsed": false,
     "input": [
      "with open('testout.csv','w') as f:\n",
      "    f.write(towrite.values)"
     ],
     "language": "python",
     "metadata": {},
     "outputs": [],
     "prompt_number": 104
    },
    {
     "cell_type": "code",
     "collapsed": false,
     "input": [
      "towrite.tofile('testout.csv', sep='\\n')"
     ],
     "language": "python",
     "metadata": {},
     "outputs": [],
     "prompt_number": 107
    },
    {
     "cell_type": "code",
     "collapsed": false,
     "input": [],
     "language": "python",
     "metadata": {},
     "outputs": []
    }
   ],
   "metadata": {}
  }
 ]
}