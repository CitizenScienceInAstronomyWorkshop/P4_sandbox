{
 "cells": [
  {
   "cell_type": "code",
   "execution_count": 0,
   "metadata": {
    "collapsed": false
   },
   "outputs": [],
   "source": [
    "# setup\n",
    "import planet4 as p4\n",
    "import pandas as pd\n",
    "from pathlib import Path\n",
    "datapath = Path(p4.__path__[0]) / 'data'\n",
    "\n",
    "from planet4 import clustering, markings, io\n",
    "data = {'x':[210,211,212], 'y':[100,102, 104], 'image_x':[10010,10011,10012], \n",
    "        'image_y':[20000,20002,20004],\n",
    "        'angle':[34, 37,48], 'radius_1':[20,21,19], 'radius_2':[50,51,52]}\n",
    "three_blotches_data = pd.DataFrame(data)\n",
    "blotch = markings.Blotch(three_blotches_data.iloc[0])\n",
    "\n",
    "import warnings\n",
    "\n",
    "with warnings.catch_warnings():\n",
    "    warnings.filterwarnings(\"ignore\",category=DeprecationWarning)"
   ]
  },
  {
   "cell_type": "code",
   "execution_count": 0,
   "metadata": {
    "collapsed": false
   },
   "outputs": [],
   "source": [
    "# test_calc_fnotch\n",
    "actual = clustering.calc_fnotch(4, 4)\n",
    "assert actual == 0.5\n",
    "actual = clustering.calc_fnotch(4, 0)\n",
    "assert actual == 1\n",
    "actual = clustering.calc_fnotch(0, 4)\n",
    "assert actual == 0"
   ]
  },
  {
   "cell_type": "code",
   "execution_count": 0,
   "metadata": {
    "collapsed": false
   },
   "outputs": [],
   "source": [
    "# test_dbscan_xy\n",
    "\n",
    "# using only x and y (or image_x,image_y)\n",
    "coords = ['image_x','image_y']\n",
    "X = three_blotches_data[coords].values\n",
    "dbscanner = clustering.DBScanner(X, min_samples=2)\n",
    "\n",
    "assert dbscanner.reduced_data == [[0, 1, 2]]\n",
    "assert dbscanner.n_rejected == 0"
   ]
  },
  {
   "cell_type": "code",
   "execution_count": 0,
   "metadata": {
    "collapsed": false
   },
   "outputs": [],
   "source": [
    "coords = ['image_x','image_y', 'angle']\n",
    "X = three_blotches_data[coords].values\n",
    "dbscanner = clustering.DBScanner(X, min_samples=2)\n",
    "\n",
    "assert dbscanner.reduced_data == [[0, 1]]\n",
    "assert dbscanner.n_rejected == 1"
   ]
  },
  {
   "cell_type": "code",
   "execution_count": 0,
   "metadata": {
    "collapsed": false
   },
   "outputs": [],
   "source": [
    "p4id = markings.example_p4id()"
   ]
  },
  {
   "cell_type": "code",
   "execution_count": 0,
   "metadata": {
    "collapsed": false,
    "scrolled": false
   },
   "outputs": [],
   "source": [
    "for eps in range(10,16):\n",
    "    cm = clustering.ClusteringManager(scope='planet4', eps=eps)\n",
    "    cm.cluster_image_id(p4id.imgid)\n",
    "    print(cm.confusion_data)"
   ]
  },
  {
   "cell_type": "markdown",
   "metadata": {},
   "source": [
    "# Testing test database"
   ]
  },
  {
   "cell_type": "code",
   "execution_count": 0,
   "metadata": {
    "collapsed": false
   },
   "outputs": [],
   "source": [
    "data = pd.read_csv(datapath / 'test_db.csv')"
   ]
  },
  {
   "cell_type": "code",
   "execution_count": 0,
   "metadata": {
    "collapsed": false
   },
   "outputs": [],
   "source": [
    "data.image_id.value_counts()"
   ]
  },
  {
   "cell_type": "code",
   "execution_count": 0,
   "metadata": {
    "collapsed": true
   },
   "outputs": [],
   "source": [
    "imid1 = 'APF000012w'\n",
    "imid2 = 'APF000012q'\n",
    "imid1data = data[data.image_id==imid1]\n",
    "imid2data = data[data.image_id==imid2]"
   ]
  },
  {
   "cell_type": "code",
   "execution_count": 0,
   "metadata": {
    "collapsed": false
   },
   "outputs": [],
   "source": [
    "outputdir = Path('/Users/klay6683/Dropbox/data/planet4/test_clustering')\n",
    "cm = clustering.ClusteringManager(fnotched_dir=outputdir)"
   ]
  },
  {
   "cell_type": "code",
   "execution_count": 0,
   "metadata": {
    "collapsed": false
   },
   "outputs": [],
   "source": [
    "cm.cluster_image_id(imid1, data=imid1data)"
   ]
  },
  {
   "cell_type": "code",
   "execution_count": 0,
   "metadata": {
    "collapsed": true
   },
   "outputs": [],
   "source": [
    "from planet4 import plotting\n",
    "%matplotlib nbagg\n",
    "import seaborn as sns\n",
    "sns.set_context('notebook')"
   ]
  },
  {
   "cell_type": "code",
   "execution_count": 0,
   "metadata": {
    "collapsed": false
   },
   "outputs": [],
   "source": [
    "plotting.plot_raw_fans('12w')"
   ]
  },
  {
   "cell_type": "code",
   "execution_count": 0,
   "metadata": {
    "collapsed": false
   },
   "outputs": [],
   "source": [
    "from planet4 import markings, plotting\n",
    "%matplotlib nbagg"
   ]
  },
  {
   "cell_type": "code",
   "execution_count": 0,
   "metadata": {
    "collapsed": false
   },
   "outputs": [],
   "source": [
    "id_='6t3'\n",
    "cm = clustering.ClusteringManager(include_angle=False)\n",
    "cm.cluster_image_id(id_)"
   ]
  },
  {
   "cell_type": "code",
   "execution_count": 0,
   "metadata": {
    "collapsed": false
   },
   "outputs": [],
   "source": [
    "plotting.plot_image_id_pipeline(id_, include_angle=True, include_distance=True,\n",
    "                                include_radius=False, eps=10)"
   ]
  },
  {
   "cell_type": "code",
   "execution_count": 0,
   "metadata": {
    "collapsed": false
   },
   "outputs": [],
   "source": [
    "plotting.plot_image_id_pipeline(id_, include_angle=False, include_distance=True,\n",
    "                                include_radius=True, eps=10, min_distance=15)"
   ]
  },
  {
   "cell_type": "code",
   "execution_count": 0,
   "metadata": {
    "collapsed": false
   },
   "outputs": [],
   "source": [
    "plotting.plot_image_id_pipeline(id_, include_angle=False, include_distance=True,\n",
    "                                include_radius=False, eps=10, min_distance=15)"
   ]
  },
  {
   "cell_type": "code",
   "execution_count": 0,
   "metadata": {
    "collapsed": false
   },
   "outputs": [],
   "source": [
    "plotting.plot_image_id_pipeline('139', include_angle=True, include_distance=True,\n",
    "                                include_radius=True, eps=20, min_distance=10)"
   ]
  },
  {
   "cell_type": "code",
   "execution_count": 0,
   "metadata": {
    "collapsed": false
   },
   "outputs": [],
   "source": [
    "plotting.plot_image_id_pipeline('13t', include_angle=True, include_distance=True,\n",
    "                                include_radius=True, eps=20, min_distance=10)"
   ]
  },
  {
   "cell_type": "code",
   "execution_count": 0,
   "metadata": {
    "collapsed": false,
    "scrolled": false
   },
   "outputs": [],
   "source": [
    "plotting.plot_finals('13t')"
   ]
  },
  {
   "cell_type": "code",
   "execution_count": 0,
   "metadata": {
    "collapsed": false
   },
   "outputs": [],
   "source": [
    "plotting.plot_image_id_pipeline('15k', include_angle=True, include_distance=True,\n",
    "                                include_radius=True, eps=20, min_distance=10)"
   ]
  },
  {
   "cell_type": "code",
   "execution_count": 0,
   "metadata": {
    "collapsed": false
   },
   "outputs": [],
   "source": [
    "plotting.plot_finals('15k')"
   ]
  },
  {
   "cell_type": "code",
   "execution_count": 0,
   "metadata": {
    "collapsed": false
   },
   "outputs": [],
   "source": [
    "db = io.DBManager()\n",
    "data = db.get_image_id_markings('17a')"
   ]
  },
  {
   "cell_type": "code",
   "execution_count": 0,
   "metadata": {
    "collapsed": false
   },
   "outputs": [],
   "source": [
    "plotting.plot_image_id_pipeline('17a', include_angle=True, include_distance=True,\n",
    "                                include_radius=False, eps=20, min_distance=20)"
   ]
  },
  {
   "cell_type": "code",
   "execution_count": 0,
   "metadata": {
    "collapsed": false
   },
   "outputs": [],
   "source": [
    "plotting.plot_raw_fans('17a')"
   ]
  },
  {
   "cell_type": "code",
   "execution_count": 0,
   "metadata": {
    "collapsed": false
   },
   "outputs": [],
   "source": [
    "plotting.plot_finals('17a')"
   ]
  },
  {
   "cell_type": "code",
   "execution_count": 0,
   "metadata": {
    "collapsed": true
   },
   "outputs": [],
   "source": [
    "imgid = markings.ImageID(id_)"
   ]
  },
  {
   "cell_type": "code",
   "execution_count": 0,
   "metadata": {
    "collapsed": true
   },
   "outputs": [],
   "source": [
    "fans = imgid.get_fans()"
   ]
  },
  {
   "cell_type": "code",
   "execution_count": 0,
   "metadata": {
    "collapsed": false,
    "scrolled": false
   },
   "outputs": [],
   "source": [
    "dbscanner = clustering.DBScanner(fans[['x','y']].values)"
   ]
  },
  {
   "cell_type": "code",
   "execution_count": 0,
   "metadata": {
    "collapsed": false
   },
   "outputs": [],
   "source": [
    "dbscanner.reduced_data"
   ]
  },
  {
   "cell_type": "code",
   "execution_count": 0,
   "metadata": {
    "collapsed": false,
    "scrolled": false
   },
   "outputs": [],
   "source": [
    "fan = fans.iloc[dbscanner.reduced_data[6]]\n",
    "\n",
    "imgid.plot_fans(fans=markings.FanContainer.from_df(fan).content)"
   ]
  },
  {
   "cell_type": "code",
   "execution_count": 0,
   "metadata": {
    "collapsed": false
   },
   "outputs": [],
   "source": [
    "fan[['x','y']]"
   ]
  },
  {
   "cell_type": "code",
   "execution_count": 0,
   "metadata": {
    "collapsed": false
   },
   "outputs": [],
   "source": [
    "markings.Fan.to_average"
   ]
  },
  {
   "cell_type": "code",
   "execution_count": 0,
   "metadata": {
    "collapsed": false
   },
   "outputs": [],
   "source": [
    "clusterdata = fans[markings.Fan.to_average].iloc[dbscanner.reduced_data[6]]\n",
    "clusterdata"
   ]
  },
  {
   "cell_type": "code",
   "execution_count": 0,
   "metadata": {
    "collapsed": false
   },
   "outputs": [],
   "source": [
    "from scipy.stats import circmean"
   ]
  },
  {
   "cell_type": "code",
   "execution_count": 0,
   "metadata": {
    "collapsed": false
   },
   "outputs": [],
   "source": [
    "np.rad2deg(circmean(np.deg2rad(angles)))"
   ]
  },
  {
   "cell_type": "code",
   "execution_count": 0,
   "metadata": {
    "collapsed": false
   },
   "outputs": [],
   "source": [
    "meandata = clusterdata.mean()\n",
    "meandata"
   ]
  },
  {
   "cell_type": "code",
   "execution_count": 0,
   "metadata": {
    "collapsed": true
   },
   "outputs": [],
   "source": [
    "meandata.angle = np.rad2deg(circmean(np.deg2rad(clusterdata.angle)))"
   ]
  },
  {
   "cell_type": "code",
   "execution_count": 0,
   "metadata": {
    "collapsed": false
   },
   "outputs": [],
   "source": [
    "meandata"
   ]
  },
  {
   "cell_type": "code",
   "execution_count": 0,
   "metadata": {
    "collapsed": false
   },
   "outputs": [],
   "source": [
    "type(meandata)"
   ]
  },
  {
   "cell_type": "code",
   "execution_count": 0,
   "metadata": {
    "collapsed": false
   },
   "outputs": [],
   "source": [
    "imgid.plot_fans(fans=[markings.Fan(meandata)])"
   ]
  },
  {
   "cell_type": "code",
   "execution_count": 0,
   "metadata": {
    "collapsed": false
   },
   "outputs": [],
   "source": [
    "plotting.plot_clustered_fans('6t3')"
   ]
  },
  {
   "cell_type": "code",
   "execution_count": 0,
   "metadata": {
    "collapsed": false
   },
   "outputs": [],
   "source": [
    "angle1 = 181\n",
    "angle2 = 538\n",
    "fantest = markings.Fan(pd.Series(dict(x=200,y=200, angle=angle1, spread=30, distance=100)),\n",
    "                       linewidth=2)\n",
    "fantest2 = markings.Fan(pd.Series(dict(x=200,y=200, angle=angle2, spread=30, distance=100)),\n",
    "                       linewidth=2)\n",
    "\n",
    "\n",
    "imgid.plot_fans(fans=[fantest, fantest2])"
   ]
  },
  {
   "cell_type": "code",
   "execution_count": 0,
   "metadata": {
    "collapsed": false
   },
   "outputs": [],
   "source": [
    "angle2 = 182\n",
    "fantest2 = markings.Fan(pd.Series(dict(x=meandata.x,y=meandata.y, angle=angle2, \n",
    "                                       spread=meandata.spread, distance=meandata.spread)),\n",
    "                       linewidth=2)\n",
    "imgid.plot_fans(fans=[fantest2])"
   ]
  },
  {
   "cell_type": "code",
   "execution_count": 0,
   "metadata": {
    "collapsed": false
   },
   "outputs": [],
   "source": [
    "meandata.angle"
   ]
  },
  {
   "cell_type": "code",
   "execution_count": 0,
   "metadata": {
    "collapsed": false,
    "scrolled": true
   },
   "outputs": [],
   "source": [
    "imgid.plot_fans(fans=[markings.Fan(meandata)])"
   ]
  },
  {
   "cell_type": "code",
   "execution_count": 0,
   "metadata": {
    "collapsed": true
   },
   "outputs": [],
   "source": []
  }
 ],
 "metadata": {
  "kernelspec": {
   "display_name": "Python 3",
   "language": "python",
   "name": "python3"
  },
  "language_info": {
   "codemirror_mode": {
    "name": "ipython",
    "version": 3
   },
   "file_extension": ".py",
   "mimetype": "text/x-python",
   "name": "python",
   "nbconvert_exporter": "python",
   "pygments_lexer": "ipython3",
   "version": "3.5.0"
  }
 },
 "nbformat": 4,
 "nbformat_minor": 0
}