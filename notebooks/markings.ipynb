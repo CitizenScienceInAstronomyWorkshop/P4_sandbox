{
 "cells": [
  {
   "cell_type": "markdown",
   "metadata": {
    "toc": "true"
   },
   "source": [
    "<h1>Table of Contents<span class=\"tocSkip\"></span></h1>\n",
    "<div class=\"toc\"><ul class=\"toc-item\"><li><ul class=\"toc-item\"><li><span><a href=\"#fan-graphic\" data-toc-modified-id=\"fan-graphic-0.1\">fan graphic</a></span></li></ul></li><li><span><a href=\"#Blotches-/-Ellipses\" data-toc-modified-id=\"Blotches-/-Ellipses-1\">Blotches / Ellipses</a></span><ul class=\"toc-item\"><li><span><a href=\"#Shapely-fans\" data-toc-modified-id=\"Shapely-fans-1.1\">Shapely fans</a></span></li></ul></li></ul></div>"
   ]
  },
  {
   "cell_type": "code",
   "execution_count": 2,
   "metadata": {},
   "outputs": [],
   "source": [
    "%load_ext lab_black"
   ]
  },
  {
   "cell_type": "code",
   "execution_count": 3,
   "metadata": {},
   "outputs": [],
   "source": [
    "from planet4 import io, markings"
   ]
  },
  {
   "cell_type": "code",
   "execution_count": 5,
   "metadata": {},
   "outputs": [],
   "source": [
    "imgid = markings.TileID(\"APF0000pr4\")"
   ]
  },
  {
   "cell_type": "code",
   "execution_count": 6,
   "metadata": {},
   "outputs": [],
   "source": [
    "%matplotlib widget\n",
    "import seaborn as sns\n",
    "\n",
    "sns.set_context(\"notebook\")"
   ]
  },
  {
   "cell_type": "code",
   "execution_count": 7,
   "metadata": {},
   "outputs": [
    {
     "data": {
      "application/vnd.jupyter.widget-view+json": {
       "model_id": "9e4d89387f6e45d6bc73ea4212ea23de",
       "version_major": 2,
       "version_minor": 0
      },
      "text/plain": [
       "FigureCanvasNbAgg()"
      ]
     },
     "metadata": {},
     "output_type": "display_data"
    }
   ],
   "source": [
    "imgid.plot_blotches()"
   ]
  },
  {
   "cell_type": "code",
   "execution_count": 8,
   "metadata": {},
   "outputs": [
    {
     "data": {
      "application/vnd.jupyter.widget-view+json": {
       "model_id": "8a4986fb9615450b9c851d50a327a450",
       "version_major": 2,
       "version_minor": 0
      },
      "text/plain": [
       "FigureCanvasNbAgg()"
      ]
     },
     "metadata": {},
     "output_type": "display_data"
    }
   ],
   "source": [
    "imgid.plot_fans()"
   ]
  },
  {
   "cell_type": "code",
   "execution_count": 9,
   "metadata": {},
   "outputs": [],
   "source": [
    "blotches = imgid.get_blotches()\n",
    "fans = imgid.get_fans()"
   ]
  },
  {
   "cell_type": "markdown",
   "metadata": {},
   "source": [
    "## fan graphic"
   ]
  },
  {
   "cell_type": "code",
   "execution_count": 10,
   "metadata": {},
   "outputs": [],
   "source": [
    "sns.set_style(\"white\")"
   ]
  },
  {
   "cell_type": "code",
   "execution_count": 11,
   "metadata": {},
   "outputs": [],
   "source": [
    "import matplotlib.image as mplimg"
   ]
  },
  {
   "cell_type": "code",
   "execution_count": 12,
   "metadata": {},
   "outputs": [],
   "source": [
    "img = mplimg.imread(\n",
    "    \"/Users/klay6683/Dropbox/data/planet4/images/50e73ae05e2ed211dc00016d.jpg\"\n",
    ")"
   ]
  },
  {
   "cell_type": "code",
   "execution_count": 13,
   "metadata": {},
   "outputs": [
    {
     "data": {
      "application/vnd.jupyter.widget-view+json": {
       "model_id": "ba325f06cdde469d95bc80ec2a655492",
       "version_major": 2,
       "version_minor": 0
      },
      "text/plain": [
       "FigureCanvasNbAgg()"
      ]
     },
     "metadata": {},
     "output_type": "display_data"
    },
    {
     "data": {
      "text/plain": [
       "<matplotlib.image.AxesImage at 0x1259f1d30>"
      ]
     },
     "execution_count": 13,
     "metadata": {},
     "output_type": "execute_result"
    }
   ],
   "source": [
    "fig, ax = plt.subplots()\n",
    "ax.imshow(img, origin=\"upper\")"
   ]
  },
  {
   "cell_type": "code",
   "execution_count": 15,
   "metadata": {},
   "outputs": [],
   "source": [
    "p4id = markings.TileID(\"APF0000il4\")"
   ]
  },
  {
   "cell_type": "code",
   "execution_count": 16,
   "metadata": {},
   "outputs": [
    {
     "data": {
      "application/vnd.jupyter.widget-view+json": {
       "model_id": "59cff7a180b748aeb9d3548129ac04ca",
       "version_major": 2,
       "version_minor": 0
      },
      "text/plain": [
       "FigureCanvasNbAgg()"
      ]
     },
     "metadata": {},
     "output_type": "display_data"
    }
   ],
   "source": [
    "p4id.plot_fans()"
   ]
  },
  {
   "cell_type": "code",
   "execution_count": 17,
   "metadata": {},
   "outputs": [
    {
     "data": {
      "application/vnd.jupyter.widget-view+json": {
       "model_id": "2e57a76939d04c81bd7786c63c4276dd",
       "version_major": 2,
       "version_minor": 0
      },
      "text/plain": [
       "FigureCanvasNbAgg()"
      ]
     },
     "metadata": {},
     "output_type": "display_data"
    },
    {
     "data": {
      "text/plain": [
       "<matplotlib.axes._subplots.AxesSubplot at 0x1259306a0>"
      ]
     },
     "execution_count": 17,
     "metadata": {},
     "output_type": "execute_result"
    }
   ],
   "source": [
    "fig, ax = plt.subplots()\n",
    "p4id.data.angle.hist(ax=ax)"
   ]
  },
  {
   "cell_type": "code",
   "execution_count": 18,
   "metadata": {},
   "outputs": [
    {
     "data": {
      "application/vnd.jupyter.widget-view+json": {
       "model_id": "fe4726013197455db33304285fd68007",
       "version_major": 2,
       "version_minor": 0
      },
      "text/plain": [
       "FigureCanvasNbAgg()"
      ]
     },
     "metadata": {},
     "output_type": "display_data"
    },
    {
     "data": {
      "text/plain": [
       "Text(667.4829279269914, 471.6718345271495, 'P4: 15, Hi: 345')"
      ]
     },
     "execution_count": 18,
     "metadata": {},
     "output_type": "execute_result"
    },
    {
     "data": {
      "text/plain": [
       "Text(577.9999117889757, 612.1320343559643, 'P4: 50, Hi: 310')"
      ]
     },
     "execution_count": 18,
     "metadata": {},
     "output_type": "execute_result"
    },
    {
     "data": {
      "text/plain": [
       "Text(424.135055323408, 675.864944676592, 'P4: 85, Hi: 275')"
      ]
     },
     "execution_count": 18,
     "metadata": {},
     "output_type": "execute_result"
    },
    {
     "data": {
      "text/plain": [
       "Text(261.5406480254195, 639.8186324030357, 'P4: 120, Hi: 240')"
      ]
     },
     "execution_count": 18,
     "metadata": {},
     "output_type": "execute_result"
    },
    {
     "data": {
      "text/plain": [
       "Text(149.02642223477858, 517.0309013064818, 'P4: 155, Hi: 205')"
      ]
     },
     "execution_count": 18,
     "metadata": {},
     "output_type": "execute_result"
    },
    {
     "data": {
      "text/plain": [
       "Text(127.28831339677379, 351.91357169733993, 'P4: 190, Hi: 170')"
      ]
     },
     "execution_count": 18,
     "metadata": {},
     "output_type": "execute_result"
    },
    {
     "data": {
      "text/plain": [
       "Text(204.18890660015816, 204.18890660015822, 'P4: 225, Hi: 135')"
      ]
     },
     "execution_count": 18,
     "metadata": {},
     "output_type": "execute_result"
    },
    {
     "data": {
      "text/plain": [
       "Text(351.91357169734, 127.28831339677379, 'P4: 260, Hi: 100')"
      ]
     },
     "execution_count": 18,
     "metadata": {},
     "output_type": "execute_result"
    },
    {
     "data": {
      "text/plain": [
       "Text(517.0309013064818, 149.0264222347786, 'P4: 295, Hi: 65')"
      ]
     },
     "execution_count": 18,
     "metadata": {},
     "output_type": "execute_result"
    },
    {
     "data": {
      "text/plain": [
       "Text(639.8186324030356, 261.54064802541933, 'P4: 330, Hi: 30')"
      ]
     },
     "execution_count": 18,
     "metadata": {},
     "output_type": "execute_result"
    }
   ],
   "source": [
    "fig, ax = plt.subplots()\n",
    "for angle in range(15, 360, 35):\n",
    "    hiangle = 360 - angle\n",
    "    fan = markings.Fan(\n",
    "        pd.Series(dict(x=400, y=400, angle=angle, distance=100, spread=10))\n",
    "    )\n",
    "    fan.plot(color=\"g\", ax=ax)\n",
    "    markings.set_subframe_size(ax)\n",
    "    fan.add_mean_wind_pointer(ax)\n",
    "    ax.text(\n",
    "        *fan.wind_pointer_end,\n",
    "        f\"P4: {angle}, Hi: {hiangle}\",\n",
    "        horizontalalignment=\"left\",\n",
    "        verticalalignment=\"center\",\n",
    "    )"
   ]
  },
  {
   "cell_type": "code",
   "execution_count": 19,
   "metadata": {},
   "outputs": [
    {
     "data": {
      "application/vnd.jupyter.widget-view+json": {
       "model_id": "efbc74ce4f4d446883e20025f401ecec",
       "version_major": 2,
       "version_minor": 0
      },
      "text/plain": [
       "FigureCanvasNbAgg()"
      ]
     },
     "metadata": {},
     "output_type": "display_data"
    },
    {
     "ename": "NameError",
     "evalue": "name 'mlines' is not defined",
     "output_type": "error",
     "traceback": [
      "\u001b[0;31m---------------------------------------------------------------------------\u001b[0m",
      "\u001b[0;31mNameError\u001b[0m                                 Traceback (most recent call last)",
      "\u001b[0;32m<ipython-input-19-8139c5630d4d>\u001b[0m in \u001b[0;36m<module>\u001b[0;34m\u001b[0m\n\u001b[1;32m      7\u001b[0m     \u001b[0mp2\u001b[0m \u001b[0;34m=\u001b[0m \u001b[0mmarkings\u001b[0m\u001b[0;34m.\u001b[0m\u001b[0mrotate_vector\u001b[0m\u001b[0;34m(\u001b[0m\u001b[0;34m[\u001b[0m\u001b[0mlength\u001b[0m\u001b[0;34m,\u001b[0m \u001b[0;36m0\u001b[0m\u001b[0;34m]\u001b[0m\u001b[0;34m,\u001b[0m \u001b[0mangle\u001b[0m\u001b[0;34m+\u001b[0m\u001b[0;36m15\u001b[0m\u001b[0;34m)\u001b[0m\u001b[0;34m\u001b[0m\u001b[0;34m\u001b[0m\u001b[0m\n\u001b[1;32m      8\u001b[0m     \u001b[0mvectors\u001b[0m \u001b[0;34m=\u001b[0m \u001b[0mnp\u001b[0m\u001b[0;34m.\u001b[0m\u001b[0mvstack\u001b[0m\u001b[0;34m(\u001b[0m\u001b[0;34m(\u001b[0m\u001b[0mbase\u001b[0m\u001b[0;34m+\u001b[0m\u001b[0mp1\u001b[0m\u001b[0;34m,\u001b[0m \u001b[0mbase\u001b[0m\u001b[0;34m,\u001b[0m \u001b[0mbase\u001b[0m\u001b[0;34m+\u001b[0m\u001b[0mp2\u001b[0m\u001b[0;34m,\u001b[0m \u001b[0mbase\u001b[0m\u001b[0;34m+\u001b[0m\u001b[0mp1\u001b[0m\u001b[0;34m)\u001b[0m\u001b[0;34m)\u001b[0m\u001b[0;34m\u001b[0m\u001b[0;34m\u001b[0m\u001b[0m\n\u001b[0;32m----> 9\u001b[0;31m     \u001b[0mline\u001b[0m \u001b[0;34m=\u001b[0m \u001b[0mmlines\u001b[0m\u001b[0;34m.\u001b[0m\u001b[0mLine2D\u001b[0m\u001b[0;34m(\u001b[0m\u001b[0mvectors\u001b[0m\u001b[0;34m[\u001b[0m\u001b[0;34m:\u001b[0m\u001b[0;34m,\u001b[0m \u001b[0;36m0\u001b[0m\u001b[0;34m]\u001b[0m\u001b[0;34m,\u001b[0m \u001b[0mvectors\u001b[0m\u001b[0;34m[\u001b[0m\u001b[0;34m:\u001b[0m\u001b[0;34m,\u001b[0m \u001b[0;36m1\u001b[0m\u001b[0;34m]\u001b[0m\u001b[0;34m)\u001b[0m\u001b[0;34m\u001b[0m\u001b[0;34m\u001b[0m\u001b[0m\n\u001b[0m\u001b[1;32m     10\u001b[0m     \u001b[0max\u001b[0m\u001b[0;34m.\u001b[0m\u001b[0madd_line\u001b[0m\u001b[0;34m(\u001b[0m\u001b[0mline\u001b[0m\u001b[0;34m)\u001b[0m\u001b[0;34m\u001b[0m\u001b[0;34m\u001b[0m\u001b[0m\n\u001b[1;32m     11\u001b[0m \u001b[0;34m\u001b[0m\u001b[0m\n",
      "\u001b[0;31mNameError\u001b[0m: name 'mlines' is not defined"
     ]
    }
   ],
   "source": [
    "base = np.array([0.5,0.5])\n",
    "length = 0.3\n",
    "fig, ax = plt.subplots()\n",
    "ax.set_aspect('equal')\n",
    "for angle in range(0, 360, 30):\n",
    "    p1 = markings.rotate_vector([length, 0], angle-15)\n",
    "    p2 = markings.rotate_vector([length, 0], angle+15)\n",
    "    vectors = np.vstack((base+p1, base, base+p2, base+p1))\n",
    "    line = mlines.Line2D(vectors[:, 0], vectors[:, 1])\n",
    "    ax.add_line(line)\n",
    "\n",
    "    circle_base = p1-p2\n",
    "    print(vectors)\n",
    "    print(circle_base)\n",
    "    center = base + p2 + 0.5*circle_base\n",
    "    radius = 0.5 * LA.norm(circle_base)\n",
    "    theta1 = degrees(arctan2(*circle_base[::-1]))\n",
    "    theta2 = theta1+180\n",
    "    wedge = mpatches.Wedge(center, radius, theta1, theta2,width=0.01*radius)\n",
    "    ax.add_patch(wedge)"
   ]
  },
  {
   "cell_type": "code",
   "execution_count": null,
   "metadata": {},
   "outputs": [],
   "source": [
    "degrees(arctan2(circle_base[1],circle_base[0]))"
   ]
  },
  {
   "cell_type": "code",
   "execution_count": null,
   "metadata": {},
   "outputs": [],
   "source": [
    "arctan2?"
   ]
  },
  {
   "cell_type": "code",
   "execution_count": null,
   "metadata": {},
   "outputs": [],
   "source": [
    "markings.diffangle(p1, p2, rads=False)"
   ]
  },
  {
   "cell_type": "code",
   "execution_count": null,
   "metadata": {},
   "outputs": [],
   "source": [
    "base + markings.rotate_vector([0.3, 0], 45)"
   ]
  },
  {
   "cell_type": "code",
   "execution_count": null,
   "metadata": {},
   "outputs": [],
   "source": [
    "circle_base = array([1,-1])\n",
    "0.5*circle_base"
   ]
  },
  {
   "cell_type": "code",
   "execution_count": null,
   "metadata": {},
   "outputs": [],
   "source": [
    "degrees(arctan2(*-circle_base))"
   ]
  },
  {
   "cell_type": "code",
   "execution_count": null,
   "metadata": {},
   "outputs": [],
   "source": [
    "markings.diffangle(p1, p2, rads=False)"
   ]
  },
  {
   "cell_type": "code",
   "execution_count": null,
   "metadata": {},
   "outputs": [],
   "source": [
    "diff = degrees(py_ang(p1, p2))\n",
    "angle_to_p1 = degrees(py_ang([1,0],p1))\n",
    "angle = angle_to_p1 + diff/2.0\n",
    "angle"
   ]
  },
  {
   "cell_type": "code",
   "execution_count": null,
   "metadata": {},
   "outputs": [],
   "source": [
    "vectors = np.vstack((p1, base, p2))\n",
    "vectors"
   ]
  },
  {
   "cell_type": "code",
   "execution_count": null,
   "metadata": {},
   "outputs": [],
   "source": [
    "vectors[:,0]"
   ]
  },
  {
   "cell_type": "code",
   "execution_count": null,
   "metadata": {},
   "outputs": [],
   "source": [
    "import math"
   ]
  },
  {
   "cell_type": "code",
   "execution_count": null,
   "metadata": {},
   "outputs": [],
   "source": [
    "%timeit math.cos(0.2)"
   ]
  },
  {
   "cell_type": "code",
   "execution_count": null,
   "metadata": {},
   "outputs": [],
   "source": [
    "%timeit np.cos(0.2)"
   ]
  },
  {
   "cell_type": "markdown",
   "metadata": {},
   "source": [
    "# Blotches / Ellipses"
   ]
  },
  {
   "cell_type": "code",
   "execution_count": 20,
   "metadata": {},
   "outputs": [],
   "source": [
    "from planet4 import markings"
   ]
  },
  {
   "cell_type": "code",
   "execution_count": 74,
   "metadata": {},
   "outputs": [],
   "source": [
    "data = {\"x\": 383, \"y\": 304, \"angle\": 46, \"radius_1\": 200, \"radius_2\": 107}"
   ]
  },
  {
   "cell_type": "code",
   "execution_count": 75,
   "metadata": {},
   "outputs": [],
   "source": [
    "p4id = markings.TileID(\"brt\")"
   ]
  },
  {
   "cell_type": "code",
   "execution_count": 76,
   "metadata": {},
   "outputs": [
    {
     "data": {
      "application/vnd.jupyter.widget-view+json": {
       "model_id": "a2f4f1c95eae4771b3cbd423415ce3e7",
       "version_major": 2,
       "version_minor": 0
      },
      "text/plain": [
       "FigureCanvasNbAgg()"
      ]
     },
     "metadata": {},
     "output_type": "display_data"
    }
   ],
   "source": [
    "blotch = markings.Blotch(pd.Series(data), with_center=True, lw=2)\n",
    "fig, ax = plt.subplots()\n",
    "ax.set_aspect(\"equal\", \"datalim\")\n",
    "p4id.show_subframe(ax=ax)\n",
    "blotch.plot(ax=ax)\n",
    "# plt.gca().autoscale_view()"
   ]
  },
  {
   "cell_type": "code",
   "execution_count": 25,
   "metadata": {},
   "outputs": [
    {
     "data": {
      "image/svg+xml": [
       "<svg xmlns=\"http://www.w3.org/2000/svg\" xmlns:xlink=\"http://www.w3.org/1999/xlink\" width=\"300\" height=\"240.2778427127553\" viewBox=\"-13.53239081554223 79.86107864362233 427.06478163108505 240.2778427127553\" preserveAspectRatio=\"xMinYMin meet\"><g transform=\"matrix(1,0,0,-1,0,400.0)\"><path fill-rule=\"evenodd\" fill=\"#66cc99\" stroke=\"#555555\" stroke-width=\"2.847098544207234\" opacity=\"0.6\" d=\"M 396.9615506024416,234.72963553338607 L 397.7151766810582,224.9095988732527 L 396.56469752613083,214.8496691589996 L 393.52119288082514,204.64672901309225 L 388.61397335863154,194.39903832662586 L 381.8902981661135,184.205287962872 L 373.41491997091003,174.1636493103033 L 363.26946129813524,164.37082883846278 L 351.55162846090326,154.921136761792 L 338.37427059503733,145.9055787807209 L 323.8642928602787,137.4109796470066 L 308.1614342741588,129.51914699393598 L 291.4169219489273,122.30608348406491 L 273.7920146917553,115.84125486205483 L 255.45644999428774,110.18692096157429 L 236.5868093677892,105.39753610905953 L 217.36481776669305,101.5192246987792 L 197.9755934779358,98.58933698971896 L 178.6058653306342,96.63608940215201 L 159.44217439542058,95.67829277810696 L 140.66907749194434,95.7251712226558 L 122.46736980580229,96.77627327074762 L 105.01234373207541,98.82147623506793 L 88.47210071374784,101.84108369305923 L 73.00593233289166,105.80601517420217 L 58.762786245695565,110.67808622089245 L 45.87983173505923,116.41037612559506 L 34.48113869548068,122.94767980294972 L 24.67648277207303,130.22703944488262 L 16.56028816114878,138.17835083874039 L 10.210718253580929,146.72503850917002 L 5.688922878612679,155.78479318181707 L 3.038449397558395,165.27036446661393 L 2.2848233189424008,175.09040112674376 L 3.4353024738697826,185.1503308409968 L 6.478807119174849,195.35327098690775 L 11.386026641368474,205.60096167337412 L 18.109701833886508,215.79471203712797 L 26.5850800290899,225.83635068969667 L 36.73053870186473,235.6291711615372 L 48.44837153909673,245.07886323820796 L 61.625729404962655,254.0944212192791 L 76.13570713972129,262.58902035299343 L 91.83856572584115,270.4808530060641 L 108.5830780510727,277.69391651593503 L 126.20798530824464,284.1587451379452 L 144.54355000571226,289.8130790384257 L 163.41319063221084,294.6024638909405 L 182.63518223330698,298.4807753012208 L 202.02440652206423,301.41066301028104 L 221.3941346693658,303.36391059784796 L 240.5578256045794,304.321707221893 L 259.33092250805566,304.27482877734417 L 277.5326301941977,303.22372672925235 L 294.98765626792454,301.17852376493204 L 311.52789928625214,298.1589163069408 L 326.9940676671083,294.19398482579777 L 341.23721375430443,289.3219137791075 L 354.12016826494073,283.5896238744049 L 365.5188613045193,277.0523201970502 L 375.32351722792697,269.7729605551174 L 383.4397118388512,261.82164916125964 L 389.7892817464191,253.27496149082995 L 394.3110771213873,244.2152068181829 L 396.9615506024416,234.72963553338607 z\" /></g></svg>"
      ],
      "text/plain": [
       "<shapely.geometry.polygon.Polygon at 0x12516c6d8>"
      ]
     },
     "execution_count": 25,
     "metadata": {},
     "output_type": "execute_result"
    }
   ],
   "source": [
    "blotch.to_shapely()"
   ]
  },
  {
   "cell_type": "markdown",
   "metadata": {},
   "source": [
    "## Shapely fans"
   ]
  },
  {
   "cell_type": "code",
   "execution_count": 68,
   "metadata": {},
   "outputs": [],
   "source": [
    "d = {\"x\": [817], \"y\": [551], \"spread\": [30], \"angle\": [203], \"distance\": [306]}"
   ]
  },
  {
   "cell_type": "code",
   "execution_count": 69,
   "metadata": {},
   "outputs": [],
   "source": [
    "from planet4.markings import Fan\n",
    "from shapely import geometry as geom"
   ]
  },
  {
   "cell_type": "code",
   "execution_count": 70,
   "metadata": {},
   "outputs": [],
   "source": [
    "fan = Fan(pd.DataFrame(d).squeeze())"
   ]
  },
  {
   "cell_type": "code",
   "execution_count": 71,
   "metadata": {},
   "outputs": [],
   "source": [
    "fan_geo = fan.to_shapely()"
   ]
  },
  {
   "cell_type": "code",
   "execution_count": 72,
   "metadata": {},
   "outputs": [
    {
     "data": {
      "image/svg+xml": [
       "<svg xmlns=\"http://www.w3.org/2000/svg\" xmlns:xlink=\"http://www.w3.org/1999/xlink\" width=\"300\" height=\"181.90479999999997\" viewBox=\"518.7176000000001 380.5676 309.75479999999993 181.90479999999997\" preserveAspectRatio=\"xMinYMin meet\"><g transform=\"matrix(1,0,0,-1,0,943.04)\"><path fill-rule=\"evenodd\" fill=\"#66cc99\" stroke=\"#555555\" stroke-width=\"2.0650319999999995\" opacity=\"0.6\" d=\"M 620.12,397.18 L 817.0,551.0 L 569.58,516.23 L 567.71,515.4 L 565.86,514.51 L 564.04,513.56 L 562.25,512.55 L 560.5,511.49 L 558.78,510.37 L 557.09,509.2 L 555.44,507.97 L 553.84,506.7 L 552.27,505.37 L 550.75,504.0 L 549.27,502.57 L 547.84,501.1 L 546.45,499.59 L 545.12,498.03 L 543.83,496.43 L 542.6,494.8 L 541.41,493.12 L 540.28,491.4 L 539.21,489.66 L 538.19,487.87 L 537.23,486.06 L 536.33,484.22 L 535.49,482.35 L 534.7,480.45 L 533.98,478.53 L 533.32,476.59 L 532.72,474.63 L 532.18,472.65 L 531.71,470.65 L 531.3,468.64 L 530.95,466.62 L 530.67,464.58 L 530.45,462.54 L 530.3,460.5 L 530.21,458.45 L 530.19,456.4 L 530.23,454.34 L 530.34,452.29 L 530.51,450.25 L 530.74,448.21 L 531.05,446.18 L 531.41,444.16 L 531.84,442.16 L 532.34,440.16 L 532.89,438.19 L 533.51,436.23 L 534.19,434.3 L 534.93,432.38 L 535.73,430.5 L 536.6,428.63 L 537.52,426.8 L 538.49,424.99 L 539.53,423.22 L 540.62,421.48 L 541.76,419.78 L 542.96,418.11 L 544.21,416.49 L 545.51,414.9 L 546.86,413.36 L 548.26,411.86 L 549.71,410.4 L 551.2,408.99 L 552.74,407.63 L 554.31,406.32 L 555.93,405.06 L 557.59,403.85 L 559.29,402.69 L 561.02,401.59 L 562.78,400.55 L 564.58,399.56 L 566.41,398.63 L 568.27,397.75 L 570.15,396.94 L 572.06,396.19 L 573.99,395.49 L 575.94,394.86 L 577.92,394.29 L 579.9,393.79 L 581.91,393.35 L 583.92,392.97 L 585.95,392.65 L 587.99,392.4 L 590.03,392.22 L 592.08,392.1 L 594.13,392.04 L 596.18,392.05 L 598.23,392.13 L 600.28,392.27 L 602.32,392.47 L 604.36,392.74 L 606.38,393.07 L 608.4,393.47 L 610.39,393.93 L 612.38,394.46 L 614.34,395.05 L 616.29,395.7 L 618.22,396.41 L 620.12,397.18 z\" /></g></svg>"
      ],
      "text/plain": [
       "<shapely.geometry.polygon.Polygon at 0x126b02dd8>"
      ]
     },
     "execution_count": 72,
     "metadata": {},
     "output_type": "execute_result"
    }
   ],
   "source": [
    "fan_geo"
   ]
  },
  {
   "cell_type": "code",
   "execution_count": 73,
   "metadata": {},
   "outputs": [
    {
     "data": {
      "application/vnd.jupyter.widget-view+json": {
       "model_id": "ee85ee79a2dd47cd874c5115a449d1d1",
       "version_major": 2,
       "version_minor": 0
      },
      "text/plain": [
       "FigureCanvasNbAgg()"
      ]
     },
     "metadata": {},
     "output_type": "display_data"
    }
   ],
   "source": [
    "p4id.plot_fans(data=[fan])"
   ]
  },
  {
   "cell_type": "code",
   "execution_count": 30,
   "metadata": {},
   "outputs": [
    {
     "data": {
      "text/plain": [
       "17031.14324999999"
      ]
     },
     "execution_count": 30,
     "metadata": {},
     "output_type": "execute_result"
    }
   ],
   "source": [
    "fan_geo.area"
   ]
  },
  {
   "cell_type": "code",
   "execution_count": null,
   "metadata": {},
   "outputs": [],
   "source": [
    "%matplotlib ipympl"
   ]
  },
  {
   "cell_type": "code",
   "execution_count": null,
   "metadata": {},
   "outputs": [],
   "source": [
    "circle = geom.Point(*fan.semi_circle_center).buffer(fan.radius)\n",
    "circle"
   ]
  },
  {
   "cell_type": "code",
   "execution_count": null,
   "metadata": {},
   "outputs": [],
   "source": [
    "np.array(circle.boundary).shape"
   ]
  },
  {
   "cell_type": "markdown",
   "metadata": {},
   "source": [
    "The default buffering of shapely creates 66 elements here, therefore I will chose `numsegments` = 100 for now in the `to_shapely` method for Fans."
   ]
  },
  {
   "cell_type": "code",
   "execution_count": null,
   "metadata": {},
   "outputs": [],
   "source": [
    "plt.figure()\n",
    "plt.scatter(*circle.boundary.xy, s=1)"
   ]
  }
 ],
 "metadata": {
  "kernelspec": {
   "display_name": "Python 3",
   "language": "python",
   "name": "python3"
  },
  "language_info": {
   "codemirror_mode": {
    "name": "ipython",
    "version": 3
   },
   "file_extension": ".py",
   "mimetype": "text/x-python",
   "name": "python",
   "nbconvert_exporter": "python",
   "pygments_lexer": "ipython3",
   "version": "3.7.1"
  },
  "toc": {
   "base_numbering": 1,
   "nav_menu": {
    "height": "30px",
    "width": "252px"
   },
   "number_sections": false,
   "sideBar": false,
   "skip_h1_title": false,
   "title_cell": "Table of Contents",
   "title_sidebar": "Contents",
   "toc_cell": true,
   "toc_position": {},
   "toc_section_display": "block",
   "toc_window_display": false
  },
  "varInspector": {
   "cols": {
    "lenName": 16,
    "lenType": 16,
    "lenVar": 40
   },
   "kernels_config": {
    "python": {
     "delete_cmd_postfix": "",
     "delete_cmd_prefix": "del ",
     "library": "var_list.py",
     "varRefreshCmd": "print(var_dic_list())"
    },
    "r": {
     "delete_cmd_postfix": ") ",
     "delete_cmd_prefix": "rm(",
     "library": "var_list.r",
     "varRefreshCmd": "cat(var_dic_list()) "
    }
   },
   "types_to_exclude": [
    "module",
    "function",
    "builtin_function_or_method",
    "instance",
    "_Feature"
   ],
   "window_display": false
  }
 },
 "nbformat": 4,
 "nbformat_minor": 2
}
