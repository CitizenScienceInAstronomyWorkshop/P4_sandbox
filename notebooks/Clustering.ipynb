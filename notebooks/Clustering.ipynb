{
 "metadata": {
  "name": "",
  "signature": "sha256:caa335df1dc0cd8e0a3e5bd62d0c861a56ca4d2b632a2daf74f547755fe7d18b"
 },
 "nbformat": 3,
 "nbformat_minor": 0,
 "worksheets": [
  {
   "cells": [
    {
     "cell_type": "code",
     "collapsed": false,
     "input": [
      "from P4_sandbox import helper_functions as hf\n",
      "from P4_sandbox import get_data\n",
      "from P4_sandbox import overplot_blotches as ob"
     ],
     "language": "python",
     "metadata": {},
     "outputs": [],
     "prompt_number": 1
    },
    {
     "cell_type": "code",
     "collapsed": false,
     "input": [
      "blotches = get_data.get_example_blotches()"
     ],
     "language": "python",
     "metadata": {},
     "outputs": [],
     "prompt_number": 4
    },
    {
     "cell_type": "code",
     "collapsed": false,
     "input": [
      "blotches.shape"
     ],
     "language": "python",
     "metadata": {},
     "outputs": [
      {
       "metadata": {},
       "output_type": "pyout",
       "prompt_number": 5,
       "text": [
        "(4420, 21)"
       ]
      }
     ],
     "prompt_number": 5
    },
    {
     "cell_type": "code",
     "collapsed": false,
     "input": [
      "blotches.iloc[0]"
     ],
     "language": "python",
     "metadata": {},
     "outputs": [
      {
       "metadata": {},
       "output_type": "pyout",
       "prompt_number": 6,
       "text": [
        "classification_id                             50eb679ee643e00703000673\n",
        "created_at                                         2013-01-08 00:26:06\n",
        "image_id                                                    APF0000nui\n",
        "image_name                                             ESP_020376_0980\n",
        "image_url            http://www.planetfour.org/subjects/standard/50...\n",
        "user_name                                                     mschwamb\n",
        "marking                                                         blotch\n",
        "x_tile                                                               1\n",
        "y_tile                                                               5\n",
        "acquisition_date                                   2010-12-01 00:00:00\n",
        "local_mars_time                                                4:34 PM\n",
        "x                                                                  418\n",
        "y                                                                  110\n",
        "image_x                                                            418\n",
        "image_y                                                           2302\n",
        "radius_1                                                      29.61419\n",
        "radius_2                                                      22.21064\n",
        "distance                                                           NaN\n",
        "angle                                                         78.31063\n",
        "spread                                                             NaN\n",
        "season                                                               3\n",
        "Name: 782, dtype: object"
       ]
      }
     ],
     "prompt_number": 6
    },
    {
     "cell_type": "code",
     "collapsed": false,
     "input": [
      "from sklearn.cluster import MeanShift, estimate_bandwidth\n",
      "\n",
      "for i in linspace(0.1,1.0,10):\n",
      "    fig, ax = subplots()\n",
      "    bandwidth = estimate_bandwidth(X, quantile=i)\n",
      "    ms = MeanShift(bandwidth=bandwidth, bin_seeding=True)\n",
      "\n",
      "    ms.fit(X)\n",
      "    labels = ms.labels_\n",
      "    cluster_centers = ms.cluster_centers_\n",
      "\n",
      "    labels_unique = np.unique(labels)\n",
      "    n_clusters_ = len(labels_unique)\n",
      "\n",
      "    print(\"number of estimated clusters : %d\" % n_clusters_)\n",
      "    import pylab as pl\n",
      "    from itertools import cycle\n",
      "\n",
      "    pl.figure(1)\n",
      "    pl.clf()\n",
      "\n",
      "    colors = cycle('bgrcmykbgrcmykbgrcmykbgrcmyk')\n",
      "    for k, col in zip(range(n_clusters_), colors):\n",
      "        my_members = labels == k\n",
      "        cluster_center = cluster_centers[k]\n",
      "        ax.plot(X[my_members, 0], X[my_members, 1], col + '.')\n",
      "        ax.plot(cluster_center[0], cluster_center[1], 'o', markerfacecolor=col,\n",
      "                markeredgecolor='k', markersize=14)\n",
      "    ax.set_title('Quantile={0}, '\n",
      "                 'estimated number of clusters: {1}'.format(i, \n",
      "                                                            n_clusters_))\n",
      "    fig.savefig('plots/MeanShift_{}.png'.format(i),dpi=200,ax=ax)"
     ],
     "language": "python",
     "metadata": {},
     "outputs": [
      {
       "ename": "NameError",
       "evalue": "name 'X' is not defined",
       "output_type": "pyerr",
       "traceback": [
        "---------------------------------------------------------------------------\nNameError                                 Traceback (most recent call last)",
        "<ipython-input-7-faad0e7a6728> in <module>()\n      3 for i in linspace(0.1,1.0,10):\n      4     fig, ax = subplots()\n----> 5     bandwidth = estimate_bandwidth(X, quantile=i)\n      6     ms = MeanShift(bandwidth=bandwidth, bin_seeding=True)\n      7 \n",
        "NameError: name 'X' is not defined"
       ]
      }
     ],
     "prompt_number": 7
    },
    {
     "cell_type": "code",
     "collapsed": false,
     "input": [
      "import numpy as np\n",
      "from sklearn.cluster import DBSCAN\n",
      "from sklearn import metrics\n",
      "from sklearn.datasets.samples_generator import make_blobs\n",
      "from sklearn.preprocessing import StandardScaler\n",
      "from P4_sandbox import overplot_blotches as ob"
     ],
     "language": "python",
     "metadata": {},
     "outputs": [],
     "prompt_number": 31
    },
    {
     "cell_type": "code",
     "collapsed": false,
     "input": [
      "img_ids = blotches.image_id.unique()\n",
      "cols = 'x y'.split()"
     ],
     "language": "python",
     "metadata": {},
     "outputs": [],
     "prompt_number": 36
    },
    {
     "cell_type": "code",
     "collapsed": false,
     "input": [
      "reload(ob)"
     ],
     "language": "python",
     "metadata": {},
     "outputs": [
      {
       "metadata": {},
       "output_type": "pyout",
       "prompt_number": 139,
       "text": [
        "<module 'P4_sandbox.overplot_blotches' from '/Users/maye/Dropbox/src/P4_sandbox/overplot_blotches.py'>"
       ]
      }
     ],
     "prompt_number": 139
    },
    {
     "cell_type": "code",
     "collapsed": false,
     "input": [
      "def resetExtent(data,im):\n",
      "    \"\"\"\n",
      "    Using the data and axes from an AxesImage, im, force the extent and \n",
      "    axis values to match shape of data.\n",
      "    \"\"\"\n",
      "    ax = im.get_axes()\n",
      "    dataShape = data.shape\n",
      "\n",
      "    if im.origin == 'upper':\n",
      "        im.set_extent((-0.5,dataShape[0]-.5,dataShape[1]-.5,-.5))\n",
      "        ax.set_xlim((-0.5,dataShape[0]-.5))\n",
      "        ax.set_ylim((dataShape[1]-.5,-.5))\n",
      "    else:\n",
      "        im.set_extent((-0.5,dataShape[0]-.5,-.5,dataShape[1]-.5))\n",
      "        ax.set_xlim((-0.5,dataShape[0]-.5))\n",
      "        ax.set_ylim((-.5,dataShape[1]-.5))"
     ],
     "language": "python",
     "metadata": {},
     "outputs": [],
     "prompt_number": 141
    },
    {
     "cell_type": "code",
     "collapsed": false,
     "input": [
      "import pylab as pl\n",
      "\n",
      "img_id = img_ids[15]\n",
      "data = blotches[blotches.image_id==img_id]\n",
      "X = data[cols].values; \n",
      "eps = 8\n",
      "min_samples=5\n",
      "# X = StandardScaler().fit_transform(data[cols].values); eps=0.3\n",
      "p4img = get_data.get_image_from_record(data.iloc[0])\n",
      "fig, ax = plt.subplots(ncols=2,nrows=2, figsize=(10,8))\n",
      "axes = ax.flatten()\n",
      "for i in range(4):\n",
      "    im = axes[i].imshow(p4img)\n",
      "    axes[i].set_title('Original')\n",
      "ob.add_ellipses_to_axis(axes[1], data)\n",
      "axes[1].set_title(\"Markings\")\n",
      "db = DBSCAN(eps=eps, min_samples=min_samples).fit(X)\n",
      "labels = db.labels_\n",
      "core_samples = db.core_sample_indices_\n",
      "n_clusters_ = len(set(labels)) - (1 if -1 in labels else 0)\n",
      "labels = db.labels_\n",
      "\n",
      "# Number of clusters in labels, ignoring noise if present.\n",
      "n_clusters = len(set(labels)) - (1 if -1 in labels else 0)\n",
      "\n",
      "print('Estimated number of clusters: %d' % n_clusters_)\n",
      "print(\"Silhouette Coefficient: %0.3f\"\n",
      "      % metrics.silhouette_score(X, labels))\n",
      "\n",
      "unique_labels = set(labels)\n",
      "colors = pl.cm.Spectral(linspace(0,1, len(unique_labels)))\n",
      "for k, col in zip(unique_labels, colors):\n",
      "    if k == -1:\n",
      "        col = 'k'\n",
      "        markersize=5\n",
      "    class_members = [index[0] for index in argwhere(labels == k)]\n",
      "    cluster_core_samples = [index for index in core_samples \n",
      "                            if labels[index] == k]\n",
      "    for index in class_members:\n",
      "        x = X[index]\n",
      "        if index in core_samples and k != -1:\n",
      "            markersize = 8\n",
      "        else:\n",
      "            markersize = 5\n",
      "        axes[3].plot(x[0], x[1], 'o', markerfacecolor=col,\n",
      "                markeredgecolor='k', markersize=markersize)\n",
      "    if k > -0.5:\n",
      "        meanx, meany = X[cluster_core_samples].mean(axis=0)\n",
      "        axes[3].plot(meanx, meany, 'x', markerfacecolor='green',\n",
      "                     markeredgecolor='k', markersize=12,\n",
      "                     mew=2)\n",
      "axes[3].set_title('Estimated number of clusters: {}'.format(n_clusters))\n",
      "resetExtent(img[...,0].T, im)\n",
      "pl.tight_layout()"
     ],
     "language": "python",
     "metadata": {},
     "outputs": [
      {
       "ename": "IndexError",
       "evalue": "index out of bounds",
       "output_type": "pyerr",
       "traceback": [
        "---------------------------------------------------------------------------\nIndexError                                Traceback (most recent call last)",
        "<ipython-input-196-908f09c6a247> in <module>()\n      1 import pylab as pl\n      2 \n----> 3 img_id = img_ids[15]\n      4 data = blotches[blotches.image_id==img_id]\n      5 X = data[cols].values; \n",
        "IndexError: index out of bounds"
       ]
      }
     ],
     "prompt_number": 196
    },
    {
     "cell_type": "code",
     "collapsed": false,
     "input": [
      "class_members = [index[0] for index in argwhere(labels == 1)]"
     ],
     "language": "python",
     "metadata": {},
     "outputs": [],
     "prompt_number": 167
    },
    {
     "cell_type": "code",
     "collapsed": false,
     "input": [
      "cluster_core_samples = [index for index in core_samples if labels[index] == 1]"
     ],
     "language": "python",
     "metadata": {},
     "outputs": [],
     "prompt_number": 169
    },
    {
     "cell_type": "code",
     "collapsed": false,
     "input": [
      "X[cluster_core_samples].mean(axis=0)"
     ],
     "language": "python",
     "metadata": {},
     "outputs": [
      {
       "metadata": {},
       "output_type": "pyout",
       "prompt_number": 178,
       "text": [
        "array([ 238.33673469,  615.85714286])"
       ]
      }
     ],
     "prompt_number": 178
    },
    {
     "cell_type": "code",
     "collapsed": false,
     "input": [
      "plot?"
     ],
     "language": "python",
     "metadata": {},
     "outputs": [],
     "prompt_number": 190
    },
    {
     "cell_type": "code",
     "collapsed": false,
     "input": [
      "fig.subplots_adjust(top=0.9, bottom=0.1)"
     ],
     "language": "python",
     "metadata": {},
     "outputs": [],
     "prompt_number": 78
    },
    {
     "cell_type": "code",
     "collapsed": false,
     "input": [
      "fig.canvas.update()"
     ],
     "language": "python",
     "metadata": {},
     "outputs": [],
     "prompt_number": 79
    },
    {
     "cell_type": "code",
     "collapsed": false,
     "input": [
      "show()"
     ],
     "language": "python",
     "metadata": {},
     "outputs": [],
     "prompt_number": 80
    },
    {
     "cell_type": "code",
     "collapsed": false,
     "input": [],
     "language": "python",
     "metadata": {},
     "outputs": []
    }
   ],
   "metadata": {}
  }
 ]
}