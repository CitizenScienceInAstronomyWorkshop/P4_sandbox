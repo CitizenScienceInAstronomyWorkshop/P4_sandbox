{
 "cells": [
  {
   "cell_type": "code",
   "execution_count": 1,
   "metadata": {
    "collapsed": false
   },
   "outputs": [],
   "source": [
    "from planet4 import io\n",
    "from planet4.region_data import Inca"
   ]
  },
  {
   "cell_type": "markdown",
   "metadata": {},
   "source": [
    "read the fast_read hdf"
   ]
  },
  {
   "cell_type": "code",
   "execution_count": 2,
   "metadata": {
    "collapsed": true
   },
   "outputs": [],
   "source": [
    "uncleaned = \"/Users/klay6683/local_data/2016-11-21_planet_four_classifications_queryable.h5\""
   ]
  },
  {
   "cell_type": "code",
   "execution_count": 4,
   "metadata": {
    "collapsed": true
   },
   "outputs": [],
   "source": [
    "data = pd.read_hdf(uncleaned, 'df')"
   ]
  },
  {
   "cell_type": "code",
   "execution_count": 5,
   "metadata": {
    "collapsed": true
   },
   "outputs": [],
   "source": [
    "c_id = '50ef419195e6e40eac000001'"
   ]
  },
  {
   "cell_type": "code",
   "execution_count": 6,
   "metadata": {
    "collapsed": false
   },
   "outputs": [
    {
     "data": {
      "text/plain": [
       "(1, 21)"
      ]
     },
     "execution_count": 6,
     "metadata": {},
     "output_type": "execute_result"
    }
   ],
   "source": [
    "sub = data[data.classification_id==c_id]\n",
    "sub.shape"
   ]
  },
  {
   "cell_type": "code",
   "execution_count": 7,
   "metadata": {
    "collapsed": false
   },
   "outputs": [
    {
     "data": {
      "text/html": [
       "<div>\n",
       "<table border=\"1\" class=\"dataframe\">\n",
       "  <thead>\n",
       "    <tr style=\"text-align: right;\">\n",
       "      <th></th>\n",
       "      <th>classification_id</th>\n",
       "      <th>created_at</th>\n",
       "      <th>image_id</th>\n",
       "      <th>image_name</th>\n",
       "      <th>image_url</th>\n",
       "      <th>user_name</th>\n",
       "      <th>marking</th>\n",
       "      <th>x_tile</th>\n",
       "      <th>y_tile</th>\n",
       "      <th>acquisition_date</th>\n",
       "      <th>...</th>\n",
       "      <th>x</th>\n",
       "      <th>y</th>\n",
       "      <th>image_x</th>\n",
       "      <th>image_y</th>\n",
       "      <th>radius_1</th>\n",
       "      <th>radius_2</th>\n",
       "      <th>distance</th>\n",
       "      <th>angle</th>\n",
       "      <th>spread</th>\n",
       "      <th>version</th>\n",
       "    </tr>\n",
       "  </thead>\n",
       "  <tbody>\n",
       "    <tr>\n",
       "      <th>11285854</th>\n",
       "      <td>50ef419195e6e40eac000001</td>\n",
       "      <td>2013-01-10 21:32:10</td>\n",
       "      <td>APF00004y6</td>\n",
       "      <td>ESP_012053_0980</td>\n",
       "      <td>http://www.planetfour.org/subjects/standard/50...</td>\n",
       "      <td>Kyle Butcher</td>\n",
       "      <td>none</td>\n",
       "      <td>5</td>\n",
       "      <td>14</td>\n",
       "      <td>2009-02-20</td>\n",
       "      <td>...</td>\n",
       "      <td>NaN</td>\n",
       "      <td>NaN</td>\n",
       "      <td>NaN</td>\n",
       "      <td>NaN</td>\n",
       "      <td>NaN</td>\n",
       "      <td>NaN</td>\n",
       "      <td>NaN</td>\n",
       "      <td>NaN</td>\n",
       "      <td>NaN</td>\n",
       "      <td>NaN</td>\n",
       "    </tr>\n",
       "  </tbody>\n",
       "</table>\n",
       "<p>1 rows × 21 columns</p>\n",
       "</div>"
      ],
      "text/plain": [
       "                 classification_id          created_at    image_id  \\\n",
       "11285854  50ef419195e6e40eac000001 2013-01-10 21:32:10  APF00004y6   \n",
       "\n",
       "               image_name                                          image_url  \\\n",
       "11285854  ESP_012053_0980  http://www.planetfour.org/subjects/standard/50...   \n",
       "\n",
       "             user_name marking  x_tile  y_tile acquisition_date   ...      x  \\\n",
       "11285854  Kyle Butcher    none       5      14       2009-02-20   ...    NaN   \n",
       "\n",
       "           y  image_x  image_y  radius_1  radius_2  distance  angle  spread  \\\n",
       "11285854 NaN      NaN      NaN       NaN       NaN       NaN    NaN     NaN   \n",
       "\n",
       "          version  \n",
       "11285854      NaN  \n",
       "\n",
       "[1 rows x 21 columns]"
      ]
     },
     "execution_count": 7,
     "metadata": {},
     "output_type": "execute_result"
    }
   ],
   "source": [
    "sub"
   ]
  },
  {
   "cell_type": "code",
   "execution_count": 8,
   "metadata": {
    "collapsed": false
   },
   "outputs": [
    {
     "data": {
      "text/plain": [
       "(1, 21)"
      ]
     },
     "execution_count": 8,
     "metadata": {},
     "output_type": "execute_result"
    }
   ],
   "source": [
    "c_id = '50ef41ea95e6e42e89000001'\n",
    "sub2 = data[data.classification_id==c_id]\n",
    "sub2.shape"
   ]
  },
  {
   "cell_type": "code",
   "execution_count": 9,
   "metadata": {
    "collapsed": false
   },
   "outputs": [
    {
     "data": {
      "text/html": [
       "<div>\n",
       "<table border=\"1\" class=\"dataframe\">\n",
       "  <thead>\n",
       "    <tr style=\"text-align: right;\">\n",
       "      <th></th>\n",
       "      <th>classification_id</th>\n",
       "      <th>created_at</th>\n",
       "      <th>image_id</th>\n",
       "      <th>image_name</th>\n",
       "      <th>image_url</th>\n",
       "      <th>user_name</th>\n",
       "      <th>marking</th>\n",
       "      <th>x_tile</th>\n",
       "      <th>y_tile</th>\n",
       "      <th>acquisition_date</th>\n",
       "      <th>...</th>\n",
       "      <th>x</th>\n",
       "      <th>y</th>\n",
       "      <th>image_x</th>\n",
       "      <th>image_y</th>\n",
       "      <th>radius_1</th>\n",
       "      <th>radius_2</th>\n",
       "      <th>distance</th>\n",
       "      <th>angle</th>\n",
       "      <th>spread</th>\n",
       "      <th>version</th>\n",
       "    </tr>\n",
       "  </thead>\n",
       "  <tbody>\n",
       "    <tr>\n",
       "      <th>11285830</th>\n",
       "      <td>50ef41ea95e6e42e89000001</td>\n",
       "      <td>2013-01-10 21:32:08</td>\n",
       "      <td>APF00004y6</td>\n",
       "      <td>ESP_012053_0980</td>\n",
       "      <td>http://www.planetfour.org/subjects/standard/50...</td>\n",
       "      <td>Kyle Butcher</td>\n",
       "      <td>none</td>\n",
       "      <td>5</td>\n",
       "      <td>14</td>\n",
       "      <td>2009-02-20</td>\n",
       "      <td>...</td>\n",
       "      <td>NaN</td>\n",
       "      <td>NaN</td>\n",
       "      <td>NaN</td>\n",
       "      <td>NaN</td>\n",
       "      <td>NaN</td>\n",
       "      <td>NaN</td>\n",
       "      <td>NaN</td>\n",
       "      <td>NaN</td>\n",
       "      <td>NaN</td>\n",
       "      <td>NaN</td>\n",
       "    </tr>\n",
       "  </tbody>\n",
       "</table>\n",
       "<p>1 rows × 21 columns</p>\n",
       "</div>"
      ],
      "text/plain": [
       "                 classification_id          created_at    image_id  \\\n",
       "11285830  50ef41ea95e6e42e89000001 2013-01-10 21:32:08  APF00004y6   \n",
       "\n",
       "               image_name                                          image_url  \\\n",
       "11285830  ESP_012053_0980  http://www.planetfour.org/subjects/standard/50...   \n",
       "\n",
       "             user_name marking  x_tile  y_tile acquisition_date   ...      x  \\\n",
       "11285830  Kyle Butcher    none       5      14       2009-02-20   ...    NaN   \n",
       "\n",
       "           y  image_x  image_y  radius_1  radius_2  distance  angle  spread  \\\n",
       "11285830 NaN      NaN      NaN       NaN       NaN       NaN    NaN     NaN   \n",
       "\n",
       "          version  \n",
       "11285830      NaN  \n",
       "\n",
       "[1 rows x 21 columns]"
      ]
     },
     "execution_count": 9,
     "metadata": {},
     "output_type": "execute_result"
    }
   ],
   "source": [
    "sub2"
   ]
  },
  {
   "cell_type": "code",
   "execution_count": 10,
   "metadata": {
    "collapsed": false
   },
   "outputs": [],
   "source": [
    "image_ids = data.image_id.unique()"
   ]
  },
  {
   "cell_type": "code",
   "execution_count": 11,
   "metadata": {
    "collapsed": true
   },
   "outputs": [],
   "source": [
    "df = data[data.image_id==image_ids[0]]"
   ]
  },
  {
   "cell_type": "code",
   "execution_count": 12,
   "metadata": {
    "collapsed": true
   },
   "outputs": [],
   "source": [
    "df = data[data.image_id=='APF00004y6']"
   ]
  },
  {
   "cell_type": "code",
   "execution_count": 13,
   "metadata": {
    "collapsed": false
   },
   "outputs": [
    {
     "name": "stdout",
     "output_type": "stream",
     "text": [
      "<class 'pandas.core.frame.DataFrame'>\n",
      "Int64Index: 141 entries, 5245377 to 12944648\n",
      "Data columns (total 21 columns):\n",
      "classification_id    141 non-null object\n",
      "created_at           141 non-null datetime64[ns]\n",
      "image_id             141 non-null object\n",
      "image_name           141 non-null object\n",
      "image_url            141 non-null object\n",
      "user_name            141 non-null object\n",
      "marking              141 non-null object\n",
      "x_tile               141 non-null int64\n",
      "y_tile               141 non-null int64\n",
      "acquisition_date     141 non-null datetime64[ns]\n",
      "local_mars_time      141 non-null object\n",
      "x                    45 non-null float64\n",
      "y                    45 non-null float64\n",
      "image_x              45 non-null float64\n",
      "image_y              45 non-null float64\n",
      "radius_1             4 non-null float64\n",
      "radius_2             4 non-null float64\n",
      "distance             0 non-null float64\n",
      "angle                4 non-null float64\n",
      "spread               0 non-null float64\n",
      "version              0 non-null float64\n",
      "dtypes: datetime64[ns](2), float64(10), int64(2), object(7)\n",
      "memory usage: 24.2+ KB\n"
     ]
    }
   ],
   "source": [
    "df.info()"
   ]
  },
  {
   "cell_type": "code",
   "execution_count": 14,
   "metadata": {
    "collapsed": false
   },
   "outputs": [],
   "source": [
    "def show_duplicates(df):\n",
    "    \"df needs to be image_id dataframe.\"\n",
    "    f = lambda x: len(x.classification_id.unique())\n",
    "    return df.groupby(['user_name']).apply(f).sort_values(ascending=False)\n",
    "\n",
    "def show_kyles_dupes(df):\n",
    "    \"works with all image_name data.\"\n",
    "    return show_duplicates(df[df.image_id=='APF00004y6']).head()"
   ]
  },
  {
   "cell_type": "code",
   "execution_count": 15,
   "metadata": {
    "collapsed": false
   },
   "outputs": [
    {
     "data": {
      "text/plain": [
       "user_name\n",
       "Kyle Butcher    3\n",
       "yuki330         1\n",
       "farren272       1\n",
       "bduddy          1\n",
       "chris_vipond    1\n",
       "dtype: int64"
      ]
     },
     "execution_count": 15,
     "metadata": {},
     "output_type": "execute_result"
    }
   ],
   "source": [
    "show_kyles_dupes(data)"
   ]
  },
  {
   "cell_type": "code",
   "execution_count": 16,
   "metadata": {
    "collapsed": false
   },
   "outputs": [],
   "source": [
    "df = data[data.image_id.isin(['APF00004y6', 'APF00003hp'])]"
   ]
  },
  {
   "cell_type": "code",
   "execution_count": 17,
   "metadata": {
    "collapsed": false
   },
   "outputs": [
    {
     "data": {
      "text/plain": [
       "user_name\n",
       "Kyle Butcher    3\n",
       "yuki330         1\n",
       "farren272       1\n",
       "bduddy          1\n",
       "chris_vipond    1\n",
       "dtype: int64"
      ]
     },
     "execution_count": 17,
     "metadata": {},
     "output_type": "execute_result"
    }
   ],
   "source": [
    "show_kyles_dupes(df)"
   ]
  },
  {
   "cell_type": "code",
   "execution_count": 18,
   "metadata": {
    "collapsed": false
   },
   "outputs": [],
   "source": [
    "df2 = data[data.image_id=='APF00003hp']"
   ]
  },
  {
   "cell_type": "code",
   "execution_count": 19,
   "metadata": {
    "collapsed": false
   },
   "outputs": [
    {
     "data": {
      "text/plain": [
       "user_name\n",
       "Kitharode                                         2\n",
       "not-logged-in-073dee28bbc9c250d9dc02cb99f4ef93    2\n",
       "bmacpherson                                       2\n",
       "GazyB                                             2\n",
       "blaze_carter                                      1\n",
       "dtype: int64"
      ]
     },
     "execution_count": 19,
     "metadata": {},
     "output_type": "execute_result"
    }
   ],
   "source": [
    "show_duplicates(df2).head()"
   ]
  },
  {
   "cell_type": "code",
   "execution_count": 20,
   "metadata": {
    "collapsed": true
   },
   "outputs": [],
   "source": [
    "user2 = df2[df2.user_name=='Kitharode']"
   ]
  },
  {
   "cell_type": "markdown",
   "metadata": {},
   "source": [
    "First we find the earliest timestamp, each classification_id has in principle its own timestamp, like Kitharode's data above.\n",
    "But for that not-logged-in user, it has two classification_ids with the same time-stamp:"
   ]
  },
  {
   "cell_type": "code",
   "execution_count": 21,
   "metadata": {
    "collapsed": true
   },
   "outputs": [],
   "source": [
    "user2 = df2[df2.user_name=='not-logged-in-073dee28bbc9c250d9dc02cb99f4ef93']"
   ]
  },
  {
   "cell_type": "code",
   "execution_count": 22,
   "metadata": {
    "collapsed": false
   },
   "outputs": [
    {
     "data": {
      "text/plain": [
       "array(['50ef44b795e6e42cd2000001', '50ef44b995e6e42d8c000001'], dtype=object)"
      ]
     },
     "execution_count": 22,
     "metadata": {},
     "output_type": "execute_result"
    }
   ],
   "source": [
    "user2[user2.created_at==user2.created_at.min()].classification_id.unique()"
   ]
  },
  {
   "cell_type": "markdown",
   "metadata": {},
   "source": [
    "Note that above is filtered for data at minimum time!"
   ]
  },
  {
   "cell_type": "markdown",
   "metadata": {},
   "source": [
    "but simply doing another minimum(), like i did in previous version of filtering for this, should always work"
   ]
  },
  {
   "cell_type": "code",
   "execution_count": 23,
   "metadata": {
    "collapsed": false
   },
   "outputs": [
    {
     "data": {
      "text/plain": [
       "'50ef44b795e6e42cd2000001'"
      ]
     },
     "execution_count": 23,
     "metadata": {},
     "output_type": "execute_result"
    }
   ],
   "source": [
    "user2[user2.created_at==user2.created_at.min()].classification_id.min()"
   ]
  },
  {
   "cell_type": "markdown",
   "metadata": {},
   "source": [
    "For explanation: this is the earliest AND smallest classification_id for this image_id."
   ]
  },
  {
   "cell_type": "code",
   "execution_count": 3,
   "metadata": {
    "collapsed": false
   },
   "outputs": [],
   "source": [
    "from ipyparallel import Client\n",
    "c = Client()\n",
    "lbview = c.load_balanced_view()\n",
    "dview = c.direct_view()"
   ]
  },
  {
   "cell_type": "code",
   "execution_count": 5,
   "metadata": {
    "collapsed": false
   },
   "outputs": [],
   "source": [
    "def process_image_name(image_name):\n",
    "    \"processes data for image_name (=obsid)\"\n",
    "    from pandas import read_hdf\n",
    "    data = read_hdf(dbname, 'df', where='image_name=image_name')\n",
    "    \n",
    "    c_ids= []\n",
    "    def process_user_group(g):\n",
    "        c_ids.append(g.loc[g.created_at==g.created_at.min(),'classification_id'].min())\n",
    "    \n",
    "    data.groupby(['image_id', 'user_name'], sort=False).apply(process_user_group)\n",
    "    tmp = data.set_index('classification_id').loc[set(c_ids)].reset_index()\n",
    "    return tmp"
   ]
  },
  {
   "cell_type": "code",
   "execution_count": 7,
   "metadata": {
    "collapsed": false
   },
   "outputs": [
    {
     "name": "stderr",
     "output_type": "stream",
     "text": [
      "INFO: Reading image_names from disk.\n",
      "INFO: Got image_names\n"
     ]
    }
   ],
   "source": [
    "from planet4.reduction import get_image_names\n",
    "image_names = get_image_names(uncleaned)"
   ]
  },
  {
   "cell_type": "code",
   "execution_count": 8,
   "metadata": {
    "collapsed": false
   },
   "outputs": [
    {
     "data": {
      "text/plain": [
       "432"
      ]
     },
     "execution_count": 8,
     "metadata": {},
     "output_type": "execute_result"
    }
   ],
   "source": [
    "len(image_names)"
   ]
  },
  {
   "cell_type": "code",
   "execution_count": 9,
   "metadata": {
    "collapsed": false
   },
   "outputs": [],
   "source": [
    "todo = image_names"
   ]
  },
  {
   "cell_type": "code",
   "execution_count": 10,
   "metadata": {
    "collapsed": true
   },
   "outputs": [],
   "source": [
    "from nbtools import display_multi_progress"
   ]
  },
  {
   "cell_type": "code",
   "execution_count": 11,
   "metadata": {
    "collapsed": false
   },
   "outputs": [],
   "source": [
    "results = lbview.map_async(process_image_name, todo)"
   ]
  },
  {
   "cell_type": "code",
   "execution_count": 12,
   "metadata": {
    "collapsed": false
   },
   "outputs": [],
   "source": [
    "display_multi_progress(results, todo)"
   ]
  },
  {
   "cell_type": "code",
   "execution_count": 13,
   "metadata": {
    "collapsed": false
   },
   "outputs": [
    {
     "data": {
      "text/plain": [
       "432"
      ]
     },
     "execution_count": 13,
     "metadata": {},
     "output_type": "execute_result"
    }
   ],
   "source": [
    "len(results)"
   ]
  },
  {
   "cell_type": "code",
   "execution_count": 22,
   "metadata": {
    "collapsed": false
   },
   "outputs": [
    {
     "data": {
      "text/plain": [
       "221"
      ]
     },
     "execution_count": 22,
     "metadata": {},
     "output_type": "execute_result"
    }
   ],
   "source": [
    "len(results.result())"
   ]
  },
  {
   "cell_type": "code",
   "execution_count": 14,
   "metadata": {
    "collapsed": true
   },
   "outputs": [],
   "source": [
    "all_df = pd.concat(results, ignore_index=True)"
   ]
  },
  {
   "cell_type": "code",
   "execution_count": 15,
   "metadata": {
    "collapsed": false
   },
   "outputs": [
    {
     "data": {
      "text/plain": [
       "(13515922, 21)"
      ]
     },
     "execution_count": 15,
     "metadata": {},
     "output_type": "execute_result"
    }
   ],
   "source": [
    "all_df.shape"
   ]
  },
  {
   "cell_type": "code",
   "execution_count": 17,
   "metadata": {
    "collapsed": true
   },
   "outputs": [],
   "source": [
    "from pathlib import Path"
   ]
  },
  {
   "cell_type": "code",
   "execution_count": 19,
   "metadata": {
    "collapsed": false
   },
   "outputs": [],
   "source": [
    "p = Path(uncleaned)"
   ]
  },
  {
   "cell_type": "code",
   "execution_count": 23,
   "metadata": {
    "collapsed": false
   },
   "outputs": [],
   "source": [
    "newname = p.name[:-3]+ '_cleaned.h5'"
   ]
  },
  {
   "cell_type": "code",
   "execution_count": 24,
   "metadata": {
    "collapsed": true
   },
   "outputs": [],
   "source": [
    "data_columns = ['classification_id', 'image_id',\n",
    "                'image_name', 'user_name', 'marking',\n",
    "                'acquisition_date', 'local_mars_time']"
   ]
  },
  {
   "cell_type": "code",
   "execution_count": 25,
   "metadata": {
    "collapsed": true
   },
   "outputs": [],
   "source": [
    "all_df.to_hdf(p.parent / newname, 'df', format='table', data_columns=data_columns)"
   ]
  },
  {
   "cell_type": "code",
   "execution_count": 30,
   "metadata": {
    "collapsed": false
   },
   "outputs": [
    {
     "data": {
      "text/plain": [
       "'/Users/klay6683/Dropbox/data/planet4/2016-05-29_planet_four_classifications_queryable_cleaned_seasons2and3.h5'"
      ]
     },
     "execution_count": 30,
     "metadata": {},
     "output_type": "execute_result"
    }
   ],
   "source": [
    "db.dbname"
   ]
  },
  {
   "cell_type": "code",
   "execution_count": null,
   "metadata": {
    "collapsed": true
   },
   "outputs": [],
   "source": []
  },
  {
   "cell_type": "code",
   "execution_count": 145,
   "metadata": {
    "collapsed": false
   },
   "outputs": [],
   "source": [
    "df = data[data.image_id=='APF00004y6']"
   ]
  },
  {
   "cell_type": "code",
   "execution_count": 146,
   "metadata": {
    "collapsed": false
   },
   "outputs": [
    {
     "data": {
      "text/plain": [
       "array(['ESP_012053_0980'], dtype=object)"
      ]
     },
     "execution_count": 146,
     "metadata": {},
     "output_type": "execute_result"
    }
   ],
   "source": [
    "df.image_name.unique()"
   ]
  },
  {
   "cell_type": "code",
   "execution_count": 133,
   "metadata": {
    "collapsed": false
   },
   "outputs": [
    {
     "data": {
      "text/plain": [
       "user_name\n",
       "yuki330         1\n",
       "aquarius1979    1\n",
       "bduddy          1\n",
       "chris_vipond    1\n",
       "daisy186        1\n",
       "dtype: int64"
      ]
     },
     "execution_count": 133,
     "metadata": {},
     "output_type": "execute_result"
    }
   ],
   "source": [
    "show_kyles_dupes(process_image_name(df))"
   ]
  },
  {
   "cell_type": "code",
   "execution_count": 134,
   "metadata": {
    "collapsed": false
   },
   "outputs": [
    {
     "data": {
      "text/plain": [
       "139"
      ]
     },
     "execution_count": 134,
     "metadata": {},
     "output_type": "execute_result"
    }
   ],
   "source": [
    "len(process_image_name(df))"
   ]
  },
  {
   "cell_type": "code",
   "execution_count": 135,
   "metadata": {
    "collapsed": false
   },
   "outputs": [
    {
     "name": "stdout",
     "output_type": "stream",
     "text": [
      "10 loops, best of 3: 53.9 ms per loop\n"
     ]
    }
   ],
   "source": [
    "%timeit process_image_name(df)"
   ]
  },
  {
   "cell_type": "code",
   "execution_count": null,
   "metadata": {
    "collapsed": true
   },
   "outputs": [],
   "source": []
  },
  {
   "cell_type": "code",
   "execution_count": null,
   "metadata": {
    "collapsed": true
   },
   "outputs": [],
   "source": []
  },
  {
   "cell_type": "code",
   "execution_count": null,
   "metadata": {
    "collapsed": true
   },
   "outputs": [],
   "source": []
  },
  {
   "cell_type": "code",
   "execution_count": 156,
   "metadata": {
    "collapsed": false
   },
   "outputs": [
    {
     "name": "stdout",
     "output_type": "stream",
     "text": [
      "1 loop, best of 3: 21.9 s per loop\n"
     ]
    }
   ],
   "source": [
    "%timeit process_image_name('ESP_012053_0980')"
   ]
  },
  {
   "cell_type": "code",
   "execution_count": 157,
   "metadata": {
    "collapsed": false
   },
   "outputs": [
    {
     "data": {
      "text/plain": [
       "432"
      ]
     },
     "execution_count": 157,
     "metadata": {},
     "output_type": "execute_result"
    }
   ],
   "source": [
    "len(image_names)"
   ]
  },
  {
   "cell_type": "code",
   "execution_count": 151,
   "metadata": {
    "collapsed": true
   },
   "outputs": [],
   "source": [
    "image_names = data.image_name.unique()"
   ]
  },
  {
   "cell_type": "code",
   "execution_count": null,
   "metadata": {
    "collapsed": true
   },
   "outputs": [],
   "source": []
  },
  {
   "cell_type": "code",
   "execution_count": null,
   "metadata": {
    "collapsed": true
   },
   "outputs": [],
   "source": []
  },
  {
   "cell_type": "code",
   "execution_count": null,
   "metadata": {
    "collapsed": false
   },
   "outputs": [],
   "source": [
    "filtered_data = df.groupby(['user_name']).apply(process_user_group)"
   ]
  },
  {
   "cell_type": "code",
   "execution_count": null,
   "metadata": {
    "collapsed": true
   },
   "outputs": [],
   "source": [
    "from planet4 import helper_functions as hf"
   ]
  },
  {
   "cell_type": "code",
   "execution_count": null,
   "metadata": {
    "collapsed": false
   },
   "outputs": [],
   "source": [
    "def process_image_id(image_id):\n",
    "    df = data[data.image_id==image_id]\n",
    "    n_class = df.classification_id.unique().size\n",
    "    results = hf.classification_counts_per_user(df).value_counts()\n",
    "    if not any(results.index>1):\n",
    "        return n_class, n_class\n",
    "    else:\n",
    "        n_class_real = results[1]\n",
    "        for index in results.index[results.index>1]:\n",
    "            n_class_real += results[index]\n",
    "        return (n_class_real, n_class)"
   ]
  },
  {
   "cell_type": "code",
   "execution_count": null,
   "metadata": {
    "collapsed": false,
    "scrolled": true
   },
   "outputs": [],
   "source": [
    "real_class_percents = []\n",
    "for image_id in image_ids:\n",
    "    real_class_percents.append(process_image_id(image_id))"
   ]
  },
  {
   "cell_type": "code",
   "execution_count": null,
   "metadata": {
    "collapsed": false
   },
   "outputs": [],
   "source": [
    "%matplotlib inline\n",
    "import matplotlib.pyplot as plt"
   ]
  },
  {
   "cell_type": "code",
   "execution_count": null,
   "metadata": {
    "collapsed": false
   },
   "outputs": [],
   "source": [
    "s = pd.DataFrame(real_class_percents, index=image_ids, columns=['real_n_class', 'expected_n_class'])"
   ]
  },
  {
   "cell_type": "code",
   "execution_count": null,
   "metadata": {
    "collapsed": false
   },
   "outputs": [],
   "source": [
    "s.head()"
   ]
  },
  {
   "cell_type": "code",
   "execution_count": null,
   "metadata": {
    "collapsed": false
   },
   "outputs": [],
   "source": [
    "s.plot()"
   ]
  },
  {
   "cell_type": "code",
   "execution_count": null,
   "metadata": {
    "collapsed": true
   },
   "outputs": [],
   "source": [
    "import seaborn as sns\n",
    "sns.set_context('talk')"
   ]
  },
  {
   "cell_type": "code",
   "execution_count": null,
   "metadata": {
    "collapsed": false
   },
   "outputs": [],
   "source": [
    "s.head()"
   ]
  },
  {
   "cell_type": "code",
   "execution_count": null,
   "metadata": {
    "collapsed": false
   },
   "outputs": [],
   "source": [
    "s = s.assign(fraction=s.real_n_class/s.expected_n_class)"
   ]
  },
  {
   "cell_type": "code",
   "execution_count": null,
   "metadata": {
    "collapsed": false
   },
   "outputs": [],
   "source": [
    "s.fraction.plot(style='.',title='Inca City, season1, fraction of good classifications')"
   ]
  },
  {
   "cell_type": "code",
   "execution_count": null,
   "metadata": {
    "collapsed": false
   },
   "outputs": [],
   "source": [
    "s.describe()"
   ]
  },
  {
   "cell_type": "code",
   "execution_count": null,
   "metadata": {
    "collapsed": false
   },
   "outputs": [],
   "source": [
    "df = data[data.image_id=='APF0000zea']\n",
    "n_class= df.classification_id.unique().size\n",
    "n_class\n",
    "results = hf.classification_counts_per_user(df).value_counts()\n",
    "results\n",
    "results.index>1\n",
    "n_class_real = results[1]\n",
    "for index in results.index[results.index>1]:\n",
    "    n_class_real += results[index]\n",
    "n_class_real"
   ]
  },
  {
   "cell_type": "markdown",
   "metadata": {
    "collapsed": true
   },
   "source": [
    "# Update"
   ]
  },
  {
   "cell_type": "code",
   "execution_count": 31,
   "metadata": {
    "collapsed": false,
    "scrolled": true
   },
   "outputs": [],
   "source": [
    "subdata = data[data.image_id=='APF00003hp']"
   ]
  },
  {
   "cell_type": "code",
   "execution_count": 33,
   "metadata": {
    "collapsed": false
   },
   "outputs": [
    {
     "ename": "ImportError",
     "evalue": "cannot import name 'helper_functions'",
     "output_type": "error",
     "traceback": [
      "\u001b[0;31m---------------------------------------------------------------------------\u001b[0m",
      "\u001b[0;31mImportError\u001b[0m                               Traceback (most recent call last)",
      "\u001b[0;32m<ipython-input-33-00c099da19fa>\u001b[0m in \u001b[0;36m<module>\u001b[0;34m()\u001b[0m\n\u001b[0;32m----> 1\u001b[0;31m \u001b[0;32mfrom\u001b[0m \u001b[0mplanet4\u001b[0m \u001b[0;32mimport\u001b[0m \u001b[0mhelper_functions\u001b[0m \u001b[0;32mas\u001b[0m \u001b[0mhf\u001b[0m\u001b[0;34m\u001b[0m\u001b[0m\n\u001b[0m",
      "\u001b[0;31mImportError\u001b[0m: cannot import name 'helper_functions'"
     ]
    }
   ],
   "source": [
    "from planet4 import "
   ]
  },
  {
   "cell_type": "code",
   "execution_count": 36,
   "metadata": {
    "collapsed": false,
    "scrolled": false
   },
   "outputs": [
    {
     "name": "stdout",
     "output_type": "stream",
     "text": [
      "<class 'pandas.core.frame.DataFrame'>\n",
      "Int64Index: 573 entries, 16915 to 12960194\n",
      "Data columns (total 21 columns):\n",
      "classification_id    573 non-null object\n",
      "created_at           573 non-null datetime64[ns]\n",
      "image_id             573 non-null object\n",
      "image_name           573 non-null object\n",
      "image_url            573 non-null object\n",
      "user_name            573 non-null object\n",
      "marking              573 non-null object\n",
      "x_tile               573 non-null int64\n",
      "y_tile               573 non-null int64\n",
      "acquisition_date     573 non-null datetime64[ns]\n",
      "local_mars_time      573 non-null object\n",
      "x                    494 non-null float64\n",
      "y                    494 non-null float64\n",
      "image_x              494 non-null float64\n",
      "image_y              494 non-null float64\n",
      "radius_1             215 non-null float64\n",
      "radius_2             215 non-null float64\n",
      "distance             256 non-null float64\n",
      "angle                471 non-null float64\n",
      "spread               256 non-null float64\n",
      "version              256 non-null float64\n",
      "dtypes: datetime64[ns](2), float64(10), int64(2), object(7)\n",
      "memory usage: 98.5+ KB\n"
     ]
    }
   ],
   "source": [
    "subdata.info()"
   ]
  },
  {
   "cell_type": "code",
   "execution_count": 37,
   "metadata": {
    "collapsed": false
   },
   "outputs": [],
   "source": [
    "def pug1(g):\n",
    "    c_id = g.sort_values(by='classification_id').classification_id.iloc[0]\n",
    "    return g[g.classification_id == c_id]"
   ]
  },
  {
   "cell_type": "code",
   "execution_count": 38,
   "metadata": {
    "collapsed": false
   },
   "outputs": [],
   "source": [
    "def pug1b(g):\n",
    "    c_id = g.sort_values(by='classification_id').classification_id.iloc[0]\n",
    "    return c_id"
   ]
  },
  {
   "cell_type": "code",
   "execution_count": 39,
   "metadata": {
    "collapsed": false
   },
   "outputs": [],
   "source": [
    "def pug2(g):\n",
    "    c_id = g.classification_id.min()\n",
    "    return g[g.classification_id == c_id]"
   ]
  },
  {
   "cell_type": "code",
   "execution_count": 40,
   "metadata": {
    "collapsed": false
   },
   "outputs": [],
   "source": [
    "def pug2b(g):\n",
    "    c_id = g.classification_id.min()\n",
    "    return c_id"
   ]
  },
  {
   "cell_type": "code",
   "execution_count": null,
   "metadata": {
    "collapsed": true
   },
   "outputs": [],
   "source": [
    "usergroup = data.groupby(['user_name'], sort=False)"
   ]
  },
  {
   "cell_type": "code",
   "execution_count": null,
   "metadata": {
    "collapsed": false
   },
   "outputs": [],
   "source": [
    "%timeit usergroup.apply(pug1).reset_index(drop=True)"
   ]
  },
  {
   "cell_type": "code",
   "execution_count": null,
   "metadata": {
    "collapsed": false
   },
   "outputs": [],
   "source": [
    "%timeit usergroup.apply(pug2).reset_index(drop=True)"
   ]
  },
  {
   "cell_type": "code",
   "execution_count": null,
   "metadata": {
    "collapsed": false
   },
   "outputs": [],
   "source": [
    "%timeit data[data.classification_id.isin(usergroup.classification_id.min())]"
   ]
  },
  {
   "cell_type": "code",
   "execution_count": null,
   "metadata": {
    "collapsed": false
   },
   "outputs": [],
   "source": [
    "v1 = usergroup.apply(pug1).reset_index(drop=True).sort_values(by=['classification_id'])"
   ]
  },
  {
   "cell_type": "code",
   "execution_count": null,
   "metadata": {
    "collapsed": true
   },
   "outputs": [],
   "source": [
    "v2 = usergroup.apply(pug2).reset_index(drop=True).sort_values(by=['classification_id'])"
   ]
  },
  {
   "cell_type": "code",
   "execution_count": null,
   "metadata": {
    "collapsed": false
   },
   "outputs": [],
   "source": [
    "v3 = data[data.classification_id.isin(usergroup.classification_id.min())]"
   ]
  },
  {
   "cell_type": "code",
   "execution_count": null,
   "metadata": {
    "collapsed": false
   },
   "outputs": [],
   "source": [
    "(v1.dropna() == v3.dropna()).all()"
   ]
  },
  {
   "cell_type": "code",
   "execution_count": null,
   "metadata": {
    "collapsed": false
   },
   "outputs": [],
   "source": [
    "v3[v3.classification_id=='50ef44b995e6e42d8c000001']"
   ]
  },
  {
   "cell_type": "code",
   "execution_count": null,
   "metadata": {
    "collapsed": false
   },
   "outputs": [],
   "source": [
    "(usergroup.apply(pug1).dropna() == usergroup.apply(pug2).dropna()).all()"
   ]
  },
  {
   "cell_type": "code",
   "execution_count": null,
   "metadata": {
    "collapsed": false,
    "scrolled": false
   },
   "outputs": [],
   "source": [
    "v1.info()"
   ]
  },
  {
   "cell_type": "code",
   "execution_count": null,
   "metadata": {
    "collapsed": false
   },
   "outputs": [],
   "source": [
    "(v1.dropna()==v2.dropna()).all()"
   ]
  },
  {
   "cell_type": "code",
   "execution_count": null,
   "metadata": {
    "collapsed": false
   },
   "outputs": [],
   "source": [
    "v2.head()"
   ]
  },
  {
   "cell_type": "code",
   "execution_count": null,
   "metadata": {
    "collapsed": false
   },
   "outputs": [],
   "source": [
    "data.groupby(['user_name','classification_id']).apply(lambda x: len(x.classification_id.unique())).sort_values(ascending=False).min()"
   ]
  },
  {
   "cell_type": "code",
   "execution_count": null,
   "metadata": {
    "collapsed": true
   },
   "outputs": [],
   "source": [
    "v3 = data[data.classification_id.isin(data.groupby('user_name').classification_id.max())].sort_values(by='classification_id')"
   ]
  },
  {
   "cell_type": "code",
   "execution_count": null,
   "metadata": {
    "collapsed": false
   },
   "outputs": [],
   "source": [
    "(v1.classification_id.sort_values() == v2.classification_id.sort_values()).all()"
   ]
  },
  {
   "cell_type": "code",
   "execution_count": null,
   "metadata": {
    "collapsed": false
   },
   "outputs": [],
   "source": [
    "(g.apply(pug1).reset_index(drop=True) == g.apply(pug2).reset_index(drop=True)).all()"
   ]
  },
  {
   "cell_type": "code",
   "execution_count": null,
   "metadata": {
    "collapsed": false
   },
   "outputs": [],
   "source": [
    "%timeit g.apply(pug2b)"
   ]
  },
  {
   "cell_type": "code",
   "execution_count": null,
   "metadata": {
    "collapsed": false,
    "scrolled": false
   },
   "outputs": [],
   "source": [
    "img_ids = ['APF00003hp']\n",
    "users = ['not-logged-in-073dee28bbc9c250d9dc02cb99f4ef93']\n",
    "\n",
    "for img_id, user in zip(img_ids, users):\n",
    "    print(\"image_id: \", img_id)\n",
    "    print(\"User: \", user)\n",
    "    data = db.get_image_id_markings(img_id)\n",
    "    print(\"Before filtering classification_id created_at times:\")\n",
    "    print(data[data.user_name==user].created_at.unique())\n",
    "    print(\"Classification_ids:\")\n",
    "    print(data[data.user_name==user].classification_id.unique())\n",
    "\n",
    "    g = data.groupby(['user_name'])\n",
    "    res = g.apply(process_user_group).reset_index(drop=True)\n",
    "    print(\"After filtering:\")\n",
    "    print(res[res.user_name==user].created_at.unique())\n",
    "    print(res[res.user_name==user].classification_id.unique())\n",
    "    print()"
   ]
  },
  {
   "cell_type": "code",
   "execution_count": null,
   "metadata": {
    "collapsed": false
   },
   "outputs": [],
   "source": [
    "fname = '/Users/klay6683/data/planet4/2015-10-11_planet_four_classifications_queryable.h5'\n",
    "db = io.DBManager()"
   ]
  },
  {
   "cell_type": "code",
   "execution_count": null,
   "metadata": {
    "collapsed": false
   },
   "outputs": [],
   "source": [
    "db.dbname"
   ]
  },
  {
   "cell_type": "code",
   "execution_count": null,
   "metadata": {
    "collapsed": false,
    "scrolled": false
   },
   "outputs": [],
   "source": [
    "data = pd.read_hdf(db.dbname, 'df',\n",
    "                    where=\"classification_id=='50ef44b795e6e42cd2000001'\")\n",
    "data"
   ]
  },
  {
   "cell_type": "code",
   "execution_count": null,
   "metadata": {
    "collapsed": true
   },
   "outputs": [],
   "source": [
    "df = pd.read_hdf(db.dbname, 'df')"
   ]
  },
  {
   "cell_type": "code",
   "execution_count": null,
   "metadata": {
    "collapsed": false
   },
   "outputs": [],
   "source": [
    "df[df.classification_id=='50ef44b795e6e42cd2000001']"
   ]
  },
  {
   "cell_type": "code",
   "execution_count": null,
   "metadata": {
    "collapsed": false,
    "scrolled": true
   },
   "outputs": [],
   "source": [
    "df[df.classification_id=='50ef44b995e6e42d8c000001']"
   ]
  },
  {
   "cell_type": "code",
   "execution_count": null,
   "metadata": {
    "collapsed": false,
    "scrolled": false
   },
   "outputs": [],
   "source": [
    "df[df.classification_id=='50ee0e5694b9d564a90000b5']"
   ]
  },
  {
   "cell_type": "code",
   "execution_count": null,
   "metadata": {
    "collapsed": false
   },
   "outputs": [],
   "source": [
    "db.dbname"
   ]
  },
  {
   "cell_type": "code",
   "execution_count": null,
   "metadata": {
    "collapsed": false
   },
   "outputs": [],
   "source": [
    "df.classification_id = df.classification_id.astype('str')"
   ]
  },
  {
   "cell_type": "code",
   "execution_count": null,
   "metadata": {
    "collapsed": false
   },
   "outputs": [],
   "source": [
    "df.to_hdf('/Users/klay6683/data/planet4/2015-10-11_planet_four_classifications_queryable_cleaned.h5',\n",
    "         'df', format='t', data_columns=reduction.data_columns)"
   ]
  },
  {
   "cell_type": "code",
   "execution_count": null,
   "metadata": {
    "collapsed": false
   },
   "outputs": [],
   "source": [
    "pd.read_hdf('/Users/klay6683/data/planet4/2015-10-11_planet_four_classifications_queryable_cleaned.h5',\n",
    "           'df', where=\"classification_id=='50ef44b795e6e42cd2000001'\")"
   ]
  },
  {
   "cell_type": "code",
   "execution_count": null,
   "metadata": {
    "collapsed": true
   },
   "outputs": [],
   "source": [
    "fname = '/Users/klay6683/data/planet4/2015-10-11_planet_four_classifications_queryable.h5'"
   ]
  },
  {
   "cell_type": "code",
   "execution_count": null,
   "metadata": {
    "collapsed": false,
    "scrolled": true
   },
   "outputs": [],
   "source": [
    "reduction.remove_duplicates_from_file(fname)"
   ]
  },
  {
   "cell_type": "code",
   "execution_count": null,
   "metadata": {
    "collapsed": false
   },
   "outputs": [],
   "source": [
    "data = pd.read_hdf('testing.h5', 'df',\n",
    "                    where=\"classification_id=='50ef44b995e6e42d8c000001'\")\n",
    "data"
   ]
  },
  {
   "cell_type": "code",
   "execution_count": null,
   "metadata": {
    "collapsed": true
   },
   "outputs": [],
   "source": [
    "data2 = db.get_class_id_data('50ef44b995e6e42d8c000001')"
   ]
  },
  {
   "cell_type": "code",
   "execution_count": null,
   "metadata": {
    "collapsed": true
   },
   "outputs": [],
   "source": [
    "s = pd.Series(list('abc'))"
   ]
  },
  {
   "cell_type": "code",
   "execution_count": null,
   "metadata": {
    "collapsed": false
   },
   "outputs": [],
   "source": [
    "pd.DataFrame(s)"
   ]
  },
  {
   "cell_type": "code",
   "execution_count": null,
   "metadata": {
    "collapsed": true
   },
   "outputs": [],
   "source": [
    "from planet4 import io"
   ]
  },
  {
   "cell_type": "code",
   "execution_count": null,
   "metadata": {
    "collapsed": true
   },
   "outputs": [],
   "source": [
    "db=io.DBManager()"
   ]
  },
  {
   "cell_type": "code",
   "execution_count": null,
   "metadata": {
    "collapsed": true
   },
   "outputs": [],
   "source": [
    "import time"
   ]
  },
  {
   "cell_type": "code",
   "execution_count": null,
   "metadata": {
    "collapsed": true
   },
   "outputs": [],
   "source": [
    "imgnames = db.season2and3_image_names"
   ]
  },
  {
   "cell_type": "code",
   "execution_count": null,
   "metadata": {
    "collapsed": true
   },
   "outputs": [],
   "source": [
    "where = \"image_name in {}\".format(imgnames.values.tolist())"
   ]
  },
  {
   "cell_type": "code",
   "execution_count": null,
   "metadata": {
    "collapsed": false
   },
   "outputs": [],
   "source": [
    "where"
   ]
  },
  {
   "cell_type": "code",
   "execution_count": null,
   "metadata": {
    "collapsed": false
   },
   "outputs": [],
   "source": [
    "import time\n",
    "t0 = time.time()\n",
    "season23 = pd.read_hdf(db.dbname, 'df', where=where)\n",
    "t1 = time.time()\n",
    "print(\"time: \", t1 - t0)"
   ]
  },
  {
   "cell_type": "markdown",
   "metadata": {
    "collapsed": true
   },
   "source": [
    "# pandas debug"
   ]
  },
  {
   "cell_type": "code",
   "execution_count": 30,
   "metadata": {
    "collapsed": false
   },
   "outputs": [],
   "source": [
    "cats = [ \"s%07d\" % i for i in range(4000000) ]\n",
    "\n",
    "df = pd.DataFrame({'A' : cats})\n"
   ]
  },
  {
   "cell_type": "code",
   "execution_count": 31,
   "metadata": {
    "collapsed": false
   },
   "outputs": [
    {
     "name": "stdout",
     "output_type": "stream",
     "text": [
      "<class 'pandas.core.frame.DataFrame'>\n",
      "RangeIndex: 4000000 entries, 0 to 3999999\n",
      "Data columns (total 1 columns):\n",
      "A    object\n",
      "dtypes: object(1)\n",
      "memory usage: 30.5+ MB\n"
     ]
    }
   ],
   "source": [
    "df.info()"
   ]
  },
  {
   "cell_type": "code",
   "execution_count": 32,
   "metadata": {
    "collapsed": false
   },
   "outputs": [
    {
     "data": {
      "text/plain": [
       "dtype('int32')"
      ]
     },
     "execution_count": 32,
     "metadata": {},
     "output_type": "execute_result"
    }
   ],
   "source": [
    "In [3]: df['B'] = df['A'].astype('category')\n",
    "\n",
    "In [4]: df.B.cat.codes.dtype"
   ]
  },
  {
   "cell_type": "code",
   "execution_count": 33,
   "metadata": {
    "collapsed": true
   },
   "outputs": [],
   "source": [
    "for i in range(3):\n",
    "    df.to_hdf('test_{}.h5'.format(i),'df',mode='w',data_columns=True,format='table')"
   ]
  },
  {
   "cell_type": "code",
   "execution_count": 36,
   "metadata": {
    "collapsed": true
   },
   "outputs": [],
   "source": [
    "df = []\n",
    "for i in range(3):\n",
    "    df.append(pd.read_hdf('test_{}.h5'.format(i), 'df'))"
   ]
  },
  {
   "cell_type": "code",
   "execution_count": 37,
   "metadata": {
    "collapsed": true
   },
   "outputs": [],
   "source": [
    "df = pd.concat(df, ignore_index=True)"
   ]
  },
  {
   "cell_type": "code",
   "execution_count": 38,
   "metadata": {
    "collapsed": false
   },
   "outputs": [
    {
     "data": {
      "text/html": [
       "<div>\n",
       "<table border=\"1\" class=\"dataframe\">\n",
       "  <thead>\n",
       "    <tr style=\"text-align: right;\">\n",
       "      <th></th>\n",
       "      <th>A</th>\n",
       "      <th>B</th>\n",
       "    </tr>\n",
       "  </thead>\n",
       "  <tbody>\n",
       "    <tr>\n",
       "      <th>5</th>\n",
       "      <td>s0000005</td>\n",
       "      <td>s0000005</td>\n",
       "    </tr>\n",
       "    <tr>\n",
       "      <th>4000005</th>\n",
       "      <td>s0000005</td>\n",
       "      <td>s0000005</td>\n",
       "    </tr>\n",
       "    <tr>\n",
       "      <th>8000005</th>\n",
       "      <td>s0000005</td>\n",
       "      <td>s0000005</td>\n",
       "    </tr>\n",
       "  </tbody>\n",
       "</table>\n",
       "</div>"
      ],
      "text/plain": [
       "                A         B\n",
       "5        s0000005  s0000005\n",
       "4000005  s0000005  s0000005\n",
       "8000005  s0000005  s0000005"
      ]
     },
     "execution_count": 38,
     "metadata": {},
     "output_type": "execute_result"
    }
   ],
   "source": [
    "df[df.B=='s0000005']"
   ]
  },
  {
   "cell_type": "code",
   "execution_count": 39,
   "metadata": {
    "collapsed": false
   },
   "outputs": [
    {
     "data": {
      "text/html": [
       "<div>\n",
       "<table border=\"1\" class=\"dataframe\">\n",
       "  <thead>\n",
       "    <tr style=\"text-align: right;\">\n",
       "      <th></th>\n",
       "      <th>A</th>\n",
       "      <th>B</th>\n",
       "    </tr>\n",
       "  </thead>\n",
       "  <tbody>\n",
       "    <tr>\n",
       "      <th>3999999</th>\n",
       "      <td>s3999999</td>\n",
       "      <td>s3999999</td>\n",
       "    </tr>\n",
       "    <tr>\n",
       "      <th>7999999</th>\n",
       "      <td>s3999999</td>\n",
       "      <td>s3999999</td>\n",
       "    </tr>\n",
       "    <tr>\n",
       "      <th>11999999</th>\n",
       "      <td>s3999999</td>\n",
       "      <td>s3999999</td>\n",
       "    </tr>\n",
       "  </tbody>\n",
       "</table>\n",
       "</div>"
      ],
      "text/plain": [
       "                 A         B\n",
       "3999999   s3999999  s3999999\n",
       "7999999   s3999999  s3999999\n",
       "11999999  s3999999  s3999999"
      ]
     },
     "execution_count": 39,
     "metadata": {},
     "output_type": "execute_result"
    }
   ],
   "source": [
    "df[df.B=='s3999999']"
   ]
  },
  {
   "cell_type": "code",
   "execution_count": 40,
   "metadata": {
    "collapsed": true
   },
   "outputs": [],
   "source": [
    "df.to_hdf('test.h5', 'df', format='table', data_columns=True)"
   ]
  },
  {
   "cell_type": "code",
   "execution_count": 41,
   "metadata": {
    "collapsed": false
   },
   "outputs": [
    {
     "data": {
      "text/html": [
       "<div>\n",
       "<table border=\"1\" class=\"dataframe\">\n",
       "  <thead>\n",
       "    <tr style=\"text-align: right;\">\n",
       "      <th></th>\n",
       "      <th>A</th>\n",
       "      <th>B</th>\n",
       "    </tr>\n",
       "  </thead>\n",
       "  <tbody>\n",
       "    <tr>\n",
       "      <th>3999999</th>\n",
       "      <td>s3999999</td>\n",
       "      <td>s3999999</td>\n",
       "    </tr>\n",
       "    <tr>\n",
       "      <th>7999999</th>\n",
       "      <td>s3999999</td>\n",
       "      <td>s3999999</td>\n",
       "    </tr>\n",
       "    <tr>\n",
       "      <th>11999999</th>\n",
       "      <td>s3999999</td>\n",
       "      <td>s3999999</td>\n",
       "    </tr>\n",
       "  </tbody>\n",
       "</table>\n",
       "</div>"
      ],
      "text/plain": [
       "                 A         B\n",
       "3999999   s3999999  s3999999\n",
       "7999999   s3999999  s3999999\n",
       "11999999  s3999999  s3999999"
      ]
     },
     "execution_count": 41,
     "metadata": {},
     "output_type": "execute_result"
    }
   ],
   "source": [
    "pd.read_hdf('test.h5','df',where='A=\"s3999999\"')"
   ]
  },
  {
   "cell_type": "code",
   "execution_count": 43,
   "metadata": {
    "collapsed": false
   },
   "outputs": [
    {
     "data": {
      "text/html": [
       "<div>\n",
       "<table border=\"1\" class=\"dataframe\">\n",
       "  <thead>\n",
       "    <tr style=\"text-align: right;\">\n",
       "      <th></th>\n",
       "      <th>A</th>\n",
       "      <th>B</th>\n",
       "    </tr>\n",
       "  </thead>\n",
       "  <tbody>\n",
       "    <tr>\n",
       "      <th>3999999</th>\n",
       "      <td>s3999999</td>\n",
       "      <td>s3999999</td>\n",
       "    </tr>\n",
       "    <tr>\n",
       "      <th>7999999</th>\n",
       "      <td>s3999999</td>\n",
       "      <td>s3999999</td>\n",
       "    </tr>\n",
       "    <tr>\n",
       "      <th>11999999</th>\n",
       "      <td>s3999999</td>\n",
       "      <td>s3999999</td>\n",
       "    </tr>\n",
       "  </tbody>\n",
       "</table>\n",
       "</div>"
      ],
      "text/plain": [
       "                 A         B\n",
       "3999999   s3999999  s3999999\n",
       "7999999   s3999999  s3999999\n",
       "11999999  s3999999  s3999999"
      ]
     },
     "execution_count": 43,
     "metadata": {},
     "output_type": "execute_result"
    }
   ],
   "source": [
    "pd.read_hdf('test.h5','df',where='B=\"s3999999\"')"
   ]
  }
 ],
 "metadata": {
  "anaconda-cloud": {},
  "kernelspec": {
   "display_name": "Python [conda env:stable]",
   "language": "python",
   "name": "conda-env-stable-py"
  },
  "language_info": {
   "codemirror_mode": {
    "name": "ipython",
    "version": 3
   },
   "file_extension": ".py",
   "mimetype": "text/x-python",
   "name": "python",
   "nbconvert_exporter": "python",
   "pygments_lexer": "ipython3",
   "version": "3.5.2"
  }
 },
 "nbformat": 4,
 "nbformat_minor": 0
}
